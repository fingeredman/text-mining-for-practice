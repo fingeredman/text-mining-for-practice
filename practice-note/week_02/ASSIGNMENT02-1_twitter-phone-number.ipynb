{
 "cells": [
  {
   "cell_type": "markdown",
   "metadata": {},
   "source": [
    "# TEXT MINING for PRACTICE\n",
    "- 본 자료는 텍스트 마이닝을 활용한 연구 및 강의를 위한 목적으로 제작되었습니다.\n",
    "- 본 자료를 강의 목적으로 활용하고자 하시는 경우 꼭 아래 메일주소로 연락주세요.\n",
    "- 본 자료에 대한 허가되지 않은 배포를 금지합니다.\n",
    "- 강의, 저작권, 출판, 특허, 공동저자에 관련해서는 문의 바랍니다.\n",
    "- **Contact : 전병진(fingeredman@gmail.com)**\n",
    "\n",
    "---"
   ]
  },
  {
   "cell_type": "markdown",
   "metadata": {
    "collapsed": true
   },
   "source": [
    "## WEEK 02-2. Python에서 패턴을 정규식으로 표현하기\n",
    "- Python에서 정규식을 활용하여 패턴을 인식하는 방법에 대해 다룹니다.\n",
    "\n",
    "---"
   ]
  },
  {
   "cell_type": "code",
   "execution_count": null,
   "metadata": {
    "collapsed": true
   },
   "outputs": [],
   "source": []
  },
  {
   "cell_type": "markdown",
   "metadata": {},
   "source": [
    "### Assignment 02-1. 트위터에서 전화번호 추출하기\n",
    "> - 본 자료를 응용하여 트위터 내용에서 전화번호를 추출하는 코드를 작성합니다.\n",
    "> - 전화번호로 가능한 모든 패턴을 가져와 개수를 파악합니다.  \n",
    "> - 전화번호를 \"[TEL]010-1234-5678[TEL]\" 형식으로 변환하여 새로은 파일을 생성합니다.\n",
    "> - 트위터 텍스트는 \"data/twitter_sample.txt\" 파일을 활용합니다.\n",
    "\n",
    "> HINT. 전화번호를 표현하는 방법은 여러가지 패턴이 존재합니다. (010-1234-5678, 02-123-1234, 1588-1588, ...)\n",
    "\n",
    "---"
   ]
  },
  {
   "cell_type": "code",
   "execution_count": 1,
   "metadata": {
    "collapsed": true
   },
   "outputs": [],
   "source": [
    "import re\n",
    "\n",
    "def find_phone_number(text):\n",
    "    found = re.findall(r\"\\D{2}\\d{3}-\\d{4}\\s\", text)                 # 123-5678\n",
    "    found += re.findall(r\"\\D{2}\\d{3}\\s-\\s\\d{4}\\s\\D{3}\", text)       # 123 - 5678\n",
    "    found += re.findall(r\"\\D{1}\\d{3}-\\d{3}-\\d{4}\", text)            # 042-123-5678\n",
    "    found += re.findall(r\"\\D{1}\\d{3}\\s-\\s\\d{3}\\s-\\s\\d{4}\", text)    # 042 - 123 - 5678\n",
    "    found += re.findall(r\"\\d{4}-\\d{3}-\\d{4}\", text)                 # 0707-123-5678\n",
    "    found += re.findall(r\"\\d{3}\\)\\d{3}-\\d{4}\", text)                # 042)123-5678\n",
    "    found += re.findall(r\"\\(\\d{3}\\)\\d{3}-\\d{4}\", text)              # (042)123-5678\n",
    "    found += re.findall(r\"\\D{1}\\d{2}-\\d{3}-\\d{4}\", text)            # 02-123-5678\n",
    "    found += re.findall(r\"\\D{1}\\d{2}\\)\\d{3}-\\d{4}\", text)           # 02)123-5678\n",
    "    found += re.findall(r\"\\(\\d{2}\\)\\d{3}-\\d{4}\", text)              # (02)123-5678\n",
    "    found += re.findall(r\"\\d{3}-\\d{4}-\\d{4}\", text)                 # 010-1234-5678\n",
    "    found += re.findall(r\"\\d{3}\\s-\\s\\d{4}\\s-\\s\\d{4}\", text)         # 010 - 1234 - 5678\n",
    "    found += re.findall(r\"\\d{3}\\)\\d{4}-\\d{4}\", text)                # 010)1234-5678\n",
    "    found += re.findall(r\"\\(\\d{3}\\)\\d{4}-\\d{4}\", text)              # (010)1234-5678\n",
    "    found += re.findall(r\"\\d{3}\\s\\d{4}\\s\\d{4}\", text)               # 010 1234 5678\n",
    "    found += re.findall(r\"\\D010\\d{4}\\d{4}\", text)                   # 01012345678\n",
    "    extra_number_list = [1588, 1577, 1899, 1566, 1600, 1544, 1644, 1661, 1688, 1599]  # 전국전화번호 리스트\n",
    "    for extra_number in extra_number_list:\n",
    "        found += re.findall(r\"\"+ str(extra_number) + \"-\\d{4}\", text)    # 1588-5588\n",
    "    for extra_number in extra_number_list:\n",
    "        found += re.findall(r\"\"+ str(extra_number) + \"\\d{4}\", text)     # 15885588\n",
    "    for extra_number in extra_number_list:\n",
    "        found += re.findall(r\"\"+ str(extra_number) + \"\\s\\d{4}\", text)   # 1588 5588\n",
    "    return found"
   ]
  },
  {
   "cell_type": "code",
   "execution_count": 2,
   "metadata": {
    "collapsed": true
   },
   "outputs": [],
   "source": [
    "def tag_phone_number(text):\n",
    "    text = re.sub(r\"\\D{2}(\\d{3})-(\\d{4})\\s\", r\"[TEL]\\g<1>-\\g<2>[TEL]\", text)                       # 123-5678\n",
    "    text = re.sub(r\"\\D{2}(\\d{3})\\s-\\s(\\d{4})\\s\\D{3}\", r\"[TEL]\\g<1>-\\g<2>[TEL]\", text)              # 123 - 5678\n",
    "    text = re.sub(r\"\\D{1}(\\d{3})-(\\d{3})-(\\d{4})\", r\"[TEL]\\g<1>-\\g<2>-\\g<3>[TEL]\", text)           # 042-123-5678\n",
    "    text = re.sub(r\"\\D{1}(\\d{3})\\s-\\s(\\d{3})\\s-\\s(\\d{4})\", r\"[TEL]\\g<1>-\\g<2>-\\g<3>[TEL]\", text)   # 042 - 123 - 5678\n",
    "    text = re.sub(r\"(\\d{4})-(\\d{3})-(\\d{4})\", r\"[TEL]\\g<1>-\\g<2>-\\g<3>[TEL]\", text)                # 0707-123-5678\n",
    "    text = re.sub(r\"(\\d{3})\\)(\\d{3})-(\\d{4})\", r\"[TEL]\\g<1>-\\g<2>-\\g<3>[TEL]\", text)               # 042)123-5678\n",
    "    text = re.sub(r\"\\((\\d{3})\\)(\\d{3})-(\\d{4})\", r\"[TEL]\\g<1>-\\g<2>-\\g<3>[TEL]\", text)             # (042)123-5678\n",
    "    text = re.sub(r\"\\D{1}(\\d{2})-(\\d{3})-(\\d{4})\", r\"[TEL]\\g<1>-\\g<2>-\\g<3>[TEL]\", text)           # 02-123-5678\n",
    "    text = re.sub(r\"\\D{1}(\\d{2})\\)(\\d{3})-(\\d{4})\", r\"[TEL]\\g<1>-\\g<2>-\\g<3>[TEL]\", text)          # 02)123-5678\n",
    "    text = re.sub(r\"\\((\\d{2})\\)(\\d{3})-(\\d{4})\", r\"[TEL]\\g<1>-\\g<2>-\\g<3>[TEL]\", text)             # (02)123-5678\n",
    "    text = re.sub(r\"(\\d{3})-(\\d{4})-(\\d{4})\", r\"[TEL]\\g<1>-\\g<2>-\\g<3>[TEL]\", text)                # 010-1234-5678\n",
    "    text = re.sub(r\"(\\d{3})\\s-\\s(\\d{4})\\s-\\s(\\d{4})\", r\"[TEL]\\g<1>-\\g<2>-\\g<3>[TEL]\", text)        # 010 - 1234 - 5678\n",
    "    text = re.sub(r\"(\\d{3})\\)(\\d{4})-(\\d{4})\", r\"[TEL]\\g<1>-\\g<2>-\\g<3>[TEL]\", text)               # 010)1234-5678\n",
    "    text = re.sub(r\"\\((\\d{3})\\)(\\d{4})-(\\d{4})\", r\"[TEL]\\g<1>-\\g<2>-\\g<3>[TEL]\", text)             # (010)1234-5678\n",
    "    text = re.sub(r\"(\\d{3})\\s(\\d{4})\\s(\\d{4})\", r\"[TEL]\\g<1>-\\g<2>-\\g<3>[TEL]\", text)              # 010 1234 5678\n",
    "    text = re.sub(r\"\\D(010)(\\d{4})(\\d{4})\", r\"[TEL]\\g<1>-\\g<2>-\\g<3>[TEL]\", text)                  # 01012345678\n",
    "    extra_number_list = [1588, 1577, 1899, 1566, 1600, 1544, 1644, 1661, 1688, 1599]                      # 전국전화번호 리스트\n",
    "    for extra_number in extra_number_list:\n",
    "        text = re.sub(r\"(\" + str(extra_number) + \")-(\\d{4})\", r\"<TEL>\\g<1>-\\g<2></TEL>\", text)       # 1588-5588\n",
    "    for extra_number in extra_number_list:\n",
    "        text = re.sub(r\"(\" + str(extra_number) + \")(\\d{4})\", r\"<TEL>\\g<1>-\\g<2></TEL>\", text)        # 15885588\n",
    "    for extra_number in extra_number_list:\n",
    "        text = re.sub(r\"(\" + str(extra_number) + \")\\s(\\d{4})\", r\"<TEL>\\g<1>-\\g<2></TEL>\", text)      # 1588 5588\n",
    "    return text"
   ]
  },
  {
   "cell_type": "code",
   "execution_count": 3,
   "metadata": {},
   "outputs": [
    {
     "name": "stdout",
     "output_type": "stream",
     "text": [
      "102887\r"
     ]
    }
   ],
   "source": [
    "fr = open(\"data/twitter_sample.txt\", encoding=\"utf-8\")\n",
    "fw = open(\"twitter_sample_tagged.txt\", \"w\", encoding=\"utf-8\")\n",
    "\n",
    "count = 0\n",
    "line_number = 0\n",
    "\n",
    "for line in fr:\n",
    "    line_number += 1\n",
    "    print(line_number, end=\"\\r\")\n",
    "    text = line.strip()\n",
    "    found = find_phone_number(text)\n",
    "    count += len(found)\n",
    "    tagged_text = tag_phone_number(text)\n",
    "    fw.write(tagged_text + \"\\n\")\n",
    "    \n",
    "fr.close()\n",
    "fw.close()"
   ]
  },
  {
   "cell_type": "code",
   "execution_count": 4,
   "metadata": {},
   "outputs": [
    {
     "name": "stdout",
     "output_type": "stream",
     "text": [
      "총 전화번호 패턴 개수 : 172\n"
     ]
    }
   ],
   "source": [
    "print(\"총 전화번호 패턴 개수 :\", count)"
   ]
  }
 ],
 "metadata": {
  "kernelspec": {
   "display_name": "Python 3",
   "language": "python",
   "name": "python3"
  },
  "language_info": {
   "codemirror_mode": {
    "name": "ipython",
    "version": 3
   },
   "file_extension": ".py",
   "mimetype": "text/x-python",
   "name": "python",
   "nbconvert_exporter": "python",
   "pygments_lexer": "ipython3",
   "version": "3.6.8"
  }
 },
 "nbformat": 4,
 "nbformat_minor": 2
}
