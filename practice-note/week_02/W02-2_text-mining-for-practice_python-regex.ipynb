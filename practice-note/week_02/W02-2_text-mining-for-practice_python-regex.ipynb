{
 "cells": [
  {
   "cell_type": "markdown",
   "metadata": {},
   "source": [
    "# TEXT MINING for PRACTICE\n",
    "- 본 자료는 텍스트 마이닝을 활용한 연구 및 강의를 위한 목적으로 제작되었습니다.\n",
    "- 본 자료를 강의 목적으로 활용하고자 하시는 경우 꼭 아래 메일주소로 연락주세요.\n",
    "- 본 자료에 대한 허가되지 않은 배포를 금지합니다.\n",
    "- 강의, 저작권, 출판, 특허, 공동저자에 관련해서는 문의 바랍니다.\n",
    "- **Contact : 전병진(fingeredman@gmail.com)**\n",
    "\n",
    "---"
   ]
  },
  {
   "cell_type": "markdown",
   "metadata": {},
   "source": [
    "## WEEK 02-2. Python에서 패턴을 정규식으로 표현하기\n",
    "- Python에서 정규식을 활용하여 패턴을 인식하는 방법에 대해 다룹니다.\n",
    "\n",
    "---"
   ]
  },
  {
   "cell_type": "code",
   "execution_count": 1,
   "metadata": {
    "collapsed": true
   },
   "outputs": [],
   "source": [
    "# Python에서 정규식을 지원하는 re 패키지를 import 합니다.\n",
    "\n",
    "import re"
   ]
  },
  {
   "cell_type": "markdown",
   "metadata": {},
   "source": [
    "### 1. 메타문자(META CHARACTERS): 문자열의 패턴을 메타문자로 대체하여 표현합니다.\n",
    "\n",
    "---"
   ]
  },
  {
   "cell_type": "markdown",
   "metadata": {},
   "source": [
    "#### 1.1. 메타문자(META CHARACTERS): 문자열을 메타문자로 표현합니다.\n",
    "\n",
    "> 아래 메타문자는 각각 서로다른 의미를 가집니다.\n",
    "> - \\d : 0~9의 숫자를 의미합니다.\n",
    "> - \\D : 0~9의 숫자가 아닌 모든 문자열을 의미합니다.\n",
    "> - \\s : 띄어쓰기(space), 탭(\\t), 줄바꿈(\\n) 등의 공백문자를 의미합니다.\n",
    "> - \\S : 띄어쓰기(space), 탭(\\t), 줄바꿈(\\n) 등의 공백문자가 아닌 모든 문자열을 의미합니다.\n",
    "> - \\w : 문자 또는 숫자를 의미합니다.\n",
    "> - \\W : 문자 또는 숫자가 아닌 모든 문자열을 의미합니다.\n",
    "> - . : 줄바꿈(\\n)을 제외한 모든 문자열을 의미합니다.\n",
    "\n",
    "---"
   ]
  },
  {
   "cell_type": "code",
   "execution_count": 2,
   "metadata": {},
   "outputs": [
    {
     "name": "stdout",
     "output_type": "stream",
     "text": [
      "english\t한글 漢字 1234567890!@#$%^&*()\n"
     ]
    }
   ],
   "source": [
    "# 다양한 패턴을 가진 샘플 문자열 변수를 생성합니다.\n",
    "new_text = \"english\\t한글 漢字 1234567890!@#$%^&*()\"\n",
    "print(new_text)"
   ]
  },
  {
   "cell_type": "code",
   "execution_count": 3,
   "metadata": {},
   "outputs": [
    {
     "name": "stdout",
     "output_type": "stream",
     "text": [
      "['1', '2', '3', '4', '5', '6', '7', '8', '9', '0']\n"
     ]
    }
   ],
   "source": [
    "# 메타문자를 활용해 정규식(REGEX)을 생성하고 변수에 저장합니다.\n",
    "# 1) \"\\d\"는 0~9의 숫자를 의미합니다.\n",
    "regex = r\"\\d\"\n",
    "# compile(REGEX) 함수는 정규식에 해당하는 패턴을 인식하고 활용할 수 있도록 도와줍니다.\n",
    "pattern = re.compile(regex)\n",
    "# findall(TEXT) 함수는 문자열(TEXT)안에 compile(REGEX) 함수로 인식한 패턴을 모두 찾아 리스트를 생성합니다.\n",
    "result = pattern.findall(new_text)\n",
    "print(result)"
   ]
  },
  {
   "cell_type": "code",
   "execution_count": 4,
   "metadata": {},
   "outputs": [
    {
     "name": "stdout",
     "output_type": "stream",
     "text": [
      "['e', 'n', 'g', 'l', 'i', 's', 'h', '\\t', '한', '글', ' ', '漢', '字', ' ', '!', '@', '#', '$', '%', '^', '&', '*', '(', ')']\n"
     ]
    }
   ],
   "source": [
    "# 2) \"\\D\"는 0~9의 숫자가 아닌 모든 문자열을 의미합니다.\n",
    "regex = r\"\\D\"\n",
    "pattern = re.compile(regex)\n",
    "result = pattern.findall(new_text)\n",
    "print(result)"
   ]
  },
  {
   "cell_type": "code",
   "execution_count": 5,
   "metadata": {},
   "outputs": [
    {
     "name": "stdout",
     "output_type": "stream",
     "text": [
      "['\\t', ' ', ' ']\n"
     ]
    }
   ],
   "source": [
    "# 3) \"\\s\"는 띄어쓰기(space), 탭(\\t), 줄바꿈(\\n) 등의 공백문자를 의미합니다.\n",
    "regex = r\"\\s\"\n",
    "pattern = re.compile(regex)\n",
    "result = pattern.findall(new_text)\n",
    "print(result)"
   ]
  },
  {
   "cell_type": "code",
   "execution_count": 6,
   "metadata": {},
   "outputs": [
    {
     "name": "stdout",
     "output_type": "stream",
     "text": [
      "['e', 'n', 'g', 'l', 'i', 's', 'h', '한', '글', '漢', '字', '1', '2', '3', '4', '5', '6', '7', '8', '9', '0', '!', '@', '#', '$', '%', '^', '&', '*', '(', ')']\n"
     ]
    }
   ],
   "source": [
    "# 4) \"\\S\"는 띄어쓰기(space), 탭(\\t), 줄바꿈(\\n) 등의 공백문자가 아닌 모든 문자열을 의미합니다.\n",
    "regex = r\"\\S\"\n",
    "pattern = re.compile(regex)\n",
    "result = pattern.findall(new_text)\n",
    "print(result)"
   ]
  },
  {
   "cell_type": "code",
   "execution_count": 7,
   "metadata": {},
   "outputs": [
    {
     "name": "stdout",
     "output_type": "stream",
     "text": [
      "['e', 'n', 'g', 'l', 'i', 's', 'h', '한', '글', '漢', '字', '1', '2', '3', '4', '5', '6', '7', '8', '9', '0']\n"
     ]
    }
   ],
   "source": [
    "# 5) \"\\w\"는 문자 또는 숫자를 의미합니다.\n",
    "regex = r\"\\w\"\n",
    "pattern = re.compile(regex)\n",
    "result = pattern.findall(new_text)\n",
    "print(result)"
   ]
  },
  {
   "cell_type": "code",
   "execution_count": 8,
   "metadata": {},
   "outputs": [
    {
     "name": "stdout",
     "output_type": "stream",
     "text": [
      "['\\t', ' ', ' ', '!', '@', '#', '$', '%', '^', '&', '*', '(', ')']\n"
     ]
    }
   ],
   "source": [
    "# 6) \"\\W\"는 문자 또는 숫자가 아닌 모든 문자열을 의미합니다.\n",
    "regex = r\"\\W\"\n",
    "pattern = re.compile(regex)\n",
    "result = pattern.findall(new_text)\n",
    "print(result)"
   ]
  },
  {
   "cell_type": "code",
   "execution_count": 9,
   "metadata": {},
   "outputs": [
    {
     "name": "stdout",
     "output_type": "stream",
     "text": [
      "['e', 'n', 'g', 'l', 'i', 's', 'h', '\\t', '한', '글', ' ', '漢', '字', ' ', '1', '2', '3', '4', '5', '6', '7', '8', '9', '0', '!', '@', '#', '$', '%', '^', '&', '*', '(', ')']\n"
     ]
    }
   ],
   "source": [
    "# 7) \".\"는 줄바꿈(\\n)을 제외한 모든 문자열을 의미합니다.\n",
    "regex = r\".\"\n",
    "pattern = re.compile(regex)\n",
    "result = pattern.findall(new_text)\n",
    "print(result)"
   ]
  },
  {
   "cell_type": "markdown",
   "metadata": {},
   "source": [
    "#### 1.2. 메타문자(META CHARACTERS): 연속되는 문자열을 메타문자로 표현합니다.\n",
    "\n",
    "> 아래 메타문자는 각각 서로다른 의미를 가집니다.\n",
    "> - \\* : 앞에 오는 메타문자에 해당하는 문자열이 0~무한대 까지 반복되어 출현함을 의미합니다.\n",
    "> - \\+ : 앞에 오는 메타문자에 해당하는 문자열이 1~무한대 까지 반복되어 출현함을 의미합니다.\n",
    "> - {n} : 앞에 오는 메타문자에 해당하는 문자열이 n번 반복되어 출현함을 의미합니다.\n",
    "> - {n,m} : 앞에 오는 메타문자에 해당하는 문자열이 n~m번 반복되어 출현함을 의미합니다.\n",
    "> - ? : 앞에 오는 메타문자에 해당하는 문자열이 0~1번(출현하지 않거나 한번만 출현) 출현함을 의미합니다.\n",
    "> - [...] : 메타문자를 하나로 취급하는 경우 대괄호([, ])로 묶어 표현합니다.\n",
    "> - \\- : 문자를 표현하는 경우에만 문자열의 범위를 지정하여 표현합니다.\n",
    "> - ^ : 앞에 오는 메타문자에 해당하는 문자열 외 모든 문자열을 의미합니다.\n",
    "\n",
    "---"
   ]
  },
  {
   "cell_type": "code",
   "execution_count": 10,
   "metadata": {},
   "outputs": [
    {
     "name": "stdout",
     "output_type": "stream",
     "text": [
      "전화번호(Phone Number)는 \"지역번호-3~4자리-4자리\" 형식을 가집니다. 예를들어 02-123-5678와 같은 번호입니다.\n"
     ]
    }
   ],
   "source": [
    "# 다양한 패턴을 가진 샘플 문자열 변수를 생성합니다.\n",
    "new_text = \"전화번호(Phone Number)는 \\\"지역번호-3~4자리-4자리\\\" 형식을 가집니다. 예를들어 02-123-5678와 같은 번호입니다.\"\n",
    "print(new_text)"
   ]
  },
  {
   "cell_type": "code",
   "execution_count": 11,
   "metadata": {},
   "outputs": [
    {
     "name": "stdout",
     "output_type": "stream",
     "text": [
      "['전화번호', '지역번호']\n"
     ]
    }
   ],
   "source": [
    "# 1) \"+\"는 앞에 오는 메타문자에 해당하는 문자열이 1~무한대 까지 반복되어 출현함을 의미합니다.\n",
    "# 예시는 \"전화번호\", \"지역번호\"와 같이 [1개 이상 문자열]+\"번호\" 패턴을 의미합니다.\n",
    "regex = r\"\\w+번호\"\n",
    "pattern = re.compile(regex)\n",
    "result = pattern.findall(new_text)\n",
    "print(result)"
   ]
  },
  {
   "cell_type": "code",
   "execution_count": 12,
   "metadata": {},
   "outputs": [
    {
     "name": "stdout",
     "output_type": "stream",
     "text": [
      "['전화번호', '지역번호', '번호']\n"
     ]
    }
   ],
   "source": [
    "# 2) \"*\"는 앞에 오는 메타문자에 해당하는 문자열이 0~무한대 까지 반복되어 출현함을 의미합니다.\n",
    "# 예시는 \"전화번호\", \"번호\"와 같이 [1개 이상 문자열 또는 생략]+\"번호\" 패턴을 의미합니다.\n",
    "regex = r\"\\w*번호\"\n",
    "pattern = re.compile(regex)\n",
    "result = pattern.findall(new_text)\n",
    "print(result)"
   ]
  },
  {
   "cell_type": "code",
   "execution_count": 13,
   "metadata": {},
   "outputs": [
    {
     "name": "stdout",
     "output_type": "stream",
     "text": [
      "['5678']\n"
     ]
    }
   ],
   "source": [
    "# 3) \"{n}\"는 앞에 오는 메타문자에 해당하는 문자열이 n번 반복되어 출현함을 의미합니다.\n",
    "# 예시는 \"1234\", \"5678\"과 같이 숫자가 4번 반복되는 패턴을 의미합니다.\n",
    "regex = r\"\\d{4}\"\n",
    "pattern = re.compile(regex)\n",
    "result = pattern.findall(new_text)\n",
    "print(result)"
   ]
  },
  {
   "cell_type": "code",
   "execution_count": 14,
   "metadata": {
    "scrolled": true
   },
   "outputs": [
    {
     "name": "stdout",
     "output_type": "stream",
     "text": [
      "['02', '123', '5678']\n"
     ]
    }
   ],
   "source": [
    "# 4) \"{n,m}\"는 앞에 오는 메타문자에 해당하는 문자열이 n~m번 반복되어 출현함을 의미합니다.\n",
    "# 예시는 \"02\", \"123\", \"5678\"과 같이 숫자가 2~4번 반복되는 패턴을 의미합니다.\n",
    "# 패턴이 중복되는 경우에는 가장 길게 매칭된 패턴만 선택됩니다.\n",
    "regex = r\"\\d{2,4}\"\n",
    "pattern = re.compile(regex)\n",
    "result = pattern.findall(new_text)\n",
    "print(result)"
   ]
  },
  {
   "cell_type": "code",
   "execution_count": 15,
   "metadata": {},
   "outputs": [
    {
     "name": "stdout",
     "output_type": "stream",
     "text": [
      "['hone', 'umber']\n"
     ]
    }
   ],
   "source": [
    "# 5-1) \"-\"는 문자를 표현하는 경우에만 문자열의 범위를 지정하여 표현합니다.\n",
    "# 아래 예시는 알파벳 소문자 a~z에 해당하는 문자열을 의미합니다.\n",
    "# 문자열 범위를 표현하는 경우에는 반드시 대괄호([,]) 안에 표현합니다.\n",
    "regex = r\"[a-z]+\"\n",
    "pattern = re.compile(regex)\n",
    "result = pattern.findall(new_text)\n",
    "print(result)"
   ]
  },
  {
   "cell_type": "code",
   "execution_count": 16,
   "metadata": {},
   "outputs": [
    {
     "name": "stdout",
     "output_type": "stream",
     "text": [
      "['P', 'N']\n"
     ]
    }
   ],
   "source": [
    "# 5-2) 아래 예시는 알파벳 대문자 A~Z에 해당하는 문자열을 의미합니다.\n",
    "regex = r\"[A-Z]+\"\n",
    "pattern = re.compile(regex)\n",
    "result = pattern.findall(new_text)\n",
    "print(result)"
   ]
  },
  {
   "cell_type": "code",
   "execution_count": 17,
   "metadata": {},
   "outputs": [
    {
     "name": "stdout",
     "output_type": "stream",
     "text": [
      "['Phone', 'Number']\n"
     ]
    }
   ],
   "source": [
    "# 5-3) 아래 예시는 알파벳 대문자(A~Z) 또는 소문자(a~z)에 해당하는 문자열을 의미합니다.\n",
    "regex = r\"[a-zA-Z]+\"\n",
    "pattern = re.compile(regex)\n",
    "result = pattern.findall(new_text)\n",
    "print(result)"
   ]
  },
  {
   "cell_type": "code",
   "execution_count": 18,
   "metadata": {},
   "outputs": [
    {
     "name": "stdout",
     "output_type": "stream",
     "text": [
      "['전화번호', '는', '지역번호', '자리', '자리', '형식을', '가집니다', '예를들어', '와', '같은', '번호입니다']\n"
     ]
    }
   ],
   "source": [
    "# 5-4) 아래 예시는 한글에 해당하는 문자열을 의미합니다.\n",
    "regex = r\"[가-힣]+\"\n",
    "pattern = re.compile(regex)\n",
    "result = pattern.findall(new_text)\n",
    "print(result)"
   ]
  },
  {
   "cell_type": "code",
   "execution_count": 19,
   "metadata": {},
   "outputs": [
    {
     "name": "stdout",
     "output_type": "stream",
     "text": [
      "['Phone', 'Number', '3', '4', '4', '02', '123', '5678']\n"
     ]
    }
   ],
   "source": [
    "# 5-5) 범위를 2개 이상 활용하는 경우에는 비트연산용 논리연산자를 이용해 표현합니다.\n",
    "regex = r\"[0-9|a-zA-Z]+\"\n",
    "pattern = re.compile(regex)\n",
    "result = pattern.findall(new_text)\n",
    "print(result)"
   ]
  },
  {
   "cell_type": "code",
   "execution_count": 20,
   "metadata": {},
   "outputs": [
    {
     "name": "stdout",
     "output_type": "stream",
     "text": [
      "['전화번호(Phone Number)는 \"지역번호-', '~', '자리-', '자리\" 형식을 가집니다. 예를들어 ', '-', '-', '와 같은 번호입니다.']\n"
     ]
    }
   ],
   "source": [
    "# 5-6) \"^\" 기호는 뒤에오는 문자열 범위에 해당하지 않는 모든 문자열을 의미합니다.\n",
    "regex = r\"[^0-9]+\"\n",
    "pattern = re.compile(regex)\n",
    "result = pattern.findall(new_text)\n",
    "print(result)"
   ]
  },
  {
   "cell_type": "markdown",
   "metadata": {},
   "source": [
    "#### 1.3. 메타문자(META CHARACTERS): 메타문자로 찾아낸 패턴을 다른 문자열로 치환합니다."
   ]
  },
  {
   "cell_type": "code",
   "execution_count": 21,
   "metadata": {},
   "outputs": [
    {
     "name": "stdout",
     "output_type": "stream",
     "text": [
      "[2019-08-01 공지] SNS에 자신의 전화번호를 '내전번 010-1234-5678 통화ㄱㄱ'과 같이 댓글로 남기는 것은 매우 위험합니다.\n"
     ]
    }
   ],
   "source": [
    "# 다양한 패턴을 가진 샘플 문자열 변수를 생성합니다.\n",
    "new_text = \"[2019-08-01 공지] SNS에 자신의 전화번호를 '내전번 010-1234-5678 통화ㄱㄱ'과 같이 댓글로 남기는 것은 매우 위험합니다.\"\n",
    "print(new_text)"
   ]
  },
  {
   "cell_type": "code",
   "execution_count": 22,
   "metadata": {},
   "outputs": [
    {
     "name": "stdout",
     "output_type": "stream",
     "text": [
      "['2019', '1234', '5678']\n"
     ]
    }
   ],
   "source": [
    "# 1-1) findall(TEXT) 함수는 문자열(TEXT) 내에서 compile(REGEX) 함수로 인식된 패턴을 찾아내는 역할을 합니다.\n",
    "regex = r\"\\d{4}\"\n",
    "pattern = re.compile(regex)\n",
    "result = pattern.findall(new_text)\n",
    "print(result)"
   ]
  },
  {
   "cell_type": "code",
   "execution_count": 23,
   "metadata": {},
   "outputs": [
    {
     "name": "stdout",
     "output_type": "stream",
     "text": [
      "[XXXX-08-01 공지] SNS에 자신의 전화번호를 '내전번 010-XXXX-XXXX 통화ㄱㄱ'과 같이 댓글로 남기는 것은 매우 위험합니다.\n"
     ]
    }
   ],
   "source": [
    "# compile(REGEX) 함수 대신 sub(REGEX, SUB_STRING, TEXT) 함수를 활용하면 \n",
    "# 문자열(TEXT)에서 정규식에 해당하는 패턴을 찾아 대체 문자열(SUB_STRING)로 치환합니다.\n",
    "regex = r\"\\d{4}\"\n",
    "result = re.sub(regex, r'XXXX', new_text)\n",
    "print(result)"
   ]
  },
  {
   "cell_type": "code",
   "execution_count": 24,
   "metadata": {},
   "outputs": [
    {
     "name": "stdout",
     "output_type": "stream",
     "text": [
      "[2019년 08월 01일 공지] SNS에 자신의 전화번호를 '내전번 010-1234-5678 통화ㄱㄱ'과 같이 댓글로 남기는 것은 매우 위험합니다.\n"
     ]
    }
   ],
   "source": [
    "# 2) 괄호(\"(\",\", \")\")를 활용하면 패턴을 그룹지어 순서를 지정할 수 있습니다.\n",
    "# 그룹화된 패턴은 \"백슬러시(\\)+순번\"으로 특정하여 대체할 수 있습니다.\n",
    "result = re.sub('(\\d{4})-(\\d{2})-(\\d{2})', r'\\1년 \\2월 \\3일', new_text)\n",
    "print(result)"
   ]
  },
  {
   "cell_type": "markdown",
   "metadata": {},
   "source": [
    "### Assignment 02-1. 트위터에서 전화번호 추출하기\n",
    "> - 본 자료를 응용하여 트위터 내용에서 전화번호를 추출하는 코드를 작성합니다.\n",
    "> - 전화번호로 가능한 모든 패턴을 가져와 개수를 파악합니다.  \n",
    "> - 전화번호를 \"[TEL]010-1234-5678[TEL]\" 형식으로 변환하여 새로은 파일을 생성합니다.\n",
    "> - 트위터 텍스트는 \"data/twitter_sample.txt\" 파일을 활용합니다.\n",
    "\n",
    "> HINT. 전화번호를 표현하는 방법은 여러가지 패턴이 존재합니다. (010-1234-5678, 02-123-1234, 1588-1588, ...)\n",
    "\n",
    "---"
   ]
  },
  {
   "cell_type": "markdown",
   "metadata": {},
   "source": [
    "### Assignment 02-2. 인스타그램 게시글에서 해시태그 가져오기\n",
    "> - 본 자료를 응용하여 인스타그램 게시글에서 해시태그를 추출하는 코드를 작성합니다.\n",
    "> - 각각의 해시태그가 전체 문서에서 몇번씩 출현하는지를 계산하여 출력합니다.\n",
    "> - 인스타그램 게시글 텍스트는 \"data/instagram_sample.txt\" 파일을 활용합니다.\n",
    "\n",
    "> HINT. 해시태그는 띄어쓰기 대신 언더바(\"_\")를 활용합니다.\n",
    "\n",
    "---"
   ]
  }
 ],
 "metadata": {
  "kernelspec": {
   "display_name": "Python 3",
   "language": "python",
   "name": "python3"
  },
  "language_info": {
   "codemirror_mode": {
    "name": "ipython",
    "version": 3
   },
   "file_extension": ".py",
   "mimetype": "text/x-python",
   "name": "python",
   "nbconvert_exporter": "python",
   "pygments_lexer": "ipython3",
   "version": "3.6.8"
  }
 },
 "nbformat": 4,
 "nbformat_minor": 2
}
