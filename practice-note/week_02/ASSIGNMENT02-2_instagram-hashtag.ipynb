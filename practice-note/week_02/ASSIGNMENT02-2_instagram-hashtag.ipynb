{
 "cells": [
  {
   "cell_type": "markdown",
   "metadata": {
    "colab_type": "text",
    "id": "NfnTo8e4F8wC"
   },
   "source": [
    "# TEXT MINING for PRACTICE\n",
    "- 본 자료는 텍스트 마이닝을 활용한 연구 및 강의를 위한 목적으로 제작되었습니다.\n",
    "- 본 자료를 강의 목적으로 활용하고자 하시는 경우 꼭 아래 메일주소로 연락주세요.\n",
    "- 본 자료에 대한 허가되지 않은 배포를 금지합니다.\n",
    "- 강의, 저작권, 출판, 특허, 공동저자에 관련해서는 문의 바랍니다.\n",
    "- **Contact : FINGEREDMAN(fingeredman@gmail.com)**\n",
    "\n",
    "---"
   ]
  },
  {
   "cell_type": "markdown",
   "metadata": {
    "colab_type": "text",
    "collapsed": true,
    "id": "HForypnJF8wD"
   },
   "source": [
    "## WEEK 02-2. Python에서 패턴을 정규식으로 표현하기\n",
    "- Python에서 정규식을 활용하여 패턴을 인식하는 방법에 대해 다룹니다.\n",
    "\n",
    "---"
   ]
  },
  {
   "cell_type": "markdown",
   "metadata": {
    "colab_type": "text",
    "id": "JeDMpg0bF8wH"
   },
   "source": [
    "### Assignment 02-2. 인스타그램 게시글에서 해시태그 가져오기\n",
    "> - 본 자료를 응용하여 인스타그램 게시글에서 해시태그를 추출하는 코드를 작성합니다.\n",
    "> - 각각의 해시태그가 전체 문서에서 몇번씩 출현하는지를 계산하여 출력합니다.\n",
    "> - 인스타그램 게시글 텍스트는 \"data/instagram_sample.txt\" 파일을 활용합니다.\n",
    "\n",
    "> HINT. 해시태그는 띄어쓰기 대신 언더바(\"_\")를 활용합니다.\n",
    "\n",
    "---"
   ]
  },
  {
   "cell_type": "code",
   "execution_count": 0,
   "metadata": {
    "colab": {},
    "colab_type": "code",
    "collapsed": true,
    "id": "tM446DC_F8wH"
   },
   "outputs": [],
   "source": [
    "import re\n",
    "\n",
    "def find_hashtag(text):\n",
    "    hashtag_list = re.findall(r\"#[\\S]+\", text)\n",
    "    return hashtag_list"
   ]
  },
  {
   "cell_type": "code",
   "execution_count": 2,
   "metadata": {
    "colab": {
     "base_uri": "https://localhost:8080/",
     "height": 17
    },
    "colab_type": "code",
    "executionInfo": {
     "elapsed": 583,
     "status": "ok",
     "timestamp": 1566759677642,
     "user": {
      "displayName": "Byeongjin Jeon",
      "photoUrl": "https://lh3.googleusercontent.com/a-/AAuE7mCC5qExwwUCDV-h-7fJT6JN6tdWT8EyJxkB09uwrA=s64",
      "userId": "01151709893250942659"
     },
     "user_tz": -540
    },
    "id": "G9x3TOQnF8wK",
    "outputId": "9bf3cc54-1694-4c47-d3b0-0dcd09050553"
   },
   "outputs": [
    {
     "name": "stdout",
     "output_type": "stream",
     "text": [
      "1\r",
      "2\r",
      "3\r",
      "4\r",
      "5\r",
      "6\r",
      "7\r",
      "8\r",
      "9\r",
      "10\r",
      "11\r",
      "12\r",
      "13\r",
      "14\r",
      "15\r",
      "16\r",
      "17\r",
      "18\r",
      "19\r",
      "20\r",
      "21\r",
      "22\r",
      "23\r",
      "24\r",
      "25\r",
      "26\r",
      "27\r",
      "28\r",
      "29\r",
      "30\r",
      "31\r",
      "32\r",
      "33\r",
      "34\r",
      "35\r",
      "36\r",
      "37\r",
      "38\r",
      "39\r",
      "40\r",
      "41\r",
      "42\r",
      "43\r",
      "44\r",
      "45\r",
      "46\r",
      "47\r",
      "48\r",
      "49\r",
      "50\r",
      "51\r",
      "52\r",
      "53\r",
      "54\r",
      "55\r",
      "56\r",
      "57\r",
      "58\r",
      "59\r",
      "60\r",
      "61\r",
      "62\r",
      "63\r",
      "64\r",
      "65\r",
      "66\r",
      "67\r",
      "68\r",
      "69\r",
      "70\r",
      "71\r",
      "72\r",
      "73\r",
      "74\r",
      "75\r",
      "76\r",
      "77\r",
      "78\r",
      "79\r",
      "80\r",
      "81\r"
     ]
    }
   ],
   "source": [
    "f = open(\"teanaps/data/instagram_sample.txt\", encoding=\"utf-8\")\n",
    "\n",
    "line_number = 0\n",
    "hashtag_frequency = {}\n",
    "\n",
    "for line in f:\n",
    "    line_number += 1\n",
    "    print(line_number, end=\"\\r\")\n",
    "    text = line.strip()\n",
    "    hashtag_list = find_hashtag(text)\n",
    "    for hashtag in hashtag_list:\n",
    "        if hashtag in hashtag_frequency.keys():\n",
    "            hashtag_frequency[hashtag] += 1\n",
    "        else:\n",
    "            hashtag_frequency[hashtag] = 1\n",
    "    \n",
    "f.close()"
   ]
  },
  {
   "cell_type": "code",
   "execution_count": 3,
   "metadata": {
    "colab": {
     "base_uri": "https://localhost:8080/",
     "height": 187
    },
    "colab_type": "code",
    "executionInfo": {
     "elapsed": 519,
     "status": "ok",
     "timestamp": 1566759679584,
     "user": {
      "displayName": "Byeongjin Jeon",
      "photoUrl": "https://lh3.googleusercontent.com/a-/AAuE7mCC5qExwwUCDV-h-7fJT6JN6tdWT8EyJxkB09uwrA=s64",
      "userId": "01151709893250942659"
     },
     "user_tz": -540
    },
    "id": "Aix1aVOYF8wN",
    "outputId": "7e5e01fd-da3b-47c5-c1e0-21577a9abf16"
   },
   "outputs": [
    {
     "name": "stdout",
     "output_type": "stream",
     "text": [
      "#빅데이터\t69\n",
      "#시스템\t28\n",
      "#데이터\t23\n",
      "#스마트\t20\n",
      "#스마트시티\t18\n",
      "#시티\t17\n",
      "#인필\t17\n",
      "#스마트인필\t17\n",
      "#커뮤니티\t17\n",
      "#스마트커뮤니티\t17\n"
     ]
    }
   ],
   "source": [
    "hashtag_frequency_list = []\n",
    "\n",
    "for hashtag, frequency in hashtag_frequency.items():\n",
    "    hashtag_frequency_list.append([hashtag, frequency])\n",
    "\n",
    "hashtag_frequency_list.sort(key=lambda elem: elem[1], reverse=True)\n",
    "\n",
    "for hashtag, frequency in hashtag_frequency_list[:10]:\n",
    "    print(hashtag + \"\\t\" + str(frequency))"
   ]
  },
  {
   "cell_type": "code",
   "execution_count": 0,
   "metadata": {
    "colab": {},
    "colab_type": "code",
    "collapsed": true,
    "id": "Ar5R_gMfJ3QF"
   },
   "outputs": [],
   "source": []
  }
 ],
 "metadata": {
  "colab": {
   "collapsed_sections": [],
   "name": "ASSIGNMENT02-2_instagram-hashtag.ipynb",
   "provenance": [],
   "version": "0.3.2"
  },
  "kernelspec": {
   "display_name": "Python 3",
   "language": "python",
   "name": "python3"
  },
  "language_info": {
   "codemirror_mode": {
    "name": "ipython",
    "version": 3
   },
   "file_extension": ".py",
   "mimetype": "text/x-python",
   "name": "python",
   "nbconvert_exporter": "python",
   "pygments_lexer": "ipython3",
   "version": "3.6.8"
  }
 },
 "nbformat": 4,
 "nbformat_minor": 1
}
