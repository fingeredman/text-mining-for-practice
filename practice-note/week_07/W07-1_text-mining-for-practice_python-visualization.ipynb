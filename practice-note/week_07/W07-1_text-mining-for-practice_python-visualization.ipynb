{
 "cells": [
  {
   "cell_type": "markdown",
   "metadata": {},
   "source": [
    "# TEXT MINING for PRACTICE\n",
    "- 본 자료는 텍스트 마이닝을 활용한 연구 및 강의를 위한 목적으로 제작되었습니다.\n",
    "- 본 자료를 강의 목적으로 활용하고자 하시는 경우 꼭 아래 메일주소로 연락주세요.\n",
    "- 본 자료에 대한 허가되지 않은 배포를 금지합니다.\n",
    "- 강의, 저작권, 출판, 특허, 공동저자에 관련해서는 문의 바랍니다.\n",
    "- **Contact : ADMIN(admin@teanaps.com)**\n",
    "\n",
    "---"
   ]
  },
  {
   "cell_type": "code",
   "execution_count": 1,
   "metadata": {},
   "outputs": [],
   "source": [
    "# 텍스트 분석을 위한 TEANAPS 패키지를 설치합니다.\n",
    "# TEANAPS는 Google Colaboratory/Linux 환경에 최적화되어 있습니다.\n",
    "# Windows 환경에서 일부 기능에 제한이 있을 수 있습니다."
   ]
  },
  {
   "cell_type": "code",
   "execution_count": 2,
   "metadata": {},
   "outputs": [],
   "source": [
    "# TEANAPS (https://github.com/fingeredman/teanaps)\n",
    "#!git clone https://github.com/fingeredman/teanaps.git"
   ]
  },
  {
   "cell_type": "code",
   "execution_count": 3,
   "metadata": {},
   "outputs": [],
   "source": [
    "#!ls"
   ]
  },
  {
   "cell_type": "code",
   "execution_count": 4,
   "metadata": {},
   "outputs": [],
   "source": [
    "#!python \"teanaps/teanaps_setup.py\""
   ]
  },
  {
   "cell_type": "markdown",
   "metadata": {},
   "source": [
    "## WEEK 07-1. TEANAPS를 활용한 데이터 시각화\n",
    "- Python TEANAPS 라이브러리를 활용한 다양한 시각화 방법에 대해 다룹니다.\n",
    "\n",
    "---"
   ]
  },
  {
   "cell_type": "markdown",
   "metadata": {},
   "source": [
    "### 1. 막대그래프 (Histogram)\n",
    "\n",
    "---"
   ]
  },
  {
   "cell_type": "code",
   "execution_count": 5,
   "metadata": {},
   "outputs": [
    {
     "data": {
      "text/html": [
       "<script>requirejs.config({paths: { 'plotly': ['https://cdn.plot.ly/plotly-latest.min']},});if(!window.Plotly) {{require(['plotly'],function(plotly) {window.Plotly=plotly;});}}</script>"
      ],
      "text/vnd.plotly.v1+html": [
       "<script>requirejs.config({paths: { 'plotly': ['https://cdn.plot.ly/plotly-latest.min']},});if(!window.Plotly) {{require(['plotly'],function(plotly) {window.Plotly=plotly;});}}</script>"
      ]
     },
     "metadata": {},
     "output_type": "display_data"
    },
    {
     "data": {
      "text/html": [
       "<script>requirejs.config({paths: { 'plotly': ['https://cdn.plot.ly/plotly-latest.min']},});if(!window.Plotly) {{require(['plotly'],function(plotly) {window.Plotly=plotly;});}}</script>"
      ],
      "text/vnd.plotly.v1+html": [
       "<script>requirejs.config({paths: { 'plotly': ['https://cdn.plot.ly/plotly-latest.min']},});if(!window.Plotly) {{require(['plotly'],function(plotly) {window.Plotly=plotly;});}}</script>"
      ]
     },
     "metadata": {},
     "output_type": "display_data"
    }
   ],
   "source": [
    "from teanaps.visualization import GraphVisualizer\n",
    "\n",
    "gv = GraphVisualizer()"
   ]
  },
  {
   "cell_type": "code",
   "execution_count": 6,
   "metadata": {},
   "outputs": [
    {
     "data": {
      "text/html": [
       "\n",
       "                <script src=\"/static/components/requirejs/require.js\"></script>\n",
       "                <script>\n",
       "                  requirejs.config({\n",
       "                    paths: {\n",
       "                      base: '/static/base',\n",
       "                      plotly: 'https://cdn.plot.ly/plotly-latest.min.js?noext',\n",
       "                    },\n",
       "                  });\n",
       "                </script>\n",
       "                "
      ],
      "text/plain": [
       "<IPython.core.display.HTML object>"
      ]
     },
     "metadata": {},
     "output_type": "display_data"
    },
    {
     "data": {
      "application/vnd.plotly.v1+json": {
       "data": [
        {
         "histfunc": "sum",
         "name": "Y",
         "type": "histogram",
         "x": [
          "a",
          "b",
          "c",
          "d",
          "e",
          "f"
         ],
         "y": [
          1,
          2,
          3,
          4,
          5,
          6
         ],
         "yaxis": "y1"
        },
        {
         "histfunc": "sum",
         "name": "Z",
         "type": "histogram",
         "x": [
          "a",
          "b",
          "c",
          "d",
          "e",
          "f"
         ],
         "y": [
          4,
          6,
          3,
          4,
          2,
          9
         ],
         "yaxis": "y1"
        }
       ],
       "layout": {
        "images": [
         {
          "layer": "above",
          "opacity": 0.3,
          "sizex": 0.7,
          "sizey": 0.7,
          "source": "https://raw.githubusercontent.com/fingeredman/teanaps/master/data/logo/teanaps_logo_no-bg.png",
          "x": 0.5,
          "xanchor": "center",
          "xref": "paper",
          "y": 0.6,
          "yanchor": "center",
          "yref": "paper"
         }
        ],
        "title": "HISTOGRAM",
        "xaxis": {
         "exponentformat": "e",
         "showexponent": "all",
         "showticklabels": true,
         "tickangle": 0,
         "tickfont": {
          "color": "black",
          "size": 10
         },
         "title": "X",
         "titlefont": {
          "color": "black",
          "size": 10
         }
        },
        "yaxis1": {
         "showticklabels": true,
         "side": "left",
         "tickangle": 0,
         "tickfont": {
          "color": "black",
          "size": 10
         },
         "title": "Y1",
         "titlefont": {
          "color": "black",
          "size": 10
         }
        },
        "yaxis2": {
         "overlaying": "y1",
         "showticklabels": true,
         "side": "right",
         "tickangle": 0,
         "tickfont": {
          "color": "black",
          "size": 10
         },
         "title": "Y2",
         "titlefont": {
          "color": "black",
          "size": 10
         }
        }
       }
      },
      "text/html": [
       "<div id=\"654a998d-a7b5-4cdf-a8fe-80ae1d997d16\" style=\"height: 525px; width: 100%;\" class=\"plotly-graph-div\"></div><script type=\"text/javascript\">require([\"plotly\"], function(Plotly) { window.PLOTLYENV=window.PLOTLYENV || {};window.PLOTLYENV.BASE_URL=\"https://plot.ly\";Plotly.newPlot(\"654a998d-a7b5-4cdf-a8fe-80ae1d997d16\", [{\"type\": \"histogram\", \"name\": \"Y\", \"x\": [\"a\", \"b\", \"c\", \"d\", \"e\", \"f\"], \"y\": [1, 2, 3, 4, 5, 6], \"yaxis\": \"y1\", \"histfunc\": \"sum\"}, {\"type\": \"histogram\", \"name\": \"Z\", \"x\": [\"a\", \"b\", \"c\", \"d\", \"e\", \"f\"], \"y\": [4, 6, 3, 4, 2, 9], \"yaxis\": \"y1\", \"histfunc\": \"sum\"}], {\"title\": \"HISTOGRAM\", \"xaxis\": {\"exponentformat\": \"e\", \"showexponent\": \"all\", \"showticklabels\": true, \"tickangle\": 0, \"tickfont\": {\"color\": \"black\", \"size\": 10}, \"title\": \"X\", \"titlefont\": {\"color\": \"black\", \"size\": 10}}, \"yaxis1\": {\"showticklabels\": true, \"side\": \"left\", \"tickangle\": 0, \"tickfont\": {\"color\": \"black\", \"size\": 10}, \"title\": \"Y1\", \"titlefont\": {\"color\": \"black\", \"size\": 10}}, \"yaxis2\": {\"overlaying\": \"y1\", \"showticklabels\": true, \"side\": \"right\", \"tickangle\": 0, \"tickfont\": {\"color\": \"black\", \"size\": 10}, \"title\": \"Y2\", \"titlefont\": {\"color\": \"black\", \"size\": 10}}, \"images\": [{\"source\": \"https://raw.githubusercontent.com/fingeredman/teanaps/master/data/logo/teanaps_logo_no-bg.png\", \"xref\": \"paper\", \"yref\": \"paper\", \"x\": 0.5, \"y\": 0.6, \"sizex\": 0.7, \"sizey\": 0.7, \"xanchor\": \"center\", \"yanchor\": \"center\", \"opacity\": 0.3, \"layer\": \"above\"}]}, {\"showLink\": true, \"linkText\": \"Export to plot.ly\"})});</script>"
      ],
      "text/vnd.plotly.v1+html": [
       "<div id=\"654a998d-a7b5-4cdf-a8fe-80ae1d997d16\" style=\"height: 525px; width: 100%;\" class=\"plotly-graph-div\"></div><script type=\"text/javascript\">require([\"plotly\"], function(Plotly) { window.PLOTLYENV=window.PLOTLYENV || {};window.PLOTLYENV.BASE_URL=\"https://plot.ly\";Plotly.newPlot(\"654a998d-a7b5-4cdf-a8fe-80ae1d997d16\", [{\"type\": \"histogram\", \"name\": \"Y\", \"x\": [\"a\", \"b\", \"c\", \"d\", \"e\", \"f\"], \"y\": [1, 2, 3, 4, 5, 6], \"yaxis\": \"y1\", \"histfunc\": \"sum\"}, {\"type\": \"histogram\", \"name\": \"Z\", \"x\": [\"a\", \"b\", \"c\", \"d\", \"e\", \"f\"], \"y\": [4, 6, 3, 4, 2, 9], \"yaxis\": \"y1\", \"histfunc\": \"sum\"}], {\"title\": \"HISTOGRAM\", \"xaxis\": {\"exponentformat\": \"e\", \"showexponent\": \"all\", \"showticklabels\": true, \"tickangle\": 0, \"tickfont\": {\"color\": \"black\", \"size\": 10}, \"title\": \"X\", \"titlefont\": {\"color\": \"black\", \"size\": 10}}, \"yaxis1\": {\"showticklabels\": true, \"side\": \"left\", \"tickangle\": 0, \"tickfont\": {\"color\": \"black\", \"size\": 10}, \"title\": \"Y1\", \"titlefont\": {\"color\": \"black\", \"size\": 10}}, \"yaxis2\": {\"overlaying\": \"y1\", \"showticklabels\": true, \"side\": \"right\", \"tickangle\": 0, \"tickfont\": {\"color\": \"black\", \"size\": 10}, \"title\": \"Y2\", \"titlefont\": {\"color\": \"black\", \"size\": 10}}, \"images\": [{\"source\": \"https://raw.githubusercontent.com/fingeredman/teanaps/master/data/logo/teanaps_logo_no-bg.png\", \"xref\": \"paper\", \"yref\": \"paper\", \"x\": 0.5, \"y\": 0.6, \"sizex\": 0.7, \"sizey\": 0.7, \"xanchor\": \"center\", \"yanchor\": \"center\", \"opacity\": 0.3, \"layer\": \"above\"}]}, {\"showLink\": true, \"linkText\": \"Export to plot.ly\"})});</script>"
      ]
     },
     "metadata": {},
     "output_type": "display_data"
    }
   ],
   "source": [
    "x = [\"a\", \"b\", \"c\", \"d\", \"e\", \"f\"]\n",
    "y = [1, 2, 3, 4, 5, 6]\n",
    "z = [4, 6, 3, 4, 2, 9]\n",
    "\n",
    "data_meta_list = []\n",
    "\n",
    "data_meta = {\n",
    "    \"graph_type\": \"histogram\",\n",
    "    \"data_name\": \"Y\",\n",
    "    \"x_data\": x,\n",
    "    \"y_data\": y,\n",
    "    \"y_axis\": \"y1\",\n",
    "}\n",
    "data_meta_list.append(data_meta)\n",
    "\n",
    "data_meta = {\n",
    "    \"graph_type\": \"histogram\",\n",
    "    \"data_name\": \"Z\",\n",
    "    \"x_data\": x,\n",
    "    \"y_data\": z,\n",
    "    \"y_axis\": \"y1\"\n",
    "}\n",
    "data_meta_list.append(data_meta)\n",
    "\n",
    "graph_meta = {\n",
    "    \"title\": \"HISTOGRAM\",\n",
    "    \"x_tickangle\": 0,\n",
    "    \"y1_tickangle\": 0,\n",
    "    \"y2_tickangle\": 0,\n",
    "    \"x_name\": \"X\",\n",
    "    \"y1_name\": \"Y1\",\n",
    "    \"y2_name\": \"Y2\",\n",
    "}\n",
    "\n",
    "gv.draw_histogram(data_meta_list, graph_meta)"
   ]
  },
  {
   "cell_type": "markdown",
   "metadata": {},
   "source": [
    "### 2. 선그래프 (Line Graph)\n",
    "\n",
    "---"
   ]
  },
  {
   "cell_type": "code",
   "execution_count": 7,
   "metadata": {},
   "outputs": [
    {
     "data": {
      "text/html": [
       "\n",
       "                <script src=\"/static/components/requirejs/require.js\"></script>\n",
       "                <script>\n",
       "                  requirejs.config({\n",
       "                    paths: {\n",
       "                      base: '/static/base',\n",
       "                      plotly: 'https://cdn.plot.ly/plotly-latest.min.js?noext',\n",
       "                    },\n",
       "                  });\n",
       "                </script>\n",
       "                "
      ],
      "text/plain": [
       "<IPython.core.display.HTML object>"
      ]
     },
     "metadata": {},
     "output_type": "display_data"
    },
    {
     "data": {
      "application/vnd.plotly.v1+json": {
       "data": [
        {
         "name": "Y",
         "type": "scatter",
         "x": [
          "a",
          "b",
          "c",
          "d",
          "e",
          "f"
         ],
         "y": [
          1,
          2,
          3,
          4,
          5,
          6
         ],
         "yaxis": "y1"
        },
        {
         "name": "Z",
         "type": "scatter",
         "x": [
          "a",
          "b",
          "c",
          "d",
          "e",
          "f"
         ],
         "y": [
          4,
          6,
          3,
          4,
          2,
          9
         ],
         "yaxis": "y2"
        }
       ],
       "layout": {
        "images": [
         {
          "layer": "above",
          "opacity": 0.3,
          "sizex": 0.7,
          "sizey": 0.7,
          "source": "https://raw.githubusercontent.com/fingeredman/teanaps/master/data/logo/teanaps_logo_no-bg.png",
          "x": 0.5,
          "xanchor": "center",
          "xref": "paper",
          "y": 0.6,
          "yanchor": "center",
          "yref": "paper"
         }
        ],
        "title": "LINE GRAPH",
        "xaxis": {
         "exponentformat": "e",
         "showexponent": "all",
         "showticklabels": true,
         "tickangle": 0,
         "tickfont": {
          "color": "black",
          "size": 10
         },
         "title": "X",
         "titlefont": {
          "color": "black",
          "size": 10
         }
        },
        "yaxis1": {
         "showticklabels": true,
         "side": "left",
         "tickangle": 0,
         "tickfont": {
          "color": "black",
          "size": 10
         },
         "title": "Y1",
         "titlefont": {
          "color": "black",
          "size": 10
         }
        },
        "yaxis2": {
         "overlaying": "y1",
         "showticklabels": true,
         "side": "right",
         "tickangle": 0,
         "tickfont": {
          "color": "black",
          "size": 10
         },
         "title": "Y2",
         "titlefont": {
          "color": "black",
          "size": 10
         }
        }
       }
      },
      "text/html": [
       "<div id=\"a2acf0c4-88e6-45b0-9092-f8154d201949\" style=\"height: 525px; width: 100%;\" class=\"plotly-graph-div\"></div><script type=\"text/javascript\">require([\"plotly\"], function(Plotly) { window.PLOTLYENV=window.PLOTLYENV || {};window.PLOTLYENV.BASE_URL=\"https://plot.ly\";Plotly.newPlot(\"a2acf0c4-88e6-45b0-9092-f8154d201949\", [{\"type\": \"scatter\", \"name\": \"Y\", \"x\": [\"a\", \"b\", \"c\", \"d\", \"e\", \"f\"], \"y\": [1, 2, 3, 4, 5, 6], \"yaxis\": \"y1\"}, {\"type\": \"scatter\", \"name\": \"Z\", \"x\": [\"a\", \"b\", \"c\", \"d\", \"e\", \"f\"], \"y\": [4, 6, 3, 4, 2, 9], \"yaxis\": \"y2\"}], {\"title\": \"LINE GRAPH\", \"xaxis\": {\"exponentformat\": \"e\", \"showexponent\": \"all\", \"showticklabels\": true, \"tickangle\": 0, \"tickfont\": {\"color\": \"black\", \"size\": 10}, \"title\": \"X\", \"titlefont\": {\"color\": \"black\", \"size\": 10}}, \"yaxis1\": {\"showticklabels\": true, \"side\": \"left\", \"tickangle\": 0, \"tickfont\": {\"color\": \"black\", \"size\": 10}, \"title\": \"Y1\", \"titlefont\": {\"color\": \"black\", \"size\": 10}}, \"yaxis2\": {\"overlaying\": \"y1\", \"showticklabels\": true, \"side\": \"right\", \"tickangle\": 0, \"tickfont\": {\"color\": \"black\", \"size\": 10}, \"title\": \"Y2\", \"titlefont\": {\"color\": \"black\", \"size\": 10}}, \"images\": [{\"source\": \"https://raw.githubusercontent.com/fingeredman/teanaps/master/data/logo/teanaps_logo_no-bg.png\", \"xref\": \"paper\", \"yref\": \"paper\", \"x\": 0.5, \"y\": 0.6, \"sizex\": 0.7, \"sizey\": 0.7, \"xanchor\": \"center\", \"yanchor\": \"center\", \"opacity\": 0.3, \"layer\": \"above\"}]}, {\"showLink\": true, \"linkText\": \"Export to plot.ly\"})});</script>"
      ],
      "text/vnd.plotly.v1+html": [
       "<div id=\"a2acf0c4-88e6-45b0-9092-f8154d201949\" style=\"height: 525px; width: 100%;\" class=\"plotly-graph-div\"></div><script type=\"text/javascript\">require([\"plotly\"], function(Plotly) { window.PLOTLYENV=window.PLOTLYENV || {};window.PLOTLYENV.BASE_URL=\"https://plot.ly\";Plotly.newPlot(\"a2acf0c4-88e6-45b0-9092-f8154d201949\", [{\"type\": \"scatter\", \"name\": \"Y\", \"x\": [\"a\", \"b\", \"c\", \"d\", \"e\", \"f\"], \"y\": [1, 2, 3, 4, 5, 6], \"yaxis\": \"y1\"}, {\"type\": \"scatter\", \"name\": \"Z\", \"x\": [\"a\", \"b\", \"c\", \"d\", \"e\", \"f\"], \"y\": [4, 6, 3, 4, 2, 9], \"yaxis\": \"y2\"}], {\"title\": \"LINE GRAPH\", \"xaxis\": {\"exponentformat\": \"e\", \"showexponent\": \"all\", \"showticklabels\": true, \"tickangle\": 0, \"tickfont\": {\"color\": \"black\", \"size\": 10}, \"title\": \"X\", \"titlefont\": {\"color\": \"black\", \"size\": 10}}, \"yaxis1\": {\"showticklabels\": true, \"side\": \"left\", \"tickangle\": 0, \"tickfont\": {\"color\": \"black\", \"size\": 10}, \"title\": \"Y1\", \"titlefont\": {\"color\": \"black\", \"size\": 10}}, \"yaxis2\": {\"overlaying\": \"y1\", \"showticklabels\": true, \"side\": \"right\", \"tickangle\": 0, \"tickfont\": {\"color\": \"black\", \"size\": 10}, \"title\": \"Y2\", \"titlefont\": {\"color\": \"black\", \"size\": 10}}, \"images\": [{\"source\": \"https://raw.githubusercontent.com/fingeredman/teanaps/master/data/logo/teanaps_logo_no-bg.png\", \"xref\": \"paper\", \"yref\": \"paper\", \"x\": 0.5, \"y\": 0.6, \"sizex\": 0.7, \"sizey\": 0.7, \"xanchor\": \"center\", \"yanchor\": \"center\", \"opacity\": 0.3, \"layer\": \"above\"}]}, {\"showLink\": true, \"linkText\": \"Export to plot.ly\"})});</script>"
      ]
     },
     "metadata": {},
     "output_type": "display_data"
    }
   ],
   "source": [
    "x = [\"a\", \"b\", \"c\", \"d\", \"e\", \"f\"]\n",
    "y = [1, 2, 3, 4, 5, 6]\n",
    "z = [4, 6, 3, 4, 2, 9]\n",
    "\n",
    "data_meta_list = []\n",
    "\n",
    "data_meta = {\n",
    "    \"graph_type\": \"scatter\",\n",
    "    \"data_name\": \"Y\",\n",
    "    \"x_data\": x,\n",
    "    \"y_data\": y,\n",
    "    \"y_axis\": \"y1\",\n",
    "}\n",
    "data_meta_list.append(data_meta)\n",
    "\n",
    "data_meta = {\n",
    "    \"graph_type\": \"scatter\",\n",
    "    \"data_name\": \"Z\",\n",
    "    \"x_data\": x,\n",
    "    \"y_data\": z,\n",
    "    \"y_axis\": \"y2\"\n",
    "}\n",
    "data_meta_list.append(data_meta)\n",
    "\n",
    "graph_meta = {\n",
    "    \"title\": \"LINE GRAPH\",\n",
    "    \"x_tickangle\": 0,\n",
    "    \"y1_tickangle\": 0,\n",
    "    \"y2_tickangle\": 0,\n",
    "    \"x_name\": \"X\",\n",
    "    \"y1_name\": \"Y1\",\n",
    "    \"y2_name\": \"Y2\",\n",
    "}\n",
    "\n",
    "gv.draw_line_graph(data_meta_list, graph_meta)"
   ]
  },
  {
   "cell_type": "markdown",
   "metadata": {},
   "source": [
    "### 3. 매트릭스 (Matrix)\n",
    "\n",
    "---"
   ]
  },
  {
   "cell_type": "code",
   "execution_count": 8,
   "metadata": {},
   "outputs": [
    {
     "data": {
      "text/html": [
       "\n",
       "                <script src=\"/static/components/requirejs/require.js\"></script>\n",
       "                <script>\n",
       "                  requirejs.config({\n",
       "                    paths: {\n",
       "                      base: '/static/base',\n",
       "                      plotly: 'https://cdn.plot.ly/plotly-latest.min.js?noext',\n",
       "                    },\n",
       "                  });\n",
       "                </script>\n",
       "                "
      ],
      "text/plain": [
       "<IPython.core.display.HTML object>"
      ]
     },
     "metadata": {},
     "output_type": "display_data"
    },
    {
     "data": {
      "application/vnd.plotly.v1+json": {
       "data": [
        {
         "colorbar": {
          "thickness": 15,
          "ticks": "outside",
          "title": "Z RANGE",
          "titleside": "right",
          "xanchor": "left"
         },
         "type": "heatmap",
         "x": [
          "A",
          "A",
          "A",
          "A",
          "A",
          "A",
          "B",
          "B",
          "B",
          "B",
          "B",
          "B",
          "C",
          "C",
          "C",
          "C",
          "C",
          "C",
          "D",
          "D",
          "D",
          "D",
          "D",
          "D",
          "E",
          "E",
          "E",
          "E",
          "E",
          "E",
          "F",
          "F",
          "F",
          "F",
          "F",
          "F"
         ],
         "y": [
          "AA",
          "BB",
          "CC",
          "DD",
          "EE",
          "FF",
          "AA",
          "BB",
          "CC",
          "DD",
          "EE",
          "FF",
          "AA",
          "BB",
          "CC",
          "DD",
          "EE",
          "FF",
          "AA",
          "BB",
          "CC",
          "DD",
          "EE",
          "FF",
          "AA",
          "BB",
          "CC",
          "DD",
          "EE",
          "FF",
          "AA",
          "BB",
          "CC",
          "DD",
          "EE",
          "FF"
         ],
         "z": [
          0,
          1,
          2,
          3,
          4,
          5,
          0.5,
          1.5,
          2.5,
          3.5,
          4.5,
          5.5,
          1,
          2,
          3,
          4,
          5,
          6,
          1.5,
          2.5,
          3.5,
          4.5,
          5.5,
          6.5,
          2,
          3,
          4,
          5,
          6,
          7,
          2.5,
          3.5,
          4.5,
          5.5,
          6.5,
          7.5
         ]
        }
       ],
       "layout": {
        "height": 1000,
        "images": [
         {
          "layer": "above",
          "opacity": 0.3,
          "sizex": 0.7,
          "sizey": 0.7,
          "source": "https://raw.githubusercontent.com/fingeredman/teanaps/master/data/logo/teanaps_logo_no-bg.png",
          "x": 0.5,
          "xanchor": "center",
          "xref": "paper",
          "y": 0.6,
          "yanchor": "center",
          "yref": "paper"
         }
        ],
        "title": "MATRIX",
        "width": 1000,
        "xaxis": {
         "tickangle": 0,
         "title": "X"
        },
        "yaxis": {
         "tickangle": 0,
         "title": "Y"
        }
       }
      },
      "text/html": [
       "<div id=\"fcb88b1d-9994-4699-90b3-3837b37b8479\" style=\"height: 1000px; width: 1000px;\" class=\"plotly-graph-div\"></div><script type=\"text/javascript\">require([\"plotly\"], function(Plotly) { window.PLOTLYENV=window.PLOTLYENV || {};window.PLOTLYENV.BASE_URL=\"https://plot.ly\";Plotly.newPlot(\"fcb88b1d-9994-4699-90b3-3837b37b8479\", [{\"type\": \"heatmap\", \"colorbar\": {\"thickness\": 15, \"ticks\": \"outside\", \"title\": \"Z RANGE\", \"titleside\": \"right\", \"xanchor\": \"left\"}, \"x\": [\"A\", \"A\", \"A\", \"A\", \"A\", \"A\", \"B\", \"B\", \"B\", \"B\", \"B\", \"B\", \"C\", \"C\", \"C\", \"C\", \"C\", \"C\", \"D\", \"D\", \"D\", \"D\", \"D\", \"D\", \"E\", \"E\", \"E\", \"E\", \"E\", \"E\", \"F\", \"F\", \"F\", \"F\", \"F\", \"F\"], \"y\": [\"AA\", \"BB\", \"CC\", \"DD\", \"EE\", \"FF\", \"AA\", \"BB\", \"CC\", \"DD\", \"EE\", \"FF\", \"AA\", \"BB\", \"CC\", \"DD\", \"EE\", \"FF\", \"AA\", \"BB\", \"CC\", \"DD\", \"EE\", \"FF\", \"AA\", \"BB\", \"CC\", \"DD\", \"EE\", \"FF\", \"AA\", \"BB\", \"CC\", \"DD\", \"EE\", \"FF\"], \"z\": [0.0, 1.0, 2.0, 3.0, 4.0, 5.0, 0.5, 1.5, 2.5, 3.5, 4.5, 5.5, 1.0, 2.0, 3.0, 4.0, 5.0, 6.0, 1.5, 2.5, 3.5, 4.5, 5.5, 6.5, 2.0, 3.0, 4.0, 5.0, 6.0, 7.0, 2.5, 3.5, 4.5, 5.5, 6.5, 7.5]}], {\"title\": \"MATRIX\", \"height\": 1000, \"width\": 1000, \"yaxis\": {\"tickangle\": 0, \"title\": \"Y\"}, \"xaxis\": {\"tickangle\": 0, \"title\": \"X\"}, \"images\": [{\"source\": \"https://raw.githubusercontent.com/fingeredman/teanaps/master/data/logo/teanaps_logo_no-bg.png\", \"xref\": \"paper\", \"yref\": \"paper\", \"x\": 0.5, \"y\": 0.6, \"sizex\": 0.7, \"sizey\": 0.7, \"xanchor\": \"center\", \"yanchor\": \"center\", \"opacity\": 0.3, \"layer\": \"above\"}]}, {\"showLink\": true, \"linkText\": \"Export to plot.ly\"})});</script>"
      ],
      "text/vnd.plotly.v1+html": [
       "<div id=\"fcb88b1d-9994-4699-90b3-3837b37b8479\" style=\"height: 1000px; width: 1000px;\" class=\"plotly-graph-div\"></div><script type=\"text/javascript\">require([\"plotly\"], function(Plotly) { window.PLOTLYENV=window.PLOTLYENV || {};window.PLOTLYENV.BASE_URL=\"https://plot.ly\";Plotly.newPlot(\"fcb88b1d-9994-4699-90b3-3837b37b8479\", [{\"type\": \"heatmap\", \"colorbar\": {\"thickness\": 15, \"ticks\": \"outside\", \"title\": \"Z RANGE\", \"titleside\": \"right\", \"xanchor\": \"left\"}, \"x\": [\"A\", \"A\", \"A\", \"A\", \"A\", \"A\", \"B\", \"B\", \"B\", \"B\", \"B\", \"B\", \"C\", \"C\", \"C\", \"C\", \"C\", \"C\", \"D\", \"D\", \"D\", \"D\", \"D\", \"D\", \"E\", \"E\", \"E\", \"E\", \"E\", \"E\", \"F\", \"F\", \"F\", \"F\", \"F\", \"F\"], \"y\": [\"AA\", \"BB\", \"CC\", \"DD\", \"EE\", \"FF\", \"AA\", \"BB\", \"CC\", \"DD\", \"EE\", \"FF\", \"AA\", \"BB\", \"CC\", \"DD\", \"EE\", \"FF\", \"AA\", \"BB\", \"CC\", \"DD\", \"EE\", \"FF\", \"AA\", \"BB\", \"CC\", \"DD\", \"EE\", \"FF\", \"AA\", \"BB\", \"CC\", \"DD\", \"EE\", \"FF\"], \"z\": [0.0, 1.0, 2.0, 3.0, 4.0, 5.0, 0.5, 1.5, 2.5, 3.5, 4.5, 5.5, 1.0, 2.0, 3.0, 4.0, 5.0, 6.0, 1.5, 2.5, 3.5, 4.5, 5.5, 6.5, 2.0, 3.0, 4.0, 5.0, 6.0, 7.0, 2.5, 3.5, 4.5, 5.5, 6.5, 7.5]}], {\"title\": \"MATRIX\", \"height\": 1000, \"width\": 1000, \"yaxis\": {\"tickangle\": 0, \"title\": \"Y\"}, \"xaxis\": {\"tickangle\": 0, \"title\": \"X\"}, \"images\": [{\"source\": \"https://raw.githubusercontent.com/fingeredman/teanaps/master/data/logo/teanaps_logo_no-bg.png\", \"xref\": \"paper\", \"yref\": \"paper\", \"x\": 0.5, \"y\": 0.6, \"sizex\": 0.7, \"sizey\": 0.7, \"xanchor\": \"center\", \"yanchor\": \"center\", \"opacity\": 0.3, \"layer\": \"above\"}]}, {\"showLink\": true, \"linkText\": \"Export to plot.ly\"})});</script>"
      ]
     },
     "metadata": {},
     "output_type": "display_data"
    }
   ],
   "source": [
    "x = [\"A\", \"B\", \"C\", \"D\", \"E\", \"F\"]\n",
    "y = [\"AA\", \"BB\", \"CC\", \"DD\", \"EE\", \"FF\"]\n",
    "x_data = []\n",
    "y_data = []\n",
    "z_data = []\n",
    "for x_index in range(len(x)):\n",
    "    for y_index in range(len(y)):\n",
    "        x_data.append(x[x_index])\n",
    "        y_data.append(y[y_index])\n",
    "        z_data.append(x_index/2 + y_index)\n",
    "\n",
    "data_meta = {\n",
    "    \"colorbar_title\": \"Z RANGE\",\n",
    "    \"x_data\": x_data,\n",
    "    \"y_data\": y_data,\n",
    "    \"z_data\": z_data\n",
    "}\n",
    "\n",
    "graph_meta = {\n",
    "    \"title\": \"MATRIX\",\n",
    "    \"height\": 1000, \n",
    "    \"width\": 1000,\n",
    "    \"y_tickangle\": 0,\n",
    "    \"y_name\": \"Y\",\n",
    "    \"x_tickangle\": 0,\n",
    "    \"x_name\": \"X\",\n",
    "}\n",
    "\n",
    "gv.draw_matrix(data_meta, graph_meta)"
   ]
  },
  {
   "cell_type": "markdown",
   "metadata": {},
   "source": [
    "### 4. 산점도 (Scatter Plot)\n",
    "\n",
    "---"
   ]
  },
  {
   "cell_type": "code",
   "execution_count": 9,
   "metadata": {},
   "outputs": [
    {
     "data": {
      "text/html": [
       "\n",
       "                <script src=\"/static/components/requirejs/require.js\"></script>\n",
       "                <script>\n",
       "                  requirejs.config({\n",
       "                    paths: {\n",
       "                      base: '/static/base',\n",
       "                      plotly: 'https://cdn.plot.ly/plotly-latest.min.js?noext',\n",
       "                    },\n",
       "                  });\n",
       "                </script>\n",
       "                "
      ],
      "text/plain": [
       "<IPython.core.display.HTML object>"
      ]
     },
     "metadata": {},
     "output_type": "display_data"
    },
    {
     "data": {
      "application/vnd.plotly.v1+json": {
       "data": [
        {
         "mode": "markers",
         "name": "COORDINATES1",
         "text": [
          "a",
          "b",
          "c",
          "d",
          "e",
          "f"
         ],
         "type": "scatter",
         "x": [
          1,
          2,
          3,
          4,
          -5,
          6
         ],
         "y": [
          -4,
          6,
          3,
          4,
          2,
          9
         ]
        },
        {
         "mode": "markers",
         "name": "COORDINATES2",
         "text": [
          "A",
          "B",
          "C",
          "D",
          "E",
          "F"
         ],
         "type": "scatter",
         "x": [
          6,
          7,
          2,
          -4,
          5,
          2
         ],
         "y": [
          1,
          3,
          5,
          2,
          -7,
          9
         ]
        }
       ],
       "layout": {
        "height": 1000,
        "images": [
         {
          "layer": "above",
          "opacity": 0.3,
          "sizex": 0.7,
          "sizey": 0.7,
          "source": "https://raw.githubusercontent.com/fingeredman/teanaps/master/data/logo/teanaps_logo_no-bg.png",
          "x": 0.5,
          "xanchor": "center",
          "xref": "paper",
          "y": 0.6,
          "yanchor": "center",
          "yref": "paper"
         }
        ],
        "title": "SCATTER",
        "width": 1000,
        "xaxis": {
         "exponentformat": "e",
         "showexponent": "all",
         "showticklabels": true,
         "title": "X"
        },
        "yaxis": {
         "showticklabels": true,
         "title": "Y"
        }
       }
      },
      "text/html": [
       "<div id=\"874692e3-9253-4a69-a6f7-66a91907ee5f\" style=\"height: 1000px; width: 1000px;\" class=\"plotly-graph-div\"></div><script type=\"text/javascript\">require([\"plotly\"], function(Plotly) { window.PLOTLYENV=window.PLOTLYENV || {};window.PLOTLYENV.BASE_URL=\"https://plot.ly\";Plotly.newPlot(\"874692e3-9253-4a69-a6f7-66a91907ee5f\", [{\"type\": \"scatter\", \"name\": \"COORDINATES1\", \"mode\": \"markers\", \"x\": [1, 2, 3, 4, -5, 6], \"y\": [-4, 6, 3, 4, 2, 9], \"text\": [\"a\", \"b\", \"c\", \"d\", \"e\", \"f\"]}, {\"type\": \"scatter\", \"name\": \"COORDINATES2\", \"mode\": \"markers\", \"x\": [6, 7, 2, -4, 5, 2], \"y\": [1, 3, 5, 2, -7, 9], \"text\": [\"A\", \"B\", \"C\", \"D\", \"E\", \"F\"]}], {\"title\": \"SCATTER\", \"xaxis\": {\"title\": \"X\", \"exponentformat\": \"e\", \"showexponent\": \"all\", \"showticklabels\": true}, \"yaxis\": {\"title\": \"Y\", \"showticklabels\": true}, \"width\": 1000, \"height\": 1000, \"images\": [{\"source\": \"https://raw.githubusercontent.com/fingeredman/teanaps/master/data/logo/teanaps_logo_no-bg.png\", \"xref\": \"paper\", \"yref\": \"paper\", \"x\": 0.5, \"y\": 0.6, \"sizex\": 0.7, \"sizey\": 0.7, \"xanchor\": \"center\", \"yanchor\": \"center\", \"opacity\": 0.3, \"layer\": \"above\"}]}, {\"showLink\": true, \"linkText\": \"Export to plot.ly\"})});</script>"
      ],
      "text/vnd.plotly.v1+html": [
       "<div id=\"874692e3-9253-4a69-a6f7-66a91907ee5f\" style=\"height: 1000px; width: 1000px;\" class=\"plotly-graph-div\"></div><script type=\"text/javascript\">require([\"plotly\"], function(Plotly) { window.PLOTLYENV=window.PLOTLYENV || {};window.PLOTLYENV.BASE_URL=\"https://plot.ly\";Plotly.newPlot(\"874692e3-9253-4a69-a6f7-66a91907ee5f\", [{\"type\": \"scatter\", \"name\": \"COORDINATES1\", \"mode\": \"markers\", \"x\": [1, 2, 3, 4, -5, 6], \"y\": [-4, 6, 3, 4, 2, 9], \"text\": [\"a\", \"b\", \"c\", \"d\", \"e\", \"f\"]}, {\"type\": \"scatter\", \"name\": \"COORDINATES2\", \"mode\": \"markers\", \"x\": [6, 7, 2, -4, 5, 2], \"y\": [1, 3, 5, 2, -7, 9], \"text\": [\"A\", \"B\", \"C\", \"D\", \"E\", \"F\"]}], {\"title\": \"SCATTER\", \"xaxis\": {\"title\": \"X\", \"exponentformat\": \"e\", \"showexponent\": \"all\", \"showticklabels\": true}, \"yaxis\": {\"title\": \"Y\", \"showticklabels\": true}, \"width\": 1000, \"height\": 1000, \"images\": [{\"source\": \"https://raw.githubusercontent.com/fingeredman/teanaps/master/data/logo/teanaps_logo_no-bg.png\", \"xref\": \"paper\", \"yref\": \"paper\", \"x\": 0.5, \"y\": 0.6, \"sizex\": 0.7, \"sizey\": 0.7, \"xanchor\": \"center\", \"yanchor\": \"center\", \"opacity\": 0.3, \"layer\": \"above\"}]}, {\"showLink\": true, \"linkText\": \"Export to plot.ly\"})});</script>"
      ]
     },
     "metadata": {},
     "output_type": "display_data"
    }
   ],
   "source": [
    "x1 = [1, 2, 3, 4, -5, 6]\n",
    "y1 = [-4, 6, 3, 4, 2, 9]\n",
    "label1 = [\"a\", \"b\", \"c\", \"d\", \"e\", \"f\"]\n",
    "\n",
    "x2 = [6, 7, 2, -4, 5, 2]\n",
    "y2 = [1, 3, 5, 2, -7, 9]\n",
    "label2 = [\"A\", \"B\", \"C\", \"D\", \"E\", \"F\"]\n",
    "\n",
    "data_meta_list = []\n",
    "\n",
    "data_meta = {\n",
    "    \"data_name\": \"COORDINATES1\",\n",
    "    \"x_data\": x1,\n",
    "    \"y_data\": y1,\n",
    "    \"label\": label1\n",
    "}\n",
    "data_meta_list.append(data_meta)\n",
    "\n",
    "data_meta = {\n",
    "    \"data_name\": \"COORDINATES2\",\n",
    "    \"x_data\": x2,\n",
    "    \"y_data\": y2,\n",
    "    \"label\": label2\n",
    "}\n",
    "data_meta_list.append(data_meta)\n",
    "\n",
    "graph_meta = {\n",
    "    \"title\": \"SCATTER\",\n",
    "    \"x_name\": \"X\",\n",
    "    \"y_name\": \"Y\"\n",
    "}\n",
    "\n",
    "gv.draw_scatter(data_meta_list, graph_meta)"
   ]
  },
  {
   "cell_type": "markdown",
   "metadata": {},
   "source": [
    "### 5. 텍스트 하이라이트 (Text Highlight)\n",
    "\n",
    "---"
   ]
  },
  {
   "cell_type": "code",
   "execution_count": 10,
   "metadata": {},
   "outputs": [],
   "source": [
    "from teanaps.visualization import TextVisualizer\n",
    "\n",
    "tv = TextVisualizer()"
   ]
  },
  {
   "cell_type": "code",
   "execution_count": 11,
   "metadata": {},
   "outputs": [
    {
     "data": {
      "text/html": [
       "\n",
       "                <script src=\"/static/components/requirejs/require.js\"></script>\n",
       "                <script>\n",
       "                  requirejs.config({\n",
       "                    paths: {\n",
       "                      base: '/static/base',\n",
       "                      plotly: 'https://cdn.plot.ly/plotly-latest.min.js?noext',\n",
       "                    },\n",
       "                  });\n",
       "                </script>\n",
       "                "
      ],
      "text/plain": [
       "<IPython.core.display.HTML object>"
      ]
     },
     "metadata": {},
     "output_type": "display_data"
    },
    {
     "data": {
      "application/vnd.plotly.v1+json": {
       "data": [
        {
         "hoverinfo": "text",
         "marker": {
          "color": "rgb(215.0, 235.0, 255)"
         },
         "orientation": "h",
         "text": "0.2",
         "type": "bar",
         "width": 0.5,
         "x": [
          4
         ],
         "xaxis": "x1",
         "y": [
          1
         ],
         "yaxis": "y1"
        },
        {
         "hoverinfo": "text",
         "marker": {
          "color": "rgb(55.0, 155.0, 255)"
         },
         "orientation": "h",
         "text": "1.0",
         "type": "bar",
         "width": 0.5,
         "x": [
          3
         ],
         "xaxis": "x1",
         "y": [
          1
         ],
         "yaxis": "y1"
        },
        {
         "hoverinfo": "text",
         "marker": {
          "color": "rgb(175.0, 215.0, 255)"
         },
         "orientation": "h",
         "text": "0.4",
         "type": "bar",
         "width": 0.5,
         "x": [
          3
         ],
         "xaxis": "x1",
         "y": [
          1
         ],
         "yaxis": "y1"
        },
        {
         "hoverinfo": "text",
         "marker": {
          "color": "rgb(215.0, 235.0, 255)"
         },
         "orientation": "h",
         "text": "0.2",
         "type": "bar",
         "width": 0.5,
         "x": [
          4
         ],
         "xaxis": "x1",
         "y": [
          1
         ],
         "yaxis": "y1"
        },
        {
         "hoverinfo": "text",
         "marker": {
          "color": "rgb(95.0, 175.0, 255)"
         },
         "orientation": "h",
         "text": "0.8",
         "type": "bar",
         "width": 0.5,
         "x": [
          4
         ],
         "xaxis": "x1",
         "y": [
          1
         ],
         "yaxis": "y1"
        },
        {
         "hoverinfo": "text",
         "marker": {
          "color": "rgb(175.0, 215.0, 255)"
         },
         "orientation": "h",
         "text": "0.4",
         "type": "bar",
         "width": 0.5,
         "x": [
          4
         ],
         "xaxis": "x1",
         "y": [
          1
         ],
         "yaxis": "y1"
        },
        {
         "hoverinfo": "text",
         "marker": {
          "color": "rgb(215.0, 235.0, 255)"
         },
         "orientation": "h",
         "text": "0.2",
         "type": "bar",
         "width": 0.5,
         "x": [
          2
         ],
         "xaxis": "x1",
         "y": [
          1
         ],
         "yaxis": "y1"
        },
        {
         "hoverinfo": "text",
         "marker": {
          "color": "rgb(215.0, 235.0, 255)"
         },
         "orientation": "h",
         "text": "0.2",
         "type": "bar",
         "width": 0.5,
         "x": [
          6
         ],
         "xaxis": "x1",
         "y": [
          1
         ],
         "yaxis": "y1"
        },
        {
         "hoverinfo": "text",
         "marker": {
          "color": "rgb(255, 255, 255)"
         },
         "orientation": "h",
         "text": "",
         "type": "bar",
         "width": 0.5,
         "x": [
          1
         ],
         "xaxis": "x1",
         "y": [
          1
         ],
         "yaxis": "y1"
        },
        {
         "hoverinfo": "text",
         "marker": {
          "color": "rgb(255, 255, 255)"
         },
         "orientation": "h",
         "text": "",
         "type": "bar",
         "width": 0.5,
         "x": [
          1
         ],
         "xaxis": "x1",
         "y": [
          1
         ],
         "yaxis": "y1"
        },
        {
         "hoverinfo": "text",
         "marker": {
          "color": "rgb(255, 255, 255)"
         },
         "orientation": "h",
         "text": "",
         "type": "bar",
         "width": 0.5,
         "x": [
          1
         ],
         "xaxis": "x1",
         "y": [
          1
         ],
         "yaxis": "y1"
        },
        {
         "hoverinfo": "text",
         "marker": {
          "color": "rgb(255, 255, 255)"
         },
         "orientation": "h",
         "text": "",
         "type": "bar",
         "width": 0.5,
         "x": [
          1
         ],
         "xaxis": "x1",
         "y": [
          1
         ],
         "yaxis": "y1"
        },
        {
         "hoverinfo": "text",
         "marker": {
          "color": "rgb(255, 255, 255)"
         },
         "orientation": "h",
         "text": "",
         "type": "bar",
         "width": 0.5,
         "x": [
          1
         ],
         "xaxis": "x1",
         "y": [
          1
         ],
         "yaxis": "y1"
        },
        {
         "hoverinfo": "text",
         "marker": {
          "color": "rgb(255, 255, 255)"
         },
         "orientation": "h",
         "text": "",
         "type": "bar",
         "width": 0.5,
         "x": [
          1
         ],
         "xaxis": "x1",
         "y": [
          1
         ],
         "yaxis": "y1"
        },
        {
         "hoverinfo": "text",
         "marker": {
          "color": "rgb(255, 255, 255)"
         },
         "orientation": "h",
         "text": "",
         "type": "bar",
         "width": 0.5,
         "x": [
          1
         ],
         "xaxis": "x1",
         "y": [
          1
         ],
         "yaxis": "y1"
        },
        {
         "hoverinfo": "text",
         "marker": {
          "color": "rgb(255, 255, 255)"
         },
         "orientation": "h",
         "text": "",
         "type": "bar",
         "width": 0.5,
         "x": [
          1
         ],
         "xaxis": "x1",
         "y": [
          1
         ],
         "yaxis": "y1"
        },
        {
         "hoverinfo": "text",
         "marker": {
          "color": "rgb(255, 255, 255)"
         },
         "orientation": "h",
         "text": "",
         "type": "bar",
         "width": 0.5,
         "x": [
          1
         ],
         "xaxis": "x1",
         "y": [
          1
         ],
         "yaxis": "y1"
        },
        {
         "hoverinfo": "text",
         "marker": {
          "color": "rgb(255, 255, 255)"
         },
         "orientation": "h",
         "text": "",
         "type": "bar",
         "width": 0.5,
         "x": [
          1
         ],
         "xaxis": "x1",
         "y": [
          1
         ],
         "yaxis": "y1"
        },
        {
         "hoverinfo": "text",
         "marker": {
          "color": "rgb(255, 255, 255)"
         },
         "orientation": "h",
         "text": "",
         "type": "bar",
         "width": 0.5,
         "x": [
          1
         ],
         "xaxis": "x1",
         "y": [
          1
         ],
         "yaxis": "y1"
        },
        {
         "hoverinfo": "text",
         "marker": {
          "color": "rgb(255, 255, 255)"
         },
         "orientation": "h",
         "text": "",
         "type": "bar",
         "width": 0.5,
         "x": [
          1
         ],
         "xaxis": "x1",
         "y": [
          1
         ],
         "yaxis": "y1"
        },
        {
         "hoverinfo": "text",
         "marker": {
          "color": "rgb(255, 255, 255)"
         },
         "orientation": "h",
         "text": "",
         "type": "bar",
         "width": 0.5,
         "x": [
          1
         ],
         "xaxis": "x1",
         "y": [
          1
         ],
         "yaxis": "y1"
        },
        {
         "hoverinfo": "text",
         "marker": {
          "color": "rgb(255, 255, 255)"
         },
         "orientation": "h",
         "text": "",
         "type": "bar",
         "width": 0.5,
         "x": [
          1
         ],
         "xaxis": "x1",
         "y": [
          1
         ],
         "yaxis": "y1"
        },
        {
         "hoverinfo": "text",
         "marker": {
          "color": "rgb(255, 255, 255)"
         },
         "orientation": "h",
         "text": "",
         "type": "bar",
         "width": 0.5,
         "x": [
          1
         ],
         "xaxis": "x1",
         "y": [
          1
         ],
         "yaxis": "y1"
        },
        {
         "hoverinfo": "text",
         "marker": {
          "color": "rgb(255, 255, 255)"
         },
         "orientation": "h",
         "text": "",
         "type": "bar",
         "width": 0.5,
         "x": [
          1
         ],
         "xaxis": "x1",
         "y": [
          1
         ],
         "yaxis": "y1"
        },
        {
         "hoverinfo": "text",
         "marker": {
          "color": "rgb(255, 255, 255)"
         },
         "orientation": "h",
         "text": "",
         "type": "bar",
         "width": 0.5,
         "x": [
          1
         ],
         "xaxis": "x1",
         "y": [
          1
         ],
         "yaxis": "y1"
        },
        {
         "hoverinfo": "text",
         "marker": {
          "color": "rgb(255, 255, 255)"
         },
         "orientation": "h",
         "text": "",
         "type": "bar",
         "width": 0.5,
         "x": [
          1
         ],
         "xaxis": "x1",
         "y": [
          1
         ],
         "yaxis": "y1"
        },
        {
         "hoverinfo": "text",
         "marker": {
          "color": "rgb(255, 255, 255)"
         },
         "orientation": "h",
         "text": "",
         "type": "bar",
         "width": 0.5,
         "x": [
          1
         ],
         "xaxis": "x1",
         "y": [
          1
         ],
         "yaxis": "y1"
        },
        {
         "hoverinfo": "text",
         "marker": {
          "color": "rgb(255, 255, 255)"
         },
         "orientation": "h",
         "text": "",
         "type": "bar",
         "width": 0.5,
         "x": [
          1
         ],
         "xaxis": "x1",
         "y": [
          1
         ],
         "yaxis": "y1"
        }
       ],
       "layout": {
        "annotations": [
         {
          "align": "left",
          "font": {
           "color": "black",
           "family": "Arial",
           "size": 14
          },
          "showarrow": false,
          "text": "문",
          "x": 0.5,
          "xref": "x1",
          "y": 1,
          "yref": "y1"
         },
         {
          "align": "left",
          "font": {
           "color": "black",
           "family": "Arial",
           "size": 14
          },
          "showarrow": false,
          "text": "장",
          "x": 1.5,
          "xref": "x1",
          "y": 1,
          "yref": "y1"
         },
         {
          "align": "left",
          "font": {
           "color": "black",
           "family": "Arial",
           "size": 14
          },
          "showarrow": false,
          "text": "에",
          "x": 2.5,
          "xref": "x1",
          "y": 1,
          "yref": "y1"
         },
         {
          "align": "left",
          "font": {
           "color": "black",
           "family": "Arial",
           "size": 14
          },
          "showarrow": false,
          "text": "서",
          "x": 3.5,
          "xref": "x1",
          "y": 1,
          "yref": "y1"
         },
         {
          "align": "left",
          "font": {
           "color": "black",
           "family": "Arial",
           "size": 14
          },
          "showarrow": false,
          "text": "중",
          "x": 4.5,
          "xref": "x1",
          "y": 1,
          "yref": "y1"
         },
         {
          "align": "left",
          "font": {
           "color": "black",
           "family": "Arial",
           "size": 14
          },
          "showarrow": false,
          "text": "요",
          "x": 5.5,
          "xref": "x1",
          "y": 1,
          "yref": "y1"
         },
         {
          "align": "left",
          "font": {
           "color": "black",
           "family": "Arial",
           "size": 14
          },
          "showarrow": false,
          "text": "한",
          "x": 6.5,
          "xref": "x1",
          "y": 1,
          "yref": "y1"
         },
         {
          "align": "left",
          "font": {
           "color": "black",
           "family": "Arial",
           "size": 14
          },
          "showarrow": false,
          "text": "부",
          "x": 7.5,
          "xref": "x1",
          "y": 1,
          "yref": "y1"
         },
         {
          "align": "left",
          "font": {
           "color": "black",
           "family": "Arial",
           "size": 14
          },
          "showarrow": false,
          "text": "분",
          "x": 8.5,
          "xref": "x1",
          "y": 1,
          "yref": "y1"
         },
         {
          "align": "left",
          "font": {
           "color": "black",
           "family": "Arial",
           "size": 14
          },
          "showarrow": false,
          "text": "을",
          "x": 9.5,
          "xref": "x1",
          "y": 1,
          "yref": "y1"
         },
         {
          "align": "left",
          "font": {
           "color": "black",
           "family": "Arial",
           "size": 14
          },
          "showarrow": false,
          "text": "음",
          "x": 10.5,
          "xref": "x1",
          "y": 1,
          "yref": "y1"
         },
         {
          "align": "left",
          "font": {
           "color": "black",
           "family": "Arial",
           "size": 14
          },
          "showarrow": false,
          "text": "영",
          "x": 11.5,
          "xref": "x1",
          "y": 1,
          "yref": "y1"
         },
         {
          "align": "left",
          "font": {
           "color": "black",
           "family": "Arial",
           "size": 14
          },
          "showarrow": false,
          "text": "으",
          "x": 12.5,
          "xref": "x1",
          "y": 1,
          "yref": "y1"
         },
         {
          "align": "left",
          "font": {
           "color": "black",
           "family": "Arial",
           "size": 14
          },
          "showarrow": false,
          "text": "로",
          "x": 13.5,
          "xref": "x1",
          "y": 1,
          "yref": "y1"
         },
         {
          "align": "left",
          "font": {
           "color": "black",
           "family": "Arial",
           "size": 14
          },
          "showarrow": false,
          "text": "강",
          "x": 14.5,
          "xref": "x1",
          "y": 1,
          "yref": "y1"
         },
         {
          "align": "left",
          "font": {
           "color": "black",
           "family": "Arial",
           "size": 14
          },
          "showarrow": false,
          "text": "조",
          "x": 15.5,
          "xref": "x1",
          "y": 1,
          "yref": "y1"
         },
         {
          "align": "left",
          "font": {
           "color": "black",
           "family": "Arial",
           "size": 14
          },
          "showarrow": false,
          "text": "하",
          "x": 16.5,
          "xref": "x1",
          "y": 1,
          "yref": "y1"
         },
         {
          "align": "left",
          "font": {
           "color": "black",
           "family": "Arial",
           "size": 14
          },
          "showarrow": false,
          "text": "여",
          "x": 17.5,
          "xref": "x1",
          "y": 1,
          "yref": "y1"
         },
         {
          "align": "left",
          "font": {
           "color": "black",
           "family": "Arial",
           "size": 14
          },
          "showarrow": false,
          "text": "표",
          "x": 18.5,
          "xref": "x1",
          "y": 1,
          "yref": "y1"
         },
         {
          "align": "left",
          "font": {
           "color": "black",
           "family": "Arial",
           "size": 14
          },
          "showarrow": false,
          "text": "현",
          "x": 19.5,
          "xref": "x1",
          "y": 1,
          "yref": "y1"
         },
         {
          "align": "left",
          "font": {
           "color": "black",
           "family": "Arial",
           "size": 14
          },
          "showarrow": false,
          "text": "하",
          "x": 20.5,
          "xref": "x1",
          "y": 1,
          "yref": "y1"
         },
         {
          "align": "left",
          "font": {
           "color": "black",
           "family": "Arial",
           "size": 14
          },
          "showarrow": false,
          "text": "기",
          "x": 21.5,
          "xref": "x1",
          "y": 1,
          "yref": "y1"
         },
         {
          "align": "left",
          "font": {
           "color": "black",
           "family": "Arial",
           "size": 14
          },
          "showarrow": false,
          "text": "위",
          "x": 22.5,
          "xref": "x1",
          "y": 1,
          "yref": "y1"
         },
         {
          "align": "left",
          "font": {
           "color": "black",
           "family": "Arial",
           "size": 14
          },
          "showarrow": false,
          "text": "해",
          "x": 23.5,
          "xref": "x1",
          "y": 1,
          "yref": "y1"
         },
         {
          "align": "left",
          "font": {
           "color": "black",
           "family": "Arial",
           "size": 14
          },
          "showarrow": false,
          "text": "사",
          "x": 24.5,
          "xref": "x1",
          "y": 1,
          "yref": "y1"
         },
         {
          "align": "left",
          "font": {
           "color": "black",
           "family": "Arial",
           "size": 14
          },
          "showarrow": false,
          "text": "용",
          "x": 25.5,
          "xref": "x1",
          "y": 1,
          "yref": "y1"
         },
         {
          "align": "left",
          "font": {
           "color": "black",
           "family": "Arial",
           "size": 14
          },
          "showarrow": false,
          "text": "됩",
          "x": 26.5,
          "xref": "x1",
          "y": 1,
          "yref": "y1"
         },
         {
          "align": "left",
          "font": {
           "color": "black",
           "family": "Arial",
           "size": 14
          },
          "showarrow": false,
          "text": "니",
          "x": 27.5,
          "xref": "x1",
          "y": 1,
          "yref": "y1"
         },
         {
          "align": "left",
          "font": {
           "color": "black",
           "family": "Arial",
           "size": 14
          },
          "showarrow": false,
          "text": "다",
          "x": 28.5,
          "xref": "x1",
          "y": 1,
          "yref": "y1"
         },
         {
          "align": "left",
          "font": {
           "color": "black",
           "family": "Arial",
           "size": 14
          },
          "showarrow": false,
          "text": ".",
          "x": 29.5,
          "xref": "x1",
          "y": 1,
          "yref": "y1"
         }
        ],
        "barmode": "stack",
        "height": 80,
        "images": [
         {
          "layer": "above",
          "opacity": 0.3,
          "sizex": 0.7,
          "sizey": 0.7,
          "source": "https://raw.githubusercontent.com/fingeredman/teanaps/master/data/logo/teanaps_logo_no-bg.png",
          "x": 0.5,
          "xanchor": "center",
          "xref": "paper",
          "y": 0.6,
          "yanchor": "center",
          "yref": "paper"
         }
        ],
        "margin": {
         "b": 30,
         "l": 20,
         "r": 20,
         "t": 10
        },
        "showlegend": false,
        "xaxis1": {
         "anchor": "y1",
         "domain": [
          0,
          1
         ],
         "showgrid": false,
         "showline": false,
         "showticklabels": false,
         "zeroline": false
        },
        "yaxis1": {
         "anchor": "x1",
         "domain": [
          0,
          1
         ],
         "showgrid": false,
         "showline": false,
         "showticklabels": false,
         "zeroline": false
        }
       }
      },
      "text/html": [
       "<div id=\"6f3c6589-b59c-40f0-b0da-27a5ea5e6f72\" style=\"height: 80px; width: 100%;\" class=\"plotly-graph-div\"></div><script type=\"text/javascript\">require([\"plotly\"], function(Plotly) { window.PLOTLYENV=window.PLOTLYENV || {};window.PLOTLYENV.BASE_URL=\"https://plot.ly\";Plotly.newPlot(\"6f3c6589-b59c-40f0-b0da-27a5ea5e6f72\", [{\"type\": \"bar\", \"y\": [1], \"x\": [4], \"orientation\": \"h\", \"width\": 0.5, \"text\": \"0.2\", \"hoverinfo\": \"text\", \"marker\": {\"color\": \"rgb(215.0, 235.0, 255)\"}, \"xaxis\": \"x1\", \"yaxis\": \"y1\"}, {\"type\": \"bar\", \"y\": [1], \"x\": [3], \"orientation\": \"h\", \"width\": 0.5, \"text\": \"1.0\", \"hoverinfo\": \"text\", \"marker\": {\"color\": \"rgb(55.0, 155.0, 255)\"}, \"xaxis\": \"x1\", \"yaxis\": \"y1\"}, {\"type\": \"bar\", \"y\": [1], \"x\": [3], \"orientation\": \"h\", \"width\": 0.5, \"text\": \"0.4\", \"hoverinfo\": \"text\", \"marker\": {\"color\": \"rgb(175.0, 215.0, 255)\"}, \"xaxis\": \"x1\", \"yaxis\": \"y1\"}, {\"type\": \"bar\", \"y\": [1], \"x\": [4], \"orientation\": \"h\", \"width\": 0.5, \"text\": \"0.2\", \"hoverinfo\": \"text\", \"marker\": {\"color\": \"rgb(215.0, 235.0, 255)\"}, \"xaxis\": \"x1\", \"yaxis\": \"y1\"}, {\"type\": \"bar\", \"y\": [1], \"x\": [4], \"orientation\": \"h\", \"width\": 0.5, \"text\": \"0.8\", \"hoverinfo\": \"text\", \"marker\": {\"color\": \"rgb(95.0, 175.0, 255)\"}, \"xaxis\": \"x1\", \"yaxis\": \"y1\"}, {\"type\": \"bar\", \"y\": [1], \"x\": [4], \"orientation\": \"h\", \"width\": 0.5, \"text\": \"0.4\", \"hoverinfo\": \"text\", \"marker\": {\"color\": \"rgb(175.0, 215.0, 255)\"}, \"xaxis\": \"x1\", \"yaxis\": \"y1\"}, {\"type\": \"bar\", \"y\": [1], \"x\": [2], \"orientation\": \"h\", \"width\": 0.5, \"text\": \"0.2\", \"hoverinfo\": \"text\", \"marker\": {\"color\": \"rgb(215.0, 235.0, 255)\"}, \"xaxis\": \"x1\", \"yaxis\": \"y1\"}, {\"type\": \"bar\", \"y\": [1], \"x\": [6], \"orientation\": \"h\", \"width\": 0.5, \"text\": \"0.2\", \"hoverinfo\": \"text\", \"marker\": {\"color\": \"rgb(215.0, 235.0, 255)\"}, \"xaxis\": \"x1\", \"yaxis\": \"y1\"}, {\"type\": \"bar\", \"y\": [1], \"x\": [1], \"orientation\": \"h\", \"width\": 0.5, \"text\": \"\", \"hoverinfo\": \"text\", \"marker\": {\"color\": \"rgb(255, 255, 255)\"}, \"xaxis\": \"x1\", \"yaxis\": \"y1\"}, {\"type\": \"bar\", \"y\": [1], \"x\": [1], \"orientation\": \"h\", \"width\": 0.5, \"text\": \"\", \"hoverinfo\": \"text\", \"marker\": {\"color\": \"rgb(255, 255, 255)\"}, \"xaxis\": \"x1\", \"yaxis\": \"y1\"}, {\"type\": \"bar\", \"y\": [1], \"x\": [1], \"orientation\": \"h\", \"width\": 0.5, \"text\": \"\", \"hoverinfo\": \"text\", \"marker\": {\"color\": \"rgb(255, 255, 255)\"}, \"xaxis\": \"x1\", \"yaxis\": \"y1\"}, {\"type\": \"bar\", \"y\": [1], \"x\": [1], \"orientation\": \"h\", \"width\": 0.5, \"text\": \"\", \"hoverinfo\": \"text\", \"marker\": {\"color\": \"rgb(255, 255, 255)\"}, \"xaxis\": \"x1\", \"yaxis\": \"y1\"}, {\"type\": \"bar\", \"y\": [1], \"x\": [1], \"orientation\": \"h\", \"width\": 0.5, \"text\": \"\", \"hoverinfo\": \"text\", \"marker\": {\"color\": \"rgb(255, 255, 255)\"}, \"xaxis\": \"x1\", \"yaxis\": \"y1\"}, {\"type\": \"bar\", \"y\": [1], \"x\": [1], \"orientation\": \"h\", \"width\": 0.5, \"text\": \"\", \"hoverinfo\": \"text\", \"marker\": {\"color\": \"rgb(255, 255, 255)\"}, \"xaxis\": \"x1\", \"yaxis\": \"y1\"}, {\"type\": \"bar\", \"y\": [1], \"x\": [1], \"orientation\": \"h\", \"width\": 0.5, \"text\": \"\", \"hoverinfo\": \"text\", \"marker\": {\"color\": \"rgb(255, 255, 255)\"}, \"xaxis\": \"x1\", \"yaxis\": \"y1\"}, {\"type\": \"bar\", \"y\": [1], \"x\": [1], \"orientation\": \"h\", \"width\": 0.5, \"text\": \"\", \"hoverinfo\": \"text\", \"marker\": {\"color\": \"rgb(255, 255, 255)\"}, \"xaxis\": \"x1\", \"yaxis\": \"y1\"}, {\"type\": \"bar\", \"y\": [1], \"x\": [1], \"orientation\": \"h\", \"width\": 0.5, \"text\": \"\", \"hoverinfo\": \"text\", \"marker\": {\"color\": \"rgb(255, 255, 255)\"}, \"xaxis\": \"x1\", \"yaxis\": \"y1\"}, {\"type\": \"bar\", \"y\": [1], \"x\": [1], \"orientation\": \"h\", \"width\": 0.5, \"text\": \"\", \"hoverinfo\": \"text\", \"marker\": {\"color\": \"rgb(255, 255, 255)\"}, \"xaxis\": \"x1\", \"yaxis\": \"y1\"}, {\"type\": \"bar\", \"y\": [1], \"x\": [1], \"orientation\": \"h\", \"width\": 0.5, \"text\": \"\", \"hoverinfo\": \"text\", \"marker\": {\"color\": \"rgb(255, 255, 255)\"}, \"xaxis\": \"x1\", \"yaxis\": \"y1\"}, {\"type\": \"bar\", \"y\": [1], \"x\": [1], \"orientation\": \"h\", \"width\": 0.5, \"text\": \"\", \"hoverinfo\": \"text\", \"marker\": {\"color\": \"rgb(255, 255, 255)\"}, \"xaxis\": \"x1\", \"yaxis\": \"y1\"}, {\"type\": \"bar\", \"y\": [1], \"x\": [1], \"orientation\": \"h\", \"width\": 0.5, \"text\": \"\", \"hoverinfo\": \"text\", \"marker\": {\"color\": \"rgb(255, 255, 255)\"}, \"xaxis\": \"x1\", \"yaxis\": \"y1\"}, {\"type\": \"bar\", \"y\": [1], \"x\": [1], \"orientation\": \"h\", \"width\": 0.5, \"text\": \"\", \"hoverinfo\": \"text\", \"marker\": {\"color\": \"rgb(255, 255, 255)\"}, \"xaxis\": \"x1\", \"yaxis\": \"y1\"}, {\"type\": \"bar\", \"y\": [1], \"x\": [1], \"orientation\": \"h\", \"width\": 0.5, \"text\": \"\", \"hoverinfo\": \"text\", \"marker\": {\"color\": \"rgb(255, 255, 255)\"}, \"xaxis\": \"x1\", \"yaxis\": \"y1\"}, {\"type\": \"bar\", \"y\": [1], \"x\": [1], \"orientation\": \"h\", \"width\": 0.5, \"text\": \"\", \"hoverinfo\": \"text\", \"marker\": {\"color\": \"rgb(255, 255, 255)\"}, \"xaxis\": \"x1\", \"yaxis\": \"y1\"}, {\"type\": \"bar\", \"y\": [1], \"x\": [1], \"orientation\": \"h\", \"width\": 0.5, \"text\": \"\", \"hoverinfo\": \"text\", \"marker\": {\"color\": \"rgb(255, 255, 255)\"}, \"xaxis\": \"x1\", \"yaxis\": \"y1\"}, {\"type\": \"bar\", \"y\": [1], \"x\": [1], \"orientation\": \"h\", \"width\": 0.5, \"text\": \"\", \"hoverinfo\": \"text\", \"marker\": {\"color\": \"rgb(255, 255, 255)\"}, \"xaxis\": \"x1\", \"yaxis\": \"y1\"}, {\"type\": \"bar\", \"y\": [1], \"x\": [1], \"orientation\": \"h\", \"width\": 0.5, \"text\": \"\", \"hoverinfo\": \"text\", \"marker\": {\"color\": \"rgb(255, 255, 255)\"}, \"xaxis\": \"x1\", \"yaxis\": \"y1\"}, {\"type\": \"bar\", \"y\": [1], \"x\": [1], \"orientation\": \"h\", \"width\": 0.5, \"text\": \"\", \"hoverinfo\": \"text\", \"marker\": {\"color\": \"rgb(255, 255, 255)\"}, \"xaxis\": \"x1\", \"yaxis\": \"y1\"}], {\"xaxis1\": {\"domain\": [0.0, 1.0], \"anchor\": \"y1\", \"showgrid\": false, \"showline\": false, \"showticklabels\": false, \"zeroline\": false}, \"yaxis1\": {\"domain\": [0.0, 1.0], \"anchor\": \"x1\", \"showgrid\": false, \"showline\": false, \"showticklabels\": false, \"zeroline\": false}, \"barmode\": \"stack\", \"showlegend\": false, \"margin\": {\"b\": 30, \"l\": 20, \"r\": 20, \"t\": 10}, \"annotations\": [{\"xref\": \"x1\", \"yref\": \"y1\", \"x\": 0.5, \"y\": 1, \"text\": \"\\ubb38\", \"align\": \"left\", \"font\": {\"family\": \"Arial\", \"size\": 14, \"color\": \"black\"}, \"showarrow\": false}, {\"xref\": \"x1\", \"yref\": \"y1\", \"x\": 1.5, \"y\": 1, \"text\": \"\\uc7a5\", \"align\": \"left\", \"font\": {\"family\": \"Arial\", \"size\": 14, \"color\": \"black\"}, \"showarrow\": false}, {\"xref\": \"x1\", \"yref\": \"y1\", \"x\": 2.5, \"y\": 1, \"text\": \"\\uc5d0\", \"align\": \"left\", \"font\": {\"family\": \"Arial\", \"size\": 14, \"color\": \"black\"}, \"showarrow\": false}, {\"xref\": \"x1\", \"yref\": \"y1\", \"x\": 3.5, \"y\": 1, \"text\": \"\\uc11c\", \"align\": \"left\", \"font\": {\"family\": \"Arial\", \"size\": 14, \"color\": \"black\"}, \"showarrow\": false}, {\"xref\": \"x1\", \"yref\": \"y1\", \"x\": 4.5, \"y\": 1, \"text\": \"\\uc911\", \"align\": \"left\", \"font\": {\"family\": \"Arial\", \"size\": 14, \"color\": \"black\"}, \"showarrow\": false}, {\"xref\": \"x1\", \"yref\": \"y1\", \"x\": 5.5, \"y\": 1, \"text\": \"\\uc694\", \"align\": \"left\", \"font\": {\"family\": \"Arial\", \"size\": 14, \"color\": \"black\"}, \"showarrow\": false}, {\"xref\": \"x1\", \"yref\": \"y1\", \"x\": 6.5, \"y\": 1, \"text\": \"\\ud55c\", \"align\": \"left\", \"font\": {\"family\": \"Arial\", \"size\": 14, \"color\": \"black\"}, \"showarrow\": false}, {\"xref\": \"x1\", \"yref\": \"y1\", \"x\": 7.5, \"y\": 1, \"text\": \"\\ubd80\", \"align\": \"left\", \"font\": {\"family\": \"Arial\", \"size\": 14, \"color\": \"black\"}, \"showarrow\": false}, {\"xref\": \"x1\", \"yref\": \"y1\", \"x\": 8.5, \"y\": 1, \"text\": \"\\ubd84\", \"align\": \"left\", \"font\": {\"family\": \"Arial\", \"size\": 14, \"color\": \"black\"}, \"showarrow\": false}, {\"xref\": \"x1\", \"yref\": \"y1\", \"x\": 9.5, \"y\": 1, \"text\": \"\\uc744\", \"align\": \"left\", \"font\": {\"family\": \"Arial\", \"size\": 14, \"color\": \"black\"}, \"showarrow\": false}, {\"xref\": \"x1\", \"yref\": \"y1\", \"x\": 10.5, \"y\": 1, \"text\": \"\\uc74c\", \"align\": \"left\", \"font\": {\"family\": \"Arial\", \"size\": 14, \"color\": \"black\"}, \"showarrow\": false}, {\"xref\": \"x1\", \"yref\": \"y1\", \"x\": 11.5, \"y\": 1, \"text\": \"\\uc601\", \"align\": \"left\", \"font\": {\"family\": \"Arial\", \"size\": 14, \"color\": \"black\"}, \"showarrow\": false}, {\"xref\": \"x1\", \"yref\": \"y1\", \"x\": 12.5, \"y\": 1, \"text\": \"\\uc73c\", \"align\": \"left\", \"font\": {\"family\": \"Arial\", \"size\": 14, \"color\": \"black\"}, \"showarrow\": false}, {\"xref\": \"x1\", \"yref\": \"y1\", \"x\": 13.5, \"y\": 1, \"text\": \"\\ub85c\", \"align\": \"left\", \"font\": {\"family\": \"Arial\", \"size\": 14, \"color\": \"black\"}, \"showarrow\": false}, {\"xref\": \"x1\", \"yref\": \"y1\", \"x\": 14.5, \"y\": 1, \"text\": \"\\uac15\", \"align\": \"left\", \"font\": {\"family\": \"Arial\", \"size\": 14, \"color\": \"black\"}, \"showarrow\": false}, {\"xref\": \"x1\", \"yref\": \"y1\", \"x\": 15.5, \"y\": 1, \"text\": \"\\uc870\", \"align\": \"left\", \"font\": {\"family\": \"Arial\", \"size\": 14, \"color\": \"black\"}, \"showarrow\": false}, {\"xref\": \"x1\", \"yref\": \"y1\", \"x\": 16.5, \"y\": 1, \"text\": \"\\ud558\", \"align\": \"left\", \"font\": {\"family\": \"Arial\", \"size\": 14, \"color\": \"black\"}, \"showarrow\": false}, {\"xref\": \"x1\", \"yref\": \"y1\", \"x\": 17.5, \"y\": 1, \"text\": \"\\uc5ec\", \"align\": \"left\", \"font\": {\"family\": \"Arial\", \"size\": 14, \"color\": \"black\"}, \"showarrow\": false}, {\"xref\": \"x1\", \"yref\": \"y1\", \"x\": 18.5, \"y\": 1, \"text\": \"\\ud45c\", \"align\": \"left\", \"font\": {\"family\": \"Arial\", \"size\": 14, \"color\": \"black\"}, \"showarrow\": false}, {\"xref\": \"x1\", \"yref\": \"y1\", \"x\": 19.5, \"y\": 1, \"text\": \"\\ud604\", \"align\": \"left\", \"font\": {\"family\": \"Arial\", \"size\": 14, \"color\": \"black\"}, \"showarrow\": false}, {\"xref\": \"x1\", \"yref\": \"y1\", \"x\": 20.5, \"y\": 1, \"text\": \"\\ud558\", \"align\": \"left\", \"font\": {\"family\": \"Arial\", \"size\": 14, \"color\": \"black\"}, \"showarrow\": false}, {\"xref\": \"x1\", \"yref\": \"y1\", \"x\": 21.5, \"y\": 1, \"text\": \"\\uae30\", \"align\": \"left\", \"font\": {\"family\": \"Arial\", \"size\": 14, \"color\": \"black\"}, \"showarrow\": false}, {\"xref\": \"x1\", \"yref\": \"y1\", \"x\": 22.5, \"y\": 1, \"text\": \"\\uc704\", \"align\": \"left\", \"font\": {\"family\": \"Arial\", \"size\": 14, \"color\": \"black\"}, \"showarrow\": false}, {\"xref\": \"x1\", \"yref\": \"y1\", \"x\": 23.5, \"y\": 1, \"text\": \"\\ud574\", \"align\": \"left\", \"font\": {\"family\": \"Arial\", \"size\": 14, \"color\": \"black\"}, \"showarrow\": false}, {\"xref\": \"x1\", \"yref\": \"y1\", \"x\": 24.5, \"y\": 1, \"text\": \"\\uc0ac\", \"align\": \"left\", \"font\": {\"family\": \"Arial\", \"size\": 14, \"color\": \"black\"}, \"showarrow\": false}, {\"xref\": \"x1\", \"yref\": \"y1\", \"x\": 25.5, \"y\": 1, \"text\": \"\\uc6a9\", \"align\": \"left\", \"font\": {\"family\": \"Arial\", \"size\": 14, \"color\": \"black\"}, \"showarrow\": false}, {\"xref\": \"x1\", \"yref\": \"y1\", \"x\": 26.5, \"y\": 1, \"text\": \"\\ub429\", \"align\": \"left\", \"font\": {\"family\": \"Arial\", \"size\": 14, \"color\": \"black\"}, \"showarrow\": false}, {\"xref\": \"x1\", \"yref\": \"y1\", \"x\": 27.5, \"y\": 1, \"text\": \"\\ub2c8\", \"align\": \"left\", \"font\": {\"family\": \"Arial\", \"size\": 14, \"color\": \"black\"}, \"showarrow\": false}, {\"xref\": \"x1\", \"yref\": \"y1\", \"x\": 28.5, \"y\": 1, \"text\": \"\\ub2e4\", \"align\": \"left\", \"font\": {\"family\": \"Arial\", \"size\": 14, \"color\": \"black\"}, \"showarrow\": false}, {\"xref\": \"x1\", \"yref\": \"y1\", \"x\": 29.5, \"y\": 1, \"text\": \".\", \"align\": \"left\", \"font\": {\"family\": \"Arial\", \"size\": 14, \"color\": \"black\"}, \"showarrow\": false}], \"height\": 80, \"images\": [{\"source\": \"https://raw.githubusercontent.com/fingeredman/teanaps/master/data/logo/teanaps_logo_no-bg.png\", \"xref\": \"paper\", \"yref\": \"paper\", \"x\": 0.5, \"y\": 0.6, \"sizex\": 0.7, \"sizey\": 0.7, \"xanchor\": \"center\", \"yanchor\": \"center\", \"opacity\": 0.3, \"layer\": \"above\"}]}, {\"showLink\": true, \"linkText\": \"Export to plot.ly\"})});</script>"
      ],
      "text/vnd.plotly.v1+html": [
       "<div id=\"6f3c6589-b59c-40f0-b0da-27a5ea5e6f72\" style=\"height: 80px; width: 100%;\" class=\"plotly-graph-div\"></div><script type=\"text/javascript\">require([\"plotly\"], function(Plotly) { window.PLOTLYENV=window.PLOTLYENV || {};window.PLOTLYENV.BASE_URL=\"https://plot.ly\";Plotly.newPlot(\"6f3c6589-b59c-40f0-b0da-27a5ea5e6f72\", [{\"type\": \"bar\", \"y\": [1], \"x\": [4], \"orientation\": \"h\", \"width\": 0.5, \"text\": \"0.2\", \"hoverinfo\": \"text\", \"marker\": {\"color\": \"rgb(215.0, 235.0, 255)\"}, \"xaxis\": \"x1\", \"yaxis\": \"y1\"}, {\"type\": \"bar\", \"y\": [1], \"x\": [3], \"orientation\": \"h\", \"width\": 0.5, \"text\": \"1.0\", \"hoverinfo\": \"text\", \"marker\": {\"color\": \"rgb(55.0, 155.0, 255)\"}, \"xaxis\": \"x1\", \"yaxis\": \"y1\"}, {\"type\": \"bar\", \"y\": [1], \"x\": [3], \"orientation\": \"h\", \"width\": 0.5, \"text\": \"0.4\", \"hoverinfo\": \"text\", \"marker\": {\"color\": \"rgb(175.0, 215.0, 255)\"}, \"xaxis\": \"x1\", \"yaxis\": \"y1\"}, {\"type\": \"bar\", \"y\": [1], \"x\": [4], \"orientation\": \"h\", \"width\": 0.5, \"text\": \"0.2\", \"hoverinfo\": \"text\", \"marker\": {\"color\": \"rgb(215.0, 235.0, 255)\"}, \"xaxis\": \"x1\", \"yaxis\": \"y1\"}, {\"type\": \"bar\", \"y\": [1], \"x\": [4], \"orientation\": \"h\", \"width\": 0.5, \"text\": \"0.8\", \"hoverinfo\": \"text\", \"marker\": {\"color\": \"rgb(95.0, 175.0, 255)\"}, \"xaxis\": \"x1\", \"yaxis\": \"y1\"}, {\"type\": \"bar\", \"y\": [1], \"x\": [4], \"orientation\": \"h\", \"width\": 0.5, \"text\": \"0.4\", \"hoverinfo\": \"text\", \"marker\": {\"color\": \"rgb(175.0, 215.0, 255)\"}, \"xaxis\": \"x1\", \"yaxis\": \"y1\"}, {\"type\": \"bar\", \"y\": [1], \"x\": [2], \"orientation\": \"h\", \"width\": 0.5, \"text\": \"0.2\", \"hoverinfo\": \"text\", \"marker\": {\"color\": \"rgb(215.0, 235.0, 255)\"}, \"xaxis\": \"x1\", \"yaxis\": \"y1\"}, {\"type\": \"bar\", \"y\": [1], \"x\": [6], \"orientation\": \"h\", \"width\": 0.5, \"text\": \"0.2\", \"hoverinfo\": \"text\", \"marker\": {\"color\": \"rgb(215.0, 235.0, 255)\"}, \"xaxis\": \"x1\", \"yaxis\": \"y1\"}, {\"type\": \"bar\", \"y\": [1], \"x\": [1], \"orientation\": \"h\", \"width\": 0.5, \"text\": \"\", \"hoverinfo\": \"text\", \"marker\": {\"color\": \"rgb(255, 255, 255)\"}, \"xaxis\": \"x1\", \"yaxis\": \"y1\"}, {\"type\": \"bar\", \"y\": [1], \"x\": [1], \"orientation\": \"h\", \"width\": 0.5, \"text\": \"\", \"hoverinfo\": \"text\", \"marker\": {\"color\": \"rgb(255, 255, 255)\"}, \"xaxis\": \"x1\", \"yaxis\": \"y1\"}, {\"type\": \"bar\", \"y\": [1], \"x\": [1], \"orientation\": \"h\", \"width\": 0.5, \"text\": \"\", \"hoverinfo\": \"text\", \"marker\": {\"color\": \"rgb(255, 255, 255)\"}, \"xaxis\": \"x1\", \"yaxis\": \"y1\"}, {\"type\": \"bar\", \"y\": [1], \"x\": [1], \"orientation\": \"h\", \"width\": 0.5, \"text\": \"\", \"hoverinfo\": \"text\", \"marker\": {\"color\": \"rgb(255, 255, 255)\"}, \"xaxis\": \"x1\", \"yaxis\": \"y1\"}, {\"type\": \"bar\", \"y\": [1], \"x\": [1], \"orientation\": \"h\", \"width\": 0.5, \"text\": \"\", \"hoverinfo\": \"text\", \"marker\": {\"color\": \"rgb(255, 255, 255)\"}, \"xaxis\": \"x1\", \"yaxis\": \"y1\"}, {\"type\": \"bar\", \"y\": [1], \"x\": [1], \"orientation\": \"h\", \"width\": 0.5, \"text\": \"\", \"hoverinfo\": \"text\", \"marker\": {\"color\": \"rgb(255, 255, 255)\"}, \"xaxis\": \"x1\", \"yaxis\": \"y1\"}, {\"type\": \"bar\", \"y\": [1], \"x\": [1], \"orientation\": \"h\", \"width\": 0.5, \"text\": \"\", \"hoverinfo\": \"text\", \"marker\": {\"color\": \"rgb(255, 255, 255)\"}, \"xaxis\": \"x1\", \"yaxis\": \"y1\"}, {\"type\": \"bar\", \"y\": [1], \"x\": [1], \"orientation\": \"h\", \"width\": 0.5, \"text\": \"\", \"hoverinfo\": \"text\", \"marker\": {\"color\": \"rgb(255, 255, 255)\"}, \"xaxis\": \"x1\", \"yaxis\": \"y1\"}, {\"type\": \"bar\", \"y\": [1], \"x\": [1], \"orientation\": \"h\", \"width\": 0.5, \"text\": \"\", \"hoverinfo\": \"text\", \"marker\": {\"color\": \"rgb(255, 255, 255)\"}, \"xaxis\": \"x1\", \"yaxis\": \"y1\"}, {\"type\": \"bar\", \"y\": [1], \"x\": [1], \"orientation\": \"h\", \"width\": 0.5, \"text\": \"\", \"hoverinfo\": \"text\", \"marker\": {\"color\": \"rgb(255, 255, 255)\"}, \"xaxis\": \"x1\", \"yaxis\": \"y1\"}, {\"type\": \"bar\", \"y\": [1], \"x\": [1], \"orientation\": \"h\", \"width\": 0.5, \"text\": \"\", \"hoverinfo\": \"text\", \"marker\": {\"color\": \"rgb(255, 255, 255)\"}, \"xaxis\": \"x1\", \"yaxis\": \"y1\"}, {\"type\": \"bar\", \"y\": [1], \"x\": [1], \"orientation\": \"h\", \"width\": 0.5, \"text\": \"\", \"hoverinfo\": \"text\", \"marker\": {\"color\": \"rgb(255, 255, 255)\"}, \"xaxis\": \"x1\", \"yaxis\": \"y1\"}, {\"type\": \"bar\", \"y\": [1], \"x\": [1], \"orientation\": \"h\", \"width\": 0.5, \"text\": \"\", \"hoverinfo\": \"text\", \"marker\": {\"color\": \"rgb(255, 255, 255)\"}, \"xaxis\": \"x1\", \"yaxis\": \"y1\"}, {\"type\": \"bar\", \"y\": [1], \"x\": [1], \"orientation\": \"h\", \"width\": 0.5, \"text\": \"\", \"hoverinfo\": \"text\", \"marker\": {\"color\": \"rgb(255, 255, 255)\"}, \"xaxis\": \"x1\", \"yaxis\": \"y1\"}, {\"type\": \"bar\", \"y\": [1], \"x\": [1], \"orientation\": \"h\", \"width\": 0.5, \"text\": \"\", \"hoverinfo\": \"text\", \"marker\": {\"color\": \"rgb(255, 255, 255)\"}, \"xaxis\": \"x1\", \"yaxis\": \"y1\"}, {\"type\": \"bar\", \"y\": [1], \"x\": [1], \"orientation\": \"h\", \"width\": 0.5, \"text\": \"\", \"hoverinfo\": \"text\", \"marker\": {\"color\": \"rgb(255, 255, 255)\"}, \"xaxis\": \"x1\", \"yaxis\": \"y1\"}, {\"type\": \"bar\", \"y\": [1], \"x\": [1], \"orientation\": \"h\", \"width\": 0.5, \"text\": \"\", \"hoverinfo\": \"text\", \"marker\": {\"color\": \"rgb(255, 255, 255)\"}, \"xaxis\": \"x1\", \"yaxis\": \"y1\"}, {\"type\": \"bar\", \"y\": [1], \"x\": [1], \"orientation\": \"h\", \"width\": 0.5, \"text\": \"\", \"hoverinfo\": \"text\", \"marker\": {\"color\": \"rgb(255, 255, 255)\"}, \"xaxis\": \"x1\", \"yaxis\": \"y1\"}, {\"type\": \"bar\", \"y\": [1], \"x\": [1], \"orientation\": \"h\", \"width\": 0.5, \"text\": \"\", \"hoverinfo\": \"text\", \"marker\": {\"color\": \"rgb(255, 255, 255)\"}, \"xaxis\": \"x1\", \"yaxis\": \"y1\"}, {\"type\": \"bar\", \"y\": [1], \"x\": [1], \"orientation\": \"h\", \"width\": 0.5, \"text\": \"\", \"hoverinfo\": \"text\", \"marker\": {\"color\": \"rgb(255, 255, 255)\"}, \"xaxis\": \"x1\", \"yaxis\": \"y1\"}], {\"xaxis1\": {\"domain\": [0.0, 1.0], \"anchor\": \"y1\", \"showgrid\": false, \"showline\": false, \"showticklabels\": false, \"zeroline\": false}, \"yaxis1\": {\"domain\": [0.0, 1.0], \"anchor\": \"x1\", \"showgrid\": false, \"showline\": false, \"showticklabels\": false, \"zeroline\": false}, \"barmode\": \"stack\", \"showlegend\": false, \"margin\": {\"b\": 30, \"l\": 20, \"r\": 20, \"t\": 10}, \"annotations\": [{\"xref\": \"x1\", \"yref\": \"y1\", \"x\": 0.5, \"y\": 1, \"text\": \"\\ubb38\", \"align\": \"left\", \"font\": {\"family\": \"Arial\", \"size\": 14, \"color\": \"black\"}, \"showarrow\": false}, {\"xref\": \"x1\", \"yref\": \"y1\", \"x\": 1.5, \"y\": 1, \"text\": \"\\uc7a5\", \"align\": \"left\", \"font\": {\"family\": \"Arial\", \"size\": 14, \"color\": \"black\"}, \"showarrow\": false}, {\"xref\": \"x1\", \"yref\": \"y1\", \"x\": 2.5, \"y\": 1, \"text\": \"\\uc5d0\", \"align\": \"left\", \"font\": {\"family\": \"Arial\", \"size\": 14, \"color\": \"black\"}, \"showarrow\": false}, {\"xref\": \"x1\", \"yref\": \"y1\", \"x\": 3.5, \"y\": 1, \"text\": \"\\uc11c\", \"align\": \"left\", \"font\": {\"family\": \"Arial\", \"size\": 14, \"color\": \"black\"}, \"showarrow\": false}, {\"xref\": \"x1\", \"yref\": \"y1\", \"x\": 4.5, \"y\": 1, \"text\": \"\\uc911\", \"align\": \"left\", \"font\": {\"family\": \"Arial\", \"size\": 14, \"color\": \"black\"}, \"showarrow\": false}, {\"xref\": \"x1\", \"yref\": \"y1\", \"x\": 5.5, \"y\": 1, \"text\": \"\\uc694\", \"align\": \"left\", \"font\": {\"family\": \"Arial\", \"size\": 14, \"color\": \"black\"}, \"showarrow\": false}, {\"xref\": \"x1\", \"yref\": \"y1\", \"x\": 6.5, \"y\": 1, \"text\": \"\\ud55c\", \"align\": \"left\", \"font\": {\"family\": \"Arial\", \"size\": 14, \"color\": \"black\"}, \"showarrow\": false}, {\"xref\": \"x1\", \"yref\": \"y1\", \"x\": 7.5, \"y\": 1, \"text\": \"\\ubd80\", \"align\": \"left\", \"font\": {\"family\": \"Arial\", \"size\": 14, \"color\": \"black\"}, \"showarrow\": false}, {\"xref\": \"x1\", \"yref\": \"y1\", \"x\": 8.5, \"y\": 1, \"text\": \"\\ubd84\", \"align\": \"left\", \"font\": {\"family\": \"Arial\", \"size\": 14, \"color\": \"black\"}, \"showarrow\": false}, {\"xref\": \"x1\", \"yref\": \"y1\", \"x\": 9.5, \"y\": 1, \"text\": \"\\uc744\", \"align\": \"left\", \"font\": {\"family\": \"Arial\", \"size\": 14, \"color\": \"black\"}, \"showarrow\": false}, {\"xref\": \"x1\", \"yref\": \"y1\", \"x\": 10.5, \"y\": 1, \"text\": \"\\uc74c\", \"align\": \"left\", \"font\": {\"family\": \"Arial\", \"size\": 14, \"color\": \"black\"}, \"showarrow\": false}, {\"xref\": \"x1\", \"yref\": \"y1\", \"x\": 11.5, \"y\": 1, \"text\": \"\\uc601\", \"align\": \"left\", \"font\": {\"family\": \"Arial\", \"size\": 14, \"color\": \"black\"}, \"showarrow\": false}, {\"xref\": \"x1\", \"yref\": \"y1\", \"x\": 12.5, \"y\": 1, \"text\": \"\\uc73c\", \"align\": \"left\", \"font\": {\"family\": \"Arial\", \"size\": 14, \"color\": \"black\"}, \"showarrow\": false}, {\"xref\": \"x1\", \"yref\": \"y1\", \"x\": 13.5, \"y\": 1, \"text\": \"\\ub85c\", \"align\": \"left\", \"font\": {\"family\": \"Arial\", \"size\": 14, \"color\": \"black\"}, \"showarrow\": false}, {\"xref\": \"x1\", \"yref\": \"y1\", \"x\": 14.5, \"y\": 1, \"text\": \"\\uac15\", \"align\": \"left\", \"font\": {\"family\": \"Arial\", \"size\": 14, \"color\": \"black\"}, \"showarrow\": false}, {\"xref\": \"x1\", \"yref\": \"y1\", \"x\": 15.5, \"y\": 1, \"text\": \"\\uc870\", \"align\": \"left\", \"font\": {\"family\": \"Arial\", \"size\": 14, \"color\": \"black\"}, \"showarrow\": false}, {\"xref\": \"x1\", \"yref\": \"y1\", \"x\": 16.5, \"y\": 1, \"text\": \"\\ud558\", \"align\": \"left\", \"font\": {\"family\": \"Arial\", \"size\": 14, \"color\": \"black\"}, \"showarrow\": false}, {\"xref\": \"x1\", \"yref\": \"y1\", \"x\": 17.5, \"y\": 1, \"text\": \"\\uc5ec\", \"align\": \"left\", \"font\": {\"family\": \"Arial\", \"size\": 14, \"color\": \"black\"}, \"showarrow\": false}, {\"xref\": \"x1\", \"yref\": \"y1\", \"x\": 18.5, \"y\": 1, \"text\": \"\\ud45c\", \"align\": \"left\", \"font\": {\"family\": \"Arial\", \"size\": 14, \"color\": \"black\"}, \"showarrow\": false}, {\"xref\": \"x1\", \"yref\": \"y1\", \"x\": 19.5, \"y\": 1, \"text\": \"\\ud604\", \"align\": \"left\", \"font\": {\"family\": \"Arial\", \"size\": 14, \"color\": \"black\"}, \"showarrow\": false}, {\"xref\": \"x1\", \"yref\": \"y1\", \"x\": 20.5, \"y\": 1, \"text\": \"\\ud558\", \"align\": \"left\", \"font\": {\"family\": \"Arial\", \"size\": 14, \"color\": \"black\"}, \"showarrow\": false}, {\"xref\": \"x1\", \"yref\": \"y1\", \"x\": 21.5, \"y\": 1, \"text\": \"\\uae30\", \"align\": \"left\", \"font\": {\"family\": \"Arial\", \"size\": 14, \"color\": \"black\"}, \"showarrow\": false}, {\"xref\": \"x1\", \"yref\": \"y1\", \"x\": 22.5, \"y\": 1, \"text\": \"\\uc704\", \"align\": \"left\", \"font\": {\"family\": \"Arial\", \"size\": 14, \"color\": \"black\"}, \"showarrow\": false}, {\"xref\": \"x1\", \"yref\": \"y1\", \"x\": 23.5, \"y\": 1, \"text\": \"\\ud574\", \"align\": \"left\", \"font\": {\"family\": \"Arial\", \"size\": 14, \"color\": \"black\"}, \"showarrow\": false}, {\"xref\": \"x1\", \"yref\": \"y1\", \"x\": 24.5, \"y\": 1, \"text\": \"\\uc0ac\", \"align\": \"left\", \"font\": {\"family\": \"Arial\", \"size\": 14, \"color\": \"black\"}, \"showarrow\": false}, {\"xref\": \"x1\", \"yref\": \"y1\", \"x\": 25.5, \"y\": 1, \"text\": \"\\uc6a9\", \"align\": \"left\", \"font\": {\"family\": \"Arial\", \"size\": 14, \"color\": \"black\"}, \"showarrow\": false}, {\"xref\": \"x1\", \"yref\": \"y1\", \"x\": 26.5, \"y\": 1, \"text\": \"\\ub429\", \"align\": \"left\", \"font\": {\"family\": \"Arial\", \"size\": 14, \"color\": \"black\"}, \"showarrow\": false}, {\"xref\": \"x1\", \"yref\": \"y1\", \"x\": 27.5, \"y\": 1, \"text\": \"\\ub2c8\", \"align\": \"left\", \"font\": {\"family\": \"Arial\", \"size\": 14, \"color\": \"black\"}, \"showarrow\": false}, {\"xref\": \"x1\", \"yref\": \"y1\", \"x\": 28.5, \"y\": 1, \"text\": \"\\ub2e4\", \"align\": \"left\", \"font\": {\"family\": \"Arial\", \"size\": 14, \"color\": \"black\"}, \"showarrow\": false}, {\"xref\": \"x1\", \"yref\": \"y1\", \"x\": 29.5, \"y\": 1, \"text\": \".\", \"align\": \"left\", \"font\": {\"family\": \"Arial\", \"size\": 14, \"color\": \"black\"}, \"showarrow\": false}], \"height\": 80, \"images\": [{\"source\": \"https://raw.githubusercontent.com/fingeredman/teanaps/master/data/logo/teanaps_logo_no-bg.png\", \"xref\": \"paper\", \"yref\": \"paper\", \"x\": 0.5, \"y\": 0.6, \"sizex\": 0.7, \"sizey\": 0.7, \"xanchor\": \"center\", \"yanchor\": \"center\", \"opacity\": 0.3, \"layer\": \"above\"}]}, {\"showLink\": true, \"linkText\": \"Export to plot.ly\"})});</script>"
      ]
     },
     "metadata": {},
     "output_type": "display_data"
    }
   ],
   "source": [
    "sentence = \"문장에서 중요한 부분을 음영으로 강조하여 표현하기 위해 사용됩니다.\"\n",
    "token_list = sentence.split(\" \")\n",
    "#token_list = ['문장에서', '중요한', '부분을', \"음영으로\", '강조하여', '표현하기', '위해', '사용됩니다.']\n",
    "weight_list = [1, 5, 2, 1, 4, 2, 1, 1]\n",
    "\n",
    "tv.draw_sentence_attention(token_list, weight_list)"
   ]
  },
  {
   "cell_type": "code",
   "execution_count": 12,
   "metadata": {},
   "outputs": [
    {
     "data": {
      "text/html": [
       "\n",
       "                <script src=\"/static/components/requirejs/require.js\"></script>\n",
       "                <script>\n",
       "                  requirejs.config({\n",
       "                    paths: {\n",
       "                      base: '/static/base',\n",
       "                      plotly: 'https://cdn.plot.ly/plotly-latest.min.js?noext',\n",
       "                    },\n",
       "                  });\n",
       "                </script>\n",
       "                "
      ],
      "text/plain": [
       "<IPython.core.display.HTML object>"
      ]
     },
     "metadata": {},
     "output_type": "display_data"
    },
    {
     "data": {
      "application/vnd.plotly.v1+json": {
       "data": [
        {
         "hoverinfo": "text",
         "marker": {
          "color": "rgb(255, 255.0, 255.0)"
         },
         "orientation": "h",
         "text": "",
         "type": "bar",
         "width": 0.5,
         "x": [
          4
         ],
         "xaxis": "x1",
         "y": [
          1
         ],
         "yaxis": "y1"
        },
        {
         "hoverinfo": "text",
         "marker": {
          "color": "rgb(135.0, 195.0, 255)"
         },
         "orientation": "h",
         "text": "0.6",
         "type": "bar",
         "width": 0.5,
         "x": [
          3
         ],
         "xaxis": "x1",
         "y": [
          1
         ],
         "yaxis": "y1"
        },
        {
         "hoverinfo": "text",
         "marker": {
          "color": "rgb(55.0, 155.0, 255)"
         },
         "orientation": "h",
         "text": "1.0",
         "type": "bar",
         "width": 0.5,
         "x": [
          4
         ],
         "xaxis": "x1",
         "y": [
          1
         ],
         "yaxis": "y1"
        },
        {
         "hoverinfo": "text",
         "marker": {
          "color": "rgb(255, 165.0, 165.0)"
         },
         "orientation": "h",
         "text": "0.6",
         "type": "bar",
         "width": 0.5,
         "x": [
          3
         ],
         "xaxis": "x1",
         "y": [
          1
         ],
         "yaxis": "y1"
        },
        {
         "hoverinfo": "text",
         "marker": {
          "color": "rgb(255, 105.0, 105.0)"
         },
         "orientation": "h",
         "text": "1.0",
         "type": "bar",
         "width": 0.5,
         "x": [
          5
         ],
         "xaxis": "x1",
         "y": [
          1
         ],
         "yaxis": "y1"
        },
        {
         "hoverinfo": "text",
         "marker": {
          "color": "rgb(255, 255.0, 255.0)"
         },
         "orientation": "h",
         "text": "",
         "type": "bar",
         "width": 0.5,
         "x": [
          3
         ],
         "xaxis": "x1",
         "y": [
          1
         ],
         "yaxis": "y1"
        },
        {
         "hoverinfo": "text",
         "marker": {
          "color": "rgb(255, 255, 255)"
         },
         "orientation": "h",
         "text": "",
         "type": "bar",
         "width": 0.5,
         "x": [
          6
         ],
         "xaxis": "x1",
         "y": [
          1
         ],
         "yaxis": "y1"
        },
        {
         "hoverinfo": "text",
         "marker": {
          "color": "rgb(255, 255, 255)"
         },
         "orientation": "h",
         "text": "",
         "type": "bar",
         "width": 0.5,
         "x": [
          1
         ],
         "xaxis": "x1",
         "y": [
          1
         ],
         "yaxis": "y1"
        },
        {
         "hoverinfo": "text",
         "marker": {
          "color": "rgb(255, 255, 255)"
         },
         "orientation": "h",
         "text": "",
         "type": "bar",
         "width": 0.5,
         "x": [
          1
         ],
         "xaxis": "x1",
         "y": [
          1
         ],
         "yaxis": "y1"
        },
        {
         "hoverinfo": "text",
         "marker": {
          "color": "rgb(255, 255, 255)"
         },
         "orientation": "h",
         "text": "",
         "type": "bar",
         "width": 0.5,
         "x": [
          1
         ],
         "xaxis": "x1",
         "y": [
          1
         ],
         "yaxis": "y1"
        },
        {
         "hoverinfo": "text",
         "marker": {
          "color": "rgb(255, 255, 255)"
         },
         "orientation": "h",
         "text": "",
         "type": "bar",
         "width": 0.5,
         "x": [
          1
         ],
         "xaxis": "x1",
         "y": [
          1
         ],
         "yaxis": "y1"
        },
        {
         "hoverinfo": "text",
         "marker": {
          "color": "rgb(255, 255, 255)"
         },
         "orientation": "h",
         "text": "",
         "type": "bar",
         "width": 0.5,
         "x": [
          1
         ],
         "xaxis": "x1",
         "y": [
          1
         ],
         "yaxis": "y1"
        },
        {
         "hoverinfo": "text",
         "marker": {
          "color": "rgb(255, 255, 255)"
         },
         "orientation": "h",
         "text": "",
         "type": "bar",
         "width": 0.5,
         "x": [
          1
         ],
         "xaxis": "x1",
         "y": [
          1
         ],
         "yaxis": "y1"
        },
        {
         "hoverinfo": "text",
         "marker": {
          "color": "rgb(255, 255, 255)"
         },
         "orientation": "h",
         "text": "",
         "type": "bar",
         "width": 0.5,
         "x": [
          1
         ],
         "xaxis": "x1",
         "y": [
          1
         ],
         "yaxis": "y1"
        },
        {
         "hoverinfo": "text",
         "marker": {
          "color": "rgb(255, 255, 255)"
         },
         "orientation": "h",
         "text": "",
         "type": "bar",
         "width": 0.5,
         "x": [
          1
         ],
         "xaxis": "x1",
         "y": [
          1
         ],
         "yaxis": "y1"
        },
        {
         "hoverinfo": "text",
         "marker": {
          "color": "rgb(255, 255, 255)"
         },
         "orientation": "h",
         "text": "",
         "type": "bar",
         "width": 0.5,
         "x": [
          1
         ],
         "xaxis": "x1",
         "y": [
          1
         ],
         "yaxis": "y1"
        },
        {
         "hoverinfo": "text",
         "marker": {
          "color": "rgb(255, 255, 255)"
         },
         "orientation": "h",
         "text": "",
         "type": "bar",
         "width": 0.5,
         "x": [
          1
         ],
         "xaxis": "x1",
         "y": [
          1
         ],
         "yaxis": "y1"
        },
        {
         "hoverinfo": "text",
         "marker": {
          "color": "rgb(255, 255, 255)"
         },
         "orientation": "h",
         "text": "",
         "type": "bar",
         "width": 0.5,
         "x": [
          1
         ],
         "xaxis": "x1",
         "y": [
          1
         ],
         "yaxis": "y1"
        },
        {
         "hoverinfo": "text",
         "marker": {
          "color": "rgb(255, 255, 255)"
         },
         "orientation": "h",
         "text": "",
         "type": "bar",
         "width": 0.5,
         "x": [
          1
         ],
         "xaxis": "x1",
         "y": [
          1
         ],
         "yaxis": "y1"
        },
        {
         "hoverinfo": "text",
         "marker": {
          "color": "rgb(255, 255, 255)"
         },
         "orientation": "h",
         "text": "",
         "type": "bar",
         "width": 0.5,
         "x": [
          1
         ],
         "xaxis": "x1",
         "y": [
          1
         ],
         "yaxis": "y1"
        },
        {
         "hoverinfo": "text",
         "marker": {
          "color": "rgb(255, 255, 255)"
         },
         "orientation": "h",
         "text": "",
         "type": "bar",
         "width": 0.5,
         "x": [
          1
         ],
         "xaxis": "x1",
         "y": [
          1
         ],
         "yaxis": "y1"
        },
        {
         "hoverinfo": "text",
         "marker": {
          "color": "rgb(255, 255, 255)"
         },
         "orientation": "h",
         "text": "",
         "type": "bar",
         "width": 0.5,
         "x": [
          1
         ],
         "xaxis": "x1",
         "y": [
          1
         ],
         "yaxis": "y1"
        },
        {
         "hoverinfo": "text",
         "marker": {
          "color": "rgb(255, 255, 255)"
         },
         "orientation": "h",
         "text": "",
         "type": "bar",
         "width": 0.5,
         "x": [
          1
         ],
         "xaxis": "x1",
         "y": [
          1
         ],
         "yaxis": "y1"
        },
        {
         "hoverinfo": "text",
         "marker": {
          "color": "rgb(255, 255, 255)"
         },
         "orientation": "h",
         "text": "",
         "type": "bar",
         "width": 0.5,
         "x": [
          1
         ],
         "xaxis": "x1",
         "y": [
          1
         ],
         "yaxis": "y1"
        },
        {
         "hoverinfo": "text",
         "marker": {
          "color": "rgb(255, 255, 255)"
         },
         "orientation": "h",
         "text": "",
         "type": "bar",
         "width": 0.5,
         "x": [
          1
         ],
         "xaxis": "x1",
         "y": [
          1
         ],
         "yaxis": "y1"
        },
        {
         "hoverinfo": "text",
         "marker": {
          "color": "rgb(255, 255, 255)"
         },
         "orientation": "h",
         "text": "",
         "type": "bar",
         "width": 0.5,
         "x": [
          1
         ],
         "xaxis": "x1",
         "y": [
          1
         ],
         "yaxis": "y1"
        },
        {
         "hoverinfo": "text",
         "marker": {
          "color": "rgb(255, 255, 255)"
         },
         "orientation": "h",
         "text": "",
         "type": "bar",
         "width": 0.5,
         "x": [
          1
         ],
         "xaxis": "x1",
         "y": [
          1
         ],
         "yaxis": "y1"
        },
        {
         "hoverinfo": "text",
         "marker": {
          "color": "rgb(255, 255, 255)"
         },
         "orientation": "h",
         "text": "",
         "type": "bar",
         "width": 0.5,
         "x": [
          1
         ],
         "xaxis": "x1",
         "y": [
          1
         ],
         "yaxis": "y1"
        },
        {
         "hoverinfo": "text",
         "marker": {
          "color": "rgb(255, 255, 255)"
         },
         "orientation": "h",
         "text": "",
         "type": "bar",
         "width": 0.5,
         "x": [
          1
         ],
         "xaxis": "x1",
         "y": [
          1
         ],
         "yaxis": "y1"
        }
       ],
       "layout": {
        "annotations": [
         {
          "align": "left",
          "font": {
           "color": "black",
           "family": "Arial",
           "size": 14
          },
          "showarrow": false,
          "text": "가",
          "x": 0.5,
          "xref": "x1",
          "y": 1,
          "yref": "y1"
         },
         {
          "align": "left",
          "font": {
           "color": "black",
           "family": "Arial",
           "size": 14
          },
          "showarrow": false,
          "text": "중",
          "x": 1.5,
          "xref": "x1",
          "y": 1,
          "yref": "y1"
         },
         {
          "align": "left",
          "font": {
           "color": "black",
           "family": "Arial",
           "size": 14
          },
          "showarrow": false,
          "text": "치",
          "x": 2.5,
          "xref": "x1",
          "y": 1,
          "yref": "y1"
         },
         {
          "align": "left",
          "font": {
           "color": "black",
           "family": "Arial",
           "size": 14
          },
          "showarrow": false,
          "text": "가",
          "x": 3.5,
          "xref": "x1",
          "y": 1,
          "yref": "y1"
         },
         {
          "align": "left",
          "font": {
           "color": "black",
           "family": "Arial",
           "size": 14
          },
          "showarrow": false,
          "text": "양",
          "x": 4.5,
          "xref": "x1",
          "y": 1,
          "yref": "y1"
         },
         {
          "align": "left",
          "font": {
           "color": "black",
           "family": "Arial",
           "size": 14
          },
          "showarrow": false,
          "text": "수",
          "x": 5.5,
          "xref": "x1",
          "y": 1,
          "yref": "y1"
         },
         {
          "align": "left",
          "font": {
           "color": "black",
           "family": "Arial",
           "size": 14
          },
          "showarrow": false,
          "text": "면",
          "x": 6.5,
          "xref": "x1",
          "y": 1,
          "yref": "y1"
         },
         {
          "align": "left",
          "font": {
           "color": "black",
           "family": "Arial",
           "size": 14
          },
          "showarrow": false,
          "text": "파",
          "x": 7.5,
          "xref": "x1",
          "y": 1,
          "yref": "y1"
         },
         {
          "align": "left",
          "font": {
           "color": "black",
           "family": "Arial",
           "size": 14
          },
          "showarrow": false,
          "text": "란",
          "x": 8.5,
          "xref": "x1",
          "y": 1,
          "yref": "y1"
         },
         {
          "align": "left",
          "font": {
           "color": "black",
           "family": "Arial",
           "size": 14
          },
          "showarrow": false,
          "text": "색",
          "x": 9.5,
          "xref": "x1",
          "y": 1,
          "yref": "y1"
         },
         {
          "align": "left",
          "font": {
           "color": "black",
           "family": "Arial",
           "size": 14
          },
          "showarrow": false,
          "text": ",",
          "x": 10.5,
          "xref": "x1",
          "y": 1,
          "yref": "y1"
         },
         {
          "align": "left",
          "font": {
           "color": "black",
           "family": "Arial",
           "size": 14
          },
          "showarrow": false,
          "text": "음",
          "x": 11.5,
          "xref": "x1",
          "y": 1,
          "yref": "y1"
         },
         {
          "align": "left",
          "font": {
           "color": "black",
           "family": "Arial",
           "size": 14
          },
          "showarrow": false,
          "text": "수",
          "x": 12.5,
          "xref": "x1",
          "y": 1,
          "yref": "y1"
         },
         {
          "align": "left",
          "font": {
           "color": "black",
           "family": "Arial",
           "size": 14
          },
          "showarrow": false,
          "text": "면",
          "x": 13.5,
          "xref": "x1",
          "y": 1,
          "yref": "y1"
         },
         {
          "align": "left",
          "font": {
           "color": "black",
           "family": "Arial",
           "size": 14
          },
          "showarrow": false,
          "text": "빨",
          "x": 14.5,
          "xref": "x1",
          "y": 1,
          "yref": "y1"
         },
         {
          "align": "left",
          "font": {
           "color": "black",
           "family": "Arial",
           "size": 14
          },
          "showarrow": false,
          "text": "간",
          "x": 15.5,
          "xref": "x1",
          "y": 1,
          "yref": "y1"
         },
         {
          "align": "left",
          "font": {
           "color": "black",
           "family": "Arial",
           "size": 14
          },
          "showarrow": false,
          "text": "색",
          "x": 16.5,
          "xref": "x1",
          "y": 1,
          "yref": "y1"
         },
         {
          "align": "left",
          "font": {
           "color": "black",
           "family": "Arial",
           "size": 14
          },
          "showarrow": false,
          "text": "으",
          "x": 17.5,
          "xref": "x1",
          "y": 1,
          "yref": "y1"
         },
         {
          "align": "left",
          "font": {
           "color": "black",
           "family": "Arial",
           "size": 14
          },
          "showarrow": false,
          "text": "로",
          "x": 18.5,
          "xref": "x1",
          "y": 1,
          "yref": "y1"
         },
         {
          "align": "left",
          "font": {
           "color": "black",
           "family": "Arial",
           "size": 14
          },
          "showarrow": false,
          "text": "음",
          "x": 19.5,
          "xref": "x1",
          "y": 1,
          "yref": "y1"
         },
         {
          "align": "left",
          "font": {
           "color": "black",
           "family": "Arial",
           "size": 14
          },
          "showarrow": false,
          "text": "영",
          "x": 20.5,
          "xref": "x1",
          "y": 1,
          "yref": "y1"
         },
         {
          "align": "left",
          "font": {
           "color": "black",
           "family": "Arial",
           "size": 14
          },
          "showarrow": false,
          "text": "을",
          "x": 21.5,
          "xref": "x1",
          "y": 1,
          "yref": "y1"
         },
         {
          "align": "left",
          "font": {
           "color": "black",
           "family": "Arial",
           "size": 14
          },
          "showarrow": false,
          "text": "표",
          "x": 22.5,
          "xref": "x1",
          "y": 1,
          "yref": "y1"
         },
         {
          "align": "left",
          "font": {
           "color": "black",
           "family": "Arial",
           "size": 14
          },
          "showarrow": false,
          "text": "현",
          "x": 23.5,
          "xref": "x1",
          "y": 1,
          "yref": "y1"
         },
         {
          "align": "left",
          "font": {
           "color": "black",
           "family": "Arial",
           "size": 14
          },
          "showarrow": false,
          "text": "합",
          "x": 24.5,
          "xref": "x1",
          "y": 1,
          "yref": "y1"
         },
         {
          "align": "left",
          "font": {
           "color": "black",
           "family": "Arial",
           "size": 14
          },
          "showarrow": false,
          "text": "니",
          "x": 25.5,
          "xref": "x1",
          "y": 1,
          "yref": "y1"
         },
         {
          "align": "left",
          "font": {
           "color": "black",
           "family": "Arial",
           "size": 14
          },
          "showarrow": false,
          "text": "다",
          "x": 26.5,
          "xref": "x1",
          "y": 1,
          "yref": "y1"
         },
         {
          "align": "left",
          "font": {
           "color": "black",
           "family": "Arial",
           "size": 14
          },
          "showarrow": false,
          "text": ".",
          "x": 27.5,
          "xref": "x1",
          "y": 1,
          "yref": "y1"
         }
        ],
        "barmode": "stack",
        "height": 80,
        "images": [
         {
          "layer": "above",
          "opacity": 0.3,
          "sizex": 0.7,
          "sizey": 0.7,
          "source": "https://raw.githubusercontent.com/fingeredman/teanaps/master/data/logo/teanaps_logo_no-bg.png",
          "x": 0.5,
          "xanchor": "center",
          "xref": "paper",
          "y": 0.6,
          "yanchor": "center",
          "yref": "paper"
         }
        ],
        "margin": {
         "b": 30,
         "l": 20,
         "r": 20,
         "t": 10
        },
        "showlegend": false,
        "xaxis1": {
         "anchor": "y1",
         "domain": [
          0,
          1
         ],
         "showgrid": false,
         "showline": false,
         "showticklabels": false,
         "zeroline": false
        },
        "yaxis1": {
         "anchor": "x1",
         "domain": [
          0,
          1
         ],
         "showgrid": false,
         "showline": false,
         "showticklabels": false,
         "zeroline": false
        }
       }
      },
      "text/html": [
       "<div id=\"90650c05-b242-4de5-98f2-972e381cc607\" style=\"height: 80px; width: 100%;\" class=\"plotly-graph-div\"></div><script type=\"text/javascript\">require([\"plotly\"], function(Plotly) { window.PLOTLYENV=window.PLOTLYENV || {};window.PLOTLYENV.BASE_URL=\"https://plot.ly\";Plotly.newPlot(\"90650c05-b242-4de5-98f2-972e381cc607\", [{\"type\": \"bar\", \"y\": [1], \"x\": [4], \"orientation\": \"h\", \"width\": 0.5, \"text\": \"\", \"hoverinfo\": \"text\", \"marker\": {\"color\": \"rgb(255, 255.0, 255.0)\"}, \"xaxis\": \"x1\", \"yaxis\": \"y1\"}, {\"type\": \"bar\", \"y\": [1], \"x\": [3], \"orientation\": \"h\", \"width\": 0.5, \"text\": \"0.6\", \"hoverinfo\": \"text\", \"marker\": {\"color\": \"rgb(135.0, 195.0, 255)\"}, \"xaxis\": \"x1\", \"yaxis\": \"y1\"}, {\"type\": \"bar\", \"y\": [1], \"x\": [4], \"orientation\": \"h\", \"width\": 0.5, \"text\": \"1.0\", \"hoverinfo\": \"text\", \"marker\": {\"color\": \"rgb(55.0, 155.0, 255)\"}, \"xaxis\": \"x1\", \"yaxis\": \"y1\"}, {\"type\": \"bar\", \"y\": [1], \"x\": [3], \"orientation\": \"h\", \"width\": 0.5, \"text\": \"0.6\", \"hoverinfo\": \"text\", \"marker\": {\"color\": \"rgb(255, 165.0, 165.0)\"}, \"xaxis\": \"x1\", \"yaxis\": \"y1\"}, {\"type\": \"bar\", \"y\": [1], \"x\": [5], \"orientation\": \"h\", \"width\": 0.5, \"text\": \"1.0\", \"hoverinfo\": \"text\", \"marker\": {\"color\": \"rgb(255, 105.0, 105.0)\"}, \"xaxis\": \"x1\", \"yaxis\": \"y1\"}, {\"type\": \"bar\", \"y\": [1], \"x\": [3], \"orientation\": \"h\", \"width\": 0.5, \"text\": \"\", \"hoverinfo\": \"text\", \"marker\": {\"color\": \"rgb(255, 255.0, 255.0)\"}, \"xaxis\": \"x1\", \"yaxis\": \"y1\"}, {\"type\": \"bar\", \"y\": [1], \"x\": [6], \"orientation\": \"h\", \"width\": 0.5, \"text\": \"\", \"hoverinfo\": \"text\", \"marker\": {\"color\": \"rgb(255, 255, 255)\"}, \"xaxis\": \"x1\", \"yaxis\": \"y1\"}, {\"type\": \"bar\", \"y\": [1], \"x\": [1], \"orientation\": \"h\", \"width\": 0.5, \"text\": \"\", \"hoverinfo\": \"text\", \"marker\": {\"color\": \"rgb(255, 255, 255)\"}, \"xaxis\": \"x1\", \"yaxis\": \"y1\"}, {\"type\": \"bar\", \"y\": [1], \"x\": [1], \"orientation\": \"h\", \"width\": 0.5, \"text\": \"\", \"hoverinfo\": \"text\", \"marker\": {\"color\": \"rgb(255, 255, 255)\"}, \"xaxis\": \"x1\", \"yaxis\": \"y1\"}, {\"type\": \"bar\", \"y\": [1], \"x\": [1], \"orientation\": \"h\", \"width\": 0.5, \"text\": \"\", \"hoverinfo\": \"text\", \"marker\": {\"color\": \"rgb(255, 255, 255)\"}, \"xaxis\": \"x1\", \"yaxis\": \"y1\"}, {\"type\": \"bar\", \"y\": [1], \"x\": [1], \"orientation\": \"h\", \"width\": 0.5, \"text\": \"\", \"hoverinfo\": \"text\", \"marker\": {\"color\": \"rgb(255, 255, 255)\"}, \"xaxis\": \"x1\", \"yaxis\": \"y1\"}, {\"type\": \"bar\", \"y\": [1], \"x\": [1], \"orientation\": \"h\", \"width\": 0.5, \"text\": \"\", \"hoverinfo\": \"text\", \"marker\": {\"color\": \"rgb(255, 255, 255)\"}, \"xaxis\": \"x1\", \"yaxis\": \"y1\"}, {\"type\": \"bar\", \"y\": [1], \"x\": [1], \"orientation\": \"h\", \"width\": 0.5, \"text\": \"\", \"hoverinfo\": \"text\", \"marker\": {\"color\": \"rgb(255, 255, 255)\"}, \"xaxis\": \"x1\", \"yaxis\": \"y1\"}, {\"type\": \"bar\", \"y\": [1], \"x\": [1], \"orientation\": \"h\", \"width\": 0.5, \"text\": \"\", \"hoverinfo\": \"text\", \"marker\": {\"color\": \"rgb(255, 255, 255)\"}, \"xaxis\": \"x1\", \"yaxis\": \"y1\"}, {\"type\": \"bar\", \"y\": [1], \"x\": [1], \"orientation\": \"h\", \"width\": 0.5, \"text\": \"\", \"hoverinfo\": \"text\", \"marker\": {\"color\": \"rgb(255, 255, 255)\"}, \"xaxis\": \"x1\", \"yaxis\": \"y1\"}, {\"type\": \"bar\", \"y\": [1], \"x\": [1], \"orientation\": \"h\", \"width\": 0.5, \"text\": \"\", \"hoverinfo\": \"text\", \"marker\": {\"color\": \"rgb(255, 255, 255)\"}, \"xaxis\": \"x1\", \"yaxis\": \"y1\"}, {\"type\": \"bar\", \"y\": [1], \"x\": [1], \"orientation\": \"h\", \"width\": 0.5, \"text\": \"\", \"hoverinfo\": \"text\", \"marker\": {\"color\": \"rgb(255, 255, 255)\"}, \"xaxis\": \"x1\", \"yaxis\": \"y1\"}, {\"type\": \"bar\", \"y\": [1], \"x\": [1], \"orientation\": \"h\", \"width\": 0.5, \"text\": \"\", \"hoverinfo\": \"text\", \"marker\": {\"color\": \"rgb(255, 255, 255)\"}, \"xaxis\": \"x1\", \"yaxis\": \"y1\"}, {\"type\": \"bar\", \"y\": [1], \"x\": [1], \"orientation\": \"h\", \"width\": 0.5, \"text\": \"\", \"hoverinfo\": \"text\", \"marker\": {\"color\": \"rgb(255, 255, 255)\"}, \"xaxis\": \"x1\", \"yaxis\": \"y1\"}, {\"type\": \"bar\", \"y\": [1], \"x\": [1], \"orientation\": \"h\", \"width\": 0.5, \"text\": \"\", \"hoverinfo\": \"text\", \"marker\": {\"color\": \"rgb(255, 255, 255)\"}, \"xaxis\": \"x1\", \"yaxis\": \"y1\"}, {\"type\": \"bar\", \"y\": [1], \"x\": [1], \"orientation\": \"h\", \"width\": 0.5, \"text\": \"\", \"hoverinfo\": \"text\", \"marker\": {\"color\": \"rgb(255, 255, 255)\"}, \"xaxis\": \"x1\", \"yaxis\": \"y1\"}, {\"type\": \"bar\", \"y\": [1], \"x\": [1], \"orientation\": \"h\", \"width\": 0.5, \"text\": \"\", \"hoverinfo\": \"text\", \"marker\": {\"color\": \"rgb(255, 255, 255)\"}, \"xaxis\": \"x1\", \"yaxis\": \"y1\"}, {\"type\": \"bar\", \"y\": [1], \"x\": [1], \"orientation\": \"h\", \"width\": 0.5, \"text\": \"\", \"hoverinfo\": \"text\", \"marker\": {\"color\": \"rgb(255, 255, 255)\"}, \"xaxis\": \"x1\", \"yaxis\": \"y1\"}, {\"type\": \"bar\", \"y\": [1], \"x\": [1], \"orientation\": \"h\", \"width\": 0.5, \"text\": \"\", \"hoverinfo\": \"text\", \"marker\": {\"color\": \"rgb(255, 255, 255)\"}, \"xaxis\": \"x1\", \"yaxis\": \"y1\"}, {\"type\": \"bar\", \"y\": [1], \"x\": [1], \"orientation\": \"h\", \"width\": 0.5, \"text\": \"\", \"hoverinfo\": \"text\", \"marker\": {\"color\": \"rgb(255, 255, 255)\"}, \"xaxis\": \"x1\", \"yaxis\": \"y1\"}, {\"type\": \"bar\", \"y\": [1], \"x\": [1], \"orientation\": \"h\", \"width\": 0.5, \"text\": \"\", \"hoverinfo\": \"text\", \"marker\": {\"color\": \"rgb(255, 255, 255)\"}, \"xaxis\": \"x1\", \"yaxis\": \"y1\"}, {\"type\": \"bar\", \"y\": [1], \"x\": [1], \"orientation\": \"h\", \"width\": 0.5, \"text\": \"\", \"hoverinfo\": \"text\", \"marker\": {\"color\": \"rgb(255, 255, 255)\"}, \"xaxis\": \"x1\", \"yaxis\": \"y1\"}, {\"type\": \"bar\", \"y\": [1], \"x\": [1], \"orientation\": \"h\", \"width\": 0.5, \"text\": \"\", \"hoverinfo\": \"text\", \"marker\": {\"color\": \"rgb(255, 255, 255)\"}, \"xaxis\": \"x1\", \"yaxis\": \"y1\"}, {\"type\": \"bar\", \"y\": [1], \"x\": [1], \"orientation\": \"h\", \"width\": 0.5, \"text\": \"\", \"hoverinfo\": \"text\", \"marker\": {\"color\": \"rgb(255, 255, 255)\"}, \"xaxis\": \"x1\", \"yaxis\": \"y1\"}], {\"xaxis1\": {\"domain\": [0.0, 1.0], \"anchor\": \"y1\", \"showgrid\": false, \"showline\": false, \"showticklabels\": false, \"zeroline\": false}, \"yaxis1\": {\"domain\": [0.0, 1.0], \"anchor\": \"x1\", \"showgrid\": false, \"showline\": false, \"showticklabels\": false, \"zeroline\": false}, \"barmode\": \"stack\", \"showlegend\": false, \"margin\": {\"b\": 30, \"l\": 20, \"r\": 20, \"t\": 10}, \"annotations\": [{\"xref\": \"x1\", \"yref\": \"y1\", \"x\": 0.5, \"y\": 1, \"text\": \"\\uac00\", \"align\": \"left\", \"font\": {\"family\": \"Arial\", \"size\": 14, \"color\": \"black\"}, \"showarrow\": false}, {\"xref\": \"x1\", \"yref\": \"y1\", \"x\": 1.5, \"y\": 1, \"text\": \"\\uc911\", \"align\": \"left\", \"font\": {\"family\": \"Arial\", \"size\": 14, \"color\": \"black\"}, \"showarrow\": false}, {\"xref\": \"x1\", \"yref\": \"y1\", \"x\": 2.5, \"y\": 1, \"text\": \"\\uce58\", \"align\": \"left\", \"font\": {\"family\": \"Arial\", \"size\": 14, \"color\": \"black\"}, \"showarrow\": false}, {\"xref\": \"x1\", \"yref\": \"y1\", \"x\": 3.5, \"y\": 1, \"text\": \"\\uac00\", \"align\": \"left\", \"font\": {\"family\": \"Arial\", \"size\": 14, \"color\": \"black\"}, \"showarrow\": false}, {\"xref\": \"x1\", \"yref\": \"y1\", \"x\": 4.5, \"y\": 1, \"text\": \"\\uc591\", \"align\": \"left\", \"font\": {\"family\": \"Arial\", \"size\": 14, \"color\": \"black\"}, \"showarrow\": false}, {\"xref\": \"x1\", \"yref\": \"y1\", \"x\": 5.5, \"y\": 1, \"text\": \"\\uc218\", \"align\": \"left\", \"font\": {\"family\": \"Arial\", \"size\": 14, \"color\": \"black\"}, \"showarrow\": false}, {\"xref\": \"x1\", \"yref\": \"y1\", \"x\": 6.5, \"y\": 1, \"text\": \"\\uba74\", \"align\": \"left\", \"font\": {\"family\": \"Arial\", \"size\": 14, \"color\": \"black\"}, \"showarrow\": false}, {\"xref\": \"x1\", \"yref\": \"y1\", \"x\": 7.5, \"y\": 1, \"text\": \"\\ud30c\", \"align\": \"left\", \"font\": {\"family\": \"Arial\", \"size\": 14, \"color\": \"black\"}, \"showarrow\": false}, {\"xref\": \"x1\", \"yref\": \"y1\", \"x\": 8.5, \"y\": 1, \"text\": \"\\ub780\", \"align\": \"left\", \"font\": {\"family\": \"Arial\", \"size\": 14, \"color\": \"black\"}, \"showarrow\": false}, {\"xref\": \"x1\", \"yref\": \"y1\", \"x\": 9.5, \"y\": 1, \"text\": \"\\uc0c9\", \"align\": \"left\", \"font\": {\"family\": \"Arial\", \"size\": 14, \"color\": \"black\"}, \"showarrow\": false}, {\"xref\": \"x1\", \"yref\": \"y1\", \"x\": 10.5, \"y\": 1, \"text\": \",\", \"align\": \"left\", \"font\": {\"family\": \"Arial\", \"size\": 14, \"color\": \"black\"}, \"showarrow\": false}, {\"xref\": \"x1\", \"yref\": \"y1\", \"x\": 11.5, \"y\": 1, \"text\": \"\\uc74c\", \"align\": \"left\", \"font\": {\"family\": \"Arial\", \"size\": 14, \"color\": \"black\"}, \"showarrow\": false}, {\"xref\": \"x1\", \"yref\": \"y1\", \"x\": 12.5, \"y\": 1, \"text\": \"\\uc218\", \"align\": \"left\", \"font\": {\"family\": \"Arial\", \"size\": 14, \"color\": \"black\"}, \"showarrow\": false}, {\"xref\": \"x1\", \"yref\": \"y1\", \"x\": 13.5, \"y\": 1, \"text\": \"\\uba74\", \"align\": \"left\", \"font\": {\"family\": \"Arial\", \"size\": 14, \"color\": \"black\"}, \"showarrow\": false}, {\"xref\": \"x1\", \"yref\": \"y1\", \"x\": 14.5, \"y\": 1, \"text\": \"\\ube68\", \"align\": \"left\", \"font\": {\"family\": \"Arial\", \"size\": 14, \"color\": \"black\"}, \"showarrow\": false}, {\"xref\": \"x1\", \"yref\": \"y1\", \"x\": 15.5, \"y\": 1, \"text\": \"\\uac04\", \"align\": \"left\", \"font\": {\"family\": \"Arial\", \"size\": 14, \"color\": \"black\"}, \"showarrow\": false}, {\"xref\": \"x1\", \"yref\": \"y1\", \"x\": 16.5, \"y\": 1, \"text\": \"\\uc0c9\", \"align\": \"left\", \"font\": {\"family\": \"Arial\", \"size\": 14, \"color\": \"black\"}, \"showarrow\": false}, {\"xref\": \"x1\", \"yref\": \"y1\", \"x\": 17.5, \"y\": 1, \"text\": \"\\uc73c\", \"align\": \"left\", \"font\": {\"family\": \"Arial\", \"size\": 14, \"color\": \"black\"}, \"showarrow\": false}, {\"xref\": \"x1\", \"yref\": \"y1\", \"x\": 18.5, \"y\": 1, \"text\": \"\\ub85c\", \"align\": \"left\", \"font\": {\"family\": \"Arial\", \"size\": 14, \"color\": \"black\"}, \"showarrow\": false}, {\"xref\": \"x1\", \"yref\": \"y1\", \"x\": 19.5, \"y\": 1, \"text\": \"\\uc74c\", \"align\": \"left\", \"font\": {\"family\": \"Arial\", \"size\": 14, \"color\": \"black\"}, \"showarrow\": false}, {\"xref\": \"x1\", \"yref\": \"y1\", \"x\": 20.5, \"y\": 1, \"text\": \"\\uc601\", \"align\": \"left\", \"font\": {\"family\": \"Arial\", \"size\": 14, \"color\": \"black\"}, \"showarrow\": false}, {\"xref\": \"x1\", \"yref\": \"y1\", \"x\": 21.5, \"y\": 1, \"text\": \"\\uc744\", \"align\": \"left\", \"font\": {\"family\": \"Arial\", \"size\": 14, \"color\": \"black\"}, \"showarrow\": false}, {\"xref\": \"x1\", \"yref\": \"y1\", \"x\": 22.5, \"y\": 1, \"text\": \"\\ud45c\", \"align\": \"left\", \"font\": {\"family\": \"Arial\", \"size\": 14, \"color\": \"black\"}, \"showarrow\": false}, {\"xref\": \"x1\", \"yref\": \"y1\", \"x\": 23.5, \"y\": 1, \"text\": \"\\ud604\", \"align\": \"left\", \"font\": {\"family\": \"Arial\", \"size\": 14, \"color\": \"black\"}, \"showarrow\": false}, {\"xref\": \"x1\", \"yref\": \"y1\", \"x\": 24.5, \"y\": 1, \"text\": \"\\ud569\", \"align\": \"left\", \"font\": {\"family\": \"Arial\", \"size\": 14, \"color\": \"black\"}, \"showarrow\": false}, {\"xref\": \"x1\", \"yref\": \"y1\", \"x\": 25.5, \"y\": 1, \"text\": \"\\ub2c8\", \"align\": \"left\", \"font\": {\"family\": \"Arial\", \"size\": 14, \"color\": \"black\"}, \"showarrow\": false}, {\"xref\": \"x1\", \"yref\": \"y1\", \"x\": 26.5, \"y\": 1, \"text\": \"\\ub2e4\", \"align\": \"left\", \"font\": {\"family\": \"Arial\", \"size\": 14, \"color\": \"black\"}, \"showarrow\": false}, {\"xref\": \"x1\", \"yref\": \"y1\", \"x\": 27.5, \"y\": 1, \"text\": \".\", \"align\": \"left\", \"font\": {\"family\": \"Arial\", \"size\": 14, \"color\": \"black\"}, \"showarrow\": false}], \"height\": 80, \"images\": [{\"source\": \"https://raw.githubusercontent.com/fingeredman/teanaps/master/data/logo/teanaps_logo_no-bg.png\", \"xref\": \"paper\", \"yref\": \"paper\", \"x\": 0.5, \"y\": 0.6, \"sizex\": 0.7, \"sizey\": 0.7, \"xanchor\": \"center\", \"yanchor\": \"center\", \"opacity\": 0.3, \"layer\": \"above\"}]}, {\"showLink\": true, \"linkText\": \"Export to plot.ly\"})});</script>"
      ],
      "text/vnd.plotly.v1+html": [
       "<div id=\"90650c05-b242-4de5-98f2-972e381cc607\" style=\"height: 80px; width: 100%;\" class=\"plotly-graph-div\"></div><script type=\"text/javascript\">require([\"plotly\"], function(Plotly) { window.PLOTLYENV=window.PLOTLYENV || {};window.PLOTLYENV.BASE_URL=\"https://plot.ly\";Plotly.newPlot(\"90650c05-b242-4de5-98f2-972e381cc607\", [{\"type\": \"bar\", \"y\": [1], \"x\": [4], \"orientation\": \"h\", \"width\": 0.5, \"text\": \"\", \"hoverinfo\": \"text\", \"marker\": {\"color\": \"rgb(255, 255.0, 255.0)\"}, \"xaxis\": \"x1\", \"yaxis\": \"y1\"}, {\"type\": \"bar\", \"y\": [1], \"x\": [3], \"orientation\": \"h\", \"width\": 0.5, \"text\": \"0.6\", \"hoverinfo\": \"text\", \"marker\": {\"color\": \"rgb(135.0, 195.0, 255)\"}, \"xaxis\": \"x1\", \"yaxis\": \"y1\"}, {\"type\": \"bar\", \"y\": [1], \"x\": [4], \"orientation\": \"h\", \"width\": 0.5, \"text\": \"1.0\", \"hoverinfo\": \"text\", \"marker\": {\"color\": \"rgb(55.0, 155.0, 255)\"}, \"xaxis\": \"x1\", \"yaxis\": \"y1\"}, {\"type\": \"bar\", \"y\": [1], \"x\": [3], \"orientation\": \"h\", \"width\": 0.5, \"text\": \"0.6\", \"hoverinfo\": \"text\", \"marker\": {\"color\": \"rgb(255, 165.0, 165.0)\"}, \"xaxis\": \"x1\", \"yaxis\": \"y1\"}, {\"type\": \"bar\", \"y\": [1], \"x\": [5], \"orientation\": \"h\", \"width\": 0.5, \"text\": \"1.0\", \"hoverinfo\": \"text\", \"marker\": {\"color\": \"rgb(255, 105.0, 105.0)\"}, \"xaxis\": \"x1\", \"yaxis\": \"y1\"}, {\"type\": \"bar\", \"y\": [1], \"x\": [3], \"orientation\": \"h\", \"width\": 0.5, \"text\": \"\", \"hoverinfo\": \"text\", \"marker\": {\"color\": \"rgb(255, 255.0, 255.0)\"}, \"xaxis\": \"x1\", \"yaxis\": \"y1\"}, {\"type\": \"bar\", \"y\": [1], \"x\": [6], \"orientation\": \"h\", \"width\": 0.5, \"text\": \"\", \"hoverinfo\": \"text\", \"marker\": {\"color\": \"rgb(255, 255, 255)\"}, \"xaxis\": \"x1\", \"yaxis\": \"y1\"}, {\"type\": \"bar\", \"y\": [1], \"x\": [1], \"orientation\": \"h\", \"width\": 0.5, \"text\": \"\", \"hoverinfo\": \"text\", \"marker\": {\"color\": \"rgb(255, 255, 255)\"}, \"xaxis\": \"x1\", \"yaxis\": \"y1\"}, {\"type\": \"bar\", \"y\": [1], \"x\": [1], \"orientation\": \"h\", \"width\": 0.5, \"text\": \"\", \"hoverinfo\": \"text\", \"marker\": {\"color\": \"rgb(255, 255, 255)\"}, \"xaxis\": \"x1\", \"yaxis\": \"y1\"}, {\"type\": \"bar\", \"y\": [1], \"x\": [1], \"orientation\": \"h\", \"width\": 0.5, \"text\": \"\", \"hoverinfo\": \"text\", \"marker\": {\"color\": \"rgb(255, 255, 255)\"}, \"xaxis\": \"x1\", \"yaxis\": \"y1\"}, {\"type\": \"bar\", \"y\": [1], \"x\": [1], \"orientation\": \"h\", \"width\": 0.5, \"text\": \"\", \"hoverinfo\": \"text\", \"marker\": {\"color\": \"rgb(255, 255, 255)\"}, \"xaxis\": \"x1\", \"yaxis\": \"y1\"}, {\"type\": \"bar\", \"y\": [1], \"x\": [1], \"orientation\": \"h\", \"width\": 0.5, \"text\": \"\", \"hoverinfo\": \"text\", \"marker\": {\"color\": \"rgb(255, 255, 255)\"}, \"xaxis\": \"x1\", \"yaxis\": \"y1\"}, {\"type\": \"bar\", \"y\": [1], \"x\": [1], \"orientation\": \"h\", \"width\": 0.5, \"text\": \"\", \"hoverinfo\": \"text\", \"marker\": {\"color\": \"rgb(255, 255, 255)\"}, \"xaxis\": \"x1\", \"yaxis\": \"y1\"}, {\"type\": \"bar\", \"y\": [1], \"x\": [1], \"orientation\": \"h\", \"width\": 0.5, \"text\": \"\", \"hoverinfo\": \"text\", \"marker\": {\"color\": \"rgb(255, 255, 255)\"}, \"xaxis\": \"x1\", \"yaxis\": \"y1\"}, {\"type\": \"bar\", \"y\": [1], \"x\": [1], \"orientation\": \"h\", \"width\": 0.5, \"text\": \"\", \"hoverinfo\": \"text\", \"marker\": {\"color\": \"rgb(255, 255, 255)\"}, \"xaxis\": \"x1\", \"yaxis\": \"y1\"}, {\"type\": \"bar\", \"y\": [1], \"x\": [1], \"orientation\": \"h\", \"width\": 0.5, \"text\": \"\", \"hoverinfo\": \"text\", \"marker\": {\"color\": \"rgb(255, 255, 255)\"}, \"xaxis\": \"x1\", \"yaxis\": \"y1\"}, {\"type\": \"bar\", \"y\": [1], \"x\": [1], \"orientation\": \"h\", \"width\": 0.5, \"text\": \"\", \"hoverinfo\": \"text\", \"marker\": {\"color\": \"rgb(255, 255, 255)\"}, \"xaxis\": \"x1\", \"yaxis\": \"y1\"}, {\"type\": \"bar\", \"y\": [1], \"x\": [1], \"orientation\": \"h\", \"width\": 0.5, \"text\": \"\", \"hoverinfo\": \"text\", \"marker\": {\"color\": \"rgb(255, 255, 255)\"}, \"xaxis\": \"x1\", \"yaxis\": \"y1\"}, {\"type\": \"bar\", \"y\": [1], \"x\": [1], \"orientation\": \"h\", \"width\": 0.5, \"text\": \"\", \"hoverinfo\": \"text\", \"marker\": {\"color\": \"rgb(255, 255, 255)\"}, \"xaxis\": \"x1\", \"yaxis\": \"y1\"}, {\"type\": \"bar\", \"y\": [1], \"x\": [1], \"orientation\": \"h\", \"width\": 0.5, \"text\": \"\", \"hoverinfo\": \"text\", \"marker\": {\"color\": \"rgb(255, 255, 255)\"}, \"xaxis\": \"x1\", \"yaxis\": \"y1\"}, {\"type\": \"bar\", \"y\": [1], \"x\": [1], \"orientation\": \"h\", \"width\": 0.5, \"text\": \"\", \"hoverinfo\": \"text\", \"marker\": {\"color\": \"rgb(255, 255, 255)\"}, \"xaxis\": \"x1\", \"yaxis\": \"y1\"}, {\"type\": \"bar\", \"y\": [1], \"x\": [1], \"orientation\": \"h\", \"width\": 0.5, \"text\": \"\", \"hoverinfo\": \"text\", \"marker\": {\"color\": \"rgb(255, 255, 255)\"}, \"xaxis\": \"x1\", \"yaxis\": \"y1\"}, {\"type\": \"bar\", \"y\": [1], \"x\": [1], \"orientation\": \"h\", \"width\": 0.5, \"text\": \"\", \"hoverinfo\": \"text\", \"marker\": {\"color\": \"rgb(255, 255, 255)\"}, \"xaxis\": \"x1\", \"yaxis\": \"y1\"}, {\"type\": \"bar\", \"y\": [1], \"x\": [1], \"orientation\": \"h\", \"width\": 0.5, \"text\": \"\", \"hoverinfo\": \"text\", \"marker\": {\"color\": \"rgb(255, 255, 255)\"}, \"xaxis\": \"x1\", \"yaxis\": \"y1\"}, {\"type\": \"bar\", \"y\": [1], \"x\": [1], \"orientation\": \"h\", \"width\": 0.5, \"text\": \"\", \"hoverinfo\": \"text\", \"marker\": {\"color\": \"rgb(255, 255, 255)\"}, \"xaxis\": \"x1\", \"yaxis\": \"y1\"}, {\"type\": \"bar\", \"y\": [1], \"x\": [1], \"orientation\": \"h\", \"width\": 0.5, \"text\": \"\", \"hoverinfo\": \"text\", \"marker\": {\"color\": \"rgb(255, 255, 255)\"}, \"xaxis\": \"x1\", \"yaxis\": \"y1\"}, {\"type\": \"bar\", \"y\": [1], \"x\": [1], \"orientation\": \"h\", \"width\": 0.5, \"text\": \"\", \"hoverinfo\": \"text\", \"marker\": {\"color\": \"rgb(255, 255, 255)\"}, \"xaxis\": \"x1\", \"yaxis\": \"y1\"}, {\"type\": \"bar\", \"y\": [1], \"x\": [1], \"orientation\": \"h\", \"width\": 0.5, \"text\": \"\", \"hoverinfo\": \"text\", \"marker\": {\"color\": \"rgb(255, 255, 255)\"}, \"xaxis\": \"x1\", \"yaxis\": \"y1\"}, {\"type\": \"bar\", \"y\": [1], \"x\": [1], \"orientation\": \"h\", \"width\": 0.5, \"text\": \"\", \"hoverinfo\": \"text\", \"marker\": {\"color\": \"rgb(255, 255, 255)\"}, \"xaxis\": \"x1\", \"yaxis\": \"y1\"}], {\"xaxis1\": {\"domain\": [0.0, 1.0], \"anchor\": \"y1\", \"showgrid\": false, \"showline\": false, \"showticklabels\": false, \"zeroline\": false}, \"yaxis1\": {\"domain\": [0.0, 1.0], \"anchor\": \"x1\", \"showgrid\": false, \"showline\": false, \"showticklabels\": false, \"zeroline\": false}, \"barmode\": \"stack\", \"showlegend\": false, \"margin\": {\"b\": 30, \"l\": 20, \"r\": 20, \"t\": 10}, \"annotations\": [{\"xref\": \"x1\", \"yref\": \"y1\", \"x\": 0.5, \"y\": 1, \"text\": \"\\uac00\", \"align\": \"left\", \"font\": {\"family\": \"Arial\", \"size\": 14, \"color\": \"black\"}, \"showarrow\": false}, {\"xref\": \"x1\", \"yref\": \"y1\", \"x\": 1.5, \"y\": 1, \"text\": \"\\uc911\", \"align\": \"left\", \"font\": {\"family\": \"Arial\", \"size\": 14, \"color\": \"black\"}, \"showarrow\": false}, {\"xref\": \"x1\", \"yref\": \"y1\", \"x\": 2.5, \"y\": 1, \"text\": \"\\uce58\", \"align\": \"left\", \"font\": {\"family\": \"Arial\", \"size\": 14, \"color\": \"black\"}, \"showarrow\": false}, {\"xref\": \"x1\", \"yref\": \"y1\", \"x\": 3.5, \"y\": 1, \"text\": \"\\uac00\", \"align\": \"left\", \"font\": {\"family\": \"Arial\", \"size\": 14, \"color\": \"black\"}, \"showarrow\": false}, {\"xref\": \"x1\", \"yref\": \"y1\", \"x\": 4.5, \"y\": 1, \"text\": \"\\uc591\", \"align\": \"left\", \"font\": {\"family\": \"Arial\", \"size\": 14, \"color\": \"black\"}, \"showarrow\": false}, {\"xref\": \"x1\", \"yref\": \"y1\", \"x\": 5.5, \"y\": 1, \"text\": \"\\uc218\", \"align\": \"left\", \"font\": {\"family\": \"Arial\", \"size\": 14, \"color\": \"black\"}, \"showarrow\": false}, {\"xref\": \"x1\", \"yref\": \"y1\", \"x\": 6.5, \"y\": 1, \"text\": \"\\uba74\", \"align\": \"left\", \"font\": {\"family\": \"Arial\", \"size\": 14, \"color\": \"black\"}, \"showarrow\": false}, {\"xref\": \"x1\", \"yref\": \"y1\", \"x\": 7.5, \"y\": 1, \"text\": \"\\ud30c\", \"align\": \"left\", \"font\": {\"family\": \"Arial\", \"size\": 14, \"color\": \"black\"}, \"showarrow\": false}, {\"xref\": \"x1\", \"yref\": \"y1\", \"x\": 8.5, \"y\": 1, \"text\": \"\\ub780\", \"align\": \"left\", \"font\": {\"family\": \"Arial\", \"size\": 14, \"color\": \"black\"}, \"showarrow\": false}, {\"xref\": \"x1\", \"yref\": \"y1\", \"x\": 9.5, \"y\": 1, \"text\": \"\\uc0c9\", \"align\": \"left\", \"font\": {\"family\": \"Arial\", \"size\": 14, \"color\": \"black\"}, \"showarrow\": false}, {\"xref\": \"x1\", \"yref\": \"y1\", \"x\": 10.5, \"y\": 1, \"text\": \",\", \"align\": \"left\", \"font\": {\"family\": \"Arial\", \"size\": 14, \"color\": \"black\"}, \"showarrow\": false}, {\"xref\": \"x1\", \"yref\": \"y1\", \"x\": 11.5, \"y\": 1, \"text\": \"\\uc74c\", \"align\": \"left\", \"font\": {\"family\": \"Arial\", \"size\": 14, \"color\": \"black\"}, \"showarrow\": false}, {\"xref\": \"x1\", \"yref\": \"y1\", \"x\": 12.5, \"y\": 1, \"text\": \"\\uc218\", \"align\": \"left\", \"font\": {\"family\": \"Arial\", \"size\": 14, \"color\": \"black\"}, \"showarrow\": false}, {\"xref\": \"x1\", \"yref\": \"y1\", \"x\": 13.5, \"y\": 1, \"text\": \"\\uba74\", \"align\": \"left\", \"font\": {\"family\": \"Arial\", \"size\": 14, \"color\": \"black\"}, \"showarrow\": false}, {\"xref\": \"x1\", \"yref\": \"y1\", \"x\": 14.5, \"y\": 1, \"text\": \"\\ube68\", \"align\": \"left\", \"font\": {\"family\": \"Arial\", \"size\": 14, \"color\": \"black\"}, \"showarrow\": false}, {\"xref\": \"x1\", \"yref\": \"y1\", \"x\": 15.5, \"y\": 1, \"text\": \"\\uac04\", \"align\": \"left\", \"font\": {\"family\": \"Arial\", \"size\": 14, \"color\": \"black\"}, \"showarrow\": false}, {\"xref\": \"x1\", \"yref\": \"y1\", \"x\": 16.5, \"y\": 1, \"text\": \"\\uc0c9\", \"align\": \"left\", \"font\": {\"family\": \"Arial\", \"size\": 14, \"color\": \"black\"}, \"showarrow\": false}, {\"xref\": \"x1\", \"yref\": \"y1\", \"x\": 17.5, \"y\": 1, \"text\": \"\\uc73c\", \"align\": \"left\", \"font\": {\"family\": \"Arial\", \"size\": 14, \"color\": \"black\"}, \"showarrow\": false}, {\"xref\": \"x1\", \"yref\": \"y1\", \"x\": 18.5, \"y\": 1, \"text\": \"\\ub85c\", \"align\": \"left\", \"font\": {\"family\": \"Arial\", \"size\": 14, \"color\": \"black\"}, \"showarrow\": false}, {\"xref\": \"x1\", \"yref\": \"y1\", \"x\": 19.5, \"y\": 1, \"text\": \"\\uc74c\", \"align\": \"left\", \"font\": {\"family\": \"Arial\", \"size\": 14, \"color\": \"black\"}, \"showarrow\": false}, {\"xref\": \"x1\", \"yref\": \"y1\", \"x\": 20.5, \"y\": 1, \"text\": \"\\uc601\", \"align\": \"left\", \"font\": {\"family\": \"Arial\", \"size\": 14, \"color\": \"black\"}, \"showarrow\": false}, {\"xref\": \"x1\", \"yref\": \"y1\", \"x\": 21.5, \"y\": 1, \"text\": \"\\uc744\", \"align\": \"left\", \"font\": {\"family\": \"Arial\", \"size\": 14, \"color\": \"black\"}, \"showarrow\": false}, {\"xref\": \"x1\", \"yref\": \"y1\", \"x\": 22.5, \"y\": 1, \"text\": \"\\ud45c\", \"align\": \"left\", \"font\": {\"family\": \"Arial\", \"size\": 14, \"color\": \"black\"}, \"showarrow\": false}, {\"xref\": \"x1\", \"yref\": \"y1\", \"x\": 23.5, \"y\": 1, \"text\": \"\\ud604\", \"align\": \"left\", \"font\": {\"family\": \"Arial\", \"size\": 14, \"color\": \"black\"}, \"showarrow\": false}, {\"xref\": \"x1\", \"yref\": \"y1\", \"x\": 24.5, \"y\": 1, \"text\": \"\\ud569\", \"align\": \"left\", \"font\": {\"family\": \"Arial\", \"size\": 14, \"color\": \"black\"}, \"showarrow\": false}, {\"xref\": \"x1\", \"yref\": \"y1\", \"x\": 25.5, \"y\": 1, \"text\": \"\\ub2c8\", \"align\": \"left\", \"font\": {\"family\": \"Arial\", \"size\": 14, \"color\": \"black\"}, \"showarrow\": false}, {\"xref\": \"x1\", \"yref\": \"y1\", \"x\": 26.5, \"y\": 1, \"text\": \"\\ub2e4\", \"align\": \"left\", \"font\": {\"family\": \"Arial\", \"size\": 14, \"color\": \"black\"}, \"showarrow\": false}, {\"xref\": \"x1\", \"yref\": \"y1\", \"x\": 27.5, \"y\": 1, \"text\": \".\", \"align\": \"left\", \"font\": {\"family\": \"Arial\", \"size\": 14, \"color\": \"black\"}, \"showarrow\": false}], \"height\": 80, \"images\": [{\"source\": \"https://raw.githubusercontent.com/fingeredman/teanaps/master/data/logo/teanaps_logo_no-bg.png\", \"xref\": \"paper\", \"yref\": \"paper\", \"x\": 0.5, \"y\": 0.6, \"sizex\": 0.7, \"sizey\": 0.7, \"xanchor\": \"center\", \"yanchor\": \"center\", \"opacity\": 0.3, \"layer\": \"above\"}]}, {\"showLink\": true, \"linkText\": \"Export to plot.ly\"})});</script>"
      ]
     },
     "metadata": {},
     "output_type": "display_data"
    }
   ],
   "source": [
    "sentence = \"가중치가 양수면 파란색, 음수면 빨간색으로 음영을 표현합니다.\"\n",
    "token_list = sentence.split(\" \")\n",
    "#token_list = ['가중치가', '양수면', '파란색,', \"음수면\", '빨간색으로', '표현합니다.']\n",
    "weight_list = [0, 3, 5, -3, -5, 0]\n",
    "\n",
    "tv.draw_sentence_attention(token_list, weight_list)"
   ]
  },
  {
   "cell_type": "markdown",
   "metadata": {},
   "source": [
    "### 6. 워드클라우드 (Wordcloud)\n",
    "\n",
    "---"
   ]
  },
  {
   "cell_type": "code",
   "execution_count": 13,
   "metadata": {},
   "outputs": [
    {
     "data": {
      "image/png": "[encoded data removed]",
      "text/plain": [
       "<Figure size 1440x1440 with 1 Axes>"
      ]
     },
     "metadata": {
      "needs_background": "light"
     },
     "output_type": "display_data"
    }
   ],
   "source": [
    "tf = {\n",
    "    \"TEANAPS\": 10,\n",
    "    \"teanaps.com\": 4,\n",
    "    \"fingeredman\": 2,\n",
    "    \"텍스트마이닝\": 3,\n",
    "    \"자연어처리\": 4,\n",
    "    \"감성분석\": 1,\n",
    "    \"단어빈도\": 1,\n",
    "    \"TFIDF\": 1,\n",
    "    \"요약\": 1,\n",
    "    \"단어네트워크\": 1,\n",
    "    \"형태소분석\": 1,\n",
    "    \"개체명인식\": 1,\n",
    "    \"구문분석\": 1\n",
    "}\n",
    "\n",
    "data_meta = {\n",
    "    \"weight_dict\": tf,\n",
    "}\n",
    "\n",
    "graph_meta = {\n",
    "    \"height\": 1000, \n",
    "    \"width\": 1000,\n",
    "    \"min_font_size\": 10,\n",
    "    \"max_font_size\": 500,\n",
    "    \"margin\": 10,\n",
    "    \"background_color\": \"white\"\n",
    "}\n",
    "\n",
    "tv.draw_wordcloud(data_meta, graph_meta)"
   ]
  },
  {
   "cell_type": "markdown",
   "metadata": {},
   "source": [
    "### 7. 네트워크 (Network)\n",
    "\n",
    "---"
   ]
  },
  {
   "cell_type": "code",
   "execution_count": 14,
   "metadata": {},
   "outputs": [
    {
     "data": {
      "text/html": [
       "\n",
       "                <script src=\"/static/components/requirejs/require.js\"></script>\n",
       "                <script>\n",
       "                  requirejs.config({\n",
       "                    paths: {\n",
       "                      base: '/static/base',\n",
       "                      plotly: 'https://cdn.plot.ly/plotly-latest.min.js?noext',\n",
       "                    },\n",
       "                  });\n",
       "                </script>\n",
       "                "
      ],
      "text/plain": [
       "<IPython.core.display.HTML object>"
      ]
     },
     "metadata": {},
     "output_type": "display_data"
    },
    {
     "data": {
      "application/vnd.plotly.v1+json": {
       "data": [
        {
         "hoverinfo": "none",
         "line": {
          "color": "#999",
          "width": 0.5
         },
         "mode": "lines",
         "type": "scatter",
         "x": [
          0.8672969310965521,
          -0.9587385989144195,
          null,
          0.8672969310965521,
          0.02218308315097183,
          null,
          0.8672969310965521,
          0.9075085504599295,
          null,
          0.8672969310965521,
          -0.17283517678225935,
          null,
          -0.9587385989144195,
          -0.6654147890107746,
          null,
          0.02218308315097183,
          -0.6654147890107746,
          null,
          -0.6654147890107746,
          -0.17283517678225935,
          null,
          -0.6654147890107746,
          0.9075085504599295,
          null
         ],
         "y": [
          -0.36804001115114876,
          0.32251553919742515,
          null,
          -0.36804001115114876,
          -1,
          null,
          -0.36804001115114876,
          0.5986607971638873,
          null,
          -0.36804001115114876,
          0.945280460257187,
          null,
          0.32251553919742515,
          -0.4984167854673505,
          null,
          -1,
          -0.4984167854673505,
          null,
          -0.4984167854673505,
          0.945280460257187,
          null,
          -0.4984167854673505,
          0.5986607971638873,
          null
         ]
        },
        {
         "hoverinfo": "text",
         "marker": {
          "color": [
           4,
           2,
           2,
           4,
           2,
           2
          ],
          "colorbar": {
           "thickness": 15,
           "title": "Weight",
           "titleside": "right",
           "xanchor": "left"
          },
          "colorscale": "YlOrRd",
          "line": {
           "color": "black",
           "width": 1
          },
          "reversescale": true,
          "showscale": true,
          "size": [
           200,
           141.4213562373095,
           141.4213562373095,
           173.20508075688772,
           141.4213562373095,
           141.4213562373095
          ]
         },
         "mode": "markers",
         "text": [
          "Node: a<br>weight: 4",
          "Node: b<br>weight: 2",
          "Node: c<br>weight: 2",
          "Node: d<br>weight: 3",
          "Node: f<br>weight: 2",
          "Node: e<br>weight: 2"
         ],
         "type": "scatter",
         "x": [
          0.8672969310965521,
          -0.9587385989144195,
          0.02218308315097183,
          -0.6654147890107746,
          -0.17283517678225935,
          0.9075085504599295
         ],
         "y": [
          -0.36804001115114876,
          0.32251553919742515,
          -1,
          -0.4984167854673505,
          0.945280460257187,
          0.5986607971638873
         ]
        }
       ],
       "layout": {
        "height": 1000,
        "hovermode": "closest",
        "images": [
         {
          "layer": "above",
          "opacity": 0.3,
          "sizex": 0.7,
          "sizey": 0.7,
          "source": "https://raw.githubusercontent.com/fingeredman/teanaps/master/data/logo/teanaps_logo_no-bg.png",
          "x": 0.5,
          "xanchor": "center",
          "xref": "paper",
          "y": 0.6,
          "yanchor": "center",
          "yref": "paper"
         }
        ],
        "margin": {
         "b": 20,
         "l": 5,
         "r": 5,
         "t": 40
        },
        "showlegend": false,
        "title": "WORD NETWORK",
        "titlefont": {
         "size": 16
        },
        "width": 1000,
        "xaxis": {
         "showgrid": false,
         "showticklabels": false,
         "zeroline": false
        },
        "yaxis": {
         "showgrid": false,
         "showticklabels": false,
         "zeroline": false
        }
       }
      },
      "text/html": [
       "<div id=\"9c2b9926-7fd1-4b8f-adc3-4071da28f9f1\" style=\"height: 1000px; width: 1000px;\" class=\"plotly-graph-div\"></div><script type=\"text/javascript\">require([\"plotly\"], function(Plotly) { window.PLOTLYENV=window.PLOTLYENV || {};window.PLOTLYENV.BASE_URL=\"https://plot.ly\";Plotly.newPlot(\"9c2b9926-7fd1-4b8f-adc3-4071da28f9f1\", [{\"type\": \"scatter\", \"x\": [0.8672969310965521, -0.9587385989144195, null, 0.8672969310965521, 0.02218308315097183, null, 0.8672969310965521, 0.9075085504599295, null, 0.8672969310965521, -0.17283517678225935, null, -0.9587385989144195, -0.6654147890107746, null, 0.02218308315097183, -0.6654147890107746, null, -0.6654147890107746, -0.17283517678225935, null, -0.6654147890107746, 0.9075085504599295, null], \"y\": [-0.36804001115114876, 0.32251553919742515, null, -0.36804001115114876, -1.0, null, -0.36804001115114876, 0.5986607971638873, null, -0.36804001115114876, 0.945280460257187, null, 0.32251553919742515, -0.4984167854673505, null, -1.0, -0.4984167854673505, null, -0.4984167854673505, 0.945280460257187, null, -0.4984167854673505, 0.5986607971638873, null], \"line\": {\"width\": 0.5, \"color\": \"#999\"}, \"hoverinfo\": \"none\", \"mode\": \"lines\"}, {\"type\": \"scatter\", \"x\": [0.8672969310965521, -0.9587385989144195, 0.02218308315097183, -0.6654147890107746, -0.17283517678225935, 0.9075085504599295], \"y\": [-0.36804001115114876, 0.32251553919742515, -1.0, -0.4984167854673505, 0.945280460257187, 0.5986607971638873], \"text\": [\"Node: a<br>weight: 4\", \"Node: b<br>weight: 2\", \"Node: c<br>weight: 2\", \"Node: d<br>weight: 3\", \"Node: f<br>weight: 2\", \"Node: e<br>weight: 2\"], \"mode\": \"markers\", \"hoverinfo\": \"text\", \"marker\": {\"showscale\": true, \"colorscale\": \"YlOrRd\", \"reversescale\": true, \"color\": [4, 2, 2, 4, 2, 2], \"size\": [200.0, 141.4213562373095, 141.4213562373095, 173.20508075688772, 141.4213562373095, 141.4213562373095], \"colorbar\": {\"thickness\": 15, \"title\": \"Weight\", \"xanchor\": \"left\", \"titleside\": \"right\"}, \"line\": {\"width\": 1, \"color\": \"black\"}}}], {\"title\": \"WORD NETWORK\", \"titlefont\": {\"size\": 16}, \"showlegend\": false, \"hovermode\": \"closest\", \"images\": [{\"source\": \"https://raw.githubusercontent.com/fingeredman/teanaps/master/data/logo/teanaps_logo_no-bg.png\", \"xref\": \"paper\", \"yref\": \"paper\", \"x\": 0.5, \"y\": 0.6, \"sizex\": 0.7, \"sizey\": 0.7, \"xanchor\": \"center\", \"yanchor\": \"center\", \"opacity\": 0.3, \"layer\": \"above\"}], \"width\": 1000, \"height\": 1000, \"margin\": {\"b\": 20, \"l\": 5, \"r\": 5, \"t\": 40}, \"xaxis\": {\"showgrid\": false, \"zeroline\": false, \"showticklabels\": false}, \"yaxis\": {\"showgrid\": false, \"zeroline\": false, \"showticklabels\": false}}, {\"showLink\": true, \"linkText\": \"Export to plot.ly\"})});</script>"
      ],
      "text/vnd.plotly.v1+html": [
       "<div id=\"9c2b9926-7fd1-4b8f-adc3-4071da28f9f1\" style=\"height: 1000px; width: 1000px;\" class=\"plotly-graph-div\"></div><script type=\"text/javascript\">require([\"plotly\"], function(Plotly) { window.PLOTLYENV=window.PLOTLYENV || {};window.PLOTLYENV.BASE_URL=\"https://plot.ly\";Plotly.newPlot(\"9c2b9926-7fd1-4b8f-adc3-4071da28f9f1\", [{\"type\": \"scatter\", \"x\": [0.8672969310965521, -0.9587385989144195, null, 0.8672969310965521, 0.02218308315097183, null, 0.8672969310965521, 0.9075085504599295, null, 0.8672969310965521, -0.17283517678225935, null, -0.9587385989144195, -0.6654147890107746, null, 0.02218308315097183, -0.6654147890107746, null, -0.6654147890107746, -0.17283517678225935, null, -0.6654147890107746, 0.9075085504599295, null], \"y\": [-0.36804001115114876, 0.32251553919742515, null, -0.36804001115114876, -1.0, null, -0.36804001115114876, 0.5986607971638873, null, -0.36804001115114876, 0.945280460257187, null, 0.32251553919742515, -0.4984167854673505, null, -1.0, -0.4984167854673505, null, -0.4984167854673505, 0.945280460257187, null, -0.4984167854673505, 0.5986607971638873, null], \"line\": {\"width\": 0.5, \"color\": \"#999\"}, \"hoverinfo\": \"none\", \"mode\": \"lines\"}, {\"type\": \"scatter\", \"x\": [0.8672969310965521, -0.9587385989144195, 0.02218308315097183, -0.6654147890107746, -0.17283517678225935, 0.9075085504599295], \"y\": [-0.36804001115114876, 0.32251553919742515, -1.0, -0.4984167854673505, 0.945280460257187, 0.5986607971638873], \"text\": [\"Node: a<br>weight: 4\", \"Node: b<br>weight: 2\", \"Node: c<br>weight: 2\", \"Node: d<br>weight: 3\", \"Node: f<br>weight: 2\", \"Node: e<br>weight: 2\"], \"mode\": \"markers\", \"hoverinfo\": \"text\", \"marker\": {\"showscale\": true, \"colorscale\": \"YlOrRd\", \"reversescale\": true, \"color\": [4, 2, 2, 4, 2, 2], \"size\": [200.0, 141.4213562373095, 141.4213562373095, 173.20508075688772, 141.4213562373095, 141.4213562373095], \"colorbar\": {\"thickness\": 15, \"title\": \"Weight\", \"xanchor\": \"left\", \"titleside\": \"right\"}, \"line\": {\"width\": 1, \"color\": \"black\"}}}], {\"title\": \"WORD NETWORK\", \"titlefont\": {\"size\": 16}, \"showlegend\": false, \"hovermode\": \"closest\", \"images\": [{\"source\": \"https://raw.githubusercontent.com/fingeredman/teanaps/master/data/logo/teanaps_logo_no-bg.png\", \"xref\": \"paper\", \"yref\": \"paper\", \"x\": 0.5, \"y\": 0.6, \"sizex\": 0.7, \"sizey\": 0.7, \"xanchor\": \"center\", \"yanchor\": \"center\", \"opacity\": 0.3, \"layer\": \"above\"}], \"width\": 1000, \"height\": 1000, \"margin\": {\"b\": 20, \"l\": 5, \"r\": 5, \"t\": 40}, \"xaxis\": {\"showgrid\": false, \"zeroline\": false, \"showticklabels\": false}, \"yaxis\": {\"showgrid\": false, \"zeroline\": false, \"showticklabels\": false}}, {\"showLink\": true, \"linkText\": \"Export to plot.ly\"})});</script>"
      ]
     },
     "metadata": {},
     "output_type": "display_data"
    }
   ],
   "source": [
    "data_meta = {\n",
    "    \"node_list\": [\"a\", \"b\", \"c\", \"d\", \"e\", \"f\"],\n",
    "    \"edge_list\": [(\"a\", \"b\", None), (\"c\", \"d\", None), (\"a\", \"c\", None), (\"b\", \"d\", None),\n",
    "                  (\"a\", \"f\", None), (\"a\", \"e\", None), (\"e\", \"d\", None), (\"d\", \"f\", None)],\n",
    "    \"weight_dict\": {\n",
    "        \"a\": 4,\n",
    "        \"b\": 2,\n",
    "        \"c\": 2,\n",
    "        \"d\": 3,\n",
    "        \"e\": 2,\n",
    "        \"f\": 2\n",
    "    }\n",
    "}\n",
    "\n",
    "graph_meta = {\n",
    "    \"title\": \"WORD NETWORK\",\n",
    "    \"height\": 1000, \n",
    "    \"width\": 1000,\n",
    "    \"weight_name\": \"Weight\",\n",
    "}\n",
    "\n",
    "tv.draw_network(data_meta, graph_meta)"
   ]
  },
  {
   "cell_type": "code",
   "execution_count": null,
   "metadata": {},
   "outputs": [],
   "source": []
  }
 ],
 "metadata": {
  "kernelspec": {
   "display_name": "Python 3",
   "language": "python",
   "name": "python3"
  },
  "language_info": {
   "codemirror_mode": {
    "name": "ipython",
    "version": 3
   },
   "file_extension": ".py",
   "mimetype": "text/x-python",
   "name": "python",
   "nbconvert_exporter": "python",
   "pygments_lexer": "ipython3",
   "version": "3.8.3"
  }
 },
 "nbformat": 4,
 "nbformat_minor": 2
}
