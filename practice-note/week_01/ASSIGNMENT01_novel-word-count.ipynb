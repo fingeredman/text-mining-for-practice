{
 "cells": [
  {
   "cell_type": "markdown",
   "metadata": {},
   "source": [
    "# TEXT MINING for PRACTICE\n",
    "- 본 자료는 텍스트 마이닝을 활용한 연구 및 강의를 위한 목적으로 제작되었습니다.\n",
    "- 본 자료를 강의 목적으로 활용하고자 하시는 경우 꼭 아래 메일주소로 연락주세요.\n",
    "- 본 자료에 대한 허가되지 않은 배포를 금지합니다.\n",
    "- 강의, 저작권, 출판, 특허, 공동저자에 관련해서는 문의 바랍니다.\n",
    "- **Contact : 전병진(fingeredman@gmail.com)**\n",
    "\n",
    "---"
   ]
  },
  {
   "cell_type": "markdown",
   "metadata": {
    "collapsed": true
   },
   "source": [
    "## WEEK 01-4. Python 조건문과 반복문 다루기\n",
    "- Python에서 조건문과 반복문을 다루는 방법에 대해 다룹니다.\n",
    "\n",
    "---"
   ]
  },
  {
   "cell_type": "code",
   "execution_count": null,
   "metadata": {
    "collapsed": true
   },
   "outputs": [],
   "source": []
  },
  {
   "cell_type": "markdown",
   "metadata": {},
   "source": [
    "### Assignment 01. 소설에서 가장 많이 쓰이는 단어 알아보기\n",
    "> - 본 자료를 응용하여 소설 속에서 가장 많이 출현하는 단어를 추출하는 코드를 작성합니다.\n",
    "> - 소설 속에 가장 많이 출현하는 상위 100개 단어를 출력합니다.\n",
    "> - 소설 텍스트는 \"data/novel_sample_en.txt\", \"data/novel_sample_ko.txt\" 파일을 활용합니다.\n",
    "\n",
    "> HINT. 단어를 셀때 딕셔너리 자료구조를 활용하면 빠르고 편리합니다.\n",
    "\n",
    "---"
   ]
  },
  {
   "cell_type": "code",
   "execution_count": 1,
   "metadata": {},
   "outputs": [
    {
     "name": "stdout",
     "output_type": "stream",
     "text": [
      "4863\r"
     ]
    }
   ],
   "source": [
    "f = open(\"data/novel_sample_en.txt\", encoding=\"utf-8\")\n",
    "#f = open(\"data/novel_sample_ko.txt\", encoding=\"utf-8\")\n",
    "\n",
    "word_count = {}\n",
    "line_number = 0\n",
    "\n",
    "for line in f:\n",
    "    line_number += 1\n",
    "    print(line_number, end=\"\\r\")\n",
    "    line = line.strip()\n",
    "    word_list = line.split(\" \")\n",
    "    for word in word_list:\n",
    "        if word in word_count.keys():\n",
    "            word_count[word] += 1\n",
    "        else:\n",
    "            word_count[word] = 1\n",
    "    \n",
    "f.close()"
   ]
  },
  {
   "cell_type": "code",
   "execution_count": 2,
   "metadata": {},
   "outputs": [
    {
     "name": "stdout",
     "output_type": "stream",
     "text": [
      "\t1797\n",
      "the\t762\n",
      "I\t549\n",
      "and\t539\n",
      "to\t522\n",
      "of\t485\n",
      "a\t453\n",
      "in\t330\n",
      "is\t322\n",
      "my\t310\n",
      "with\t274\n",
      "that\t264\n",
      "you\t254\n",
      "thou\t228\n",
      "not\t223\n",
      "And\t217\n",
      "be\t208\n",
      "this\t198\n",
      "for\t178\n",
      "me\t177\n",
      "Rom.\t163\n",
      "it\t161\n",
      "thy\t144\n",
      "as\t129\n",
      "will\t128\n",
      "his\t128\n",
      "her\t121\n",
      "Jul.\t117\n",
      "have\t113\n",
      "or\t109\n",
      "but\t101\n",
      "Nurse.\t100\n",
      "your\t98\n",
      "by\t96\n",
      "from\t94\n",
      "all\t93\n",
      "he\t93\n",
      "shall\t92\n",
      "so\t92\n",
      "The\t90\n",
      "thee\t89\n",
      "To\t85\n",
      "are\t80\n",
      "O\t80\n",
      "she\t80\n",
      "Project\t78\n",
      "at\t78\n",
      "Enter\t78\n",
      "no\t77\n",
      "But\t76\n",
      "That\t76\n",
      "do\t76\n",
      "on\t75\n",
      "What\t71\n",
      "I'll\t71\n",
      "an\t67\n",
      "O,\t67\n",
      "A\t65\n",
      "Ben.\t64\n",
      "him\t63\n",
      "love\t62\n",
      "Mer.\t62\n",
      "our\t60\n",
      "For\t60\n",
      "what\t58\n",
      "good\t58\n",
      "may\t57\n",
      "if\t57\n",
      "we\t55\n",
      "am\t55\n",
      "Cap.\t53\n",
      "Gutenberg-tm\t53\n",
      "Friar.\t52\n",
      "Romeo\t51\n",
      "hath\t51\n",
      "would\t51\n",
      "My\t49\n",
      "should\t47\n",
      "more\t47\n",
      "their\t46\n",
      "art\t46\n",
      "any\t46\n",
      "must\t46\n",
      "This\t45\n",
      "such\t45\n",
      "they\t43\n",
      "one\t43\n",
      "If\t42\n",
      "some\t42\n",
      "can\t41\n",
      "upon\t40\n",
      "Thou\t40\n",
      "was\t40\n",
      "here\t39\n",
      "It\t39\n",
      "make\t39\n",
      "these\t38\n",
      "which\t38\n",
      "then\t38\n",
      "come\t38\n"
     ]
    }
   ],
   "source": [
    "word_count_list = []\n",
    "\n",
    "for word, count in word_count.items():\n",
    "    word_count_list.append([word, count])\n",
    "\n",
    "word_count_list.sort(key=lambda elem: elem[1], reverse=True)\n",
    "\n",
    "for word, count in word_count_list[:100]:\n",
    "    print(word + \"\\t\" + str(count))"
   ]
  }
 ],
 "metadata": {
  "kernelspec": {
   "display_name": "Python 3",
   "language": "python",
   "name": "python3"
  },
  "language_info": {
   "codemirror_mode": {
    "name": "ipython",
    "version": 3
   },
   "file_extension": ".py",
   "mimetype": "text/x-python",
   "name": "python",
   "nbconvert_exporter": "python",
   "pygments_lexer": "ipython3",
   "version": "3.6.8"
  }
 },
 "nbformat": 4,
 "nbformat_minor": 2
}
