{
 "cells": [
  {
   "cell_type": "markdown",
   "metadata": {
    "id": "4c9gPfDlDxXW"
   },
   "source": [
    "# TEXT MINING for PRACTICE\n",
    "- 본 자료는 텍스트 마이닝을 활용한 연구 및 강의를 위한 목적으로 제작되었습니다.\n",
    "- 본 자료를 강의 목적으로 활용하고자 하시는 경우 꼭 아래 메일주소로 연락주세요.\n",
    "- 본 자료에 대한 허가되지 않은 배포를 금지합니다.\n",
    "- 강의, 저작권, 출판, 특허, 공동저자에 관련해서는 문의 바랍니다.\n",
    "- **Contact : ADMIN(admin@teanaps.com)**\n",
    "\n",
    "---"
   ]
  },
  {
   "cell_type": "markdown",
   "metadata": {
    "id": "liJEK0lZDxXZ"
   },
   "source": [
    "## WEEK 01-1. 실습환경: Python 3.7 & Jupyter Notebook & Google Colaboratory\n",
    "- Google Colaboratory를 활용한 Python 프로그래밍 환경에 대해 다룹니다.\n",
    "\n",
    "---"
   ]
  },
  {
   "cell_type": "markdown",
   "metadata": {
    "id": "rhdWH1xGFjRL"
   },
   "source": [
    "### 1. 셀을 추가/삭제/이동할 수 있습니다.\n",
    "\n",
    "---"
   ]
  },
  {
   "cell_type": "code",
   "execution_count": null,
   "metadata": {
    "id": "X1gtMJsRF1cP"
   },
   "outputs": [],
   "source": []
  },
  {
   "cell_type": "code",
   "execution_count": null,
   "metadata": {
    "id": "h1xG1EPZF0ox"
   },
   "outputs": [],
   "source": []
  },
  {
   "cell_type": "markdown",
   "metadata": {
    "id": "9jl6agpvF0dj"
   },
   "source": []
  },
  {
   "cell_type": "markdown",
   "metadata": {
    "id": "edfWAbDjF3FH"
   },
   "source": []
  },
  {
   "cell_type": "markdown",
   "metadata": {
    "id": "QRZPpNTxEX8T"
   },
   "source": [
    "### 2. 셀에 Markdowon 문법을 활용하여 문서를 작성합니다.\n",
    "\n",
    "---"
   ]
  },
  {
   "cell_type": "code",
   "execution_count": 1,
   "metadata": {
    "executionInfo": {
     "elapsed": 6,
     "status": "ok",
     "timestamp": 1629891330294,
     "user": {
      "displayName": "Byeongjin Jeon",
      "photoUrl": "https://lh3.googleusercontent.com/a-/AOh14GgnMwWLhBRx6YKsTCajAvaS-5c-TiJzTUNG1k7Sgw=s64",
      "userId": "01151709893250942659"
     },
     "user_tz": -540
    },
    "id": "JcQ4K3fqF7D3"
   },
   "outputs": [],
   "source": [
    "# 간단한 메모는 주석으로 입력할 수 있습니다."
   ]
  },
  {
   "cell_type": "markdown",
   "metadata": {
    "id": "t8nlQaP6Er9Z"
   },
   "source": [
    "# 제목을 작성합니다.\n",
    "## 샵(#)이 여러개일수록 제목이 작게 표현됩니다.\n",
    "### 제목2\n",
    "#### 제목3\n",
    "\n",
    "1. 순서가 있는 항목을 작성합니다.\n",
    "1. 하나\n",
    "1. 둘\n",
    "1. 셋\n",
    "\n",
    "- 순서가 없는 항목을 작성합니다.\n",
    "- 첫번째\n",
    "- 두번재\n",
    "- 세번째\n",
    "\n",
    "> 블럭 내에 내용을 작성합니다."
   ]
  },
  {
   "cell_type": "markdown",
   "metadata": {
    "id": "8auu2eHRD8dU"
   },
   "source": [
    "### 3. 셀에 Python 코드를 입력하고 실행합니다.\n",
    "\n",
    "---"
   ]
  },
  {
   "cell_type": "code",
   "execution_count": 2,
   "metadata": {
    "id": "sWZkKm9TDxXa",
    "outputId": "a2e18398-6adb-4eab-a9f5-b6d9bc4066cc"
   },
   "outputs": [
    {
     "name": "stdout",
     "output_type": "stream",
     "text": [
      "hello world!\n"
     ]
    }
   ],
   "source": [
    "print(\"hello world!\")"
   ]
  },
  {
   "cell_type": "markdown",
   "metadata": {
    "id": "0ot9OneHETTC"
   },
   "source": [
    "### 4. 자신의 Google Drive에 새로운 파일을 생성하거나 저장된 파일을 불러옵니다.\n",
    "\n",
    "---"
   ]
  },
  {
   "cell_type": "code",
   "execution_count": null,
   "metadata": {
    "id": "i3WQfMTBGbJX"
   },
   "outputs": [],
   "source": [
    "from google.colab import drive\n",
    "drive.mount('/content/drive')"
   ]
  },
  {
   "cell_type": "code",
   "execution_count": 3,
   "metadata": {
    "id": "KlDltG5wGpxN"
   },
   "outputs": [],
   "source": [
    "# 새로운 파일 생성\n",
    "f = open(\"sample_txt.txt\", \"w\", encoding=\"utf-8\")\n",
    "\n",
    "f.write(\"텍스트 마이닝을 위한 Python 프로그래밍\\n\")\n",
    "f.write(\"재미있는 텍스트 마이닝\\n\")\n",
    "f.write(\"텍스트 마이닝을 위한 Python 프로그래밍\\n\")\n",
    "\n",
    "f.close()"
   ]
  },
  {
   "cell_type": "code",
   "execution_count": 4,
   "metadata": {
    "id": "oKONhiPoGpm_"
   },
   "outputs": [
    {
     "name": "stdout",
     "output_type": "stream",
     "text": [
      "텍스트 마이닝을 위한 Python 프로그래밍\n",
      "\n",
      "재미있는 텍스트 마이닝\n",
      "\n",
      "텍스트 마이닝을 위한 Python 프로그래밍\n",
      "\n"
     ]
    }
   ],
   "source": [
    "# 저장된 파일 불러오기\n",
    "f = open(\"sample_txt.txt\", encoding=\"utf-8\")\n",
    "\n",
    "for line in f:\n",
    "    print(line)\n",
    "\n",
    "f.close()"
   ]
  },
  {
   "cell_type": "code",
   "execution_count": null,
   "metadata": {},
   "outputs": [],
   "source": []
  }
 ],
 "metadata": {
  "colab": {
   "collapsed_sections": [],
   "name": "W01-1_advanced-text-mining_colaboratory.ipynb",
   "provenance": []
  },
  "kernelspec": {
   "display_name": "Python 3",
   "language": "python",
   "name": "python3"
  },
  "language_info": {
   "codemirror_mode": {
    "name": "ipython",
    "version": 3
   },
   "file_extension": ".py",
   "mimetype": "text/x-python",
   "name": "python",
   "nbconvert_exporter": "python",
   "pygments_lexer": "ipython3",
   "version": "3.8.3"
  }
 },
 "nbformat": 4,
 "nbformat_minor": 1
}
