{
 "cells": [
  {
   "cell_type": "markdown",
   "metadata": {
    "colab_type": "text",
    "id": "bs61ph3V0RiI"
   },
   "source": [
    "# TEXT MINING for PRACTICE\n",
    "- 본 자료는 텍스트 마이닝을 활용한 연구 및 강의를 위한 목적으로 제작되었습니다.\n",
    "- 본 자료를 강의 목적으로 활용하고자 하시는 경우 꼭 아래 메일주소로 연락주세요.\n",
    "- 본 자료에 대한 허가되지 않은 배포를 금지합니다.\n",
    "- 강의, 저작권, 출판, 특허, 공동저자에 관련해서는 문의 바랍니다.\n",
    "- **Contact : 전병진(fingeredman@gmail.com)**\n",
    "\n",
    "---"
   ]
  },
  {
   "cell_type": "code",
   "execution_count": 1,
   "metadata": {
    "colab": {
     "base_uri": "https://localhost:8080/",
     "height": 34
    },
    "colab_type": "code",
    "executionInfo": {
     "elapsed": 2112,
     "status": "ok",
     "timestamp": 1566754183680,
     "user": {
      "displayName": "Byeongjin Jeon",
      "photoUrl": "https://lh3.googleusercontent.com/a-/AAuE7mCC5qExwwUCDV-h-7fJT6JN6tdWT8EyJxkB09uwrA=s64",
      "userId": "01151709893250942659"
     },
     "user_tz": -540
    },
    "id": "u27o_BPA0cIK",
    "outputId": "30071acf-fd22-401b-83e4-d3d38bbf548e"
   },
   "outputs": [],
   "source": [
    "#!ls"
   ]
  },
  {
   "cell_type": "code",
   "execution_count": 2,
   "metadata": {
    "colab": {
     "base_uri": "https://localhost:8080/",
     "height": 34
    },
    "colab_type": "code",
    "executionInfo": {
     "elapsed": 2260,
     "status": "ok",
     "timestamp": 1566754188011,
     "user": {
      "displayName": "Byeongjin Jeon",
      "photoUrl": "https://lh3.googleusercontent.com/a-/AAuE7mCC5qExwwUCDV-h-7fJT6JN6tdWT8EyJxkB09uwrA=s64",
      "userId": "01151709893250942659"
     },
     "user_tz": -540
    },
    "id": "LAQ1sr7l0cMr",
    "outputId": "a08ffc10-9871-4d67-e8d1-c3ae3278ad92"
   },
   "outputs": [],
   "source": [
    "# TEANAPS (https://github.com/fingeredman/teanaps)\n",
    "#!git clone https://github.com/fingeredman/teanaps.git"
   ]
  },
  {
   "cell_type": "code",
   "execution_count": 3,
   "metadata": {
    "colab": {
     "base_uri": "https://localhost:8080/",
     "height": 34
    },
    "colab_type": "code",
    "executionInfo": {
     "elapsed": 1798,
     "status": "ok",
     "timestamp": 1566754190565,
     "user": {
      "displayName": "Byeongjin Jeon",
      "photoUrl": "https://lh3.googleusercontent.com/a-/AAuE7mCC5qExwwUCDV-h-7fJT6JN6tdWT8EyJxkB09uwrA=s64",
      "userId": "01151709893250942659"
     },
     "user_tz": -540
    },
    "id": "ykQyVIzT0cQF",
    "outputId": "d6180e6f-ac37-494b-c5aa-755da12aa150"
   },
   "outputs": [],
   "source": [
    "#!ls"
   ]
  },
  {
   "cell_type": "markdown",
   "metadata": {
    "colab_type": "text",
    "id": "X_xdb4QV0TF9"
   },
   "source": [
    "## WEEK 09-2. 문서요약 알고리즘 활용하기: TextRank, LSA\n",
    "- Python으로 문서요약 알고리즘을 적용하는 방법에 대해 다룹니다.\n",
    "\n",
    "---"
   ]
  },
  {
   "cell_type": "code",
   "execution_count": 4,
   "metadata": {
    "colab": {
     "base_uri": "https://localhost:8080/",
     "height": 54
    },
    "colab_type": "code",
    "executionInfo": {
     "elapsed": 1572,
     "status": "ok",
     "timestamp": 1566754448453,
     "user": {
      "displayName": "Byeongjin Jeon",
      "photoUrl": "https://lh3.googleusercontent.com/a-/AAuE7mCC5qExwwUCDV-h-7fJT6JN6tdWT8EyJxkB09uwrA=s64",
      "userId": "01151709893250942659"
     },
     "user_tz": -540
    },
    "id": "kpSLpDZY0NXb",
    "outputId": "39a19157-34aa-413a-86f1-0c523000a9da"
   },
   "outputs": [
    {
     "data": {
      "text/html": [
       "<script>requirejs.config({paths: { 'plotly': ['https://cdn.plot.ly/plotly-latest.min']},});if(!window.Plotly) {{require(['plotly'],function(plotly) {window.Plotly=plotly;});}}</script>"
      ],
      "text/vnd.plotly.v1+html": [
       "<script>requirejs.config({paths: { 'plotly': ['https://cdn.plot.ly/plotly-latest.min']},});if(!window.Plotly) {{require(['plotly'],function(plotly) {window.Plotly=plotly;});}}</script>"
      ]
     },
     "metadata": {},
     "output_type": "display_data"
    },
    {
     "data": {
      "text/html": [
       "<script>requirejs.config({paths: { 'plotly': ['https://cdn.plot.ly/plotly-latest.min']},});if(!window.Plotly) {{require(['plotly'],function(plotly) {window.Plotly=plotly;});}}</script>"
      ],
      "text/vnd.plotly.v1+html": [
       "<script>requirejs.config({paths: { 'plotly': ['https://cdn.plot.ly/plotly-latest.min']},});if(!window.Plotly) {{require(['plotly'],function(plotly) {window.Plotly=plotly;});}}</script>"
      ]
     },
     "metadata": {},
     "output_type": "display_data"
    },
    {
     "data": {
      "text/html": [
       "<script>requirejs.config({paths: { 'plotly': ['https://cdn.plot.ly/plotly-latest.min']},});if(!window.Plotly) {{require(['plotly'],function(plotly) {window.Plotly=plotly;});}}</script>"
      ],
      "text/vnd.plotly.v1+html": [
       "<script>requirejs.config({paths: { 'plotly': ['https://cdn.plot.ly/plotly-latest.min']},});if(!window.Plotly) {{require(['plotly'],function(plotly) {window.Plotly=plotly;});}}</script>"
      ]
     },
     "metadata": {},
     "output_type": "display_data"
    },
    {
     "data": {
      "text/html": [
       "<script>requirejs.config({paths: { 'plotly': ['https://cdn.plot.ly/plotly-latest.min']},});if(!window.Plotly) {{require(['plotly'],function(plotly) {window.Plotly=plotly;});}}</script>"
      ],
      "text/vnd.plotly.v1+html": [
       "<script>requirejs.config({paths: { 'plotly': ['https://cdn.plot.ly/plotly-latest.min']},});if(!window.Plotly) {{require(['plotly'],function(plotly) {window.Plotly=plotly;});}}</script>"
      ]
     },
     "metadata": {},
     "output_type": "display_data"
    },
    {
     "data": {
      "text/plain": [
       "'일본 금융청(FSA) 대변인 외신 보도 공식 부인(지디넷코리아=황정빈 기자)일본이 비트코인 상장지수펀드(ETF) 승인을 고려하고 있지 않다고 공식적으로 발표했다. 현재로서는 ETF의 필요성을 인식하지 못했다는 설명이다.암호화폐 전문매체 비트코인닷컴은 13일(현지시간) 일본 금융청(FSA) 대변인이 일본은 비트코인 ETF 승인을 고려하지 않고 있다고 밝혔다고 보도했다.지난주 블룸버그를 비롯한 몇몇 외신은 일본이 비트코인 선물의 대안으로 비트코인 ETF 승인 가능성을 검토하고 있다고 보도했다.이런 보도가 나오면서 미국 증권거래위원회(SEC)가 올 2월말 결정할 반에크 비트코인 ETF 승인 기대감이 증폭됐다. 주요 시장에서 엄격한 규제를 받는 투자 대상의 출현으로 가격 조작의 위험이 줄어들기 때문이다.일본 금융청(FSA) 대변인이 비트코인 상장지수펀드(ETF) 승인을 고려하고 있지 않다고 공식적으로 발표했다.그러나 FSA 대변인은 지난 11일 비트코인닷컴과의 인터뷰에서 \"우리가 현재 암호화 자산을 추적하는 ETF 승인을 고려하고 있다는 사실은 없다\"며 \"현재 승인을 고려하고 있지 않다\"고 밝혔다.FSA는 암호화폐 파생상품에 대한 입장도 명확히 했다. FSA 대변인은 \"현재로서는 금융시장에서의 비트코인 선물 상장을 고려하고 있지 않다\"고 밝혔다.그는 \"현재 우리는 암호화 자산 파생상품 거래의 건설적이고 사회적인 중요성을 찾기가 어렵다는 점을 고려해, 많은 시장 참여자가 할 수 있는 금융상품 거래소에서 암호화 자산 파생상품을 거래할 필요가 없다고 생각한다\"고 설명했다.하지만 암호화폐 전문매체 CCN은 SEC는 국제 규제의 선두주자로 활동하는 것을 선호하기 때문에 일본의 비트코인 ETF나 다른 주요 암호화폐 시장이 SEC의 결정에 결코 영향을 미치지 않을 것이라고 전망했다.미국 정부 법률 변호사 제이크 체르빈스키는 \"해외 시장에서의 ETF 출시가 SEC의 결정에 미치는 영향은 미미할 것\"이라고 말한 바 있다.CCN은 이번 발표는 단기간에 주류 노출로 자산 등급을 제공할 수 있는 투자 수단으로 전환하기보다 국내 암호화폐 교환 시장의 기반 강화에 초점을 맞추려는 FSA와 일본 금융 당국의 의지를 보여준다고 분석했다.황정빈 기자(jungvinh@zdnet.co.kr)'"
      ]
     },
     "execution_count": 4,
     "metadata": {},
     "output_type": "execute_result"
    }
   ],
   "source": [
    "from teanaps.text_analysis import DocumentSummarizer\n",
    "\n",
    "document_list = []\n",
    "\n",
    "f = open(\"teanaps/data/article_sample.txt\", encoding=\"utf-8\")\n",
    "\n",
    "for line in f:\n",
    "    line = line.strip()\n",
    "    col = line.split(\"\\t\")\n",
    "    label = col[0]\n",
    "    source = col[1]\n",
    "    datetime = col[2]\n",
    "    title = col[3]\n",
    "    content = col[4]\n",
    "    document_list.append(content)\n",
    "f.close()\n",
    "\n",
    "target_document = document_list[10]\n",
    "target_document"
   ]
  },
  {
   "cell_type": "code",
   "execution_count": 5,
   "metadata": {
    "colab": {},
    "colab_type": "code",
    "collapsed": true,
    "id": "jnjbhpuH11lY"
   },
   "outputs": [],
   "source": [
    "f = open(\"article.txt\", \"w\", encoding=\"utf-8\")\n",
    "f.write(target_document)\n",
    "f.close()\n",
    "\n",
    "DOCUMENT_PATH = \"article.txt\"\n",
    "\n",
    "ds = DocumentSummarizer()\n",
    "ds.set_document(DOCUMENT_PATH)"
   ]
  },
  {
   "cell_type": "code",
   "execution_count": 6,
   "metadata": {
    "colab": {},
    "colab_type": "code",
    "collapsed": true,
    "id": "pP3Jtnz40NXf"
   },
   "outputs": [],
   "source": [
    "SUMMARIZER_TYPE = \"textrank\"\n",
    "\n",
    "MAX_SENTENCES = 3\n",
    "ds.summarize(SUMMARIZER_TYPE, MAX_SENTENCES)"
   ]
  },
  {
   "cell_type": "code",
   "execution_count": 7,
   "metadata": {
    "colab": {
     "base_uri": "https://localhost:8080/",
     "height": 34
    },
    "colab_type": "code",
    "executionInfo": {
     "elapsed": 567,
     "status": "ok",
     "timestamp": 1566754493335,
     "user": {
      "displayName": "Byeongjin Jeon",
      "photoUrl": "https://lh3.googleusercontent.com/a-/AAuE7mCC5qExwwUCDV-h-7fJT6JN6tdWT8EyJxkB09uwrA=s64",
      "userId": "01151709893250942659"
     },
     "user_tz": -540
    },
    "id": "i0NptHov0NXi",
    "outputId": "5294a3eb-e6be-49c4-f07a-ab246fa58840"
   },
   "outputs": [
    {
     "data": {
      "text/plain": [
       "['현재로서는 ETF의 필요성을 인식하지 못했다는 설명이다.암호화폐 전문매체 비트코인닷컴은 13일(현지시간) 일본 금융청(FSA) 대변인이 일본은 비트코인 ETF 승인을 고려하지 않고 있다고 밝혔다고 보도했다.지난주 블룸버그를 비롯한 몇몇 외신은 일본이 비트코인 선물의 대안으로 비트코인 ETF 승인 가능성을 검토하고 있다고 보도했다.이런 보도가 나오면서 미국 증권거래위원회(SEC)가 올 2월말 결정할 반에크 비트코인 ETF 승인 기대감이 증폭됐다.']"
      ]
     },
     "execution_count": 7,
     "metadata": {},
     "output_type": "execute_result"
    }
   ],
   "source": [
    "ds.get_result()"
   ]
  },
  {
   "cell_type": "code",
   "execution_count": 8,
   "metadata": {
    "colab": {},
    "colab_type": "code",
    "collapsed": true,
    "id": "VWD4MbK50NXk"
   },
   "outputs": [],
   "source": [
    "SUMMARIZER_TYPE = \"lsa\"\n",
    "\n",
    "MAX_SENTENCES = 3\n",
    "ds.summarize(SUMMARIZER_TYPE, MAX_SENTENCES)"
   ]
  },
  {
   "cell_type": "code",
   "execution_count": 9,
   "metadata": {
    "colab": {
     "base_uri": "https://localhost:8080/",
     "height": 88
    },
    "colab_type": "code",
    "executionInfo": {
     "elapsed": 563,
     "status": "ok",
     "timestamp": 1566754515090,
     "user": {
      "displayName": "Byeongjin Jeon",
      "photoUrl": "https://lh3.googleusercontent.com/a-/AAuE7mCC5qExwwUCDV-h-7fJT6JN6tdWT8EyJxkB09uwrA=s64",
      "userId": "01151709893250942659"
     },
     "user_tz": -540
    },
    "id": "Rd2s11BN0NXn",
    "outputId": "52b13d77-8dc8-4b75-a4f6-c2989a9b8124"
   },
   "outputs": [
    {
     "data": {
      "text/plain": [
       "['일본 금융청(FSA) 대변인 외신 보도 공식 부인(지디넷코리아=황정빈 기자)일본이 비트코인 상장지수펀드(ETF) 승인을 고려하고 있지 않다고 공식적으로 발표했다.',\n",
       " '주요 시장에서 엄격한 규제를 받는 투자 대상의 출현으로 가격 조작의 위험이 줄어들기 때문이다.일본 금융청(FSA) 대변인이 비트코인 상장지수펀드(ETF) 승인을 고려하고 있지 않다고 공식적으로 발표했다.그러나 FSA 대변인은 지난 11일 비트코인닷컴과의 인터뷰에서 \"우리가 현재 암호화 자산을 추적하는 ETF 승인을 고려하고 있다는 사실은 없다\"며 \"현재 승인을 고려하고 있지 않다\"고 밝혔다.FSA는 암호화폐 파생상품에 대한 입장도 명확히 했다.',\n",
       " 'FSA 대변인은 \"현재로서는 금융시장에서의 비트코인 선물 상장을 고려하고 있지 않다\"고 밝혔다.그는 \"현재 우리는 암호화 자산 파생상품 거래의 건설적이고 사회적인 중요성을 찾기가 어렵다는 점을 고려해, 많은 시장 참여자가 할 수 있는 금융상품 거래소에서 암호화 자산 파생상품을 거래할 필요가 없다고 생각한다\"고 설명했다.하지만 암호화폐 전문매체 CCN은 SEC는 국제 규제의 선두주자로 활동하는 것을 선호하기 때문에 일본의 비트코인 ETF나 다른 주요 암호화폐 시장이 SEC의 결정에 결코 영향을 미치지 않을 것이라고 전망했다.미국 정부 법률 변호사 제이크 체르빈스키는 \"해외 시장에서의 ETF 출시가 SEC의 결정에 미치는 영향은 미미할 것\"이라고 말한 바 있다.CCN은 이번 발표는 단기간에 주류 노출로 자산 등급을 제공할 수 있는 투자 수단으로 전환하기보다 국내 암호화폐 교환 시장의 기반 강화에 초점을 맞추려는 FSA와 일본 금융 당국의 의지를 보여준다고 분석했다.황정빈 기자(jungvinh@zdnet.co.kr)']"
      ]
     },
     "execution_count": 9,
     "metadata": {},
     "output_type": "execute_result"
    }
   ],
   "source": [
    "ds.get_result()"
   ]
  },
  {
   "cell_type": "code",
   "execution_count": null,
   "metadata": {
    "colab": {},
    "colab_type": "code",
    "collapsed": true,
    "id": "qurgz7PX0NXp"
   },
   "outputs": [],
   "source": []
  }
 ],
 "metadata": {
  "colab": {
   "collapsed_sections": [],
   "name": "W09-1_text-mining-for-practice_python-summarization.ipynb",
   "provenance": [],
   "version": "0.3.2"
  },
  "kernelspec": {
   "display_name": "Python 3",
   "language": "python",
   "name": "python3"
  },
  "language_info": {
   "codemirror_mode": {
    "name": "ipython",
    "version": 3
   },
   "file_extension": ".py",
   "mimetype": "text/x-python",
   "name": "python",
   "nbconvert_exporter": "python",
   "pygments_lexer": "ipython3",
   "version": "3.6.8"
  }
 },
 "nbformat": 4,
 "nbformat_minor": 1
}
