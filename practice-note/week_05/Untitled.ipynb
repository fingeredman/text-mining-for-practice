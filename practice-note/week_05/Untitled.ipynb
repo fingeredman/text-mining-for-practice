{
 "cells": [
  {
   "cell_type": "code",
   "execution_count": 9,
   "metadata": {},
   "outputs": [],
   "source": [
    "from konlpy.tag import Kkma\n",
    "\n",
    "kkma = Kkma()"
   ]
  },
  {
   "cell_type": "code",
   "execution_count": 10,
   "metadata": {},
   "outputs": [
    {
     "name": "stdout",
     "output_type": "stream",
     "text": [
      "['안녕', '텍스트', '마이닝', '수강생', '분']\n"
     ]
    }
   ],
   "source": [
    "result = kkma.nouns(\"안녕하세요. 텍스트 마이닝 수강생 여러분.\")\n",
    "print(result)"
   ]
  },
  {
   "cell_type": "code",
   "execution_count": 11,
   "metadata": {},
   "outputs": [
    {
     "name": "stdout",
     "output_type": "stream",
     "text": [
      "858\r"
     ]
    }
   ],
   "source": [
    "word_count = {}\n",
    "\n",
    "f = open(\"data/novel_sample_ko.txt\", encoding=\"utf-8\")\n",
    "\n",
    "line_number = 0\n",
    "\n",
    "for line in f:\n",
    "    line_number += 1\n",
    "    print(line_number, end=\"\\r\")\n",
    "    # 여기에 코드를 작성합니다.\n",
    "    #word_list = line.split(\" \") #word_list = [오늘은, 아침을, 먹었습니다.]\n",
    "    word_list = kkma.pos(line)\n",
    "    for word in word_list:\n",
    "        if word in word_count.keys():\n",
    "            word_count[word] += 1\n",
    "        else:\n",
    "            word_count[word] = 1\n",
    "    #\n",
    "    \n",
    "f.close()"
   ]
  },
  {
   "cell_type": "code",
   "execution_count": 12,
   "metadata": {},
   "outputs": [
    {
     "name": "stdout",
     "output_type": "stream",
     "text": [
      "그\t249\n",
      "자기\t216\n",
      "말\t212\n",
      "사람\t198\n",
      "생각\t170\n",
      "수\t159\n",
      "사랑\t143\n",
      "나\t134\n",
      "일\t130\n",
      "아내\t115\n",
      "마음\t104\n",
      "때\t100\n",
      "공작\t92\n",
      "그것\t86\n",
      "오\t86\n",
      "데\t84\n",
      "남편\t82\n",
      "때문\t79\n",
      "저\t79\n",
      "대답\t77\n",
      "이자\t77\n",
      "벨\t74\n",
      "내\t73\n",
      "당신\t72\n",
      "이자벨\t72\n",
      "결혼\t69\n",
      "이야기\t67\n",
      "안\t66\n",
      "자신\t65\n",
      "아버지\t64\n",
      "여자\t64\n",
      "리\t54\n",
      "젤\t53\n",
      "타이\t53\n",
      "이\t52\n",
      "오빠\t52\n",
      "집\t51\n",
      "줄\t50\n",
      "레\t49\n",
      "전\t48\n",
      "로\t48\n",
      "페리\t47\n",
      "캐서린\t46\n",
      "줄리엣\t46\n",
      "로미오\t46\n",
      "헬레나\t45\n",
      "곳\t45\n",
      "이상\t45\n",
      "왕\t44\n",
      "사실\t44\n",
      "아가씨\t44\n",
      "페트\t44\n",
      "터\t44\n",
      "시\t44\n",
      "부인\t43\n",
      "거\t43\n",
      "행동\t43\n",
      "어머니\t41\n",
      "딸\t40\n",
      "그녀\t40\n",
      "마리나\t40\n",
      "죽음\t39\n",
      "모습\t39\n",
      "오가\t39\n",
      "오셀로\t39\n",
      "그때\t38\n",
      "돈\t38\n",
      "슬픔\t37\n",
      "이름\t37\n",
      "백작\t36\n",
      "동안\t36\n",
      "주인\t36\n",
      "속\t36\n",
      "루\t36\n",
      "오디오\t36\n",
      "램\t35\n",
      "소리\t35\n",
      "하\t35\n",
      "햄릿\t35\n",
      "그곳\t34\n",
      "밤\t34\n",
      "미\t34\n",
      "바다\t34\n",
      "안젤\t34\n",
      "버트\t33\n",
      "버트램\t33\n",
      "친절\t33\n",
      "로오디오\t33\n",
      "하인\t32\n",
      "자리\t32\n",
      "친구\t32\n",
      "아들\t31\n",
      "얼굴\t31\n",
      "잘못\t31\n",
      "법\t31\n",
      "왕비\t31\n",
      "티\t30\n",
      "약속\t29\n",
      "목숨\t29\n",
      "의심\t29\n"
     ]
    }
   ],
   "source": [
    "word_count_list = []\n",
    "\n",
    "for word, count in word_count.items():\n",
    "    word_count_list.append([word, count])\n",
    "\n",
    "word_count_list.sort(key=lambda elem: elem[1], reverse=True)\n",
    "\n",
    "for word, count in word_count_list[:100]:\n",
    "    print(word + \"\\t\" + str(count))"
   ]
  },
  {
   "cell_type": "code",
   "execution_count": null,
   "metadata": {},
   "outputs": [],
   "source": []
  }
 ],
 "metadata": {
  "kernelspec": {
   "display_name": "Python 3",
   "language": "python",
   "name": "python3"
  },
  "language_info": {
   "codemirror_mode": {
    "name": "ipython",
    "version": 3
   },
   "file_extension": ".py",
   "mimetype": "text/x-python",
   "name": "python",
   "nbconvert_exporter": "python",
   "pygments_lexer": "ipython3",
   "version": "3.8.3"
  }
 },
 "nbformat": 4,
 "nbformat_minor": 4
}
