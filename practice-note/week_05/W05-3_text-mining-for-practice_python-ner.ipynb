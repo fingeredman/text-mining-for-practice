{
 "cells": [
  {
   "cell_type": "markdown",
   "metadata": {},
   "source": [
    "# TEXT MINING for PRACTICE\n",
    "- 본 자료는 텍스트 마이닝을 활용한 연구 및 강의를 위한 목적으로 제작되었습니다.\n",
    "- 본 자료를 강의 목적으로 활용하고자 하시는 경우 꼭 아래 메일주소로 연락주세요.\n",
    "- 본 자료에 대한 허가되지 않은 배포를 금지합니다.\n",
    "- 강의, 저작권, 출판, 특허, 공동저자에 관련해서는 문의 바랍니다.\n",
    "- **Contact : ADMIN(admin@teanaps.com)**\n",
    "\n",
    "---"
   ]
  },
  {
   "cell_type": "markdown",
   "metadata": {},
   "source": [
    "## WEEK 05-3. 개체명 인식\n",
    "- Python의 TEANAPS 패키지를 활용해 개체명 인식을 수행하는 방법에 대해 다룹니다.\n",
    "\n",
    "---"
   ]
  },
  {
   "cell_type": "markdown",
   "metadata": {},
   "source": [
    "### 1. 개체명 인식 수행방법 알아보기: TEANAPS\n",
    "\n",
    "---"
   ]
  },
  {
   "cell_type": "markdown",
   "metadata": {},
   "source": [
    "#### 1.1. TEANAPS 패키지 설치하기\n",
    "\n",
    "---"
   ]
  },
  {
   "cell_type": "code",
   "execution_count": 12,
   "metadata": {},
   "outputs": [],
   "source": [
    "# 텍스트 분석을 위한 TEANAPS 패키지를 설치합니다.\n",
    "# TEANAPS는 Google Colaboratory/Linux 환경에 최적화되어 있습니다.\n",
    "# Windows 환경에서 일부 기능에 제한이 있을 수 있습니다."
   ]
  },
  {
   "cell_type": "code",
   "execution_count": 13,
   "metadata": {},
   "outputs": [],
   "source": [
    "# TEANAPS (https://github.com/fingeredman/teanaps)\n",
    "#!git clone https://github.com/fingeredman/teanaps.git"
   ]
  },
  {
   "cell_type": "code",
   "execution_count": null,
   "metadata": {},
   "outputs": [],
   "source": [
    "#!ls"
   ]
  },
  {
   "cell_type": "code",
   "execution_count": null,
   "metadata": {},
   "outputs": [],
   "source": [
    "# TEANAPS 설치를 진행합니다.\n",
    "# 설치 전 반드시 상단 메뉴에서 [런타임 > 런타임 초기화]를 클릭한 후 진행해주세요.\n",
    "#!python \"teanaps/teanaps_setup.py\""
   ]
  },
  {
   "cell_type": "markdown",
   "metadata": {},
   "source": [
    "#### 1.2. TEANAPS 패키지로 개체명인식 수행하기\n",
    "\n",
    "---"
   ]
  },
  {
   "cell_type": "code",
   "execution_count": 1,
   "metadata": {},
   "outputs": [
    {
     "data": {
      "text/html": [
       "<script>requirejs.config({paths: { 'plotly': ['https://cdn.plot.ly/plotly-latest.min']},});if(!window.Plotly) {{require(['plotly'],function(plotly) {window.Plotly=plotly;});}}</script>"
      ],
      "text/vnd.plotly.v1+html": [
       "<script>requirejs.config({paths: { 'plotly': ['https://cdn.plot.ly/plotly-latest.min']},});if(!window.Plotly) {{require(['plotly'],function(plotly) {window.Plotly=plotly;});}}</script>"
      ]
     },
     "metadata": {},
     "output_type": "display_data"
    },
    {
     "data": {
      "text/html": [
       "<script>requirejs.config({paths: { 'plotly': ['https://cdn.plot.ly/plotly-latest.min']},});if(!window.Plotly) {{require(['plotly'],function(plotly) {window.Plotly=plotly;});}}</script>"
      ],
      "text/vnd.plotly.v1+html": [
       "<script>requirejs.config({paths: { 'plotly': ['https://cdn.plot.ly/plotly-latest.min']},});if(!window.Plotly) {{require(['plotly'],function(plotly) {window.Plotly=plotly;});}}</script>"
      ]
     },
     "metadata": {},
     "output_type": "display_data"
    }
   ],
   "source": [
    "from teanaps.nlp import NamedEntityRecognizer\n",
    "\n",
    "#ner = NamedEntityRecognizer(model_path=\"/model\")\n",
    "ner = NamedEntityRecognizer()"
   ]
  },
  {
   "cell_type": "code",
   "execution_count": 4,
   "metadata": {},
   "outputs": [
    {
     "data": {
      "text/plain": [
       "[('테슬라', 'OG', (13, 16)),\n",
       " ('19만1971대', 'QT', (18, 26)),\n",
       " ('1위', 'QT', (28, 30)),\n",
       " ('르노-닛산', 'OG', (39, 44)),\n",
       " ('폴크스바겐', 'OG', (46, 51)),\n",
       " ('8만6189대', 'QT', (56, 63)),\n",
       " ('7만5228대', 'QT', (65, 72))]"
      ]
     },
     "execution_count": 4,
     "metadata": {},
     "output_type": "execute_result"
    }
   ],
   "source": [
    "input_text = \"세계 최대 전기차 기업 테슬라가 19만1971대로 1위를 차지했으며, 르노-닛산과 폴크스바겐이 각기 8만6189대로 7만5228대로 뒤를 이었다.\"\n",
    "\n",
    "result = ner.parse(input_text)\n",
    "result"
   ]
  },
  {
   "cell_type": "code",
   "execution_count": 5,
   "metadata": {},
   "outputs": [],
   "source": [
    "news = [\n",
    "    \"현대·기아차가 올해 7월까지 전 세계 자동차 브랜드 중 네 번째로 전기차를 많이 판매한 것으로 나타났다.\",\n",
    "    \"4일 자동차연구원이 SNE리서치 통계를 분석한 내용에 따르면 현대·기아차는 올해 7월 말 기준으로 6만707대의 전기차를 판매해 세계 4위를 차지했다.\",\n",
    "    \"세계 최대 전기차 기업 테슬라가 19만1971대로 1위를 차지했으며, 르노-닛산과 폴크스바겐이 각기 8만6189대로 7만5228대로 뒤를 이었다.\",\n",
    "    \"5위는 중국 BYD(4만2340대)였다.\",\n",
    "    \"현대·기아차는 작년 같은 기간(4만8570대)에 비해 판매량이 25% 늘어난 점이 눈에 띈다.\",\n",
    "    \"모델3를 앞세운 테슬라는 판매량이 4% 증가하는 데 그쳤고, 주력 모델인 리프의 판매가 급감한 르노닛산은 5% 감소했다.\",\n",
    "    \"폴크스바겐은 지난해에 비해 110% 늘어나며 현대·기아차를 앞질렀다. BYD는 지난해(11만3409대)에 비해 63% 감소하며 순위가 하락했다.\",\n",
    "]"
   ]
  },
  {
   "cell_type": "code",
   "execution_count": 6,
   "metadata": {},
   "outputs": [
    {
     "name": "stdout",
     "output_type": "stream",
     "text": [
      "<현대:OG>·<기아차:OG>가 올해 <7월까지:DT> 전 세계 자동차 브랜드 중 네 번째로 전기차를 많이 판매한 것으로 나타났다.\n",
      "<4일:DT> 자동차연구원이 SNE리서치 통계를 분석한 내용에 따르면 <현대:OG>·<기아차:OG>는 올해 <7월:DT> 말 기준으로 <6만707대의:QT> 전기차를 판매해 세계 <4위:QT>를 차지했다.\n",
      "세계 최대 전기차 기업 <테슬라:OG>가 <19만1971대:QT>로 <1위:QT>를 차지했으며, <르노-닛산:OG>과 <폴크스바겐:OG>이 각기 <8만6189대:QT>로 <7만5228대:QT>로 뒤를 이었다.\n",
      "<5위:QT>는 <중국 BYD:OG>(4<만2340대:QT>)였다.\n",
      "<현대:OG>·<기아차:OG>는 작년 같은 기간(4<만8570대:QT>)에 비해 판매량이 <25%:QT> 늘어난 점이 눈에 띈다.\n",
      "<모델3:UN>를 앞세운 <테슬라:OG>는 판매량이 <4%:QT> 증가하는 데 그쳤고, 주력 모델인 <리프:UN>의 판매가 급감한 <르노닛산:OG>은 <5%:QT> 감소했다.\n",
      "<폴크스바겐:OG>은 지난해에 비해 <110%:QT> 늘어나며 <현대:OG>·<기아차:OG>를 앞질렀다. <BYD:OG>는 지난해(<11만3409대:QT>)에 비해 <63%:QT> 감소하며 순위가 하락했다.\n"
     ]
    }
   ],
   "source": [
    "for n in news:\n",
    "    result = ner.parse_sentence(n)\n",
    "    print(result)"
   ]
  },
  {
   "cell_type": "code",
   "execution_count": 4,
   "metadata": {},
   "outputs": [
    {
     "name": "stdout",
     "output_type": "stream",
     "text": [
      "[('TEANAPS', 'UN', (0, 7)), ('Python', 'UN', (21, 27))]\n",
      "<TEANAPS:UN>는 텍스트 마이닝을 위한 <Python:UN> 패키지 입니다.\n"
     ]
    },
    {
     "data": {
      "text/html": [
       "\n",
       "                <script src=\"/static/components/requirejs/require.js\"></script>\n",
       "                <script>\n",
       "                  requirejs.config({\n",
       "                    paths: {\n",
       "                      base: '/static/base',\n",
       "                      plotly: 'https://cdn.plot.ly/plotly-latest.min.js?noext',\n",
       "                    },\n",
       "                  });\n",
       "                </script>\n",
       "                "
      ],
      "text/plain": [
       "<IPython.core.display.HTML object>"
      ]
     },
     "metadata": {},
     "output_type": "display_data"
    },
    {
     "data": {
      "text/html": [
       "\n",
       "                <script src=\"/static/components/requirejs/require.js\"></script>\n",
       "                <script>\n",
       "                  requirejs.config({\n",
       "                    paths: {\n",
       "                      base: '/static/base',\n",
       "                      plotly: 'https://cdn.plot.ly/plotly-latest.min.js?noext',\n",
       "                    },\n",
       "                  });\n",
       "                </script>\n",
       "                "
      ],
      "text/plain": [
       "<IPython.core.display.HTML object>"
      ]
     },
     "metadata": {},
     "output_type": "display_data"
    },
    {
     "data": {
      "application/vnd.plotly.v1+json": {
       "data": [
        {
         "hoverinfo": "text",
         "marker": {
          "color": "rgb(55.0, 155.0, 255)"
         },
         "orientation": "h",
         "text": "1.0",
         "type": "bar",
         "width": 0.5,
         "x": [
          2
         ],
         "xaxis": "x1",
         "y": [
          1
         ],
         "yaxis": "y1"
        },
        {
         "hoverinfo": "text",
         "marker": {
          "color": "rgb(214.48284353964866, 234.74142176982434, 255)"
         },
         "orientation": "h",
         "text": "0.2",
         "type": "bar",
         "width": 0.5,
         "x": [
          1
         ],
         "xaxis": "x1",
         "y": [
          1
         ],
         "yaxis": "y1"
        },
        {
         "hoverinfo": "text",
         "marker": {
          "color": "rgb(202.13982475231845, 228.5699123761592, 255)"
         },
         "orientation": "h",
         "text": "0.26",
         "type": "bar",
         "width": 0.5,
         "x": [
          1
         ],
         "xaxis": "x1",
         "y": [
          1
         ],
         "yaxis": "y1"
        },
        {
         "hoverinfo": "text",
         "marker": {
          "color": "rgb(184.12924625481088, 219.56462312740544, 255)"
         },
         "orientation": "h",
         "text": "0.35",
         "type": "bar",
         "width": 0.5,
         "x": [
          2
         ],
         "xaxis": "x1",
         "y": [
          1
         ],
         "yaxis": "y1"
        },
        {
         "hoverinfo": "text",
         "marker": {
          "color": "rgb(132.37453925202277, 193.68726962601139, 255)"
         },
         "orientation": "h",
         "text": "0.61",
         "type": "bar",
         "width": 0.5,
         "x": [
          2
         ],
         "xaxis": "x1",
         "y": [
          1
         ],
         "yaxis": "y1"
        },
        {
         "hoverinfo": "text",
         "marker": {
          "color": "rgb(252.82886045783494, 253.91443022891747, 255)"
         },
         "orientation": "h",
         "text": "0.01",
         "type": "bar",
         "width": 0.5,
         "x": [
          1
         ],
         "xaxis": "x1",
         "y": [
          1
         ],
         "yaxis": "y1"
        },
        {
         "hoverinfo": "text",
         "marker": {
          "color": "rgb(253.10120823302333, 254.05060411651166, 255)"
         },
         "orientation": "h",
         "text": "0.01",
         "type": "bar",
         "width": 0.5,
         "x": [
          1
         ],
         "xaxis": "x1",
         "y": [
          1
         ],
         "yaxis": "y1"
        },
        {
         "hoverinfo": "text",
         "marker": {
          "color": "rgb(254.08707150392718, 254.5435357519636, 255)"
         },
         "orientation": "h",
         "text": "0.0",
         "type": "bar",
         "width": 0.5,
         "x": [
          1
         ],
         "xaxis": "x1",
         "y": [
          1
         ],
         "yaxis": "y1"
        },
        {
         "hoverinfo": "text",
         "marker": {
          "color": "rgb(253.537874205632, 254.26893710281598, 255)"
         },
         "orientation": "h",
         "text": "0.01",
         "type": "bar",
         "width": 0.5,
         "x": [
          2
         ],
         "xaxis": "x1",
         "y": [
          1
         ],
         "yaxis": "y1"
        },
        {
         "hoverinfo": "text",
         "marker": {
          "color": "rgb(254.12320466971798, 254.561602334859, 255)"
         },
         "orientation": "h",
         "text": "0.0",
         "type": "bar",
         "width": 0.5,
         "x": [
          2
         ],
         "xaxis": "x1",
         "y": [
          1
         ],
         "yaxis": "y1"
        },
        {
         "hoverinfo": "text",
         "marker": {
          "color": "rgb(254.0600254319444, 254.53001271597222, 255)"
         },
         "orientation": "h",
         "text": "0.0",
         "type": "bar",
         "width": 0.5,
         "x": [
          2
         ],
         "xaxis": "x1",
         "y": [
          1
         ],
         "yaxis": "y1"
        },
        {
         "hoverinfo": "text",
         "marker": {
          "color": "rgb(253.9596623500072, 254.4798311750036, 255)"
         },
         "orientation": "h",
         "text": "0.01",
         "type": "bar",
         "width": 0.5,
         "x": [
          1
         ],
         "xaxis": "x1",
         "y": [
          1
         ],
         "yaxis": "y1"
        },
        {
         "hoverinfo": "text",
         "marker": {
          "color": "rgb(254.02057922122876, 254.5102896106144, 255)"
         },
         "orientation": "h",
         "text": "0.0",
         "type": "bar",
         "width": 0.5,
         "x": [
          3
         ],
         "xaxis": "x1",
         "y": [
          1
         ],
         "yaxis": "y1"
        },
        {
         "hoverinfo": "text",
         "marker": {
          "color": "rgb(185.16504838852623, 220.0825241942631, 255)"
         },
         "orientation": "h",
         "text": "0.35",
         "type": "bar",
         "width": 0.5,
         "x": [
          2
         ],
         "xaxis": "x1",
         "y": [
          1
         ],
         "yaxis": "y1"
        },
        {
         "hoverinfo": "text",
         "marker": {
          "color": "rgb(154.64967171933637, 204.82483585966818, 255)"
         },
         "orientation": "h",
         "text": "0.5",
         "type": "bar",
         "width": 0.5,
         "x": [
          1
         ],
         "xaxis": "x1",
         "y": [
          1
         ],
         "yaxis": "y1"
        },
        {
         "hoverinfo": "text",
         "marker": {
          "color": "rgb(199.40632704861227, 227.20316352430615, 255)"
         },
         "orientation": "h",
         "text": "0.28",
         "type": "bar",
         "width": 0.5,
         "x": [
          2
         ],
         "xaxis": "x1",
         "y": [
          1
         ],
         "yaxis": "y1"
        },
        {
         "hoverinfo": "text",
         "marker": {
          "color": "rgb(184.45672782852404, 219.72836391426202, 255)"
         },
         "orientation": "h",
         "text": "0.35",
         "type": "bar",
         "width": 0.5,
         "x": [
          2
         ],
         "xaxis": "x1",
         "y": [
          1
         ],
         "yaxis": "y1"
        },
        {
         "hoverinfo": "text",
         "marker": {
          "color": "rgb(209.38237977692316, 232.19118988846157, 255)"
         },
         "orientation": "h",
         "text": "0.23",
         "type": "bar",
         "width": 0.5,
         "x": [
          4
         ],
         "xaxis": "x1",
         "y": [
          1
         ],
         "yaxis": "y1"
        },
        {
         "hoverinfo": "text",
         "marker": {
          "color": "rgb(253.78328742955296, 254.39164371477648, 255)"
         },
         "orientation": "h",
         "text": "0.01",
         "type": "bar",
         "width": 0.5,
         "x": [
          1
         ],
         "xaxis": "x1",
         "y": [
          1
         ],
         "yaxis": "y1"
        },
        {
         "hoverinfo": "text",
         "marker": {
          "color": "rgb(254.061535473508, 254.530767736754, 255)"
         },
         "orientation": "h",
         "text": "0.0",
         "type": "bar",
         "width": 0.5,
         "x": [
          3
         ],
         "xaxis": "x1",
         "y": [
          1
         ],
         "yaxis": "y1"
        },
        {
         "hoverinfo": "text",
         "marker": {
          "color": "rgb(252.73617442788796, 253.86808721394397, 255)"
         },
         "orientation": "h",
         "text": "0.01",
         "type": "bar",
         "width": 0.5,
         "x": [
          1
         ],
         "xaxis": "x1",
         "y": [
          1
         ],
         "yaxis": "y1"
        },
        {
         "hoverinfo": "text",
         "marker": {
          "color": "rgb(255, 255, 255)"
         },
         "orientation": "h",
         "text": "",
         "type": "bar",
         "width": 0.5,
         "x": [
          1
         ],
         "xaxis": "x1",
         "y": [
          1
         ],
         "yaxis": "y1"
        },
        {
         "hoverinfo": "text",
         "marker": {
          "color": "rgb(255, 255, 255)"
         },
         "orientation": "h",
         "text": "",
         "type": "bar",
         "width": 0.5,
         "x": [
          1
         ],
         "xaxis": "x1",
         "y": [
          1
         ],
         "yaxis": "y1"
        },
        {
         "hoverinfo": "text",
         "marker": {
          "color": "rgb(255, 255, 255)"
         },
         "orientation": "h",
         "text": "",
         "type": "bar",
         "width": 0.5,
         "x": [
          1
         ],
         "xaxis": "x1",
         "y": [
          1
         ],
         "yaxis": "y1"
        },
        {
         "hoverinfo": "text",
         "marker": {
          "color": "rgb(255, 255, 255)"
         },
         "orientation": "h",
         "text": "",
         "type": "bar",
         "width": 0.5,
         "x": [
          1
         ],
         "xaxis": "x1",
         "y": [
          1
         ],
         "yaxis": "y1"
        },
        {
         "hoverinfo": "text",
         "marker": {
          "color": "rgb(255, 255, 255)"
         },
         "orientation": "h",
         "text": "",
         "type": "bar",
         "width": 0.5,
         "x": [
          1
         ],
         "xaxis": "x1",
         "y": [
          1
         ],
         "yaxis": "y1"
        },
        {
         "hoverinfo": "text",
         "marker": {
          "color": "rgb(255, 255, 255)"
         },
         "orientation": "h",
         "text": "",
         "type": "bar",
         "width": 0.5,
         "x": [
          1
         ],
         "xaxis": "x1",
         "y": [
          1
         ],
         "yaxis": "y1"
        },
        {
         "hoverinfo": "text",
         "marker": {
          "color": "rgb(255, 255, 255)"
         },
         "orientation": "h",
         "text": "",
         "type": "bar",
         "width": 0.5,
         "x": [
          1
         ],
         "xaxis": "x1",
         "y": [
          1
         ],
         "yaxis": "y1"
        },
        {
         "hoverinfo": "text",
         "marker": {
          "color": "rgb(255, 255, 255)"
         },
         "orientation": "h",
         "text": "",
         "type": "bar",
         "width": 0.5,
         "x": [
          1
         ],
         "xaxis": "x1",
         "y": [
          1
         ],
         "yaxis": "y1"
        },
        {
         "hoverinfo": "text",
         "marker": {
          "color": "rgb(255, 255, 255)"
         },
         "orientation": "h",
         "text": "",
         "type": "bar",
         "width": 0.5,
         "x": [
          1
         ],
         "xaxis": "x1",
         "y": [
          1
         ],
         "yaxis": "y1"
        },
        {
         "hoverinfo": "text",
         "marker": {
          "color": "rgb(255, 255, 255)"
         },
         "orientation": "h",
         "text": "",
         "type": "bar",
         "width": 0.5,
         "x": [
          1
         ],
         "xaxis": "x1",
         "y": [
          1
         ],
         "yaxis": "y1"
        },
        {
         "hoverinfo": "text",
         "marker": {
          "color": "rgb(255, 255, 255)"
         },
         "orientation": "h",
         "text": "",
         "type": "bar",
         "width": 0.5,
         "x": [
          1
         ],
         "xaxis": "x1",
         "y": [
          1
         ],
         "yaxis": "y1"
        },
        {
         "hoverinfo": "text",
         "marker": {
          "color": "rgb(255, 255, 255)"
         },
         "orientation": "h",
         "text": "",
         "type": "bar",
         "width": 0.5,
         "x": [
          1
         ],
         "xaxis": "x1",
         "y": [
          1
         ],
         "yaxis": "y1"
        },
        {
         "hoverinfo": "text",
         "marker": {
          "color": "rgb(255, 255, 255)"
         },
         "orientation": "h",
         "text": "",
         "type": "bar",
         "width": 0.5,
         "x": [
          1
         ],
         "xaxis": "x1",
         "y": [
          1
         ],
         "yaxis": "y1"
        }
       ],
       "layout": {
        "annotations": [
         {
          "align": "left",
          "font": {
           "color": "black",
           "family": "Arial",
           "size": 14
          },
          "showarrow": false,
          "text": " ",
          "x": 0.5,
          "xref": "x1",
          "y": 1,
          "yref": "y1"
         },
         {
          "align": "left",
          "font": {
           "color": "black",
           "family": "Arial",
           "size": 14
          },
          "showarrow": false,
          "text": "T",
          "x": 1.5,
          "xref": "x1",
          "y": 1,
          "yref": "y1"
         },
         {
          "align": "left",
          "font": {
           "color": "black",
           "family": "Arial",
           "size": 14
          },
          "showarrow": false,
          "text": "E",
          "x": 2.5,
          "xref": "x1",
          "y": 1,
          "yref": "y1"
         },
         {
          "align": "left",
          "font": {
           "color": "black",
           "family": "Arial",
           "size": 14
          },
          "showarrow": false,
          "text": "A",
          "x": 3.5,
          "xref": "x1",
          "y": 1,
          "yref": "y1"
         },
         {
          "align": "left",
          "font": {
           "color": "black",
           "family": "Arial",
           "size": 14
          },
          "showarrow": false,
          "text": "N",
          "x": 4.5,
          "xref": "x1",
          "y": 1,
          "yref": "y1"
         },
         {
          "align": "left",
          "font": {
           "color": "black",
           "family": "Arial",
           "size": 14
          },
          "showarrow": false,
          "text": "A",
          "x": 5.5,
          "xref": "x1",
          "y": 1,
          "yref": "y1"
         },
         {
          "align": "left",
          "font": {
           "color": "black",
           "family": "Arial",
           "size": 14
          },
          "showarrow": false,
          "text": "P",
          "x": 6.5,
          "xref": "x1",
          "y": 1,
          "yref": "y1"
         },
         {
          "align": "left",
          "font": {
           "color": "black",
           "family": "Arial",
           "size": 14
          },
          "showarrow": false,
          "text": "S",
          "x": 7.5,
          "xref": "x1",
          "y": 1,
          "yref": "y1"
         },
         {
          "align": "left",
          "font": {
           "color": "black",
           "family": "Arial",
           "size": 14
          },
          "showarrow": false,
          "text": "는",
          "x": 8.5,
          "xref": "x1",
          "y": 1,
          "yref": "y1"
         },
         {
          "align": "left",
          "font": {
           "color": "black",
           "family": "Arial",
           "size": 14
          },
          "showarrow": false,
          "text": " ",
          "x": 9.5,
          "xref": "x1",
          "y": 1,
          "yref": "y1"
         },
         {
          "align": "left",
          "font": {
           "color": "black",
           "family": "Arial",
           "size": 14
          },
          "showarrow": false,
          "text": "텍",
          "x": 10.5,
          "xref": "x1",
          "y": 1,
          "yref": "y1"
         },
         {
          "align": "left",
          "font": {
           "color": "black",
           "family": "Arial",
           "size": 14
          },
          "showarrow": false,
          "text": "스",
          "x": 11.5,
          "xref": "x1",
          "y": 1,
          "yref": "y1"
         },
         {
          "align": "left",
          "font": {
           "color": "black",
           "family": "Arial",
           "size": 14
          },
          "showarrow": false,
          "text": "트",
          "x": 12.5,
          "xref": "x1",
          "y": 1,
          "yref": "y1"
         },
         {
          "align": "left",
          "font": {
           "color": "black",
           "family": "Arial",
           "size": 14
          },
          "showarrow": false,
          "text": " ",
          "x": 13.5,
          "xref": "x1",
          "y": 1,
          "yref": "y1"
         },
         {
          "align": "left",
          "font": {
           "color": "black",
           "family": "Arial",
           "size": 14
          },
          "showarrow": false,
          "text": "마",
          "x": 14.5,
          "xref": "x1",
          "y": 1,
          "yref": "y1"
         },
         {
          "align": "left",
          "font": {
           "color": "black",
           "family": "Arial",
           "size": 14
          },
          "showarrow": false,
          "text": "이",
          "x": 15.5,
          "xref": "x1",
          "y": 1,
          "yref": "y1"
         },
         {
          "align": "left",
          "font": {
           "color": "black",
           "family": "Arial",
           "size": 14
          },
          "showarrow": false,
          "text": "닝",
          "x": 16.5,
          "xref": "x1",
          "y": 1,
          "yref": "y1"
         },
         {
          "align": "left",
          "font": {
           "color": "black",
           "family": "Arial",
           "size": 14
          },
          "showarrow": false,
          "text": "을",
          "x": 17.5,
          "xref": "x1",
          "y": 1,
          "yref": "y1"
         },
         {
          "align": "left",
          "font": {
           "color": "black",
           "family": "Arial",
           "size": 14
          },
          "showarrow": false,
          "text": " ",
          "x": 18.5,
          "xref": "x1",
          "y": 1,
          "yref": "y1"
         },
         {
          "align": "left",
          "font": {
           "color": "black",
           "family": "Arial",
           "size": 14
          },
          "showarrow": false,
          "text": "위",
          "x": 19.5,
          "xref": "x1",
          "y": 1,
          "yref": "y1"
         },
         {
          "align": "left",
          "font": {
           "color": "black",
           "family": "Arial",
           "size": 14
          },
          "showarrow": false,
          "text": "한",
          "x": 20.5,
          "xref": "x1",
          "y": 1,
          "yref": "y1"
         },
         {
          "align": "left",
          "font": {
           "color": "black",
           "family": "Arial",
           "size": 14
          },
          "showarrow": false,
          "text": " ",
          "x": 21.5,
          "xref": "x1",
          "y": 1,
          "yref": "y1"
         },
         {
          "align": "left",
          "font": {
           "color": "black",
           "family": "Arial",
           "size": 14
          },
          "showarrow": false,
          "text": "P",
          "x": 22.5,
          "xref": "x1",
          "y": 1,
          "yref": "y1"
         },
         {
          "align": "left",
          "font": {
           "color": "black",
           "family": "Arial",
           "size": 14
          },
          "showarrow": false,
          "text": "y",
          "x": 23.5,
          "xref": "x1",
          "y": 1,
          "yref": "y1"
         },
         {
          "align": "left",
          "font": {
           "color": "black",
           "family": "Arial",
           "size": 14
          },
          "showarrow": false,
          "text": "t",
          "x": 24.5,
          "xref": "x1",
          "y": 1,
          "yref": "y1"
         },
         {
          "align": "left",
          "font": {
           "color": "black",
           "family": "Arial",
           "size": 14
          },
          "showarrow": false,
          "text": "h",
          "x": 25.5,
          "xref": "x1",
          "y": 1,
          "yref": "y1"
         },
         {
          "align": "left",
          "font": {
           "color": "black",
           "family": "Arial",
           "size": 14
          },
          "showarrow": false,
          "text": "o",
          "x": 26.5,
          "xref": "x1",
          "y": 1,
          "yref": "y1"
         },
         {
          "align": "left",
          "font": {
           "color": "black",
           "family": "Arial",
           "size": 14
          },
          "showarrow": false,
          "text": "n",
          "x": 27.5,
          "xref": "x1",
          "y": 1,
          "yref": "y1"
         },
         {
          "align": "left",
          "font": {
           "color": "black",
           "family": "Arial",
           "size": 14
          },
          "showarrow": false,
          "text": " ",
          "x": 28.5,
          "xref": "x1",
          "y": 1,
          "yref": "y1"
         },
         {
          "align": "left",
          "font": {
           "color": "black",
           "family": "Arial",
           "size": 14
          },
          "showarrow": false,
          "text": "패",
          "x": 29.5,
          "xref": "x1",
          "y": 1,
          "yref": "y1"
         },
         {
          "align": "left",
          "font": {
           "color": "black",
           "family": "Arial",
           "size": 14
          },
          "showarrow": false,
          "text": "키",
          "x": 30.5,
          "xref": "x1",
          "y": 1,
          "yref": "y1"
         },
         {
          "align": "left",
          "font": {
           "color": "black",
           "family": "Arial",
           "size": 14
          },
          "showarrow": false,
          "text": "지",
          "x": 31.5,
          "xref": "x1",
          "y": 1,
          "yref": "y1"
         },
         {
          "align": "left",
          "font": {
           "color": "black",
           "family": "Arial",
           "size": 14
          },
          "showarrow": false,
          "text": " ",
          "x": 32.5,
          "xref": "x1",
          "y": 1,
          "yref": "y1"
         },
         {
          "align": "left",
          "font": {
           "color": "black",
           "family": "Arial",
           "size": 14
          },
          "showarrow": false,
          "text": "입",
          "x": 33.5,
          "xref": "x1",
          "y": 1,
          "yref": "y1"
         },
         {
          "align": "left",
          "font": {
           "color": "black",
           "family": "Arial",
           "size": 14
          },
          "showarrow": false,
          "text": "니",
          "x": 34.5,
          "xref": "x1",
          "y": 1,
          "yref": "y1"
         },
         {
          "align": "left",
          "font": {
           "color": "black",
           "family": "Arial",
           "size": 14
          },
          "showarrow": false,
          "text": "다",
          "x": 35.5,
          "xref": "x1",
          "y": 1,
          "yref": "y1"
         },
         {
          "align": "left",
          "font": {
           "color": "black",
           "family": "Arial",
           "size": 14
          },
          "showarrow": false,
          "text": ".",
          "x": 36.5,
          "xref": "x1",
          "y": 1,
          "yref": "y1"
         }
        ],
        "barmode": "stack",
        "height": 80,
        "images": [
         {
          "layer": "above",
          "opacity": 0.3,
          "sizex": 0.7,
          "sizey": 0.7,
          "source": "https://raw.githubusercontent.com/fingeredman/teanaps/master/data/logo/teanaps_logo_no-bg.png",
          "x": 0.5,
          "xanchor": "center",
          "xref": "paper",
          "y": 0.6,
          "yanchor": "center",
          "yref": "paper"
         }
        ],
        "margin": {
         "b": 30,
         "l": 20,
         "r": 20,
         "t": 10
        },
        "showlegend": false,
        "xaxis1": {
         "anchor": "y1",
         "domain": [
          0,
          1
         ],
         "showgrid": false,
         "showline": false,
         "showticklabels": false,
         "zeroline": false
        },
        "yaxis1": {
         "anchor": "x1",
         "domain": [
          0,
          1
         ],
         "showgrid": false,
         "showline": false,
         "showticklabels": false,
         "zeroline": false
        }
       }
      },
      "text/html": [
       "<div id=\"dcaa92aa-3644-4530-ab31-4bdcaf37569b\" style=\"height: 80px; width: 100%;\" class=\"plotly-graph-div\"></div><script type=\"text/javascript\">require([\"plotly\"], function(Plotly) { window.PLOTLYENV=window.PLOTLYENV || {};window.PLOTLYENV.BASE_URL=\"https://plot.ly\";Plotly.newPlot(\"dcaa92aa-3644-4530-ab31-4bdcaf37569b\", [{\"type\": \"bar\", \"y\": [1], \"x\": [2], \"orientation\": \"h\", \"width\": 0.5, \"text\": \"1.0\", \"hoverinfo\": \"text\", \"marker\": {\"color\": \"rgb(55.0, 155.0, 255)\"}, \"xaxis\": \"x1\", \"yaxis\": \"y1\"}, {\"type\": \"bar\", \"y\": [1], \"x\": [1], \"orientation\": \"h\", \"width\": 0.5, \"text\": \"0.2\", \"hoverinfo\": \"text\", \"marker\": {\"color\": \"rgb(214.48284353964866, 234.74142176982434, 255)\"}, \"xaxis\": \"x1\", \"yaxis\": \"y1\"}, {\"type\": \"bar\", \"y\": [1], \"x\": [1], \"orientation\": \"h\", \"width\": 0.5, \"text\": \"0.26\", \"hoverinfo\": \"text\", \"marker\": {\"color\": \"rgb(202.13982475231845, 228.5699123761592, 255)\"}, \"xaxis\": \"x1\", \"yaxis\": \"y1\"}, {\"type\": \"bar\", \"y\": [1], \"x\": [2], \"orientation\": \"h\", \"width\": 0.5, \"text\": \"0.35\", \"hoverinfo\": \"text\", \"marker\": {\"color\": \"rgb(184.12924625481088, 219.56462312740544, 255)\"}, \"xaxis\": \"x1\", \"yaxis\": \"y1\"}, {\"type\": \"bar\", \"y\": [1], \"x\": [2], \"orientation\": \"h\", \"width\": 0.5, \"text\": \"0.61\", \"hoverinfo\": \"text\", \"marker\": {\"color\": \"rgb(132.37453925202277, 193.68726962601139, 255)\"}, \"xaxis\": \"x1\", \"yaxis\": \"y1\"}, {\"type\": \"bar\", \"y\": [1], \"x\": [1], \"orientation\": \"h\", \"width\": 0.5, \"text\": \"0.01\", \"hoverinfo\": \"text\", \"marker\": {\"color\": \"rgb(252.82886045783494, 253.91443022891747, 255)\"}, \"xaxis\": \"x1\", \"yaxis\": \"y1\"}, {\"type\": \"bar\", \"y\": [1], \"x\": [1], \"orientation\": \"h\", \"width\": 0.5, \"text\": \"0.01\", \"hoverinfo\": \"text\", \"marker\": {\"color\": \"rgb(253.10120823302333, 254.05060411651166, 255)\"}, \"xaxis\": \"x1\", \"yaxis\": \"y1\"}, {\"type\": \"bar\", \"y\": [1], \"x\": [1], \"orientation\": \"h\", \"width\": 0.5, \"text\": \"0.0\", \"hoverinfo\": \"text\", \"marker\": {\"color\": \"rgb(254.08707150392718, 254.5435357519636, 255)\"}, \"xaxis\": \"x1\", \"yaxis\": \"y1\"}, {\"type\": \"bar\", \"y\": [1], \"x\": [2], \"orientation\": \"h\", \"width\": 0.5, \"text\": \"0.01\", \"hoverinfo\": \"text\", \"marker\": {\"color\": \"rgb(253.537874205632, 254.26893710281598, 255)\"}, \"xaxis\": \"x1\", \"yaxis\": \"y1\"}, {\"type\": \"bar\", \"y\": [1], \"x\": [2], \"orientation\": \"h\", \"width\": 0.5, \"text\": \"0.0\", \"hoverinfo\": \"text\", \"marker\": {\"color\": \"rgb(254.12320466971798, 254.561602334859, 255)\"}, \"xaxis\": \"x1\", \"yaxis\": \"y1\"}, {\"type\": \"bar\", \"y\": [1], \"x\": [2], \"orientation\": \"h\", \"width\": 0.5, \"text\": \"0.0\", \"hoverinfo\": \"text\", \"marker\": {\"color\": \"rgb(254.0600254319444, 254.53001271597222, 255)\"}, \"xaxis\": \"x1\", \"yaxis\": \"y1\"}, {\"type\": \"bar\", \"y\": [1], \"x\": [1], \"orientation\": \"h\", \"width\": 0.5, \"text\": \"0.01\", \"hoverinfo\": \"text\", \"marker\": {\"color\": \"rgb(253.9596623500072, 254.4798311750036, 255)\"}, \"xaxis\": \"x1\", \"yaxis\": \"y1\"}, {\"type\": \"bar\", \"y\": [1], \"x\": [3], \"orientation\": \"h\", \"width\": 0.5, \"text\": \"0.0\", \"hoverinfo\": \"text\", \"marker\": {\"color\": \"rgb(254.02057922122876, 254.5102896106144, 255)\"}, \"xaxis\": \"x1\", \"yaxis\": \"y1\"}, {\"type\": \"bar\", \"y\": [1], \"x\": [2], \"orientation\": \"h\", \"width\": 0.5, \"text\": \"0.35\", \"hoverinfo\": \"text\", \"marker\": {\"color\": \"rgb(185.16504838852623, 220.0825241942631, 255)\"}, \"xaxis\": \"x1\", \"yaxis\": \"y1\"}, {\"type\": \"bar\", \"y\": [1], \"x\": [1], \"orientation\": \"h\", \"width\": 0.5, \"text\": \"0.5\", \"hoverinfo\": \"text\", \"marker\": {\"color\": \"rgb(154.64967171933637, 204.82483585966818, 255)\"}, \"xaxis\": \"x1\", \"yaxis\": \"y1\"}, {\"type\": \"bar\", \"y\": [1], \"x\": [2], \"orientation\": \"h\", \"width\": 0.5, \"text\": \"0.28\", \"hoverinfo\": \"text\", \"marker\": {\"color\": \"rgb(199.40632704861227, 227.20316352430615, 255)\"}, \"xaxis\": \"x1\", \"yaxis\": \"y1\"}, {\"type\": \"bar\", \"y\": [1], \"x\": [2], \"orientation\": \"h\", \"width\": 0.5, \"text\": \"0.35\", \"hoverinfo\": \"text\", \"marker\": {\"color\": \"rgb(184.45672782852404, 219.72836391426202, 255)\"}, \"xaxis\": \"x1\", \"yaxis\": \"y1\"}, {\"type\": \"bar\", \"y\": [1], \"x\": [4], \"orientation\": \"h\", \"width\": 0.5, \"text\": \"0.23\", \"hoverinfo\": \"text\", \"marker\": {\"color\": \"rgb(209.38237977692316, 232.19118988846157, 255)\"}, \"xaxis\": \"x1\", \"yaxis\": \"y1\"}, {\"type\": \"bar\", \"y\": [1], \"x\": [1], \"orientation\": \"h\", \"width\": 0.5, \"text\": \"0.01\", \"hoverinfo\": \"text\", \"marker\": {\"color\": \"rgb(253.78328742955296, 254.39164371477648, 255)\"}, \"xaxis\": \"x1\", \"yaxis\": \"y1\"}, {\"type\": \"bar\", \"y\": [1], \"x\": [3], \"orientation\": \"h\", \"width\": 0.5, \"text\": \"0.0\", \"hoverinfo\": \"text\", \"marker\": {\"color\": \"rgb(254.061535473508, 254.530767736754, 255)\"}, \"xaxis\": \"x1\", \"yaxis\": \"y1\"}, {\"type\": \"bar\", \"y\": [1], \"x\": [1], \"orientation\": \"h\", \"width\": 0.5, \"text\": \"0.01\", \"hoverinfo\": \"text\", \"marker\": {\"color\": \"rgb(252.73617442788796, 253.86808721394397, 255)\"}, \"xaxis\": \"x1\", \"yaxis\": \"y1\"}, {\"type\": \"bar\", \"y\": [1], \"x\": [1], \"orientation\": \"h\", \"width\": 0.5, \"text\": \"\", \"hoverinfo\": \"text\", \"marker\": {\"color\": \"rgb(255, 255, 255)\"}, \"xaxis\": \"x1\", \"yaxis\": \"y1\"}, {\"type\": \"bar\", \"y\": [1], \"x\": [1], \"orientation\": \"h\", \"width\": 0.5, \"text\": \"\", \"hoverinfo\": \"text\", \"marker\": {\"color\": \"rgb(255, 255, 255)\"}, \"xaxis\": \"x1\", \"yaxis\": \"y1\"}, {\"type\": \"bar\", \"y\": [1], \"x\": [1], \"orientation\": \"h\", \"width\": 0.5, \"text\": \"\", \"hoverinfo\": \"text\", \"marker\": {\"color\": \"rgb(255, 255, 255)\"}, \"xaxis\": \"x1\", \"yaxis\": \"y1\"}, {\"type\": \"bar\", \"y\": [1], \"x\": [1], \"orientation\": \"h\", \"width\": 0.5, \"text\": \"\", \"hoverinfo\": \"text\", \"marker\": {\"color\": \"rgb(255, 255, 255)\"}, \"xaxis\": \"x1\", \"yaxis\": \"y1\"}, {\"type\": \"bar\", \"y\": [1], \"x\": [1], \"orientation\": \"h\", \"width\": 0.5, \"text\": \"\", \"hoverinfo\": \"text\", \"marker\": {\"color\": \"rgb(255, 255, 255)\"}, \"xaxis\": \"x1\", \"yaxis\": \"y1\"}, {\"type\": \"bar\", \"y\": [1], \"x\": [1], \"orientation\": \"h\", \"width\": 0.5, \"text\": \"\", \"hoverinfo\": \"text\", \"marker\": {\"color\": \"rgb(255, 255, 255)\"}, \"xaxis\": \"x1\", \"yaxis\": \"y1\"}, {\"type\": \"bar\", \"y\": [1], \"x\": [1], \"orientation\": \"h\", \"width\": 0.5, \"text\": \"\", \"hoverinfo\": \"text\", \"marker\": {\"color\": \"rgb(255, 255, 255)\"}, \"xaxis\": \"x1\", \"yaxis\": \"y1\"}, {\"type\": \"bar\", \"y\": [1], \"x\": [1], \"orientation\": \"h\", \"width\": 0.5, \"text\": \"\", \"hoverinfo\": \"text\", \"marker\": {\"color\": \"rgb(255, 255, 255)\"}, \"xaxis\": \"x1\", \"yaxis\": \"y1\"}, {\"type\": \"bar\", \"y\": [1], \"x\": [1], \"orientation\": \"h\", \"width\": 0.5, \"text\": \"\", \"hoverinfo\": \"text\", \"marker\": {\"color\": \"rgb(255, 255, 255)\"}, \"xaxis\": \"x1\", \"yaxis\": \"y1\"}, {\"type\": \"bar\", \"y\": [1], \"x\": [1], \"orientation\": \"h\", \"width\": 0.5, \"text\": \"\", \"hoverinfo\": \"text\", \"marker\": {\"color\": \"rgb(255, 255, 255)\"}, \"xaxis\": \"x1\", \"yaxis\": \"y1\"}, {\"type\": \"bar\", \"y\": [1], \"x\": [1], \"orientation\": \"h\", \"width\": 0.5, \"text\": \"\", \"hoverinfo\": \"text\", \"marker\": {\"color\": \"rgb(255, 255, 255)\"}, \"xaxis\": \"x1\", \"yaxis\": \"y1\"}, {\"type\": \"bar\", \"y\": [1], \"x\": [1], \"orientation\": \"h\", \"width\": 0.5, \"text\": \"\", \"hoverinfo\": \"text\", \"marker\": {\"color\": \"rgb(255, 255, 255)\"}, \"xaxis\": \"x1\", \"yaxis\": \"y1\"}, {\"type\": \"bar\", \"y\": [1], \"x\": [1], \"orientation\": \"h\", \"width\": 0.5, \"text\": \"\", \"hoverinfo\": \"text\", \"marker\": {\"color\": \"rgb(255, 255, 255)\"}, \"xaxis\": \"x1\", \"yaxis\": \"y1\"}], {\"xaxis1\": {\"domain\": [0.0, 1.0], \"anchor\": \"y1\", \"showgrid\": false, \"showline\": false, \"showticklabels\": false, \"zeroline\": false}, \"yaxis1\": {\"domain\": [0.0, 1.0], \"anchor\": \"x1\", \"showgrid\": false, \"showline\": false, \"showticklabels\": false, \"zeroline\": false}, \"barmode\": \"stack\", \"showlegend\": false, \"margin\": {\"b\": 30, \"l\": 20, \"r\": 20, \"t\": 10}, \"annotations\": [{\"xref\": \"x1\", \"yref\": \"y1\", \"x\": 0.5, \"y\": 1, \"text\": \" \", \"align\": \"left\", \"font\": {\"family\": \"Arial\", \"size\": 14, \"color\": \"black\"}, \"showarrow\": false}, {\"xref\": \"x1\", \"yref\": \"y1\", \"x\": 1.5, \"y\": 1, \"text\": \"T\", \"align\": \"left\", \"font\": {\"family\": \"Arial\", \"size\": 14, \"color\": \"black\"}, \"showarrow\": false}, {\"xref\": \"x1\", \"yref\": \"y1\", \"x\": 2.5, \"y\": 1, \"text\": \"E\", \"align\": \"left\", \"font\": {\"family\": \"Arial\", \"size\": 14, \"color\": \"black\"}, \"showarrow\": false}, {\"xref\": \"x1\", \"yref\": \"y1\", \"x\": 3.5, \"y\": 1, \"text\": \"A\", \"align\": \"left\", \"font\": {\"family\": \"Arial\", \"size\": 14, \"color\": \"black\"}, \"showarrow\": false}, {\"xref\": \"x1\", \"yref\": \"y1\", \"x\": 4.5, \"y\": 1, \"text\": \"N\", \"align\": \"left\", \"font\": {\"family\": \"Arial\", \"size\": 14, \"color\": \"black\"}, \"showarrow\": false}, {\"xref\": \"x1\", \"yref\": \"y1\", \"x\": 5.5, \"y\": 1, \"text\": \"A\", \"align\": \"left\", \"font\": {\"family\": \"Arial\", \"size\": 14, \"color\": \"black\"}, \"showarrow\": false}, {\"xref\": \"x1\", \"yref\": \"y1\", \"x\": 6.5, \"y\": 1, \"text\": \"P\", \"align\": \"left\", \"font\": {\"family\": \"Arial\", \"size\": 14, \"color\": \"black\"}, \"showarrow\": false}, {\"xref\": \"x1\", \"yref\": \"y1\", \"x\": 7.5, \"y\": 1, \"text\": \"S\", \"align\": \"left\", \"font\": {\"family\": \"Arial\", \"size\": 14, \"color\": \"black\"}, \"showarrow\": false}, {\"xref\": \"x1\", \"yref\": \"y1\", \"x\": 8.5, \"y\": 1, \"text\": \"\\ub294\", \"align\": \"left\", \"font\": {\"family\": \"Arial\", \"size\": 14, \"color\": \"black\"}, \"showarrow\": false}, {\"xref\": \"x1\", \"yref\": \"y1\", \"x\": 9.5, \"y\": 1, \"text\": \" \", \"align\": \"left\", \"font\": {\"family\": \"Arial\", \"size\": 14, \"color\": \"black\"}, \"showarrow\": false}, {\"xref\": \"x1\", \"yref\": \"y1\", \"x\": 10.5, \"y\": 1, \"text\": \"\\ud14d\", \"align\": \"left\", \"font\": {\"family\": \"Arial\", \"size\": 14, \"color\": \"black\"}, \"showarrow\": false}, {\"xref\": \"x1\", \"yref\": \"y1\", \"x\": 11.5, \"y\": 1, \"text\": \"\\uc2a4\", \"align\": \"left\", \"font\": {\"family\": \"Arial\", \"size\": 14, \"color\": \"black\"}, \"showarrow\": false}, {\"xref\": \"x1\", \"yref\": \"y1\", \"x\": 12.5, \"y\": 1, \"text\": \"\\ud2b8\", \"align\": \"left\", \"font\": {\"family\": \"Arial\", \"size\": 14, \"color\": \"black\"}, \"showarrow\": false}, {\"xref\": \"x1\", \"yref\": \"y1\", \"x\": 13.5, \"y\": 1, \"text\": \" \", \"align\": \"left\", \"font\": {\"family\": \"Arial\", \"size\": 14, \"color\": \"black\"}, \"showarrow\": false}, {\"xref\": \"x1\", \"yref\": \"y1\", \"x\": 14.5, \"y\": 1, \"text\": \"\\ub9c8\", \"align\": \"left\", \"font\": {\"family\": \"Arial\", \"size\": 14, \"color\": \"black\"}, \"showarrow\": false}, {\"xref\": \"x1\", \"yref\": \"y1\", \"x\": 15.5, \"y\": 1, \"text\": \"\\uc774\", \"align\": \"left\", \"font\": {\"family\": \"Arial\", \"size\": 14, \"color\": \"black\"}, \"showarrow\": false}, {\"xref\": \"x1\", \"yref\": \"y1\", \"x\": 16.5, \"y\": 1, \"text\": \"\\ub2dd\", \"align\": \"left\", \"font\": {\"family\": \"Arial\", \"size\": 14, \"color\": \"black\"}, \"showarrow\": false}, {\"xref\": \"x1\", \"yref\": \"y1\", \"x\": 17.5, \"y\": 1, \"text\": \"\\uc744\", \"align\": \"left\", \"font\": {\"family\": \"Arial\", \"size\": 14, \"color\": \"black\"}, \"showarrow\": false}, {\"xref\": \"x1\", \"yref\": \"y1\", \"x\": 18.5, \"y\": 1, \"text\": \" \", \"align\": \"left\", \"font\": {\"family\": \"Arial\", \"size\": 14, \"color\": \"black\"}, \"showarrow\": false}, {\"xref\": \"x1\", \"yref\": \"y1\", \"x\": 19.5, \"y\": 1, \"text\": \"\\uc704\", \"align\": \"left\", \"font\": {\"family\": \"Arial\", \"size\": 14, \"color\": \"black\"}, \"showarrow\": false}, {\"xref\": \"x1\", \"yref\": \"y1\", \"x\": 20.5, \"y\": 1, \"text\": \"\\ud55c\", \"align\": \"left\", \"font\": {\"family\": \"Arial\", \"size\": 14, \"color\": \"black\"}, \"showarrow\": false}, {\"xref\": \"x1\", \"yref\": \"y1\", \"x\": 21.5, \"y\": 1, \"text\": \" \", \"align\": \"left\", \"font\": {\"family\": \"Arial\", \"size\": 14, \"color\": \"black\"}, \"showarrow\": false}, {\"xref\": \"x1\", \"yref\": \"y1\", \"x\": 22.5, \"y\": 1, \"text\": \"P\", \"align\": \"left\", \"font\": {\"family\": \"Arial\", \"size\": 14, \"color\": \"black\"}, \"showarrow\": false}, {\"xref\": \"x1\", \"yref\": \"y1\", \"x\": 23.5, \"y\": 1, \"text\": \"y\", \"align\": \"left\", \"font\": {\"family\": \"Arial\", \"size\": 14, \"color\": \"black\"}, \"showarrow\": false}, {\"xref\": \"x1\", \"yref\": \"y1\", \"x\": 24.5, \"y\": 1, \"text\": \"t\", \"align\": \"left\", \"font\": {\"family\": \"Arial\", \"size\": 14, \"color\": \"black\"}, \"showarrow\": false}, {\"xref\": \"x1\", \"yref\": \"y1\", \"x\": 25.5, \"y\": 1, \"text\": \"h\", \"align\": \"left\", \"font\": {\"family\": \"Arial\", \"size\": 14, \"color\": \"black\"}, \"showarrow\": false}, {\"xref\": \"x1\", \"yref\": \"y1\", \"x\": 26.5, \"y\": 1, \"text\": \"o\", \"align\": \"left\", \"font\": {\"family\": \"Arial\", \"size\": 14, \"color\": \"black\"}, \"showarrow\": false}, {\"xref\": \"x1\", \"yref\": \"y1\", \"x\": 27.5, \"y\": 1, \"text\": \"n\", \"align\": \"left\", \"font\": {\"family\": \"Arial\", \"size\": 14, \"color\": \"black\"}, \"showarrow\": false}, {\"xref\": \"x1\", \"yref\": \"y1\", \"x\": 28.5, \"y\": 1, \"text\": \" \", \"align\": \"left\", \"font\": {\"family\": \"Arial\", \"size\": 14, \"color\": \"black\"}, \"showarrow\": false}, {\"xref\": \"x1\", \"yref\": \"y1\", \"x\": 29.5, \"y\": 1, \"text\": \"\\ud328\", \"align\": \"left\", \"font\": {\"family\": \"Arial\", \"size\": 14, \"color\": \"black\"}, \"showarrow\": false}, {\"xref\": \"x1\", \"yref\": \"y1\", \"x\": 30.5, \"y\": 1, \"text\": \"\\ud0a4\", \"align\": \"left\", \"font\": {\"family\": \"Arial\", \"size\": 14, \"color\": \"black\"}, \"showarrow\": false}, {\"xref\": \"x1\", \"yref\": \"y1\", \"x\": 31.5, \"y\": 1, \"text\": \"\\uc9c0\", \"align\": \"left\", \"font\": {\"family\": \"Arial\", \"size\": 14, \"color\": \"black\"}, \"showarrow\": false}, {\"xref\": \"x1\", \"yref\": \"y1\", \"x\": 32.5, \"y\": 1, \"text\": \" \", \"align\": \"left\", \"font\": {\"family\": \"Arial\", \"size\": 14, \"color\": \"black\"}, \"showarrow\": false}, {\"xref\": \"x1\", \"yref\": \"y1\", \"x\": 33.5, \"y\": 1, \"text\": \"\\uc785\", \"align\": \"left\", \"font\": {\"family\": \"Arial\", \"size\": 14, \"color\": \"black\"}, \"showarrow\": false}, {\"xref\": \"x1\", \"yref\": \"y1\", \"x\": 34.5, \"y\": 1, \"text\": \"\\ub2c8\", \"align\": \"left\", \"font\": {\"family\": \"Arial\", \"size\": 14, \"color\": \"black\"}, \"showarrow\": false}, {\"xref\": \"x1\", \"yref\": \"y1\", \"x\": 35.5, \"y\": 1, \"text\": \"\\ub2e4\", \"align\": \"left\", \"font\": {\"family\": \"Arial\", \"size\": 14, \"color\": \"black\"}, \"showarrow\": false}, {\"xref\": \"x1\", \"yref\": \"y1\", \"x\": 36.5, \"y\": 1, \"text\": \".\", \"align\": \"left\", \"font\": {\"family\": \"Arial\", \"size\": 14, \"color\": \"black\"}, \"showarrow\": false}], \"height\": 80, \"images\": [{\"source\": \"https://raw.githubusercontent.com/fingeredman/teanaps/master/data/logo/teanaps_logo_no-bg.png\", \"xref\": \"paper\", \"yref\": \"paper\", \"x\": 0.5, \"y\": 0.6, \"sizex\": 0.7, \"sizey\": 0.7, \"xanchor\": \"center\", \"yanchor\": \"center\", \"opacity\": 0.3, \"layer\": \"above\"}]}, {\"showLink\": true, \"linkText\": \"Export to plot.ly\"})});</script>"
      ],
      "text/vnd.plotly.v1+html": [
       "<div id=\"dcaa92aa-3644-4530-ab31-4bdcaf37569b\" style=\"height: 80px; width: 100%;\" class=\"plotly-graph-div\"></div><script type=\"text/javascript\">require([\"plotly\"], function(Plotly) { window.PLOTLYENV=window.PLOTLYENV || {};window.PLOTLYENV.BASE_URL=\"https://plot.ly\";Plotly.newPlot(\"dcaa92aa-3644-4530-ab31-4bdcaf37569b\", [{\"type\": \"bar\", \"y\": [1], \"x\": [2], \"orientation\": \"h\", \"width\": 0.5, \"text\": \"1.0\", \"hoverinfo\": \"text\", \"marker\": {\"color\": \"rgb(55.0, 155.0, 255)\"}, \"xaxis\": \"x1\", \"yaxis\": \"y1\"}, {\"type\": \"bar\", \"y\": [1], \"x\": [1], \"orientation\": \"h\", \"width\": 0.5, \"text\": \"0.2\", \"hoverinfo\": \"text\", \"marker\": {\"color\": \"rgb(214.48284353964866, 234.74142176982434, 255)\"}, \"xaxis\": \"x1\", \"yaxis\": \"y1\"}, {\"type\": \"bar\", \"y\": [1], \"x\": [1], \"orientation\": \"h\", \"width\": 0.5, \"text\": \"0.26\", \"hoverinfo\": \"text\", \"marker\": {\"color\": \"rgb(202.13982475231845, 228.5699123761592, 255)\"}, \"xaxis\": \"x1\", \"yaxis\": \"y1\"}, {\"type\": \"bar\", \"y\": [1], \"x\": [2], \"orientation\": \"h\", \"width\": 0.5, \"text\": \"0.35\", \"hoverinfo\": \"text\", \"marker\": {\"color\": \"rgb(184.12924625481088, 219.56462312740544, 255)\"}, \"xaxis\": \"x1\", \"yaxis\": \"y1\"}, {\"type\": \"bar\", \"y\": [1], \"x\": [2], \"orientation\": \"h\", \"width\": 0.5, \"text\": \"0.61\", \"hoverinfo\": \"text\", \"marker\": {\"color\": \"rgb(132.37453925202277, 193.68726962601139, 255)\"}, \"xaxis\": \"x1\", \"yaxis\": \"y1\"}, {\"type\": \"bar\", \"y\": [1], \"x\": [1], \"orientation\": \"h\", \"width\": 0.5, \"text\": \"0.01\", \"hoverinfo\": \"text\", \"marker\": {\"color\": \"rgb(252.82886045783494, 253.91443022891747, 255)\"}, \"xaxis\": \"x1\", \"yaxis\": \"y1\"}, {\"type\": \"bar\", \"y\": [1], \"x\": [1], \"orientation\": \"h\", \"width\": 0.5, \"text\": \"0.01\", \"hoverinfo\": \"text\", \"marker\": {\"color\": \"rgb(253.10120823302333, 254.05060411651166, 255)\"}, \"xaxis\": \"x1\", \"yaxis\": \"y1\"}, {\"type\": \"bar\", \"y\": [1], \"x\": [1], \"orientation\": \"h\", \"width\": 0.5, \"text\": \"0.0\", \"hoverinfo\": \"text\", \"marker\": {\"color\": \"rgb(254.08707150392718, 254.5435357519636, 255)\"}, \"xaxis\": \"x1\", \"yaxis\": \"y1\"}, {\"type\": \"bar\", \"y\": [1], \"x\": [2], \"orientation\": \"h\", \"width\": 0.5, \"text\": \"0.01\", \"hoverinfo\": \"text\", \"marker\": {\"color\": \"rgb(253.537874205632, 254.26893710281598, 255)\"}, \"xaxis\": \"x1\", \"yaxis\": \"y1\"}, {\"type\": \"bar\", \"y\": [1], \"x\": [2], \"orientation\": \"h\", \"width\": 0.5, \"text\": \"0.0\", \"hoverinfo\": \"text\", \"marker\": {\"color\": \"rgb(254.12320466971798, 254.561602334859, 255)\"}, \"xaxis\": \"x1\", \"yaxis\": \"y1\"}, {\"type\": \"bar\", \"y\": [1], \"x\": [2], \"orientation\": \"h\", \"width\": 0.5, \"text\": \"0.0\", \"hoverinfo\": \"text\", \"marker\": {\"color\": \"rgb(254.0600254319444, 254.53001271597222, 255)\"}, \"xaxis\": \"x1\", \"yaxis\": \"y1\"}, {\"type\": \"bar\", \"y\": [1], \"x\": [1], \"orientation\": \"h\", \"width\": 0.5, \"text\": \"0.01\", \"hoverinfo\": \"text\", \"marker\": {\"color\": \"rgb(253.9596623500072, 254.4798311750036, 255)\"}, \"xaxis\": \"x1\", \"yaxis\": \"y1\"}, {\"type\": \"bar\", \"y\": [1], \"x\": [3], \"orientation\": \"h\", \"width\": 0.5, \"text\": \"0.0\", \"hoverinfo\": \"text\", \"marker\": {\"color\": \"rgb(254.02057922122876, 254.5102896106144, 255)\"}, \"xaxis\": \"x1\", \"yaxis\": \"y1\"}, {\"type\": \"bar\", \"y\": [1], \"x\": [2], \"orientation\": \"h\", \"width\": 0.5, \"text\": \"0.35\", \"hoverinfo\": \"text\", \"marker\": {\"color\": \"rgb(185.16504838852623, 220.0825241942631, 255)\"}, \"xaxis\": \"x1\", \"yaxis\": \"y1\"}, {\"type\": \"bar\", \"y\": [1], \"x\": [1], \"orientation\": \"h\", \"width\": 0.5, \"text\": \"0.5\", \"hoverinfo\": \"text\", \"marker\": {\"color\": \"rgb(154.64967171933637, 204.82483585966818, 255)\"}, \"xaxis\": \"x1\", \"yaxis\": \"y1\"}, {\"type\": \"bar\", \"y\": [1], \"x\": [2], \"orientation\": \"h\", \"width\": 0.5, \"text\": \"0.28\", \"hoverinfo\": \"text\", \"marker\": {\"color\": \"rgb(199.40632704861227, 227.20316352430615, 255)\"}, \"xaxis\": \"x1\", \"yaxis\": \"y1\"}, {\"type\": \"bar\", \"y\": [1], \"x\": [2], \"orientation\": \"h\", \"width\": 0.5, \"text\": \"0.35\", \"hoverinfo\": \"text\", \"marker\": {\"color\": \"rgb(184.45672782852404, 219.72836391426202, 255)\"}, \"xaxis\": \"x1\", \"yaxis\": \"y1\"}, {\"type\": \"bar\", \"y\": [1], \"x\": [4], \"orientation\": \"h\", \"width\": 0.5, \"text\": \"0.23\", \"hoverinfo\": \"text\", \"marker\": {\"color\": \"rgb(209.38237977692316, 232.19118988846157, 255)\"}, \"xaxis\": \"x1\", \"yaxis\": \"y1\"}, {\"type\": \"bar\", \"y\": [1], \"x\": [1], \"orientation\": \"h\", \"width\": 0.5, \"text\": \"0.01\", \"hoverinfo\": \"text\", \"marker\": {\"color\": \"rgb(253.78328742955296, 254.39164371477648, 255)\"}, \"xaxis\": \"x1\", \"yaxis\": \"y1\"}, {\"type\": \"bar\", \"y\": [1], \"x\": [3], \"orientation\": \"h\", \"width\": 0.5, \"text\": \"0.0\", \"hoverinfo\": \"text\", \"marker\": {\"color\": \"rgb(254.061535473508, 254.530767736754, 255)\"}, \"xaxis\": \"x1\", \"yaxis\": \"y1\"}, {\"type\": \"bar\", \"y\": [1], \"x\": [1], \"orientation\": \"h\", \"width\": 0.5, \"text\": \"0.01\", \"hoverinfo\": \"text\", \"marker\": {\"color\": \"rgb(252.73617442788796, 253.86808721394397, 255)\"}, \"xaxis\": \"x1\", \"yaxis\": \"y1\"}, {\"type\": \"bar\", \"y\": [1], \"x\": [1], \"orientation\": \"h\", \"width\": 0.5, \"text\": \"\", \"hoverinfo\": \"text\", \"marker\": {\"color\": \"rgb(255, 255, 255)\"}, \"xaxis\": \"x1\", \"yaxis\": \"y1\"}, {\"type\": \"bar\", \"y\": [1], \"x\": [1], \"orientation\": \"h\", \"width\": 0.5, \"text\": \"\", \"hoverinfo\": \"text\", \"marker\": {\"color\": \"rgb(255, 255, 255)\"}, \"xaxis\": \"x1\", \"yaxis\": \"y1\"}, {\"type\": \"bar\", \"y\": [1], \"x\": [1], \"orientation\": \"h\", \"width\": 0.5, \"text\": \"\", \"hoverinfo\": \"text\", \"marker\": {\"color\": \"rgb(255, 255, 255)\"}, \"xaxis\": \"x1\", \"yaxis\": \"y1\"}, {\"type\": \"bar\", \"y\": [1], \"x\": [1], \"orientation\": \"h\", \"width\": 0.5, \"text\": \"\", \"hoverinfo\": \"text\", \"marker\": {\"color\": \"rgb(255, 255, 255)\"}, \"xaxis\": \"x1\", \"yaxis\": \"y1\"}, {\"type\": \"bar\", \"y\": [1], \"x\": [1], \"orientation\": \"h\", \"width\": 0.5, \"text\": \"\", \"hoverinfo\": \"text\", \"marker\": {\"color\": \"rgb(255, 255, 255)\"}, \"xaxis\": \"x1\", \"yaxis\": \"y1\"}, {\"type\": \"bar\", \"y\": [1], \"x\": [1], \"orientation\": \"h\", \"width\": 0.5, \"text\": \"\", \"hoverinfo\": \"text\", \"marker\": {\"color\": \"rgb(255, 255, 255)\"}, \"xaxis\": \"x1\", \"yaxis\": \"y1\"}, {\"type\": \"bar\", \"y\": [1], \"x\": [1], \"orientation\": \"h\", \"width\": 0.5, \"text\": \"\", \"hoverinfo\": \"text\", \"marker\": {\"color\": \"rgb(255, 255, 255)\"}, \"xaxis\": \"x1\", \"yaxis\": \"y1\"}, {\"type\": \"bar\", \"y\": [1], \"x\": [1], \"orientation\": \"h\", \"width\": 0.5, \"text\": \"\", \"hoverinfo\": \"text\", \"marker\": {\"color\": \"rgb(255, 255, 255)\"}, \"xaxis\": \"x1\", \"yaxis\": \"y1\"}, {\"type\": \"bar\", \"y\": [1], \"x\": [1], \"orientation\": \"h\", \"width\": 0.5, \"text\": \"\", \"hoverinfo\": \"text\", \"marker\": {\"color\": \"rgb(255, 255, 255)\"}, \"xaxis\": \"x1\", \"yaxis\": \"y1\"}, {\"type\": \"bar\", \"y\": [1], \"x\": [1], \"orientation\": \"h\", \"width\": 0.5, \"text\": \"\", \"hoverinfo\": \"text\", \"marker\": {\"color\": \"rgb(255, 255, 255)\"}, \"xaxis\": \"x1\", \"yaxis\": \"y1\"}, {\"type\": \"bar\", \"y\": [1], \"x\": [1], \"orientation\": \"h\", \"width\": 0.5, \"text\": \"\", \"hoverinfo\": \"text\", \"marker\": {\"color\": \"rgb(255, 255, 255)\"}, \"xaxis\": \"x1\", \"yaxis\": \"y1\"}, {\"type\": \"bar\", \"y\": [1], \"x\": [1], \"orientation\": \"h\", \"width\": 0.5, \"text\": \"\", \"hoverinfo\": \"text\", \"marker\": {\"color\": \"rgb(255, 255, 255)\"}, \"xaxis\": \"x1\", \"yaxis\": \"y1\"}, {\"type\": \"bar\", \"y\": [1], \"x\": [1], \"orientation\": \"h\", \"width\": 0.5, \"text\": \"\", \"hoverinfo\": \"text\", \"marker\": {\"color\": \"rgb(255, 255, 255)\"}, \"xaxis\": \"x1\", \"yaxis\": \"y1\"}], {\"xaxis1\": {\"domain\": [0.0, 1.0], \"anchor\": \"y1\", \"showgrid\": false, \"showline\": false, \"showticklabels\": false, \"zeroline\": false}, \"yaxis1\": {\"domain\": [0.0, 1.0], \"anchor\": \"x1\", \"showgrid\": false, \"showline\": false, \"showticklabels\": false, \"zeroline\": false}, \"barmode\": \"stack\", \"showlegend\": false, \"margin\": {\"b\": 30, \"l\": 20, \"r\": 20, \"t\": 10}, \"annotations\": [{\"xref\": \"x1\", \"yref\": \"y1\", \"x\": 0.5, \"y\": 1, \"text\": \" \", \"align\": \"left\", \"font\": {\"family\": \"Arial\", \"size\": 14, \"color\": \"black\"}, \"showarrow\": false}, {\"xref\": \"x1\", \"yref\": \"y1\", \"x\": 1.5, \"y\": 1, \"text\": \"T\", \"align\": \"left\", \"font\": {\"family\": \"Arial\", \"size\": 14, \"color\": \"black\"}, \"showarrow\": false}, {\"xref\": \"x1\", \"yref\": \"y1\", \"x\": 2.5, \"y\": 1, \"text\": \"E\", \"align\": \"left\", \"font\": {\"family\": \"Arial\", \"size\": 14, \"color\": \"black\"}, \"showarrow\": false}, {\"xref\": \"x1\", \"yref\": \"y1\", \"x\": 3.5, \"y\": 1, \"text\": \"A\", \"align\": \"left\", \"font\": {\"family\": \"Arial\", \"size\": 14, \"color\": \"black\"}, \"showarrow\": false}, {\"xref\": \"x1\", \"yref\": \"y1\", \"x\": 4.5, \"y\": 1, \"text\": \"N\", \"align\": \"left\", \"font\": {\"family\": \"Arial\", \"size\": 14, \"color\": \"black\"}, \"showarrow\": false}, {\"xref\": \"x1\", \"yref\": \"y1\", \"x\": 5.5, \"y\": 1, \"text\": \"A\", \"align\": \"left\", \"font\": {\"family\": \"Arial\", \"size\": 14, \"color\": \"black\"}, \"showarrow\": false}, {\"xref\": \"x1\", \"yref\": \"y1\", \"x\": 6.5, \"y\": 1, \"text\": \"P\", \"align\": \"left\", \"font\": {\"family\": \"Arial\", \"size\": 14, \"color\": \"black\"}, \"showarrow\": false}, {\"xref\": \"x1\", \"yref\": \"y1\", \"x\": 7.5, \"y\": 1, \"text\": \"S\", \"align\": \"left\", \"font\": {\"family\": \"Arial\", \"size\": 14, \"color\": \"black\"}, \"showarrow\": false}, {\"xref\": \"x1\", \"yref\": \"y1\", \"x\": 8.5, \"y\": 1, \"text\": \"\\ub294\", \"align\": \"left\", \"font\": {\"family\": \"Arial\", \"size\": 14, \"color\": \"black\"}, \"showarrow\": false}, {\"xref\": \"x1\", \"yref\": \"y1\", \"x\": 9.5, \"y\": 1, \"text\": \" \", \"align\": \"left\", \"font\": {\"family\": \"Arial\", \"size\": 14, \"color\": \"black\"}, \"showarrow\": false}, {\"xref\": \"x1\", \"yref\": \"y1\", \"x\": 10.5, \"y\": 1, \"text\": \"\\ud14d\", \"align\": \"left\", \"font\": {\"family\": \"Arial\", \"size\": 14, \"color\": \"black\"}, \"showarrow\": false}, {\"xref\": \"x1\", \"yref\": \"y1\", \"x\": 11.5, \"y\": 1, \"text\": \"\\uc2a4\", \"align\": \"left\", \"font\": {\"family\": \"Arial\", \"size\": 14, \"color\": \"black\"}, \"showarrow\": false}, {\"xref\": \"x1\", \"yref\": \"y1\", \"x\": 12.5, \"y\": 1, \"text\": \"\\ud2b8\", \"align\": \"left\", \"font\": {\"family\": \"Arial\", \"size\": 14, \"color\": \"black\"}, \"showarrow\": false}, {\"xref\": \"x1\", \"yref\": \"y1\", \"x\": 13.5, \"y\": 1, \"text\": \" \", \"align\": \"left\", \"font\": {\"family\": \"Arial\", \"size\": 14, \"color\": \"black\"}, \"showarrow\": false}, {\"xref\": \"x1\", \"yref\": \"y1\", \"x\": 14.5, \"y\": 1, \"text\": \"\\ub9c8\", \"align\": \"left\", \"font\": {\"family\": \"Arial\", \"size\": 14, \"color\": \"black\"}, \"showarrow\": false}, {\"xref\": \"x1\", \"yref\": \"y1\", \"x\": 15.5, \"y\": 1, \"text\": \"\\uc774\", \"align\": \"left\", \"font\": {\"family\": \"Arial\", \"size\": 14, \"color\": \"black\"}, \"showarrow\": false}, {\"xref\": \"x1\", \"yref\": \"y1\", \"x\": 16.5, \"y\": 1, \"text\": \"\\ub2dd\", \"align\": \"left\", \"font\": {\"family\": \"Arial\", \"size\": 14, \"color\": \"black\"}, \"showarrow\": false}, {\"xref\": \"x1\", \"yref\": \"y1\", \"x\": 17.5, \"y\": 1, \"text\": \"\\uc744\", \"align\": \"left\", \"font\": {\"family\": \"Arial\", \"size\": 14, \"color\": \"black\"}, \"showarrow\": false}, {\"xref\": \"x1\", \"yref\": \"y1\", \"x\": 18.5, \"y\": 1, \"text\": \" \", \"align\": \"left\", \"font\": {\"family\": \"Arial\", \"size\": 14, \"color\": \"black\"}, \"showarrow\": false}, {\"xref\": \"x1\", \"yref\": \"y1\", \"x\": 19.5, \"y\": 1, \"text\": \"\\uc704\", \"align\": \"left\", \"font\": {\"family\": \"Arial\", \"size\": 14, \"color\": \"black\"}, \"showarrow\": false}, {\"xref\": \"x1\", \"yref\": \"y1\", \"x\": 20.5, \"y\": 1, \"text\": \"\\ud55c\", \"align\": \"left\", \"font\": {\"family\": \"Arial\", \"size\": 14, \"color\": \"black\"}, \"showarrow\": false}, {\"xref\": \"x1\", \"yref\": \"y1\", \"x\": 21.5, \"y\": 1, \"text\": \" \", \"align\": \"left\", \"font\": {\"family\": \"Arial\", \"size\": 14, \"color\": \"black\"}, \"showarrow\": false}, {\"xref\": \"x1\", \"yref\": \"y1\", \"x\": 22.5, \"y\": 1, \"text\": \"P\", \"align\": \"left\", \"font\": {\"family\": \"Arial\", \"size\": 14, \"color\": \"black\"}, \"showarrow\": false}, {\"xref\": \"x1\", \"yref\": \"y1\", \"x\": 23.5, \"y\": 1, \"text\": \"y\", \"align\": \"left\", \"font\": {\"family\": \"Arial\", \"size\": 14, \"color\": \"black\"}, \"showarrow\": false}, {\"xref\": \"x1\", \"yref\": \"y1\", \"x\": 24.5, \"y\": 1, \"text\": \"t\", \"align\": \"left\", \"font\": {\"family\": \"Arial\", \"size\": 14, \"color\": \"black\"}, \"showarrow\": false}, {\"xref\": \"x1\", \"yref\": \"y1\", \"x\": 25.5, \"y\": 1, \"text\": \"h\", \"align\": \"left\", \"font\": {\"family\": \"Arial\", \"size\": 14, \"color\": \"black\"}, \"showarrow\": false}, {\"xref\": \"x1\", \"yref\": \"y1\", \"x\": 26.5, \"y\": 1, \"text\": \"o\", \"align\": \"left\", \"font\": {\"family\": \"Arial\", \"size\": 14, \"color\": \"black\"}, \"showarrow\": false}, {\"xref\": \"x1\", \"yref\": \"y1\", \"x\": 27.5, \"y\": 1, \"text\": \"n\", \"align\": \"left\", \"font\": {\"family\": \"Arial\", \"size\": 14, \"color\": \"black\"}, \"showarrow\": false}, {\"xref\": \"x1\", \"yref\": \"y1\", \"x\": 28.5, \"y\": 1, \"text\": \" \", \"align\": \"left\", \"font\": {\"family\": \"Arial\", \"size\": 14, \"color\": \"black\"}, \"showarrow\": false}, {\"xref\": \"x1\", \"yref\": \"y1\", \"x\": 29.5, \"y\": 1, \"text\": \"\\ud328\", \"align\": \"left\", \"font\": {\"family\": \"Arial\", \"size\": 14, \"color\": \"black\"}, \"showarrow\": false}, {\"xref\": \"x1\", \"yref\": \"y1\", \"x\": 30.5, \"y\": 1, \"text\": \"\\ud0a4\", \"align\": \"left\", \"font\": {\"family\": \"Arial\", \"size\": 14, \"color\": \"black\"}, \"showarrow\": false}, {\"xref\": \"x1\", \"yref\": \"y1\", \"x\": 31.5, \"y\": 1, \"text\": \"\\uc9c0\", \"align\": \"left\", \"font\": {\"family\": \"Arial\", \"size\": 14, \"color\": \"black\"}, \"showarrow\": false}, {\"xref\": \"x1\", \"yref\": \"y1\", \"x\": 32.5, \"y\": 1, \"text\": \" \", \"align\": \"left\", \"font\": {\"family\": \"Arial\", \"size\": 14, \"color\": \"black\"}, \"showarrow\": false}, {\"xref\": \"x1\", \"yref\": \"y1\", \"x\": 33.5, \"y\": 1, \"text\": \"\\uc785\", \"align\": \"left\", \"font\": {\"family\": \"Arial\", \"size\": 14, \"color\": \"black\"}, \"showarrow\": false}, {\"xref\": \"x1\", \"yref\": \"y1\", \"x\": 34.5, \"y\": 1, \"text\": \"\\ub2c8\", \"align\": \"left\", \"font\": {\"family\": \"Arial\", \"size\": 14, \"color\": \"black\"}, \"showarrow\": false}, {\"xref\": \"x1\", \"yref\": \"y1\", \"x\": 35.5, \"y\": 1, \"text\": \"\\ub2e4\", \"align\": \"left\", \"font\": {\"family\": \"Arial\", \"size\": 14, \"color\": \"black\"}, \"showarrow\": false}, {\"xref\": \"x1\", \"yref\": \"y1\", \"x\": 36.5, \"y\": 1, \"text\": \".\", \"align\": \"left\", \"font\": {\"family\": \"Arial\", \"size\": 14, \"color\": \"black\"}, \"showarrow\": false}], \"height\": 80, \"images\": [{\"source\": \"https://raw.githubusercontent.com/fingeredman/teanaps/master/data/logo/teanaps_logo_no-bg.png\", \"xref\": \"paper\", \"yref\": \"paper\", \"x\": 0.5, \"y\": 0.6, \"sizex\": 0.7, \"sizey\": 0.7, \"xanchor\": \"center\", \"yanchor\": \"center\", \"opacity\": 0.3, \"layer\": \"above\"}]}, {\"showLink\": true, \"linkText\": \"Export to plot.ly\"})});</script>"
      ]
     },
     "metadata": {},
     "output_type": "display_data"
    }
   ],
   "source": [
    "input_text = \"TEANAPS는 텍스트 마이닝을 위한 Python 패키지 입니다.\"\n",
    "\n",
    "result = ner.parse(input_text)\n",
    "print(result)\n",
    "result = ner.parse_sentence(input_text)\n",
    "print(result)\n",
    "ner.draw_sentence_weight(input_text)"
   ]
  },
  {
   "cell_type": "code",
   "execution_count": 2,
   "metadata": {},
   "outputs": [
    {
     "name": "stdout",
     "output_type": "stream",
     "text": [
      "[('박보검', 'PS', (6, 9))]\n",
      "이거 완전 <박보검:PS> 두고한 대사 같다  ㅋㅋㅋㅋ\n"
     ]
    },
    {
     "data": {
      "text/html": [
       "\n",
       "                <script src=\"/static/components/requirejs/require.js\"></script>\n",
       "                <script>\n",
       "                  requirejs.config({\n",
       "                    paths: {\n",
       "                      base: '/static/base',\n",
       "                      plotly: 'https://cdn.plot.ly/plotly-latest.min.js?noext',\n",
       "                    },\n",
       "                  });\n",
       "                </script>\n",
       "                "
      ],
      "text/plain": [
       "<IPython.core.display.HTML object>"
      ]
     },
     "metadata": {},
     "output_type": "display_data"
    },
    {
     "data": {
      "text/html": [
       "\n",
       "                <script src=\"/static/components/requirejs/require.js\"></script>\n",
       "                <script>\n",
       "                  requirejs.config({\n",
       "                    paths: {\n",
       "                      base: '/static/base',\n",
       "                      plotly: 'https://cdn.plot.ly/plotly-latest.min.js?noext',\n",
       "                    },\n",
       "                  });\n",
       "                </script>\n",
       "                "
      ],
      "text/plain": [
       "<IPython.core.display.HTML object>"
      ]
     },
     "metadata": {},
     "output_type": "display_data"
    },
    {
     "data": {
      "application/vnd.plotly.v1+json": {
       "data": [
        {
         "hoverinfo": "text",
         "marker": {
          "color": "rgb(251.15472854848375, 253.0773642742419, 255)"
         },
         "orientation": "h",
         "text": "0.02",
         "type": "bar",
         "width": 0.5,
         "x": [
          2
         ],
         "xaxis": "x1",
         "y": [
          1
         ],
         "yaxis": "y1"
        },
        {
         "hoverinfo": "text",
         "marker": {
          "color": "rgb(251.3174897110275, 253.15874485551373, 255)"
         },
         "orientation": "h",
         "text": "0.02",
         "type": "bar",
         "width": 0.5,
         "x": [
          1
         ],
         "xaxis": "x1",
         "y": [
          1
         ],
         "yaxis": "y1"
        },
        {
         "hoverinfo": "text",
         "marker": {
          "color": "rgb(252.96592232266394, 253.98296116133196, 255)"
         },
         "orientation": "h",
         "text": "0.01",
         "type": "bar",
         "width": 0.5,
         "x": [
          3
         ],
         "xaxis": "x1",
         "y": [
          1
         ],
         "yaxis": "y1"
        },
        {
         "hoverinfo": "text",
         "marker": {
          "color": "rgb(238.75633008654194, 246.87816504327097, 255)"
         },
         "orientation": "h",
         "text": "0.08",
         "type": "bar",
         "width": 0.5,
         "x": [
          2
         ],
         "xaxis": "x1",
         "y": [
          1
         ],
         "yaxis": "y1"
        },
        {
         "hoverinfo": "text",
         "marker": {
          "color": "rgb(148.00895162640674, 201.50447581320338, 255)"
         },
         "orientation": "h",
         "text": "0.53",
         "type": "bar",
         "width": 0.5,
         "x": [
          1
         ],
         "xaxis": "x1",
         "y": [
          1
         ],
         "yaxis": "y1"
        },
        {
         "hoverinfo": "text",
         "marker": {
          "color": "rgb(55.0, 155.0, 255)"
         },
         "orientation": "h",
         "text": "1.0",
         "type": "bar",
         "width": 0.5,
         "x": [
          1
         ],
         "xaxis": "x1",
         "y": [
          1
         ],
         "yaxis": "y1"
        },
        {
         "hoverinfo": "text",
         "marker": {
          "color": "rgb(248.56641647425334, 251.78320823712667, 255)"
         },
         "orientation": "h",
         "text": "0.03",
         "type": "bar",
         "width": 0.5,
         "x": [
          3
         ],
         "xaxis": "x1",
         "y": [
          1
         ],
         "yaxis": "y1"
        },
        {
         "hoverinfo": "text",
         "marker": {
          "color": "rgb(245.44717510421165, 250.2235875521058, 255)"
         },
         "orientation": "h",
         "text": "0.05",
         "type": "bar",
         "width": 0.5,
         "x": [
          1
         ],
         "xaxis": "x1",
         "y": [
          1
         ],
         "yaxis": "y1"
        },
        {
         "hoverinfo": "text",
         "marker": {
          "color": "rgb(249.35419175108618, 252.1770958755431, 255)"
         },
         "orientation": "h",
         "text": "0.03",
         "type": "bar",
         "width": 0.5,
         "x": [
          3
         ],
         "xaxis": "x1",
         "y": [
          1
         ],
         "yaxis": "y1"
        },
        {
         "hoverinfo": "text",
         "marker": {
          "color": "rgb(252.3589357702078, 253.6794678851039, 255)"
         },
         "orientation": "h",
         "text": "0.01",
         "type": "bar",
         "width": 0.5,
         "x": [
          3
         ],
         "xaxis": "x1",
         "y": [
          1
         ],
         "yaxis": "y1"
        },
        {
         "hoverinfo": "text",
         "marker": {
          "color": "rgb(251.33819296340033, 253.16909648170017, 255)"
         },
         "orientation": "h",
         "text": "0.02",
         "type": "bar",
         "width": 0.5,
         "x": [
          1
         ],
         "xaxis": "x1",
         "y": [
          1
         ],
         "yaxis": "y1"
        },
        {
         "hoverinfo": "text",
         "marker": {
          "color": "rgb(252.98197216276625, 253.99098608138314, 255)"
         },
         "orientation": "h",
         "text": "0.01",
         "type": "bar",
         "width": 0.5,
         "x": [
          1
         ],
         "xaxis": "x1",
         "y": [
          1
         ],
         "yaxis": "y1"
        },
        {
         "hoverinfo": "text",
         "marker": {
          "color": "rgb(252.86676668763386, 253.93338334381693, 255)"
         },
         "orientation": "h",
         "text": "0.01",
         "type": "bar",
         "width": 0.5,
         "x": [
          1
         ],
         "xaxis": "x1",
         "y": [
          1
         ],
         "yaxis": "y1"
        },
        {
         "hoverinfo": "text",
         "marker": {
          "color": "rgb(252.53096588968768, 253.76548294484382, 255)"
         },
         "orientation": "h",
         "text": "0.01",
         "type": "bar",
         "width": 0.5,
         "x": [
          1
         ],
         "xaxis": "x1",
         "y": [
          1
         ],
         "yaxis": "y1"
        },
        {
         "hoverinfo": "text",
         "marker": {
          "color": "rgb(252.18920782898275, 253.59460391449136, 255)"
         },
         "orientation": "h",
         "text": "0.01",
         "type": "bar",
         "width": 0.5,
         "x": [
          1
         ],
         "xaxis": "x1",
         "y": [
          1
         ],
         "yaxis": "y1"
        },
        {
         "hoverinfo": "text",
         "marker": {
          "color": "rgb(251.26638841091557, 253.13319420545778, 255)"
         },
         "orientation": "h",
         "text": "0.02",
         "type": "bar",
         "width": 0.5,
         "x": [
          1
         ],
         "xaxis": "x1",
         "y": [
          1
         ],
         "yaxis": "y1"
        },
        {
         "hoverinfo": "text",
         "marker": {
          "color": "rgb(255, 255, 255)"
         },
         "orientation": "h",
         "text": "",
         "type": "bar",
         "width": 0.5,
         "x": [
          1
         ],
         "xaxis": "x1",
         "y": [
          1
         ],
         "yaxis": "y1"
        },
        {
         "hoverinfo": "text",
         "marker": {
          "color": "rgb(255, 255, 255)"
         },
         "orientation": "h",
         "text": "",
         "type": "bar",
         "width": 0.5,
         "x": [
          1
         ],
         "xaxis": "x1",
         "y": [
          1
         ],
         "yaxis": "y1"
        },
        {
         "hoverinfo": "text",
         "marker": {
          "color": "rgb(255, 255, 255)"
         },
         "orientation": "h",
         "text": "",
         "type": "bar",
         "width": 0.5,
         "x": [
          1
         ],
         "xaxis": "x1",
         "y": [
          1
         ],
         "yaxis": "y1"
        },
        {
         "hoverinfo": "text",
         "marker": {
          "color": "rgb(255, 255, 255)"
         },
         "orientation": "h",
         "text": "",
         "type": "bar",
         "width": 0.5,
         "x": [
          1
         ],
         "xaxis": "x1",
         "y": [
          1
         ],
         "yaxis": "y1"
        },
        {
         "hoverinfo": "text",
         "marker": {
          "color": "rgb(255, 255, 255)"
         },
         "orientation": "h",
         "text": "",
         "type": "bar",
         "width": 0.5,
         "x": [
          1
         ],
         "xaxis": "x1",
         "y": [
          1
         ],
         "yaxis": "y1"
        },
        {
         "hoverinfo": "text",
         "marker": {
          "color": "rgb(255, 255, 255)"
         },
         "orientation": "h",
         "text": "",
         "type": "bar",
         "width": 0.5,
         "x": [
          1
         ],
         "xaxis": "x1",
         "y": [
          1
         ],
         "yaxis": "y1"
        },
        {
         "hoverinfo": "text",
         "marker": {
          "color": "rgb(255, 255, 255)"
         },
         "orientation": "h",
         "text": "",
         "type": "bar",
         "width": 0.5,
         "x": [
          1
         ],
         "xaxis": "x1",
         "y": [
          1
         ],
         "yaxis": "y1"
        },
        {
         "hoverinfo": "text",
         "marker": {
          "color": "rgb(255, 255, 255)"
         },
         "orientation": "h",
         "text": "",
         "type": "bar",
         "width": 0.5,
         "x": [
          1
         ],
         "xaxis": "x1",
         "y": [
          1
         ],
         "yaxis": "y1"
        },
        {
         "hoverinfo": "text",
         "marker": {
          "color": "rgb(255, 255, 255)"
         },
         "orientation": "h",
         "text": "",
         "type": "bar",
         "width": 0.5,
         "x": [
          1
         ],
         "xaxis": "x1",
         "y": [
          1
         ],
         "yaxis": "y1"
        },
        {
         "hoverinfo": "text",
         "marker": {
          "color": "rgb(255, 255, 255)"
         },
         "orientation": "h",
         "text": "",
         "type": "bar",
         "width": 0.5,
         "x": [
          1
         ],
         "xaxis": "x1",
         "y": [
          1
         ],
         "yaxis": "y1"
        },
        {
         "hoverinfo": "text",
         "marker": {
          "color": "rgb(255, 255, 255)"
         },
         "orientation": "h",
         "text": "",
         "type": "bar",
         "width": 0.5,
         "x": [
          1
         ],
         "xaxis": "x1",
         "y": [
          1
         ],
         "yaxis": "y1"
        },
        {
         "hoverinfo": "text",
         "marker": {
          "color": "rgb(255, 255, 255)"
         },
         "orientation": "h",
         "text": "",
         "type": "bar",
         "width": 0.5,
         "x": [
          1
         ],
         "xaxis": "x1",
         "y": [
          1
         ],
         "yaxis": "y1"
        },
        {
         "hoverinfo": "text",
         "marker": {
          "color": "rgb(255, 255, 255)"
         },
         "orientation": "h",
         "text": "",
         "type": "bar",
         "width": 0.5,
         "x": [
          1
         ],
         "xaxis": "x1",
         "y": [
          1
         ],
         "yaxis": "y1"
        },
        {
         "hoverinfo": "text",
         "marker": {
          "color": "rgb(255, 255, 255)"
         },
         "orientation": "h",
         "text": "",
         "type": "bar",
         "width": 0.5,
         "x": [
          1
         ],
         "xaxis": "x1",
         "y": [
          1
         ],
         "yaxis": "y1"
        },
        {
         "hoverinfo": "text",
         "marker": {
          "color": "rgb(255, 255, 255)"
         },
         "orientation": "h",
         "text": "",
         "type": "bar",
         "width": 0.5,
         "x": [
          1
         ],
         "xaxis": "x1",
         "y": [
          1
         ],
         "yaxis": "y1"
        },
        {
         "hoverinfo": "text",
         "marker": {
          "color": "rgb(255, 255, 255)"
         },
         "orientation": "h",
         "text": "",
         "type": "bar",
         "width": 0.5,
         "x": [
          1
         ],
         "xaxis": "x1",
         "y": [
          1
         ],
         "yaxis": "y1"
        },
        {
         "hoverinfo": "text",
         "marker": {
          "color": "rgb(255, 255, 255)"
         },
         "orientation": "h",
         "text": "",
         "type": "bar",
         "width": 0.5,
         "x": [
          1
         ],
         "xaxis": "x1",
         "y": [
          1
         ],
         "yaxis": "y1"
        },
        {
         "hoverinfo": "text",
         "marker": {
          "color": "rgb(255, 255, 255)"
         },
         "orientation": "h",
         "text": "",
         "type": "bar",
         "width": 0.5,
         "x": [
          1
         ],
         "xaxis": "x1",
         "y": [
          1
         ],
         "yaxis": "y1"
        },
        {
         "hoverinfo": "text",
         "marker": {
          "color": "rgb(255, 255, 255)"
         },
         "orientation": "h",
         "text": "",
         "type": "bar",
         "width": 0.5,
         "x": [
          1
         ],
         "xaxis": "x1",
         "y": [
          1
         ],
         "yaxis": "y1"
        },
        {
         "hoverinfo": "text",
         "marker": {
          "color": "rgb(255, 255, 255)"
         },
         "orientation": "h",
         "text": "",
         "type": "bar",
         "width": 0.5,
         "x": [
          1
         ],
         "xaxis": "x1",
         "y": [
          1
         ],
         "yaxis": "y1"
        },
        {
         "hoverinfo": "text",
         "marker": {
          "color": "rgb(255, 255, 255)"
         },
         "orientation": "h",
         "text": "",
         "type": "bar",
         "width": 0.5,
         "x": [
          1
         ],
         "xaxis": "x1",
         "y": [
          1
         ],
         "yaxis": "y1"
        },
        {
         "hoverinfo": "text",
         "marker": {
          "color": "rgb(255, 255, 255)"
         },
         "orientation": "h",
         "text": "",
         "type": "bar",
         "width": 0.5,
         "x": [
          1
         ],
         "xaxis": "x1",
         "y": [
          1
         ],
         "yaxis": "y1"
        },
        {
         "hoverinfo": "text",
         "marker": {
          "color": "rgb(255, 255, 255)"
         },
         "orientation": "h",
         "text": "",
         "type": "bar",
         "width": 0.5,
         "x": [
          1
         ],
         "xaxis": "x1",
         "y": [
          1
         ],
         "yaxis": "y1"
        },
        {
         "hoverinfo": "text",
         "marker": {
          "color": "rgb(255, 255, 255)"
         },
         "orientation": "h",
         "text": "",
         "type": "bar",
         "width": 0.5,
         "x": [
          1
         ],
         "xaxis": "x1",
         "y": [
          1
         ],
         "yaxis": "y1"
        }
       ],
       "layout": {
        "annotations": [
         {
          "align": "left",
          "font": {
           "color": "black",
           "family": "Arial",
           "size": 14
          },
          "showarrow": false,
          "text": " ",
          "x": 0.5,
          "xref": "x1",
          "y": 1,
          "yref": "y1"
         },
         {
          "align": "left",
          "font": {
           "color": "black",
           "family": "Arial",
           "size": 14
          },
          "showarrow": false,
          "text": "이",
          "x": 1.5,
          "xref": "x1",
          "y": 1,
          "yref": "y1"
         },
         {
          "align": "left",
          "font": {
           "color": "black",
           "family": "Arial",
           "size": 14
          },
          "showarrow": false,
          "text": "거",
          "x": 2.5,
          "xref": "x1",
          "y": 1,
          "yref": "y1"
         },
         {
          "align": "left",
          "font": {
           "color": "black",
           "family": "Arial",
           "size": 14
          },
          "showarrow": false,
          "text": " ",
          "x": 3.5,
          "xref": "x1",
          "y": 1,
          "yref": "y1"
         },
         {
          "align": "left",
          "font": {
           "color": "black",
           "family": "Arial",
           "size": 14
          },
          "showarrow": false,
          "text": "완",
          "x": 4.5,
          "xref": "x1",
          "y": 1,
          "yref": "y1"
         },
         {
          "align": "left",
          "font": {
           "color": "black",
           "family": "Arial",
           "size": 14
          },
          "showarrow": false,
          "text": "전",
          "x": 5.5,
          "xref": "x1",
          "y": 1,
          "yref": "y1"
         },
         {
          "align": "left",
          "font": {
           "color": "black",
           "family": "Arial",
           "size": 14
          },
          "showarrow": false,
          "text": " ",
          "x": 6.5,
          "xref": "x1",
          "y": 1,
          "yref": "y1"
         },
         {
          "align": "left",
          "font": {
           "color": "black",
           "family": "Arial",
           "size": 14
          },
          "showarrow": false,
          "text": "박",
          "x": 7.5,
          "xref": "x1",
          "y": 1,
          "yref": "y1"
         },
         {
          "align": "left",
          "font": {
           "color": "black",
           "family": "Arial",
           "size": 14
          },
          "showarrow": false,
          "text": "보",
          "x": 8.5,
          "xref": "x1",
          "y": 1,
          "yref": "y1"
         },
         {
          "align": "left",
          "font": {
           "color": "black",
           "family": "Arial",
           "size": 14
          },
          "showarrow": false,
          "text": "검",
          "x": 9.5,
          "xref": "x1",
          "y": 1,
          "yref": "y1"
         },
         {
          "align": "left",
          "font": {
           "color": "black",
           "family": "Arial",
           "size": 14
          },
          "showarrow": false,
          "text": " ",
          "x": 10.5,
          "xref": "x1",
          "y": 1,
          "yref": "y1"
         },
         {
          "align": "left",
          "font": {
           "color": "black",
           "family": "Arial",
           "size": 14
          },
          "showarrow": false,
          "text": "두",
          "x": 11.5,
          "xref": "x1",
          "y": 1,
          "yref": "y1"
         },
         {
          "align": "left",
          "font": {
           "color": "black",
           "family": "Arial",
           "size": 14
          },
          "showarrow": false,
          "text": "고",
          "x": 12.5,
          "xref": "x1",
          "y": 1,
          "yref": "y1"
         },
         {
          "align": "left",
          "font": {
           "color": "black",
           "family": "Arial",
           "size": 14
          },
          "showarrow": false,
          "text": "한",
          "x": 13.5,
          "xref": "x1",
          "y": 1,
          "yref": "y1"
         },
         {
          "align": "left",
          "font": {
           "color": "black",
           "family": "Arial",
           "size": 14
          },
          "showarrow": false,
          "text": " ",
          "x": 14.5,
          "xref": "x1",
          "y": 1,
          "yref": "y1"
         },
         {
          "align": "left",
          "font": {
           "color": "black",
           "family": "Arial",
           "size": 14
          },
          "showarrow": false,
          "text": "대",
          "x": 15.5,
          "xref": "x1",
          "y": 1,
          "yref": "y1"
         },
         {
          "align": "left",
          "font": {
           "color": "black",
           "family": "Arial",
           "size": 14
          },
          "showarrow": false,
          "text": "사",
          "x": 16.5,
          "xref": "x1",
          "y": 1,
          "yref": "y1"
         },
         {
          "align": "left",
          "font": {
           "color": "black",
           "family": "Arial",
           "size": 14
          },
          "showarrow": false,
          "text": " ",
          "x": 17.5,
          "xref": "x1",
          "y": 1,
          "yref": "y1"
         },
         {
          "align": "left",
          "font": {
           "color": "black",
           "family": "Arial",
           "size": 14
          },
          "showarrow": false,
          "text": "같",
          "x": 18.5,
          "xref": "x1",
          "y": 1,
          "yref": "y1"
         },
         {
          "align": "left",
          "font": {
           "color": "black",
           "family": "Arial",
           "size": 14
          },
          "showarrow": false,
          "text": "다",
          "x": 19.5,
          "xref": "x1",
          "y": 1,
          "yref": "y1"
         },
         {
          "align": "left",
          "font": {
           "color": "black",
           "family": "Arial",
           "size": 14
          },
          "showarrow": false,
          "text": " ",
          "x": 20.5,
          "xref": "x1",
          "y": 1,
          "yref": "y1"
         },
         {
          "align": "left",
          "font": {
           "color": "black",
           "family": "Arial",
           "size": 14
          },
          "showarrow": false,
          "text": "ᄏ",
          "x": 21.5,
          "xref": "x1",
          "y": 1,
          "yref": "y1"
         },
         {
          "align": "left",
          "font": {
           "color": "black",
           "family": "Arial",
           "size": 14
          },
          "showarrow": false,
          "text": "ᄏ",
          "x": 22.5,
          "xref": "x1",
          "y": 1,
          "yref": "y1"
         },
         {
          "align": "left",
          "font": {
           "color": "black",
           "family": "Arial",
           "size": 14
          },
          "showarrow": false,
          "text": "ᄏ",
          "x": 23.5,
          "xref": "x1",
          "y": 1,
          "yref": "y1"
         },
         {
          "align": "left",
          "font": {
           "color": "black",
           "family": "Arial",
           "size": 14
          },
          "showarrow": false,
          "text": "ᄏ",
          "x": 24.5,
          "xref": "x1",
          "y": 1,
          "yref": "y1"
         },
         {
          "align": "left",
          "font": {
           "color": "black",
           "family": "Arial",
           "size": 14
          },
          "showarrow": false,
          "text": "ᄏ",
          "x": 25.5,
          "xref": "x1",
          "y": 1,
          "yref": "y1"
         }
        ],
        "barmode": "stack",
        "height": 80,
        "images": [
         {
          "layer": "above",
          "opacity": 0.3,
          "sizex": 0.7,
          "sizey": 0.7,
          "source": "https://raw.githubusercontent.com/fingeredman/teanaps/master/data/logo/teanaps_logo_no-bg.png",
          "x": 0.5,
          "xanchor": "center",
          "xref": "paper",
          "y": 0.6,
          "yanchor": "center",
          "yref": "paper"
         }
        ],
        "margin": {
         "b": 30,
         "l": 20,
         "r": 20,
         "t": 10
        },
        "showlegend": false,
        "xaxis1": {
         "anchor": "y1",
         "domain": [
          0,
          1
         ],
         "showgrid": false,
         "showline": false,
         "showticklabels": false,
         "zeroline": false
        },
        "yaxis1": {
         "anchor": "x1",
         "domain": [
          0,
          1
         ],
         "showgrid": false,
         "showline": false,
         "showticklabels": false,
         "zeroline": false
        }
       }
      },
      "text/html": [
       "<div id=\"1c415232-5005-49c3-9a60-c35b2788c94f\" style=\"height: 80px; width: 100%;\" class=\"plotly-graph-div\"></div><script type=\"text/javascript\">require([\"plotly\"], function(Plotly) { window.PLOTLYENV=window.PLOTLYENV || {};window.PLOTLYENV.BASE_URL=\"https://plot.ly\";Plotly.newPlot(\"1c415232-5005-49c3-9a60-c35b2788c94f\", [{\"type\": \"bar\", \"y\": [1], \"x\": [2], \"orientation\": \"h\", \"width\": 0.5, \"text\": \"0.02\", \"hoverinfo\": \"text\", \"marker\": {\"color\": \"rgb(251.15472854848375, 253.0773642742419, 255)\"}, \"xaxis\": \"x1\", \"yaxis\": \"y1\"}, {\"type\": \"bar\", \"y\": [1], \"x\": [1], \"orientation\": \"h\", \"width\": 0.5, \"text\": \"0.02\", \"hoverinfo\": \"text\", \"marker\": {\"color\": \"rgb(251.3174897110275, 253.15874485551373, 255)\"}, \"xaxis\": \"x1\", \"yaxis\": \"y1\"}, {\"type\": \"bar\", \"y\": [1], \"x\": [3], \"orientation\": \"h\", \"width\": 0.5, \"text\": \"0.01\", \"hoverinfo\": \"text\", \"marker\": {\"color\": \"rgb(252.96592232266394, 253.98296116133196, 255)\"}, \"xaxis\": \"x1\", \"yaxis\": \"y1\"}, {\"type\": \"bar\", \"y\": [1], \"x\": [2], \"orientation\": \"h\", \"width\": 0.5, \"text\": \"0.08\", \"hoverinfo\": \"text\", \"marker\": {\"color\": \"rgb(238.75633008654194, 246.87816504327097, 255)\"}, \"xaxis\": \"x1\", \"yaxis\": \"y1\"}, {\"type\": \"bar\", \"y\": [1], \"x\": [1], \"orientation\": \"h\", \"width\": 0.5, \"text\": \"0.53\", \"hoverinfo\": \"text\", \"marker\": {\"color\": \"rgb(148.00895162640674, 201.50447581320338, 255)\"}, \"xaxis\": \"x1\", \"yaxis\": \"y1\"}, {\"type\": \"bar\", \"y\": [1], \"x\": [1], \"orientation\": \"h\", \"width\": 0.5, \"text\": \"1.0\", \"hoverinfo\": \"text\", \"marker\": {\"color\": \"rgb(55.0, 155.0, 255)\"}, \"xaxis\": \"x1\", \"yaxis\": \"y1\"}, {\"type\": \"bar\", \"y\": [1], \"x\": [3], \"orientation\": \"h\", \"width\": 0.5, \"text\": \"0.03\", \"hoverinfo\": \"text\", \"marker\": {\"color\": \"rgb(248.56641647425334, 251.78320823712667, 255)\"}, \"xaxis\": \"x1\", \"yaxis\": \"y1\"}, {\"type\": \"bar\", \"y\": [1], \"x\": [1], \"orientation\": \"h\", \"width\": 0.5, \"text\": \"0.05\", \"hoverinfo\": \"text\", \"marker\": {\"color\": \"rgb(245.44717510421165, 250.2235875521058, 255)\"}, \"xaxis\": \"x1\", \"yaxis\": \"y1\"}, {\"type\": \"bar\", \"y\": [1], \"x\": [3], \"orientation\": \"h\", \"width\": 0.5, \"text\": \"0.03\", \"hoverinfo\": \"text\", \"marker\": {\"color\": \"rgb(249.35419175108618, 252.1770958755431, 255)\"}, \"xaxis\": \"x1\", \"yaxis\": \"y1\"}, {\"type\": \"bar\", \"y\": [1], \"x\": [3], \"orientation\": \"h\", \"width\": 0.5, \"text\": \"0.01\", \"hoverinfo\": \"text\", \"marker\": {\"color\": \"rgb(252.3589357702078, 253.6794678851039, 255)\"}, \"xaxis\": \"x1\", \"yaxis\": \"y1\"}, {\"type\": \"bar\", \"y\": [1], \"x\": [1], \"orientation\": \"h\", \"width\": 0.5, \"text\": \"0.02\", \"hoverinfo\": \"text\", \"marker\": {\"color\": \"rgb(251.33819296340033, 253.16909648170017, 255)\"}, \"xaxis\": \"x1\", \"yaxis\": \"y1\"}, {\"type\": \"bar\", \"y\": [1], \"x\": [1], \"orientation\": \"h\", \"width\": 0.5, \"text\": \"0.01\", \"hoverinfo\": \"text\", \"marker\": {\"color\": \"rgb(252.98197216276625, 253.99098608138314, 255)\"}, \"xaxis\": \"x1\", \"yaxis\": \"y1\"}, {\"type\": \"bar\", \"y\": [1], \"x\": [1], \"orientation\": \"h\", \"width\": 0.5, \"text\": \"0.01\", \"hoverinfo\": \"text\", \"marker\": {\"color\": \"rgb(252.86676668763386, 253.93338334381693, 255)\"}, \"xaxis\": \"x1\", \"yaxis\": \"y1\"}, {\"type\": \"bar\", \"y\": [1], \"x\": [1], \"orientation\": \"h\", \"width\": 0.5, \"text\": \"0.01\", \"hoverinfo\": \"text\", \"marker\": {\"color\": \"rgb(252.53096588968768, 253.76548294484382, 255)\"}, \"xaxis\": \"x1\", \"yaxis\": \"y1\"}, {\"type\": \"bar\", \"y\": [1], \"x\": [1], \"orientation\": \"h\", \"width\": 0.5, \"text\": \"0.01\", \"hoverinfo\": \"text\", \"marker\": {\"color\": \"rgb(252.18920782898275, 253.59460391449136, 255)\"}, \"xaxis\": \"x1\", \"yaxis\": \"y1\"}, {\"type\": \"bar\", \"y\": [1], \"x\": [1], \"orientation\": \"h\", \"width\": 0.5, \"text\": \"0.02\", \"hoverinfo\": \"text\", \"marker\": {\"color\": \"rgb(251.26638841091557, 253.13319420545778, 255)\"}, \"xaxis\": \"x1\", \"yaxis\": \"y1\"}, {\"type\": \"bar\", \"y\": [1], \"x\": [1], \"orientation\": \"h\", \"width\": 0.5, \"text\": \"\", \"hoverinfo\": \"text\", \"marker\": {\"color\": \"rgb(255, 255, 255)\"}, \"xaxis\": \"x1\", \"yaxis\": \"y1\"}, {\"type\": \"bar\", \"y\": [1], \"x\": [1], \"orientation\": \"h\", \"width\": 0.5, \"text\": \"\", \"hoverinfo\": \"text\", \"marker\": {\"color\": \"rgb(255, 255, 255)\"}, \"xaxis\": \"x1\", \"yaxis\": \"y1\"}, {\"type\": \"bar\", \"y\": [1], \"x\": [1], \"orientation\": \"h\", \"width\": 0.5, \"text\": \"\", \"hoverinfo\": \"text\", \"marker\": {\"color\": \"rgb(255, 255, 255)\"}, \"xaxis\": \"x1\", \"yaxis\": \"y1\"}, {\"type\": \"bar\", \"y\": [1], \"x\": [1], \"orientation\": \"h\", \"width\": 0.5, \"text\": \"\", \"hoverinfo\": \"text\", \"marker\": {\"color\": \"rgb(255, 255, 255)\"}, \"xaxis\": \"x1\", \"yaxis\": \"y1\"}, {\"type\": \"bar\", \"y\": [1], \"x\": [1], \"orientation\": \"h\", \"width\": 0.5, \"text\": \"\", \"hoverinfo\": \"text\", \"marker\": {\"color\": \"rgb(255, 255, 255)\"}, \"xaxis\": \"x1\", \"yaxis\": \"y1\"}, {\"type\": \"bar\", \"y\": [1], \"x\": [1], \"orientation\": \"h\", \"width\": 0.5, \"text\": \"\", \"hoverinfo\": \"text\", \"marker\": {\"color\": \"rgb(255, 255, 255)\"}, \"xaxis\": \"x1\", \"yaxis\": \"y1\"}, {\"type\": \"bar\", \"y\": [1], \"x\": [1], \"orientation\": \"h\", \"width\": 0.5, \"text\": \"\", \"hoverinfo\": \"text\", \"marker\": {\"color\": \"rgb(255, 255, 255)\"}, \"xaxis\": \"x1\", \"yaxis\": \"y1\"}, {\"type\": \"bar\", \"y\": [1], \"x\": [1], \"orientation\": \"h\", \"width\": 0.5, \"text\": \"\", \"hoverinfo\": \"text\", \"marker\": {\"color\": \"rgb(255, 255, 255)\"}, \"xaxis\": \"x1\", \"yaxis\": \"y1\"}, {\"type\": \"bar\", \"y\": [1], \"x\": [1], \"orientation\": \"h\", \"width\": 0.5, \"text\": \"\", \"hoverinfo\": \"text\", \"marker\": {\"color\": \"rgb(255, 255, 255)\"}, \"xaxis\": \"x1\", \"yaxis\": \"y1\"}, {\"type\": \"bar\", \"y\": [1], \"x\": [1], \"orientation\": \"h\", \"width\": 0.5, \"text\": \"\", \"hoverinfo\": \"text\", \"marker\": {\"color\": \"rgb(255, 255, 255)\"}, \"xaxis\": \"x1\", \"yaxis\": \"y1\"}, {\"type\": \"bar\", \"y\": [1], \"x\": [1], \"orientation\": \"h\", \"width\": 0.5, \"text\": \"\", \"hoverinfo\": \"text\", \"marker\": {\"color\": \"rgb(255, 255, 255)\"}, \"xaxis\": \"x1\", \"yaxis\": \"y1\"}, {\"type\": \"bar\", \"y\": [1], \"x\": [1], \"orientation\": \"h\", \"width\": 0.5, \"text\": \"\", \"hoverinfo\": \"text\", \"marker\": {\"color\": \"rgb(255, 255, 255)\"}, \"xaxis\": \"x1\", \"yaxis\": \"y1\"}, {\"type\": \"bar\", \"y\": [1], \"x\": [1], \"orientation\": \"h\", \"width\": 0.5, \"text\": \"\", \"hoverinfo\": \"text\", \"marker\": {\"color\": \"rgb(255, 255, 255)\"}, \"xaxis\": \"x1\", \"yaxis\": \"y1\"}, {\"type\": \"bar\", \"y\": [1], \"x\": [1], \"orientation\": \"h\", \"width\": 0.5, \"text\": \"\", \"hoverinfo\": \"text\", \"marker\": {\"color\": \"rgb(255, 255, 255)\"}, \"xaxis\": \"x1\", \"yaxis\": \"y1\"}, {\"type\": \"bar\", \"y\": [1], \"x\": [1], \"orientation\": \"h\", \"width\": 0.5, \"text\": \"\", \"hoverinfo\": \"text\", \"marker\": {\"color\": \"rgb(255, 255, 255)\"}, \"xaxis\": \"x1\", \"yaxis\": \"y1\"}, {\"type\": \"bar\", \"y\": [1], \"x\": [1], \"orientation\": \"h\", \"width\": 0.5, \"text\": \"\", \"hoverinfo\": \"text\", \"marker\": {\"color\": \"rgb(255, 255, 255)\"}, \"xaxis\": \"x1\", \"yaxis\": \"y1\"}, {\"type\": \"bar\", \"y\": [1], \"x\": [1], \"orientation\": \"h\", \"width\": 0.5, \"text\": \"\", \"hoverinfo\": \"text\", \"marker\": {\"color\": \"rgb(255, 255, 255)\"}, \"xaxis\": \"x1\", \"yaxis\": \"y1\"}, {\"type\": \"bar\", \"y\": [1], \"x\": [1], \"orientation\": \"h\", \"width\": 0.5, \"text\": \"\", \"hoverinfo\": \"text\", \"marker\": {\"color\": \"rgb(255, 255, 255)\"}, \"xaxis\": \"x1\", \"yaxis\": \"y1\"}, {\"type\": \"bar\", \"y\": [1], \"x\": [1], \"orientation\": \"h\", \"width\": 0.5, \"text\": \"\", \"hoverinfo\": \"text\", \"marker\": {\"color\": \"rgb(255, 255, 255)\"}, \"xaxis\": \"x1\", \"yaxis\": \"y1\"}, {\"type\": \"bar\", \"y\": [1], \"x\": [1], \"orientation\": \"h\", \"width\": 0.5, \"text\": \"\", \"hoverinfo\": \"text\", \"marker\": {\"color\": \"rgb(255, 255, 255)\"}, \"xaxis\": \"x1\", \"yaxis\": \"y1\"}, {\"type\": \"bar\", \"y\": [1], \"x\": [1], \"orientation\": \"h\", \"width\": 0.5, \"text\": \"\", \"hoverinfo\": \"text\", \"marker\": {\"color\": \"rgb(255, 255, 255)\"}, \"xaxis\": \"x1\", \"yaxis\": \"y1\"}, {\"type\": \"bar\", \"y\": [1], \"x\": [1], \"orientation\": \"h\", \"width\": 0.5, \"text\": \"\", \"hoverinfo\": \"text\", \"marker\": {\"color\": \"rgb(255, 255, 255)\"}, \"xaxis\": \"x1\", \"yaxis\": \"y1\"}, {\"type\": \"bar\", \"y\": [1], \"x\": [1], \"orientation\": \"h\", \"width\": 0.5, \"text\": \"\", \"hoverinfo\": \"text\", \"marker\": {\"color\": \"rgb(255, 255, 255)\"}, \"xaxis\": \"x1\", \"yaxis\": \"y1\"}, {\"type\": \"bar\", \"y\": [1], \"x\": [1], \"orientation\": \"h\", \"width\": 0.5, \"text\": \"\", \"hoverinfo\": \"text\", \"marker\": {\"color\": \"rgb(255, 255, 255)\"}, \"xaxis\": \"x1\", \"yaxis\": \"y1\"}], {\"xaxis1\": {\"domain\": [0.0, 1.0], \"anchor\": \"y1\", \"showgrid\": false, \"showline\": false, \"showticklabels\": false, \"zeroline\": false}, \"yaxis1\": {\"domain\": [0.0, 1.0], \"anchor\": \"x1\", \"showgrid\": false, \"showline\": false, \"showticklabels\": false, \"zeroline\": false}, \"barmode\": \"stack\", \"showlegend\": false, \"margin\": {\"b\": 30, \"l\": 20, \"r\": 20, \"t\": 10}, \"annotations\": [{\"xref\": \"x1\", \"yref\": \"y1\", \"x\": 0.5, \"y\": 1, \"text\": \" \", \"align\": \"left\", \"font\": {\"family\": \"Arial\", \"size\": 14, \"color\": \"black\"}, \"showarrow\": false}, {\"xref\": \"x1\", \"yref\": \"y1\", \"x\": 1.5, \"y\": 1, \"text\": \"\\uc774\", \"align\": \"left\", \"font\": {\"family\": \"Arial\", \"size\": 14, \"color\": \"black\"}, \"showarrow\": false}, {\"xref\": \"x1\", \"yref\": \"y1\", \"x\": 2.5, \"y\": 1, \"text\": \"\\uac70\", \"align\": \"left\", \"font\": {\"family\": \"Arial\", \"size\": 14, \"color\": \"black\"}, \"showarrow\": false}, {\"xref\": \"x1\", \"yref\": \"y1\", \"x\": 3.5, \"y\": 1, \"text\": \" \", \"align\": \"left\", \"font\": {\"family\": \"Arial\", \"size\": 14, \"color\": \"black\"}, \"showarrow\": false}, {\"xref\": \"x1\", \"yref\": \"y1\", \"x\": 4.5, \"y\": 1, \"text\": \"\\uc644\", \"align\": \"left\", \"font\": {\"family\": \"Arial\", \"size\": 14, \"color\": \"black\"}, \"showarrow\": false}, {\"xref\": \"x1\", \"yref\": \"y1\", \"x\": 5.5, \"y\": 1, \"text\": \"\\uc804\", \"align\": \"left\", \"font\": {\"family\": \"Arial\", \"size\": 14, \"color\": \"black\"}, \"showarrow\": false}, {\"xref\": \"x1\", \"yref\": \"y1\", \"x\": 6.5, \"y\": 1, \"text\": \" \", \"align\": \"left\", \"font\": {\"family\": \"Arial\", \"size\": 14, \"color\": \"black\"}, \"showarrow\": false}, {\"xref\": \"x1\", \"yref\": \"y1\", \"x\": 7.5, \"y\": 1, \"text\": \"\\ubc15\", \"align\": \"left\", \"font\": {\"family\": \"Arial\", \"size\": 14, \"color\": \"black\"}, \"showarrow\": false}, {\"xref\": \"x1\", \"yref\": \"y1\", \"x\": 8.5, \"y\": 1, \"text\": \"\\ubcf4\", \"align\": \"left\", \"font\": {\"family\": \"Arial\", \"size\": 14, \"color\": \"black\"}, \"showarrow\": false}, {\"xref\": \"x1\", \"yref\": \"y1\", \"x\": 9.5, \"y\": 1, \"text\": \"\\uac80\", \"align\": \"left\", \"font\": {\"family\": \"Arial\", \"size\": 14, \"color\": \"black\"}, \"showarrow\": false}, {\"xref\": \"x1\", \"yref\": \"y1\", \"x\": 10.5, \"y\": 1, \"text\": \" \", \"align\": \"left\", \"font\": {\"family\": \"Arial\", \"size\": 14, \"color\": \"black\"}, \"showarrow\": false}, {\"xref\": \"x1\", \"yref\": \"y1\", \"x\": 11.5, \"y\": 1, \"text\": \"\\ub450\", \"align\": \"left\", \"font\": {\"family\": \"Arial\", \"size\": 14, \"color\": \"black\"}, \"showarrow\": false}, {\"xref\": \"x1\", \"yref\": \"y1\", \"x\": 12.5, \"y\": 1, \"text\": \"\\uace0\", \"align\": \"left\", \"font\": {\"family\": \"Arial\", \"size\": 14, \"color\": \"black\"}, \"showarrow\": false}, {\"xref\": \"x1\", \"yref\": \"y1\", \"x\": 13.5, \"y\": 1, \"text\": \"\\ud55c\", \"align\": \"left\", \"font\": {\"family\": \"Arial\", \"size\": 14, \"color\": \"black\"}, \"showarrow\": false}, {\"xref\": \"x1\", \"yref\": \"y1\", \"x\": 14.5, \"y\": 1, \"text\": \" \", \"align\": \"left\", \"font\": {\"family\": \"Arial\", \"size\": 14, \"color\": \"black\"}, \"showarrow\": false}, {\"xref\": \"x1\", \"yref\": \"y1\", \"x\": 15.5, \"y\": 1, \"text\": \"\\ub300\", \"align\": \"left\", \"font\": {\"family\": \"Arial\", \"size\": 14, \"color\": \"black\"}, \"showarrow\": false}, {\"xref\": \"x1\", \"yref\": \"y1\", \"x\": 16.5, \"y\": 1, \"text\": \"\\uc0ac\", \"align\": \"left\", \"font\": {\"family\": \"Arial\", \"size\": 14, \"color\": \"black\"}, \"showarrow\": false}, {\"xref\": \"x1\", \"yref\": \"y1\", \"x\": 17.5, \"y\": 1, \"text\": \" \", \"align\": \"left\", \"font\": {\"family\": \"Arial\", \"size\": 14, \"color\": \"black\"}, \"showarrow\": false}, {\"xref\": \"x1\", \"yref\": \"y1\", \"x\": 18.5, \"y\": 1, \"text\": \"\\uac19\", \"align\": \"left\", \"font\": {\"family\": \"Arial\", \"size\": 14, \"color\": \"black\"}, \"showarrow\": false}, {\"xref\": \"x1\", \"yref\": \"y1\", \"x\": 19.5, \"y\": 1, \"text\": \"\\ub2e4\", \"align\": \"left\", \"font\": {\"family\": \"Arial\", \"size\": 14, \"color\": \"black\"}, \"showarrow\": false}, {\"xref\": \"x1\", \"yref\": \"y1\", \"x\": 20.5, \"y\": 1, \"text\": \" \", \"align\": \"left\", \"font\": {\"family\": \"Arial\", \"size\": 14, \"color\": \"black\"}, \"showarrow\": false}, {\"xref\": \"x1\", \"yref\": \"y1\", \"x\": 21.5, \"y\": 1, \"text\": \"\\u110f\", \"align\": \"left\", \"font\": {\"family\": \"Arial\", \"size\": 14, \"color\": \"black\"}, \"showarrow\": false}, {\"xref\": \"x1\", \"yref\": \"y1\", \"x\": 22.5, \"y\": 1, \"text\": \"\\u110f\", \"align\": \"left\", \"font\": {\"family\": \"Arial\", \"size\": 14, \"color\": \"black\"}, \"showarrow\": false}, {\"xref\": \"x1\", \"yref\": \"y1\", \"x\": 23.5, \"y\": 1, \"text\": \"\\u110f\", \"align\": \"left\", \"font\": {\"family\": \"Arial\", \"size\": 14, \"color\": \"black\"}, \"showarrow\": false}, {\"xref\": \"x1\", \"yref\": \"y1\", \"x\": 24.5, \"y\": 1, \"text\": \"\\u110f\", \"align\": \"left\", \"font\": {\"family\": \"Arial\", \"size\": 14, \"color\": \"black\"}, \"showarrow\": false}, {\"xref\": \"x1\", \"yref\": \"y1\", \"x\": 25.5, \"y\": 1, \"text\": \"\\u110f\", \"align\": \"left\", \"font\": {\"family\": \"Arial\", \"size\": 14, \"color\": \"black\"}, \"showarrow\": false}], \"height\": 80, \"images\": [{\"source\": \"https://raw.githubusercontent.com/fingeredman/teanaps/master/data/logo/teanaps_logo_no-bg.png\", \"xref\": \"paper\", \"yref\": \"paper\", \"x\": 0.5, \"y\": 0.6, \"sizex\": 0.7, \"sizey\": 0.7, \"xanchor\": \"center\", \"yanchor\": \"center\", \"opacity\": 0.3, \"layer\": \"above\"}]}, {\"showLink\": true, \"linkText\": \"Export to plot.ly\"})});</script>"
      ],
      "text/vnd.plotly.v1+html": [
       "<div id=\"1c415232-5005-49c3-9a60-c35b2788c94f\" style=\"height: 80px; width: 100%;\" class=\"plotly-graph-div\"></div><script type=\"text/javascript\">require([\"plotly\"], function(Plotly) { window.PLOTLYENV=window.PLOTLYENV || {};window.PLOTLYENV.BASE_URL=\"https://plot.ly\";Plotly.newPlot(\"1c415232-5005-49c3-9a60-c35b2788c94f\", [{\"type\": \"bar\", \"y\": [1], \"x\": [2], \"orientation\": \"h\", \"width\": 0.5, \"text\": \"0.02\", \"hoverinfo\": \"text\", \"marker\": {\"color\": \"rgb(251.15472854848375, 253.0773642742419, 255)\"}, \"xaxis\": \"x1\", \"yaxis\": \"y1\"}, {\"type\": \"bar\", \"y\": [1], \"x\": [1], \"orientation\": \"h\", \"width\": 0.5, \"text\": \"0.02\", \"hoverinfo\": \"text\", \"marker\": {\"color\": \"rgb(251.3174897110275, 253.15874485551373, 255)\"}, \"xaxis\": \"x1\", \"yaxis\": \"y1\"}, {\"type\": \"bar\", \"y\": [1], \"x\": [3], \"orientation\": \"h\", \"width\": 0.5, \"text\": \"0.01\", \"hoverinfo\": \"text\", \"marker\": {\"color\": \"rgb(252.96592232266394, 253.98296116133196, 255)\"}, \"xaxis\": \"x1\", \"yaxis\": \"y1\"}, {\"type\": \"bar\", \"y\": [1], \"x\": [2], \"orientation\": \"h\", \"width\": 0.5, \"text\": \"0.08\", \"hoverinfo\": \"text\", \"marker\": {\"color\": \"rgb(238.75633008654194, 246.87816504327097, 255)\"}, \"xaxis\": \"x1\", \"yaxis\": \"y1\"}, {\"type\": \"bar\", \"y\": [1], \"x\": [1], \"orientation\": \"h\", \"width\": 0.5, \"text\": \"0.53\", \"hoverinfo\": \"text\", \"marker\": {\"color\": \"rgb(148.00895162640674, 201.50447581320338, 255)\"}, \"xaxis\": \"x1\", \"yaxis\": \"y1\"}, {\"type\": \"bar\", \"y\": [1], \"x\": [1], \"orientation\": \"h\", \"width\": 0.5, \"text\": \"1.0\", \"hoverinfo\": \"text\", \"marker\": {\"color\": \"rgb(55.0, 155.0, 255)\"}, \"xaxis\": \"x1\", \"yaxis\": \"y1\"}, {\"type\": \"bar\", \"y\": [1], \"x\": [3], \"orientation\": \"h\", \"width\": 0.5, \"text\": \"0.03\", \"hoverinfo\": \"text\", \"marker\": {\"color\": \"rgb(248.56641647425334, 251.78320823712667, 255)\"}, \"xaxis\": \"x1\", \"yaxis\": \"y1\"}, {\"type\": \"bar\", \"y\": [1], \"x\": [1], \"orientation\": \"h\", \"width\": 0.5, \"text\": \"0.05\", \"hoverinfo\": \"text\", \"marker\": {\"color\": \"rgb(245.44717510421165, 250.2235875521058, 255)\"}, \"xaxis\": \"x1\", \"yaxis\": \"y1\"}, {\"type\": \"bar\", \"y\": [1], \"x\": [3], \"orientation\": \"h\", \"width\": 0.5, \"text\": \"0.03\", \"hoverinfo\": \"text\", \"marker\": {\"color\": \"rgb(249.35419175108618, 252.1770958755431, 255)\"}, \"xaxis\": \"x1\", \"yaxis\": \"y1\"}, {\"type\": \"bar\", \"y\": [1], \"x\": [3], \"orientation\": \"h\", \"width\": 0.5, \"text\": \"0.01\", \"hoverinfo\": \"text\", \"marker\": {\"color\": \"rgb(252.3589357702078, 253.6794678851039, 255)\"}, \"xaxis\": \"x1\", \"yaxis\": \"y1\"}, {\"type\": \"bar\", \"y\": [1], \"x\": [1], \"orientation\": \"h\", \"width\": 0.5, \"text\": \"0.02\", \"hoverinfo\": \"text\", \"marker\": {\"color\": \"rgb(251.33819296340033, 253.16909648170017, 255)\"}, \"xaxis\": \"x1\", \"yaxis\": \"y1\"}, {\"type\": \"bar\", \"y\": [1], \"x\": [1], \"orientation\": \"h\", \"width\": 0.5, \"text\": \"0.01\", \"hoverinfo\": \"text\", \"marker\": {\"color\": \"rgb(252.98197216276625, 253.99098608138314, 255)\"}, \"xaxis\": \"x1\", \"yaxis\": \"y1\"}, {\"type\": \"bar\", \"y\": [1], \"x\": [1], \"orientation\": \"h\", \"width\": 0.5, \"text\": \"0.01\", \"hoverinfo\": \"text\", \"marker\": {\"color\": \"rgb(252.86676668763386, 253.93338334381693, 255)\"}, \"xaxis\": \"x1\", \"yaxis\": \"y1\"}, {\"type\": \"bar\", \"y\": [1], \"x\": [1], \"orientation\": \"h\", \"width\": 0.5, \"text\": \"0.01\", \"hoverinfo\": \"text\", \"marker\": {\"color\": \"rgb(252.53096588968768, 253.76548294484382, 255)\"}, \"xaxis\": \"x1\", \"yaxis\": \"y1\"}, {\"type\": \"bar\", \"y\": [1], \"x\": [1], \"orientation\": \"h\", \"width\": 0.5, \"text\": \"0.01\", \"hoverinfo\": \"text\", \"marker\": {\"color\": \"rgb(252.18920782898275, 253.59460391449136, 255)\"}, \"xaxis\": \"x1\", \"yaxis\": \"y1\"}, {\"type\": \"bar\", \"y\": [1], \"x\": [1], \"orientation\": \"h\", \"width\": 0.5, \"text\": \"0.02\", \"hoverinfo\": \"text\", \"marker\": {\"color\": \"rgb(251.26638841091557, 253.13319420545778, 255)\"}, \"xaxis\": \"x1\", \"yaxis\": \"y1\"}, {\"type\": \"bar\", \"y\": [1], \"x\": [1], \"orientation\": \"h\", \"width\": 0.5, \"text\": \"\", \"hoverinfo\": \"text\", \"marker\": {\"color\": \"rgb(255, 255, 255)\"}, \"xaxis\": \"x1\", \"yaxis\": \"y1\"}, {\"type\": \"bar\", \"y\": [1], \"x\": [1], \"orientation\": \"h\", \"width\": 0.5, \"text\": \"\", \"hoverinfo\": \"text\", \"marker\": {\"color\": \"rgb(255, 255, 255)\"}, \"xaxis\": \"x1\", \"yaxis\": \"y1\"}, {\"type\": \"bar\", \"y\": [1], \"x\": [1], \"orientation\": \"h\", \"width\": 0.5, \"text\": \"\", \"hoverinfo\": \"text\", \"marker\": {\"color\": \"rgb(255, 255, 255)\"}, \"xaxis\": \"x1\", \"yaxis\": \"y1\"}, {\"type\": \"bar\", \"y\": [1], \"x\": [1], \"orientation\": \"h\", \"width\": 0.5, \"text\": \"\", \"hoverinfo\": \"text\", \"marker\": {\"color\": \"rgb(255, 255, 255)\"}, \"xaxis\": \"x1\", \"yaxis\": \"y1\"}, {\"type\": \"bar\", \"y\": [1], \"x\": [1], \"orientation\": \"h\", \"width\": 0.5, \"text\": \"\", \"hoverinfo\": \"text\", \"marker\": {\"color\": \"rgb(255, 255, 255)\"}, \"xaxis\": \"x1\", \"yaxis\": \"y1\"}, {\"type\": \"bar\", \"y\": [1], \"x\": [1], \"orientation\": \"h\", \"width\": 0.5, \"text\": \"\", \"hoverinfo\": \"text\", \"marker\": {\"color\": \"rgb(255, 255, 255)\"}, \"xaxis\": \"x1\", \"yaxis\": \"y1\"}, {\"type\": \"bar\", \"y\": [1], \"x\": [1], \"orientation\": \"h\", \"width\": 0.5, \"text\": \"\", \"hoverinfo\": \"text\", \"marker\": {\"color\": \"rgb(255, 255, 255)\"}, \"xaxis\": \"x1\", \"yaxis\": \"y1\"}, {\"type\": \"bar\", \"y\": [1], \"x\": [1], \"orientation\": \"h\", \"width\": 0.5, \"text\": \"\", \"hoverinfo\": \"text\", \"marker\": {\"color\": \"rgb(255, 255, 255)\"}, \"xaxis\": \"x1\", \"yaxis\": \"y1\"}, {\"type\": \"bar\", \"y\": [1], \"x\": [1], \"orientation\": \"h\", \"width\": 0.5, \"text\": \"\", \"hoverinfo\": \"text\", \"marker\": {\"color\": \"rgb(255, 255, 255)\"}, \"xaxis\": \"x1\", \"yaxis\": \"y1\"}, {\"type\": \"bar\", \"y\": [1], \"x\": [1], \"orientation\": \"h\", \"width\": 0.5, \"text\": \"\", \"hoverinfo\": \"text\", \"marker\": {\"color\": \"rgb(255, 255, 255)\"}, \"xaxis\": \"x1\", \"yaxis\": \"y1\"}, {\"type\": \"bar\", \"y\": [1], \"x\": [1], \"orientation\": \"h\", \"width\": 0.5, \"text\": \"\", \"hoverinfo\": \"text\", \"marker\": {\"color\": \"rgb(255, 255, 255)\"}, \"xaxis\": \"x1\", \"yaxis\": \"y1\"}, {\"type\": \"bar\", \"y\": [1], \"x\": [1], \"orientation\": \"h\", \"width\": 0.5, \"text\": \"\", \"hoverinfo\": \"text\", \"marker\": {\"color\": \"rgb(255, 255, 255)\"}, \"xaxis\": \"x1\", \"yaxis\": \"y1\"}, {\"type\": \"bar\", \"y\": [1], \"x\": [1], \"orientation\": \"h\", \"width\": 0.5, \"text\": \"\", \"hoverinfo\": \"text\", \"marker\": {\"color\": \"rgb(255, 255, 255)\"}, \"xaxis\": \"x1\", \"yaxis\": \"y1\"}, {\"type\": \"bar\", \"y\": [1], \"x\": [1], \"orientation\": \"h\", \"width\": 0.5, \"text\": \"\", \"hoverinfo\": \"text\", \"marker\": {\"color\": \"rgb(255, 255, 255)\"}, \"xaxis\": \"x1\", \"yaxis\": \"y1\"}, {\"type\": \"bar\", \"y\": [1], \"x\": [1], \"orientation\": \"h\", \"width\": 0.5, \"text\": \"\", \"hoverinfo\": \"text\", \"marker\": {\"color\": \"rgb(255, 255, 255)\"}, \"xaxis\": \"x1\", \"yaxis\": \"y1\"}, {\"type\": \"bar\", \"y\": [1], \"x\": [1], \"orientation\": \"h\", \"width\": 0.5, \"text\": \"\", \"hoverinfo\": \"text\", \"marker\": {\"color\": \"rgb(255, 255, 255)\"}, \"xaxis\": \"x1\", \"yaxis\": \"y1\"}, {\"type\": \"bar\", \"y\": [1], \"x\": [1], \"orientation\": \"h\", \"width\": 0.5, \"text\": \"\", \"hoverinfo\": \"text\", \"marker\": {\"color\": \"rgb(255, 255, 255)\"}, \"xaxis\": \"x1\", \"yaxis\": \"y1\"}, {\"type\": \"bar\", \"y\": [1], \"x\": [1], \"orientation\": \"h\", \"width\": 0.5, \"text\": \"\", \"hoverinfo\": \"text\", \"marker\": {\"color\": \"rgb(255, 255, 255)\"}, \"xaxis\": \"x1\", \"yaxis\": \"y1\"}, {\"type\": \"bar\", \"y\": [1], \"x\": [1], \"orientation\": \"h\", \"width\": 0.5, \"text\": \"\", \"hoverinfo\": \"text\", \"marker\": {\"color\": \"rgb(255, 255, 255)\"}, \"xaxis\": \"x1\", \"yaxis\": \"y1\"}, {\"type\": \"bar\", \"y\": [1], \"x\": [1], \"orientation\": \"h\", \"width\": 0.5, \"text\": \"\", \"hoverinfo\": \"text\", \"marker\": {\"color\": \"rgb(255, 255, 255)\"}, \"xaxis\": \"x1\", \"yaxis\": \"y1\"}, {\"type\": \"bar\", \"y\": [1], \"x\": [1], \"orientation\": \"h\", \"width\": 0.5, \"text\": \"\", \"hoverinfo\": \"text\", \"marker\": {\"color\": \"rgb(255, 255, 255)\"}, \"xaxis\": \"x1\", \"yaxis\": \"y1\"}, {\"type\": \"bar\", \"y\": [1], \"x\": [1], \"orientation\": \"h\", \"width\": 0.5, \"text\": \"\", \"hoverinfo\": \"text\", \"marker\": {\"color\": \"rgb(255, 255, 255)\"}, \"xaxis\": \"x1\", \"yaxis\": \"y1\"}, {\"type\": \"bar\", \"y\": [1], \"x\": [1], \"orientation\": \"h\", \"width\": 0.5, \"text\": \"\", \"hoverinfo\": \"text\", \"marker\": {\"color\": \"rgb(255, 255, 255)\"}, \"xaxis\": \"x1\", \"yaxis\": \"y1\"}, {\"type\": \"bar\", \"y\": [1], \"x\": [1], \"orientation\": \"h\", \"width\": 0.5, \"text\": \"\", \"hoverinfo\": \"text\", \"marker\": {\"color\": \"rgb(255, 255, 255)\"}, \"xaxis\": \"x1\", \"yaxis\": \"y1\"}], {\"xaxis1\": {\"domain\": [0.0, 1.0], \"anchor\": \"y1\", \"showgrid\": false, \"showline\": false, \"showticklabels\": false, \"zeroline\": false}, \"yaxis1\": {\"domain\": [0.0, 1.0], \"anchor\": \"x1\", \"showgrid\": false, \"showline\": false, \"showticklabels\": false, \"zeroline\": false}, \"barmode\": \"stack\", \"showlegend\": false, \"margin\": {\"b\": 30, \"l\": 20, \"r\": 20, \"t\": 10}, \"annotations\": [{\"xref\": \"x1\", \"yref\": \"y1\", \"x\": 0.5, \"y\": 1, \"text\": \" \", \"align\": \"left\", \"font\": {\"family\": \"Arial\", \"size\": 14, \"color\": \"black\"}, \"showarrow\": false}, {\"xref\": \"x1\", \"yref\": \"y1\", \"x\": 1.5, \"y\": 1, \"text\": \"\\uc774\", \"align\": \"left\", \"font\": {\"family\": \"Arial\", \"size\": 14, \"color\": \"black\"}, \"showarrow\": false}, {\"xref\": \"x1\", \"yref\": \"y1\", \"x\": 2.5, \"y\": 1, \"text\": \"\\uac70\", \"align\": \"left\", \"font\": {\"family\": \"Arial\", \"size\": 14, \"color\": \"black\"}, \"showarrow\": false}, {\"xref\": \"x1\", \"yref\": \"y1\", \"x\": 3.5, \"y\": 1, \"text\": \" \", \"align\": \"left\", \"font\": {\"family\": \"Arial\", \"size\": 14, \"color\": \"black\"}, \"showarrow\": false}, {\"xref\": \"x1\", \"yref\": \"y1\", \"x\": 4.5, \"y\": 1, \"text\": \"\\uc644\", \"align\": \"left\", \"font\": {\"family\": \"Arial\", \"size\": 14, \"color\": \"black\"}, \"showarrow\": false}, {\"xref\": \"x1\", \"yref\": \"y1\", \"x\": 5.5, \"y\": 1, \"text\": \"\\uc804\", \"align\": \"left\", \"font\": {\"family\": \"Arial\", \"size\": 14, \"color\": \"black\"}, \"showarrow\": false}, {\"xref\": \"x1\", \"yref\": \"y1\", \"x\": 6.5, \"y\": 1, \"text\": \" \", \"align\": \"left\", \"font\": {\"family\": \"Arial\", \"size\": 14, \"color\": \"black\"}, \"showarrow\": false}, {\"xref\": \"x1\", \"yref\": \"y1\", \"x\": 7.5, \"y\": 1, \"text\": \"\\ubc15\", \"align\": \"left\", \"font\": {\"family\": \"Arial\", \"size\": 14, \"color\": \"black\"}, \"showarrow\": false}, {\"xref\": \"x1\", \"yref\": \"y1\", \"x\": 8.5, \"y\": 1, \"text\": \"\\ubcf4\", \"align\": \"left\", \"font\": {\"family\": \"Arial\", \"size\": 14, \"color\": \"black\"}, \"showarrow\": false}, {\"xref\": \"x1\", \"yref\": \"y1\", \"x\": 9.5, \"y\": 1, \"text\": \"\\uac80\", \"align\": \"left\", \"font\": {\"family\": \"Arial\", \"size\": 14, \"color\": \"black\"}, \"showarrow\": false}, {\"xref\": \"x1\", \"yref\": \"y1\", \"x\": 10.5, \"y\": 1, \"text\": \" \", \"align\": \"left\", \"font\": {\"family\": \"Arial\", \"size\": 14, \"color\": \"black\"}, \"showarrow\": false}, {\"xref\": \"x1\", \"yref\": \"y1\", \"x\": 11.5, \"y\": 1, \"text\": \"\\ub450\", \"align\": \"left\", \"font\": {\"family\": \"Arial\", \"size\": 14, \"color\": \"black\"}, \"showarrow\": false}, {\"xref\": \"x1\", \"yref\": \"y1\", \"x\": 12.5, \"y\": 1, \"text\": \"\\uace0\", \"align\": \"left\", \"font\": {\"family\": \"Arial\", \"size\": 14, \"color\": \"black\"}, \"showarrow\": false}, {\"xref\": \"x1\", \"yref\": \"y1\", \"x\": 13.5, \"y\": 1, \"text\": \"\\ud55c\", \"align\": \"left\", \"font\": {\"family\": \"Arial\", \"size\": 14, \"color\": \"black\"}, \"showarrow\": false}, {\"xref\": \"x1\", \"yref\": \"y1\", \"x\": 14.5, \"y\": 1, \"text\": \" \", \"align\": \"left\", \"font\": {\"family\": \"Arial\", \"size\": 14, \"color\": \"black\"}, \"showarrow\": false}, {\"xref\": \"x1\", \"yref\": \"y1\", \"x\": 15.5, \"y\": 1, \"text\": \"\\ub300\", \"align\": \"left\", \"font\": {\"family\": \"Arial\", \"size\": 14, \"color\": \"black\"}, \"showarrow\": false}, {\"xref\": \"x1\", \"yref\": \"y1\", \"x\": 16.5, \"y\": 1, \"text\": \"\\uc0ac\", \"align\": \"left\", \"font\": {\"family\": \"Arial\", \"size\": 14, \"color\": \"black\"}, \"showarrow\": false}, {\"xref\": \"x1\", \"yref\": \"y1\", \"x\": 17.5, \"y\": 1, \"text\": \" \", \"align\": \"left\", \"font\": {\"family\": \"Arial\", \"size\": 14, \"color\": \"black\"}, \"showarrow\": false}, {\"xref\": \"x1\", \"yref\": \"y1\", \"x\": 18.5, \"y\": 1, \"text\": \"\\uac19\", \"align\": \"left\", \"font\": {\"family\": \"Arial\", \"size\": 14, \"color\": \"black\"}, \"showarrow\": false}, {\"xref\": \"x1\", \"yref\": \"y1\", \"x\": 19.5, \"y\": 1, \"text\": \"\\ub2e4\", \"align\": \"left\", \"font\": {\"family\": \"Arial\", \"size\": 14, \"color\": \"black\"}, \"showarrow\": false}, {\"xref\": \"x1\", \"yref\": \"y1\", \"x\": 20.5, \"y\": 1, \"text\": \" \", \"align\": \"left\", \"font\": {\"family\": \"Arial\", \"size\": 14, \"color\": \"black\"}, \"showarrow\": false}, {\"xref\": \"x1\", \"yref\": \"y1\", \"x\": 21.5, \"y\": 1, \"text\": \"\\u110f\", \"align\": \"left\", \"font\": {\"family\": \"Arial\", \"size\": 14, \"color\": \"black\"}, \"showarrow\": false}, {\"xref\": \"x1\", \"yref\": \"y1\", \"x\": 22.5, \"y\": 1, \"text\": \"\\u110f\", \"align\": \"left\", \"font\": {\"family\": \"Arial\", \"size\": 14, \"color\": \"black\"}, \"showarrow\": false}, {\"xref\": \"x1\", \"yref\": \"y1\", \"x\": 23.5, \"y\": 1, \"text\": \"\\u110f\", \"align\": \"left\", \"font\": {\"family\": \"Arial\", \"size\": 14, \"color\": \"black\"}, \"showarrow\": false}, {\"xref\": \"x1\", \"yref\": \"y1\", \"x\": 24.5, \"y\": 1, \"text\": \"\\u110f\", \"align\": \"left\", \"font\": {\"family\": \"Arial\", \"size\": 14, \"color\": \"black\"}, \"showarrow\": false}, {\"xref\": \"x1\", \"yref\": \"y1\", \"x\": 25.5, \"y\": 1, \"text\": \"\\u110f\", \"align\": \"left\", \"font\": {\"family\": \"Arial\", \"size\": 14, \"color\": \"black\"}, \"showarrow\": false}], \"height\": 80, \"images\": [{\"source\": \"https://raw.githubusercontent.com/fingeredman/teanaps/master/data/logo/teanaps_logo_no-bg.png\", \"xref\": \"paper\", \"yref\": \"paper\", \"x\": 0.5, \"y\": 0.6, \"sizex\": 0.7, \"sizey\": 0.7, \"xanchor\": \"center\", \"yanchor\": \"center\", \"opacity\": 0.3, \"layer\": \"above\"}]}, {\"showLink\": true, \"linkText\": \"Export to plot.ly\"})});</script>"
      ]
     },
     "metadata": {},
     "output_type": "display_data"
    }
   ],
   "source": [
    "input_text = \"이거 완전 박보검 두고한 대사 같다 ㅋㅋㅋㅋㅋ\"\n",
    "\n",
    "result = ner.parse(input_text)\n",
    "print(result)\n",
    "result = ner.parse_sentence(input_text)\n",
    "print(result)\n",
    "ner.draw_sentence_weight(input_text)"
   ]
  },
  {
   "cell_type": "code",
   "execution_count": 3,
   "metadata": {},
   "outputs": [
    {
     "name": "stdout",
     "output_type": "stream",
     "text": [
      "[('사혜준', 'PS', (3, 6)), ('안정하', 'PS', (8, 11))]\n",
      "저만 <사혜준:PS>이 <안정하:PS>한테 자기 앞에서만 술 먹으라고 너무 귀엽다고 말하는 영상 찾고 있나요?ㅠㅠㅠㅠ\n"
     ]
    },
    {
     "data": {
      "text/html": [
       "\n",
       "                <script src=\"/static/components/requirejs/require.js\"></script>\n",
       "                <script>\n",
       "                  requirejs.config({\n",
       "                    paths: {\n",
       "                      base: '/static/base',\n",
       "                      plotly: 'https://cdn.plot.ly/plotly-latest.min.js?noext',\n",
       "                    },\n",
       "                  });\n",
       "                </script>\n",
       "                "
      ],
      "text/plain": [
       "<IPython.core.display.HTML object>"
      ]
     },
     "metadata": {},
     "output_type": "display_data"
    },
    {
     "data": {
      "text/html": [
       "\n",
       "                <script src=\"/static/components/requirejs/require.js\"></script>\n",
       "                <script>\n",
       "                  requirejs.config({\n",
       "                    paths: {\n",
       "                      base: '/static/base',\n",
       "                      plotly: 'https://cdn.plot.ly/plotly-latest.min.js?noext',\n",
       "                    },\n",
       "                  });\n",
       "                </script>\n",
       "                "
      ],
      "text/plain": [
       "<IPython.core.display.HTML object>"
      ]
     },
     "metadata": {},
     "output_type": "display_data"
    },
    {
     "data": {
      "application/vnd.plotly.v1+json": {
       "data": [
        {
         "hoverinfo": "text",
         "marker": {
          "color": "rgb(251.06499618183983, 253.03249809091992, 255)"
         },
         "orientation": "h",
         "text": "0.02",
         "type": "bar",
         "width": 0.5,
         "x": [
          2
         ],
         "xaxis": "x1",
         "y": [
          1
         ],
         "yaxis": "y1"
        },
        {
         "hoverinfo": "text",
         "marker": {
          "color": "rgb(250.28741255807805, 252.643706279039, 255)"
         },
         "orientation": "h",
         "text": "0.02",
         "type": "bar",
         "width": 0.5,
         "x": [
          1
         ],
         "xaxis": "x1",
         "y": [
          1
         ],
         "yaxis": "y1"
        },
        {
         "hoverinfo": "text",
         "marker": {
          "color": "rgb(240.48860037034441, 247.74430018517222, 255)"
         },
         "orientation": "h",
         "text": "0.07",
         "type": "bar",
         "width": 0.5,
         "x": [
          2
         ],
         "xaxis": "x1",
         "y": [
          1
         ],
         "yaxis": "y1"
        },
        {
         "hoverinfo": "text",
         "marker": {
          "color": "rgb(125.79113575345005, 190.395567876725, 255)"
         },
         "orientation": "h",
         "text": "0.65",
         "type": "bar",
         "width": 0.5,
         "x": [
          1
         ],
         "xaxis": "x1",
         "y": [
          1
         ],
         "yaxis": "y1"
        },
        {
         "hoverinfo": "text",
         "marker": {
          "color": "rgb(136.04510944679117, 195.5225547233956, 255)"
         },
         "orientation": "h",
         "text": "0.59",
         "type": "bar",
         "width": 0.5,
         "x": [
          1
         ],
         "xaxis": "x1",
         "y": [
          1
         ],
         "yaxis": "y1"
        },
        {
         "hoverinfo": "text",
         "marker": {
          "color": "rgb(251.49827542253226, 253.24913771126612, 255)"
         },
         "orientation": "h",
         "text": "0.02",
         "type": "bar",
         "width": 0.5,
         "x": [
          1
         ],
         "xaxis": "x1",
         "y": [
          1
         ],
         "yaxis": "y1"
        },
        {
         "hoverinfo": "text",
         "marker": {
          "color": "rgb(241.74777535912048, 248.37388767956023, 255)"
         },
         "orientation": "h",
         "text": "0.07",
         "type": "bar",
         "width": 0.5,
         "x": [
          3
         ],
         "xaxis": "x1",
         "y": [
          1
         ],
         "yaxis": "y1"
        },
        {
         "hoverinfo": "text",
         "marker": {
          "color": "rgb(55.0, 155.0, 255)"
         },
         "orientation": "h",
         "text": "1.0",
         "type": "bar",
         "width": 0.5,
         "x": [
          1
         ],
         "xaxis": "x1",
         "y": [
          1
         ],
         "yaxis": "y1"
        },
        {
         "hoverinfo": "text",
         "marker": {
          "color": "rgb(252.15549416831678, 253.5777470841584, 255)"
         },
         "orientation": "h",
         "text": "0.01",
         "type": "bar",
         "width": 0.5,
         "x": [
          2
         ],
         "xaxis": "x1",
         "y": [
          1
         ],
         "yaxis": "y1"
        },
        {
         "hoverinfo": "text",
         "marker": {
          "color": "rgb(252.70313209140397, 253.851566045702, 255)"
         },
         "orientation": "h",
         "text": "0.01",
         "type": "bar",
         "width": 0.5,
         "x": [
          3
         ],
         "xaxis": "x1",
         "y": [
          1
         ],
         "yaxis": "y1"
        },
        {
         "hoverinfo": "text",
         "marker": {
          "color": "rgb(252.67142791669465, 253.83571395834733, 255)"
         },
         "orientation": "h",
         "text": "0.01",
         "type": "bar",
         "width": 0.5,
         "x": [
          4
         ],
         "xaxis": "x1",
         "y": [
          1
         ],
         "yaxis": "y1"
        },
        {
         "hoverinfo": "text",
         "marker": {
          "color": "rgb(251.3828928721113, 253.19144643605566, 255)"
         },
         "orientation": "h",
         "text": "0.02",
         "type": "bar",
         "width": 0.5,
         "x": [
          1
         ],
         "xaxis": "x1",
         "y": [
          1
         ],
         "yaxis": "y1"
        },
        {
         "hoverinfo": "text",
         "marker": {
          "color": "rgb(251.53564029946997, 253.26782014973497, 255)"
         },
         "orientation": "h",
         "text": "0.02",
         "type": "bar",
         "width": 0.5,
         "x": [
          2
         ],
         "xaxis": "x1",
         "y": [
          1
         ],
         "yaxis": "y1"
        },
        {
         "hoverinfo": "text",
         "marker": {
          "color": "rgb(252.0623684220664, 253.5311842110332, 255)"
         },
         "orientation": "h",
         "text": "0.01",
         "type": "bar",
         "width": 0.5,
         "x": [
          2
         ],
         "xaxis": "x1",
         "y": [
          1
         ],
         "yaxis": "y1"
        },
        {
         "hoverinfo": "text",
         "marker": {
          "color": "rgb(252.2706842896406, 253.6353421448203, 255)"
         },
         "orientation": "h",
         "text": "0.01",
         "type": "bar",
         "width": 0.5,
         "x": [
          1
         ],
         "xaxis": "x1",
         "y": [
          1
         ],
         "yaxis": "y1"
        },
        {
         "hoverinfo": "text",
         "marker": {
          "color": "rgb(251.42724558144576, 253.21362279072287, 255)"
         },
         "orientation": "h",
         "text": "0.02",
         "type": "bar",
         "width": 0.5,
         "x": [
          2
         ],
         "xaxis": "x1",
         "y": [
          1
         ],
         "yaxis": "y1"
        },
        {
         "hoverinfo": "text",
         "marker": {
          "color": "rgb(251.76957407885052, 253.38478703942525, 255)"
         },
         "orientation": "h",
         "text": "0.02",
         "type": "bar",
         "width": 0.5,
         "x": [
          3
         ],
         "xaxis": "x1",
         "y": [
          1
         ],
         "yaxis": "y1"
        },
        {
         "hoverinfo": "text",
         "marker": {
          "color": "rgb(251.85041168896353, 253.42520584448175, 255)"
         },
         "orientation": "h",
         "text": "0.02",
         "type": "bar",
         "width": 0.5,
         "x": [
          3
         ],
         "xaxis": "x1",
         "y": [
          1
         ],
         "yaxis": "y1"
        },
        {
         "hoverinfo": "text",
         "marker": {
          "color": "rgb(251.99039726446313, 253.49519863223156, 255)"
         },
         "orientation": "h",
         "text": "0.02",
         "type": "bar",
         "width": 0.5,
         "x": [
          1
         ],
         "xaxis": "x1",
         "y": [
          1
         ],
         "yaxis": "y1"
        },
        {
         "hoverinfo": "text",
         "marker": {
          "color": "rgb(251.73809711188346, 253.36904855594173, 255)"
         },
         "orientation": "h",
         "text": "0.02",
         "type": "bar",
         "width": 0.5,
         "x": [
          1
         ],
         "xaxis": "x1",
         "y": [
          1
         ],
         "yaxis": "y1"
        },
        {
         "hoverinfo": "text",
         "marker": {
          "color": "rgb(252.58914145115526, 253.79457072557761, 255)"
         },
         "orientation": "h",
         "text": "0.01",
         "type": "bar",
         "width": 0.5,
         "x": [
          2
         ],
         "xaxis": "x1",
         "y": [
          1
         ],
         "yaxis": "y1"
        },
        {
         "hoverinfo": "text",
         "marker": {
          "color": "rgb(251.96501191095982, 253.48250595547992, 255)"
         },
         "orientation": "h",
         "text": "0.02",
         "type": "bar",
         "width": 0.5,
         "x": [
          1
         ],
         "xaxis": "x1",
         "y": [
          1
         ],
         "yaxis": "y1"
        },
        {
         "hoverinfo": "text",
         "marker": {
          "color": "rgb(250.58702179592214, 252.79351089796108, 255)"
         },
         "orientation": "h",
         "text": "0.02",
         "type": "bar",
         "width": 0.5,
         "x": [
          1
         ],
         "xaxis": "x1",
         "y": [
          1
         ],
         "yaxis": "y1"
        },
        {
         "hoverinfo": "text",
         "marker": {
          "color": "rgb(250.65467849061108, 252.82733924530555, 255)"
         },
         "orientation": "h",
         "text": "0.02",
         "type": "bar",
         "width": 0.5,
         "x": [
          3
         ],
         "xaxis": "x1",
         "y": [
          1
         ],
         "yaxis": "y1"
        },
        {
         "hoverinfo": "text",
         "marker": {
          "color": "rgb(250.25257314583502, 252.6262865729175, 255)"
         },
         "orientation": "h",
         "text": "0.02",
         "type": "bar",
         "width": 0.5,
         "x": [
          1
         ],
         "xaxis": "x1",
         "y": [
          1
         ],
         "yaxis": "y1"
        },
        {
         "hoverinfo": "text",
         "marker": {
          "color": "rgb(251.41564480127894, 253.2078224006395, 255)"
         },
         "orientation": "h",
         "text": "0.02",
         "type": "bar",
         "width": 0.5,
         "x": [
          1
         ],
         "xaxis": "x1",
         "y": [
          1
         ],
         "yaxis": "y1"
        },
        {
         "hoverinfo": "text",
         "marker": {
          "color": "rgb(251.17806881872949, 253.08903440936473, 255)"
         },
         "orientation": "h",
         "text": "0.02",
         "type": "bar",
         "width": 0.5,
         "x": [
          1
         ],
         "xaxis": "x1",
         "y": [
          1
         ],
         "yaxis": "y1"
        },
        {
         "hoverinfo": "text",
         "marker": {
          "color": "rgb(252.1735255581919, 253.58676277909595, 255)"
         },
         "orientation": "h",
         "text": "0.01",
         "type": "bar",
         "width": 0.5,
         "x": [
          2
         ],
         "xaxis": "x1",
         "y": [
          1
         ],
         "yaxis": "y1"
        },
        {
         "hoverinfo": "text",
         "marker": {
          "color": "rgb(251.5917592741729, 253.29587963708644, 255)"
         },
         "orientation": "h",
         "text": "0.02",
         "type": "bar",
         "width": 0.5,
         "x": [
          1
         ],
         "xaxis": "x1",
         "y": [
          1
         ],
         "yaxis": "y1"
        },
        {
         "hoverinfo": "text",
         "marker": {
          "color": "rgb(249.98517848798167, 252.49258924399084, 255)"
         },
         "orientation": "h",
         "text": "0.03",
         "type": "bar",
         "width": 0.5,
         "x": [
          1
         ],
         "xaxis": "x2",
         "y": [
          1
         ],
         "yaxis": "y2"
        },
        {
         "hoverinfo": "text",
         "marker": {
          "color": "rgb(247.863174358694, 251.43158717934702, 255)"
         },
         "orientation": "h",
         "text": "0.04",
         "type": "bar",
         "width": 0.5,
         "x": [
          1
         ],
         "xaxis": "x2",
         "y": [
          1
         ],
         "yaxis": "y2"
        },
        {
         "hoverinfo": "text",
         "marker": {
          "color": "rgb(240.11035852670872, 247.55517926335435, 255)"
         },
         "orientation": "h",
         "text": "0.07",
         "type": "bar",
         "width": 0.5,
         "x": [
          4
         ],
         "xaxis": "x2",
         "y": [
          1
         ],
         "yaxis": "y2"
        },
        {
         "hoverinfo": "text",
         "marker": {
          "color": "rgb(255, 255, 255)"
         },
         "orientation": "h",
         "text": "",
         "type": "bar",
         "width": 0.5,
         "x": [
          1
         ],
         "xaxis": "x2",
         "y": [
          1
         ],
         "yaxis": "y2"
        },
        {
         "hoverinfo": "text",
         "marker": {
          "color": "rgb(255, 255, 255)"
         },
         "orientation": "h",
         "text": "",
         "type": "bar",
         "width": 0.5,
         "x": [
          1
         ],
         "xaxis": "x2",
         "y": [
          1
         ],
         "yaxis": "y2"
        },
        {
         "hoverinfo": "text",
         "marker": {
          "color": "rgb(255, 255, 255)"
         },
         "orientation": "h",
         "text": "",
         "type": "bar",
         "width": 0.5,
         "x": [
          1
         ],
         "xaxis": "x2",
         "y": [
          1
         ],
         "yaxis": "y2"
        },
        {
         "hoverinfo": "text",
         "marker": {
          "color": "rgb(255, 255, 255)"
         },
         "orientation": "h",
         "text": "",
         "type": "bar",
         "width": 0.5,
         "x": [
          1
         ],
         "xaxis": "x2",
         "y": [
          1
         ],
         "yaxis": "y2"
        },
        {
         "hoverinfo": "text",
         "marker": {
          "color": "rgb(255, 255, 255)"
         },
         "orientation": "h",
         "text": "",
         "type": "bar",
         "width": 0.5,
         "x": [
          1
         ],
         "xaxis": "x2",
         "y": [
          1
         ],
         "yaxis": "y2"
        },
        {
         "hoverinfo": "text",
         "marker": {
          "color": "rgb(255, 255, 255)"
         },
         "orientation": "h",
         "text": "",
         "type": "bar",
         "width": 0.5,
         "x": [
          1
         ],
         "xaxis": "x2",
         "y": [
          1
         ],
         "yaxis": "y2"
        },
        {
         "hoverinfo": "text",
         "marker": {
          "color": "rgb(255, 255, 255)"
         },
         "orientation": "h",
         "text": "",
         "type": "bar",
         "width": 0.5,
         "x": [
          1
         ],
         "xaxis": "x2",
         "y": [
          1
         ],
         "yaxis": "y2"
        },
        {
         "hoverinfo": "text",
         "marker": {
          "color": "rgb(255, 255, 255)"
         },
         "orientation": "h",
         "text": "",
         "type": "bar",
         "width": 0.5,
         "x": [
          1
         ],
         "xaxis": "x2",
         "y": [
          1
         ],
         "yaxis": "y2"
        },
        {
         "hoverinfo": "text",
         "marker": {
          "color": "rgb(255, 255, 255)"
         },
         "orientation": "h",
         "text": "",
         "type": "bar",
         "width": 0.5,
         "x": [
          1
         ],
         "xaxis": "x2",
         "y": [
          1
         ],
         "yaxis": "y2"
        },
        {
         "hoverinfo": "text",
         "marker": {
          "color": "rgb(255, 255, 255)"
         },
         "orientation": "h",
         "text": "",
         "type": "bar",
         "width": 0.5,
         "x": [
          1
         ],
         "xaxis": "x2",
         "y": [
          1
         ],
         "yaxis": "y2"
        },
        {
         "hoverinfo": "text",
         "marker": {
          "color": "rgb(255, 255, 255)"
         },
         "orientation": "h",
         "text": "",
         "type": "bar",
         "width": 0.5,
         "x": [
          1
         ],
         "xaxis": "x2",
         "y": [
          1
         ],
         "yaxis": "y2"
        },
        {
         "hoverinfo": "text",
         "marker": {
          "color": "rgb(255, 255, 255)"
         },
         "orientation": "h",
         "text": "",
         "type": "bar",
         "width": 0.5,
         "x": [
          1
         ],
         "xaxis": "x2",
         "y": [
          1
         ],
         "yaxis": "y2"
        },
        {
         "hoverinfo": "text",
         "marker": {
          "color": "rgb(255, 255, 255)"
         },
         "orientation": "h",
         "text": "",
         "type": "bar",
         "width": 0.5,
         "x": [
          1
         ],
         "xaxis": "x2",
         "y": [
          1
         ],
         "yaxis": "y2"
        },
        {
         "hoverinfo": "text",
         "marker": {
          "color": "rgb(255, 255, 255)"
         },
         "orientation": "h",
         "text": "",
         "type": "bar",
         "width": 0.5,
         "x": [
          1
         ],
         "xaxis": "x2",
         "y": [
          1
         ],
         "yaxis": "y2"
        },
        {
         "hoverinfo": "text",
         "marker": {
          "color": "rgb(255, 255, 255)"
         },
         "orientation": "h",
         "text": "",
         "type": "bar",
         "width": 0.5,
         "x": [
          1
         ],
         "xaxis": "x2",
         "y": [
          1
         ],
         "yaxis": "y2"
        },
        {
         "hoverinfo": "text",
         "marker": {
          "color": "rgb(255, 255, 255)"
         },
         "orientation": "h",
         "text": "",
         "type": "bar",
         "width": 0.5,
         "x": [
          1
         ],
         "xaxis": "x2",
         "y": [
          1
         ],
         "yaxis": "y2"
        },
        {
         "hoverinfo": "text",
         "marker": {
          "color": "rgb(255, 255, 255)"
         },
         "orientation": "h",
         "text": "",
         "type": "bar",
         "width": 0.5,
         "x": [
          1
         ],
         "xaxis": "x2",
         "y": [
          1
         ],
         "yaxis": "y2"
        },
        {
         "hoverinfo": "text",
         "marker": {
          "color": "rgb(255, 255, 255)"
         },
         "orientation": "h",
         "text": "",
         "type": "bar",
         "width": 0.5,
         "x": [
          1
         ],
         "xaxis": "x2",
         "y": [
          1
         ],
         "yaxis": "y2"
        },
        {
         "hoverinfo": "text",
         "marker": {
          "color": "rgb(255, 255, 255)"
         },
         "orientation": "h",
         "text": "",
         "type": "bar",
         "width": 0.5,
         "x": [
          1
         ],
         "xaxis": "x2",
         "y": [
          1
         ],
         "yaxis": "y2"
        },
        {
         "hoverinfo": "text",
         "marker": {
          "color": "rgb(255, 255, 255)"
         },
         "orientation": "h",
         "text": "",
         "type": "bar",
         "width": 0.5,
         "x": [
          1
         ],
         "xaxis": "x2",
         "y": [
          1
         ],
         "yaxis": "y2"
        },
        {
         "hoverinfo": "text",
         "marker": {
          "color": "rgb(255, 255, 255)"
         },
         "orientation": "h",
         "text": "",
         "type": "bar",
         "width": 0.5,
         "x": [
          1
         ],
         "xaxis": "x2",
         "y": [
          1
         ],
         "yaxis": "y2"
        },
        {
         "hoverinfo": "text",
         "marker": {
          "color": "rgb(255, 255, 255)"
         },
         "orientation": "h",
         "text": "",
         "type": "bar",
         "width": 0.5,
         "x": [
          1
         ],
         "xaxis": "x2",
         "y": [
          1
         ],
         "yaxis": "y2"
        },
        {
         "hoverinfo": "text",
         "marker": {
          "color": "rgb(255, 255, 255)"
         },
         "orientation": "h",
         "text": "",
         "type": "bar",
         "width": 0.5,
         "x": [
          1
         ],
         "xaxis": "x2",
         "y": [
          1
         ],
         "yaxis": "y2"
        },
        {
         "hoverinfo": "text",
         "marker": {
          "color": "rgb(255, 255, 255)"
         },
         "orientation": "h",
         "text": "",
         "type": "bar",
         "width": 0.5,
         "x": [
          1
         ],
         "xaxis": "x2",
         "y": [
          1
         ],
         "yaxis": "y2"
        },
        {
         "hoverinfo": "text",
         "marker": {
          "color": "rgb(255, 255, 255)"
         },
         "orientation": "h",
         "text": "",
         "type": "bar",
         "width": 0.5,
         "x": [
          1
         ],
         "xaxis": "x2",
         "y": [
          1
         ],
         "yaxis": "y2"
        },
        {
         "hoverinfo": "text",
         "marker": {
          "color": "rgb(255, 255, 255)"
         },
         "orientation": "h",
         "text": "",
         "type": "bar",
         "width": 0.5,
         "x": [
          1
         ],
         "xaxis": "x2",
         "y": [
          1
         ],
         "yaxis": "y2"
        },
        {
         "hoverinfo": "text",
         "marker": {
          "color": "rgb(255, 255, 255)"
         },
         "orientation": "h",
         "text": "",
         "type": "bar",
         "width": 0.5,
         "x": [
          1
         ],
         "xaxis": "x2",
         "y": [
          1
         ],
         "yaxis": "y2"
        },
        {
         "hoverinfo": "text",
         "marker": {
          "color": "rgb(255, 255, 255)"
         },
         "orientation": "h",
         "text": "",
         "type": "bar",
         "width": 0.5,
         "x": [
          1
         ],
         "xaxis": "x2",
         "y": [
          1
         ],
         "yaxis": "y2"
        },
        {
         "hoverinfo": "text",
         "marker": {
          "color": "rgb(255, 255, 255)"
         },
         "orientation": "h",
         "text": "",
         "type": "bar",
         "width": 0.5,
         "x": [
          1
         ],
         "xaxis": "x2",
         "y": [
          1
         ],
         "yaxis": "y2"
        },
        {
         "hoverinfo": "text",
         "marker": {
          "color": "rgb(255, 255, 255)"
         },
         "orientation": "h",
         "text": "",
         "type": "bar",
         "width": 0.5,
         "x": [
          1
         ],
         "xaxis": "x2",
         "y": [
          1
         ],
         "yaxis": "y2"
        },
        {
         "hoverinfo": "text",
         "marker": {
          "color": "rgb(255, 255, 255)"
         },
         "orientation": "h",
         "text": "",
         "type": "bar",
         "width": 0.5,
         "x": [
          1
         ],
         "xaxis": "x2",
         "y": [
          1
         ],
         "yaxis": "y2"
        },
        {
         "hoverinfo": "text",
         "marker": {
          "color": "rgb(255, 255, 255)"
         },
         "orientation": "h",
         "text": "",
         "type": "bar",
         "width": 0.5,
         "x": [
          1
         ],
         "xaxis": "x2",
         "y": [
          1
         ],
         "yaxis": "y2"
        },
        {
         "hoverinfo": "text",
         "marker": {
          "color": "rgb(255, 255, 255)"
         },
         "orientation": "h",
         "text": "",
         "type": "bar",
         "width": 0.5,
         "x": [
          1
         ],
         "xaxis": "x2",
         "y": [
          1
         ],
         "yaxis": "y2"
        },
        {
         "hoverinfo": "text",
         "marker": {
          "color": "rgb(255, 255, 255)"
         },
         "orientation": "h",
         "text": "",
         "type": "bar",
         "width": 0.5,
         "x": [
          1
         ],
         "xaxis": "x2",
         "y": [
          1
         ],
         "yaxis": "y2"
        },
        {
         "hoverinfo": "text",
         "marker": {
          "color": "rgb(255, 255, 255)"
         },
         "orientation": "h",
         "text": "",
         "type": "bar",
         "width": 0.5,
         "x": [
          1
         ],
         "xaxis": "x2",
         "y": [
          1
         ],
         "yaxis": "y2"
        },
        {
         "hoverinfo": "text",
         "marker": {
          "color": "rgb(255, 255, 255)"
         },
         "orientation": "h",
         "text": "",
         "type": "bar",
         "width": 0.5,
         "x": [
          1
         ],
         "xaxis": "x2",
         "y": [
          1
         ],
         "yaxis": "y2"
        },
        {
         "hoverinfo": "text",
         "marker": {
          "color": "rgb(255, 255, 255)"
         },
         "orientation": "h",
         "text": "",
         "type": "bar",
         "width": 0.5,
         "x": [
          1
         ],
         "xaxis": "x2",
         "y": [
          1
         ],
         "yaxis": "y2"
        },
        {
         "hoverinfo": "text",
         "marker": {
          "color": "rgb(255, 255, 255)"
         },
         "orientation": "h",
         "text": "",
         "type": "bar",
         "width": 0.5,
         "x": [
          1
         ],
         "xaxis": "x2",
         "y": [
          1
         ],
         "yaxis": "y2"
        },
        {
         "hoverinfo": "text",
         "marker": {
          "color": "rgb(255, 255, 255)"
         },
         "orientation": "h",
         "text": "",
         "type": "bar",
         "width": 0.5,
         "x": [
          1
         ],
         "xaxis": "x2",
         "y": [
          1
         ],
         "yaxis": "y2"
        },
        {
         "hoverinfo": "text",
         "marker": {
          "color": "rgb(255, 255, 255)"
         },
         "orientation": "h",
         "text": "",
         "type": "bar",
         "width": 0.5,
         "x": [
          1
         ],
         "xaxis": "x2",
         "y": [
          1
         ],
         "yaxis": "y2"
        },
        {
         "hoverinfo": "text",
         "marker": {
          "color": "rgb(255, 255, 255)"
         },
         "orientation": "h",
         "text": "",
         "type": "bar",
         "width": 0.5,
         "x": [
          1
         ],
         "xaxis": "x2",
         "y": [
          1
         ],
         "yaxis": "y2"
        },
        {
         "hoverinfo": "text",
         "marker": {
          "color": "rgb(255, 255, 255)"
         },
         "orientation": "h",
         "text": "",
         "type": "bar",
         "width": 0.5,
         "x": [
          1
         ],
         "xaxis": "x2",
         "y": [
          1
         ],
         "yaxis": "y2"
        },
        {
         "hoverinfo": "text",
         "marker": {
          "color": "rgb(255, 255, 255)"
         },
         "orientation": "h",
         "text": "",
         "type": "bar",
         "width": 0.5,
         "x": [
          1
         ],
         "xaxis": "x2",
         "y": [
          1
         ],
         "yaxis": "y2"
        },
        {
         "hoverinfo": "text",
         "marker": {
          "color": "rgb(255, 255, 255)"
         },
         "orientation": "h",
         "text": "",
         "type": "bar",
         "width": 0.5,
         "x": [
          1
         ],
         "xaxis": "x2",
         "y": [
          1
         ],
         "yaxis": "y2"
        }
       ],
       "layout": {
        "annotations": [
         {
          "align": "left",
          "font": {
           "color": "black",
           "family": "Arial",
           "size": 14
          },
          "showarrow": false,
          "text": " ",
          "x": 0.5,
          "xref": "x1",
          "y": 1,
          "yref": "y1"
         },
         {
          "align": "left",
          "font": {
           "color": "black",
           "family": "Arial",
           "size": 14
          },
          "showarrow": false,
          "text": "저",
          "x": 1.5,
          "xref": "x1",
          "y": 1,
          "yref": "y1"
         },
         {
          "align": "left",
          "font": {
           "color": "black",
           "family": "Arial",
           "size": 14
          },
          "showarrow": false,
          "text": "만",
          "x": 2.5,
          "xref": "x1",
          "y": 1,
          "yref": "y1"
         },
         {
          "align": "left",
          "font": {
           "color": "black",
           "family": "Arial",
           "size": 14
          },
          "showarrow": false,
          "text": " ",
          "x": 3.5,
          "xref": "x1",
          "y": 1,
          "yref": "y1"
         },
         {
          "align": "left",
          "font": {
           "color": "black",
           "family": "Arial",
           "size": 14
          },
          "showarrow": false,
          "text": "사",
          "x": 4.5,
          "xref": "x1",
          "y": 1,
          "yref": "y1"
         },
         {
          "align": "left",
          "font": {
           "color": "black",
           "family": "Arial",
           "size": 14
          },
          "showarrow": false,
          "text": "혜",
          "x": 5.5,
          "xref": "x1",
          "y": 1,
          "yref": "y1"
         },
         {
          "align": "left",
          "font": {
           "color": "black",
           "family": "Arial",
           "size": 14
          },
          "showarrow": false,
          "text": "준",
          "x": 6.5,
          "xref": "x1",
          "y": 1,
          "yref": "y1"
         },
         {
          "align": "left",
          "font": {
           "color": "black",
           "family": "Arial",
           "size": 14
          },
          "showarrow": false,
          "text": "이",
          "x": 7.5,
          "xref": "x1",
          "y": 1,
          "yref": "y1"
         },
         {
          "align": "left",
          "font": {
           "color": "black",
           "family": "Arial",
           "size": 14
          },
          "showarrow": false,
          "text": " ",
          "x": 8.5,
          "xref": "x1",
          "y": 1,
          "yref": "y1"
         },
         {
          "align": "left",
          "font": {
           "color": "black",
           "family": "Arial",
           "size": 14
          },
          "showarrow": false,
          "text": "안",
          "x": 9.5,
          "xref": "x1",
          "y": 1,
          "yref": "y1"
         },
         {
          "align": "left",
          "font": {
           "color": "black",
           "family": "Arial",
           "size": 14
          },
          "showarrow": false,
          "text": "정",
          "x": 10.5,
          "xref": "x1",
          "y": 1,
          "yref": "y1"
         },
         {
          "align": "left",
          "font": {
           "color": "black",
           "family": "Arial",
           "size": 14
          },
          "showarrow": false,
          "text": "하",
          "x": 11.5,
          "xref": "x1",
          "y": 1,
          "yref": "y1"
         },
         {
          "align": "left",
          "font": {
           "color": "black",
           "family": "Arial",
           "size": 14
          },
          "showarrow": false,
          "text": "한",
          "x": 12.5,
          "xref": "x1",
          "y": 1,
          "yref": "y1"
         },
         {
          "align": "left",
          "font": {
           "color": "black",
           "family": "Arial",
           "size": 14
          },
          "showarrow": false,
          "text": "테",
          "x": 13.5,
          "xref": "x1",
          "y": 1,
          "yref": "y1"
         },
         {
          "align": "left",
          "font": {
           "color": "black",
           "family": "Arial",
           "size": 14
          },
          "showarrow": false,
          "text": " ",
          "x": 14.5,
          "xref": "x1",
          "y": 1,
          "yref": "y1"
         },
         {
          "align": "left",
          "font": {
           "color": "black",
           "family": "Arial",
           "size": 14
          },
          "showarrow": false,
          "text": "자",
          "x": 15.5,
          "xref": "x1",
          "y": 1,
          "yref": "y1"
         },
         {
          "align": "left",
          "font": {
           "color": "black",
           "family": "Arial",
           "size": 14
          },
          "showarrow": false,
          "text": "기",
          "x": 16.5,
          "xref": "x1",
          "y": 1,
          "yref": "y1"
         },
         {
          "align": "left",
          "font": {
           "color": "black",
           "family": "Arial",
           "size": 14
          },
          "showarrow": false,
          "text": " ",
          "x": 17.5,
          "xref": "x1",
          "y": 1,
          "yref": "y1"
         },
         {
          "align": "left",
          "font": {
           "color": "black",
           "family": "Arial",
           "size": 14
          },
          "showarrow": false,
          "text": "앞",
          "x": 18.5,
          "xref": "x1",
          "y": 1,
          "yref": "y1"
         },
         {
          "align": "left",
          "font": {
           "color": "black",
           "family": "Arial",
           "size": 14
          },
          "showarrow": false,
          "text": "에",
          "x": 19.5,
          "xref": "x1",
          "y": 1,
          "yref": "y1"
         },
         {
          "align": "left",
          "font": {
           "color": "black",
           "family": "Arial",
           "size": 14
          },
          "showarrow": false,
          "text": "서",
          "x": 20.5,
          "xref": "x1",
          "y": 1,
          "yref": "y1"
         },
         {
          "align": "left",
          "font": {
           "color": "black",
           "family": "Arial",
           "size": 14
          },
          "showarrow": false,
          "text": "만",
          "x": 21.5,
          "xref": "x1",
          "y": 1,
          "yref": "y1"
         },
         {
          "align": "left",
          "font": {
           "color": "black",
           "family": "Arial",
           "size": 14
          },
          "showarrow": false,
          "text": " ",
          "x": 22.5,
          "xref": "x1",
          "y": 1,
          "yref": "y1"
         },
         {
          "align": "left",
          "font": {
           "color": "black",
           "family": "Arial",
           "size": 14
          },
          "showarrow": false,
          "text": "술",
          "x": 23.5,
          "xref": "x1",
          "y": 1,
          "yref": "y1"
         },
         {
          "align": "left",
          "font": {
           "color": "black",
           "family": "Arial",
           "size": 14
          },
          "showarrow": false,
          "text": " ",
          "x": 24.5,
          "xref": "x1",
          "y": 1,
          "yref": "y1"
         },
         {
          "align": "left",
          "font": {
           "color": "black",
           "family": "Arial",
           "size": 14
          },
          "showarrow": false,
          "text": "먹",
          "x": 25.5,
          "xref": "x1",
          "y": 1,
          "yref": "y1"
         },
         {
          "align": "left",
          "font": {
           "color": "black",
           "family": "Arial",
           "size": 14
          },
          "showarrow": false,
          "text": "으",
          "x": 26.5,
          "xref": "x1",
          "y": 1,
          "yref": "y1"
         },
         {
          "align": "left",
          "font": {
           "color": "black",
           "family": "Arial",
           "size": 14
          },
          "showarrow": false,
          "text": "라",
          "x": 27.5,
          "xref": "x1",
          "y": 1,
          "yref": "y1"
         },
         {
          "align": "left",
          "font": {
           "color": "black",
           "family": "Arial",
           "size": 14
          },
          "showarrow": false,
          "text": "고",
          "x": 28.5,
          "xref": "x1",
          "y": 1,
          "yref": "y1"
         },
         {
          "align": "left",
          "font": {
           "color": "black",
           "family": "Arial",
           "size": 14
          },
          "showarrow": false,
          "text": " ",
          "x": 29.5,
          "xref": "x1",
          "y": 1,
          "yref": "y1"
         },
         {
          "align": "left",
          "font": {
           "color": "black",
           "family": "Arial",
           "size": 14
          },
          "showarrow": false,
          "text": "너",
          "x": 30.5,
          "xref": "x1",
          "y": 1,
          "yref": "y1"
         },
         {
          "align": "left",
          "font": {
           "color": "black",
           "family": "Arial",
           "size": 14
          },
          "showarrow": false,
          "text": "무",
          "x": 31.5,
          "xref": "x1",
          "y": 1,
          "yref": "y1"
         },
         {
          "align": "left",
          "font": {
           "color": "black",
           "family": "Arial",
           "size": 14
          },
          "showarrow": false,
          "text": " ",
          "x": 32.5,
          "xref": "x1",
          "y": 1,
          "yref": "y1"
         },
         {
          "align": "left",
          "font": {
           "color": "black",
           "family": "Arial",
           "size": 14
          },
          "showarrow": false,
          "text": "귀",
          "x": 33.5,
          "xref": "x1",
          "y": 1,
          "yref": "y1"
         },
         {
          "align": "left",
          "font": {
           "color": "black",
           "family": "Arial",
           "size": 14
          },
          "showarrow": false,
          "text": "엽",
          "x": 34.5,
          "xref": "x1",
          "y": 1,
          "yref": "y1"
         },
         {
          "align": "left",
          "font": {
           "color": "black",
           "family": "Arial",
           "size": 14
          },
          "showarrow": false,
          "text": "다",
          "x": 35.5,
          "xref": "x1",
          "y": 1,
          "yref": "y1"
         },
         {
          "align": "left",
          "font": {
           "color": "black",
           "family": "Arial",
           "size": 14
          },
          "showarrow": false,
          "text": "고",
          "x": 36.5,
          "xref": "x1",
          "y": 1,
          "yref": "y1"
         },
         {
          "align": "left",
          "font": {
           "color": "black",
           "family": "Arial",
           "size": 14
          },
          "showarrow": false,
          "text": " ",
          "x": 37.5,
          "xref": "x1",
          "y": 1,
          "yref": "y1"
         },
         {
          "align": "left",
          "font": {
           "color": "black",
           "family": "Arial",
           "size": 14
          },
          "showarrow": false,
          "text": "말",
          "x": 38.5,
          "xref": "x1",
          "y": 1,
          "yref": "y1"
         },
         {
          "align": "left",
          "font": {
           "color": "black",
           "family": "Arial",
           "size": 14
          },
          "showarrow": false,
          "text": "하",
          "x": 39.5,
          "xref": "x1",
          "y": 1,
          "yref": "y1"
         },
         {
          "align": "left",
          "font": {
           "color": "black",
           "family": "Arial",
           "size": 14
          },
          "showarrow": false,
          "text": "는",
          "x": 40.5,
          "xref": "x1",
          "y": 1,
          "yref": "y1"
         },
         {
          "align": "left",
          "font": {
           "color": "black",
           "family": "Arial",
           "size": 14
          },
          "showarrow": false,
          "text": " ",
          "x": 41.5,
          "xref": "x1",
          "y": 1,
          "yref": "y1"
         },
         {
          "align": "left",
          "font": {
           "color": "black",
           "family": "Arial",
           "size": 14
          },
          "showarrow": false,
          "text": "영",
          "x": 42.5,
          "xref": "x1",
          "y": 1,
          "yref": "y1"
         },
         {
          "align": "left",
          "font": {
           "color": "black",
           "family": "Arial",
           "size": 14
          },
          "showarrow": false,
          "text": "상",
          "x": 43.5,
          "xref": "x1",
          "y": 1,
          "yref": "y1"
         },
         {
          "align": "left",
          "font": {
           "color": "black",
           "family": "Arial",
           "size": 14
          },
          "showarrow": false,
          "text": " ",
          "x": 44.5,
          "xref": "x1",
          "y": 1,
          "yref": "y1"
         },
         {
          "align": "left",
          "font": {
           "color": "black",
           "family": "Arial",
           "size": 14
          },
          "showarrow": false,
          "text": "찾",
          "x": 45.5,
          "xref": "x1",
          "y": 1,
          "yref": "y1"
         },
         {
          "align": "left",
          "font": {
           "color": "black",
           "family": "Arial",
           "size": 14
          },
          "showarrow": false,
          "text": "고",
          "x": 46.5,
          "xref": "x1",
          "y": 1,
          "yref": "y1"
         },
         {
          "align": "left",
          "font": {
           "color": "black",
           "family": "Arial",
           "size": 14
          },
          "showarrow": false,
          "text": " ",
          "x": 47.5,
          "xref": "x1",
          "y": 1,
          "yref": "y1"
         },
         {
          "align": "left",
          "font": {
           "color": "black",
           "family": "Arial",
           "size": 14
          },
          "showarrow": false,
          "text": "있",
          "x": 48.5,
          "xref": "x1",
          "y": 1,
          "yref": "y1"
         },
         {
          "align": "left",
          "font": {
           "color": "black",
           "family": "Arial",
           "size": 14
          },
          "showarrow": false,
          "text": "나",
          "x": 49.5,
          "xref": "x1",
          "y": 1,
          "yref": "y1"
         },
         {
          "align": "left",
          "font": {
           "color": "black",
           "family": "Arial",
           "size": 14
          },
          "showarrow": false,
          "text": "요",
          "x": 0.5,
          "xref": "x2",
          "y": 1,
          "yref": "y2"
         },
         {
          "align": "left",
          "font": {
           "color": "black",
           "family": "Arial",
           "size": 14
          },
          "showarrow": false,
          "text": "?",
          "x": 1.5,
          "xref": "x2",
          "y": 1,
          "yref": "y2"
         },
         {
          "align": "left",
          "font": {
           "color": "black",
           "family": "Arial",
           "size": 14
          },
          "showarrow": false,
          "text": "ᅲ",
          "x": 2.5,
          "xref": "x2",
          "y": 1,
          "yref": "y2"
         },
         {
          "align": "left",
          "font": {
           "color": "black",
           "family": "Arial",
           "size": 14
          },
          "showarrow": false,
          "text": "ᅲ",
          "x": 3.5,
          "xref": "x2",
          "y": 1,
          "yref": "y2"
         },
         {
          "align": "left",
          "font": {
           "color": "black",
           "family": "Arial",
           "size": 14
          },
          "showarrow": false,
          "text": "ᅲ",
          "x": 4.5,
          "xref": "x2",
          "y": 1,
          "yref": "y2"
         },
         {
          "align": "left",
          "font": {
           "color": "black",
           "family": "Arial",
           "size": 14
          },
          "showarrow": false,
          "text": "ᅲ",
          "x": 5.5,
          "xref": "x2",
          "y": 1,
          "yref": "y2"
         }
        ],
        "barmode": "stack",
        "height": 130,
        "images": [
         {
          "layer": "above",
          "opacity": 0.3,
          "sizex": 0.7,
          "sizey": 0.7,
          "source": "https://raw.githubusercontent.com/fingeredman/teanaps/master/data/logo/teanaps_logo_no-bg.png",
          "x": 0.5,
          "xanchor": "center",
          "xref": "paper",
          "y": 0.6,
          "yanchor": "center",
          "yref": "paper"
         }
        ],
        "margin": {
         "b": 30,
         "l": 20,
         "r": 20,
         "t": 10
        },
        "showlegend": false,
        "xaxis1": {
         "anchor": "y1",
         "domain": [
          0,
          1
         ],
         "showgrid": false,
         "showline": false,
         "showticklabels": false,
         "zeroline": false
        },
        "xaxis2": {
         "anchor": "y2",
         "domain": [
          0,
          1
         ],
         "showgrid": false,
         "showline": false,
         "showticklabels": false,
         "zeroline": false
        },
        "yaxis1": {
         "anchor": "x1",
         "domain": [
          0.575,
          1
         ],
         "showgrid": false,
         "showline": false,
         "showticklabels": false,
         "zeroline": false
        },
        "yaxis2": {
         "anchor": "x2",
         "domain": [
          0,
          0.425
         ],
         "showgrid": false,
         "showline": false,
         "showticklabels": false,
         "zeroline": false
        }
       }
      },
      "text/html": [
       "<div id=\"bdbeda1d-ec18-4102-9367-fc0d3db992f0\" style=\"height: 130px; width: 100%;\" class=\"plotly-graph-div\"></div><script type=\"text/javascript\">require([\"plotly\"], function(Plotly) { window.PLOTLYENV=window.PLOTLYENV || {};window.PLOTLYENV.BASE_URL=\"https://plot.ly\";Plotly.newPlot(\"bdbeda1d-ec18-4102-9367-fc0d3db992f0\", [{\"type\": \"bar\", \"y\": [1], \"x\": [2], \"orientation\": \"h\", \"width\": 0.5, \"text\": \"0.02\", \"hoverinfo\": \"text\", \"marker\": {\"color\": \"rgb(251.06499618183983, 253.03249809091992, 255)\"}, \"xaxis\": \"x1\", \"yaxis\": \"y1\"}, {\"type\": \"bar\", \"y\": [1], \"x\": [1], \"orientation\": \"h\", \"width\": 0.5, \"text\": \"0.02\", \"hoverinfo\": \"text\", \"marker\": {\"color\": \"rgb(250.28741255807805, 252.643706279039, 255)\"}, \"xaxis\": \"x1\", \"yaxis\": \"y1\"}, {\"type\": \"bar\", \"y\": [1], \"x\": [2], \"orientation\": \"h\", \"width\": 0.5, \"text\": \"0.07\", \"hoverinfo\": \"text\", \"marker\": {\"color\": \"rgb(240.48860037034441, 247.74430018517222, 255)\"}, \"xaxis\": \"x1\", \"yaxis\": \"y1\"}, {\"type\": \"bar\", \"y\": [1], \"x\": [1], \"orientation\": \"h\", \"width\": 0.5, \"text\": \"0.65\", \"hoverinfo\": \"text\", \"marker\": {\"color\": \"rgb(125.79113575345005, 190.395567876725, 255)\"}, \"xaxis\": \"x1\", \"yaxis\": \"y1\"}, {\"type\": \"bar\", \"y\": [1], \"x\": [1], \"orientation\": \"h\", \"width\": 0.5, \"text\": \"0.59\", \"hoverinfo\": \"text\", \"marker\": {\"color\": \"rgb(136.04510944679117, 195.5225547233956, 255)\"}, \"xaxis\": \"x1\", \"yaxis\": \"y1\"}, {\"type\": \"bar\", \"y\": [1], \"x\": [1], \"orientation\": \"h\", \"width\": 0.5, \"text\": \"0.02\", \"hoverinfo\": \"text\", \"marker\": {\"color\": \"rgb(251.49827542253226, 253.24913771126612, 255)\"}, \"xaxis\": \"x1\", \"yaxis\": \"y1\"}, {\"type\": \"bar\", \"y\": [1], \"x\": [3], \"orientation\": \"h\", \"width\": 0.5, \"text\": \"0.07\", \"hoverinfo\": \"text\", \"marker\": {\"color\": \"rgb(241.74777535912048, 248.37388767956023, 255)\"}, \"xaxis\": \"x1\", \"yaxis\": \"y1\"}, {\"type\": \"bar\", \"y\": [1], \"x\": [1], \"orientation\": \"h\", \"width\": 0.5, \"text\": \"1.0\", \"hoverinfo\": \"text\", \"marker\": {\"color\": \"rgb(55.0, 155.0, 255)\"}, \"xaxis\": \"x1\", \"yaxis\": \"y1\"}, {\"type\": \"bar\", \"y\": [1], \"x\": [2], \"orientation\": \"h\", \"width\": 0.5, \"text\": \"0.01\", \"hoverinfo\": \"text\", \"marker\": {\"color\": \"rgb(252.15549416831678, 253.5777470841584, 255)\"}, \"xaxis\": \"x1\", \"yaxis\": \"y1\"}, {\"type\": \"bar\", \"y\": [1], \"x\": [3], \"orientation\": \"h\", \"width\": 0.5, \"text\": \"0.01\", \"hoverinfo\": \"text\", \"marker\": {\"color\": \"rgb(252.70313209140397, 253.851566045702, 255)\"}, \"xaxis\": \"x1\", \"yaxis\": \"y1\"}, {\"type\": \"bar\", \"y\": [1], \"x\": [4], \"orientation\": \"h\", \"width\": 0.5, \"text\": \"0.01\", \"hoverinfo\": \"text\", \"marker\": {\"color\": \"rgb(252.67142791669465, 253.83571395834733, 255)\"}, \"xaxis\": \"x1\", \"yaxis\": \"y1\"}, {\"type\": \"bar\", \"y\": [1], \"x\": [1], \"orientation\": \"h\", \"width\": 0.5, \"text\": \"0.02\", \"hoverinfo\": \"text\", \"marker\": {\"color\": \"rgb(251.3828928721113, 253.19144643605566, 255)\"}, \"xaxis\": \"x1\", \"yaxis\": \"y1\"}, {\"type\": \"bar\", \"y\": [1], \"x\": [2], \"orientation\": \"h\", \"width\": 0.5, \"text\": \"0.02\", \"hoverinfo\": \"text\", \"marker\": {\"color\": \"rgb(251.53564029946997, 253.26782014973497, 255)\"}, \"xaxis\": \"x1\", \"yaxis\": \"y1\"}, {\"type\": \"bar\", \"y\": [1], \"x\": [2], \"orientation\": \"h\", \"width\": 0.5, \"text\": \"0.01\", \"hoverinfo\": \"text\", \"marker\": {\"color\": \"rgb(252.0623684220664, 253.5311842110332, 255)\"}, \"xaxis\": \"x1\", \"yaxis\": \"y1\"}, {\"type\": \"bar\", \"y\": [1], \"x\": [1], \"orientation\": \"h\", \"width\": 0.5, \"text\": \"0.01\", \"hoverinfo\": \"text\", \"marker\": {\"color\": \"rgb(252.2706842896406, 253.6353421448203, 255)\"}, \"xaxis\": \"x1\", \"yaxis\": \"y1\"}, {\"type\": \"bar\", \"y\": [1], \"x\": [2], \"orientation\": \"h\", \"width\": 0.5, \"text\": \"0.02\", \"hoverinfo\": \"text\", \"marker\": {\"color\": \"rgb(251.42724558144576, 253.21362279072287, 255)\"}, \"xaxis\": \"x1\", \"yaxis\": \"y1\"}, {\"type\": \"bar\", \"y\": [1], \"x\": [3], \"orientation\": \"h\", \"width\": 0.5, \"text\": \"0.02\", \"hoverinfo\": \"text\", \"marker\": {\"color\": \"rgb(251.76957407885052, 253.38478703942525, 255)\"}, \"xaxis\": \"x1\", \"yaxis\": \"y1\"}, {\"type\": \"bar\", \"y\": [1], \"x\": [3], \"orientation\": \"h\", \"width\": 0.5, \"text\": \"0.02\", \"hoverinfo\": \"text\", \"marker\": {\"color\": \"rgb(251.85041168896353, 253.42520584448175, 255)\"}, \"xaxis\": \"x1\", \"yaxis\": \"y1\"}, {\"type\": \"bar\", \"y\": [1], \"x\": [1], \"orientation\": \"h\", \"width\": 0.5, \"text\": \"0.02\", \"hoverinfo\": \"text\", \"marker\": {\"color\": \"rgb(251.99039726446313, 253.49519863223156, 255)\"}, \"xaxis\": \"x1\", \"yaxis\": \"y1\"}, {\"type\": \"bar\", \"y\": [1], \"x\": [1], \"orientation\": \"h\", \"width\": 0.5, \"text\": \"0.02\", \"hoverinfo\": \"text\", \"marker\": {\"color\": \"rgb(251.73809711188346, 253.36904855594173, 255)\"}, \"xaxis\": \"x1\", \"yaxis\": \"y1\"}, {\"type\": \"bar\", \"y\": [1], \"x\": [2], \"orientation\": \"h\", \"width\": 0.5, \"text\": \"0.01\", \"hoverinfo\": \"text\", \"marker\": {\"color\": \"rgb(252.58914145115526, 253.79457072557761, 255)\"}, \"xaxis\": \"x1\", \"yaxis\": \"y1\"}, {\"type\": \"bar\", \"y\": [1], \"x\": [1], \"orientation\": \"h\", \"width\": 0.5, \"text\": \"0.02\", \"hoverinfo\": \"text\", \"marker\": {\"color\": \"rgb(251.96501191095982, 253.48250595547992, 255)\"}, \"xaxis\": \"x1\", \"yaxis\": \"y1\"}, {\"type\": \"bar\", \"y\": [1], \"x\": [1], \"orientation\": \"h\", \"width\": 0.5, \"text\": \"0.02\", \"hoverinfo\": \"text\", \"marker\": {\"color\": \"rgb(250.58702179592214, 252.79351089796108, 255)\"}, \"xaxis\": \"x1\", \"yaxis\": \"y1\"}, {\"type\": \"bar\", \"y\": [1], \"x\": [3], \"orientation\": \"h\", \"width\": 0.5, \"text\": \"0.02\", \"hoverinfo\": \"text\", \"marker\": {\"color\": \"rgb(250.65467849061108, 252.82733924530555, 255)\"}, \"xaxis\": \"x1\", \"yaxis\": \"y1\"}, {\"type\": \"bar\", \"y\": [1], \"x\": [1], \"orientation\": \"h\", \"width\": 0.5, \"text\": \"0.02\", \"hoverinfo\": \"text\", \"marker\": {\"color\": \"rgb(250.25257314583502, 252.6262865729175, 255)\"}, \"xaxis\": \"x1\", \"yaxis\": \"y1\"}, {\"type\": \"bar\", \"y\": [1], \"x\": [1], \"orientation\": \"h\", \"width\": 0.5, \"text\": \"0.02\", \"hoverinfo\": \"text\", \"marker\": {\"color\": \"rgb(251.41564480127894, 253.2078224006395, 255)\"}, \"xaxis\": \"x1\", \"yaxis\": \"y1\"}, {\"type\": \"bar\", \"y\": [1], \"x\": [1], \"orientation\": \"h\", \"width\": 0.5, \"text\": \"0.02\", \"hoverinfo\": \"text\", \"marker\": {\"color\": \"rgb(251.17806881872949, 253.08903440936473, 255)\"}, \"xaxis\": \"x1\", \"yaxis\": \"y1\"}, {\"type\": \"bar\", \"y\": [1], \"x\": [2], \"orientation\": \"h\", \"width\": 0.5, \"text\": \"0.01\", \"hoverinfo\": \"text\", \"marker\": {\"color\": \"rgb(252.1735255581919, 253.58676277909595, 255)\"}, \"xaxis\": \"x1\", \"yaxis\": \"y1\"}, {\"type\": \"bar\", \"y\": [1], \"x\": [1], \"orientation\": \"h\", \"width\": 0.5, \"text\": \"0.02\", \"hoverinfo\": \"text\", \"marker\": {\"color\": \"rgb(251.5917592741729, 253.29587963708644, 255)\"}, \"xaxis\": \"x1\", \"yaxis\": \"y1\"}, {\"type\": \"bar\", \"y\": [1], \"x\": [1], \"orientation\": \"h\", \"width\": 0.5, \"text\": \"0.03\", \"hoverinfo\": \"text\", \"marker\": {\"color\": \"rgb(249.98517848798167, 252.49258924399084, 255)\"}, \"xaxis\": \"x2\", \"yaxis\": \"y2\"}, {\"type\": \"bar\", \"y\": [1], \"x\": [1], \"orientation\": \"h\", \"width\": 0.5, \"text\": \"0.04\", \"hoverinfo\": \"text\", \"marker\": {\"color\": \"rgb(247.863174358694, 251.43158717934702, 255)\"}, \"xaxis\": \"x2\", \"yaxis\": \"y2\"}, {\"type\": \"bar\", \"y\": [1], \"x\": [4], \"orientation\": \"h\", \"width\": 0.5, \"text\": \"0.07\", \"hoverinfo\": \"text\", \"marker\": {\"color\": \"rgb(240.11035852670872, 247.55517926335435, 255)\"}, \"xaxis\": \"x2\", \"yaxis\": \"y2\"}, {\"type\": \"bar\", \"y\": [1], \"x\": [1], \"orientation\": \"h\", \"width\": 0.5, \"text\": \"\", \"hoverinfo\": \"text\", \"marker\": {\"color\": \"rgb(255, 255, 255)\"}, \"xaxis\": \"x2\", \"yaxis\": \"y2\"}, {\"type\": \"bar\", \"y\": [1], \"x\": [1], \"orientation\": \"h\", \"width\": 0.5, \"text\": \"\", \"hoverinfo\": \"text\", \"marker\": {\"color\": \"rgb(255, 255, 255)\"}, \"xaxis\": \"x2\", \"yaxis\": \"y2\"}, {\"type\": \"bar\", \"y\": [1], \"x\": [1], \"orientation\": \"h\", \"width\": 0.5, \"text\": \"\", \"hoverinfo\": \"text\", \"marker\": {\"color\": \"rgb(255, 255, 255)\"}, \"xaxis\": \"x2\", \"yaxis\": \"y2\"}, {\"type\": \"bar\", \"y\": [1], \"x\": [1], \"orientation\": \"h\", \"width\": 0.5, \"text\": \"\", \"hoverinfo\": \"text\", \"marker\": {\"color\": \"rgb(255, 255, 255)\"}, \"xaxis\": \"x2\", \"yaxis\": \"y2\"}, {\"type\": \"bar\", \"y\": [1], \"x\": [1], \"orientation\": \"h\", \"width\": 0.5, \"text\": \"\", \"hoverinfo\": \"text\", \"marker\": {\"color\": \"rgb(255, 255, 255)\"}, \"xaxis\": \"x2\", \"yaxis\": \"y2\"}, {\"type\": \"bar\", \"y\": [1], \"x\": [1], \"orientation\": \"h\", \"width\": 0.5, \"text\": \"\", \"hoverinfo\": \"text\", \"marker\": {\"color\": \"rgb(255, 255, 255)\"}, \"xaxis\": \"x2\", \"yaxis\": \"y2\"}, {\"type\": \"bar\", \"y\": [1], \"x\": [1], \"orientation\": \"h\", \"width\": 0.5, \"text\": \"\", \"hoverinfo\": \"text\", \"marker\": {\"color\": \"rgb(255, 255, 255)\"}, \"xaxis\": \"x2\", \"yaxis\": \"y2\"}, {\"type\": \"bar\", \"y\": [1], \"x\": [1], \"orientation\": \"h\", \"width\": 0.5, \"text\": \"\", \"hoverinfo\": \"text\", \"marker\": {\"color\": \"rgb(255, 255, 255)\"}, \"xaxis\": \"x2\", \"yaxis\": \"y2\"}, {\"type\": \"bar\", \"y\": [1], \"x\": [1], \"orientation\": \"h\", \"width\": 0.5, \"text\": \"\", \"hoverinfo\": \"text\", \"marker\": {\"color\": \"rgb(255, 255, 255)\"}, \"xaxis\": \"x2\", \"yaxis\": \"y2\"}, {\"type\": \"bar\", \"y\": [1], \"x\": [1], \"orientation\": \"h\", \"width\": 0.5, \"text\": \"\", \"hoverinfo\": \"text\", \"marker\": {\"color\": \"rgb(255, 255, 255)\"}, \"xaxis\": \"x2\", \"yaxis\": \"y2\"}, {\"type\": \"bar\", \"y\": [1], \"x\": [1], \"orientation\": \"h\", \"width\": 0.5, \"text\": \"\", \"hoverinfo\": \"text\", \"marker\": {\"color\": \"rgb(255, 255, 255)\"}, \"xaxis\": \"x2\", \"yaxis\": \"y2\"}, {\"type\": \"bar\", \"y\": [1], \"x\": [1], \"orientation\": \"h\", \"width\": 0.5, \"text\": \"\", \"hoverinfo\": \"text\", \"marker\": {\"color\": \"rgb(255, 255, 255)\"}, \"xaxis\": \"x2\", \"yaxis\": \"y2\"}, {\"type\": \"bar\", \"y\": [1], \"x\": [1], \"orientation\": \"h\", \"width\": 0.5, \"text\": \"\", \"hoverinfo\": \"text\", \"marker\": {\"color\": \"rgb(255, 255, 255)\"}, \"xaxis\": \"x2\", \"yaxis\": \"y2\"}, {\"type\": \"bar\", \"y\": [1], \"x\": [1], \"orientation\": \"h\", \"width\": 0.5, \"text\": \"\", \"hoverinfo\": \"text\", \"marker\": {\"color\": \"rgb(255, 255, 255)\"}, \"xaxis\": \"x2\", \"yaxis\": \"y2\"}, {\"type\": \"bar\", \"y\": [1], \"x\": [1], \"orientation\": \"h\", \"width\": 0.5, \"text\": \"\", \"hoverinfo\": \"text\", \"marker\": {\"color\": \"rgb(255, 255, 255)\"}, \"xaxis\": \"x2\", \"yaxis\": \"y2\"}, {\"type\": \"bar\", \"y\": [1], \"x\": [1], \"orientation\": \"h\", \"width\": 0.5, \"text\": \"\", \"hoverinfo\": \"text\", \"marker\": {\"color\": \"rgb(255, 255, 255)\"}, \"xaxis\": \"x2\", \"yaxis\": \"y2\"}, {\"type\": \"bar\", \"y\": [1], \"x\": [1], \"orientation\": \"h\", \"width\": 0.5, \"text\": \"\", \"hoverinfo\": \"text\", \"marker\": {\"color\": \"rgb(255, 255, 255)\"}, \"xaxis\": \"x2\", \"yaxis\": \"y2\"}, {\"type\": \"bar\", \"y\": [1], \"x\": [1], \"orientation\": \"h\", \"width\": 0.5, \"text\": \"\", \"hoverinfo\": \"text\", \"marker\": {\"color\": \"rgb(255, 255, 255)\"}, \"xaxis\": \"x2\", \"yaxis\": \"y2\"}, {\"type\": \"bar\", \"y\": [1], \"x\": [1], \"orientation\": \"h\", \"width\": 0.5, \"text\": \"\", \"hoverinfo\": \"text\", \"marker\": {\"color\": \"rgb(255, 255, 255)\"}, \"xaxis\": \"x2\", \"yaxis\": \"y2\"}, {\"type\": \"bar\", \"y\": [1], \"x\": [1], \"orientation\": \"h\", \"width\": 0.5, \"text\": \"\", \"hoverinfo\": \"text\", \"marker\": {\"color\": \"rgb(255, 255, 255)\"}, \"xaxis\": \"x2\", \"yaxis\": \"y2\"}, {\"type\": \"bar\", \"y\": [1], \"x\": [1], \"orientation\": \"h\", \"width\": 0.5, \"text\": \"\", \"hoverinfo\": \"text\", \"marker\": {\"color\": \"rgb(255, 255, 255)\"}, \"xaxis\": \"x2\", \"yaxis\": \"y2\"}, {\"type\": \"bar\", \"y\": [1], \"x\": [1], \"orientation\": \"h\", \"width\": 0.5, \"text\": \"\", \"hoverinfo\": \"text\", \"marker\": {\"color\": \"rgb(255, 255, 255)\"}, \"xaxis\": \"x2\", \"yaxis\": \"y2\"}, {\"type\": \"bar\", \"y\": [1], \"x\": [1], \"orientation\": \"h\", \"width\": 0.5, \"text\": \"\", \"hoverinfo\": \"text\", \"marker\": {\"color\": \"rgb(255, 255, 255)\"}, \"xaxis\": \"x2\", \"yaxis\": \"y2\"}, {\"type\": \"bar\", \"y\": [1], \"x\": [1], \"orientation\": \"h\", \"width\": 0.5, \"text\": \"\", \"hoverinfo\": \"text\", \"marker\": {\"color\": \"rgb(255, 255, 255)\"}, \"xaxis\": \"x2\", \"yaxis\": \"y2\"}, {\"type\": \"bar\", \"y\": [1], \"x\": [1], \"orientation\": \"h\", \"width\": 0.5, \"text\": \"\", \"hoverinfo\": \"text\", \"marker\": {\"color\": \"rgb(255, 255, 255)\"}, \"xaxis\": \"x2\", \"yaxis\": \"y2\"}, {\"type\": \"bar\", \"y\": [1], \"x\": [1], \"orientation\": \"h\", \"width\": 0.5, \"text\": \"\", \"hoverinfo\": \"text\", \"marker\": {\"color\": \"rgb(255, 255, 255)\"}, \"xaxis\": \"x2\", \"yaxis\": \"y2\"}, {\"type\": \"bar\", \"y\": [1], \"x\": [1], \"orientation\": \"h\", \"width\": 0.5, \"text\": \"\", \"hoverinfo\": \"text\", \"marker\": {\"color\": \"rgb(255, 255, 255)\"}, \"xaxis\": \"x2\", \"yaxis\": \"y2\"}, {\"type\": \"bar\", \"y\": [1], \"x\": [1], \"orientation\": \"h\", \"width\": 0.5, \"text\": \"\", \"hoverinfo\": \"text\", \"marker\": {\"color\": \"rgb(255, 255, 255)\"}, \"xaxis\": \"x2\", \"yaxis\": \"y2\"}, {\"type\": \"bar\", \"y\": [1], \"x\": [1], \"orientation\": \"h\", \"width\": 0.5, \"text\": \"\", \"hoverinfo\": \"text\", \"marker\": {\"color\": \"rgb(255, 255, 255)\"}, \"xaxis\": \"x2\", \"yaxis\": \"y2\"}, {\"type\": \"bar\", \"y\": [1], \"x\": [1], \"orientation\": \"h\", \"width\": 0.5, \"text\": \"\", \"hoverinfo\": \"text\", \"marker\": {\"color\": \"rgb(255, 255, 255)\"}, \"xaxis\": \"x2\", \"yaxis\": \"y2\"}, {\"type\": \"bar\", \"y\": [1], \"x\": [1], \"orientation\": \"h\", \"width\": 0.5, \"text\": \"\", \"hoverinfo\": \"text\", \"marker\": {\"color\": \"rgb(255, 255, 255)\"}, \"xaxis\": \"x2\", \"yaxis\": \"y2\"}, {\"type\": \"bar\", \"y\": [1], \"x\": [1], \"orientation\": \"h\", \"width\": 0.5, \"text\": \"\", \"hoverinfo\": \"text\", \"marker\": {\"color\": \"rgb(255, 255, 255)\"}, \"xaxis\": \"x2\", \"yaxis\": \"y2\"}, {\"type\": \"bar\", \"y\": [1], \"x\": [1], \"orientation\": \"h\", \"width\": 0.5, \"text\": \"\", \"hoverinfo\": \"text\", \"marker\": {\"color\": \"rgb(255, 255, 255)\"}, \"xaxis\": \"x2\", \"yaxis\": \"y2\"}, {\"type\": \"bar\", \"y\": [1], \"x\": [1], \"orientation\": \"h\", \"width\": 0.5, \"text\": \"\", \"hoverinfo\": \"text\", \"marker\": {\"color\": \"rgb(255, 255, 255)\"}, \"xaxis\": \"x2\", \"yaxis\": \"y2\"}, {\"type\": \"bar\", \"y\": [1], \"x\": [1], \"orientation\": \"h\", \"width\": 0.5, \"text\": \"\", \"hoverinfo\": \"text\", \"marker\": {\"color\": \"rgb(255, 255, 255)\"}, \"xaxis\": \"x2\", \"yaxis\": \"y2\"}, {\"type\": \"bar\", \"y\": [1], \"x\": [1], \"orientation\": \"h\", \"width\": 0.5, \"text\": \"\", \"hoverinfo\": \"text\", \"marker\": {\"color\": \"rgb(255, 255, 255)\"}, \"xaxis\": \"x2\", \"yaxis\": \"y2\"}, {\"type\": \"bar\", \"y\": [1], \"x\": [1], \"orientation\": \"h\", \"width\": 0.5, \"text\": \"\", \"hoverinfo\": \"text\", \"marker\": {\"color\": \"rgb(255, 255, 255)\"}, \"xaxis\": \"x2\", \"yaxis\": \"y2\"}, {\"type\": \"bar\", \"y\": [1], \"x\": [1], \"orientation\": \"h\", \"width\": 0.5, \"text\": \"\", \"hoverinfo\": \"text\", \"marker\": {\"color\": \"rgb(255, 255, 255)\"}, \"xaxis\": \"x2\", \"yaxis\": \"y2\"}, {\"type\": \"bar\", \"y\": [1], \"x\": [1], \"orientation\": \"h\", \"width\": 0.5, \"text\": \"\", \"hoverinfo\": \"text\", \"marker\": {\"color\": \"rgb(255, 255, 255)\"}, \"xaxis\": \"x2\", \"yaxis\": \"y2\"}, {\"type\": \"bar\", \"y\": [1], \"x\": [1], \"orientation\": \"h\", \"width\": 0.5, \"text\": \"\", \"hoverinfo\": \"text\", \"marker\": {\"color\": \"rgb(255, 255, 255)\"}, \"xaxis\": \"x2\", \"yaxis\": \"y2\"}, {\"type\": \"bar\", \"y\": [1], \"x\": [1], \"orientation\": \"h\", \"width\": 0.5, \"text\": \"\", \"hoverinfo\": \"text\", \"marker\": {\"color\": \"rgb(255, 255, 255)\"}, \"xaxis\": \"x2\", \"yaxis\": \"y2\"}, {\"type\": \"bar\", \"y\": [1], \"x\": [1], \"orientation\": \"h\", \"width\": 0.5, \"text\": \"\", \"hoverinfo\": \"text\", \"marker\": {\"color\": \"rgb(255, 255, 255)\"}, \"xaxis\": \"x2\", \"yaxis\": \"y2\"}, {\"type\": \"bar\", \"y\": [1], \"x\": [1], \"orientation\": \"h\", \"width\": 0.5, \"text\": \"\", \"hoverinfo\": \"text\", \"marker\": {\"color\": \"rgb(255, 255, 255)\"}, \"xaxis\": \"x2\", \"yaxis\": \"y2\"}, {\"type\": \"bar\", \"y\": [1], \"x\": [1], \"orientation\": \"h\", \"width\": 0.5, \"text\": \"\", \"hoverinfo\": \"text\", \"marker\": {\"color\": \"rgb(255, 255, 255)\"}, \"xaxis\": \"x2\", \"yaxis\": \"y2\"}], {\"xaxis1\": {\"domain\": [0.0, 1.0], \"anchor\": \"y1\", \"showgrid\": false, \"showline\": false, \"showticklabels\": false, \"zeroline\": false}, \"yaxis1\": {\"domain\": [0.575, 1.0], \"anchor\": \"x1\", \"showgrid\": false, \"showline\": false, \"showticklabels\": false, \"zeroline\": false}, \"xaxis2\": {\"domain\": [0.0, 1.0], \"anchor\": \"y2\", \"showgrid\": false, \"showline\": false, \"showticklabels\": false, \"zeroline\": false}, \"yaxis2\": {\"domain\": [0.0, 0.425], \"anchor\": \"x2\", \"showgrid\": false, \"showline\": false, \"showticklabels\": false, \"zeroline\": false}, \"barmode\": \"stack\", \"showlegend\": false, \"margin\": {\"b\": 30, \"l\": 20, \"r\": 20, \"t\": 10}, \"annotations\": [{\"xref\": \"x1\", \"yref\": \"y1\", \"x\": 0.5, \"y\": 1, \"text\": \" \", \"align\": \"left\", \"font\": {\"family\": \"Arial\", \"size\": 14, \"color\": \"black\"}, \"showarrow\": false}, {\"xref\": \"x1\", \"yref\": \"y1\", \"x\": 1.5, \"y\": 1, \"text\": \"\\uc800\", \"align\": \"left\", \"font\": {\"family\": \"Arial\", \"size\": 14, \"color\": \"black\"}, \"showarrow\": false}, {\"xref\": \"x1\", \"yref\": \"y1\", \"x\": 2.5, \"y\": 1, \"text\": \"\\ub9cc\", \"align\": \"left\", \"font\": {\"family\": \"Arial\", \"size\": 14, \"color\": \"black\"}, \"showarrow\": false}, {\"xref\": \"x1\", \"yref\": \"y1\", \"x\": 3.5, \"y\": 1, \"text\": \" \", \"align\": \"left\", \"font\": {\"family\": \"Arial\", \"size\": 14, \"color\": \"black\"}, \"showarrow\": false}, {\"xref\": \"x1\", \"yref\": \"y1\", \"x\": 4.5, \"y\": 1, \"text\": \"\\uc0ac\", \"align\": \"left\", \"font\": {\"family\": \"Arial\", \"size\": 14, \"color\": \"black\"}, \"showarrow\": false}, {\"xref\": \"x1\", \"yref\": \"y1\", \"x\": 5.5, \"y\": 1, \"text\": \"\\ud61c\", \"align\": \"left\", \"font\": {\"family\": \"Arial\", \"size\": 14, \"color\": \"black\"}, \"showarrow\": false}, {\"xref\": \"x1\", \"yref\": \"y1\", \"x\": 6.5, \"y\": 1, \"text\": \"\\uc900\", \"align\": \"left\", \"font\": {\"family\": \"Arial\", \"size\": 14, \"color\": \"black\"}, \"showarrow\": false}, {\"xref\": \"x1\", \"yref\": \"y1\", \"x\": 7.5, \"y\": 1, \"text\": \"\\uc774\", \"align\": \"left\", \"font\": {\"family\": \"Arial\", \"size\": 14, \"color\": \"black\"}, \"showarrow\": false}, {\"xref\": \"x1\", \"yref\": \"y1\", \"x\": 8.5, \"y\": 1, \"text\": \" \", \"align\": \"left\", \"font\": {\"family\": \"Arial\", \"size\": 14, \"color\": \"black\"}, \"showarrow\": false}, {\"xref\": \"x1\", \"yref\": \"y1\", \"x\": 9.5, \"y\": 1, \"text\": \"\\uc548\", \"align\": \"left\", \"font\": {\"family\": \"Arial\", \"size\": 14, \"color\": \"black\"}, \"showarrow\": false}, {\"xref\": \"x1\", \"yref\": \"y1\", \"x\": 10.5, \"y\": 1, \"text\": \"\\uc815\", \"align\": \"left\", \"font\": {\"family\": \"Arial\", \"size\": 14, \"color\": \"black\"}, \"showarrow\": false}, {\"xref\": \"x1\", \"yref\": \"y1\", \"x\": 11.5, \"y\": 1, \"text\": \"\\ud558\", \"align\": \"left\", \"font\": {\"family\": \"Arial\", \"size\": 14, \"color\": \"black\"}, \"showarrow\": false}, {\"xref\": \"x1\", \"yref\": \"y1\", \"x\": 12.5, \"y\": 1, \"text\": \"\\ud55c\", \"align\": \"left\", \"font\": {\"family\": \"Arial\", \"size\": 14, \"color\": \"black\"}, \"showarrow\": false}, {\"xref\": \"x1\", \"yref\": \"y1\", \"x\": 13.5, \"y\": 1, \"text\": \"\\ud14c\", \"align\": \"left\", \"font\": {\"family\": \"Arial\", \"size\": 14, \"color\": \"black\"}, \"showarrow\": false}, {\"xref\": \"x1\", \"yref\": \"y1\", \"x\": 14.5, \"y\": 1, \"text\": \" \", \"align\": \"left\", \"font\": {\"family\": \"Arial\", \"size\": 14, \"color\": \"black\"}, \"showarrow\": false}, {\"xref\": \"x1\", \"yref\": \"y1\", \"x\": 15.5, \"y\": 1, \"text\": \"\\uc790\", \"align\": \"left\", \"font\": {\"family\": \"Arial\", \"size\": 14, \"color\": \"black\"}, \"showarrow\": false}, {\"xref\": \"x1\", \"yref\": \"y1\", \"x\": 16.5, \"y\": 1, \"text\": \"\\uae30\", \"align\": \"left\", \"font\": {\"family\": \"Arial\", \"size\": 14, \"color\": \"black\"}, \"showarrow\": false}, {\"xref\": \"x1\", \"yref\": \"y1\", \"x\": 17.5, \"y\": 1, \"text\": \" \", \"align\": \"left\", \"font\": {\"family\": \"Arial\", \"size\": 14, \"color\": \"black\"}, \"showarrow\": false}, {\"xref\": \"x1\", \"yref\": \"y1\", \"x\": 18.5, \"y\": 1, \"text\": \"\\uc55e\", \"align\": \"left\", \"font\": {\"family\": \"Arial\", \"size\": 14, \"color\": \"black\"}, \"showarrow\": false}, {\"xref\": \"x1\", \"yref\": \"y1\", \"x\": 19.5, \"y\": 1, \"text\": \"\\uc5d0\", \"align\": \"left\", \"font\": {\"family\": \"Arial\", \"size\": 14, \"color\": \"black\"}, \"showarrow\": false}, {\"xref\": \"x1\", \"yref\": \"y1\", \"x\": 20.5, \"y\": 1, \"text\": \"\\uc11c\", \"align\": \"left\", \"font\": {\"family\": \"Arial\", \"size\": 14, \"color\": \"black\"}, \"showarrow\": false}, {\"xref\": \"x1\", \"yref\": \"y1\", \"x\": 21.5, \"y\": 1, \"text\": \"\\ub9cc\", \"align\": \"left\", \"font\": {\"family\": \"Arial\", \"size\": 14, \"color\": \"black\"}, \"showarrow\": false}, {\"xref\": \"x1\", \"yref\": \"y1\", \"x\": 22.5, \"y\": 1, \"text\": \" \", \"align\": \"left\", \"font\": {\"family\": \"Arial\", \"size\": 14, \"color\": \"black\"}, \"showarrow\": false}, {\"xref\": \"x1\", \"yref\": \"y1\", \"x\": 23.5, \"y\": 1, \"text\": \"\\uc220\", \"align\": \"left\", \"font\": {\"family\": \"Arial\", \"size\": 14, \"color\": \"black\"}, \"showarrow\": false}, {\"xref\": \"x1\", \"yref\": \"y1\", \"x\": 24.5, \"y\": 1, \"text\": \" \", \"align\": \"left\", \"font\": {\"family\": \"Arial\", \"size\": 14, \"color\": \"black\"}, \"showarrow\": false}, {\"xref\": \"x1\", \"yref\": \"y1\", \"x\": 25.5, \"y\": 1, \"text\": \"\\uba39\", \"align\": \"left\", \"font\": {\"family\": \"Arial\", \"size\": 14, \"color\": \"black\"}, \"showarrow\": false}, {\"xref\": \"x1\", \"yref\": \"y1\", \"x\": 26.5, \"y\": 1, \"text\": \"\\uc73c\", \"align\": \"left\", \"font\": {\"family\": \"Arial\", \"size\": 14, \"color\": \"black\"}, \"showarrow\": false}, {\"xref\": \"x1\", \"yref\": \"y1\", \"x\": 27.5, \"y\": 1, \"text\": \"\\ub77c\", \"align\": \"left\", \"font\": {\"family\": \"Arial\", \"size\": 14, \"color\": \"black\"}, \"showarrow\": false}, {\"xref\": \"x1\", \"yref\": \"y1\", \"x\": 28.5, \"y\": 1, \"text\": \"\\uace0\", \"align\": \"left\", \"font\": {\"family\": \"Arial\", \"size\": 14, \"color\": \"black\"}, \"showarrow\": false}, {\"xref\": \"x1\", \"yref\": \"y1\", \"x\": 29.5, \"y\": 1, \"text\": \" \", \"align\": \"left\", \"font\": {\"family\": \"Arial\", \"size\": 14, \"color\": \"black\"}, \"showarrow\": false}, {\"xref\": \"x1\", \"yref\": \"y1\", \"x\": 30.5, \"y\": 1, \"text\": \"\\ub108\", \"align\": \"left\", \"font\": {\"family\": \"Arial\", \"size\": 14, \"color\": \"black\"}, \"showarrow\": false}, {\"xref\": \"x1\", \"yref\": \"y1\", \"x\": 31.5, \"y\": 1, \"text\": \"\\ubb34\", \"align\": \"left\", \"font\": {\"family\": \"Arial\", \"size\": 14, \"color\": \"black\"}, \"showarrow\": false}, {\"xref\": \"x1\", \"yref\": \"y1\", \"x\": 32.5, \"y\": 1, \"text\": \" \", \"align\": \"left\", \"font\": {\"family\": \"Arial\", \"size\": 14, \"color\": \"black\"}, \"showarrow\": false}, {\"xref\": \"x1\", \"yref\": \"y1\", \"x\": 33.5, \"y\": 1, \"text\": \"\\uadc0\", \"align\": \"left\", \"font\": {\"family\": \"Arial\", \"size\": 14, \"color\": \"black\"}, \"showarrow\": false}, {\"xref\": \"x1\", \"yref\": \"y1\", \"x\": 34.5, \"y\": 1, \"text\": \"\\uc5fd\", \"align\": \"left\", \"font\": {\"family\": \"Arial\", \"size\": 14, \"color\": \"black\"}, \"showarrow\": false}, {\"xref\": \"x1\", \"yref\": \"y1\", \"x\": 35.5, \"y\": 1, \"text\": \"\\ub2e4\", \"align\": \"left\", \"font\": {\"family\": \"Arial\", \"size\": 14, \"color\": \"black\"}, \"showarrow\": false}, {\"xref\": \"x1\", \"yref\": \"y1\", \"x\": 36.5, \"y\": 1, \"text\": \"\\uace0\", \"align\": \"left\", \"font\": {\"family\": \"Arial\", \"size\": 14, \"color\": \"black\"}, \"showarrow\": false}, {\"xref\": \"x1\", \"yref\": \"y1\", \"x\": 37.5, \"y\": 1, \"text\": \" \", \"align\": \"left\", \"font\": {\"family\": \"Arial\", \"size\": 14, \"color\": \"black\"}, \"showarrow\": false}, {\"xref\": \"x1\", \"yref\": \"y1\", \"x\": 38.5, \"y\": 1, \"text\": \"\\ub9d0\", \"align\": \"left\", \"font\": {\"family\": \"Arial\", \"size\": 14, \"color\": \"black\"}, \"showarrow\": false}, {\"xref\": \"x1\", \"yref\": \"y1\", \"x\": 39.5, \"y\": 1, \"text\": \"\\ud558\", \"align\": \"left\", \"font\": {\"family\": \"Arial\", \"size\": 14, \"color\": \"black\"}, \"showarrow\": false}, {\"xref\": \"x1\", \"yref\": \"y1\", \"x\": 40.5, \"y\": 1, \"text\": \"\\ub294\", \"align\": \"left\", \"font\": {\"family\": \"Arial\", \"size\": 14, \"color\": \"black\"}, \"showarrow\": false}, {\"xref\": \"x1\", \"yref\": \"y1\", \"x\": 41.5, \"y\": 1, \"text\": \" \", \"align\": \"left\", \"font\": {\"family\": \"Arial\", \"size\": 14, \"color\": \"black\"}, \"showarrow\": false}, {\"xref\": \"x1\", \"yref\": \"y1\", \"x\": 42.5, \"y\": 1, \"text\": \"\\uc601\", \"align\": \"left\", \"font\": {\"family\": \"Arial\", \"size\": 14, \"color\": \"black\"}, \"showarrow\": false}, {\"xref\": \"x1\", \"yref\": \"y1\", \"x\": 43.5, \"y\": 1, \"text\": \"\\uc0c1\", \"align\": \"left\", \"font\": {\"family\": \"Arial\", \"size\": 14, \"color\": \"black\"}, \"showarrow\": false}, {\"xref\": \"x1\", \"yref\": \"y1\", \"x\": 44.5, \"y\": 1, \"text\": \" \", \"align\": \"left\", \"font\": {\"family\": \"Arial\", \"size\": 14, \"color\": \"black\"}, \"showarrow\": false}, {\"xref\": \"x1\", \"yref\": \"y1\", \"x\": 45.5, \"y\": 1, \"text\": \"\\ucc3e\", \"align\": \"left\", \"font\": {\"family\": \"Arial\", \"size\": 14, \"color\": \"black\"}, \"showarrow\": false}, {\"xref\": \"x1\", \"yref\": \"y1\", \"x\": 46.5, \"y\": 1, \"text\": \"\\uace0\", \"align\": \"left\", \"font\": {\"family\": \"Arial\", \"size\": 14, \"color\": \"black\"}, \"showarrow\": false}, {\"xref\": \"x1\", \"yref\": \"y1\", \"x\": 47.5, \"y\": 1, \"text\": \" \", \"align\": \"left\", \"font\": {\"family\": \"Arial\", \"size\": 14, \"color\": \"black\"}, \"showarrow\": false}, {\"xref\": \"x1\", \"yref\": \"y1\", \"x\": 48.5, \"y\": 1, \"text\": \"\\uc788\", \"align\": \"left\", \"font\": {\"family\": \"Arial\", \"size\": 14, \"color\": \"black\"}, \"showarrow\": false}, {\"xref\": \"x1\", \"yref\": \"y1\", \"x\": 49.5, \"y\": 1, \"text\": \"\\ub098\", \"align\": \"left\", \"font\": {\"family\": \"Arial\", \"size\": 14, \"color\": \"black\"}, \"showarrow\": false}, {\"xref\": \"x2\", \"yref\": \"y2\", \"x\": 0.5, \"y\": 1, \"text\": \"\\uc694\", \"align\": \"left\", \"font\": {\"family\": \"Arial\", \"size\": 14, \"color\": \"black\"}, \"showarrow\": false}, {\"xref\": \"x2\", \"yref\": \"y2\", \"x\": 1.5, \"y\": 1, \"text\": \"?\", \"align\": \"left\", \"font\": {\"family\": \"Arial\", \"size\": 14, \"color\": \"black\"}, \"showarrow\": false}, {\"xref\": \"x2\", \"yref\": \"y2\", \"x\": 2.5, \"y\": 1, \"text\": \"\\u1172\", \"align\": \"left\", \"font\": {\"family\": \"Arial\", \"size\": 14, \"color\": \"black\"}, \"showarrow\": false}, {\"xref\": \"x2\", \"yref\": \"y2\", \"x\": 3.5, \"y\": 1, \"text\": \"\\u1172\", \"align\": \"left\", \"font\": {\"family\": \"Arial\", \"size\": 14, \"color\": \"black\"}, \"showarrow\": false}, {\"xref\": \"x2\", \"yref\": \"y2\", \"x\": 4.5, \"y\": 1, \"text\": \"\\u1172\", \"align\": \"left\", \"font\": {\"family\": \"Arial\", \"size\": 14, \"color\": \"black\"}, \"showarrow\": false}, {\"xref\": \"x2\", \"yref\": \"y2\", \"x\": 5.5, \"y\": 1, \"text\": \"\\u1172\", \"align\": \"left\", \"font\": {\"family\": \"Arial\", \"size\": 14, \"color\": \"black\"}, \"showarrow\": false}], \"height\": 130, \"images\": [{\"source\": \"https://raw.githubusercontent.com/fingeredman/teanaps/master/data/logo/teanaps_logo_no-bg.png\", \"xref\": \"paper\", \"yref\": \"paper\", \"x\": 0.5, \"y\": 0.6, \"sizex\": 0.7, \"sizey\": 0.7, \"xanchor\": \"center\", \"yanchor\": \"center\", \"opacity\": 0.3, \"layer\": \"above\"}]}, {\"showLink\": true, \"linkText\": \"Export to plot.ly\"})});</script>"
      ],
      "text/vnd.plotly.v1+html": [
       "<div id=\"bdbeda1d-ec18-4102-9367-fc0d3db992f0\" style=\"height: 130px; width: 100%;\" class=\"plotly-graph-div\"></div><script type=\"text/javascript\">require([\"plotly\"], function(Plotly) { window.PLOTLYENV=window.PLOTLYENV || {};window.PLOTLYENV.BASE_URL=\"https://plot.ly\";Plotly.newPlot(\"bdbeda1d-ec18-4102-9367-fc0d3db992f0\", [{\"type\": \"bar\", \"y\": [1], \"x\": [2], \"orientation\": \"h\", \"width\": 0.5, \"text\": \"0.02\", \"hoverinfo\": \"text\", \"marker\": {\"color\": \"rgb(251.06499618183983, 253.03249809091992, 255)\"}, \"xaxis\": \"x1\", \"yaxis\": \"y1\"}, {\"type\": \"bar\", \"y\": [1], \"x\": [1], \"orientation\": \"h\", \"width\": 0.5, \"text\": \"0.02\", \"hoverinfo\": \"text\", \"marker\": {\"color\": \"rgb(250.28741255807805, 252.643706279039, 255)\"}, \"xaxis\": \"x1\", \"yaxis\": \"y1\"}, {\"type\": \"bar\", \"y\": [1], \"x\": [2], \"orientation\": \"h\", \"width\": 0.5, \"text\": \"0.07\", \"hoverinfo\": \"text\", \"marker\": {\"color\": \"rgb(240.48860037034441, 247.74430018517222, 255)\"}, \"xaxis\": \"x1\", \"yaxis\": \"y1\"}, {\"type\": \"bar\", \"y\": [1], \"x\": [1], \"orientation\": \"h\", \"width\": 0.5, \"text\": \"0.65\", \"hoverinfo\": \"text\", \"marker\": {\"color\": \"rgb(125.79113575345005, 190.395567876725, 255)\"}, \"xaxis\": \"x1\", \"yaxis\": \"y1\"}, {\"type\": \"bar\", \"y\": [1], \"x\": [1], \"orientation\": \"h\", \"width\": 0.5, \"text\": \"0.59\", \"hoverinfo\": \"text\", \"marker\": {\"color\": \"rgb(136.04510944679117, 195.5225547233956, 255)\"}, \"xaxis\": \"x1\", \"yaxis\": \"y1\"}, {\"type\": \"bar\", \"y\": [1], \"x\": [1], \"orientation\": \"h\", \"width\": 0.5, \"text\": \"0.02\", \"hoverinfo\": \"text\", \"marker\": {\"color\": \"rgb(251.49827542253226, 253.24913771126612, 255)\"}, \"xaxis\": \"x1\", \"yaxis\": \"y1\"}, {\"type\": \"bar\", \"y\": [1], \"x\": [3], \"orientation\": \"h\", \"width\": 0.5, \"text\": \"0.07\", \"hoverinfo\": \"text\", \"marker\": {\"color\": \"rgb(241.74777535912048, 248.37388767956023, 255)\"}, \"xaxis\": \"x1\", \"yaxis\": \"y1\"}, {\"type\": \"bar\", \"y\": [1], \"x\": [1], \"orientation\": \"h\", \"width\": 0.5, \"text\": \"1.0\", \"hoverinfo\": \"text\", \"marker\": {\"color\": \"rgb(55.0, 155.0, 255)\"}, \"xaxis\": \"x1\", \"yaxis\": \"y1\"}, {\"type\": \"bar\", \"y\": [1], \"x\": [2], \"orientation\": \"h\", \"width\": 0.5, \"text\": \"0.01\", \"hoverinfo\": \"text\", \"marker\": {\"color\": \"rgb(252.15549416831678, 253.5777470841584, 255)\"}, \"xaxis\": \"x1\", \"yaxis\": \"y1\"}, {\"type\": \"bar\", \"y\": [1], \"x\": [3], \"orientation\": \"h\", \"width\": 0.5, \"text\": \"0.01\", \"hoverinfo\": \"text\", \"marker\": {\"color\": \"rgb(252.70313209140397, 253.851566045702, 255)\"}, \"xaxis\": \"x1\", \"yaxis\": \"y1\"}, {\"type\": \"bar\", \"y\": [1], \"x\": [4], \"orientation\": \"h\", \"width\": 0.5, \"text\": \"0.01\", \"hoverinfo\": \"text\", \"marker\": {\"color\": \"rgb(252.67142791669465, 253.83571395834733, 255)\"}, \"xaxis\": \"x1\", \"yaxis\": \"y1\"}, {\"type\": \"bar\", \"y\": [1], \"x\": [1], \"orientation\": \"h\", \"width\": 0.5, \"text\": \"0.02\", \"hoverinfo\": \"text\", \"marker\": {\"color\": \"rgb(251.3828928721113, 253.19144643605566, 255)\"}, \"xaxis\": \"x1\", \"yaxis\": \"y1\"}, {\"type\": \"bar\", \"y\": [1], \"x\": [2], \"orientation\": \"h\", \"width\": 0.5, \"text\": \"0.02\", \"hoverinfo\": \"text\", \"marker\": {\"color\": \"rgb(251.53564029946997, 253.26782014973497, 255)\"}, \"xaxis\": \"x1\", \"yaxis\": \"y1\"}, {\"type\": \"bar\", \"y\": [1], \"x\": [2], \"orientation\": \"h\", \"width\": 0.5, \"text\": \"0.01\", \"hoverinfo\": \"text\", \"marker\": {\"color\": \"rgb(252.0623684220664, 253.5311842110332, 255)\"}, \"xaxis\": \"x1\", \"yaxis\": \"y1\"}, {\"type\": \"bar\", \"y\": [1], \"x\": [1], \"orientation\": \"h\", \"width\": 0.5, \"text\": \"0.01\", \"hoverinfo\": \"text\", \"marker\": {\"color\": \"rgb(252.2706842896406, 253.6353421448203, 255)\"}, \"xaxis\": \"x1\", \"yaxis\": \"y1\"}, {\"type\": \"bar\", \"y\": [1], \"x\": [2], \"orientation\": \"h\", \"width\": 0.5, \"text\": \"0.02\", \"hoverinfo\": \"text\", \"marker\": {\"color\": \"rgb(251.42724558144576, 253.21362279072287, 255)\"}, \"xaxis\": \"x1\", \"yaxis\": \"y1\"}, {\"type\": \"bar\", \"y\": [1], \"x\": [3], \"orientation\": \"h\", \"width\": 0.5, \"text\": \"0.02\", \"hoverinfo\": \"text\", \"marker\": {\"color\": \"rgb(251.76957407885052, 253.38478703942525, 255)\"}, \"xaxis\": \"x1\", \"yaxis\": \"y1\"}, {\"type\": \"bar\", \"y\": [1], \"x\": [3], \"orientation\": \"h\", \"width\": 0.5, \"text\": \"0.02\", \"hoverinfo\": \"text\", \"marker\": {\"color\": \"rgb(251.85041168896353, 253.42520584448175, 255)\"}, \"xaxis\": \"x1\", \"yaxis\": \"y1\"}, {\"type\": \"bar\", \"y\": [1], \"x\": [1], \"orientation\": \"h\", \"width\": 0.5, \"text\": \"0.02\", \"hoverinfo\": \"text\", \"marker\": {\"color\": \"rgb(251.99039726446313, 253.49519863223156, 255)\"}, \"xaxis\": \"x1\", \"yaxis\": \"y1\"}, {\"type\": \"bar\", \"y\": [1], \"x\": [1], \"orientation\": \"h\", \"width\": 0.5, \"text\": \"0.02\", \"hoverinfo\": \"text\", \"marker\": {\"color\": \"rgb(251.73809711188346, 253.36904855594173, 255)\"}, \"xaxis\": \"x1\", \"yaxis\": \"y1\"}, {\"type\": \"bar\", \"y\": [1], \"x\": [2], \"orientation\": \"h\", \"width\": 0.5, \"text\": \"0.01\", \"hoverinfo\": \"text\", \"marker\": {\"color\": \"rgb(252.58914145115526, 253.79457072557761, 255)\"}, \"xaxis\": \"x1\", \"yaxis\": \"y1\"}, {\"type\": \"bar\", \"y\": [1], \"x\": [1], \"orientation\": \"h\", \"width\": 0.5, \"text\": \"0.02\", \"hoverinfo\": \"text\", \"marker\": {\"color\": \"rgb(251.96501191095982, 253.48250595547992, 255)\"}, \"xaxis\": \"x1\", \"yaxis\": \"y1\"}, {\"type\": \"bar\", \"y\": [1], \"x\": [1], \"orientation\": \"h\", \"width\": 0.5, \"text\": \"0.02\", \"hoverinfo\": \"text\", \"marker\": {\"color\": \"rgb(250.58702179592214, 252.79351089796108, 255)\"}, \"xaxis\": \"x1\", \"yaxis\": \"y1\"}, {\"type\": \"bar\", \"y\": [1], \"x\": [3], \"orientation\": \"h\", \"width\": 0.5, \"text\": \"0.02\", \"hoverinfo\": \"text\", \"marker\": {\"color\": \"rgb(250.65467849061108, 252.82733924530555, 255)\"}, \"xaxis\": \"x1\", \"yaxis\": \"y1\"}, {\"type\": \"bar\", \"y\": [1], \"x\": [1], \"orientation\": \"h\", \"width\": 0.5, \"text\": \"0.02\", \"hoverinfo\": \"text\", \"marker\": {\"color\": \"rgb(250.25257314583502, 252.6262865729175, 255)\"}, \"xaxis\": \"x1\", \"yaxis\": \"y1\"}, {\"type\": \"bar\", \"y\": [1], \"x\": [1], \"orientation\": \"h\", \"width\": 0.5, \"text\": \"0.02\", \"hoverinfo\": \"text\", \"marker\": {\"color\": \"rgb(251.41564480127894, 253.2078224006395, 255)\"}, \"xaxis\": \"x1\", \"yaxis\": \"y1\"}, {\"type\": \"bar\", \"y\": [1], \"x\": [1], \"orientation\": \"h\", \"width\": 0.5, \"text\": \"0.02\", \"hoverinfo\": \"text\", \"marker\": {\"color\": \"rgb(251.17806881872949, 253.08903440936473, 255)\"}, \"xaxis\": \"x1\", \"yaxis\": \"y1\"}, {\"type\": \"bar\", \"y\": [1], \"x\": [2], \"orientation\": \"h\", \"width\": 0.5, \"text\": \"0.01\", \"hoverinfo\": \"text\", \"marker\": {\"color\": \"rgb(252.1735255581919, 253.58676277909595, 255)\"}, \"xaxis\": \"x1\", \"yaxis\": \"y1\"}, {\"type\": \"bar\", \"y\": [1], \"x\": [1], \"orientation\": \"h\", \"width\": 0.5, \"text\": \"0.02\", \"hoverinfo\": \"text\", \"marker\": {\"color\": \"rgb(251.5917592741729, 253.29587963708644, 255)\"}, \"xaxis\": \"x1\", \"yaxis\": \"y1\"}, {\"type\": \"bar\", \"y\": [1], \"x\": [1], \"orientation\": \"h\", \"width\": 0.5, \"text\": \"0.03\", \"hoverinfo\": \"text\", \"marker\": {\"color\": \"rgb(249.98517848798167, 252.49258924399084, 255)\"}, \"xaxis\": \"x2\", \"yaxis\": \"y2\"}, {\"type\": \"bar\", \"y\": [1], \"x\": [1], \"orientation\": \"h\", \"width\": 0.5, \"text\": \"0.04\", \"hoverinfo\": \"text\", \"marker\": {\"color\": \"rgb(247.863174358694, 251.43158717934702, 255)\"}, \"xaxis\": \"x2\", \"yaxis\": \"y2\"}, {\"type\": \"bar\", \"y\": [1], \"x\": [4], \"orientation\": \"h\", \"width\": 0.5, \"text\": \"0.07\", \"hoverinfo\": \"text\", \"marker\": {\"color\": \"rgb(240.11035852670872, 247.55517926335435, 255)\"}, \"xaxis\": \"x2\", \"yaxis\": \"y2\"}, {\"type\": \"bar\", \"y\": [1], \"x\": [1], \"orientation\": \"h\", \"width\": 0.5, \"text\": \"\", \"hoverinfo\": \"text\", \"marker\": {\"color\": \"rgb(255, 255, 255)\"}, \"xaxis\": \"x2\", \"yaxis\": \"y2\"}, {\"type\": \"bar\", \"y\": [1], \"x\": [1], \"orientation\": \"h\", \"width\": 0.5, \"text\": \"\", \"hoverinfo\": \"text\", \"marker\": {\"color\": \"rgb(255, 255, 255)\"}, \"xaxis\": \"x2\", \"yaxis\": \"y2\"}, {\"type\": \"bar\", \"y\": [1], \"x\": [1], \"orientation\": \"h\", \"width\": 0.5, \"text\": \"\", \"hoverinfo\": \"text\", \"marker\": {\"color\": \"rgb(255, 255, 255)\"}, \"xaxis\": \"x2\", \"yaxis\": \"y2\"}, {\"type\": \"bar\", \"y\": [1], \"x\": [1], \"orientation\": \"h\", \"width\": 0.5, \"text\": \"\", \"hoverinfo\": \"text\", \"marker\": {\"color\": \"rgb(255, 255, 255)\"}, \"xaxis\": \"x2\", \"yaxis\": \"y2\"}, {\"type\": \"bar\", \"y\": [1], \"x\": [1], \"orientation\": \"h\", \"width\": 0.5, \"text\": \"\", \"hoverinfo\": \"text\", \"marker\": {\"color\": \"rgb(255, 255, 255)\"}, \"xaxis\": \"x2\", \"yaxis\": \"y2\"}, {\"type\": \"bar\", \"y\": [1], \"x\": [1], \"orientation\": \"h\", \"width\": 0.5, \"text\": \"\", \"hoverinfo\": \"text\", \"marker\": {\"color\": \"rgb(255, 255, 255)\"}, \"xaxis\": \"x2\", \"yaxis\": \"y2\"}, {\"type\": \"bar\", \"y\": [1], \"x\": [1], \"orientation\": \"h\", \"width\": 0.5, \"text\": \"\", \"hoverinfo\": \"text\", \"marker\": {\"color\": \"rgb(255, 255, 255)\"}, \"xaxis\": \"x2\", \"yaxis\": \"y2\"}, {\"type\": \"bar\", \"y\": [1], \"x\": [1], \"orientation\": \"h\", \"width\": 0.5, \"text\": \"\", \"hoverinfo\": \"text\", \"marker\": {\"color\": \"rgb(255, 255, 255)\"}, \"xaxis\": \"x2\", \"yaxis\": \"y2\"}, {\"type\": \"bar\", \"y\": [1], \"x\": [1], \"orientation\": \"h\", \"width\": 0.5, \"text\": \"\", \"hoverinfo\": \"text\", \"marker\": {\"color\": \"rgb(255, 255, 255)\"}, \"xaxis\": \"x2\", \"yaxis\": \"y2\"}, {\"type\": \"bar\", \"y\": [1], \"x\": [1], \"orientation\": \"h\", \"width\": 0.5, \"text\": \"\", \"hoverinfo\": \"text\", \"marker\": {\"color\": \"rgb(255, 255, 255)\"}, \"xaxis\": \"x2\", \"yaxis\": \"y2\"}, {\"type\": \"bar\", \"y\": [1], \"x\": [1], \"orientation\": \"h\", \"width\": 0.5, \"text\": \"\", \"hoverinfo\": \"text\", \"marker\": {\"color\": \"rgb(255, 255, 255)\"}, \"xaxis\": \"x2\", \"yaxis\": \"y2\"}, {\"type\": \"bar\", \"y\": [1], \"x\": [1], \"orientation\": \"h\", \"width\": 0.5, \"text\": \"\", \"hoverinfo\": \"text\", \"marker\": {\"color\": \"rgb(255, 255, 255)\"}, \"xaxis\": \"x2\", \"yaxis\": \"y2\"}, {\"type\": \"bar\", \"y\": [1], \"x\": [1], \"orientation\": \"h\", \"width\": 0.5, \"text\": \"\", \"hoverinfo\": \"text\", \"marker\": {\"color\": \"rgb(255, 255, 255)\"}, \"xaxis\": \"x2\", \"yaxis\": \"y2\"}, {\"type\": \"bar\", \"y\": [1], \"x\": [1], \"orientation\": \"h\", \"width\": 0.5, \"text\": \"\", \"hoverinfo\": \"text\", \"marker\": {\"color\": \"rgb(255, 255, 255)\"}, \"xaxis\": \"x2\", \"yaxis\": \"y2\"}, {\"type\": \"bar\", \"y\": [1], \"x\": [1], \"orientation\": \"h\", \"width\": 0.5, \"text\": \"\", \"hoverinfo\": \"text\", \"marker\": {\"color\": \"rgb(255, 255, 255)\"}, \"xaxis\": \"x2\", \"yaxis\": \"y2\"}, {\"type\": \"bar\", \"y\": [1], \"x\": [1], \"orientation\": \"h\", \"width\": 0.5, \"text\": \"\", \"hoverinfo\": \"text\", \"marker\": {\"color\": \"rgb(255, 255, 255)\"}, \"xaxis\": \"x2\", \"yaxis\": \"y2\"}, {\"type\": \"bar\", \"y\": [1], \"x\": [1], \"orientation\": \"h\", \"width\": 0.5, \"text\": \"\", \"hoverinfo\": \"text\", \"marker\": {\"color\": \"rgb(255, 255, 255)\"}, \"xaxis\": \"x2\", \"yaxis\": \"y2\"}, {\"type\": \"bar\", \"y\": [1], \"x\": [1], \"orientation\": \"h\", \"width\": 0.5, \"text\": \"\", \"hoverinfo\": \"text\", \"marker\": {\"color\": \"rgb(255, 255, 255)\"}, \"xaxis\": \"x2\", \"yaxis\": \"y2\"}, {\"type\": \"bar\", \"y\": [1], \"x\": [1], \"orientation\": \"h\", \"width\": 0.5, \"text\": \"\", \"hoverinfo\": \"text\", \"marker\": {\"color\": \"rgb(255, 255, 255)\"}, \"xaxis\": \"x2\", \"yaxis\": \"y2\"}, {\"type\": \"bar\", \"y\": [1], \"x\": [1], \"orientation\": \"h\", \"width\": 0.5, \"text\": \"\", \"hoverinfo\": \"text\", \"marker\": {\"color\": \"rgb(255, 255, 255)\"}, \"xaxis\": \"x2\", \"yaxis\": \"y2\"}, {\"type\": \"bar\", \"y\": [1], \"x\": [1], \"orientation\": \"h\", \"width\": 0.5, \"text\": \"\", \"hoverinfo\": \"text\", \"marker\": {\"color\": \"rgb(255, 255, 255)\"}, \"xaxis\": \"x2\", \"yaxis\": \"y2\"}, {\"type\": \"bar\", \"y\": [1], \"x\": [1], \"orientation\": \"h\", \"width\": 0.5, \"text\": \"\", \"hoverinfo\": \"text\", \"marker\": {\"color\": \"rgb(255, 255, 255)\"}, \"xaxis\": \"x2\", \"yaxis\": \"y2\"}, {\"type\": \"bar\", \"y\": [1], \"x\": [1], \"orientation\": \"h\", \"width\": 0.5, \"text\": \"\", \"hoverinfo\": \"text\", \"marker\": {\"color\": \"rgb(255, 255, 255)\"}, \"xaxis\": \"x2\", \"yaxis\": \"y2\"}, {\"type\": \"bar\", \"y\": [1], \"x\": [1], \"orientation\": \"h\", \"width\": 0.5, \"text\": \"\", \"hoverinfo\": \"text\", \"marker\": {\"color\": \"rgb(255, 255, 255)\"}, \"xaxis\": \"x2\", \"yaxis\": \"y2\"}, {\"type\": \"bar\", \"y\": [1], \"x\": [1], \"orientation\": \"h\", \"width\": 0.5, \"text\": \"\", \"hoverinfo\": \"text\", \"marker\": {\"color\": \"rgb(255, 255, 255)\"}, \"xaxis\": \"x2\", \"yaxis\": \"y2\"}, {\"type\": \"bar\", \"y\": [1], \"x\": [1], \"orientation\": \"h\", \"width\": 0.5, \"text\": \"\", \"hoverinfo\": \"text\", \"marker\": {\"color\": \"rgb(255, 255, 255)\"}, \"xaxis\": \"x2\", \"yaxis\": \"y2\"}, {\"type\": \"bar\", \"y\": [1], \"x\": [1], \"orientation\": \"h\", \"width\": 0.5, \"text\": \"\", \"hoverinfo\": \"text\", \"marker\": {\"color\": \"rgb(255, 255, 255)\"}, \"xaxis\": \"x2\", \"yaxis\": \"y2\"}, {\"type\": \"bar\", \"y\": [1], \"x\": [1], \"orientation\": \"h\", \"width\": 0.5, \"text\": \"\", \"hoverinfo\": \"text\", \"marker\": {\"color\": \"rgb(255, 255, 255)\"}, \"xaxis\": \"x2\", \"yaxis\": \"y2\"}, {\"type\": \"bar\", \"y\": [1], \"x\": [1], \"orientation\": \"h\", \"width\": 0.5, \"text\": \"\", \"hoverinfo\": \"text\", \"marker\": {\"color\": \"rgb(255, 255, 255)\"}, \"xaxis\": \"x2\", \"yaxis\": \"y2\"}, {\"type\": \"bar\", \"y\": [1], \"x\": [1], \"orientation\": \"h\", \"width\": 0.5, \"text\": \"\", \"hoverinfo\": \"text\", \"marker\": {\"color\": \"rgb(255, 255, 255)\"}, \"xaxis\": \"x2\", \"yaxis\": \"y2\"}, {\"type\": \"bar\", \"y\": [1], \"x\": [1], \"orientation\": \"h\", \"width\": 0.5, \"text\": \"\", \"hoverinfo\": \"text\", \"marker\": {\"color\": \"rgb(255, 255, 255)\"}, \"xaxis\": \"x2\", \"yaxis\": \"y2\"}, {\"type\": \"bar\", \"y\": [1], \"x\": [1], \"orientation\": \"h\", \"width\": 0.5, \"text\": \"\", \"hoverinfo\": \"text\", \"marker\": {\"color\": \"rgb(255, 255, 255)\"}, \"xaxis\": \"x2\", \"yaxis\": \"y2\"}, {\"type\": \"bar\", \"y\": [1], \"x\": [1], \"orientation\": \"h\", \"width\": 0.5, \"text\": \"\", \"hoverinfo\": \"text\", \"marker\": {\"color\": \"rgb(255, 255, 255)\"}, \"xaxis\": \"x2\", \"yaxis\": \"y2\"}, {\"type\": \"bar\", \"y\": [1], \"x\": [1], \"orientation\": \"h\", \"width\": 0.5, \"text\": \"\", \"hoverinfo\": \"text\", \"marker\": {\"color\": \"rgb(255, 255, 255)\"}, \"xaxis\": \"x2\", \"yaxis\": \"y2\"}, {\"type\": \"bar\", \"y\": [1], \"x\": [1], \"orientation\": \"h\", \"width\": 0.5, \"text\": \"\", \"hoverinfo\": \"text\", \"marker\": {\"color\": \"rgb(255, 255, 255)\"}, \"xaxis\": \"x2\", \"yaxis\": \"y2\"}, {\"type\": \"bar\", \"y\": [1], \"x\": [1], \"orientation\": \"h\", \"width\": 0.5, \"text\": \"\", \"hoverinfo\": \"text\", \"marker\": {\"color\": \"rgb(255, 255, 255)\"}, \"xaxis\": \"x2\", \"yaxis\": \"y2\"}, {\"type\": \"bar\", \"y\": [1], \"x\": [1], \"orientation\": \"h\", \"width\": 0.5, \"text\": \"\", \"hoverinfo\": \"text\", \"marker\": {\"color\": \"rgb(255, 255, 255)\"}, \"xaxis\": \"x2\", \"yaxis\": \"y2\"}, {\"type\": \"bar\", \"y\": [1], \"x\": [1], \"orientation\": \"h\", \"width\": 0.5, \"text\": \"\", \"hoverinfo\": \"text\", \"marker\": {\"color\": \"rgb(255, 255, 255)\"}, \"xaxis\": \"x2\", \"yaxis\": \"y2\"}, {\"type\": \"bar\", \"y\": [1], \"x\": [1], \"orientation\": \"h\", \"width\": 0.5, \"text\": \"\", \"hoverinfo\": \"text\", \"marker\": {\"color\": \"rgb(255, 255, 255)\"}, \"xaxis\": \"x2\", \"yaxis\": \"y2\"}, {\"type\": \"bar\", \"y\": [1], \"x\": [1], \"orientation\": \"h\", \"width\": 0.5, \"text\": \"\", \"hoverinfo\": \"text\", \"marker\": {\"color\": \"rgb(255, 255, 255)\"}, \"xaxis\": \"x2\", \"yaxis\": \"y2\"}, {\"type\": \"bar\", \"y\": [1], \"x\": [1], \"orientation\": \"h\", \"width\": 0.5, \"text\": \"\", \"hoverinfo\": \"text\", \"marker\": {\"color\": \"rgb(255, 255, 255)\"}, \"xaxis\": \"x2\", \"yaxis\": \"y2\"}, {\"type\": \"bar\", \"y\": [1], \"x\": [1], \"orientation\": \"h\", \"width\": 0.5, \"text\": \"\", \"hoverinfo\": \"text\", \"marker\": {\"color\": \"rgb(255, 255, 255)\"}, \"xaxis\": \"x2\", \"yaxis\": \"y2\"}, {\"type\": \"bar\", \"y\": [1], \"x\": [1], \"orientation\": \"h\", \"width\": 0.5, \"text\": \"\", \"hoverinfo\": \"text\", \"marker\": {\"color\": \"rgb(255, 255, 255)\"}, \"xaxis\": \"x2\", \"yaxis\": \"y2\"}, {\"type\": \"bar\", \"y\": [1], \"x\": [1], \"orientation\": \"h\", \"width\": 0.5, \"text\": \"\", \"hoverinfo\": \"text\", \"marker\": {\"color\": \"rgb(255, 255, 255)\"}, \"xaxis\": \"x2\", \"yaxis\": \"y2\"}], {\"xaxis1\": {\"domain\": [0.0, 1.0], \"anchor\": \"y1\", \"showgrid\": false, \"showline\": false, \"showticklabels\": false, \"zeroline\": false}, \"yaxis1\": {\"domain\": [0.575, 1.0], \"anchor\": \"x1\", \"showgrid\": false, \"showline\": false, \"showticklabels\": false, \"zeroline\": false}, \"xaxis2\": {\"domain\": [0.0, 1.0], \"anchor\": \"y2\", \"showgrid\": false, \"showline\": false, \"showticklabels\": false, \"zeroline\": false}, \"yaxis2\": {\"domain\": [0.0, 0.425], \"anchor\": \"x2\", \"showgrid\": false, \"showline\": false, \"showticklabels\": false, \"zeroline\": false}, \"barmode\": \"stack\", \"showlegend\": false, \"margin\": {\"b\": 30, \"l\": 20, \"r\": 20, \"t\": 10}, \"annotations\": [{\"xref\": \"x1\", \"yref\": \"y1\", \"x\": 0.5, \"y\": 1, \"text\": \" \", \"align\": \"left\", \"font\": {\"family\": \"Arial\", \"size\": 14, \"color\": \"black\"}, \"showarrow\": false}, {\"xref\": \"x1\", \"yref\": \"y1\", \"x\": 1.5, \"y\": 1, \"text\": \"\\uc800\", \"align\": \"left\", \"font\": {\"family\": \"Arial\", \"size\": 14, \"color\": \"black\"}, \"showarrow\": false}, {\"xref\": \"x1\", \"yref\": \"y1\", \"x\": 2.5, \"y\": 1, \"text\": \"\\ub9cc\", \"align\": \"left\", \"font\": {\"family\": \"Arial\", \"size\": 14, \"color\": \"black\"}, \"showarrow\": false}, {\"xref\": \"x1\", \"yref\": \"y1\", \"x\": 3.5, \"y\": 1, \"text\": \" \", \"align\": \"left\", \"font\": {\"family\": \"Arial\", \"size\": 14, \"color\": \"black\"}, \"showarrow\": false}, {\"xref\": \"x1\", \"yref\": \"y1\", \"x\": 4.5, \"y\": 1, \"text\": \"\\uc0ac\", \"align\": \"left\", \"font\": {\"family\": \"Arial\", \"size\": 14, \"color\": \"black\"}, \"showarrow\": false}, {\"xref\": \"x1\", \"yref\": \"y1\", \"x\": 5.5, \"y\": 1, \"text\": \"\\ud61c\", \"align\": \"left\", \"font\": {\"family\": \"Arial\", \"size\": 14, \"color\": \"black\"}, \"showarrow\": false}, {\"xref\": \"x1\", \"yref\": \"y1\", \"x\": 6.5, \"y\": 1, \"text\": \"\\uc900\", \"align\": \"left\", \"font\": {\"family\": \"Arial\", \"size\": 14, \"color\": \"black\"}, \"showarrow\": false}, {\"xref\": \"x1\", \"yref\": \"y1\", \"x\": 7.5, \"y\": 1, \"text\": \"\\uc774\", \"align\": \"left\", \"font\": {\"family\": \"Arial\", \"size\": 14, \"color\": \"black\"}, \"showarrow\": false}, {\"xref\": \"x1\", \"yref\": \"y1\", \"x\": 8.5, \"y\": 1, \"text\": \" \", \"align\": \"left\", \"font\": {\"family\": \"Arial\", \"size\": 14, \"color\": \"black\"}, \"showarrow\": false}, {\"xref\": \"x1\", \"yref\": \"y1\", \"x\": 9.5, \"y\": 1, \"text\": \"\\uc548\", \"align\": \"left\", \"font\": {\"family\": \"Arial\", \"size\": 14, \"color\": \"black\"}, \"showarrow\": false}, {\"xref\": \"x1\", \"yref\": \"y1\", \"x\": 10.5, \"y\": 1, \"text\": \"\\uc815\", \"align\": \"left\", \"font\": {\"family\": \"Arial\", \"size\": 14, \"color\": \"black\"}, \"showarrow\": false}, {\"xref\": \"x1\", \"yref\": \"y1\", \"x\": 11.5, \"y\": 1, \"text\": \"\\ud558\", \"align\": \"left\", \"font\": {\"family\": \"Arial\", \"size\": 14, \"color\": \"black\"}, \"showarrow\": false}, {\"xref\": \"x1\", \"yref\": \"y1\", \"x\": 12.5, \"y\": 1, \"text\": \"\\ud55c\", \"align\": \"left\", \"font\": {\"family\": \"Arial\", \"size\": 14, \"color\": \"black\"}, \"showarrow\": false}, {\"xref\": \"x1\", \"yref\": \"y1\", \"x\": 13.5, \"y\": 1, \"text\": \"\\ud14c\", \"align\": \"left\", \"font\": {\"family\": \"Arial\", \"size\": 14, \"color\": \"black\"}, \"showarrow\": false}, {\"xref\": \"x1\", \"yref\": \"y1\", \"x\": 14.5, \"y\": 1, \"text\": \" \", \"align\": \"left\", \"font\": {\"family\": \"Arial\", \"size\": 14, \"color\": \"black\"}, \"showarrow\": false}, {\"xref\": \"x1\", \"yref\": \"y1\", \"x\": 15.5, \"y\": 1, \"text\": \"\\uc790\", \"align\": \"left\", \"font\": {\"family\": \"Arial\", \"size\": 14, \"color\": \"black\"}, \"showarrow\": false}, {\"xref\": \"x1\", \"yref\": \"y1\", \"x\": 16.5, \"y\": 1, \"text\": \"\\uae30\", \"align\": \"left\", \"font\": {\"family\": \"Arial\", \"size\": 14, \"color\": \"black\"}, \"showarrow\": false}, {\"xref\": \"x1\", \"yref\": \"y1\", \"x\": 17.5, \"y\": 1, \"text\": \" \", \"align\": \"left\", \"font\": {\"family\": \"Arial\", \"size\": 14, \"color\": \"black\"}, \"showarrow\": false}, {\"xref\": \"x1\", \"yref\": \"y1\", \"x\": 18.5, \"y\": 1, \"text\": \"\\uc55e\", \"align\": \"left\", \"font\": {\"family\": \"Arial\", \"size\": 14, \"color\": \"black\"}, \"showarrow\": false}, {\"xref\": \"x1\", \"yref\": \"y1\", \"x\": 19.5, \"y\": 1, \"text\": \"\\uc5d0\", \"align\": \"left\", \"font\": {\"family\": \"Arial\", \"size\": 14, \"color\": \"black\"}, \"showarrow\": false}, {\"xref\": \"x1\", \"yref\": \"y1\", \"x\": 20.5, \"y\": 1, \"text\": \"\\uc11c\", \"align\": \"left\", \"font\": {\"family\": \"Arial\", \"size\": 14, \"color\": \"black\"}, \"showarrow\": false}, {\"xref\": \"x1\", \"yref\": \"y1\", \"x\": 21.5, \"y\": 1, \"text\": \"\\ub9cc\", \"align\": \"left\", \"font\": {\"family\": \"Arial\", \"size\": 14, \"color\": \"black\"}, \"showarrow\": false}, {\"xref\": \"x1\", \"yref\": \"y1\", \"x\": 22.5, \"y\": 1, \"text\": \" \", \"align\": \"left\", \"font\": {\"family\": \"Arial\", \"size\": 14, \"color\": \"black\"}, \"showarrow\": false}, {\"xref\": \"x1\", \"yref\": \"y1\", \"x\": 23.5, \"y\": 1, \"text\": \"\\uc220\", \"align\": \"left\", \"font\": {\"family\": \"Arial\", \"size\": 14, \"color\": \"black\"}, \"showarrow\": false}, {\"xref\": \"x1\", \"yref\": \"y1\", \"x\": 24.5, \"y\": 1, \"text\": \" \", \"align\": \"left\", \"font\": {\"family\": \"Arial\", \"size\": 14, \"color\": \"black\"}, \"showarrow\": false}, {\"xref\": \"x1\", \"yref\": \"y1\", \"x\": 25.5, \"y\": 1, \"text\": \"\\uba39\", \"align\": \"left\", \"font\": {\"family\": \"Arial\", \"size\": 14, \"color\": \"black\"}, \"showarrow\": false}, {\"xref\": \"x1\", \"yref\": \"y1\", \"x\": 26.5, \"y\": 1, \"text\": \"\\uc73c\", \"align\": \"left\", \"font\": {\"family\": \"Arial\", \"size\": 14, \"color\": \"black\"}, \"showarrow\": false}, {\"xref\": \"x1\", \"yref\": \"y1\", \"x\": 27.5, \"y\": 1, \"text\": \"\\ub77c\", \"align\": \"left\", \"font\": {\"family\": \"Arial\", \"size\": 14, \"color\": \"black\"}, \"showarrow\": false}, {\"xref\": \"x1\", \"yref\": \"y1\", \"x\": 28.5, \"y\": 1, \"text\": \"\\uace0\", \"align\": \"left\", \"font\": {\"family\": \"Arial\", \"size\": 14, \"color\": \"black\"}, \"showarrow\": false}, {\"xref\": \"x1\", \"yref\": \"y1\", \"x\": 29.5, \"y\": 1, \"text\": \" \", \"align\": \"left\", \"font\": {\"family\": \"Arial\", \"size\": 14, \"color\": \"black\"}, \"showarrow\": false}, {\"xref\": \"x1\", \"yref\": \"y1\", \"x\": 30.5, \"y\": 1, \"text\": \"\\ub108\", \"align\": \"left\", \"font\": {\"family\": \"Arial\", \"size\": 14, \"color\": \"black\"}, \"showarrow\": false}, {\"xref\": \"x1\", \"yref\": \"y1\", \"x\": 31.5, \"y\": 1, \"text\": \"\\ubb34\", \"align\": \"left\", \"font\": {\"family\": \"Arial\", \"size\": 14, \"color\": \"black\"}, \"showarrow\": false}, {\"xref\": \"x1\", \"yref\": \"y1\", \"x\": 32.5, \"y\": 1, \"text\": \" \", \"align\": \"left\", \"font\": {\"family\": \"Arial\", \"size\": 14, \"color\": \"black\"}, \"showarrow\": false}, {\"xref\": \"x1\", \"yref\": \"y1\", \"x\": 33.5, \"y\": 1, \"text\": \"\\uadc0\", \"align\": \"left\", \"font\": {\"family\": \"Arial\", \"size\": 14, \"color\": \"black\"}, \"showarrow\": false}, {\"xref\": \"x1\", \"yref\": \"y1\", \"x\": 34.5, \"y\": 1, \"text\": \"\\uc5fd\", \"align\": \"left\", \"font\": {\"family\": \"Arial\", \"size\": 14, \"color\": \"black\"}, \"showarrow\": false}, {\"xref\": \"x1\", \"yref\": \"y1\", \"x\": 35.5, \"y\": 1, \"text\": \"\\ub2e4\", \"align\": \"left\", \"font\": {\"family\": \"Arial\", \"size\": 14, \"color\": \"black\"}, \"showarrow\": false}, {\"xref\": \"x1\", \"yref\": \"y1\", \"x\": 36.5, \"y\": 1, \"text\": \"\\uace0\", \"align\": \"left\", \"font\": {\"family\": \"Arial\", \"size\": 14, \"color\": \"black\"}, \"showarrow\": false}, {\"xref\": \"x1\", \"yref\": \"y1\", \"x\": 37.5, \"y\": 1, \"text\": \" \", \"align\": \"left\", \"font\": {\"family\": \"Arial\", \"size\": 14, \"color\": \"black\"}, \"showarrow\": false}, {\"xref\": \"x1\", \"yref\": \"y1\", \"x\": 38.5, \"y\": 1, \"text\": \"\\ub9d0\", \"align\": \"left\", \"font\": {\"family\": \"Arial\", \"size\": 14, \"color\": \"black\"}, \"showarrow\": false}, {\"xref\": \"x1\", \"yref\": \"y1\", \"x\": 39.5, \"y\": 1, \"text\": \"\\ud558\", \"align\": \"left\", \"font\": {\"family\": \"Arial\", \"size\": 14, \"color\": \"black\"}, \"showarrow\": false}, {\"xref\": \"x1\", \"yref\": \"y1\", \"x\": 40.5, \"y\": 1, \"text\": \"\\ub294\", \"align\": \"left\", \"font\": {\"family\": \"Arial\", \"size\": 14, \"color\": \"black\"}, \"showarrow\": false}, {\"xref\": \"x1\", \"yref\": \"y1\", \"x\": 41.5, \"y\": 1, \"text\": \" \", \"align\": \"left\", \"font\": {\"family\": \"Arial\", \"size\": 14, \"color\": \"black\"}, \"showarrow\": false}, {\"xref\": \"x1\", \"yref\": \"y1\", \"x\": 42.5, \"y\": 1, \"text\": \"\\uc601\", \"align\": \"left\", \"font\": {\"family\": \"Arial\", \"size\": 14, \"color\": \"black\"}, \"showarrow\": false}, {\"xref\": \"x1\", \"yref\": \"y1\", \"x\": 43.5, \"y\": 1, \"text\": \"\\uc0c1\", \"align\": \"left\", \"font\": {\"family\": \"Arial\", \"size\": 14, \"color\": \"black\"}, \"showarrow\": false}, {\"xref\": \"x1\", \"yref\": \"y1\", \"x\": 44.5, \"y\": 1, \"text\": \" \", \"align\": \"left\", \"font\": {\"family\": \"Arial\", \"size\": 14, \"color\": \"black\"}, \"showarrow\": false}, {\"xref\": \"x1\", \"yref\": \"y1\", \"x\": 45.5, \"y\": 1, \"text\": \"\\ucc3e\", \"align\": \"left\", \"font\": {\"family\": \"Arial\", \"size\": 14, \"color\": \"black\"}, \"showarrow\": false}, {\"xref\": \"x1\", \"yref\": \"y1\", \"x\": 46.5, \"y\": 1, \"text\": \"\\uace0\", \"align\": \"left\", \"font\": {\"family\": \"Arial\", \"size\": 14, \"color\": \"black\"}, \"showarrow\": false}, {\"xref\": \"x1\", \"yref\": \"y1\", \"x\": 47.5, \"y\": 1, \"text\": \" \", \"align\": \"left\", \"font\": {\"family\": \"Arial\", \"size\": 14, \"color\": \"black\"}, \"showarrow\": false}, {\"xref\": \"x1\", \"yref\": \"y1\", \"x\": 48.5, \"y\": 1, \"text\": \"\\uc788\", \"align\": \"left\", \"font\": {\"family\": \"Arial\", \"size\": 14, \"color\": \"black\"}, \"showarrow\": false}, {\"xref\": \"x1\", \"yref\": \"y1\", \"x\": 49.5, \"y\": 1, \"text\": \"\\ub098\", \"align\": \"left\", \"font\": {\"family\": \"Arial\", \"size\": 14, \"color\": \"black\"}, \"showarrow\": false}, {\"xref\": \"x2\", \"yref\": \"y2\", \"x\": 0.5, \"y\": 1, \"text\": \"\\uc694\", \"align\": \"left\", \"font\": {\"family\": \"Arial\", \"size\": 14, \"color\": \"black\"}, \"showarrow\": false}, {\"xref\": \"x2\", \"yref\": \"y2\", \"x\": 1.5, \"y\": 1, \"text\": \"?\", \"align\": \"left\", \"font\": {\"family\": \"Arial\", \"size\": 14, \"color\": \"black\"}, \"showarrow\": false}, {\"xref\": \"x2\", \"yref\": \"y2\", \"x\": 2.5, \"y\": 1, \"text\": \"\\u1172\", \"align\": \"left\", \"font\": {\"family\": \"Arial\", \"size\": 14, \"color\": \"black\"}, \"showarrow\": false}, {\"xref\": \"x2\", \"yref\": \"y2\", \"x\": 3.5, \"y\": 1, \"text\": \"\\u1172\", \"align\": \"left\", \"font\": {\"family\": \"Arial\", \"size\": 14, \"color\": \"black\"}, \"showarrow\": false}, {\"xref\": \"x2\", \"yref\": \"y2\", \"x\": 4.5, \"y\": 1, \"text\": \"\\u1172\", \"align\": \"left\", \"font\": {\"family\": \"Arial\", \"size\": 14, \"color\": \"black\"}, \"showarrow\": false}, {\"xref\": \"x2\", \"yref\": \"y2\", \"x\": 5.5, \"y\": 1, \"text\": \"\\u1172\", \"align\": \"left\", \"font\": {\"family\": \"Arial\", \"size\": 14, \"color\": \"black\"}, \"showarrow\": false}], \"height\": 130, \"images\": [{\"source\": \"https://raw.githubusercontent.com/fingeredman/teanaps/master/data/logo/teanaps_logo_no-bg.png\", \"xref\": \"paper\", \"yref\": \"paper\", \"x\": 0.5, \"y\": 0.6, \"sizex\": 0.7, \"sizey\": 0.7, \"xanchor\": \"center\", \"yanchor\": \"center\", \"opacity\": 0.3, \"layer\": \"above\"}]}, {\"showLink\": true, \"linkText\": \"Export to plot.ly\"})});</script>"
      ]
     },
     "metadata": {},
     "output_type": "display_data"
    }
   ],
   "source": [
    "input_text = \"저만 사혜준이 안정하한테 자기 앞에서만 술 먹으라고 너무 귀엽다고 말하는 영상 찾고 있나요?ㅠㅠㅠㅠ\"\n",
    "\n",
    "result = ner.parse(input_text)\n",
    "print(result)\n",
    "result = ner.parse_sentence(input_text)\n",
    "print(result)\n",
    "ner.draw_sentence_weight(input_text)"
   ]
  },
  {
   "cell_type": "code",
   "execution_count": 7,
   "metadata": {},
   "outputs": [
    {
     "name": "stdout",
     "output_type": "stream",
     "text": [
      "[('영국', 'LC', (0, 2)), ('스카이 스포츠', 'UN', (6, 13)), ('25일', 'DT', (15, 18)), ('맨유', 'OG', (19, 21)), ('폴 포그바', 'PS', (27, 32)), ('1월에', 'DT', (48, 51)), ('레알 마드리드', 'OG', (52, 59))]\n",
      "<영국:LC> 매체 <스카이 스포츠:UN>는 <25일:DT> <맨유:OG> 미드필더 <폴 포그바:PS>가 여름 이적시장 실패 후, <1월에:DT> <레알 마드리드:OG>로 이적할 수 있다고 전했다.\n"
     ]
    },
    {
     "data": {
      "text/html": [
       "\n",
       "                <script src=\"/static/components/requirejs/require.js\"></script>\n",
       "                <script>\n",
       "                  requirejs.config({\n",
       "                    paths: {\n",
       "                      base: '/static/base',\n",
       "                      plotly: 'https://cdn.plot.ly/plotly-latest.min.js?noext',\n",
       "                    },\n",
       "                  });\n",
       "                </script>\n",
       "                "
      ],
      "text/plain": [
       "<IPython.core.display.HTML object>"
      ]
     },
     "metadata": {},
     "output_type": "display_data"
    },
    {
     "data": {
      "text/html": [
       "\n",
       "                <script src=\"/static/components/requirejs/require.js\"></script>\n",
       "                <script>\n",
       "                  requirejs.config({\n",
       "                    paths: {\n",
       "                      base: '/static/base',\n",
       "                      plotly: 'https://cdn.plot.ly/plotly-latest.min.js?noext',\n",
       "                    },\n",
       "                  });\n",
       "                </script>\n",
       "                "
      ],
      "text/plain": [
       "<IPython.core.display.HTML object>"
      ]
     },
     "metadata": {},
     "output_type": "display_data"
    },
    {
     "data": {
      "application/vnd.plotly.v1+json": {
       "data": [
        {
         "hoverinfo": "text",
         "marker": {
          "color": "rgb(117.70925578919167, 186.35462789459584, 255)"
         },
         "orientation": "h",
         "text": "0.69",
         "type": "bar",
         "width": 0.5,
         "x": [
          3
         ],
         "xaxis": "x1",
         "y": [
          1
         ],
         "yaxis": "y1"
        },
        {
         "hoverinfo": "text",
         "marker": {
          "color": "rgb(250.24498236557218, 252.6224911827861, 255)"
         },
         "orientation": "h",
         "text": "0.02",
         "type": "bar",
         "width": 0.5,
         "x": [
          3
         ],
         "xaxis": "x1",
         "y": [
          1
         ],
         "yaxis": "y1"
        },
        {
         "hoverinfo": "text",
         "marker": {
          "color": "rgb(100.58589376369335, 177.79294688184666, 255)"
         },
         "orientation": "h",
         "text": "0.77",
         "type": "bar",
         "width": 0.5,
         "x": [
          1
         ],
         "xaxis": "x1",
         "y": [
          1
         ],
         "yaxis": "y1"
        },
        {
         "hoverinfo": "text",
         "marker": {
          "color": "rgb(165.00387500329037, 210.0019375016452, 255)"
         },
         "orientation": "h",
         "text": "0.45",
         "type": "bar",
         "width": 0.5,
         "x": [
          2
         ],
         "xaxis": "x1",
         "y": [
          1
         ],
         "yaxis": "y1"
        },
        {
         "hoverinfo": "text",
         "marker": {
          "color": "rgb(197.68819119784533, 226.34409559892268, 255)"
         },
         "orientation": "h",
         "text": "0.29",
         "type": "bar",
         "width": 0.5,
         "x": [
          1
         ],
         "xaxis": "x1",
         "y": [
          1
         ],
         "yaxis": "y1"
        },
        {
         "hoverinfo": "text",
         "marker": {
          "color": "rgb(184.11370675795268, 219.55685337897634, 255)"
         },
         "orientation": "h",
         "text": "0.35",
         "type": "bar",
         "width": 0.5,
         "x": [
          4
         ],
         "xaxis": "x1",
         "y": [
          1
         ],
         "yaxis": "y1"
        },
        {
         "hoverinfo": "text",
         "marker": {
          "color": "rgb(249.05041988384784, 252.02520994192392, 255)"
         },
         "orientation": "h",
         "text": "0.03",
         "type": "bar",
         "width": 0.5,
         "x": [
          1
         ],
         "xaxis": "x1",
         "y": [
          1
         ],
         "yaxis": "y1"
        },
        {
         "hoverinfo": "text",
         "marker": {
          "color": "rgb(113.74229514057447, 184.37114757028723, 255)"
         },
         "orientation": "h",
         "text": "0.71",
         "type": "bar",
         "width": 0.5,
         "x": [
          3
         ],
         "xaxis": "x1",
         "y": [
          1
         ],
         "yaxis": "y1"
        },
        {
         "hoverinfo": "text",
         "marker": {
          "color": "rgb(179.07337631954675, 217.03668815977338, 255)"
         },
         "orientation": "h",
         "text": "0.38",
         "type": "bar",
         "width": 0.5,
         "x": [
          1
         ],
         "xaxis": "x1",
         "y": [
          1
         ],
         "yaxis": "y1"
        },
        {
         "hoverinfo": "text",
         "marker": {
          "color": "rgb(194.4032433716324, 224.7016216858162, 255)"
         },
         "orientation": "h",
         "text": "0.3",
         "type": "bar",
         "width": 0.5,
         "x": [
          3
         ],
         "xaxis": "x1",
         "y": [
          1
         ],
         "yaxis": "y1"
        },
        {
         "hoverinfo": "text",
         "marker": {
          "color": "rgb(252.2223349838317, 253.61116749191586, 255)"
         },
         "orientation": "h",
         "text": "0.01",
         "type": "bar",
         "width": 0.5,
         "x": [
          5
         ],
         "xaxis": "x1",
         "y": [
          1
         ],
         "yaxis": "y1"
        },
        {
         "hoverinfo": "text",
         "marker": {
          "color": "rgb(250.08241944778246, 252.54120972389123, 255)"
         },
         "orientation": "h",
         "text": "0.02",
         "type": "bar",
         "width": 0.5,
         "x": [
          2
         ],
         "xaxis": "x1",
         "y": [
          1
         ],
         "yaxis": "y1"
        },
        {
         "hoverinfo": "text",
         "marker": {
          "color": "rgb(233.1428133584974, 244.0714066792487, 255)"
         },
         "orientation": "h",
         "text": "0.11",
         "type": "bar",
         "width": 0.5,
         "x": [
          2
         ],
         "xaxis": "x1",
         "y": [
          1
         ],
         "yaxis": "y1"
        },
        {
         "hoverinfo": "text",
         "marker": {
          "color": "rgb(213.50702744804198, 234.253513724021, 255)"
         },
         "orientation": "h",
         "text": "0.21",
         "type": "bar",
         "width": 0.5,
         "x": [
          1
         ],
         "xaxis": "x1",
         "y": [
          1
         ],
         "yaxis": "y1"
        },
        {
         "hoverinfo": "text",
         "marker": {
          "color": "rgb(215.78653027226437, 235.3932651361322, 255)"
         },
         "orientation": "h",
         "text": "0.2",
         "type": "bar",
         "width": 0.5,
         "x": [
          1
         ],
         "xaxis": "x1",
         "y": [
          1
         ],
         "yaxis": "y1"
        },
        {
         "hoverinfo": "text",
         "marker": {
          "color": "rgb(252.67807208153994, 253.83903604076997, 255)"
         },
         "orientation": "h",
         "text": "0.01",
         "type": "bar",
         "width": 0.5,
         "x": [
          1
         ],
         "xaxis": "x1",
         "y": [
          1
         ],
         "yaxis": "y1"
        },
        {
         "hoverinfo": "text",
         "marker": {
          "color": "rgb(251.96148804819614, 253.48074402409807, 255)"
         },
         "orientation": "h",
         "text": "0.02",
         "type": "bar",
         "width": 0.5,
         "x": [
          3
         ],
         "xaxis": "x1",
         "y": [
          1
         ],
         "yaxis": "y1"
        },
        {
         "hoverinfo": "text",
         "marker": {
          "color": "rgb(253.28593628109058, 254.1429681405453, 255)"
         },
         "orientation": "h",
         "text": "0.01",
         "type": "bar",
         "width": 0.5,
         "x": [
          3
         ],
         "xaxis": "x1",
         "y": [
          1
         ],
         "yaxis": "y1"
        },
        {
         "hoverinfo": "text",
         "marker": {
          "color": "rgb(252.1128406977781, 253.55642034888905, 255)"
         },
         "orientation": "h",
         "text": "0.01",
         "type": "bar",
         "width": 0.5,
         "x": [
          2
         ],
         "xaxis": "x1",
         "y": [
          1
         ],
         "yaxis": "y1"
        },
        {
         "hoverinfo": "text",
         "marker": {
          "color": "rgb(250.72992849302776, 252.86496424651386, 255)"
         },
         "orientation": "h",
         "text": "0.02",
         "type": "bar",
         "width": 0.5,
         "x": [
          3
         ],
         "xaxis": "x1",
         "y": [
          1
         ],
         "yaxis": "y1"
        },
        {
         "hoverinfo": "text",
         "marker": {
          "color": "rgb(252.5511709526876, 253.77558547634382, 255)"
         },
         "orientation": "h",
         "text": "0.01",
         "type": "bar",
         "width": 0.5,
         "x": [
          2
         ],
         "xaxis": "x1",
         "y": [
          1
         ],
         "yaxis": "y1"
        },
        {
         "hoverinfo": "text",
         "marker": {
          "color": "rgb(250.82466928816046, 252.91233464408023, 255)"
         },
         "orientation": "h",
         "text": "0.02",
         "type": "bar",
         "width": 0.5,
         "x": [
          1
         ],
         "xaxis": "x1",
         "y": [
          1
         ],
         "yaxis": "y1"
        },
        {
         "hoverinfo": "text",
         "marker": {
          "color": "rgb(69.50677574627483, 162.2533878731374, 255)"
         },
         "orientation": "h",
         "text": "0.93",
         "type": "bar",
         "width": 0.5,
         "x": [
          2
         ],
         "xaxis": "x1",
         "y": [
          1
         ],
         "yaxis": "y1"
        },
        {
         "hoverinfo": "text",
         "marker": {
          "color": "rgb(122.80570133580486, 188.90285066790244, 255)"
         },
         "orientation": "h",
         "text": "0.66",
         "type": "bar",
         "width": 0.5,
         "x": [
          2
         ],
         "xaxis": "x2",
         "y": [
          1
         ],
         "yaxis": "y2"
        },
        {
         "hoverinfo": "text",
         "marker": {
          "color": "rgb(139.1829058688445, 197.09145293442225, 255)"
         },
         "orientation": "h",
         "text": "0.58",
         "type": "bar",
         "width": 0.5,
         "x": [
          3
         ],
         "xaxis": "x2",
         "y": [
          1
         ],
         "yaxis": "y2"
        },
        {
         "hoverinfo": "text",
         "marker": {
          "color": "rgb(55.0, 155.0, 255)"
         },
         "orientation": "h",
         "text": "1.0",
         "type": "bar",
         "width": 0.5,
         "x": [
          5
         ],
         "xaxis": "x2",
         "y": [
          1
         ],
         "yaxis": "y2"
        },
        {
         "hoverinfo": "text",
         "marker": {
          "color": "rgb(244.85338027719231, 249.92669013859614, 255)"
         },
         "orientation": "h",
         "text": "0.05",
         "type": "bar",
         "width": 0.5,
         "x": [
          1
         ],
         "xaxis": "x2",
         "y": [
          1
         ],
         "yaxis": "y2"
        },
        {
         "hoverinfo": "text",
         "marker": {
          "color": "rgb(252.69056598284797, 253.84528299142397, 255)"
         },
         "orientation": "h",
         "text": "0.01",
         "type": "bar",
         "width": 0.5,
         "x": [
          3
         ],
         "xaxis": "x2",
         "y": [
          1
         ],
         "yaxis": "y2"
        },
        {
         "hoverinfo": "text",
         "marker": {
          "color": "rgb(252.57821476823133, 253.78910738411568, 255)"
         },
         "orientation": "h",
         "text": "0.01",
         "type": "bar",
         "width": 0.5,
         "x": [
          1
         ],
         "xaxis": "x2",
         "y": [
          1
         ],
         "yaxis": "y2"
        },
        {
         "hoverinfo": "text",
         "marker": {
          "color": "rgb(252.813003569329, 253.9065017846645, 255)"
         },
         "orientation": "h",
         "text": "0.01",
         "type": "bar",
         "width": 0.5,
         "x": [
          2
         ],
         "xaxis": "x2",
         "y": [
          1
         ],
         "yaxis": "y2"
        },
        {
         "hoverinfo": "text",
         "marker": {
          "color": "rgb(251.9492581429654, 253.4746290714827, 255)"
         },
         "orientation": "h",
         "text": "0.02",
         "type": "bar",
         "width": 0.5,
         "x": [
          4
         ],
         "xaxis": "x2",
         "y": [
          1
         ],
         "yaxis": "y2"
        },
        {
         "hoverinfo": "text",
         "marker": {
          "color": "rgb(252.88477240145727, 253.94238620072863, 255)"
         },
         "orientation": "h",
         "text": "0.01",
         "type": "bar",
         "width": 0.5,
         "x": [
          4
         ],
         "xaxis": "x2",
         "y": [
          1
         ],
         "yaxis": "y2"
        },
        {
         "hoverinfo": "text",
         "marker": {
          "color": "rgb(247.12346724132618, 251.0617336206631, 255)"
         },
         "orientation": "h",
         "text": "0.04",
         "type": "bar",
         "width": 0.5,
         "x": [
          1
         ],
         "xaxis": "x2",
         "y": [
          1
         ],
         "yaxis": "y2"
        },
        {
         "hoverinfo": "text",
         "marker": {
          "color": "rgb(255, 255, 255)"
         },
         "orientation": "h",
         "text": "",
         "type": "bar",
         "width": 0.5,
         "x": [
          1
         ],
         "xaxis": "x2",
         "y": [
          1
         ],
         "yaxis": "y2"
        },
        {
         "hoverinfo": "text",
         "marker": {
          "color": "rgb(255, 255, 255)"
         },
         "orientation": "h",
         "text": "",
         "type": "bar",
         "width": 0.5,
         "x": [
          1
         ],
         "xaxis": "x2",
         "y": [
          1
         ],
         "yaxis": "y2"
        },
        {
         "hoverinfo": "text",
         "marker": {
          "color": "rgb(255, 255, 255)"
         },
         "orientation": "h",
         "text": "",
         "type": "bar",
         "width": 0.5,
         "x": [
          1
         ],
         "xaxis": "x2",
         "y": [
          1
         ],
         "yaxis": "y2"
        },
        {
         "hoverinfo": "text",
         "marker": {
          "color": "rgb(255, 255, 255)"
         },
         "orientation": "h",
         "text": "",
         "type": "bar",
         "width": 0.5,
         "x": [
          1
         ],
         "xaxis": "x2",
         "y": [
          1
         ],
         "yaxis": "y2"
        },
        {
         "hoverinfo": "text",
         "marker": {
          "color": "rgb(255, 255, 255)"
         },
         "orientation": "h",
         "text": "",
         "type": "bar",
         "width": 0.5,
         "x": [
          1
         ],
         "xaxis": "x2",
         "y": [
          1
         ],
         "yaxis": "y2"
        },
        {
         "hoverinfo": "text",
         "marker": {
          "color": "rgb(255, 255, 255)"
         },
         "orientation": "h",
         "text": "",
         "type": "bar",
         "width": 0.5,
         "x": [
          1
         ],
         "xaxis": "x2",
         "y": [
          1
         ],
         "yaxis": "y2"
        },
        {
         "hoverinfo": "text",
         "marker": {
          "color": "rgb(255, 255, 255)"
         },
         "orientation": "h",
         "text": "",
         "type": "bar",
         "width": 0.5,
         "x": [
          1
         ],
         "xaxis": "x2",
         "y": [
          1
         ],
         "yaxis": "y2"
        },
        {
         "hoverinfo": "text",
         "marker": {
          "color": "rgb(255, 255, 255)"
         },
         "orientation": "h",
         "text": "",
         "type": "bar",
         "width": 0.5,
         "x": [
          1
         ],
         "xaxis": "x2",
         "y": [
          1
         ],
         "yaxis": "y2"
        },
        {
         "hoverinfo": "text",
         "marker": {
          "color": "rgb(255, 255, 255)"
         },
         "orientation": "h",
         "text": "",
         "type": "bar",
         "width": 0.5,
         "x": [
          1
         ],
         "xaxis": "x2",
         "y": [
          1
         ],
         "yaxis": "y2"
        },
        {
         "hoverinfo": "text",
         "marker": {
          "color": "rgb(255, 255, 255)"
         },
         "orientation": "h",
         "text": "",
         "type": "bar",
         "width": 0.5,
         "x": [
          1
         ],
         "xaxis": "x2",
         "y": [
          1
         ],
         "yaxis": "y2"
        },
        {
         "hoverinfo": "text",
         "marker": {
          "color": "rgb(255, 255, 255)"
         },
         "orientation": "h",
         "text": "",
         "type": "bar",
         "width": 0.5,
         "x": [
          1
         ],
         "xaxis": "x2",
         "y": [
          1
         ],
         "yaxis": "y2"
        },
        {
         "hoverinfo": "text",
         "marker": {
          "color": "rgb(255, 255, 255)"
         },
         "orientation": "h",
         "text": "",
         "type": "bar",
         "width": 0.5,
         "x": [
          1
         ],
         "xaxis": "x2",
         "y": [
          1
         ],
         "yaxis": "y2"
        },
        {
         "hoverinfo": "text",
         "marker": {
          "color": "rgb(255, 255, 255)"
         },
         "orientation": "h",
         "text": "",
         "type": "bar",
         "width": 0.5,
         "x": [
          1
         ],
         "xaxis": "x2",
         "y": [
          1
         ],
         "yaxis": "y2"
        },
        {
         "hoverinfo": "text",
         "marker": {
          "color": "rgb(255, 255, 255)"
         },
         "orientation": "h",
         "text": "",
         "type": "bar",
         "width": 0.5,
         "x": [
          1
         ],
         "xaxis": "x2",
         "y": [
          1
         ],
         "yaxis": "y2"
        },
        {
         "hoverinfo": "text",
         "marker": {
          "color": "rgb(255, 255, 255)"
         },
         "orientation": "h",
         "text": "",
         "type": "bar",
         "width": 0.5,
         "x": [
          1
         ],
         "xaxis": "x2",
         "y": [
          1
         ],
         "yaxis": "y2"
        },
        {
         "hoverinfo": "text",
         "marker": {
          "color": "rgb(255, 255, 255)"
         },
         "orientation": "h",
         "text": "",
         "type": "bar",
         "width": 0.5,
         "x": [
          1
         ],
         "xaxis": "x2",
         "y": [
          1
         ],
         "yaxis": "y2"
        },
        {
         "hoverinfo": "text",
         "marker": {
          "color": "rgb(255, 255, 255)"
         },
         "orientation": "h",
         "text": "",
         "type": "bar",
         "width": 0.5,
         "x": [
          1
         ],
         "xaxis": "x2",
         "y": [
          1
         ],
         "yaxis": "y2"
        },
        {
         "hoverinfo": "text",
         "marker": {
          "color": "rgb(255, 255, 255)"
         },
         "orientation": "h",
         "text": "",
         "type": "bar",
         "width": 0.5,
         "x": [
          1
         ],
         "xaxis": "x2",
         "y": [
          1
         ],
         "yaxis": "y2"
        },
        {
         "hoverinfo": "text",
         "marker": {
          "color": "rgb(255, 255, 255)"
         },
         "orientation": "h",
         "text": "",
         "type": "bar",
         "width": 0.5,
         "x": [
          1
         ],
         "xaxis": "x2",
         "y": [
          1
         ],
         "yaxis": "y2"
        },
        {
         "hoverinfo": "text",
         "marker": {
          "color": "rgb(255, 255, 255)"
         },
         "orientation": "h",
         "text": "",
         "type": "bar",
         "width": 0.5,
         "x": [
          1
         ],
         "xaxis": "x2",
         "y": [
          1
         ],
         "yaxis": "y2"
        },
        {
         "hoverinfo": "text",
         "marker": {
          "color": "rgb(255, 255, 255)"
         },
         "orientation": "h",
         "text": "",
         "type": "bar",
         "width": 0.5,
         "x": [
          1
         ],
         "xaxis": "x2",
         "y": [
          1
         ],
         "yaxis": "y2"
        },
        {
         "hoverinfo": "text",
         "marker": {
          "color": "rgb(255, 255, 255)"
         },
         "orientation": "h",
         "text": "",
         "type": "bar",
         "width": 0.5,
         "x": [
          1
         ],
         "xaxis": "x2",
         "y": [
          1
         ],
         "yaxis": "y2"
        },
        {
         "hoverinfo": "text",
         "marker": {
          "color": "rgb(255, 255, 255)"
         },
         "orientation": "h",
         "text": "",
         "type": "bar",
         "width": 0.5,
         "x": [
          1
         ],
         "xaxis": "x2",
         "y": [
          1
         ],
         "yaxis": "y2"
        },
        {
         "hoverinfo": "text",
         "marker": {
          "color": "rgb(255, 255, 255)"
         },
         "orientation": "h",
         "text": "",
         "type": "bar",
         "width": 0.5,
         "x": [
          1
         ],
         "xaxis": "x2",
         "y": [
          1
         ],
         "yaxis": "y2"
        }
       ],
       "layout": {
        "annotations": [
         {
          "align": "left",
          "font": {
           "color": "black",
           "family": "Arial",
           "size": 14
          },
          "showarrow": false,
          "text": " ",
          "x": 0.5,
          "xref": "x1",
          "y": 1,
          "yref": "y1"
         },
         {
          "align": "left",
          "font": {
           "color": "black",
           "family": "Arial",
           "size": 14
          },
          "showarrow": false,
          "text": "영",
          "x": 1.5,
          "xref": "x1",
          "y": 1,
          "yref": "y1"
         },
         {
          "align": "left",
          "font": {
           "color": "black",
           "family": "Arial",
           "size": 14
          },
          "showarrow": false,
          "text": "국",
          "x": 2.5,
          "xref": "x1",
          "y": 1,
          "yref": "y1"
         },
         {
          "align": "left",
          "font": {
           "color": "black",
           "family": "Arial",
           "size": 14
          },
          "showarrow": false,
          "text": " ",
          "x": 3.5,
          "xref": "x1",
          "y": 1,
          "yref": "y1"
         },
         {
          "align": "left",
          "font": {
           "color": "black",
           "family": "Arial",
           "size": 14
          },
          "showarrow": false,
          "text": "매",
          "x": 4.5,
          "xref": "x1",
          "y": 1,
          "yref": "y1"
         },
         {
          "align": "left",
          "font": {
           "color": "black",
           "family": "Arial",
           "size": 14
          },
          "showarrow": false,
          "text": "체",
          "x": 5.5,
          "xref": "x1",
          "y": 1,
          "yref": "y1"
         },
         {
          "align": "left",
          "font": {
           "color": "black",
           "family": "Arial",
           "size": 14
          },
          "showarrow": false,
          "text": " ",
          "x": 6.5,
          "xref": "x1",
          "y": 1,
          "yref": "y1"
         },
         {
          "align": "left",
          "font": {
           "color": "black",
           "family": "Arial",
           "size": 14
          },
          "showarrow": false,
          "text": "스",
          "x": 7.5,
          "xref": "x1",
          "y": 1,
          "yref": "y1"
         },
         {
          "align": "left",
          "font": {
           "color": "black",
           "family": "Arial",
           "size": 14
          },
          "showarrow": false,
          "text": "카",
          "x": 8.5,
          "xref": "x1",
          "y": 1,
          "yref": "y1"
         },
         {
          "align": "left",
          "font": {
           "color": "black",
           "family": "Arial",
           "size": 14
          },
          "showarrow": false,
          "text": "이",
          "x": 9.5,
          "xref": "x1",
          "y": 1,
          "yref": "y1"
         },
         {
          "align": "left",
          "font": {
           "color": "black",
           "family": "Arial",
           "size": 14
          },
          "showarrow": false,
          "text": " ",
          "x": 10.5,
          "xref": "x1",
          "y": 1,
          "yref": "y1"
         },
         {
          "align": "left",
          "font": {
           "color": "black",
           "family": "Arial",
           "size": 14
          },
          "showarrow": false,
          "text": "스",
          "x": 11.5,
          "xref": "x1",
          "y": 1,
          "yref": "y1"
         },
         {
          "align": "left",
          "font": {
           "color": "black",
           "family": "Arial",
           "size": 14
          },
          "showarrow": false,
          "text": "포",
          "x": 12.5,
          "xref": "x1",
          "y": 1,
          "yref": "y1"
         },
         {
          "align": "left",
          "font": {
           "color": "black",
           "family": "Arial",
           "size": 14
          },
          "showarrow": false,
          "text": "츠",
          "x": 13.5,
          "xref": "x1",
          "y": 1,
          "yref": "y1"
         },
         {
          "align": "left",
          "font": {
           "color": "black",
           "family": "Arial",
           "size": 14
          },
          "showarrow": false,
          "text": "는",
          "x": 14.5,
          "xref": "x1",
          "y": 1,
          "yref": "y1"
         },
         {
          "align": "left",
          "font": {
           "color": "black",
           "family": "Arial",
           "size": 14
          },
          "showarrow": false,
          "text": " ",
          "x": 15.5,
          "xref": "x1",
          "y": 1,
          "yref": "y1"
         },
         {
          "align": "left",
          "font": {
           "color": "black",
           "family": "Arial",
           "size": 14
          },
          "showarrow": false,
          "text": "2",
          "x": 16.5,
          "xref": "x1",
          "y": 1,
          "yref": "y1"
         },
         {
          "align": "left",
          "font": {
           "color": "black",
           "family": "Arial",
           "size": 14
          },
          "showarrow": false,
          "text": "5",
          "x": 17.5,
          "xref": "x1",
          "y": 1,
          "yref": "y1"
         },
         {
          "align": "left",
          "font": {
           "color": "black",
           "family": "Arial",
           "size": 14
          },
          "showarrow": false,
          "text": "일",
          "x": 18.5,
          "xref": "x1",
          "y": 1,
          "yref": "y1"
         },
         {
          "align": "left",
          "font": {
           "color": "black",
           "family": "Arial",
           "size": 14
          },
          "showarrow": false,
          "text": " ",
          "x": 19.5,
          "xref": "x1",
          "y": 1,
          "yref": "y1"
         },
         {
          "align": "left",
          "font": {
           "color": "black",
           "family": "Arial",
           "size": 14
          },
          "showarrow": false,
          "text": "맨",
          "x": 20.5,
          "xref": "x1",
          "y": 1,
          "yref": "y1"
         },
         {
          "align": "left",
          "font": {
           "color": "black",
           "family": "Arial",
           "size": 14
          },
          "showarrow": false,
          "text": "유",
          "x": 21.5,
          "xref": "x1",
          "y": 1,
          "yref": "y1"
         },
         {
          "align": "left",
          "font": {
           "color": "black",
           "family": "Arial",
           "size": 14
          },
          "showarrow": false,
          "text": " ",
          "x": 22.5,
          "xref": "x1",
          "y": 1,
          "yref": "y1"
         },
         {
          "align": "left",
          "font": {
           "color": "black",
           "family": "Arial",
           "size": 14
          },
          "showarrow": false,
          "text": "미",
          "x": 23.5,
          "xref": "x1",
          "y": 1,
          "yref": "y1"
         },
         {
          "align": "left",
          "font": {
           "color": "black",
           "family": "Arial",
           "size": 14
          },
          "showarrow": false,
          "text": "드",
          "x": 24.5,
          "xref": "x1",
          "y": 1,
          "yref": "y1"
         },
         {
          "align": "left",
          "font": {
           "color": "black",
           "family": "Arial",
           "size": 14
          },
          "showarrow": false,
          "text": "필",
          "x": 25.5,
          "xref": "x1",
          "y": 1,
          "yref": "y1"
         },
         {
          "align": "left",
          "font": {
           "color": "black",
           "family": "Arial",
           "size": 14
          },
          "showarrow": false,
          "text": "더",
          "x": 26.5,
          "xref": "x1",
          "y": 1,
          "yref": "y1"
         },
         {
          "align": "left",
          "font": {
           "color": "black",
           "family": "Arial",
           "size": 14
          },
          "showarrow": false,
          "text": " ",
          "x": 27.5,
          "xref": "x1",
          "y": 1,
          "yref": "y1"
         },
         {
          "align": "left",
          "font": {
           "color": "black",
           "family": "Arial",
           "size": 14
          },
          "showarrow": false,
          "text": "폴",
          "x": 28.5,
          "xref": "x1",
          "y": 1,
          "yref": "y1"
         },
         {
          "align": "left",
          "font": {
           "color": "black",
           "family": "Arial",
           "size": 14
          },
          "showarrow": false,
          "text": " ",
          "x": 29.5,
          "xref": "x1",
          "y": 1,
          "yref": "y1"
         },
         {
          "align": "left",
          "font": {
           "color": "black",
           "family": "Arial",
           "size": 14
          },
          "showarrow": false,
          "text": "포",
          "x": 30.5,
          "xref": "x1",
          "y": 1,
          "yref": "y1"
         },
         {
          "align": "left",
          "font": {
           "color": "black",
           "family": "Arial",
           "size": 14
          },
          "showarrow": false,
          "text": "그",
          "x": 31.5,
          "xref": "x1",
          "y": 1,
          "yref": "y1"
         },
         {
          "align": "left",
          "font": {
           "color": "black",
           "family": "Arial",
           "size": 14
          },
          "showarrow": false,
          "text": "바",
          "x": 32.5,
          "xref": "x1",
          "y": 1,
          "yref": "y1"
         },
         {
          "align": "left",
          "font": {
           "color": "black",
           "family": "Arial",
           "size": 14
          },
          "showarrow": false,
          "text": "가",
          "x": 33.5,
          "xref": "x1",
          "y": 1,
          "yref": "y1"
         },
         {
          "align": "left",
          "font": {
           "color": "black",
           "family": "Arial",
           "size": 14
          },
          "showarrow": false,
          "text": " ",
          "x": 34.5,
          "xref": "x1",
          "y": 1,
          "yref": "y1"
         },
         {
          "align": "left",
          "font": {
           "color": "black",
           "family": "Arial",
           "size": 14
          },
          "showarrow": false,
          "text": "여",
          "x": 35.5,
          "xref": "x1",
          "y": 1,
          "yref": "y1"
         },
         {
          "align": "left",
          "font": {
           "color": "black",
           "family": "Arial",
           "size": 14
          },
          "showarrow": false,
          "text": "름",
          "x": 36.5,
          "xref": "x1",
          "y": 1,
          "yref": "y1"
         },
         {
          "align": "left",
          "font": {
           "color": "black",
           "family": "Arial",
           "size": 14
          },
          "showarrow": false,
          "text": " ",
          "x": 37.5,
          "xref": "x1",
          "y": 1,
          "yref": "y1"
         },
         {
          "align": "left",
          "font": {
           "color": "black",
           "family": "Arial",
           "size": 14
          },
          "showarrow": false,
          "text": "이",
          "x": 38.5,
          "xref": "x1",
          "y": 1,
          "yref": "y1"
         },
         {
          "align": "left",
          "font": {
           "color": "black",
           "family": "Arial",
           "size": 14
          },
          "showarrow": false,
          "text": "적",
          "x": 39.5,
          "xref": "x1",
          "y": 1,
          "yref": "y1"
         },
         {
          "align": "left",
          "font": {
           "color": "black",
           "family": "Arial",
           "size": 14
          },
          "showarrow": false,
          "text": "시",
          "x": 40.5,
          "xref": "x1",
          "y": 1,
          "yref": "y1"
         },
         {
          "align": "left",
          "font": {
           "color": "black",
           "family": "Arial",
           "size": 14
          },
          "showarrow": false,
          "text": "장",
          "x": 41.5,
          "xref": "x1",
          "y": 1,
          "yref": "y1"
         },
         {
          "align": "left",
          "font": {
           "color": "black",
           "family": "Arial",
           "size": 14
          },
          "showarrow": false,
          "text": " ",
          "x": 42.5,
          "xref": "x1",
          "y": 1,
          "yref": "y1"
         },
         {
          "align": "left",
          "font": {
           "color": "black",
           "family": "Arial",
           "size": 14
          },
          "showarrow": false,
          "text": "실",
          "x": 43.5,
          "xref": "x1",
          "y": 1,
          "yref": "y1"
         },
         {
          "align": "left",
          "font": {
           "color": "black",
           "family": "Arial",
           "size": 14
          },
          "showarrow": false,
          "text": "패",
          "x": 44.5,
          "xref": "x1",
          "y": 1,
          "yref": "y1"
         },
         {
          "align": "left",
          "font": {
           "color": "black",
           "family": "Arial",
           "size": 14
          },
          "showarrow": false,
          "text": " ",
          "x": 45.5,
          "xref": "x1",
          "y": 1,
          "yref": "y1"
         },
         {
          "align": "left",
          "font": {
           "color": "black",
           "family": "Arial",
           "size": 14
          },
          "showarrow": false,
          "text": "후",
          "x": 46.5,
          "xref": "x1",
          "y": 1,
          "yref": "y1"
         },
         {
          "align": "left",
          "font": {
           "color": "black",
           "family": "Arial",
           "size": 14
          },
          "showarrow": false,
          "text": ",",
          "x": 47.5,
          "xref": "x1",
          "y": 1,
          "yref": "y1"
         },
         {
          "align": "left",
          "font": {
           "color": "black",
           "family": "Arial",
           "size": 14
          },
          "showarrow": false,
          "text": " ",
          "x": 48.5,
          "xref": "x1",
          "y": 1,
          "yref": "y1"
         },
         {
          "align": "left",
          "font": {
           "color": "black",
           "family": "Arial",
           "size": 14
          },
          "showarrow": false,
          "text": "1",
          "x": 49.5,
          "xref": "x1",
          "y": 1,
          "yref": "y1"
         },
         {
          "align": "left",
          "font": {
           "color": "black",
           "family": "Arial",
           "size": 14
          },
          "showarrow": false,
          "text": "월",
          "x": 0.5,
          "xref": "x2",
          "y": 1,
          "yref": "y2"
         },
         {
          "align": "left",
          "font": {
           "color": "black",
           "family": "Arial",
           "size": 14
          },
          "showarrow": false,
          "text": "에",
          "x": 1.5,
          "xref": "x2",
          "y": 1,
          "yref": "y2"
         },
         {
          "align": "left",
          "font": {
           "color": "black",
           "family": "Arial",
           "size": 14
          },
          "showarrow": false,
          "text": " ",
          "x": 2.5,
          "xref": "x2",
          "y": 1,
          "yref": "y2"
         },
         {
          "align": "left",
          "font": {
           "color": "black",
           "family": "Arial",
           "size": 14
          },
          "showarrow": false,
          "text": "레",
          "x": 3.5,
          "xref": "x2",
          "y": 1,
          "yref": "y2"
         },
         {
          "align": "left",
          "font": {
           "color": "black",
           "family": "Arial",
           "size": 14
          },
          "showarrow": false,
          "text": "알",
          "x": 4.5,
          "xref": "x2",
          "y": 1,
          "yref": "y2"
         },
         {
          "align": "left",
          "font": {
           "color": "black",
           "family": "Arial",
           "size": 14
          },
          "showarrow": false,
          "text": " ",
          "x": 5.5,
          "xref": "x2",
          "y": 1,
          "yref": "y2"
         },
         {
          "align": "left",
          "font": {
           "color": "black",
           "family": "Arial",
           "size": 14
          },
          "showarrow": false,
          "text": "마",
          "x": 6.5,
          "xref": "x2",
          "y": 1,
          "yref": "y2"
         },
         {
          "align": "left",
          "font": {
           "color": "black",
           "family": "Arial",
           "size": 14
          },
          "showarrow": false,
          "text": "드",
          "x": 7.5,
          "xref": "x2",
          "y": 1,
          "yref": "y2"
         },
         {
          "align": "left",
          "font": {
           "color": "black",
           "family": "Arial",
           "size": 14
          },
          "showarrow": false,
          "text": "리",
          "x": 8.5,
          "xref": "x2",
          "y": 1,
          "yref": "y2"
         },
         {
          "align": "left",
          "font": {
           "color": "black",
           "family": "Arial",
           "size": 14
          },
          "showarrow": false,
          "text": "드",
          "x": 9.5,
          "xref": "x2",
          "y": 1,
          "yref": "y2"
         },
         {
          "align": "left",
          "font": {
           "color": "black",
           "family": "Arial",
           "size": 14
          },
          "showarrow": false,
          "text": "로",
          "x": 10.5,
          "xref": "x2",
          "y": 1,
          "yref": "y2"
         },
         {
          "align": "left",
          "font": {
           "color": "black",
           "family": "Arial",
           "size": 14
          },
          "showarrow": false,
          "text": " ",
          "x": 11.5,
          "xref": "x2",
          "y": 1,
          "yref": "y2"
         },
         {
          "align": "left",
          "font": {
           "color": "black",
           "family": "Arial",
           "size": 14
          },
          "showarrow": false,
          "text": "이",
          "x": 12.5,
          "xref": "x2",
          "y": 1,
          "yref": "y2"
         },
         {
          "align": "left",
          "font": {
           "color": "black",
           "family": "Arial",
           "size": 14
          },
          "showarrow": false,
          "text": "적",
          "x": 13.5,
          "xref": "x2",
          "y": 1,
          "yref": "y2"
         },
         {
          "align": "left",
          "font": {
           "color": "black",
           "family": "Arial",
           "size": 14
          },
          "showarrow": false,
          "text": "할",
          "x": 14.5,
          "xref": "x2",
          "y": 1,
          "yref": "y2"
         },
         {
          "align": "left",
          "font": {
           "color": "black",
           "family": "Arial",
           "size": 14
          },
          "showarrow": false,
          "text": " ",
          "x": 15.5,
          "xref": "x2",
          "y": 1,
          "yref": "y2"
         },
         {
          "align": "left",
          "font": {
           "color": "black",
           "family": "Arial",
           "size": 14
          },
          "showarrow": false,
          "text": "수",
          "x": 16.5,
          "xref": "x2",
          "y": 1,
          "yref": "y2"
         },
         {
          "align": "left",
          "font": {
           "color": "black",
           "family": "Arial",
           "size": 14
          },
          "showarrow": false,
          "text": " ",
          "x": 17.5,
          "xref": "x2",
          "y": 1,
          "yref": "y2"
         },
         {
          "align": "left",
          "font": {
           "color": "black",
           "family": "Arial",
           "size": 14
          },
          "showarrow": false,
          "text": "있",
          "x": 18.5,
          "xref": "x2",
          "y": 1,
          "yref": "y2"
         },
         {
          "align": "left",
          "font": {
           "color": "black",
           "family": "Arial",
           "size": 14
          },
          "showarrow": false,
          "text": "다",
          "x": 19.5,
          "xref": "x2",
          "y": 1,
          "yref": "y2"
         },
         {
          "align": "left",
          "font": {
           "color": "black",
           "family": "Arial",
           "size": 14
          },
          "showarrow": false,
          "text": "고",
          "x": 20.5,
          "xref": "x2",
          "y": 1,
          "yref": "y2"
         },
         {
          "align": "left",
          "font": {
           "color": "black",
           "family": "Arial",
           "size": 14
          },
          "showarrow": false,
          "text": " ",
          "x": 21.5,
          "xref": "x2",
          "y": 1,
          "yref": "y2"
         },
         {
          "align": "left",
          "font": {
           "color": "black",
           "family": "Arial",
           "size": 14
          },
          "showarrow": false,
          "text": "전",
          "x": 22.5,
          "xref": "x2",
          "y": 1,
          "yref": "y2"
         },
         {
          "align": "left",
          "font": {
           "color": "black",
           "family": "Arial",
           "size": 14
          },
          "showarrow": false,
          "text": "했",
          "x": 23.5,
          "xref": "x2",
          "y": 1,
          "yref": "y2"
         },
         {
          "align": "left",
          "font": {
           "color": "black",
           "family": "Arial",
           "size": 14
          },
          "showarrow": false,
          "text": "다",
          "x": 24.5,
          "xref": "x2",
          "y": 1,
          "yref": "y2"
         },
         {
          "align": "left",
          "font": {
           "color": "black",
           "family": "Arial",
           "size": 14
          },
          "showarrow": false,
          "text": ".",
          "x": 25.5,
          "xref": "x2",
          "y": 1,
          "yref": "y2"
         }
        ],
        "barmode": "stack",
        "height": 130,
        "images": [
         {
          "layer": "above",
          "opacity": 0.3,
          "sizex": 0.7,
          "sizey": 0.7,
          "source": "https://raw.githubusercontent.com/fingeredman/teanaps/master/data/logo/teanaps_logo_no-bg.png",
          "x": 0.5,
          "xanchor": "center",
          "xref": "paper",
          "y": 0.6,
          "yanchor": "center",
          "yref": "paper"
         }
        ],
        "margin": {
         "b": 30,
         "l": 20,
         "r": 20,
         "t": 10
        },
        "showlegend": false,
        "xaxis1": {
         "anchor": "y1",
         "domain": [
          0,
          1
         ],
         "showgrid": false,
         "showline": false,
         "showticklabels": false,
         "zeroline": false
        },
        "xaxis2": {
         "anchor": "y2",
         "domain": [
          0,
          1
         ],
         "showgrid": false,
         "showline": false,
         "showticklabels": false,
         "zeroline": false
        },
        "yaxis1": {
         "anchor": "x1",
         "domain": [
          0.575,
          1
         ],
         "showgrid": false,
         "showline": false,
         "showticklabels": false,
         "zeroline": false
        },
        "yaxis2": {
         "anchor": "x2",
         "domain": [
          0,
          0.425
         ],
         "showgrid": false,
         "showline": false,
         "showticklabels": false,
         "zeroline": false
        }
       }
      },
      "text/html": [
       "<div id=\"7d22775c-3ec0-4055-98c6-cfdd5857eee6\" style=\"height: 130px; width: 100%;\" class=\"plotly-graph-div\"></div><script type=\"text/javascript\">require([\"plotly\"], function(Plotly) { window.PLOTLYENV=window.PLOTLYENV || {};window.PLOTLYENV.BASE_URL=\"https://plot.ly\";Plotly.newPlot(\"7d22775c-3ec0-4055-98c6-cfdd5857eee6\", [{\"type\": \"bar\", \"y\": [1], \"x\": [3], \"orientation\": \"h\", \"width\": 0.5, \"text\": \"0.69\", \"hoverinfo\": \"text\", \"marker\": {\"color\": \"rgb(117.70925578919167, 186.35462789459584, 255)\"}, \"xaxis\": \"x1\", \"yaxis\": \"y1\"}, {\"type\": \"bar\", \"y\": [1], \"x\": [3], \"orientation\": \"h\", \"width\": 0.5, \"text\": \"0.02\", \"hoverinfo\": \"text\", \"marker\": {\"color\": \"rgb(250.24498236557218, 252.6224911827861, 255)\"}, \"xaxis\": \"x1\", \"yaxis\": \"y1\"}, {\"type\": \"bar\", \"y\": [1], \"x\": [1], \"orientation\": \"h\", \"width\": 0.5, \"text\": \"0.77\", \"hoverinfo\": \"text\", \"marker\": {\"color\": \"rgb(100.58589376369335, 177.79294688184666, 255)\"}, \"xaxis\": \"x1\", \"yaxis\": \"y1\"}, {\"type\": \"bar\", \"y\": [1], \"x\": [2], \"orientation\": \"h\", \"width\": 0.5, \"text\": \"0.45\", \"hoverinfo\": \"text\", \"marker\": {\"color\": \"rgb(165.00387500329037, 210.0019375016452, 255)\"}, \"xaxis\": \"x1\", \"yaxis\": \"y1\"}, {\"type\": \"bar\", \"y\": [1], \"x\": [1], \"orientation\": \"h\", \"width\": 0.5, \"text\": \"0.29\", \"hoverinfo\": \"text\", \"marker\": {\"color\": \"rgb(197.68819119784533, 226.34409559892268, 255)\"}, \"xaxis\": \"x1\", \"yaxis\": \"y1\"}, {\"type\": \"bar\", \"y\": [1], \"x\": [4], \"orientation\": \"h\", \"width\": 0.5, \"text\": \"0.35\", \"hoverinfo\": \"text\", \"marker\": {\"color\": \"rgb(184.11370675795268, 219.55685337897634, 255)\"}, \"xaxis\": \"x1\", \"yaxis\": \"y1\"}, {\"type\": \"bar\", \"y\": [1], \"x\": [1], \"orientation\": \"h\", \"width\": 0.5, \"text\": \"0.03\", \"hoverinfo\": \"text\", \"marker\": {\"color\": \"rgb(249.05041988384784, 252.02520994192392, 255)\"}, \"xaxis\": \"x1\", \"yaxis\": \"y1\"}, {\"type\": \"bar\", \"y\": [1], \"x\": [3], \"orientation\": \"h\", \"width\": 0.5, \"text\": \"0.71\", \"hoverinfo\": \"text\", \"marker\": {\"color\": \"rgb(113.74229514057447, 184.37114757028723, 255)\"}, \"xaxis\": \"x1\", \"yaxis\": \"y1\"}, {\"type\": \"bar\", \"y\": [1], \"x\": [1], \"orientation\": \"h\", \"width\": 0.5, \"text\": \"0.38\", \"hoverinfo\": \"text\", \"marker\": {\"color\": \"rgb(179.07337631954675, 217.03668815977338, 255)\"}, \"xaxis\": \"x1\", \"yaxis\": \"y1\"}, {\"type\": \"bar\", \"y\": [1], \"x\": [3], \"orientation\": \"h\", \"width\": 0.5, \"text\": \"0.3\", \"hoverinfo\": \"text\", \"marker\": {\"color\": \"rgb(194.4032433716324, 224.7016216858162, 255)\"}, \"xaxis\": \"x1\", \"yaxis\": \"y1\"}, {\"type\": \"bar\", \"y\": [1], \"x\": [5], \"orientation\": \"h\", \"width\": 0.5, \"text\": \"0.01\", \"hoverinfo\": \"text\", \"marker\": {\"color\": \"rgb(252.2223349838317, 253.61116749191586, 255)\"}, \"xaxis\": \"x1\", \"yaxis\": \"y1\"}, {\"type\": \"bar\", \"y\": [1], \"x\": [2], \"orientation\": \"h\", \"width\": 0.5, \"text\": \"0.02\", \"hoverinfo\": \"text\", \"marker\": {\"color\": \"rgb(250.08241944778246, 252.54120972389123, 255)\"}, \"xaxis\": \"x1\", \"yaxis\": \"y1\"}, {\"type\": \"bar\", \"y\": [1], \"x\": [2], \"orientation\": \"h\", \"width\": 0.5, \"text\": \"0.11\", \"hoverinfo\": \"text\", \"marker\": {\"color\": \"rgb(233.1428133584974, 244.0714066792487, 255)\"}, \"xaxis\": \"x1\", \"yaxis\": \"y1\"}, {\"type\": \"bar\", \"y\": [1], \"x\": [1], \"orientation\": \"h\", \"width\": 0.5, \"text\": \"0.21\", \"hoverinfo\": \"text\", \"marker\": {\"color\": \"rgb(213.50702744804198, 234.253513724021, 255)\"}, \"xaxis\": \"x1\", \"yaxis\": \"y1\"}, {\"type\": \"bar\", \"y\": [1], \"x\": [1], \"orientation\": \"h\", \"width\": 0.5, \"text\": \"0.2\", \"hoverinfo\": \"text\", \"marker\": {\"color\": \"rgb(215.78653027226437, 235.3932651361322, 255)\"}, \"xaxis\": \"x1\", \"yaxis\": \"y1\"}, {\"type\": \"bar\", \"y\": [1], \"x\": [1], \"orientation\": \"h\", \"width\": 0.5, \"text\": \"0.01\", \"hoverinfo\": \"text\", \"marker\": {\"color\": \"rgb(252.67807208153994, 253.83903604076997, 255)\"}, \"xaxis\": \"x1\", \"yaxis\": \"y1\"}, {\"type\": \"bar\", \"y\": [1], \"x\": [3], \"orientation\": \"h\", \"width\": 0.5, \"text\": \"0.02\", \"hoverinfo\": \"text\", \"marker\": {\"color\": \"rgb(251.96148804819614, 253.48074402409807, 255)\"}, \"xaxis\": \"x1\", \"yaxis\": \"y1\"}, {\"type\": \"bar\", \"y\": [1], \"x\": [3], \"orientation\": \"h\", \"width\": 0.5, \"text\": \"0.01\", \"hoverinfo\": \"text\", \"marker\": {\"color\": \"rgb(253.28593628109058, 254.1429681405453, 255)\"}, \"xaxis\": \"x1\", \"yaxis\": \"y1\"}, {\"type\": \"bar\", \"y\": [1], \"x\": [2], \"orientation\": \"h\", \"width\": 0.5, \"text\": \"0.01\", \"hoverinfo\": \"text\", \"marker\": {\"color\": \"rgb(252.1128406977781, 253.55642034888905, 255)\"}, \"xaxis\": \"x1\", \"yaxis\": \"y1\"}, {\"type\": \"bar\", \"y\": [1], \"x\": [3], \"orientation\": \"h\", \"width\": 0.5, \"text\": \"0.02\", \"hoverinfo\": \"text\", \"marker\": {\"color\": \"rgb(250.72992849302776, 252.86496424651386, 255)\"}, \"xaxis\": \"x1\", \"yaxis\": \"y1\"}, {\"type\": \"bar\", \"y\": [1], \"x\": [2], \"orientation\": \"h\", \"width\": 0.5, \"text\": \"0.01\", \"hoverinfo\": \"text\", \"marker\": {\"color\": \"rgb(252.5511709526876, 253.77558547634382, 255)\"}, \"xaxis\": \"x1\", \"yaxis\": \"y1\"}, {\"type\": \"bar\", \"y\": [1], \"x\": [1], \"orientation\": \"h\", \"width\": 0.5, \"text\": \"0.02\", \"hoverinfo\": \"text\", \"marker\": {\"color\": \"rgb(250.82466928816046, 252.91233464408023, 255)\"}, \"xaxis\": \"x1\", \"yaxis\": \"y1\"}, {\"type\": \"bar\", \"y\": [1], \"x\": [2], \"orientation\": \"h\", \"width\": 0.5, \"text\": \"0.93\", \"hoverinfo\": \"text\", \"marker\": {\"color\": \"rgb(69.50677574627483, 162.2533878731374, 255)\"}, \"xaxis\": \"x1\", \"yaxis\": \"y1\"}, {\"type\": \"bar\", \"y\": [1], \"x\": [2], \"orientation\": \"h\", \"width\": 0.5, \"text\": \"0.66\", \"hoverinfo\": \"text\", \"marker\": {\"color\": \"rgb(122.80570133580486, 188.90285066790244, 255)\"}, \"xaxis\": \"x2\", \"yaxis\": \"y2\"}, {\"type\": \"bar\", \"y\": [1], \"x\": [3], \"orientation\": \"h\", \"width\": 0.5, \"text\": \"0.58\", \"hoverinfo\": \"text\", \"marker\": {\"color\": \"rgb(139.1829058688445, 197.09145293442225, 255)\"}, \"xaxis\": \"x2\", \"yaxis\": \"y2\"}, {\"type\": \"bar\", \"y\": [1], \"x\": [5], \"orientation\": \"h\", \"width\": 0.5, \"text\": \"1.0\", \"hoverinfo\": \"text\", \"marker\": {\"color\": \"rgb(55.0, 155.0, 255)\"}, \"xaxis\": \"x2\", \"yaxis\": \"y2\"}, {\"type\": \"bar\", \"y\": [1], \"x\": [1], \"orientation\": \"h\", \"width\": 0.5, \"text\": \"0.05\", \"hoverinfo\": \"text\", \"marker\": {\"color\": \"rgb(244.85338027719231, 249.92669013859614, 255)\"}, \"xaxis\": \"x2\", \"yaxis\": \"y2\"}, {\"type\": \"bar\", \"y\": [1], \"x\": [3], \"orientation\": \"h\", \"width\": 0.5, \"text\": \"0.01\", \"hoverinfo\": \"text\", \"marker\": {\"color\": \"rgb(252.69056598284797, 253.84528299142397, 255)\"}, \"xaxis\": \"x2\", \"yaxis\": \"y2\"}, {\"type\": \"bar\", \"y\": [1], \"x\": [1], \"orientation\": \"h\", \"width\": 0.5, \"text\": \"0.01\", \"hoverinfo\": \"text\", \"marker\": {\"color\": \"rgb(252.57821476823133, 253.78910738411568, 255)\"}, \"xaxis\": \"x2\", \"yaxis\": \"y2\"}, {\"type\": \"bar\", \"y\": [1], \"x\": [2], \"orientation\": \"h\", \"width\": 0.5, \"text\": \"0.01\", \"hoverinfo\": \"text\", \"marker\": {\"color\": \"rgb(252.813003569329, 253.9065017846645, 255)\"}, \"xaxis\": \"x2\", \"yaxis\": \"y2\"}, {\"type\": \"bar\", \"y\": [1], \"x\": [4], \"orientation\": \"h\", \"width\": 0.5, \"text\": \"0.02\", \"hoverinfo\": \"text\", \"marker\": {\"color\": \"rgb(251.9492581429654, 253.4746290714827, 255)\"}, \"xaxis\": \"x2\", \"yaxis\": \"y2\"}, {\"type\": \"bar\", \"y\": [1], \"x\": [4], \"orientation\": \"h\", \"width\": 0.5, \"text\": \"0.01\", \"hoverinfo\": \"text\", \"marker\": {\"color\": \"rgb(252.88477240145727, 253.94238620072863, 255)\"}, \"xaxis\": \"x2\", \"yaxis\": \"y2\"}, {\"type\": \"bar\", \"y\": [1], \"x\": [1], \"orientation\": \"h\", \"width\": 0.5, \"text\": \"0.04\", \"hoverinfo\": \"text\", \"marker\": {\"color\": \"rgb(247.12346724132618, 251.0617336206631, 255)\"}, \"xaxis\": \"x2\", \"yaxis\": \"y2\"}, {\"type\": \"bar\", \"y\": [1], \"x\": [1], \"orientation\": \"h\", \"width\": 0.5, \"text\": \"\", \"hoverinfo\": \"text\", \"marker\": {\"color\": \"rgb(255, 255, 255)\"}, \"xaxis\": \"x2\", \"yaxis\": \"y2\"}, {\"type\": \"bar\", \"y\": [1], \"x\": [1], \"orientation\": \"h\", \"width\": 0.5, \"text\": \"\", \"hoverinfo\": \"text\", \"marker\": {\"color\": \"rgb(255, 255, 255)\"}, \"xaxis\": \"x2\", \"yaxis\": \"y2\"}, {\"type\": \"bar\", \"y\": [1], \"x\": [1], \"orientation\": \"h\", \"width\": 0.5, \"text\": \"\", \"hoverinfo\": \"text\", \"marker\": {\"color\": \"rgb(255, 255, 255)\"}, \"xaxis\": \"x2\", \"yaxis\": \"y2\"}, {\"type\": \"bar\", \"y\": [1], \"x\": [1], \"orientation\": \"h\", \"width\": 0.5, \"text\": \"\", \"hoverinfo\": \"text\", \"marker\": {\"color\": \"rgb(255, 255, 255)\"}, \"xaxis\": \"x2\", \"yaxis\": \"y2\"}, {\"type\": \"bar\", \"y\": [1], \"x\": [1], \"orientation\": \"h\", \"width\": 0.5, \"text\": \"\", \"hoverinfo\": \"text\", \"marker\": {\"color\": \"rgb(255, 255, 255)\"}, \"xaxis\": \"x2\", \"yaxis\": \"y2\"}, {\"type\": \"bar\", \"y\": [1], \"x\": [1], \"orientation\": \"h\", \"width\": 0.5, \"text\": \"\", \"hoverinfo\": \"text\", \"marker\": {\"color\": \"rgb(255, 255, 255)\"}, \"xaxis\": \"x2\", \"yaxis\": \"y2\"}, {\"type\": \"bar\", \"y\": [1], \"x\": [1], \"orientation\": \"h\", \"width\": 0.5, \"text\": \"\", \"hoverinfo\": \"text\", \"marker\": {\"color\": \"rgb(255, 255, 255)\"}, \"xaxis\": \"x2\", \"yaxis\": \"y2\"}, {\"type\": \"bar\", \"y\": [1], \"x\": [1], \"orientation\": \"h\", \"width\": 0.5, \"text\": \"\", \"hoverinfo\": \"text\", \"marker\": {\"color\": \"rgb(255, 255, 255)\"}, \"xaxis\": \"x2\", \"yaxis\": \"y2\"}, {\"type\": \"bar\", \"y\": [1], \"x\": [1], \"orientation\": \"h\", \"width\": 0.5, \"text\": \"\", \"hoverinfo\": \"text\", \"marker\": {\"color\": \"rgb(255, 255, 255)\"}, \"xaxis\": \"x2\", \"yaxis\": \"y2\"}, {\"type\": \"bar\", \"y\": [1], \"x\": [1], \"orientation\": \"h\", \"width\": 0.5, \"text\": \"\", \"hoverinfo\": \"text\", \"marker\": {\"color\": \"rgb(255, 255, 255)\"}, \"xaxis\": \"x2\", \"yaxis\": \"y2\"}, {\"type\": \"bar\", \"y\": [1], \"x\": [1], \"orientation\": \"h\", \"width\": 0.5, \"text\": \"\", \"hoverinfo\": \"text\", \"marker\": {\"color\": \"rgb(255, 255, 255)\"}, \"xaxis\": \"x2\", \"yaxis\": \"y2\"}, {\"type\": \"bar\", \"y\": [1], \"x\": [1], \"orientation\": \"h\", \"width\": 0.5, \"text\": \"\", \"hoverinfo\": \"text\", \"marker\": {\"color\": \"rgb(255, 255, 255)\"}, \"xaxis\": \"x2\", \"yaxis\": \"y2\"}, {\"type\": \"bar\", \"y\": [1], \"x\": [1], \"orientation\": \"h\", \"width\": 0.5, \"text\": \"\", \"hoverinfo\": \"text\", \"marker\": {\"color\": \"rgb(255, 255, 255)\"}, \"xaxis\": \"x2\", \"yaxis\": \"y2\"}, {\"type\": \"bar\", \"y\": [1], \"x\": [1], \"orientation\": \"h\", \"width\": 0.5, \"text\": \"\", \"hoverinfo\": \"text\", \"marker\": {\"color\": \"rgb(255, 255, 255)\"}, \"xaxis\": \"x2\", \"yaxis\": \"y2\"}, {\"type\": \"bar\", \"y\": [1], \"x\": [1], \"orientation\": \"h\", \"width\": 0.5, \"text\": \"\", \"hoverinfo\": \"text\", \"marker\": {\"color\": \"rgb(255, 255, 255)\"}, \"xaxis\": \"x2\", \"yaxis\": \"y2\"}, {\"type\": \"bar\", \"y\": [1], \"x\": [1], \"orientation\": \"h\", \"width\": 0.5, \"text\": \"\", \"hoverinfo\": \"text\", \"marker\": {\"color\": \"rgb(255, 255, 255)\"}, \"xaxis\": \"x2\", \"yaxis\": \"y2\"}, {\"type\": \"bar\", \"y\": [1], \"x\": [1], \"orientation\": \"h\", \"width\": 0.5, \"text\": \"\", \"hoverinfo\": \"text\", \"marker\": {\"color\": \"rgb(255, 255, 255)\"}, \"xaxis\": \"x2\", \"yaxis\": \"y2\"}, {\"type\": \"bar\", \"y\": [1], \"x\": [1], \"orientation\": \"h\", \"width\": 0.5, \"text\": \"\", \"hoverinfo\": \"text\", \"marker\": {\"color\": \"rgb(255, 255, 255)\"}, \"xaxis\": \"x2\", \"yaxis\": \"y2\"}, {\"type\": \"bar\", \"y\": [1], \"x\": [1], \"orientation\": \"h\", \"width\": 0.5, \"text\": \"\", \"hoverinfo\": \"text\", \"marker\": {\"color\": \"rgb(255, 255, 255)\"}, \"xaxis\": \"x2\", \"yaxis\": \"y2\"}, {\"type\": \"bar\", \"y\": [1], \"x\": [1], \"orientation\": \"h\", \"width\": 0.5, \"text\": \"\", \"hoverinfo\": \"text\", \"marker\": {\"color\": \"rgb(255, 255, 255)\"}, \"xaxis\": \"x2\", \"yaxis\": \"y2\"}, {\"type\": \"bar\", \"y\": [1], \"x\": [1], \"orientation\": \"h\", \"width\": 0.5, \"text\": \"\", \"hoverinfo\": \"text\", \"marker\": {\"color\": \"rgb(255, 255, 255)\"}, \"xaxis\": \"x2\", \"yaxis\": \"y2\"}, {\"type\": \"bar\", \"y\": [1], \"x\": [1], \"orientation\": \"h\", \"width\": 0.5, \"text\": \"\", \"hoverinfo\": \"text\", \"marker\": {\"color\": \"rgb(255, 255, 255)\"}, \"xaxis\": \"x2\", \"yaxis\": \"y2\"}, {\"type\": \"bar\", \"y\": [1], \"x\": [1], \"orientation\": \"h\", \"width\": 0.5, \"text\": \"\", \"hoverinfo\": \"text\", \"marker\": {\"color\": \"rgb(255, 255, 255)\"}, \"xaxis\": \"x2\", \"yaxis\": \"y2\"}, {\"type\": \"bar\", \"y\": [1], \"x\": [1], \"orientation\": \"h\", \"width\": 0.5, \"text\": \"\", \"hoverinfo\": \"text\", \"marker\": {\"color\": \"rgb(255, 255, 255)\"}, \"xaxis\": \"x2\", \"yaxis\": \"y2\"}], {\"xaxis1\": {\"domain\": [0.0, 1.0], \"anchor\": \"y1\", \"showgrid\": false, \"showline\": false, \"showticklabels\": false, \"zeroline\": false}, \"yaxis1\": {\"domain\": [0.575, 1.0], \"anchor\": \"x1\", \"showgrid\": false, \"showline\": false, \"showticklabels\": false, \"zeroline\": false}, \"xaxis2\": {\"domain\": [0.0, 1.0], \"anchor\": \"y2\", \"showgrid\": false, \"showline\": false, \"showticklabels\": false, \"zeroline\": false}, \"yaxis2\": {\"domain\": [0.0, 0.425], \"anchor\": \"x2\", \"showgrid\": false, \"showline\": false, \"showticklabels\": false, \"zeroline\": false}, \"barmode\": \"stack\", \"showlegend\": false, \"margin\": {\"b\": 30, \"l\": 20, \"r\": 20, \"t\": 10}, \"annotations\": [{\"xref\": \"x1\", \"yref\": \"y1\", \"x\": 0.5, \"y\": 1, \"text\": \" \", \"align\": \"left\", \"font\": {\"family\": \"Arial\", \"size\": 14, \"color\": \"black\"}, \"showarrow\": false}, {\"xref\": \"x1\", \"yref\": \"y1\", \"x\": 1.5, \"y\": 1, \"text\": \"\\uc601\", \"align\": \"left\", \"font\": {\"family\": \"Arial\", \"size\": 14, \"color\": \"black\"}, \"showarrow\": false}, {\"xref\": \"x1\", \"yref\": \"y1\", \"x\": 2.5, \"y\": 1, \"text\": \"\\uad6d\", \"align\": \"left\", \"font\": {\"family\": \"Arial\", \"size\": 14, \"color\": \"black\"}, \"showarrow\": false}, {\"xref\": \"x1\", \"yref\": \"y1\", \"x\": 3.5, \"y\": 1, \"text\": \" \", \"align\": \"left\", \"font\": {\"family\": \"Arial\", \"size\": 14, \"color\": \"black\"}, \"showarrow\": false}, {\"xref\": \"x1\", \"yref\": \"y1\", \"x\": 4.5, \"y\": 1, \"text\": \"\\ub9e4\", \"align\": \"left\", \"font\": {\"family\": \"Arial\", \"size\": 14, \"color\": \"black\"}, \"showarrow\": false}, {\"xref\": \"x1\", \"yref\": \"y1\", \"x\": 5.5, \"y\": 1, \"text\": \"\\uccb4\", \"align\": \"left\", \"font\": {\"family\": \"Arial\", \"size\": 14, \"color\": \"black\"}, \"showarrow\": false}, {\"xref\": \"x1\", \"yref\": \"y1\", \"x\": 6.5, \"y\": 1, \"text\": \" \", \"align\": \"left\", \"font\": {\"family\": \"Arial\", \"size\": 14, \"color\": \"black\"}, \"showarrow\": false}, {\"xref\": \"x1\", \"yref\": \"y1\", \"x\": 7.5, \"y\": 1, \"text\": \"\\uc2a4\", \"align\": \"left\", \"font\": {\"family\": \"Arial\", \"size\": 14, \"color\": \"black\"}, \"showarrow\": false}, {\"xref\": \"x1\", \"yref\": \"y1\", \"x\": 8.5, \"y\": 1, \"text\": \"\\uce74\", \"align\": \"left\", \"font\": {\"family\": \"Arial\", \"size\": 14, \"color\": \"black\"}, \"showarrow\": false}, {\"xref\": \"x1\", \"yref\": \"y1\", \"x\": 9.5, \"y\": 1, \"text\": \"\\uc774\", \"align\": \"left\", \"font\": {\"family\": \"Arial\", \"size\": 14, \"color\": \"black\"}, \"showarrow\": false}, {\"xref\": \"x1\", \"yref\": \"y1\", \"x\": 10.5, \"y\": 1, \"text\": \" \", \"align\": \"left\", \"font\": {\"family\": \"Arial\", \"size\": 14, \"color\": \"black\"}, \"showarrow\": false}, {\"xref\": \"x1\", \"yref\": \"y1\", \"x\": 11.5, \"y\": 1, \"text\": \"\\uc2a4\", \"align\": \"left\", \"font\": {\"family\": \"Arial\", \"size\": 14, \"color\": \"black\"}, \"showarrow\": false}, {\"xref\": \"x1\", \"yref\": \"y1\", \"x\": 12.5, \"y\": 1, \"text\": \"\\ud3ec\", \"align\": \"left\", \"font\": {\"family\": \"Arial\", \"size\": 14, \"color\": \"black\"}, \"showarrow\": false}, {\"xref\": \"x1\", \"yref\": \"y1\", \"x\": 13.5, \"y\": 1, \"text\": \"\\uce20\", \"align\": \"left\", \"font\": {\"family\": \"Arial\", \"size\": 14, \"color\": \"black\"}, \"showarrow\": false}, {\"xref\": \"x1\", \"yref\": \"y1\", \"x\": 14.5, \"y\": 1, \"text\": \"\\ub294\", \"align\": \"left\", \"font\": {\"family\": \"Arial\", \"size\": 14, \"color\": \"black\"}, \"showarrow\": false}, {\"xref\": \"x1\", \"yref\": \"y1\", \"x\": 15.5, \"y\": 1, \"text\": \" \", \"align\": \"left\", \"font\": {\"family\": \"Arial\", \"size\": 14, \"color\": \"black\"}, \"showarrow\": false}, {\"xref\": \"x1\", \"yref\": \"y1\", \"x\": 16.5, \"y\": 1, \"text\": \"2\", \"align\": \"left\", \"font\": {\"family\": \"Arial\", \"size\": 14, \"color\": \"black\"}, \"showarrow\": false}, {\"xref\": \"x1\", \"yref\": \"y1\", \"x\": 17.5, \"y\": 1, \"text\": \"5\", \"align\": \"left\", \"font\": {\"family\": \"Arial\", \"size\": 14, \"color\": \"black\"}, \"showarrow\": false}, {\"xref\": \"x1\", \"yref\": \"y1\", \"x\": 18.5, \"y\": 1, \"text\": \"\\uc77c\", \"align\": \"left\", \"font\": {\"family\": \"Arial\", \"size\": 14, \"color\": \"black\"}, \"showarrow\": false}, {\"xref\": \"x1\", \"yref\": \"y1\", \"x\": 19.5, \"y\": 1, \"text\": \" \", \"align\": \"left\", \"font\": {\"family\": \"Arial\", \"size\": 14, \"color\": \"black\"}, \"showarrow\": false}, {\"xref\": \"x1\", \"yref\": \"y1\", \"x\": 20.5, \"y\": 1, \"text\": \"\\ub9e8\", \"align\": \"left\", \"font\": {\"family\": \"Arial\", \"size\": 14, \"color\": \"black\"}, \"showarrow\": false}, {\"xref\": \"x1\", \"yref\": \"y1\", \"x\": 21.5, \"y\": 1, \"text\": \"\\uc720\", \"align\": \"left\", \"font\": {\"family\": \"Arial\", \"size\": 14, \"color\": \"black\"}, \"showarrow\": false}, {\"xref\": \"x1\", \"yref\": \"y1\", \"x\": 22.5, \"y\": 1, \"text\": \" \", \"align\": \"left\", \"font\": {\"family\": \"Arial\", \"size\": 14, \"color\": \"black\"}, \"showarrow\": false}, {\"xref\": \"x1\", \"yref\": \"y1\", \"x\": 23.5, \"y\": 1, \"text\": \"\\ubbf8\", \"align\": \"left\", \"font\": {\"family\": \"Arial\", \"size\": 14, \"color\": \"black\"}, \"showarrow\": false}, {\"xref\": \"x1\", \"yref\": \"y1\", \"x\": 24.5, \"y\": 1, \"text\": \"\\ub4dc\", \"align\": \"left\", \"font\": {\"family\": \"Arial\", \"size\": 14, \"color\": \"black\"}, \"showarrow\": false}, {\"xref\": \"x1\", \"yref\": \"y1\", \"x\": 25.5, \"y\": 1, \"text\": \"\\ud544\", \"align\": \"left\", \"font\": {\"family\": \"Arial\", \"size\": 14, \"color\": \"black\"}, \"showarrow\": false}, {\"xref\": \"x1\", \"yref\": \"y1\", \"x\": 26.5, \"y\": 1, \"text\": \"\\ub354\", \"align\": \"left\", \"font\": {\"family\": \"Arial\", \"size\": 14, \"color\": \"black\"}, \"showarrow\": false}, {\"xref\": \"x1\", \"yref\": \"y1\", \"x\": 27.5, \"y\": 1, \"text\": \" \", \"align\": \"left\", \"font\": {\"family\": \"Arial\", \"size\": 14, \"color\": \"black\"}, \"showarrow\": false}, {\"xref\": \"x1\", \"yref\": \"y1\", \"x\": 28.5, \"y\": 1, \"text\": \"\\ud3f4\", \"align\": \"left\", \"font\": {\"family\": \"Arial\", \"size\": 14, \"color\": \"black\"}, \"showarrow\": false}, {\"xref\": \"x1\", \"yref\": \"y1\", \"x\": 29.5, \"y\": 1, \"text\": \" \", \"align\": \"left\", \"font\": {\"family\": \"Arial\", \"size\": 14, \"color\": \"black\"}, \"showarrow\": false}, {\"xref\": \"x1\", \"yref\": \"y1\", \"x\": 30.5, \"y\": 1, \"text\": \"\\ud3ec\", \"align\": \"left\", \"font\": {\"family\": \"Arial\", \"size\": 14, \"color\": \"black\"}, \"showarrow\": false}, {\"xref\": \"x1\", \"yref\": \"y1\", \"x\": 31.5, \"y\": 1, \"text\": \"\\uadf8\", \"align\": \"left\", \"font\": {\"family\": \"Arial\", \"size\": 14, \"color\": \"black\"}, \"showarrow\": false}, {\"xref\": \"x1\", \"yref\": \"y1\", \"x\": 32.5, \"y\": 1, \"text\": \"\\ubc14\", \"align\": \"left\", \"font\": {\"family\": \"Arial\", \"size\": 14, \"color\": \"black\"}, \"showarrow\": false}, {\"xref\": \"x1\", \"yref\": \"y1\", \"x\": 33.5, \"y\": 1, \"text\": \"\\uac00\", \"align\": \"left\", \"font\": {\"family\": \"Arial\", \"size\": 14, \"color\": \"black\"}, \"showarrow\": false}, {\"xref\": \"x1\", \"yref\": \"y1\", \"x\": 34.5, \"y\": 1, \"text\": \" \", \"align\": \"left\", \"font\": {\"family\": \"Arial\", \"size\": 14, \"color\": \"black\"}, \"showarrow\": false}, {\"xref\": \"x1\", \"yref\": \"y1\", \"x\": 35.5, \"y\": 1, \"text\": \"\\uc5ec\", \"align\": \"left\", \"font\": {\"family\": \"Arial\", \"size\": 14, \"color\": \"black\"}, \"showarrow\": false}, {\"xref\": \"x1\", \"yref\": \"y1\", \"x\": 36.5, \"y\": 1, \"text\": \"\\ub984\", \"align\": \"left\", \"font\": {\"family\": \"Arial\", \"size\": 14, \"color\": \"black\"}, \"showarrow\": false}, {\"xref\": \"x1\", \"yref\": \"y1\", \"x\": 37.5, \"y\": 1, \"text\": \" \", \"align\": \"left\", \"font\": {\"family\": \"Arial\", \"size\": 14, \"color\": \"black\"}, \"showarrow\": false}, {\"xref\": \"x1\", \"yref\": \"y1\", \"x\": 38.5, \"y\": 1, \"text\": \"\\uc774\", \"align\": \"left\", \"font\": {\"family\": \"Arial\", \"size\": 14, \"color\": \"black\"}, \"showarrow\": false}, {\"xref\": \"x1\", \"yref\": \"y1\", \"x\": 39.5, \"y\": 1, \"text\": \"\\uc801\", \"align\": \"left\", \"font\": {\"family\": \"Arial\", \"size\": 14, \"color\": \"black\"}, \"showarrow\": false}, {\"xref\": \"x1\", \"yref\": \"y1\", \"x\": 40.5, \"y\": 1, \"text\": \"\\uc2dc\", \"align\": \"left\", \"font\": {\"family\": \"Arial\", \"size\": 14, \"color\": \"black\"}, \"showarrow\": false}, {\"xref\": \"x1\", \"yref\": \"y1\", \"x\": 41.5, \"y\": 1, \"text\": \"\\uc7a5\", \"align\": \"left\", \"font\": {\"family\": \"Arial\", \"size\": 14, \"color\": \"black\"}, \"showarrow\": false}, {\"xref\": \"x1\", \"yref\": \"y1\", \"x\": 42.5, \"y\": 1, \"text\": \" \", \"align\": \"left\", \"font\": {\"family\": \"Arial\", \"size\": 14, \"color\": \"black\"}, \"showarrow\": false}, {\"xref\": \"x1\", \"yref\": \"y1\", \"x\": 43.5, \"y\": 1, \"text\": \"\\uc2e4\", \"align\": \"left\", \"font\": {\"family\": \"Arial\", \"size\": 14, \"color\": \"black\"}, \"showarrow\": false}, {\"xref\": \"x1\", \"yref\": \"y1\", \"x\": 44.5, \"y\": 1, \"text\": \"\\ud328\", \"align\": \"left\", \"font\": {\"family\": \"Arial\", \"size\": 14, \"color\": \"black\"}, \"showarrow\": false}, {\"xref\": \"x1\", \"yref\": \"y1\", \"x\": 45.5, \"y\": 1, \"text\": \" \", \"align\": \"left\", \"font\": {\"family\": \"Arial\", \"size\": 14, \"color\": \"black\"}, \"showarrow\": false}, {\"xref\": \"x1\", \"yref\": \"y1\", \"x\": 46.5, \"y\": 1, \"text\": \"\\ud6c4\", \"align\": \"left\", \"font\": {\"family\": \"Arial\", \"size\": 14, \"color\": \"black\"}, \"showarrow\": false}, {\"xref\": \"x1\", \"yref\": \"y1\", \"x\": 47.5, \"y\": 1, \"text\": \",\", \"align\": \"left\", \"font\": {\"family\": \"Arial\", \"size\": 14, \"color\": \"black\"}, \"showarrow\": false}, {\"xref\": \"x1\", \"yref\": \"y1\", \"x\": 48.5, \"y\": 1, \"text\": \" \", \"align\": \"left\", \"font\": {\"family\": \"Arial\", \"size\": 14, \"color\": \"black\"}, \"showarrow\": false}, {\"xref\": \"x1\", \"yref\": \"y1\", \"x\": 49.5, \"y\": 1, \"text\": \"1\", \"align\": \"left\", \"font\": {\"family\": \"Arial\", \"size\": 14, \"color\": \"black\"}, \"showarrow\": false}, {\"xref\": \"x2\", \"yref\": \"y2\", \"x\": 0.5, \"y\": 1, \"text\": \"\\uc6d4\", \"align\": \"left\", \"font\": {\"family\": \"Arial\", \"size\": 14, \"color\": \"black\"}, \"showarrow\": false}, {\"xref\": \"x2\", \"yref\": \"y2\", \"x\": 1.5, \"y\": 1, \"text\": \"\\uc5d0\", \"align\": \"left\", \"font\": {\"family\": \"Arial\", \"size\": 14, \"color\": \"black\"}, \"showarrow\": false}, {\"xref\": \"x2\", \"yref\": \"y2\", \"x\": 2.5, \"y\": 1, \"text\": \" \", \"align\": \"left\", \"font\": {\"family\": \"Arial\", \"size\": 14, \"color\": \"black\"}, \"showarrow\": false}, {\"xref\": \"x2\", \"yref\": \"y2\", \"x\": 3.5, \"y\": 1, \"text\": \"\\ub808\", \"align\": \"left\", \"font\": {\"family\": \"Arial\", \"size\": 14, \"color\": \"black\"}, \"showarrow\": false}, {\"xref\": \"x2\", \"yref\": \"y2\", \"x\": 4.5, \"y\": 1, \"text\": \"\\uc54c\", \"align\": \"left\", \"font\": {\"family\": \"Arial\", \"size\": 14, \"color\": \"black\"}, \"showarrow\": false}, {\"xref\": \"x2\", \"yref\": \"y2\", \"x\": 5.5, \"y\": 1, \"text\": \" \", \"align\": \"left\", \"font\": {\"family\": \"Arial\", \"size\": 14, \"color\": \"black\"}, \"showarrow\": false}, {\"xref\": \"x2\", \"yref\": \"y2\", \"x\": 6.5, \"y\": 1, \"text\": \"\\ub9c8\", \"align\": \"left\", \"font\": {\"family\": \"Arial\", \"size\": 14, \"color\": \"black\"}, \"showarrow\": false}, {\"xref\": \"x2\", \"yref\": \"y2\", \"x\": 7.5, \"y\": 1, \"text\": \"\\ub4dc\", \"align\": \"left\", \"font\": {\"family\": \"Arial\", \"size\": 14, \"color\": \"black\"}, \"showarrow\": false}, {\"xref\": \"x2\", \"yref\": \"y2\", \"x\": 8.5, \"y\": 1, \"text\": \"\\ub9ac\", \"align\": \"left\", \"font\": {\"family\": \"Arial\", \"size\": 14, \"color\": \"black\"}, \"showarrow\": false}, {\"xref\": \"x2\", \"yref\": \"y2\", \"x\": 9.5, \"y\": 1, \"text\": \"\\ub4dc\", \"align\": \"left\", \"font\": {\"family\": \"Arial\", \"size\": 14, \"color\": \"black\"}, \"showarrow\": false}, {\"xref\": \"x2\", \"yref\": \"y2\", \"x\": 10.5, \"y\": 1, \"text\": \"\\ub85c\", \"align\": \"left\", \"font\": {\"family\": \"Arial\", \"size\": 14, \"color\": \"black\"}, \"showarrow\": false}, {\"xref\": \"x2\", \"yref\": \"y2\", \"x\": 11.5, \"y\": 1, \"text\": \" \", \"align\": \"left\", \"font\": {\"family\": \"Arial\", \"size\": 14, \"color\": \"black\"}, \"showarrow\": false}, {\"xref\": \"x2\", \"yref\": \"y2\", \"x\": 12.5, \"y\": 1, \"text\": \"\\uc774\", \"align\": \"left\", \"font\": {\"family\": \"Arial\", \"size\": 14, \"color\": \"black\"}, \"showarrow\": false}, {\"xref\": \"x2\", \"yref\": \"y2\", \"x\": 13.5, \"y\": 1, \"text\": \"\\uc801\", \"align\": \"left\", \"font\": {\"family\": \"Arial\", \"size\": 14, \"color\": \"black\"}, \"showarrow\": false}, {\"xref\": \"x2\", \"yref\": \"y2\", \"x\": 14.5, \"y\": 1, \"text\": \"\\ud560\", \"align\": \"left\", \"font\": {\"family\": \"Arial\", \"size\": 14, \"color\": \"black\"}, \"showarrow\": false}, {\"xref\": \"x2\", \"yref\": \"y2\", \"x\": 15.5, \"y\": 1, \"text\": \" \", \"align\": \"left\", \"font\": {\"family\": \"Arial\", \"size\": 14, \"color\": \"black\"}, \"showarrow\": false}, {\"xref\": \"x2\", \"yref\": \"y2\", \"x\": 16.5, \"y\": 1, \"text\": \"\\uc218\", \"align\": \"left\", \"font\": {\"family\": \"Arial\", \"size\": 14, \"color\": \"black\"}, \"showarrow\": false}, {\"xref\": \"x2\", \"yref\": \"y2\", \"x\": 17.5, \"y\": 1, \"text\": \" \", \"align\": \"left\", \"font\": {\"family\": \"Arial\", \"size\": 14, \"color\": \"black\"}, \"showarrow\": false}, {\"xref\": \"x2\", \"yref\": \"y2\", \"x\": 18.5, \"y\": 1, \"text\": \"\\uc788\", \"align\": \"left\", \"font\": {\"family\": \"Arial\", \"size\": 14, \"color\": \"black\"}, \"showarrow\": false}, {\"xref\": \"x2\", \"yref\": \"y2\", \"x\": 19.5, \"y\": 1, \"text\": \"\\ub2e4\", \"align\": \"left\", \"font\": {\"family\": \"Arial\", \"size\": 14, \"color\": \"black\"}, \"showarrow\": false}, {\"xref\": \"x2\", \"yref\": \"y2\", \"x\": 20.5, \"y\": 1, \"text\": \"\\uace0\", \"align\": \"left\", \"font\": {\"family\": \"Arial\", \"size\": 14, \"color\": \"black\"}, \"showarrow\": false}, {\"xref\": \"x2\", \"yref\": \"y2\", \"x\": 21.5, \"y\": 1, \"text\": \" \", \"align\": \"left\", \"font\": {\"family\": \"Arial\", \"size\": 14, \"color\": \"black\"}, \"showarrow\": false}, {\"xref\": \"x2\", \"yref\": \"y2\", \"x\": 22.5, \"y\": 1, \"text\": \"\\uc804\", \"align\": \"left\", \"font\": {\"family\": \"Arial\", \"size\": 14, \"color\": \"black\"}, \"showarrow\": false}, {\"xref\": \"x2\", \"yref\": \"y2\", \"x\": 23.5, \"y\": 1, \"text\": \"\\ud588\", \"align\": \"left\", \"font\": {\"family\": \"Arial\", \"size\": 14, \"color\": \"black\"}, \"showarrow\": false}, {\"xref\": \"x2\", \"yref\": \"y2\", \"x\": 24.5, \"y\": 1, \"text\": \"\\ub2e4\", \"align\": \"left\", \"font\": {\"family\": \"Arial\", \"size\": 14, \"color\": \"black\"}, \"showarrow\": false}, {\"xref\": \"x2\", \"yref\": \"y2\", \"x\": 25.5, \"y\": 1, \"text\": \".\", \"align\": \"left\", \"font\": {\"family\": \"Arial\", \"size\": 14, \"color\": \"black\"}, \"showarrow\": false}], \"height\": 130, \"images\": [{\"source\": \"https://raw.githubusercontent.com/fingeredman/teanaps/master/data/logo/teanaps_logo_no-bg.png\", \"xref\": \"paper\", \"yref\": \"paper\", \"x\": 0.5, \"y\": 0.6, \"sizex\": 0.7, \"sizey\": 0.7, \"xanchor\": \"center\", \"yanchor\": \"center\", \"opacity\": 0.3, \"layer\": \"above\"}]}, {\"showLink\": true, \"linkText\": \"Export to plot.ly\"})});</script>"
      ],
      "text/vnd.plotly.v1+html": [
       "<div id=\"7d22775c-3ec0-4055-98c6-cfdd5857eee6\" style=\"height: 130px; width: 100%;\" class=\"plotly-graph-div\"></div><script type=\"text/javascript\">require([\"plotly\"], function(Plotly) { window.PLOTLYENV=window.PLOTLYENV || {};window.PLOTLYENV.BASE_URL=\"https://plot.ly\";Plotly.newPlot(\"7d22775c-3ec0-4055-98c6-cfdd5857eee6\", [{\"type\": \"bar\", \"y\": [1], \"x\": [3], \"orientation\": \"h\", \"width\": 0.5, \"text\": \"0.69\", \"hoverinfo\": \"text\", \"marker\": {\"color\": \"rgb(117.70925578919167, 186.35462789459584, 255)\"}, \"xaxis\": \"x1\", \"yaxis\": \"y1\"}, {\"type\": \"bar\", \"y\": [1], \"x\": [3], \"orientation\": \"h\", \"width\": 0.5, \"text\": \"0.02\", \"hoverinfo\": \"text\", \"marker\": {\"color\": \"rgb(250.24498236557218, 252.6224911827861, 255)\"}, \"xaxis\": \"x1\", \"yaxis\": \"y1\"}, {\"type\": \"bar\", \"y\": [1], \"x\": [1], \"orientation\": \"h\", \"width\": 0.5, \"text\": \"0.77\", \"hoverinfo\": \"text\", \"marker\": {\"color\": \"rgb(100.58589376369335, 177.79294688184666, 255)\"}, \"xaxis\": \"x1\", \"yaxis\": \"y1\"}, {\"type\": \"bar\", \"y\": [1], \"x\": [2], \"orientation\": \"h\", \"width\": 0.5, \"text\": \"0.45\", \"hoverinfo\": \"text\", \"marker\": {\"color\": \"rgb(165.00387500329037, 210.0019375016452, 255)\"}, \"xaxis\": \"x1\", \"yaxis\": \"y1\"}, {\"type\": \"bar\", \"y\": [1], \"x\": [1], \"orientation\": \"h\", \"width\": 0.5, \"text\": \"0.29\", \"hoverinfo\": \"text\", \"marker\": {\"color\": \"rgb(197.68819119784533, 226.34409559892268, 255)\"}, \"xaxis\": \"x1\", \"yaxis\": \"y1\"}, {\"type\": \"bar\", \"y\": [1], \"x\": [4], \"orientation\": \"h\", \"width\": 0.5, \"text\": \"0.35\", \"hoverinfo\": \"text\", \"marker\": {\"color\": \"rgb(184.11370675795268, 219.55685337897634, 255)\"}, \"xaxis\": \"x1\", \"yaxis\": \"y1\"}, {\"type\": \"bar\", \"y\": [1], \"x\": [1], \"orientation\": \"h\", \"width\": 0.5, \"text\": \"0.03\", \"hoverinfo\": \"text\", \"marker\": {\"color\": \"rgb(249.05041988384784, 252.02520994192392, 255)\"}, \"xaxis\": \"x1\", \"yaxis\": \"y1\"}, {\"type\": \"bar\", \"y\": [1], \"x\": [3], \"orientation\": \"h\", \"width\": 0.5, \"text\": \"0.71\", \"hoverinfo\": \"text\", \"marker\": {\"color\": \"rgb(113.74229514057447, 184.37114757028723, 255)\"}, \"xaxis\": \"x1\", \"yaxis\": \"y1\"}, {\"type\": \"bar\", \"y\": [1], \"x\": [1], \"orientation\": \"h\", \"width\": 0.5, \"text\": \"0.38\", \"hoverinfo\": \"text\", \"marker\": {\"color\": \"rgb(179.07337631954675, 217.03668815977338, 255)\"}, \"xaxis\": \"x1\", \"yaxis\": \"y1\"}, {\"type\": \"bar\", \"y\": [1], \"x\": [3], \"orientation\": \"h\", \"width\": 0.5, \"text\": \"0.3\", \"hoverinfo\": \"text\", \"marker\": {\"color\": \"rgb(194.4032433716324, 224.7016216858162, 255)\"}, \"xaxis\": \"x1\", \"yaxis\": \"y1\"}, {\"type\": \"bar\", \"y\": [1], \"x\": [5], \"orientation\": \"h\", \"width\": 0.5, \"text\": \"0.01\", \"hoverinfo\": \"text\", \"marker\": {\"color\": \"rgb(252.2223349838317, 253.61116749191586, 255)\"}, \"xaxis\": \"x1\", \"yaxis\": \"y1\"}, {\"type\": \"bar\", \"y\": [1], \"x\": [2], \"orientation\": \"h\", \"width\": 0.5, \"text\": \"0.02\", \"hoverinfo\": \"text\", \"marker\": {\"color\": \"rgb(250.08241944778246, 252.54120972389123, 255)\"}, \"xaxis\": \"x1\", \"yaxis\": \"y1\"}, {\"type\": \"bar\", \"y\": [1], \"x\": [2], \"orientation\": \"h\", \"width\": 0.5, \"text\": \"0.11\", \"hoverinfo\": \"text\", \"marker\": {\"color\": \"rgb(233.1428133584974, 244.0714066792487, 255)\"}, \"xaxis\": \"x1\", \"yaxis\": \"y1\"}, {\"type\": \"bar\", \"y\": [1], \"x\": [1], \"orientation\": \"h\", \"width\": 0.5, \"text\": \"0.21\", \"hoverinfo\": \"text\", \"marker\": {\"color\": \"rgb(213.50702744804198, 234.253513724021, 255)\"}, \"xaxis\": \"x1\", \"yaxis\": \"y1\"}, {\"type\": \"bar\", \"y\": [1], \"x\": [1], \"orientation\": \"h\", \"width\": 0.5, \"text\": \"0.2\", \"hoverinfo\": \"text\", \"marker\": {\"color\": \"rgb(215.78653027226437, 235.3932651361322, 255)\"}, \"xaxis\": \"x1\", \"yaxis\": \"y1\"}, {\"type\": \"bar\", \"y\": [1], \"x\": [1], \"orientation\": \"h\", \"width\": 0.5, \"text\": \"0.01\", \"hoverinfo\": \"text\", \"marker\": {\"color\": \"rgb(252.67807208153994, 253.83903604076997, 255)\"}, \"xaxis\": \"x1\", \"yaxis\": \"y1\"}, {\"type\": \"bar\", \"y\": [1], \"x\": [3], \"orientation\": \"h\", \"width\": 0.5, \"text\": \"0.02\", \"hoverinfo\": \"text\", \"marker\": {\"color\": \"rgb(251.96148804819614, 253.48074402409807, 255)\"}, \"xaxis\": \"x1\", \"yaxis\": \"y1\"}, {\"type\": \"bar\", \"y\": [1], \"x\": [3], \"orientation\": \"h\", \"width\": 0.5, \"text\": \"0.01\", \"hoverinfo\": \"text\", \"marker\": {\"color\": \"rgb(253.28593628109058, 254.1429681405453, 255)\"}, \"xaxis\": \"x1\", \"yaxis\": \"y1\"}, {\"type\": \"bar\", \"y\": [1], \"x\": [2], \"orientation\": \"h\", \"width\": 0.5, \"text\": \"0.01\", \"hoverinfo\": \"text\", \"marker\": {\"color\": \"rgb(252.1128406977781, 253.55642034888905, 255)\"}, \"xaxis\": \"x1\", \"yaxis\": \"y1\"}, {\"type\": \"bar\", \"y\": [1], \"x\": [3], \"orientation\": \"h\", \"width\": 0.5, \"text\": \"0.02\", \"hoverinfo\": \"text\", \"marker\": {\"color\": \"rgb(250.72992849302776, 252.86496424651386, 255)\"}, \"xaxis\": \"x1\", \"yaxis\": \"y1\"}, {\"type\": \"bar\", \"y\": [1], \"x\": [2], \"orientation\": \"h\", \"width\": 0.5, \"text\": \"0.01\", \"hoverinfo\": \"text\", \"marker\": {\"color\": \"rgb(252.5511709526876, 253.77558547634382, 255)\"}, \"xaxis\": \"x1\", \"yaxis\": \"y1\"}, {\"type\": \"bar\", \"y\": [1], \"x\": [1], \"orientation\": \"h\", \"width\": 0.5, \"text\": \"0.02\", \"hoverinfo\": \"text\", \"marker\": {\"color\": \"rgb(250.82466928816046, 252.91233464408023, 255)\"}, \"xaxis\": \"x1\", \"yaxis\": \"y1\"}, {\"type\": \"bar\", \"y\": [1], \"x\": [2], \"orientation\": \"h\", \"width\": 0.5, \"text\": \"0.93\", \"hoverinfo\": \"text\", \"marker\": {\"color\": \"rgb(69.50677574627483, 162.2533878731374, 255)\"}, \"xaxis\": \"x1\", \"yaxis\": \"y1\"}, {\"type\": \"bar\", \"y\": [1], \"x\": [2], \"orientation\": \"h\", \"width\": 0.5, \"text\": \"0.66\", \"hoverinfo\": \"text\", \"marker\": {\"color\": \"rgb(122.80570133580486, 188.90285066790244, 255)\"}, \"xaxis\": \"x2\", \"yaxis\": \"y2\"}, {\"type\": \"bar\", \"y\": [1], \"x\": [3], \"orientation\": \"h\", \"width\": 0.5, \"text\": \"0.58\", \"hoverinfo\": \"text\", \"marker\": {\"color\": \"rgb(139.1829058688445, 197.09145293442225, 255)\"}, \"xaxis\": \"x2\", \"yaxis\": \"y2\"}, {\"type\": \"bar\", \"y\": [1], \"x\": [5], \"orientation\": \"h\", \"width\": 0.5, \"text\": \"1.0\", \"hoverinfo\": \"text\", \"marker\": {\"color\": \"rgb(55.0, 155.0, 255)\"}, \"xaxis\": \"x2\", \"yaxis\": \"y2\"}, {\"type\": \"bar\", \"y\": [1], \"x\": [1], \"orientation\": \"h\", \"width\": 0.5, \"text\": \"0.05\", \"hoverinfo\": \"text\", \"marker\": {\"color\": \"rgb(244.85338027719231, 249.92669013859614, 255)\"}, \"xaxis\": \"x2\", \"yaxis\": \"y2\"}, {\"type\": \"bar\", \"y\": [1], \"x\": [3], \"orientation\": \"h\", \"width\": 0.5, \"text\": \"0.01\", \"hoverinfo\": \"text\", \"marker\": {\"color\": \"rgb(252.69056598284797, 253.84528299142397, 255)\"}, \"xaxis\": \"x2\", \"yaxis\": \"y2\"}, {\"type\": \"bar\", \"y\": [1], \"x\": [1], \"orientation\": \"h\", \"width\": 0.5, \"text\": \"0.01\", \"hoverinfo\": \"text\", \"marker\": {\"color\": \"rgb(252.57821476823133, 253.78910738411568, 255)\"}, \"xaxis\": \"x2\", \"yaxis\": \"y2\"}, {\"type\": \"bar\", \"y\": [1], \"x\": [2], \"orientation\": \"h\", \"width\": 0.5, \"text\": \"0.01\", \"hoverinfo\": \"text\", \"marker\": {\"color\": \"rgb(252.813003569329, 253.9065017846645, 255)\"}, \"xaxis\": \"x2\", \"yaxis\": \"y2\"}, {\"type\": \"bar\", \"y\": [1], \"x\": [4], \"orientation\": \"h\", \"width\": 0.5, \"text\": \"0.02\", \"hoverinfo\": \"text\", \"marker\": {\"color\": \"rgb(251.9492581429654, 253.4746290714827, 255)\"}, \"xaxis\": \"x2\", \"yaxis\": \"y2\"}, {\"type\": \"bar\", \"y\": [1], \"x\": [4], \"orientation\": \"h\", \"width\": 0.5, \"text\": \"0.01\", \"hoverinfo\": \"text\", \"marker\": {\"color\": \"rgb(252.88477240145727, 253.94238620072863, 255)\"}, \"xaxis\": \"x2\", \"yaxis\": \"y2\"}, {\"type\": \"bar\", \"y\": [1], \"x\": [1], \"orientation\": \"h\", \"width\": 0.5, \"text\": \"0.04\", \"hoverinfo\": \"text\", \"marker\": {\"color\": \"rgb(247.12346724132618, 251.0617336206631, 255)\"}, \"xaxis\": \"x2\", \"yaxis\": \"y2\"}, {\"type\": \"bar\", \"y\": [1], \"x\": [1], \"orientation\": \"h\", \"width\": 0.5, \"text\": \"\", \"hoverinfo\": \"text\", \"marker\": {\"color\": \"rgb(255, 255, 255)\"}, \"xaxis\": \"x2\", \"yaxis\": \"y2\"}, {\"type\": \"bar\", \"y\": [1], \"x\": [1], \"orientation\": \"h\", \"width\": 0.5, \"text\": \"\", \"hoverinfo\": \"text\", \"marker\": {\"color\": \"rgb(255, 255, 255)\"}, \"xaxis\": \"x2\", \"yaxis\": \"y2\"}, {\"type\": \"bar\", \"y\": [1], \"x\": [1], \"orientation\": \"h\", \"width\": 0.5, \"text\": \"\", \"hoverinfo\": \"text\", \"marker\": {\"color\": \"rgb(255, 255, 255)\"}, \"xaxis\": \"x2\", \"yaxis\": \"y2\"}, {\"type\": \"bar\", \"y\": [1], \"x\": [1], \"orientation\": \"h\", \"width\": 0.5, \"text\": \"\", \"hoverinfo\": \"text\", \"marker\": {\"color\": \"rgb(255, 255, 255)\"}, \"xaxis\": \"x2\", \"yaxis\": \"y2\"}, {\"type\": \"bar\", \"y\": [1], \"x\": [1], \"orientation\": \"h\", \"width\": 0.5, \"text\": \"\", \"hoverinfo\": \"text\", \"marker\": {\"color\": \"rgb(255, 255, 255)\"}, \"xaxis\": \"x2\", \"yaxis\": \"y2\"}, {\"type\": \"bar\", \"y\": [1], \"x\": [1], \"orientation\": \"h\", \"width\": 0.5, \"text\": \"\", \"hoverinfo\": \"text\", \"marker\": {\"color\": \"rgb(255, 255, 255)\"}, \"xaxis\": \"x2\", \"yaxis\": \"y2\"}, {\"type\": \"bar\", \"y\": [1], \"x\": [1], \"orientation\": \"h\", \"width\": 0.5, \"text\": \"\", \"hoverinfo\": \"text\", \"marker\": {\"color\": \"rgb(255, 255, 255)\"}, \"xaxis\": \"x2\", \"yaxis\": \"y2\"}, {\"type\": \"bar\", \"y\": [1], \"x\": [1], \"orientation\": \"h\", \"width\": 0.5, \"text\": \"\", \"hoverinfo\": \"text\", \"marker\": {\"color\": \"rgb(255, 255, 255)\"}, \"xaxis\": \"x2\", \"yaxis\": \"y2\"}, {\"type\": \"bar\", \"y\": [1], \"x\": [1], \"orientation\": \"h\", \"width\": 0.5, \"text\": \"\", \"hoverinfo\": \"text\", \"marker\": {\"color\": \"rgb(255, 255, 255)\"}, \"xaxis\": \"x2\", \"yaxis\": \"y2\"}, {\"type\": \"bar\", \"y\": [1], \"x\": [1], \"orientation\": \"h\", \"width\": 0.5, \"text\": \"\", \"hoverinfo\": \"text\", \"marker\": {\"color\": \"rgb(255, 255, 255)\"}, \"xaxis\": \"x2\", \"yaxis\": \"y2\"}, {\"type\": \"bar\", \"y\": [1], \"x\": [1], \"orientation\": \"h\", \"width\": 0.5, \"text\": \"\", \"hoverinfo\": \"text\", \"marker\": {\"color\": \"rgb(255, 255, 255)\"}, \"xaxis\": \"x2\", \"yaxis\": \"y2\"}, {\"type\": \"bar\", \"y\": [1], \"x\": [1], \"orientation\": \"h\", \"width\": 0.5, \"text\": \"\", \"hoverinfo\": \"text\", \"marker\": {\"color\": \"rgb(255, 255, 255)\"}, \"xaxis\": \"x2\", \"yaxis\": \"y2\"}, {\"type\": \"bar\", \"y\": [1], \"x\": [1], \"orientation\": \"h\", \"width\": 0.5, \"text\": \"\", \"hoverinfo\": \"text\", \"marker\": {\"color\": \"rgb(255, 255, 255)\"}, \"xaxis\": \"x2\", \"yaxis\": \"y2\"}, {\"type\": \"bar\", \"y\": [1], \"x\": [1], \"orientation\": \"h\", \"width\": 0.5, \"text\": \"\", \"hoverinfo\": \"text\", \"marker\": {\"color\": \"rgb(255, 255, 255)\"}, \"xaxis\": \"x2\", \"yaxis\": \"y2\"}, {\"type\": \"bar\", \"y\": [1], \"x\": [1], \"orientation\": \"h\", \"width\": 0.5, \"text\": \"\", \"hoverinfo\": \"text\", \"marker\": {\"color\": \"rgb(255, 255, 255)\"}, \"xaxis\": \"x2\", \"yaxis\": \"y2\"}, {\"type\": \"bar\", \"y\": [1], \"x\": [1], \"orientation\": \"h\", \"width\": 0.5, \"text\": \"\", \"hoverinfo\": \"text\", \"marker\": {\"color\": \"rgb(255, 255, 255)\"}, \"xaxis\": \"x2\", \"yaxis\": \"y2\"}, {\"type\": \"bar\", \"y\": [1], \"x\": [1], \"orientation\": \"h\", \"width\": 0.5, \"text\": \"\", \"hoverinfo\": \"text\", \"marker\": {\"color\": \"rgb(255, 255, 255)\"}, \"xaxis\": \"x2\", \"yaxis\": \"y2\"}, {\"type\": \"bar\", \"y\": [1], \"x\": [1], \"orientation\": \"h\", \"width\": 0.5, \"text\": \"\", \"hoverinfo\": \"text\", \"marker\": {\"color\": \"rgb(255, 255, 255)\"}, \"xaxis\": \"x2\", \"yaxis\": \"y2\"}, {\"type\": \"bar\", \"y\": [1], \"x\": [1], \"orientation\": \"h\", \"width\": 0.5, \"text\": \"\", \"hoverinfo\": \"text\", \"marker\": {\"color\": \"rgb(255, 255, 255)\"}, \"xaxis\": \"x2\", \"yaxis\": \"y2\"}, {\"type\": \"bar\", \"y\": [1], \"x\": [1], \"orientation\": \"h\", \"width\": 0.5, \"text\": \"\", \"hoverinfo\": \"text\", \"marker\": {\"color\": \"rgb(255, 255, 255)\"}, \"xaxis\": \"x2\", \"yaxis\": \"y2\"}, {\"type\": \"bar\", \"y\": [1], \"x\": [1], \"orientation\": \"h\", \"width\": 0.5, \"text\": \"\", \"hoverinfo\": \"text\", \"marker\": {\"color\": \"rgb(255, 255, 255)\"}, \"xaxis\": \"x2\", \"yaxis\": \"y2\"}, {\"type\": \"bar\", \"y\": [1], \"x\": [1], \"orientation\": \"h\", \"width\": 0.5, \"text\": \"\", \"hoverinfo\": \"text\", \"marker\": {\"color\": \"rgb(255, 255, 255)\"}, \"xaxis\": \"x2\", \"yaxis\": \"y2\"}, {\"type\": \"bar\", \"y\": [1], \"x\": [1], \"orientation\": \"h\", \"width\": 0.5, \"text\": \"\", \"hoverinfo\": \"text\", \"marker\": {\"color\": \"rgb(255, 255, 255)\"}, \"xaxis\": \"x2\", \"yaxis\": \"y2\"}, {\"type\": \"bar\", \"y\": [1], \"x\": [1], \"orientation\": \"h\", \"width\": 0.5, \"text\": \"\", \"hoverinfo\": \"text\", \"marker\": {\"color\": \"rgb(255, 255, 255)\"}, \"xaxis\": \"x2\", \"yaxis\": \"y2\"}], {\"xaxis1\": {\"domain\": [0.0, 1.0], \"anchor\": \"y1\", \"showgrid\": false, \"showline\": false, \"showticklabels\": false, \"zeroline\": false}, \"yaxis1\": {\"domain\": [0.575, 1.0], \"anchor\": \"x1\", \"showgrid\": false, \"showline\": false, \"showticklabels\": false, \"zeroline\": false}, \"xaxis2\": {\"domain\": [0.0, 1.0], \"anchor\": \"y2\", \"showgrid\": false, \"showline\": false, \"showticklabels\": false, \"zeroline\": false}, \"yaxis2\": {\"domain\": [0.0, 0.425], \"anchor\": \"x2\", \"showgrid\": false, \"showline\": false, \"showticklabels\": false, \"zeroline\": false}, \"barmode\": \"stack\", \"showlegend\": false, \"margin\": {\"b\": 30, \"l\": 20, \"r\": 20, \"t\": 10}, \"annotations\": [{\"xref\": \"x1\", \"yref\": \"y1\", \"x\": 0.5, \"y\": 1, \"text\": \" \", \"align\": \"left\", \"font\": {\"family\": \"Arial\", \"size\": 14, \"color\": \"black\"}, \"showarrow\": false}, {\"xref\": \"x1\", \"yref\": \"y1\", \"x\": 1.5, \"y\": 1, \"text\": \"\\uc601\", \"align\": \"left\", \"font\": {\"family\": \"Arial\", \"size\": 14, \"color\": \"black\"}, \"showarrow\": false}, {\"xref\": \"x1\", \"yref\": \"y1\", \"x\": 2.5, \"y\": 1, \"text\": \"\\uad6d\", \"align\": \"left\", \"font\": {\"family\": \"Arial\", \"size\": 14, \"color\": \"black\"}, \"showarrow\": false}, {\"xref\": \"x1\", \"yref\": \"y1\", \"x\": 3.5, \"y\": 1, \"text\": \" \", \"align\": \"left\", \"font\": {\"family\": \"Arial\", \"size\": 14, \"color\": \"black\"}, \"showarrow\": false}, {\"xref\": \"x1\", \"yref\": \"y1\", \"x\": 4.5, \"y\": 1, \"text\": \"\\ub9e4\", \"align\": \"left\", \"font\": {\"family\": \"Arial\", \"size\": 14, \"color\": \"black\"}, \"showarrow\": false}, {\"xref\": \"x1\", \"yref\": \"y1\", \"x\": 5.5, \"y\": 1, \"text\": \"\\uccb4\", \"align\": \"left\", \"font\": {\"family\": \"Arial\", \"size\": 14, \"color\": \"black\"}, \"showarrow\": false}, {\"xref\": \"x1\", \"yref\": \"y1\", \"x\": 6.5, \"y\": 1, \"text\": \" \", \"align\": \"left\", \"font\": {\"family\": \"Arial\", \"size\": 14, \"color\": \"black\"}, \"showarrow\": false}, {\"xref\": \"x1\", \"yref\": \"y1\", \"x\": 7.5, \"y\": 1, \"text\": \"\\uc2a4\", \"align\": \"left\", \"font\": {\"family\": \"Arial\", \"size\": 14, \"color\": \"black\"}, \"showarrow\": false}, {\"xref\": \"x1\", \"yref\": \"y1\", \"x\": 8.5, \"y\": 1, \"text\": \"\\uce74\", \"align\": \"left\", \"font\": {\"family\": \"Arial\", \"size\": 14, \"color\": \"black\"}, \"showarrow\": false}, {\"xref\": \"x1\", \"yref\": \"y1\", \"x\": 9.5, \"y\": 1, \"text\": \"\\uc774\", \"align\": \"left\", \"font\": {\"family\": \"Arial\", \"size\": 14, \"color\": \"black\"}, \"showarrow\": false}, {\"xref\": \"x1\", \"yref\": \"y1\", \"x\": 10.5, \"y\": 1, \"text\": \" \", \"align\": \"left\", \"font\": {\"family\": \"Arial\", \"size\": 14, \"color\": \"black\"}, \"showarrow\": false}, {\"xref\": \"x1\", \"yref\": \"y1\", \"x\": 11.5, \"y\": 1, \"text\": \"\\uc2a4\", \"align\": \"left\", \"font\": {\"family\": \"Arial\", \"size\": 14, \"color\": \"black\"}, \"showarrow\": false}, {\"xref\": \"x1\", \"yref\": \"y1\", \"x\": 12.5, \"y\": 1, \"text\": \"\\ud3ec\", \"align\": \"left\", \"font\": {\"family\": \"Arial\", \"size\": 14, \"color\": \"black\"}, \"showarrow\": false}, {\"xref\": \"x1\", \"yref\": \"y1\", \"x\": 13.5, \"y\": 1, \"text\": \"\\uce20\", \"align\": \"left\", \"font\": {\"family\": \"Arial\", \"size\": 14, \"color\": \"black\"}, \"showarrow\": false}, {\"xref\": \"x1\", \"yref\": \"y1\", \"x\": 14.5, \"y\": 1, \"text\": \"\\ub294\", \"align\": \"left\", \"font\": {\"family\": \"Arial\", \"size\": 14, \"color\": \"black\"}, \"showarrow\": false}, {\"xref\": \"x1\", \"yref\": \"y1\", \"x\": 15.5, \"y\": 1, \"text\": \" \", \"align\": \"left\", \"font\": {\"family\": \"Arial\", \"size\": 14, \"color\": \"black\"}, \"showarrow\": false}, {\"xref\": \"x1\", \"yref\": \"y1\", \"x\": 16.5, \"y\": 1, \"text\": \"2\", \"align\": \"left\", \"font\": {\"family\": \"Arial\", \"size\": 14, \"color\": \"black\"}, \"showarrow\": false}, {\"xref\": \"x1\", \"yref\": \"y1\", \"x\": 17.5, \"y\": 1, \"text\": \"5\", \"align\": \"left\", \"font\": {\"family\": \"Arial\", \"size\": 14, \"color\": \"black\"}, \"showarrow\": false}, {\"xref\": \"x1\", \"yref\": \"y1\", \"x\": 18.5, \"y\": 1, \"text\": \"\\uc77c\", \"align\": \"left\", \"font\": {\"family\": \"Arial\", \"size\": 14, \"color\": \"black\"}, \"showarrow\": false}, {\"xref\": \"x1\", \"yref\": \"y1\", \"x\": 19.5, \"y\": 1, \"text\": \" \", \"align\": \"left\", \"font\": {\"family\": \"Arial\", \"size\": 14, \"color\": \"black\"}, \"showarrow\": false}, {\"xref\": \"x1\", \"yref\": \"y1\", \"x\": 20.5, \"y\": 1, \"text\": \"\\ub9e8\", \"align\": \"left\", \"font\": {\"family\": \"Arial\", \"size\": 14, \"color\": \"black\"}, \"showarrow\": false}, {\"xref\": \"x1\", \"yref\": \"y1\", \"x\": 21.5, \"y\": 1, \"text\": \"\\uc720\", \"align\": \"left\", \"font\": {\"family\": \"Arial\", \"size\": 14, \"color\": \"black\"}, \"showarrow\": false}, {\"xref\": \"x1\", \"yref\": \"y1\", \"x\": 22.5, \"y\": 1, \"text\": \" \", \"align\": \"left\", \"font\": {\"family\": \"Arial\", \"size\": 14, \"color\": \"black\"}, \"showarrow\": false}, {\"xref\": \"x1\", \"yref\": \"y1\", \"x\": 23.5, \"y\": 1, \"text\": \"\\ubbf8\", \"align\": \"left\", \"font\": {\"family\": \"Arial\", \"size\": 14, \"color\": \"black\"}, \"showarrow\": false}, {\"xref\": \"x1\", \"yref\": \"y1\", \"x\": 24.5, \"y\": 1, \"text\": \"\\ub4dc\", \"align\": \"left\", \"font\": {\"family\": \"Arial\", \"size\": 14, \"color\": \"black\"}, \"showarrow\": false}, {\"xref\": \"x1\", \"yref\": \"y1\", \"x\": 25.5, \"y\": 1, \"text\": \"\\ud544\", \"align\": \"left\", \"font\": {\"family\": \"Arial\", \"size\": 14, \"color\": \"black\"}, \"showarrow\": false}, {\"xref\": \"x1\", \"yref\": \"y1\", \"x\": 26.5, \"y\": 1, \"text\": \"\\ub354\", \"align\": \"left\", \"font\": {\"family\": \"Arial\", \"size\": 14, \"color\": \"black\"}, \"showarrow\": false}, {\"xref\": \"x1\", \"yref\": \"y1\", \"x\": 27.5, \"y\": 1, \"text\": \" \", \"align\": \"left\", \"font\": {\"family\": \"Arial\", \"size\": 14, \"color\": \"black\"}, \"showarrow\": false}, {\"xref\": \"x1\", \"yref\": \"y1\", \"x\": 28.5, \"y\": 1, \"text\": \"\\ud3f4\", \"align\": \"left\", \"font\": {\"family\": \"Arial\", \"size\": 14, \"color\": \"black\"}, \"showarrow\": false}, {\"xref\": \"x1\", \"yref\": \"y1\", \"x\": 29.5, \"y\": 1, \"text\": \" \", \"align\": \"left\", \"font\": {\"family\": \"Arial\", \"size\": 14, \"color\": \"black\"}, \"showarrow\": false}, {\"xref\": \"x1\", \"yref\": \"y1\", \"x\": 30.5, \"y\": 1, \"text\": \"\\ud3ec\", \"align\": \"left\", \"font\": {\"family\": \"Arial\", \"size\": 14, \"color\": \"black\"}, \"showarrow\": false}, {\"xref\": \"x1\", \"yref\": \"y1\", \"x\": 31.5, \"y\": 1, \"text\": \"\\uadf8\", \"align\": \"left\", \"font\": {\"family\": \"Arial\", \"size\": 14, \"color\": \"black\"}, \"showarrow\": false}, {\"xref\": \"x1\", \"yref\": \"y1\", \"x\": 32.5, \"y\": 1, \"text\": \"\\ubc14\", \"align\": \"left\", \"font\": {\"family\": \"Arial\", \"size\": 14, \"color\": \"black\"}, \"showarrow\": false}, {\"xref\": \"x1\", \"yref\": \"y1\", \"x\": 33.5, \"y\": 1, \"text\": \"\\uac00\", \"align\": \"left\", \"font\": {\"family\": \"Arial\", \"size\": 14, \"color\": \"black\"}, \"showarrow\": false}, {\"xref\": \"x1\", \"yref\": \"y1\", \"x\": 34.5, \"y\": 1, \"text\": \" \", \"align\": \"left\", \"font\": {\"family\": \"Arial\", \"size\": 14, \"color\": \"black\"}, \"showarrow\": false}, {\"xref\": \"x1\", \"yref\": \"y1\", \"x\": 35.5, \"y\": 1, \"text\": \"\\uc5ec\", \"align\": \"left\", \"font\": {\"family\": \"Arial\", \"size\": 14, \"color\": \"black\"}, \"showarrow\": false}, {\"xref\": \"x1\", \"yref\": \"y1\", \"x\": 36.5, \"y\": 1, \"text\": \"\\ub984\", \"align\": \"left\", \"font\": {\"family\": \"Arial\", \"size\": 14, \"color\": \"black\"}, \"showarrow\": false}, {\"xref\": \"x1\", \"yref\": \"y1\", \"x\": 37.5, \"y\": 1, \"text\": \" \", \"align\": \"left\", \"font\": {\"family\": \"Arial\", \"size\": 14, \"color\": \"black\"}, \"showarrow\": false}, {\"xref\": \"x1\", \"yref\": \"y1\", \"x\": 38.5, \"y\": 1, \"text\": \"\\uc774\", \"align\": \"left\", \"font\": {\"family\": \"Arial\", \"size\": 14, \"color\": \"black\"}, \"showarrow\": false}, {\"xref\": \"x1\", \"yref\": \"y1\", \"x\": 39.5, \"y\": 1, \"text\": \"\\uc801\", \"align\": \"left\", \"font\": {\"family\": \"Arial\", \"size\": 14, \"color\": \"black\"}, \"showarrow\": false}, {\"xref\": \"x1\", \"yref\": \"y1\", \"x\": 40.5, \"y\": 1, \"text\": \"\\uc2dc\", \"align\": \"left\", \"font\": {\"family\": \"Arial\", \"size\": 14, \"color\": \"black\"}, \"showarrow\": false}, {\"xref\": \"x1\", \"yref\": \"y1\", \"x\": 41.5, \"y\": 1, \"text\": \"\\uc7a5\", \"align\": \"left\", \"font\": {\"family\": \"Arial\", \"size\": 14, \"color\": \"black\"}, \"showarrow\": false}, {\"xref\": \"x1\", \"yref\": \"y1\", \"x\": 42.5, \"y\": 1, \"text\": \" \", \"align\": \"left\", \"font\": {\"family\": \"Arial\", \"size\": 14, \"color\": \"black\"}, \"showarrow\": false}, {\"xref\": \"x1\", \"yref\": \"y1\", \"x\": 43.5, \"y\": 1, \"text\": \"\\uc2e4\", \"align\": \"left\", \"font\": {\"family\": \"Arial\", \"size\": 14, \"color\": \"black\"}, \"showarrow\": false}, {\"xref\": \"x1\", \"yref\": \"y1\", \"x\": 44.5, \"y\": 1, \"text\": \"\\ud328\", \"align\": \"left\", \"font\": {\"family\": \"Arial\", \"size\": 14, \"color\": \"black\"}, \"showarrow\": false}, {\"xref\": \"x1\", \"yref\": \"y1\", \"x\": 45.5, \"y\": 1, \"text\": \" \", \"align\": \"left\", \"font\": {\"family\": \"Arial\", \"size\": 14, \"color\": \"black\"}, \"showarrow\": false}, {\"xref\": \"x1\", \"yref\": \"y1\", \"x\": 46.5, \"y\": 1, \"text\": \"\\ud6c4\", \"align\": \"left\", \"font\": {\"family\": \"Arial\", \"size\": 14, \"color\": \"black\"}, \"showarrow\": false}, {\"xref\": \"x1\", \"yref\": \"y1\", \"x\": 47.5, \"y\": 1, \"text\": \",\", \"align\": \"left\", \"font\": {\"family\": \"Arial\", \"size\": 14, \"color\": \"black\"}, \"showarrow\": false}, {\"xref\": \"x1\", \"yref\": \"y1\", \"x\": 48.5, \"y\": 1, \"text\": \" \", \"align\": \"left\", \"font\": {\"family\": \"Arial\", \"size\": 14, \"color\": \"black\"}, \"showarrow\": false}, {\"xref\": \"x1\", \"yref\": \"y1\", \"x\": 49.5, \"y\": 1, \"text\": \"1\", \"align\": \"left\", \"font\": {\"family\": \"Arial\", \"size\": 14, \"color\": \"black\"}, \"showarrow\": false}, {\"xref\": \"x2\", \"yref\": \"y2\", \"x\": 0.5, \"y\": 1, \"text\": \"\\uc6d4\", \"align\": \"left\", \"font\": {\"family\": \"Arial\", \"size\": 14, \"color\": \"black\"}, \"showarrow\": false}, {\"xref\": \"x2\", \"yref\": \"y2\", \"x\": 1.5, \"y\": 1, \"text\": \"\\uc5d0\", \"align\": \"left\", \"font\": {\"family\": \"Arial\", \"size\": 14, \"color\": \"black\"}, \"showarrow\": false}, {\"xref\": \"x2\", \"yref\": \"y2\", \"x\": 2.5, \"y\": 1, \"text\": \" \", \"align\": \"left\", \"font\": {\"family\": \"Arial\", \"size\": 14, \"color\": \"black\"}, \"showarrow\": false}, {\"xref\": \"x2\", \"yref\": \"y2\", \"x\": 3.5, \"y\": 1, \"text\": \"\\ub808\", \"align\": \"left\", \"font\": {\"family\": \"Arial\", \"size\": 14, \"color\": \"black\"}, \"showarrow\": false}, {\"xref\": \"x2\", \"yref\": \"y2\", \"x\": 4.5, \"y\": 1, \"text\": \"\\uc54c\", \"align\": \"left\", \"font\": {\"family\": \"Arial\", \"size\": 14, \"color\": \"black\"}, \"showarrow\": false}, {\"xref\": \"x2\", \"yref\": \"y2\", \"x\": 5.5, \"y\": 1, \"text\": \" \", \"align\": \"left\", \"font\": {\"family\": \"Arial\", \"size\": 14, \"color\": \"black\"}, \"showarrow\": false}, {\"xref\": \"x2\", \"yref\": \"y2\", \"x\": 6.5, \"y\": 1, \"text\": \"\\ub9c8\", \"align\": \"left\", \"font\": {\"family\": \"Arial\", \"size\": 14, \"color\": \"black\"}, \"showarrow\": false}, {\"xref\": \"x2\", \"yref\": \"y2\", \"x\": 7.5, \"y\": 1, \"text\": \"\\ub4dc\", \"align\": \"left\", \"font\": {\"family\": \"Arial\", \"size\": 14, \"color\": \"black\"}, \"showarrow\": false}, {\"xref\": \"x2\", \"yref\": \"y2\", \"x\": 8.5, \"y\": 1, \"text\": \"\\ub9ac\", \"align\": \"left\", \"font\": {\"family\": \"Arial\", \"size\": 14, \"color\": \"black\"}, \"showarrow\": false}, {\"xref\": \"x2\", \"yref\": \"y2\", \"x\": 9.5, \"y\": 1, \"text\": \"\\ub4dc\", \"align\": \"left\", \"font\": {\"family\": \"Arial\", \"size\": 14, \"color\": \"black\"}, \"showarrow\": false}, {\"xref\": \"x2\", \"yref\": \"y2\", \"x\": 10.5, \"y\": 1, \"text\": \"\\ub85c\", \"align\": \"left\", \"font\": {\"family\": \"Arial\", \"size\": 14, \"color\": \"black\"}, \"showarrow\": false}, {\"xref\": \"x2\", \"yref\": \"y2\", \"x\": 11.5, \"y\": 1, \"text\": \" \", \"align\": \"left\", \"font\": {\"family\": \"Arial\", \"size\": 14, \"color\": \"black\"}, \"showarrow\": false}, {\"xref\": \"x2\", \"yref\": \"y2\", \"x\": 12.5, \"y\": 1, \"text\": \"\\uc774\", \"align\": \"left\", \"font\": {\"family\": \"Arial\", \"size\": 14, \"color\": \"black\"}, \"showarrow\": false}, {\"xref\": \"x2\", \"yref\": \"y2\", \"x\": 13.5, \"y\": 1, \"text\": \"\\uc801\", \"align\": \"left\", \"font\": {\"family\": \"Arial\", \"size\": 14, \"color\": \"black\"}, \"showarrow\": false}, {\"xref\": \"x2\", \"yref\": \"y2\", \"x\": 14.5, \"y\": 1, \"text\": \"\\ud560\", \"align\": \"left\", \"font\": {\"family\": \"Arial\", \"size\": 14, \"color\": \"black\"}, \"showarrow\": false}, {\"xref\": \"x2\", \"yref\": \"y2\", \"x\": 15.5, \"y\": 1, \"text\": \" \", \"align\": \"left\", \"font\": {\"family\": \"Arial\", \"size\": 14, \"color\": \"black\"}, \"showarrow\": false}, {\"xref\": \"x2\", \"yref\": \"y2\", \"x\": 16.5, \"y\": 1, \"text\": \"\\uc218\", \"align\": \"left\", \"font\": {\"family\": \"Arial\", \"size\": 14, \"color\": \"black\"}, \"showarrow\": false}, {\"xref\": \"x2\", \"yref\": \"y2\", \"x\": 17.5, \"y\": 1, \"text\": \" \", \"align\": \"left\", \"font\": {\"family\": \"Arial\", \"size\": 14, \"color\": \"black\"}, \"showarrow\": false}, {\"xref\": \"x2\", \"yref\": \"y2\", \"x\": 18.5, \"y\": 1, \"text\": \"\\uc788\", \"align\": \"left\", \"font\": {\"family\": \"Arial\", \"size\": 14, \"color\": \"black\"}, \"showarrow\": false}, {\"xref\": \"x2\", \"yref\": \"y2\", \"x\": 19.5, \"y\": 1, \"text\": \"\\ub2e4\", \"align\": \"left\", \"font\": {\"family\": \"Arial\", \"size\": 14, \"color\": \"black\"}, \"showarrow\": false}, {\"xref\": \"x2\", \"yref\": \"y2\", \"x\": 20.5, \"y\": 1, \"text\": \"\\uace0\", \"align\": \"left\", \"font\": {\"family\": \"Arial\", \"size\": 14, \"color\": \"black\"}, \"showarrow\": false}, {\"xref\": \"x2\", \"yref\": \"y2\", \"x\": 21.5, \"y\": 1, \"text\": \" \", \"align\": \"left\", \"font\": {\"family\": \"Arial\", \"size\": 14, \"color\": \"black\"}, \"showarrow\": false}, {\"xref\": \"x2\", \"yref\": \"y2\", \"x\": 22.5, \"y\": 1, \"text\": \"\\uc804\", \"align\": \"left\", \"font\": {\"family\": \"Arial\", \"size\": 14, \"color\": \"black\"}, \"showarrow\": false}, {\"xref\": \"x2\", \"yref\": \"y2\", \"x\": 23.5, \"y\": 1, \"text\": \"\\ud588\", \"align\": \"left\", \"font\": {\"family\": \"Arial\", \"size\": 14, \"color\": \"black\"}, \"showarrow\": false}, {\"xref\": \"x2\", \"yref\": \"y2\", \"x\": 24.5, \"y\": 1, \"text\": \"\\ub2e4\", \"align\": \"left\", \"font\": {\"family\": \"Arial\", \"size\": 14, \"color\": \"black\"}, \"showarrow\": false}, {\"xref\": \"x2\", \"yref\": \"y2\", \"x\": 25.5, \"y\": 1, \"text\": \".\", \"align\": \"left\", \"font\": {\"family\": \"Arial\", \"size\": 14, \"color\": \"black\"}, \"showarrow\": false}], \"height\": 130, \"images\": [{\"source\": \"https://raw.githubusercontent.com/fingeredman/teanaps/master/data/logo/teanaps_logo_no-bg.png\", \"xref\": \"paper\", \"yref\": \"paper\", \"x\": 0.5, \"y\": 0.6, \"sizex\": 0.7, \"sizey\": 0.7, \"xanchor\": \"center\", \"yanchor\": \"center\", \"opacity\": 0.3, \"layer\": \"above\"}]}, {\"showLink\": true, \"linkText\": \"Export to plot.ly\"})});</script>"
      ]
     },
     "metadata": {},
     "output_type": "display_data"
    }
   ],
   "source": [
    "input_text = \"영국 매체 스카이 스포츠는 25일 맨유 미드필더 폴 포그바가 여름 이적시장 실패 후, 1월에 레알 마드리드로 이적할 수 있다고 전했다.\"\n",
    "\n",
    "result = ner.parse(input_text)\n",
    "print(result)\n",
    "result = ner.parse_sentence(input_text)\n",
    "print(result)\n",
    "ner.draw_sentence_weight(input_text)"
   ]
  },
  {
   "cell_type": "code",
   "execution_count": 8,
   "metadata": {},
   "outputs": [
    {
     "name": "stdout",
     "output_type": "stream",
     "text": [
      "[('BERT', 'UN', (0, 4)), ('NLP', 'UN', (10, 13))]\n",
      "<BERT:UN> 발표 후 <NLP:UN> 기술동향에 큰 변화가 생겼습니다.\n"
     ]
    },
    {
     "data": {
      "text/html": [
       "\n",
       "                <script src=\"/static/components/requirejs/require.js\"></script>\n",
       "                <script>\n",
       "                  requirejs.config({\n",
       "                    paths: {\n",
       "                      base: '/static/base',\n",
       "                      plotly: 'https://cdn.plot.ly/plotly-latest.min.js?noext',\n",
       "                    },\n",
       "                  });\n",
       "                </script>\n",
       "                "
      ],
      "text/plain": [
       "<IPython.core.display.HTML object>"
      ]
     },
     "metadata": {},
     "output_type": "display_data"
    },
    {
     "data": {
      "text/html": [
       "\n",
       "                <script src=\"/static/components/requirejs/require.js\"></script>\n",
       "                <script>\n",
       "                  requirejs.config({\n",
       "                    paths: {\n",
       "                      base: '/static/base',\n",
       "                      plotly: 'https://cdn.plot.ly/plotly-latest.min.js?noext',\n",
       "                    },\n",
       "                  });\n",
       "                </script>\n",
       "                "
      ],
      "text/plain": [
       "<IPython.core.display.HTML object>"
      ]
     },
     "metadata": {},
     "output_type": "display_data"
    },
    {
     "data": {
      "application/vnd.plotly.v1+json": {
       "data": [
        {
         "hoverinfo": "text",
         "marker": {
          "color": "rgb(210.41605440930473, 232.70802720465235, 255)"
         },
         "orientation": "h",
         "text": "0.22",
         "type": "bar",
         "width": 0.5,
         "x": [
          2
         ],
         "xaxis": "x1",
         "y": [
          1
         ],
         "yaxis": "y1"
        },
        {
         "hoverinfo": "text",
         "marker": {
          "color": "rgb(161.8278746087177, 208.41393730435885, 255)"
         },
         "orientation": "h",
         "text": "0.47",
         "type": "bar",
         "width": 0.5,
         "x": [
          2
         ],
         "xaxis": "x1",
         "y": [
          1
         ],
         "yaxis": "y1"
        },
        {
         "hoverinfo": "text",
         "marker": {
          "color": "rgb(174.76150327120652, 214.88075163560325, 255)"
         },
         "orientation": "h",
         "text": "0.4",
         "type": "bar",
         "width": 0.5,
         "x": [
          1
         ],
         "xaxis": "x1",
         "y": [
          1
         ],
         "yaxis": "y1"
        },
        {
         "hoverinfo": "text",
         "marker": {
          "color": "rgb(253.42131378227361, 254.2106568911368, 255)"
         },
         "orientation": "h",
         "text": "0.01",
         "type": "bar",
         "width": 0.5,
         "x": [
          3
         ],
         "xaxis": "x1",
         "y": [
          1
         ],
         "yaxis": "y1"
        },
        {
         "hoverinfo": "text",
         "marker": {
          "color": "rgb(253.47374713829834, 254.23687356914917, 255)"
         },
         "orientation": "h",
         "text": "0.01",
         "type": "bar",
         "width": 0.5,
         "x": [
          2
         ],
         "xaxis": "x1",
         "y": [
          1
         ],
         "yaxis": "y1"
        },
        {
         "hoverinfo": "text",
         "marker": {
          "color": "rgb(62.73826709421337, 158.86913354710669, 255)"
         },
         "orientation": "h",
         "text": "0.96",
         "type": "bar",
         "width": 0.5,
         "x": [
          2
         ],
         "xaxis": "x1",
         "y": [
          1
         ],
         "yaxis": "y1"
        },
        {
         "hoverinfo": "text",
         "marker": {
          "color": "rgb(55.0, 155.0, 255)"
         },
         "orientation": "h",
         "text": "1.0",
         "type": "bar",
         "width": 0.5,
         "x": [
          1
         ],
         "xaxis": "x1",
         "y": [
          1
         ],
         "yaxis": "y1"
        },
        {
         "hoverinfo": "text",
         "marker": {
          "color": "rgb(81.10554127124243, 168.05277063562121, 255)"
         },
         "orientation": "h",
         "text": "0.87",
         "type": "bar",
         "width": 0.5,
         "x": [
          1
         ],
         "xaxis": "x1",
         "y": [
          1
         ],
         "yaxis": "y1"
        },
        {
         "hoverinfo": "text",
         "marker": {
          "color": "rgb(209.31921326340097, 232.15960663170048, 255)"
         },
         "orientation": "h",
         "text": "0.23",
         "type": "bar",
         "width": 0.5,
         "x": [
          3
         ],
         "xaxis": "x1",
         "y": [
          1
         ],
         "yaxis": "y1"
        },
        {
         "hoverinfo": "text",
         "marker": {
          "color": "rgb(237.52388260544248, 246.26194130272123, 255)"
         },
         "orientation": "h",
         "text": "0.09",
         "type": "bar",
         "width": 0.5,
         "x": [
          2
         ],
         "xaxis": "x1",
         "y": [
          1
         ],
         "yaxis": "y1"
        },
        {
         "hoverinfo": "text",
         "marker": {
          "color": "rgb(253.3089656730616, 254.1544828365308, 255)"
         },
         "orientation": "h",
         "text": "0.01",
         "type": "bar",
         "width": 0.5,
         "x": [
          1
         ],
         "xaxis": "x1",
         "y": [
          1
         ],
         "yaxis": "y1"
        },
        {
         "hoverinfo": "text",
         "marker": {
          "color": "rgb(253.4952156112369, 254.24760780561846, 255)"
         },
         "orientation": "h",
         "text": "0.01",
         "type": "bar",
         "width": 0.5,
         "x": [
          2
         ],
         "xaxis": "x1",
         "y": [
          1
         ],
         "yaxis": "y1"
        },
        {
         "hoverinfo": "text",
         "marker": {
          "color": "rgb(253.7254774480569, 254.36273872402845, 255)"
         },
         "orientation": "h",
         "text": "0.01",
         "type": "bar",
         "width": 0.5,
         "x": [
          3
         ],
         "xaxis": "x1",
         "y": [
          1
         ],
         "yaxis": "y1"
        },
        {
         "hoverinfo": "text",
         "marker": {
          "color": "rgb(253.23904970957216, 254.11952485478608, 255)"
         },
         "orientation": "h",
         "text": "0.01",
         "type": "bar",
         "width": 0.5,
         "x": [
          1
         ],
         "xaxis": "x1",
         "y": [
          1
         ],
         "yaxis": "y1"
        },
        {
         "hoverinfo": "text",
         "marker": {
          "color": "rgb(253.34237511878666, 254.17118755939333, 255)"
         },
         "orientation": "h",
         "text": "0.01",
         "type": "bar",
         "width": 0.5,
         "x": [
          2
         ],
         "xaxis": "x1",
         "y": [
          1
         ],
         "yaxis": "y1"
        },
        {
         "hoverinfo": "text",
         "marker": {
          "color": "rgb(253.2117509090565, 254.10587545452825, 255)"
         },
         "orientation": "h",
         "text": "0.01",
         "type": "bar",
         "width": 0.5,
         "x": [
          1
         ],
         "xaxis": "x1",
         "y": [
          1
         ],
         "yaxis": "y1"
        },
        {
         "hoverinfo": "text",
         "marker": {
          "color": "rgb(252.98179756121985, 253.9908987806099, 255)"
         },
         "orientation": "h",
         "text": "0.01",
         "type": "bar",
         "width": 0.5,
         "x": [
          3
         ],
         "xaxis": "x1",
         "y": [
          1
         ],
         "yaxis": "y1"
        },
        {
         "hoverinfo": "text",
         "marker": {
          "color": "rgb(252.22223220486313, 253.61111610243157, 255)"
         },
         "orientation": "h",
         "text": "0.01",
         "type": "bar",
         "width": 0.5,
         "x": [
          1
         ],
         "xaxis": "x1",
         "y": [
          1
         ],
         "yaxis": "y1"
        },
        {
         "hoverinfo": "text",
         "marker": {
          "color": "rgb(255, 255, 255)"
         },
         "orientation": "h",
         "text": "",
         "type": "bar",
         "width": 0.5,
         "x": [
          1
         ],
         "xaxis": "x1",
         "y": [
          1
         ],
         "yaxis": "y1"
        },
        {
         "hoverinfo": "text",
         "marker": {
          "color": "rgb(255, 255, 255)"
         },
         "orientation": "h",
         "text": "",
         "type": "bar",
         "width": 0.5,
         "x": [
          1
         ],
         "xaxis": "x1",
         "y": [
          1
         ],
         "yaxis": "y1"
        },
        {
         "hoverinfo": "text",
         "marker": {
          "color": "rgb(255, 255, 255)"
         },
         "orientation": "h",
         "text": "",
         "type": "bar",
         "width": 0.5,
         "x": [
          1
         ],
         "xaxis": "x1",
         "y": [
          1
         ],
         "yaxis": "y1"
        },
        {
         "hoverinfo": "text",
         "marker": {
          "color": "rgb(255, 255, 255)"
         },
         "orientation": "h",
         "text": "",
         "type": "bar",
         "width": 0.5,
         "x": [
          1
         ],
         "xaxis": "x1",
         "y": [
          1
         ],
         "yaxis": "y1"
        },
        {
         "hoverinfo": "text",
         "marker": {
          "color": "rgb(255, 255, 255)"
         },
         "orientation": "h",
         "text": "",
         "type": "bar",
         "width": 0.5,
         "x": [
          1
         ],
         "xaxis": "x1",
         "y": [
          1
         ],
         "yaxis": "y1"
        },
        {
         "hoverinfo": "text",
         "marker": {
          "color": "rgb(255, 255, 255)"
         },
         "orientation": "h",
         "text": "",
         "type": "bar",
         "width": 0.5,
         "x": [
          1
         ],
         "xaxis": "x1",
         "y": [
          1
         ],
         "yaxis": "y1"
        },
        {
         "hoverinfo": "text",
         "marker": {
          "color": "rgb(255, 255, 255)"
         },
         "orientation": "h",
         "text": "",
         "type": "bar",
         "width": 0.5,
         "x": [
          1
         ],
         "xaxis": "x1",
         "y": [
          1
         ],
         "yaxis": "y1"
        },
        {
         "hoverinfo": "text",
         "marker": {
          "color": "rgb(255, 255, 255)"
         },
         "orientation": "h",
         "text": "",
         "type": "bar",
         "width": 0.5,
         "x": [
          1
         ],
         "xaxis": "x1",
         "y": [
          1
         ],
         "yaxis": "y1"
        },
        {
         "hoverinfo": "text",
         "marker": {
          "color": "rgb(255, 255, 255)"
         },
         "orientation": "h",
         "text": "",
         "type": "bar",
         "width": 0.5,
         "x": [
          1
         ],
         "xaxis": "x1",
         "y": [
          1
         ],
         "yaxis": "y1"
        },
        {
         "hoverinfo": "text",
         "marker": {
          "color": "rgb(255, 255, 255)"
         },
         "orientation": "h",
         "text": "",
         "type": "bar",
         "width": 0.5,
         "x": [
          1
         ],
         "xaxis": "x1",
         "y": [
          1
         ],
         "yaxis": "y1"
        },
        {
         "hoverinfo": "text",
         "marker": {
          "color": "rgb(255, 255, 255)"
         },
         "orientation": "h",
         "text": "",
         "type": "bar",
         "width": 0.5,
         "x": [
          1
         ],
         "xaxis": "x1",
         "y": [
          1
         ],
         "yaxis": "y1"
        },
        {
         "hoverinfo": "text",
         "marker": {
          "color": "rgb(255, 255, 255)"
         },
         "orientation": "h",
         "text": "",
         "type": "bar",
         "width": 0.5,
         "x": [
          1
         ],
         "xaxis": "x1",
         "y": [
          1
         ],
         "yaxis": "y1"
        },
        {
         "hoverinfo": "text",
         "marker": {
          "color": "rgb(255, 255, 255)"
         },
         "orientation": "h",
         "text": "",
         "type": "bar",
         "width": 0.5,
         "x": [
          1
         ],
         "xaxis": "x1",
         "y": [
          1
         ],
         "yaxis": "y1"
        },
        {
         "hoverinfo": "text",
         "marker": {
          "color": "rgb(255, 255, 255)"
         },
         "orientation": "h",
         "text": "",
         "type": "bar",
         "width": 0.5,
         "x": [
          1
         ],
         "xaxis": "x1",
         "y": [
          1
         ],
         "yaxis": "y1"
        },
        {
         "hoverinfo": "text",
         "marker": {
          "color": "rgb(255, 255, 255)"
         },
         "orientation": "h",
         "text": "",
         "type": "bar",
         "width": 0.5,
         "x": [
          1
         ],
         "xaxis": "x1",
         "y": [
          1
         ],
         "yaxis": "y1"
        },
        {
         "hoverinfo": "text",
         "marker": {
          "color": "rgb(255, 255, 255)"
         },
         "orientation": "h",
         "text": "",
         "type": "bar",
         "width": 0.5,
         "x": [
          1
         ],
         "xaxis": "x1",
         "y": [
          1
         ],
         "yaxis": "y1"
        },
        {
         "hoverinfo": "text",
         "marker": {
          "color": "rgb(255, 255, 255)"
         },
         "orientation": "h",
         "text": "",
         "type": "bar",
         "width": 0.5,
         "x": [
          1
         ],
         "xaxis": "x1",
         "y": [
          1
         ],
         "yaxis": "y1"
        }
       ],
       "layout": {
        "annotations": [
         {
          "align": "left",
          "font": {
           "color": "black",
           "family": "Arial",
           "size": 14
          },
          "showarrow": false,
          "text": " ",
          "x": 0.5,
          "xref": "x1",
          "y": 1,
          "yref": "y1"
         },
         {
          "align": "left",
          "font": {
           "color": "black",
           "family": "Arial",
           "size": 14
          },
          "showarrow": false,
          "text": "B",
          "x": 1.5,
          "xref": "x1",
          "y": 1,
          "yref": "y1"
         },
         {
          "align": "left",
          "font": {
           "color": "black",
           "family": "Arial",
           "size": 14
          },
          "showarrow": false,
          "text": "E",
          "x": 2.5,
          "xref": "x1",
          "y": 1,
          "yref": "y1"
         },
         {
          "align": "left",
          "font": {
           "color": "black",
           "family": "Arial",
           "size": 14
          },
          "showarrow": false,
          "text": "R",
          "x": 3.5,
          "xref": "x1",
          "y": 1,
          "yref": "y1"
         },
         {
          "align": "left",
          "font": {
           "color": "black",
           "family": "Arial",
           "size": 14
          },
          "showarrow": false,
          "text": "T",
          "x": 4.5,
          "xref": "x1",
          "y": 1,
          "yref": "y1"
         },
         {
          "align": "left",
          "font": {
           "color": "black",
           "family": "Arial",
           "size": 14
          },
          "showarrow": false,
          "text": " ",
          "x": 5.5,
          "xref": "x1",
          "y": 1,
          "yref": "y1"
         },
         {
          "align": "left",
          "font": {
           "color": "black",
           "family": "Arial",
           "size": 14
          },
          "showarrow": false,
          "text": "발",
          "x": 6.5,
          "xref": "x1",
          "y": 1,
          "yref": "y1"
         },
         {
          "align": "left",
          "font": {
           "color": "black",
           "family": "Arial",
           "size": 14
          },
          "showarrow": false,
          "text": "표",
          "x": 7.5,
          "xref": "x1",
          "y": 1,
          "yref": "y1"
         },
         {
          "align": "left",
          "font": {
           "color": "black",
           "family": "Arial",
           "size": 14
          },
          "showarrow": false,
          "text": " ",
          "x": 8.5,
          "xref": "x1",
          "y": 1,
          "yref": "y1"
         },
         {
          "align": "left",
          "font": {
           "color": "black",
           "family": "Arial",
           "size": 14
          },
          "showarrow": false,
          "text": "후",
          "x": 9.5,
          "xref": "x1",
          "y": 1,
          "yref": "y1"
         },
         {
          "align": "left",
          "font": {
           "color": "black",
           "family": "Arial",
           "size": 14
          },
          "showarrow": false,
          "text": " ",
          "x": 10.5,
          "xref": "x1",
          "y": 1,
          "yref": "y1"
         },
         {
          "align": "left",
          "font": {
           "color": "black",
           "family": "Arial",
           "size": 14
          },
          "showarrow": false,
          "text": "N",
          "x": 11.5,
          "xref": "x1",
          "y": 1,
          "yref": "y1"
         },
         {
          "align": "left",
          "font": {
           "color": "black",
           "family": "Arial",
           "size": 14
          },
          "showarrow": false,
          "text": "L",
          "x": 12.5,
          "xref": "x1",
          "y": 1,
          "yref": "y1"
         },
         {
          "align": "left",
          "font": {
           "color": "black",
           "family": "Arial",
           "size": 14
          },
          "showarrow": false,
          "text": "P",
          "x": 13.5,
          "xref": "x1",
          "y": 1,
          "yref": "y1"
         },
         {
          "align": "left",
          "font": {
           "color": "black",
           "family": "Arial",
           "size": 14
          },
          "showarrow": false,
          "text": " ",
          "x": 14.5,
          "xref": "x1",
          "y": 1,
          "yref": "y1"
         },
         {
          "align": "left",
          "font": {
           "color": "black",
           "family": "Arial",
           "size": 14
          },
          "showarrow": false,
          "text": "기",
          "x": 15.5,
          "xref": "x1",
          "y": 1,
          "yref": "y1"
         },
         {
          "align": "left",
          "font": {
           "color": "black",
           "family": "Arial",
           "size": 14
          },
          "showarrow": false,
          "text": "술",
          "x": 16.5,
          "xref": "x1",
          "y": 1,
          "yref": "y1"
         },
         {
          "align": "left",
          "font": {
           "color": "black",
           "family": "Arial",
           "size": 14
          },
          "showarrow": false,
          "text": "동",
          "x": 17.5,
          "xref": "x1",
          "y": 1,
          "yref": "y1"
         },
         {
          "align": "left",
          "font": {
           "color": "black",
           "family": "Arial",
           "size": 14
          },
          "showarrow": false,
          "text": "향",
          "x": 18.5,
          "xref": "x1",
          "y": 1,
          "yref": "y1"
         },
         {
          "align": "left",
          "font": {
           "color": "black",
           "family": "Arial",
           "size": 14
          },
          "showarrow": false,
          "text": "에",
          "x": 19.5,
          "xref": "x1",
          "y": 1,
          "yref": "y1"
         },
         {
          "align": "left",
          "font": {
           "color": "black",
           "family": "Arial",
           "size": 14
          },
          "showarrow": false,
          "text": " ",
          "x": 20.5,
          "xref": "x1",
          "y": 1,
          "yref": "y1"
         },
         {
          "align": "left",
          "font": {
           "color": "black",
           "family": "Arial",
           "size": 14
          },
          "showarrow": false,
          "text": "큰",
          "x": 21.5,
          "xref": "x1",
          "y": 1,
          "yref": "y1"
         },
         {
          "align": "left",
          "font": {
           "color": "black",
           "family": "Arial",
           "size": 14
          },
          "showarrow": false,
          "text": " ",
          "x": 22.5,
          "xref": "x1",
          "y": 1,
          "yref": "y1"
         },
         {
          "align": "left",
          "font": {
           "color": "black",
           "family": "Arial",
           "size": 14
          },
          "showarrow": false,
          "text": "변",
          "x": 23.5,
          "xref": "x1",
          "y": 1,
          "yref": "y1"
         },
         {
          "align": "left",
          "font": {
           "color": "black",
           "family": "Arial",
           "size": 14
          },
          "showarrow": false,
          "text": "화",
          "x": 24.5,
          "xref": "x1",
          "y": 1,
          "yref": "y1"
         },
         {
          "align": "left",
          "font": {
           "color": "black",
           "family": "Arial",
           "size": 14
          },
          "showarrow": false,
          "text": "가",
          "x": 25.5,
          "xref": "x1",
          "y": 1,
          "yref": "y1"
         },
         {
          "align": "left",
          "font": {
           "color": "black",
           "family": "Arial",
           "size": 14
          },
          "showarrow": false,
          "text": " ",
          "x": 26.5,
          "xref": "x1",
          "y": 1,
          "yref": "y1"
         },
         {
          "align": "left",
          "font": {
           "color": "black",
           "family": "Arial",
           "size": 14
          },
          "showarrow": false,
          "text": "생",
          "x": 27.5,
          "xref": "x1",
          "y": 1,
          "yref": "y1"
         },
         {
          "align": "left",
          "font": {
           "color": "black",
           "family": "Arial",
           "size": 14
          },
          "showarrow": false,
          "text": "겼",
          "x": 28.5,
          "xref": "x1",
          "y": 1,
          "yref": "y1"
         },
         {
          "align": "left",
          "font": {
           "color": "black",
           "family": "Arial",
           "size": 14
          },
          "showarrow": false,
          "text": "습",
          "x": 29.5,
          "xref": "x1",
          "y": 1,
          "yref": "y1"
         },
         {
          "align": "left",
          "font": {
           "color": "black",
           "family": "Arial",
           "size": 14
          },
          "showarrow": false,
          "text": "니",
          "x": 30.5,
          "xref": "x1",
          "y": 1,
          "yref": "y1"
         },
         {
          "align": "left",
          "font": {
           "color": "black",
           "family": "Arial",
           "size": 14
          },
          "showarrow": false,
          "text": "다",
          "x": 31.5,
          "xref": "x1",
          "y": 1,
          "yref": "y1"
         },
         {
          "align": "left",
          "font": {
           "color": "black",
           "family": "Arial",
           "size": 14
          },
          "showarrow": false,
          "text": ".",
          "x": 32.5,
          "xref": "x1",
          "y": 1,
          "yref": "y1"
         }
        ],
        "barmode": "stack",
        "height": 80,
        "images": [
         {
          "layer": "above",
          "opacity": 0.3,
          "sizex": 0.7,
          "sizey": 0.7,
          "source": "https://raw.githubusercontent.com/fingeredman/teanaps/master/data/logo/teanaps_logo_no-bg.png",
          "x": 0.5,
          "xanchor": "center",
          "xref": "paper",
          "y": 0.6,
          "yanchor": "center",
          "yref": "paper"
         }
        ],
        "margin": {
         "b": 30,
         "l": 20,
         "r": 20,
         "t": 10
        },
        "showlegend": false,
        "xaxis1": {
         "anchor": "y1",
         "domain": [
          0,
          1
         ],
         "showgrid": false,
         "showline": false,
         "showticklabels": false,
         "zeroline": false
        },
        "yaxis1": {
         "anchor": "x1",
         "domain": [
          0,
          1
         ],
         "showgrid": false,
         "showline": false,
         "showticklabels": false,
         "zeroline": false
        }
       }
      },
      "text/html": [
       "<div id=\"6e0136a5-5565-4231-b812-5cc82544430c\" style=\"height: 80px; width: 100%;\" class=\"plotly-graph-div\"></div><script type=\"text/javascript\">require([\"plotly\"], function(Plotly) { window.PLOTLYENV=window.PLOTLYENV || {};window.PLOTLYENV.BASE_URL=\"https://plot.ly\";Plotly.newPlot(\"6e0136a5-5565-4231-b812-5cc82544430c\", [{\"type\": \"bar\", \"y\": [1], \"x\": [2], \"orientation\": \"h\", \"width\": 0.5, \"text\": \"0.22\", \"hoverinfo\": \"text\", \"marker\": {\"color\": \"rgb(210.41605440930473, 232.70802720465235, 255)\"}, \"xaxis\": \"x1\", \"yaxis\": \"y1\"}, {\"type\": \"bar\", \"y\": [1], \"x\": [2], \"orientation\": \"h\", \"width\": 0.5, \"text\": \"0.47\", \"hoverinfo\": \"text\", \"marker\": {\"color\": \"rgb(161.8278746087177, 208.41393730435885, 255)\"}, \"xaxis\": \"x1\", \"yaxis\": \"y1\"}, {\"type\": \"bar\", \"y\": [1], \"x\": [1], \"orientation\": \"h\", \"width\": 0.5, \"text\": \"0.4\", \"hoverinfo\": \"text\", \"marker\": {\"color\": \"rgb(174.76150327120652, 214.88075163560325, 255)\"}, \"xaxis\": \"x1\", \"yaxis\": \"y1\"}, {\"type\": \"bar\", \"y\": [1], \"x\": [3], \"orientation\": \"h\", \"width\": 0.5, \"text\": \"0.01\", \"hoverinfo\": \"text\", \"marker\": {\"color\": \"rgb(253.42131378227361, 254.2106568911368, 255)\"}, \"xaxis\": \"x1\", \"yaxis\": \"y1\"}, {\"type\": \"bar\", \"y\": [1], \"x\": [2], \"orientation\": \"h\", \"width\": 0.5, \"text\": \"0.01\", \"hoverinfo\": \"text\", \"marker\": {\"color\": \"rgb(253.47374713829834, 254.23687356914917, 255)\"}, \"xaxis\": \"x1\", \"yaxis\": \"y1\"}, {\"type\": \"bar\", \"y\": [1], \"x\": [2], \"orientation\": \"h\", \"width\": 0.5, \"text\": \"0.96\", \"hoverinfo\": \"text\", \"marker\": {\"color\": \"rgb(62.73826709421337, 158.86913354710669, 255)\"}, \"xaxis\": \"x1\", \"yaxis\": \"y1\"}, {\"type\": \"bar\", \"y\": [1], \"x\": [1], \"orientation\": \"h\", \"width\": 0.5, \"text\": \"1.0\", \"hoverinfo\": \"text\", \"marker\": {\"color\": \"rgb(55.0, 155.0, 255)\"}, \"xaxis\": \"x1\", \"yaxis\": \"y1\"}, {\"type\": \"bar\", \"y\": [1], \"x\": [1], \"orientation\": \"h\", \"width\": 0.5, \"text\": \"0.87\", \"hoverinfo\": \"text\", \"marker\": {\"color\": \"rgb(81.10554127124243, 168.05277063562121, 255)\"}, \"xaxis\": \"x1\", \"yaxis\": \"y1\"}, {\"type\": \"bar\", \"y\": [1], \"x\": [3], \"orientation\": \"h\", \"width\": 0.5, \"text\": \"0.23\", \"hoverinfo\": \"text\", \"marker\": {\"color\": \"rgb(209.31921326340097, 232.15960663170048, 255)\"}, \"xaxis\": \"x1\", \"yaxis\": \"y1\"}, {\"type\": \"bar\", \"y\": [1], \"x\": [2], \"orientation\": \"h\", \"width\": 0.5, \"text\": \"0.09\", \"hoverinfo\": \"text\", \"marker\": {\"color\": \"rgb(237.52388260544248, 246.26194130272123, 255)\"}, \"xaxis\": \"x1\", \"yaxis\": \"y1\"}, {\"type\": \"bar\", \"y\": [1], \"x\": [1], \"orientation\": \"h\", \"width\": 0.5, \"text\": \"0.01\", \"hoverinfo\": \"text\", \"marker\": {\"color\": \"rgb(253.3089656730616, 254.1544828365308, 255)\"}, \"xaxis\": \"x1\", \"yaxis\": \"y1\"}, {\"type\": \"bar\", \"y\": [1], \"x\": [2], \"orientation\": \"h\", \"width\": 0.5, \"text\": \"0.01\", \"hoverinfo\": \"text\", \"marker\": {\"color\": \"rgb(253.4952156112369, 254.24760780561846, 255)\"}, \"xaxis\": \"x1\", \"yaxis\": \"y1\"}, {\"type\": \"bar\", \"y\": [1], \"x\": [3], \"orientation\": \"h\", \"width\": 0.5, \"text\": \"0.01\", \"hoverinfo\": \"text\", \"marker\": {\"color\": \"rgb(253.7254774480569, 254.36273872402845, 255)\"}, \"xaxis\": \"x1\", \"yaxis\": \"y1\"}, {\"type\": \"bar\", \"y\": [1], \"x\": [1], \"orientation\": \"h\", \"width\": 0.5, \"text\": \"0.01\", \"hoverinfo\": \"text\", \"marker\": {\"color\": \"rgb(253.23904970957216, 254.11952485478608, 255)\"}, \"xaxis\": \"x1\", \"yaxis\": \"y1\"}, {\"type\": \"bar\", \"y\": [1], \"x\": [2], \"orientation\": \"h\", \"width\": 0.5, \"text\": \"0.01\", \"hoverinfo\": \"text\", \"marker\": {\"color\": \"rgb(253.34237511878666, 254.17118755939333, 255)\"}, \"xaxis\": \"x1\", \"yaxis\": \"y1\"}, {\"type\": \"bar\", \"y\": [1], \"x\": [1], \"orientation\": \"h\", \"width\": 0.5, \"text\": \"0.01\", \"hoverinfo\": \"text\", \"marker\": {\"color\": \"rgb(253.2117509090565, 254.10587545452825, 255)\"}, \"xaxis\": \"x1\", \"yaxis\": \"y1\"}, {\"type\": \"bar\", \"y\": [1], \"x\": [3], \"orientation\": \"h\", \"width\": 0.5, \"text\": \"0.01\", \"hoverinfo\": \"text\", \"marker\": {\"color\": \"rgb(252.98179756121985, 253.9908987806099, 255)\"}, \"xaxis\": \"x1\", \"yaxis\": \"y1\"}, {\"type\": \"bar\", \"y\": [1], \"x\": [1], \"orientation\": \"h\", \"width\": 0.5, \"text\": \"0.01\", \"hoverinfo\": \"text\", \"marker\": {\"color\": \"rgb(252.22223220486313, 253.61111610243157, 255)\"}, \"xaxis\": \"x1\", \"yaxis\": \"y1\"}, {\"type\": \"bar\", \"y\": [1], \"x\": [1], \"orientation\": \"h\", \"width\": 0.5, \"text\": \"\", \"hoverinfo\": \"text\", \"marker\": {\"color\": \"rgb(255, 255, 255)\"}, \"xaxis\": \"x1\", \"yaxis\": \"y1\"}, {\"type\": \"bar\", \"y\": [1], \"x\": [1], \"orientation\": \"h\", \"width\": 0.5, \"text\": \"\", \"hoverinfo\": \"text\", \"marker\": {\"color\": \"rgb(255, 255, 255)\"}, \"xaxis\": \"x1\", \"yaxis\": \"y1\"}, {\"type\": \"bar\", \"y\": [1], \"x\": [1], \"orientation\": \"h\", \"width\": 0.5, \"text\": \"\", \"hoverinfo\": \"text\", \"marker\": {\"color\": \"rgb(255, 255, 255)\"}, \"xaxis\": \"x1\", \"yaxis\": \"y1\"}, {\"type\": \"bar\", \"y\": [1], \"x\": [1], \"orientation\": \"h\", \"width\": 0.5, \"text\": \"\", \"hoverinfo\": \"text\", \"marker\": {\"color\": \"rgb(255, 255, 255)\"}, \"xaxis\": \"x1\", \"yaxis\": \"y1\"}, {\"type\": \"bar\", \"y\": [1], \"x\": [1], \"orientation\": \"h\", \"width\": 0.5, \"text\": \"\", \"hoverinfo\": \"text\", \"marker\": {\"color\": \"rgb(255, 255, 255)\"}, \"xaxis\": \"x1\", \"yaxis\": \"y1\"}, {\"type\": \"bar\", \"y\": [1], \"x\": [1], \"orientation\": \"h\", \"width\": 0.5, \"text\": \"\", \"hoverinfo\": \"text\", \"marker\": {\"color\": \"rgb(255, 255, 255)\"}, \"xaxis\": \"x1\", \"yaxis\": \"y1\"}, {\"type\": \"bar\", \"y\": [1], \"x\": [1], \"orientation\": \"h\", \"width\": 0.5, \"text\": \"\", \"hoverinfo\": \"text\", \"marker\": {\"color\": \"rgb(255, 255, 255)\"}, \"xaxis\": \"x1\", \"yaxis\": \"y1\"}, {\"type\": \"bar\", \"y\": [1], \"x\": [1], \"orientation\": \"h\", \"width\": 0.5, \"text\": \"\", \"hoverinfo\": \"text\", \"marker\": {\"color\": \"rgb(255, 255, 255)\"}, \"xaxis\": \"x1\", \"yaxis\": \"y1\"}, {\"type\": \"bar\", \"y\": [1], \"x\": [1], \"orientation\": \"h\", \"width\": 0.5, \"text\": \"\", \"hoverinfo\": \"text\", \"marker\": {\"color\": \"rgb(255, 255, 255)\"}, \"xaxis\": \"x1\", \"yaxis\": \"y1\"}, {\"type\": \"bar\", \"y\": [1], \"x\": [1], \"orientation\": \"h\", \"width\": 0.5, \"text\": \"\", \"hoverinfo\": \"text\", \"marker\": {\"color\": \"rgb(255, 255, 255)\"}, \"xaxis\": \"x1\", \"yaxis\": \"y1\"}, {\"type\": \"bar\", \"y\": [1], \"x\": [1], \"orientation\": \"h\", \"width\": 0.5, \"text\": \"\", \"hoverinfo\": \"text\", \"marker\": {\"color\": \"rgb(255, 255, 255)\"}, \"xaxis\": \"x1\", \"yaxis\": \"y1\"}, {\"type\": \"bar\", \"y\": [1], \"x\": [1], \"orientation\": \"h\", \"width\": 0.5, \"text\": \"\", \"hoverinfo\": \"text\", \"marker\": {\"color\": \"rgb(255, 255, 255)\"}, \"xaxis\": \"x1\", \"yaxis\": \"y1\"}, {\"type\": \"bar\", \"y\": [1], \"x\": [1], \"orientation\": \"h\", \"width\": 0.5, \"text\": \"\", \"hoverinfo\": \"text\", \"marker\": {\"color\": \"rgb(255, 255, 255)\"}, \"xaxis\": \"x1\", \"yaxis\": \"y1\"}, {\"type\": \"bar\", \"y\": [1], \"x\": [1], \"orientation\": \"h\", \"width\": 0.5, \"text\": \"\", \"hoverinfo\": \"text\", \"marker\": {\"color\": \"rgb(255, 255, 255)\"}, \"xaxis\": \"x1\", \"yaxis\": \"y1\"}, {\"type\": \"bar\", \"y\": [1], \"x\": [1], \"orientation\": \"h\", \"width\": 0.5, \"text\": \"\", \"hoverinfo\": \"text\", \"marker\": {\"color\": \"rgb(255, 255, 255)\"}, \"xaxis\": \"x1\", \"yaxis\": \"y1\"}, {\"type\": \"bar\", \"y\": [1], \"x\": [1], \"orientation\": \"h\", \"width\": 0.5, \"text\": \"\", \"hoverinfo\": \"text\", \"marker\": {\"color\": \"rgb(255, 255, 255)\"}, \"xaxis\": \"x1\", \"yaxis\": \"y1\"}, {\"type\": \"bar\", \"y\": [1], \"x\": [1], \"orientation\": \"h\", \"width\": 0.5, \"text\": \"\", \"hoverinfo\": \"text\", \"marker\": {\"color\": \"rgb(255, 255, 255)\"}, \"xaxis\": \"x1\", \"yaxis\": \"y1\"}], {\"xaxis1\": {\"domain\": [0.0, 1.0], \"anchor\": \"y1\", \"showgrid\": false, \"showline\": false, \"showticklabels\": false, \"zeroline\": false}, \"yaxis1\": {\"domain\": [0.0, 1.0], \"anchor\": \"x1\", \"showgrid\": false, \"showline\": false, \"showticklabels\": false, \"zeroline\": false}, \"barmode\": \"stack\", \"showlegend\": false, \"margin\": {\"b\": 30, \"l\": 20, \"r\": 20, \"t\": 10}, \"annotations\": [{\"xref\": \"x1\", \"yref\": \"y1\", \"x\": 0.5, \"y\": 1, \"text\": \" \", \"align\": \"left\", \"font\": {\"family\": \"Arial\", \"size\": 14, \"color\": \"black\"}, \"showarrow\": false}, {\"xref\": \"x1\", \"yref\": \"y1\", \"x\": 1.5, \"y\": 1, \"text\": \"B\", \"align\": \"left\", \"font\": {\"family\": \"Arial\", \"size\": 14, \"color\": \"black\"}, \"showarrow\": false}, {\"xref\": \"x1\", \"yref\": \"y1\", \"x\": 2.5, \"y\": 1, \"text\": \"E\", \"align\": \"left\", \"font\": {\"family\": \"Arial\", \"size\": 14, \"color\": \"black\"}, \"showarrow\": false}, {\"xref\": \"x1\", \"yref\": \"y1\", \"x\": 3.5, \"y\": 1, \"text\": \"R\", \"align\": \"left\", \"font\": {\"family\": \"Arial\", \"size\": 14, \"color\": \"black\"}, \"showarrow\": false}, {\"xref\": \"x1\", \"yref\": \"y1\", \"x\": 4.5, \"y\": 1, \"text\": \"T\", \"align\": \"left\", \"font\": {\"family\": \"Arial\", \"size\": 14, \"color\": \"black\"}, \"showarrow\": false}, {\"xref\": \"x1\", \"yref\": \"y1\", \"x\": 5.5, \"y\": 1, \"text\": \" \", \"align\": \"left\", \"font\": {\"family\": \"Arial\", \"size\": 14, \"color\": \"black\"}, \"showarrow\": false}, {\"xref\": \"x1\", \"yref\": \"y1\", \"x\": 6.5, \"y\": 1, \"text\": \"\\ubc1c\", \"align\": \"left\", \"font\": {\"family\": \"Arial\", \"size\": 14, \"color\": \"black\"}, \"showarrow\": false}, {\"xref\": \"x1\", \"yref\": \"y1\", \"x\": 7.5, \"y\": 1, \"text\": \"\\ud45c\", \"align\": \"left\", \"font\": {\"family\": \"Arial\", \"size\": 14, \"color\": \"black\"}, \"showarrow\": false}, {\"xref\": \"x1\", \"yref\": \"y1\", \"x\": 8.5, \"y\": 1, \"text\": \" \", \"align\": \"left\", \"font\": {\"family\": \"Arial\", \"size\": 14, \"color\": \"black\"}, \"showarrow\": false}, {\"xref\": \"x1\", \"yref\": \"y1\", \"x\": 9.5, \"y\": 1, \"text\": \"\\ud6c4\", \"align\": \"left\", \"font\": {\"family\": \"Arial\", \"size\": 14, \"color\": \"black\"}, \"showarrow\": false}, {\"xref\": \"x1\", \"yref\": \"y1\", \"x\": 10.5, \"y\": 1, \"text\": \" \", \"align\": \"left\", \"font\": {\"family\": \"Arial\", \"size\": 14, \"color\": \"black\"}, \"showarrow\": false}, {\"xref\": \"x1\", \"yref\": \"y1\", \"x\": 11.5, \"y\": 1, \"text\": \"N\", \"align\": \"left\", \"font\": {\"family\": \"Arial\", \"size\": 14, \"color\": \"black\"}, \"showarrow\": false}, {\"xref\": \"x1\", \"yref\": \"y1\", \"x\": 12.5, \"y\": 1, \"text\": \"L\", \"align\": \"left\", \"font\": {\"family\": \"Arial\", \"size\": 14, \"color\": \"black\"}, \"showarrow\": false}, {\"xref\": \"x1\", \"yref\": \"y1\", \"x\": 13.5, \"y\": 1, \"text\": \"P\", \"align\": \"left\", \"font\": {\"family\": \"Arial\", \"size\": 14, \"color\": \"black\"}, \"showarrow\": false}, {\"xref\": \"x1\", \"yref\": \"y1\", \"x\": 14.5, \"y\": 1, \"text\": \" \", \"align\": \"left\", \"font\": {\"family\": \"Arial\", \"size\": 14, \"color\": \"black\"}, \"showarrow\": false}, {\"xref\": \"x1\", \"yref\": \"y1\", \"x\": 15.5, \"y\": 1, \"text\": \"\\uae30\", \"align\": \"left\", \"font\": {\"family\": \"Arial\", \"size\": 14, \"color\": \"black\"}, \"showarrow\": false}, {\"xref\": \"x1\", \"yref\": \"y1\", \"x\": 16.5, \"y\": 1, \"text\": \"\\uc220\", \"align\": \"left\", \"font\": {\"family\": \"Arial\", \"size\": 14, \"color\": \"black\"}, \"showarrow\": false}, {\"xref\": \"x1\", \"yref\": \"y1\", \"x\": 17.5, \"y\": 1, \"text\": \"\\ub3d9\", \"align\": \"left\", \"font\": {\"family\": \"Arial\", \"size\": 14, \"color\": \"black\"}, \"showarrow\": false}, {\"xref\": \"x1\", \"yref\": \"y1\", \"x\": 18.5, \"y\": 1, \"text\": \"\\ud5a5\", \"align\": \"left\", \"font\": {\"family\": \"Arial\", \"size\": 14, \"color\": \"black\"}, \"showarrow\": false}, {\"xref\": \"x1\", \"yref\": \"y1\", \"x\": 19.5, \"y\": 1, \"text\": \"\\uc5d0\", \"align\": \"left\", \"font\": {\"family\": \"Arial\", \"size\": 14, \"color\": \"black\"}, \"showarrow\": false}, {\"xref\": \"x1\", \"yref\": \"y1\", \"x\": 20.5, \"y\": 1, \"text\": \" \", \"align\": \"left\", \"font\": {\"family\": \"Arial\", \"size\": 14, \"color\": \"black\"}, \"showarrow\": false}, {\"xref\": \"x1\", \"yref\": \"y1\", \"x\": 21.5, \"y\": 1, \"text\": \"\\ud070\", \"align\": \"left\", \"font\": {\"family\": \"Arial\", \"size\": 14, \"color\": \"black\"}, \"showarrow\": false}, {\"xref\": \"x1\", \"yref\": \"y1\", \"x\": 22.5, \"y\": 1, \"text\": \" \", \"align\": \"left\", \"font\": {\"family\": \"Arial\", \"size\": 14, \"color\": \"black\"}, \"showarrow\": false}, {\"xref\": \"x1\", \"yref\": \"y1\", \"x\": 23.5, \"y\": 1, \"text\": \"\\ubcc0\", \"align\": \"left\", \"font\": {\"family\": \"Arial\", \"size\": 14, \"color\": \"black\"}, \"showarrow\": false}, {\"xref\": \"x1\", \"yref\": \"y1\", \"x\": 24.5, \"y\": 1, \"text\": \"\\ud654\", \"align\": \"left\", \"font\": {\"family\": \"Arial\", \"size\": 14, \"color\": \"black\"}, \"showarrow\": false}, {\"xref\": \"x1\", \"yref\": \"y1\", \"x\": 25.5, \"y\": 1, \"text\": \"\\uac00\", \"align\": \"left\", \"font\": {\"family\": \"Arial\", \"size\": 14, \"color\": \"black\"}, \"showarrow\": false}, {\"xref\": \"x1\", \"yref\": \"y1\", \"x\": 26.5, \"y\": 1, \"text\": \" \", \"align\": \"left\", \"font\": {\"family\": \"Arial\", \"size\": 14, \"color\": \"black\"}, \"showarrow\": false}, {\"xref\": \"x1\", \"yref\": \"y1\", \"x\": 27.5, \"y\": 1, \"text\": \"\\uc0dd\", \"align\": \"left\", \"font\": {\"family\": \"Arial\", \"size\": 14, \"color\": \"black\"}, \"showarrow\": false}, {\"xref\": \"x1\", \"yref\": \"y1\", \"x\": 28.5, \"y\": 1, \"text\": \"\\uacbc\", \"align\": \"left\", \"font\": {\"family\": \"Arial\", \"size\": 14, \"color\": \"black\"}, \"showarrow\": false}, {\"xref\": \"x1\", \"yref\": \"y1\", \"x\": 29.5, \"y\": 1, \"text\": \"\\uc2b5\", \"align\": \"left\", \"font\": {\"family\": \"Arial\", \"size\": 14, \"color\": \"black\"}, \"showarrow\": false}, {\"xref\": \"x1\", \"yref\": \"y1\", \"x\": 30.5, \"y\": 1, \"text\": \"\\ub2c8\", \"align\": \"left\", \"font\": {\"family\": \"Arial\", \"size\": 14, \"color\": \"black\"}, \"showarrow\": false}, {\"xref\": \"x1\", \"yref\": \"y1\", \"x\": 31.5, \"y\": 1, \"text\": \"\\ub2e4\", \"align\": \"left\", \"font\": {\"family\": \"Arial\", \"size\": 14, \"color\": \"black\"}, \"showarrow\": false}, {\"xref\": \"x1\", \"yref\": \"y1\", \"x\": 32.5, \"y\": 1, \"text\": \".\", \"align\": \"left\", \"font\": {\"family\": \"Arial\", \"size\": 14, \"color\": \"black\"}, \"showarrow\": false}], \"height\": 80, \"images\": [{\"source\": \"https://raw.githubusercontent.com/fingeredman/teanaps/master/data/logo/teanaps_logo_no-bg.png\", \"xref\": \"paper\", \"yref\": \"paper\", \"x\": 0.5, \"y\": 0.6, \"sizex\": 0.7, \"sizey\": 0.7, \"xanchor\": \"center\", \"yanchor\": \"center\", \"opacity\": 0.3, \"layer\": \"above\"}]}, {\"showLink\": true, \"linkText\": \"Export to plot.ly\"})});</script>"
      ],
      "text/vnd.plotly.v1+html": [
       "<div id=\"6e0136a5-5565-4231-b812-5cc82544430c\" style=\"height: 80px; width: 100%;\" class=\"plotly-graph-div\"></div><script type=\"text/javascript\">require([\"plotly\"], function(Plotly) { window.PLOTLYENV=window.PLOTLYENV || {};window.PLOTLYENV.BASE_URL=\"https://plot.ly\";Plotly.newPlot(\"6e0136a5-5565-4231-b812-5cc82544430c\", [{\"type\": \"bar\", \"y\": [1], \"x\": [2], \"orientation\": \"h\", \"width\": 0.5, \"text\": \"0.22\", \"hoverinfo\": \"text\", \"marker\": {\"color\": \"rgb(210.41605440930473, 232.70802720465235, 255)\"}, \"xaxis\": \"x1\", \"yaxis\": \"y1\"}, {\"type\": \"bar\", \"y\": [1], \"x\": [2], \"orientation\": \"h\", \"width\": 0.5, \"text\": \"0.47\", \"hoverinfo\": \"text\", \"marker\": {\"color\": \"rgb(161.8278746087177, 208.41393730435885, 255)\"}, \"xaxis\": \"x1\", \"yaxis\": \"y1\"}, {\"type\": \"bar\", \"y\": [1], \"x\": [1], \"orientation\": \"h\", \"width\": 0.5, \"text\": \"0.4\", \"hoverinfo\": \"text\", \"marker\": {\"color\": \"rgb(174.76150327120652, 214.88075163560325, 255)\"}, \"xaxis\": \"x1\", \"yaxis\": \"y1\"}, {\"type\": \"bar\", \"y\": [1], \"x\": [3], \"orientation\": \"h\", \"width\": 0.5, \"text\": \"0.01\", \"hoverinfo\": \"text\", \"marker\": {\"color\": \"rgb(253.42131378227361, 254.2106568911368, 255)\"}, \"xaxis\": \"x1\", \"yaxis\": \"y1\"}, {\"type\": \"bar\", \"y\": [1], \"x\": [2], \"orientation\": \"h\", \"width\": 0.5, \"text\": \"0.01\", \"hoverinfo\": \"text\", \"marker\": {\"color\": \"rgb(253.47374713829834, 254.23687356914917, 255)\"}, \"xaxis\": \"x1\", \"yaxis\": \"y1\"}, {\"type\": \"bar\", \"y\": [1], \"x\": [2], \"orientation\": \"h\", \"width\": 0.5, \"text\": \"0.96\", \"hoverinfo\": \"text\", \"marker\": {\"color\": \"rgb(62.73826709421337, 158.86913354710669, 255)\"}, \"xaxis\": \"x1\", \"yaxis\": \"y1\"}, {\"type\": \"bar\", \"y\": [1], \"x\": [1], \"orientation\": \"h\", \"width\": 0.5, \"text\": \"1.0\", \"hoverinfo\": \"text\", \"marker\": {\"color\": \"rgb(55.0, 155.0, 255)\"}, \"xaxis\": \"x1\", \"yaxis\": \"y1\"}, {\"type\": \"bar\", \"y\": [1], \"x\": [1], \"orientation\": \"h\", \"width\": 0.5, \"text\": \"0.87\", \"hoverinfo\": \"text\", \"marker\": {\"color\": \"rgb(81.10554127124243, 168.05277063562121, 255)\"}, \"xaxis\": \"x1\", \"yaxis\": \"y1\"}, {\"type\": \"bar\", \"y\": [1], \"x\": [3], \"orientation\": \"h\", \"width\": 0.5, \"text\": \"0.23\", \"hoverinfo\": \"text\", \"marker\": {\"color\": \"rgb(209.31921326340097, 232.15960663170048, 255)\"}, \"xaxis\": \"x1\", \"yaxis\": \"y1\"}, {\"type\": \"bar\", \"y\": [1], \"x\": [2], \"orientation\": \"h\", \"width\": 0.5, \"text\": \"0.09\", \"hoverinfo\": \"text\", \"marker\": {\"color\": \"rgb(237.52388260544248, 246.26194130272123, 255)\"}, \"xaxis\": \"x1\", \"yaxis\": \"y1\"}, {\"type\": \"bar\", \"y\": [1], \"x\": [1], \"orientation\": \"h\", \"width\": 0.5, \"text\": \"0.01\", \"hoverinfo\": \"text\", \"marker\": {\"color\": \"rgb(253.3089656730616, 254.1544828365308, 255)\"}, \"xaxis\": \"x1\", \"yaxis\": \"y1\"}, {\"type\": \"bar\", \"y\": [1], \"x\": [2], \"orientation\": \"h\", \"width\": 0.5, \"text\": \"0.01\", \"hoverinfo\": \"text\", \"marker\": {\"color\": \"rgb(253.4952156112369, 254.24760780561846, 255)\"}, \"xaxis\": \"x1\", \"yaxis\": \"y1\"}, {\"type\": \"bar\", \"y\": [1], \"x\": [3], \"orientation\": \"h\", \"width\": 0.5, \"text\": \"0.01\", \"hoverinfo\": \"text\", \"marker\": {\"color\": \"rgb(253.7254774480569, 254.36273872402845, 255)\"}, \"xaxis\": \"x1\", \"yaxis\": \"y1\"}, {\"type\": \"bar\", \"y\": [1], \"x\": [1], \"orientation\": \"h\", \"width\": 0.5, \"text\": \"0.01\", \"hoverinfo\": \"text\", \"marker\": {\"color\": \"rgb(253.23904970957216, 254.11952485478608, 255)\"}, \"xaxis\": \"x1\", \"yaxis\": \"y1\"}, {\"type\": \"bar\", \"y\": [1], \"x\": [2], \"orientation\": \"h\", \"width\": 0.5, \"text\": \"0.01\", \"hoverinfo\": \"text\", \"marker\": {\"color\": \"rgb(253.34237511878666, 254.17118755939333, 255)\"}, \"xaxis\": \"x1\", \"yaxis\": \"y1\"}, {\"type\": \"bar\", \"y\": [1], \"x\": [1], \"orientation\": \"h\", \"width\": 0.5, \"text\": \"0.01\", \"hoverinfo\": \"text\", \"marker\": {\"color\": \"rgb(253.2117509090565, 254.10587545452825, 255)\"}, \"xaxis\": \"x1\", \"yaxis\": \"y1\"}, {\"type\": \"bar\", \"y\": [1], \"x\": [3], \"orientation\": \"h\", \"width\": 0.5, \"text\": \"0.01\", \"hoverinfo\": \"text\", \"marker\": {\"color\": \"rgb(252.98179756121985, 253.9908987806099, 255)\"}, \"xaxis\": \"x1\", \"yaxis\": \"y1\"}, {\"type\": \"bar\", \"y\": [1], \"x\": [1], \"orientation\": \"h\", \"width\": 0.5, \"text\": \"0.01\", \"hoverinfo\": \"text\", \"marker\": {\"color\": \"rgb(252.22223220486313, 253.61111610243157, 255)\"}, \"xaxis\": \"x1\", \"yaxis\": \"y1\"}, {\"type\": \"bar\", \"y\": [1], \"x\": [1], \"orientation\": \"h\", \"width\": 0.5, \"text\": \"\", \"hoverinfo\": \"text\", \"marker\": {\"color\": \"rgb(255, 255, 255)\"}, \"xaxis\": \"x1\", \"yaxis\": \"y1\"}, {\"type\": \"bar\", \"y\": [1], \"x\": [1], \"orientation\": \"h\", \"width\": 0.5, \"text\": \"\", \"hoverinfo\": \"text\", \"marker\": {\"color\": \"rgb(255, 255, 255)\"}, \"xaxis\": \"x1\", \"yaxis\": \"y1\"}, {\"type\": \"bar\", \"y\": [1], \"x\": [1], \"orientation\": \"h\", \"width\": 0.5, \"text\": \"\", \"hoverinfo\": \"text\", \"marker\": {\"color\": \"rgb(255, 255, 255)\"}, \"xaxis\": \"x1\", \"yaxis\": \"y1\"}, {\"type\": \"bar\", \"y\": [1], \"x\": [1], \"orientation\": \"h\", \"width\": 0.5, \"text\": \"\", \"hoverinfo\": \"text\", \"marker\": {\"color\": \"rgb(255, 255, 255)\"}, \"xaxis\": \"x1\", \"yaxis\": \"y1\"}, {\"type\": \"bar\", \"y\": [1], \"x\": [1], \"orientation\": \"h\", \"width\": 0.5, \"text\": \"\", \"hoverinfo\": \"text\", \"marker\": {\"color\": \"rgb(255, 255, 255)\"}, \"xaxis\": \"x1\", \"yaxis\": \"y1\"}, {\"type\": \"bar\", \"y\": [1], \"x\": [1], \"orientation\": \"h\", \"width\": 0.5, \"text\": \"\", \"hoverinfo\": \"text\", \"marker\": {\"color\": \"rgb(255, 255, 255)\"}, \"xaxis\": \"x1\", \"yaxis\": \"y1\"}, {\"type\": \"bar\", \"y\": [1], \"x\": [1], \"orientation\": \"h\", \"width\": 0.5, \"text\": \"\", \"hoverinfo\": \"text\", \"marker\": {\"color\": \"rgb(255, 255, 255)\"}, \"xaxis\": \"x1\", \"yaxis\": \"y1\"}, {\"type\": \"bar\", \"y\": [1], \"x\": [1], \"orientation\": \"h\", \"width\": 0.5, \"text\": \"\", \"hoverinfo\": \"text\", \"marker\": {\"color\": \"rgb(255, 255, 255)\"}, \"xaxis\": \"x1\", \"yaxis\": \"y1\"}, {\"type\": \"bar\", \"y\": [1], \"x\": [1], \"orientation\": \"h\", \"width\": 0.5, \"text\": \"\", \"hoverinfo\": \"text\", \"marker\": {\"color\": \"rgb(255, 255, 255)\"}, \"xaxis\": \"x1\", \"yaxis\": \"y1\"}, {\"type\": \"bar\", \"y\": [1], \"x\": [1], \"orientation\": \"h\", \"width\": 0.5, \"text\": \"\", \"hoverinfo\": \"text\", \"marker\": {\"color\": \"rgb(255, 255, 255)\"}, \"xaxis\": \"x1\", \"yaxis\": \"y1\"}, {\"type\": \"bar\", \"y\": [1], \"x\": [1], \"orientation\": \"h\", \"width\": 0.5, \"text\": \"\", \"hoverinfo\": \"text\", \"marker\": {\"color\": \"rgb(255, 255, 255)\"}, \"xaxis\": \"x1\", \"yaxis\": \"y1\"}, {\"type\": \"bar\", \"y\": [1], \"x\": [1], \"orientation\": \"h\", \"width\": 0.5, \"text\": \"\", \"hoverinfo\": \"text\", \"marker\": {\"color\": \"rgb(255, 255, 255)\"}, \"xaxis\": \"x1\", \"yaxis\": \"y1\"}, {\"type\": \"bar\", \"y\": [1], \"x\": [1], \"orientation\": \"h\", \"width\": 0.5, \"text\": \"\", \"hoverinfo\": \"text\", \"marker\": {\"color\": \"rgb(255, 255, 255)\"}, \"xaxis\": \"x1\", \"yaxis\": \"y1\"}, {\"type\": \"bar\", \"y\": [1], \"x\": [1], \"orientation\": \"h\", \"width\": 0.5, \"text\": \"\", \"hoverinfo\": \"text\", \"marker\": {\"color\": \"rgb(255, 255, 255)\"}, \"xaxis\": \"x1\", \"yaxis\": \"y1\"}, {\"type\": \"bar\", \"y\": [1], \"x\": [1], \"orientation\": \"h\", \"width\": 0.5, \"text\": \"\", \"hoverinfo\": \"text\", \"marker\": {\"color\": \"rgb(255, 255, 255)\"}, \"xaxis\": \"x1\", \"yaxis\": \"y1\"}, {\"type\": \"bar\", \"y\": [1], \"x\": [1], \"orientation\": \"h\", \"width\": 0.5, \"text\": \"\", \"hoverinfo\": \"text\", \"marker\": {\"color\": \"rgb(255, 255, 255)\"}, \"xaxis\": \"x1\", \"yaxis\": \"y1\"}, {\"type\": \"bar\", \"y\": [1], \"x\": [1], \"orientation\": \"h\", \"width\": 0.5, \"text\": \"\", \"hoverinfo\": \"text\", \"marker\": {\"color\": \"rgb(255, 255, 255)\"}, \"xaxis\": \"x1\", \"yaxis\": \"y1\"}], {\"xaxis1\": {\"domain\": [0.0, 1.0], \"anchor\": \"y1\", \"showgrid\": false, \"showline\": false, \"showticklabels\": false, \"zeroline\": false}, \"yaxis1\": {\"domain\": [0.0, 1.0], \"anchor\": \"x1\", \"showgrid\": false, \"showline\": false, \"showticklabels\": false, \"zeroline\": false}, \"barmode\": \"stack\", \"showlegend\": false, \"margin\": {\"b\": 30, \"l\": 20, \"r\": 20, \"t\": 10}, \"annotations\": [{\"xref\": \"x1\", \"yref\": \"y1\", \"x\": 0.5, \"y\": 1, \"text\": \" \", \"align\": \"left\", \"font\": {\"family\": \"Arial\", \"size\": 14, \"color\": \"black\"}, \"showarrow\": false}, {\"xref\": \"x1\", \"yref\": \"y1\", \"x\": 1.5, \"y\": 1, \"text\": \"B\", \"align\": \"left\", \"font\": {\"family\": \"Arial\", \"size\": 14, \"color\": \"black\"}, \"showarrow\": false}, {\"xref\": \"x1\", \"yref\": \"y1\", \"x\": 2.5, \"y\": 1, \"text\": \"E\", \"align\": \"left\", \"font\": {\"family\": \"Arial\", \"size\": 14, \"color\": \"black\"}, \"showarrow\": false}, {\"xref\": \"x1\", \"yref\": \"y1\", \"x\": 3.5, \"y\": 1, \"text\": \"R\", \"align\": \"left\", \"font\": {\"family\": \"Arial\", \"size\": 14, \"color\": \"black\"}, \"showarrow\": false}, {\"xref\": \"x1\", \"yref\": \"y1\", \"x\": 4.5, \"y\": 1, \"text\": \"T\", \"align\": \"left\", \"font\": {\"family\": \"Arial\", \"size\": 14, \"color\": \"black\"}, \"showarrow\": false}, {\"xref\": \"x1\", \"yref\": \"y1\", \"x\": 5.5, \"y\": 1, \"text\": \" \", \"align\": \"left\", \"font\": {\"family\": \"Arial\", \"size\": 14, \"color\": \"black\"}, \"showarrow\": false}, {\"xref\": \"x1\", \"yref\": \"y1\", \"x\": 6.5, \"y\": 1, \"text\": \"\\ubc1c\", \"align\": \"left\", \"font\": {\"family\": \"Arial\", \"size\": 14, \"color\": \"black\"}, \"showarrow\": false}, {\"xref\": \"x1\", \"yref\": \"y1\", \"x\": 7.5, \"y\": 1, \"text\": \"\\ud45c\", \"align\": \"left\", \"font\": {\"family\": \"Arial\", \"size\": 14, \"color\": \"black\"}, \"showarrow\": false}, {\"xref\": \"x1\", \"yref\": \"y1\", \"x\": 8.5, \"y\": 1, \"text\": \" \", \"align\": \"left\", \"font\": {\"family\": \"Arial\", \"size\": 14, \"color\": \"black\"}, \"showarrow\": false}, {\"xref\": \"x1\", \"yref\": \"y1\", \"x\": 9.5, \"y\": 1, \"text\": \"\\ud6c4\", \"align\": \"left\", \"font\": {\"family\": \"Arial\", \"size\": 14, \"color\": \"black\"}, \"showarrow\": false}, {\"xref\": \"x1\", \"yref\": \"y1\", \"x\": 10.5, \"y\": 1, \"text\": \" \", \"align\": \"left\", \"font\": {\"family\": \"Arial\", \"size\": 14, \"color\": \"black\"}, \"showarrow\": false}, {\"xref\": \"x1\", \"yref\": \"y1\", \"x\": 11.5, \"y\": 1, \"text\": \"N\", \"align\": \"left\", \"font\": {\"family\": \"Arial\", \"size\": 14, \"color\": \"black\"}, \"showarrow\": false}, {\"xref\": \"x1\", \"yref\": \"y1\", \"x\": 12.5, \"y\": 1, \"text\": \"L\", \"align\": \"left\", \"font\": {\"family\": \"Arial\", \"size\": 14, \"color\": \"black\"}, \"showarrow\": false}, {\"xref\": \"x1\", \"yref\": \"y1\", \"x\": 13.5, \"y\": 1, \"text\": \"P\", \"align\": \"left\", \"font\": {\"family\": \"Arial\", \"size\": 14, \"color\": \"black\"}, \"showarrow\": false}, {\"xref\": \"x1\", \"yref\": \"y1\", \"x\": 14.5, \"y\": 1, \"text\": \" \", \"align\": \"left\", \"font\": {\"family\": \"Arial\", \"size\": 14, \"color\": \"black\"}, \"showarrow\": false}, {\"xref\": \"x1\", \"yref\": \"y1\", \"x\": 15.5, \"y\": 1, \"text\": \"\\uae30\", \"align\": \"left\", \"font\": {\"family\": \"Arial\", \"size\": 14, \"color\": \"black\"}, \"showarrow\": false}, {\"xref\": \"x1\", \"yref\": \"y1\", \"x\": 16.5, \"y\": 1, \"text\": \"\\uc220\", \"align\": \"left\", \"font\": {\"family\": \"Arial\", \"size\": 14, \"color\": \"black\"}, \"showarrow\": false}, {\"xref\": \"x1\", \"yref\": \"y1\", \"x\": 17.5, \"y\": 1, \"text\": \"\\ub3d9\", \"align\": \"left\", \"font\": {\"family\": \"Arial\", \"size\": 14, \"color\": \"black\"}, \"showarrow\": false}, {\"xref\": \"x1\", \"yref\": \"y1\", \"x\": 18.5, \"y\": 1, \"text\": \"\\ud5a5\", \"align\": \"left\", \"font\": {\"family\": \"Arial\", \"size\": 14, \"color\": \"black\"}, \"showarrow\": false}, {\"xref\": \"x1\", \"yref\": \"y1\", \"x\": 19.5, \"y\": 1, \"text\": \"\\uc5d0\", \"align\": \"left\", \"font\": {\"family\": \"Arial\", \"size\": 14, \"color\": \"black\"}, \"showarrow\": false}, {\"xref\": \"x1\", \"yref\": \"y1\", \"x\": 20.5, \"y\": 1, \"text\": \" \", \"align\": \"left\", \"font\": {\"family\": \"Arial\", \"size\": 14, \"color\": \"black\"}, \"showarrow\": false}, {\"xref\": \"x1\", \"yref\": \"y1\", \"x\": 21.5, \"y\": 1, \"text\": \"\\ud070\", \"align\": \"left\", \"font\": {\"family\": \"Arial\", \"size\": 14, \"color\": \"black\"}, \"showarrow\": false}, {\"xref\": \"x1\", \"yref\": \"y1\", \"x\": 22.5, \"y\": 1, \"text\": \" \", \"align\": \"left\", \"font\": {\"family\": \"Arial\", \"size\": 14, \"color\": \"black\"}, \"showarrow\": false}, {\"xref\": \"x1\", \"yref\": \"y1\", \"x\": 23.5, \"y\": 1, \"text\": \"\\ubcc0\", \"align\": \"left\", \"font\": {\"family\": \"Arial\", \"size\": 14, \"color\": \"black\"}, \"showarrow\": false}, {\"xref\": \"x1\", \"yref\": \"y1\", \"x\": 24.5, \"y\": 1, \"text\": \"\\ud654\", \"align\": \"left\", \"font\": {\"family\": \"Arial\", \"size\": 14, \"color\": \"black\"}, \"showarrow\": false}, {\"xref\": \"x1\", \"yref\": \"y1\", \"x\": 25.5, \"y\": 1, \"text\": \"\\uac00\", \"align\": \"left\", \"font\": {\"family\": \"Arial\", \"size\": 14, \"color\": \"black\"}, \"showarrow\": false}, {\"xref\": \"x1\", \"yref\": \"y1\", \"x\": 26.5, \"y\": 1, \"text\": \" \", \"align\": \"left\", \"font\": {\"family\": \"Arial\", \"size\": 14, \"color\": \"black\"}, \"showarrow\": false}, {\"xref\": \"x1\", \"yref\": \"y1\", \"x\": 27.5, \"y\": 1, \"text\": \"\\uc0dd\", \"align\": \"left\", \"font\": {\"family\": \"Arial\", \"size\": 14, \"color\": \"black\"}, \"showarrow\": false}, {\"xref\": \"x1\", \"yref\": \"y1\", \"x\": 28.5, \"y\": 1, \"text\": \"\\uacbc\", \"align\": \"left\", \"font\": {\"family\": \"Arial\", \"size\": 14, \"color\": \"black\"}, \"showarrow\": false}, {\"xref\": \"x1\", \"yref\": \"y1\", \"x\": 29.5, \"y\": 1, \"text\": \"\\uc2b5\", \"align\": \"left\", \"font\": {\"family\": \"Arial\", \"size\": 14, \"color\": \"black\"}, \"showarrow\": false}, {\"xref\": \"x1\", \"yref\": \"y1\", \"x\": 30.5, \"y\": 1, \"text\": \"\\ub2c8\", \"align\": \"left\", \"font\": {\"family\": \"Arial\", \"size\": 14, \"color\": \"black\"}, \"showarrow\": false}, {\"xref\": \"x1\", \"yref\": \"y1\", \"x\": 31.5, \"y\": 1, \"text\": \"\\ub2e4\", \"align\": \"left\", \"font\": {\"family\": \"Arial\", \"size\": 14, \"color\": \"black\"}, \"showarrow\": false}, {\"xref\": \"x1\", \"yref\": \"y1\", \"x\": 32.5, \"y\": 1, \"text\": \".\", \"align\": \"left\", \"font\": {\"family\": \"Arial\", \"size\": 14, \"color\": \"black\"}, \"showarrow\": false}], \"height\": 80, \"images\": [{\"source\": \"https://raw.githubusercontent.com/fingeredman/teanaps/master/data/logo/teanaps_logo_no-bg.png\", \"xref\": \"paper\", \"yref\": \"paper\", \"x\": 0.5, \"y\": 0.6, \"sizex\": 0.7, \"sizey\": 0.7, \"xanchor\": \"center\", \"yanchor\": \"center\", \"opacity\": 0.3, \"layer\": \"above\"}]}, {\"showLink\": true, \"linkText\": \"Export to plot.ly\"})});</script>"
      ]
     },
     "metadata": {},
     "output_type": "display_data"
    }
   ],
   "source": [
    "input_text = \"BERT 발표 후 NLP 기술동향에 큰 변화가 생겼습니다.\"\n",
    "\n",
    "result = ner.parse(input_text)\n",
    "print(result)\n",
    "result = ner.parse_sentence(input_text)\n",
    "print(result)\n",
    "ner.draw_sentence_weight(input_text)"
   ]
  },
  {
   "cell_type": "code",
   "execution_count": 9,
   "metadata": {},
   "outputs": [
    {
     "name": "stdout",
     "output_type": "stream",
     "text": [
      "[('V60 ThinkQ', 'UN', (7, 17)), ('LG전자', 'OG', (19, 23))]\n",
      "오늘 출시된 <V60 ThinkQ:UN>는 <LG전자:OG>의 핵심 제품입니다.\n"
     ]
    },
    {
     "data": {
      "text/html": [
       "\n",
       "                <script src=\"/static/components/requirejs/require.js\"></script>\n",
       "                <script>\n",
       "                  requirejs.config({\n",
       "                    paths: {\n",
       "                      base: '/static/base',\n",
       "                      plotly: 'https://cdn.plot.ly/plotly-latest.min.js?noext',\n",
       "                    },\n",
       "                  });\n",
       "                </script>\n",
       "                "
      ],
      "text/plain": [
       "<IPython.core.display.HTML object>"
      ]
     },
     "metadata": {},
     "output_type": "display_data"
    },
    {
     "data": {
      "text/html": [
       "\n",
       "                <script src=\"/static/components/requirejs/require.js\"></script>\n",
       "                <script>\n",
       "                  requirejs.config({\n",
       "                    paths: {\n",
       "                      base: '/static/base',\n",
       "                      plotly: 'https://cdn.plot.ly/plotly-latest.min.js?noext',\n",
       "                    },\n",
       "                  });\n",
       "                </script>\n",
       "                "
      ],
      "text/plain": [
       "<IPython.core.display.HTML object>"
      ]
     },
     "metadata": {},
     "output_type": "display_data"
    },
    {
     "data": {
      "application/vnd.plotly.v1+json": {
       "data": [
        {
         "hoverinfo": "text",
         "marker": {
          "color": "rgb(253.886980446914, 254.44349022345702, 255)"
         },
         "orientation": "h",
         "text": "0.01",
         "type": "bar",
         "width": 0.5,
         "x": [
          3
         ],
         "xaxis": "x1",
         "y": [
          1
         ],
         "yaxis": "y1"
        },
        {
         "hoverinfo": "text",
         "marker": {
          "color": "rgb(253.5221514962082, 254.2610757481041, 255)"
         },
         "orientation": "h",
         "text": "0.01",
         "type": "bar",
         "width": 0.5,
         "x": [
          3
         ],
         "xaxis": "x1",
         "y": [
          1
         ],
         "yaxis": "y1"
        },
        {
         "hoverinfo": "text",
         "marker": {
          "color": "rgb(253.2243276759139, 254.11216383795696, 255)"
         },
         "orientation": "h",
         "text": "0.01",
         "type": "bar",
         "width": 0.5,
         "x": [
          1
         ],
         "xaxis": "x1",
         "y": [
          1
         ],
         "yaxis": "y1"
        },
        {
         "hoverinfo": "text",
         "marker": {
          "color": "rgb(112.12228591405477, 183.56114295702739, 255)"
         },
         "orientation": "h",
         "text": "0.71",
         "type": "bar",
         "width": 0.5,
         "x": [
          2
         ],
         "xaxis": "x1",
         "y": [
          1
         ],
         "yaxis": "y1"
        },
        {
         "hoverinfo": "text",
         "marker": {
          "color": "rgb(202.2961511408249, 228.64807557041246, 255)"
         },
         "orientation": "h",
         "text": "0.26",
         "type": "bar",
         "width": 0.5,
         "x": [
          2
         ],
         "xaxis": "x1",
         "y": [
          1
         ],
         "yaxis": "y1"
        },
        {
         "hoverinfo": "text",
         "marker": {
          "color": "rgb(209.49315394346308, 232.24657697173154, 255)"
         },
         "orientation": "h",
         "text": "0.23",
         "type": "bar",
         "width": 0.5,
         "x": [
          2
         ],
         "xaxis": "x1",
         "y": [
          1
         ],
         "yaxis": "y1"
        },
        {
         "hoverinfo": "text",
         "marker": {
          "color": "rgb(224.95881806068576, 239.97940903034288, 255)"
         },
         "orientation": "h",
         "text": "0.15",
         "type": "bar",
         "width": 0.5,
         "x": [
          1
         ],
         "xaxis": "x1",
         "y": [
          1
         ],
         "yaxis": "y1"
        },
        {
         "hoverinfo": "text",
         "marker": {
          "color": "rgb(231.3437003715211, 243.17185018576055, 255)"
         },
         "orientation": "h",
         "text": "0.12",
         "type": "bar",
         "width": 0.5,
         "x": [
          2
         ],
         "xaxis": "x1",
         "y": [
          1
         ],
         "yaxis": "y1"
        },
        {
         "hoverinfo": "text",
         "marker": {
          "color": "rgb(226.24882510460617, 240.62441255230308, 255)"
         },
         "orientation": "h",
         "text": "0.14",
         "type": "bar",
         "width": 0.5,
         "x": [
          1
         ],
         "xaxis": "x1",
         "y": [
          1
         ],
         "yaxis": "y1"
        },
        {
         "hoverinfo": "text",
         "marker": {
          "color": "rgb(225.857341487886, 240.428670743943, 255)"
         },
         "orientation": "h",
         "text": "0.15",
         "type": "bar",
         "width": 0.5,
         "x": [
          1
         ],
         "xaxis": "x1",
         "y": [
          1
         ],
         "yaxis": "y1"
        },
        {
         "hoverinfo": "text",
         "marker": {
          "color": "rgb(253.69353776289518, 254.3467688814476, 255)"
         },
         "orientation": "h",
         "text": "0.01",
         "type": "bar",
         "width": 0.5,
         "x": [
          1
         ],
         "xaxis": "x1",
         "y": [
          1
         ],
         "yaxis": "y1"
        },
        {
         "hoverinfo": "text",
         "marker": {
          "color": "rgb(83.96478861780298, 169.4823943089015, 255)"
         },
         "orientation": "h",
         "text": "0.86",
         "type": "bar",
         "width": 0.5,
         "x": [
          3
         ],
         "xaxis": "x1",
         "y": [
          1
         ],
         "yaxis": "y1"
        },
        {
         "hoverinfo": "text",
         "marker": {
          "color": "rgb(55.0, 155.0, 255)"
         },
         "orientation": "h",
         "text": "1.0",
         "type": "bar",
         "width": 0.5,
         "x": [
          2
         ],
         "xaxis": "x1",
         "y": [
          1
         ],
         "yaxis": "y1"
        },
        {
         "hoverinfo": "text",
         "marker": {
          "color": "rgb(253.4433485277804, 254.22167426389018, 255)"
         },
         "orientation": "h",
         "text": "0.01",
         "type": "bar",
         "width": 0.5,
         "x": [
          1
         ],
         "xaxis": "x1",
         "y": [
          1
         ],
         "yaxis": "y1"
        },
        {
         "hoverinfo": "text",
         "marker": {
          "color": "rgb(254.14544347604053, 254.57272173802025, 255)"
         },
         "orientation": "h",
         "text": "0.0",
         "type": "bar",
         "width": 0.5,
         "x": [
          3
         ],
         "xaxis": "x1",
         "y": [
          1
         ],
         "yaxis": "y1"
        },
        {
         "hoverinfo": "text",
         "marker": {
          "color": "rgb(254.23681096306362, 254.61840548153182, 255)"
         },
         "orientation": "h",
         "text": "0.0",
         "type": "bar",
         "width": 0.5,
         "x": [
          3
         ],
         "xaxis": "x1",
         "y": [
          1
         ],
         "yaxis": "y1"
        },
        {
         "hoverinfo": "text",
         "marker": {
          "color": "rgb(254.04419583537222, 254.52209791768612, 255)"
         },
         "orientation": "h",
         "text": "0.0",
         "type": "bar",
         "width": 0.5,
         "x": [
          3
         ],
         "xaxis": "x1",
         "y": [
          1
         ],
         "yaxis": "y1"
        },
        {
         "hoverinfo": "text",
         "marker": {
          "color": "rgb(253.2210990988093, 254.11054954940465, 255)"
         },
         "orientation": "h",
         "text": "0.01",
         "type": "bar",
         "width": 0.5,
         "x": [
          1
         ],
         "xaxis": "x1",
         "y": [
          1
         ],
         "yaxis": "y1"
        },
        {
         "hoverinfo": "text",
         "marker": {
          "color": "rgb(255, 255, 255)"
         },
         "orientation": "h",
         "text": "",
         "type": "bar",
         "width": 0.5,
         "x": [
          1
         ],
         "xaxis": "x1",
         "y": [
          1
         ],
         "yaxis": "y1"
        },
        {
         "hoverinfo": "text",
         "marker": {
          "color": "rgb(255, 255, 255)"
         },
         "orientation": "h",
         "text": "",
         "type": "bar",
         "width": 0.5,
         "x": [
          1
         ],
         "xaxis": "x1",
         "y": [
          1
         ],
         "yaxis": "y1"
        },
        {
         "hoverinfo": "text",
         "marker": {
          "color": "rgb(255, 255, 255)"
         },
         "orientation": "h",
         "text": "",
         "type": "bar",
         "width": 0.5,
         "x": [
          1
         ],
         "xaxis": "x1",
         "y": [
          1
         ],
         "yaxis": "y1"
        },
        {
         "hoverinfo": "text",
         "marker": {
          "color": "rgb(255, 255, 255)"
         },
         "orientation": "h",
         "text": "",
         "type": "bar",
         "width": 0.5,
         "x": [
          1
         ],
         "xaxis": "x1",
         "y": [
          1
         ],
         "yaxis": "y1"
        },
        {
         "hoverinfo": "text",
         "marker": {
          "color": "rgb(255, 255, 255)"
         },
         "orientation": "h",
         "text": "",
         "type": "bar",
         "width": 0.5,
         "x": [
          1
         ],
         "xaxis": "x1",
         "y": [
          1
         ],
         "yaxis": "y1"
        },
        {
         "hoverinfo": "text",
         "marker": {
          "color": "rgb(255, 255, 255)"
         },
         "orientation": "h",
         "text": "",
         "type": "bar",
         "width": 0.5,
         "x": [
          1
         ],
         "xaxis": "x1",
         "y": [
          1
         ],
         "yaxis": "y1"
        },
        {
         "hoverinfo": "text",
         "marker": {
          "color": "rgb(255, 255, 255)"
         },
         "orientation": "h",
         "text": "",
         "type": "bar",
         "width": 0.5,
         "x": [
          1
         ],
         "xaxis": "x1",
         "y": [
          1
         ],
         "yaxis": "y1"
        },
        {
         "hoverinfo": "text",
         "marker": {
          "color": "rgb(255, 255, 255)"
         },
         "orientation": "h",
         "text": "",
         "type": "bar",
         "width": 0.5,
         "x": [
          1
         ],
         "xaxis": "x1",
         "y": [
          1
         ],
         "yaxis": "y1"
        },
        {
         "hoverinfo": "text",
         "marker": {
          "color": "rgb(255, 255, 255)"
         },
         "orientation": "h",
         "text": "",
         "type": "bar",
         "width": 0.5,
         "x": [
          1
         ],
         "xaxis": "x1",
         "y": [
          1
         ],
         "yaxis": "y1"
        },
        {
         "hoverinfo": "text",
         "marker": {
          "color": "rgb(255, 255, 255)"
         },
         "orientation": "h",
         "text": "",
         "type": "bar",
         "width": 0.5,
         "x": [
          1
         ],
         "xaxis": "x1",
         "y": [
          1
         ],
         "yaxis": "y1"
        },
        {
         "hoverinfo": "text",
         "marker": {
          "color": "rgb(255, 255, 255)"
         },
         "orientation": "h",
         "text": "",
         "type": "bar",
         "width": 0.5,
         "x": [
          1
         ],
         "xaxis": "x1",
         "y": [
          1
         ],
         "yaxis": "y1"
        },
        {
         "hoverinfo": "text",
         "marker": {
          "color": "rgb(255, 255, 255)"
         },
         "orientation": "h",
         "text": "",
         "type": "bar",
         "width": 0.5,
         "x": [
          1
         ],
         "xaxis": "x1",
         "y": [
          1
         ],
         "yaxis": "y1"
        },
        {
         "hoverinfo": "text",
         "marker": {
          "color": "rgb(255, 255, 255)"
         },
         "orientation": "h",
         "text": "",
         "type": "bar",
         "width": 0.5,
         "x": [
          1
         ],
         "xaxis": "x1",
         "y": [
          1
         ],
         "yaxis": "y1"
        },
        {
         "hoverinfo": "text",
         "marker": {
          "color": "rgb(255, 255, 255)"
         },
         "orientation": "h",
         "text": "",
         "type": "bar",
         "width": 0.5,
         "x": [
          1
         ],
         "xaxis": "x1",
         "y": [
          1
         ],
         "yaxis": "y1"
        },
        {
         "hoverinfo": "text",
         "marker": {
          "color": "rgb(255, 255, 255)"
         },
         "orientation": "h",
         "text": "",
         "type": "bar",
         "width": 0.5,
         "x": [
          1
         ],
         "xaxis": "x1",
         "y": [
          1
         ],
         "yaxis": "y1"
        }
       ],
       "layout": {
        "annotations": [
         {
          "align": "left",
          "font": {
           "color": "black",
           "family": "Arial",
           "size": 14
          },
          "showarrow": false,
          "text": " ",
          "x": 0.5,
          "xref": "x1",
          "y": 1,
          "yref": "y1"
         },
         {
          "align": "left",
          "font": {
           "color": "black",
           "family": "Arial",
           "size": 14
          },
          "showarrow": false,
          "text": "오",
          "x": 1.5,
          "xref": "x1",
          "y": 1,
          "yref": "y1"
         },
         {
          "align": "left",
          "font": {
           "color": "black",
           "family": "Arial",
           "size": 14
          },
          "showarrow": false,
          "text": "늘",
          "x": 2.5,
          "xref": "x1",
          "y": 1,
          "yref": "y1"
         },
         {
          "align": "left",
          "font": {
           "color": "black",
           "family": "Arial",
           "size": 14
          },
          "showarrow": false,
          "text": " ",
          "x": 3.5,
          "xref": "x1",
          "y": 1,
          "yref": "y1"
         },
         {
          "align": "left",
          "font": {
           "color": "black",
           "family": "Arial",
           "size": 14
          },
          "showarrow": false,
          "text": "출",
          "x": 4.5,
          "xref": "x1",
          "y": 1,
          "yref": "y1"
         },
         {
          "align": "left",
          "font": {
           "color": "black",
           "family": "Arial",
           "size": 14
          },
          "showarrow": false,
          "text": "시",
          "x": 5.5,
          "xref": "x1",
          "y": 1,
          "yref": "y1"
         },
         {
          "align": "left",
          "font": {
           "color": "black",
           "family": "Arial",
           "size": 14
          },
          "showarrow": false,
          "text": "된",
          "x": 6.5,
          "xref": "x1",
          "y": 1,
          "yref": "y1"
         },
         {
          "align": "left",
          "font": {
           "color": "black",
           "family": "Arial",
           "size": 14
          },
          "showarrow": false,
          "text": " ",
          "x": 7.5,
          "xref": "x1",
          "y": 1,
          "yref": "y1"
         },
         {
          "align": "left",
          "font": {
           "color": "black",
           "family": "Arial",
           "size": 14
          },
          "showarrow": false,
          "text": "V",
          "x": 8.5,
          "xref": "x1",
          "y": 1,
          "yref": "y1"
         },
         {
          "align": "left",
          "font": {
           "color": "black",
           "family": "Arial",
           "size": 14
          },
          "showarrow": false,
          "text": "6",
          "x": 9.5,
          "xref": "x1",
          "y": 1,
          "yref": "y1"
         },
         {
          "align": "left",
          "font": {
           "color": "black",
           "family": "Arial",
           "size": 14
          },
          "showarrow": false,
          "text": "0",
          "x": 10.5,
          "xref": "x1",
          "y": 1,
          "yref": "y1"
         },
         {
          "align": "left",
          "font": {
           "color": "black",
           "family": "Arial",
           "size": 14
          },
          "showarrow": false,
          "text": " ",
          "x": 11.5,
          "xref": "x1",
          "y": 1,
          "yref": "y1"
         },
         {
          "align": "left",
          "font": {
           "color": "black",
           "family": "Arial",
           "size": 14
          },
          "showarrow": false,
          "text": "T",
          "x": 12.5,
          "xref": "x1",
          "y": 1,
          "yref": "y1"
         },
         {
          "align": "left",
          "font": {
           "color": "black",
           "family": "Arial",
           "size": 14
          },
          "showarrow": false,
          "text": "h",
          "x": 13.5,
          "xref": "x1",
          "y": 1,
          "yref": "y1"
         },
         {
          "align": "left",
          "font": {
           "color": "black",
           "family": "Arial",
           "size": 14
          },
          "showarrow": false,
          "text": "i",
          "x": 14.5,
          "xref": "x1",
          "y": 1,
          "yref": "y1"
         },
         {
          "align": "left",
          "font": {
           "color": "black",
           "family": "Arial",
           "size": 14
          },
          "showarrow": false,
          "text": "n",
          "x": 15.5,
          "xref": "x1",
          "y": 1,
          "yref": "y1"
         },
         {
          "align": "left",
          "font": {
           "color": "black",
           "family": "Arial",
           "size": 14
          },
          "showarrow": false,
          "text": "k",
          "x": 16.5,
          "xref": "x1",
          "y": 1,
          "yref": "y1"
         },
         {
          "align": "left",
          "font": {
           "color": "black",
           "family": "Arial",
           "size": 14
          },
          "showarrow": false,
          "text": "Q",
          "x": 17.5,
          "xref": "x1",
          "y": 1,
          "yref": "y1"
         },
         {
          "align": "left",
          "font": {
           "color": "black",
           "family": "Arial",
           "size": 14
          },
          "showarrow": false,
          "text": "는",
          "x": 18.5,
          "xref": "x1",
          "y": 1,
          "yref": "y1"
         },
         {
          "align": "left",
          "font": {
           "color": "black",
           "family": "Arial",
           "size": 14
          },
          "showarrow": false,
          "text": " ",
          "x": 19.5,
          "xref": "x1",
          "y": 1,
          "yref": "y1"
         },
         {
          "align": "left",
          "font": {
           "color": "black",
           "family": "Arial",
           "size": 14
          },
          "showarrow": false,
          "text": "L",
          "x": 20.5,
          "xref": "x1",
          "y": 1,
          "yref": "y1"
         },
         {
          "align": "left",
          "font": {
           "color": "black",
           "family": "Arial",
           "size": 14
          },
          "showarrow": false,
          "text": "G",
          "x": 21.5,
          "xref": "x1",
          "y": 1,
          "yref": "y1"
         },
         {
          "align": "left",
          "font": {
           "color": "black",
           "family": "Arial",
           "size": 14
          },
          "showarrow": false,
          "text": "전",
          "x": 22.5,
          "xref": "x1",
          "y": 1,
          "yref": "y1"
         },
         {
          "align": "left",
          "font": {
           "color": "black",
           "family": "Arial",
           "size": 14
          },
          "showarrow": false,
          "text": "자",
          "x": 23.5,
          "xref": "x1",
          "y": 1,
          "yref": "y1"
         },
         {
          "align": "left",
          "font": {
           "color": "black",
           "family": "Arial",
           "size": 14
          },
          "showarrow": false,
          "text": "의",
          "x": 24.5,
          "xref": "x1",
          "y": 1,
          "yref": "y1"
         },
         {
          "align": "left",
          "font": {
           "color": "black",
           "family": "Arial",
           "size": 14
          },
          "showarrow": false,
          "text": " ",
          "x": 25.5,
          "xref": "x1",
          "y": 1,
          "yref": "y1"
         },
         {
          "align": "left",
          "font": {
           "color": "black",
           "family": "Arial",
           "size": 14
          },
          "showarrow": false,
          "text": "핵",
          "x": 26.5,
          "xref": "x1",
          "y": 1,
          "yref": "y1"
         },
         {
          "align": "left",
          "font": {
           "color": "black",
           "family": "Arial",
           "size": 14
          },
          "showarrow": false,
          "text": "심",
          "x": 27.5,
          "xref": "x1",
          "y": 1,
          "yref": "y1"
         },
         {
          "align": "left",
          "font": {
           "color": "black",
           "family": "Arial",
           "size": 14
          },
          "showarrow": false,
          "text": " ",
          "x": 28.5,
          "xref": "x1",
          "y": 1,
          "yref": "y1"
         },
         {
          "align": "left",
          "font": {
           "color": "black",
           "family": "Arial",
           "size": 14
          },
          "showarrow": false,
          "text": "제",
          "x": 29.5,
          "xref": "x1",
          "y": 1,
          "yref": "y1"
         },
         {
          "align": "left",
          "font": {
           "color": "black",
           "family": "Arial",
           "size": 14
          },
          "showarrow": false,
          "text": "품",
          "x": 30.5,
          "xref": "x1",
          "y": 1,
          "yref": "y1"
         },
         {
          "align": "left",
          "font": {
           "color": "black",
           "family": "Arial",
           "size": 14
          },
          "showarrow": false,
          "text": "입",
          "x": 31.5,
          "xref": "x1",
          "y": 1,
          "yref": "y1"
         },
         {
          "align": "left",
          "font": {
           "color": "black",
           "family": "Arial",
           "size": 14
          },
          "showarrow": false,
          "text": "니",
          "x": 32.5,
          "xref": "x1",
          "y": 1,
          "yref": "y1"
         },
         {
          "align": "left",
          "font": {
           "color": "black",
           "family": "Arial",
           "size": 14
          },
          "showarrow": false,
          "text": "다",
          "x": 33.5,
          "xref": "x1",
          "y": 1,
          "yref": "y1"
         },
         {
          "align": "left",
          "font": {
           "color": "black",
           "family": "Arial",
           "size": 14
          },
          "showarrow": false,
          "text": ".",
          "x": 34.5,
          "xref": "x1",
          "y": 1,
          "yref": "y1"
         }
        ],
        "barmode": "stack",
        "height": 80,
        "images": [
         {
          "layer": "above",
          "opacity": 0.3,
          "sizex": 0.7,
          "sizey": 0.7,
          "source": "https://raw.githubusercontent.com/fingeredman/teanaps/master/data/logo/teanaps_logo_no-bg.png",
          "x": 0.5,
          "xanchor": "center",
          "xref": "paper",
          "y": 0.6,
          "yanchor": "center",
          "yref": "paper"
         }
        ],
        "margin": {
         "b": 30,
         "l": 20,
         "r": 20,
         "t": 10
        },
        "showlegend": false,
        "xaxis1": {
         "anchor": "y1",
         "domain": [
          0,
          1
         ],
         "showgrid": false,
         "showline": false,
         "showticklabels": false,
         "zeroline": false
        },
        "yaxis1": {
         "anchor": "x1",
         "domain": [
          0,
          1
         ],
         "showgrid": false,
         "showline": false,
         "showticklabels": false,
         "zeroline": false
        }
       }
      },
      "text/html": [
       "<div id=\"bb0bc5e7-f478-4be3-a2ac-b1e0221353c9\" style=\"height: 80px; width: 100%;\" class=\"plotly-graph-div\"></div><script type=\"text/javascript\">require([\"plotly\"], function(Plotly) { window.PLOTLYENV=window.PLOTLYENV || {};window.PLOTLYENV.BASE_URL=\"https://plot.ly\";Plotly.newPlot(\"bb0bc5e7-f478-4be3-a2ac-b1e0221353c9\", [{\"type\": \"bar\", \"y\": [1], \"x\": [3], \"orientation\": \"h\", \"width\": 0.5, \"text\": \"0.01\", \"hoverinfo\": \"text\", \"marker\": {\"color\": \"rgb(253.886980446914, 254.44349022345702, 255)\"}, \"xaxis\": \"x1\", \"yaxis\": \"y1\"}, {\"type\": \"bar\", \"y\": [1], \"x\": [3], \"orientation\": \"h\", \"width\": 0.5, \"text\": \"0.01\", \"hoverinfo\": \"text\", \"marker\": {\"color\": \"rgb(253.5221514962082, 254.2610757481041, 255)\"}, \"xaxis\": \"x1\", \"yaxis\": \"y1\"}, {\"type\": \"bar\", \"y\": [1], \"x\": [1], \"orientation\": \"h\", \"width\": 0.5, \"text\": \"0.01\", \"hoverinfo\": \"text\", \"marker\": {\"color\": \"rgb(253.2243276759139, 254.11216383795696, 255)\"}, \"xaxis\": \"x1\", \"yaxis\": \"y1\"}, {\"type\": \"bar\", \"y\": [1], \"x\": [2], \"orientation\": \"h\", \"width\": 0.5, \"text\": \"0.71\", \"hoverinfo\": \"text\", \"marker\": {\"color\": \"rgb(112.12228591405477, 183.56114295702739, 255)\"}, \"xaxis\": \"x1\", \"yaxis\": \"y1\"}, {\"type\": \"bar\", \"y\": [1], \"x\": [2], \"orientation\": \"h\", \"width\": 0.5, \"text\": \"0.26\", \"hoverinfo\": \"text\", \"marker\": {\"color\": \"rgb(202.2961511408249, 228.64807557041246, 255)\"}, \"xaxis\": \"x1\", \"yaxis\": \"y1\"}, {\"type\": \"bar\", \"y\": [1], \"x\": [2], \"orientation\": \"h\", \"width\": 0.5, \"text\": \"0.23\", \"hoverinfo\": \"text\", \"marker\": {\"color\": \"rgb(209.49315394346308, 232.24657697173154, 255)\"}, \"xaxis\": \"x1\", \"yaxis\": \"y1\"}, {\"type\": \"bar\", \"y\": [1], \"x\": [1], \"orientation\": \"h\", \"width\": 0.5, \"text\": \"0.15\", \"hoverinfo\": \"text\", \"marker\": {\"color\": \"rgb(224.95881806068576, 239.97940903034288, 255)\"}, \"xaxis\": \"x1\", \"yaxis\": \"y1\"}, {\"type\": \"bar\", \"y\": [1], \"x\": [2], \"orientation\": \"h\", \"width\": 0.5, \"text\": \"0.12\", \"hoverinfo\": \"text\", \"marker\": {\"color\": \"rgb(231.3437003715211, 243.17185018576055, 255)\"}, \"xaxis\": \"x1\", \"yaxis\": \"y1\"}, {\"type\": \"bar\", \"y\": [1], \"x\": [1], \"orientation\": \"h\", \"width\": 0.5, \"text\": \"0.14\", \"hoverinfo\": \"text\", \"marker\": {\"color\": \"rgb(226.24882510460617, 240.62441255230308, 255)\"}, \"xaxis\": \"x1\", \"yaxis\": \"y1\"}, {\"type\": \"bar\", \"y\": [1], \"x\": [1], \"orientation\": \"h\", \"width\": 0.5, \"text\": \"0.15\", \"hoverinfo\": \"text\", \"marker\": {\"color\": \"rgb(225.857341487886, 240.428670743943, 255)\"}, \"xaxis\": \"x1\", \"yaxis\": \"y1\"}, {\"type\": \"bar\", \"y\": [1], \"x\": [1], \"orientation\": \"h\", \"width\": 0.5, \"text\": \"0.01\", \"hoverinfo\": \"text\", \"marker\": {\"color\": \"rgb(253.69353776289518, 254.3467688814476, 255)\"}, \"xaxis\": \"x1\", \"yaxis\": \"y1\"}, {\"type\": \"bar\", \"y\": [1], \"x\": [3], \"orientation\": \"h\", \"width\": 0.5, \"text\": \"0.86\", \"hoverinfo\": \"text\", \"marker\": {\"color\": \"rgb(83.96478861780298, 169.4823943089015, 255)\"}, \"xaxis\": \"x1\", \"yaxis\": \"y1\"}, {\"type\": \"bar\", \"y\": [1], \"x\": [2], \"orientation\": \"h\", \"width\": 0.5, \"text\": \"1.0\", \"hoverinfo\": \"text\", \"marker\": {\"color\": \"rgb(55.0, 155.0, 255)\"}, \"xaxis\": \"x1\", \"yaxis\": \"y1\"}, {\"type\": \"bar\", \"y\": [1], \"x\": [1], \"orientation\": \"h\", \"width\": 0.5, \"text\": \"0.01\", \"hoverinfo\": \"text\", \"marker\": {\"color\": \"rgb(253.4433485277804, 254.22167426389018, 255)\"}, \"xaxis\": \"x1\", \"yaxis\": \"y1\"}, {\"type\": \"bar\", \"y\": [1], \"x\": [3], \"orientation\": \"h\", \"width\": 0.5, \"text\": \"0.0\", \"hoverinfo\": \"text\", \"marker\": {\"color\": \"rgb(254.14544347604053, 254.57272173802025, 255)\"}, \"xaxis\": \"x1\", \"yaxis\": \"y1\"}, {\"type\": \"bar\", \"y\": [1], \"x\": [3], \"orientation\": \"h\", \"width\": 0.5, \"text\": \"0.0\", \"hoverinfo\": \"text\", \"marker\": {\"color\": \"rgb(254.23681096306362, 254.61840548153182, 255)\"}, \"xaxis\": \"x1\", \"yaxis\": \"y1\"}, {\"type\": \"bar\", \"y\": [1], \"x\": [3], \"orientation\": \"h\", \"width\": 0.5, \"text\": \"0.0\", \"hoverinfo\": \"text\", \"marker\": {\"color\": \"rgb(254.04419583537222, 254.52209791768612, 255)\"}, \"xaxis\": \"x1\", \"yaxis\": \"y1\"}, {\"type\": \"bar\", \"y\": [1], \"x\": [1], \"orientation\": \"h\", \"width\": 0.5, \"text\": \"0.01\", \"hoverinfo\": \"text\", \"marker\": {\"color\": \"rgb(253.2210990988093, 254.11054954940465, 255)\"}, \"xaxis\": \"x1\", \"yaxis\": \"y1\"}, {\"type\": \"bar\", \"y\": [1], \"x\": [1], \"orientation\": \"h\", \"width\": 0.5, \"text\": \"\", \"hoverinfo\": \"text\", \"marker\": {\"color\": \"rgb(255, 255, 255)\"}, \"xaxis\": \"x1\", \"yaxis\": \"y1\"}, {\"type\": \"bar\", \"y\": [1], \"x\": [1], \"orientation\": \"h\", \"width\": 0.5, \"text\": \"\", \"hoverinfo\": \"text\", \"marker\": {\"color\": \"rgb(255, 255, 255)\"}, \"xaxis\": \"x1\", \"yaxis\": \"y1\"}, {\"type\": \"bar\", \"y\": [1], \"x\": [1], \"orientation\": \"h\", \"width\": 0.5, \"text\": \"\", \"hoverinfo\": \"text\", \"marker\": {\"color\": \"rgb(255, 255, 255)\"}, \"xaxis\": \"x1\", \"yaxis\": \"y1\"}, {\"type\": \"bar\", \"y\": [1], \"x\": [1], \"orientation\": \"h\", \"width\": 0.5, \"text\": \"\", \"hoverinfo\": \"text\", \"marker\": {\"color\": \"rgb(255, 255, 255)\"}, \"xaxis\": \"x1\", \"yaxis\": \"y1\"}, {\"type\": \"bar\", \"y\": [1], \"x\": [1], \"orientation\": \"h\", \"width\": 0.5, \"text\": \"\", \"hoverinfo\": \"text\", \"marker\": {\"color\": \"rgb(255, 255, 255)\"}, \"xaxis\": \"x1\", \"yaxis\": \"y1\"}, {\"type\": \"bar\", \"y\": [1], \"x\": [1], \"orientation\": \"h\", \"width\": 0.5, \"text\": \"\", \"hoverinfo\": \"text\", \"marker\": {\"color\": \"rgb(255, 255, 255)\"}, \"xaxis\": \"x1\", \"yaxis\": \"y1\"}, {\"type\": \"bar\", \"y\": [1], \"x\": [1], \"orientation\": \"h\", \"width\": 0.5, \"text\": \"\", \"hoverinfo\": \"text\", \"marker\": {\"color\": \"rgb(255, 255, 255)\"}, \"xaxis\": \"x1\", \"yaxis\": \"y1\"}, {\"type\": \"bar\", \"y\": [1], \"x\": [1], \"orientation\": \"h\", \"width\": 0.5, \"text\": \"\", \"hoverinfo\": \"text\", \"marker\": {\"color\": \"rgb(255, 255, 255)\"}, \"xaxis\": \"x1\", \"yaxis\": \"y1\"}, {\"type\": \"bar\", \"y\": [1], \"x\": [1], \"orientation\": \"h\", \"width\": 0.5, \"text\": \"\", \"hoverinfo\": \"text\", \"marker\": {\"color\": \"rgb(255, 255, 255)\"}, \"xaxis\": \"x1\", \"yaxis\": \"y1\"}, {\"type\": \"bar\", \"y\": [1], \"x\": [1], \"orientation\": \"h\", \"width\": 0.5, \"text\": \"\", \"hoverinfo\": \"text\", \"marker\": {\"color\": \"rgb(255, 255, 255)\"}, \"xaxis\": \"x1\", \"yaxis\": \"y1\"}, {\"type\": \"bar\", \"y\": [1], \"x\": [1], \"orientation\": \"h\", \"width\": 0.5, \"text\": \"\", \"hoverinfo\": \"text\", \"marker\": {\"color\": \"rgb(255, 255, 255)\"}, \"xaxis\": \"x1\", \"yaxis\": \"y1\"}, {\"type\": \"bar\", \"y\": [1], \"x\": [1], \"orientation\": \"h\", \"width\": 0.5, \"text\": \"\", \"hoverinfo\": \"text\", \"marker\": {\"color\": \"rgb(255, 255, 255)\"}, \"xaxis\": \"x1\", \"yaxis\": \"y1\"}, {\"type\": \"bar\", \"y\": [1], \"x\": [1], \"orientation\": \"h\", \"width\": 0.5, \"text\": \"\", \"hoverinfo\": \"text\", \"marker\": {\"color\": \"rgb(255, 255, 255)\"}, \"xaxis\": \"x1\", \"yaxis\": \"y1\"}, {\"type\": \"bar\", \"y\": [1], \"x\": [1], \"orientation\": \"h\", \"width\": 0.5, \"text\": \"\", \"hoverinfo\": \"text\", \"marker\": {\"color\": \"rgb(255, 255, 255)\"}, \"xaxis\": \"x1\", \"yaxis\": \"y1\"}, {\"type\": \"bar\", \"y\": [1], \"x\": [1], \"orientation\": \"h\", \"width\": 0.5, \"text\": \"\", \"hoverinfo\": \"text\", \"marker\": {\"color\": \"rgb(255, 255, 255)\"}, \"xaxis\": \"x1\", \"yaxis\": \"y1\"}], {\"xaxis1\": {\"domain\": [0.0, 1.0], \"anchor\": \"y1\", \"showgrid\": false, \"showline\": false, \"showticklabels\": false, \"zeroline\": false}, \"yaxis1\": {\"domain\": [0.0, 1.0], \"anchor\": \"x1\", \"showgrid\": false, \"showline\": false, \"showticklabels\": false, \"zeroline\": false}, \"barmode\": \"stack\", \"showlegend\": false, \"margin\": {\"b\": 30, \"l\": 20, \"r\": 20, \"t\": 10}, \"annotations\": [{\"xref\": \"x1\", \"yref\": \"y1\", \"x\": 0.5, \"y\": 1, \"text\": \" \", \"align\": \"left\", \"font\": {\"family\": \"Arial\", \"size\": 14, \"color\": \"black\"}, \"showarrow\": false}, {\"xref\": \"x1\", \"yref\": \"y1\", \"x\": 1.5, \"y\": 1, \"text\": \"\\uc624\", \"align\": \"left\", \"font\": {\"family\": \"Arial\", \"size\": 14, \"color\": \"black\"}, \"showarrow\": false}, {\"xref\": \"x1\", \"yref\": \"y1\", \"x\": 2.5, \"y\": 1, \"text\": \"\\ub298\", \"align\": \"left\", \"font\": {\"family\": \"Arial\", \"size\": 14, \"color\": \"black\"}, \"showarrow\": false}, {\"xref\": \"x1\", \"yref\": \"y1\", \"x\": 3.5, \"y\": 1, \"text\": \" \", \"align\": \"left\", \"font\": {\"family\": \"Arial\", \"size\": 14, \"color\": \"black\"}, \"showarrow\": false}, {\"xref\": \"x1\", \"yref\": \"y1\", \"x\": 4.5, \"y\": 1, \"text\": \"\\ucd9c\", \"align\": \"left\", \"font\": {\"family\": \"Arial\", \"size\": 14, \"color\": \"black\"}, \"showarrow\": false}, {\"xref\": \"x1\", \"yref\": \"y1\", \"x\": 5.5, \"y\": 1, \"text\": \"\\uc2dc\", \"align\": \"left\", \"font\": {\"family\": \"Arial\", \"size\": 14, \"color\": \"black\"}, \"showarrow\": false}, {\"xref\": \"x1\", \"yref\": \"y1\", \"x\": 6.5, \"y\": 1, \"text\": \"\\ub41c\", \"align\": \"left\", \"font\": {\"family\": \"Arial\", \"size\": 14, \"color\": \"black\"}, \"showarrow\": false}, {\"xref\": \"x1\", \"yref\": \"y1\", \"x\": 7.5, \"y\": 1, \"text\": \" \", \"align\": \"left\", \"font\": {\"family\": \"Arial\", \"size\": 14, \"color\": \"black\"}, \"showarrow\": false}, {\"xref\": \"x1\", \"yref\": \"y1\", \"x\": 8.5, \"y\": 1, \"text\": \"V\", \"align\": \"left\", \"font\": {\"family\": \"Arial\", \"size\": 14, \"color\": \"black\"}, \"showarrow\": false}, {\"xref\": \"x1\", \"yref\": \"y1\", \"x\": 9.5, \"y\": 1, \"text\": \"6\", \"align\": \"left\", \"font\": {\"family\": \"Arial\", \"size\": 14, \"color\": \"black\"}, \"showarrow\": false}, {\"xref\": \"x1\", \"yref\": \"y1\", \"x\": 10.5, \"y\": 1, \"text\": \"0\", \"align\": \"left\", \"font\": {\"family\": \"Arial\", \"size\": 14, \"color\": \"black\"}, \"showarrow\": false}, {\"xref\": \"x1\", \"yref\": \"y1\", \"x\": 11.5, \"y\": 1, \"text\": \" \", \"align\": \"left\", \"font\": {\"family\": \"Arial\", \"size\": 14, \"color\": \"black\"}, \"showarrow\": false}, {\"xref\": \"x1\", \"yref\": \"y1\", \"x\": 12.5, \"y\": 1, \"text\": \"T\", \"align\": \"left\", \"font\": {\"family\": \"Arial\", \"size\": 14, \"color\": \"black\"}, \"showarrow\": false}, {\"xref\": \"x1\", \"yref\": \"y1\", \"x\": 13.5, \"y\": 1, \"text\": \"h\", \"align\": \"left\", \"font\": {\"family\": \"Arial\", \"size\": 14, \"color\": \"black\"}, \"showarrow\": false}, {\"xref\": \"x1\", \"yref\": \"y1\", \"x\": 14.5, \"y\": 1, \"text\": \"i\", \"align\": \"left\", \"font\": {\"family\": \"Arial\", \"size\": 14, \"color\": \"black\"}, \"showarrow\": false}, {\"xref\": \"x1\", \"yref\": \"y1\", \"x\": 15.5, \"y\": 1, \"text\": \"n\", \"align\": \"left\", \"font\": {\"family\": \"Arial\", \"size\": 14, \"color\": \"black\"}, \"showarrow\": false}, {\"xref\": \"x1\", \"yref\": \"y1\", \"x\": 16.5, \"y\": 1, \"text\": \"k\", \"align\": \"left\", \"font\": {\"family\": \"Arial\", \"size\": 14, \"color\": \"black\"}, \"showarrow\": false}, {\"xref\": \"x1\", \"yref\": \"y1\", \"x\": 17.5, \"y\": 1, \"text\": \"Q\", \"align\": \"left\", \"font\": {\"family\": \"Arial\", \"size\": 14, \"color\": \"black\"}, \"showarrow\": false}, {\"xref\": \"x1\", \"yref\": \"y1\", \"x\": 18.5, \"y\": 1, \"text\": \"\\ub294\", \"align\": \"left\", \"font\": {\"family\": \"Arial\", \"size\": 14, \"color\": \"black\"}, \"showarrow\": false}, {\"xref\": \"x1\", \"yref\": \"y1\", \"x\": 19.5, \"y\": 1, \"text\": \" \", \"align\": \"left\", \"font\": {\"family\": \"Arial\", \"size\": 14, \"color\": \"black\"}, \"showarrow\": false}, {\"xref\": \"x1\", \"yref\": \"y1\", \"x\": 20.5, \"y\": 1, \"text\": \"L\", \"align\": \"left\", \"font\": {\"family\": \"Arial\", \"size\": 14, \"color\": \"black\"}, \"showarrow\": false}, {\"xref\": \"x1\", \"yref\": \"y1\", \"x\": 21.5, \"y\": 1, \"text\": \"G\", \"align\": \"left\", \"font\": {\"family\": \"Arial\", \"size\": 14, \"color\": \"black\"}, \"showarrow\": false}, {\"xref\": \"x1\", \"yref\": \"y1\", \"x\": 22.5, \"y\": 1, \"text\": \"\\uc804\", \"align\": \"left\", \"font\": {\"family\": \"Arial\", \"size\": 14, \"color\": \"black\"}, \"showarrow\": false}, {\"xref\": \"x1\", \"yref\": \"y1\", \"x\": 23.5, \"y\": 1, \"text\": \"\\uc790\", \"align\": \"left\", \"font\": {\"family\": \"Arial\", \"size\": 14, \"color\": \"black\"}, \"showarrow\": false}, {\"xref\": \"x1\", \"yref\": \"y1\", \"x\": 24.5, \"y\": 1, \"text\": \"\\uc758\", \"align\": \"left\", \"font\": {\"family\": \"Arial\", \"size\": 14, \"color\": \"black\"}, \"showarrow\": false}, {\"xref\": \"x1\", \"yref\": \"y1\", \"x\": 25.5, \"y\": 1, \"text\": \" \", \"align\": \"left\", \"font\": {\"family\": \"Arial\", \"size\": 14, \"color\": \"black\"}, \"showarrow\": false}, {\"xref\": \"x1\", \"yref\": \"y1\", \"x\": 26.5, \"y\": 1, \"text\": \"\\ud575\", \"align\": \"left\", \"font\": {\"family\": \"Arial\", \"size\": 14, \"color\": \"black\"}, \"showarrow\": false}, {\"xref\": \"x1\", \"yref\": \"y1\", \"x\": 27.5, \"y\": 1, \"text\": \"\\uc2ec\", \"align\": \"left\", \"font\": {\"family\": \"Arial\", \"size\": 14, \"color\": \"black\"}, \"showarrow\": false}, {\"xref\": \"x1\", \"yref\": \"y1\", \"x\": 28.5, \"y\": 1, \"text\": \" \", \"align\": \"left\", \"font\": {\"family\": \"Arial\", \"size\": 14, \"color\": \"black\"}, \"showarrow\": false}, {\"xref\": \"x1\", \"yref\": \"y1\", \"x\": 29.5, \"y\": 1, \"text\": \"\\uc81c\", \"align\": \"left\", \"font\": {\"family\": \"Arial\", \"size\": 14, \"color\": \"black\"}, \"showarrow\": false}, {\"xref\": \"x1\", \"yref\": \"y1\", \"x\": 30.5, \"y\": 1, \"text\": \"\\ud488\", \"align\": \"left\", \"font\": {\"family\": \"Arial\", \"size\": 14, \"color\": \"black\"}, \"showarrow\": false}, {\"xref\": \"x1\", \"yref\": \"y1\", \"x\": 31.5, \"y\": 1, \"text\": \"\\uc785\", \"align\": \"left\", \"font\": {\"family\": \"Arial\", \"size\": 14, \"color\": \"black\"}, \"showarrow\": false}, {\"xref\": \"x1\", \"yref\": \"y1\", \"x\": 32.5, \"y\": 1, \"text\": \"\\ub2c8\", \"align\": \"left\", \"font\": {\"family\": \"Arial\", \"size\": 14, \"color\": \"black\"}, \"showarrow\": false}, {\"xref\": \"x1\", \"yref\": \"y1\", \"x\": 33.5, \"y\": 1, \"text\": \"\\ub2e4\", \"align\": \"left\", \"font\": {\"family\": \"Arial\", \"size\": 14, \"color\": \"black\"}, \"showarrow\": false}, {\"xref\": \"x1\", \"yref\": \"y1\", \"x\": 34.5, \"y\": 1, \"text\": \".\", \"align\": \"left\", \"font\": {\"family\": \"Arial\", \"size\": 14, \"color\": \"black\"}, \"showarrow\": false}], \"height\": 80, \"images\": [{\"source\": \"https://raw.githubusercontent.com/fingeredman/teanaps/master/data/logo/teanaps_logo_no-bg.png\", \"xref\": \"paper\", \"yref\": \"paper\", \"x\": 0.5, \"y\": 0.6, \"sizex\": 0.7, \"sizey\": 0.7, \"xanchor\": \"center\", \"yanchor\": \"center\", \"opacity\": 0.3, \"layer\": \"above\"}]}, {\"showLink\": true, \"linkText\": \"Export to plot.ly\"})});</script>"
      ],
      "text/vnd.plotly.v1+html": [
       "<div id=\"bb0bc5e7-f478-4be3-a2ac-b1e0221353c9\" style=\"height: 80px; width: 100%;\" class=\"plotly-graph-div\"></div><script type=\"text/javascript\">require([\"plotly\"], function(Plotly) { window.PLOTLYENV=window.PLOTLYENV || {};window.PLOTLYENV.BASE_URL=\"https://plot.ly\";Plotly.newPlot(\"bb0bc5e7-f478-4be3-a2ac-b1e0221353c9\", [{\"type\": \"bar\", \"y\": [1], \"x\": [3], \"orientation\": \"h\", \"width\": 0.5, \"text\": \"0.01\", \"hoverinfo\": \"text\", \"marker\": {\"color\": \"rgb(253.886980446914, 254.44349022345702, 255)\"}, \"xaxis\": \"x1\", \"yaxis\": \"y1\"}, {\"type\": \"bar\", \"y\": [1], \"x\": [3], \"orientation\": \"h\", \"width\": 0.5, \"text\": \"0.01\", \"hoverinfo\": \"text\", \"marker\": {\"color\": \"rgb(253.5221514962082, 254.2610757481041, 255)\"}, \"xaxis\": \"x1\", \"yaxis\": \"y1\"}, {\"type\": \"bar\", \"y\": [1], \"x\": [1], \"orientation\": \"h\", \"width\": 0.5, \"text\": \"0.01\", \"hoverinfo\": \"text\", \"marker\": {\"color\": \"rgb(253.2243276759139, 254.11216383795696, 255)\"}, \"xaxis\": \"x1\", \"yaxis\": \"y1\"}, {\"type\": \"bar\", \"y\": [1], \"x\": [2], \"orientation\": \"h\", \"width\": 0.5, \"text\": \"0.71\", \"hoverinfo\": \"text\", \"marker\": {\"color\": \"rgb(112.12228591405477, 183.56114295702739, 255)\"}, \"xaxis\": \"x1\", \"yaxis\": \"y1\"}, {\"type\": \"bar\", \"y\": [1], \"x\": [2], \"orientation\": \"h\", \"width\": 0.5, \"text\": \"0.26\", \"hoverinfo\": \"text\", \"marker\": {\"color\": \"rgb(202.2961511408249, 228.64807557041246, 255)\"}, \"xaxis\": \"x1\", \"yaxis\": \"y1\"}, {\"type\": \"bar\", \"y\": [1], \"x\": [2], \"orientation\": \"h\", \"width\": 0.5, \"text\": \"0.23\", \"hoverinfo\": \"text\", \"marker\": {\"color\": \"rgb(209.49315394346308, 232.24657697173154, 255)\"}, \"xaxis\": \"x1\", \"yaxis\": \"y1\"}, {\"type\": \"bar\", \"y\": [1], \"x\": [1], \"orientation\": \"h\", \"width\": 0.5, \"text\": \"0.15\", \"hoverinfo\": \"text\", \"marker\": {\"color\": \"rgb(224.95881806068576, 239.97940903034288, 255)\"}, \"xaxis\": \"x1\", \"yaxis\": \"y1\"}, {\"type\": \"bar\", \"y\": [1], \"x\": [2], \"orientation\": \"h\", \"width\": 0.5, \"text\": \"0.12\", \"hoverinfo\": \"text\", \"marker\": {\"color\": \"rgb(231.3437003715211, 243.17185018576055, 255)\"}, \"xaxis\": \"x1\", \"yaxis\": \"y1\"}, {\"type\": \"bar\", \"y\": [1], \"x\": [1], \"orientation\": \"h\", \"width\": 0.5, \"text\": \"0.14\", \"hoverinfo\": \"text\", \"marker\": {\"color\": \"rgb(226.24882510460617, 240.62441255230308, 255)\"}, \"xaxis\": \"x1\", \"yaxis\": \"y1\"}, {\"type\": \"bar\", \"y\": [1], \"x\": [1], \"orientation\": \"h\", \"width\": 0.5, \"text\": \"0.15\", \"hoverinfo\": \"text\", \"marker\": {\"color\": \"rgb(225.857341487886, 240.428670743943, 255)\"}, \"xaxis\": \"x1\", \"yaxis\": \"y1\"}, {\"type\": \"bar\", \"y\": [1], \"x\": [1], \"orientation\": \"h\", \"width\": 0.5, \"text\": \"0.01\", \"hoverinfo\": \"text\", \"marker\": {\"color\": \"rgb(253.69353776289518, 254.3467688814476, 255)\"}, \"xaxis\": \"x1\", \"yaxis\": \"y1\"}, {\"type\": \"bar\", \"y\": [1], \"x\": [3], \"orientation\": \"h\", \"width\": 0.5, \"text\": \"0.86\", \"hoverinfo\": \"text\", \"marker\": {\"color\": \"rgb(83.96478861780298, 169.4823943089015, 255)\"}, \"xaxis\": \"x1\", \"yaxis\": \"y1\"}, {\"type\": \"bar\", \"y\": [1], \"x\": [2], \"orientation\": \"h\", \"width\": 0.5, \"text\": \"1.0\", \"hoverinfo\": \"text\", \"marker\": {\"color\": \"rgb(55.0, 155.0, 255)\"}, \"xaxis\": \"x1\", \"yaxis\": \"y1\"}, {\"type\": \"bar\", \"y\": [1], \"x\": [1], \"orientation\": \"h\", \"width\": 0.5, \"text\": \"0.01\", \"hoverinfo\": \"text\", \"marker\": {\"color\": \"rgb(253.4433485277804, 254.22167426389018, 255)\"}, \"xaxis\": \"x1\", \"yaxis\": \"y1\"}, {\"type\": \"bar\", \"y\": [1], \"x\": [3], \"orientation\": \"h\", \"width\": 0.5, \"text\": \"0.0\", \"hoverinfo\": \"text\", \"marker\": {\"color\": \"rgb(254.14544347604053, 254.57272173802025, 255)\"}, \"xaxis\": \"x1\", \"yaxis\": \"y1\"}, {\"type\": \"bar\", \"y\": [1], \"x\": [3], \"orientation\": \"h\", \"width\": 0.5, \"text\": \"0.0\", \"hoverinfo\": \"text\", \"marker\": {\"color\": \"rgb(254.23681096306362, 254.61840548153182, 255)\"}, \"xaxis\": \"x1\", \"yaxis\": \"y1\"}, {\"type\": \"bar\", \"y\": [1], \"x\": [3], \"orientation\": \"h\", \"width\": 0.5, \"text\": \"0.0\", \"hoverinfo\": \"text\", \"marker\": {\"color\": \"rgb(254.04419583537222, 254.52209791768612, 255)\"}, \"xaxis\": \"x1\", \"yaxis\": \"y1\"}, {\"type\": \"bar\", \"y\": [1], \"x\": [1], \"orientation\": \"h\", \"width\": 0.5, \"text\": \"0.01\", \"hoverinfo\": \"text\", \"marker\": {\"color\": \"rgb(253.2210990988093, 254.11054954940465, 255)\"}, \"xaxis\": \"x1\", \"yaxis\": \"y1\"}, {\"type\": \"bar\", \"y\": [1], \"x\": [1], \"orientation\": \"h\", \"width\": 0.5, \"text\": \"\", \"hoverinfo\": \"text\", \"marker\": {\"color\": \"rgb(255, 255, 255)\"}, \"xaxis\": \"x1\", \"yaxis\": \"y1\"}, {\"type\": \"bar\", \"y\": [1], \"x\": [1], \"orientation\": \"h\", \"width\": 0.5, \"text\": \"\", \"hoverinfo\": \"text\", \"marker\": {\"color\": \"rgb(255, 255, 255)\"}, \"xaxis\": \"x1\", \"yaxis\": \"y1\"}, {\"type\": \"bar\", \"y\": [1], \"x\": [1], \"orientation\": \"h\", \"width\": 0.5, \"text\": \"\", \"hoverinfo\": \"text\", \"marker\": {\"color\": \"rgb(255, 255, 255)\"}, \"xaxis\": \"x1\", \"yaxis\": \"y1\"}, {\"type\": \"bar\", \"y\": [1], \"x\": [1], \"orientation\": \"h\", \"width\": 0.5, \"text\": \"\", \"hoverinfo\": \"text\", \"marker\": {\"color\": \"rgb(255, 255, 255)\"}, \"xaxis\": \"x1\", \"yaxis\": \"y1\"}, {\"type\": \"bar\", \"y\": [1], \"x\": [1], \"orientation\": \"h\", \"width\": 0.5, \"text\": \"\", \"hoverinfo\": \"text\", \"marker\": {\"color\": \"rgb(255, 255, 255)\"}, \"xaxis\": \"x1\", \"yaxis\": \"y1\"}, {\"type\": \"bar\", \"y\": [1], \"x\": [1], \"orientation\": \"h\", \"width\": 0.5, \"text\": \"\", \"hoverinfo\": \"text\", \"marker\": {\"color\": \"rgb(255, 255, 255)\"}, \"xaxis\": \"x1\", \"yaxis\": \"y1\"}, {\"type\": \"bar\", \"y\": [1], \"x\": [1], \"orientation\": \"h\", \"width\": 0.5, \"text\": \"\", \"hoverinfo\": \"text\", \"marker\": {\"color\": \"rgb(255, 255, 255)\"}, \"xaxis\": \"x1\", \"yaxis\": \"y1\"}, {\"type\": \"bar\", \"y\": [1], \"x\": [1], \"orientation\": \"h\", \"width\": 0.5, \"text\": \"\", \"hoverinfo\": \"text\", \"marker\": {\"color\": \"rgb(255, 255, 255)\"}, \"xaxis\": \"x1\", \"yaxis\": \"y1\"}, {\"type\": \"bar\", \"y\": [1], \"x\": [1], \"orientation\": \"h\", \"width\": 0.5, \"text\": \"\", \"hoverinfo\": \"text\", \"marker\": {\"color\": \"rgb(255, 255, 255)\"}, \"xaxis\": \"x1\", \"yaxis\": \"y1\"}, {\"type\": \"bar\", \"y\": [1], \"x\": [1], \"orientation\": \"h\", \"width\": 0.5, \"text\": \"\", \"hoverinfo\": \"text\", \"marker\": {\"color\": \"rgb(255, 255, 255)\"}, \"xaxis\": \"x1\", \"yaxis\": \"y1\"}, {\"type\": \"bar\", \"y\": [1], \"x\": [1], \"orientation\": \"h\", \"width\": 0.5, \"text\": \"\", \"hoverinfo\": \"text\", \"marker\": {\"color\": \"rgb(255, 255, 255)\"}, \"xaxis\": \"x1\", \"yaxis\": \"y1\"}, {\"type\": \"bar\", \"y\": [1], \"x\": [1], \"orientation\": \"h\", \"width\": 0.5, \"text\": \"\", \"hoverinfo\": \"text\", \"marker\": {\"color\": \"rgb(255, 255, 255)\"}, \"xaxis\": \"x1\", \"yaxis\": \"y1\"}, {\"type\": \"bar\", \"y\": [1], \"x\": [1], \"orientation\": \"h\", \"width\": 0.5, \"text\": \"\", \"hoverinfo\": \"text\", \"marker\": {\"color\": \"rgb(255, 255, 255)\"}, \"xaxis\": \"x1\", \"yaxis\": \"y1\"}, {\"type\": \"bar\", \"y\": [1], \"x\": [1], \"orientation\": \"h\", \"width\": 0.5, \"text\": \"\", \"hoverinfo\": \"text\", \"marker\": {\"color\": \"rgb(255, 255, 255)\"}, \"xaxis\": \"x1\", \"yaxis\": \"y1\"}, {\"type\": \"bar\", \"y\": [1], \"x\": [1], \"orientation\": \"h\", \"width\": 0.5, \"text\": \"\", \"hoverinfo\": \"text\", \"marker\": {\"color\": \"rgb(255, 255, 255)\"}, \"xaxis\": \"x1\", \"yaxis\": \"y1\"}], {\"xaxis1\": {\"domain\": [0.0, 1.0], \"anchor\": \"y1\", \"showgrid\": false, \"showline\": false, \"showticklabels\": false, \"zeroline\": false}, \"yaxis1\": {\"domain\": [0.0, 1.0], \"anchor\": \"x1\", \"showgrid\": false, \"showline\": false, \"showticklabels\": false, \"zeroline\": false}, \"barmode\": \"stack\", \"showlegend\": false, \"margin\": {\"b\": 30, \"l\": 20, \"r\": 20, \"t\": 10}, \"annotations\": [{\"xref\": \"x1\", \"yref\": \"y1\", \"x\": 0.5, \"y\": 1, \"text\": \" \", \"align\": \"left\", \"font\": {\"family\": \"Arial\", \"size\": 14, \"color\": \"black\"}, \"showarrow\": false}, {\"xref\": \"x1\", \"yref\": \"y1\", \"x\": 1.5, \"y\": 1, \"text\": \"\\uc624\", \"align\": \"left\", \"font\": {\"family\": \"Arial\", \"size\": 14, \"color\": \"black\"}, \"showarrow\": false}, {\"xref\": \"x1\", \"yref\": \"y1\", \"x\": 2.5, \"y\": 1, \"text\": \"\\ub298\", \"align\": \"left\", \"font\": {\"family\": \"Arial\", \"size\": 14, \"color\": \"black\"}, \"showarrow\": false}, {\"xref\": \"x1\", \"yref\": \"y1\", \"x\": 3.5, \"y\": 1, \"text\": \" \", \"align\": \"left\", \"font\": {\"family\": \"Arial\", \"size\": 14, \"color\": \"black\"}, \"showarrow\": false}, {\"xref\": \"x1\", \"yref\": \"y1\", \"x\": 4.5, \"y\": 1, \"text\": \"\\ucd9c\", \"align\": \"left\", \"font\": {\"family\": \"Arial\", \"size\": 14, \"color\": \"black\"}, \"showarrow\": false}, {\"xref\": \"x1\", \"yref\": \"y1\", \"x\": 5.5, \"y\": 1, \"text\": \"\\uc2dc\", \"align\": \"left\", \"font\": {\"family\": \"Arial\", \"size\": 14, \"color\": \"black\"}, \"showarrow\": false}, {\"xref\": \"x1\", \"yref\": \"y1\", \"x\": 6.5, \"y\": 1, \"text\": \"\\ub41c\", \"align\": \"left\", \"font\": {\"family\": \"Arial\", \"size\": 14, \"color\": \"black\"}, \"showarrow\": false}, {\"xref\": \"x1\", \"yref\": \"y1\", \"x\": 7.5, \"y\": 1, \"text\": \" \", \"align\": \"left\", \"font\": {\"family\": \"Arial\", \"size\": 14, \"color\": \"black\"}, \"showarrow\": false}, {\"xref\": \"x1\", \"yref\": \"y1\", \"x\": 8.5, \"y\": 1, \"text\": \"V\", \"align\": \"left\", \"font\": {\"family\": \"Arial\", \"size\": 14, \"color\": \"black\"}, \"showarrow\": false}, {\"xref\": \"x1\", \"yref\": \"y1\", \"x\": 9.5, \"y\": 1, \"text\": \"6\", \"align\": \"left\", \"font\": {\"family\": \"Arial\", \"size\": 14, \"color\": \"black\"}, \"showarrow\": false}, {\"xref\": \"x1\", \"yref\": \"y1\", \"x\": 10.5, \"y\": 1, \"text\": \"0\", \"align\": \"left\", \"font\": {\"family\": \"Arial\", \"size\": 14, \"color\": \"black\"}, \"showarrow\": false}, {\"xref\": \"x1\", \"yref\": \"y1\", \"x\": 11.5, \"y\": 1, \"text\": \" \", \"align\": \"left\", \"font\": {\"family\": \"Arial\", \"size\": 14, \"color\": \"black\"}, \"showarrow\": false}, {\"xref\": \"x1\", \"yref\": \"y1\", \"x\": 12.5, \"y\": 1, \"text\": \"T\", \"align\": \"left\", \"font\": {\"family\": \"Arial\", \"size\": 14, \"color\": \"black\"}, \"showarrow\": false}, {\"xref\": \"x1\", \"yref\": \"y1\", \"x\": 13.5, \"y\": 1, \"text\": \"h\", \"align\": \"left\", \"font\": {\"family\": \"Arial\", \"size\": 14, \"color\": \"black\"}, \"showarrow\": false}, {\"xref\": \"x1\", \"yref\": \"y1\", \"x\": 14.5, \"y\": 1, \"text\": \"i\", \"align\": \"left\", \"font\": {\"family\": \"Arial\", \"size\": 14, \"color\": \"black\"}, \"showarrow\": false}, {\"xref\": \"x1\", \"yref\": \"y1\", \"x\": 15.5, \"y\": 1, \"text\": \"n\", \"align\": \"left\", \"font\": {\"family\": \"Arial\", \"size\": 14, \"color\": \"black\"}, \"showarrow\": false}, {\"xref\": \"x1\", \"yref\": \"y1\", \"x\": 16.5, \"y\": 1, \"text\": \"k\", \"align\": \"left\", \"font\": {\"family\": \"Arial\", \"size\": 14, \"color\": \"black\"}, \"showarrow\": false}, {\"xref\": \"x1\", \"yref\": \"y1\", \"x\": 17.5, \"y\": 1, \"text\": \"Q\", \"align\": \"left\", \"font\": {\"family\": \"Arial\", \"size\": 14, \"color\": \"black\"}, \"showarrow\": false}, {\"xref\": \"x1\", \"yref\": \"y1\", \"x\": 18.5, \"y\": 1, \"text\": \"\\ub294\", \"align\": \"left\", \"font\": {\"family\": \"Arial\", \"size\": 14, \"color\": \"black\"}, \"showarrow\": false}, {\"xref\": \"x1\", \"yref\": \"y1\", \"x\": 19.5, \"y\": 1, \"text\": \" \", \"align\": \"left\", \"font\": {\"family\": \"Arial\", \"size\": 14, \"color\": \"black\"}, \"showarrow\": false}, {\"xref\": \"x1\", \"yref\": \"y1\", \"x\": 20.5, \"y\": 1, \"text\": \"L\", \"align\": \"left\", \"font\": {\"family\": \"Arial\", \"size\": 14, \"color\": \"black\"}, \"showarrow\": false}, {\"xref\": \"x1\", \"yref\": \"y1\", \"x\": 21.5, \"y\": 1, \"text\": \"G\", \"align\": \"left\", \"font\": {\"family\": \"Arial\", \"size\": 14, \"color\": \"black\"}, \"showarrow\": false}, {\"xref\": \"x1\", \"yref\": \"y1\", \"x\": 22.5, \"y\": 1, \"text\": \"\\uc804\", \"align\": \"left\", \"font\": {\"family\": \"Arial\", \"size\": 14, \"color\": \"black\"}, \"showarrow\": false}, {\"xref\": \"x1\", \"yref\": \"y1\", \"x\": 23.5, \"y\": 1, \"text\": \"\\uc790\", \"align\": \"left\", \"font\": {\"family\": \"Arial\", \"size\": 14, \"color\": \"black\"}, \"showarrow\": false}, {\"xref\": \"x1\", \"yref\": \"y1\", \"x\": 24.5, \"y\": 1, \"text\": \"\\uc758\", \"align\": \"left\", \"font\": {\"family\": \"Arial\", \"size\": 14, \"color\": \"black\"}, \"showarrow\": false}, {\"xref\": \"x1\", \"yref\": \"y1\", \"x\": 25.5, \"y\": 1, \"text\": \" \", \"align\": \"left\", \"font\": {\"family\": \"Arial\", \"size\": 14, \"color\": \"black\"}, \"showarrow\": false}, {\"xref\": \"x1\", \"yref\": \"y1\", \"x\": 26.5, \"y\": 1, \"text\": \"\\ud575\", \"align\": \"left\", \"font\": {\"family\": \"Arial\", \"size\": 14, \"color\": \"black\"}, \"showarrow\": false}, {\"xref\": \"x1\", \"yref\": \"y1\", \"x\": 27.5, \"y\": 1, \"text\": \"\\uc2ec\", \"align\": \"left\", \"font\": {\"family\": \"Arial\", \"size\": 14, \"color\": \"black\"}, \"showarrow\": false}, {\"xref\": \"x1\", \"yref\": \"y1\", \"x\": 28.5, \"y\": 1, \"text\": \" \", \"align\": \"left\", \"font\": {\"family\": \"Arial\", \"size\": 14, \"color\": \"black\"}, \"showarrow\": false}, {\"xref\": \"x1\", \"yref\": \"y1\", \"x\": 29.5, \"y\": 1, \"text\": \"\\uc81c\", \"align\": \"left\", \"font\": {\"family\": \"Arial\", \"size\": 14, \"color\": \"black\"}, \"showarrow\": false}, {\"xref\": \"x1\", \"yref\": \"y1\", \"x\": 30.5, \"y\": 1, \"text\": \"\\ud488\", \"align\": \"left\", \"font\": {\"family\": \"Arial\", \"size\": 14, \"color\": \"black\"}, \"showarrow\": false}, {\"xref\": \"x1\", \"yref\": \"y1\", \"x\": 31.5, \"y\": 1, \"text\": \"\\uc785\", \"align\": \"left\", \"font\": {\"family\": \"Arial\", \"size\": 14, \"color\": \"black\"}, \"showarrow\": false}, {\"xref\": \"x1\", \"yref\": \"y1\", \"x\": 32.5, \"y\": 1, \"text\": \"\\ub2c8\", \"align\": \"left\", \"font\": {\"family\": \"Arial\", \"size\": 14, \"color\": \"black\"}, \"showarrow\": false}, {\"xref\": \"x1\", \"yref\": \"y1\", \"x\": 33.5, \"y\": 1, \"text\": \"\\ub2e4\", \"align\": \"left\", \"font\": {\"family\": \"Arial\", \"size\": 14, \"color\": \"black\"}, \"showarrow\": false}, {\"xref\": \"x1\", \"yref\": \"y1\", \"x\": 34.5, \"y\": 1, \"text\": \".\", \"align\": \"left\", \"font\": {\"family\": \"Arial\", \"size\": 14, \"color\": \"black\"}, \"showarrow\": false}], \"height\": 80, \"images\": [{\"source\": \"https://raw.githubusercontent.com/fingeredman/teanaps/master/data/logo/teanaps_logo_no-bg.png\", \"xref\": \"paper\", \"yref\": \"paper\", \"x\": 0.5, \"y\": 0.6, \"sizex\": 0.7, \"sizey\": 0.7, \"xanchor\": \"center\", \"yanchor\": \"center\", \"opacity\": 0.3, \"layer\": \"above\"}]}, {\"showLink\": true, \"linkText\": \"Export to plot.ly\"})});</script>"
      ]
     },
     "metadata": {},
     "output_type": "display_data"
    }
   ],
   "source": [
    "input_text = \"오늘 출시된 V60 ThinkQ는 LG전자의 핵심 제품입니다.\"\n",
    "\n",
    "result = ner.parse(input_text)\n",
    "print(result)\n",
    "result = ner.parse_sentence(input_text)\n",
    "print(result)\n",
    "ner.draw_sentence_weight(input_text)"
   ]
  },
  {
   "cell_type": "code",
   "execution_count": 10,
   "metadata": {},
   "outputs": [
    {
     "name": "stdout",
     "output_type": "stream",
     "text": [
      "[('충청북도', 'LC', (0, 4)), ('청주', 'LC', (5, 7))]\n",
      "<충청북도:LC> <청주:LC>는 교육의 도시입니다.\n"
     ]
    },
    {
     "data": {
      "text/html": [
       "\n",
       "                <script src=\"/static/components/requirejs/require.js\"></script>\n",
       "                <script>\n",
       "                  requirejs.config({\n",
       "                    paths: {\n",
       "                      base: '/static/base',\n",
       "                      plotly: 'https://cdn.plot.ly/plotly-latest.min.js?noext',\n",
       "                    },\n",
       "                  });\n",
       "                </script>\n",
       "                "
      ],
      "text/plain": [
       "<IPython.core.display.HTML object>"
      ]
     },
     "metadata": {},
     "output_type": "display_data"
    },
    {
     "data": {
      "text/html": [
       "\n",
       "                <script src=\"/static/components/requirejs/require.js\"></script>\n",
       "                <script>\n",
       "                  requirejs.config({\n",
       "                    paths: {\n",
       "                      base: '/static/base',\n",
       "                      plotly: 'https://cdn.plot.ly/plotly-latest.min.js?noext',\n",
       "                    },\n",
       "                  });\n",
       "                </script>\n",
       "                "
      ],
      "text/plain": [
       "<IPython.core.display.HTML object>"
      ]
     },
     "metadata": {},
     "output_type": "display_data"
    },
    {
     "data": {
      "application/vnd.plotly.v1+json": {
       "data": [
        {
         "hoverinfo": "text",
         "marker": {
          "color": "rgb(55.0, 155.0, 255)"
         },
         "orientation": "h",
         "text": "1.0",
         "type": "bar",
         "width": 0.5,
         "x": [
          3
         ],
         "xaxis": "x1",
         "y": [
          1
         ],
         "yaxis": "y1"
        },
        {
         "hoverinfo": "text",
         "marker": {
          "color": "rgb(81.30682970514187, 168.15341485257093, 255)"
         },
         "orientation": "h",
         "text": "0.87",
         "type": "bar",
         "width": 0.5,
         "x": [
          1
         ],
         "xaxis": "x1",
         "y": [
          1
         ],
         "yaxis": "y1"
        },
        {
         "hoverinfo": "text",
         "marker": {
          "color": "rgb(59.94573032679685, 157.4728651633984, 255)"
         },
         "orientation": "h",
         "text": "0.98",
         "type": "bar",
         "width": 0.5,
         "x": [
          1
         ],
         "xaxis": "x1",
         "y": [
          1
         ],
         "yaxis": "y1"
        },
        {
         "hoverinfo": "text",
         "marker": {
          "color": "rgb(142.9105529188364, 198.9552764594182, 255)"
         },
         "orientation": "h",
         "text": "0.56",
         "type": "bar",
         "width": 0.5,
         "x": [
          3
         ],
         "xaxis": "x1",
         "y": [
          1
         ],
         "yaxis": "y1"
        },
        {
         "hoverinfo": "text",
         "marker": {
          "color": "rgb(239.4721308211814, 247.2360654105907, 255)"
         },
         "orientation": "h",
         "text": "0.08",
         "type": "bar",
         "width": 0.5,
         "x": [
          1
         ],
         "xaxis": "x1",
         "y": [
          1
         ],
         "yaxis": "y1"
        },
        {
         "hoverinfo": "text",
         "marker": {
          "color": "rgb(248.1751659147332, 251.5875829573666, 255)"
         },
         "orientation": "h",
         "text": "0.03",
         "type": "bar",
         "width": 0.5,
         "x": [
          3
         ],
         "xaxis": "x1",
         "y": [
          1
         ],
         "yaxis": "y1"
        },
        {
         "hoverinfo": "text",
         "marker": {
          "color": "rgb(229.003526638656, 242.001763319328, 255)"
         },
         "orientation": "h",
         "text": "0.13",
         "type": "bar",
         "width": 0.5,
         "x": [
          1
         ],
         "xaxis": "x1",
         "y": [
          1
         ],
         "yaxis": "y1"
        },
        {
         "hoverinfo": "text",
         "marker": {
          "color": "rgb(248.42835414064476, 251.71417707032236, 255)"
         },
         "orientation": "h",
         "text": "0.03",
         "type": "bar",
         "width": 0.5,
         "x": [
          3
         ],
         "xaxis": "x1",
         "y": [
          1
         ],
         "yaxis": "y1"
        },
        {
         "hoverinfo": "text",
         "marker": {
          "color": "rgb(253.35507977766227, 254.17753988883115, 255)"
         },
         "orientation": "h",
         "text": "0.01",
         "type": "bar",
         "width": 0.5,
         "x": [
          3
         ],
         "xaxis": "x1",
         "y": [
          1
         ],
         "yaxis": "y1"
        },
        {
         "hoverinfo": "text",
         "marker": {
          "color": "rgb(251.23409934400576, 253.11704967200288, 255)"
         },
         "orientation": "h",
         "text": "0.02",
         "type": "bar",
         "width": 0.5,
         "x": [
          1
         ],
         "xaxis": "x1",
         "y": [
          1
         ],
         "yaxis": "y1"
        },
        {
         "hoverinfo": "text",
         "marker": {
          "color": "rgb(255, 255, 255)"
         },
         "orientation": "h",
         "text": "",
         "type": "bar",
         "width": 0.5,
         "x": [
          1
         ],
         "xaxis": "x1",
         "y": [
          1
         ],
         "yaxis": "y1"
        },
        {
         "hoverinfo": "text",
         "marker": {
          "color": "rgb(255, 255, 255)"
         },
         "orientation": "h",
         "text": "",
         "type": "bar",
         "width": 0.5,
         "x": [
          1
         ],
         "xaxis": "x1",
         "y": [
          1
         ],
         "yaxis": "y1"
        },
        {
         "hoverinfo": "text",
         "marker": {
          "color": "rgb(255, 255, 255)"
         },
         "orientation": "h",
         "text": "",
         "type": "bar",
         "width": 0.5,
         "x": [
          1
         ],
         "xaxis": "x1",
         "y": [
          1
         ],
         "yaxis": "y1"
        },
        {
         "hoverinfo": "text",
         "marker": {
          "color": "rgb(255, 255, 255)"
         },
         "orientation": "h",
         "text": "",
         "type": "bar",
         "width": 0.5,
         "x": [
          1
         ],
         "xaxis": "x1",
         "y": [
          1
         ],
         "yaxis": "y1"
        },
        {
         "hoverinfo": "text",
         "marker": {
          "color": "rgb(255, 255, 255)"
         },
         "orientation": "h",
         "text": "",
         "type": "bar",
         "width": 0.5,
         "x": [
          1
         ],
         "xaxis": "x1",
         "y": [
          1
         ],
         "yaxis": "y1"
        },
        {
         "hoverinfo": "text",
         "marker": {
          "color": "rgb(255, 255, 255)"
         },
         "orientation": "h",
         "text": "",
         "type": "bar",
         "width": 0.5,
         "x": [
          1
         ],
         "xaxis": "x1",
         "y": [
          1
         ],
         "yaxis": "y1"
        },
        {
         "hoverinfo": "text",
         "marker": {
          "color": "rgb(255, 255, 255)"
         },
         "orientation": "h",
         "text": "",
         "type": "bar",
         "width": 0.5,
         "x": [
          1
         ],
         "xaxis": "x1",
         "y": [
          1
         ],
         "yaxis": "y1"
        },
        {
         "hoverinfo": "text",
         "marker": {
          "color": "rgb(255, 255, 255)"
         },
         "orientation": "h",
         "text": "",
         "type": "bar",
         "width": 0.5,
         "x": [
          1
         ],
         "xaxis": "x1",
         "y": [
          1
         ],
         "yaxis": "y1"
        },
        {
         "hoverinfo": "text",
         "marker": {
          "color": "rgb(255, 255, 255)"
         },
         "orientation": "h",
         "text": "",
         "type": "bar",
         "width": 0.5,
         "x": [
          1
         ],
         "xaxis": "x1",
         "y": [
          1
         ],
         "yaxis": "y1"
        },
        {
         "hoverinfo": "text",
         "marker": {
          "color": "rgb(255, 255, 255)"
         },
         "orientation": "h",
         "text": "",
         "type": "bar",
         "width": 0.5,
         "x": [
          1
         ],
         "xaxis": "x1",
         "y": [
          1
         ],
         "yaxis": "y1"
        },
        {
         "hoverinfo": "text",
         "marker": {
          "color": "rgb(255, 255, 255)"
         },
         "orientation": "h",
         "text": "",
         "type": "bar",
         "width": 0.5,
         "x": [
          1
         ],
         "xaxis": "x1",
         "y": [
          1
         ],
         "yaxis": "y1"
        },
        {
         "hoverinfo": "text",
         "marker": {
          "color": "rgb(255, 255, 255)"
         },
         "orientation": "h",
         "text": "",
         "type": "bar",
         "width": 0.5,
         "x": [
          1
         ],
         "xaxis": "x1",
         "y": [
          1
         ],
         "yaxis": "y1"
        },
        {
         "hoverinfo": "text",
         "marker": {
          "color": "rgb(255, 255, 255)"
         },
         "orientation": "h",
         "text": "",
         "type": "bar",
         "width": 0.5,
         "x": [
          1
         ],
         "xaxis": "x1",
         "y": [
          1
         ],
         "yaxis": "y1"
        },
        {
         "hoverinfo": "text",
         "marker": {
          "color": "rgb(255, 255, 255)"
         },
         "orientation": "h",
         "text": "",
         "type": "bar",
         "width": 0.5,
         "x": [
          1
         ],
         "xaxis": "x1",
         "y": [
          1
         ],
         "yaxis": "y1"
        },
        {
         "hoverinfo": "text",
         "marker": {
          "color": "rgb(255, 255, 255)"
         },
         "orientation": "h",
         "text": "",
         "type": "bar",
         "width": 0.5,
         "x": [
          1
         ],
         "xaxis": "x1",
         "y": [
          1
         ],
         "yaxis": "y1"
        },
        {
         "hoverinfo": "text",
         "marker": {
          "color": "rgb(255, 255, 255)"
         },
         "orientation": "h",
         "text": "",
         "type": "bar",
         "width": 0.5,
         "x": [
          1
         ],
         "xaxis": "x1",
         "y": [
          1
         ],
         "yaxis": "y1"
        },
        {
         "hoverinfo": "text",
         "marker": {
          "color": "rgb(255, 255, 255)"
         },
         "orientation": "h",
         "text": "",
         "type": "bar",
         "width": 0.5,
         "x": [
          1
         ],
         "xaxis": "x1",
         "y": [
          1
         ],
         "yaxis": "y1"
        },
        {
         "hoverinfo": "text",
         "marker": {
          "color": "rgb(255, 255, 255)"
         },
         "orientation": "h",
         "text": "",
         "type": "bar",
         "width": 0.5,
         "x": [
          1
         ],
         "xaxis": "x1",
         "y": [
          1
         ],
         "yaxis": "y1"
        },
        {
         "hoverinfo": "text",
         "marker": {
          "color": "rgb(255, 255, 255)"
         },
         "orientation": "h",
         "text": "",
         "type": "bar",
         "width": 0.5,
         "x": [
          1
         ],
         "xaxis": "x1",
         "y": [
          1
         ],
         "yaxis": "y1"
        },
        {
         "hoverinfo": "text",
         "marker": {
          "color": "rgb(255, 255, 255)"
         },
         "orientation": "h",
         "text": "",
         "type": "bar",
         "width": 0.5,
         "x": [
          1
         ],
         "xaxis": "x1",
         "y": [
          1
         ],
         "yaxis": "y1"
        },
        {
         "hoverinfo": "text",
         "marker": {
          "color": "rgb(255, 255, 255)"
         },
         "orientation": "h",
         "text": "",
         "type": "bar",
         "width": 0.5,
         "x": [
          1
         ],
         "xaxis": "x1",
         "y": [
          1
         ],
         "yaxis": "y1"
        },
        {
         "hoverinfo": "text",
         "marker": {
          "color": "rgb(255, 255, 255)"
         },
         "orientation": "h",
         "text": "",
         "type": "bar",
         "width": 0.5,
         "x": [
          1
         ],
         "xaxis": "x1",
         "y": [
          1
         ],
         "yaxis": "y1"
        },
        {
         "hoverinfo": "text",
         "marker": {
          "color": "rgb(255, 255, 255)"
         },
         "orientation": "h",
         "text": "",
         "type": "bar",
         "width": 0.5,
         "x": [
          1
         ],
         "xaxis": "x1",
         "y": [
          1
         ],
         "yaxis": "y1"
        },
        {
         "hoverinfo": "text",
         "marker": {
          "color": "rgb(255, 255, 255)"
         },
         "orientation": "h",
         "text": "",
         "type": "bar",
         "width": 0.5,
         "x": [
          1
         ],
         "xaxis": "x1",
         "y": [
          1
         ],
         "yaxis": "y1"
        },
        {
         "hoverinfo": "text",
         "marker": {
          "color": "rgb(255, 255, 255)"
         },
         "orientation": "h",
         "text": "",
         "type": "bar",
         "width": 0.5,
         "x": [
          1
         ],
         "xaxis": "x1",
         "y": [
          1
         ],
         "yaxis": "y1"
        },
        {
         "hoverinfo": "text",
         "marker": {
          "color": "rgb(255, 255, 255)"
         },
         "orientation": "h",
         "text": "",
         "type": "bar",
         "width": 0.5,
         "x": [
          1
         ],
         "xaxis": "x1",
         "y": [
          1
         ],
         "yaxis": "y1"
        },
        {
         "hoverinfo": "text",
         "marker": {
          "color": "rgb(255, 255, 255)"
         },
         "orientation": "h",
         "text": "",
         "type": "bar",
         "width": 0.5,
         "x": [
          1
         ],
         "xaxis": "x1",
         "y": [
          1
         ],
         "yaxis": "y1"
        },
        {
         "hoverinfo": "text",
         "marker": {
          "color": "rgb(255, 255, 255)"
         },
         "orientation": "h",
         "text": "",
         "type": "bar",
         "width": 0.5,
         "x": [
          1
         ],
         "xaxis": "x1",
         "y": [
          1
         ],
         "yaxis": "y1"
        },
        {
         "hoverinfo": "text",
         "marker": {
          "color": "rgb(255, 255, 255)"
         },
         "orientation": "h",
         "text": "",
         "type": "bar",
         "width": 0.5,
         "x": [
          1
         ],
         "xaxis": "x1",
         "y": [
          1
         ],
         "yaxis": "y1"
        },
        {
         "hoverinfo": "text",
         "marker": {
          "color": "rgb(255, 255, 255)"
         },
         "orientation": "h",
         "text": "",
         "type": "bar",
         "width": 0.5,
         "x": [
          1
         ],
         "xaxis": "x1",
         "y": [
          1
         ],
         "yaxis": "y1"
        }
       ],
       "layout": {
        "annotations": [
         {
          "align": "left",
          "font": {
           "color": "black",
           "family": "Arial",
           "size": 14
          },
          "showarrow": false,
          "text": " ",
          "x": 0.5,
          "xref": "x1",
          "y": 1,
          "yref": "y1"
         },
         {
          "align": "left",
          "font": {
           "color": "black",
           "family": "Arial",
           "size": 14
          },
          "showarrow": false,
          "text": "충",
          "x": 1.5,
          "xref": "x1",
          "y": 1,
          "yref": "y1"
         },
         {
          "align": "left",
          "font": {
           "color": "black",
           "family": "Arial",
           "size": 14
          },
          "showarrow": false,
          "text": "청",
          "x": 2.5,
          "xref": "x1",
          "y": 1,
          "yref": "y1"
         },
         {
          "align": "left",
          "font": {
           "color": "black",
           "family": "Arial",
           "size": 14
          },
          "showarrow": false,
          "text": "북",
          "x": 3.5,
          "xref": "x1",
          "y": 1,
          "yref": "y1"
         },
         {
          "align": "left",
          "font": {
           "color": "black",
           "family": "Arial",
           "size": 14
          },
          "showarrow": false,
          "text": "도",
          "x": 4.5,
          "xref": "x1",
          "y": 1,
          "yref": "y1"
         },
         {
          "align": "left",
          "font": {
           "color": "black",
           "family": "Arial",
           "size": 14
          },
          "showarrow": false,
          "text": " ",
          "x": 5.5,
          "xref": "x1",
          "y": 1,
          "yref": "y1"
         },
         {
          "align": "left",
          "font": {
           "color": "black",
           "family": "Arial",
           "size": 14
          },
          "showarrow": false,
          "text": "청",
          "x": 6.5,
          "xref": "x1",
          "y": 1,
          "yref": "y1"
         },
         {
          "align": "left",
          "font": {
           "color": "black",
           "family": "Arial",
           "size": 14
          },
          "showarrow": false,
          "text": "주",
          "x": 7.5,
          "xref": "x1",
          "y": 1,
          "yref": "y1"
         },
         {
          "align": "left",
          "font": {
           "color": "black",
           "family": "Arial",
           "size": 14
          },
          "showarrow": false,
          "text": "는",
          "x": 8.5,
          "xref": "x1",
          "y": 1,
          "yref": "y1"
         },
         {
          "align": "left",
          "font": {
           "color": "black",
           "family": "Arial",
           "size": 14
          },
          "showarrow": false,
          "text": " ",
          "x": 9.5,
          "xref": "x1",
          "y": 1,
          "yref": "y1"
         },
         {
          "align": "left",
          "font": {
           "color": "black",
           "family": "Arial",
           "size": 14
          },
          "showarrow": false,
          "text": "교",
          "x": 10.5,
          "xref": "x1",
          "y": 1,
          "yref": "y1"
         },
         {
          "align": "left",
          "font": {
           "color": "black",
           "family": "Arial",
           "size": 14
          },
          "showarrow": false,
          "text": "육",
          "x": 11.5,
          "xref": "x1",
          "y": 1,
          "yref": "y1"
         },
         {
          "align": "left",
          "font": {
           "color": "black",
           "family": "Arial",
           "size": 14
          },
          "showarrow": false,
          "text": "의",
          "x": 12.5,
          "xref": "x1",
          "y": 1,
          "yref": "y1"
         },
         {
          "align": "left",
          "font": {
           "color": "black",
           "family": "Arial",
           "size": 14
          },
          "showarrow": false,
          "text": " ",
          "x": 13.5,
          "xref": "x1",
          "y": 1,
          "yref": "y1"
         },
         {
          "align": "left",
          "font": {
           "color": "black",
           "family": "Arial",
           "size": 14
          },
          "showarrow": false,
          "text": "도",
          "x": 14.5,
          "xref": "x1",
          "y": 1,
          "yref": "y1"
         },
         {
          "align": "left",
          "font": {
           "color": "black",
           "family": "Arial",
           "size": 14
          },
          "showarrow": false,
          "text": "시",
          "x": 15.5,
          "xref": "x1",
          "y": 1,
          "yref": "y1"
         },
         {
          "align": "left",
          "font": {
           "color": "black",
           "family": "Arial",
           "size": 14
          },
          "showarrow": false,
          "text": "입",
          "x": 16.5,
          "xref": "x1",
          "y": 1,
          "yref": "y1"
         },
         {
          "align": "left",
          "font": {
           "color": "black",
           "family": "Arial",
           "size": 14
          },
          "showarrow": false,
          "text": "니",
          "x": 17.5,
          "xref": "x1",
          "y": 1,
          "yref": "y1"
         },
         {
          "align": "left",
          "font": {
           "color": "black",
           "family": "Arial",
           "size": 14
          },
          "showarrow": false,
          "text": "다",
          "x": 18.5,
          "xref": "x1",
          "y": 1,
          "yref": "y1"
         },
         {
          "align": "left",
          "font": {
           "color": "black",
           "family": "Arial",
           "size": 14
          },
          "showarrow": false,
          "text": ".",
          "x": 19.5,
          "xref": "x1",
          "y": 1,
          "yref": "y1"
         }
        ],
        "barmode": "stack",
        "height": 80,
        "images": [
         {
          "layer": "above",
          "opacity": 0.3,
          "sizex": 0.7,
          "sizey": 0.7,
          "source": "https://raw.githubusercontent.com/fingeredman/teanaps/master/data/logo/teanaps_logo_no-bg.png",
          "x": 0.5,
          "xanchor": "center",
          "xref": "paper",
          "y": 0.6,
          "yanchor": "center",
          "yref": "paper"
         }
        ],
        "margin": {
         "b": 30,
         "l": 20,
         "r": 20,
         "t": 10
        },
        "showlegend": false,
        "xaxis1": {
         "anchor": "y1",
         "domain": [
          0,
          1
         ],
         "showgrid": false,
         "showline": false,
         "showticklabels": false,
         "zeroline": false
        },
        "yaxis1": {
         "anchor": "x1",
         "domain": [
          0,
          1
         ],
         "showgrid": false,
         "showline": false,
         "showticklabels": false,
         "zeroline": false
        }
       }
      },
      "text/html": [
       "<div id=\"e4ca69d1-eab3-4b5a-98cd-a79a2a8d4909\" style=\"height: 80px; width: 100%;\" class=\"plotly-graph-div\"></div><script type=\"text/javascript\">require([\"plotly\"], function(Plotly) { window.PLOTLYENV=window.PLOTLYENV || {};window.PLOTLYENV.BASE_URL=\"https://plot.ly\";Plotly.newPlot(\"e4ca69d1-eab3-4b5a-98cd-a79a2a8d4909\", [{\"type\": \"bar\", \"y\": [1], \"x\": [3], \"orientation\": \"h\", \"width\": 0.5, \"text\": \"1.0\", \"hoverinfo\": \"text\", \"marker\": {\"color\": \"rgb(55.0, 155.0, 255)\"}, \"xaxis\": \"x1\", \"yaxis\": \"y1\"}, {\"type\": \"bar\", \"y\": [1], \"x\": [1], \"orientation\": \"h\", \"width\": 0.5, \"text\": \"0.87\", \"hoverinfo\": \"text\", \"marker\": {\"color\": \"rgb(81.30682970514187, 168.15341485257093, 255)\"}, \"xaxis\": \"x1\", \"yaxis\": \"y1\"}, {\"type\": \"bar\", \"y\": [1], \"x\": [1], \"orientation\": \"h\", \"width\": 0.5, \"text\": \"0.98\", \"hoverinfo\": \"text\", \"marker\": {\"color\": \"rgb(59.94573032679685, 157.4728651633984, 255)\"}, \"xaxis\": \"x1\", \"yaxis\": \"y1\"}, {\"type\": \"bar\", \"y\": [1], \"x\": [3], \"orientation\": \"h\", \"width\": 0.5, \"text\": \"0.56\", \"hoverinfo\": \"text\", \"marker\": {\"color\": \"rgb(142.9105529188364, 198.9552764594182, 255)\"}, \"xaxis\": \"x1\", \"yaxis\": \"y1\"}, {\"type\": \"bar\", \"y\": [1], \"x\": [1], \"orientation\": \"h\", \"width\": 0.5, \"text\": \"0.08\", \"hoverinfo\": \"text\", \"marker\": {\"color\": \"rgb(239.4721308211814, 247.2360654105907, 255)\"}, \"xaxis\": \"x1\", \"yaxis\": \"y1\"}, {\"type\": \"bar\", \"y\": [1], \"x\": [3], \"orientation\": \"h\", \"width\": 0.5, \"text\": \"0.03\", \"hoverinfo\": \"text\", \"marker\": {\"color\": \"rgb(248.1751659147332, 251.5875829573666, 255)\"}, \"xaxis\": \"x1\", \"yaxis\": \"y1\"}, {\"type\": \"bar\", \"y\": [1], \"x\": [1], \"orientation\": \"h\", \"width\": 0.5, \"text\": \"0.13\", \"hoverinfo\": \"text\", \"marker\": {\"color\": \"rgb(229.003526638656, 242.001763319328, 255)\"}, \"xaxis\": \"x1\", \"yaxis\": \"y1\"}, {\"type\": \"bar\", \"y\": [1], \"x\": [3], \"orientation\": \"h\", \"width\": 0.5, \"text\": \"0.03\", \"hoverinfo\": \"text\", \"marker\": {\"color\": \"rgb(248.42835414064476, 251.71417707032236, 255)\"}, \"xaxis\": \"x1\", \"yaxis\": \"y1\"}, {\"type\": \"bar\", \"y\": [1], \"x\": [3], \"orientation\": \"h\", \"width\": 0.5, \"text\": \"0.01\", \"hoverinfo\": \"text\", \"marker\": {\"color\": \"rgb(253.35507977766227, 254.17753988883115, 255)\"}, \"xaxis\": \"x1\", \"yaxis\": \"y1\"}, {\"type\": \"bar\", \"y\": [1], \"x\": [1], \"orientation\": \"h\", \"width\": 0.5, \"text\": \"0.02\", \"hoverinfo\": \"text\", \"marker\": {\"color\": \"rgb(251.23409934400576, 253.11704967200288, 255)\"}, \"xaxis\": \"x1\", \"yaxis\": \"y1\"}, {\"type\": \"bar\", \"y\": [1], \"x\": [1], \"orientation\": \"h\", \"width\": 0.5, \"text\": \"\", \"hoverinfo\": \"text\", \"marker\": {\"color\": \"rgb(255, 255, 255)\"}, \"xaxis\": \"x1\", \"yaxis\": \"y1\"}, {\"type\": \"bar\", \"y\": [1], \"x\": [1], \"orientation\": \"h\", \"width\": 0.5, \"text\": \"\", \"hoverinfo\": \"text\", \"marker\": {\"color\": \"rgb(255, 255, 255)\"}, \"xaxis\": \"x1\", \"yaxis\": \"y1\"}, {\"type\": \"bar\", \"y\": [1], \"x\": [1], \"orientation\": \"h\", \"width\": 0.5, \"text\": \"\", \"hoverinfo\": \"text\", \"marker\": {\"color\": \"rgb(255, 255, 255)\"}, \"xaxis\": \"x1\", \"yaxis\": \"y1\"}, {\"type\": \"bar\", \"y\": [1], \"x\": [1], \"orientation\": \"h\", \"width\": 0.5, \"text\": \"\", \"hoverinfo\": \"text\", \"marker\": {\"color\": \"rgb(255, 255, 255)\"}, \"xaxis\": \"x1\", \"yaxis\": \"y1\"}, {\"type\": \"bar\", \"y\": [1], \"x\": [1], \"orientation\": \"h\", \"width\": 0.5, \"text\": \"\", \"hoverinfo\": \"text\", \"marker\": {\"color\": \"rgb(255, 255, 255)\"}, \"xaxis\": \"x1\", \"yaxis\": \"y1\"}, {\"type\": \"bar\", \"y\": [1], \"x\": [1], \"orientation\": \"h\", \"width\": 0.5, \"text\": \"\", \"hoverinfo\": \"text\", \"marker\": {\"color\": \"rgb(255, 255, 255)\"}, \"xaxis\": \"x1\", \"yaxis\": \"y1\"}, {\"type\": \"bar\", \"y\": [1], \"x\": [1], \"orientation\": \"h\", \"width\": 0.5, \"text\": \"\", \"hoverinfo\": \"text\", \"marker\": {\"color\": \"rgb(255, 255, 255)\"}, \"xaxis\": \"x1\", \"yaxis\": \"y1\"}, {\"type\": \"bar\", \"y\": [1], \"x\": [1], \"orientation\": \"h\", \"width\": 0.5, \"text\": \"\", \"hoverinfo\": \"text\", \"marker\": {\"color\": \"rgb(255, 255, 255)\"}, \"xaxis\": \"x1\", \"yaxis\": \"y1\"}, {\"type\": \"bar\", \"y\": [1], \"x\": [1], \"orientation\": \"h\", \"width\": 0.5, \"text\": \"\", \"hoverinfo\": \"text\", \"marker\": {\"color\": \"rgb(255, 255, 255)\"}, \"xaxis\": \"x1\", \"yaxis\": \"y1\"}, {\"type\": \"bar\", \"y\": [1], \"x\": [1], \"orientation\": \"h\", \"width\": 0.5, \"text\": \"\", \"hoverinfo\": \"text\", \"marker\": {\"color\": \"rgb(255, 255, 255)\"}, \"xaxis\": \"x1\", \"yaxis\": \"y1\"}, {\"type\": \"bar\", \"y\": [1], \"x\": [1], \"orientation\": \"h\", \"width\": 0.5, \"text\": \"\", \"hoverinfo\": \"text\", \"marker\": {\"color\": \"rgb(255, 255, 255)\"}, \"xaxis\": \"x1\", \"yaxis\": \"y1\"}, {\"type\": \"bar\", \"y\": [1], \"x\": [1], \"orientation\": \"h\", \"width\": 0.5, \"text\": \"\", \"hoverinfo\": \"text\", \"marker\": {\"color\": \"rgb(255, 255, 255)\"}, \"xaxis\": \"x1\", \"yaxis\": \"y1\"}, {\"type\": \"bar\", \"y\": [1], \"x\": [1], \"orientation\": \"h\", \"width\": 0.5, \"text\": \"\", \"hoverinfo\": \"text\", \"marker\": {\"color\": \"rgb(255, 255, 255)\"}, \"xaxis\": \"x1\", \"yaxis\": \"y1\"}, {\"type\": \"bar\", \"y\": [1], \"x\": [1], \"orientation\": \"h\", \"width\": 0.5, \"text\": \"\", \"hoverinfo\": \"text\", \"marker\": {\"color\": \"rgb(255, 255, 255)\"}, \"xaxis\": \"x1\", \"yaxis\": \"y1\"}, {\"type\": \"bar\", \"y\": [1], \"x\": [1], \"orientation\": \"h\", \"width\": 0.5, \"text\": \"\", \"hoverinfo\": \"text\", \"marker\": {\"color\": \"rgb(255, 255, 255)\"}, \"xaxis\": \"x1\", \"yaxis\": \"y1\"}, {\"type\": \"bar\", \"y\": [1], \"x\": [1], \"orientation\": \"h\", \"width\": 0.5, \"text\": \"\", \"hoverinfo\": \"text\", \"marker\": {\"color\": \"rgb(255, 255, 255)\"}, \"xaxis\": \"x1\", \"yaxis\": \"y1\"}, {\"type\": \"bar\", \"y\": [1], \"x\": [1], \"orientation\": \"h\", \"width\": 0.5, \"text\": \"\", \"hoverinfo\": \"text\", \"marker\": {\"color\": \"rgb(255, 255, 255)\"}, \"xaxis\": \"x1\", \"yaxis\": \"y1\"}, {\"type\": \"bar\", \"y\": [1], \"x\": [1], \"orientation\": \"h\", \"width\": 0.5, \"text\": \"\", \"hoverinfo\": \"text\", \"marker\": {\"color\": \"rgb(255, 255, 255)\"}, \"xaxis\": \"x1\", \"yaxis\": \"y1\"}, {\"type\": \"bar\", \"y\": [1], \"x\": [1], \"orientation\": \"h\", \"width\": 0.5, \"text\": \"\", \"hoverinfo\": \"text\", \"marker\": {\"color\": \"rgb(255, 255, 255)\"}, \"xaxis\": \"x1\", \"yaxis\": \"y1\"}, {\"type\": \"bar\", \"y\": [1], \"x\": [1], \"orientation\": \"h\", \"width\": 0.5, \"text\": \"\", \"hoverinfo\": \"text\", \"marker\": {\"color\": \"rgb(255, 255, 255)\"}, \"xaxis\": \"x1\", \"yaxis\": \"y1\"}, {\"type\": \"bar\", \"y\": [1], \"x\": [1], \"orientation\": \"h\", \"width\": 0.5, \"text\": \"\", \"hoverinfo\": \"text\", \"marker\": {\"color\": \"rgb(255, 255, 255)\"}, \"xaxis\": \"x1\", \"yaxis\": \"y1\"}, {\"type\": \"bar\", \"y\": [1], \"x\": [1], \"orientation\": \"h\", \"width\": 0.5, \"text\": \"\", \"hoverinfo\": \"text\", \"marker\": {\"color\": \"rgb(255, 255, 255)\"}, \"xaxis\": \"x1\", \"yaxis\": \"y1\"}, {\"type\": \"bar\", \"y\": [1], \"x\": [1], \"orientation\": \"h\", \"width\": 0.5, \"text\": \"\", \"hoverinfo\": \"text\", \"marker\": {\"color\": \"rgb(255, 255, 255)\"}, \"xaxis\": \"x1\", \"yaxis\": \"y1\"}, {\"type\": \"bar\", \"y\": [1], \"x\": [1], \"orientation\": \"h\", \"width\": 0.5, \"text\": \"\", \"hoverinfo\": \"text\", \"marker\": {\"color\": \"rgb(255, 255, 255)\"}, \"xaxis\": \"x1\", \"yaxis\": \"y1\"}, {\"type\": \"bar\", \"y\": [1], \"x\": [1], \"orientation\": \"h\", \"width\": 0.5, \"text\": \"\", \"hoverinfo\": \"text\", \"marker\": {\"color\": \"rgb(255, 255, 255)\"}, \"xaxis\": \"x1\", \"yaxis\": \"y1\"}, {\"type\": \"bar\", \"y\": [1], \"x\": [1], \"orientation\": \"h\", \"width\": 0.5, \"text\": \"\", \"hoverinfo\": \"text\", \"marker\": {\"color\": \"rgb(255, 255, 255)\"}, \"xaxis\": \"x1\", \"yaxis\": \"y1\"}, {\"type\": \"bar\", \"y\": [1], \"x\": [1], \"orientation\": \"h\", \"width\": 0.5, \"text\": \"\", \"hoverinfo\": \"text\", \"marker\": {\"color\": \"rgb(255, 255, 255)\"}, \"xaxis\": \"x1\", \"yaxis\": \"y1\"}, {\"type\": \"bar\", \"y\": [1], \"x\": [1], \"orientation\": \"h\", \"width\": 0.5, \"text\": \"\", \"hoverinfo\": \"text\", \"marker\": {\"color\": \"rgb(255, 255, 255)\"}, \"xaxis\": \"x1\", \"yaxis\": \"y1\"}, {\"type\": \"bar\", \"y\": [1], \"x\": [1], \"orientation\": \"h\", \"width\": 0.5, \"text\": \"\", \"hoverinfo\": \"text\", \"marker\": {\"color\": \"rgb(255, 255, 255)\"}, \"xaxis\": \"x1\", \"yaxis\": \"y1\"}, {\"type\": \"bar\", \"y\": [1], \"x\": [1], \"orientation\": \"h\", \"width\": 0.5, \"text\": \"\", \"hoverinfo\": \"text\", \"marker\": {\"color\": \"rgb(255, 255, 255)\"}, \"xaxis\": \"x1\", \"yaxis\": \"y1\"}], {\"xaxis1\": {\"domain\": [0.0, 1.0], \"anchor\": \"y1\", \"showgrid\": false, \"showline\": false, \"showticklabels\": false, \"zeroline\": false}, \"yaxis1\": {\"domain\": [0.0, 1.0], \"anchor\": \"x1\", \"showgrid\": false, \"showline\": false, \"showticklabels\": false, \"zeroline\": false}, \"barmode\": \"stack\", \"showlegend\": false, \"margin\": {\"b\": 30, \"l\": 20, \"r\": 20, \"t\": 10}, \"annotations\": [{\"xref\": \"x1\", \"yref\": \"y1\", \"x\": 0.5, \"y\": 1, \"text\": \" \", \"align\": \"left\", \"font\": {\"family\": \"Arial\", \"size\": 14, \"color\": \"black\"}, \"showarrow\": false}, {\"xref\": \"x1\", \"yref\": \"y1\", \"x\": 1.5, \"y\": 1, \"text\": \"\\ucda9\", \"align\": \"left\", \"font\": {\"family\": \"Arial\", \"size\": 14, \"color\": \"black\"}, \"showarrow\": false}, {\"xref\": \"x1\", \"yref\": \"y1\", \"x\": 2.5, \"y\": 1, \"text\": \"\\uccad\", \"align\": \"left\", \"font\": {\"family\": \"Arial\", \"size\": 14, \"color\": \"black\"}, \"showarrow\": false}, {\"xref\": \"x1\", \"yref\": \"y1\", \"x\": 3.5, \"y\": 1, \"text\": \"\\ubd81\", \"align\": \"left\", \"font\": {\"family\": \"Arial\", \"size\": 14, \"color\": \"black\"}, \"showarrow\": false}, {\"xref\": \"x1\", \"yref\": \"y1\", \"x\": 4.5, \"y\": 1, \"text\": \"\\ub3c4\", \"align\": \"left\", \"font\": {\"family\": \"Arial\", \"size\": 14, \"color\": \"black\"}, \"showarrow\": false}, {\"xref\": \"x1\", \"yref\": \"y1\", \"x\": 5.5, \"y\": 1, \"text\": \" \", \"align\": \"left\", \"font\": {\"family\": \"Arial\", \"size\": 14, \"color\": \"black\"}, \"showarrow\": false}, {\"xref\": \"x1\", \"yref\": \"y1\", \"x\": 6.5, \"y\": 1, \"text\": \"\\uccad\", \"align\": \"left\", \"font\": {\"family\": \"Arial\", \"size\": 14, \"color\": \"black\"}, \"showarrow\": false}, {\"xref\": \"x1\", \"yref\": \"y1\", \"x\": 7.5, \"y\": 1, \"text\": \"\\uc8fc\", \"align\": \"left\", \"font\": {\"family\": \"Arial\", \"size\": 14, \"color\": \"black\"}, \"showarrow\": false}, {\"xref\": \"x1\", \"yref\": \"y1\", \"x\": 8.5, \"y\": 1, \"text\": \"\\ub294\", \"align\": \"left\", \"font\": {\"family\": \"Arial\", \"size\": 14, \"color\": \"black\"}, \"showarrow\": false}, {\"xref\": \"x1\", \"yref\": \"y1\", \"x\": 9.5, \"y\": 1, \"text\": \" \", \"align\": \"left\", \"font\": {\"family\": \"Arial\", \"size\": 14, \"color\": \"black\"}, \"showarrow\": false}, {\"xref\": \"x1\", \"yref\": \"y1\", \"x\": 10.5, \"y\": 1, \"text\": \"\\uad50\", \"align\": \"left\", \"font\": {\"family\": \"Arial\", \"size\": 14, \"color\": \"black\"}, \"showarrow\": false}, {\"xref\": \"x1\", \"yref\": \"y1\", \"x\": 11.5, \"y\": 1, \"text\": \"\\uc721\", \"align\": \"left\", \"font\": {\"family\": \"Arial\", \"size\": 14, \"color\": \"black\"}, \"showarrow\": false}, {\"xref\": \"x1\", \"yref\": \"y1\", \"x\": 12.5, \"y\": 1, \"text\": \"\\uc758\", \"align\": \"left\", \"font\": {\"family\": \"Arial\", \"size\": 14, \"color\": \"black\"}, \"showarrow\": false}, {\"xref\": \"x1\", \"yref\": \"y1\", \"x\": 13.5, \"y\": 1, \"text\": \" \", \"align\": \"left\", \"font\": {\"family\": \"Arial\", \"size\": 14, \"color\": \"black\"}, \"showarrow\": false}, {\"xref\": \"x1\", \"yref\": \"y1\", \"x\": 14.5, \"y\": 1, \"text\": \"\\ub3c4\", \"align\": \"left\", \"font\": {\"family\": \"Arial\", \"size\": 14, \"color\": \"black\"}, \"showarrow\": false}, {\"xref\": \"x1\", \"yref\": \"y1\", \"x\": 15.5, \"y\": 1, \"text\": \"\\uc2dc\", \"align\": \"left\", \"font\": {\"family\": \"Arial\", \"size\": 14, \"color\": \"black\"}, \"showarrow\": false}, {\"xref\": \"x1\", \"yref\": \"y1\", \"x\": 16.5, \"y\": 1, \"text\": \"\\uc785\", \"align\": \"left\", \"font\": {\"family\": \"Arial\", \"size\": 14, \"color\": \"black\"}, \"showarrow\": false}, {\"xref\": \"x1\", \"yref\": \"y1\", \"x\": 17.5, \"y\": 1, \"text\": \"\\ub2c8\", \"align\": \"left\", \"font\": {\"family\": \"Arial\", \"size\": 14, \"color\": \"black\"}, \"showarrow\": false}, {\"xref\": \"x1\", \"yref\": \"y1\", \"x\": 18.5, \"y\": 1, \"text\": \"\\ub2e4\", \"align\": \"left\", \"font\": {\"family\": \"Arial\", \"size\": 14, \"color\": \"black\"}, \"showarrow\": false}, {\"xref\": \"x1\", \"yref\": \"y1\", \"x\": 19.5, \"y\": 1, \"text\": \".\", \"align\": \"left\", \"font\": {\"family\": \"Arial\", \"size\": 14, \"color\": \"black\"}, \"showarrow\": false}], \"height\": 80, \"images\": [{\"source\": \"https://raw.githubusercontent.com/fingeredman/teanaps/master/data/logo/teanaps_logo_no-bg.png\", \"xref\": \"paper\", \"yref\": \"paper\", \"x\": 0.5, \"y\": 0.6, \"sizex\": 0.7, \"sizey\": 0.7, \"xanchor\": \"center\", \"yanchor\": \"center\", \"opacity\": 0.3, \"layer\": \"above\"}]}, {\"showLink\": true, \"linkText\": \"Export to plot.ly\"})});</script>"
      ],
      "text/vnd.plotly.v1+html": [
       "<div id=\"e4ca69d1-eab3-4b5a-98cd-a79a2a8d4909\" style=\"height: 80px; width: 100%;\" class=\"plotly-graph-div\"></div><script type=\"text/javascript\">require([\"plotly\"], function(Plotly) { window.PLOTLYENV=window.PLOTLYENV || {};window.PLOTLYENV.BASE_URL=\"https://plot.ly\";Plotly.newPlot(\"e4ca69d1-eab3-4b5a-98cd-a79a2a8d4909\", [{\"type\": \"bar\", \"y\": [1], \"x\": [3], \"orientation\": \"h\", \"width\": 0.5, \"text\": \"1.0\", \"hoverinfo\": \"text\", \"marker\": {\"color\": \"rgb(55.0, 155.0, 255)\"}, \"xaxis\": \"x1\", \"yaxis\": \"y1\"}, {\"type\": \"bar\", \"y\": [1], \"x\": [1], \"orientation\": \"h\", \"width\": 0.5, \"text\": \"0.87\", \"hoverinfo\": \"text\", \"marker\": {\"color\": \"rgb(81.30682970514187, 168.15341485257093, 255)\"}, \"xaxis\": \"x1\", \"yaxis\": \"y1\"}, {\"type\": \"bar\", \"y\": [1], \"x\": [1], \"orientation\": \"h\", \"width\": 0.5, \"text\": \"0.98\", \"hoverinfo\": \"text\", \"marker\": {\"color\": \"rgb(59.94573032679685, 157.4728651633984, 255)\"}, \"xaxis\": \"x1\", \"yaxis\": \"y1\"}, {\"type\": \"bar\", \"y\": [1], \"x\": [3], \"orientation\": \"h\", \"width\": 0.5, \"text\": \"0.56\", \"hoverinfo\": \"text\", \"marker\": {\"color\": \"rgb(142.9105529188364, 198.9552764594182, 255)\"}, \"xaxis\": \"x1\", \"yaxis\": \"y1\"}, {\"type\": \"bar\", \"y\": [1], \"x\": [1], \"orientation\": \"h\", \"width\": 0.5, \"text\": \"0.08\", \"hoverinfo\": \"text\", \"marker\": {\"color\": \"rgb(239.4721308211814, 247.2360654105907, 255)\"}, \"xaxis\": \"x1\", \"yaxis\": \"y1\"}, {\"type\": \"bar\", \"y\": [1], \"x\": [3], \"orientation\": \"h\", \"width\": 0.5, \"text\": \"0.03\", \"hoverinfo\": \"text\", \"marker\": {\"color\": \"rgb(248.1751659147332, 251.5875829573666, 255)\"}, \"xaxis\": \"x1\", \"yaxis\": \"y1\"}, {\"type\": \"bar\", \"y\": [1], \"x\": [1], \"orientation\": \"h\", \"width\": 0.5, \"text\": \"0.13\", \"hoverinfo\": \"text\", \"marker\": {\"color\": \"rgb(229.003526638656, 242.001763319328, 255)\"}, \"xaxis\": \"x1\", \"yaxis\": \"y1\"}, {\"type\": \"bar\", \"y\": [1], \"x\": [3], \"orientation\": \"h\", \"width\": 0.5, \"text\": \"0.03\", \"hoverinfo\": \"text\", \"marker\": {\"color\": \"rgb(248.42835414064476, 251.71417707032236, 255)\"}, \"xaxis\": \"x1\", \"yaxis\": \"y1\"}, {\"type\": \"bar\", \"y\": [1], \"x\": [3], \"orientation\": \"h\", \"width\": 0.5, \"text\": \"0.01\", \"hoverinfo\": \"text\", \"marker\": {\"color\": \"rgb(253.35507977766227, 254.17753988883115, 255)\"}, \"xaxis\": \"x1\", \"yaxis\": \"y1\"}, {\"type\": \"bar\", \"y\": [1], \"x\": [1], \"orientation\": \"h\", \"width\": 0.5, \"text\": \"0.02\", \"hoverinfo\": \"text\", \"marker\": {\"color\": \"rgb(251.23409934400576, 253.11704967200288, 255)\"}, \"xaxis\": \"x1\", \"yaxis\": \"y1\"}, {\"type\": \"bar\", \"y\": [1], \"x\": [1], \"orientation\": \"h\", \"width\": 0.5, \"text\": \"\", \"hoverinfo\": \"text\", \"marker\": {\"color\": \"rgb(255, 255, 255)\"}, \"xaxis\": \"x1\", \"yaxis\": \"y1\"}, {\"type\": \"bar\", \"y\": [1], \"x\": [1], \"orientation\": \"h\", \"width\": 0.5, \"text\": \"\", \"hoverinfo\": \"text\", \"marker\": {\"color\": \"rgb(255, 255, 255)\"}, \"xaxis\": \"x1\", \"yaxis\": \"y1\"}, {\"type\": \"bar\", \"y\": [1], \"x\": [1], \"orientation\": \"h\", \"width\": 0.5, \"text\": \"\", \"hoverinfo\": \"text\", \"marker\": {\"color\": \"rgb(255, 255, 255)\"}, \"xaxis\": \"x1\", \"yaxis\": \"y1\"}, {\"type\": \"bar\", \"y\": [1], \"x\": [1], \"orientation\": \"h\", \"width\": 0.5, \"text\": \"\", \"hoverinfo\": \"text\", \"marker\": {\"color\": \"rgb(255, 255, 255)\"}, \"xaxis\": \"x1\", \"yaxis\": \"y1\"}, {\"type\": \"bar\", \"y\": [1], \"x\": [1], \"orientation\": \"h\", \"width\": 0.5, \"text\": \"\", \"hoverinfo\": \"text\", \"marker\": {\"color\": \"rgb(255, 255, 255)\"}, \"xaxis\": \"x1\", \"yaxis\": \"y1\"}, {\"type\": \"bar\", \"y\": [1], \"x\": [1], \"orientation\": \"h\", \"width\": 0.5, \"text\": \"\", \"hoverinfo\": \"text\", \"marker\": {\"color\": \"rgb(255, 255, 255)\"}, \"xaxis\": \"x1\", \"yaxis\": \"y1\"}, {\"type\": \"bar\", \"y\": [1], \"x\": [1], \"orientation\": \"h\", \"width\": 0.5, \"text\": \"\", \"hoverinfo\": \"text\", \"marker\": {\"color\": \"rgb(255, 255, 255)\"}, \"xaxis\": \"x1\", \"yaxis\": \"y1\"}, {\"type\": \"bar\", \"y\": [1], \"x\": [1], \"orientation\": \"h\", \"width\": 0.5, \"text\": \"\", \"hoverinfo\": \"text\", \"marker\": {\"color\": \"rgb(255, 255, 255)\"}, \"xaxis\": \"x1\", \"yaxis\": \"y1\"}, {\"type\": \"bar\", \"y\": [1], \"x\": [1], \"orientation\": \"h\", \"width\": 0.5, \"text\": \"\", \"hoverinfo\": \"text\", \"marker\": {\"color\": \"rgb(255, 255, 255)\"}, \"xaxis\": \"x1\", \"yaxis\": \"y1\"}, {\"type\": \"bar\", \"y\": [1], \"x\": [1], \"orientation\": \"h\", \"width\": 0.5, \"text\": \"\", \"hoverinfo\": \"text\", \"marker\": {\"color\": \"rgb(255, 255, 255)\"}, \"xaxis\": \"x1\", \"yaxis\": \"y1\"}, {\"type\": \"bar\", \"y\": [1], \"x\": [1], \"orientation\": \"h\", \"width\": 0.5, \"text\": \"\", \"hoverinfo\": \"text\", \"marker\": {\"color\": \"rgb(255, 255, 255)\"}, \"xaxis\": \"x1\", \"yaxis\": \"y1\"}, {\"type\": \"bar\", \"y\": [1], \"x\": [1], \"orientation\": \"h\", \"width\": 0.5, \"text\": \"\", \"hoverinfo\": \"text\", \"marker\": {\"color\": \"rgb(255, 255, 255)\"}, \"xaxis\": \"x1\", \"yaxis\": \"y1\"}, {\"type\": \"bar\", \"y\": [1], \"x\": [1], \"orientation\": \"h\", \"width\": 0.5, \"text\": \"\", \"hoverinfo\": \"text\", \"marker\": {\"color\": \"rgb(255, 255, 255)\"}, \"xaxis\": \"x1\", \"yaxis\": \"y1\"}, {\"type\": \"bar\", \"y\": [1], \"x\": [1], \"orientation\": \"h\", \"width\": 0.5, \"text\": \"\", \"hoverinfo\": \"text\", \"marker\": {\"color\": \"rgb(255, 255, 255)\"}, \"xaxis\": \"x1\", \"yaxis\": \"y1\"}, {\"type\": \"bar\", \"y\": [1], \"x\": [1], \"orientation\": \"h\", \"width\": 0.5, \"text\": \"\", \"hoverinfo\": \"text\", \"marker\": {\"color\": \"rgb(255, 255, 255)\"}, \"xaxis\": \"x1\", \"yaxis\": \"y1\"}, {\"type\": \"bar\", \"y\": [1], \"x\": [1], \"orientation\": \"h\", \"width\": 0.5, \"text\": \"\", \"hoverinfo\": \"text\", \"marker\": {\"color\": \"rgb(255, 255, 255)\"}, \"xaxis\": \"x1\", \"yaxis\": \"y1\"}, {\"type\": \"bar\", \"y\": [1], \"x\": [1], \"orientation\": \"h\", \"width\": 0.5, \"text\": \"\", \"hoverinfo\": \"text\", \"marker\": {\"color\": \"rgb(255, 255, 255)\"}, \"xaxis\": \"x1\", \"yaxis\": \"y1\"}, {\"type\": \"bar\", \"y\": [1], \"x\": [1], \"orientation\": \"h\", \"width\": 0.5, \"text\": \"\", \"hoverinfo\": \"text\", \"marker\": {\"color\": \"rgb(255, 255, 255)\"}, \"xaxis\": \"x1\", \"yaxis\": \"y1\"}, {\"type\": \"bar\", \"y\": [1], \"x\": [1], \"orientation\": \"h\", \"width\": 0.5, \"text\": \"\", \"hoverinfo\": \"text\", \"marker\": {\"color\": \"rgb(255, 255, 255)\"}, \"xaxis\": \"x1\", \"yaxis\": \"y1\"}, {\"type\": \"bar\", \"y\": [1], \"x\": [1], \"orientation\": \"h\", \"width\": 0.5, \"text\": \"\", \"hoverinfo\": \"text\", \"marker\": {\"color\": \"rgb(255, 255, 255)\"}, \"xaxis\": \"x1\", \"yaxis\": \"y1\"}, {\"type\": \"bar\", \"y\": [1], \"x\": [1], \"orientation\": \"h\", \"width\": 0.5, \"text\": \"\", \"hoverinfo\": \"text\", \"marker\": {\"color\": \"rgb(255, 255, 255)\"}, \"xaxis\": \"x1\", \"yaxis\": \"y1\"}, {\"type\": \"bar\", \"y\": [1], \"x\": [1], \"orientation\": \"h\", \"width\": 0.5, \"text\": \"\", \"hoverinfo\": \"text\", \"marker\": {\"color\": \"rgb(255, 255, 255)\"}, \"xaxis\": \"x1\", \"yaxis\": \"y1\"}, {\"type\": \"bar\", \"y\": [1], \"x\": [1], \"orientation\": \"h\", \"width\": 0.5, \"text\": \"\", \"hoverinfo\": \"text\", \"marker\": {\"color\": \"rgb(255, 255, 255)\"}, \"xaxis\": \"x1\", \"yaxis\": \"y1\"}, {\"type\": \"bar\", \"y\": [1], \"x\": [1], \"orientation\": \"h\", \"width\": 0.5, \"text\": \"\", \"hoverinfo\": \"text\", \"marker\": {\"color\": \"rgb(255, 255, 255)\"}, \"xaxis\": \"x1\", \"yaxis\": \"y1\"}, {\"type\": \"bar\", \"y\": [1], \"x\": [1], \"orientation\": \"h\", \"width\": 0.5, \"text\": \"\", \"hoverinfo\": \"text\", \"marker\": {\"color\": \"rgb(255, 255, 255)\"}, \"xaxis\": \"x1\", \"yaxis\": \"y1\"}, {\"type\": \"bar\", \"y\": [1], \"x\": [1], \"orientation\": \"h\", \"width\": 0.5, \"text\": \"\", \"hoverinfo\": \"text\", \"marker\": {\"color\": \"rgb(255, 255, 255)\"}, \"xaxis\": \"x1\", \"yaxis\": \"y1\"}, {\"type\": \"bar\", \"y\": [1], \"x\": [1], \"orientation\": \"h\", \"width\": 0.5, \"text\": \"\", \"hoverinfo\": \"text\", \"marker\": {\"color\": \"rgb(255, 255, 255)\"}, \"xaxis\": \"x1\", \"yaxis\": \"y1\"}, {\"type\": \"bar\", \"y\": [1], \"x\": [1], \"orientation\": \"h\", \"width\": 0.5, \"text\": \"\", \"hoverinfo\": \"text\", \"marker\": {\"color\": \"rgb(255, 255, 255)\"}, \"xaxis\": \"x1\", \"yaxis\": \"y1\"}, {\"type\": \"bar\", \"y\": [1], \"x\": [1], \"orientation\": \"h\", \"width\": 0.5, \"text\": \"\", \"hoverinfo\": \"text\", \"marker\": {\"color\": \"rgb(255, 255, 255)\"}, \"xaxis\": \"x1\", \"yaxis\": \"y1\"}, {\"type\": \"bar\", \"y\": [1], \"x\": [1], \"orientation\": \"h\", \"width\": 0.5, \"text\": \"\", \"hoverinfo\": \"text\", \"marker\": {\"color\": \"rgb(255, 255, 255)\"}, \"xaxis\": \"x1\", \"yaxis\": \"y1\"}], {\"xaxis1\": {\"domain\": [0.0, 1.0], \"anchor\": \"y1\", \"showgrid\": false, \"showline\": false, \"showticklabels\": false, \"zeroline\": false}, \"yaxis1\": {\"domain\": [0.0, 1.0], \"anchor\": \"x1\", \"showgrid\": false, \"showline\": false, \"showticklabels\": false, \"zeroline\": false}, \"barmode\": \"stack\", \"showlegend\": false, \"margin\": {\"b\": 30, \"l\": 20, \"r\": 20, \"t\": 10}, \"annotations\": [{\"xref\": \"x1\", \"yref\": \"y1\", \"x\": 0.5, \"y\": 1, \"text\": \" \", \"align\": \"left\", \"font\": {\"family\": \"Arial\", \"size\": 14, \"color\": \"black\"}, \"showarrow\": false}, {\"xref\": \"x1\", \"yref\": \"y1\", \"x\": 1.5, \"y\": 1, \"text\": \"\\ucda9\", \"align\": \"left\", \"font\": {\"family\": \"Arial\", \"size\": 14, \"color\": \"black\"}, \"showarrow\": false}, {\"xref\": \"x1\", \"yref\": \"y1\", \"x\": 2.5, \"y\": 1, \"text\": \"\\uccad\", \"align\": \"left\", \"font\": {\"family\": \"Arial\", \"size\": 14, \"color\": \"black\"}, \"showarrow\": false}, {\"xref\": \"x1\", \"yref\": \"y1\", \"x\": 3.5, \"y\": 1, \"text\": \"\\ubd81\", \"align\": \"left\", \"font\": {\"family\": \"Arial\", \"size\": 14, \"color\": \"black\"}, \"showarrow\": false}, {\"xref\": \"x1\", \"yref\": \"y1\", \"x\": 4.5, \"y\": 1, \"text\": \"\\ub3c4\", \"align\": \"left\", \"font\": {\"family\": \"Arial\", \"size\": 14, \"color\": \"black\"}, \"showarrow\": false}, {\"xref\": \"x1\", \"yref\": \"y1\", \"x\": 5.5, \"y\": 1, \"text\": \" \", \"align\": \"left\", \"font\": {\"family\": \"Arial\", \"size\": 14, \"color\": \"black\"}, \"showarrow\": false}, {\"xref\": \"x1\", \"yref\": \"y1\", \"x\": 6.5, \"y\": 1, \"text\": \"\\uccad\", \"align\": \"left\", \"font\": {\"family\": \"Arial\", \"size\": 14, \"color\": \"black\"}, \"showarrow\": false}, {\"xref\": \"x1\", \"yref\": \"y1\", \"x\": 7.5, \"y\": 1, \"text\": \"\\uc8fc\", \"align\": \"left\", \"font\": {\"family\": \"Arial\", \"size\": 14, \"color\": \"black\"}, \"showarrow\": false}, {\"xref\": \"x1\", \"yref\": \"y1\", \"x\": 8.5, \"y\": 1, \"text\": \"\\ub294\", \"align\": \"left\", \"font\": {\"family\": \"Arial\", \"size\": 14, \"color\": \"black\"}, \"showarrow\": false}, {\"xref\": \"x1\", \"yref\": \"y1\", \"x\": 9.5, \"y\": 1, \"text\": \" \", \"align\": \"left\", \"font\": {\"family\": \"Arial\", \"size\": 14, \"color\": \"black\"}, \"showarrow\": false}, {\"xref\": \"x1\", \"yref\": \"y1\", \"x\": 10.5, \"y\": 1, \"text\": \"\\uad50\", \"align\": \"left\", \"font\": {\"family\": \"Arial\", \"size\": 14, \"color\": \"black\"}, \"showarrow\": false}, {\"xref\": \"x1\", \"yref\": \"y1\", \"x\": 11.5, \"y\": 1, \"text\": \"\\uc721\", \"align\": \"left\", \"font\": {\"family\": \"Arial\", \"size\": 14, \"color\": \"black\"}, \"showarrow\": false}, {\"xref\": \"x1\", \"yref\": \"y1\", \"x\": 12.5, \"y\": 1, \"text\": \"\\uc758\", \"align\": \"left\", \"font\": {\"family\": \"Arial\", \"size\": 14, \"color\": \"black\"}, \"showarrow\": false}, {\"xref\": \"x1\", \"yref\": \"y1\", \"x\": 13.5, \"y\": 1, \"text\": \" \", \"align\": \"left\", \"font\": {\"family\": \"Arial\", \"size\": 14, \"color\": \"black\"}, \"showarrow\": false}, {\"xref\": \"x1\", \"yref\": \"y1\", \"x\": 14.5, \"y\": 1, \"text\": \"\\ub3c4\", \"align\": \"left\", \"font\": {\"family\": \"Arial\", \"size\": 14, \"color\": \"black\"}, \"showarrow\": false}, {\"xref\": \"x1\", \"yref\": \"y1\", \"x\": 15.5, \"y\": 1, \"text\": \"\\uc2dc\", \"align\": \"left\", \"font\": {\"family\": \"Arial\", \"size\": 14, \"color\": \"black\"}, \"showarrow\": false}, {\"xref\": \"x1\", \"yref\": \"y1\", \"x\": 16.5, \"y\": 1, \"text\": \"\\uc785\", \"align\": \"left\", \"font\": {\"family\": \"Arial\", \"size\": 14, \"color\": \"black\"}, \"showarrow\": false}, {\"xref\": \"x1\", \"yref\": \"y1\", \"x\": 17.5, \"y\": 1, \"text\": \"\\ub2c8\", \"align\": \"left\", \"font\": {\"family\": \"Arial\", \"size\": 14, \"color\": \"black\"}, \"showarrow\": false}, {\"xref\": \"x1\", \"yref\": \"y1\", \"x\": 18.5, \"y\": 1, \"text\": \"\\ub2e4\", \"align\": \"left\", \"font\": {\"family\": \"Arial\", \"size\": 14, \"color\": \"black\"}, \"showarrow\": false}, {\"xref\": \"x1\", \"yref\": \"y1\", \"x\": 19.5, \"y\": 1, \"text\": \".\", \"align\": \"left\", \"font\": {\"family\": \"Arial\", \"size\": 14, \"color\": \"black\"}, \"showarrow\": false}], \"height\": 80, \"images\": [{\"source\": \"https://raw.githubusercontent.com/fingeredman/teanaps/master/data/logo/teanaps_logo_no-bg.png\", \"xref\": \"paper\", \"yref\": \"paper\", \"x\": 0.5, \"y\": 0.6, \"sizex\": 0.7, \"sizey\": 0.7, \"xanchor\": \"center\", \"yanchor\": \"center\", \"opacity\": 0.3, \"layer\": \"above\"}]}, {\"showLink\": true, \"linkText\": \"Export to plot.ly\"})});</script>"
      ]
     },
     "metadata": {},
     "output_type": "display_data"
    }
   ],
   "source": [
    "input_text = \"충청북도 청주는 교육의 도시입니다.\"\n",
    "\n",
    "result = ner.parse(input_text)\n",
    "print(result)\n",
    "result = ner.parse_sentence(input_text)\n",
    "print(result)\n",
    "ner.draw_sentence_weight(input_text)"
   ]
  },
  {
   "cell_type": "code",
   "execution_count": 11,
   "metadata": {},
   "outputs": [
    {
     "name": "stdout",
     "output_type": "stream",
     "text": [
      "[('코로나 바이러스', 'UN', (3, 11)), ('연세대학교', 'OG', (17, 22)), ('제 768회', 'QT', (23, 29))]\n",
      "최근 <코로나 바이러스:UN>의 여파로 <연세대학교:OG> <제 768회:QT> 졸업식이 취소되었음을 알려드립니다.\n"
     ]
    },
    {
     "data": {
      "text/html": [
       "\n",
       "                <script src=\"/static/components/requirejs/require.js\"></script>\n",
       "                <script>\n",
       "                  requirejs.config({\n",
       "                    paths: {\n",
       "                      base: '/static/base',\n",
       "                      plotly: 'https://cdn.plot.ly/plotly-latest.min.js?noext',\n",
       "                    },\n",
       "                  });\n",
       "                </script>\n",
       "                "
      ],
      "text/plain": [
       "<IPython.core.display.HTML object>"
      ]
     },
     "metadata": {},
     "output_type": "display_data"
    },
    {
     "data": {
      "text/html": [
       "\n",
       "                <script src=\"/static/components/requirejs/require.js\"></script>\n",
       "                <script>\n",
       "                  requirejs.config({\n",
       "                    paths: {\n",
       "                      base: '/static/base',\n",
       "                      plotly: 'https://cdn.plot.ly/plotly-latest.min.js?noext',\n",
       "                    },\n",
       "                  });\n",
       "                </script>\n",
       "                "
      ],
      "text/plain": [
       "<IPython.core.display.HTML object>"
      ]
     },
     "metadata": {},
     "output_type": "display_data"
    },
    {
     "data": {
      "application/vnd.plotly.v1+json": {
       "data": [
        {
         "hoverinfo": "text",
         "marker": {
          "color": "rgb(253.97861371116164, 254.48930685558082, 255)"
         },
         "orientation": "h",
         "text": "0.01",
         "type": "bar",
         "width": 0.5,
         "x": [
          3
         ],
         "xaxis": "x1",
         "y": [
          1
         ],
         "yaxis": "y1"
        },
        {
         "hoverinfo": "text",
         "marker": {
          "color": "rgb(179.4215374681849, 217.21076873409245, 255)"
         },
         "orientation": "h",
         "text": "0.38",
         "type": "bar",
         "width": 0.5,
         "x": [
          2
         ],
         "xaxis": "x1",
         "y": [
          1
         ],
         "yaxis": "y1"
        },
        {
         "hoverinfo": "text",
         "marker": {
          "color": "rgb(204.7498914222021, 229.87494571110105, 255)"
         },
         "orientation": "h",
         "text": "0.25",
         "type": "bar",
         "width": 0.5,
         "x": [
          1
         ],
         "xaxis": "x1",
         "y": [
          1
         ],
         "yaxis": "y1"
        },
        {
         "hoverinfo": "text",
         "marker": {
          "color": "rgb(180.48923214421595, 217.744616072108, 255)"
         },
         "orientation": "h",
         "text": "0.37",
         "type": "bar",
         "width": 0.5,
         "x": [
          1
         ],
         "xaxis": "x1",
         "y": [
          1
         ],
         "yaxis": "y1"
        },
        {
         "hoverinfo": "text",
         "marker": {
          "color": "rgb(175.49563846002496, 215.24781923001248, 255)"
         },
         "orientation": "h",
         "text": "0.4",
         "type": "bar",
         "width": 0.5,
         "x": [
          5
         ],
         "xaxis": "x1",
         "y": [
          1
         ],
         "yaxis": "y1"
        },
        {
         "hoverinfo": "text",
         "marker": {
          "color": "rgb(251.66731546227464, 253.33365773113732, 255)"
         },
         "orientation": "h",
         "text": "0.02",
         "type": "bar",
         "width": 0.5,
         "x": [
          1
         ],
         "xaxis": "x1",
         "y": [
          1
         ],
         "yaxis": "y1"
        },
        {
         "hoverinfo": "text",
         "marker": {
          "color": "rgb(254.29025319209697, 254.64512659604847, 255)"
         },
         "orientation": "h",
         "text": "0.0",
         "type": "bar",
         "width": 0.5,
         "x": [
          2
         ],
         "xaxis": "x1",
         "y": [
          1
         ],
         "yaxis": "y1"
        },
        {
         "hoverinfo": "text",
         "marker": {
          "color": "rgb(254.23148457401098, 254.6157422870055, 255)"
         },
         "orientation": "h",
         "text": "0.0",
         "type": "bar",
         "width": 0.5,
         "x": [
          1
         ],
         "xaxis": "x1",
         "y": [
          1
         ],
         "yaxis": "y1"
        },
        {
         "hoverinfo": "text",
         "marker": {
          "color": "rgb(254.04053496646299, 254.5202674832315, 255)"
         },
         "orientation": "h",
         "text": "0.0",
         "type": "bar",
         "width": 0.5,
         "x": [
          1
         ],
         "xaxis": "x1",
         "y": [
          1
         ],
         "yaxis": "y1"
        },
        {
         "hoverinfo": "text",
         "marker": {
          "color": "rgb(92.36122009021295, 173.68061004510648, 255)"
         },
         "orientation": "h",
         "text": "0.81",
         "type": "bar",
         "width": 0.5,
         "x": [
          4
         ],
         "xaxis": "x1",
         "y": [
          1
         ],
         "yaxis": "y1"
        },
        {
         "hoverinfo": "text",
         "marker": {
          "color": "rgb(55.0, 155.0, 255)"
         },
         "orientation": "h",
         "text": "1.0",
         "type": "bar",
         "width": 0.5,
         "x": [
          2
         ],
         "xaxis": "x1",
         "y": [
          1
         ],
         "yaxis": "y1"
        },
        {
         "hoverinfo": "text",
         "marker": {
          "color": "rgb(244.9758128641645, 249.98790643208227, 255)"
         },
         "orientation": "h",
         "text": "0.05",
         "type": "bar",
         "width": 0.5,
         "x": [
          2
         ],
         "xaxis": "x1",
         "y": [
          1
         ],
         "yaxis": "y1"
        },
        {
         "hoverinfo": "text",
         "marker": {
          "color": "rgb(219.64404417842007, 237.32202208921004, 255)"
         },
         "orientation": "h",
         "text": "0.18",
         "type": "bar",
         "width": 0.5,
         "x": [
          2
         ],
         "xaxis": "x1",
         "y": [
          1
         ],
         "yaxis": "y1"
        },
        {
         "hoverinfo": "text",
         "marker": {
          "color": "rgb(202.11139142191482, 228.55569571095742, 255)"
         },
         "orientation": "h",
         "text": "0.26",
         "type": "bar",
         "width": 0.5,
         "x": [
          2
         ],
         "xaxis": "x1",
         "y": [
          1
         ],
         "yaxis": "y1"
        },
        {
         "hoverinfo": "text",
         "marker": {
          "color": "rgb(190.90781669030576, 222.95390834515288, 255)"
         },
         "orientation": "h",
         "text": "0.32",
         "type": "bar",
         "width": 0.5,
         "x": [
          1
         ],
         "xaxis": "x1",
         "y": [
          1
         ],
         "yaxis": "y1"
        },
        {
         "hoverinfo": "text",
         "marker": {
          "color": "rgb(249.57858085719454, 252.28929042859727, 255)"
         },
         "orientation": "h",
         "text": "0.03",
         "type": "bar",
         "width": 0.5,
         "x": [
          3
         ],
         "xaxis": "x1",
         "y": [
          1
         ],
         "yaxis": "y1"
        },
        {
         "hoverinfo": "text",
         "marker": {
          "color": "rgb(250.57416292489503, 252.7870814624475, 255)"
         },
         "orientation": "h",
         "text": "0.02",
         "type": "bar",
         "width": 0.5,
         "x": [
          1
         ],
         "xaxis": "x1",
         "y": [
          1
         ],
         "yaxis": "y1"
        },
        {
         "hoverinfo": "text",
         "marker": {
          "color": "rgb(253.3650051838665, 254.18250259193323, 255)"
         },
         "orientation": "h",
         "text": "0.01",
         "type": "bar",
         "width": 0.5,
         "x": [
          1
         ],
         "xaxis": "x1",
         "y": [
          1
         ],
         "yaxis": "y1"
        },
        {
         "hoverinfo": "text",
         "marker": {
          "color": "rgb(253.26820400358415, 254.1341020017921, 255)"
         },
         "orientation": "h",
         "text": "0.01",
         "type": "bar",
         "width": 0.5,
         "x": [
          3
         ],
         "xaxis": "x1",
         "y": [
          1
         ],
         "yaxis": "y1"
        },
        {
         "hoverinfo": "text",
         "marker": {
          "color": "rgb(253.49285305268398, 254.246426526342, 255)"
         },
         "orientation": "h",
         "text": "0.01",
         "type": "bar",
         "width": 0.5,
         "x": [
          2
         ],
         "xaxis": "x1",
         "y": [
          1
         ],
         "yaxis": "y1"
        },
        {
         "hoverinfo": "text",
         "marker": {
          "color": "rgb(253.27117663118491, 254.13558831559246, 255)"
         },
         "orientation": "h",
         "text": "0.01",
         "type": "bar",
         "width": 0.5,
         "x": [
          1
         ],
         "xaxis": "x1",
         "y": [
          1
         ],
         "yaxis": "y1"
        },
        {
         "hoverinfo": "text",
         "marker": {
          "color": "rgb(253.0386366583025, 254.01931832915125, 255)"
         },
         "orientation": "h",
         "text": "0.01",
         "type": "bar",
         "width": 0.5,
         "x": [
          1
         ],
         "xaxis": "x1",
         "y": [
          1
         ],
         "yaxis": "y1"
        },
        {
         "hoverinfo": "text",
         "marker": {
          "color": "rgb(253.71813428375057, 254.3590671418753, 255)"
         },
         "orientation": "h",
         "text": "0.01",
         "type": "bar",
         "width": 0.5,
         "x": [
          3
         ],
         "xaxis": "x1",
         "y": [
          1
         ],
         "yaxis": "y1"
        },
        {
         "hoverinfo": "text",
         "marker": {
          "color": "rgb(253.44132938871624, 254.2206646943581, 255)"
         },
         "orientation": "h",
         "text": "0.01",
         "type": "bar",
         "width": 0.5,
         "x": [
          4
         ],
         "xaxis": "x1",
         "y": [
          1
         ],
         "yaxis": "y1"
        },
        {
         "hoverinfo": "text",
         "marker": {
          "color": "rgb(252.09928749077878, 253.5496437453894, 255)"
         },
         "orientation": "h",
         "text": "0.01",
         "type": "bar",
         "width": 0.5,
         "x": [
          1
         ],
         "xaxis": "x1",
         "y": [
          1
         ],
         "yaxis": "y1"
        }
       ],
       "layout": {
        "annotations": [
         {
          "align": "left",
          "font": {
           "color": "black",
           "family": "Arial",
           "size": 14
          },
          "showarrow": false,
          "text": " ",
          "x": 0.5,
          "xref": "x1",
          "y": 1,
          "yref": "y1"
         },
         {
          "align": "left",
          "font": {
           "color": "black",
           "family": "Arial",
           "size": 14
          },
          "showarrow": false,
          "text": "최",
          "x": 1.5,
          "xref": "x1",
          "y": 1,
          "yref": "y1"
         },
         {
          "align": "left",
          "font": {
           "color": "black",
           "family": "Arial",
           "size": 14
          },
          "showarrow": false,
          "text": "근",
          "x": 2.5,
          "xref": "x1",
          "y": 1,
          "yref": "y1"
         },
         {
          "align": "left",
          "font": {
           "color": "black",
           "family": "Arial",
           "size": 14
          },
          "showarrow": false,
          "text": " ",
          "x": 3.5,
          "xref": "x1",
          "y": 1,
          "yref": "y1"
         },
         {
          "align": "left",
          "font": {
           "color": "black",
           "family": "Arial",
           "size": 14
          },
          "showarrow": false,
          "text": "코",
          "x": 4.5,
          "xref": "x1",
          "y": 1,
          "yref": "y1"
         },
         {
          "align": "left",
          "font": {
           "color": "black",
           "family": "Arial",
           "size": 14
          },
          "showarrow": false,
          "text": "로",
          "x": 5.5,
          "xref": "x1",
          "y": 1,
          "yref": "y1"
         },
         {
          "align": "left",
          "font": {
           "color": "black",
           "family": "Arial",
           "size": 14
          },
          "showarrow": false,
          "text": "나",
          "x": 6.5,
          "xref": "x1",
          "y": 1,
          "yref": "y1"
         },
         {
          "align": "left",
          "font": {
           "color": "black",
           "family": "Arial",
           "size": 14
          },
          "showarrow": false,
          "text": " ",
          "x": 7.5,
          "xref": "x1",
          "y": 1,
          "yref": "y1"
         },
         {
          "align": "left",
          "font": {
           "color": "black",
           "family": "Arial",
           "size": 14
          },
          "showarrow": false,
          "text": "바",
          "x": 8.5,
          "xref": "x1",
          "y": 1,
          "yref": "y1"
         },
         {
          "align": "left",
          "font": {
           "color": "black",
           "family": "Arial",
           "size": 14
          },
          "showarrow": false,
          "text": "이",
          "x": 9.5,
          "xref": "x1",
          "y": 1,
          "yref": "y1"
         },
         {
          "align": "left",
          "font": {
           "color": "black",
           "family": "Arial",
           "size": 14
          },
          "showarrow": false,
          "text": "러",
          "x": 10.5,
          "xref": "x1",
          "y": 1,
          "yref": "y1"
         },
         {
          "align": "left",
          "font": {
           "color": "black",
           "family": "Arial",
           "size": 14
          },
          "showarrow": false,
          "text": "스",
          "x": 11.5,
          "xref": "x1",
          "y": 1,
          "yref": "y1"
         },
         {
          "align": "left",
          "font": {
           "color": "black",
           "family": "Arial",
           "size": 14
          },
          "showarrow": false,
          "text": "의",
          "x": 12.5,
          "xref": "x1",
          "y": 1,
          "yref": "y1"
         },
         {
          "align": "left",
          "font": {
           "color": "black",
           "family": "Arial",
           "size": 14
          },
          "showarrow": false,
          "text": " ",
          "x": 13.5,
          "xref": "x1",
          "y": 1,
          "yref": "y1"
         },
         {
          "align": "left",
          "font": {
           "color": "black",
           "family": "Arial",
           "size": 14
          },
          "showarrow": false,
          "text": "여",
          "x": 14.5,
          "xref": "x1",
          "y": 1,
          "yref": "y1"
         },
         {
          "align": "left",
          "font": {
           "color": "black",
           "family": "Arial",
           "size": 14
          },
          "showarrow": false,
          "text": "파",
          "x": 15.5,
          "xref": "x1",
          "y": 1,
          "yref": "y1"
         },
         {
          "align": "left",
          "font": {
           "color": "black",
           "family": "Arial",
           "size": 14
          },
          "showarrow": false,
          "text": "로",
          "x": 16.5,
          "xref": "x1",
          "y": 1,
          "yref": "y1"
         },
         {
          "align": "left",
          "font": {
           "color": "black",
           "family": "Arial",
           "size": 14
          },
          "showarrow": false,
          "text": " ",
          "x": 17.5,
          "xref": "x1",
          "y": 1,
          "yref": "y1"
         },
         {
          "align": "left",
          "font": {
           "color": "black",
           "family": "Arial",
           "size": 14
          },
          "showarrow": false,
          "text": "연",
          "x": 18.5,
          "xref": "x1",
          "y": 1,
          "yref": "y1"
         },
         {
          "align": "left",
          "font": {
           "color": "black",
           "family": "Arial",
           "size": 14
          },
          "showarrow": false,
          "text": "세",
          "x": 19.5,
          "xref": "x1",
          "y": 1,
          "yref": "y1"
         },
         {
          "align": "left",
          "font": {
           "color": "black",
           "family": "Arial",
           "size": 14
          },
          "showarrow": false,
          "text": "대",
          "x": 20.5,
          "xref": "x1",
          "y": 1,
          "yref": "y1"
         },
         {
          "align": "left",
          "font": {
           "color": "black",
           "family": "Arial",
           "size": 14
          },
          "showarrow": false,
          "text": "학",
          "x": 21.5,
          "xref": "x1",
          "y": 1,
          "yref": "y1"
         },
         {
          "align": "left",
          "font": {
           "color": "black",
           "family": "Arial",
           "size": 14
          },
          "showarrow": false,
          "text": "교",
          "x": 22.5,
          "xref": "x1",
          "y": 1,
          "yref": "y1"
         },
         {
          "align": "left",
          "font": {
           "color": "black",
           "family": "Arial",
           "size": 14
          },
          "showarrow": false,
          "text": " ",
          "x": 23.5,
          "xref": "x1",
          "y": 1,
          "yref": "y1"
         },
         {
          "align": "left",
          "font": {
           "color": "black",
           "family": "Arial",
           "size": 14
          },
          "showarrow": false,
          "text": "제",
          "x": 24.5,
          "xref": "x1",
          "y": 1,
          "yref": "y1"
         },
         {
          "align": "left",
          "font": {
           "color": "black",
           "family": "Arial",
           "size": 14
          },
          "showarrow": false,
          "text": " ",
          "x": 25.5,
          "xref": "x1",
          "y": 1,
          "yref": "y1"
         },
         {
          "align": "left",
          "font": {
           "color": "black",
           "family": "Arial",
           "size": 14
          },
          "showarrow": false,
          "text": "7",
          "x": 26.5,
          "xref": "x1",
          "y": 1,
          "yref": "y1"
         },
         {
          "align": "left",
          "font": {
           "color": "black",
           "family": "Arial",
           "size": 14
          },
          "showarrow": false,
          "text": "6",
          "x": 27.5,
          "xref": "x1",
          "y": 1,
          "yref": "y1"
         },
         {
          "align": "left",
          "font": {
           "color": "black",
           "family": "Arial",
           "size": 14
          },
          "showarrow": false,
          "text": "8",
          "x": 28.5,
          "xref": "x1",
          "y": 1,
          "yref": "y1"
         },
         {
          "align": "left",
          "font": {
           "color": "black",
           "family": "Arial",
           "size": 14
          },
          "showarrow": false,
          "text": "회",
          "x": 29.5,
          "xref": "x1",
          "y": 1,
          "yref": "y1"
         },
         {
          "align": "left",
          "font": {
           "color": "black",
           "family": "Arial",
           "size": 14
          },
          "showarrow": false,
          "text": " ",
          "x": 30.5,
          "xref": "x1",
          "y": 1,
          "yref": "y1"
         },
         {
          "align": "left",
          "font": {
           "color": "black",
           "family": "Arial",
           "size": 14
          },
          "showarrow": false,
          "text": "졸",
          "x": 31.5,
          "xref": "x1",
          "y": 1,
          "yref": "y1"
         },
         {
          "align": "left",
          "font": {
           "color": "black",
           "family": "Arial",
           "size": 14
          },
          "showarrow": false,
          "text": "업",
          "x": 32.5,
          "xref": "x1",
          "y": 1,
          "yref": "y1"
         },
         {
          "align": "left",
          "font": {
           "color": "black",
           "family": "Arial",
           "size": 14
          },
          "showarrow": false,
          "text": "식",
          "x": 33.5,
          "xref": "x1",
          "y": 1,
          "yref": "y1"
         },
         {
          "align": "left",
          "font": {
           "color": "black",
           "family": "Arial",
           "size": 14
          },
          "showarrow": false,
          "text": "이",
          "x": 34.5,
          "xref": "x1",
          "y": 1,
          "yref": "y1"
         },
         {
          "align": "left",
          "font": {
           "color": "black",
           "family": "Arial",
           "size": 14
          },
          "showarrow": false,
          "text": " ",
          "x": 35.5,
          "xref": "x1",
          "y": 1,
          "yref": "y1"
         },
         {
          "align": "left",
          "font": {
           "color": "black",
           "family": "Arial",
           "size": 14
          },
          "showarrow": false,
          "text": "취",
          "x": 36.5,
          "xref": "x1",
          "y": 1,
          "yref": "y1"
         },
         {
          "align": "left",
          "font": {
           "color": "black",
           "family": "Arial",
           "size": 14
          },
          "showarrow": false,
          "text": "소",
          "x": 37.5,
          "xref": "x1",
          "y": 1,
          "yref": "y1"
         },
         {
          "align": "left",
          "font": {
           "color": "black",
           "family": "Arial",
           "size": 14
          },
          "showarrow": false,
          "text": "되",
          "x": 38.5,
          "xref": "x1",
          "y": 1,
          "yref": "y1"
         },
         {
          "align": "left",
          "font": {
           "color": "black",
           "family": "Arial",
           "size": 14
          },
          "showarrow": false,
          "text": "었",
          "x": 39.5,
          "xref": "x1",
          "y": 1,
          "yref": "y1"
         },
         {
          "align": "left",
          "font": {
           "color": "black",
           "family": "Arial",
           "size": 14
          },
          "showarrow": false,
          "text": "음",
          "x": 40.5,
          "xref": "x1",
          "y": 1,
          "yref": "y1"
         },
         {
          "align": "left",
          "font": {
           "color": "black",
           "family": "Arial",
           "size": 14
          },
          "showarrow": false,
          "text": "을",
          "x": 41.5,
          "xref": "x1",
          "y": 1,
          "yref": "y1"
         },
         {
          "align": "left",
          "font": {
           "color": "black",
           "family": "Arial",
           "size": 14
          },
          "showarrow": false,
          "text": " ",
          "x": 42.5,
          "xref": "x1",
          "y": 1,
          "yref": "y1"
         },
         {
          "align": "left",
          "font": {
           "color": "black",
           "family": "Arial",
           "size": 14
          },
          "showarrow": false,
          "text": "알",
          "x": 43.5,
          "xref": "x1",
          "y": 1,
          "yref": "y1"
         },
         {
          "align": "left",
          "font": {
           "color": "black",
           "family": "Arial",
           "size": 14
          },
          "showarrow": false,
          "text": "려",
          "x": 44.5,
          "xref": "x1",
          "y": 1,
          "yref": "y1"
         },
         {
          "align": "left",
          "font": {
           "color": "black",
           "family": "Arial",
           "size": 14
          },
          "showarrow": false,
          "text": "드",
          "x": 45.5,
          "xref": "x1",
          "y": 1,
          "yref": "y1"
         },
         {
          "align": "left",
          "font": {
           "color": "black",
           "family": "Arial",
           "size": 14
          },
          "showarrow": false,
          "text": "립",
          "x": 46.5,
          "xref": "x1",
          "y": 1,
          "yref": "y1"
         },
         {
          "align": "left",
          "font": {
           "color": "black",
           "family": "Arial",
           "size": 14
          },
          "showarrow": false,
          "text": "니",
          "x": 47.5,
          "xref": "x1",
          "y": 1,
          "yref": "y1"
         },
         {
          "align": "left",
          "font": {
           "color": "black",
           "family": "Arial",
           "size": 14
          },
          "showarrow": false,
          "text": "다",
          "x": 48.5,
          "xref": "x1",
          "y": 1,
          "yref": "y1"
         },
         {
          "align": "left",
          "font": {
           "color": "black",
           "family": "Arial",
           "size": 14
          },
          "showarrow": false,
          "text": ".",
          "x": 49.5,
          "xref": "x1",
          "y": 1,
          "yref": "y1"
         }
        ],
        "barmode": "stack",
        "height": 80,
        "images": [
         {
          "layer": "above",
          "opacity": 0.3,
          "sizex": 0.7,
          "sizey": 0.7,
          "source": "https://raw.githubusercontent.com/fingeredman/teanaps/master/data/logo/teanaps_logo_no-bg.png",
          "x": 0.5,
          "xanchor": "center",
          "xref": "paper",
          "y": 0.6,
          "yanchor": "center",
          "yref": "paper"
         }
        ],
        "margin": {
         "b": 30,
         "l": 20,
         "r": 20,
         "t": 10
        },
        "showlegend": false,
        "xaxis1": {
         "anchor": "y1",
         "domain": [
          0,
          1
         ],
         "showgrid": false,
         "showline": false,
         "showticklabels": false,
         "zeroline": false
        },
        "yaxis1": {
         "anchor": "x1",
         "domain": [
          0,
          1
         ],
         "showgrid": false,
         "showline": false,
         "showticklabels": false,
         "zeroline": false
        }
       }
      },
      "text/html": [
       "<div id=\"c887e206-acee-4b92-908f-8eba6c5f6c25\" style=\"height: 80px; width: 100%;\" class=\"plotly-graph-div\"></div><script type=\"text/javascript\">require([\"plotly\"], function(Plotly) { window.PLOTLYENV=window.PLOTLYENV || {};window.PLOTLYENV.BASE_URL=\"https://plot.ly\";Plotly.newPlot(\"c887e206-acee-4b92-908f-8eba6c5f6c25\", [{\"type\": \"bar\", \"y\": [1], \"x\": [3], \"orientation\": \"h\", \"width\": 0.5, \"text\": \"0.01\", \"hoverinfo\": \"text\", \"marker\": {\"color\": \"rgb(253.97861371116164, 254.48930685558082, 255)\"}, \"xaxis\": \"x1\", \"yaxis\": \"y1\"}, {\"type\": \"bar\", \"y\": [1], \"x\": [2], \"orientation\": \"h\", \"width\": 0.5, \"text\": \"0.38\", \"hoverinfo\": \"text\", \"marker\": {\"color\": \"rgb(179.4215374681849, 217.21076873409245, 255)\"}, \"xaxis\": \"x1\", \"yaxis\": \"y1\"}, {\"type\": \"bar\", \"y\": [1], \"x\": [1], \"orientation\": \"h\", \"width\": 0.5, \"text\": \"0.25\", \"hoverinfo\": \"text\", \"marker\": {\"color\": \"rgb(204.7498914222021, 229.87494571110105, 255)\"}, \"xaxis\": \"x1\", \"yaxis\": \"y1\"}, {\"type\": \"bar\", \"y\": [1], \"x\": [1], \"orientation\": \"h\", \"width\": 0.5, \"text\": \"0.37\", \"hoverinfo\": \"text\", \"marker\": {\"color\": \"rgb(180.48923214421595, 217.744616072108, 255)\"}, \"xaxis\": \"x1\", \"yaxis\": \"y1\"}, {\"type\": \"bar\", \"y\": [1], \"x\": [5], \"orientation\": \"h\", \"width\": 0.5, \"text\": \"0.4\", \"hoverinfo\": \"text\", \"marker\": {\"color\": \"rgb(175.49563846002496, 215.24781923001248, 255)\"}, \"xaxis\": \"x1\", \"yaxis\": \"y1\"}, {\"type\": \"bar\", \"y\": [1], \"x\": [1], \"orientation\": \"h\", \"width\": 0.5, \"text\": \"0.02\", \"hoverinfo\": \"text\", \"marker\": {\"color\": \"rgb(251.66731546227464, 253.33365773113732, 255)\"}, \"xaxis\": \"x1\", \"yaxis\": \"y1\"}, {\"type\": \"bar\", \"y\": [1], \"x\": [2], \"orientation\": \"h\", \"width\": 0.5, \"text\": \"0.0\", \"hoverinfo\": \"text\", \"marker\": {\"color\": \"rgb(254.29025319209697, 254.64512659604847, 255)\"}, \"xaxis\": \"x1\", \"yaxis\": \"y1\"}, {\"type\": \"bar\", \"y\": [1], \"x\": [1], \"orientation\": \"h\", \"width\": 0.5, \"text\": \"0.0\", \"hoverinfo\": \"text\", \"marker\": {\"color\": \"rgb(254.23148457401098, 254.6157422870055, 255)\"}, \"xaxis\": \"x1\", \"yaxis\": \"y1\"}, {\"type\": \"bar\", \"y\": [1], \"x\": [1], \"orientation\": \"h\", \"width\": 0.5, \"text\": \"0.0\", \"hoverinfo\": \"text\", \"marker\": {\"color\": \"rgb(254.04053496646299, 254.5202674832315, 255)\"}, \"xaxis\": \"x1\", \"yaxis\": \"y1\"}, {\"type\": \"bar\", \"y\": [1], \"x\": [4], \"orientation\": \"h\", \"width\": 0.5, \"text\": \"0.81\", \"hoverinfo\": \"text\", \"marker\": {\"color\": \"rgb(92.36122009021295, 173.68061004510648, 255)\"}, \"xaxis\": \"x1\", \"yaxis\": \"y1\"}, {\"type\": \"bar\", \"y\": [1], \"x\": [2], \"orientation\": \"h\", \"width\": 0.5, \"text\": \"1.0\", \"hoverinfo\": \"text\", \"marker\": {\"color\": \"rgb(55.0, 155.0, 255)\"}, \"xaxis\": \"x1\", \"yaxis\": \"y1\"}, {\"type\": \"bar\", \"y\": [1], \"x\": [2], \"orientation\": \"h\", \"width\": 0.5, \"text\": \"0.05\", \"hoverinfo\": \"text\", \"marker\": {\"color\": \"rgb(244.9758128641645, 249.98790643208227, 255)\"}, \"xaxis\": \"x1\", \"yaxis\": \"y1\"}, {\"type\": \"bar\", \"y\": [1], \"x\": [2], \"orientation\": \"h\", \"width\": 0.5, \"text\": \"0.18\", \"hoverinfo\": \"text\", \"marker\": {\"color\": \"rgb(219.64404417842007, 237.32202208921004, 255)\"}, \"xaxis\": \"x1\", \"yaxis\": \"y1\"}, {\"type\": \"bar\", \"y\": [1], \"x\": [2], \"orientation\": \"h\", \"width\": 0.5, \"text\": \"0.26\", \"hoverinfo\": \"text\", \"marker\": {\"color\": \"rgb(202.11139142191482, 228.55569571095742, 255)\"}, \"xaxis\": \"x1\", \"yaxis\": \"y1\"}, {\"type\": \"bar\", \"y\": [1], \"x\": [1], \"orientation\": \"h\", \"width\": 0.5, \"text\": \"0.32\", \"hoverinfo\": \"text\", \"marker\": {\"color\": \"rgb(190.90781669030576, 222.95390834515288, 255)\"}, \"xaxis\": \"x1\", \"yaxis\": \"y1\"}, {\"type\": \"bar\", \"y\": [1], \"x\": [3], \"orientation\": \"h\", \"width\": 0.5, \"text\": \"0.03\", \"hoverinfo\": \"text\", \"marker\": {\"color\": \"rgb(249.57858085719454, 252.28929042859727, 255)\"}, \"xaxis\": \"x1\", \"yaxis\": \"y1\"}, {\"type\": \"bar\", \"y\": [1], \"x\": [1], \"orientation\": \"h\", \"width\": 0.5, \"text\": \"0.02\", \"hoverinfo\": \"text\", \"marker\": {\"color\": \"rgb(250.57416292489503, 252.7870814624475, 255)\"}, \"xaxis\": \"x1\", \"yaxis\": \"y1\"}, {\"type\": \"bar\", \"y\": [1], \"x\": [1], \"orientation\": \"h\", \"width\": 0.5, \"text\": \"0.01\", \"hoverinfo\": \"text\", \"marker\": {\"color\": \"rgb(253.3650051838665, 254.18250259193323, 255)\"}, \"xaxis\": \"x1\", \"yaxis\": \"y1\"}, {\"type\": \"bar\", \"y\": [1], \"x\": [3], \"orientation\": \"h\", \"width\": 0.5, \"text\": \"0.01\", \"hoverinfo\": \"text\", \"marker\": {\"color\": \"rgb(253.26820400358415, 254.1341020017921, 255)\"}, \"xaxis\": \"x1\", \"yaxis\": \"y1\"}, {\"type\": \"bar\", \"y\": [1], \"x\": [2], \"orientation\": \"h\", \"width\": 0.5, \"text\": \"0.01\", \"hoverinfo\": \"text\", \"marker\": {\"color\": \"rgb(253.49285305268398, 254.246426526342, 255)\"}, \"xaxis\": \"x1\", \"yaxis\": \"y1\"}, {\"type\": \"bar\", \"y\": [1], \"x\": [1], \"orientation\": \"h\", \"width\": 0.5, \"text\": \"0.01\", \"hoverinfo\": \"text\", \"marker\": {\"color\": \"rgb(253.27117663118491, 254.13558831559246, 255)\"}, \"xaxis\": \"x1\", \"yaxis\": \"y1\"}, {\"type\": \"bar\", \"y\": [1], \"x\": [1], \"orientation\": \"h\", \"width\": 0.5, \"text\": \"0.01\", \"hoverinfo\": \"text\", \"marker\": {\"color\": \"rgb(253.0386366583025, 254.01931832915125, 255)\"}, \"xaxis\": \"x1\", \"yaxis\": \"y1\"}, {\"type\": \"bar\", \"y\": [1], \"x\": [3], \"orientation\": \"h\", \"width\": 0.5, \"text\": \"0.01\", \"hoverinfo\": \"text\", \"marker\": {\"color\": \"rgb(253.71813428375057, 254.3590671418753, 255)\"}, \"xaxis\": \"x1\", \"yaxis\": \"y1\"}, {\"type\": \"bar\", \"y\": [1], \"x\": [4], \"orientation\": \"h\", \"width\": 0.5, \"text\": \"0.01\", \"hoverinfo\": \"text\", \"marker\": {\"color\": \"rgb(253.44132938871624, 254.2206646943581, 255)\"}, \"xaxis\": \"x1\", \"yaxis\": \"y1\"}, {\"type\": \"bar\", \"y\": [1], \"x\": [1], \"orientation\": \"h\", \"width\": 0.5, \"text\": \"0.01\", \"hoverinfo\": \"text\", \"marker\": {\"color\": \"rgb(252.09928749077878, 253.5496437453894, 255)\"}, \"xaxis\": \"x1\", \"yaxis\": \"y1\"}], {\"xaxis1\": {\"domain\": [0.0, 1.0], \"anchor\": \"y1\", \"showgrid\": false, \"showline\": false, \"showticklabels\": false, \"zeroline\": false}, \"yaxis1\": {\"domain\": [0.0, 1.0], \"anchor\": \"x1\", \"showgrid\": false, \"showline\": false, \"showticklabels\": false, \"zeroline\": false}, \"barmode\": \"stack\", \"showlegend\": false, \"margin\": {\"b\": 30, \"l\": 20, \"r\": 20, \"t\": 10}, \"annotations\": [{\"xref\": \"x1\", \"yref\": \"y1\", \"x\": 0.5, \"y\": 1, \"text\": \" \", \"align\": \"left\", \"font\": {\"family\": \"Arial\", \"size\": 14, \"color\": \"black\"}, \"showarrow\": false}, {\"xref\": \"x1\", \"yref\": \"y1\", \"x\": 1.5, \"y\": 1, \"text\": \"\\ucd5c\", \"align\": \"left\", \"font\": {\"family\": \"Arial\", \"size\": 14, \"color\": \"black\"}, \"showarrow\": false}, {\"xref\": \"x1\", \"yref\": \"y1\", \"x\": 2.5, \"y\": 1, \"text\": \"\\uadfc\", \"align\": \"left\", \"font\": {\"family\": \"Arial\", \"size\": 14, \"color\": \"black\"}, \"showarrow\": false}, {\"xref\": \"x1\", \"yref\": \"y1\", \"x\": 3.5, \"y\": 1, \"text\": \" \", \"align\": \"left\", \"font\": {\"family\": \"Arial\", \"size\": 14, \"color\": \"black\"}, \"showarrow\": false}, {\"xref\": \"x1\", \"yref\": \"y1\", \"x\": 4.5, \"y\": 1, \"text\": \"\\ucf54\", \"align\": \"left\", \"font\": {\"family\": \"Arial\", \"size\": 14, \"color\": \"black\"}, \"showarrow\": false}, {\"xref\": \"x1\", \"yref\": \"y1\", \"x\": 5.5, \"y\": 1, \"text\": \"\\ub85c\", \"align\": \"left\", \"font\": {\"family\": \"Arial\", \"size\": 14, \"color\": \"black\"}, \"showarrow\": false}, {\"xref\": \"x1\", \"yref\": \"y1\", \"x\": 6.5, \"y\": 1, \"text\": \"\\ub098\", \"align\": \"left\", \"font\": {\"family\": \"Arial\", \"size\": 14, \"color\": \"black\"}, \"showarrow\": false}, {\"xref\": \"x1\", \"yref\": \"y1\", \"x\": 7.5, \"y\": 1, \"text\": \" \", \"align\": \"left\", \"font\": {\"family\": \"Arial\", \"size\": 14, \"color\": \"black\"}, \"showarrow\": false}, {\"xref\": \"x1\", \"yref\": \"y1\", \"x\": 8.5, \"y\": 1, \"text\": \"\\ubc14\", \"align\": \"left\", \"font\": {\"family\": \"Arial\", \"size\": 14, \"color\": \"black\"}, \"showarrow\": false}, {\"xref\": \"x1\", \"yref\": \"y1\", \"x\": 9.5, \"y\": 1, \"text\": \"\\uc774\", \"align\": \"left\", \"font\": {\"family\": \"Arial\", \"size\": 14, \"color\": \"black\"}, \"showarrow\": false}, {\"xref\": \"x1\", \"yref\": \"y1\", \"x\": 10.5, \"y\": 1, \"text\": \"\\ub7ec\", \"align\": \"left\", \"font\": {\"family\": \"Arial\", \"size\": 14, \"color\": \"black\"}, \"showarrow\": false}, {\"xref\": \"x1\", \"yref\": \"y1\", \"x\": 11.5, \"y\": 1, \"text\": \"\\uc2a4\", \"align\": \"left\", \"font\": {\"family\": \"Arial\", \"size\": 14, \"color\": \"black\"}, \"showarrow\": false}, {\"xref\": \"x1\", \"yref\": \"y1\", \"x\": 12.5, \"y\": 1, \"text\": \"\\uc758\", \"align\": \"left\", \"font\": {\"family\": \"Arial\", \"size\": 14, \"color\": \"black\"}, \"showarrow\": false}, {\"xref\": \"x1\", \"yref\": \"y1\", \"x\": 13.5, \"y\": 1, \"text\": \" \", \"align\": \"left\", \"font\": {\"family\": \"Arial\", \"size\": 14, \"color\": \"black\"}, \"showarrow\": false}, {\"xref\": \"x1\", \"yref\": \"y1\", \"x\": 14.5, \"y\": 1, \"text\": \"\\uc5ec\", \"align\": \"left\", \"font\": {\"family\": \"Arial\", \"size\": 14, \"color\": \"black\"}, \"showarrow\": false}, {\"xref\": \"x1\", \"yref\": \"y1\", \"x\": 15.5, \"y\": 1, \"text\": \"\\ud30c\", \"align\": \"left\", \"font\": {\"family\": \"Arial\", \"size\": 14, \"color\": \"black\"}, \"showarrow\": false}, {\"xref\": \"x1\", \"yref\": \"y1\", \"x\": 16.5, \"y\": 1, \"text\": \"\\ub85c\", \"align\": \"left\", \"font\": {\"family\": \"Arial\", \"size\": 14, \"color\": \"black\"}, \"showarrow\": false}, {\"xref\": \"x1\", \"yref\": \"y1\", \"x\": 17.5, \"y\": 1, \"text\": \" \", \"align\": \"left\", \"font\": {\"family\": \"Arial\", \"size\": 14, \"color\": \"black\"}, \"showarrow\": false}, {\"xref\": \"x1\", \"yref\": \"y1\", \"x\": 18.5, \"y\": 1, \"text\": \"\\uc5f0\", \"align\": \"left\", \"font\": {\"family\": \"Arial\", \"size\": 14, \"color\": \"black\"}, \"showarrow\": false}, {\"xref\": \"x1\", \"yref\": \"y1\", \"x\": 19.5, \"y\": 1, \"text\": \"\\uc138\", \"align\": \"left\", \"font\": {\"family\": \"Arial\", \"size\": 14, \"color\": \"black\"}, \"showarrow\": false}, {\"xref\": \"x1\", \"yref\": \"y1\", \"x\": 20.5, \"y\": 1, \"text\": \"\\ub300\", \"align\": \"left\", \"font\": {\"family\": \"Arial\", \"size\": 14, \"color\": \"black\"}, \"showarrow\": false}, {\"xref\": \"x1\", \"yref\": \"y1\", \"x\": 21.5, \"y\": 1, \"text\": \"\\ud559\", \"align\": \"left\", \"font\": {\"family\": \"Arial\", \"size\": 14, \"color\": \"black\"}, \"showarrow\": false}, {\"xref\": \"x1\", \"yref\": \"y1\", \"x\": 22.5, \"y\": 1, \"text\": \"\\uad50\", \"align\": \"left\", \"font\": {\"family\": \"Arial\", \"size\": 14, \"color\": \"black\"}, \"showarrow\": false}, {\"xref\": \"x1\", \"yref\": \"y1\", \"x\": 23.5, \"y\": 1, \"text\": \" \", \"align\": \"left\", \"font\": {\"family\": \"Arial\", \"size\": 14, \"color\": \"black\"}, \"showarrow\": false}, {\"xref\": \"x1\", \"yref\": \"y1\", \"x\": 24.5, \"y\": 1, \"text\": \"\\uc81c\", \"align\": \"left\", \"font\": {\"family\": \"Arial\", \"size\": 14, \"color\": \"black\"}, \"showarrow\": false}, {\"xref\": \"x1\", \"yref\": \"y1\", \"x\": 25.5, \"y\": 1, \"text\": \" \", \"align\": \"left\", \"font\": {\"family\": \"Arial\", \"size\": 14, \"color\": \"black\"}, \"showarrow\": false}, {\"xref\": \"x1\", \"yref\": \"y1\", \"x\": 26.5, \"y\": 1, \"text\": \"7\", \"align\": \"left\", \"font\": {\"family\": \"Arial\", \"size\": 14, \"color\": \"black\"}, \"showarrow\": false}, {\"xref\": \"x1\", \"yref\": \"y1\", \"x\": 27.5, \"y\": 1, \"text\": \"6\", \"align\": \"left\", \"font\": {\"family\": \"Arial\", \"size\": 14, \"color\": \"black\"}, \"showarrow\": false}, {\"xref\": \"x1\", \"yref\": \"y1\", \"x\": 28.5, \"y\": 1, \"text\": \"8\", \"align\": \"left\", \"font\": {\"family\": \"Arial\", \"size\": 14, \"color\": \"black\"}, \"showarrow\": false}, {\"xref\": \"x1\", \"yref\": \"y1\", \"x\": 29.5, \"y\": 1, \"text\": \"\\ud68c\", \"align\": \"left\", \"font\": {\"family\": \"Arial\", \"size\": 14, \"color\": \"black\"}, \"showarrow\": false}, {\"xref\": \"x1\", \"yref\": \"y1\", \"x\": 30.5, \"y\": 1, \"text\": \" \", \"align\": \"left\", \"font\": {\"family\": \"Arial\", \"size\": 14, \"color\": \"black\"}, \"showarrow\": false}, {\"xref\": \"x1\", \"yref\": \"y1\", \"x\": 31.5, \"y\": 1, \"text\": \"\\uc878\", \"align\": \"left\", \"font\": {\"family\": \"Arial\", \"size\": 14, \"color\": \"black\"}, \"showarrow\": false}, {\"xref\": \"x1\", \"yref\": \"y1\", \"x\": 32.5, \"y\": 1, \"text\": \"\\uc5c5\", \"align\": \"left\", \"font\": {\"family\": \"Arial\", \"size\": 14, \"color\": \"black\"}, \"showarrow\": false}, {\"xref\": \"x1\", \"yref\": \"y1\", \"x\": 33.5, \"y\": 1, \"text\": \"\\uc2dd\", \"align\": \"left\", \"font\": {\"family\": \"Arial\", \"size\": 14, \"color\": \"black\"}, \"showarrow\": false}, {\"xref\": \"x1\", \"yref\": \"y1\", \"x\": 34.5, \"y\": 1, \"text\": \"\\uc774\", \"align\": \"left\", \"font\": {\"family\": \"Arial\", \"size\": 14, \"color\": \"black\"}, \"showarrow\": false}, {\"xref\": \"x1\", \"yref\": \"y1\", \"x\": 35.5, \"y\": 1, \"text\": \" \", \"align\": \"left\", \"font\": {\"family\": \"Arial\", \"size\": 14, \"color\": \"black\"}, \"showarrow\": false}, {\"xref\": \"x1\", \"yref\": \"y1\", \"x\": 36.5, \"y\": 1, \"text\": \"\\ucde8\", \"align\": \"left\", \"font\": {\"family\": \"Arial\", \"size\": 14, \"color\": \"black\"}, \"showarrow\": false}, {\"xref\": \"x1\", \"yref\": \"y1\", \"x\": 37.5, \"y\": 1, \"text\": \"\\uc18c\", \"align\": \"left\", \"font\": {\"family\": \"Arial\", \"size\": 14, \"color\": \"black\"}, \"showarrow\": false}, {\"xref\": \"x1\", \"yref\": \"y1\", \"x\": 38.5, \"y\": 1, \"text\": \"\\ub418\", \"align\": \"left\", \"font\": {\"family\": \"Arial\", \"size\": 14, \"color\": \"black\"}, \"showarrow\": false}, {\"xref\": \"x1\", \"yref\": \"y1\", \"x\": 39.5, \"y\": 1, \"text\": \"\\uc5c8\", \"align\": \"left\", \"font\": {\"family\": \"Arial\", \"size\": 14, \"color\": \"black\"}, \"showarrow\": false}, {\"xref\": \"x1\", \"yref\": \"y1\", \"x\": 40.5, \"y\": 1, \"text\": \"\\uc74c\", \"align\": \"left\", \"font\": {\"family\": \"Arial\", \"size\": 14, \"color\": \"black\"}, \"showarrow\": false}, {\"xref\": \"x1\", \"yref\": \"y1\", \"x\": 41.5, \"y\": 1, \"text\": \"\\uc744\", \"align\": \"left\", \"font\": {\"family\": \"Arial\", \"size\": 14, \"color\": \"black\"}, \"showarrow\": false}, {\"xref\": \"x1\", \"yref\": \"y1\", \"x\": 42.5, \"y\": 1, \"text\": \" \", \"align\": \"left\", \"font\": {\"family\": \"Arial\", \"size\": 14, \"color\": \"black\"}, \"showarrow\": false}, {\"xref\": \"x1\", \"yref\": \"y1\", \"x\": 43.5, \"y\": 1, \"text\": \"\\uc54c\", \"align\": \"left\", \"font\": {\"family\": \"Arial\", \"size\": 14, \"color\": \"black\"}, \"showarrow\": false}, {\"xref\": \"x1\", \"yref\": \"y1\", \"x\": 44.5, \"y\": 1, \"text\": \"\\ub824\", \"align\": \"left\", \"font\": {\"family\": \"Arial\", \"size\": 14, \"color\": \"black\"}, \"showarrow\": false}, {\"xref\": \"x1\", \"yref\": \"y1\", \"x\": 45.5, \"y\": 1, \"text\": \"\\ub4dc\", \"align\": \"left\", \"font\": {\"family\": \"Arial\", \"size\": 14, \"color\": \"black\"}, \"showarrow\": false}, {\"xref\": \"x1\", \"yref\": \"y1\", \"x\": 46.5, \"y\": 1, \"text\": \"\\ub9bd\", \"align\": \"left\", \"font\": {\"family\": \"Arial\", \"size\": 14, \"color\": \"black\"}, \"showarrow\": false}, {\"xref\": \"x1\", \"yref\": \"y1\", \"x\": 47.5, \"y\": 1, \"text\": \"\\ub2c8\", \"align\": \"left\", \"font\": {\"family\": \"Arial\", \"size\": 14, \"color\": \"black\"}, \"showarrow\": false}, {\"xref\": \"x1\", \"yref\": \"y1\", \"x\": 48.5, \"y\": 1, \"text\": \"\\ub2e4\", \"align\": \"left\", \"font\": {\"family\": \"Arial\", \"size\": 14, \"color\": \"black\"}, \"showarrow\": false}, {\"xref\": \"x1\", \"yref\": \"y1\", \"x\": 49.5, \"y\": 1, \"text\": \".\", \"align\": \"left\", \"font\": {\"family\": \"Arial\", \"size\": 14, \"color\": \"black\"}, \"showarrow\": false}], \"height\": 80, \"images\": [{\"source\": \"https://raw.githubusercontent.com/fingeredman/teanaps/master/data/logo/teanaps_logo_no-bg.png\", \"xref\": \"paper\", \"yref\": \"paper\", \"x\": 0.5, \"y\": 0.6, \"sizex\": 0.7, \"sizey\": 0.7, \"xanchor\": \"center\", \"yanchor\": \"center\", \"opacity\": 0.3, \"layer\": \"above\"}]}, {\"showLink\": true, \"linkText\": \"Export to plot.ly\"})});</script>"
      ],
      "text/vnd.plotly.v1+html": [
       "<div id=\"c887e206-acee-4b92-908f-8eba6c5f6c25\" style=\"height: 80px; width: 100%;\" class=\"plotly-graph-div\"></div><script type=\"text/javascript\">require([\"plotly\"], function(Plotly) { window.PLOTLYENV=window.PLOTLYENV || {};window.PLOTLYENV.BASE_URL=\"https://plot.ly\";Plotly.newPlot(\"c887e206-acee-4b92-908f-8eba6c5f6c25\", [{\"type\": \"bar\", \"y\": [1], \"x\": [3], \"orientation\": \"h\", \"width\": 0.5, \"text\": \"0.01\", \"hoverinfo\": \"text\", \"marker\": {\"color\": \"rgb(253.97861371116164, 254.48930685558082, 255)\"}, \"xaxis\": \"x1\", \"yaxis\": \"y1\"}, {\"type\": \"bar\", \"y\": [1], \"x\": [2], \"orientation\": \"h\", \"width\": 0.5, \"text\": \"0.38\", \"hoverinfo\": \"text\", \"marker\": {\"color\": \"rgb(179.4215374681849, 217.21076873409245, 255)\"}, \"xaxis\": \"x1\", \"yaxis\": \"y1\"}, {\"type\": \"bar\", \"y\": [1], \"x\": [1], \"orientation\": \"h\", \"width\": 0.5, \"text\": \"0.25\", \"hoverinfo\": \"text\", \"marker\": {\"color\": \"rgb(204.7498914222021, 229.87494571110105, 255)\"}, \"xaxis\": \"x1\", \"yaxis\": \"y1\"}, {\"type\": \"bar\", \"y\": [1], \"x\": [1], \"orientation\": \"h\", \"width\": 0.5, \"text\": \"0.37\", \"hoverinfo\": \"text\", \"marker\": {\"color\": \"rgb(180.48923214421595, 217.744616072108, 255)\"}, \"xaxis\": \"x1\", \"yaxis\": \"y1\"}, {\"type\": \"bar\", \"y\": [1], \"x\": [5], \"orientation\": \"h\", \"width\": 0.5, \"text\": \"0.4\", \"hoverinfo\": \"text\", \"marker\": {\"color\": \"rgb(175.49563846002496, 215.24781923001248, 255)\"}, \"xaxis\": \"x1\", \"yaxis\": \"y1\"}, {\"type\": \"bar\", \"y\": [1], \"x\": [1], \"orientation\": \"h\", \"width\": 0.5, \"text\": \"0.02\", \"hoverinfo\": \"text\", \"marker\": {\"color\": \"rgb(251.66731546227464, 253.33365773113732, 255)\"}, \"xaxis\": \"x1\", \"yaxis\": \"y1\"}, {\"type\": \"bar\", \"y\": [1], \"x\": [2], \"orientation\": \"h\", \"width\": 0.5, \"text\": \"0.0\", \"hoverinfo\": \"text\", \"marker\": {\"color\": \"rgb(254.29025319209697, 254.64512659604847, 255)\"}, \"xaxis\": \"x1\", \"yaxis\": \"y1\"}, {\"type\": \"bar\", \"y\": [1], \"x\": [1], \"orientation\": \"h\", \"width\": 0.5, \"text\": \"0.0\", \"hoverinfo\": \"text\", \"marker\": {\"color\": \"rgb(254.23148457401098, 254.6157422870055, 255)\"}, \"xaxis\": \"x1\", \"yaxis\": \"y1\"}, {\"type\": \"bar\", \"y\": [1], \"x\": [1], \"orientation\": \"h\", \"width\": 0.5, \"text\": \"0.0\", \"hoverinfo\": \"text\", \"marker\": {\"color\": \"rgb(254.04053496646299, 254.5202674832315, 255)\"}, \"xaxis\": \"x1\", \"yaxis\": \"y1\"}, {\"type\": \"bar\", \"y\": [1], \"x\": [4], \"orientation\": \"h\", \"width\": 0.5, \"text\": \"0.81\", \"hoverinfo\": \"text\", \"marker\": {\"color\": \"rgb(92.36122009021295, 173.68061004510648, 255)\"}, \"xaxis\": \"x1\", \"yaxis\": \"y1\"}, {\"type\": \"bar\", \"y\": [1], \"x\": [2], \"orientation\": \"h\", \"width\": 0.5, \"text\": \"1.0\", \"hoverinfo\": \"text\", \"marker\": {\"color\": \"rgb(55.0, 155.0, 255)\"}, \"xaxis\": \"x1\", \"yaxis\": \"y1\"}, {\"type\": \"bar\", \"y\": [1], \"x\": [2], \"orientation\": \"h\", \"width\": 0.5, \"text\": \"0.05\", \"hoverinfo\": \"text\", \"marker\": {\"color\": \"rgb(244.9758128641645, 249.98790643208227, 255)\"}, \"xaxis\": \"x1\", \"yaxis\": \"y1\"}, {\"type\": \"bar\", \"y\": [1], \"x\": [2], \"orientation\": \"h\", \"width\": 0.5, \"text\": \"0.18\", \"hoverinfo\": \"text\", \"marker\": {\"color\": \"rgb(219.64404417842007, 237.32202208921004, 255)\"}, \"xaxis\": \"x1\", \"yaxis\": \"y1\"}, {\"type\": \"bar\", \"y\": [1], \"x\": [2], \"orientation\": \"h\", \"width\": 0.5, \"text\": \"0.26\", \"hoverinfo\": \"text\", \"marker\": {\"color\": \"rgb(202.11139142191482, 228.55569571095742, 255)\"}, \"xaxis\": \"x1\", \"yaxis\": \"y1\"}, {\"type\": \"bar\", \"y\": [1], \"x\": [1], \"orientation\": \"h\", \"width\": 0.5, \"text\": \"0.32\", \"hoverinfo\": \"text\", \"marker\": {\"color\": \"rgb(190.90781669030576, 222.95390834515288, 255)\"}, \"xaxis\": \"x1\", \"yaxis\": \"y1\"}, {\"type\": \"bar\", \"y\": [1], \"x\": [3], \"orientation\": \"h\", \"width\": 0.5, \"text\": \"0.03\", \"hoverinfo\": \"text\", \"marker\": {\"color\": \"rgb(249.57858085719454, 252.28929042859727, 255)\"}, \"xaxis\": \"x1\", \"yaxis\": \"y1\"}, {\"type\": \"bar\", \"y\": [1], \"x\": [1], \"orientation\": \"h\", \"width\": 0.5, \"text\": \"0.02\", \"hoverinfo\": \"text\", \"marker\": {\"color\": \"rgb(250.57416292489503, 252.7870814624475, 255)\"}, \"xaxis\": \"x1\", \"yaxis\": \"y1\"}, {\"type\": \"bar\", \"y\": [1], \"x\": [1], \"orientation\": \"h\", \"width\": 0.5, \"text\": \"0.01\", \"hoverinfo\": \"text\", \"marker\": {\"color\": \"rgb(253.3650051838665, 254.18250259193323, 255)\"}, \"xaxis\": \"x1\", \"yaxis\": \"y1\"}, {\"type\": \"bar\", \"y\": [1], \"x\": [3], \"orientation\": \"h\", \"width\": 0.5, \"text\": \"0.01\", \"hoverinfo\": \"text\", \"marker\": {\"color\": \"rgb(253.26820400358415, 254.1341020017921, 255)\"}, \"xaxis\": \"x1\", \"yaxis\": \"y1\"}, {\"type\": \"bar\", \"y\": [1], \"x\": [2], \"orientation\": \"h\", \"width\": 0.5, \"text\": \"0.01\", \"hoverinfo\": \"text\", \"marker\": {\"color\": \"rgb(253.49285305268398, 254.246426526342, 255)\"}, \"xaxis\": \"x1\", \"yaxis\": \"y1\"}, {\"type\": \"bar\", \"y\": [1], \"x\": [1], \"orientation\": \"h\", \"width\": 0.5, \"text\": \"0.01\", \"hoverinfo\": \"text\", \"marker\": {\"color\": \"rgb(253.27117663118491, 254.13558831559246, 255)\"}, \"xaxis\": \"x1\", \"yaxis\": \"y1\"}, {\"type\": \"bar\", \"y\": [1], \"x\": [1], \"orientation\": \"h\", \"width\": 0.5, \"text\": \"0.01\", \"hoverinfo\": \"text\", \"marker\": {\"color\": \"rgb(253.0386366583025, 254.01931832915125, 255)\"}, \"xaxis\": \"x1\", \"yaxis\": \"y1\"}, {\"type\": \"bar\", \"y\": [1], \"x\": [3], \"orientation\": \"h\", \"width\": 0.5, \"text\": \"0.01\", \"hoverinfo\": \"text\", \"marker\": {\"color\": \"rgb(253.71813428375057, 254.3590671418753, 255)\"}, \"xaxis\": \"x1\", \"yaxis\": \"y1\"}, {\"type\": \"bar\", \"y\": [1], \"x\": [4], \"orientation\": \"h\", \"width\": 0.5, \"text\": \"0.01\", \"hoverinfo\": \"text\", \"marker\": {\"color\": \"rgb(253.44132938871624, 254.2206646943581, 255)\"}, \"xaxis\": \"x1\", \"yaxis\": \"y1\"}, {\"type\": \"bar\", \"y\": [1], \"x\": [1], \"orientation\": \"h\", \"width\": 0.5, \"text\": \"0.01\", \"hoverinfo\": \"text\", \"marker\": {\"color\": \"rgb(252.09928749077878, 253.5496437453894, 255)\"}, \"xaxis\": \"x1\", \"yaxis\": \"y1\"}], {\"xaxis1\": {\"domain\": [0.0, 1.0], \"anchor\": \"y1\", \"showgrid\": false, \"showline\": false, \"showticklabels\": false, \"zeroline\": false}, \"yaxis1\": {\"domain\": [0.0, 1.0], \"anchor\": \"x1\", \"showgrid\": false, \"showline\": false, \"showticklabels\": false, \"zeroline\": false}, \"barmode\": \"stack\", \"showlegend\": false, \"margin\": {\"b\": 30, \"l\": 20, \"r\": 20, \"t\": 10}, \"annotations\": [{\"xref\": \"x1\", \"yref\": \"y1\", \"x\": 0.5, \"y\": 1, \"text\": \" \", \"align\": \"left\", \"font\": {\"family\": \"Arial\", \"size\": 14, \"color\": \"black\"}, \"showarrow\": false}, {\"xref\": \"x1\", \"yref\": \"y1\", \"x\": 1.5, \"y\": 1, \"text\": \"\\ucd5c\", \"align\": \"left\", \"font\": {\"family\": \"Arial\", \"size\": 14, \"color\": \"black\"}, \"showarrow\": false}, {\"xref\": \"x1\", \"yref\": \"y1\", \"x\": 2.5, \"y\": 1, \"text\": \"\\uadfc\", \"align\": \"left\", \"font\": {\"family\": \"Arial\", \"size\": 14, \"color\": \"black\"}, \"showarrow\": false}, {\"xref\": \"x1\", \"yref\": \"y1\", \"x\": 3.5, \"y\": 1, \"text\": \" \", \"align\": \"left\", \"font\": {\"family\": \"Arial\", \"size\": 14, \"color\": \"black\"}, \"showarrow\": false}, {\"xref\": \"x1\", \"yref\": \"y1\", \"x\": 4.5, \"y\": 1, \"text\": \"\\ucf54\", \"align\": \"left\", \"font\": {\"family\": \"Arial\", \"size\": 14, \"color\": \"black\"}, \"showarrow\": false}, {\"xref\": \"x1\", \"yref\": \"y1\", \"x\": 5.5, \"y\": 1, \"text\": \"\\ub85c\", \"align\": \"left\", \"font\": {\"family\": \"Arial\", \"size\": 14, \"color\": \"black\"}, \"showarrow\": false}, {\"xref\": \"x1\", \"yref\": \"y1\", \"x\": 6.5, \"y\": 1, \"text\": \"\\ub098\", \"align\": \"left\", \"font\": {\"family\": \"Arial\", \"size\": 14, \"color\": \"black\"}, \"showarrow\": false}, {\"xref\": \"x1\", \"yref\": \"y1\", \"x\": 7.5, \"y\": 1, \"text\": \" \", \"align\": \"left\", \"font\": {\"family\": \"Arial\", \"size\": 14, \"color\": \"black\"}, \"showarrow\": false}, {\"xref\": \"x1\", \"yref\": \"y1\", \"x\": 8.5, \"y\": 1, \"text\": \"\\ubc14\", \"align\": \"left\", \"font\": {\"family\": \"Arial\", \"size\": 14, \"color\": \"black\"}, \"showarrow\": false}, {\"xref\": \"x1\", \"yref\": \"y1\", \"x\": 9.5, \"y\": 1, \"text\": \"\\uc774\", \"align\": \"left\", \"font\": {\"family\": \"Arial\", \"size\": 14, \"color\": \"black\"}, \"showarrow\": false}, {\"xref\": \"x1\", \"yref\": \"y1\", \"x\": 10.5, \"y\": 1, \"text\": \"\\ub7ec\", \"align\": \"left\", \"font\": {\"family\": \"Arial\", \"size\": 14, \"color\": \"black\"}, \"showarrow\": false}, {\"xref\": \"x1\", \"yref\": \"y1\", \"x\": 11.5, \"y\": 1, \"text\": \"\\uc2a4\", \"align\": \"left\", \"font\": {\"family\": \"Arial\", \"size\": 14, \"color\": \"black\"}, \"showarrow\": false}, {\"xref\": \"x1\", \"yref\": \"y1\", \"x\": 12.5, \"y\": 1, \"text\": \"\\uc758\", \"align\": \"left\", \"font\": {\"family\": \"Arial\", \"size\": 14, \"color\": \"black\"}, \"showarrow\": false}, {\"xref\": \"x1\", \"yref\": \"y1\", \"x\": 13.5, \"y\": 1, \"text\": \" \", \"align\": \"left\", \"font\": {\"family\": \"Arial\", \"size\": 14, \"color\": \"black\"}, \"showarrow\": false}, {\"xref\": \"x1\", \"yref\": \"y1\", \"x\": 14.5, \"y\": 1, \"text\": \"\\uc5ec\", \"align\": \"left\", \"font\": {\"family\": \"Arial\", \"size\": 14, \"color\": \"black\"}, \"showarrow\": false}, {\"xref\": \"x1\", \"yref\": \"y1\", \"x\": 15.5, \"y\": 1, \"text\": \"\\ud30c\", \"align\": \"left\", \"font\": {\"family\": \"Arial\", \"size\": 14, \"color\": \"black\"}, \"showarrow\": false}, {\"xref\": \"x1\", \"yref\": \"y1\", \"x\": 16.5, \"y\": 1, \"text\": \"\\ub85c\", \"align\": \"left\", \"font\": {\"family\": \"Arial\", \"size\": 14, \"color\": \"black\"}, \"showarrow\": false}, {\"xref\": \"x1\", \"yref\": \"y1\", \"x\": 17.5, \"y\": 1, \"text\": \" \", \"align\": \"left\", \"font\": {\"family\": \"Arial\", \"size\": 14, \"color\": \"black\"}, \"showarrow\": false}, {\"xref\": \"x1\", \"yref\": \"y1\", \"x\": 18.5, \"y\": 1, \"text\": \"\\uc5f0\", \"align\": \"left\", \"font\": {\"family\": \"Arial\", \"size\": 14, \"color\": \"black\"}, \"showarrow\": false}, {\"xref\": \"x1\", \"yref\": \"y1\", \"x\": 19.5, \"y\": 1, \"text\": \"\\uc138\", \"align\": \"left\", \"font\": {\"family\": \"Arial\", \"size\": 14, \"color\": \"black\"}, \"showarrow\": false}, {\"xref\": \"x1\", \"yref\": \"y1\", \"x\": 20.5, \"y\": 1, \"text\": \"\\ub300\", \"align\": \"left\", \"font\": {\"family\": \"Arial\", \"size\": 14, \"color\": \"black\"}, \"showarrow\": false}, {\"xref\": \"x1\", \"yref\": \"y1\", \"x\": 21.5, \"y\": 1, \"text\": \"\\ud559\", \"align\": \"left\", \"font\": {\"family\": \"Arial\", \"size\": 14, \"color\": \"black\"}, \"showarrow\": false}, {\"xref\": \"x1\", \"yref\": \"y1\", \"x\": 22.5, \"y\": 1, \"text\": \"\\uad50\", \"align\": \"left\", \"font\": {\"family\": \"Arial\", \"size\": 14, \"color\": \"black\"}, \"showarrow\": false}, {\"xref\": \"x1\", \"yref\": \"y1\", \"x\": 23.5, \"y\": 1, \"text\": \" \", \"align\": \"left\", \"font\": {\"family\": \"Arial\", \"size\": 14, \"color\": \"black\"}, \"showarrow\": false}, {\"xref\": \"x1\", \"yref\": \"y1\", \"x\": 24.5, \"y\": 1, \"text\": \"\\uc81c\", \"align\": \"left\", \"font\": {\"family\": \"Arial\", \"size\": 14, \"color\": \"black\"}, \"showarrow\": false}, {\"xref\": \"x1\", \"yref\": \"y1\", \"x\": 25.5, \"y\": 1, \"text\": \" \", \"align\": \"left\", \"font\": {\"family\": \"Arial\", \"size\": 14, \"color\": \"black\"}, \"showarrow\": false}, {\"xref\": \"x1\", \"yref\": \"y1\", \"x\": 26.5, \"y\": 1, \"text\": \"7\", \"align\": \"left\", \"font\": {\"family\": \"Arial\", \"size\": 14, \"color\": \"black\"}, \"showarrow\": false}, {\"xref\": \"x1\", \"yref\": \"y1\", \"x\": 27.5, \"y\": 1, \"text\": \"6\", \"align\": \"left\", \"font\": {\"family\": \"Arial\", \"size\": 14, \"color\": \"black\"}, \"showarrow\": false}, {\"xref\": \"x1\", \"yref\": \"y1\", \"x\": 28.5, \"y\": 1, \"text\": \"8\", \"align\": \"left\", \"font\": {\"family\": \"Arial\", \"size\": 14, \"color\": \"black\"}, \"showarrow\": false}, {\"xref\": \"x1\", \"yref\": \"y1\", \"x\": 29.5, \"y\": 1, \"text\": \"\\ud68c\", \"align\": \"left\", \"font\": {\"family\": \"Arial\", \"size\": 14, \"color\": \"black\"}, \"showarrow\": false}, {\"xref\": \"x1\", \"yref\": \"y1\", \"x\": 30.5, \"y\": 1, \"text\": \" \", \"align\": \"left\", \"font\": {\"family\": \"Arial\", \"size\": 14, \"color\": \"black\"}, \"showarrow\": false}, {\"xref\": \"x1\", \"yref\": \"y1\", \"x\": 31.5, \"y\": 1, \"text\": \"\\uc878\", \"align\": \"left\", \"font\": {\"family\": \"Arial\", \"size\": 14, \"color\": \"black\"}, \"showarrow\": false}, {\"xref\": \"x1\", \"yref\": \"y1\", \"x\": 32.5, \"y\": 1, \"text\": \"\\uc5c5\", \"align\": \"left\", \"font\": {\"family\": \"Arial\", \"size\": 14, \"color\": \"black\"}, \"showarrow\": false}, {\"xref\": \"x1\", \"yref\": \"y1\", \"x\": 33.5, \"y\": 1, \"text\": \"\\uc2dd\", \"align\": \"left\", \"font\": {\"family\": \"Arial\", \"size\": 14, \"color\": \"black\"}, \"showarrow\": false}, {\"xref\": \"x1\", \"yref\": \"y1\", \"x\": 34.5, \"y\": 1, \"text\": \"\\uc774\", \"align\": \"left\", \"font\": {\"family\": \"Arial\", \"size\": 14, \"color\": \"black\"}, \"showarrow\": false}, {\"xref\": \"x1\", \"yref\": \"y1\", \"x\": 35.5, \"y\": 1, \"text\": \" \", \"align\": \"left\", \"font\": {\"family\": \"Arial\", \"size\": 14, \"color\": \"black\"}, \"showarrow\": false}, {\"xref\": \"x1\", \"yref\": \"y1\", \"x\": 36.5, \"y\": 1, \"text\": \"\\ucde8\", \"align\": \"left\", \"font\": {\"family\": \"Arial\", \"size\": 14, \"color\": \"black\"}, \"showarrow\": false}, {\"xref\": \"x1\", \"yref\": \"y1\", \"x\": 37.5, \"y\": 1, \"text\": \"\\uc18c\", \"align\": \"left\", \"font\": {\"family\": \"Arial\", \"size\": 14, \"color\": \"black\"}, \"showarrow\": false}, {\"xref\": \"x1\", \"yref\": \"y1\", \"x\": 38.5, \"y\": 1, \"text\": \"\\ub418\", \"align\": \"left\", \"font\": {\"family\": \"Arial\", \"size\": 14, \"color\": \"black\"}, \"showarrow\": false}, {\"xref\": \"x1\", \"yref\": \"y1\", \"x\": 39.5, \"y\": 1, \"text\": \"\\uc5c8\", \"align\": \"left\", \"font\": {\"family\": \"Arial\", \"size\": 14, \"color\": \"black\"}, \"showarrow\": false}, {\"xref\": \"x1\", \"yref\": \"y1\", \"x\": 40.5, \"y\": 1, \"text\": \"\\uc74c\", \"align\": \"left\", \"font\": {\"family\": \"Arial\", \"size\": 14, \"color\": \"black\"}, \"showarrow\": false}, {\"xref\": \"x1\", \"yref\": \"y1\", \"x\": 41.5, \"y\": 1, \"text\": \"\\uc744\", \"align\": \"left\", \"font\": {\"family\": \"Arial\", \"size\": 14, \"color\": \"black\"}, \"showarrow\": false}, {\"xref\": \"x1\", \"yref\": \"y1\", \"x\": 42.5, \"y\": 1, \"text\": \" \", \"align\": \"left\", \"font\": {\"family\": \"Arial\", \"size\": 14, \"color\": \"black\"}, \"showarrow\": false}, {\"xref\": \"x1\", \"yref\": \"y1\", \"x\": 43.5, \"y\": 1, \"text\": \"\\uc54c\", \"align\": \"left\", \"font\": {\"family\": \"Arial\", \"size\": 14, \"color\": \"black\"}, \"showarrow\": false}, {\"xref\": \"x1\", \"yref\": \"y1\", \"x\": 44.5, \"y\": 1, \"text\": \"\\ub824\", \"align\": \"left\", \"font\": {\"family\": \"Arial\", \"size\": 14, \"color\": \"black\"}, \"showarrow\": false}, {\"xref\": \"x1\", \"yref\": \"y1\", \"x\": 45.5, \"y\": 1, \"text\": \"\\ub4dc\", \"align\": \"left\", \"font\": {\"family\": \"Arial\", \"size\": 14, \"color\": \"black\"}, \"showarrow\": false}, {\"xref\": \"x1\", \"yref\": \"y1\", \"x\": 46.5, \"y\": 1, \"text\": \"\\ub9bd\", \"align\": \"left\", \"font\": {\"family\": \"Arial\", \"size\": 14, \"color\": \"black\"}, \"showarrow\": false}, {\"xref\": \"x1\", \"yref\": \"y1\", \"x\": 47.5, \"y\": 1, \"text\": \"\\ub2c8\", \"align\": \"left\", \"font\": {\"family\": \"Arial\", \"size\": 14, \"color\": \"black\"}, \"showarrow\": false}, {\"xref\": \"x1\", \"yref\": \"y1\", \"x\": 48.5, \"y\": 1, \"text\": \"\\ub2e4\", \"align\": \"left\", \"font\": {\"family\": \"Arial\", \"size\": 14, \"color\": \"black\"}, \"showarrow\": false}, {\"xref\": \"x1\", \"yref\": \"y1\", \"x\": 49.5, \"y\": 1, \"text\": \".\", \"align\": \"left\", \"font\": {\"family\": \"Arial\", \"size\": 14, \"color\": \"black\"}, \"showarrow\": false}], \"height\": 80, \"images\": [{\"source\": \"https://raw.githubusercontent.com/fingeredman/teanaps/master/data/logo/teanaps_logo_no-bg.png\", \"xref\": \"paper\", \"yref\": \"paper\", \"x\": 0.5, \"y\": 0.6, \"sizex\": 0.7, \"sizey\": 0.7, \"xanchor\": \"center\", \"yanchor\": \"center\", \"opacity\": 0.3, \"layer\": \"above\"}]}, {\"showLink\": true, \"linkText\": \"Export to plot.ly\"})});</script>"
      ]
     },
     "metadata": {},
     "output_type": "display_data"
    }
   ],
   "source": [
    "input_text = \"최근 코로나 바이러스의 여파로 연세대학교 제 768회 졸업식이 취소되었음을 알려드립니다.\"\n",
    "\n",
    "result = ner.parse(input_text)\n",
    "print(result)\n",
    "result = ner.parse_sentence(input_text)\n",
    "print(result)\n",
    "ner.draw_sentence_weight(input_text)"
   ]
  },
  {
   "cell_type": "code",
   "execution_count": null,
   "metadata": {},
   "outputs": [],
   "source": []
  }
 ],
 "metadata": {
  "kernelspec": {
   "display_name": "Python 3",
   "language": "python",
   "name": "python3"
  },
  "language_info": {
   "codemirror_mode": {
    "name": "ipython",
    "version": 3
   },
   "file_extension": ".py",
   "mimetype": "text/x-python",
   "name": "python",
   "nbconvert_exporter": "python",
   "pygments_lexer": "ipython3",
   "version": "3.8.3"
  }
 },
 "nbformat": 4,
 "nbformat_minor": 2
}
