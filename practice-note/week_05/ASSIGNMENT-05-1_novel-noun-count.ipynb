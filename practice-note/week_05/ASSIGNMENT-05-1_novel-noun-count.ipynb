{
 "cells": [
  {
   "cell_type": "markdown",
   "metadata": {
    "colab_type": "text",
    "id": "FkTODjq5F7fo"
   },
   "source": [
    "# TEXT MINING for PRACTICE\n",
    "- 본 자료는 텍스트 마이닝을 활용한 연구 및 강의를 위한 목적으로 제작되었습니다.\n",
    "- 본 자료를 강의 목적으로 활용하고자 하시는 경우 꼭 아래 메일주소로 연락주세요.\n",
    "- 본 자료에 대한 허가되지 않은 배포를 금지합니다.\n",
    "- 강의, 저작권, 출판, 특허, 공동저자에 관련해서는 문의 바랍니다.\n",
    "- **Contact : ADMIN(admin@teanaps.com)**\n",
    "\n",
    "---"
   ]
  },
  {
   "cell_type": "markdown",
   "metadata": {
    "colab_type": "text",
    "collapsed": true,
    "id": "cB9_SuGqF7fq"
   },
   "source": [
    "## WEEK 05-1. 한국어 텍스트 데이터 전처리: KoNLPy\n",
    "- Python의 KoNLPy 패키지를 활용해 텍스트 데이터를 전처리하는 방법에 대해 다룹니다.\n",
    "\n",
    "---"
   ]
  },
  {
   "cell_type": "markdown",
   "metadata": {
    "colab_type": "text",
    "id": "rVAo-GDTF7ft"
   },
   "source": [
    "### Assignment 01. 소설에서 가장 많이 쓰이는 \"명사\" 알아보기\n",
    "> - 본 자료를 응용하여 소설 속에서 가장 많이 출현하는 \"명사\"를 추출하는 코드를 작성합니다.\n",
    "> - 소설 속에 가장 많이 출현하는 상위 100개 \"명사\"를 출력합니다.\n",
    "> - \"data/novel_sample_ko.txt\" 파일을 활용합니다.\n",
    "\n",
    "> HINT. 단어를 셀때 딕셔너리 자료구조를 활용하면 빠르고 편리합니다.\n",
    "\n",
    "---"
   ]
  },
  {
   "cell_type": "markdown",
   "metadata": {},
   "source": [
    "### STEP 1. 형태소분석기 불러오기"
   ]
  },
  {
   "cell_type": "code",
   "execution_count": 3,
   "metadata": {},
   "outputs": [
    {
     "name": "stdout",
     "output_type": "stream",
     "text": [
      "[('안녕', 'NNG'), ('하', 'XSV'), ('세요', 'EFN'), ('.', 'SF'), ('텍스트', 'NNG'), ('마이닝', 'NNG'), ('수강생', 'NNG'), ('여러', 'MDT'), ('분', 'NNB'), ('.', 'SF')]\n"
     ]
    }
   ],
   "source": [
    "from konlpy.tag import Kkma\n",
    "\n",
    "kkma = Kkma()\n",
    "\n",
    "result = kkma.pos(\"안녕하세요. 텍스트 마이닝 수강생 여러분.\")\n",
    "print(result)"
   ]
  },
  {
   "cell_type": "code",
   "execution_count": 2,
   "metadata": {},
   "outputs": [],
   "source": [
    "word_list = []\n",
    "\n",
    "for r in result:\n",
    "    word = r[0]\n",
    "    pos = r[1]\n",
    "    #if pos == \"NNG\" or pos == \"NNP\":\n",
    "    if pos in [\"NNG\", \"NNP\"]:\n",
    "        word_list.append(word)"
   ]
  },
  {
   "cell_type": "code",
   "execution_count": 3,
   "metadata": {},
   "outputs": [
    {
     "name": "stdout",
     "output_type": "stream",
     "text": [
      "['안녕', '텍스트', '마이닝', '수강생']\n"
     ]
    }
   ],
   "source": [
    "print(word_list)"
   ]
  },
  {
   "cell_type": "code",
   "execution_count": 4,
   "metadata": {},
   "outputs": [
    {
     "name": "stdout",
     "output_type": "stream",
     "text": [
      "['안녕', '텍스트', '마이닝', '수강생', '분']\n"
     ]
    }
   ],
   "source": [
    "result = kkma.nouns(\"안녕하세요. 텍스트 마이닝 수강생 여러분.\")\n",
    "print(result)"
   ]
  },
  {
   "cell_type": "markdown",
   "metadata": {},
   "source": [
    "### STEP 2-1. 명사 개수 알아보기: nouns() 함수 활용"
   ]
  },
  {
   "cell_type": "code",
   "execution_count": 5,
   "metadata": {
    "colab": {
     "base_uri": "https://localhost:8080/",
     "height": 17
    },
    "colab_type": "code",
    "executionInfo": {
     "elapsed": 1248,
     "status": "ok",
     "timestamp": 1566759587444,
     "user": {
      "displayName": "Byeongjin Jeon",
      "photoUrl": "https://lh3.googleusercontent.com/a-/AAuE7mCC5qExwwUCDV-h-7fJT6JN6tdWT8EyJxkB09uwrA=s64",
      "userId": "01151709893250942659"
     },
     "user_tz": -540
    },
    "id": "W6FRCrbKF7fu",
    "outputId": "d278527c-04e3-49b9-eec7-5b06eab2980b"
   },
   "outputs": [
    {
     "name": "stdout",
     "output_type": "stream",
     "text": [
      "858\r"
     ]
    }
   ],
   "source": [
    "#f = open(\"data/novel_sample_en.txt\", encoding=\"utf-8\")\n",
    "f = open(\"data/novel_sample_ko.txt\", encoding=\"utf-8\")\n",
    "\n",
    "word_count = {}\n",
    "line_number = 0\n",
    "\n",
    "for line in f:\n",
    "    line_number += 1\n",
    "    print(line_number, end=\"\\r\")\n",
    "    line = line.strip()\n",
    "    #word_list = line.split(\" \")\n",
    "    word_list = kkma.nouns(line)\n",
    "    for word in word_list:\n",
    "        word = word.strip()\n",
    "        if word != \"\":\n",
    "            if word in word_count.keys():\n",
    "                word_count[word] += 1\n",
    "            else:\n",
    "                word_count[word] = 1\n",
    "    \n",
    "f.close()"
   ]
  },
  {
   "cell_type": "code",
   "execution_count": 6,
   "metadata": {
    "colab": {
     "base_uri": "https://localhost:8080/",
     "height": 1000
    },
    "colab_type": "code",
    "executionInfo": {
     "elapsed": 522,
     "status": "ok",
     "timestamp": 1566759590994,
     "user": {
      "displayName": "Byeongjin Jeon",
      "photoUrl": "https://lh3.googleusercontent.com/a-/AAuE7mCC5qExwwUCDV-h-7fJT6JN6tdWT8EyJxkB09uwrA=s64",
      "userId": "01151709893250942659"
     },
     "user_tz": -540
    },
    "id": "TKdNfPUjF7fy",
    "outputId": "e07047c3-0672-47c4-fba8-f538c97d3ab9"
   },
   "outputs": [
    {
     "name": "stdout",
     "output_type": "stream",
     "text": [
      "그\t249\n",
      "자기\t216\n",
      "말\t212\n",
      "사람\t198\n",
      "생각\t170\n",
      "수\t159\n",
      "사랑\t143\n",
      "나\t134\n",
      "일\t130\n",
      "아내\t115\n",
      "마음\t104\n",
      "때\t100\n",
      "공작\t92\n",
      "그것\t86\n",
      "오\t86\n",
      "데\t84\n",
      "남편\t82\n",
      "때문\t79\n",
      "저\t79\n",
      "대답\t77\n",
      "이자\t77\n",
      "벨\t74\n",
      "내\t73\n",
      "당신\t72\n",
      "이자벨\t72\n",
      "결혼\t69\n",
      "이야기\t67\n",
      "안\t66\n",
      "자신\t65\n",
      "아버지\t64\n",
      "여자\t64\n",
      "리\t54\n",
      "젤\t53\n",
      "타이\t53\n",
      "이\t52\n",
      "오빠\t52\n",
      "집\t51\n",
      "줄\t50\n",
      "레\t49\n",
      "전\t48\n",
      "로\t48\n",
      "페리\t47\n",
      "캐서린\t46\n",
      "줄리엣\t46\n",
      "로미오\t46\n",
      "헬레나\t45\n",
      "곳\t45\n",
      "이상\t45\n",
      "왕\t44\n",
      "사실\t44\n",
      "아가씨\t44\n",
      "페트\t44\n",
      "터\t44\n",
      "시\t44\n",
      "부인\t43\n",
      "거\t43\n",
      "행동\t43\n",
      "어머니\t41\n",
      "딸\t40\n",
      "그녀\t40\n",
      "마리나\t40\n",
      "죽음\t39\n",
      "모습\t39\n",
      "오가\t39\n",
      "오셀로\t39\n",
      "그때\t38\n",
      "돈\t38\n",
      "슬픔\t37\n",
      "이름\t37\n",
      "백작\t36\n",
      "동안\t36\n",
      "주인\t36\n",
      "속\t36\n",
      "루\t36\n",
      "오디오\t36\n",
      "램\t35\n",
      "소리\t35\n",
      "하\t35\n",
      "햄릿\t35\n",
      "그곳\t34\n",
      "밤\t34\n",
      "미\t34\n",
      "바다\t34\n",
      "안젤\t34\n",
      "버트\t33\n",
      "버트램\t33\n",
      "친절\t33\n",
      "로오디오\t33\n",
      "하인\t32\n",
      "자리\t32\n",
      "친구\t32\n",
      "아들\t31\n",
      "얼굴\t31\n",
      "잘못\t31\n",
      "법\t31\n",
      "왕비\t31\n",
      "티\t30\n",
      "약속\t29\n",
      "목숨\t29\n",
      "의심\t29\n"
     ]
    }
   ],
   "source": [
    "word_count_list = []\n",
    "\n",
    "for word, count in word_count.items():\n",
    "    word_count_list.append([word, count])\n",
    "\n",
    "word_count_list.sort(key=lambda elem: elem[1], reverse=True)\n",
    "\n",
    "for word, count in word_count_list[:100]:\n",
    "    print(word + \"\\t\" + str(count))"
   ]
  },
  {
   "cell_type": "markdown",
   "metadata": {},
   "source": [
    "### STEP 2-2. 명사 개수 알아보기: 조건문 활용"
   ]
  },
  {
   "cell_type": "code",
   "execution_count": 7,
   "metadata": {},
   "outputs": [
    {
     "name": "stdout",
     "output_type": "stream",
     "text": [
      "858\r"
     ]
    }
   ],
   "source": [
    "#f = open(\"data/novel_sample_en.txt\", encoding=\"utf-8\")\n",
    "f = open(\"data/novel_sample_ko.txt\", encoding=\"utf-8\")\n",
    "\n",
    "word_count = {}\n",
    "line_number = 0\n",
    "\n",
    "for line in f:\n",
    "    line_number += 1\n",
    "    print(line_number, end=\"\\r\")\n",
    "    line = line.strip()\n",
    "    #word_list = line.split(\" \")\n",
    "    result = kkma.pos(line) #result = [('안녕', 'NNG'), ('하', 'XSV'), ('세요', 'EFN'), ('.', 'SF'), ('텍스트', 'NNG'), ('마이닝', 'NNG'), ('수강생', 'NNG'), ('여러', 'MDT'), ('분', 'NNB'), ('.', 'SF')]\n",
    "    word_list = []\n",
    "    for word, pos in result:\n",
    "        #word = r[0]\n",
    "        #pos = r[1]\n",
    "        #if pos == \"NNG\" or pos == \"NNP\":\n",
    "        if pos in [\"NNG\", \"NNP\"]:\n",
    "            word_list.append(word)\n",
    "    for word in word_list:\n",
    "        word = word.strip()\n",
    "        if word != \"\":\n",
    "            if word in word_count.keys():\n",
    "                word_count[word] += 1\n",
    "            else:\n",
    "                word_count[word] = 1\n",
    "    \n",
    "f.close()"
   ]
  },
  {
   "cell_type": "code",
   "execution_count": 8,
   "metadata": {},
   "outputs": [
    {
     "name": "stdout",
     "output_type": "stream",
     "text": [
      "사람\t347\n",
      "말\t313\n",
      "생각\t249\n",
      "사랑\t249\n",
      "일\t186\n",
      "아내\t181\n",
      "공작\t167\n",
      "타이\t151\n",
      "로미오\t145\n",
      "마음\t142\n",
      "때\t127\n",
      "헬레나\t126\n",
      "남편\t119\n",
      "줄리엣\t117\n",
      "오\t114\n",
      "결혼\t112\n",
      "이야기\t110\n",
      "이자\t109\n",
      "벨\t106\n",
      "여자\t102\n",
      "아버지\t101\n",
      "오셀로\t99\n",
      "레\t91\n",
      "오빠\t87\n",
      "마리나\t86\n",
      "램\t85\n",
      "어머니\t82\n",
      "안\t82\n",
      "버트\t81\n",
      "캐서린\t81\n",
      "대답\t80\n",
      "자신\t77\n",
      "젤\t77\n",
      "왕\t74\n",
      "페리\t74\n",
      "로\t73\n",
      "부인\t68\n",
      "집\t66\n",
      "카시오\t58\n",
      "아가씨\t57\n",
      "전\t56\n",
      "백작\t55\n",
      "임금님\t54\n",
      "리\t53\n",
      "딸\t52\n",
      "모습\t52\n",
      "루\t52\n",
      "미\t52\n",
      "행동\t51\n",
      "사실\t50\n",
      "시\t50\n",
      "아들\t49\n",
      "이름\t49\n",
      "돈\t49\n",
      "오디오\t49\n",
      "주인\t48\n",
      "이상\t48\n",
      "밤\t48\n",
      "왕비\t48\n",
      "소리\t46\n",
      "곳\t46\n",
      "오가\t46\n",
      "전하\t45\n",
      "자리\t45\n",
      "드로\t45\n",
      "죽음\t44\n",
      "티\t44\n",
      "신부\t43\n",
      "슬픔\t42\n",
      "속\t42\n",
      "이아고\t42\n",
      "하인\t41\n",
      "그때\t40\n",
      "집안\t40\n",
      "배\t40\n",
      "포\t40\n",
      "유령\t40\n",
      "러\t39\n",
      "친구\t39\n",
      "오시\t38\n",
      "리비아\t38\n",
      "동안\t37\n",
      "잘못\t37\n",
      "바다\t36\n",
      "노\t36\n",
      "얼굴\t35\n",
      "약속\t35\n",
      "친절\t35\n",
      "의심\t35\n",
      "올\t35\n",
      "귀족\t34\n",
      "동생\t34\n",
      "목숨\t32\n",
      "옷\t32\n",
      "아드리\t32\n",
      "명령\t31\n",
      "눈물\t31\n",
      "법\t31\n",
      "남자\t31\n",
      "재산\t30\n"
     ]
    }
   ],
   "source": [
    "word_count_list = []\n",
    "\n",
    "for word, count in word_count.items():\n",
    "    word_count_list.append([word, count])\n",
    "\n",
    "word_count_list.sort(key=lambda elem: elem[1], reverse=True)\n",
    "\n",
    "for word, count in word_count_list[:100]:\n",
    "    print(word + \"\\t\" + str(count))"
   ]
  },
  {
   "cell_type": "code",
   "execution_count": null,
   "metadata": {
    "colab": {},
    "colab_type": "code",
    "id": "PCrbmoHfJhnp"
   },
   "outputs": [],
   "source": []
  }
 ],
 "metadata": {
  "colab": {
   "collapsed_sections": [],
   "name": "ASSIGNMENT01_novel-word-count.ipynb",
   "provenance": [],
   "version": "0.3.2"
  },
  "kernelspec": {
   "display_name": "Python 3",
   "language": "python",
   "name": "python3"
  },
  "language_info": {
   "codemirror_mode": {
    "name": "ipython",
    "version": 3
   },
   "file_extension": ".py",
   "mimetype": "text/x-python",
   "name": "python",
   "nbconvert_exporter": "python",
   "pygments_lexer": "ipython3",
   "version": "3.8.3"
  }
 },
 "nbformat": 4,
 "nbformat_minor": 1
}
