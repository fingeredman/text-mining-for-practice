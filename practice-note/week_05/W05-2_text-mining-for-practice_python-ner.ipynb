{
 "cells": [
  {
   "cell_type": "markdown",
   "metadata": {},
   "source": [
    "# TEXT MINING for PRACTICE\n",
    "- 본 자료는 텍스트 마이닝을 활용한 연구 및 강의를 위한 목적으로 제작되었습니다.\n",
    "- 본 자료를 강의 목적으로 활용하고자 하시는 경우 꼭 아래 메일주소로 연락주세요.\n",
    "- 본 자료에 대한 허가되지 않은 배포를 금지합니다.\n",
    "- 강의, 저작권, 출판, 특허, 공동저자에 관련해서는 문의 바랍니다.\n",
    "- **Contact : ADMIN(admin@teanaps.com)**\n",
    "\n",
    "---"
   ]
  },
  {
   "cell_type": "markdown",
   "metadata": {},
   "source": [
    "## WEEK 05-2. 개체명 인식\n",
    "- Python의 TEANAPS 패키지를 활용해 개체명 인식을 수행하는 방법에 대해 다룹니다.\n",
    "\n",
    "---"
   ]
  },
  {
   "cell_type": "code",
   "execution_count": 1,
   "metadata": {},
   "outputs": [],
   "source": [
    "# 텍스트 분석을 위한 TEANAPS 패키지를 설치합니다.\n",
    "# TEANAPS는 Google Colaboratory/Linux 환경에 최적화되어 있습니다.\n",
    "# Windows 환경에서 일부 기능에 제한이 있을 수 있습니다."
   ]
  },
  {
   "cell_type": "code",
   "execution_count": 2,
   "metadata": {},
   "outputs": [],
   "source": [
    "# TEANAPS (https://github.com/fingeredman/teanaps)\n",
    "#!git clone https://github.com/fingeredman/teanaps.git"
   ]
  },
  {
   "cell_type": "code",
   "execution_count": 3,
   "metadata": {},
   "outputs": [],
   "source": [
    "#!ls"
   ]
  },
  {
   "cell_type": "code",
   "execution_count": 4,
   "metadata": {},
   "outputs": [],
   "source": [
    "# TEANAPS 설치를 진행합니다.\n",
    "# 설치 전 반드시 상단 메뉴에서 [런타임 > 런타임 초기화]를 클릭한 후 진행해주세요.\n",
    "#!python \"teanaps/teanaps_setup.py\""
   ]
  },
  {
   "cell_type": "markdown",
   "metadata": {},
   "source": [
    "### 1. 개체명 인식 수행방법 알아보기: TEANAPS\n",
    "\n",
    "---"
   ]
  },
  {
   "cell_type": "markdown",
   "metadata": {},
   "source": [
    "#### 1.1. TEANAPS 패키지로 개체명인식 수행하기\n",
    "\n",
    "---"
   ]
  },
  {
   "cell_type": "code",
   "execution_count": 5,
   "metadata": {},
   "outputs": [
    {
     "data": {
      "text/html": [
       "<script>requirejs.config({paths: { 'plotly': ['https://cdn.plot.ly/plotly-latest.min']},});if(!window.Plotly) {{require(['plotly'],function(plotly) {window.Plotly=plotly;});}}</script>"
      ],
      "text/vnd.plotly.v1+html": [
       "<script>requirejs.config({paths: { 'plotly': ['https://cdn.plot.ly/plotly-latest.min']},});if(!window.Plotly) {{require(['plotly'],function(plotly) {window.Plotly=plotly;});}}</script>"
      ]
     },
     "metadata": {},
     "output_type": "display_data"
    },
    {
     "data": {
      "text/html": [
       "<script>requirejs.config({paths: { 'plotly': ['https://cdn.plot.ly/plotly-latest.min']},});if(!window.Plotly) {{require(['plotly'],function(plotly) {window.Plotly=plotly;});}}</script>"
      ],
      "text/vnd.plotly.v1+html": [
       "<script>requirejs.config({paths: { 'plotly': ['https://cdn.plot.ly/plotly-latest.min']},});if(!window.Plotly) {{require(['plotly'],function(plotly) {window.Plotly=plotly;});}}</script>"
      ]
     },
     "metadata": {},
     "output_type": "display_data"
    }
   ],
   "source": [
    "from teanaps.nlp import NamedEntityRecognizer\n",
    "\n",
    "#ner = NamedEntityRecognizer(model_path=\"/model\")\n",
    "ner = NamedEntityRecognizer()"
   ]
  },
  {
   "cell_type": "code",
   "execution_count": 6,
   "metadata": {},
   "outputs": [
    {
     "data": {
      "text/plain": [
       "[('테슬라', 'OG', (13, 16)),\n",
       " ('19만1971대', 'QT', (18, 26)),\n",
       " ('1위', 'QT', (28, 30)),\n",
       " ('르노-닛산', 'OG', (39, 44)),\n",
       " ('폴크스바겐', 'OG', (46, 51)),\n",
       " ('8만6189대', 'QT', (56, 63)),\n",
       " ('7만5228대', 'QT', (65, 72))]"
      ]
     },
     "execution_count": 6,
     "metadata": {},
     "output_type": "execute_result"
    }
   ],
   "source": [
    "input_text = \"세계 최대 전기차 기업 테슬라가 19만1971대로 1위를 차지했으며, 르노-닛산과 폴크스바겐이 각기 8만6189대로 7만5228대로 뒤를 이었다.\"\n",
    "\n",
    "result = ner.parse(input_text)\n",
    "result"
   ]
  },
  {
   "cell_type": "code",
   "execution_count": 7,
   "metadata": {},
   "outputs": [],
   "source": [
    "news = [\n",
    "    \"현대·기아차가 올해 7월까지 전 세계 자동차 브랜드 중 네 번째로 전기차를 많이 판매한 것으로 나타났다.\",\n",
    "    \"4일 자동차연구원이 SNE리서치 통계를 분석한 내용에 따르면 현대·기아차는 올해 7월 말 기준으로 6만707대의 전기차를 판매해 세계 4위를 차지했다.\",\n",
    "    \"세계 최대 전기차 기업 테슬라가 19만1971대로 1위를 차지했으며, 르노-닛산과 폴크스바겐이 각기 8만6189대로 7만5228대로 뒤를 이었다.\",\n",
    "    \"5위는 중국 BYD(4만2340대)였다.\",\n",
    "    \"현대·기아차는 작년 같은 기간(4만8570대)에 비해 판매량이 25% 늘어난 점이 눈에 띈다.\",\n",
    "    \"모델3를 앞세운 테슬라는 판매량이 4% 증가하는 데 그쳤고, 주력 모델인 리프의 판매가 급감한 르노닛산은 5% 감소했다.\",\n",
    "    \"폴크스바겐은 지난해에 비해 110% 늘어나며 현대·기아차를 앞질렀다. BYD는 지난해(11만3409대)에 비해 63% 감소하며 순위가 하락했다.\",\n",
    "]"
   ]
  },
  {
   "cell_type": "code",
   "execution_count": 8,
   "metadata": {},
   "outputs": [
    {
     "name": "stdout",
     "output_type": "stream",
     "text": [
      "<현대:OG>·<기아차:OG>가 올해 <7월까지:DT> 전 세계 자동차 브랜드 중 네 번째로 전기차를 많이 판매한 것으로 나타났다.\n",
      "<4일:DT> 자동차연구원이 SNE리서치 통계를 분석한 내용에 따르면 <현대:OG>·<기아차:OG>는 올해 <7월:DT> 말 기준으로 <6만707대의:QT> 전기차를 판매해 세계 <4위:QT>를 차지했다.\n",
      "세계 최대 전기차 기업 <테슬라:OG>가 <19만1971대:QT>로 <1위:QT>를 차지했으며, <르노-닛산:OG>과 <폴크스바겐:OG>이 각기 <8만6189대:QT>로 <7만5228대:QT>로 뒤를 이었다.\n",
      "<5위:QT>는 <중국 BYD:OG>(4<만2340대:QT>)였다.\n",
      "<현대:OG>·<기아차:OG>는 작년 같은 기간(4<만8570대:QT>)에 비해 판매량이 <25%:QT> 늘어난 점이 눈에 띈다.\n",
      "<모델3:UN>를 앞세운 <테슬라:OG>는 판매량이 <4%:QT> 증가하는 데 그쳤고, 주력 모델인 <리프:UN>의 판매가 급감한 <르노닛산:OG>은 <5%:QT> 감소했다.\n",
      "<폴크스바겐:OG>은 지난해에 비해 <110%:QT> 늘어나며 <현대:OG>·<기아차:OG>를 앞질렀다. <BYD:OG>는 지난해(<11만3409대:QT>)에 비해 <63%:QT> 감소하며 순위가 하락했다.\n"
     ]
    }
   ],
   "source": [
    "for n in news:\n",
    "    result = ner.parse_sentence(n)\n",
    "    print(result)"
   ]
  },
  {
   "cell_type": "code",
   "execution_count": 9,
   "metadata": {},
   "outputs": [
    {
     "name": "stdout",
     "output_type": "stream",
     "text": [
      "[('TEANAPS', 'UN', (0, 7)), ('Python', 'UN', (21, 27))]\n",
      "<TEANAPS:UN>는 텍스트 마이닝을 위한 <Python:UN> 패키지 입니다.\n"
     ]
    },
    {
     "data": {
      "text/html": [
       "\n",
       "                <script src=\"/static/components/requirejs/require.js\"></script>\n",
       "                <script>\n",
       "                  requirejs.config({\n",
       "                    paths: {\n",
       "                      base: '/static/base',\n",
       "                      plotly: 'https://cdn.plot.ly/plotly-latest.min.js?noext',\n",
       "                    },\n",
       "                  });\n",
       "                </script>\n",
       "                "
      ],
      "text/plain": [
       "<IPython.core.display.HTML object>"
      ]
     },
     "metadata": {},
     "output_type": "display_data"
    },
    {
     "data": {
      "text/html": [
       "\n",
       "                <script src=\"/static/components/requirejs/require.js\"></script>\n",
       "                <script>\n",
       "                  requirejs.config({\n",
       "                    paths: {\n",
       "                      base: '/static/base',\n",
       "                      plotly: 'https://cdn.plot.ly/plotly-latest.min.js?noext',\n",
       "                    },\n",
       "                  });\n",
       "                </script>\n",
       "                "
      ],
      "text/plain": [
       "<IPython.core.display.HTML object>"
      ]
     },
     "metadata": {},
     "output_type": "display_data"
    },
    {
     "data": {
      "application/vnd.plotly.v1+json": {
       "data": [
        {
         "hoverinfo": "text",
         "marker": {
          "color": "rgb(163.8460971063372, 209.4230485531686, 255)"
         },
         "orientation": "h",
         "text": "0.46",
         "type": "bar",
         "width": 0.5,
         "x": [
          2
         ],
         "xaxis": "x1",
         "y": [
          1
         ],
         "yaxis": "y1"
        },
        {
         "hoverinfo": "text",
         "marker": {
          "color": "rgb(75.34487801124234, 165.1724390056212, 255)"
         },
         "orientation": "h",
         "text": "0.9",
         "type": "bar",
         "width": 0.5,
         "x": [
          1
         ],
         "xaxis": "x1",
         "y": [
          1
         ],
         "yaxis": "y1"
        },
        {
         "hoverinfo": "text",
         "marker": {
          "color": "rgb(65.20765244748841, 160.1038262237442, 255)"
         },
         "orientation": "h",
         "text": "0.95",
         "type": "bar",
         "width": 0.5,
         "x": [
          1
         ],
         "xaxis": "x1",
         "y": [
          1
         ],
         "yaxis": "y1"
        },
        {
         "hoverinfo": "text",
         "marker": {
          "color": "rgb(59.830194113560395, 157.4150970567802, 255)"
         },
         "orientation": "h",
         "text": "0.98",
         "type": "bar",
         "width": 0.5,
         "x": [
          2
         ],
         "xaxis": "x1",
         "y": [
          1
         ],
         "yaxis": "y1"
        },
        {
         "hoverinfo": "text",
         "marker": {
          "color": "rgb(55.0, 155.0, 255)"
         },
         "orientation": "h",
         "text": "1.0",
         "type": "bar",
         "width": 0.5,
         "x": [
          2
         ],
         "xaxis": "x1",
         "y": [
          1
         ],
         "yaxis": "y1"
        },
        {
         "hoverinfo": "text",
         "marker": {
          "color": "rgb(227.85237628696703, 241.4261881434835, 255)"
         },
         "orientation": "h",
         "text": "0.14",
         "type": "bar",
         "width": 0.5,
         "x": [
          1
         ],
         "xaxis": "x1",
         "y": [
          1
         ],
         "yaxis": "y1"
        },
        {
         "hoverinfo": "text",
         "marker": {
          "color": "rgb(210.96886127689677, 232.98443063844837, 255)"
         },
         "orientation": "h",
         "text": "0.22",
         "type": "bar",
         "width": 0.5,
         "x": [
          1
         ],
         "xaxis": "x1",
         "y": [
          1
         ],
         "yaxis": "y1"
        },
        {
         "hoverinfo": "text",
         "marker": {
          "color": "rgb(220.24232836441308, 237.62116418220654, 255)"
         },
         "orientation": "h",
         "text": "0.17",
         "type": "bar",
         "width": 0.5,
         "x": [
          1
         ],
         "xaxis": "x1",
         "y": [
          1
         ],
         "yaxis": "y1"
        },
        {
         "hoverinfo": "text",
         "marker": {
          "color": "rgb(219.13788852313604, 237.06894426156802, 255)"
         },
         "orientation": "h",
         "text": "0.18",
         "type": "bar",
         "width": 0.5,
         "x": [
          2
         ],
         "xaxis": "x1",
         "y": [
          1
         ],
         "yaxis": "y1"
        },
        {
         "hoverinfo": "text",
         "marker": {
          "color": "rgb(225.79086772733953, 240.39543386366975, 255)"
         },
         "orientation": "h",
         "text": "0.15",
         "type": "bar",
         "width": 0.5,
         "x": [
          2
         ],
         "xaxis": "x1",
         "y": [
          1
         ],
         "yaxis": "y1"
        },
        {
         "hoverinfo": "text",
         "marker": {
          "color": "rgb(240.7847844438919, 247.89239222194595, 255)"
         },
         "orientation": "h",
         "text": "0.07",
         "type": "bar",
         "width": 0.5,
         "x": [
          2
         ],
         "xaxis": "x1",
         "y": [
          1
         ],
         "yaxis": "y1"
        },
        {
         "hoverinfo": "text",
         "marker": {
          "color": "rgb(220.62654932868907, 237.81327466434453, 255)"
         },
         "orientation": "h",
         "text": "0.17",
         "type": "bar",
         "width": 0.5,
         "x": [
          1
         ],
         "xaxis": "x1",
         "y": [
          1
         ],
         "yaxis": "y1"
        },
        {
         "hoverinfo": "text",
         "marker": {
          "color": "rgb(206.35003029001462, 230.6750151450073, 255)"
         },
         "orientation": "h",
         "text": "0.24",
         "type": "bar",
         "width": 0.5,
         "x": [
          3
         ],
         "xaxis": "x1",
         "y": [
          1
         ],
         "yaxis": "y1"
        },
        {
         "hoverinfo": "text",
         "marker": {
          "color": "rgb(240.62506710097057, 247.81253355048528, 255)"
         },
         "orientation": "h",
         "text": "0.07",
         "type": "bar",
         "width": 0.5,
         "x": [
          2
         ],
         "xaxis": "x1",
         "y": [
          1
         ],
         "yaxis": "y1"
        },
        {
         "hoverinfo": "text",
         "marker": {
          "color": "rgb(87.68319470401309, 171.34159735200654, 255)"
         },
         "orientation": "h",
         "text": "0.84",
         "type": "bar",
         "width": 0.5,
         "x": [
          1
         ],
         "xaxis": "x1",
         "y": [
          1
         ],
         "yaxis": "y1"
        },
        {
         "hoverinfo": "text",
         "marker": {
          "color": "rgb(97.04754617891484, 176.02377308945742, 255)"
         },
         "orientation": "h",
         "text": "0.79",
         "type": "bar",
         "width": 0.5,
         "x": [
          2
         ],
         "xaxis": "x1",
         "y": [
          1
         ],
         "yaxis": "y1"
        },
        {
         "hoverinfo": "text",
         "marker": {
          "color": "rgb(95.84978713079943, 175.4248935653997, 255)"
         },
         "orientation": "h",
         "text": "0.8",
         "type": "bar",
         "width": 0.5,
         "x": [
          2
         ],
         "xaxis": "x1",
         "y": [
          1
         ],
         "yaxis": "y1"
        },
        {
         "hoverinfo": "text",
         "marker": {
          "color": "rgb(143.98829056238878, 199.4941452811944, 255)"
         },
         "orientation": "h",
         "text": "0.56",
         "type": "bar",
         "width": 0.5,
         "x": [
          4
         ],
         "xaxis": "x1",
         "y": [
          1
         ],
         "yaxis": "y1"
        },
        {
         "hoverinfo": "text",
         "marker": {
          "color": "rgb(183.74489754717223, 219.37244877358611, 255)"
         },
         "orientation": "h",
         "text": "0.36",
         "type": "bar",
         "width": 0.5,
         "x": [
          1
         ],
         "xaxis": "x1",
         "y": [
          1
         ],
         "yaxis": "y1"
        },
        {
         "hoverinfo": "text",
         "marker": {
          "color": "rgb(229.3490390065248, 242.17451950326242, 255)"
         },
         "orientation": "h",
         "text": "0.13",
         "type": "bar",
         "width": 0.5,
         "x": [
          3
         ],
         "xaxis": "x1",
         "y": [
          1
         ],
         "yaxis": "y1"
        },
        {
         "hoverinfo": "text",
         "marker": {
          "color": "rgb(211.2289566515359, 233.11447832576795, 255)"
         },
         "orientation": "h",
         "text": "0.22",
         "type": "bar",
         "width": 0.5,
         "x": [
          1
         ],
         "xaxis": "x1",
         "y": [
          1
         ],
         "yaxis": "y1"
        },
        {
         "hoverinfo": "text",
         "marker": {
          "color": "rgb(255, 255, 255)"
         },
         "orientation": "h",
         "text": "",
         "type": "bar",
         "width": 0.5,
         "x": [
          1
         ],
         "xaxis": "x1",
         "y": [
          1
         ],
         "yaxis": "y1"
        },
        {
         "hoverinfo": "text",
         "marker": {
          "color": "rgb(255, 255, 255)"
         },
         "orientation": "h",
         "text": "",
         "type": "bar",
         "width": 0.5,
         "x": [
          1
         ],
         "xaxis": "x1",
         "y": [
          1
         ],
         "yaxis": "y1"
        },
        {
         "hoverinfo": "text",
         "marker": {
          "color": "rgb(255, 255, 255)"
         },
         "orientation": "h",
         "text": "",
         "type": "bar",
         "width": 0.5,
         "x": [
          1
         ],
         "xaxis": "x1",
         "y": [
          1
         ],
         "yaxis": "y1"
        },
        {
         "hoverinfo": "text",
         "marker": {
          "color": "rgb(255, 255, 255)"
         },
         "orientation": "h",
         "text": "",
         "type": "bar",
         "width": 0.5,
         "x": [
          1
         ],
         "xaxis": "x1",
         "y": [
          1
         ],
         "yaxis": "y1"
        },
        {
         "hoverinfo": "text",
         "marker": {
          "color": "rgb(255, 255, 255)"
         },
         "orientation": "h",
         "text": "",
         "type": "bar",
         "width": 0.5,
         "x": [
          1
         ],
         "xaxis": "x1",
         "y": [
          1
         ],
         "yaxis": "y1"
        },
        {
         "hoverinfo": "text",
         "marker": {
          "color": "rgb(255, 255, 255)"
         },
         "orientation": "h",
         "text": "",
         "type": "bar",
         "width": 0.5,
         "x": [
          1
         ],
         "xaxis": "x1",
         "y": [
          1
         ],
         "yaxis": "y1"
        },
        {
         "hoverinfo": "text",
         "marker": {
          "color": "rgb(255, 255, 255)"
         },
         "orientation": "h",
         "text": "",
         "type": "bar",
         "width": 0.5,
         "x": [
          1
         ],
         "xaxis": "x1",
         "y": [
          1
         ],
         "yaxis": "y1"
        },
        {
         "hoverinfo": "text",
         "marker": {
          "color": "rgb(255, 255, 255)"
         },
         "orientation": "h",
         "text": "",
         "type": "bar",
         "width": 0.5,
         "x": [
          1
         ],
         "xaxis": "x1",
         "y": [
          1
         ],
         "yaxis": "y1"
        },
        {
         "hoverinfo": "text",
         "marker": {
          "color": "rgb(255, 255, 255)"
         },
         "orientation": "h",
         "text": "",
         "type": "bar",
         "width": 0.5,
         "x": [
          1
         ],
         "xaxis": "x1",
         "y": [
          1
         ],
         "yaxis": "y1"
        },
        {
         "hoverinfo": "text",
         "marker": {
          "color": "rgb(255, 255, 255)"
         },
         "orientation": "h",
         "text": "",
         "type": "bar",
         "width": 0.5,
         "x": [
          1
         ],
         "xaxis": "x1",
         "y": [
          1
         ],
         "yaxis": "y1"
        },
        {
         "hoverinfo": "text",
         "marker": {
          "color": "rgb(255, 255, 255)"
         },
         "orientation": "h",
         "text": "",
         "type": "bar",
         "width": 0.5,
         "x": [
          1
         ],
         "xaxis": "x1",
         "y": [
          1
         ],
         "yaxis": "y1"
        },
        {
         "hoverinfo": "text",
         "marker": {
          "color": "rgb(255, 255, 255)"
         },
         "orientation": "h",
         "text": "",
         "type": "bar",
         "width": 0.5,
         "x": [
          1
         ],
         "xaxis": "x1",
         "y": [
          1
         ],
         "yaxis": "y1"
        },
        {
         "hoverinfo": "text",
         "marker": {
          "color": "rgb(255, 255, 255)"
         },
         "orientation": "h",
         "text": "",
         "type": "bar",
         "width": 0.5,
         "x": [
          1
         ],
         "xaxis": "x1",
         "y": [
          1
         ],
         "yaxis": "y1"
        }
       ],
       "layout": {
        "annotations": [
         {
          "align": "left",
          "font": {
           "color": "black",
           "family": "Arial",
           "size": 14
          },
          "showarrow": false,
          "text": " ",
          "x": 0.5,
          "xref": "x1",
          "y": 1,
          "yref": "y1"
         },
         {
          "align": "left",
          "font": {
           "color": "black",
           "family": "Arial",
           "size": 14
          },
          "showarrow": false,
          "text": "T",
          "x": 1.5,
          "xref": "x1",
          "y": 1,
          "yref": "y1"
         },
         {
          "align": "left",
          "font": {
           "color": "black",
           "family": "Arial",
           "size": 14
          },
          "showarrow": false,
          "text": "E",
          "x": 2.5,
          "xref": "x1",
          "y": 1,
          "yref": "y1"
         },
         {
          "align": "left",
          "font": {
           "color": "black",
           "family": "Arial",
           "size": 14
          },
          "showarrow": false,
          "text": "A",
          "x": 3.5,
          "xref": "x1",
          "y": 1,
          "yref": "y1"
         },
         {
          "align": "left",
          "font": {
           "color": "black",
           "family": "Arial",
           "size": 14
          },
          "showarrow": false,
          "text": "N",
          "x": 4.5,
          "xref": "x1",
          "y": 1,
          "yref": "y1"
         },
         {
          "align": "left",
          "font": {
           "color": "black",
           "family": "Arial",
           "size": 14
          },
          "showarrow": false,
          "text": "A",
          "x": 5.5,
          "xref": "x1",
          "y": 1,
          "yref": "y1"
         },
         {
          "align": "left",
          "font": {
           "color": "black",
           "family": "Arial",
           "size": 14
          },
          "showarrow": false,
          "text": "P",
          "x": 6.5,
          "xref": "x1",
          "y": 1,
          "yref": "y1"
         },
         {
          "align": "left",
          "font": {
           "color": "black",
           "family": "Arial",
           "size": 14
          },
          "showarrow": false,
          "text": "S",
          "x": 7.5,
          "xref": "x1",
          "y": 1,
          "yref": "y1"
         },
         {
          "align": "left",
          "font": {
           "color": "black",
           "family": "Arial",
           "size": 14
          },
          "showarrow": false,
          "text": "는",
          "x": 8.5,
          "xref": "x1",
          "y": 1,
          "yref": "y1"
         },
         {
          "align": "left",
          "font": {
           "color": "black",
           "family": "Arial",
           "size": 14
          },
          "showarrow": false,
          "text": " ",
          "x": 9.5,
          "xref": "x1",
          "y": 1,
          "yref": "y1"
         },
         {
          "align": "left",
          "font": {
           "color": "black",
           "family": "Arial",
           "size": 14
          },
          "showarrow": false,
          "text": "텍",
          "x": 10.5,
          "xref": "x1",
          "y": 1,
          "yref": "y1"
         },
         {
          "align": "left",
          "font": {
           "color": "black",
           "family": "Arial",
           "size": 14
          },
          "showarrow": false,
          "text": "스",
          "x": 11.5,
          "xref": "x1",
          "y": 1,
          "yref": "y1"
         },
         {
          "align": "left",
          "font": {
           "color": "black",
           "family": "Arial",
           "size": 14
          },
          "showarrow": false,
          "text": "트",
          "x": 12.5,
          "xref": "x1",
          "y": 1,
          "yref": "y1"
         },
         {
          "align": "left",
          "font": {
           "color": "black",
           "family": "Arial",
           "size": 14
          },
          "showarrow": false,
          "text": " ",
          "x": 13.5,
          "xref": "x1",
          "y": 1,
          "yref": "y1"
         },
         {
          "align": "left",
          "font": {
           "color": "black",
           "family": "Arial",
           "size": 14
          },
          "showarrow": false,
          "text": "마",
          "x": 14.5,
          "xref": "x1",
          "y": 1,
          "yref": "y1"
         },
         {
          "align": "left",
          "font": {
           "color": "black",
           "family": "Arial",
           "size": 14
          },
          "showarrow": false,
          "text": "이",
          "x": 15.5,
          "xref": "x1",
          "y": 1,
          "yref": "y1"
         },
         {
          "align": "left",
          "font": {
           "color": "black",
           "family": "Arial",
           "size": 14
          },
          "showarrow": false,
          "text": "닝",
          "x": 16.5,
          "xref": "x1",
          "y": 1,
          "yref": "y1"
         },
         {
          "align": "left",
          "font": {
           "color": "black",
           "family": "Arial",
           "size": 14
          },
          "showarrow": false,
          "text": "을",
          "x": 17.5,
          "xref": "x1",
          "y": 1,
          "yref": "y1"
         },
         {
          "align": "left",
          "font": {
           "color": "black",
           "family": "Arial",
           "size": 14
          },
          "showarrow": false,
          "text": " ",
          "x": 18.5,
          "xref": "x1",
          "y": 1,
          "yref": "y1"
         },
         {
          "align": "left",
          "font": {
           "color": "black",
           "family": "Arial",
           "size": 14
          },
          "showarrow": false,
          "text": "위",
          "x": 19.5,
          "xref": "x1",
          "y": 1,
          "yref": "y1"
         },
         {
          "align": "left",
          "font": {
           "color": "black",
           "family": "Arial",
           "size": 14
          },
          "showarrow": false,
          "text": "한",
          "x": 20.5,
          "xref": "x1",
          "y": 1,
          "yref": "y1"
         },
         {
          "align": "left",
          "font": {
           "color": "black",
           "family": "Arial",
           "size": 14
          },
          "showarrow": false,
          "text": " ",
          "x": 21.5,
          "xref": "x1",
          "y": 1,
          "yref": "y1"
         },
         {
          "align": "left",
          "font": {
           "color": "black",
           "family": "Arial",
           "size": 14
          },
          "showarrow": false,
          "text": "P",
          "x": 22.5,
          "xref": "x1",
          "y": 1,
          "yref": "y1"
         },
         {
          "align": "left",
          "font": {
           "color": "black",
           "family": "Arial",
           "size": 14
          },
          "showarrow": false,
          "text": "y",
          "x": 23.5,
          "xref": "x1",
          "y": 1,
          "yref": "y1"
         },
         {
          "align": "left",
          "font": {
           "color": "black",
           "family": "Arial",
           "size": 14
          },
          "showarrow": false,
          "text": "t",
          "x": 24.5,
          "xref": "x1",
          "y": 1,
          "yref": "y1"
         },
         {
          "align": "left",
          "font": {
           "color": "black",
           "family": "Arial",
           "size": 14
          },
          "showarrow": false,
          "text": "h",
          "x": 25.5,
          "xref": "x1",
          "y": 1,
          "yref": "y1"
         },
         {
          "align": "left",
          "font": {
           "color": "black",
           "family": "Arial",
           "size": 14
          },
          "showarrow": false,
          "text": "o",
          "x": 26.5,
          "xref": "x1",
          "y": 1,
          "yref": "y1"
         },
         {
          "align": "left",
          "font": {
           "color": "black",
           "family": "Arial",
           "size": 14
          },
          "showarrow": false,
          "text": "n",
          "x": 27.5,
          "xref": "x1",
          "y": 1,
          "yref": "y1"
         },
         {
          "align": "left",
          "font": {
           "color": "black",
           "family": "Arial",
           "size": 14
          },
          "showarrow": false,
          "text": " ",
          "x": 28.5,
          "xref": "x1",
          "y": 1,
          "yref": "y1"
         },
         {
          "align": "left",
          "font": {
           "color": "black",
           "family": "Arial",
           "size": 14
          },
          "showarrow": false,
          "text": "패",
          "x": 29.5,
          "xref": "x1",
          "y": 1,
          "yref": "y1"
         },
         {
          "align": "left",
          "font": {
           "color": "black",
           "family": "Arial",
           "size": 14
          },
          "showarrow": false,
          "text": "키",
          "x": 30.5,
          "xref": "x1",
          "y": 1,
          "yref": "y1"
         },
         {
          "align": "left",
          "font": {
           "color": "black",
           "family": "Arial",
           "size": 14
          },
          "showarrow": false,
          "text": "지",
          "x": 31.5,
          "xref": "x1",
          "y": 1,
          "yref": "y1"
         },
         {
          "align": "left",
          "font": {
           "color": "black",
           "family": "Arial",
           "size": 14
          },
          "showarrow": false,
          "text": " ",
          "x": 32.5,
          "xref": "x1",
          "y": 1,
          "yref": "y1"
         },
         {
          "align": "left",
          "font": {
           "color": "black",
           "family": "Arial",
           "size": 14
          },
          "showarrow": false,
          "text": "입",
          "x": 33.5,
          "xref": "x1",
          "y": 1,
          "yref": "y1"
         },
         {
          "align": "left",
          "font": {
           "color": "black",
           "family": "Arial",
           "size": 14
          },
          "showarrow": false,
          "text": "니",
          "x": 34.5,
          "xref": "x1",
          "y": 1,
          "yref": "y1"
         },
         {
          "align": "left",
          "font": {
           "color": "black",
           "family": "Arial",
           "size": 14
          },
          "showarrow": false,
          "text": "다",
          "x": 35.5,
          "xref": "x1",
          "y": 1,
          "yref": "y1"
         },
         {
          "align": "left",
          "font": {
           "color": "black",
           "family": "Arial",
           "size": 14
          },
          "showarrow": false,
          "text": ".",
          "x": 36.5,
          "xref": "x1",
          "y": 1,
          "yref": "y1"
         }
        ],
        "barmode": "stack",
        "height": 80,
        "images": [
         {
          "layer": "above",
          "opacity": 0.3,
          "sizex": 0.7,
          "sizey": 0.7,
          "source": "https://raw.githubusercontent.com/fingeredman/teanaps/master/data/logo/teanaps_logo_no-bg.png",
          "x": 0.5,
          "xanchor": "center",
          "xref": "paper",
          "y": 0.6,
          "yanchor": "center",
          "yref": "paper"
         }
        ],
        "margin": {
         "b": 30,
         "l": 20,
         "r": 20,
         "t": 10
        },
        "showlegend": false,
        "xaxis1": {
         "anchor": "y1",
         "domain": [
          0,
          1
         ],
         "showgrid": false,
         "showline": false,
         "showticklabels": false,
         "zeroline": false
        },
        "yaxis1": {
         "anchor": "x1",
         "domain": [
          0,
          1
         ],
         "showgrid": false,
         "showline": false,
         "showticklabels": false,
         "zeroline": false
        }
       }
      },
      "text/html": [
       "<div id=\"3a8efabb-8b24-47a4-89df-6a63440ca623\" style=\"height: 80px; width: 100%;\" class=\"plotly-graph-div\"></div><script type=\"text/javascript\">require([\"plotly\"], function(Plotly) { window.PLOTLYENV=window.PLOTLYENV || {};window.PLOTLYENV.BASE_URL=\"https://plot.ly\";Plotly.newPlot(\"3a8efabb-8b24-47a4-89df-6a63440ca623\", [{\"type\": \"bar\", \"y\": [1], \"x\": [2], \"orientation\": \"h\", \"width\": 0.5, \"text\": \"0.46\", \"hoverinfo\": \"text\", \"marker\": {\"color\": \"rgb(163.8460971063372, 209.4230485531686, 255)\"}, \"xaxis\": \"x1\", \"yaxis\": \"y1\"}, {\"type\": \"bar\", \"y\": [1], \"x\": [1], \"orientation\": \"h\", \"width\": 0.5, \"text\": \"0.9\", \"hoverinfo\": \"text\", \"marker\": {\"color\": \"rgb(75.34487801124234, 165.1724390056212, 255)\"}, \"xaxis\": \"x1\", \"yaxis\": \"y1\"}, {\"type\": \"bar\", \"y\": [1], \"x\": [1], \"orientation\": \"h\", \"width\": 0.5, \"text\": \"0.95\", \"hoverinfo\": \"text\", \"marker\": {\"color\": \"rgb(65.20765244748841, 160.1038262237442, 255)\"}, \"xaxis\": \"x1\", \"yaxis\": \"y1\"}, {\"type\": \"bar\", \"y\": [1], \"x\": [2], \"orientation\": \"h\", \"width\": 0.5, \"text\": \"0.98\", \"hoverinfo\": \"text\", \"marker\": {\"color\": \"rgb(59.830194113560395, 157.4150970567802, 255)\"}, \"xaxis\": \"x1\", \"yaxis\": \"y1\"}, {\"type\": \"bar\", \"y\": [1], \"x\": [2], \"orientation\": \"h\", \"width\": 0.5, \"text\": \"1.0\", \"hoverinfo\": \"text\", \"marker\": {\"color\": \"rgb(55.0, 155.0, 255)\"}, \"xaxis\": \"x1\", \"yaxis\": \"y1\"}, {\"type\": \"bar\", \"y\": [1], \"x\": [1], \"orientation\": \"h\", \"width\": 0.5, \"text\": \"0.14\", \"hoverinfo\": \"text\", \"marker\": {\"color\": \"rgb(227.85237628696703, 241.4261881434835, 255)\"}, \"xaxis\": \"x1\", \"yaxis\": \"y1\"}, {\"type\": \"bar\", \"y\": [1], \"x\": [1], \"orientation\": \"h\", \"width\": 0.5, \"text\": \"0.22\", \"hoverinfo\": \"text\", \"marker\": {\"color\": \"rgb(210.96886127689677, 232.98443063844837, 255)\"}, \"xaxis\": \"x1\", \"yaxis\": \"y1\"}, {\"type\": \"bar\", \"y\": [1], \"x\": [1], \"orientation\": \"h\", \"width\": 0.5, \"text\": \"0.17\", \"hoverinfo\": \"text\", \"marker\": {\"color\": \"rgb(220.24232836441308, 237.62116418220654, 255)\"}, \"xaxis\": \"x1\", \"yaxis\": \"y1\"}, {\"type\": \"bar\", \"y\": [1], \"x\": [2], \"orientation\": \"h\", \"width\": 0.5, \"text\": \"0.18\", \"hoverinfo\": \"text\", \"marker\": {\"color\": \"rgb(219.13788852313604, 237.06894426156802, 255)\"}, \"xaxis\": \"x1\", \"yaxis\": \"y1\"}, {\"type\": \"bar\", \"y\": [1], \"x\": [2], \"orientation\": \"h\", \"width\": 0.5, \"text\": \"0.15\", \"hoverinfo\": \"text\", \"marker\": {\"color\": \"rgb(225.79086772733953, 240.39543386366975, 255)\"}, \"xaxis\": \"x1\", \"yaxis\": \"y1\"}, {\"type\": \"bar\", \"y\": [1], \"x\": [2], \"orientation\": \"h\", \"width\": 0.5, \"text\": \"0.07\", \"hoverinfo\": \"text\", \"marker\": {\"color\": \"rgb(240.7847844438919, 247.89239222194595, 255)\"}, \"xaxis\": \"x1\", \"yaxis\": \"y1\"}, {\"type\": \"bar\", \"y\": [1], \"x\": [1], \"orientation\": \"h\", \"width\": 0.5, \"text\": \"0.17\", \"hoverinfo\": \"text\", \"marker\": {\"color\": \"rgb(220.62654932868907, 237.81327466434453, 255)\"}, \"xaxis\": \"x1\", \"yaxis\": \"y1\"}, {\"type\": \"bar\", \"y\": [1], \"x\": [3], \"orientation\": \"h\", \"width\": 0.5, \"text\": \"0.24\", \"hoverinfo\": \"text\", \"marker\": {\"color\": \"rgb(206.35003029001462, 230.6750151450073, 255)\"}, \"xaxis\": \"x1\", \"yaxis\": \"y1\"}, {\"type\": \"bar\", \"y\": [1], \"x\": [2], \"orientation\": \"h\", \"width\": 0.5, \"text\": \"0.07\", \"hoverinfo\": \"text\", \"marker\": {\"color\": \"rgb(240.62506710097057, 247.81253355048528, 255)\"}, \"xaxis\": \"x1\", \"yaxis\": \"y1\"}, {\"type\": \"bar\", \"y\": [1], \"x\": [1], \"orientation\": \"h\", \"width\": 0.5, \"text\": \"0.84\", \"hoverinfo\": \"text\", \"marker\": {\"color\": \"rgb(87.68319470401309, 171.34159735200654, 255)\"}, \"xaxis\": \"x1\", \"yaxis\": \"y1\"}, {\"type\": \"bar\", \"y\": [1], \"x\": [2], \"orientation\": \"h\", \"width\": 0.5, \"text\": \"0.79\", \"hoverinfo\": \"text\", \"marker\": {\"color\": \"rgb(97.04754617891484, 176.02377308945742, 255)\"}, \"xaxis\": \"x1\", \"yaxis\": \"y1\"}, {\"type\": \"bar\", \"y\": [1], \"x\": [2], \"orientation\": \"h\", \"width\": 0.5, \"text\": \"0.8\", \"hoverinfo\": \"text\", \"marker\": {\"color\": \"rgb(95.84978713079943, 175.4248935653997, 255)\"}, \"xaxis\": \"x1\", \"yaxis\": \"y1\"}, {\"type\": \"bar\", \"y\": [1], \"x\": [4], \"orientation\": \"h\", \"width\": 0.5, \"text\": \"0.56\", \"hoverinfo\": \"text\", \"marker\": {\"color\": \"rgb(143.98829056238878, 199.4941452811944, 255)\"}, \"xaxis\": \"x1\", \"yaxis\": \"y1\"}, {\"type\": \"bar\", \"y\": [1], \"x\": [1], \"orientation\": \"h\", \"width\": 0.5, \"text\": \"0.36\", \"hoverinfo\": \"text\", \"marker\": {\"color\": \"rgb(183.74489754717223, 219.37244877358611, 255)\"}, \"xaxis\": \"x1\", \"yaxis\": \"y1\"}, {\"type\": \"bar\", \"y\": [1], \"x\": [3], \"orientation\": \"h\", \"width\": 0.5, \"text\": \"0.13\", \"hoverinfo\": \"text\", \"marker\": {\"color\": \"rgb(229.3490390065248, 242.17451950326242, 255)\"}, \"xaxis\": \"x1\", \"yaxis\": \"y1\"}, {\"type\": \"bar\", \"y\": [1], \"x\": [1], \"orientation\": \"h\", \"width\": 0.5, \"text\": \"0.22\", \"hoverinfo\": \"text\", \"marker\": {\"color\": \"rgb(211.2289566515359, 233.11447832576795, 255)\"}, \"xaxis\": \"x1\", \"yaxis\": \"y1\"}, {\"type\": \"bar\", \"y\": [1], \"x\": [1], \"orientation\": \"h\", \"width\": 0.5, \"text\": \"\", \"hoverinfo\": \"text\", \"marker\": {\"color\": \"rgb(255, 255, 255)\"}, \"xaxis\": \"x1\", \"yaxis\": \"y1\"}, {\"type\": \"bar\", \"y\": [1], \"x\": [1], \"orientation\": \"h\", \"width\": 0.5, \"text\": \"\", \"hoverinfo\": \"text\", \"marker\": {\"color\": \"rgb(255, 255, 255)\"}, \"xaxis\": \"x1\", \"yaxis\": \"y1\"}, {\"type\": \"bar\", \"y\": [1], \"x\": [1], \"orientation\": \"h\", \"width\": 0.5, \"text\": \"\", \"hoverinfo\": \"text\", \"marker\": {\"color\": \"rgb(255, 255, 255)\"}, \"xaxis\": \"x1\", \"yaxis\": \"y1\"}, {\"type\": \"bar\", \"y\": [1], \"x\": [1], \"orientation\": \"h\", \"width\": 0.5, \"text\": \"\", \"hoverinfo\": \"text\", \"marker\": {\"color\": \"rgb(255, 255, 255)\"}, \"xaxis\": \"x1\", \"yaxis\": \"y1\"}, {\"type\": \"bar\", \"y\": [1], \"x\": [1], \"orientation\": \"h\", \"width\": 0.5, \"text\": \"\", \"hoverinfo\": \"text\", \"marker\": {\"color\": \"rgb(255, 255, 255)\"}, \"xaxis\": \"x1\", \"yaxis\": \"y1\"}, {\"type\": \"bar\", \"y\": [1], \"x\": [1], \"orientation\": \"h\", \"width\": 0.5, \"text\": \"\", \"hoverinfo\": \"text\", \"marker\": {\"color\": \"rgb(255, 255, 255)\"}, \"xaxis\": \"x1\", \"yaxis\": \"y1\"}, {\"type\": \"bar\", \"y\": [1], \"x\": [1], \"orientation\": \"h\", \"width\": 0.5, \"text\": \"\", \"hoverinfo\": \"text\", \"marker\": {\"color\": \"rgb(255, 255, 255)\"}, \"xaxis\": \"x1\", \"yaxis\": \"y1\"}, {\"type\": \"bar\", \"y\": [1], \"x\": [1], \"orientation\": \"h\", \"width\": 0.5, \"text\": \"\", \"hoverinfo\": \"text\", \"marker\": {\"color\": \"rgb(255, 255, 255)\"}, \"xaxis\": \"x1\", \"yaxis\": \"y1\"}, {\"type\": \"bar\", \"y\": [1], \"x\": [1], \"orientation\": \"h\", \"width\": 0.5, \"text\": \"\", \"hoverinfo\": \"text\", \"marker\": {\"color\": \"rgb(255, 255, 255)\"}, \"xaxis\": \"x1\", \"yaxis\": \"y1\"}, {\"type\": \"bar\", \"y\": [1], \"x\": [1], \"orientation\": \"h\", \"width\": 0.5, \"text\": \"\", \"hoverinfo\": \"text\", \"marker\": {\"color\": \"rgb(255, 255, 255)\"}, \"xaxis\": \"x1\", \"yaxis\": \"y1\"}, {\"type\": \"bar\", \"y\": [1], \"x\": [1], \"orientation\": \"h\", \"width\": 0.5, \"text\": \"\", \"hoverinfo\": \"text\", \"marker\": {\"color\": \"rgb(255, 255, 255)\"}, \"xaxis\": \"x1\", \"yaxis\": \"y1\"}, {\"type\": \"bar\", \"y\": [1], \"x\": [1], \"orientation\": \"h\", \"width\": 0.5, \"text\": \"\", \"hoverinfo\": \"text\", \"marker\": {\"color\": \"rgb(255, 255, 255)\"}, \"xaxis\": \"x1\", \"yaxis\": \"y1\"}, {\"type\": \"bar\", \"y\": [1], \"x\": [1], \"orientation\": \"h\", \"width\": 0.5, \"text\": \"\", \"hoverinfo\": \"text\", \"marker\": {\"color\": \"rgb(255, 255, 255)\"}, \"xaxis\": \"x1\", \"yaxis\": \"y1\"}], {\"xaxis1\": {\"domain\": [0.0, 1.0], \"anchor\": \"y1\", \"showgrid\": false, \"showline\": false, \"showticklabels\": false, \"zeroline\": false}, \"yaxis1\": {\"domain\": [0.0, 1.0], \"anchor\": \"x1\", \"showgrid\": false, \"showline\": false, \"showticklabels\": false, \"zeroline\": false}, \"barmode\": \"stack\", \"showlegend\": false, \"margin\": {\"b\": 30, \"l\": 20, \"r\": 20, \"t\": 10}, \"annotations\": [{\"xref\": \"x1\", \"yref\": \"y1\", \"x\": 0.5, \"y\": 1, \"text\": \" \", \"align\": \"left\", \"font\": {\"family\": \"Arial\", \"size\": 14, \"color\": \"black\"}, \"showarrow\": false}, {\"xref\": \"x1\", \"yref\": \"y1\", \"x\": 1.5, \"y\": 1, \"text\": \"T\", \"align\": \"left\", \"font\": {\"family\": \"Arial\", \"size\": 14, \"color\": \"black\"}, \"showarrow\": false}, {\"xref\": \"x1\", \"yref\": \"y1\", \"x\": 2.5, \"y\": 1, \"text\": \"E\", \"align\": \"left\", \"font\": {\"family\": \"Arial\", \"size\": 14, \"color\": \"black\"}, \"showarrow\": false}, {\"xref\": \"x1\", \"yref\": \"y1\", \"x\": 3.5, \"y\": 1, \"text\": \"A\", \"align\": \"left\", \"font\": {\"family\": \"Arial\", \"size\": 14, \"color\": \"black\"}, \"showarrow\": false}, {\"xref\": \"x1\", \"yref\": \"y1\", \"x\": 4.5, \"y\": 1, \"text\": \"N\", \"align\": \"left\", \"font\": {\"family\": \"Arial\", \"size\": 14, \"color\": \"black\"}, \"showarrow\": false}, {\"xref\": \"x1\", \"yref\": \"y1\", \"x\": 5.5, \"y\": 1, \"text\": \"A\", \"align\": \"left\", \"font\": {\"family\": \"Arial\", \"size\": 14, \"color\": \"black\"}, \"showarrow\": false}, {\"xref\": \"x1\", \"yref\": \"y1\", \"x\": 6.5, \"y\": 1, \"text\": \"P\", \"align\": \"left\", \"font\": {\"family\": \"Arial\", \"size\": 14, \"color\": \"black\"}, \"showarrow\": false}, {\"xref\": \"x1\", \"yref\": \"y1\", \"x\": 7.5, \"y\": 1, \"text\": \"S\", \"align\": \"left\", \"font\": {\"family\": \"Arial\", \"size\": 14, \"color\": \"black\"}, \"showarrow\": false}, {\"xref\": \"x1\", \"yref\": \"y1\", \"x\": 8.5, \"y\": 1, \"text\": \"\\ub294\", \"align\": \"left\", \"font\": {\"family\": \"Arial\", \"size\": 14, \"color\": \"black\"}, \"showarrow\": false}, {\"xref\": \"x1\", \"yref\": \"y1\", \"x\": 9.5, \"y\": 1, \"text\": \" \", \"align\": \"left\", \"font\": {\"family\": \"Arial\", \"size\": 14, \"color\": \"black\"}, \"showarrow\": false}, {\"xref\": \"x1\", \"yref\": \"y1\", \"x\": 10.5, \"y\": 1, \"text\": \"\\ud14d\", \"align\": \"left\", \"font\": {\"family\": \"Arial\", \"size\": 14, \"color\": \"black\"}, \"showarrow\": false}, {\"xref\": \"x1\", \"yref\": \"y1\", \"x\": 11.5, \"y\": 1, \"text\": \"\\uc2a4\", \"align\": \"left\", \"font\": {\"family\": \"Arial\", \"size\": 14, \"color\": \"black\"}, \"showarrow\": false}, {\"xref\": \"x1\", \"yref\": \"y1\", \"x\": 12.5, \"y\": 1, \"text\": \"\\ud2b8\", \"align\": \"left\", \"font\": {\"family\": \"Arial\", \"size\": 14, \"color\": \"black\"}, \"showarrow\": false}, {\"xref\": \"x1\", \"yref\": \"y1\", \"x\": 13.5, \"y\": 1, \"text\": \" \", \"align\": \"left\", \"font\": {\"family\": \"Arial\", \"size\": 14, \"color\": \"black\"}, \"showarrow\": false}, {\"xref\": \"x1\", \"yref\": \"y1\", \"x\": 14.5, \"y\": 1, \"text\": \"\\ub9c8\", \"align\": \"left\", \"font\": {\"family\": \"Arial\", \"size\": 14, \"color\": \"black\"}, \"showarrow\": false}, {\"xref\": \"x1\", \"yref\": \"y1\", \"x\": 15.5, \"y\": 1, \"text\": \"\\uc774\", \"align\": \"left\", \"font\": {\"family\": \"Arial\", \"size\": 14, \"color\": \"black\"}, \"showarrow\": false}, {\"xref\": \"x1\", \"yref\": \"y1\", \"x\": 16.5, \"y\": 1, \"text\": \"\\ub2dd\", \"align\": \"left\", \"font\": {\"family\": \"Arial\", \"size\": 14, \"color\": \"black\"}, \"showarrow\": false}, {\"xref\": \"x1\", \"yref\": \"y1\", \"x\": 17.5, \"y\": 1, \"text\": \"\\uc744\", \"align\": \"left\", \"font\": {\"family\": \"Arial\", \"size\": 14, \"color\": \"black\"}, \"showarrow\": false}, {\"xref\": \"x1\", \"yref\": \"y1\", \"x\": 18.5, \"y\": 1, \"text\": \" \", \"align\": \"left\", \"font\": {\"family\": \"Arial\", \"size\": 14, \"color\": \"black\"}, \"showarrow\": false}, {\"xref\": \"x1\", \"yref\": \"y1\", \"x\": 19.5, \"y\": 1, \"text\": \"\\uc704\", \"align\": \"left\", \"font\": {\"family\": \"Arial\", \"size\": 14, \"color\": \"black\"}, \"showarrow\": false}, {\"xref\": \"x1\", \"yref\": \"y1\", \"x\": 20.5, \"y\": 1, \"text\": \"\\ud55c\", \"align\": \"left\", \"font\": {\"family\": \"Arial\", \"size\": 14, \"color\": \"black\"}, \"showarrow\": false}, {\"xref\": \"x1\", \"yref\": \"y1\", \"x\": 21.5, \"y\": 1, \"text\": \" \", \"align\": \"left\", \"font\": {\"family\": \"Arial\", \"size\": 14, \"color\": \"black\"}, \"showarrow\": false}, {\"xref\": \"x1\", \"yref\": \"y1\", \"x\": 22.5, \"y\": 1, \"text\": \"P\", \"align\": \"left\", \"font\": {\"family\": \"Arial\", \"size\": 14, \"color\": \"black\"}, \"showarrow\": false}, {\"xref\": \"x1\", \"yref\": \"y1\", \"x\": 23.5, \"y\": 1, \"text\": \"y\", \"align\": \"left\", \"font\": {\"family\": \"Arial\", \"size\": 14, \"color\": \"black\"}, \"showarrow\": false}, {\"xref\": \"x1\", \"yref\": \"y1\", \"x\": 24.5, \"y\": 1, \"text\": \"t\", \"align\": \"left\", \"font\": {\"family\": \"Arial\", \"size\": 14, \"color\": \"black\"}, \"showarrow\": false}, {\"xref\": \"x1\", \"yref\": \"y1\", \"x\": 25.5, \"y\": 1, \"text\": \"h\", \"align\": \"left\", \"font\": {\"family\": \"Arial\", \"size\": 14, \"color\": \"black\"}, \"showarrow\": false}, {\"xref\": \"x1\", \"yref\": \"y1\", \"x\": 26.5, \"y\": 1, \"text\": \"o\", \"align\": \"left\", \"font\": {\"family\": \"Arial\", \"size\": 14, \"color\": \"black\"}, \"showarrow\": false}, {\"xref\": \"x1\", \"yref\": \"y1\", \"x\": 27.5, \"y\": 1, \"text\": \"n\", \"align\": \"left\", \"font\": {\"family\": \"Arial\", \"size\": 14, \"color\": \"black\"}, \"showarrow\": false}, {\"xref\": \"x1\", \"yref\": \"y1\", \"x\": 28.5, \"y\": 1, \"text\": \" \", \"align\": \"left\", \"font\": {\"family\": \"Arial\", \"size\": 14, \"color\": \"black\"}, \"showarrow\": false}, {\"xref\": \"x1\", \"yref\": \"y1\", \"x\": 29.5, \"y\": 1, \"text\": \"\\ud328\", \"align\": \"left\", \"font\": {\"family\": \"Arial\", \"size\": 14, \"color\": \"black\"}, \"showarrow\": false}, {\"xref\": \"x1\", \"yref\": \"y1\", \"x\": 30.5, \"y\": 1, \"text\": \"\\ud0a4\", \"align\": \"left\", \"font\": {\"family\": \"Arial\", \"size\": 14, \"color\": \"black\"}, \"showarrow\": false}, {\"xref\": \"x1\", \"yref\": \"y1\", \"x\": 31.5, \"y\": 1, \"text\": \"\\uc9c0\", \"align\": \"left\", \"font\": {\"family\": \"Arial\", \"size\": 14, \"color\": \"black\"}, \"showarrow\": false}, {\"xref\": \"x1\", \"yref\": \"y1\", \"x\": 32.5, \"y\": 1, \"text\": \" \", \"align\": \"left\", \"font\": {\"family\": \"Arial\", \"size\": 14, \"color\": \"black\"}, \"showarrow\": false}, {\"xref\": \"x1\", \"yref\": \"y1\", \"x\": 33.5, \"y\": 1, \"text\": \"\\uc785\", \"align\": \"left\", \"font\": {\"family\": \"Arial\", \"size\": 14, \"color\": \"black\"}, \"showarrow\": false}, {\"xref\": \"x1\", \"yref\": \"y1\", \"x\": 34.5, \"y\": 1, \"text\": \"\\ub2c8\", \"align\": \"left\", \"font\": {\"family\": \"Arial\", \"size\": 14, \"color\": \"black\"}, \"showarrow\": false}, {\"xref\": \"x1\", \"yref\": \"y1\", \"x\": 35.5, \"y\": 1, \"text\": \"\\ub2e4\", \"align\": \"left\", \"font\": {\"family\": \"Arial\", \"size\": 14, \"color\": \"black\"}, \"showarrow\": false}, {\"xref\": \"x1\", \"yref\": \"y1\", \"x\": 36.5, \"y\": 1, \"text\": \".\", \"align\": \"left\", \"font\": {\"family\": \"Arial\", \"size\": 14, \"color\": \"black\"}, \"showarrow\": false}], \"height\": 80, \"images\": [{\"source\": \"https://raw.githubusercontent.com/fingeredman/teanaps/master/data/logo/teanaps_logo_no-bg.png\", \"xref\": \"paper\", \"yref\": \"paper\", \"x\": 0.5, \"y\": 0.6, \"sizex\": 0.7, \"sizey\": 0.7, \"xanchor\": \"center\", \"yanchor\": \"center\", \"opacity\": 0.3, \"layer\": \"above\"}]}, {\"showLink\": true, \"linkText\": \"Export to plot.ly\"})});</script>"
      ],
      "text/vnd.plotly.v1+html": [
       "<div id=\"3a8efabb-8b24-47a4-89df-6a63440ca623\" style=\"height: 80px; width: 100%;\" class=\"plotly-graph-div\"></div><script type=\"text/javascript\">require([\"plotly\"], function(Plotly) { window.PLOTLYENV=window.PLOTLYENV || {};window.PLOTLYENV.BASE_URL=\"https://plot.ly\";Plotly.newPlot(\"3a8efabb-8b24-47a4-89df-6a63440ca623\", [{\"type\": \"bar\", \"y\": [1], \"x\": [2], \"orientation\": \"h\", \"width\": 0.5, \"text\": \"0.46\", \"hoverinfo\": \"text\", \"marker\": {\"color\": \"rgb(163.8460971063372, 209.4230485531686, 255)\"}, \"xaxis\": \"x1\", \"yaxis\": \"y1\"}, {\"type\": \"bar\", \"y\": [1], \"x\": [1], \"orientation\": \"h\", \"width\": 0.5, \"text\": \"0.9\", \"hoverinfo\": \"text\", \"marker\": {\"color\": \"rgb(75.34487801124234, 165.1724390056212, 255)\"}, \"xaxis\": \"x1\", \"yaxis\": \"y1\"}, {\"type\": \"bar\", \"y\": [1], \"x\": [1], \"orientation\": \"h\", \"width\": 0.5, \"text\": \"0.95\", \"hoverinfo\": \"text\", \"marker\": {\"color\": \"rgb(65.20765244748841, 160.1038262237442, 255)\"}, \"xaxis\": \"x1\", \"yaxis\": \"y1\"}, {\"type\": \"bar\", \"y\": [1], \"x\": [2], \"orientation\": \"h\", \"width\": 0.5, \"text\": \"0.98\", \"hoverinfo\": \"text\", \"marker\": {\"color\": \"rgb(59.830194113560395, 157.4150970567802, 255)\"}, \"xaxis\": \"x1\", \"yaxis\": \"y1\"}, {\"type\": \"bar\", \"y\": [1], \"x\": [2], \"orientation\": \"h\", \"width\": 0.5, \"text\": \"1.0\", \"hoverinfo\": \"text\", \"marker\": {\"color\": \"rgb(55.0, 155.0, 255)\"}, \"xaxis\": \"x1\", \"yaxis\": \"y1\"}, {\"type\": \"bar\", \"y\": [1], \"x\": [1], \"orientation\": \"h\", \"width\": 0.5, \"text\": \"0.14\", \"hoverinfo\": \"text\", \"marker\": {\"color\": \"rgb(227.85237628696703, 241.4261881434835, 255)\"}, \"xaxis\": \"x1\", \"yaxis\": \"y1\"}, {\"type\": \"bar\", \"y\": [1], \"x\": [1], \"orientation\": \"h\", \"width\": 0.5, \"text\": \"0.22\", \"hoverinfo\": \"text\", \"marker\": {\"color\": \"rgb(210.96886127689677, 232.98443063844837, 255)\"}, \"xaxis\": \"x1\", \"yaxis\": \"y1\"}, {\"type\": \"bar\", \"y\": [1], \"x\": [1], \"orientation\": \"h\", \"width\": 0.5, \"text\": \"0.17\", \"hoverinfo\": \"text\", \"marker\": {\"color\": \"rgb(220.24232836441308, 237.62116418220654, 255)\"}, \"xaxis\": \"x1\", \"yaxis\": \"y1\"}, {\"type\": \"bar\", \"y\": [1], \"x\": [2], \"orientation\": \"h\", \"width\": 0.5, \"text\": \"0.18\", \"hoverinfo\": \"text\", \"marker\": {\"color\": \"rgb(219.13788852313604, 237.06894426156802, 255)\"}, \"xaxis\": \"x1\", \"yaxis\": \"y1\"}, {\"type\": \"bar\", \"y\": [1], \"x\": [2], \"orientation\": \"h\", \"width\": 0.5, \"text\": \"0.15\", \"hoverinfo\": \"text\", \"marker\": {\"color\": \"rgb(225.79086772733953, 240.39543386366975, 255)\"}, \"xaxis\": \"x1\", \"yaxis\": \"y1\"}, {\"type\": \"bar\", \"y\": [1], \"x\": [2], \"orientation\": \"h\", \"width\": 0.5, \"text\": \"0.07\", \"hoverinfo\": \"text\", \"marker\": {\"color\": \"rgb(240.7847844438919, 247.89239222194595, 255)\"}, \"xaxis\": \"x1\", \"yaxis\": \"y1\"}, {\"type\": \"bar\", \"y\": [1], \"x\": [1], \"orientation\": \"h\", \"width\": 0.5, \"text\": \"0.17\", \"hoverinfo\": \"text\", \"marker\": {\"color\": \"rgb(220.62654932868907, 237.81327466434453, 255)\"}, \"xaxis\": \"x1\", \"yaxis\": \"y1\"}, {\"type\": \"bar\", \"y\": [1], \"x\": [3], \"orientation\": \"h\", \"width\": 0.5, \"text\": \"0.24\", \"hoverinfo\": \"text\", \"marker\": {\"color\": \"rgb(206.35003029001462, 230.6750151450073, 255)\"}, \"xaxis\": \"x1\", \"yaxis\": \"y1\"}, {\"type\": \"bar\", \"y\": [1], \"x\": [2], \"orientation\": \"h\", \"width\": 0.5, \"text\": \"0.07\", \"hoverinfo\": \"text\", \"marker\": {\"color\": \"rgb(240.62506710097057, 247.81253355048528, 255)\"}, \"xaxis\": \"x1\", \"yaxis\": \"y1\"}, {\"type\": \"bar\", \"y\": [1], \"x\": [1], \"orientation\": \"h\", \"width\": 0.5, \"text\": \"0.84\", \"hoverinfo\": \"text\", \"marker\": {\"color\": \"rgb(87.68319470401309, 171.34159735200654, 255)\"}, \"xaxis\": \"x1\", \"yaxis\": \"y1\"}, {\"type\": \"bar\", \"y\": [1], \"x\": [2], \"orientation\": \"h\", \"width\": 0.5, \"text\": \"0.79\", \"hoverinfo\": \"text\", \"marker\": {\"color\": \"rgb(97.04754617891484, 176.02377308945742, 255)\"}, \"xaxis\": \"x1\", \"yaxis\": \"y1\"}, {\"type\": \"bar\", \"y\": [1], \"x\": [2], \"orientation\": \"h\", \"width\": 0.5, \"text\": \"0.8\", \"hoverinfo\": \"text\", \"marker\": {\"color\": \"rgb(95.84978713079943, 175.4248935653997, 255)\"}, \"xaxis\": \"x1\", \"yaxis\": \"y1\"}, {\"type\": \"bar\", \"y\": [1], \"x\": [4], \"orientation\": \"h\", \"width\": 0.5, \"text\": \"0.56\", \"hoverinfo\": \"text\", \"marker\": {\"color\": \"rgb(143.98829056238878, 199.4941452811944, 255)\"}, \"xaxis\": \"x1\", \"yaxis\": \"y1\"}, {\"type\": \"bar\", \"y\": [1], \"x\": [1], \"orientation\": \"h\", \"width\": 0.5, \"text\": \"0.36\", \"hoverinfo\": \"text\", \"marker\": {\"color\": \"rgb(183.74489754717223, 219.37244877358611, 255)\"}, \"xaxis\": \"x1\", \"yaxis\": \"y1\"}, {\"type\": \"bar\", \"y\": [1], \"x\": [3], \"orientation\": \"h\", \"width\": 0.5, \"text\": \"0.13\", \"hoverinfo\": \"text\", \"marker\": {\"color\": \"rgb(229.3490390065248, 242.17451950326242, 255)\"}, \"xaxis\": \"x1\", \"yaxis\": \"y1\"}, {\"type\": \"bar\", \"y\": [1], \"x\": [1], \"orientation\": \"h\", \"width\": 0.5, \"text\": \"0.22\", \"hoverinfo\": \"text\", \"marker\": {\"color\": \"rgb(211.2289566515359, 233.11447832576795, 255)\"}, \"xaxis\": \"x1\", \"yaxis\": \"y1\"}, {\"type\": \"bar\", \"y\": [1], \"x\": [1], \"orientation\": \"h\", \"width\": 0.5, \"text\": \"\", \"hoverinfo\": \"text\", \"marker\": {\"color\": \"rgb(255, 255, 255)\"}, \"xaxis\": \"x1\", \"yaxis\": \"y1\"}, {\"type\": \"bar\", \"y\": [1], \"x\": [1], \"orientation\": \"h\", \"width\": 0.5, \"text\": \"\", \"hoverinfo\": \"text\", \"marker\": {\"color\": \"rgb(255, 255, 255)\"}, \"xaxis\": \"x1\", \"yaxis\": \"y1\"}, {\"type\": \"bar\", \"y\": [1], \"x\": [1], \"orientation\": \"h\", \"width\": 0.5, \"text\": \"\", \"hoverinfo\": \"text\", \"marker\": {\"color\": \"rgb(255, 255, 255)\"}, \"xaxis\": \"x1\", \"yaxis\": \"y1\"}, {\"type\": \"bar\", \"y\": [1], \"x\": [1], \"orientation\": \"h\", \"width\": 0.5, \"text\": \"\", \"hoverinfo\": \"text\", \"marker\": {\"color\": \"rgb(255, 255, 255)\"}, \"xaxis\": \"x1\", \"yaxis\": \"y1\"}, {\"type\": \"bar\", \"y\": [1], \"x\": [1], \"orientation\": \"h\", \"width\": 0.5, \"text\": \"\", \"hoverinfo\": \"text\", \"marker\": {\"color\": \"rgb(255, 255, 255)\"}, \"xaxis\": \"x1\", \"yaxis\": \"y1\"}, {\"type\": \"bar\", \"y\": [1], \"x\": [1], \"orientation\": \"h\", \"width\": 0.5, \"text\": \"\", \"hoverinfo\": \"text\", \"marker\": {\"color\": \"rgb(255, 255, 255)\"}, \"xaxis\": \"x1\", \"yaxis\": \"y1\"}, {\"type\": \"bar\", \"y\": [1], \"x\": [1], \"orientation\": \"h\", \"width\": 0.5, \"text\": \"\", \"hoverinfo\": \"text\", \"marker\": {\"color\": \"rgb(255, 255, 255)\"}, \"xaxis\": \"x1\", \"yaxis\": \"y1\"}, {\"type\": \"bar\", \"y\": [1], \"x\": [1], \"orientation\": \"h\", \"width\": 0.5, \"text\": \"\", \"hoverinfo\": \"text\", \"marker\": {\"color\": \"rgb(255, 255, 255)\"}, \"xaxis\": \"x1\", \"yaxis\": \"y1\"}, {\"type\": \"bar\", \"y\": [1], \"x\": [1], \"orientation\": \"h\", \"width\": 0.5, \"text\": \"\", \"hoverinfo\": \"text\", \"marker\": {\"color\": \"rgb(255, 255, 255)\"}, \"xaxis\": \"x1\", \"yaxis\": \"y1\"}, {\"type\": \"bar\", \"y\": [1], \"x\": [1], \"orientation\": \"h\", \"width\": 0.5, \"text\": \"\", \"hoverinfo\": \"text\", \"marker\": {\"color\": \"rgb(255, 255, 255)\"}, \"xaxis\": \"x1\", \"yaxis\": \"y1\"}, {\"type\": \"bar\", \"y\": [1], \"x\": [1], \"orientation\": \"h\", \"width\": 0.5, \"text\": \"\", \"hoverinfo\": \"text\", \"marker\": {\"color\": \"rgb(255, 255, 255)\"}, \"xaxis\": \"x1\", \"yaxis\": \"y1\"}, {\"type\": \"bar\", \"y\": [1], \"x\": [1], \"orientation\": \"h\", \"width\": 0.5, \"text\": \"\", \"hoverinfo\": \"text\", \"marker\": {\"color\": \"rgb(255, 255, 255)\"}, \"xaxis\": \"x1\", \"yaxis\": \"y1\"}, {\"type\": \"bar\", \"y\": [1], \"x\": [1], \"orientation\": \"h\", \"width\": 0.5, \"text\": \"\", \"hoverinfo\": \"text\", \"marker\": {\"color\": \"rgb(255, 255, 255)\"}, \"xaxis\": \"x1\", \"yaxis\": \"y1\"}], {\"xaxis1\": {\"domain\": [0.0, 1.0], \"anchor\": \"y1\", \"showgrid\": false, \"showline\": false, \"showticklabels\": false, \"zeroline\": false}, \"yaxis1\": {\"domain\": [0.0, 1.0], \"anchor\": \"x1\", \"showgrid\": false, \"showline\": false, \"showticklabels\": false, \"zeroline\": false}, \"barmode\": \"stack\", \"showlegend\": false, \"margin\": {\"b\": 30, \"l\": 20, \"r\": 20, \"t\": 10}, \"annotations\": [{\"xref\": \"x1\", \"yref\": \"y1\", \"x\": 0.5, \"y\": 1, \"text\": \" \", \"align\": \"left\", \"font\": {\"family\": \"Arial\", \"size\": 14, \"color\": \"black\"}, \"showarrow\": false}, {\"xref\": \"x1\", \"yref\": \"y1\", \"x\": 1.5, \"y\": 1, \"text\": \"T\", \"align\": \"left\", \"font\": {\"family\": \"Arial\", \"size\": 14, \"color\": \"black\"}, \"showarrow\": false}, {\"xref\": \"x1\", \"yref\": \"y1\", \"x\": 2.5, \"y\": 1, \"text\": \"E\", \"align\": \"left\", \"font\": {\"family\": \"Arial\", \"size\": 14, \"color\": \"black\"}, \"showarrow\": false}, {\"xref\": \"x1\", \"yref\": \"y1\", \"x\": 3.5, \"y\": 1, \"text\": \"A\", \"align\": \"left\", \"font\": {\"family\": \"Arial\", \"size\": 14, \"color\": \"black\"}, \"showarrow\": false}, {\"xref\": \"x1\", \"yref\": \"y1\", \"x\": 4.5, \"y\": 1, \"text\": \"N\", \"align\": \"left\", \"font\": {\"family\": \"Arial\", \"size\": 14, \"color\": \"black\"}, \"showarrow\": false}, {\"xref\": \"x1\", \"yref\": \"y1\", \"x\": 5.5, \"y\": 1, \"text\": \"A\", \"align\": \"left\", \"font\": {\"family\": \"Arial\", \"size\": 14, \"color\": \"black\"}, \"showarrow\": false}, {\"xref\": \"x1\", \"yref\": \"y1\", \"x\": 6.5, \"y\": 1, \"text\": \"P\", \"align\": \"left\", \"font\": {\"family\": \"Arial\", \"size\": 14, \"color\": \"black\"}, \"showarrow\": false}, {\"xref\": \"x1\", \"yref\": \"y1\", \"x\": 7.5, \"y\": 1, \"text\": \"S\", \"align\": \"left\", \"font\": {\"family\": \"Arial\", \"size\": 14, \"color\": \"black\"}, \"showarrow\": false}, {\"xref\": \"x1\", \"yref\": \"y1\", \"x\": 8.5, \"y\": 1, \"text\": \"\\ub294\", \"align\": \"left\", \"font\": {\"family\": \"Arial\", \"size\": 14, \"color\": \"black\"}, \"showarrow\": false}, {\"xref\": \"x1\", \"yref\": \"y1\", \"x\": 9.5, \"y\": 1, \"text\": \" \", \"align\": \"left\", \"font\": {\"family\": \"Arial\", \"size\": 14, \"color\": \"black\"}, \"showarrow\": false}, {\"xref\": \"x1\", \"yref\": \"y1\", \"x\": 10.5, \"y\": 1, \"text\": \"\\ud14d\", \"align\": \"left\", \"font\": {\"family\": \"Arial\", \"size\": 14, \"color\": \"black\"}, \"showarrow\": false}, {\"xref\": \"x1\", \"yref\": \"y1\", \"x\": 11.5, \"y\": 1, \"text\": \"\\uc2a4\", \"align\": \"left\", \"font\": {\"family\": \"Arial\", \"size\": 14, \"color\": \"black\"}, \"showarrow\": false}, {\"xref\": \"x1\", \"yref\": \"y1\", \"x\": 12.5, \"y\": 1, \"text\": \"\\ud2b8\", \"align\": \"left\", \"font\": {\"family\": \"Arial\", \"size\": 14, \"color\": \"black\"}, \"showarrow\": false}, {\"xref\": \"x1\", \"yref\": \"y1\", \"x\": 13.5, \"y\": 1, \"text\": \" \", \"align\": \"left\", \"font\": {\"family\": \"Arial\", \"size\": 14, \"color\": \"black\"}, \"showarrow\": false}, {\"xref\": \"x1\", \"yref\": \"y1\", \"x\": 14.5, \"y\": 1, \"text\": \"\\ub9c8\", \"align\": \"left\", \"font\": {\"family\": \"Arial\", \"size\": 14, \"color\": \"black\"}, \"showarrow\": false}, {\"xref\": \"x1\", \"yref\": \"y1\", \"x\": 15.5, \"y\": 1, \"text\": \"\\uc774\", \"align\": \"left\", \"font\": {\"family\": \"Arial\", \"size\": 14, \"color\": \"black\"}, \"showarrow\": false}, {\"xref\": \"x1\", \"yref\": \"y1\", \"x\": 16.5, \"y\": 1, \"text\": \"\\ub2dd\", \"align\": \"left\", \"font\": {\"family\": \"Arial\", \"size\": 14, \"color\": \"black\"}, \"showarrow\": false}, {\"xref\": \"x1\", \"yref\": \"y1\", \"x\": 17.5, \"y\": 1, \"text\": \"\\uc744\", \"align\": \"left\", \"font\": {\"family\": \"Arial\", \"size\": 14, \"color\": \"black\"}, \"showarrow\": false}, {\"xref\": \"x1\", \"yref\": \"y1\", \"x\": 18.5, \"y\": 1, \"text\": \" \", \"align\": \"left\", \"font\": {\"family\": \"Arial\", \"size\": 14, \"color\": \"black\"}, \"showarrow\": false}, {\"xref\": \"x1\", \"yref\": \"y1\", \"x\": 19.5, \"y\": 1, \"text\": \"\\uc704\", \"align\": \"left\", \"font\": {\"family\": \"Arial\", \"size\": 14, \"color\": \"black\"}, \"showarrow\": false}, {\"xref\": \"x1\", \"yref\": \"y1\", \"x\": 20.5, \"y\": 1, \"text\": \"\\ud55c\", \"align\": \"left\", \"font\": {\"family\": \"Arial\", \"size\": 14, \"color\": \"black\"}, \"showarrow\": false}, {\"xref\": \"x1\", \"yref\": \"y1\", \"x\": 21.5, \"y\": 1, \"text\": \" \", \"align\": \"left\", \"font\": {\"family\": \"Arial\", \"size\": 14, \"color\": \"black\"}, \"showarrow\": false}, {\"xref\": \"x1\", \"yref\": \"y1\", \"x\": 22.5, \"y\": 1, \"text\": \"P\", \"align\": \"left\", \"font\": {\"family\": \"Arial\", \"size\": 14, \"color\": \"black\"}, \"showarrow\": false}, {\"xref\": \"x1\", \"yref\": \"y1\", \"x\": 23.5, \"y\": 1, \"text\": \"y\", \"align\": \"left\", \"font\": {\"family\": \"Arial\", \"size\": 14, \"color\": \"black\"}, \"showarrow\": false}, {\"xref\": \"x1\", \"yref\": \"y1\", \"x\": 24.5, \"y\": 1, \"text\": \"t\", \"align\": \"left\", \"font\": {\"family\": \"Arial\", \"size\": 14, \"color\": \"black\"}, \"showarrow\": false}, {\"xref\": \"x1\", \"yref\": \"y1\", \"x\": 25.5, \"y\": 1, \"text\": \"h\", \"align\": \"left\", \"font\": {\"family\": \"Arial\", \"size\": 14, \"color\": \"black\"}, \"showarrow\": false}, {\"xref\": \"x1\", \"yref\": \"y1\", \"x\": 26.5, \"y\": 1, \"text\": \"o\", \"align\": \"left\", \"font\": {\"family\": \"Arial\", \"size\": 14, \"color\": \"black\"}, \"showarrow\": false}, {\"xref\": \"x1\", \"yref\": \"y1\", \"x\": 27.5, \"y\": 1, \"text\": \"n\", \"align\": \"left\", \"font\": {\"family\": \"Arial\", \"size\": 14, \"color\": \"black\"}, \"showarrow\": false}, {\"xref\": \"x1\", \"yref\": \"y1\", \"x\": 28.5, \"y\": 1, \"text\": \" \", \"align\": \"left\", \"font\": {\"family\": \"Arial\", \"size\": 14, \"color\": \"black\"}, \"showarrow\": false}, {\"xref\": \"x1\", \"yref\": \"y1\", \"x\": 29.5, \"y\": 1, \"text\": \"\\ud328\", \"align\": \"left\", \"font\": {\"family\": \"Arial\", \"size\": 14, \"color\": \"black\"}, \"showarrow\": false}, {\"xref\": \"x1\", \"yref\": \"y1\", \"x\": 30.5, \"y\": 1, \"text\": \"\\ud0a4\", \"align\": \"left\", \"font\": {\"family\": \"Arial\", \"size\": 14, \"color\": \"black\"}, \"showarrow\": false}, {\"xref\": \"x1\", \"yref\": \"y1\", \"x\": 31.5, \"y\": 1, \"text\": \"\\uc9c0\", \"align\": \"left\", \"font\": {\"family\": \"Arial\", \"size\": 14, \"color\": \"black\"}, \"showarrow\": false}, {\"xref\": \"x1\", \"yref\": \"y1\", \"x\": 32.5, \"y\": 1, \"text\": \" \", \"align\": \"left\", \"font\": {\"family\": \"Arial\", \"size\": 14, \"color\": \"black\"}, \"showarrow\": false}, {\"xref\": \"x1\", \"yref\": \"y1\", \"x\": 33.5, \"y\": 1, \"text\": \"\\uc785\", \"align\": \"left\", \"font\": {\"family\": \"Arial\", \"size\": 14, \"color\": \"black\"}, \"showarrow\": false}, {\"xref\": \"x1\", \"yref\": \"y1\", \"x\": 34.5, \"y\": 1, \"text\": \"\\ub2c8\", \"align\": \"left\", \"font\": {\"family\": \"Arial\", \"size\": 14, \"color\": \"black\"}, \"showarrow\": false}, {\"xref\": \"x1\", \"yref\": \"y1\", \"x\": 35.5, \"y\": 1, \"text\": \"\\ub2e4\", \"align\": \"left\", \"font\": {\"family\": \"Arial\", \"size\": 14, \"color\": \"black\"}, \"showarrow\": false}, {\"xref\": \"x1\", \"yref\": \"y1\", \"x\": 36.5, \"y\": 1, \"text\": \".\", \"align\": \"left\", \"font\": {\"family\": \"Arial\", \"size\": 14, \"color\": \"black\"}, \"showarrow\": false}], \"height\": 80, \"images\": [{\"source\": \"https://raw.githubusercontent.com/fingeredman/teanaps/master/data/logo/teanaps_logo_no-bg.png\", \"xref\": \"paper\", \"yref\": \"paper\", \"x\": 0.5, \"y\": 0.6, \"sizex\": 0.7, \"sizey\": 0.7, \"xanchor\": \"center\", \"yanchor\": \"center\", \"opacity\": 0.3, \"layer\": \"above\"}]}, {\"showLink\": true, \"linkText\": \"Export to plot.ly\"})});</script>"
      ]
     },
     "metadata": {},
     "output_type": "display_data"
    }
   ],
   "source": [
    "input_text = \"TEANAPS는 텍스트 마이닝을 위한 Python 라이브러리 입니다.\"\n",
    "\n",
    "result = ner.parse(input_text)\n",
    "print(result)\n",
    "result = ner.parse_sentence(input_text)\n",
    "print(result)\n",
    "ner.draw_sentence_weight(input_text)"
   ]
  },
  {
   "cell_type": "code",
   "execution_count": 10,
   "metadata": {},
   "outputs": [
    {
     "name": "stdout",
     "output_type": "stream",
     "text": [
      "[('박보검', 'PS', (6, 9))]\n",
      "이거 완전 <박보검:PS> 두고한 대사 같다  ㅋㅋㅋㅋ\n"
     ]
    },
    {
     "data": {
      "text/html": [
       "\n",
       "                <script src=\"/static/components/requirejs/require.js\"></script>\n",
       "                <script>\n",
       "                  requirejs.config({\n",
       "                    paths: {\n",
       "                      base: '/static/base',\n",
       "                      plotly: 'https://cdn.plot.ly/plotly-latest.min.js?noext',\n",
       "                    },\n",
       "                  });\n",
       "                </script>\n",
       "                "
      ],
      "text/plain": [
       "<IPython.core.display.HTML object>"
      ]
     },
     "metadata": {},
     "output_type": "display_data"
    },
    {
     "data": {
      "text/html": [
       "\n",
       "                <script src=\"/static/components/requirejs/require.js\"></script>\n",
       "                <script>\n",
       "                  requirejs.config({\n",
       "                    paths: {\n",
       "                      base: '/static/base',\n",
       "                      plotly: 'https://cdn.plot.ly/plotly-latest.min.js?noext',\n",
       "                    },\n",
       "                  });\n",
       "                </script>\n",
       "                "
      ],
      "text/plain": [
       "<IPython.core.display.HTML object>"
      ]
     },
     "metadata": {},
     "output_type": "display_data"
    },
    {
     "data": {
      "application/vnd.plotly.v1+json": {
       "data": [
        {
         "hoverinfo": "text",
         "marker": {
          "color": "rgb(253.46900857703338, 254.2345042885167, 255)"
         },
         "orientation": "h",
         "text": "0.01",
         "type": "bar",
         "width": 0.5,
         "x": [
          2
         ],
         "xaxis": "x1",
         "y": [
          1
         ],
         "yaxis": "y1"
        },
        {
         "hoverinfo": "text",
         "marker": {
          "color": "rgb(250.5124237375881, 252.75621186879405, 255)"
         },
         "orientation": "h",
         "text": "0.02",
         "type": "bar",
         "width": 0.5,
         "x": [
          1
         ],
         "xaxis": "x1",
         "y": [
          1
         ],
         "yaxis": "y1"
        },
        {
         "hoverinfo": "text",
         "marker": {
          "color": "rgb(253.2529008879357, 254.12645044396785, 255)"
         },
         "orientation": "h",
         "text": "0.01",
         "type": "bar",
         "width": 0.5,
         "x": [
          3
         ],
         "xaxis": "x1",
         "y": [
          1
         ],
         "yaxis": "y1"
        },
        {
         "hoverinfo": "text",
         "marker": {
          "color": "rgb(55.0, 155.0, 255)"
         },
         "orientation": "h",
         "text": "1.0",
         "type": "bar",
         "width": 0.5,
         "x": [
          2
         ],
         "xaxis": "x1",
         "y": [
          1
         ],
         "yaxis": "y1"
        },
        {
         "hoverinfo": "text",
         "marker": {
          "color": "rgb(184.32572248675785, 219.66286124337893, 255)"
         },
         "orientation": "h",
         "text": "0.35",
         "type": "bar",
         "width": 0.5,
         "x": [
          1
         ],
         "xaxis": "x1",
         "y": [
          1
         ],
         "yaxis": "y1"
        },
        {
         "hoverinfo": "text",
         "marker": {
          "color": "rgb(199.3271660627388, 227.1635830313694, 255)"
         },
         "orientation": "h",
         "text": "0.28",
         "type": "bar",
         "width": 0.5,
         "x": [
          1
         ],
         "xaxis": "x1",
         "y": [
          1
         ],
         "yaxis": "y1"
        },
        {
         "hoverinfo": "text",
         "marker": {
          "color": "rgb(238.1029940735563, 246.55149703677813, 255)"
         },
         "orientation": "h",
         "text": "0.08",
         "type": "bar",
         "width": 0.5,
         "x": [
          3
         ],
         "xaxis": "x1",
         "y": [
          1
         ],
         "yaxis": "y1"
        },
        {
         "hoverinfo": "text",
         "marker": {
          "color": "rgb(233.07305871626124, 244.03652935813062, 255)"
         },
         "orientation": "h",
         "text": "0.11",
         "type": "bar",
         "width": 0.5,
         "x": [
          1
         ],
         "xaxis": "x1",
         "y": [
          1
         ],
         "yaxis": "y1"
        },
        {
         "hoverinfo": "text",
         "marker": {
          "color": "rgb(235.9297603109747, 245.46488015548735, 255)"
         },
         "orientation": "h",
         "text": "0.1",
         "type": "bar",
         "width": 0.5,
         "x": [
          3
         ],
         "xaxis": "x1",
         "y": [
          1
         ],
         "yaxis": "y1"
        },
        {
         "hoverinfo": "text",
         "marker": {
          "color": "rgb(252.1767195524238, 253.58835977621192, 255)"
         },
         "orientation": "h",
         "text": "0.01",
         "type": "bar",
         "width": 0.5,
         "x": [
          3
         ],
         "xaxis": "x1",
         "y": [
          1
         ],
         "yaxis": "y1"
        },
        {
         "hoverinfo": "text",
         "marker": {
          "color": "rgb(254.61102441823235, 254.8055122091162, 255)"
         },
         "orientation": "h",
         "text": "0.0",
         "type": "bar",
         "width": 0.5,
         "x": [
          1
         ],
         "xaxis": "x1",
         "y": [
          1
         ],
         "yaxis": "y1"
        },
        {
         "hoverinfo": "text",
         "marker": {
          "color": "rgb(249.54192396449398, 252.270961982247, 255)"
         },
         "orientation": "h",
         "text": "0.03",
         "type": "bar",
         "width": 0.5,
         "x": [
          1
         ],
         "xaxis": "x1",
         "y": [
          1
         ],
         "yaxis": "y1"
        },
        {
         "hoverinfo": "text",
         "marker": {
          "color": "rgb(250.50006645420336, 252.75003322710168, 255)"
         },
         "orientation": "h",
         "text": "0.02",
         "type": "bar",
         "width": 0.5,
         "x": [
          1
         ],
         "xaxis": "x1",
         "y": [
          1
         ],
         "yaxis": "y1"
        },
        {
         "hoverinfo": "text",
         "marker": {
          "color": "rgb(254.01684283515715, 254.50842141757857, 255)"
         },
         "orientation": "h",
         "text": "0.0",
         "type": "bar",
         "width": 0.5,
         "x": [
          1
         ],
         "xaxis": "x1",
         "y": [
          1
         ],
         "yaxis": "y1"
        },
        {
         "hoverinfo": "text",
         "marker": {
          "color": "rgb(251.93593893229487, 253.46796946614742, 255)"
         },
         "orientation": "h",
         "text": "0.02",
         "type": "bar",
         "width": 0.5,
         "x": [
          1
         ],
         "xaxis": "x1",
         "y": [
          1
         ],
         "yaxis": "y1"
        },
        {
         "hoverinfo": "text",
         "marker": {
          "color": "rgb(251.04693825194397, 253.02346912597199, 255)"
         },
         "orientation": "h",
         "text": "0.02",
         "type": "bar",
         "width": 0.5,
         "x": [
          1
         ],
         "xaxis": "x1",
         "y": [
          1
         ],
         "yaxis": "y1"
        },
        {
         "hoverinfo": "text",
         "marker": {
          "color": "rgb(255, 255, 255)"
         },
         "orientation": "h",
         "text": "",
         "type": "bar",
         "width": 0.5,
         "x": [
          1
         ],
         "xaxis": "x1",
         "y": [
          1
         ],
         "yaxis": "y1"
        },
        {
         "hoverinfo": "text",
         "marker": {
          "color": "rgb(255, 255, 255)"
         },
         "orientation": "h",
         "text": "",
         "type": "bar",
         "width": 0.5,
         "x": [
          1
         ],
         "xaxis": "x1",
         "y": [
          1
         ],
         "yaxis": "y1"
        },
        {
         "hoverinfo": "text",
         "marker": {
          "color": "rgb(255, 255, 255)"
         },
         "orientation": "h",
         "text": "",
         "type": "bar",
         "width": 0.5,
         "x": [
          1
         ],
         "xaxis": "x1",
         "y": [
          1
         ],
         "yaxis": "y1"
        },
        {
         "hoverinfo": "text",
         "marker": {
          "color": "rgb(255, 255, 255)"
         },
         "orientation": "h",
         "text": "",
         "type": "bar",
         "width": 0.5,
         "x": [
          1
         ],
         "xaxis": "x1",
         "y": [
          1
         ],
         "yaxis": "y1"
        },
        {
         "hoverinfo": "text",
         "marker": {
          "color": "rgb(255, 255, 255)"
         },
         "orientation": "h",
         "text": "",
         "type": "bar",
         "width": 0.5,
         "x": [
          1
         ],
         "xaxis": "x1",
         "y": [
          1
         ],
         "yaxis": "y1"
        },
        {
         "hoverinfo": "text",
         "marker": {
          "color": "rgb(255, 255, 255)"
         },
         "orientation": "h",
         "text": "",
         "type": "bar",
         "width": 0.5,
         "x": [
          1
         ],
         "xaxis": "x1",
         "y": [
          1
         ],
         "yaxis": "y1"
        },
        {
         "hoverinfo": "text",
         "marker": {
          "color": "rgb(255, 255, 255)"
         },
         "orientation": "h",
         "text": "",
         "type": "bar",
         "width": 0.5,
         "x": [
          1
         ],
         "xaxis": "x1",
         "y": [
          1
         ],
         "yaxis": "y1"
        },
        {
         "hoverinfo": "text",
         "marker": {
          "color": "rgb(255, 255, 255)"
         },
         "orientation": "h",
         "text": "",
         "type": "bar",
         "width": 0.5,
         "x": [
          1
         ],
         "xaxis": "x1",
         "y": [
          1
         ],
         "yaxis": "y1"
        },
        {
         "hoverinfo": "text",
         "marker": {
          "color": "rgb(255, 255, 255)"
         },
         "orientation": "h",
         "text": "",
         "type": "bar",
         "width": 0.5,
         "x": [
          1
         ],
         "xaxis": "x1",
         "y": [
          1
         ],
         "yaxis": "y1"
        },
        {
         "hoverinfo": "text",
         "marker": {
          "color": "rgb(255, 255, 255)"
         },
         "orientation": "h",
         "text": "",
         "type": "bar",
         "width": 0.5,
         "x": [
          1
         ],
         "xaxis": "x1",
         "y": [
          1
         ],
         "yaxis": "y1"
        },
        {
         "hoverinfo": "text",
         "marker": {
          "color": "rgb(255, 255, 255)"
         },
         "orientation": "h",
         "text": "",
         "type": "bar",
         "width": 0.5,
         "x": [
          1
         ],
         "xaxis": "x1",
         "y": [
          1
         ],
         "yaxis": "y1"
        },
        {
         "hoverinfo": "text",
         "marker": {
          "color": "rgb(255, 255, 255)"
         },
         "orientation": "h",
         "text": "",
         "type": "bar",
         "width": 0.5,
         "x": [
          1
         ],
         "xaxis": "x1",
         "y": [
          1
         ],
         "yaxis": "y1"
        },
        {
         "hoverinfo": "text",
         "marker": {
          "color": "rgb(255, 255, 255)"
         },
         "orientation": "h",
         "text": "",
         "type": "bar",
         "width": 0.5,
         "x": [
          1
         ],
         "xaxis": "x1",
         "y": [
          1
         ],
         "yaxis": "y1"
        },
        {
         "hoverinfo": "text",
         "marker": {
          "color": "rgb(255, 255, 255)"
         },
         "orientation": "h",
         "text": "",
         "type": "bar",
         "width": 0.5,
         "x": [
          1
         ],
         "xaxis": "x1",
         "y": [
          1
         ],
         "yaxis": "y1"
        },
        {
         "hoverinfo": "text",
         "marker": {
          "color": "rgb(255, 255, 255)"
         },
         "orientation": "h",
         "text": "",
         "type": "bar",
         "width": 0.5,
         "x": [
          1
         ],
         "xaxis": "x1",
         "y": [
          1
         ],
         "yaxis": "y1"
        },
        {
         "hoverinfo": "text",
         "marker": {
          "color": "rgb(255, 255, 255)"
         },
         "orientation": "h",
         "text": "",
         "type": "bar",
         "width": 0.5,
         "x": [
          1
         ],
         "xaxis": "x1",
         "y": [
          1
         ],
         "yaxis": "y1"
        },
        {
         "hoverinfo": "text",
         "marker": {
          "color": "rgb(255, 255, 255)"
         },
         "orientation": "h",
         "text": "",
         "type": "bar",
         "width": 0.5,
         "x": [
          1
         ],
         "xaxis": "x1",
         "y": [
          1
         ],
         "yaxis": "y1"
        },
        {
         "hoverinfo": "text",
         "marker": {
          "color": "rgb(255, 255, 255)"
         },
         "orientation": "h",
         "text": "",
         "type": "bar",
         "width": 0.5,
         "x": [
          1
         ],
         "xaxis": "x1",
         "y": [
          1
         ],
         "yaxis": "y1"
        },
        {
         "hoverinfo": "text",
         "marker": {
          "color": "rgb(255, 255, 255)"
         },
         "orientation": "h",
         "text": "",
         "type": "bar",
         "width": 0.5,
         "x": [
          1
         ],
         "xaxis": "x1",
         "y": [
          1
         ],
         "yaxis": "y1"
        },
        {
         "hoverinfo": "text",
         "marker": {
          "color": "rgb(255, 255, 255)"
         },
         "orientation": "h",
         "text": "",
         "type": "bar",
         "width": 0.5,
         "x": [
          1
         ],
         "xaxis": "x1",
         "y": [
          1
         ],
         "yaxis": "y1"
        },
        {
         "hoverinfo": "text",
         "marker": {
          "color": "rgb(255, 255, 255)"
         },
         "orientation": "h",
         "text": "",
         "type": "bar",
         "width": 0.5,
         "x": [
          1
         ],
         "xaxis": "x1",
         "y": [
          1
         ],
         "yaxis": "y1"
        },
        {
         "hoverinfo": "text",
         "marker": {
          "color": "rgb(255, 255, 255)"
         },
         "orientation": "h",
         "text": "",
         "type": "bar",
         "width": 0.5,
         "x": [
          1
         ],
         "xaxis": "x1",
         "y": [
          1
         ],
         "yaxis": "y1"
        },
        {
         "hoverinfo": "text",
         "marker": {
          "color": "rgb(255, 255, 255)"
         },
         "orientation": "h",
         "text": "",
         "type": "bar",
         "width": 0.5,
         "x": [
          1
         ],
         "xaxis": "x1",
         "y": [
          1
         ],
         "yaxis": "y1"
        },
        {
         "hoverinfo": "text",
         "marker": {
          "color": "rgb(255, 255, 255)"
         },
         "orientation": "h",
         "text": "",
         "type": "bar",
         "width": 0.5,
         "x": [
          1
         ],
         "xaxis": "x1",
         "y": [
          1
         ],
         "yaxis": "y1"
        }
       ],
       "layout": {
        "annotations": [
         {
          "align": "left",
          "font": {
           "color": "black",
           "family": "Arial",
           "size": 14
          },
          "showarrow": false,
          "text": " ",
          "x": 0.5,
          "xref": "x1",
          "y": 1,
          "yref": "y1"
         },
         {
          "align": "left",
          "font": {
           "color": "black",
           "family": "Arial",
           "size": 14
          },
          "showarrow": false,
          "text": "이",
          "x": 1.5,
          "xref": "x1",
          "y": 1,
          "yref": "y1"
         },
         {
          "align": "left",
          "font": {
           "color": "black",
           "family": "Arial",
           "size": 14
          },
          "showarrow": false,
          "text": "거",
          "x": 2.5,
          "xref": "x1",
          "y": 1,
          "yref": "y1"
         },
         {
          "align": "left",
          "font": {
           "color": "black",
           "family": "Arial",
           "size": 14
          },
          "showarrow": false,
          "text": " ",
          "x": 3.5,
          "xref": "x1",
          "y": 1,
          "yref": "y1"
         },
         {
          "align": "left",
          "font": {
           "color": "black",
           "family": "Arial",
           "size": 14
          },
          "showarrow": false,
          "text": "완",
          "x": 4.5,
          "xref": "x1",
          "y": 1,
          "yref": "y1"
         },
         {
          "align": "left",
          "font": {
           "color": "black",
           "family": "Arial",
           "size": 14
          },
          "showarrow": false,
          "text": "전",
          "x": 5.5,
          "xref": "x1",
          "y": 1,
          "yref": "y1"
         },
         {
          "align": "left",
          "font": {
           "color": "black",
           "family": "Arial",
           "size": 14
          },
          "showarrow": false,
          "text": " ",
          "x": 6.5,
          "xref": "x1",
          "y": 1,
          "yref": "y1"
         },
         {
          "align": "left",
          "font": {
           "color": "black",
           "family": "Arial",
           "size": 14
          },
          "showarrow": false,
          "text": "박",
          "x": 7.5,
          "xref": "x1",
          "y": 1,
          "yref": "y1"
         },
         {
          "align": "left",
          "font": {
           "color": "black",
           "family": "Arial",
           "size": 14
          },
          "showarrow": false,
          "text": "보",
          "x": 8.5,
          "xref": "x1",
          "y": 1,
          "yref": "y1"
         },
         {
          "align": "left",
          "font": {
           "color": "black",
           "family": "Arial",
           "size": 14
          },
          "showarrow": false,
          "text": "검",
          "x": 9.5,
          "xref": "x1",
          "y": 1,
          "yref": "y1"
         },
         {
          "align": "left",
          "font": {
           "color": "black",
           "family": "Arial",
           "size": 14
          },
          "showarrow": false,
          "text": " ",
          "x": 10.5,
          "xref": "x1",
          "y": 1,
          "yref": "y1"
         },
         {
          "align": "left",
          "font": {
           "color": "black",
           "family": "Arial",
           "size": 14
          },
          "showarrow": false,
          "text": "두",
          "x": 11.5,
          "xref": "x1",
          "y": 1,
          "yref": "y1"
         },
         {
          "align": "left",
          "font": {
           "color": "black",
           "family": "Arial",
           "size": 14
          },
          "showarrow": false,
          "text": "고",
          "x": 12.5,
          "xref": "x1",
          "y": 1,
          "yref": "y1"
         },
         {
          "align": "left",
          "font": {
           "color": "black",
           "family": "Arial",
           "size": 14
          },
          "showarrow": false,
          "text": "한",
          "x": 13.5,
          "xref": "x1",
          "y": 1,
          "yref": "y1"
         },
         {
          "align": "left",
          "font": {
           "color": "black",
           "family": "Arial",
           "size": 14
          },
          "showarrow": false,
          "text": " ",
          "x": 14.5,
          "xref": "x1",
          "y": 1,
          "yref": "y1"
         },
         {
          "align": "left",
          "font": {
           "color": "black",
           "family": "Arial",
           "size": 14
          },
          "showarrow": false,
          "text": "대",
          "x": 15.5,
          "xref": "x1",
          "y": 1,
          "yref": "y1"
         },
         {
          "align": "left",
          "font": {
           "color": "black",
           "family": "Arial",
           "size": 14
          },
          "showarrow": false,
          "text": "사",
          "x": 16.5,
          "xref": "x1",
          "y": 1,
          "yref": "y1"
         },
         {
          "align": "left",
          "font": {
           "color": "black",
           "family": "Arial",
           "size": 14
          },
          "showarrow": false,
          "text": " ",
          "x": 17.5,
          "xref": "x1",
          "y": 1,
          "yref": "y1"
         },
         {
          "align": "left",
          "font": {
           "color": "black",
           "family": "Arial",
           "size": 14
          },
          "showarrow": false,
          "text": "같",
          "x": 18.5,
          "xref": "x1",
          "y": 1,
          "yref": "y1"
         },
         {
          "align": "left",
          "font": {
           "color": "black",
           "family": "Arial",
           "size": 14
          },
          "showarrow": false,
          "text": "다",
          "x": 19.5,
          "xref": "x1",
          "y": 1,
          "yref": "y1"
         },
         {
          "align": "left",
          "font": {
           "color": "black",
           "family": "Arial",
           "size": 14
          },
          "showarrow": false,
          "text": " ",
          "x": 20.5,
          "xref": "x1",
          "y": 1,
          "yref": "y1"
         },
         {
          "align": "left",
          "font": {
           "color": "black",
           "family": "Arial",
           "size": 14
          },
          "showarrow": false,
          "text": "ᄏ",
          "x": 21.5,
          "xref": "x1",
          "y": 1,
          "yref": "y1"
         },
         {
          "align": "left",
          "font": {
           "color": "black",
           "family": "Arial",
           "size": 14
          },
          "showarrow": false,
          "text": "ᄏ",
          "x": 22.5,
          "xref": "x1",
          "y": 1,
          "yref": "y1"
         },
         {
          "align": "left",
          "font": {
           "color": "black",
           "family": "Arial",
           "size": 14
          },
          "showarrow": false,
          "text": "ᄏ",
          "x": 23.5,
          "xref": "x1",
          "y": 1,
          "yref": "y1"
         },
         {
          "align": "left",
          "font": {
           "color": "black",
           "family": "Arial",
           "size": 14
          },
          "showarrow": false,
          "text": "ᄏ",
          "x": 24.5,
          "xref": "x1",
          "y": 1,
          "yref": "y1"
         },
         {
          "align": "left",
          "font": {
           "color": "black",
           "family": "Arial",
           "size": 14
          },
          "showarrow": false,
          "text": "ᄏ",
          "x": 25.5,
          "xref": "x1",
          "y": 1,
          "yref": "y1"
         }
        ],
        "barmode": "stack",
        "height": 80,
        "images": [
         {
          "layer": "above",
          "opacity": 0.3,
          "sizex": 0.7,
          "sizey": 0.7,
          "source": "https://raw.githubusercontent.com/fingeredman/teanaps/master/data/logo/teanaps_logo_no-bg.png",
          "x": 0.5,
          "xanchor": "center",
          "xref": "paper",
          "y": 0.6,
          "yanchor": "center",
          "yref": "paper"
         }
        ],
        "margin": {
         "b": 30,
         "l": 20,
         "r": 20,
         "t": 10
        },
        "showlegend": false,
        "xaxis1": {
         "anchor": "y1",
         "domain": [
          0,
          1
         ],
         "showgrid": false,
         "showline": false,
         "showticklabels": false,
         "zeroline": false
        },
        "yaxis1": {
         "anchor": "x1",
         "domain": [
          0,
          1
         ],
         "showgrid": false,
         "showline": false,
         "showticklabels": false,
         "zeroline": false
        }
       }
      },
      "text/html": [
       "<div id=\"7f37d395-a240-4182-81b3-d42046e7a8d3\" style=\"height: 80px; width: 100%;\" class=\"plotly-graph-div\"></div><script type=\"text/javascript\">require([\"plotly\"], function(Plotly) { window.PLOTLYENV=window.PLOTLYENV || {};window.PLOTLYENV.BASE_URL=\"https://plot.ly\";Plotly.newPlot(\"7f37d395-a240-4182-81b3-d42046e7a8d3\", [{\"type\": \"bar\", \"y\": [1], \"x\": [2], \"orientation\": \"h\", \"width\": 0.5, \"text\": \"0.01\", \"hoverinfo\": \"text\", \"marker\": {\"color\": \"rgb(253.46900857703338, 254.2345042885167, 255)\"}, \"xaxis\": \"x1\", \"yaxis\": \"y1\"}, {\"type\": \"bar\", \"y\": [1], \"x\": [1], \"orientation\": \"h\", \"width\": 0.5, \"text\": \"0.02\", \"hoverinfo\": \"text\", \"marker\": {\"color\": \"rgb(250.5124237375881, 252.75621186879405, 255)\"}, \"xaxis\": \"x1\", \"yaxis\": \"y1\"}, {\"type\": \"bar\", \"y\": [1], \"x\": [3], \"orientation\": \"h\", \"width\": 0.5, \"text\": \"0.01\", \"hoverinfo\": \"text\", \"marker\": {\"color\": \"rgb(253.2529008879357, 254.12645044396785, 255)\"}, \"xaxis\": \"x1\", \"yaxis\": \"y1\"}, {\"type\": \"bar\", \"y\": [1], \"x\": [2], \"orientation\": \"h\", \"width\": 0.5, \"text\": \"1.0\", \"hoverinfo\": \"text\", \"marker\": {\"color\": \"rgb(55.0, 155.0, 255)\"}, \"xaxis\": \"x1\", \"yaxis\": \"y1\"}, {\"type\": \"bar\", \"y\": [1], \"x\": [1], \"orientation\": \"h\", \"width\": 0.5, \"text\": \"0.35\", \"hoverinfo\": \"text\", \"marker\": {\"color\": \"rgb(184.32572248675785, 219.66286124337893, 255)\"}, \"xaxis\": \"x1\", \"yaxis\": \"y1\"}, {\"type\": \"bar\", \"y\": [1], \"x\": [1], \"orientation\": \"h\", \"width\": 0.5, \"text\": \"0.28\", \"hoverinfo\": \"text\", \"marker\": {\"color\": \"rgb(199.3271660627388, 227.1635830313694, 255)\"}, \"xaxis\": \"x1\", \"yaxis\": \"y1\"}, {\"type\": \"bar\", \"y\": [1], \"x\": [3], \"orientation\": \"h\", \"width\": 0.5, \"text\": \"0.08\", \"hoverinfo\": \"text\", \"marker\": {\"color\": \"rgb(238.1029940735563, 246.55149703677813, 255)\"}, \"xaxis\": \"x1\", \"yaxis\": \"y1\"}, {\"type\": \"bar\", \"y\": [1], \"x\": [1], \"orientation\": \"h\", \"width\": 0.5, \"text\": \"0.11\", \"hoverinfo\": \"text\", \"marker\": {\"color\": \"rgb(233.07305871626124, 244.03652935813062, 255)\"}, \"xaxis\": \"x1\", \"yaxis\": \"y1\"}, {\"type\": \"bar\", \"y\": [1], \"x\": [3], \"orientation\": \"h\", \"width\": 0.5, \"text\": \"0.1\", \"hoverinfo\": \"text\", \"marker\": {\"color\": \"rgb(235.9297603109747, 245.46488015548735, 255)\"}, \"xaxis\": \"x1\", \"yaxis\": \"y1\"}, {\"type\": \"bar\", \"y\": [1], \"x\": [3], \"orientation\": \"h\", \"width\": 0.5, \"text\": \"0.01\", \"hoverinfo\": \"text\", \"marker\": {\"color\": \"rgb(252.1767195524238, 253.58835977621192, 255)\"}, \"xaxis\": \"x1\", \"yaxis\": \"y1\"}, {\"type\": \"bar\", \"y\": [1], \"x\": [1], \"orientation\": \"h\", \"width\": 0.5, \"text\": \"0.0\", \"hoverinfo\": \"text\", \"marker\": {\"color\": \"rgb(254.61102441823235, 254.8055122091162, 255)\"}, \"xaxis\": \"x1\", \"yaxis\": \"y1\"}, {\"type\": \"bar\", \"y\": [1], \"x\": [1], \"orientation\": \"h\", \"width\": 0.5, \"text\": \"0.03\", \"hoverinfo\": \"text\", \"marker\": {\"color\": \"rgb(249.54192396449398, 252.270961982247, 255)\"}, \"xaxis\": \"x1\", \"yaxis\": \"y1\"}, {\"type\": \"bar\", \"y\": [1], \"x\": [1], \"orientation\": \"h\", \"width\": 0.5, \"text\": \"0.02\", \"hoverinfo\": \"text\", \"marker\": {\"color\": \"rgb(250.50006645420336, 252.75003322710168, 255)\"}, \"xaxis\": \"x1\", \"yaxis\": \"y1\"}, {\"type\": \"bar\", \"y\": [1], \"x\": [1], \"orientation\": \"h\", \"width\": 0.5, \"text\": \"0.0\", \"hoverinfo\": \"text\", \"marker\": {\"color\": \"rgb(254.01684283515715, 254.50842141757857, 255)\"}, \"xaxis\": \"x1\", \"yaxis\": \"y1\"}, {\"type\": \"bar\", \"y\": [1], \"x\": [1], \"orientation\": \"h\", \"width\": 0.5, \"text\": \"0.02\", \"hoverinfo\": \"text\", \"marker\": {\"color\": \"rgb(251.93593893229487, 253.46796946614742, 255)\"}, \"xaxis\": \"x1\", \"yaxis\": \"y1\"}, {\"type\": \"bar\", \"y\": [1], \"x\": [1], \"orientation\": \"h\", \"width\": 0.5, \"text\": \"0.02\", \"hoverinfo\": \"text\", \"marker\": {\"color\": \"rgb(251.04693825194397, 253.02346912597199, 255)\"}, \"xaxis\": \"x1\", \"yaxis\": \"y1\"}, {\"type\": \"bar\", \"y\": [1], \"x\": [1], \"orientation\": \"h\", \"width\": 0.5, \"text\": \"\", \"hoverinfo\": \"text\", \"marker\": {\"color\": \"rgb(255, 255, 255)\"}, \"xaxis\": \"x1\", \"yaxis\": \"y1\"}, {\"type\": \"bar\", \"y\": [1], \"x\": [1], \"orientation\": \"h\", \"width\": 0.5, \"text\": \"\", \"hoverinfo\": \"text\", \"marker\": {\"color\": \"rgb(255, 255, 255)\"}, \"xaxis\": \"x1\", \"yaxis\": \"y1\"}, {\"type\": \"bar\", \"y\": [1], \"x\": [1], \"orientation\": \"h\", \"width\": 0.5, \"text\": \"\", \"hoverinfo\": \"text\", \"marker\": {\"color\": \"rgb(255, 255, 255)\"}, \"xaxis\": \"x1\", \"yaxis\": \"y1\"}, {\"type\": \"bar\", \"y\": [1], \"x\": [1], \"orientation\": \"h\", \"width\": 0.5, \"text\": \"\", \"hoverinfo\": \"text\", \"marker\": {\"color\": \"rgb(255, 255, 255)\"}, \"xaxis\": \"x1\", \"yaxis\": \"y1\"}, {\"type\": \"bar\", \"y\": [1], \"x\": [1], \"orientation\": \"h\", \"width\": 0.5, \"text\": \"\", \"hoverinfo\": \"text\", \"marker\": {\"color\": \"rgb(255, 255, 255)\"}, \"xaxis\": \"x1\", \"yaxis\": \"y1\"}, {\"type\": \"bar\", \"y\": [1], \"x\": [1], \"orientation\": \"h\", \"width\": 0.5, \"text\": \"\", \"hoverinfo\": \"text\", \"marker\": {\"color\": \"rgb(255, 255, 255)\"}, \"xaxis\": \"x1\", \"yaxis\": \"y1\"}, {\"type\": \"bar\", \"y\": [1], \"x\": [1], \"orientation\": \"h\", \"width\": 0.5, \"text\": \"\", \"hoverinfo\": \"text\", \"marker\": {\"color\": \"rgb(255, 255, 255)\"}, \"xaxis\": \"x1\", \"yaxis\": \"y1\"}, {\"type\": \"bar\", \"y\": [1], \"x\": [1], \"orientation\": \"h\", \"width\": 0.5, \"text\": \"\", \"hoverinfo\": \"text\", \"marker\": {\"color\": \"rgb(255, 255, 255)\"}, \"xaxis\": \"x1\", \"yaxis\": \"y1\"}, {\"type\": \"bar\", \"y\": [1], \"x\": [1], \"orientation\": \"h\", \"width\": 0.5, \"text\": \"\", \"hoverinfo\": \"text\", \"marker\": {\"color\": \"rgb(255, 255, 255)\"}, \"xaxis\": \"x1\", \"yaxis\": \"y1\"}, {\"type\": \"bar\", \"y\": [1], \"x\": [1], \"orientation\": \"h\", \"width\": 0.5, \"text\": \"\", \"hoverinfo\": \"text\", \"marker\": {\"color\": \"rgb(255, 255, 255)\"}, \"xaxis\": \"x1\", \"yaxis\": \"y1\"}, {\"type\": \"bar\", \"y\": [1], \"x\": [1], \"orientation\": \"h\", \"width\": 0.5, \"text\": \"\", \"hoverinfo\": \"text\", \"marker\": {\"color\": \"rgb(255, 255, 255)\"}, \"xaxis\": \"x1\", \"yaxis\": \"y1\"}, {\"type\": \"bar\", \"y\": [1], \"x\": [1], \"orientation\": \"h\", \"width\": 0.5, \"text\": \"\", \"hoverinfo\": \"text\", \"marker\": {\"color\": \"rgb(255, 255, 255)\"}, \"xaxis\": \"x1\", \"yaxis\": \"y1\"}, {\"type\": \"bar\", \"y\": [1], \"x\": [1], \"orientation\": \"h\", \"width\": 0.5, \"text\": \"\", \"hoverinfo\": \"text\", \"marker\": {\"color\": \"rgb(255, 255, 255)\"}, \"xaxis\": \"x1\", \"yaxis\": \"y1\"}, {\"type\": \"bar\", \"y\": [1], \"x\": [1], \"orientation\": \"h\", \"width\": 0.5, \"text\": \"\", \"hoverinfo\": \"text\", \"marker\": {\"color\": \"rgb(255, 255, 255)\"}, \"xaxis\": \"x1\", \"yaxis\": \"y1\"}, {\"type\": \"bar\", \"y\": [1], \"x\": [1], \"orientation\": \"h\", \"width\": 0.5, \"text\": \"\", \"hoverinfo\": \"text\", \"marker\": {\"color\": \"rgb(255, 255, 255)\"}, \"xaxis\": \"x1\", \"yaxis\": \"y1\"}, {\"type\": \"bar\", \"y\": [1], \"x\": [1], \"orientation\": \"h\", \"width\": 0.5, \"text\": \"\", \"hoverinfo\": \"text\", \"marker\": {\"color\": \"rgb(255, 255, 255)\"}, \"xaxis\": \"x1\", \"yaxis\": \"y1\"}, {\"type\": \"bar\", \"y\": [1], \"x\": [1], \"orientation\": \"h\", \"width\": 0.5, \"text\": \"\", \"hoverinfo\": \"text\", \"marker\": {\"color\": \"rgb(255, 255, 255)\"}, \"xaxis\": \"x1\", \"yaxis\": \"y1\"}, {\"type\": \"bar\", \"y\": [1], \"x\": [1], \"orientation\": \"h\", \"width\": 0.5, \"text\": \"\", \"hoverinfo\": \"text\", \"marker\": {\"color\": \"rgb(255, 255, 255)\"}, \"xaxis\": \"x1\", \"yaxis\": \"y1\"}, {\"type\": \"bar\", \"y\": [1], \"x\": [1], \"orientation\": \"h\", \"width\": 0.5, \"text\": \"\", \"hoverinfo\": \"text\", \"marker\": {\"color\": \"rgb(255, 255, 255)\"}, \"xaxis\": \"x1\", \"yaxis\": \"y1\"}, {\"type\": \"bar\", \"y\": [1], \"x\": [1], \"orientation\": \"h\", \"width\": 0.5, \"text\": \"\", \"hoverinfo\": \"text\", \"marker\": {\"color\": \"rgb(255, 255, 255)\"}, \"xaxis\": \"x1\", \"yaxis\": \"y1\"}, {\"type\": \"bar\", \"y\": [1], \"x\": [1], \"orientation\": \"h\", \"width\": 0.5, \"text\": \"\", \"hoverinfo\": \"text\", \"marker\": {\"color\": \"rgb(255, 255, 255)\"}, \"xaxis\": \"x1\", \"yaxis\": \"y1\"}, {\"type\": \"bar\", \"y\": [1], \"x\": [1], \"orientation\": \"h\", \"width\": 0.5, \"text\": \"\", \"hoverinfo\": \"text\", \"marker\": {\"color\": \"rgb(255, 255, 255)\"}, \"xaxis\": \"x1\", \"yaxis\": \"y1\"}, {\"type\": \"bar\", \"y\": [1], \"x\": [1], \"orientation\": \"h\", \"width\": 0.5, \"text\": \"\", \"hoverinfo\": \"text\", \"marker\": {\"color\": \"rgb(255, 255, 255)\"}, \"xaxis\": \"x1\", \"yaxis\": \"y1\"}, {\"type\": \"bar\", \"y\": [1], \"x\": [1], \"orientation\": \"h\", \"width\": 0.5, \"text\": \"\", \"hoverinfo\": \"text\", \"marker\": {\"color\": \"rgb(255, 255, 255)\"}, \"xaxis\": \"x1\", \"yaxis\": \"y1\"}], {\"xaxis1\": {\"domain\": [0.0, 1.0], \"anchor\": \"y1\", \"showgrid\": false, \"showline\": false, \"showticklabels\": false, \"zeroline\": false}, \"yaxis1\": {\"domain\": [0.0, 1.0], \"anchor\": \"x1\", \"showgrid\": false, \"showline\": false, \"showticklabels\": false, \"zeroline\": false}, \"barmode\": \"stack\", \"showlegend\": false, \"margin\": {\"b\": 30, \"l\": 20, \"r\": 20, \"t\": 10}, \"annotations\": [{\"xref\": \"x1\", \"yref\": \"y1\", \"x\": 0.5, \"y\": 1, \"text\": \" \", \"align\": \"left\", \"font\": {\"family\": \"Arial\", \"size\": 14, \"color\": \"black\"}, \"showarrow\": false}, {\"xref\": \"x1\", \"yref\": \"y1\", \"x\": 1.5, \"y\": 1, \"text\": \"\\uc774\", \"align\": \"left\", \"font\": {\"family\": \"Arial\", \"size\": 14, \"color\": \"black\"}, \"showarrow\": false}, {\"xref\": \"x1\", \"yref\": \"y1\", \"x\": 2.5, \"y\": 1, \"text\": \"\\uac70\", \"align\": \"left\", \"font\": {\"family\": \"Arial\", \"size\": 14, \"color\": \"black\"}, \"showarrow\": false}, {\"xref\": \"x1\", \"yref\": \"y1\", \"x\": 3.5, \"y\": 1, \"text\": \" \", \"align\": \"left\", \"font\": {\"family\": \"Arial\", \"size\": 14, \"color\": \"black\"}, \"showarrow\": false}, {\"xref\": \"x1\", \"yref\": \"y1\", \"x\": 4.5, \"y\": 1, \"text\": \"\\uc644\", \"align\": \"left\", \"font\": {\"family\": \"Arial\", \"size\": 14, \"color\": \"black\"}, \"showarrow\": false}, {\"xref\": \"x1\", \"yref\": \"y1\", \"x\": 5.5, \"y\": 1, \"text\": \"\\uc804\", \"align\": \"left\", \"font\": {\"family\": \"Arial\", \"size\": 14, \"color\": \"black\"}, \"showarrow\": false}, {\"xref\": \"x1\", \"yref\": \"y1\", \"x\": 6.5, \"y\": 1, \"text\": \" \", \"align\": \"left\", \"font\": {\"family\": \"Arial\", \"size\": 14, \"color\": \"black\"}, \"showarrow\": false}, {\"xref\": \"x1\", \"yref\": \"y1\", \"x\": 7.5, \"y\": 1, \"text\": \"\\ubc15\", \"align\": \"left\", \"font\": {\"family\": \"Arial\", \"size\": 14, \"color\": \"black\"}, \"showarrow\": false}, {\"xref\": \"x1\", \"yref\": \"y1\", \"x\": 8.5, \"y\": 1, \"text\": \"\\ubcf4\", \"align\": \"left\", \"font\": {\"family\": \"Arial\", \"size\": 14, \"color\": \"black\"}, \"showarrow\": false}, {\"xref\": \"x1\", \"yref\": \"y1\", \"x\": 9.5, \"y\": 1, \"text\": \"\\uac80\", \"align\": \"left\", \"font\": {\"family\": \"Arial\", \"size\": 14, \"color\": \"black\"}, \"showarrow\": false}, {\"xref\": \"x1\", \"yref\": \"y1\", \"x\": 10.5, \"y\": 1, \"text\": \" \", \"align\": \"left\", \"font\": {\"family\": \"Arial\", \"size\": 14, \"color\": \"black\"}, \"showarrow\": false}, {\"xref\": \"x1\", \"yref\": \"y1\", \"x\": 11.5, \"y\": 1, \"text\": \"\\ub450\", \"align\": \"left\", \"font\": {\"family\": \"Arial\", \"size\": 14, \"color\": \"black\"}, \"showarrow\": false}, {\"xref\": \"x1\", \"yref\": \"y1\", \"x\": 12.5, \"y\": 1, \"text\": \"\\uace0\", \"align\": \"left\", \"font\": {\"family\": \"Arial\", \"size\": 14, \"color\": \"black\"}, \"showarrow\": false}, {\"xref\": \"x1\", \"yref\": \"y1\", \"x\": 13.5, \"y\": 1, \"text\": \"\\ud55c\", \"align\": \"left\", \"font\": {\"family\": \"Arial\", \"size\": 14, \"color\": \"black\"}, \"showarrow\": false}, {\"xref\": \"x1\", \"yref\": \"y1\", \"x\": 14.5, \"y\": 1, \"text\": \" \", \"align\": \"left\", \"font\": {\"family\": \"Arial\", \"size\": 14, \"color\": \"black\"}, \"showarrow\": false}, {\"xref\": \"x1\", \"yref\": \"y1\", \"x\": 15.5, \"y\": 1, \"text\": \"\\ub300\", \"align\": \"left\", \"font\": {\"family\": \"Arial\", \"size\": 14, \"color\": \"black\"}, \"showarrow\": false}, {\"xref\": \"x1\", \"yref\": \"y1\", \"x\": 16.5, \"y\": 1, \"text\": \"\\uc0ac\", \"align\": \"left\", \"font\": {\"family\": \"Arial\", \"size\": 14, \"color\": \"black\"}, \"showarrow\": false}, {\"xref\": \"x1\", \"yref\": \"y1\", \"x\": 17.5, \"y\": 1, \"text\": \" \", \"align\": \"left\", \"font\": {\"family\": \"Arial\", \"size\": 14, \"color\": \"black\"}, \"showarrow\": false}, {\"xref\": \"x1\", \"yref\": \"y1\", \"x\": 18.5, \"y\": 1, \"text\": \"\\uac19\", \"align\": \"left\", \"font\": {\"family\": \"Arial\", \"size\": 14, \"color\": \"black\"}, \"showarrow\": false}, {\"xref\": \"x1\", \"yref\": \"y1\", \"x\": 19.5, \"y\": 1, \"text\": \"\\ub2e4\", \"align\": \"left\", \"font\": {\"family\": \"Arial\", \"size\": 14, \"color\": \"black\"}, \"showarrow\": false}, {\"xref\": \"x1\", \"yref\": \"y1\", \"x\": 20.5, \"y\": 1, \"text\": \" \", \"align\": \"left\", \"font\": {\"family\": \"Arial\", \"size\": 14, \"color\": \"black\"}, \"showarrow\": false}, {\"xref\": \"x1\", \"yref\": \"y1\", \"x\": 21.5, \"y\": 1, \"text\": \"\\u110f\", \"align\": \"left\", \"font\": {\"family\": \"Arial\", \"size\": 14, \"color\": \"black\"}, \"showarrow\": false}, {\"xref\": \"x1\", \"yref\": \"y1\", \"x\": 22.5, \"y\": 1, \"text\": \"\\u110f\", \"align\": \"left\", \"font\": {\"family\": \"Arial\", \"size\": 14, \"color\": \"black\"}, \"showarrow\": false}, {\"xref\": \"x1\", \"yref\": \"y1\", \"x\": 23.5, \"y\": 1, \"text\": \"\\u110f\", \"align\": \"left\", \"font\": {\"family\": \"Arial\", \"size\": 14, \"color\": \"black\"}, \"showarrow\": false}, {\"xref\": \"x1\", \"yref\": \"y1\", \"x\": 24.5, \"y\": 1, \"text\": \"\\u110f\", \"align\": \"left\", \"font\": {\"family\": \"Arial\", \"size\": 14, \"color\": \"black\"}, \"showarrow\": false}, {\"xref\": \"x1\", \"yref\": \"y1\", \"x\": 25.5, \"y\": 1, \"text\": \"\\u110f\", \"align\": \"left\", \"font\": {\"family\": \"Arial\", \"size\": 14, \"color\": \"black\"}, \"showarrow\": false}], \"height\": 80, \"images\": [{\"source\": \"https://raw.githubusercontent.com/fingeredman/teanaps/master/data/logo/teanaps_logo_no-bg.png\", \"xref\": \"paper\", \"yref\": \"paper\", \"x\": 0.5, \"y\": 0.6, \"sizex\": 0.7, \"sizey\": 0.7, \"xanchor\": \"center\", \"yanchor\": \"center\", \"opacity\": 0.3, \"layer\": \"above\"}]}, {\"showLink\": true, \"linkText\": \"Export to plot.ly\"})});</script>"
      ],
      "text/vnd.plotly.v1+html": [
       "<div id=\"7f37d395-a240-4182-81b3-d42046e7a8d3\" style=\"height: 80px; width: 100%;\" class=\"plotly-graph-div\"></div><script type=\"text/javascript\">require([\"plotly\"], function(Plotly) { window.PLOTLYENV=window.PLOTLYENV || {};window.PLOTLYENV.BASE_URL=\"https://plot.ly\";Plotly.newPlot(\"7f37d395-a240-4182-81b3-d42046e7a8d3\", [{\"type\": \"bar\", \"y\": [1], \"x\": [2], \"orientation\": \"h\", \"width\": 0.5, \"text\": \"0.01\", \"hoverinfo\": \"text\", \"marker\": {\"color\": \"rgb(253.46900857703338, 254.2345042885167, 255)\"}, \"xaxis\": \"x1\", \"yaxis\": \"y1\"}, {\"type\": \"bar\", \"y\": [1], \"x\": [1], \"orientation\": \"h\", \"width\": 0.5, \"text\": \"0.02\", \"hoverinfo\": \"text\", \"marker\": {\"color\": \"rgb(250.5124237375881, 252.75621186879405, 255)\"}, \"xaxis\": \"x1\", \"yaxis\": \"y1\"}, {\"type\": \"bar\", \"y\": [1], \"x\": [3], \"orientation\": \"h\", \"width\": 0.5, \"text\": \"0.01\", \"hoverinfo\": \"text\", \"marker\": {\"color\": \"rgb(253.2529008879357, 254.12645044396785, 255)\"}, \"xaxis\": \"x1\", \"yaxis\": \"y1\"}, {\"type\": \"bar\", \"y\": [1], \"x\": [2], \"orientation\": \"h\", \"width\": 0.5, \"text\": \"1.0\", \"hoverinfo\": \"text\", \"marker\": {\"color\": \"rgb(55.0, 155.0, 255)\"}, \"xaxis\": \"x1\", \"yaxis\": \"y1\"}, {\"type\": \"bar\", \"y\": [1], \"x\": [1], \"orientation\": \"h\", \"width\": 0.5, \"text\": \"0.35\", \"hoverinfo\": \"text\", \"marker\": {\"color\": \"rgb(184.32572248675785, 219.66286124337893, 255)\"}, \"xaxis\": \"x1\", \"yaxis\": \"y1\"}, {\"type\": \"bar\", \"y\": [1], \"x\": [1], \"orientation\": \"h\", \"width\": 0.5, \"text\": \"0.28\", \"hoverinfo\": \"text\", \"marker\": {\"color\": \"rgb(199.3271660627388, 227.1635830313694, 255)\"}, \"xaxis\": \"x1\", \"yaxis\": \"y1\"}, {\"type\": \"bar\", \"y\": [1], \"x\": [3], \"orientation\": \"h\", \"width\": 0.5, \"text\": \"0.08\", \"hoverinfo\": \"text\", \"marker\": {\"color\": \"rgb(238.1029940735563, 246.55149703677813, 255)\"}, \"xaxis\": \"x1\", \"yaxis\": \"y1\"}, {\"type\": \"bar\", \"y\": [1], \"x\": [1], \"orientation\": \"h\", \"width\": 0.5, \"text\": \"0.11\", \"hoverinfo\": \"text\", \"marker\": {\"color\": \"rgb(233.07305871626124, 244.03652935813062, 255)\"}, \"xaxis\": \"x1\", \"yaxis\": \"y1\"}, {\"type\": \"bar\", \"y\": [1], \"x\": [3], \"orientation\": \"h\", \"width\": 0.5, \"text\": \"0.1\", \"hoverinfo\": \"text\", \"marker\": {\"color\": \"rgb(235.9297603109747, 245.46488015548735, 255)\"}, \"xaxis\": \"x1\", \"yaxis\": \"y1\"}, {\"type\": \"bar\", \"y\": [1], \"x\": [3], \"orientation\": \"h\", \"width\": 0.5, \"text\": \"0.01\", \"hoverinfo\": \"text\", \"marker\": {\"color\": \"rgb(252.1767195524238, 253.58835977621192, 255)\"}, \"xaxis\": \"x1\", \"yaxis\": \"y1\"}, {\"type\": \"bar\", \"y\": [1], \"x\": [1], \"orientation\": \"h\", \"width\": 0.5, \"text\": \"0.0\", \"hoverinfo\": \"text\", \"marker\": {\"color\": \"rgb(254.61102441823235, 254.8055122091162, 255)\"}, \"xaxis\": \"x1\", \"yaxis\": \"y1\"}, {\"type\": \"bar\", \"y\": [1], \"x\": [1], \"orientation\": \"h\", \"width\": 0.5, \"text\": \"0.03\", \"hoverinfo\": \"text\", \"marker\": {\"color\": \"rgb(249.54192396449398, 252.270961982247, 255)\"}, \"xaxis\": \"x1\", \"yaxis\": \"y1\"}, {\"type\": \"bar\", \"y\": [1], \"x\": [1], \"orientation\": \"h\", \"width\": 0.5, \"text\": \"0.02\", \"hoverinfo\": \"text\", \"marker\": {\"color\": \"rgb(250.50006645420336, 252.75003322710168, 255)\"}, \"xaxis\": \"x1\", \"yaxis\": \"y1\"}, {\"type\": \"bar\", \"y\": [1], \"x\": [1], \"orientation\": \"h\", \"width\": 0.5, \"text\": \"0.0\", \"hoverinfo\": \"text\", \"marker\": {\"color\": \"rgb(254.01684283515715, 254.50842141757857, 255)\"}, \"xaxis\": \"x1\", \"yaxis\": \"y1\"}, {\"type\": \"bar\", \"y\": [1], \"x\": [1], \"orientation\": \"h\", \"width\": 0.5, \"text\": \"0.02\", \"hoverinfo\": \"text\", \"marker\": {\"color\": \"rgb(251.93593893229487, 253.46796946614742, 255)\"}, \"xaxis\": \"x1\", \"yaxis\": \"y1\"}, {\"type\": \"bar\", \"y\": [1], \"x\": [1], \"orientation\": \"h\", \"width\": 0.5, \"text\": \"0.02\", \"hoverinfo\": \"text\", \"marker\": {\"color\": \"rgb(251.04693825194397, 253.02346912597199, 255)\"}, \"xaxis\": \"x1\", \"yaxis\": \"y1\"}, {\"type\": \"bar\", \"y\": [1], \"x\": [1], \"orientation\": \"h\", \"width\": 0.5, \"text\": \"\", \"hoverinfo\": \"text\", \"marker\": {\"color\": \"rgb(255, 255, 255)\"}, \"xaxis\": \"x1\", \"yaxis\": \"y1\"}, {\"type\": \"bar\", \"y\": [1], \"x\": [1], \"orientation\": \"h\", \"width\": 0.5, \"text\": \"\", \"hoverinfo\": \"text\", \"marker\": {\"color\": \"rgb(255, 255, 255)\"}, \"xaxis\": \"x1\", \"yaxis\": \"y1\"}, {\"type\": \"bar\", \"y\": [1], \"x\": [1], \"orientation\": \"h\", \"width\": 0.5, \"text\": \"\", \"hoverinfo\": \"text\", \"marker\": {\"color\": \"rgb(255, 255, 255)\"}, \"xaxis\": \"x1\", \"yaxis\": \"y1\"}, {\"type\": \"bar\", \"y\": [1], \"x\": [1], \"orientation\": \"h\", \"width\": 0.5, \"text\": \"\", \"hoverinfo\": \"text\", \"marker\": {\"color\": \"rgb(255, 255, 255)\"}, \"xaxis\": \"x1\", \"yaxis\": \"y1\"}, {\"type\": \"bar\", \"y\": [1], \"x\": [1], \"orientation\": \"h\", \"width\": 0.5, \"text\": \"\", \"hoverinfo\": \"text\", \"marker\": {\"color\": \"rgb(255, 255, 255)\"}, \"xaxis\": \"x1\", \"yaxis\": \"y1\"}, {\"type\": \"bar\", \"y\": [1], \"x\": [1], \"orientation\": \"h\", \"width\": 0.5, \"text\": \"\", \"hoverinfo\": \"text\", \"marker\": {\"color\": \"rgb(255, 255, 255)\"}, \"xaxis\": \"x1\", \"yaxis\": \"y1\"}, {\"type\": \"bar\", \"y\": [1], \"x\": [1], \"orientation\": \"h\", \"width\": 0.5, \"text\": \"\", \"hoverinfo\": \"text\", \"marker\": {\"color\": \"rgb(255, 255, 255)\"}, \"xaxis\": \"x1\", \"yaxis\": \"y1\"}, {\"type\": \"bar\", \"y\": [1], \"x\": [1], \"orientation\": \"h\", \"width\": 0.5, \"text\": \"\", \"hoverinfo\": \"text\", \"marker\": {\"color\": \"rgb(255, 255, 255)\"}, \"xaxis\": \"x1\", \"yaxis\": \"y1\"}, {\"type\": \"bar\", \"y\": [1], \"x\": [1], \"orientation\": \"h\", \"width\": 0.5, \"text\": \"\", \"hoverinfo\": \"text\", \"marker\": {\"color\": \"rgb(255, 255, 255)\"}, \"xaxis\": \"x1\", \"yaxis\": \"y1\"}, {\"type\": \"bar\", \"y\": [1], \"x\": [1], \"orientation\": \"h\", \"width\": 0.5, \"text\": \"\", \"hoverinfo\": \"text\", \"marker\": {\"color\": \"rgb(255, 255, 255)\"}, \"xaxis\": \"x1\", \"yaxis\": \"y1\"}, {\"type\": \"bar\", \"y\": [1], \"x\": [1], \"orientation\": \"h\", \"width\": 0.5, \"text\": \"\", \"hoverinfo\": \"text\", \"marker\": {\"color\": \"rgb(255, 255, 255)\"}, \"xaxis\": \"x1\", \"yaxis\": \"y1\"}, {\"type\": \"bar\", \"y\": [1], \"x\": [1], \"orientation\": \"h\", \"width\": 0.5, \"text\": \"\", \"hoverinfo\": \"text\", \"marker\": {\"color\": \"rgb(255, 255, 255)\"}, \"xaxis\": \"x1\", \"yaxis\": \"y1\"}, {\"type\": \"bar\", \"y\": [1], \"x\": [1], \"orientation\": \"h\", \"width\": 0.5, \"text\": \"\", \"hoverinfo\": \"text\", \"marker\": {\"color\": \"rgb(255, 255, 255)\"}, \"xaxis\": \"x1\", \"yaxis\": \"y1\"}, {\"type\": \"bar\", \"y\": [1], \"x\": [1], \"orientation\": \"h\", \"width\": 0.5, \"text\": \"\", \"hoverinfo\": \"text\", \"marker\": {\"color\": \"rgb(255, 255, 255)\"}, \"xaxis\": \"x1\", \"yaxis\": \"y1\"}, {\"type\": \"bar\", \"y\": [1], \"x\": [1], \"orientation\": \"h\", \"width\": 0.5, \"text\": \"\", \"hoverinfo\": \"text\", \"marker\": {\"color\": \"rgb(255, 255, 255)\"}, \"xaxis\": \"x1\", \"yaxis\": \"y1\"}, {\"type\": \"bar\", \"y\": [1], \"x\": [1], \"orientation\": \"h\", \"width\": 0.5, \"text\": \"\", \"hoverinfo\": \"text\", \"marker\": {\"color\": \"rgb(255, 255, 255)\"}, \"xaxis\": \"x1\", \"yaxis\": \"y1\"}, {\"type\": \"bar\", \"y\": [1], \"x\": [1], \"orientation\": \"h\", \"width\": 0.5, \"text\": \"\", \"hoverinfo\": \"text\", \"marker\": {\"color\": \"rgb(255, 255, 255)\"}, \"xaxis\": \"x1\", \"yaxis\": \"y1\"}, {\"type\": \"bar\", \"y\": [1], \"x\": [1], \"orientation\": \"h\", \"width\": 0.5, \"text\": \"\", \"hoverinfo\": \"text\", \"marker\": {\"color\": \"rgb(255, 255, 255)\"}, \"xaxis\": \"x1\", \"yaxis\": \"y1\"}, {\"type\": \"bar\", \"y\": [1], \"x\": [1], \"orientation\": \"h\", \"width\": 0.5, \"text\": \"\", \"hoverinfo\": \"text\", \"marker\": {\"color\": \"rgb(255, 255, 255)\"}, \"xaxis\": \"x1\", \"yaxis\": \"y1\"}, {\"type\": \"bar\", \"y\": [1], \"x\": [1], \"orientation\": \"h\", \"width\": 0.5, \"text\": \"\", \"hoverinfo\": \"text\", \"marker\": {\"color\": \"rgb(255, 255, 255)\"}, \"xaxis\": \"x1\", \"yaxis\": \"y1\"}, {\"type\": \"bar\", \"y\": [1], \"x\": [1], \"orientation\": \"h\", \"width\": 0.5, \"text\": \"\", \"hoverinfo\": \"text\", \"marker\": {\"color\": \"rgb(255, 255, 255)\"}, \"xaxis\": \"x1\", \"yaxis\": \"y1\"}, {\"type\": \"bar\", \"y\": [1], \"x\": [1], \"orientation\": \"h\", \"width\": 0.5, \"text\": \"\", \"hoverinfo\": \"text\", \"marker\": {\"color\": \"rgb(255, 255, 255)\"}, \"xaxis\": \"x1\", \"yaxis\": \"y1\"}, {\"type\": \"bar\", \"y\": [1], \"x\": [1], \"orientation\": \"h\", \"width\": 0.5, \"text\": \"\", \"hoverinfo\": \"text\", \"marker\": {\"color\": \"rgb(255, 255, 255)\"}, \"xaxis\": \"x1\", \"yaxis\": \"y1\"}, {\"type\": \"bar\", \"y\": [1], \"x\": [1], \"orientation\": \"h\", \"width\": 0.5, \"text\": \"\", \"hoverinfo\": \"text\", \"marker\": {\"color\": \"rgb(255, 255, 255)\"}, \"xaxis\": \"x1\", \"yaxis\": \"y1\"}], {\"xaxis1\": {\"domain\": [0.0, 1.0], \"anchor\": \"y1\", \"showgrid\": false, \"showline\": false, \"showticklabels\": false, \"zeroline\": false}, \"yaxis1\": {\"domain\": [0.0, 1.0], \"anchor\": \"x1\", \"showgrid\": false, \"showline\": false, \"showticklabels\": false, \"zeroline\": false}, \"barmode\": \"stack\", \"showlegend\": false, \"margin\": {\"b\": 30, \"l\": 20, \"r\": 20, \"t\": 10}, \"annotations\": [{\"xref\": \"x1\", \"yref\": \"y1\", \"x\": 0.5, \"y\": 1, \"text\": \" \", \"align\": \"left\", \"font\": {\"family\": \"Arial\", \"size\": 14, \"color\": \"black\"}, \"showarrow\": false}, {\"xref\": \"x1\", \"yref\": \"y1\", \"x\": 1.5, \"y\": 1, \"text\": \"\\uc774\", \"align\": \"left\", \"font\": {\"family\": \"Arial\", \"size\": 14, \"color\": \"black\"}, \"showarrow\": false}, {\"xref\": \"x1\", \"yref\": \"y1\", \"x\": 2.5, \"y\": 1, \"text\": \"\\uac70\", \"align\": \"left\", \"font\": {\"family\": \"Arial\", \"size\": 14, \"color\": \"black\"}, \"showarrow\": false}, {\"xref\": \"x1\", \"yref\": \"y1\", \"x\": 3.5, \"y\": 1, \"text\": \" \", \"align\": \"left\", \"font\": {\"family\": \"Arial\", \"size\": 14, \"color\": \"black\"}, \"showarrow\": false}, {\"xref\": \"x1\", \"yref\": \"y1\", \"x\": 4.5, \"y\": 1, \"text\": \"\\uc644\", \"align\": \"left\", \"font\": {\"family\": \"Arial\", \"size\": 14, \"color\": \"black\"}, \"showarrow\": false}, {\"xref\": \"x1\", \"yref\": \"y1\", \"x\": 5.5, \"y\": 1, \"text\": \"\\uc804\", \"align\": \"left\", \"font\": {\"family\": \"Arial\", \"size\": 14, \"color\": \"black\"}, \"showarrow\": false}, {\"xref\": \"x1\", \"yref\": \"y1\", \"x\": 6.5, \"y\": 1, \"text\": \" \", \"align\": \"left\", \"font\": {\"family\": \"Arial\", \"size\": 14, \"color\": \"black\"}, \"showarrow\": false}, {\"xref\": \"x1\", \"yref\": \"y1\", \"x\": 7.5, \"y\": 1, \"text\": \"\\ubc15\", \"align\": \"left\", \"font\": {\"family\": \"Arial\", \"size\": 14, \"color\": \"black\"}, \"showarrow\": false}, {\"xref\": \"x1\", \"yref\": \"y1\", \"x\": 8.5, \"y\": 1, \"text\": \"\\ubcf4\", \"align\": \"left\", \"font\": {\"family\": \"Arial\", \"size\": 14, \"color\": \"black\"}, \"showarrow\": false}, {\"xref\": \"x1\", \"yref\": \"y1\", \"x\": 9.5, \"y\": 1, \"text\": \"\\uac80\", \"align\": \"left\", \"font\": {\"family\": \"Arial\", \"size\": 14, \"color\": \"black\"}, \"showarrow\": false}, {\"xref\": \"x1\", \"yref\": \"y1\", \"x\": 10.5, \"y\": 1, \"text\": \" \", \"align\": \"left\", \"font\": {\"family\": \"Arial\", \"size\": 14, \"color\": \"black\"}, \"showarrow\": false}, {\"xref\": \"x1\", \"yref\": \"y1\", \"x\": 11.5, \"y\": 1, \"text\": \"\\ub450\", \"align\": \"left\", \"font\": {\"family\": \"Arial\", \"size\": 14, \"color\": \"black\"}, \"showarrow\": false}, {\"xref\": \"x1\", \"yref\": \"y1\", \"x\": 12.5, \"y\": 1, \"text\": \"\\uace0\", \"align\": \"left\", \"font\": {\"family\": \"Arial\", \"size\": 14, \"color\": \"black\"}, \"showarrow\": false}, {\"xref\": \"x1\", \"yref\": \"y1\", \"x\": 13.5, \"y\": 1, \"text\": \"\\ud55c\", \"align\": \"left\", \"font\": {\"family\": \"Arial\", \"size\": 14, \"color\": \"black\"}, \"showarrow\": false}, {\"xref\": \"x1\", \"yref\": \"y1\", \"x\": 14.5, \"y\": 1, \"text\": \" \", \"align\": \"left\", \"font\": {\"family\": \"Arial\", \"size\": 14, \"color\": \"black\"}, \"showarrow\": false}, {\"xref\": \"x1\", \"yref\": \"y1\", \"x\": 15.5, \"y\": 1, \"text\": \"\\ub300\", \"align\": \"left\", \"font\": {\"family\": \"Arial\", \"size\": 14, \"color\": \"black\"}, \"showarrow\": false}, {\"xref\": \"x1\", \"yref\": \"y1\", \"x\": 16.5, \"y\": 1, \"text\": \"\\uc0ac\", \"align\": \"left\", \"font\": {\"family\": \"Arial\", \"size\": 14, \"color\": \"black\"}, \"showarrow\": false}, {\"xref\": \"x1\", \"yref\": \"y1\", \"x\": 17.5, \"y\": 1, \"text\": \" \", \"align\": \"left\", \"font\": {\"family\": \"Arial\", \"size\": 14, \"color\": \"black\"}, \"showarrow\": false}, {\"xref\": \"x1\", \"yref\": \"y1\", \"x\": 18.5, \"y\": 1, \"text\": \"\\uac19\", \"align\": \"left\", \"font\": {\"family\": \"Arial\", \"size\": 14, \"color\": \"black\"}, \"showarrow\": false}, {\"xref\": \"x1\", \"yref\": \"y1\", \"x\": 19.5, \"y\": 1, \"text\": \"\\ub2e4\", \"align\": \"left\", \"font\": {\"family\": \"Arial\", \"size\": 14, \"color\": \"black\"}, \"showarrow\": false}, {\"xref\": \"x1\", \"yref\": \"y1\", \"x\": 20.5, \"y\": 1, \"text\": \" \", \"align\": \"left\", \"font\": {\"family\": \"Arial\", \"size\": 14, \"color\": \"black\"}, \"showarrow\": false}, {\"xref\": \"x1\", \"yref\": \"y1\", \"x\": 21.5, \"y\": 1, \"text\": \"\\u110f\", \"align\": \"left\", \"font\": {\"family\": \"Arial\", \"size\": 14, \"color\": \"black\"}, \"showarrow\": false}, {\"xref\": \"x1\", \"yref\": \"y1\", \"x\": 22.5, \"y\": 1, \"text\": \"\\u110f\", \"align\": \"left\", \"font\": {\"family\": \"Arial\", \"size\": 14, \"color\": \"black\"}, \"showarrow\": false}, {\"xref\": \"x1\", \"yref\": \"y1\", \"x\": 23.5, \"y\": 1, \"text\": \"\\u110f\", \"align\": \"left\", \"font\": {\"family\": \"Arial\", \"size\": 14, \"color\": \"black\"}, \"showarrow\": false}, {\"xref\": \"x1\", \"yref\": \"y1\", \"x\": 24.5, \"y\": 1, \"text\": \"\\u110f\", \"align\": \"left\", \"font\": {\"family\": \"Arial\", \"size\": 14, \"color\": \"black\"}, \"showarrow\": false}, {\"xref\": \"x1\", \"yref\": \"y1\", \"x\": 25.5, \"y\": 1, \"text\": \"\\u110f\", \"align\": \"left\", \"font\": {\"family\": \"Arial\", \"size\": 14, \"color\": \"black\"}, \"showarrow\": false}], \"height\": 80, \"images\": [{\"source\": \"https://raw.githubusercontent.com/fingeredman/teanaps/master/data/logo/teanaps_logo_no-bg.png\", \"xref\": \"paper\", \"yref\": \"paper\", \"x\": 0.5, \"y\": 0.6, \"sizex\": 0.7, \"sizey\": 0.7, \"xanchor\": \"center\", \"yanchor\": \"center\", \"opacity\": 0.3, \"layer\": \"above\"}]}, {\"showLink\": true, \"linkText\": \"Export to plot.ly\"})});</script>"
      ]
     },
     "metadata": {},
     "output_type": "display_data"
    }
   ],
   "source": [
    "input_text = \"이거 완전 박보검 두고한 대사 같다 ㅋㅋㅋㅋㅋ\"\n",
    "\n",
    "result = ner.parse(input_text)\n",
    "print(result)\n",
    "result = ner.parse_sentence(input_text)\n",
    "print(result)\n",
    "ner.draw_sentence_weight(input_text)"
   ]
  },
  {
   "cell_type": "code",
   "execution_count": 11,
   "metadata": {},
   "outputs": [
    {
     "name": "stdout",
     "output_type": "stream",
     "text": [
      "[('사혜준', 'PS', (3, 6)), ('안정하', 'PS', (8, 11))]\n",
      "저만 <사혜준:PS>이 <안정하:PS>한테 자기 앞에서만 술 먹으라고 너무 귀엽다고 말하는 영상 찾고 있나요?ㅠㅠㅠㅠ\n"
     ]
    },
    {
     "data": {
      "text/html": [
       "\n",
       "                <script src=\"/static/components/requirejs/require.js\"></script>\n",
       "                <script>\n",
       "                  requirejs.config({\n",
       "                    paths: {\n",
       "                      base: '/static/base',\n",
       "                      plotly: 'https://cdn.plot.ly/plotly-latest.min.js?noext',\n",
       "                    },\n",
       "                  });\n",
       "                </script>\n",
       "                "
      ],
      "text/plain": [
       "<IPython.core.display.HTML object>"
      ]
     },
     "metadata": {},
     "output_type": "display_data"
    },
    {
     "data": {
      "text/html": [
       "\n",
       "                <script src=\"/static/components/requirejs/require.js\"></script>\n",
       "                <script>\n",
       "                  requirejs.config({\n",
       "                    paths: {\n",
       "                      base: '/static/base',\n",
       "                      plotly: 'https://cdn.plot.ly/plotly-latest.min.js?noext',\n",
       "                    },\n",
       "                  });\n",
       "                </script>\n",
       "                "
      ],
      "text/plain": [
       "<IPython.core.display.HTML object>"
      ]
     },
     "metadata": {},
     "output_type": "display_data"
    },
    {
     "data": {
      "application/vnd.plotly.v1+json": {
       "data": [
        {
         "hoverinfo": "text",
         "marker": {
          "color": "rgb(254.072494543174, 254.536247271587, 255)"
         },
         "orientation": "h",
         "text": "0.0",
         "type": "bar",
         "width": 0.5,
         "x": [
          2
         ],
         "xaxis": "x1",
         "y": [
          1
         ],
         "yaxis": "y1"
        },
        {
         "hoverinfo": "text",
         "marker": {
          "color": "rgb(247.93034471625327, 251.46517235812664, 255)"
         },
         "orientation": "h",
         "text": "0.04",
         "type": "bar",
         "width": 0.5,
         "x": [
          1
         ],
         "xaxis": "x1",
         "y": [
          1
         ],
         "yaxis": "y1"
        },
        {
         "hoverinfo": "text",
         "marker": {
          "color": "rgb(55.0, 155.0, 255)"
         },
         "orientation": "h",
         "text": "1.0",
         "type": "bar",
         "width": 0.5,
         "x": [
          2
         ],
         "xaxis": "x1",
         "y": [
          1
         ],
         "yaxis": "y1"
        },
        {
         "hoverinfo": "text",
         "marker": {
          "color": "rgb(155.7795917438739, 205.38979587193694, 255)"
         },
         "orientation": "h",
         "text": "0.5",
         "type": "bar",
         "width": 0.5,
         "x": [
          1
         ],
         "xaxis": "x1",
         "y": [
          1
         ],
         "yaxis": "y1"
        },
        {
         "hoverinfo": "text",
         "marker": {
          "color": "rgb(193.55994001649398, 224.279970008247, 255)"
         },
         "orientation": "h",
         "text": "0.31",
         "type": "bar",
         "width": 0.5,
         "x": [
          1
         ],
         "xaxis": "x1",
         "y": [
          1
         ],
         "yaxis": "y1"
        },
        {
         "hoverinfo": "text",
         "marker": {
          "color": "rgb(248.1796522924562, 251.58982614622812, 255)"
         },
         "orientation": "h",
         "text": "0.03",
         "type": "bar",
         "width": 0.5,
         "x": [
          1
         ],
         "xaxis": "x1",
         "y": [
          1
         ],
         "yaxis": "y1"
        },
        {
         "hoverinfo": "text",
         "marker": {
          "color": "rgb(55.890060874651056, 155.44503043732553, 255)"
         },
         "orientation": "h",
         "text": "1.0",
         "type": "bar",
         "width": 0.5,
         "x": [
          3
         ],
         "xaxis": "x1",
         "y": [
          1
         ],
         "yaxis": "y1"
        },
        {
         "hoverinfo": "text",
         "marker": {
          "color": "rgb(206.81113934576157, 230.90556967288077, 255)"
         },
         "orientation": "h",
         "text": "0.24",
         "type": "bar",
         "width": 0.5,
         "x": [
          1
         ],
         "xaxis": "x1",
         "y": [
          1
         ],
         "yaxis": "y1"
        },
        {
         "hoverinfo": "text",
         "marker": {
          "color": "rgb(242.4827756449159, 248.74138782245797, 255)"
         },
         "orientation": "h",
         "text": "0.06",
         "type": "bar",
         "width": 0.5,
         "x": [
          2
         ],
         "xaxis": "x1",
         "y": [
          1
         ],
         "yaxis": "y1"
        },
        {
         "hoverinfo": "text",
         "marker": {
          "color": "rgb(244.71377674081896, 249.85688837040948, 255)"
         },
         "orientation": "h",
         "text": "0.05",
         "type": "bar",
         "width": 0.5,
         "x": [
          3
         ],
         "xaxis": "x1",
         "y": [
          1
         ],
         "yaxis": "y1"
        },
        {
         "hoverinfo": "text",
         "marker": {
          "color": "rgb(249.8848680657726, 252.4424340328863, 255)"
         },
         "orientation": "h",
         "text": "0.03",
         "type": "bar",
         "width": 0.5,
         "x": [
          4
         ],
         "xaxis": "x1",
         "y": [
          1
         ],
         "yaxis": "y1"
        },
        {
         "hoverinfo": "text",
         "marker": {
          "color": "rgb(248.51374903318978, 251.75687451659488, 255)"
         },
         "orientation": "h",
         "text": "0.03",
         "type": "bar",
         "width": 0.5,
         "x": [
          1
         ],
         "xaxis": "x1",
         "y": [
          1
         ],
         "yaxis": "y1"
        },
        {
         "hoverinfo": "text",
         "marker": {
          "color": "rgb(246.80934329838811, 250.90467164919406, 255)"
         },
         "orientation": "h",
         "text": "0.04",
         "type": "bar",
         "width": 0.5,
         "x": [
          2
         ],
         "xaxis": "x1",
         "y": [
          1
         ],
         "yaxis": "y1"
        },
        {
         "hoverinfo": "text",
         "marker": {
          "color": "rgb(241.0172866120366, 248.0086433060183, 255)"
         },
         "orientation": "h",
         "text": "0.07",
         "type": "bar",
         "width": 0.5,
         "x": [
          2
         ],
         "xaxis": "x1",
         "y": [
          1
         ],
         "yaxis": "y1"
        },
        {
         "hoverinfo": "text",
         "marker": {
          "color": "rgb(245.36350873613705, 250.1817543680685, 255)"
         },
         "orientation": "h",
         "text": "0.05",
         "type": "bar",
         "width": 0.5,
         "x": [
          1
         ],
         "xaxis": "x1",
         "y": [
          1
         ],
         "yaxis": "y1"
        },
        {
         "hoverinfo": "text",
         "marker": {
          "color": "rgb(244.1915842316445, 249.59579211582223, 255)"
         },
         "orientation": "h",
         "text": "0.05",
         "type": "bar",
         "width": 0.5,
         "x": [
          2
         ],
         "xaxis": "x1",
         "y": [
          1
         ],
         "yaxis": "y1"
        },
        {
         "hoverinfo": "text",
         "marker": {
          "color": "rgb(246.37206828684225, 250.68603414342113, 255)"
         },
         "orientation": "h",
         "text": "0.04",
         "type": "bar",
         "width": 0.5,
         "x": [
          3
         ],
         "xaxis": "x1",
         "y": [
          1
         ],
         "yaxis": "y1"
        },
        {
         "hoverinfo": "text",
         "marker": {
          "color": "rgb(249.98162044170076, 252.4908102208504, 255)"
         },
         "orientation": "h",
         "text": "0.03",
         "type": "bar",
         "width": 0.5,
         "x": [
          3
         ],
         "xaxis": "x1",
         "y": [
          1
         ],
         "yaxis": "y1"
        },
        {
         "hoverinfo": "text",
         "marker": {
          "color": "rgb(250.8963207578396, 252.9481603789198, 255)"
         },
         "orientation": "h",
         "text": "0.02",
         "type": "bar",
         "width": 0.5,
         "x": [
          1
         ],
         "xaxis": "x1",
         "y": [
          1
         ],
         "yaxis": "y1"
        },
        {
         "hoverinfo": "text",
         "marker": {
          "color": "rgb(247.04655676343353, 251.02327838171675, 255)"
         },
         "orientation": "h",
         "text": "0.04",
         "type": "bar",
         "width": 0.5,
         "x": [
          1
         ],
         "xaxis": "x1",
         "y": [
          1
         ],
         "yaxis": "y1"
        },
        {
         "hoverinfo": "text",
         "marker": {
          "color": "rgb(247.09621910570598, 251.048109552853, 255)"
         },
         "orientation": "h",
         "text": "0.04",
         "type": "bar",
         "width": 0.5,
         "x": [
          2
         ],
         "xaxis": "x1",
         "y": [
          1
         ],
         "yaxis": "y1"
        },
        {
         "hoverinfo": "text",
         "marker": {
          "color": "rgb(244.73794442983842, 249.8689722149192, 255)"
         },
         "orientation": "h",
         "text": "0.05",
         "type": "bar",
         "width": 0.5,
         "x": [
          1
         ],
         "xaxis": "x1",
         "y": [
          1
         ],
         "yaxis": "y1"
        },
        {
         "hoverinfo": "text",
         "marker": {
          "color": "rgb(242.66696752051502, 248.8334837602575, 255)"
         },
         "orientation": "h",
         "text": "0.06",
         "type": "bar",
         "width": 0.5,
         "x": [
          1
         ],
         "xaxis": "x1",
         "y": [
          1
         ],
         "yaxis": "y1"
        },
        {
         "hoverinfo": "text",
         "marker": {
          "color": "rgb(244.64690698343136, 249.82345349171567, 255)"
         },
         "orientation": "h",
         "text": "0.05",
         "type": "bar",
         "width": 0.5,
         "x": [
          3
         ],
         "xaxis": "x1",
         "y": [
          1
         ],
         "yaxis": "y1"
        },
        {
         "hoverinfo": "text",
         "marker": {
          "color": "rgb(249.1567702341461, 252.07838511707305, 255)"
         },
         "orientation": "h",
         "text": "0.03",
         "type": "bar",
         "width": 0.5,
         "x": [
          1
         ],
         "xaxis": "x1",
         "y": [
          1
         ],
         "yaxis": "y1"
        },
        {
         "hoverinfo": "text",
         "marker": {
          "color": "rgb(252.50698583785743, 253.7534929189287, 255)"
         },
         "orientation": "h",
         "text": "0.01",
         "type": "bar",
         "width": 0.5,
         "x": [
          1
         ],
         "xaxis": "x1",
         "y": [
          1
         ],
         "yaxis": "y1"
        },
        {
         "hoverinfo": "text",
         "marker": {
          "color": "rgb(254.87917805372663, 254.9395890268633, 255)"
         },
         "orientation": "h",
         "text": "0.0",
         "type": "bar",
         "width": 0.5,
         "x": [
          1
         ],
         "xaxis": "x1",
         "y": [
          1
         ],
         "yaxis": "y1"
        },
        {
         "hoverinfo": "text",
         "marker": {
          "color": "rgb(252.8972471739409, 253.94862358697046, 255)"
         },
         "orientation": "h",
         "text": "0.01",
         "type": "bar",
         "width": 0.5,
         "x": [
          2
         ],
         "xaxis": "x1",
         "y": [
          1
         ],
         "yaxis": "y1"
        },
        {
         "hoverinfo": "text",
         "marker": {
          "color": "rgb(248.54866076917563, 251.7743303845878, 255)"
         },
         "orientation": "h",
         "text": "0.03",
         "type": "bar",
         "width": 0.5,
         "x": [
          1
         ],
         "xaxis": "x1",
         "y": [
          1
         ],
         "yaxis": "y1"
        },
        {
         "hoverinfo": "text",
         "marker": {
          "color": "rgb(244.9451161433017, 249.97255807165087, 255)"
         },
         "orientation": "h",
         "text": "0.05",
         "type": "bar",
         "width": 0.5,
         "x": [
          1
         ],
         "xaxis": "x2",
         "y": [
          1
         ],
         "yaxis": "y2"
        },
        {
         "hoverinfo": "text",
         "marker": {
          "color": "rgb(242.75329565555708, 248.87664782777856, 255)"
         },
         "orientation": "h",
         "text": "0.06",
         "type": "bar",
         "width": 0.5,
         "x": [
          1
         ],
         "xaxis": "x2",
         "y": [
          1
         ],
         "yaxis": "y2"
        },
        {
         "hoverinfo": "text",
         "marker": {
          "color": "rgb(228.70473917499024, 241.85236958749513, 255)"
         },
         "orientation": "h",
         "text": "0.13",
         "type": "bar",
         "width": 0.5,
         "x": [
          4
         ],
         "xaxis": "x2",
         "y": [
          1
         ],
         "yaxis": "y2"
        },
        {
         "hoverinfo": "text",
         "marker": {
          "color": "rgb(255, 255, 255)"
         },
         "orientation": "h",
         "text": "",
         "type": "bar",
         "width": 0.5,
         "x": [
          1
         ],
         "xaxis": "x2",
         "y": [
          1
         ],
         "yaxis": "y2"
        },
        {
         "hoverinfo": "text",
         "marker": {
          "color": "rgb(255, 255, 255)"
         },
         "orientation": "h",
         "text": "",
         "type": "bar",
         "width": 0.5,
         "x": [
          1
         ],
         "xaxis": "x2",
         "y": [
          1
         ],
         "yaxis": "y2"
        },
        {
         "hoverinfo": "text",
         "marker": {
          "color": "rgb(255, 255, 255)"
         },
         "orientation": "h",
         "text": "",
         "type": "bar",
         "width": 0.5,
         "x": [
          1
         ],
         "xaxis": "x2",
         "y": [
          1
         ],
         "yaxis": "y2"
        },
        {
         "hoverinfo": "text",
         "marker": {
          "color": "rgb(255, 255, 255)"
         },
         "orientation": "h",
         "text": "",
         "type": "bar",
         "width": 0.5,
         "x": [
          1
         ],
         "xaxis": "x2",
         "y": [
          1
         ],
         "yaxis": "y2"
        },
        {
         "hoverinfo": "text",
         "marker": {
          "color": "rgb(255, 255, 255)"
         },
         "orientation": "h",
         "text": "",
         "type": "bar",
         "width": 0.5,
         "x": [
          1
         ],
         "xaxis": "x2",
         "y": [
          1
         ],
         "yaxis": "y2"
        },
        {
         "hoverinfo": "text",
         "marker": {
          "color": "rgb(255, 255, 255)"
         },
         "orientation": "h",
         "text": "",
         "type": "bar",
         "width": 0.5,
         "x": [
          1
         ],
         "xaxis": "x2",
         "y": [
          1
         ],
         "yaxis": "y2"
        },
        {
         "hoverinfo": "text",
         "marker": {
          "color": "rgb(255, 255, 255)"
         },
         "orientation": "h",
         "text": "",
         "type": "bar",
         "width": 0.5,
         "x": [
          1
         ],
         "xaxis": "x2",
         "y": [
          1
         ],
         "yaxis": "y2"
        },
        {
         "hoverinfo": "text",
         "marker": {
          "color": "rgb(255, 255, 255)"
         },
         "orientation": "h",
         "text": "",
         "type": "bar",
         "width": 0.5,
         "x": [
          1
         ],
         "xaxis": "x2",
         "y": [
          1
         ],
         "yaxis": "y2"
        },
        {
         "hoverinfo": "text",
         "marker": {
          "color": "rgb(255, 255, 255)"
         },
         "orientation": "h",
         "text": "",
         "type": "bar",
         "width": 0.5,
         "x": [
          1
         ],
         "xaxis": "x2",
         "y": [
          1
         ],
         "yaxis": "y2"
        },
        {
         "hoverinfo": "text",
         "marker": {
          "color": "rgb(255, 255, 255)"
         },
         "orientation": "h",
         "text": "",
         "type": "bar",
         "width": 0.5,
         "x": [
          1
         ],
         "xaxis": "x2",
         "y": [
          1
         ],
         "yaxis": "y2"
        },
        {
         "hoverinfo": "text",
         "marker": {
          "color": "rgb(255, 255, 255)"
         },
         "orientation": "h",
         "text": "",
         "type": "bar",
         "width": 0.5,
         "x": [
          1
         ],
         "xaxis": "x2",
         "y": [
          1
         ],
         "yaxis": "y2"
        },
        {
         "hoverinfo": "text",
         "marker": {
          "color": "rgb(255, 255, 255)"
         },
         "orientation": "h",
         "text": "",
         "type": "bar",
         "width": 0.5,
         "x": [
          1
         ],
         "xaxis": "x2",
         "y": [
          1
         ],
         "yaxis": "y2"
        },
        {
         "hoverinfo": "text",
         "marker": {
          "color": "rgb(255, 255, 255)"
         },
         "orientation": "h",
         "text": "",
         "type": "bar",
         "width": 0.5,
         "x": [
          1
         ],
         "xaxis": "x2",
         "y": [
          1
         ],
         "yaxis": "y2"
        },
        {
         "hoverinfo": "text",
         "marker": {
          "color": "rgb(255, 255, 255)"
         },
         "orientation": "h",
         "text": "",
         "type": "bar",
         "width": 0.5,
         "x": [
          1
         ],
         "xaxis": "x2",
         "y": [
          1
         ],
         "yaxis": "y2"
        },
        {
         "hoverinfo": "text",
         "marker": {
          "color": "rgb(255, 255, 255)"
         },
         "orientation": "h",
         "text": "",
         "type": "bar",
         "width": 0.5,
         "x": [
          1
         ],
         "xaxis": "x2",
         "y": [
          1
         ],
         "yaxis": "y2"
        },
        {
         "hoverinfo": "text",
         "marker": {
          "color": "rgb(255, 255, 255)"
         },
         "orientation": "h",
         "text": "",
         "type": "bar",
         "width": 0.5,
         "x": [
          1
         ],
         "xaxis": "x2",
         "y": [
          1
         ],
         "yaxis": "y2"
        },
        {
         "hoverinfo": "text",
         "marker": {
          "color": "rgb(255, 255, 255)"
         },
         "orientation": "h",
         "text": "",
         "type": "bar",
         "width": 0.5,
         "x": [
          1
         ],
         "xaxis": "x2",
         "y": [
          1
         ],
         "yaxis": "y2"
        },
        {
         "hoverinfo": "text",
         "marker": {
          "color": "rgb(255, 255, 255)"
         },
         "orientation": "h",
         "text": "",
         "type": "bar",
         "width": 0.5,
         "x": [
          1
         ],
         "xaxis": "x2",
         "y": [
          1
         ],
         "yaxis": "y2"
        },
        {
         "hoverinfo": "text",
         "marker": {
          "color": "rgb(255, 255, 255)"
         },
         "orientation": "h",
         "text": "",
         "type": "bar",
         "width": 0.5,
         "x": [
          1
         ],
         "xaxis": "x2",
         "y": [
          1
         ],
         "yaxis": "y2"
        },
        {
         "hoverinfo": "text",
         "marker": {
          "color": "rgb(255, 255, 255)"
         },
         "orientation": "h",
         "text": "",
         "type": "bar",
         "width": 0.5,
         "x": [
          1
         ],
         "xaxis": "x2",
         "y": [
          1
         ],
         "yaxis": "y2"
        },
        {
         "hoverinfo": "text",
         "marker": {
          "color": "rgb(255, 255, 255)"
         },
         "orientation": "h",
         "text": "",
         "type": "bar",
         "width": 0.5,
         "x": [
          1
         ],
         "xaxis": "x2",
         "y": [
          1
         ],
         "yaxis": "y2"
        },
        {
         "hoverinfo": "text",
         "marker": {
          "color": "rgb(255, 255, 255)"
         },
         "orientation": "h",
         "text": "",
         "type": "bar",
         "width": 0.5,
         "x": [
          1
         ],
         "xaxis": "x2",
         "y": [
          1
         ],
         "yaxis": "y2"
        },
        {
         "hoverinfo": "text",
         "marker": {
          "color": "rgb(255, 255, 255)"
         },
         "orientation": "h",
         "text": "",
         "type": "bar",
         "width": 0.5,
         "x": [
          1
         ],
         "xaxis": "x2",
         "y": [
          1
         ],
         "yaxis": "y2"
        },
        {
         "hoverinfo": "text",
         "marker": {
          "color": "rgb(255, 255, 255)"
         },
         "orientation": "h",
         "text": "",
         "type": "bar",
         "width": 0.5,
         "x": [
          1
         ],
         "xaxis": "x2",
         "y": [
          1
         ],
         "yaxis": "y2"
        },
        {
         "hoverinfo": "text",
         "marker": {
          "color": "rgb(255, 255, 255)"
         },
         "orientation": "h",
         "text": "",
         "type": "bar",
         "width": 0.5,
         "x": [
          1
         ],
         "xaxis": "x2",
         "y": [
          1
         ],
         "yaxis": "y2"
        },
        {
         "hoverinfo": "text",
         "marker": {
          "color": "rgb(255, 255, 255)"
         },
         "orientation": "h",
         "text": "",
         "type": "bar",
         "width": 0.5,
         "x": [
          1
         ],
         "xaxis": "x2",
         "y": [
          1
         ],
         "yaxis": "y2"
        },
        {
         "hoverinfo": "text",
         "marker": {
          "color": "rgb(255, 255, 255)"
         },
         "orientation": "h",
         "text": "",
         "type": "bar",
         "width": 0.5,
         "x": [
          1
         ],
         "xaxis": "x2",
         "y": [
          1
         ],
         "yaxis": "y2"
        },
        {
         "hoverinfo": "text",
         "marker": {
          "color": "rgb(255, 255, 255)"
         },
         "orientation": "h",
         "text": "",
         "type": "bar",
         "width": 0.5,
         "x": [
          1
         ],
         "xaxis": "x2",
         "y": [
          1
         ],
         "yaxis": "y2"
        },
        {
         "hoverinfo": "text",
         "marker": {
          "color": "rgb(255, 255, 255)"
         },
         "orientation": "h",
         "text": "",
         "type": "bar",
         "width": 0.5,
         "x": [
          1
         ],
         "xaxis": "x2",
         "y": [
          1
         ],
         "yaxis": "y2"
        },
        {
         "hoverinfo": "text",
         "marker": {
          "color": "rgb(255, 255, 255)"
         },
         "orientation": "h",
         "text": "",
         "type": "bar",
         "width": 0.5,
         "x": [
          1
         ],
         "xaxis": "x2",
         "y": [
          1
         ],
         "yaxis": "y2"
        },
        {
         "hoverinfo": "text",
         "marker": {
          "color": "rgb(255, 255, 255)"
         },
         "orientation": "h",
         "text": "",
         "type": "bar",
         "width": 0.5,
         "x": [
          1
         ],
         "xaxis": "x2",
         "y": [
          1
         ],
         "yaxis": "y2"
        },
        {
         "hoverinfo": "text",
         "marker": {
          "color": "rgb(255, 255, 255)"
         },
         "orientation": "h",
         "text": "",
         "type": "bar",
         "width": 0.5,
         "x": [
          1
         ],
         "xaxis": "x2",
         "y": [
          1
         ],
         "yaxis": "y2"
        },
        {
         "hoverinfo": "text",
         "marker": {
          "color": "rgb(255, 255, 255)"
         },
         "orientation": "h",
         "text": "",
         "type": "bar",
         "width": 0.5,
         "x": [
          1
         ],
         "xaxis": "x2",
         "y": [
          1
         ],
         "yaxis": "y2"
        },
        {
         "hoverinfo": "text",
         "marker": {
          "color": "rgb(255, 255, 255)"
         },
         "orientation": "h",
         "text": "",
         "type": "bar",
         "width": 0.5,
         "x": [
          1
         ],
         "xaxis": "x2",
         "y": [
          1
         ],
         "yaxis": "y2"
        },
        {
         "hoverinfo": "text",
         "marker": {
          "color": "rgb(255, 255, 255)"
         },
         "orientation": "h",
         "text": "",
         "type": "bar",
         "width": 0.5,
         "x": [
          1
         ],
         "xaxis": "x2",
         "y": [
          1
         ],
         "yaxis": "y2"
        },
        {
         "hoverinfo": "text",
         "marker": {
          "color": "rgb(255, 255, 255)"
         },
         "orientation": "h",
         "text": "",
         "type": "bar",
         "width": 0.5,
         "x": [
          1
         ],
         "xaxis": "x2",
         "y": [
          1
         ],
         "yaxis": "y2"
        },
        {
         "hoverinfo": "text",
         "marker": {
          "color": "rgb(255, 255, 255)"
         },
         "orientation": "h",
         "text": "",
         "type": "bar",
         "width": 0.5,
         "x": [
          1
         ],
         "xaxis": "x2",
         "y": [
          1
         ],
         "yaxis": "y2"
        },
        {
         "hoverinfo": "text",
         "marker": {
          "color": "rgb(255, 255, 255)"
         },
         "orientation": "h",
         "text": "",
         "type": "bar",
         "width": 0.5,
         "x": [
          1
         ],
         "xaxis": "x2",
         "y": [
          1
         ],
         "yaxis": "y2"
        },
        {
         "hoverinfo": "text",
         "marker": {
          "color": "rgb(255, 255, 255)"
         },
         "orientation": "h",
         "text": "",
         "type": "bar",
         "width": 0.5,
         "x": [
          1
         ],
         "xaxis": "x2",
         "y": [
          1
         ],
         "yaxis": "y2"
        },
        {
         "hoverinfo": "text",
         "marker": {
          "color": "rgb(255, 255, 255)"
         },
         "orientation": "h",
         "text": "",
         "type": "bar",
         "width": 0.5,
         "x": [
          1
         ],
         "xaxis": "x2",
         "y": [
          1
         ],
         "yaxis": "y2"
        },
        {
         "hoverinfo": "text",
         "marker": {
          "color": "rgb(255, 255, 255)"
         },
         "orientation": "h",
         "text": "",
         "type": "bar",
         "width": 0.5,
         "x": [
          1
         ],
         "xaxis": "x2",
         "y": [
          1
         ],
         "yaxis": "y2"
        },
        {
         "hoverinfo": "text",
         "marker": {
          "color": "rgb(255, 255, 255)"
         },
         "orientation": "h",
         "text": "",
         "type": "bar",
         "width": 0.5,
         "x": [
          1
         ],
         "xaxis": "x2",
         "y": [
          1
         ],
         "yaxis": "y2"
        },
        {
         "hoverinfo": "text",
         "marker": {
          "color": "rgb(255, 255, 255)"
         },
         "orientation": "h",
         "text": "",
         "type": "bar",
         "width": 0.5,
         "x": [
          1
         ],
         "xaxis": "x2",
         "y": [
          1
         ],
         "yaxis": "y2"
        },
        {
         "hoverinfo": "text",
         "marker": {
          "color": "rgb(255, 255, 255)"
         },
         "orientation": "h",
         "text": "",
         "type": "bar",
         "width": 0.5,
         "x": [
          1
         ],
         "xaxis": "x2",
         "y": [
          1
         ],
         "yaxis": "y2"
        }
       ],
       "layout": {
        "annotations": [
         {
          "align": "left",
          "font": {
           "color": "black",
           "family": "Arial",
           "size": 14
          },
          "showarrow": false,
          "text": " ",
          "x": 0.5,
          "xref": "x1",
          "y": 1,
          "yref": "y1"
         },
         {
          "align": "left",
          "font": {
           "color": "black",
           "family": "Arial",
           "size": 14
          },
          "showarrow": false,
          "text": "저",
          "x": 1.5,
          "xref": "x1",
          "y": 1,
          "yref": "y1"
         },
         {
          "align": "left",
          "font": {
           "color": "black",
           "family": "Arial",
           "size": 14
          },
          "showarrow": false,
          "text": "만",
          "x": 2.5,
          "xref": "x1",
          "y": 1,
          "yref": "y1"
         },
         {
          "align": "left",
          "font": {
           "color": "black",
           "family": "Arial",
           "size": 14
          },
          "showarrow": false,
          "text": " ",
          "x": 3.5,
          "xref": "x1",
          "y": 1,
          "yref": "y1"
         },
         {
          "align": "left",
          "font": {
           "color": "black",
           "family": "Arial",
           "size": 14
          },
          "showarrow": false,
          "text": "사",
          "x": 4.5,
          "xref": "x1",
          "y": 1,
          "yref": "y1"
         },
         {
          "align": "left",
          "font": {
           "color": "black",
           "family": "Arial",
           "size": 14
          },
          "showarrow": false,
          "text": "혜",
          "x": 5.5,
          "xref": "x1",
          "y": 1,
          "yref": "y1"
         },
         {
          "align": "left",
          "font": {
           "color": "black",
           "family": "Arial",
           "size": 14
          },
          "showarrow": false,
          "text": "준",
          "x": 6.5,
          "xref": "x1",
          "y": 1,
          "yref": "y1"
         },
         {
          "align": "left",
          "font": {
           "color": "black",
           "family": "Arial",
           "size": 14
          },
          "showarrow": false,
          "text": "이",
          "x": 7.5,
          "xref": "x1",
          "y": 1,
          "yref": "y1"
         },
         {
          "align": "left",
          "font": {
           "color": "black",
           "family": "Arial",
           "size": 14
          },
          "showarrow": false,
          "text": " ",
          "x": 8.5,
          "xref": "x1",
          "y": 1,
          "yref": "y1"
         },
         {
          "align": "left",
          "font": {
           "color": "black",
           "family": "Arial",
           "size": 14
          },
          "showarrow": false,
          "text": "안",
          "x": 9.5,
          "xref": "x1",
          "y": 1,
          "yref": "y1"
         },
         {
          "align": "left",
          "font": {
           "color": "black",
           "family": "Arial",
           "size": 14
          },
          "showarrow": false,
          "text": "정",
          "x": 10.5,
          "xref": "x1",
          "y": 1,
          "yref": "y1"
         },
         {
          "align": "left",
          "font": {
           "color": "black",
           "family": "Arial",
           "size": 14
          },
          "showarrow": false,
          "text": "하",
          "x": 11.5,
          "xref": "x1",
          "y": 1,
          "yref": "y1"
         },
         {
          "align": "left",
          "font": {
           "color": "black",
           "family": "Arial",
           "size": 14
          },
          "showarrow": false,
          "text": "한",
          "x": 12.5,
          "xref": "x1",
          "y": 1,
          "yref": "y1"
         },
         {
          "align": "left",
          "font": {
           "color": "black",
           "family": "Arial",
           "size": 14
          },
          "showarrow": false,
          "text": "테",
          "x": 13.5,
          "xref": "x1",
          "y": 1,
          "yref": "y1"
         },
         {
          "align": "left",
          "font": {
           "color": "black",
           "family": "Arial",
           "size": 14
          },
          "showarrow": false,
          "text": " ",
          "x": 14.5,
          "xref": "x1",
          "y": 1,
          "yref": "y1"
         },
         {
          "align": "left",
          "font": {
           "color": "black",
           "family": "Arial",
           "size": 14
          },
          "showarrow": false,
          "text": "자",
          "x": 15.5,
          "xref": "x1",
          "y": 1,
          "yref": "y1"
         },
         {
          "align": "left",
          "font": {
           "color": "black",
           "family": "Arial",
           "size": 14
          },
          "showarrow": false,
          "text": "기",
          "x": 16.5,
          "xref": "x1",
          "y": 1,
          "yref": "y1"
         },
         {
          "align": "left",
          "font": {
           "color": "black",
           "family": "Arial",
           "size": 14
          },
          "showarrow": false,
          "text": " ",
          "x": 17.5,
          "xref": "x1",
          "y": 1,
          "yref": "y1"
         },
         {
          "align": "left",
          "font": {
           "color": "black",
           "family": "Arial",
           "size": 14
          },
          "showarrow": false,
          "text": "앞",
          "x": 18.5,
          "xref": "x1",
          "y": 1,
          "yref": "y1"
         },
         {
          "align": "left",
          "font": {
           "color": "black",
           "family": "Arial",
           "size": 14
          },
          "showarrow": false,
          "text": "에",
          "x": 19.5,
          "xref": "x1",
          "y": 1,
          "yref": "y1"
         },
         {
          "align": "left",
          "font": {
           "color": "black",
           "family": "Arial",
           "size": 14
          },
          "showarrow": false,
          "text": "서",
          "x": 20.5,
          "xref": "x1",
          "y": 1,
          "yref": "y1"
         },
         {
          "align": "left",
          "font": {
           "color": "black",
           "family": "Arial",
           "size": 14
          },
          "showarrow": false,
          "text": "만",
          "x": 21.5,
          "xref": "x1",
          "y": 1,
          "yref": "y1"
         },
         {
          "align": "left",
          "font": {
           "color": "black",
           "family": "Arial",
           "size": 14
          },
          "showarrow": false,
          "text": " ",
          "x": 22.5,
          "xref": "x1",
          "y": 1,
          "yref": "y1"
         },
         {
          "align": "left",
          "font": {
           "color": "black",
           "family": "Arial",
           "size": 14
          },
          "showarrow": false,
          "text": "술",
          "x": 23.5,
          "xref": "x1",
          "y": 1,
          "yref": "y1"
         },
         {
          "align": "left",
          "font": {
           "color": "black",
           "family": "Arial",
           "size": 14
          },
          "showarrow": false,
          "text": " ",
          "x": 24.5,
          "xref": "x1",
          "y": 1,
          "yref": "y1"
         },
         {
          "align": "left",
          "font": {
           "color": "black",
           "family": "Arial",
           "size": 14
          },
          "showarrow": false,
          "text": "먹",
          "x": 25.5,
          "xref": "x1",
          "y": 1,
          "yref": "y1"
         },
         {
          "align": "left",
          "font": {
           "color": "black",
           "family": "Arial",
           "size": 14
          },
          "showarrow": false,
          "text": "으",
          "x": 26.5,
          "xref": "x1",
          "y": 1,
          "yref": "y1"
         },
         {
          "align": "left",
          "font": {
           "color": "black",
           "family": "Arial",
           "size": 14
          },
          "showarrow": false,
          "text": "라",
          "x": 27.5,
          "xref": "x1",
          "y": 1,
          "yref": "y1"
         },
         {
          "align": "left",
          "font": {
           "color": "black",
           "family": "Arial",
           "size": 14
          },
          "showarrow": false,
          "text": "고",
          "x": 28.5,
          "xref": "x1",
          "y": 1,
          "yref": "y1"
         },
         {
          "align": "left",
          "font": {
           "color": "black",
           "family": "Arial",
           "size": 14
          },
          "showarrow": false,
          "text": " ",
          "x": 29.5,
          "xref": "x1",
          "y": 1,
          "yref": "y1"
         },
         {
          "align": "left",
          "font": {
           "color": "black",
           "family": "Arial",
           "size": 14
          },
          "showarrow": false,
          "text": "너",
          "x": 30.5,
          "xref": "x1",
          "y": 1,
          "yref": "y1"
         },
         {
          "align": "left",
          "font": {
           "color": "black",
           "family": "Arial",
           "size": 14
          },
          "showarrow": false,
          "text": "무",
          "x": 31.5,
          "xref": "x1",
          "y": 1,
          "yref": "y1"
         },
         {
          "align": "left",
          "font": {
           "color": "black",
           "family": "Arial",
           "size": 14
          },
          "showarrow": false,
          "text": " ",
          "x": 32.5,
          "xref": "x1",
          "y": 1,
          "yref": "y1"
         },
         {
          "align": "left",
          "font": {
           "color": "black",
           "family": "Arial",
           "size": 14
          },
          "showarrow": false,
          "text": "귀",
          "x": 33.5,
          "xref": "x1",
          "y": 1,
          "yref": "y1"
         },
         {
          "align": "left",
          "font": {
           "color": "black",
           "family": "Arial",
           "size": 14
          },
          "showarrow": false,
          "text": "엽",
          "x": 34.5,
          "xref": "x1",
          "y": 1,
          "yref": "y1"
         },
         {
          "align": "left",
          "font": {
           "color": "black",
           "family": "Arial",
           "size": 14
          },
          "showarrow": false,
          "text": "다",
          "x": 35.5,
          "xref": "x1",
          "y": 1,
          "yref": "y1"
         },
         {
          "align": "left",
          "font": {
           "color": "black",
           "family": "Arial",
           "size": 14
          },
          "showarrow": false,
          "text": "고",
          "x": 36.5,
          "xref": "x1",
          "y": 1,
          "yref": "y1"
         },
         {
          "align": "left",
          "font": {
           "color": "black",
           "family": "Arial",
           "size": 14
          },
          "showarrow": false,
          "text": " ",
          "x": 37.5,
          "xref": "x1",
          "y": 1,
          "yref": "y1"
         },
         {
          "align": "left",
          "font": {
           "color": "black",
           "family": "Arial",
           "size": 14
          },
          "showarrow": false,
          "text": "말",
          "x": 38.5,
          "xref": "x1",
          "y": 1,
          "yref": "y1"
         },
         {
          "align": "left",
          "font": {
           "color": "black",
           "family": "Arial",
           "size": 14
          },
          "showarrow": false,
          "text": "하",
          "x": 39.5,
          "xref": "x1",
          "y": 1,
          "yref": "y1"
         },
         {
          "align": "left",
          "font": {
           "color": "black",
           "family": "Arial",
           "size": 14
          },
          "showarrow": false,
          "text": "는",
          "x": 40.5,
          "xref": "x1",
          "y": 1,
          "yref": "y1"
         },
         {
          "align": "left",
          "font": {
           "color": "black",
           "family": "Arial",
           "size": 14
          },
          "showarrow": false,
          "text": " ",
          "x": 41.5,
          "xref": "x1",
          "y": 1,
          "yref": "y1"
         },
         {
          "align": "left",
          "font": {
           "color": "black",
           "family": "Arial",
           "size": 14
          },
          "showarrow": false,
          "text": "영",
          "x": 42.5,
          "xref": "x1",
          "y": 1,
          "yref": "y1"
         },
         {
          "align": "left",
          "font": {
           "color": "black",
           "family": "Arial",
           "size": 14
          },
          "showarrow": false,
          "text": "상",
          "x": 43.5,
          "xref": "x1",
          "y": 1,
          "yref": "y1"
         },
         {
          "align": "left",
          "font": {
           "color": "black",
           "family": "Arial",
           "size": 14
          },
          "showarrow": false,
          "text": " ",
          "x": 44.5,
          "xref": "x1",
          "y": 1,
          "yref": "y1"
         },
         {
          "align": "left",
          "font": {
           "color": "black",
           "family": "Arial",
           "size": 14
          },
          "showarrow": false,
          "text": "찾",
          "x": 45.5,
          "xref": "x1",
          "y": 1,
          "yref": "y1"
         },
         {
          "align": "left",
          "font": {
           "color": "black",
           "family": "Arial",
           "size": 14
          },
          "showarrow": false,
          "text": "고",
          "x": 46.5,
          "xref": "x1",
          "y": 1,
          "yref": "y1"
         },
         {
          "align": "left",
          "font": {
           "color": "black",
           "family": "Arial",
           "size": 14
          },
          "showarrow": false,
          "text": " ",
          "x": 47.5,
          "xref": "x1",
          "y": 1,
          "yref": "y1"
         },
         {
          "align": "left",
          "font": {
           "color": "black",
           "family": "Arial",
           "size": 14
          },
          "showarrow": false,
          "text": "있",
          "x": 48.5,
          "xref": "x1",
          "y": 1,
          "yref": "y1"
         },
         {
          "align": "left",
          "font": {
           "color": "black",
           "family": "Arial",
           "size": 14
          },
          "showarrow": false,
          "text": "나",
          "x": 49.5,
          "xref": "x1",
          "y": 1,
          "yref": "y1"
         },
         {
          "align": "left",
          "font": {
           "color": "black",
           "family": "Arial",
           "size": 14
          },
          "showarrow": false,
          "text": "요",
          "x": 0.5,
          "xref": "x2",
          "y": 1,
          "yref": "y2"
         },
         {
          "align": "left",
          "font": {
           "color": "black",
           "family": "Arial",
           "size": 14
          },
          "showarrow": false,
          "text": "?",
          "x": 1.5,
          "xref": "x2",
          "y": 1,
          "yref": "y2"
         },
         {
          "align": "left",
          "font": {
           "color": "black",
           "family": "Arial",
           "size": 14
          },
          "showarrow": false,
          "text": "ᅲ",
          "x": 2.5,
          "xref": "x2",
          "y": 1,
          "yref": "y2"
         },
         {
          "align": "left",
          "font": {
           "color": "black",
           "family": "Arial",
           "size": 14
          },
          "showarrow": false,
          "text": "ᅲ",
          "x": 3.5,
          "xref": "x2",
          "y": 1,
          "yref": "y2"
         },
         {
          "align": "left",
          "font": {
           "color": "black",
           "family": "Arial",
           "size": 14
          },
          "showarrow": false,
          "text": "ᅲ",
          "x": 4.5,
          "xref": "x2",
          "y": 1,
          "yref": "y2"
         },
         {
          "align": "left",
          "font": {
           "color": "black",
           "family": "Arial",
           "size": 14
          },
          "showarrow": false,
          "text": "ᅲ",
          "x": 5.5,
          "xref": "x2",
          "y": 1,
          "yref": "y2"
         }
        ],
        "barmode": "stack",
        "height": 130,
        "images": [
         {
          "layer": "above",
          "opacity": 0.3,
          "sizex": 0.7,
          "sizey": 0.7,
          "source": "https://raw.githubusercontent.com/fingeredman/teanaps/master/data/logo/teanaps_logo_no-bg.png",
          "x": 0.5,
          "xanchor": "center",
          "xref": "paper",
          "y": 0.6,
          "yanchor": "center",
          "yref": "paper"
         }
        ],
        "margin": {
         "b": 30,
         "l": 20,
         "r": 20,
         "t": 10
        },
        "showlegend": false,
        "xaxis1": {
         "anchor": "y1",
         "domain": [
          0,
          1
         ],
         "showgrid": false,
         "showline": false,
         "showticklabels": false,
         "zeroline": false
        },
        "xaxis2": {
         "anchor": "y2",
         "domain": [
          0,
          1
         ],
         "showgrid": false,
         "showline": false,
         "showticklabels": false,
         "zeroline": false
        },
        "yaxis1": {
         "anchor": "x1",
         "domain": [
          0.575,
          1
         ],
         "showgrid": false,
         "showline": false,
         "showticklabels": false,
         "zeroline": false
        },
        "yaxis2": {
         "anchor": "x2",
         "domain": [
          0,
          0.425
         ],
         "showgrid": false,
         "showline": false,
         "showticklabels": false,
         "zeroline": false
        }
       }
      },
      "text/html": [
       "<div id=\"ac17a4ee-f822-4211-8339-1f9b8f52b0aa\" style=\"height: 130px; width: 100%;\" class=\"plotly-graph-div\"></div><script type=\"text/javascript\">require([\"plotly\"], function(Plotly) { window.PLOTLYENV=window.PLOTLYENV || {};window.PLOTLYENV.BASE_URL=\"https://plot.ly\";Plotly.newPlot(\"ac17a4ee-f822-4211-8339-1f9b8f52b0aa\", [{\"type\": \"bar\", \"y\": [1], \"x\": [2], \"orientation\": \"h\", \"width\": 0.5, \"text\": \"0.0\", \"hoverinfo\": \"text\", \"marker\": {\"color\": \"rgb(254.072494543174, 254.536247271587, 255)\"}, \"xaxis\": \"x1\", \"yaxis\": \"y1\"}, {\"type\": \"bar\", \"y\": [1], \"x\": [1], \"orientation\": \"h\", \"width\": 0.5, \"text\": \"0.04\", \"hoverinfo\": \"text\", \"marker\": {\"color\": \"rgb(247.93034471625327, 251.46517235812664, 255)\"}, \"xaxis\": \"x1\", \"yaxis\": \"y1\"}, {\"type\": \"bar\", \"y\": [1], \"x\": [2], \"orientation\": \"h\", \"width\": 0.5, \"text\": \"1.0\", \"hoverinfo\": \"text\", \"marker\": {\"color\": \"rgb(55.0, 155.0, 255)\"}, \"xaxis\": \"x1\", \"yaxis\": \"y1\"}, {\"type\": \"bar\", \"y\": [1], \"x\": [1], \"orientation\": \"h\", \"width\": 0.5, \"text\": \"0.5\", \"hoverinfo\": \"text\", \"marker\": {\"color\": \"rgb(155.7795917438739, 205.38979587193694, 255)\"}, \"xaxis\": \"x1\", \"yaxis\": \"y1\"}, {\"type\": \"bar\", \"y\": [1], \"x\": [1], \"orientation\": \"h\", \"width\": 0.5, \"text\": \"0.31\", \"hoverinfo\": \"text\", \"marker\": {\"color\": \"rgb(193.55994001649398, 224.279970008247, 255)\"}, \"xaxis\": \"x1\", \"yaxis\": \"y1\"}, {\"type\": \"bar\", \"y\": [1], \"x\": [1], \"orientation\": \"h\", \"width\": 0.5, \"text\": \"0.03\", \"hoverinfo\": \"text\", \"marker\": {\"color\": \"rgb(248.1796522924562, 251.58982614622812, 255)\"}, \"xaxis\": \"x1\", \"yaxis\": \"y1\"}, {\"type\": \"bar\", \"y\": [1], \"x\": [3], \"orientation\": \"h\", \"width\": 0.5, \"text\": \"1.0\", \"hoverinfo\": \"text\", \"marker\": {\"color\": \"rgb(55.890060874651056, 155.44503043732553, 255)\"}, \"xaxis\": \"x1\", \"yaxis\": \"y1\"}, {\"type\": \"bar\", \"y\": [1], \"x\": [1], \"orientation\": \"h\", \"width\": 0.5, \"text\": \"0.24\", \"hoverinfo\": \"text\", \"marker\": {\"color\": \"rgb(206.81113934576157, 230.90556967288077, 255)\"}, \"xaxis\": \"x1\", \"yaxis\": \"y1\"}, {\"type\": \"bar\", \"y\": [1], \"x\": [2], \"orientation\": \"h\", \"width\": 0.5, \"text\": \"0.06\", \"hoverinfo\": \"text\", \"marker\": {\"color\": \"rgb(242.4827756449159, 248.74138782245797, 255)\"}, \"xaxis\": \"x1\", \"yaxis\": \"y1\"}, {\"type\": \"bar\", \"y\": [1], \"x\": [3], \"orientation\": \"h\", \"width\": 0.5, \"text\": \"0.05\", \"hoverinfo\": \"text\", \"marker\": {\"color\": \"rgb(244.71377674081896, 249.85688837040948, 255)\"}, \"xaxis\": \"x1\", \"yaxis\": \"y1\"}, {\"type\": \"bar\", \"y\": [1], \"x\": [4], \"orientation\": \"h\", \"width\": 0.5, \"text\": \"0.03\", \"hoverinfo\": \"text\", \"marker\": {\"color\": \"rgb(249.8848680657726, 252.4424340328863, 255)\"}, \"xaxis\": \"x1\", \"yaxis\": \"y1\"}, {\"type\": \"bar\", \"y\": [1], \"x\": [1], \"orientation\": \"h\", \"width\": 0.5, \"text\": \"0.03\", \"hoverinfo\": \"text\", \"marker\": {\"color\": \"rgb(248.51374903318978, 251.75687451659488, 255)\"}, \"xaxis\": \"x1\", \"yaxis\": \"y1\"}, {\"type\": \"bar\", \"y\": [1], \"x\": [2], \"orientation\": \"h\", \"width\": 0.5, \"text\": \"0.04\", \"hoverinfo\": \"text\", \"marker\": {\"color\": \"rgb(246.80934329838811, 250.90467164919406, 255)\"}, \"xaxis\": \"x1\", \"yaxis\": \"y1\"}, {\"type\": \"bar\", \"y\": [1], \"x\": [2], \"orientation\": \"h\", \"width\": 0.5, \"text\": \"0.07\", \"hoverinfo\": \"text\", \"marker\": {\"color\": \"rgb(241.0172866120366, 248.0086433060183, 255)\"}, \"xaxis\": \"x1\", \"yaxis\": \"y1\"}, {\"type\": \"bar\", \"y\": [1], \"x\": [1], \"orientation\": \"h\", \"width\": 0.5, \"text\": \"0.05\", \"hoverinfo\": \"text\", \"marker\": {\"color\": \"rgb(245.36350873613705, 250.1817543680685, 255)\"}, \"xaxis\": \"x1\", \"yaxis\": \"y1\"}, {\"type\": \"bar\", \"y\": [1], \"x\": [2], \"orientation\": \"h\", \"width\": 0.5, \"text\": \"0.05\", \"hoverinfo\": \"text\", \"marker\": {\"color\": \"rgb(244.1915842316445, 249.59579211582223, 255)\"}, \"xaxis\": \"x1\", \"yaxis\": \"y1\"}, {\"type\": \"bar\", \"y\": [1], \"x\": [3], \"orientation\": \"h\", \"width\": 0.5, \"text\": \"0.04\", \"hoverinfo\": \"text\", \"marker\": {\"color\": \"rgb(246.37206828684225, 250.68603414342113, 255)\"}, \"xaxis\": \"x1\", \"yaxis\": \"y1\"}, {\"type\": \"bar\", \"y\": [1], \"x\": [3], \"orientation\": \"h\", \"width\": 0.5, \"text\": \"0.03\", \"hoverinfo\": \"text\", \"marker\": {\"color\": \"rgb(249.98162044170076, 252.4908102208504, 255)\"}, \"xaxis\": \"x1\", \"yaxis\": \"y1\"}, {\"type\": \"bar\", \"y\": [1], \"x\": [1], \"orientation\": \"h\", \"width\": 0.5, \"text\": \"0.02\", \"hoverinfo\": \"text\", \"marker\": {\"color\": \"rgb(250.8963207578396, 252.9481603789198, 255)\"}, \"xaxis\": \"x1\", \"yaxis\": \"y1\"}, {\"type\": \"bar\", \"y\": [1], \"x\": [1], \"orientation\": \"h\", \"width\": 0.5, \"text\": \"0.04\", \"hoverinfo\": \"text\", \"marker\": {\"color\": \"rgb(247.04655676343353, 251.02327838171675, 255)\"}, \"xaxis\": \"x1\", \"yaxis\": \"y1\"}, {\"type\": \"bar\", \"y\": [1], \"x\": [2], \"orientation\": \"h\", \"width\": 0.5, \"text\": \"0.04\", \"hoverinfo\": \"text\", \"marker\": {\"color\": \"rgb(247.09621910570598, 251.048109552853, 255)\"}, \"xaxis\": \"x1\", \"yaxis\": \"y1\"}, {\"type\": \"bar\", \"y\": [1], \"x\": [1], \"orientation\": \"h\", \"width\": 0.5, \"text\": \"0.05\", \"hoverinfo\": \"text\", \"marker\": {\"color\": \"rgb(244.73794442983842, 249.8689722149192, 255)\"}, \"xaxis\": \"x1\", \"yaxis\": \"y1\"}, {\"type\": \"bar\", \"y\": [1], \"x\": [1], \"orientation\": \"h\", \"width\": 0.5, \"text\": \"0.06\", \"hoverinfo\": \"text\", \"marker\": {\"color\": \"rgb(242.66696752051502, 248.8334837602575, 255)\"}, \"xaxis\": \"x1\", \"yaxis\": \"y1\"}, {\"type\": \"bar\", \"y\": [1], \"x\": [3], \"orientation\": \"h\", \"width\": 0.5, \"text\": \"0.05\", \"hoverinfo\": \"text\", \"marker\": {\"color\": \"rgb(244.64690698343136, 249.82345349171567, 255)\"}, \"xaxis\": \"x1\", \"yaxis\": \"y1\"}, {\"type\": \"bar\", \"y\": [1], \"x\": [1], \"orientation\": \"h\", \"width\": 0.5, \"text\": \"0.03\", \"hoverinfo\": \"text\", \"marker\": {\"color\": \"rgb(249.1567702341461, 252.07838511707305, 255)\"}, \"xaxis\": \"x1\", \"yaxis\": \"y1\"}, {\"type\": \"bar\", \"y\": [1], \"x\": [1], \"orientation\": \"h\", \"width\": 0.5, \"text\": \"0.01\", \"hoverinfo\": \"text\", \"marker\": {\"color\": \"rgb(252.50698583785743, 253.7534929189287, 255)\"}, \"xaxis\": \"x1\", \"yaxis\": \"y1\"}, {\"type\": \"bar\", \"y\": [1], \"x\": [1], \"orientation\": \"h\", \"width\": 0.5, \"text\": \"0.0\", \"hoverinfo\": \"text\", \"marker\": {\"color\": \"rgb(254.87917805372663, 254.9395890268633, 255)\"}, \"xaxis\": \"x1\", \"yaxis\": \"y1\"}, {\"type\": \"bar\", \"y\": [1], \"x\": [2], \"orientation\": \"h\", \"width\": 0.5, \"text\": \"0.01\", \"hoverinfo\": \"text\", \"marker\": {\"color\": \"rgb(252.8972471739409, 253.94862358697046, 255)\"}, \"xaxis\": \"x1\", \"yaxis\": \"y1\"}, {\"type\": \"bar\", \"y\": [1], \"x\": [1], \"orientation\": \"h\", \"width\": 0.5, \"text\": \"0.03\", \"hoverinfo\": \"text\", \"marker\": {\"color\": \"rgb(248.54866076917563, 251.7743303845878, 255)\"}, \"xaxis\": \"x1\", \"yaxis\": \"y1\"}, {\"type\": \"bar\", \"y\": [1], \"x\": [1], \"orientation\": \"h\", \"width\": 0.5, \"text\": \"0.05\", \"hoverinfo\": \"text\", \"marker\": {\"color\": \"rgb(244.9451161433017, 249.97255807165087, 255)\"}, \"xaxis\": \"x2\", \"yaxis\": \"y2\"}, {\"type\": \"bar\", \"y\": [1], \"x\": [1], \"orientation\": \"h\", \"width\": 0.5, \"text\": \"0.06\", \"hoverinfo\": \"text\", \"marker\": {\"color\": \"rgb(242.75329565555708, 248.87664782777856, 255)\"}, \"xaxis\": \"x2\", \"yaxis\": \"y2\"}, {\"type\": \"bar\", \"y\": [1], \"x\": [4], \"orientation\": \"h\", \"width\": 0.5, \"text\": \"0.13\", \"hoverinfo\": \"text\", \"marker\": {\"color\": \"rgb(228.70473917499024, 241.85236958749513, 255)\"}, \"xaxis\": \"x2\", \"yaxis\": \"y2\"}, {\"type\": \"bar\", \"y\": [1], \"x\": [1], \"orientation\": \"h\", \"width\": 0.5, \"text\": \"\", \"hoverinfo\": \"text\", \"marker\": {\"color\": \"rgb(255, 255, 255)\"}, \"xaxis\": \"x2\", \"yaxis\": \"y2\"}, {\"type\": \"bar\", \"y\": [1], \"x\": [1], \"orientation\": \"h\", \"width\": 0.5, \"text\": \"\", \"hoverinfo\": \"text\", \"marker\": {\"color\": \"rgb(255, 255, 255)\"}, \"xaxis\": \"x2\", \"yaxis\": \"y2\"}, {\"type\": \"bar\", \"y\": [1], \"x\": [1], \"orientation\": \"h\", \"width\": 0.5, \"text\": \"\", \"hoverinfo\": \"text\", \"marker\": {\"color\": \"rgb(255, 255, 255)\"}, \"xaxis\": \"x2\", \"yaxis\": \"y2\"}, {\"type\": \"bar\", \"y\": [1], \"x\": [1], \"orientation\": \"h\", \"width\": 0.5, \"text\": \"\", \"hoverinfo\": \"text\", \"marker\": {\"color\": \"rgb(255, 255, 255)\"}, \"xaxis\": \"x2\", \"yaxis\": \"y2\"}, {\"type\": \"bar\", \"y\": [1], \"x\": [1], \"orientation\": \"h\", \"width\": 0.5, \"text\": \"\", \"hoverinfo\": \"text\", \"marker\": {\"color\": \"rgb(255, 255, 255)\"}, \"xaxis\": \"x2\", \"yaxis\": \"y2\"}, {\"type\": \"bar\", \"y\": [1], \"x\": [1], \"orientation\": \"h\", \"width\": 0.5, \"text\": \"\", \"hoverinfo\": \"text\", \"marker\": {\"color\": \"rgb(255, 255, 255)\"}, \"xaxis\": \"x2\", \"yaxis\": \"y2\"}, {\"type\": \"bar\", \"y\": [1], \"x\": [1], \"orientation\": \"h\", \"width\": 0.5, \"text\": \"\", \"hoverinfo\": \"text\", \"marker\": {\"color\": \"rgb(255, 255, 255)\"}, \"xaxis\": \"x2\", \"yaxis\": \"y2\"}, {\"type\": \"bar\", \"y\": [1], \"x\": [1], \"orientation\": \"h\", \"width\": 0.5, \"text\": \"\", \"hoverinfo\": \"text\", \"marker\": {\"color\": \"rgb(255, 255, 255)\"}, \"xaxis\": \"x2\", \"yaxis\": \"y2\"}, {\"type\": \"bar\", \"y\": [1], \"x\": [1], \"orientation\": \"h\", \"width\": 0.5, \"text\": \"\", \"hoverinfo\": \"text\", \"marker\": {\"color\": \"rgb(255, 255, 255)\"}, \"xaxis\": \"x2\", \"yaxis\": \"y2\"}, {\"type\": \"bar\", \"y\": [1], \"x\": [1], \"orientation\": \"h\", \"width\": 0.5, \"text\": \"\", \"hoverinfo\": \"text\", \"marker\": {\"color\": \"rgb(255, 255, 255)\"}, \"xaxis\": \"x2\", \"yaxis\": \"y2\"}, {\"type\": \"bar\", \"y\": [1], \"x\": [1], \"orientation\": \"h\", \"width\": 0.5, \"text\": \"\", \"hoverinfo\": \"text\", \"marker\": {\"color\": \"rgb(255, 255, 255)\"}, \"xaxis\": \"x2\", \"yaxis\": \"y2\"}, {\"type\": \"bar\", \"y\": [1], \"x\": [1], \"orientation\": \"h\", \"width\": 0.5, \"text\": \"\", \"hoverinfo\": \"text\", \"marker\": {\"color\": \"rgb(255, 255, 255)\"}, \"xaxis\": \"x2\", \"yaxis\": \"y2\"}, {\"type\": \"bar\", \"y\": [1], \"x\": [1], \"orientation\": \"h\", \"width\": 0.5, \"text\": \"\", \"hoverinfo\": \"text\", \"marker\": {\"color\": \"rgb(255, 255, 255)\"}, \"xaxis\": \"x2\", \"yaxis\": \"y2\"}, {\"type\": \"bar\", \"y\": [1], \"x\": [1], \"orientation\": \"h\", \"width\": 0.5, \"text\": \"\", \"hoverinfo\": \"text\", \"marker\": {\"color\": \"rgb(255, 255, 255)\"}, \"xaxis\": \"x2\", \"yaxis\": \"y2\"}, {\"type\": \"bar\", \"y\": [1], \"x\": [1], \"orientation\": \"h\", \"width\": 0.5, \"text\": \"\", \"hoverinfo\": \"text\", \"marker\": {\"color\": \"rgb(255, 255, 255)\"}, \"xaxis\": \"x2\", \"yaxis\": \"y2\"}, {\"type\": \"bar\", \"y\": [1], \"x\": [1], \"orientation\": \"h\", \"width\": 0.5, \"text\": \"\", \"hoverinfo\": \"text\", \"marker\": {\"color\": \"rgb(255, 255, 255)\"}, \"xaxis\": \"x2\", \"yaxis\": \"y2\"}, {\"type\": \"bar\", \"y\": [1], \"x\": [1], \"orientation\": \"h\", \"width\": 0.5, \"text\": \"\", \"hoverinfo\": \"text\", \"marker\": {\"color\": \"rgb(255, 255, 255)\"}, \"xaxis\": \"x2\", \"yaxis\": \"y2\"}, {\"type\": \"bar\", \"y\": [1], \"x\": [1], \"orientation\": \"h\", \"width\": 0.5, \"text\": \"\", \"hoverinfo\": \"text\", \"marker\": {\"color\": \"rgb(255, 255, 255)\"}, \"xaxis\": \"x2\", \"yaxis\": \"y2\"}, {\"type\": \"bar\", \"y\": [1], \"x\": [1], \"orientation\": \"h\", \"width\": 0.5, \"text\": \"\", \"hoverinfo\": \"text\", \"marker\": {\"color\": \"rgb(255, 255, 255)\"}, \"xaxis\": \"x2\", \"yaxis\": \"y2\"}, {\"type\": \"bar\", \"y\": [1], \"x\": [1], \"orientation\": \"h\", \"width\": 0.5, \"text\": \"\", \"hoverinfo\": \"text\", \"marker\": {\"color\": \"rgb(255, 255, 255)\"}, \"xaxis\": \"x2\", \"yaxis\": \"y2\"}, {\"type\": \"bar\", \"y\": [1], \"x\": [1], \"orientation\": \"h\", \"width\": 0.5, \"text\": \"\", \"hoverinfo\": \"text\", \"marker\": {\"color\": \"rgb(255, 255, 255)\"}, \"xaxis\": \"x2\", \"yaxis\": \"y2\"}, {\"type\": \"bar\", \"y\": [1], \"x\": [1], \"orientation\": \"h\", \"width\": 0.5, \"text\": \"\", \"hoverinfo\": \"text\", \"marker\": {\"color\": \"rgb(255, 255, 255)\"}, \"xaxis\": \"x2\", \"yaxis\": \"y2\"}, {\"type\": \"bar\", \"y\": [1], \"x\": [1], \"orientation\": \"h\", \"width\": 0.5, \"text\": \"\", \"hoverinfo\": \"text\", \"marker\": {\"color\": \"rgb(255, 255, 255)\"}, \"xaxis\": \"x2\", \"yaxis\": \"y2\"}, {\"type\": \"bar\", \"y\": [1], \"x\": [1], \"orientation\": \"h\", \"width\": 0.5, \"text\": \"\", \"hoverinfo\": \"text\", \"marker\": {\"color\": \"rgb(255, 255, 255)\"}, \"xaxis\": \"x2\", \"yaxis\": \"y2\"}, {\"type\": \"bar\", \"y\": [1], \"x\": [1], \"orientation\": \"h\", \"width\": 0.5, \"text\": \"\", \"hoverinfo\": \"text\", \"marker\": {\"color\": \"rgb(255, 255, 255)\"}, \"xaxis\": \"x2\", \"yaxis\": \"y2\"}, {\"type\": \"bar\", \"y\": [1], \"x\": [1], \"orientation\": \"h\", \"width\": 0.5, \"text\": \"\", \"hoverinfo\": \"text\", \"marker\": {\"color\": \"rgb(255, 255, 255)\"}, \"xaxis\": \"x2\", \"yaxis\": \"y2\"}, {\"type\": \"bar\", \"y\": [1], \"x\": [1], \"orientation\": \"h\", \"width\": 0.5, \"text\": \"\", \"hoverinfo\": \"text\", \"marker\": {\"color\": \"rgb(255, 255, 255)\"}, \"xaxis\": \"x2\", \"yaxis\": \"y2\"}, {\"type\": \"bar\", \"y\": [1], \"x\": [1], \"orientation\": \"h\", \"width\": 0.5, \"text\": \"\", \"hoverinfo\": \"text\", \"marker\": {\"color\": \"rgb(255, 255, 255)\"}, \"xaxis\": \"x2\", \"yaxis\": \"y2\"}, {\"type\": \"bar\", \"y\": [1], \"x\": [1], \"orientation\": \"h\", \"width\": 0.5, \"text\": \"\", \"hoverinfo\": \"text\", \"marker\": {\"color\": \"rgb(255, 255, 255)\"}, \"xaxis\": \"x2\", \"yaxis\": \"y2\"}, {\"type\": \"bar\", \"y\": [1], \"x\": [1], \"orientation\": \"h\", \"width\": 0.5, \"text\": \"\", \"hoverinfo\": \"text\", \"marker\": {\"color\": \"rgb(255, 255, 255)\"}, \"xaxis\": \"x2\", \"yaxis\": \"y2\"}, {\"type\": \"bar\", \"y\": [1], \"x\": [1], \"orientation\": \"h\", \"width\": 0.5, \"text\": \"\", \"hoverinfo\": \"text\", \"marker\": {\"color\": \"rgb(255, 255, 255)\"}, \"xaxis\": \"x2\", \"yaxis\": \"y2\"}, {\"type\": \"bar\", \"y\": [1], \"x\": [1], \"orientation\": \"h\", \"width\": 0.5, \"text\": \"\", \"hoverinfo\": \"text\", \"marker\": {\"color\": \"rgb(255, 255, 255)\"}, \"xaxis\": \"x2\", \"yaxis\": \"y2\"}, {\"type\": \"bar\", \"y\": [1], \"x\": [1], \"orientation\": \"h\", \"width\": 0.5, \"text\": \"\", \"hoverinfo\": \"text\", \"marker\": {\"color\": \"rgb(255, 255, 255)\"}, \"xaxis\": \"x2\", \"yaxis\": \"y2\"}, {\"type\": \"bar\", \"y\": [1], \"x\": [1], \"orientation\": \"h\", \"width\": 0.5, \"text\": \"\", \"hoverinfo\": \"text\", \"marker\": {\"color\": \"rgb(255, 255, 255)\"}, \"xaxis\": \"x2\", \"yaxis\": \"y2\"}, {\"type\": \"bar\", \"y\": [1], \"x\": [1], \"orientation\": \"h\", \"width\": 0.5, \"text\": \"\", \"hoverinfo\": \"text\", \"marker\": {\"color\": \"rgb(255, 255, 255)\"}, \"xaxis\": \"x2\", \"yaxis\": \"y2\"}, {\"type\": \"bar\", \"y\": [1], \"x\": [1], \"orientation\": \"h\", \"width\": 0.5, \"text\": \"\", \"hoverinfo\": \"text\", \"marker\": {\"color\": \"rgb(255, 255, 255)\"}, \"xaxis\": \"x2\", \"yaxis\": \"y2\"}, {\"type\": \"bar\", \"y\": [1], \"x\": [1], \"orientation\": \"h\", \"width\": 0.5, \"text\": \"\", \"hoverinfo\": \"text\", \"marker\": {\"color\": \"rgb(255, 255, 255)\"}, \"xaxis\": \"x2\", \"yaxis\": \"y2\"}, {\"type\": \"bar\", \"y\": [1], \"x\": [1], \"orientation\": \"h\", \"width\": 0.5, \"text\": \"\", \"hoverinfo\": \"text\", \"marker\": {\"color\": \"rgb(255, 255, 255)\"}, \"xaxis\": \"x2\", \"yaxis\": \"y2\"}, {\"type\": \"bar\", \"y\": [1], \"x\": [1], \"orientation\": \"h\", \"width\": 0.5, \"text\": \"\", \"hoverinfo\": \"text\", \"marker\": {\"color\": \"rgb(255, 255, 255)\"}, \"xaxis\": \"x2\", \"yaxis\": \"y2\"}, {\"type\": \"bar\", \"y\": [1], \"x\": [1], \"orientation\": \"h\", \"width\": 0.5, \"text\": \"\", \"hoverinfo\": \"text\", \"marker\": {\"color\": \"rgb(255, 255, 255)\"}, \"xaxis\": \"x2\", \"yaxis\": \"y2\"}, {\"type\": \"bar\", \"y\": [1], \"x\": [1], \"orientation\": \"h\", \"width\": 0.5, \"text\": \"\", \"hoverinfo\": \"text\", \"marker\": {\"color\": \"rgb(255, 255, 255)\"}, \"xaxis\": \"x2\", \"yaxis\": \"y2\"}, {\"type\": \"bar\", \"y\": [1], \"x\": [1], \"orientation\": \"h\", \"width\": 0.5, \"text\": \"\", \"hoverinfo\": \"text\", \"marker\": {\"color\": \"rgb(255, 255, 255)\"}, \"xaxis\": \"x2\", \"yaxis\": \"y2\"}, {\"type\": \"bar\", \"y\": [1], \"x\": [1], \"orientation\": \"h\", \"width\": 0.5, \"text\": \"\", \"hoverinfo\": \"text\", \"marker\": {\"color\": \"rgb(255, 255, 255)\"}, \"xaxis\": \"x2\", \"yaxis\": \"y2\"}, {\"type\": \"bar\", \"y\": [1], \"x\": [1], \"orientation\": \"h\", \"width\": 0.5, \"text\": \"\", \"hoverinfo\": \"text\", \"marker\": {\"color\": \"rgb(255, 255, 255)\"}, \"xaxis\": \"x2\", \"yaxis\": \"y2\"}], {\"xaxis1\": {\"domain\": [0.0, 1.0], \"anchor\": \"y1\", \"showgrid\": false, \"showline\": false, \"showticklabels\": false, \"zeroline\": false}, \"yaxis1\": {\"domain\": [0.575, 1.0], \"anchor\": \"x1\", \"showgrid\": false, \"showline\": false, \"showticklabels\": false, \"zeroline\": false}, \"xaxis2\": {\"domain\": [0.0, 1.0], \"anchor\": \"y2\", \"showgrid\": false, \"showline\": false, \"showticklabels\": false, \"zeroline\": false}, \"yaxis2\": {\"domain\": [0.0, 0.425], \"anchor\": \"x2\", \"showgrid\": false, \"showline\": false, \"showticklabels\": false, \"zeroline\": false}, \"barmode\": \"stack\", \"showlegend\": false, \"margin\": {\"b\": 30, \"l\": 20, \"r\": 20, \"t\": 10}, \"annotations\": [{\"xref\": \"x1\", \"yref\": \"y1\", \"x\": 0.5, \"y\": 1, \"text\": \" \", \"align\": \"left\", \"font\": {\"family\": \"Arial\", \"size\": 14, \"color\": \"black\"}, \"showarrow\": false}, {\"xref\": \"x1\", \"yref\": \"y1\", \"x\": 1.5, \"y\": 1, \"text\": \"\\uc800\", \"align\": \"left\", \"font\": {\"family\": \"Arial\", \"size\": 14, \"color\": \"black\"}, \"showarrow\": false}, {\"xref\": \"x1\", \"yref\": \"y1\", \"x\": 2.5, \"y\": 1, \"text\": \"\\ub9cc\", \"align\": \"left\", \"font\": {\"family\": \"Arial\", \"size\": 14, \"color\": \"black\"}, \"showarrow\": false}, {\"xref\": \"x1\", \"yref\": \"y1\", \"x\": 3.5, \"y\": 1, \"text\": \" \", \"align\": \"left\", \"font\": {\"family\": \"Arial\", \"size\": 14, \"color\": \"black\"}, \"showarrow\": false}, {\"xref\": \"x1\", \"yref\": \"y1\", \"x\": 4.5, \"y\": 1, \"text\": \"\\uc0ac\", \"align\": \"left\", \"font\": {\"family\": \"Arial\", \"size\": 14, \"color\": \"black\"}, \"showarrow\": false}, {\"xref\": \"x1\", \"yref\": \"y1\", \"x\": 5.5, \"y\": 1, \"text\": \"\\ud61c\", \"align\": \"left\", \"font\": {\"family\": \"Arial\", \"size\": 14, \"color\": \"black\"}, \"showarrow\": false}, {\"xref\": \"x1\", \"yref\": \"y1\", \"x\": 6.5, \"y\": 1, \"text\": \"\\uc900\", \"align\": \"left\", \"font\": {\"family\": \"Arial\", \"size\": 14, \"color\": \"black\"}, \"showarrow\": false}, {\"xref\": \"x1\", \"yref\": \"y1\", \"x\": 7.5, \"y\": 1, \"text\": \"\\uc774\", \"align\": \"left\", \"font\": {\"family\": \"Arial\", \"size\": 14, \"color\": \"black\"}, \"showarrow\": false}, {\"xref\": \"x1\", \"yref\": \"y1\", \"x\": 8.5, \"y\": 1, \"text\": \" \", \"align\": \"left\", \"font\": {\"family\": \"Arial\", \"size\": 14, \"color\": \"black\"}, \"showarrow\": false}, {\"xref\": \"x1\", \"yref\": \"y1\", \"x\": 9.5, \"y\": 1, \"text\": \"\\uc548\", \"align\": \"left\", \"font\": {\"family\": \"Arial\", \"size\": 14, \"color\": \"black\"}, \"showarrow\": false}, {\"xref\": \"x1\", \"yref\": \"y1\", \"x\": 10.5, \"y\": 1, \"text\": \"\\uc815\", \"align\": \"left\", \"font\": {\"family\": \"Arial\", \"size\": 14, \"color\": \"black\"}, \"showarrow\": false}, {\"xref\": \"x1\", \"yref\": \"y1\", \"x\": 11.5, \"y\": 1, \"text\": \"\\ud558\", \"align\": \"left\", \"font\": {\"family\": \"Arial\", \"size\": 14, \"color\": \"black\"}, \"showarrow\": false}, {\"xref\": \"x1\", \"yref\": \"y1\", \"x\": 12.5, \"y\": 1, \"text\": \"\\ud55c\", \"align\": \"left\", \"font\": {\"family\": \"Arial\", \"size\": 14, \"color\": \"black\"}, \"showarrow\": false}, {\"xref\": \"x1\", \"yref\": \"y1\", \"x\": 13.5, \"y\": 1, \"text\": \"\\ud14c\", \"align\": \"left\", \"font\": {\"family\": \"Arial\", \"size\": 14, \"color\": \"black\"}, \"showarrow\": false}, {\"xref\": \"x1\", \"yref\": \"y1\", \"x\": 14.5, \"y\": 1, \"text\": \" \", \"align\": \"left\", \"font\": {\"family\": \"Arial\", \"size\": 14, \"color\": \"black\"}, \"showarrow\": false}, {\"xref\": \"x1\", \"yref\": \"y1\", \"x\": 15.5, \"y\": 1, \"text\": \"\\uc790\", \"align\": \"left\", \"font\": {\"family\": \"Arial\", \"size\": 14, \"color\": \"black\"}, \"showarrow\": false}, {\"xref\": \"x1\", \"yref\": \"y1\", \"x\": 16.5, \"y\": 1, \"text\": \"\\uae30\", \"align\": \"left\", \"font\": {\"family\": \"Arial\", \"size\": 14, \"color\": \"black\"}, \"showarrow\": false}, {\"xref\": \"x1\", \"yref\": \"y1\", \"x\": 17.5, \"y\": 1, \"text\": \" \", \"align\": \"left\", \"font\": {\"family\": \"Arial\", \"size\": 14, \"color\": \"black\"}, \"showarrow\": false}, {\"xref\": \"x1\", \"yref\": \"y1\", \"x\": 18.5, \"y\": 1, \"text\": \"\\uc55e\", \"align\": \"left\", \"font\": {\"family\": \"Arial\", \"size\": 14, \"color\": \"black\"}, \"showarrow\": false}, {\"xref\": \"x1\", \"yref\": \"y1\", \"x\": 19.5, \"y\": 1, \"text\": \"\\uc5d0\", \"align\": \"left\", \"font\": {\"family\": \"Arial\", \"size\": 14, \"color\": \"black\"}, \"showarrow\": false}, {\"xref\": \"x1\", \"yref\": \"y1\", \"x\": 20.5, \"y\": 1, \"text\": \"\\uc11c\", \"align\": \"left\", \"font\": {\"family\": \"Arial\", \"size\": 14, \"color\": \"black\"}, \"showarrow\": false}, {\"xref\": \"x1\", \"yref\": \"y1\", \"x\": 21.5, \"y\": 1, \"text\": \"\\ub9cc\", \"align\": \"left\", \"font\": {\"family\": \"Arial\", \"size\": 14, \"color\": \"black\"}, \"showarrow\": false}, {\"xref\": \"x1\", \"yref\": \"y1\", \"x\": 22.5, \"y\": 1, \"text\": \" \", \"align\": \"left\", \"font\": {\"family\": \"Arial\", \"size\": 14, \"color\": \"black\"}, \"showarrow\": false}, {\"xref\": \"x1\", \"yref\": \"y1\", \"x\": 23.5, \"y\": 1, \"text\": \"\\uc220\", \"align\": \"left\", \"font\": {\"family\": \"Arial\", \"size\": 14, \"color\": \"black\"}, \"showarrow\": false}, {\"xref\": \"x1\", \"yref\": \"y1\", \"x\": 24.5, \"y\": 1, \"text\": \" \", \"align\": \"left\", \"font\": {\"family\": \"Arial\", \"size\": 14, \"color\": \"black\"}, \"showarrow\": false}, {\"xref\": \"x1\", \"yref\": \"y1\", \"x\": 25.5, \"y\": 1, \"text\": \"\\uba39\", \"align\": \"left\", \"font\": {\"family\": \"Arial\", \"size\": 14, \"color\": \"black\"}, \"showarrow\": false}, {\"xref\": \"x1\", \"yref\": \"y1\", \"x\": 26.5, \"y\": 1, \"text\": \"\\uc73c\", \"align\": \"left\", \"font\": {\"family\": \"Arial\", \"size\": 14, \"color\": \"black\"}, \"showarrow\": false}, {\"xref\": \"x1\", \"yref\": \"y1\", \"x\": 27.5, \"y\": 1, \"text\": \"\\ub77c\", \"align\": \"left\", \"font\": {\"family\": \"Arial\", \"size\": 14, \"color\": \"black\"}, \"showarrow\": false}, {\"xref\": \"x1\", \"yref\": \"y1\", \"x\": 28.5, \"y\": 1, \"text\": \"\\uace0\", \"align\": \"left\", \"font\": {\"family\": \"Arial\", \"size\": 14, \"color\": \"black\"}, \"showarrow\": false}, {\"xref\": \"x1\", \"yref\": \"y1\", \"x\": 29.5, \"y\": 1, \"text\": \" \", \"align\": \"left\", \"font\": {\"family\": \"Arial\", \"size\": 14, \"color\": \"black\"}, \"showarrow\": false}, {\"xref\": \"x1\", \"yref\": \"y1\", \"x\": 30.5, \"y\": 1, \"text\": \"\\ub108\", \"align\": \"left\", \"font\": {\"family\": \"Arial\", \"size\": 14, \"color\": \"black\"}, \"showarrow\": false}, {\"xref\": \"x1\", \"yref\": \"y1\", \"x\": 31.5, \"y\": 1, \"text\": \"\\ubb34\", \"align\": \"left\", \"font\": {\"family\": \"Arial\", \"size\": 14, \"color\": \"black\"}, \"showarrow\": false}, {\"xref\": \"x1\", \"yref\": \"y1\", \"x\": 32.5, \"y\": 1, \"text\": \" \", \"align\": \"left\", \"font\": {\"family\": \"Arial\", \"size\": 14, \"color\": \"black\"}, \"showarrow\": false}, {\"xref\": \"x1\", \"yref\": \"y1\", \"x\": 33.5, \"y\": 1, \"text\": \"\\uadc0\", \"align\": \"left\", \"font\": {\"family\": \"Arial\", \"size\": 14, \"color\": \"black\"}, \"showarrow\": false}, {\"xref\": \"x1\", \"yref\": \"y1\", \"x\": 34.5, \"y\": 1, \"text\": \"\\uc5fd\", \"align\": \"left\", \"font\": {\"family\": \"Arial\", \"size\": 14, \"color\": \"black\"}, \"showarrow\": false}, {\"xref\": \"x1\", \"yref\": \"y1\", \"x\": 35.5, \"y\": 1, \"text\": \"\\ub2e4\", \"align\": \"left\", \"font\": {\"family\": \"Arial\", \"size\": 14, \"color\": \"black\"}, \"showarrow\": false}, {\"xref\": \"x1\", \"yref\": \"y1\", \"x\": 36.5, \"y\": 1, \"text\": \"\\uace0\", \"align\": \"left\", \"font\": {\"family\": \"Arial\", \"size\": 14, \"color\": \"black\"}, \"showarrow\": false}, {\"xref\": \"x1\", \"yref\": \"y1\", \"x\": 37.5, \"y\": 1, \"text\": \" \", \"align\": \"left\", \"font\": {\"family\": \"Arial\", \"size\": 14, \"color\": \"black\"}, \"showarrow\": false}, {\"xref\": \"x1\", \"yref\": \"y1\", \"x\": 38.5, \"y\": 1, \"text\": \"\\ub9d0\", \"align\": \"left\", \"font\": {\"family\": \"Arial\", \"size\": 14, \"color\": \"black\"}, \"showarrow\": false}, {\"xref\": \"x1\", \"yref\": \"y1\", \"x\": 39.5, \"y\": 1, \"text\": \"\\ud558\", \"align\": \"left\", \"font\": {\"family\": \"Arial\", \"size\": 14, \"color\": \"black\"}, \"showarrow\": false}, {\"xref\": \"x1\", \"yref\": \"y1\", \"x\": 40.5, \"y\": 1, \"text\": \"\\ub294\", \"align\": \"left\", \"font\": {\"family\": \"Arial\", \"size\": 14, \"color\": \"black\"}, \"showarrow\": false}, {\"xref\": \"x1\", \"yref\": \"y1\", \"x\": 41.5, \"y\": 1, \"text\": \" \", \"align\": \"left\", \"font\": {\"family\": \"Arial\", \"size\": 14, \"color\": \"black\"}, \"showarrow\": false}, {\"xref\": \"x1\", \"yref\": \"y1\", \"x\": 42.5, \"y\": 1, \"text\": \"\\uc601\", \"align\": \"left\", \"font\": {\"family\": \"Arial\", \"size\": 14, \"color\": \"black\"}, \"showarrow\": false}, {\"xref\": \"x1\", \"yref\": \"y1\", \"x\": 43.5, \"y\": 1, \"text\": \"\\uc0c1\", \"align\": \"left\", \"font\": {\"family\": \"Arial\", \"size\": 14, \"color\": \"black\"}, \"showarrow\": false}, {\"xref\": \"x1\", \"yref\": \"y1\", \"x\": 44.5, \"y\": 1, \"text\": \" \", \"align\": \"left\", \"font\": {\"family\": \"Arial\", \"size\": 14, \"color\": \"black\"}, \"showarrow\": false}, {\"xref\": \"x1\", \"yref\": \"y1\", \"x\": 45.5, \"y\": 1, \"text\": \"\\ucc3e\", \"align\": \"left\", \"font\": {\"family\": \"Arial\", \"size\": 14, \"color\": \"black\"}, \"showarrow\": false}, {\"xref\": \"x1\", \"yref\": \"y1\", \"x\": 46.5, \"y\": 1, \"text\": \"\\uace0\", \"align\": \"left\", \"font\": {\"family\": \"Arial\", \"size\": 14, \"color\": \"black\"}, \"showarrow\": false}, {\"xref\": \"x1\", \"yref\": \"y1\", \"x\": 47.5, \"y\": 1, \"text\": \" \", \"align\": \"left\", \"font\": {\"family\": \"Arial\", \"size\": 14, \"color\": \"black\"}, \"showarrow\": false}, {\"xref\": \"x1\", \"yref\": \"y1\", \"x\": 48.5, \"y\": 1, \"text\": \"\\uc788\", \"align\": \"left\", \"font\": {\"family\": \"Arial\", \"size\": 14, \"color\": \"black\"}, \"showarrow\": false}, {\"xref\": \"x1\", \"yref\": \"y1\", \"x\": 49.5, \"y\": 1, \"text\": \"\\ub098\", \"align\": \"left\", \"font\": {\"family\": \"Arial\", \"size\": 14, \"color\": \"black\"}, \"showarrow\": false}, {\"xref\": \"x2\", \"yref\": \"y2\", \"x\": 0.5, \"y\": 1, \"text\": \"\\uc694\", \"align\": \"left\", \"font\": {\"family\": \"Arial\", \"size\": 14, \"color\": \"black\"}, \"showarrow\": false}, {\"xref\": \"x2\", \"yref\": \"y2\", \"x\": 1.5, \"y\": 1, \"text\": \"?\", \"align\": \"left\", \"font\": {\"family\": \"Arial\", \"size\": 14, \"color\": \"black\"}, \"showarrow\": false}, {\"xref\": \"x2\", \"yref\": \"y2\", \"x\": 2.5, \"y\": 1, \"text\": \"\\u1172\", \"align\": \"left\", \"font\": {\"family\": \"Arial\", \"size\": 14, \"color\": \"black\"}, \"showarrow\": false}, {\"xref\": \"x2\", \"yref\": \"y2\", \"x\": 3.5, \"y\": 1, \"text\": \"\\u1172\", \"align\": \"left\", \"font\": {\"family\": \"Arial\", \"size\": 14, \"color\": \"black\"}, \"showarrow\": false}, {\"xref\": \"x2\", \"yref\": \"y2\", \"x\": 4.5, \"y\": 1, \"text\": \"\\u1172\", \"align\": \"left\", \"font\": {\"family\": \"Arial\", \"size\": 14, \"color\": \"black\"}, \"showarrow\": false}, {\"xref\": \"x2\", \"yref\": \"y2\", \"x\": 5.5, \"y\": 1, \"text\": \"\\u1172\", \"align\": \"left\", \"font\": {\"family\": \"Arial\", \"size\": 14, \"color\": \"black\"}, \"showarrow\": false}], \"height\": 130, \"images\": [{\"source\": \"https://raw.githubusercontent.com/fingeredman/teanaps/master/data/logo/teanaps_logo_no-bg.png\", \"xref\": \"paper\", \"yref\": \"paper\", \"x\": 0.5, \"y\": 0.6, \"sizex\": 0.7, \"sizey\": 0.7, \"xanchor\": \"center\", \"yanchor\": \"center\", \"opacity\": 0.3, \"layer\": \"above\"}]}, {\"showLink\": true, \"linkText\": \"Export to plot.ly\"})});</script>"
      ],
      "text/vnd.plotly.v1+html": [
       "<div id=\"ac17a4ee-f822-4211-8339-1f9b8f52b0aa\" style=\"height: 130px; width: 100%;\" class=\"plotly-graph-div\"></div><script type=\"text/javascript\">require([\"plotly\"], function(Plotly) { window.PLOTLYENV=window.PLOTLYENV || {};window.PLOTLYENV.BASE_URL=\"https://plot.ly\";Plotly.newPlot(\"ac17a4ee-f822-4211-8339-1f9b8f52b0aa\", [{\"type\": \"bar\", \"y\": [1], \"x\": [2], \"orientation\": \"h\", \"width\": 0.5, \"text\": \"0.0\", \"hoverinfo\": \"text\", \"marker\": {\"color\": \"rgb(254.072494543174, 254.536247271587, 255)\"}, \"xaxis\": \"x1\", \"yaxis\": \"y1\"}, {\"type\": \"bar\", \"y\": [1], \"x\": [1], \"orientation\": \"h\", \"width\": 0.5, \"text\": \"0.04\", \"hoverinfo\": \"text\", \"marker\": {\"color\": \"rgb(247.93034471625327, 251.46517235812664, 255)\"}, \"xaxis\": \"x1\", \"yaxis\": \"y1\"}, {\"type\": \"bar\", \"y\": [1], \"x\": [2], \"orientation\": \"h\", \"width\": 0.5, \"text\": \"1.0\", \"hoverinfo\": \"text\", \"marker\": {\"color\": \"rgb(55.0, 155.0, 255)\"}, \"xaxis\": \"x1\", \"yaxis\": \"y1\"}, {\"type\": \"bar\", \"y\": [1], \"x\": [1], \"orientation\": \"h\", \"width\": 0.5, \"text\": \"0.5\", \"hoverinfo\": \"text\", \"marker\": {\"color\": \"rgb(155.7795917438739, 205.38979587193694, 255)\"}, \"xaxis\": \"x1\", \"yaxis\": \"y1\"}, {\"type\": \"bar\", \"y\": [1], \"x\": [1], \"orientation\": \"h\", \"width\": 0.5, \"text\": \"0.31\", \"hoverinfo\": \"text\", \"marker\": {\"color\": \"rgb(193.55994001649398, 224.279970008247, 255)\"}, \"xaxis\": \"x1\", \"yaxis\": \"y1\"}, {\"type\": \"bar\", \"y\": [1], \"x\": [1], \"orientation\": \"h\", \"width\": 0.5, \"text\": \"0.03\", \"hoverinfo\": \"text\", \"marker\": {\"color\": \"rgb(248.1796522924562, 251.58982614622812, 255)\"}, \"xaxis\": \"x1\", \"yaxis\": \"y1\"}, {\"type\": \"bar\", \"y\": [1], \"x\": [3], \"orientation\": \"h\", \"width\": 0.5, \"text\": \"1.0\", \"hoverinfo\": \"text\", \"marker\": {\"color\": \"rgb(55.890060874651056, 155.44503043732553, 255)\"}, \"xaxis\": \"x1\", \"yaxis\": \"y1\"}, {\"type\": \"bar\", \"y\": [1], \"x\": [1], \"orientation\": \"h\", \"width\": 0.5, \"text\": \"0.24\", \"hoverinfo\": \"text\", \"marker\": {\"color\": \"rgb(206.81113934576157, 230.90556967288077, 255)\"}, \"xaxis\": \"x1\", \"yaxis\": \"y1\"}, {\"type\": \"bar\", \"y\": [1], \"x\": [2], \"orientation\": \"h\", \"width\": 0.5, \"text\": \"0.06\", \"hoverinfo\": \"text\", \"marker\": {\"color\": \"rgb(242.4827756449159, 248.74138782245797, 255)\"}, \"xaxis\": \"x1\", \"yaxis\": \"y1\"}, {\"type\": \"bar\", \"y\": [1], \"x\": [3], \"orientation\": \"h\", \"width\": 0.5, \"text\": \"0.05\", \"hoverinfo\": \"text\", \"marker\": {\"color\": \"rgb(244.71377674081896, 249.85688837040948, 255)\"}, \"xaxis\": \"x1\", \"yaxis\": \"y1\"}, {\"type\": \"bar\", \"y\": [1], \"x\": [4], \"orientation\": \"h\", \"width\": 0.5, \"text\": \"0.03\", \"hoverinfo\": \"text\", \"marker\": {\"color\": \"rgb(249.8848680657726, 252.4424340328863, 255)\"}, \"xaxis\": \"x1\", \"yaxis\": \"y1\"}, {\"type\": \"bar\", \"y\": [1], \"x\": [1], \"orientation\": \"h\", \"width\": 0.5, \"text\": \"0.03\", \"hoverinfo\": \"text\", \"marker\": {\"color\": \"rgb(248.51374903318978, 251.75687451659488, 255)\"}, \"xaxis\": \"x1\", \"yaxis\": \"y1\"}, {\"type\": \"bar\", \"y\": [1], \"x\": [2], \"orientation\": \"h\", \"width\": 0.5, \"text\": \"0.04\", \"hoverinfo\": \"text\", \"marker\": {\"color\": \"rgb(246.80934329838811, 250.90467164919406, 255)\"}, \"xaxis\": \"x1\", \"yaxis\": \"y1\"}, {\"type\": \"bar\", \"y\": [1], \"x\": [2], \"orientation\": \"h\", \"width\": 0.5, \"text\": \"0.07\", \"hoverinfo\": \"text\", \"marker\": {\"color\": \"rgb(241.0172866120366, 248.0086433060183, 255)\"}, \"xaxis\": \"x1\", \"yaxis\": \"y1\"}, {\"type\": \"bar\", \"y\": [1], \"x\": [1], \"orientation\": \"h\", \"width\": 0.5, \"text\": \"0.05\", \"hoverinfo\": \"text\", \"marker\": {\"color\": \"rgb(245.36350873613705, 250.1817543680685, 255)\"}, \"xaxis\": \"x1\", \"yaxis\": \"y1\"}, {\"type\": \"bar\", \"y\": [1], \"x\": [2], \"orientation\": \"h\", \"width\": 0.5, \"text\": \"0.05\", \"hoverinfo\": \"text\", \"marker\": {\"color\": \"rgb(244.1915842316445, 249.59579211582223, 255)\"}, \"xaxis\": \"x1\", \"yaxis\": \"y1\"}, {\"type\": \"bar\", \"y\": [1], \"x\": [3], \"orientation\": \"h\", \"width\": 0.5, \"text\": \"0.04\", \"hoverinfo\": \"text\", \"marker\": {\"color\": \"rgb(246.37206828684225, 250.68603414342113, 255)\"}, \"xaxis\": \"x1\", \"yaxis\": \"y1\"}, {\"type\": \"bar\", \"y\": [1], \"x\": [3], \"orientation\": \"h\", \"width\": 0.5, \"text\": \"0.03\", \"hoverinfo\": \"text\", \"marker\": {\"color\": \"rgb(249.98162044170076, 252.4908102208504, 255)\"}, \"xaxis\": \"x1\", \"yaxis\": \"y1\"}, {\"type\": \"bar\", \"y\": [1], \"x\": [1], \"orientation\": \"h\", \"width\": 0.5, \"text\": \"0.02\", \"hoverinfo\": \"text\", \"marker\": {\"color\": \"rgb(250.8963207578396, 252.9481603789198, 255)\"}, \"xaxis\": \"x1\", \"yaxis\": \"y1\"}, {\"type\": \"bar\", \"y\": [1], \"x\": [1], \"orientation\": \"h\", \"width\": 0.5, \"text\": \"0.04\", \"hoverinfo\": \"text\", \"marker\": {\"color\": \"rgb(247.04655676343353, 251.02327838171675, 255)\"}, \"xaxis\": \"x1\", \"yaxis\": \"y1\"}, {\"type\": \"bar\", \"y\": [1], \"x\": [2], \"orientation\": \"h\", \"width\": 0.5, \"text\": \"0.04\", \"hoverinfo\": \"text\", \"marker\": {\"color\": \"rgb(247.09621910570598, 251.048109552853, 255)\"}, \"xaxis\": \"x1\", \"yaxis\": \"y1\"}, {\"type\": \"bar\", \"y\": [1], \"x\": [1], \"orientation\": \"h\", \"width\": 0.5, \"text\": \"0.05\", \"hoverinfo\": \"text\", \"marker\": {\"color\": \"rgb(244.73794442983842, 249.8689722149192, 255)\"}, \"xaxis\": \"x1\", \"yaxis\": \"y1\"}, {\"type\": \"bar\", \"y\": [1], \"x\": [1], \"orientation\": \"h\", \"width\": 0.5, \"text\": \"0.06\", \"hoverinfo\": \"text\", \"marker\": {\"color\": \"rgb(242.66696752051502, 248.8334837602575, 255)\"}, \"xaxis\": \"x1\", \"yaxis\": \"y1\"}, {\"type\": \"bar\", \"y\": [1], \"x\": [3], \"orientation\": \"h\", \"width\": 0.5, \"text\": \"0.05\", \"hoverinfo\": \"text\", \"marker\": {\"color\": \"rgb(244.64690698343136, 249.82345349171567, 255)\"}, \"xaxis\": \"x1\", \"yaxis\": \"y1\"}, {\"type\": \"bar\", \"y\": [1], \"x\": [1], \"orientation\": \"h\", \"width\": 0.5, \"text\": \"0.03\", \"hoverinfo\": \"text\", \"marker\": {\"color\": \"rgb(249.1567702341461, 252.07838511707305, 255)\"}, \"xaxis\": \"x1\", \"yaxis\": \"y1\"}, {\"type\": \"bar\", \"y\": [1], \"x\": [1], \"orientation\": \"h\", \"width\": 0.5, \"text\": \"0.01\", \"hoverinfo\": \"text\", \"marker\": {\"color\": \"rgb(252.50698583785743, 253.7534929189287, 255)\"}, \"xaxis\": \"x1\", \"yaxis\": \"y1\"}, {\"type\": \"bar\", \"y\": [1], \"x\": [1], \"orientation\": \"h\", \"width\": 0.5, \"text\": \"0.0\", \"hoverinfo\": \"text\", \"marker\": {\"color\": \"rgb(254.87917805372663, 254.9395890268633, 255)\"}, \"xaxis\": \"x1\", \"yaxis\": \"y1\"}, {\"type\": \"bar\", \"y\": [1], \"x\": [2], \"orientation\": \"h\", \"width\": 0.5, \"text\": \"0.01\", \"hoverinfo\": \"text\", \"marker\": {\"color\": \"rgb(252.8972471739409, 253.94862358697046, 255)\"}, \"xaxis\": \"x1\", \"yaxis\": \"y1\"}, {\"type\": \"bar\", \"y\": [1], \"x\": [1], \"orientation\": \"h\", \"width\": 0.5, \"text\": \"0.03\", \"hoverinfo\": \"text\", \"marker\": {\"color\": \"rgb(248.54866076917563, 251.7743303845878, 255)\"}, \"xaxis\": \"x1\", \"yaxis\": \"y1\"}, {\"type\": \"bar\", \"y\": [1], \"x\": [1], \"orientation\": \"h\", \"width\": 0.5, \"text\": \"0.05\", \"hoverinfo\": \"text\", \"marker\": {\"color\": \"rgb(244.9451161433017, 249.97255807165087, 255)\"}, \"xaxis\": \"x2\", \"yaxis\": \"y2\"}, {\"type\": \"bar\", \"y\": [1], \"x\": [1], \"orientation\": \"h\", \"width\": 0.5, \"text\": \"0.06\", \"hoverinfo\": \"text\", \"marker\": {\"color\": \"rgb(242.75329565555708, 248.87664782777856, 255)\"}, \"xaxis\": \"x2\", \"yaxis\": \"y2\"}, {\"type\": \"bar\", \"y\": [1], \"x\": [4], \"orientation\": \"h\", \"width\": 0.5, \"text\": \"0.13\", \"hoverinfo\": \"text\", \"marker\": {\"color\": \"rgb(228.70473917499024, 241.85236958749513, 255)\"}, \"xaxis\": \"x2\", \"yaxis\": \"y2\"}, {\"type\": \"bar\", \"y\": [1], \"x\": [1], \"orientation\": \"h\", \"width\": 0.5, \"text\": \"\", \"hoverinfo\": \"text\", \"marker\": {\"color\": \"rgb(255, 255, 255)\"}, \"xaxis\": \"x2\", \"yaxis\": \"y2\"}, {\"type\": \"bar\", \"y\": [1], \"x\": [1], \"orientation\": \"h\", \"width\": 0.5, \"text\": \"\", \"hoverinfo\": \"text\", \"marker\": {\"color\": \"rgb(255, 255, 255)\"}, \"xaxis\": \"x2\", \"yaxis\": \"y2\"}, {\"type\": \"bar\", \"y\": [1], \"x\": [1], \"orientation\": \"h\", \"width\": 0.5, \"text\": \"\", \"hoverinfo\": \"text\", \"marker\": {\"color\": \"rgb(255, 255, 255)\"}, \"xaxis\": \"x2\", \"yaxis\": \"y2\"}, {\"type\": \"bar\", \"y\": [1], \"x\": [1], \"orientation\": \"h\", \"width\": 0.5, \"text\": \"\", \"hoverinfo\": \"text\", \"marker\": {\"color\": \"rgb(255, 255, 255)\"}, \"xaxis\": \"x2\", \"yaxis\": \"y2\"}, {\"type\": \"bar\", \"y\": [1], \"x\": [1], \"orientation\": \"h\", \"width\": 0.5, \"text\": \"\", \"hoverinfo\": \"text\", \"marker\": {\"color\": \"rgb(255, 255, 255)\"}, \"xaxis\": \"x2\", \"yaxis\": \"y2\"}, {\"type\": \"bar\", \"y\": [1], \"x\": [1], \"orientation\": \"h\", \"width\": 0.5, \"text\": \"\", \"hoverinfo\": \"text\", \"marker\": {\"color\": \"rgb(255, 255, 255)\"}, \"xaxis\": \"x2\", \"yaxis\": \"y2\"}, {\"type\": \"bar\", \"y\": [1], \"x\": [1], \"orientation\": \"h\", \"width\": 0.5, \"text\": \"\", \"hoverinfo\": \"text\", \"marker\": {\"color\": \"rgb(255, 255, 255)\"}, \"xaxis\": \"x2\", \"yaxis\": \"y2\"}, {\"type\": \"bar\", \"y\": [1], \"x\": [1], \"orientation\": \"h\", \"width\": 0.5, \"text\": \"\", \"hoverinfo\": \"text\", \"marker\": {\"color\": \"rgb(255, 255, 255)\"}, \"xaxis\": \"x2\", \"yaxis\": \"y2\"}, {\"type\": \"bar\", \"y\": [1], \"x\": [1], \"orientation\": \"h\", \"width\": 0.5, \"text\": \"\", \"hoverinfo\": \"text\", \"marker\": {\"color\": \"rgb(255, 255, 255)\"}, \"xaxis\": \"x2\", \"yaxis\": \"y2\"}, {\"type\": \"bar\", \"y\": [1], \"x\": [1], \"orientation\": \"h\", \"width\": 0.5, \"text\": \"\", \"hoverinfo\": \"text\", \"marker\": {\"color\": \"rgb(255, 255, 255)\"}, \"xaxis\": \"x2\", \"yaxis\": \"y2\"}, {\"type\": \"bar\", \"y\": [1], \"x\": [1], \"orientation\": \"h\", \"width\": 0.5, \"text\": \"\", \"hoverinfo\": \"text\", \"marker\": {\"color\": \"rgb(255, 255, 255)\"}, \"xaxis\": \"x2\", \"yaxis\": \"y2\"}, {\"type\": \"bar\", \"y\": [1], \"x\": [1], \"orientation\": \"h\", \"width\": 0.5, \"text\": \"\", \"hoverinfo\": \"text\", \"marker\": {\"color\": \"rgb(255, 255, 255)\"}, \"xaxis\": \"x2\", \"yaxis\": \"y2\"}, {\"type\": \"bar\", \"y\": [1], \"x\": [1], \"orientation\": \"h\", \"width\": 0.5, \"text\": \"\", \"hoverinfo\": \"text\", \"marker\": {\"color\": \"rgb(255, 255, 255)\"}, \"xaxis\": \"x2\", \"yaxis\": \"y2\"}, {\"type\": \"bar\", \"y\": [1], \"x\": [1], \"orientation\": \"h\", \"width\": 0.5, \"text\": \"\", \"hoverinfo\": \"text\", \"marker\": {\"color\": \"rgb(255, 255, 255)\"}, \"xaxis\": \"x2\", \"yaxis\": \"y2\"}, {\"type\": \"bar\", \"y\": [1], \"x\": [1], \"orientation\": \"h\", \"width\": 0.5, \"text\": \"\", \"hoverinfo\": \"text\", \"marker\": {\"color\": \"rgb(255, 255, 255)\"}, \"xaxis\": \"x2\", \"yaxis\": \"y2\"}, {\"type\": \"bar\", \"y\": [1], \"x\": [1], \"orientation\": \"h\", \"width\": 0.5, \"text\": \"\", \"hoverinfo\": \"text\", \"marker\": {\"color\": \"rgb(255, 255, 255)\"}, \"xaxis\": \"x2\", \"yaxis\": \"y2\"}, {\"type\": \"bar\", \"y\": [1], \"x\": [1], \"orientation\": \"h\", \"width\": 0.5, \"text\": \"\", \"hoverinfo\": \"text\", \"marker\": {\"color\": \"rgb(255, 255, 255)\"}, \"xaxis\": \"x2\", \"yaxis\": \"y2\"}, {\"type\": \"bar\", \"y\": [1], \"x\": [1], \"orientation\": \"h\", \"width\": 0.5, \"text\": \"\", \"hoverinfo\": \"text\", \"marker\": {\"color\": \"rgb(255, 255, 255)\"}, \"xaxis\": \"x2\", \"yaxis\": \"y2\"}, {\"type\": \"bar\", \"y\": [1], \"x\": [1], \"orientation\": \"h\", \"width\": 0.5, \"text\": \"\", \"hoverinfo\": \"text\", \"marker\": {\"color\": \"rgb(255, 255, 255)\"}, \"xaxis\": \"x2\", \"yaxis\": \"y2\"}, {\"type\": \"bar\", \"y\": [1], \"x\": [1], \"orientation\": \"h\", \"width\": 0.5, \"text\": \"\", \"hoverinfo\": \"text\", \"marker\": {\"color\": \"rgb(255, 255, 255)\"}, \"xaxis\": \"x2\", \"yaxis\": \"y2\"}, {\"type\": \"bar\", \"y\": [1], \"x\": [1], \"orientation\": \"h\", \"width\": 0.5, \"text\": \"\", \"hoverinfo\": \"text\", \"marker\": {\"color\": \"rgb(255, 255, 255)\"}, \"xaxis\": \"x2\", \"yaxis\": \"y2\"}, {\"type\": \"bar\", \"y\": [1], \"x\": [1], \"orientation\": \"h\", \"width\": 0.5, \"text\": \"\", \"hoverinfo\": \"text\", \"marker\": {\"color\": \"rgb(255, 255, 255)\"}, \"xaxis\": \"x2\", \"yaxis\": \"y2\"}, {\"type\": \"bar\", \"y\": [1], \"x\": [1], \"orientation\": \"h\", \"width\": 0.5, \"text\": \"\", \"hoverinfo\": \"text\", \"marker\": {\"color\": \"rgb(255, 255, 255)\"}, \"xaxis\": \"x2\", \"yaxis\": \"y2\"}, {\"type\": \"bar\", \"y\": [1], \"x\": [1], \"orientation\": \"h\", \"width\": 0.5, \"text\": \"\", \"hoverinfo\": \"text\", \"marker\": {\"color\": \"rgb(255, 255, 255)\"}, \"xaxis\": \"x2\", \"yaxis\": \"y2\"}, {\"type\": \"bar\", \"y\": [1], \"x\": [1], \"orientation\": \"h\", \"width\": 0.5, \"text\": \"\", \"hoverinfo\": \"text\", \"marker\": {\"color\": \"rgb(255, 255, 255)\"}, \"xaxis\": \"x2\", \"yaxis\": \"y2\"}, {\"type\": \"bar\", \"y\": [1], \"x\": [1], \"orientation\": \"h\", \"width\": 0.5, \"text\": \"\", \"hoverinfo\": \"text\", \"marker\": {\"color\": \"rgb(255, 255, 255)\"}, \"xaxis\": \"x2\", \"yaxis\": \"y2\"}, {\"type\": \"bar\", \"y\": [1], \"x\": [1], \"orientation\": \"h\", \"width\": 0.5, \"text\": \"\", \"hoverinfo\": \"text\", \"marker\": {\"color\": \"rgb(255, 255, 255)\"}, \"xaxis\": \"x2\", \"yaxis\": \"y2\"}, {\"type\": \"bar\", \"y\": [1], \"x\": [1], \"orientation\": \"h\", \"width\": 0.5, \"text\": \"\", \"hoverinfo\": \"text\", \"marker\": {\"color\": \"rgb(255, 255, 255)\"}, \"xaxis\": \"x2\", \"yaxis\": \"y2\"}, {\"type\": \"bar\", \"y\": [1], \"x\": [1], \"orientation\": \"h\", \"width\": 0.5, \"text\": \"\", \"hoverinfo\": \"text\", \"marker\": {\"color\": \"rgb(255, 255, 255)\"}, \"xaxis\": \"x2\", \"yaxis\": \"y2\"}, {\"type\": \"bar\", \"y\": [1], \"x\": [1], \"orientation\": \"h\", \"width\": 0.5, \"text\": \"\", \"hoverinfo\": \"text\", \"marker\": {\"color\": \"rgb(255, 255, 255)\"}, \"xaxis\": \"x2\", \"yaxis\": \"y2\"}, {\"type\": \"bar\", \"y\": [1], \"x\": [1], \"orientation\": \"h\", \"width\": 0.5, \"text\": \"\", \"hoverinfo\": \"text\", \"marker\": {\"color\": \"rgb(255, 255, 255)\"}, \"xaxis\": \"x2\", \"yaxis\": \"y2\"}, {\"type\": \"bar\", \"y\": [1], \"x\": [1], \"orientation\": \"h\", \"width\": 0.5, \"text\": \"\", \"hoverinfo\": \"text\", \"marker\": {\"color\": \"rgb(255, 255, 255)\"}, \"xaxis\": \"x2\", \"yaxis\": \"y2\"}, {\"type\": \"bar\", \"y\": [1], \"x\": [1], \"orientation\": \"h\", \"width\": 0.5, \"text\": \"\", \"hoverinfo\": \"text\", \"marker\": {\"color\": \"rgb(255, 255, 255)\"}, \"xaxis\": \"x2\", \"yaxis\": \"y2\"}, {\"type\": \"bar\", \"y\": [1], \"x\": [1], \"orientation\": \"h\", \"width\": 0.5, \"text\": \"\", \"hoverinfo\": \"text\", \"marker\": {\"color\": \"rgb(255, 255, 255)\"}, \"xaxis\": \"x2\", \"yaxis\": \"y2\"}, {\"type\": \"bar\", \"y\": [1], \"x\": [1], \"orientation\": \"h\", \"width\": 0.5, \"text\": \"\", \"hoverinfo\": \"text\", \"marker\": {\"color\": \"rgb(255, 255, 255)\"}, \"xaxis\": \"x2\", \"yaxis\": \"y2\"}, {\"type\": \"bar\", \"y\": [1], \"x\": [1], \"orientation\": \"h\", \"width\": 0.5, \"text\": \"\", \"hoverinfo\": \"text\", \"marker\": {\"color\": \"rgb(255, 255, 255)\"}, \"xaxis\": \"x2\", \"yaxis\": \"y2\"}, {\"type\": \"bar\", \"y\": [1], \"x\": [1], \"orientation\": \"h\", \"width\": 0.5, \"text\": \"\", \"hoverinfo\": \"text\", \"marker\": {\"color\": \"rgb(255, 255, 255)\"}, \"xaxis\": \"x2\", \"yaxis\": \"y2\"}, {\"type\": \"bar\", \"y\": [1], \"x\": [1], \"orientation\": \"h\", \"width\": 0.5, \"text\": \"\", \"hoverinfo\": \"text\", \"marker\": {\"color\": \"rgb(255, 255, 255)\"}, \"xaxis\": \"x2\", \"yaxis\": \"y2\"}, {\"type\": \"bar\", \"y\": [1], \"x\": [1], \"orientation\": \"h\", \"width\": 0.5, \"text\": \"\", \"hoverinfo\": \"text\", \"marker\": {\"color\": \"rgb(255, 255, 255)\"}, \"xaxis\": \"x2\", \"yaxis\": \"y2\"}, {\"type\": \"bar\", \"y\": [1], \"x\": [1], \"orientation\": \"h\", \"width\": 0.5, \"text\": \"\", \"hoverinfo\": \"text\", \"marker\": {\"color\": \"rgb(255, 255, 255)\"}, \"xaxis\": \"x2\", \"yaxis\": \"y2\"}, {\"type\": \"bar\", \"y\": [1], \"x\": [1], \"orientation\": \"h\", \"width\": 0.5, \"text\": \"\", \"hoverinfo\": \"text\", \"marker\": {\"color\": \"rgb(255, 255, 255)\"}, \"xaxis\": \"x2\", \"yaxis\": \"y2\"}, {\"type\": \"bar\", \"y\": [1], \"x\": [1], \"orientation\": \"h\", \"width\": 0.5, \"text\": \"\", \"hoverinfo\": \"text\", \"marker\": {\"color\": \"rgb(255, 255, 255)\"}, \"xaxis\": \"x2\", \"yaxis\": \"y2\"}, {\"type\": \"bar\", \"y\": [1], \"x\": [1], \"orientation\": \"h\", \"width\": 0.5, \"text\": \"\", \"hoverinfo\": \"text\", \"marker\": {\"color\": \"rgb(255, 255, 255)\"}, \"xaxis\": \"x2\", \"yaxis\": \"y2\"}, {\"type\": \"bar\", \"y\": [1], \"x\": [1], \"orientation\": \"h\", \"width\": 0.5, \"text\": \"\", \"hoverinfo\": \"text\", \"marker\": {\"color\": \"rgb(255, 255, 255)\"}, \"xaxis\": \"x2\", \"yaxis\": \"y2\"}], {\"xaxis1\": {\"domain\": [0.0, 1.0], \"anchor\": \"y1\", \"showgrid\": false, \"showline\": false, \"showticklabels\": false, \"zeroline\": false}, \"yaxis1\": {\"domain\": [0.575, 1.0], \"anchor\": \"x1\", \"showgrid\": false, \"showline\": false, \"showticklabels\": false, \"zeroline\": false}, \"xaxis2\": {\"domain\": [0.0, 1.0], \"anchor\": \"y2\", \"showgrid\": false, \"showline\": false, \"showticklabels\": false, \"zeroline\": false}, \"yaxis2\": {\"domain\": [0.0, 0.425], \"anchor\": \"x2\", \"showgrid\": false, \"showline\": false, \"showticklabels\": false, \"zeroline\": false}, \"barmode\": \"stack\", \"showlegend\": false, \"margin\": {\"b\": 30, \"l\": 20, \"r\": 20, \"t\": 10}, \"annotations\": [{\"xref\": \"x1\", \"yref\": \"y1\", \"x\": 0.5, \"y\": 1, \"text\": \" \", \"align\": \"left\", \"font\": {\"family\": \"Arial\", \"size\": 14, \"color\": \"black\"}, \"showarrow\": false}, {\"xref\": \"x1\", \"yref\": \"y1\", \"x\": 1.5, \"y\": 1, \"text\": \"\\uc800\", \"align\": \"left\", \"font\": {\"family\": \"Arial\", \"size\": 14, \"color\": \"black\"}, \"showarrow\": false}, {\"xref\": \"x1\", \"yref\": \"y1\", \"x\": 2.5, \"y\": 1, \"text\": \"\\ub9cc\", \"align\": \"left\", \"font\": {\"family\": \"Arial\", \"size\": 14, \"color\": \"black\"}, \"showarrow\": false}, {\"xref\": \"x1\", \"yref\": \"y1\", \"x\": 3.5, \"y\": 1, \"text\": \" \", \"align\": \"left\", \"font\": {\"family\": \"Arial\", \"size\": 14, \"color\": \"black\"}, \"showarrow\": false}, {\"xref\": \"x1\", \"yref\": \"y1\", \"x\": 4.5, \"y\": 1, \"text\": \"\\uc0ac\", \"align\": \"left\", \"font\": {\"family\": \"Arial\", \"size\": 14, \"color\": \"black\"}, \"showarrow\": false}, {\"xref\": \"x1\", \"yref\": \"y1\", \"x\": 5.5, \"y\": 1, \"text\": \"\\ud61c\", \"align\": \"left\", \"font\": {\"family\": \"Arial\", \"size\": 14, \"color\": \"black\"}, \"showarrow\": false}, {\"xref\": \"x1\", \"yref\": \"y1\", \"x\": 6.5, \"y\": 1, \"text\": \"\\uc900\", \"align\": \"left\", \"font\": {\"family\": \"Arial\", \"size\": 14, \"color\": \"black\"}, \"showarrow\": false}, {\"xref\": \"x1\", \"yref\": \"y1\", \"x\": 7.5, \"y\": 1, \"text\": \"\\uc774\", \"align\": \"left\", \"font\": {\"family\": \"Arial\", \"size\": 14, \"color\": \"black\"}, \"showarrow\": false}, {\"xref\": \"x1\", \"yref\": \"y1\", \"x\": 8.5, \"y\": 1, \"text\": \" \", \"align\": \"left\", \"font\": {\"family\": \"Arial\", \"size\": 14, \"color\": \"black\"}, \"showarrow\": false}, {\"xref\": \"x1\", \"yref\": \"y1\", \"x\": 9.5, \"y\": 1, \"text\": \"\\uc548\", \"align\": \"left\", \"font\": {\"family\": \"Arial\", \"size\": 14, \"color\": \"black\"}, \"showarrow\": false}, {\"xref\": \"x1\", \"yref\": \"y1\", \"x\": 10.5, \"y\": 1, \"text\": \"\\uc815\", \"align\": \"left\", \"font\": {\"family\": \"Arial\", \"size\": 14, \"color\": \"black\"}, \"showarrow\": false}, {\"xref\": \"x1\", \"yref\": \"y1\", \"x\": 11.5, \"y\": 1, \"text\": \"\\ud558\", \"align\": \"left\", \"font\": {\"family\": \"Arial\", \"size\": 14, \"color\": \"black\"}, \"showarrow\": false}, {\"xref\": \"x1\", \"yref\": \"y1\", \"x\": 12.5, \"y\": 1, \"text\": \"\\ud55c\", \"align\": \"left\", \"font\": {\"family\": \"Arial\", \"size\": 14, \"color\": \"black\"}, \"showarrow\": false}, {\"xref\": \"x1\", \"yref\": \"y1\", \"x\": 13.5, \"y\": 1, \"text\": \"\\ud14c\", \"align\": \"left\", \"font\": {\"family\": \"Arial\", \"size\": 14, \"color\": \"black\"}, \"showarrow\": false}, {\"xref\": \"x1\", \"yref\": \"y1\", \"x\": 14.5, \"y\": 1, \"text\": \" \", \"align\": \"left\", \"font\": {\"family\": \"Arial\", \"size\": 14, \"color\": \"black\"}, \"showarrow\": false}, {\"xref\": \"x1\", \"yref\": \"y1\", \"x\": 15.5, \"y\": 1, \"text\": \"\\uc790\", \"align\": \"left\", \"font\": {\"family\": \"Arial\", \"size\": 14, \"color\": \"black\"}, \"showarrow\": false}, {\"xref\": \"x1\", \"yref\": \"y1\", \"x\": 16.5, \"y\": 1, \"text\": \"\\uae30\", \"align\": \"left\", \"font\": {\"family\": \"Arial\", \"size\": 14, \"color\": \"black\"}, \"showarrow\": false}, {\"xref\": \"x1\", \"yref\": \"y1\", \"x\": 17.5, \"y\": 1, \"text\": \" \", \"align\": \"left\", \"font\": {\"family\": \"Arial\", \"size\": 14, \"color\": \"black\"}, \"showarrow\": false}, {\"xref\": \"x1\", \"yref\": \"y1\", \"x\": 18.5, \"y\": 1, \"text\": \"\\uc55e\", \"align\": \"left\", \"font\": {\"family\": \"Arial\", \"size\": 14, \"color\": \"black\"}, \"showarrow\": false}, {\"xref\": \"x1\", \"yref\": \"y1\", \"x\": 19.5, \"y\": 1, \"text\": \"\\uc5d0\", \"align\": \"left\", \"font\": {\"family\": \"Arial\", \"size\": 14, \"color\": \"black\"}, \"showarrow\": false}, {\"xref\": \"x1\", \"yref\": \"y1\", \"x\": 20.5, \"y\": 1, \"text\": \"\\uc11c\", \"align\": \"left\", \"font\": {\"family\": \"Arial\", \"size\": 14, \"color\": \"black\"}, \"showarrow\": false}, {\"xref\": \"x1\", \"yref\": \"y1\", \"x\": 21.5, \"y\": 1, \"text\": \"\\ub9cc\", \"align\": \"left\", \"font\": {\"family\": \"Arial\", \"size\": 14, \"color\": \"black\"}, \"showarrow\": false}, {\"xref\": \"x1\", \"yref\": \"y1\", \"x\": 22.5, \"y\": 1, \"text\": \" \", \"align\": \"left\", \"font\": {\"family\": \"Arial\", \"size\": 14, \"color\": \"black\"}, \"showarrow\": false}, {\"xref\": \"x1\", \"yref\": \"y1\", \"x\": 23.5, \"y\": 1, \"text\": \"\\uc220\", \"align\": \"left\", \"font\": {\"family\": \"Arial\", \"size\": 14, \"color\": \"black\"}, \"showarrow\": false}, {\"xref\": \"x1\", \"yref\": \"y1\", \"x\": 24.5, \"y\": 1, \"text\": \" \", \"align\": \"left\", \"font\": {\"family\": \"Arial\", \"size\": 14, \"color\": \"black\"}, \"showarrow\": false}, {\"xref\": \"x1\", \"yref\": \"y1\", \"x\": 25.5, \"y\": 1, \"text\": \"\\uba39\", \"align\": \"left\", \"font\": {\"family\": \"Arial\", \"size\": 14, \"color\": \"black\"}, \"showarrow\": false}, {\"xref\": \"x1\", \"yref\": \"y1\", \"x\": 26.5, \"y\": 1, \"text\": \"\\uc73c\", \"align\": \"left\", \"font\": {\"family\": \"Arial\", \"size\": 14, \"color\": \"black\"}, \"showarrow\": false}, {\"xref\": \"x1\", \"yref\": \"y1\", \"x\": 27.5, \"y\": 1, \"text\": \"\\ub77c\", \"align\": \"left\", \"font\": {\"family\": \"Arial\", \"size\": 14, \"color\": \"black\"}, \"showarrow\": false}, {\"xref\": \"x1\", \"yref\": \"y1\", \"x\": 28.5, \"y\": 1, \"text\": \"\\uace0\", \"align\": \"left\", \"font\": {\"family\": \"Arial\", \"size\": 14, \"color\": \"black\"}, \"showarrow\": false}, {\"xref\": \"x1\", \"yref\": \"y1\", \"x\": 29.5, \"y\": 1, \"text\": \" \", \"align\": \"left\", \"font\": {\"family\": \"Arial\", \"size\": 14, \"color\": \"black\"}, \"showarrow\": false}, {\"xref\": \"x1\", \"yref\": \"y1\", \"x\": 30.5, \"y\": 1, \"text\": \"\\ub108\", \"align\": \"left\", \"font\": {\"family\": \"Arial\", \"size\": 14, \"color\": \"black\"}, \"showarrow\": false}, {\"xref\": \"x1\", \"yref\": \"y1\", \"x\": 31.5, \"y\": 1, \"text\": \"\\ubb34\", \"align\": \"left\", \"font\": {\"family\": \"Arial\", \"size\": 14, \"color\": \"black\"}, \"showarrow\": false}, {\"xref\": \"x1\", \"yref\": \"y1\", \"x\": 32.5, \"y\": 1, \"text\": \" \", \"align\": \"left\", \"font\": {\"family\": \"Arial\", \"size\": 14, \"color\": \"black\"}, \"showarrow\": false}, {\"xref\": \"x1\", \"yref\": \"y1\", \"x\": 33.5, \"y\": 1, \"text\": \"\\uadc0\", \"align\": \"left\", \"font\": {\"family\": \"Arial\", \"size\": 14, \"color\": \"black\"}, \"showarrow\": false}, {\"xref\": \"x1\", \"yref\": \"y1\", \"x\": 34.5, \"y\": 1, \"text\": \"\\uc5fd\", \"align\": \"left\", \"font\": {\"family\": \"Arial\", \"size\": 14, \"color\": \"black\"}, \"showarrow\": false}, {\"xref\": \"x1\", \"yref\": \"y1\", \"x\": 35.5, \"y\": 1, \"text\": \"\\ub2e4\", \"align\": \"left\", \"font\": {\"family\": \"Arial\", \"size\": 14, \"color\": \"black\"}, \"showarrow\": false}, {\"xref\": \"x1\", \"yref\": \"y1\", \"x\": 36.5, \"y\": 1, \"text\": \"\\uace0\", \"align\": \"left\", \"font\": {\"family\": \"Arial\", \"size\": 14, \"color\": \"black\"}, \"showarrow\": false}, {\"xref\": \"x1\", \"yref\": \"y1\", \"x\": 37.5, \"y\": 1, \"text\": \" \", \"align\": \"left\", \"font\": {\"family\": \"Arial\", \"size\": 14, \"color\": \"black\"}, \"showarrow\": false}, {\"xref\": \"x1\", \"yref\": \"y1\", \"x\": 38.5, \"y\": 1, \"text\": \"\\ub9d0\", \"align\": \"left\", \"font\": {\"family\": \"Arial\", \"size\": 14, \"color\": \"black\"}, \"showarrow\": false}, {\"xref\": \"x1\", \"yref\": \"y1\", \"x\": 39.5, \"y\": 1, \"text\": \"\\ud558\", \"align\": \"left\", \"font\": {\"family\": \"Arial\", \"size\": 14, \"color\": \"black\"}, \"showarrow\": false}, {\"xref\": \"x1\", \"yref\": \"y1\", \"x\": 40.5, \"y\": 1, \"text\": \"\\ub294\", \"align\": \"left\", \"font\": {\"family\": \"Arial\", \"size\": 14, \"color\": \"black\"}, \"showarrow\": false}, {\"xref\": \"x1\", \"yref\": \"y1\", \"x\": 41.5, \"y\": 1, \"text\": \" \", \"align\": \"left\", \"font\": {\"family\": \"Arial\", \"size\": 14, \"color\": \"black\"}, \"showarrow\": false}, {\"xref\": \"x1\", \"yref\": \"y1\", \"x\": 42.5, \"y\": 1, \"text\": \"\\uc601\", \"align\": \"left\", \"font\": {\"family\": \"Arial\", \"size\": 14, \"color\": \"black\"}, \"showarrow\": false}, {\"xref\": \"x1\", \"yref\": \"y1\", \"x\": 43.5, \"y\": 1, \"text\": \"\\uc0c1\", \"align\": \"left\", \"font\": {\"family\": \"Arial\", \"size\": 14, \"color\": \"black\"}, \"showarrow\": false}, {\"xref\": \"x1\", \"yref\": \"y1\", \"x\": 44.5, \"y\": 1, \"text\": \" \", \"align\": \"left\", \"font\": {\"family\": \"Arial\", \"size\": 14, \"color\": \"black\"}, \"showarrow\": false}, {\"xref\": \"x1\", \"yref\": \"y1\", \"x\": 45.5, \"y\": 1, \"text\": \"\\ucc3e\", \"align\": \"left\", \"font\": {\"family\": \"Arial\", \"size\": 14, \"color\": \"black\"}, \"showarrow\": false}, {\"xref\": \"x1\", \"yref\": \"y1\", \"x\": 46.5, \"y\": 1, \"text\": \"\\uace0\", \"align\": \"left\", \"font\": {\"family\": \"Arial\", \"size\": 14, \"color\": \"black\"}, \"showarrow\": false}, {\"xref\": \"x1\", \"yref\": \"y1\", \"x\": 47.5, \"y\": 1, \"text\": \" \", \"align\": \"left\", \"font\": {\"family\": \"Arial\", \"size\": 14, \"color\": \"black\"}, \"showarrow\": false}, {\"xref\": \"x1\", \"yref\": \"y1\", \"x\": 48.5, \"y\": 1, \"text\": \"\\uc788\", \"align\": \"left\", \"font\": {\"family\": \"Arial\", \"size\": 14, \"color\": \"black\"}, \"showarrow\": false}, {\"xref\": \"x1\", \"yref\": \"y1\", \"x\": 49.5, \"y\": 1, \"text\": \"\\ub098\", \"align\": \"left\", \"font\": {\"family\": \"Arial\", \"size\": 14, \"color\": \"black\"}, \"showarrow\": false}, {\"xref\": \"x2\", \"yref\": \"y2\", \"x\": 0.5, \"y\": 1, \"text\": \"\\uc694\", \"align\": \"left\", \"font\": {\"family\": \"Arial\", \"size\": 14, \"color\": \"black\"}, \"showarrow\": false}, {\"xref\": \"x2\", \"yref\": \"y2\", \"x\": 1.5, \"y\": 1, \"text\": \"?\", \"align\": \"left\", \"font\": {\"family\": \"Arial\", \"size\": 14, \"color\": \"black\"}, \"showarrow\": false}, {\"xref\": \"x2\", \"yref\": \"y2\", \"x\": 2.5, \"y\": 1, \"text\": \"\\u1172\", \"align\": \"left\", \"font\": {\"family\": \"Arial\", \"size\": 14, \"color\": \"black\"}, \"showarrow\": false}, {\"xref\": \"x2\", \"yref\": \"y2\", \"x\": 3.5, \"y\": 1, \"text\": \"\\u1172\", \"align\": \"left\", \"font\": {\"family\": \"Arial\", \"size\": 14, \"color\": \"black\"}, \"showarrow\": false}, {\"xref\": \"x2\", \"yref\": \"y2\", \"x\": 4.5, \"y\": 1, \"text\": \"\\u1172\", \"align\": \"left\", \"font\": {\"family\": \"Arial\", \"size\": 14, \"color\": \"black\"}, \"showarrow\": false}, {\"xref\": \"x2\", \"yref\": \"y2\", \"x\": 5.5, \"y\": 1, \"text\": \"\\u1172\", \"align\": \"left\", \"font\": {\"family\": \"Arial\", \"size\": 14, \"color\": \"black\"}, \"showarrow\": false}], \"height\": 130, \"images\": [{\"source\": \"https://raw.githubusercontent.com/fingeredman/teanaps/master/data/logo/teanaps_logo_no-bg.png\", \"xref\": \"paper\", \"yref\": \"paper\", \"x\": 0.5, \"y\": 0.6, \"sizex\": 0.7, \"sizey\": 0.7, \"xanchor\": \"center\", \"yanchor\": \"center\", \"opacity\": 0.3, \"layer\": \"above\"}]}, {\"showLink\": true, \"linkText\": \"Export to plot.ly\"})});</script>"
      ]
     },
     "metadata": {},
     "output_type": "display_data"
    }
   ],
   "source": [
    "input_text = \"저만 사혜준이 안정하한테 자기 앞에서만 술 먹으라고 너무 귀엽다고 말하는 영상 찾고 있나요?ㅠㅠㅠㅠ\"\n",
    "\n",
    "result = ner.parse(input_text)\n",
    "print(result)\n",
    "result = ner.parse_sentence(input_text)\n",
    "print(result)\n",
    "ner.draw_sentence_weight(input_text)"
   ]
  },
  {
   "cell_type": "code",
   "execution_count": 12,
   "metadata": {},
   "outputs": [
    {
     "name": "stdout",
     "output_type": "stream",
     "text": [
      "[('영국', 'LC', (0, 2)), ('스카이 스포츠', 'UN', (6, 13)), ('25일', 'DT', (15, 18)), ('맨유', 'OG', (19, 21)), ('폴 포그바', 'PS', (27, 32)), ('1월에', 'DT', (48, 51)), ('레알 마드리드', 'OG', (52, 59))]\n",
      "<영국:LC> 매체 <스카이 스포츠:UN>는 <25일:DT> <맨유:OG> 미드필더 <폴 포그바:PS>가 여름 이적시장 실패 후, <1월에:DT> <레알 마드리드:OG>로 이적할 수 있다고 전했다.\n"
     ]
    },
    {
     "data": {
      "text/html": [
       "\n",
       "                <script src=\"/static/components/requirejs/require.js\"></script>\n",
       "                <script>\n",
       "                  requirejs.config({\n",
       "                    paths: {\n",
       "                      base: '/static/base',\n",
       "                      plotly: 'https://cdn.plot.ly/plotly-latest.min.js?noext',\n",
       "                    },\n",
       "                  });\n",
       "                </script>\n",
       "                "
      ],
      "text/plain": [
       "<IPython.core.display.HTML object>"
      ]
     },
     "metadata": {},
     "output_type": "display_data"
    },
    {
     "data": {
      "text/html": [
       "\n",
       "                <script src=\"/static/components/requirejs/require.js\"></script>\n",
       "                <script>\n",
       "                  requirejs.config({\n",
       "                    paths: {\n",
       "                      base: '/static/base',\n",
       "                      plotly: 'https://cdn.plot.ly/plotly-latest.min.js?noext',\n",
       "                    },\n",
       "                  });\n",
       "                </script>\n",
       "                "
      ],
      "text/plain": [
       "<IPython.core.display.HTML object>"
      ]
     },
     "metadata": {},
     "output_type": "display_data"
    },
    {
     "data": {
      "application/vnd.plotly.v1+json": {
       "data": [
        {
         "hoverinfo": "text",
         "marker": {
          "color": "rgb(129.28384034267748, 192.14192017133874, 255)"
         },
         "orientation": "h",
         "text": "0.63",
         "type": "bar",
         "width": 0.5,
         "x": [
          3
         ],
         "xaxis": "x1",
         "y": [
          1
         ],
         "yaxis": "y1"
        },
        {
         "hoverinfo": "text",
         "marker": {
          "color": "rgb(225.7055553584065, 240.35277767920326, 255)"
         },
         "orientation": "h",
         "text": "0.15",
         "type": "bar",
         "width": 0.5,
         "x": [
          3
         ],
         "xaxis": "x1",
         "y": [
          1
         ],
         "yaxis": "y1"
        },
        {
         "hoverinfo": "text",
         "marker": {
          "color": "rgb(249.99427253048214, 252.49713626524107, 255)"
         },
         "orientation": "h",
         "text": "0.03",
         "type": "bar",
         "width": 0.5,
         "x": [
          1
         ],
         "xaxis": "x1",
         "y": [
          1
         ],
         "yaxis": "y1"
        },
        {
         "hoverinfo": "text",
         "marker": {
          "color": "rgb(219.66547820586953, 237.33273910293477, 255)"
         },
         "orientation": "h",
         "text": "0.18",
         "type": "bar",
         "width": 0.5,
         "x": [
          2
         ],
         "xaxis": "x1",
         "y": [
          1
         ],
         "yaxis": "y1"
        },
        {
         "hoverinfo": "text",
         "marker": {
          "color": "rgb(210.67044009927963, 232.83522004963982, 255)"
         },
         "orientation": "h",
         "text": "0.22",
         "type": "bar",
         "width": 0.5,
         "x": [
          1
         ],
         "xaxis": "x1",
         "y": [
          1
         ],
         "yaxis": "y1"
        },
        {
         "hoverinfo": "text",
         "marker": {
          "color": "rgb(213.19629225280815, 234.0981461264041, 255)"
         },
         "orientation": "h",
         "text": "0.21",
         "type": "bar",
         "width": 0.5,
         "x": [
          4
         ],
         "xaxis": "x1",
         "y": [
          1
         ],
         "yaxis": "y1"
        },
        {
         "hoverinfo": "text",
         "marker": {
          "color": "rgb(235.72976572431745, 245.36488286215874, 255)"
         },
         "orientation": "h",
         "text": "0.1",
         "type": "bar",
         "width": 0.5,
         "x": [
          1
         ],
         "xaxis": "x1",
         "y": [
          1
         ],
         "yaxis": "y1"
        },
        {
         "hoverinfo": "text",
         "marker": {
          "color": "rgb(157.93827588294357, 206.46913794147179, 255)"
         },
         "orientation": "h",
         "text": "0.49",
         "type": "bar",
         "width": 0.5,
         "x": [
          3
         ],
         "xaxis": "x1",
         "y": [
          1
         ],
         "yaxis": "y1"
        },
        {
         "hoverinfo": "text",
         "marker": {
          "color": "rgb(232.99218037327967, 243.99609018663983, 255)"
         },
         "orientation": "h",
         "text": "0.11",
         "type": "bar",
         "width": 0.5,
         "x": [
          1
         ],
         "xaxis": "x1",
         "y": [
          1
         ],
         "yaxis": "y1"
        },
        {
         "hoverinfo": "text",
         "marker": {
          "color": "rgb(179.87593179014343, 217.43796589507173, 255)"
         },
         "orientation": "h",
         "text": "0.38",
         "type": "bar",
         "width": 0.5,
         "x": [
          3
         ],
         "xaxis": "x1",
         "y": [
          1
         ],
         "yaxis": "y1"
        },
        {
         "hoverinfo": "text",
         "marker": {
          "color": "rgb(229.41165971890257, 242.20582985945128, 255)"
         },
         "orientation": "h",
         "text": "0.13",
         "type": "bar",
         "width": 0.5,
         "x": [
          5
         ],
         "xaxis": "x1",
         "y": [
          1
         ],
         "yaxis": "y1"
        },
        {
         "hoverinfo": "text",
         "marker": {
          "color": "rgb(55.0, 155.0, 255)"
         },
         "orientation": "h",
         "text": "1.0",
         "type": "bar",
         "width": 0.5,
         "x": [
          2
         ],
         "xaxis": "x1",
         "y": [
          1
         ],
         "yaxis": "y1"
        },
        {
         "hoverinfo": "text",
         "marker": {
          "color": "rgb(153.35224224560642, 204.1761211228032, 255)"
         },
         "orientation": "h",
         "text": "0.51",
         "type": "bar",
         "width": 0.5,
         "x": [
          2
         ],
         "xaxis": "x1",
         "y": [
          1
         ],
         "yaxis": "y1"
        },
        {
         "hoverinfo": "text",
         "marker": {
          "color": "rgb(182.22340627615847, 218.61170313807924, 255)"
         },
         "orientation": "h",
         "text": "0.36",
         "type": "bar",
         "width": 0.5,
         "x": [
          1
         ],
         "xaxis": "x1",
         "y": [
          1
         ],
         "yaxis": "y1"
        },
        {
         "hoverinfo": "text",
         "marker": {
          "color": "rgb(187.7736003056042, 221.3868001528021, 255)"
         },
         "orientation": "h",
         "text": "0.34",
         "type": "bar",
         "width": 0.5,
         "x": [
          1
         ],
         "xaxis": "x1",
         "y": [
          1
         ],
         "yaxis": "y1"
        },
        {
         "hoverinfo": "text",
         "marker": {
          "color": "rgb(240.71397930491744, 247.8569896524587, 255)"
         },
         "orientation": "h",
         "text": "0.07",
         "type": "bar",
         "width": 0.5,
         "x": [
          1
         ],
         "xaxis": "x1",
         "y": [
          1
         ],
         "yaxis": "y1"
        },
        {
         "hoverinfo": "text",
         "marker": {
          "color": "rgb(247.6003687498826, 251.3001843749413, 255)"
         },
         "orientation": "h",
         "text": "0.04",
         "type": "bar",
         "width": 0.5,
         "x": [
          3
         ],
         "xaxis": "x1",
         "y": [
          1
         ],
         "yaxis": "y1"
        },
        {
         "hoverinfo": "text",
         "marker": {
          "color": "rgb(240.83667709701055, 247.91833854850526, 255)"
         },
         "orientation": "h",
         "text": "0.07",
         "type": "bar",
         "width": 0.5,
         "x": [
          3
         ],
         "xaxis": "x1",
         "y": [
          1
         ],
         "yaxis": "y1"
        },
        {
         "hoverinfo": "text",
         "marker": {
          "color": "rgb(240.0389655798652, 247.5194827899326, 255)"
         },
         "orientation": "h",
         "text": "0.07",
         "type": "bar",
         "width": 0.5,
         "x": [
          2
         ],
         "xaxis": "x1",
         "y": [
          1
         ],
         "yaxis": "y1"
        },
        {
         "hoverinfo": "text",
         "marker": {
          "color": "rgb(254.55870150698985, 254.77935075349492, 255)"
         },
         "orientation": "h",
         "text": "0.0",
         "type": "bar",
         "width": 0.5,
         "x": [
          3
         ],
         "xaxis": "x1",
         "y": [
          1
         ],
         "yaxis": "y1"
        },
        {
         "hoverinfo": "text",
         "marker": {
          "color": "rgb(242.39546728845153, 248.69773364422576, 255)"
         },
         "orientation": "h",
         "text": "0.06",
         "type": "bar",
         "width": 0.5,
         "x": [
          2
         ],
         "xaxis": "x1",
         "y": [
          1
         ],
         "yaxis": "y1"
        },
        {
         "hoverinfo": "text",
         "marker": {
          "color": "rgb(249.7970007368735, 252.39850036843677, 255)"
         },
         "orientation": "h",
         "text": "0.03",
         "type": "bar",
         "width": 0.5,
         "x": [
          1
         ],
         "xaxis": "x1",
         "y": [
          1
         ],
         "yaxis": "y1"
        },
        {
         "hoverinfo": "text",
         "marker": {
          "color": "rgb(166.0904600971504, 210.5452300485752, 255)"
         },
         "orientation": "h",
         "text": "0.44",
         "type": "bar",
         "width": 0.5,
         "x": [
          2
         ],
         "xaxis": "x1",
         "y": [
          1
         ],
         "yaxis": "y1"
        },
        {
         "hoverinfo": "text",
         "marker": {
          "color": "rgb(252.4910414026899, 253.74552070134496, 255)"
         },
         "orientation": "h",
         "text": "0.01",
         "type": "bar",
         "width": 0.5,
         "x": [
          2
         ],
         "xaxis": "x2",
         "y": [
          1
         ],
         "yaxis": "y2"
        },
        {
         "hoverinfo": "text",
         "marker": {
          "color": "rgb(169.6618627244281, 212.33093136221405, 255)"
         },
         "orientation": "h",
         "text": "0.43",
         "type": "bar",
         "width": 0.5,
         "x": [
          3
         ],
         "xaxis": "x2",
         "y": [
          1
         ],
         "yaxis": "y2"
        },
        {
         "hoverinfo": "text",
         "marker": {
          "color": "rgb(201.9457030671056, 228.47285153355278, 255)"
         },
         "orientation": "h",
         "text": "0.27",
         "type": "bar",
         "width": 0.5,
         "x": [
          5
         ],
         "xaxis": "x2",
         "y": [
          1
         ],
         "yaxis": "y2"
        },
        {
         "hoverinfo": "text",
         "marker": {
          "color": "rgb(242.54927659059265, 248.7746382952963, 255)"
         },
         "orientation": "h",
         "text": "0.06",
         "type": "bar",
         "width": 0.5,
         "x": [
          1
         ],
         "xaxis": "x2",
         "y": [
          1
         ],
         "yaxis": "y2"
        },
        {
         "hoverinfo": "text",
         "marker": {
          "color": "rgb(243.8712934530979, 249.43564672654895, 255)"
         },
         "orientation": "h",
         "text": "0.06",
         "type": "bar",
         "width": 0.5,
         "x": [
          3
         ],
         "xaxis": "x2",
         "y": [
          1
         ],
         "yaxis": "y2"
        },
        {
         "hoverinfo": "text",
         "marker": {
          "color": "rgb(236.6590237782616, 245.8295118891308, 255)"
         },
         "orientation": "h",
         "text": "0.09",
         "type": "bar",
         "width": 0.5,
         "x": [
          1
         ],
         "xaxis": "x2",
         "y": [
          1
         ],
         "yaxis": "y2"
        },
        {
         "hoverinfo": "text",
         "marker": {
          "color": "rgb(235.52657441483265, 245.26328720741634, 255)"
         },
         "orientation": "h",
         "text": "0.1",
         "type": "bar",
         "width": 0.5,
         "x": [
          2
         ],
         "xaxis": "x2",
         "y": [
          1
         ],
         "yaxis": "y2"
        },
        {
         "hoverinfo": "text",
         "marker": {
          "color": "rgb(236.9702286395394, 245.9851143197697, 255)"
         },
         "orientation": "h",
         "text": "0.09",
         "type": "bar",
         "width": 0.5,
         "x": [
          4
         ],
         "xaxis": "x2",
         "y": [
          1
         ],
         "yaxis": "y2"
        },
        {
         "hoverinfo": "text",
         "marker": {
          "color": "rgb(242.23663033789722, 248.6183151689486, 255)"
         },
         "orientation": "h",
         "text": "0.06",
         "type": "bar",
         "width": 0.5,
         "x": [
          4
         ],
         "xaxis": "x2",
         "y": [
          1
         ],
         "yaxis": "y2"
        },
        {
         "hoverinfo": "text",
         "marker": {
          "color": "rgb(240.1341495999382, 247.5670747999691, 255)"
         },
         "orientation": "h",
         "text": "0.07",
         "type": "bar",
         "width": 0.5,
         "x": [
          1
         ],
         "xaxis": "x2",
         "y": [
          1
         ],
         "yaxis": "y2"
        },
        {
         "hoverinfo": "text",
         "marker": {
          "color": "rgb(255, 255, 255)"
         },
         "orientation": "h",
         "text": "",
         "type": "bar",
         "width": 0.5,
         "x": [
          1
         ],
         "xaxis": "x2",
         "y": [
          1
         ],
         "yaxis": "y2"
        },
        {
         "hoverinfo": "text",
         "marker": {
          "color": "rgb(255, 255, 255)"
         },
         "orientation": "h",
         "text": "",
         "type": "bar",
         "width": 0.5,
         "x": [
          1
         ],
         "xaxis": "x2",
         "y": [
          1
         ],
         "yaxis": "y2"
        },
        {
         "hoverinfo": "text",
         "marker": {
          "color": "rgb(255, 255, 255)"
         },
         "orientation": "h",
         "text": "",
         "type": "bar",
         "width": 0.5,
         "x": [
          1
         ],
         "xaxis": "x2",
         "y": [
          1
         ],
         "yaxis": "y2"
        },
        {
         "hoverinfo": "text",
         "marker": {
          "color": "rgb(255, 255, 255)"
         },
         "orientation": "h",
         "text": "",
         "type": "bar",
         "width": 0.5,
         "x": [
          1
         ],
         "xaxis": "x2",
         "y": [
          1
         ],
         "yaxis": "y2"
        },
        {
         "hoverinfo": "text",
         "marker": {
          "color": "rgb(255, 255, 255)"
         },
         "orientation": "h",
         "text": "",
         "type": "bar",
         "width": 0.5,
         "x": [
          1
         ],
         "xaxis": "x2",
         "y": [
          1
         ],
         "yaxis": "y2"
        },
        {
         "hoverinfo": "text",
         "marker": {
          "color": "rgb(255, 255, 255)"
         },
         "orientation": "h",
         "text": "",
         "type": "bar",
         "width": 0.5,
         "x": [
          1
         ],
         "xaxis": "x2",
         "y": [
          1
         ],
         "yaxis": "y2"
        },
        {
         "hoverinfo": "text",
         "marker": {
          "color": "rgb(255, 255, 255)"
         },
         "orientation": "h",
         "text": "",
         "type": "bar",
         "width": 0.5,
         "x": [
          1
         ],
         "xaxis": "x2",
         "y": [
          1
         ],
         "yaxis": "y2"
        },
        {
         "hoverinfo": "text",
         "marker": {
          "color": "rgb(255, 255, 255)"
         },
         "orientation": "h",
         "text": "",
         "type": "bar",
         "width": 0.5,
         "x": [
          1
         ],
         "xaxis": "x2",
         "y": [
          1
         ],
         "yaxis": "y2"
        },
        {
         "hoverinfo": "text",
         "marker": {
          "color": "rgb(255, 255, 255)"
         },
         "orientation": "h",
         "text": "",
         "type": "bar",
         "width": 0.5,
         "x": [
          1
         ],
         "xaxis": "x2",
         "y": [
          1
         ],
         "yaxis": "y2"
        },
        {
         "hoverinfo": "text",
         "marker": {
          "color": "rgb(255, 255, 255)"
         },
         "orientation": "h",
         "text": "",
         "type": "bar",
         "width": 0.5,
         "x": [
          1
         ],
         "xaxis": "x2",
         "y": [
          1
         ],
         "yaxis": "y2"
        },
        {
         "hoverinfo": "text",
         "marker": {
          "color": "rgb(255, 255, 255)"
         },
         "orientation": "h",
         "text": "",
         "type": "bar",
         "width": 0.5,
         "x": [
          1
         ],
         "xaxis": "x2",
         "y": [
          1
         ],
         "yaxis": "y2"
        },
        {
         "hoverinfo": "text",
         "marker": {
          "color": "rgb(255, 255, 255)"
         },
         "orientation": "h",
         "text": "",
         "type": "bar",
         "width": 0.5,
         "x": [
          1
         ],
         "xaxis": "x2",
         "y": [
          1
         ],
         "yaxis": "y2"
        },
        {
         "hoverinfo": "text",
         "marker": {
          "color": "rgb(255, 255, 255)"
         },
         "orientation": "h",
         "text": "",
         "type": "bar",
         "width": 0.5,
         "x": [
          1
         ],
         "xaxis": "x2",
         "y": [
          1
         ],
         "yaxis": "y2"
        },
        {
         "hoverinfo": "text",
         "marker": {
          "color": "rgb(255, 255, 255)"
         },
         "orientation": "h",
         "text": "",
         "type": "bar",
         "width": 0.5,
         "x": [
          1
         ],
         "xaxis": "x2",
         "y": [
          1
         ],
         "yaxis": "y2"
        },
        {
         "hoverinfo": "text",
         "marker": {
          "color": "rgb(255, 255, 255)"
         },
         "orientation": "h",
         "text": "",
         "type": "bar",
         "width": 0.5,
         "x": [
          1
         ],
         "xaxis": "x2",
         "y": [
          1
         ],
         "yaxis": "y2"
        },
        {
         "hoverinfo": "text",
         "marker": {
          "color": "rgb(255, 255, 255)"
         },
         "orientation": "h",
         "text": "",
         "type": "bar",
         "width": 0.5,
         "x": [
          1
         ],
         "xaxis": "x2",
         "y": [
          1
         ],
         "yaxis": "y2"
        },
        {
         "hoverinfo": "text",
         "marker": {
          "color": "rgb(255, 255, 255)"
         },
         "orientation": "h",
         "text": "",
         "type": "bar",
         "width": 0.5,
         "x": [
          1
         ],
         "xaxis": "x2",
         "y": [
          1
         ],
         "yaxis": "y2"
        },
        {
         "hoverinfo": "text",
         "marker": {
          "color": "rgb(255, 255, 255)"
         },
         "orientation": "h",
         "text": "",
         "type": "bar",
         "width": 0.5,
         "x": [
          1
         ],
         "xaxis": "x2",
         "y": [
          1
         ],
         "yaxis": "y2"
        },
        {
         "hoverinfo": "text",
         "marker": {
          "color": "rgb(255, 255, 255)"
         },
         "orientation": "h",
         "text": "",
         "type": "bar",
         "width": 0.5,
         "x": [
          1
         ],
         "xaxis": "x2",
         "y": [
          1
         ],
         "yaxis": "y2"
        },
        {
         "hoverinfo": "text",
         "marker": {
          "color": "rgb(255, 255, 255)"
         },
         "orientation": "h",
         "text": "",
         "type": "bar",
         "width": 0.5,
         "x": [
          1
         ],
         "xaxis": "x2",
         "y": [
          1
         ],
         "yaxis": "y2"
        },
        {
         "hoverinfo": "text",
         "marker": {
          "color": "rgb(255, 255, 255)"
         },
         "orientation": "h",
         "text": "",
         "type": "bar",
         "width": 0.5,
         "x": [
          1
         ],
         "xaxis": "x2",
         "y": [
          1
         ],
         "yaxis": "y2"
        },
        {
         "hoverinfo": "text",
         "marker": {
          "color": "rgb(255, 255, 255)"
         },
         "orientation": "h",
         "text": "",
         "type": "bar",
         "width": 0.5,
         "x": [
          1
         ],
         "xaxis": "x2",
         "y": [
          1
         ],
         "yaxis": "y2"
        },
        {
         "hoverinfo": "text",
         "marker": {
          "color": "rgb(255, 255, 255)"
         },
         "orientation": "h",
         "text": "",
         "type": "bar",
         "width": 0.5,
         "x": [
          1
         ],
         "xaxis": "x2",
         "y": [
          1
         ],
         "yaxis": "y2"
        },
        {
         "hoverinfo": "text",
         "marker": {
          "color": "rgb(255, 255, 255)"
         },
         "orientation": "h",
         "text": "",
         "type": "bar",
         "width": 0.5,
         "x": [
          1
         ],
         "xaxis": "x2",
         "y": [
          1
         ],
         "yaxis": "y2"
        }
       ],
       "layout": {
        "annotations": [
         {
          "align": "left",
          "font": {
           "color": "black",
           "family": "Arial",
           "size": 14
          },
          "showarrow": false,
          "text": " ",
          "x": 0.5,
          "xref": "x1",
          "y": 1,
          "yref": "y1"
         },
         {
          "align": "left",
          "font": {
           "color": "black",
           "family": "Arial",
           "size": 14
          },
          "showarrow": false,
          "text": "영",
          "x": 1.5,
          "xref": "x1",
          "y": 1,
          "yref": "y1"
         },
         {
          "align": "left",
          "font": {
           "color": "black",
           "family": "Arial",
           "size": 14
          },
          "showarrow": false,
          "text": "국",
          "x": 2.5,
          "xref": "x1",
          "y": 1,
          "yref": "y1"
         },
         {
          "align": "left",
          "font": {
           "color": "black",
           "family": "Arial",
           "size": 14
          },
          "showarrow": false,
          "text": " ",
          "x": 3.5,
          "xref": "x1",
          "y": 1,
          "yref": "y1"
         },
         {
          "align": "left",
          "font": {
           "color": "black",
           "family": "Arial",
           "size": 14
          },
          "showarrow": false,
          "text": "매",
          "x": 4.5,
          "xref": "x1",
          "y": 1,
          "yref": "y1"
         },
         {
          "align": "left",
          "font": {
           "color": "black",
           "family": "Arial",
           "size": 14
          },
          "showarrow": false,
          "text": "체",
          "x": 5.5,
          "xref": "x1",
          "y": 1,
          "yref": "y1"
         },
         {
          "align": "left",
          "font": {
           "color": "black",
           "family": "Arial",
           "size": 14
          },
          "showarrow": false,
          "text": " ",
          "x": 6.5,
          "xref": "x1",
          "y": 1,
          "yref": "y1"
         },
         {
          "align": "left",
          "font": {
           "color": "black",
           "family": "Arial",
           "size": 14
          },
          "showarrow": false,
          "text": "스",
          "x": 7.5,
          "xref": "x1",
          "y": 1,
          "yref": "y1"
         },
         {
          "align": "left",
          "font": {
           "color": "black",
           "family": "Arial",
           "size": 14
          },
          "showarrow": false,
          "text": "카",
          "x": 8.5,
          "xref": "x1",
          "y": 1,
          "yref": "y1"
         },
         {
          "align": "left",
          "font": {
           "color": "black",
           "family": "Arial",
           "size": 14
          },
          "showarrow": false,
          "text": "이",
          "x": 9.5,
          "xref": "x1",
          "y": 1,
          "yref": "y1"
         },
         {
          "align": "left",
          "font": {
           "color": "black",
           "family": "Arial",
           "size": 14
          },
          "showarrow": false,
          "text": " ",
          "x": 10.5,
          "xref": "x1",
          "y": 1,
          "yref": "y1"
         },
         {
          "align": "left",
          "font": {
           "color": "black",
           "family": "Arial",
           "size": 14
          },
          "showarrow": false,
          "text": "스",
          "x": 11.5,
          "xref": "x1",
          "y": 1,
          "yref": "y1"
         },
         {
          "align": "left",
          "font": {
           "color": "black",
           "family": "Arial",
           "size": 14
          },
          "showarrow": false,
          "text": "포",
          "x": 12.5,
          "xref": "x1",
          "y": 1,
          "yref": "y1"
         },
         {
          "align": "left",
          "font": {
           "color": "black",
           "family": "Arial",
           "size": 14
          },
          "showarrow": false,
          "text": "츠",
          "x": 13.5,
          "xref": "x1",
          "y": 1,
          "yref": "y1"
         },
         {
          "align": "left",
          "font": {
           "color": "black",
           "family": "Arial",
           "size": 14
          },
          "showarrow": false,
          "text": "는",
          "x": 14.5,
          "xref": "x1",
          "y": 1,
          "yref": "y1"
         },
         {
          "align": "left",
          "font": {
           "color": "black",
           "family": "Arial",
           "size": 14
          },
          "showarrow": false,
          "text": " ",
          "x": 15.5,
          "xref": "x1",
          "y": 1,
          "yref": "y1"
         },
         {
          "align": "left",
          "font": {
           "color": "black",
           "family": "Arial",
           "size": 14
          },
          "showarrow": false,
          "text": "2",
          "x": 16.5,
          "xref": "x1",
          "y": 1,
          "yref": "y1"
         },
         {
          "align": "left",
          "font": {
           "color": "black",
           "family": "Arial",
           "size": 14
          },
          "showarrow": false,
          "text": "5",
          "x": 17.5,
          "xref": "x1",
          "y": 1,
          "yref": "y1"
         },
         {
          "align": "left",
          "font": {
           "color": "black",
           "family": "Arial",
           "size": 14
          },
          "showarrow": false,
          "text": "일",
          "x": 18.5,
          "xref": "x1",
          "y": 1,
          "yref": "y1"
         },
         {
          "align": "left",
          "font": {
           "color": "black",
           "family": "Arial",
           "size": 14
          },
          "showarrow": false,
          "text": " ",
          "x": 19.5,
          "xref": "x1",
          "y": 1,
          "yref": "y1"
         },
         {
          "align": "left",
          "font": {
           "color": "black",
           "family": "Arial",
           "size": 14
          },
          "showarrow": false,
          "text": "맨",
          "x": 20.5,
          "xref": "x1",
          "y": 1,
          "yref": "y1"
         },
         {
          "align": "left",
          "font": {
           "color": "black",
           "family": "Arial",
           "size": 14
          },
          "showarrow": false,
          "text": "유",
          "x": 21.5,
          "xref": "x1",
          "y": 1,
          "yref": "y1"
         },
         {
          "align": "left",
          "font": {
           "color": "black",
           "family": "Arial",
           "size": 14
          },
          "showarrow": false,
          "text": " ",
          "x": 22.5,
          "xref": "x1",
          "y": 1,
          "yref": "y1"
         },
         {
          "align": "left",
          "font": {
           "color": "black",
           "family": "Arial",
           "size": 14
          },
          "showarrow": false,
          "text": "미",
          "x": 23.5,
          "xref": "x1",
          "y": 1,
          "yref": "y1"
         },
         {
          "align": "left",
          "font": {
           "color": "black",
           "family": "Arial",
           "size": 14
          },
          "showarrow": false,
          "text": "드",
          "x": 24.5,
          "xref": "x1",
          "y": 1,
          "yref": "y1"
         },
         {
          "align": "left",
          "font": {
           "color": "black",
           "family": "Arial",
           "size": 14
          },
          "showarrow": false,
          "text": "필",
          "x": 25.5,
          "xref": "x1",
          "y": 1,
          "yref": "y1"
         },
         {
          "align": "left",
          "font": {
           "color": "black",
           "family": "Arial",
           "size": 14
          },
          "showarrow": false,
          "text": "더",
          "x": 26.5,
          "xref": "x1",
          "y": 1,
          "yref": "y1"
         },
         {
          "align": "left",
          "font": {
           "color": "black",
           "family": "Arial",
           "size": 14
          },
          "showarrow": false,
          "text": " ",
          "x": 27.5,
          "xref": "x1",
          "y": 1,
          "yref": "y1"
         },
         {
          "align": "left",
          "font": {
           "color": "black",
           "family": "Arial",
           "size": 14
          },
          "showarrow": false,
          "text": "폴",
          "x": 28.5,
          "xref": "x1",
          "y": 1,
          "yref": "y1"
         },
         {
          "align": "left",
          "font": {
           "color": "black",
           "family": "Arial",
           "size": 14
          },
          "showarrow": false,
          "text": " ",
          "x": 29.5,
          "xref": "x1",
          "y": 1,
          "yref": "y1"
         },
         {
          "align": "left",
          "font": {
           "color": "black",
           "family": "Arial",
           "size": 14
          },
          "showarrow": false,
          "text": "포",
          "x": 30.5,
          "xref": "x1",
          "y": 1,
          "yref": "y1"
         },
         {
          "align": "left",
          "font": {
           "color": "black",
           "family": "Arial",
           "size": 14
          },
          "showarrow": false,
          "text": "그",
          "x": 31.5,
          "xref": "x1",
          "y": 1,
          "yref": "y1"
         },
         {
          "align": "left",
          "font": {
           "color": "black",
           "family": "Arial",
           "size": 14
          },
          "showarrow": false,
          "text": "바",
          "x": 32.5,
          "xref": "x1",
          "y": 1,
          "yref": "y1"
         },
         {
          "align": "left",
          "font": {
           "color": "black",
           "family": "Arial",
           "size": 14
          },
          "showarrow": false,
          "text": "가",
          "x": 33.5,
          "xref": "x1",
          "y": 1,
          "yref": "y1"
         },
         {
          "align": "left",
          "font": {
           "color": "black",
           "family": "Arial",
           "size": 14
          },
          "showarrow": false,
          "text": " ",
          "x": 34.5,
          "xref": "x1",
          "y": 1,
          "yref": "y1"
         },
         {
          "align": "left",
          "font": {
           "color": "black",
           "family": "Arial",
           "size": 14
          },
          "showarrow": false,
          "text": "여",
          "x": 35.5,
          "xref": "x1",
          "y": 1,
          "yref": "y1"
         },
         {
          "align": "left",
          "font": {
           "color": "black",
           "family": "Arial",
           "size": 14
          },
          "showarrow": false,
          "text": "름",
          "x": 36.5,
          "xref": "x1",
          "y": 1,
          "yref": "y1"
         },
         {
          "align": "left",
          "font": {
           "color": "black",
           "family": "Arial",
           "size": 14
          },
          "showarrow": false,
          "text": " ",
          "x": 37.5,
          "xref": "x1",
          "y": 1,
          "yref": "y1"
         },
         {
          "align": "left",
          "font": {
           "color": "black",
           "family": "Arial",
           "size": 14
          },
          "showarrow": false,
          "text": "이",
          "x": 38.5,
          "xref": "x1",
          "y": 1,
          "yref": "y1"
         },
         {
          "align": "left",
          "font": {
           "color": "black",
           "family": "Arial",
           "size": 14
          },
          "showarrow": false,
          "text": "적",
          "x": 39.5,
          "xref": "x1",
          "y": 1,
          "yref": "y1"
         },
         {
          "align": "left",
          "font": {
           "color": "black",
           "family": "Arial",
           "size": 14
          },
          "showarrow": false,
          "text": "시",
          "x": 40.5,
          "xref": "x1",
          "y": 1,
          "yref": "y1"
         },
         {
          "align": "left",
          "font": {
           "color": "black",
           "family": "Arial",
           "size": 14
          },
          "showarrow": false,
          "text": "장",
          "x": 41.5,
          "xref": "x1",
          "y": 1,
          "yref": "y1"
         },
         {
          "align": "left",
          "font": {
           "color": "black",
           "family": "Arial",
           "size": 14
          },
          "showarrow": false,
          "text": " ",
          "x": 42.5,
          "xref": "x1",
          "y": 1,
          "yref": "y1"
         },
         {
          "align": "left",
          "font": {
           "color": "black",
           "family": "Arial",
           "size": 14
          },
          "showarrow": false,
          "text": "실",
          "x": 43.5,
          "xref": "x1",
          "y": 1,
          "yref": "y1"
         },
         {
          "align": "left",
          "font": {
           "color": "black",
           "family": "Arial",
           "size": 14
          },
          "showarrow": false,
          "text": "패",
          "x": 44.5,
          "xref": "x1",
          "y": 1,
          "yref": "y1"
         },
         {
          "align": "left",
          "font": {
           "color": "black",
           "family": "Arial",
           "size": 14
          },
          "showarrow": false,
          "text": " ",
          "x": 45.5,
          "xref": "x1",
          "y": 1,
          "yref": "y1"
         },
         {
          "align": "left",
          "font": {
           "color": "black",
           "family": "Arial",
           "size": 14
          },
          "showarrow": false,
          "text": "후",
          "x": 46.5,
          "xref": "x1",
          "y": 1,
          "yref": "y1"
         },
         {
          "align": "left",
          "font": {
           "color": "black",
           "family": "Arial",
           "size": 14
          },
          "showarrow": false,
          "text": ",",
          "x": 47.5,
          "xref": "x1",
          "y": 1,
          "yref": "y1"
         },
         {
          "align": "left",
          "font": {
           "color": "black",
           "family": "Arial",
           "size": 14
          },
          "showarrow": false,
          "text": " ",
          "x": 48.5,
          "xref": "x1",
          "y": 1,
          "yref": "y1"
         },
         {
          "align": "left",
          "font": {
           "color": "black",
           "family": "Arial",
           "size": 14
          },
          "showarrow": false,
          "text": "1",
          "x": 49.5,
          "xref": "x1",
          "y": 1,
          "yref": "y1"
         },
         {
          "align": "left",
          "font": {
           "color": "black",
           "family": "Arial",
           "size": 14
          },
          "showarrow": false,
          "text": "월",
          "x": 0.5,
          "xref": "x2",
          "y": 1,
          "yref": "y2"
         },
         {
          "align": "left",
          "font": {
           "color": "black",
           "family": "Arial",
           "size": 14
          },
          "showarrow": false,
          "text": "에",
          "x": 1.5,
          "xref": "x2",
          "y": 1,
          "yref": "y2"
         },
         {
          "align": "left",
          "font": {
           "color": "black",
           "family": "Arial",
           "size": 14
          },
          "showarrow": false,
          "text": " ",
          "x": 2.5,
          "xref": "x2",
          "y": 1,
          "yref": "y2"
         },
         {
          "align": "left",
          "font": {
           "color": "black",
           "family": "Arial",
           "size": 14
          },
          "showarrow": false,
          "text": "레",
          "x": 3.5,
          "xref": "x2",
          "y": 1,
          "yref": "y2"
         },
         {
          "align": "left",
          "font": {
           "color": "black",
           "family": "Arial",
           "size": 14
          },
          "showarrow": false,
          "text": "알",
          "x": 4.5,
          "xref": "x2",
          "y": 1,
          "yref": "y2"
         },
         {
          "align": "left",
          "font": {
           "color": "black",
           "family": "Arial",
           "size": 14
          },
          "showarrow": false,
          "text": " ",
          "x": 5.5,
          "xref": "x2",
          "y": 1,
          "yref": "y2"
         },
         {
          "align": "left",
          "font": {
           "color": "black",
           "family": "Arial",
           "size": 14
          },
          "showarrow": false,
          "text": "마",
          "x": 6.5,
          "xref": "x2",
          "y": 1,
          "yref": "y2"
         },
         {
          "align": "left",
          "font": {
           "color": "black",
           "family": "Arial",
           "size": 14
          },
          "showarrow": false,
          "text": "드",
          "x": 7.5,
          "xref": "x2",
          "y": 1,
          "yref": "y2"
         },
         {
          "align": "left",
          "font": {
           "color": "black",
           "family": "Arial",
           "size": 14
          },
          "showarrow": false,
          "text": "리",
          "x": 8.5,
          "xref": "x2",
          "y": 1,
          "yref": "y2"
         },
         {
          "align": "left",
          "font": {
           "color": "black",
           "family": "Arial",
           "size": 14
          },
          "showarrow": false,
          "text": "드",
          "x": 9.5,
          "xref": "x2",
          "y": 1,
          "yref": "y2"
         },
         {
          "align": "left",
          "font": {
           "color": "black",
           "family": "Arial",
           "size": 14
          },
          "showarrow": false,
          "text": "로",
          "x": 10.5,
          "xref": "x2",
          "y": 1,
          "yref": "y2"
         },
         {
          "align": "left",
          "font": {
           "color": "black",
           "family": "Arial",
           "size": 14
          },
          "showarrow": false,
          "text": " ",
          "x": 11.5,
          "xref": "x2",
          "y": 1,
          "yref": "y2"
         },
         {
          "align": "left",
          "font": {
           "color": "black",
           "family": "Arial",
           "size": 14
          },
          "showarrow": false,
          "text": "이",
          "x": 12.5,
          "xref": "x2",
          "y": 1,
          "yref": "y2"
         },
         {
          "align": "left",
          "font": {
           "color": "black",
           "family": "Arial",
           "size": 14
          },
          "showarrow": false,
          "text": "적",
          "x": 13.5,
          "xref": "x2",
          "y": 1,
          "yref": "y2"
         },
         {
          "align": "left",
          "font": {
           "color": "black",
           "family": "Arial",
           "size": 14
          },
          "showarrow": false,
          "text": "할",
          "x": 14.5,
          "xref": "x2",
          "y": 1,
          "yref": "y2"
         },
         {
          "align": "left",
          "font": {
           "color": "black",
           "family": "Arial",
           "size": 14
          },
          "showarrow": false,
          "text": " ",
          "x": 15.5,
          "xref": "x2",
          "y": 1,
          "yref": "y2"
         },
         {
          "align": "left",
          "font": {
           "color": "black",
           "family": "Arial",
           "size": 14
          },
          "showarrow": false,
          "text": "수",
          "x": 16.5,
          "xref": "x2",
          "y": 1,
          "yref": "y2"
         },
         {
          "align": "left",
          "font": {
           "color": "black",
           "family": "Arial",
           "size": 14
          },
          "showarrow": false,
          "text": " ",
          "x": 17.5,
          "xref": "x2",
          "y": 1,
          "yref": "y2"
         },
         {
          "align": "left",
          "font": {
           "color": "black",
           "family": "Arial",
           "size": 14
          },
          "showarrow": false,
          "text": "있",
          "x": 18.5,
          "xref": "x2",
          "y": 1,
          "yref": "y2"
         },
         {
          "align": "left",
          "font": {
           "color": "black",
           "family": "Arial",
           "size": 14
          },
          "showarrow": false,
          "text": "다",
          "x": 19.5,
          "xref": "x2",
          "y": 1,
          "yref": "y2"
         },
         {
          "align": "left",
          "font": {
           "color": "black",
           "family": "Arial",
           "size": 14
          },
          "showarrow": false,
          "text": "고",
          "x": 20.5,
          "xref": "x2",
          "y": 1,
          "yref": "y2"
         },
         {
          "align": "left",
          "font": {
           "color": "black",
           "family": "Arial",
           "size": 14
          },
          "showarrow": false,
          "text": " ",
          "x": 21.5,
          "xref": "x2",
          "y": 1,
          "yref": "y2"
         },
         {
          "align": "left",
          "font": {
           "color": "black",
           "family": "Arial",
           "size": 14
          },
          "showarrow": false,
          "text": "전",
          "x": 22.5,
          "xref": "x2",
          "y": 1,
          "yref": "y2"
         },
         {
          "align": "left",
          "font": {
           "color": "black",
           "family": "Arial",
           "size": 14
          },
          "showarrow": false,
          "text": "했",
          "x": 23.5,
          "xref": "x2",
          "y": 1,
          "yref": "y2"
         },
         {
          "align": "left",
          "font": {
           "color": "black",
           "family": "Arial",
           "size": 14
          },
          "showarrow": false,
          "text": "다",
          "x": 24.5,
          "xref": "x2",
          "y": 1,
          "yref": "y2"
         },
         {
          "align": "left",
          "font": {
           "color": "black",
           "family": "Arial",
           "size": 14
          },
          "showarrow": false,
          "text": ".",
          "x": 25.5,
          "xref": "x2",
          "y": 1,
          "yref": "y2"
         }
        ],
        "barmode": "stack",
        "height": 130,
        "images": [
         {
          "layer": "above",
          "opacity": 0.3,
          "sizex": 0.7,
          "sizey": 0.7,
          "source": "https://raw.githubusercontent.com/fingeredman/teanaps/master/data/logo/teanaps_logo_no-bg.png",
          "x": 0.5,
          "xanchor": "center",
          "xref": "paper",
          "y": 0.6,
          "yanchor": "center",
          "yref": "paper"
         }
        ],
        "margin": {
         "b": 30,
         "l": 20,
         "r": 20,
         "t": 10
        },
        "showlegend": false,
        "xaxis1": {
         "anchor": "y1",
         "domain": [
          0,
          1
         ],
         "showgrid": false,
         "showline": false,
         "showticklabels": false,
         "zeroline": false
        },
        "xaxis2": {
         "anchor": "y2",
         "domain": [
          0,
          1
         ],
         "showgrid": false,
         "showline": false,
         "showticklabels": false,
         "zeroline": false
        },
        "yaxis1": {
         "anchor": "x1",
         "domain": [
          0.575,
          1
         ],
         "showgrid": false,
         "showline": false,
         "showticklabels": false,
         "zeroline": false
        },
        "yaxis2": {
         "anchor": "x2",
         "domain": [
          0,
          0.425
         ],
         "showgrid": false,
         "showline": false,
         "showticklabels": false,
         "zeroline": false
        }
       }
      },
      "text/html": [
       "<div id=\"fa9d469c-5e70-45b8-aa7b-a42ad8dabfa3\" style=\"height: 130px; width: 100%;\" class=\"plotly-graph-div\"></div><script type=\"text/javascript\">require([\"plotly\"], function(Plotly) { window.PLOTLYENV=window.PLOTLYENV || {};window.PLOTLYENV.BASE_URL=\"https://plot.ly\";Plotly.newPlot(\"fa9d469c-5e70-45b8-aa7b-a42ad8dabfa3\", [{\"type\": \"bar\", \"y\": [1], \"x\": [3], \"orientation\": \"h\", \"width\": 0.5, \"text\": \"0.63\", \"hoverinfo\": \"text\", \"marker\": {\"color\": \"rgb(129.28384034267748, 192.14192017133874, 255)\"}, \"xaxis\": \"x1\", \"yaxis\": \"y1\"}, {\"type\": \"bar\", \"y\": [1], \"x\": [3], \"orientation\": \"h\", \"width\": 0.5, \"text\": \"0.15\", \"hoverinfo\": \"text\", \"marker\": {\"color\": \"rgb(225.7055553584065, 240.35277767920326, 255)\"}, \"xaxis\": \"x1\", \"yaxis\": \"y1\"}, {\"type\": \"bar\", \"y\": [1], \"x\": [1], \"orientation\": \"h\", \"width\": 0.5, \"text\": \"0.03\", \"hoverinfo\": \"text\", \"marker\": {\"color\": \"rgb(249.99427253048214, 252.49713626524107, 255)\"}, \"xaxis\": \"x1\", \"yaxis\": \"y1\"}, {\"type\": \"bar\", \"y\": [1], \"x\": [2], \"orientation\": \"h\", \"width\": 0.5, \"text\": \"0.18\", \"hoverinfo\": \"text\", \"marker\": {\"color\": \"rgb(219.66547820586953, 237.33273910293477, 255)\"}, \"xaxis\": \"x1\", \"yaxis\": \"y1\"}, {\"type\": \"bar\", \"y\": [1], \"x\": [1], \"orientation\": \"h\", \"width\": 0.5, \"text\": \"0.22\", \"hoverinfo\": \"text\", \"marker\": {\"color\": \"rgb(210.67044009927963, 232.83522004963982, 255)\"}, \"xaxis\": \"x1\", \"yaxis\": \"y1\"}, {\"type\": \"bar\", \"y\": [1], \"x\": [4], \"orientation\": \"h\", \"width\": 0.5, \"text\": \"0.21\", \"hoverinfo\": \"text\", \"marker\": {\"color\": \"rgb(213.19629225280815, 234.0981461264041, 255)\"}, \"xaxis\": \"x1\", \"yaxis\": \"y1\"}, {\"type\": \"bar\", \"y\": [1], \"x\": [1], \"orientation\": \"h\", \"width\": 0.5, \"text\": \"0.1\", \"hoverinfo\": \"text\", \"marker\": {\"color\": \"rgb(235.72976572431745, 245.36488286215874, 255)\"}, \"xaxis\": \"x1\", \"yaxis\": \"y1\"}, {\"type\": \"bar\", \"y\": [1], \"x\": [3], \"orientation\": \"h\", \"width\": 0.5, \"text\": \"0.49\", \"hoverinfo\": \"text\", \"marker\": {\"color\": \"rgb(157.93827588294357, 206.46913794147179, 255)\"}, \"xaxis\": \"x1\", \"yaxis\": \"y1\"}, {\"type\": \"bar\", \"y\": [1], \"x\": [1], \"orientation\": \"h\", \"width\": 0.5, \"text\": \"0.11\", \"hoverinfo\": \"text\", \"marker\": {\"color\": \"rgb(232.99218037327967, 243.99609018663983, 255)\"}, \"xaxis\": \"x1\", \"yaxis\": \"y1\"}, {\"type\": \"bar\", \"y\": [1], \"x\": [3], \"orientation\": \"h\", \"width\": 0.5, \"text\": \"0.38\", \"hoverinfo\": \"text\", \"marker\": {\"color\": \"rgb(179.87593179014343, 217.43796589507173, 255)\"}, \"xaxis\": \"x1\", \"yaxis\": \"y1\"}, {\"type\": \"bar\", \"y\": [1], \"x\": [5], \"orientation\": \"h\", \"width\": 0.5, \"text\": \"0.13\", \"hoverinfo\": \"text\", \"marker\": {\"color\": \"rgb(229.41165971890257, 242.20582985945128, 255)\"}, \"xaxis\": \"x1\", \"yaxis\": \"y1\"}, {\"type\": \"bar\", \"y\": [1], \"x\": [2], \"orientation\": \"h\", \"width\": 0.5, \"text\": \"1.0\", \"hoverinfo\": \"text\", \"marker\": {\"color\": \"rgb(55.0, 155.0, 255)\"}, \"xaxis\": \"x1\", \"yaxis\": \"y1\"}, {\"type\": \"bar\", \"y\": [1], \"x\": [2], \"orientation\": \"h\", \"width\": 0.5, \"text\": \"0.51\", \"hoverinfo\": \"text\", \"marker\": {\"color\": \"rgb(153.35224224560642, 204.1761211228032, 255)\"}, \"xaxis\": \"x1\", \"yaxis\": \"y1\"}, {\"type\": \"bar\", \"y\": [1], \"x\": [1], \"orientation\": \"h\", \"width\": 0.5, \"text\": \"0.36\", \"hoverinfo\": \"text\", \"marker\": {\"color\": \"rgb(182.22340627615847, 218.61170313807924, 255)\"}, \"xaxis\": \"x1\", \"yaxis\": \"y1\"}, {\"type\": \"bar\", \"y\": [1], \"x\": [1], \"orientation\": \"h\", \"width\": 0.5, \"text\": \"0.34\", \"hoverinfo\": \"text\", \"marker\": {\"color\": \"rgb(187.7736003056042, 221.3868001528021, 255)\"}, \"xaxis\": \"x1\", \"yaxis\": \"y1\"}, {\"type\": \"bar\", \"y\": [1], \"x\": [1], \"orientation\": \"h\", \"width\": 0.5, \"text\": \"0.07\", \"hoverinfo\": \"text\", \"marker\": {\"color\": \"rgb(240.71397930491744, 247.8569896524587, 255)\"}, \"xaxis\": \"x1\", \"yaxis\": \"y1\"}, {\"type\": \"bar\", \"y\": [1], \"x\": [3], \"orientation\": \"h\", \"width\": 0.5, \"text\": \"0.04\", \"hoverinfo\": \"text\", \"marker\": {\"color\": \"rgb(247.6003687498826, 251.3001843749413, 255)\"}, \"xaxis\": \"x1\", \"yaxis\": \"y1\"}, {\"type\": \"bar\", \"y\": [1], \"x\": [3], \"orientation\": \"h\", \"width\": 0.5, \"text\": \"0.07\", \"hoverinfo\": \"text\", \"marker\": {\"color\": \"rgb(240.83667709701055, 247.91833854850526, 255)\"}, \"xaxis\": \"x1\", \"yaxis\": \"y1\"}, {\"type\": \"bar\", \"y\": [1], \"x\": [2], \"orientation\": \"h\", \"width\": 0.5, \"text\": \"0.07\", \"hoverinfo\": \"text\", \"marker\": {\"color\": \"rgb(240.0389655798652, 247.5194827899326, 255)\"}, \"xaxis\": \"x1\", \"yaxis\": \"y1\"}, {\"type\": \"bar\", \"y\": [1], \"x\": [3], \"orientation\": \"h\", \"width\": 0.5, \"text\": \"0.0\", \"hoverinfo\": \"text\", \"marker\": {\"color\": \"rgb(254.55870150698985, 254.77935075349492, 255)\"}, \"xaxis\": \"x1\", \"yaxis\": \"y1\"}, {\"type\": \"bar\", \"y\": [1], \"x\": [2], \"orientation\": \"h\", \"width\": 0.5, \"text\": \"0.06\", \"hoverinfo\": \"text\", \"marker\": {\"color\": \"rgb(242.39546728845153, 248.69773364422576, 255)\"}, \"xaxis\": \"x1\", \"yaxis\": \"y1\"}, {\"type\": \"bar\", \"y\": [1], \"x\": [1], \"orientation\": \"h\", \"width\": 0.5, \"text\": \"0.03\", \"hoverinfo\": \"text\", \"marker\": {\"color\": \"rgb(249.7970007368735, 252.39850036843677, 255)\"}, \"xaxis\": \"x1\", \"yaxis\": \"y1\"}, {\"type\": \"bar\", \"y\": [1], \"x\": [2], \"orientation\": \"h\", \"width\": 0.5, \"text\": \"0.44\", \"hoverinfo\": \"text\", \"marker\": {\"color\": \"rgb(166.0904600971504, 210.5452300485752, 255)\"}, \"xaxis\": \"x1\", \"yaxis\": \"y1\"}, {\"type\": \"bar\", \"y\": [1], \"x\": [2], \"orientation\": \"h\", \"width\": 0.5, \"text\": \"0.01\", \"hoverinfo\": \"text\", \"marker\": {\"color\": \"rgb(252.4910414026899, 253.74552070134496, 255)\"}, \"xaxis\": \"x2\", \"yaxis\": \"y2\"}, {\"type\": \"bar\", \"y\": [1], \"x\": [3], \"orientation\": \"h\", \"width\": 0.5, \"text\": \"0.43\", \"hoverinfo\": \"text\", \"marker\": {\"color\": \"rgb(169.6618627244281, 212.33093136221405, 255)\"}, \"xaxis\": \"x2\", \"yaxis\": \"y2\"}, {\"type\": \"bar\", \"y\": [1], \"x\": [5], \"orientation\": \"h\", \"width\": 0.5, \"text\": \"0.27\", \"hoverinfo\": \"text\", \"marker\": {\"color\": \"rgb(201.9457030671056, 228.47285153355278, 255)\"}, \"xaxis\": \"x2\", \"yaxis\": \"y2\"}, {\"type\": \"bar\", \"y\": [1], \"x\": [1], \"orientation\": \"h\", \"width\": 0.5, \"text\": \"0.06\", \"hoverinfo\": \"text\", \"marker\": {\"color\": \"rgb(242.54927659059265, 248.7746382952963, 255)\"}, \"xaxis\": \"x2\", \"yaxis\": \"y2\"}, {\"type\": \"bar\", \"y\": [1], \"x\": [3], \"orientation\": \"h\", \"width\": 0.5, \"text\": \"0.06\", \"hoverinfo\": \"text\", \"marker\": {\"color\": \"rgb(243.8712934530979, 249.43564672654895, 255)\"}, \"xaxis\": \"x2\", \"yaxis\": \"y2\"}, {\"type\": \"bar\", \"y\": [1], \"x\": [1], \"orientation\": \"h\", \"width\": 0.5, \"text\": \"0.09\", \"hoverinfo\": \"text\", \"marker\": {\"color\": \"rgb(236.6590237782616, 245.8295118891308, 255)\"}, \"xaxis\": \"x2\", \"yaxis\": \"y2\"}, {\"type\": \"bar\", \"y\": [1], \"x\": [2], \"orientation\": \"h\", \"width\": 0.5, \"text\": \"0.1\", \"hoverinfo\": \"text\", \"marker\": {\"color\": \"rgb(235.52657441483265, 245.26328720741634, 255)\"}, \"xaxis\": \"x2\", \"yaxis\": \"y2\"}, {\"type\": \"bar\", \"y\": [1], \"x\": [4], \"orientation\": \"h\", \"width\": 0.5, \"text\": \"0.09\", \"hoverinfo\": \"text\", \"marker\": {\"color\": \"rgb(236.9702286395394, 245.9851143197697, 255)\"}, \"xaxis\": \"x2\", \"yaxis\": \"y2\"}, {\"type\": \"bar\", \"y\": [1], \"x\": [4], \"orientation\": \"h\", \"width\": 0.5, \"text\": \"0.06\", \"hoverinfo\": \"text\", \"marker\": {\"color\": \"rgb(242.23663033789722, 248.6183151689486, 255)\"}, \"xaxis\": \"x2\", \"yaxis\": \"y2\"}, {\"type\": \"bar\", \"y\": [1], \"x\": [1], \"orientation\": \"h\", \"width\": 0.5, \"text\": \"0.07\", \"hoverinfo\": \"text\", \"marker\": {\"color\": \"rgb(240.1341495999382, 247.5670747999691, 255)\"}, \"xaxis\": \"x2\", \"yaxis\": \"y2\"}, {\"type\": \"bar\", \"y\": [1], \"x\": [1], \"orientation\": \"h\", \"width\": 0.5, \"text\": \"\", \"hoverinfo\": \"text\", \"marker\": {\"color\": \"rgb(255, 255, 255)\"}, \"xaxis\": \"x2\", \"yaxis\": \"y2\"}, {\"type\": \"bar\", \"y\": [1], \"x\": [1], \"orientation\": \"h\", \"width\": 0.5, \"text\": \"\", \"hoverinfo\": \"text\", \"marker\": {\"color\": \"rgb(255, 255, 255)\"}, \"xaxis\": \"x2\", \"yaxis\": \"y2\"}, {\"type\": \"bar\", \"y\": [1], \"x\": [1], \"orientation\": \"h\", \"width\": 0.5, \"text\": \"\", \"hoverinfo\": \"text\", \"marker\": {\"color\": \"rgb(255, 255, 255)\"}, \"xaxis\": \"x2\", \"yaxis\": \"y2\"}, {\"type\": \"bar\", \"y\": [1], \"x\": [1], \"orientation\": \"h\", \"width\": 0.5, \"text\": \"\", \"hoverinfo\": \"text\", \"marker\": {\"color\": \"rgb(255, 255, 255)\"}, \"xaxis\": \"x2\", \"yaxis\": \"y2\"}, {\"type\": \"bar\", \"y\": [1], \"x\": [1], \"orientation\": \"h\", \"width\": 0.5, \"text\": \"\", \"hoverinfo\": \"text\", \"marker\": {\"color\": \"rgb(255, 255, 255)\"}, \"xaxis\": \"x2\", \"yaxis\": \"y2\"}, {\"type\": \"bar\", \"y\": [1], \"x\": [1], \"orientation\": \"h\", \"width\": 0.5, \"text\": \"\", \"hoverinfo\": \"text\", \"marker\": {\"color\": \"rgb(255, 255, 255)\"}, \"xaxis\": \"x2\", \"yaxis\": \"y2\"}, {\"type\": \"bar\", \"y\": [1], \"x\": [1], \"orientation\": \"h\", \"width\": 0.5, \"text\": \"\", \"hoverinfo\": \"text\", \"marker\": {\"color\": \"rgb(255, 255, 255)\"}, \"xaxis\": \"x2\", \"yaxis\": \"y2\"}, {\"type\": \"bar\", \"y\": [1], \"x\": [1], \"orientation\": \"h\", \"width\": 0.5, \"text\": \"\", \"hoverinfo\": \"text\", \"marker\": {\"color\": \"rgb(255, 255, 255)\"}, \"xaxis\": \"x2\", \"yaxis\": \"y2\"}, {\"type\": \"bar\", \"y\": [1], \"x\": [1], \"orientation\": \"h\", \"width\": 0.5, \"text\": \"\", \"hoverinfo\": \"text\", \"marker\": {\"color\": \"rgb(255, 255, 255)\"}, \"xaxis\": \"x2\", \"yaxis\": \"y2\"}, {\"type\": \"bar\", \"y\": [1], \"x\": [1], \"orientation\": \"h\", \"width\": 0.5, \"text\": \"\", \"hoverinfo\": \"text\", \"marker\": {\"color\": \"rgb(255, 255, 255)\"}, \"xaxis\": \"x2\", \"yaxis\": \"y2\"}, {\"type\": \"bar\", \"y\": [1], \"x\": [1], \"orientation\": \"h\", \"width\": 0.5, \"text\": \"\", \"hoverinfo\": \"text\", \"marker\": {\"color\": \"rgb(255, 255, 255)\"}, \"xaxis\": \"x2\", \"yaxis\": \"y2\"}, {\"type\": \"bar\", \"y\": [1], \"x\": [1], \"orientation\": \"h\", \"width\": 0.5, \"text\": \"\", \"hoverinfo\": \"text\", \"marker\": {\"color\": \"rgb(255, 255, 255)\"}, \"xaxis\": \"x2\", \"yaxis\": \"y2\"}, {\"type\": \"bar\", \"y\": [1], \"x\": [1], \"orientation\": \"h\", \"width\": 0.5, \"text\": \"\", \"hoverinfo\": \"text\", \"marker\": {\"color\": \"rgb(255, 255, 255)\"}, \"xaxis\": \"x2\", \"yaxis\": \"y2\"}, {\"type\": \"bar\", \"y\": [1], \"x\": [1], \"orientation\": \"h\", \"width\": 0.5, \"text\": \"\", \"hoverinfo\": \"text\", \"marker\": {\"color\": \"rgb(255, 255, 255)\"}, \"xaxis\": \"x2\", \"yaxis\": \"y2\"}, {\"type\": \"bar\", \"y\": [1], \"x\": [1], \"orientation\": \"h\", \"width\": 0.5, \"text\": \"\", \"hoverinfo\": \"text\", \"marker\": {\"color\": \"rgb(255, 255, 255)\"}, \"xaxis\": \"x2\", \"yaxis\": \"y2\"}, {\"type\": \"bar\", \"y\": [1], \"x\": [1], \"orientation\": \"h\", \"width\": 0.5, \"text\": \"\", \"hoverinfo\": \"text\", \"marker\": {\"color\": \"rgb(255, 255, 255)\"}, \"xaxis\": \"x2\", \"yaxis\": \"y2\"}, {\"type\": \"bar\", \"y\": [1], \"x\": [1], \"orientation\": \"h\", \"width\": 0.5, \"text\": \"\", \"hoverinfo\": \"text\", \"marker\": {\"color\": \"rgb(255, 255, 255)\"}, \"xaxis\": \"x2\", \"yaxis\": \"y2\"}, {\"type\": \"bar\", \"y\": [1], \"x\": [1], \"orientation\": \"h\", \"width\": 0.5, \"text\": \"\", \"hoverinfo\": \"text\", \"marker\": {\"color\": \"rgb(255, 255, 255)\"}, \"xaxis\": \"x2\", \"yaxis\": \"y2\"}, {\"type\": \"bar\", \"y\": [1], \"x\": [1], \"orientation\": \"h\", \"width\": 0.5, \"text\": \"\", \"hoverinfo\": \"text\", \"marker\": {\"color\": \"rgb(255, 255, 255)\"}, \"xaxis\": \"x2\", \"yaxis\": \"y2\"}, {\"type\": \"bar\", \"y\": [1], \"x\": [1], \"orientation\": \"h\", \"width\": 0.5, \"text\": \"\", \"hoverinfo\": \"text\", \"marker\": {\"color\": \"rgb(255, 255, 255)\"}, \"xaxis\": \"x2\", \"yaxis\": \"y2\"}, {\"type\": \"bar\", \"y\": [1], \"x\": [1], \"orientation\": \"h\", \"width\": 0.5, \"text\": \"\", \"hoverinfo\": \"text\", \"marker\": {\"color\": \"rgb(255, 255, 255)\"}, \"xaxis\": \"x2\", \"yaxis\": \"y2\"}, {\"type\": \"bar\", \"y\": [1], \"x\": [1], \"orientation\": \"h\", \"width\": 0.5, \"text\": \"\", \"hoverinfo\": \"text\", \"marker\": {\"color\": \"rgb(255, 255, 255)\"}, \"xaxis\": \"x2\", \"yaxis\": \"y2\"}, {\"type\": \"bar\", \"y\": [1], \"x\": [1], \"orientation\": \"h\", \"width\": 0.5, \"text\": \"\", \"hoverinfo\": \"text\", \"marker\": {\"color\": \"rgb(255, 255, 255)\"}, \"xaxis\": \"x2\", \"yaxis\": \"y2\"}, {\"type\": \"bar\", \"y\": [1], \"x\": [1], \"orientation\": \"h\", \"width\": 0.5, \"text\": \"\", \"hoverinfo\": \"text\", \"marker\": {\"color\": \"rgb(255, 255, 255)\"}, \"xaxis\": \"x2\", \"yaxis\": \"y2\"}], {\"xaxis1\": {\"domain\": [0.0, 1.0], \"anchor\": \"y1\", \"showgrid\": false, \"showline\": false, \"showticklabels\": false, \"zeroline\": false}, \"yaxis1\": {\"domain\": [0.575, 1.0], \"anchor\": \"x1\", \"showgrid\": false, \"showline\": false, \"showticklabels\": false, \"zeroline\": false}, \"xaxis2\": {\"domain\": [0.0, 1.0], \"anchor\": \"y2\", \"showgrid\": false, \"showline\": false, \"showticklabels\": false, \"zeroline\": false}, \"yaxis2\": {\"domain\": [0.0, 0.425], \"anchor\": \"x2\", \"showgrid\": false, \"showline\": false, \"showticklabels\": false, \"zeroline\": false}, \"barmode\": \"stack\", \"showlegend\": false, \"margin\": {\"b\": 30, \"l\": 20, \"r\": 20, \"t\": 10}, \"annotations\": [{\"xref\": \"x1\", \"yref\": \"y1\", \"x\": 0.5, \"y\": 1, \"text\": \" \", \"align\": \"left\", \"font\": {\"family\": \"Arial\", \"size\": 14, \"color\": \"black\"}, \"showarrow\": false}, {\"xref\": \"x1\", \"yref\": \"y1\", \"x\": 1.5, \"y\": 1, \"text\": \"\\uc601\", \"align\": \"left\", \"font\": {\"family\": \"Arial\", \"size\": 14, \"color\": \"black\"}, \"showarrow\": false}, {\"xref\": \"x1\", \"yref\": \"y1\", \"x\": 2.5, \"y\": 1, \"text\": \"\\uad6d\", \"align\": \"left\", \"font\": {\"family\": \"Arial\", \"size\": 14, \"color\": \"black\"}, \"showarrow\": false}, {\"xref\": \"x1\", \"yref\": \"y1\", \"x\": 3.5, \"y\": 1, \"text\": \" \", \"align\": \"left\", \"font\": {\"family\": \"Arial\", \"size\": 14, \"color\": \"black\"}, \"showarrow\": false}, {\"xref\": \"x1\", \"yref\": \"y1\", \"x\": 4.5, \"y\": 1, \"text\": \"\\ub9e4\", \"align\": \"left\", \"font\": {\"family\": \"Arial\", \"size\": 14, \"color\": \"black\"}, \"showarrow\": false}, {\"xref\": \"x1\", \"yref\": \"y1\", \"x\": 5.5, \"y\": 1, \"text\": \"\\uccb4\", \"align\": \"left\", \"font\": {\"family\": \"Arial\", \"size\": 14, \"color\": \"black\"}, \"showarrow\": false}, {\"xref\": \"x1\", \"yref\": \"y1\", \"x\": 6.5, \"y\": 1, \"text\": \" \", \"align\": \"left\", \"font\": {\"family\": \"Arial\", \"size\": 14, \"color\": \"black\"}, \"showarrow\": false}, {\"xref\": \"x1\", \"yref\": \"y1\", \"x\": 7.5, \"y\": 1, \"text\": \"\\uc2a4\", \"align\": \"left\", \"font\": {\"family\": \"Arial\", \"size\": 14, \"color\": \"black\"}, \"showarrow\": false}, {\"xref\": \"x1\", \"yref\": \"y1\", \"x\": 8.5, \"y\": 1, \"text\": \"\\uce74\", \"align\": \"left\", \"font\": {\"family\": \"Arial\", \"size\": 14, \"color\": \"black\"}, \"showarrow\": false}, {\"xref\": \"x1\", \"yref\": \"y1\", \"x\": 9.5, \"y\": 1, \"text\": \"\\uc774\", \"align\": \"left\", \"font\": {\"family\": \"Arial\", \"size\": 14, \"color\": \"black\"}, \"showarrow\": false}, {\"xref\": \"x1\", \"yref\": \"y1\", \"x\": 10.5, \"y\": 1, \"text\": \" \", \"align\": \"left\", \"font\": {\"family\": \"Arial\", \"size\": 14, \"color\": \"black\"}, \"showarrow\": false}, {\"xref\": \"x1\", \"yref\": \"y1\", \"x\": 11.5, \"y\": 1, \"text\": \"\\uc2a4\", \"align\": \"left\", \"font\": {\"family\": \"Arial\", \"size\": 14, \"color\": \"black\"}, \"showarrow\": false}, {\"xref\": \"x1\", \"yref\": \"y1\", \"x\": 12.5, \"y\": 1, \"text\": \"\\ud3ec\", \"align\": \"left\", \"font\": {\"family\": \"Arial\", \"size\": 14, \"color\": \"black\"}, \"showarrow\": false}, {\"xref\": \"x1\", \"yref\": \"y1\", \"x\": 13.5, \"y\": 1, \"text\": \"\\uce20\", \"align\": \"left\", \"font\": {\"family\": \"Arial\", \"size\": 14, \"color\": \"black\"}, \"showarrow\": false}, {\"xref\": \"x1\", \"yref\": \"y1\", \"x\": 14.5, \"y\": 1, \"text\": \"\\ub294\", \"align\": \"left\", \"font\": {\"family\": \"Arial\", \"size\": 14, \"color\": \"black\"}, \"showarrow\": false}, {\"xref\": \"x1\", \"yref\": \"y1\", \"x\": 15.5, \"y\": 1, \"text\": \" \", \"align\": \"left\", \"font\": {\"family\": \"Arial\", \"size\": 14, \"color\": \"black\"}, \"showarrow\": false}, {\"xref\": \"x1\", \"yref\": \"y1\", \"x\": 16.5, \"y\": 1, \"text\": \"2\", \"align\": \"left\", \"font\": {\"family\": \"Arial\", \"size\": 14, \"color\": \"black\"}, \"showarrow\": false}, {\"xref\": \"x1\", \"yref\": \"y1\", \"x\": 17.5, \"y\": 1, \"text\": \"5\", \"align\": \"left\", \"font\": {\"family\": \"Arial\", \"size\": 14, \"color\": \"black\"}, \"showarrow\": false}, {\"xref\": \"x1\", \"yref\": \"y1\", \"x\": 18.5, \"y\": 1, \"text\": \"\\uc77c\", \"align\": \"left\", \"font\": {\"family\": \"Arial\", \"size\": 14, \"color\": \"black\"}, \"showarrow\": false}, {\"xref\": \"x1\", \"yref\": \"y1\", \"x\": 19.5, \"y\": 1, \"text\": \" \", \"align\": \"left\", \"font\": {\"family\": \"Arial\", \"size\": 14, \"color\": \"black\"}, \"showarrow\": false}, {\"xref\": \"x1\", \"yref\": \"y1\", \"x\": 20.5, \"y\": 1, \"text\": \"\\ub9e8\", \"align\": \"left\", \"font\": {\"family\": \"Arial\", \"size\": 14, \"color\": \"black\"}, \"showarrow\": false}, {\"xref\": \"x1\", \"yref\": \"y1\", \"x\": 21.5, \"y\": 1, \"text\": \"\\uc720\", \"align\": \"left\", \"font\": {\"family\": \"Arial\", \"size\": 14, \"color\": \"black\"}, \"showarrow\": false}, {\"xref\": \"x1\", \"yref\": \"y1\", \"x\": 22.5, \"y\": 1, \"text\": \" \", \"align\": \"left\", \"font\": {\"family\": \"Arial\", \"size\": 14, \"color\": \"black\"}, \"showarrow\": false}, {\"xref\": \"x1\", \"yref\": \"y1\", \"x\": 23.5, \"y\": 1, \"text\": \"\\ubbf8\", \"align\": \"left\", \"font\": {\"family\": \"Arial\", \"size\": 14, \"color\": \"black\"}, \"showarrow\": false}, {\"xref\": \"x1\", \"yref\": \"y1\", \"x\": 24.5, \"y\": 1, \"text\": \"\\ub4dc\", \"align\": \"left\", \"font\": {\"family\": \"Arial\", \"size\": 14, \"color\": \"black\"}, \"showarrow\": false}, {\"xref\": \"x1\", \"yref\": \"y1\", \"x\": 25.5, \"y\": 1, \"text\": \"\\ud544\", \"align\": \"left\", \"font\": {\"family\": \"Arial\", \"size\": 14, \"color\": \"black\"}, \"showarrow\": false}, {\"xref\": \"x1\", \"yref\": \"y1\", \"x\": 26.5, \"y\": 1, \"text\": \"\\ub354\", \"align\": \"left\", \"font\": {\"family\": \"Arial\", \"size\": 14, \"color\": \"black\"}, \"showarrow\": false}, {\"xref\": \"x1\", \"yref\": \"y1\", \"x\": 27.5, \"y\": 1, \"text\": \" \", \"align\": \"left\", \"font\": {\"family\": \"Arial\", \"size\": 14, \"color\": \"black\"}, \"showarrow\": false}, {\"xref\": \"x1\", \"yref\": \"y1\", \"x\": 28.5, \"y\": 1, \"text\": \"\\ud3f4\", \"align\": \"left\", \"font\": {\"family\": \"Arial\", \"size\": 14, \"color\": \"black\"}, \"showarrow\": false}, {\"xref\": \"x1\", \"yref\": \"y1\", \"x\": 29.5, \"y\": 1, \"text\": \" \", \"align\": \"left\", \"font\": {\"family\": \"Arial\", \"size\": 14, \"color\": \"black\"}, \"showarrow\": false}, {\"xref\": \"x1\", \"yref\": \"y1\", \"x\": 30.5, \"y\": 1, \"text\": \"\\ud3ec\", \"align\": \"left\", \"font\": {\"family\": \"Arial\", \"size\": 14, \"color\": \"black\"}, \"showarrow\": false}, {\"xref\": \"x1\", \"yref\": \"y1\", \"x\": 31.5, \"y\": 1, \"text\": \"\\uadf8\", \"align\": \"left\", \"font\": {\"family\": \"Arial\", \"size\": 14, \"color\": \"black\"}, \"showarrow\": false}, {\"xref\": \"x1\", \"yref\": \"y1\", \"x\": 32.5, \"y\": 1, \"text\": \"\\ubc14\", \"align\": \"left\", \"font\": {\"family\": \"Arial\", \"size\": 14, \"color\": \"black\"}, \"showarrow\": false}, {\"xref\": \"x1\", \"yref\": \"y1\", \"x\": 33.5, \"y\": 1, \"text\": \"\\uac00\", \"align\": \"left\", \"font\": {\"family\": \"Arial\", \"size\": 14, \"color\": \"black\"}, \"showarrow\": false}, {\"xref\": \"x1\", \"yref\": \"y1\", \"x\": 34.5, \"y\": 1, \"text\": \" \", \"align\": \"left\", \"font\": {\"family\": \"Arial\", \"size\": 14, \"color\": \"black\"}, \"showarrow\": false}, {\"xref\": \"x1\", \"yref\": \"y1\", \"x\": 35.5, \"y\": 1, \"text\": \"\\uc5ec\", \"align\": \"left\", \"font\": {\"family\": \"Arial\", \"size\": 14, \"color\": \"black\"}, \"showarrow\": false}, {\"xref\": \"x1\", \"yref\": \"y1\", \"x\": 36.5, \"y\": 1, \"text\": \"\\ub984\", \"align\": \"left\", \"font\": {\"family\": \"Arial\", \"size\": 14, \"color\": \"black\"}, \"showarrow\": false}, {\"xref\": \"x1\", \"yref\": \"y1\", \"x\": 37.5, \"y\": 1, \"text\": \" \", \"align\": \"left\", \"font\": {\"family\": \"Arial\", \"size\": 14, \"color\": \"black\"}, \"showarrow\": false}, {\"xref\": \"x1\", \"yref\": \"y1\", \"x\": 38.5, \"y\": 1, \"text\": \"\\uc774\", \"align\": \"left\", \"font\": {\"family\": \"Arial\", \"size\": 14, \"color\": \"black\"}, \"showarrow\": false}, {\"xref\": \"x1\", \"yref\": \"y1\", \"x\": 39.5, \"y\": 1, \"text\": \"\\uc801\", \"align\": \"left\", \"font\": {\"family\": \"Arial\", \"size\": 14, \"color\": \"black\"}, \"showarrow\": false}, {\"xref\": \"x1\", \"yref\": \"y1\", \"x\": 40.5, \"y\": 1, \"text\": \"\\uc2dc\", \"align\": \"left\", \"font\": {\"family\": \"Arial\", \"size\": 14, \"color\": \"black\"}, \"showarrow\": false}, {\"xref\": \"x1\", \"yref\": \"y1\", \"x\": 41.5, \"y\": 1, \"text\": \"\\uc7a5\", \"align\": \"left\", \"font\": {\"family\": \"Arial\", \"size\": 14, \"color\": \"black\"}, \"showarrow\": false}, {\"xref\": \"x1\", \"yref\": \"y1\", \"x\": 42.5, \"y\": 1, \"text\": \" \", \"align\": \"left\", \"font\": {\"family\": \"Arial\", \"size\": 14, \"color\": \"black\"}, \"showarrow\": false}, {\"xref\": \"x1\", \"yref\": \"y1\", \"x\": 43.5, \"y\": 1, \"text\": \"\\uc2e4\", \"align\": \"left\", \"font\": {\"family\": \"Arial\", \"size\": 14, \"color\": \"black\"}, \"showarrow\": false}, {\"xref\": \"x1\", \"yref\": \"y1\", \"x\": 44.5, \"y\": 1, \"text\": \"\\ud328\", \"align\": \"left\", \"font\": {\"family\": \"Arial\", \"size\": 14, \"color\": \"black\"}, \"showarrow\": false}, {\"xref\": \"x1\", \"yref\": \"y1\", \"x\": 45.5, \"y\": 1, \"text\": \" \", \"align\": \"left\", \"font\": {\"family\": \"Arial\", \"size\": 14, \"color\": \"black\"}, \"showarrow\": false}, {\"xref\": \"x1\", \"yref\": \"y1\", \"x\": 46.5, \"y\": 1, \"text\": \"\\ud6c4\", \"align\": \"left\", \"font\": {\"family\": \"Arial\", \"size\": 14, \"color\": \"black\"}, \"showarrow\": false}, {\"xref\": \"x1\", \"yref\": \"y1\", \"x\": 47.5, \"y\": 1, \"text\": \",\", \"align\": \"left\", \"font\": {\"family\": \"Arial\", \"size\": 14, \"color\": \"black\"}, \"showarrow\": false}, {\"xref\": \"x1\", \"yref\": \"y1\", \"x\": 48.5, \"y\": 1, \"text\": \" \", \"align\": \"left\", \"font\": {\"family\": \"Arial\", \"size\": 14, \"color\": \"black\"}, \"showarrow\": false}, {\"xref\": \"x1\", \"yref\": \"y1\", \"x\": 49.5, \"y\": 1, \"text\": \"1\", \"align\": \"left\", \"font\": {\"family\": \"Arial\", \"size\": 14, \"color\": \"black\"}, \"showarrow\": false}, {\"xref\": \"x2\", \"yref\": \"y2\", \"x\": 0.5, \"y\": 1, \"text\": \"\\uc6d4\", \"align\": \"left\", \"font\": {\"family\": \"Arial\", \"size\": 14, \"color\": \"black\"}, \"showarrow\": false}, {\"xref\": \"x2\", \"yref\": \"y2\", \"x\": 1.5, \"y\": 1, \"text\": \"\\uc5d0\", \"align\": \"left\", \"font\": {\"family\": \"Arial\", \"size\": 14, \"color\": \"black\"}, \"showarrow\": false}, {\"xref\": \"x2\", \"yref\": \"y2\", \"x\": 2.5, \"y\": 1, \"text\": \" \", \"align\": \"left\", \"font\": {\"family\": \"Arial\", \"size\": 14, \"color\": \"black\"}, \"showarrow\": false}, {\"xref\": \"x2\", \"yref\": \"y2\", \"x\": 3.5, \"y\": 1, \"text\": \"\\ub808\", \"align\": \"left\", \"font\": {\"family\": \"Arial\", \"size\": 14, \"color\": \"black\"}, \"showarrow\": false}, {\"xref\": \"x2\", \"yref\": \"y2\", \"x\": 4.5, \"y\": 1, \"text\": \"\\uc54c\", \"align\": \"left\", \"font\": {\"family\": \"Arial\", \"size\": 14, \"color\": \"black\"}, \"showarrow\": false}, {\"xref\": \"x2\", \"yref\": \"y2\", \"x\": 5.5, \"y\": 1, \"text\": \" \", \"align\": \"left\", \"font\": {\"family\": \"Arial\", \"size\": 14, \"color\": \"black\"}, \"showarrow\": false}, {\"xref\": \"x2\", \"yref\": \"y2\", \"x\": 6.5, \"y\": 1, \"text\": \"\\ub9c8\", \"align\": \"left\", \"font\": {\"family\": \"Arial\", \"size\": 14, \"color\": \"black\"}, \"showarrow\": false}, {\"xref\": \"x2\", \"yref\": \"y2\", \"x\": 7.5, \"y\": 1, \"text\": \"\\ub4dc\", \"align\": \"left\", \"font\": {\"family\": \"Arial\", \"size\": 14, \"color\": \"black\"}, \"showarrow\": false}, {\"xref\": \"x2\", \"yref\": \"y2\", \"x\": 8.5, \"y\": 1, \"text\": \"\\ub9ac\", \"align\": \"left\", \"font\": {\"family\": \"Arial\", \"size\": 14, \"color\": \"black\"}, \"showarrow\": false}, {\"xref\": \"x2\", \"yref\": \"y2\", \"x\": 9.5, \"y\": 1, \"text\": \"\\ub4dc\", \"align\": \"left\", \"font\": {\"family\": \"Arial\", \"size\": 14, \"color\": \"black\"}, \"showarrow\": false}, {\"xref\": \"x2\", \"yref\": \"y2\", \"x\": 10.5, \"y\": 1, \"text\": \"\\ub85c\", \"align\": \"left\", \"font\": {\"family\": \"Arial\", \"size\": 14, \"color\": \"black\"}, \"showarrow\": false}, {\"xref\": \"x2\", \"yref\": \"y2\", \"x\": 11.5, \"y\": 1, \"text\": \" \", \"align\": \"left\", \"font\": {\"family\": \"Arial\", \"size\": 14, \"color\": \"black\"}, \"showarrow\": false}, {\"xref\": \"x2\", \"yref\": \"y2\", \"x\": 12.5, \"y\": 1, \"text\": \"\\uc774\", \"align\": \"left\", \"font\": {\"family\": \"Arial\", \"size\": 14, \"color\": \"black\"}, \"showarrow\": false}, {\"xref\": \"x2\", \"yref\": \"y2\", \"x\": 13.5, \"y\": 1, \"text\": \"\\uc801\", \"align\": \"left\", \"font\": {\"family\": \"Arial\", \"size\": 14, \"color\": \"black\"}, \"showarrow\": false}, {\"xref\": \"x2\", \"yref\": \"y2\", \"x\": 14.5, \"y\": 1, \"text\": \"\\ud560\", \"align\": \"left\", \"font\": {\"family\": \"Arial\", \"size\": 14, \"color\": \"black\"}, \"showarrow\": false}, {\"xref\": \"x2\", \"yref\": \"y2\", \"x\": 15.5, \"y\": 1, \"text\": \" \", \"align\": \"left\", \"font\": {\"family\": \"Arial\", \"size\": 14, \"color\": \"black\"}, \"showarrow\": false}, {\"xref\": \"x2\", \"yref\": \"y2\", \"x\": 16.5, \"y\": 1, \"text\": \"\\uc218\", \"align\": \"left\", \"font\": {\"family\": \"Arial\", \"size\": 14, \"color\": \"black\"}, \"showarrow\": false}, {\"xref\": \"x2\", \"yref\": \"y2\", \"x\": 17.5, \"y\": 1, \"text\": \" \", \"align\": \"left\", \"font\": {\"family\": \"Arial\", \"size\": 14, \"color\": \"black\"}, \"showarrow\": false}, {\"xref\": \"x2\", \"yref\": \"y2\", \"x\": 18.5, \"y\": 1, \"text\": \"\\uc788\", \"align\": \"left\", \"font\": {\"family\": \"Arial\", \"size\": 14, \"color\": \"black\"}, \"showarrow\": false}, {\"xref\": \"x2\", \"yref\": \"y2\", \"x\": 19.5, \"y\": 1, \"text\": \"\\ub2e4\", \"align\": \"left\", \"font\": {\"family\": \"Arial\", \"size\": 14, \"color\": \"black\"}, \"showarrow\": false}, {\"xref\": \"x2\", \"yref\": \"y2\", \"x\": 20.5, \"y\": 1, \"text\": \"\\uace0\", \"align\": \"left\", \"font\": {\"family\": \"Arial\", \"size\": 14, \"color\": \"black\"}, \"showarrow\": false}, {\"xref\": \"x2\", \"yref\": \"y2\", \"x\": 21.5, \"y\": 1, \"text\": \" \", \"align\": \"left\", \"font\": {\"family\": \"Arial\", \"size\": 14, \"color\": \"black\"}, \"showarrow\": false}, {\"xref\": \"x2\", \"yref\": \"y2\", \"x\": 22.5, \"y\": 1, \"text\": \"\\uc804\", \"align\": \"left\", \"font\": {\"family\": \"Arial\", \"size\": 14, \"color\": \"black\"}, \"showarrow\": false}, {\"xref\": \"x2\", \"yref\": \"y2\", \"x\": 23.5, \"y\": 1, \"text\": \"\\ud588\", \"align\": \"left\", \"font\": {\"family\": \"Arial\", \"size\": 14, \"color\": \"black\"}, \"showarrow\": false}, {\"xref\": \"x2\", \"yref\": \"y2\", \"x\": 24.5, \"y\": 1, \"text\": \"\\ub2e4\", \"align\": \"left\", \"font\": {\"family\": \"Arial\", \"size\": 14, \"color\": \"black\"}, \"showarrow\": false}, {\"xref\": \"x2\", \"yref\": \"y2\", \"x\": 25.5, \"y\": 1, \"text\": \".\", \"align\": \"left\", \"font\": {\"family\": \"Arial\", \"size\": 14, \"color\": \"black\"}, \"showarrow\": false}], \"height\": 130, \"images\": [{\"source\": \"https://raw.githubusercontent.com/fingeredman/teanaps/master/data/logo/teanaps_logo_no-bg.png\", \"xref\": \"paper\", \"yref\": \"paper\", \"x\": 0.5, \"y\": 0.6, \"sizex\": 0.7, \"sizey\": 0.7, \"xanchor\": \"center\", \"yanchor\": \"center\", \"opacity\": 0.3, \"layer\": \"above\"}]}, {\"showLink\": true, \"linkText\": \"Export to plot.ly\"})});</script>"
      ],
      "text/vnd.plotly.v1+html": [
       "<div id=\"fa9d469c-5e70-45b8-aa7b-a42ad8dabfa3\" style=\"height: 130px; width: 100%;\" class=\"plotly-graph-div\"></div><script type=\"text/javascript\">require([\"plotly\"], function(Plotly) { window.PLOTLYENV=window.PLOTLYENV || {};window.PLOTLYENV.BASE_URL=\"https://plot.ly\";Plotly.newPlot(\"fa9d469c-5e70-45b8-aa7b-a42ad8dabfa3\", [{\"type\": \"bar\", \"y\": [1], \"x\": [3], \"orientation\": \"h\", \"width\": 0.5, \"text\": \"0.63\", \"hoverinfo\": \"text\", \"marker\": {\"color\": \"rgb(129.28384034267748, 192.14192017133874, 255)\"}, \"xaxis\": \"x1\", \"yaxis\": \"y1\"}, {\"type\": \"bar\", \"y\": [1], \"x\": [3], \"orientation\": \"h\", \"width\": 0.5, \"text\": \"0.15\", \"hoverinfo\": \"text\", \"marker\": {\"color\": \"rgb(225.7055553584065, 240.35277767920326, 255)\"}, \"xaxis\": \"x1\", \"yaxis\": \"y1\"}, {\"type\": \"bar\", \"y\": [1], \"x\": [1], \"orientation\": \"h\", \"width\": 0.5, \"text\": \"0.03\", \"hoverinfo\": \"text\", \"marker\": {\"color\": \"rgb(249.99427253048214, 252.49713626524107, 255)\"}, \"xaxis\": \"x1\", \"yaxis\": \"y1\"}, {\"type\": \"bar\", \"y\": [1], \"x\": [2], \"orientation\": \"h\", \"width\": 0.5, \"text\": \"0.18\", \"hoverinfo\": \"text\", \"marker\": {\"color\": \"rgb(219.66547820586953, 237.33273910293477, 255)\"}, \"xaxis\": \"x1\", \"yaxis\": \"y1\"}, {\"type\": \"bar\", \"y\": [1], \"x\": [1], \"orientation\": \"h\", \"width\": 0.5, \"text\": \"0.22\", \"hoverinfo\": \"text\", \"marker\": {\"color\": \"rgb(210.67044009927963, 232.83522004963982, 255)\"}, \"xaxis\": \"x1\", \"yaxis\": \"y1\"}, {\"type\": \"bar\", \"y\": [1], \"x\": [4], \"orientation\": \"h\", \"width\": 0.5, \"text\": \"0.21\", \"hoverinfo\": \"text\", \"marker\": {\"color\": \"rgb(213.19629225280815, 234.0981461264041, 255)\"}, \"xaxis\": \"x1\", \"yaxis\": \"y1\"}, {\"type\": \"bar\", \"y\": [1], \"x\": [1], \"orientation\": \"h\", \"width\": 0.5, \"text\": \"0.1\", \"hoverinfo\": \"text\", \"marker\": {\"color\": \"rgb(235.72976572431745, 245.36488286215874, 255)\"}, \"xaxis\": \"x1\", \"yaxis\": \"y1\"}, {\"type\": \"bar\", \"y\": [1], \"x\": [3], \"orientation\": \"h\", \"width\": 0.5, \"text\": \"0.49\", \"hoverinfo\": \"text\", \"marker\": {\"color\": \"rgb(157.93827588294357, 206.46913794147179, 255)\"}, \"xaxis\": \"x1\", \"yaxis\": \"y1\"}, {\"type\": \"bar\", \"y\": [1], \"x\": [1], \"orientation\": \"h\", \"width\": 0.5, \"text\": \"0.11\", \"hoverinfo\": \"text\", \"marker\": {\"color\": \"rgb(232.99218037327967, 243.99609018663983, 255)\"}, \"xaxis\": \"x1\", \"yaxis\": \"y1\"}, {\"type\": \"bar\", \"y\": [1], \"x\": [3], \"orientation\": \"h\", \"width\": 0.5, \"text\": \"0.38\", \"hoverinfo\": \"text\", \"marker\": {\"color\": \"rgb(179.87593179014343, 217.43796589507173, 255)\"}, \"xaxis\": \"x1\", \"yaxis\": \"y1\"}, {\"type\": \"bar\", \"y\": [1], \"x\": [5], \"orientation\": \"h\", \"width\": 0.5, \"text\": \"0.13\", \"hoverinfo\": \"text\", \"marker\": {\"color\": \"rgb(229.41165971890257, 242.20582985945128, 255)\"}, \"xaxis\": \"x1\", \"yaxis\": \"y1\"}, {\"type\": \"bar\", \"y\": [1], \"x\": [2], \"orientation\": \"h\", \"width\": 0.5, \"text\": \"1.0\", \"hoverinfo\": \"text\", \"marker\": {\"color\": \"rgb(55.0, 155.0, 255)\"}, \"xaxis\": \"x1\", \"yaxis\": \"y1\"}, {\"type\": \"bar\", \"y\": [1], \"x\": [2], \"orientation\": \"h\", \"width\": 0.5, \"text\": \"0.51\", \"hoverinfo\": \"text\", \"marker\": {\"color\": \"rgb(153.35224224560642, 204.1761211228032, 255)\"}, \"xaxis\": \"x1\", \"yaxis\": \"y1\"}, {\"type\": \"bar\", \"y\": [1], \"x\": [1], \"orientation\": \"h\", \"width\": 0.5, \"text\": \"0.36\", \"hoverinfo\": \"text\", \"marker\": {\"color\": \"rgb(182.22340627615847, 218.61170313807924, 255)\"}, \"xaxis\": \"x1\", \"yaxis\": \"y1\"}, {\"type\": \"bar\", \"y\": [1], \"x\": [1], \"orientation\": \"h\", \"width\": 0.5, \"text\": \"0.34\", \"hoverinfo\": \"text\", \"marker\": {\"color\": \"rgb(187.7736003056042, 221.3868001528021, 255)\"}, \"xaxis\": \"x1\", \"yaxis\": \"y1\"}, {\"type\": \"bar\", \"y\": [1], \"x\": [1], \"orientation\": \"h\", \"width\": 0.5, \"text\": \"0.07\", \"hoverinfo\": \"text\", \"marker\": {\"color\": \"rgb(240.71397930491744, 247.8569896524587, 255)\"}, \"xaxis\": \"x1\", \"yaxis\": \"y1\"}, {\"type\": \"bar\", \"y\": [1], \"x\": [3], \"orientation\": \"h\", \"width\": 0.5, \"text\": \"0.04\", \"hoverinfo\": \"text\", \"marker\": {\"color\": \"rgb(247.6003687498826, 251.3001843749413, 255)\"}, \"xaxis\": \"x1\", \"yaxis\": \"y1\"}, {\"type\": \"bar\", \"y\": [1], \"x\": [3], \"orientation\": \"h\", \"width\": 0.5, \"text\": \"0.07\", \"hoverinfo\": \"text\", \"marker\": {\"color\": \"rgb(240.83667709701055, 247.91833854850526, 255)\"}, \"xaxis\": \"x1\", \"yaxis\": \"y1\"}, {\"type\": \"bar\", \"y\": [1], \"x\": [2], \"orientation\": \"h\", \"width\": 0.5, \"text\": \"0.07\", \"hoverinfo\": \"text\", \"marker\": {\"color\": \"rgb(240.0389655798652, 247.5194827899326, 255)\"}, \"xaxis\": \"x1\", \"yaxis\": \"y1\"}, {\"type\": \"bar\", \"y\": [1], \"x\": [3], \"orientation\": \"h\", \"width\": 0.5, \"text\": \"0.0\", \"hoverinfo\": \"text\", \"marker\": {\"color\": \"rgb(254.55870150698985, 254.77935075349492, 255)\"}, \"xaxis\": \"x1\", \"yaxis\": \"y1\"}, {\"type\": \"bar\", \"y\": [1], \"x\": [2], \"orientation\": \"h\", \"width\": 0.5, \"text\": \"0.06\", \"hoverinfo\": \"text\", \"marker\": {\"color\": \"rgb(242.39546728845153, 248.69773364422576, 255)\"}, \"xaxis\": \"x1\", \"yaxis\": \"y1\"}, {\"type\": \"bar\", \"y\": [1], \"x\": [1], \"orientation\": \"h\", \"width\": 0.5, \"text\": \"0.03\", \"hoverinfo\": \"text\", \"marker\": {\"color\": \"rgb(249.7970007368735, 252.39850036843677, 255)\"}, \"xaxis\": \"x1\", \"yaxis\": \"y1\"}, {\"type\": \"bar\", \"y\": [1], \"x\": [2], \"orientation\": \"h\", \"width\": 0.5, \"text\": \"0.44\", \"hoverinfo\": \"text\", \"marker\": {\"color\": \"rgb(166.0904600971504, 210.5452300485752, 255)\"}, \"xaxis\": \"x1\", \"yaxis\": \"y1\"}, {\"type\": \"bar\", \"y\": [1], \"x\": [2], \"orientation\": \"h\", \"width\": 0.5, \"text\": \"0.01\", \"hoverinfo\": \"text\", \"marker\": {\"color\": \"rgb(252.4910414026899, 253.74552070134496, 255)\"}, \"xaxis\": \"x2\", \"yaxis\": \"y2\"}, {\"type\": \"bar\", \"y\": [1], \"x\": [3], \"orientation\": \"h\", \"width\": 0.5, \"text\": \"0.43\", \"hoverinfo\": \"text\", \"marker\": {\"color\": \"rgb(169.6618627244281, 212.33093136221405, 255)\"}, \"xaxis\": \"x2\", \"yaxis\": \"y2\"}, {\"type\": \"bar\", \"y\": [1], \"x\": [5], \"orientation\": \"h\", \"width\": 0.5, \"text\": \"0.27\", \"hoverinfo\": \"text\", \"marker\": {\"color\": \"rgb(201.9457030671056, 228.47285153355278, 255)\"}, \"xaxis\": \"x2\", \"yaxis\": \"y2\"}, {\"type\": \"bar\", \"y\": [1], \"x\": [1], \"orientation\": \"h\", \"width\": 0.5, \"text\": \"0.06\", \"hoverinfo\": \"text\", \"marker\": {\"color\": \"rgb(242.54927659059265, 248.7746382952963, 255)\"}, \"xaxis\": \"x2\", \"yaxis\": \"y2\"}, {\"type\": \"bar\", \"y\": [1], \"x\": [3], \"orientation\": \"h\", \"width\": 0.5, \"text\": \"0.06\", \"hoverinfo\": \"text\", \"marker\": {\"color\": \"rgb(243.8712934530979, 249.43564672654895, 255)\"}, \"xaxis\": \"x2\", \"yaxis\": \"y2\"}, {\"type\": \"bar\", \"y\": [1], \"x\": [1], \"orientation\": \"h\", \"width\": 0.5, \"text\": \"0.09\", \"hoverinfo\": \"text\", \"marker\": {\"color\": \"rgb(236.6590237782616, 245.8295118891308, 255)\"}, \"xaxis\": \"x2\", \"yaxis\": \"y2\"}, {\"type\": \"bar\", \"y\": [1], \"x\": [2], \"orientation\": \"h\", \"width\": 0.5, \"text\": \"0.1\", \"hoverinfo\": \"text\", \"marker\": {\"color\": \"rgb(235.52657441483265, 245.26328720741634, 255)\"}, \"xaxis\": \"x2\", \"yaxis\": \"y2\"}, {\"type\": \"bar\", \"y\": [1], \"x\": [4], \"orientation\": \"h\", \"width\": 0.5, \"text\": \"0.09\", \"hoverinfo\": \"text\", \"marker\": {\"color\": \"rgb(236.9702286395394, 245.9851143197697, 255)\"}, \"xaxis\": \"x2\", \"yaxis\": \"y2\"}, {\"type\": \"bar\", \"y\": [1], \"x\": [4], \"orientation\": \"h\", \"width\": 0.5, \"text\": \"0.06\", \"hoverinfo\": \"text\", \"marker\": {\"color\": \"rgb(242.23663033789722, 248.6183151689486, 255)\"}, \"xaxis\": \"x2\", \"yaxis\": \"y2\"}, {\"type\": \"bar\", \"y\": [1], \"x\": [1], \"orientation\": \"h\", \"width\": 0.5, \"text\": \"0.07\", \"hoverinfo\": \"text\", \"marker\": {\"color\": \"rgb(240.1341495999382, 247.5670747999691, 255)\"}, \"xaxis\": \"x2\", \"yaxis\": \"y2\"}, {\"type\": \"bar\", \"y\": [1], \"x\": [1], \"orientation\": \"h\", \"width\": 0.5, \"text\": \"\", \"hoverinfo\": \"text\", \"marker\": {\"color\": \"rgb(255, 255, 255)\"}, \"xaxis\": \"x2\", \"yaxis\": \"y2\"}, {\"type\": \"bar\", \"y\": [1], \"x\": [1], \"orientation\": \"h\", \"width\": 0.5, \"text\": \"\", \"hoverinfo\": \"text\", \"marker\": {\"color\": \"rgb(255, 255, 255)\"}, \"xaxis\": \"x2\", \"yaxis\": \"y2\"}, {\"type\": \"bar\", \"y\": [1], \"x\": [1], \"orientation\": \"h\", \"width\": 0.5, \"text\": \"\", \"hoverinfo\": \"text\", \"marker\": {\"color\": \"rgb(255, 255, 255)\"}, \"xaxis\": \"x2\", \"yaxis\": \"y2\"}, {\"type\": \"bar\", \"y\": [1], \"x\": [1], \"orientation\": \"h\", \"width\": 0.5, \"text\": \"\", \"hoverinfo\": \"text\", \"marker\": {\"color\": \"rgb(255, 255, 255)\"}, \"xaxis\": \"x2\", \"yaxis\": \"y2\"}, {\"type\": \"bar\", \"y\": [1], \"x\": [1], \"orientation\": \"h\", \"width\": 0.5, \"text\": \"\", \"hoverinfo\": \"text\", \"marker\": {\"color\": \"rgb(255, 255, 255)\"}, \"xaxis\": \"x2\", \"yaxis\": \"y2\"}, {\"type\": \"bar\", \"y\": [1], \"x\": [1], \"orientation\": \"h\", \"width\": 0.5, \"text\": \"\", \"hoverinfo\": \"text\", \"marker\": {\"color\": \"rgb(255, 255, 255)\"}, \"xaxis\": \"x2\", \"yaxis\": \"y2\"}, {\"type\": \"bar\", \"y\": [1], \"x\": [1], \"orientation\": \"h\", \"width\": 0.5, \"text\": \"\", \"hoverinfo\": \"text\", \"marker\": {\"color\": \"rgb(255, 255, 255)\"}, \"xaxis\": \"x2\", \"yaxis\": \"y2\"}, {\"type\": \"bar\", \"y\": [1], \"x\": [1], \"orientation\": \"h\", \"width\": 0.5, \"text\": \"\", \"hoverinfo\": \"text\", \"marker\": {\"color\": \"rgb(255, 255, 255)\"}, \"xaxis\": \"x2\", \"yaxis\": \"y2\"}, {\"type\": \"bar\", \"y\": [1], \"x\": [1], \"orientation\": \"h\", \"width\": 0.5, \"text\": \"\", \"hoverinfo\": \"text\", \"marker\": {\"color\": \"rgb(255, 255, 255)\"}, \"xaxis\": \"x2\", \"yaxis\": \"y2\"}, {\"type\": \"bar\", \"y\": [1], \"x\": [1], \"orientation\": \"h\", \"width\": 0.5, \"text\": \"\", \"hoverinfo\": \"text\", \"marker\": {\"color\": \"rgb(255, 255, 255)\"}, \"xaxis\": \"x2\", \"yaxis\": \"y2\"}, {\"type\": \"bar\", \"y\": [1], \"x\": [1], \"orientation\": \"h\", \"width\": 0.5, \"text\": \"\", \"hoverinfo\": \"text\", \"marker\": {\"color\": \"rgb(255, 255, 255)\"}, \"xaxis\": \"x2\", \"yaxis\": \"y2\"}, {\"type\": \"bar\", \"y\": [1], \"x\": [1], \"orientation\": \"h\", \"width\": 0.5, \"text\": \"\", \"hoverinfo\": \"text\", \"marker\": {\"color\": \"rgb(255, 255, 255)\"}, \"xaxis\": \"x2\", \"yaxis\": \"y2\"}, {\"type\": \"bar\", \"y\": [1], \"x\": [1], \"orientation\": \"h\", \"width\": 0.5, \"text\": \"\", \"hoverinfo\": \"text\", \"marker\": {\"color\": \"rgb(255, 255, 255)\"}, \"xaxis\": \"x2\", \"yaxis\": \"y2\"}, {\"type\": \"bar\", \"y\": [1], \"x\": [1], \"orientation\": \"h\", \"width\": 0.5, \"text\": \"\", \"hoverinfo\": \"text\", \"marker\": {\"color\": \"rgb(255, 255, 255)\"}, \"xaxis\": \"x2\", \"yaxis\": \"y2\"}, {\"type\": \"bar\", \"y\": [1], \"x\": [1], \"orientation\": \"h\", \"width\": 0.5, \"text\": \"\", \"hoverinfo\": \"text\", \"marker\": {\"color\": \"rgb(255, 255, 255)\"}, \"xaxis\": \"x2\", \"yaxis\": \"y2\"}, {\"type\": \"bar\", \"y\": [1], \"x\": [1], \"orientation\": \"h\", \"width\": 0.5, \"text\": \"\", \"hoverinfo\": \"text\", \"marker\": {\"color\": \"rgb(255, 255, 255)\"}, \"xaxis\": \"x2\", \"yaxis\": \"y2\"}, {\"type\": \"bar\", \"y\": [1], \"x\": [1], \"orientation\": \"h\", \"width\": 0.5, \"text\": \"\", \"hoverinfo\": \"text\", \"marker\": {\"color\": \"rgb(255, 255, 255)\"}, \"xaxis\": \"x2\", \"yaxis\": \"y2\"}, {\"type\": \"bar\", \"y\": [1], \"x\": [1], \"orientation\": \"h\", \"width\": 0.5, \"text\": \"\", \"hoverinfo\": \"text\", \"marker\": {\"color\": \"rgb(255, 255, 255)\"}, \"xaxis\": \"x2\", \"yaxis\": \"y2\"}, {\"type\": \"bar\", \"y\": [1], \"x\": [1], \"orientation\": \"h\", \"width\": 0.5, \"text\": \"\", \"hoverinfo\": \"text\", \"marker\": {\"color\": \"rgb(255, 255, 255)\"}, \"xaxis\": \"x2\", \"yaxis\": \"y2\"}, {\"type\": \"bar\", \"y\": [1], \"x\": [1], \"orientation\": \"h\", \"width\": 0.5, \"text\": \"\", \"hoverinfo\": \"text\", \"marker\": {\"color\": \"rgb(255, 255, 255)\"}, \"xaxis\": \"x2\", \"yaxis\": \"y2\"}, {\"type\": \"bar\", \"y\": [1], \"x\": [1], \"orientation\": \"h\", \"width\": 0.5, \"text\": \"\", \"hoverinfo\": \"text\", \"marker\": {\"color\": \"rgb(255, 255, 255)\"}, \"xaxis\": \"x2\", \"yaxis\": \"y2\"}, {\"type\": \"bar\", \"y\": [1], \"x\": [1], \"orientation\": \"h\", \"width\": 0.5, \"text\": \"\", \"hoverinfo\": \"text\", \"marker\": {\"color\": \"rgb(255, 255, 255)\"}, \"xaxis\": \"x2\", \"yaxis\": \"y2\"}, {\"type\": \"bar\", \"y\": [1], \"x\": [1], \"orientation\": \"h\", \"width\": 0.5, \"text\": \"\", \"hoverinfo\": \"text\", \"marker\": {\"color\": \"rgb(255, 255, 255)\"}, \"xaxis\": \"x2\", \"yaxis\": \"y2\"}, {\"type\": \"bar\", \"y\": [1], \"x\": [1], \"orientation\": \"h\", \"width\": 0.5, \"text\": \"\", \"hoverinfo\": \"text\", \"marker\": {\"color\": \"rgb(255, 255, 255)\"}, \"xaxis\": \"x2\", \"yaxis\": \"y2\"}], {\"xaxis1\": {\"domain\": [0.0, 1.0], \"anchor\": \"y1\", \"showgrid\": false, \"showline\": false, \"showticklabels\": false, \"zeroline\": false}, \"yaxis1\": {\"domain\": [0.575, 1.0], \"anchor\": \"x1\", \"showgrid\": false, \"showline\": false, \"showticklabels\": false, \"zeroline\": false}, \"xaxis2\": {\"domain\": [0.0, 1.0], \"anchor\": \"y2\", \"showgrid\": false, \"showline\": false, \"showticklabels\": false, \"zeroline\": false}, \"yaxis2\": {\"domain\": [0.0, 0.425], \"anchor\": \"x2\", \"showgrid\": false, \"showline\": false, \"showticklabels\": false, \"zeroline\": false}, \"barmode\": \"stack\", \"showlegend\": false, \"margin\": {\"b\": 30, \"l\": 20, \"r\": 20, \"t\": 10}, \"annotations\": [{\"xref\": \"x1\", \"yref\": \"y1\", \"x\": 0.5, \"y\": 1, \"text\": \" \", \"align\": \"left\", \"font\": {\"family\": \"Arial\", \"size\": 14, \"color\": \"black\"}, \"showarrow\": false}, {\"xref\": \"x1\", \"yref\": \"y1\", \"x\": 1.5, \"y\": 1, \"text\": \"\\uc601\", \"align\": \"left\", \"font\": {\"family\": \"Arial\", \"size\": 14, \"color\": \"black\"}, \"showarrow\": false}, {\"xref\": \"x1\", \"yref\": \"y1\", \"x\": 2.5, \"y\": 1, \"text\": \"\\uad6d\", \"align\": \"left\", \"font\": {\"family\": \"Arial\", \"size\": 14, \"color\": \"black\"}, \"showarrow\": false}, {\"xref\": \"x1\", \"yref\": \"y1\", \"x\": 3.5, \"y\": 1, \"text\": \" \", \"align\": \"left\", \"font\": {\"family\": \"Arial\", \"size\": 14, \"color\": \"black\"}, \"showarrow\": false}, {\"xref\": \"x1\", \"yref\": \"y1\", \"x\": 4.5, \"y\": 1, \"text\": \"\\ub9e4\", \"align\": \"left\", \"font\": {\"family\": \"Arial\", \"size\": 14, \"color\": \"black\"}, \"showarrow\": false}, {\"xref\": \"x1\", \"yref\": \"y1\", \"x\": 5.5, \"y\": 1, \"text\": \"\\uccb4\", \"align\": \"left\", \"font\": {\"family\": \"Arial\", \"size\": 14, \"color\": \"black\"}, \"showarrow\": false}, {\"xref\": \"x1\", \"yref\": \"y1\", \"x\": 6.5, \"y\": 1, \"text\": \" \", \"align\": \"left\", \"font\": {\"family\": \"Arial\", \"size\": 14, \"color\": \"black\"}, \"showarrow\": false}, {\"xref\": \"x1\", \"yref\": \"y1\", \"x\": 7.5, \"y\": 1, \"text\": \"\\uc2a4\", \"align\": \"left\", \"font\": {\"family\": \"Arial\", \"size\": 14, \"color\": \"black\"}, \"showarrow\": false}, {\"xref\": \"x1\", \"yref\": \"y1\", \"x\": 8.5, \"y\": 1, \"text\": \"\\uce74\", \"align\": \"left\", \"font\": {\"family\": \"Arial\", \"size\": 14, \"color\": \"black\"}, \"showarrow\": false}, {\"xref\": \"x1\", \"yref\": \"y1\", \"x\": 9.5, \"y\": 1, \"text\": \"\\uc774\", \"align\": \"left\", \"font\": {\"family\": \"Arial\", \"size\": 14, \"color\": \"black\"}, \"showarrow\": false}, {\"xref\": \"x1\", \"yref\": \"y1\", \"x\": 10.5, \"y\": 1, \"text\": \" \", \"align\": \"left\", \"font\": {\"family\": \"Arial\", \"size\": 14, \"color\": \"black\"}, \"showarrow\": false}, {\"xref\": \"x1\", \"yref\": \"y1\", \"x\": 11.5, \"y\": 1, \"text\": \"\\uc2a4\", \"align\": \"left\", \"font\": {\"family\": \"Arial\", \"size\": 14, \"color\": \"black\"}, \"showarrow\": false}, {\"xref\": \"x1\", \"yref\": \"y1\", \"x\": 12.5, \"y\": 1, \"text\": \"\\ud3ec\", \"align\": \"left\", \"font\": {\"family\": \"Arial\", \"size\": 14, \"color\": \"black\"}, \"showarrow\": false}, {\"xref\": \"x1\", \"yref\": \"y1\", \"x\": 13.5, \"y\": 1, \"text\": \"\\uce20\", \"align\": \"left\", \"font\": {\"family\": \"Arial\", \"size\": 14, \"color\": \"black\"}, \"showarrow\": false}, {\"xref\": \"x1\", \"yref\": \"y1\", \"x\": 14.5, \"y\": 1, \"text\": \"\\ub294\", \"align\": \"left\", \"font\": {\"family\": \"Arial\", \"size\": 14, \"color\": \"black\"}, \"showarrow\": false}, {\"xref\": \"x1\", \"yref\": \"y1\", \"x\": 15.5, \"y\": 1, \"text\": \" \", \"align\": \"left\", \"font\": {\"family\": \"Arial\", \"size\": 14, \"color\": \"black\"}, \"showarrow\": false}, {\"xref\": \"x1\", \"yref\": \"y1\", \"x\": 16.5, \"y\": 1, \"text\": \"2\", \"align\": \"left\", \"font\": {\"family\": \"Arial\", \"size\": 14, \"color\": \"black\"}, \"showarrow\": false}, {\"xref\": \"x1\", \"yref\": \"y1\", \"x\": 17.5, \"y\": 1, \"text\": \"5\", \"align\": \"left\", \"font\": {\"family\": \"Arial\", \"size\": 14, \"color\": \"black\"}, \"showarrow\": false}, {\"xref\": \"x1\", \"yref\": \"y1\", \"x\": 18.5, \"y\": 1, \"text\": \"\\uc77c\", \"align\": \"left\", \"font\": {\"family\": \"Arial\", \"size\": 14, \"color\": \"black\"}, \"showarrow\": false}, {\"xref\": \"x1\", \"yref\": \"y1\", \"x\": 19.5, \"y\": 1, \"text\": \" \", \"align\": \"left\", \"font\": {\"family\": \"Arial\", \"size\": 14, \"color\": \"black\"}, \"showarrow\": false}, {\"xref\": \"x1\", \"yref\": \"y1\", \"x\": 20.5, \"y\": 1, \"text\": \"\\ub9e8\", \"align\": \"left\", \"font\": {\"family\": \"Arial\", \"size\": 14, \"color\": \"black\"}, \"showarrow\": false}, {\"xref\": \"x1\", \"yref\": \"y1\", \"x\": 21.5, \"y\": 1, \"text\": \"\\uc720\", \"align\": \"left\", \"font\": {\"family\": \"Arial\", \"size\": 14, \"color\": \"black\"}, \"showarrow\": false}, {\"xref\": \"x1\", \"yref\": \"y1\", \"x\": 22.5, \"y\": 1, \"text\": \" \", \"align\": \"left\", \"font\": {\"family\": \"Arial\", \"size\": 14, \"color\": \"black\"}, \"showarrow\": false}, {\"xref\": \"x1\", \"yref\": \"y1\", \"x\": 23.5, \"y\": 1, \"text\": \"\\ubbf8\", \"align\": \"left\", \"font\": {\"family\": \"Arial\", \"size\": 14, \"color\": \"black\"}, \"showarrow\": false}, {\"xref\": \"x1\", \"yref\": \"y1\", \"x\": 24.5, \"y\": 1, \"text\": \"\\ub4dc\", \"align\": \"left\", \"font\": {\"family\": \"Arial\", \"size\": 14, \"color\": \"black\"}, \"showarrow\": false}, {\"xref\": \"x1\", \"yref\": \"y1\", \"x\": 25.5, \"y\": 1, \"text\": \"\\ud544\", \"align\": \"left\", \"font\": {\"family\": \"Arial\", \"size\": 14, \"color\": \"black\"}, \"showarrow\": false}, {\"xref\": \"x1\", \"yref\": \"y1\", \"x\": 26.5, \"y\": 1, \"text\": \"\\ub354\", \"align\": \"left\", \"font\": {\"family\": \"Arial\", \"size\": 14, \"color\": \"black\"}, \"showarrow\": false}, {\"xref\": \"x1\", \"yref\": \"y1\", \"x\": 27.5, \"y\": 1, \"text\": \" \", \"align\": \"left\", \"font\": {\"family\": \"Arial\", \"size\": 14, \"color\": \"black\"}, \"showarrow\": false}, {\"xref\": \"x1\", \"yref\": \"y1\", \"x\": 28.5, \"y\": 1, \"text\": \"\\ud3f4\", \"align\": \"left\", \"font\": {\"family\": \"Arial\", \"size\": 14, \"color\": \"black\"}, \"showarrow\": false}, {\"xref\": \"x1\", \"yref\": \"y1\", \"x\": 29.5, \"y\": 1, \"text\": \" \", \"align\": \"left\", \"font\": {\"family\": \"Arial\", \"size\": 14, \"color\": \"black\"}, \"showarrow\": false}, {\"xref\": \"x1\", \"yref\": \"y1\", \"x\": 30.5, \"y\": 1, \"text\": \"\\ud3ec\", \"align\": \"left\", \"font\": {\"family\": \"Arial\", \"size\": 14, \"color\": \"black\"}, \"showarrow\": false}, {\"xref\": \"x1\", \"yref\": \"y1\", \"x\": 31.5, \"y\": 1, \"text\": \"\\uadf8\", \"align\": \"left\", \"font\": {\"family\": \"Arial\", \"size\": 14, \"color\": \"black\"}, \"showarrow\": false}, {\"xref\": \"x1\", \"yref\": \"y1\", \"x\": 32.5, \"y\": 1, \"text\": \"\\ubc14\", \"align\": \"left\", \"font\": {\"family\": \"Arial\", \"size\": 14, \"color\": \"black\"}, \"showarrow\": false}, {\"xref\": \"x1\", \"yref\": \"y1\", \"x\": 33.5, \"y\": 1, \"text\": \"\\uac00\", \"align\": \"left\", \"font\": {\"family\": \"Arial\", \"size\": 14, \"color\": \"black\"}, \"showarrow\": false}, {\"xref\": \"x1\", \"yref\": \"y1\", \"x\": 34.5, \"y\": 1, \"text\": \" \", \"align\": \"left\", \"font\": {\"family\": \"Arial\", \"size\": 14, \"color\": \"black\"}, \"showarrow\": false}, {\"xref\": \"x1\", \"yref\": \"y1\", \"x\": 35.5, \"y\": 1, \"text\": \"\\uc5ec\", \"align\": \"left\", \"font\": {\"family\": \"Arial\", \"size\": 14, \"color\": \"black\"}, \"showarrow\": false}, {\"xref\": \"x1\", \"yref\": \"y1\", \"x\": 36.5, \"y\": 1, \"text\": \"\\ub984\", \"align\": \"left\", \"font\": {\"family\": \"Arial\", \"size\": 14, \"color\": \"black\"}, \"showarrow\": false}, {\"xref\": \"x1\", \"yref\": \"y1\", \"x\": 37.5, \"y\": 1, \"text\": \" \", \"align\": \"left\", \"font\": {\"family\": \"Arial\", \"size\": 14, \"color\": \"black\"}, \"showarrow\": false}, {\"xref\": \"x1\", \"yref\": \"y1\", \"x\": 38.5, \"y\": 1, \"text\": \"\\uc774\", \"align\": \"left\", \"font\": {\"family\": \"Arial\", \"size\": 14, \"color\": \"black\"}, \"showarrow\": false}, {\"xref\": \"x1\", \"yref\": \"y1\", \"x\": 39.5, \"y\": 1, \"text\": \"\\uc801\", \"align\": \"left\", \"font\": {\"family\": \"Arial\", \"size\": 14, \"color\": \"black\"}, \"showarrow\": false}, {\"xref\": \"x1\", \"yref\": \"y1\", \"x\": 40.5, \"y\": 1, \"text\": \"\\uc2dc\", \"align\": \"left\", \"font\": {\"family\": \"Arial\", \"size\": 14, \"color\": \"black\"}, \"showarrow\": false}, {\"xref\": \"x1\", \"yref\": \"y1\", \"x\": 41.5, \"y\": 1, \"text\": \"\\uc7a5\", \"align\": \"left\", \"font\": {\"family\": \"Arial\", \"size\": 14, \"color\": \"black\"}, \"showarrow\": false}, {\"xref\": \"x1\", \"yref\": \"y1\", \"x\": 42.5, \"y\": 1, \"text\": \" \", \"align\": \"left\", \"font\": {\"family\": \"Arial\", \"size\": 14, \"color\": \"black\"}, \"showarrow\": false}, {\"xref\": \"x1\", \"yref\": \"y1\", \"x\": 43.5, \"y\": 1, \"text\": \"\\uc2e4\", \"align\": \"left\", \"font\": {\"family\": \"Arial\", \"size\": 14, \"color\": \"black\"}, \"showarrow\": false}, {\"xref\": \"x1\", \"yref\": \"y1\", \"x\": 44.5, \"y\": 1, \"text\": \"\\ud328\", \"align\": \"left\", \"font\": {\"family\": \"Arial\", \"size\": 14, \"color\": \"black\"}, \"showarrow\": false}, {\"xref\": \"x1\", \"yref\": \"y1\", \"x\": 45.5, \"y\": 1, \"text\": \" \", \"align\": \"left\", \"font\": {\"family\": \"Arial\", \"size\": 14, \"color\": \"black\"}, \"showarrow\": false}, {\"xref\": \"x1\", \"yref\": \"y1\", \"x\": 46.5, \"y\": 1, \"text\": \"\\ud6c4\", \"align\": \"left\", \"font\": {\"family\": \"Arial\", \"size\": 14, \"color\": \"black\"}, \"showarrow\": false}, {\"xref\": \"x1\", \"yref\": \"y1\", \"x\": 47.5, \"y\": 1, \"text\": \",\", \"align\": \"left\", \"font\": {\"family\": \"Arial\", \"size\": 14, \"color\": \"black\"}, \"showarrow\": false}, {\"xref\": \"x1\", \"yref\": \"y1\", \"x\": 48.5, \"y\": 1, \"text\": \" \", \"align\": \"left\", \"font\": {\"family\": \"Arial\", \"size\": 14, \"color\": \"black\"}, \"showarrow\": false}, {\"xref\": \"x1\", \"yref\": \"y1\", \"x\": 49.5, \"y\": 1, \"text\": \"1\", \"align\": \"left\", \"font\": {\"family\": \"Arial\", \"size\": 14, \"color\": \"black\"}, \"showarrow\": false}, {\"xref\": \"x2\", \"yref\": \"y2\", \"x\": 0.5, \"y\": 1, \"text\": \"\\uc6d4\", \"align\": \"left\", \"font\": {\"family\": \"Arial\", \"size\": 14, \"color\": \"black\"}, \"showarrow\": false}, {\"xref\": \"x2\", \"yref\": \"y2\", \"x\": 1.5, \"y\": 1, \"text\": \"\\uc5d0\", \"align\": \"left\", \"font\": {\"family\": \"Arial\", \"size\": 14, \"color\": \"black\"}, \"showarrow\": false}, {\"xref\": \"x2\", \"yref\": \"y2\", \"x\": 2.5, \"y\": 1, \"text\": \" \", \"align\": \"left\", \"font\": {\"family\": \"Arial\", \"size\": 14, \"color\": \"black\"}, \"showarrow\": false}, {\"xref\": \"x2\", \"yref\": \"y2\", \"x\": 3.5, \"y\": 1, \"text\": \"\\ub808\", \"align\": \"left\", \"font\": {\"family\": \"Arial\", \"size\": 14, \"color\": \"black\"}, \"showarrow\": false}, {\"xref\": \"x2\", \"yref\": \"y2\", \"x\": 4.5, \"y\": 1, \"text\": \"\\uc54c\", \"align\": \"left\", \"font\": {\"family\": \"Arial\", \"size\": 14, \"color\": \"black\"}, \"showarrow\": false}, {\"xref\": \"x2\", \"yref\": \"y2\", \"x\": 5.5, \"y\": 1, \"text\": \" \", \"align\": \"left\", \"font\": {\"family\": \"Arial\", \"size\": 14, \"color\": \"black\"}, \"showarrow\": false}, {\"xref\": \"x2\", \"yref\": \"y2\", \"x\": 6.5, \"y\": 1, \"text\": \"\\ub9c8\", \"align\": \"left\", \"font\": {\"family\": \"Arial\", \"size\": 14, \"color\": \"black\"}, \"showarrow\": false}, {\"xref\": \"x2\", \"yref\": \"y2\", \"x\": 7.5, \"y\": 1, \"text\": \"\\ub4dc\", \"align\": \"left\", \"font\": {\"family\": \"Arial\", \"size\": 14, \"color\": \"black\"}, \"showarrow\": false}, {\"xref\": \"x2\", \"yref\": \"y2\", \"x\": 8.5, \"y\": 1, \"text\": \"\\ub9ac\", \"align\": \"left\", \"font\": {\"family\": \"Arial\", \"size\": 14, \"color\": \"black\"}, \"showarrow\": false}, {\"xref\": \"x2\", \"yref\": \"y2\", \"x\": 9.5, \"y\": 1, \"text\": \"\\ub4dc\", \"align\": \"left\", \"font\": {\"family\": \"Arial\", \"size\": 14, \"color\": \"black\"}, \"showarrow\": false}, {\"xref\": \"x2\", \"yref\": \"y2\", \"x\": 10.5, \"y\": 1, \"text\": \"\\ub85c\", \"align\": \"left\", \"font\": {\"family\": \"Arial\", \"size\": 14, \"color\": \"black\"}, \"showarrow\": false}, {\"xref\": \"x2\", \"yref\": \"y2\", \"x\": 11.5, \"y\": 1, \"text\": \" \", \"align\": \"left\", \"font\": {\"family\": \"Arial\", \"size\": 14, \"color\": \"black\"}, \"showarrow\": false}, {\"xref\": \"x2\", \"yref\": \"y2\", \"x\": 12.5, \"y\": 1, \"text\": \"\\uc774\", \"align\": \"left\", \"font\": {\"family\": \"Arial\", \"size\": 14, \"color\": \"black\"}, \"showarrow\": false}, {\"xref\": \"x2\", \"yref\": \"y2\", \"x\": 13.5, \"y\": 1, \"text\": \"\\uc801\", \"align\": \"left\", \"font\": {\"family\": \"Arial\", \"size\": 14, \"color\": \"black\"}, \"showarrow\": false}, {\"xref\": \"x2\", \"yref\": \"y2\", \"x\": 14.5, \"y\": 1, \"text\": \"\\ud560\", \"align\": \"left\", \"font\": {\"family\": \"Arial\", \"size\": 14, \"color\": \"black\"}, \"showarrow\": false}, {\"xref\": \"x2\", \"yref\": \"y2\", \"x\": 15.5, \"y\": 1, \"text\": \" \", \"align\": \"left\", \"font\": {\"family\": \"Arial\", \"size\": 14, \"color\": \"black\"}, \"showarrow\": false}, {\"xref\": \"x2\", \"yref\": \"y2\", \"x\": 16.5, \"y\": 1, \"text\": \"\\uc218\", \"align\": \"left\", \"font\": {\"family\": \"Arial\", \"size\": 14, \"color\": \"black\"}, \"showarrow\": false}, {\"xref\": \"x2\", \"yref\": \"y2\", \"x\": 17.5, \"y\": 1, \"text\": \" \", \"align\": \"left\", \"font\": {\"family\": \"Arial\", \"size\": 14, \"color\": \"black\"}, \"showarrow\": false}, {\"xref\": \"x2\", \"yref\": \"y2\", \"x\": 18.5, \"y\": 1, \"text\": \"\\uc788\", \"align\": \"left\", \"font\": {\"family\": \"Arial\", \"size\": 14, \"color\": \"black\"}, \"showarrow\": false}, {\"xref\": \"x2\", \"yref\": \"y2\", \"x\": 19.5, \"y\": 1, \"text\": \"\\ub2e4\", \"align\": \"left\", \"font\": {\"family\": \"Arial\", \"size\": 14, \"color\": \"black\"}, \"showarrow\": false}, {\"xref\": \"x2\", \"yref\": \"y2\", \"x\": 20.5, \"y\": 1, \"text\": \"\\uace0\", \"align\": \"left\", \"font\": {\"family\": \"Arial\", \"size\": 14, \"color\": \"black\"}, \"showarrow\": false}, {\"xref\": \"x2\", \"yref\": \"y2\", \"x\": 21.5, \"y\": 1, \"text\": \" \", \"align\": \"left\", \"font\": {\"family\": \"Arial\", \"size\": 14, \"color\": \"black\"}, \"showarrow\": false}, {\"xref\": \"x2\", \"yref\": \"y2\", \"x\": 22.5, \"y\": 1, \"text\": \"\\uc804\", \"align\": \"left\", \"font\": {\"family\": \"Arial\", \"size\": 14, \"color\": \"black\"}, \"showarrow\": false}, {\"xref\": \"x2\", \"yref\": \"y2\", \"x\": 23.5, \"y\": 1, \"text\": \"\\ud588\", \"align\": \"left\", \"font\": {\"family\": \"Arial\", \"size\": 14, \"color\": \"black\"}, \"showarrow\": false}, {\"xref\": \"x2\", \"yref\": \"y2\", \"x\": 24.5, \"y\": 1, \"text\": \"\\ub2e4\", \"align\": \"left\", \"font\": {\"family\": \"Arial\", \"size\": 14, \"color\": \"black\"}, \"showarrow\": false}, {\"xref\": \"x2\", \"yref\": \"y2\", \"x\": 25.5, \"y\": 1, \"text\": \".\", \"align\": \"left\", \"font\": {\"family\": \"Arial\", \"size\": 14, \"color\": \"black\"}, \"showarrow\": false}], \"height\": 130, \"images\": [{\"source\": \"https://raw.githubusercontent.com/fingeredman/teanaps/master/data/logo/teanaps_logo_no-bg.png\", \"xref\": \"paper\", \"yref\": \"paper\", \"x\": 0.5, \"y\": 0.6, \"sizex\": 0.7, \"sizey\": 0.7, \"xanchor\": \"center\", \"yanchor\": \"center\", \"opacity\": 0.3, \"layer\": \"above\"}]}, {\"showLink\": true, \"linkText\": \"Export to plot.ly\"})});</script>"
      ]
     },
     "metadata": {},
     "output_type": "display_data"
    }
   ],
   "source": [
    "input_text = \"영국 매체 스카이 스포츠는 25일 맨유 미드필더 폴 포그바가 여름 이적시장 실패 후, 1월에 레알 마드리드로 이적할 수 있다고 전했다.\"\n",
    "\n",
    "result = ner.parse(input_text)\n",
    "print(result)\n",
    "result = ner.parse_sentence(input_text)\n",
    "print(result)\n",
    "ner.draw_sentence_weight(input_text)"
   ]
  },
  {
   "cell_type": "code",
   "execution_count": 13,
   "metadata": {},
   "outputs": [
    {
     "name": "stdout",
     "output_type": "stream",
     "text": [
      "[('BERT', 'UN', (0, 4)), ('NLP', 'UN', (10, 13))]\n",
      "<BERT:UN> 발표 후 <NLP:UN> 기술동향에 큰 변화가 생겼습니다.\n"
     ]
    },
    {
     "data": {
      "text/html": [
       "\n",
       "                <script src=\"/static/components/requirejs/require.js\"></script>\n",
       "                <script>\n",
       "                  requirejs.config({\n",
       "                    paths: {\n",
       "                      base: '/static/base',\n",
       "                      plotly: 'https://cdn.plot.ly/plotly-latest.min.js?noext',\n",
       "                    },\n",
       "                  });\n",
       "                </script>\n",
       "                "
      ],
      "text/plain": [
       "<IPython.core.display.HTML object>"
      ]
     },
     "metadata": {},
     "output_type": "display_data"
    },
    {
     "data": {
      "text/html": [
       "\n",
       "                <script src=\"/static/components/requirejs/require.js\"></script>\n",
       "                <script>\n",
       "                  requirejs.config({\n",
       "                    paths: {\n",
       "                      base: '/static/base',\n",
       "                      plotly: 'https://cdn.plot.ly/plotly-latest.min.js?noext',\n",
       "                    },\n",
       "                  });\n",
       "                </script>\n",
       "                "
      ],
      "text/plain": [
       "<IPython.core.display.HTML object>"
      ]
     },
     "metadata": {},
     "output_type": "display_data"
    },
    {
     "data": {
      "application/vnd.plotly.v1+json": {
       "data": [
        {
         "hoverinfo": "text",
         "marker": {
          "color": "rgb(159.28994603043776, 207.14497301521888, 255)"
         },
         "orientation": "h",
         "text": "0.48",
         "type": "bar",
         "width": 0.5,
         "x": [
          2
         ],
         "xaxis": "x1",
         "y": [
          1
         ],
         "yaxis": "y1"
        },
        {
         "hoverinfo": "text",
         "marker": {
          "color": "rgb(114.99503728163148, 184.99751864081574, 255)"
         },
         "orientation": "h",
         "text": "0.7",
         "type": "bar",
         "width": 0.5,
         "x": [
          2
         ],
         "xaxis": "x1",
         "y": [
          1
         ],
         "yaxis": "y1"
        },
        {
         "hoverinfo": "text",
         "marker": {
          "color": "rgb(118.77061493849351, 186.88530746924675, 255)"
         },
         "orientation": "h",
         "text": "0.68",
         "type": "bar",
         "width": 0.5,
         "x": [
          1
         ],
         "xaxis": "x1",
         "y": [
          1
         ],
         "yaxis": "y1"
        },
        {
         "hoverinfo": "text",
         "marker": {
          "color": "rgb(217.9240717260316, 236.4620358630158, 255)"
         },
         "orientation": "h",
         "text": "0.19",
         "type": "bar",
         "width": 0.5,
         "x": [
          3
         ],
         "xaxis": "x1",
         "y": [
          1
         ],
         "yaxis": "y1"
        },
        {
         "hoverinfo": "text",
         "marker": {
          "color": "rgb(232.02126231114374, 243.51063115557187, 255)"
         },
         "orientation": "h",
         "text": "0.11",
         "type": "bar",
         "width": 0.5,
         "x": [
          2
         ],
         "xaxis": "x1",
         "y": [
          1
         ],
         "yaxis": "y1"
        },
        {
         "hoverinfo": "text",
         "marker": {
          "color": "rgb(191.41585577982178, 223.20792788991088, 255)"
         },
         "orientation": "h",
         "text": "0.32",
         "type": "bar",
         "width": 0.5,
         "x": [
          2
         ],
         "xaxis": "x1",
         "y": [
          1
         ],
         "yaxis": "y1"
        },
        {
         "hoverinfo": "text",
         "marker": {
          "color": "rgb(55.0, 155.0, 255)"
         },
         "orientation": "h",
         "text": "1.0",
         "type": "bar",
         "width": 0.5,
         "x": [
          1
         ],
         "xaxis": "x1",
         "y": [
          1
         ],
         "yaxis": "y1"
        },
        {
         "hoverinfo": "text",
         "marker": {
          "color": "rgb(70.99857651114314, 162.99928825557157, 255)"
         },
         "orientation": "h",
         "text": "0.92",
         "type": "bar",
         "width": 0.5,
         "x": [
          1
         ],
         "xaxis": "x1",
         "y": [
          1
         ],
         "yaxis": "y1"
        },
        {
         "hoverinfo": "text",
         "marker": {
          "color": "rgb(135.12254806085863, 195.06127403042933, 255)"
         },
         "orientation": "h",
         "text": "0.6",
         "type": "bar",
         "width": 0.5,
         "x": [
          3
         ],
         "xaxis": "x1",
         "y": [
          1
         ],
         "yaxis": "y1"
        },
        {
         "hoverinfo": "text",
         "marker": {
          "color": "rgb(156.87093692250613, 205.93546846125307, 255)"
         },
         "orientation": "h",
         "text": "0.49",
         "type": "bar",
         "width": 0.5,
         "x": [
          2
         ],
         "xaxis": "x1",
         "y": [
          1
         ],
         "yaxis": "y1"
        },
        {
         "hoverinfo": "text",
         "marker": {
          "color": "rgb(230.21719959913668, 242.60859979956834, 255)"
         },
         "orientation": "h",
         "text": "0.12",
         "type": "bar",
         "width": 0.5,
         "x": [
          1
         ],
         "xaxis": "x1",
         "y": [
          1
         ],
         "yaxis": "y1"
        },
        {
         "hoverinfo": "text",
         "marker": {
          "color": "rgb(225.9083355097909, 240.45416775489545, 255)"
         },
         "orientation": "h",
         "text": "0.15",
         "type": "bar",
         "width": 0.5,
         "x": [
          2
         ],
         "xaxis": "x1",
         "y": [
          1
         ],
         "yaxis": "y1"
        },
        {
         "hoverinfo": "text",
         "marker": {
          "color": "rgb(230.52774321567554, 242.76387160783779, 255)"
         },
         "orientation": "h",
         "text": "0.12",
         "type": "bar",
         "width": 0.5,
         "x": [
          3
         ],
         "xaxis": "x1",
         "y": [
          1
         ],
         "yaxis": "y1"
        },
        {
         "hoverinfo": "text",
         "marker": {
          "color": "rgb(230.02895083681994, 242.51447541840997, 255)"
         },
         "orientation": "h",
         "text": "0.12",
         "type": "bar",
         "width": 0.5,
         "x": [
          1
         ],
         "xaxis": "x1",
         "y": [
          1
         ],
         "yaxis": "y1"
        },
        {
         "hoverinfo": "text",
         "marker": {
          "color": "rgb(235.73518958492946, 245.36759479246473, 255)"
         },
         "orientation": "h",
         "text": "0.1",
         "type": "bar",
         "width": 0.5,
         "x": [
          2
         ],
         "xaxis": "x1",
         "y": [
          1
         ],
         "yaxis": "y1"
        },
        {
         "hoverinfo": "text",
         "marker": {
          "color": "rgb(233.53239885925964, 244.26619942962984, 255)"
         },
         "orientation": "h",
         "text": "0.11",
         "type": "bar",
         "width": 0.5,
         "x": [
          1
         ],
         "xaxis": "x1",
         "y": [
          1
         ],
         "yaxis": "y1"
        },
        {
         "hoverinfo": "text",
         "marker": {
          "color": "rgb(246.30164658069626, 250.65082329034814, 255)"
         },
         "orientation": "h",
         "text": "0.04",
         "type": "bar",
         "width": 0.5,
         "x": [
          3
         ],
         "xaxis": "x1",
         "y": [
          1
         ],
         "yaxis": "y1"
        },
        {
         "hoverinfo": "text",
         "marker": {
          "color": "rgb(228.88602909169742, 241.9430145458487, 255)"
         },
         "orientation": "h",
         "text": "0.13",
         "type": "bar",
         "width": 0.5,
         "x": [
          1
         ],
         "xaxis": "x1",
         "y": [
          1
         ],
         "yaxis": "y1"
        },
        {
         "hoverinfo": "text",
         "marker": {
          "color": "rgb(255, 255, 255)"
         },
         "orientation": "h",
         "text": "",
         "type": "bar",
         "width": 0.5,
         "x": [
          1
         ],
         "xaxis": "x1",
         "y": [
          1
         ],
         "yaxis": "y1"
        },
        {
         "hoverinfo": "text",
         "marker": {
          "color": "rgb(255, 255, 255)"
         },
         "orientation": "h",
         "text": "",
         "type": "bar",
         "width": 0.5,
         "x": [
          1
         ],
         "xaxis": "x1",
         "y": [
          1
         ],
         "yaxis": "y1"
        },
        {
         "hoverinfo": "text",
         "marker": {
          "color": "rgb(255, 255, 255)"
         },
         "orientation": "h",
         "text": "",
         "type": "bar",
         "width": 0.5,
         "x": [
          1
         ],
         "xaxis": "x1",
         "y": [
          1
         ],
         "yaxis": "y1"
        },
        {
         "hoverinfo": "text",
         "marker": {
          "color": "rgb(255, 255, 255)"
         },
         "orientation": "h",
         "text": "",
         "type": "bar",
         "width": 0.5,
         "x": [
          1
         ],
         "xaxis": "x1",
         "y": [
          1
         ],
         "yaxis": "y1"
        },
        {
         "hoverinfo": "text",
         "marker": {
          "color": "rgb(255, 255, 255)"
         },
         "orientation": "h",
         "text": "",
         "type": "bar",
         "width": 0.5,
         "x": [
          1
         ],
         "xaxis": "x1",
         "y": [
          1
         ],
         "yaxis": "y1"
        },
        {
         "hoverinfo": "text",
         "marker": {
          "color": "rgb(255, 255, 255)"
         },
         "orientation": "h",
         "text": "",
         "type": "bar",
         "width": 0.5,
         "x": [
          1
         ],
         "xaxis": "x1",
         "y": [
          1
         ],
         "yaxis": "y1"
        },
        {
         "hoverinfo": "text",
         "marker": {
          "color": "rgb(255, 255, 255)"
         },
         "orientation": "h",
         "text": "",
         "type": "bar",
         "width": 0.5,
         "x": [
          1
         ],
         "xaxis": "x1",
         "y": [
          1
         ],
         "yaxis": "y1"
        },
        {
         "hoverinfo": "text",
         "marker": {
          "color": "rgb(255, 255, 255)"
         },
         "orientation": "h",
         "text": "",
         "type": "bar",
         "width": 0.5,
         "x": [
          1
         ],
         "xaxis": "x1",
         "y": [
          1
         ],
         "yaxis": "y1"
        },
        {
         "hoverinfo": "text",
         "marker": {
          "color": "rgb(255, 255, 255)"
         },
         "orientation": "h",
         "text": "",
         "type": "bar",
         "width": 0.5,
         "x": [
          1
         ],
         "xaxis": "x1",
         "y": [
          1
         ],
         "yaxis": "y1"
        },
        {
         "hoverinfo": "text",
         "marker": {
          "color": "rgb(255, 255, 255)"
         },
         "orientation": "h",
         "text": "",
         "type": "bar",
         "width": 0.5,
         "x": [
          1
         ],
         "xaxis": "x1",
         "y": [
          1
         ],
         "yaxis": "y1"
        },
        {
         "hoverinfo": "text",
         "marker": {
          "color": "rgb(255, 255, 255)"
         },
         "orientation": "h",
         "text": "",
         "type": "bar",
         "width": 0.5,
         "x": [
          1
         ],
         "xaxis": "x1",
         "y": [
          1
         ],
         "yaxis": "y1"
        },
        {
         "hoverinfo": "text",
         "marker": {
          "color": "rgb(255, 255, 255)"
         },
         "orientation": "h",
         "text": "",
         "type": "bar",
         "width": 0.5,
         "x": [
          1
         ],
         "xaxis": "x1",
         "y": [
          1
         ],
         "yaxis": "y1"
        },
        {
         "hoverinfo": "text",
         "marker": {
          "color": "rgb(255, 255, 255)"
         },
         "orientation": "h",
         "text": "",
         "type": "bar",
         "width": 0.5,
         "x": [
          1
         ],
         "xaxis": "x1",
         "y": [
          1
         ],
         "yaxis": "y1"
        },
        {
         "hoverinfo": "text",
         "marker": {
          "color": "rgb(255, 255, 255)"
         },
         "orientation": "h",
         "text": "",
         "type": "bar",
         "width": 0.5,
         "x": [
          1
         ],
         "xaxis": "x1",
         "y": [
          1
         ],
         "yaxis": "y1"
        },
        {
         "hoverinfo": "text",
         "marker": {
          "color": "rgb(255, 255, 255)"
         },
         "orientation": "h",
         "text": "",
         "type": "bar",
         "width": 0.5,
         "x": [
          1
         ],
         "xaxis": "x1",
         "y": [
          1
         ],
         "yaxis": "y1"
        },
        {
         "hoverinfo": "text",
         "marker": {
          "color": "rgb(255, 255, 255)"
         },
         "orientation": "h",
         "text": "",
         "type": "bar",
         "width": 0.5,
         "x": [
          1
         ],
         "xaxis": "x1",
         "y": [
          1
         ],
         "yaxis": "y1"
        },
        {
         "hoverinfo": "text",
         "marker": {
          "color": "rgb(255, 255, 255)"
         },
         "orientation": "h",
         "text": "",
         "type": "bar",
         "width": 0.5,
         "x": [
          1
         ],
         "xaxis": "x1",
         "y": [
          1
         ],
         "yaxis": "y1"
        }
       ],
       "layout": {
        "annotations": [
         {
          "align": "left",
          "font": {
           "color": "black",
           "family": "Arial",
           "size": 14
          },
          "showarrow": false,
          "text": " ",
          "x": 0.5,
          "xref": "x1",
          "y": 1,
          "yref": "y1"
         },
         {
          "align": "left",
          "font": {
           "color": "black",
           "family": "Arial",
           "size": 14
          },
          "showarrow": false,
          "text": "B",
          "x": 1.5,
          "xref": "x1",
          "y": 1,
          "yref": "y1"
         },
         {
          "align": "left",
          "font": {
           "color": "black",
           "family": "Arial",
           "size": 14
          },
          "showarrow": false,
          "text": "E",
          "x": 2.5,
          "xref": "x1",
          "y": 1,
          "yref": "y1"
         },
         {
          "align": "left",
          "font": {
           "color": "black",
           "family": "Arial",
           "size": 14
          },
          "showarrow": false,
          "text": "R",
          "x": 3.5,
          "xref": "x1",
          "y": 1,
          "yref": "y1"
         },
         {
          "align": "left",
          "font": {
           "color": "black",
           "family": "Arial",
           "size": 14
          },
          "showarrow": false,
          "text": "T",
          "x": 4.5,
          "xref": "x1",
          "y": 1,
          "yref": "y1"
         },
         {
          "align": "left",
          "font": {
           "color": "black",
           "family": "Arial",
           "size": 14
          },
          "showarrow": false,
          "text": " ",
          "x": 5.5,
          "xref": "x1",
          "y": 1,
          "yref": "y1"
         },
         {
          "align": "left",
          "font": {
           "color": "black",
           "family": "Arial",
           "size": 14
          },
          "showarrow": false,
          "text": "발",
          "x": 6.5,
          "xref": "x1",
          "y": 1,
          "yref": "y1"
         },
         {
          "align": "left",
          "font": {
           "color": "black",
           "family": "Arial",
           "size": 14
          },
          "showarrow": false,
          "text": "표",
          "x": 7.5,
          "xref": "x1",
          "y": 1,
          "yref": "y1"
         },
         {
          "align": "left",
          "font": {
           "color": "black",
           "family": "Arial",
           "size": 14
          },
          "showarrow": false,
          "text": " ",
          "x": 8.5,
          "xref": "x1",
          "y": 1,
          "yref": "y1"
         },
         {
          "align": "left",
          "font": {
           "color": "black",
           "family": "Arial",
           "size": 14
          },
          "showarrow": false,
          "text": "후",
          "x": 9.5,
          "xref": "x1",
          "y": 1,
          "yref": "y1"
         },
         {
          "align": "left",
          "font": {
           "color": "black",
           "family": "Arial",
           "size": 14
          },
          "showarrow": false,
          "text": " ",
          "x": 10.5,
          "xref": "x1",
          "y": 1,
          "yref": "y1"
         },
         {
          "align": "left",
          "font": {
           "color": "black",
           "family": "Arial",
           "size": 14
          },
          "showarrow": false,
          "text": "N",
          "x": 11.5,
          "xref": "x1",
          "y": 1,
          "yref": "y1"
         },
         {
          "align": "left",
          "font": {
           "color": "black",
           "family": "Arial",
           "size": 14
          },
          "showarrow": false,
          "text": "L",
          "x": 12.5,
          "xref": "x1",
          "y": 1,
          "yref": "y1"
         },
         {
          "align": "left",
          "font": {
           "color": "black",
           "family": "Arial",
           "size": 14
          },
          "showarrow": false,
          "text": "P",
          "x": 13.5,
          "xref": "x1",
          "y": 1,
          "yref": "y1"
         },
         {
          "align": "left",
          "font": {
           "color": "black",
           "family": "Arial",
           "size": 14
          },
          "showarrow": false,
          "text": " ",
          "x": 14.5,
          "xref": "x1",
          "y": 1,
          "yref": "y1"
         },
         {
          "align": "left",
          "font": {
           "color": "black",
           "family": "Arial",
           "size": 14
          },
          "showarrow": false,
          "text": "기",
          "x": 15.5,
          "xref": "x1",
          "y": 1,
          "yref": "y1"
         },
         {
          "align": "left",
          "font": {
           "color": "black",
           "family": "Arial",
           "size": 14
          },
          "showarrow": false,
          "text": "술",
          "x": 16.5,
          "xref": "x1",
          "y": 1,
          "yref": "y1"
         },
         {
          "align": "left",
          "font": {
           "color": "black",
           "family": "Arial",
           "size": 14
          },
          "showarrow": false,
          "text": "동",
          "x": 17.5,
          "xref": "x1",
          "y": 1,
          "yref": "y1"
         },
         {
          "align": "left",
          "font": {
           "color": "black",
           "family": "Arial",
           "size": 14
          },
          "showarrow": false,
          "text": "향",
          "x": 18.5,
          "xref": "x1",
          "y": 1,
          "yref": "y1"
         },
         {
          "align": "left",
          "font": {
           "color": "black",
           "family": "Arial",
           "size": 14
          },
          "showarrow": false,
          "text": "에",
          "x": 19.5,
          "xref": "x1",
          "y": 1,
          "yref": "y1"
         },
         {
          "align": "left",
          "font": {
           "color": "black",
           "family": "Arial",
           "size": 14
          },
          "showarrow": false,
          "text": " ",
          "x": 20.5,
          "xref": "x1",
          "y": 1,
          "yref": "y1"
         },
         {
          "align": "left",
          "font": {
           "color": "black",
           "family": "Arial",
           "size": 14
          },
          "showarrow": false,
          "text": "큰",
          "x": 21.5,
          "xref": "x1",
          "y": 1,
          "yref": "y1"
         },
         {
          "align": "left",
          "font": {
           "color": "black",
           "family": "Arial",
           "size": 14
          },
          "showarrow": false,
          "text": " ",
          "x": 22.5,
          "xref": "x1",
          "y": 1,
          "yref": "y1"
         },
         {
          "align": "left",
          "font": {
           "color": "black",
           "family": "Arial",
           "size": 14
          },
          "showarrow": false,
          "text": "변",
          "x": 23.5,
          "xref": "x1",
          "y": 1,
          "yref": "y1"
         },
         {
          "align": "left",
          "font": {
           "color": "black",
           "family": "Arial",
           "size": 14
          },
          "showarrow": false,
          "text": "화",
          "x": 24.5,
          "xref": "x1",
          "y": 1,
          "yref": "y1"
         },
         {
          "align": "left",
          "font": {
           "color": "black",
           "family": "Arial",
           "size": 14
          },
          "showarrow": false,
          "text": "가",
          "x": 25.5,
          "xref": "x1",
          "y": 1,
          "yref": "y1"
         },
         {
          "align": "left",
          "font": {
           "color": "black",
           "family": "Arial",
           "size": 14
          },
          "showarrow": false,
          "text": " ",
          "x": 26.5,
          "xref": "x1",
          "y": 1,
          "yref": "y1"
         },
         {
          "align": "left",
          "font": {
           "color": "black",
           "family": "Arial",
           "size": 14
          },
          "showarrow": false,
          "text": "생",
          "x": 27.5,
          "xref": "x1",
          "y": 1,
          "yref": "y1"
         },
         {
          "align": "left",
          "font": {
           "color": "black",
           "family": "Arial",
           "size": 14
          },
          "showarrow": false,
          "text": "겼",
          "x": 28.5,
          "xref": "x1",
          "y": 1,
          "yref": "y1"
         },
         {
          "align": "left",
          "font": {
           "color": "black",
           "family": "Arial",
           "size": 14
          },
          "showarrow": false,
          "text": "습",
          "x": 29.5,
          "xref": "x1",
          "y": 1,
          "yref": "y1"
         },
         {
          "align": "left",
          "font": {
           "color": "black",
           "family": "Arial",
           "size": 14
          },
          "showarrow": false,
          "text": "니",
          "x": 30.5,
          "xref": "x1",
          "y": 1,
          "yref": "y1"
         },
         {
          "align": "left",
          "font": {
           "color": "black",
           "family": "Arial",
           "size": 14
          },
          "showarrow": false,
          "text": "다",
          "x": 31.5,
          "xref": "x1",
          "y": 1,
          "yref": "y1"
         },
         {
          "align": "left",
          "font": {
           "color": "black",
           "family": "Arial",
           "size": 14
          },
          "showarrow": false,
          "text": ".",
          "x": 32.5,
          "xref": "x1",
          "y": 1,
          "yref": "y1"
         }
        ],
        "barmode": "stack",
        "height": 80,
        "images": [
         {
          "layer": "above",
          "opacity": 0.3,
          "sizex": 0.7,
          "sizey": 0.7,
          "source": "https://raw.githubusercontent.com/fingeredman/teanaps/master/data/logo/teanaps_logo_no-bg.png",
          "x": 0.5,
          "xanchor": "center",
          "xref": "paper",
          "y": 0.6,
          "yanchor": "center",
          "yref": "paper"
         }
        ],
        "margin": {
         "b": 30,
         "l": 20,
         "r": 20,
         "t": 10
        },
        "showlegend": false,
        "xaxis1": {
         "anchor": "y1",
         "domain": [
          0,
          1
         ],
         "showgrid": false,
         "showline": false,
         "showticklabels": false,
         "zeroline": false
        },
        "yaxis1": {
         "anchor": "x1",
         "domain": [
          0,
          1
         ],
         "showgrid": false,
         "showline": false,
         "showticklabels": false,
         "zeroline": false
        }
       }
      },
      "text/html": [
       "<div id=\"d543d595-d398-41a6-9e79-13d27947873b\" style=\"height: 80px; width: 100%;\" class=\"plotly-graph-div\"></div><script type=\"text/javascript\">require([\"plotly\"], function(Plotly) { window.PLOTLYENV=window.PLOTLYENV || {};window.PLOTLYENV.BASE_URL=\"https://plot.ly\";Plotly.newPlot(\"d543d595-d398-41a6-9e79-13d27947873b\", [{\"type\": \"bar\", \"y\": [1], \"x\": [2], \"orientation\": \"h\", \"width\": 0.5, \"text\": \"0.48\", \"hoverinfo\": \"text\", \"marker\": {\"color\": \"rgb(159.28994603043776, 207.14497301521888, 255)\"}, \"xaxis\": \"x1\", \"yaxis\": \"y1\"}, {\"type\": \"bar\", \"y\": [1], \"x\": [2], \"orientation\": \"h\", \"width\": 0.5, \"text\": \"0.7\", \"hoverinfo\": \"text\", \"marker\": {\"color\": \"rgb(114.99503728163148, 184.99751864081574, 255)\"}, \"xaxis\": \"x1\", \"yaxis\": \"y1\"}, {\"type\": \"bar\", \"y\": [1], \"x\": [1], \"orientation\": \"h\", \"width\": 0.5, \"text\": \"0.68\", \"hoverinfo\": \"text\", \"marker\": {\"color\": \"rgb(118.77061493849351, 186.88530746924675, 255)\"}, \"xaxis\": \"x1\", \"yaxis\": \"y1\"}, {\"type\": \"bar\", \"y\": [1], \"x\": [3], \"orientation\": \"h\", \"width\": 0.5, \"text\": \"0.19\", \"hoverinfo\": \"text\", \"marker\": {\"color\": \"rgb(217.9240717260316, 236.4620358630158, 255)\"}, \"xaxis\": \"x1\", \"yaxis\": \"y1\"}, {\"type\": \"bar\", \"y\": [1], \"x\": [2], \"orientation\": \"h\", \"width\": 0.5, \"text\": \"0.11\", \"hoverinfo\": \"text\", \"marker\": {\"color\": \"rgb(232.02126231114374, 243.51063115557187, 255)\"}, \"xaxis\": \"x1\", \"yaxis\": \"y1\"}, {\"type\": \"bar\", \"y\": [1], \"x\": [2], \"orientation\": \"h\", \"width\": 0.5, \"text\": \"0.32\", \"hoverinfo\": \"text\", \"marker\": {\"color\": \"rgb(191.41585577982178, 223.20792788991088, 255)\"}, \"xaxis\": \"x1\", \"yaxis\": \"y1\"}, {\"type\": \"bar\", \"y\": [1], \"x\": [1], \"orientation\": \"h\", \"width\": 0.5, \"text\": \"1.0\", \"hoverinfo\": \"text\", \"marker\": {\"color\": \"rgb(55.0, 155.0, 255)\"}, \"xaxis\": \"x1\", \"yaxis\": \"y1\"}, {\"type\": \"bar\", \"y\": [1], \"x\": [1], \"orientation\": \"h\", \"width\": 0.5, \"text\": \"0.92\", \"hoverinfo\": \"text\", \"marker\": {\"color\": \"rgb(70.99857651114314, 162.99928825557157, 255)\"}, \"xaxis\": \"x1\", \"yaxis\": \"y1\"}, {\"type\": \"bar\", \"y\": [1], \"x\": [3], \"orientation\": \"h\", \"width\": 0.5, \"text\": \"0.6\", \"hoverinfo\": \"text\", \"marker\": {\"color\": \"rgb(135.12254806085863, 195.06127403042933, 255)\"}, \"xaxis\": \"x1\", \"yaxis\": \"y1\"}, {\"type\": \"bar\", \"y\": [1], \"x\": [2], \"orientation\": \"h\", \"width\": 0.5, \"text\": \"0.49\", \"hoverinfo\": \"text\", \"marker\": {\"color\": \"rgb(156.87093692250613, 205.93546846125307, 255)\"}, \"xaxis\": \"x1\", \"yaxis\": \"y1\"}, {\"type\": \"bar\", \"y\": [1], \"x\": [1], \"orientation\": \"h\", \"width\": 0.5, \"text\": \"0.12\", \"hoverinfo\": \"text\", \"marker\": {\"color\": \"rgb(230.21719959913668, 242.60859979956834, 255)\"}, \"xaxis\": \"x1\", \"yaxis\": \"y1\"}, {\"type\": \"bar\", \"y\": [1], \"x\": [2], \"orientation\": \"h\", \"width\": 0.5, \"text\": \"0.15\", \"hoverinfo\": \"text\", \"marker\": {\"color\": \"rgb(225.9083355097909, 240.45416775489545, 255)\"}, \"xaxis\": \"x1\", \"yaxis\": \"y1\"}, {\"type\": \"bar\", \"y\": [1], \"x\": [3], \"orientation\": \"h\", \"width\": 0.5, \"text\": \"0.12\", \"hoverinfo\": \"text\", \"marker\": {\"color\": \"rgb(230.52774321567554, 242.76387160783779, 255)\"}, \"xaxis\": \"x1\", \"yaxis\": \"y1\"}, {\"type\": \"bar\", \"y\": [1], \"x\": [1], \"orientation\": \"h\", \"width\": 0.5, \"text\": \"0.12\", \"hoverinfo\": \"text\", \"marker\": {\"color\": \"rgb(230.02895083681994, 242.51447541840997, 255)\"}, \"xaxis\": \"x1\", \"yaxis\": \"y1\"}, {\"type\": \"bar\", \"y\": [1], \"x\": [2], \"orientation\": \"h\", \"width\": 0.5, \"text\": \"0.1\", \"hoverinfo\": \"text\", \"marker\": {\"color\": \"rgb(235.73518958492946, 245.36759479246473, 255)\"}, \"xaxis\": \"x1\", \"yaxis\": \"y1\"}, {\"type\": \"bar\", \"y\": [1], \"x\": [1], \"orientation\": \"h\", \"width\": 0.5, \"text\": \"0.11\", \"hoverinfo\": \"text\", \"marker\": {\"color\": \"rgb(233.53239885925964, 244.26619942962984, 255)\"}, \"xaxis\": \"x1\", \"yaxis\": \"y1\"}, {\"type\": \"bar\", \"y\": [1], \"x\": [3], \"orientation\": \"h\", \"width\": 0.5, \"text\": \"0.04\", \"hoverinfo\": \"text\", \"marker\": {\"color\": \"rgb(246.30164658069626, 250.65082329034814, 255)\"}, \"xaxis\": \"x1\", \"yaxis\": \"y1\"}, {\"type\": \"bar\", \"y\": [1], \"x\": [1], \"orientation\": \"h\", \"width\": 0.5, \"text\": \"0.13\", \"hoverinfo\": \"text\", \"marker\": {\"color\": \"rgb(228.88602909169742, 241.9430145458487, 255)\"}, \"xaxis\": \"x1\", \"yaxis\": \"y1\"}, {\"type\": \"bar\", \"y\": [1], \"x\": [1], \"orientation\": \"h\", \"width\": 0.5, \"text\": \"\", \"hoverinfo\": \"text\", \"marker\": {\"color\": \"rgb(255, 255, 255)\"}, \"xaxis\": \"x1\", \"yaxis\": \"y1\"}, {\"type\": \"bar\", \"y\": [1], \"x\": [1], \"orientation\": \"h\", \"width\": 0.5, \"text\": \"\", \"hoverinfo\": \"text\", \"marker\": {\"color\": \"rgb(255, 255, 255)\"}, \"xaxis\": \"x1\", \"yaxis\": \"y1\"}, {\"type\": \"bar\", \"y\": [1], \"x\": [1], \"orientation\": \"h\", \"width\": 0.5, \"text\": \"\", \"hoverinfo\": \"text\", \"marker\": {\"color\": \"rgb(255, 255, 255)\"}, \"xaxis\": \"x1\", \"yaxis\": \"y1\"}, {\"type\": \"bar\", \"y\": [1], \"x\": [1], \"orientation\": \"h\", \"width\": 0.5, \"text\": \"\", \"hoverinfo\": \"text\", \"marker\": {\"color\": \"rgb(255, 255, 255)\"}, \"xaxis\": \"x1\", \"yaxis\": \"y1\"}, {\"type\": \"bar\", \"y\": [1], \"x\": [1], \"orientation\": \"h\", \"width\": 0.5, \"text\": \"\", \"hoverinfo\": \"text\", \"marker\": {\"color\": \"rgb(255, 255, 255)\"}, \"xaxis\": \"x1\", \"yaxis\": \"y1\"}, {\"type\": \"bar\", \"y\": [1], \"x\": [1], \"orientation\": \"h\", \"width\": 0.5, \"text\": \"\", \"hoverinfo\": \"text\", \"marker\": {\"color\": \"rgb(255, 255, 255)\"}, \"xaxis\": \"x1\", \"yaxis\": \"y1\"}, {\"type\": \"bar\", \"y\": [1], \"x\": [1], \"orientation\": \"h\", \"width\": 0.5, \"text\": \"\", \"hoverinfo\": \"text\", \"marker\": {\"color\": \"rgb(255, 255, 255)\"}, \"xaxis\": \"x1\", \"yaxis\": \"y1\"}, {\"type\": \"bar\", \"y\": [1], \"x\": [1], \"orientation\": \"h\", \"width\": 0.5, \"text\": \"\", \"hoverinfo\": \"text\", \"marker\": {\"color\": \"rgb(255, 255, 255)\"}, \"xaxis\": \"x1\", \"yaxis\": \"y1\"}, {\"type\": \"bar\", \"y\": [1], \"x\": [1], \"orientation\": \"h\", \"width\": 0.5, \"text\": \"\", \"hoverinfo\": \"text\", \"marker\": {\"color\": \"rgb(255, 255, 255)\"}, \"xaxis\": \"x1\", \"yaxis\": \"y1\"}, {\"type\": \"bar\", \"y\": [1], \"x\": [1], \"orientation\": \"h\", \"width\": 0.5, \"text\": \"\", \"hoverinfo\": \"text\", \"marker\": {\"color\": \"rgb(255, 255, 255)\"}, \"xaxis\": \"x1\", \"yaxis\": \"y1\"}, {\"type\": \"bar\", \"y\": [1], \"x\": [1], \"orientation\": \"h\", \"width\": 0.5, \"text\": \"\", \"hoverinfo\": \"text\", \"marker\": {\"color\": \"rgb(255, 255, 255)\"}, \"xaxis\": \"x1\", \"yaxis\": \"y1\"}, {\"type\": \"bar\", \"y\": [1], \"x\": [1], \"orientation\": \"h\", \"width\": 0.5, \"text\": \"\", \"hoverinfo\": \"text\", \"marker\": {\"color\": \"rgb(255, 255, 255)\"}, \"xaxis\": \"x1\", \"yaxis\": \"y1\"}, {\"type\": \"bar\", \"y\": [1], \"x\": [1], \"orientation\": \"h\", \"width\": 0.5, \"text\": \"\", \"hoverinfo\": \"text\", \"marker\": {\"color\": \"rgb(255, 255, 255)\"}, \"xaxis\": \"x1\", \"yaxis\": \"y1\"}, {\"type\": \"bar\", \"y\": [1], \"x\": [1], \"orientation\": \"h\", \"width\": 0.5, \"text\": \"\", \"hoverinfo\": \"text\", \"marker\": {\"color\": \"rgb(255, 255, 255)\"}, \"xaxis\": \"x1\", \"yaxis\": \"y1\"}, {\"type\": \"bar\", \"y\": [1], \"x\": [1], \"orientation\": \"h\", \"width\": 0.5, \"text\": \"\", \"hoverinfo\": \"text\", \"marker\": {\"color\": \"rgb(255, 255, 255)\"}, \"xaxis\": \"x1\", \"yaxis\": \"y1\"}, {\"type\": \"bar\", \"y\": [1], \"x\": [1], \"orientation\": \"h\", \"width\": 0.5, \"text\": \"\", \"hoverinfo\": \"text\", \"marker\": {\"color\": \"rgb(255, 255, 255)\"}, \"xaxis\": \"x1\", \"yaxis\": \"y1\"}, {\"type\": \"bar\", \"y\": [1], \"x\": [1], \"orientation\": \"h\", \"width\": 0.5, \"text\": \"\", \"hoverinfo\": \"text\", \"marker\": {\"color\": \"rgb(255, 255, 255)\"}, \"xaxis\": \"x1\", \"yaxis\": \"y1\"}], {\"xaxis1\": {\"domain\": [0.0, 1.0], \"anchor\": \"y1\", \"showgrid\": false, \"showline\": false, \"showticklabels\": false, \"zeroline\": false}, \"yaxis1\": {\"domain\": [0.0, 1.0], \"anchor\": \"x1\", \"showgrid\": false, \"showline\": false, \"showticklabels\": false, \"zeroline\": false}, \"barmode\": \"stack\", \"showlegend\": false, \"margin\": {\"b\": 30, \"l\": 20, \"r\": 20, \"t\": 10}, \"annotations\": [{\"xref\": \"x1\", \"yref\": \"y1\", \"x\": 0.5, \"y\": 1, \"text\": \" \", \"align\": \"left\", \"font\": {\"family\": \"Arial\", \"size\": 14, \"color\": \"black\"}, \"showarrow\": false}, {\"xref\": \"x1\", \"yref\": \"y1\", \"x\": 1.5, \"y\": 1, \"text\": \"B\", \"align\": \"left\", \"font\": {\"family\": \"Arial\", \"size\": 14, \"color\": \"black\"}, \"showarrow\": false}, {\"xref\": \"x1\", \"yref\": \"y1\", \"x\": 2.5, \"y\": 1, \"text\": \"E\", \"align\": \"left\", \"font\": {\"family\": \"Arial\", \"size\": 14, \"color\": \"black\"}, \"showarrow\": false}, {\"xref\": \"x1\", \"yref\": \"y1\", \"x\": 3.5, \"y\": 1, \"text\": \"R\", \"align\": \"left\", \"font\": {\"family\": \"Arial\", \"size\": 14, \"color\": \"black\"}, \"showarrow\": false}, {\"xref\": \"x1\", \"yref\": \"y1\", \"x\": 4.5, \"y\": 1, \"text\": \"T\", \"align\": \"left\", \"font\": {\"family\": \"Arial\", \"size\": 14, \"color\": \"black\"}, \"showarrow\": false}, {\"xref\": \"x1\", \"yref\": \"y1\", \"x\": 5.5, \"y\": 1, \"text\": \" \", \"align\": \"left\", \"font\": {\"family\": \"Arial\", \"size\": 14, \"color\": \"black\"}, \"showarrow\": false}, {\"xref\": \"x1\", \"yref\": \"y1\", \"x\": 6.5, \"y\": 1, \"text\": \"\\ubc1c\", \"align\": \"left\", \"font\": {\"family\": \"Arial\", \"size\": 14, \"color\": \"black\"}, \"showarrow\": false}, {\"xref\": \"x1\", \"yref\": \"y1\", \"x\": 7.5, \"y\": 1, \"text\": \"\\ud45c\", \"align\": \"left\", \"font\": {\"family\": \"Arial\", \"size\": 14, \"color\": \"black\"}, \"showarrow\": false}, {\"xref\": \"x1\", \"yref\": \"y1\", \"x\": 8.5, \"y\": 1, \"text\": \" \", \"align\": \"left\", \"font\": {\"family\": \"Arial\", \"size\": 14, \"color\": \"black\"}, \"showarrow\": false}, {\"xref\": \"x1\", \"yref\": \"y1\", \"x\": 9.5, \"y\": 1, \"text\": \"\\ud6c4\", \"align\": \"left\", \"font\": {\"family\": \"Arial\", \"size\": 14, \"color\": \"black\"}, \"showarrow\": false}, {\"xref\": \"x1\", \"yref\": \"y1\", \"x\": 10.5, \"y\": 1, \"text\": \" \", \"align\": \"left\", \"font\": {\"family\": \"Arial\", \"size\": 14, \"color\": \"black\"}, \"showarrow\": false}, {\"xref\": \"x1\", \"yref\": \"y1\", \"x\": 11.5, \"y\": 1, \"text\": \"N\", \"align\": \"left\", \"font\": {\"family\": \"Arial\", \"size\": 14, \"color\": \"black\"}, \"showarrow\": false}, {\"xref\": \"x1\", \"yref\": \"y1\", \"x\": 12.5, \"y\": 1, \"text\": \"L\", \"align\": \"left\", \"font\": {\"family\": \"Arial\", \"size\": 14, \"color\": \"black\"}, \"showarrow\": false}, {\"xref\": \"x1\", \"yref\": \"y1\", \"x\": 13.5, \"y\": 1, \"text\": \"P\", \"align\": \"left\", \"font\": {\"family\": \"Arial\", \"size\": 14, \"color\": \"black\"}, \"showarrow\": false}, {\"xref\": \"x1\", \"yref\": \"y1\", \"x\": 14.5, \"y\": 1, \"text\": \" \", \"align\": \"left\", \"font\": {\"family\": \"Arial\", \"size\": 14, \"color\": \"black\"}, \"showarrow\": false}, {\"xref\": \"x1\", \"yref\": \"y1\", \"x\": 15.5, \"y\": 1, \"text\": \"\\uae30\", \"align\": \"left\", \"font\": {\"family\": \"Arial\", \"size\": 14, \"color\": \"black\"}, \"showarrow\": false}, {\"xref\": \"x1\", \"yref\": \"y1\", \"x\": 16.5, \"y\": 1, \"text\": \"\\uc220\", \"align\": \"left\", \"font\": {\"family\": \"Arial\", \"size\": 14, \"color\": \"black\"}, \"showarrow\": false}, {\"xref\": \"x1\", \"yref\": \"y1\", \"x\": 17.5, \"y\": 1, \"text\": \"\\ub3d9\", \"align\": \"left\", \"font\": {\"family\": \"Arial\", \"size\": 14, \"color\": \"black\"}, \"showarrow\": false}, {\"xref\": \"x1\", \"yref\": \"y1\", \"x\": 18.5, \"y\": 1, \"text\": \"\\ud5a5\", \"align\": \"left\", \"font\": {\"family\": \"Arial\", \"size\": 14, \"color\": \"black\"}, \"showarrow\": false}, {\"xref\": \"x1\", \"yref\": \"y1\", \"x\": 19.5, \"y\": 1, \"text\": \"\\uc5d0\", \"align\": \"left\", \"font\": {\"family\": \"Arial\", \"size\": 14, \"color\": \"black\"}, \"showarrow\": false}, {\"xref\": \"x1\", \"yref\": \"y1\", \"x\": 20.5, \"y\": 1, \"text\": \" \", \"align\": \"left\", \"font\": {\"family\": \"Arial\", \"size\": 14, \"color\": \"black\"}, \"showarrow\": false}, {\"xref\": \"x1\", \"yref\": \"y1\", \"x\": 21.5, \"y\": 1, \"text\": \"\\ud070\", \"align\": \"left\", \"font\": {\"family\": \"Arial\", \"size\": 14, \"color\": \"black\"}, \"showarrow\": false}, {\"xref\": \"x1\", \"yref\": \"y1\", \"x\": 22.5, \"y\": 1, \"text\": \" \", \"align\": \"left\", \"font\": {\"family\": \"Arial\", \"size\": 14, \"color\": \"black\"}, \"showarrow\": false}, {\"xref\": \"x1\", \"yref\": \"y1\", \"x\": 23.5, \"y\": 1, \"text\": \"\\ubcc0\", \"align\": \"left\", \"font\": {\"family\": \"Arial\", \"size\": 14, \"color\": \"black\"}, \"showarrow\": false}, {\"xref\": \"x1\", \"yref\": \"y1\", \"x\": 24.5, \"y\": 1, \"text\": \"\\ud654\", \"align\": \"left\", \"font\": {\"family\": \"Arial\", \"size\": 14, \"color\": \"black\"}, \"showarrow\": false}, {\"xref\": \"x1\", \"yref\": \"y1\", \"x\": 25.5, \"y\": 1, \"text\": \"\\uac00\", \"align\": \"left\", \"font\": {\"family\": \"Arial\", \"size\": 14, \"color\": \"black\"}, \"showarrow\": false}, {\"xref\": \"x1\", \"yref\": \"y1\", \"x\": 26.5, \"y\": 1, \"text\": \" \", \"align\": \"left\", \"font\": {\"family\": \"Arial\", \"size\": 14, \"color\": \"black\"}, \"showarrow\": false}, {\"xref\": \"x1\", \"yref\": \"y1\", \"x\": 27.5, \"y\": 1, \"text\": \"\\uc0dd\", \"align\": \"left\", \"font\": {\"family\": \"Arial\", \"size\": 14, \"color\": \"black\"}, \"showarrow\": false}, {\"xref\": \"x1\", \"yref\": \"y1\", \"x\": 28.5, \"y\": 1, \"text\": \"\\uacbc\", \"align\": \"left\", \"font\": {\"family\": \"Arial\", \"size\": 14, \"color\": \"black\"}, \"showarrow\": false}, {\"xref\": \"x1\", \"yref\": \"y1\", \"x\": 29.5, \"y\": 1, \"text\": \"\\uc2b5\", \"align\": \"left\", \"font\": {\"family\": \"Arial\", \"size\": 14, \"color\": \"black\"}, \"showarrow\": false}, {\"xref\": \"x1\", \"yref\": \"y1\", \"x\": 30.5, \"y\": 1, \"text\": \"\\ub2c8\", \"align\": \"left\", \"font\": {\"family\": \"Arial\", \"size\": 14, \"color\": \"black\"}, \"showarrow\": false}, {\"xref\": \"x1\", \"yref\": \"y1\", \"x\": 31.5, \"y\": 1, \"text\": \"\\ub2e4\", \"align\": \"left\", \"font\": {\"family\": \"Arial\", \"size\": 14, \"color\": \"black\"}, \"showarrow\": false}, {\"xref\": \"x1\", \"yref\": \"y1\", \"x\": 32.5, \"y\": 1, \"text\": \".\", \"align\": \"left\", \"font\": {\"family\": \"Arial\", \"size\": 14, \"color\": \"black\"}, \"showarrow\": false}], \"height\": 80, \"images\": [{\"source\": \"https://raw.githubusercontent.com/fingeredman/teanaps/master/data/logo/teanaps_logo_no-bg.png\", \"xref\": \"paper\", \"yref\": \"paper\", \"x\": 0.5, \"y\": 0.6, \"sizex\": 0.7, \"sizey\": 0.7, \"xanchor\": \"center\", \"yanchor\": \"center\", \"opacity\": 0.3, \"layer\": \"above\"}]}, {\"showLink\": true, \"linkText\": \"Export to plot.ly\"})});</script>"
      ],
      "text/vnd.plotly.v1+html": [
       "<div id=\"d543d595-d398-41a6-9e79-13d27947873b\" style=\"height: 80px; width: 100%;\" class=\"plotly-graph-div\"></div><script type=\"text/javascript\">require([\"plotly\"], function(Plotly) { window.PLOTLYENV=window.PLOTLYENV || {};window.PLOTLYENV.BASE_URL=\"https://plot.ly\";Plotly.newPlot(\"d543d595-d398-41a6-9e79-13d27947873b\", [{\"type\": \"bar\", \"y\": [1], \"x\": [2], \"orientation\": \"h\", \"width\": 0.5, \"text\": \"0.48\", \"hoverinfo\": \"text\", \"marker\": {\"color\": \"rgb(159.28994603043776, 207.14497301521888, 255)\"}, \"xaxis\": \"x1\", \"yaxis\": \"y1\"}, {\"type\": \"bar\", \"y\": [1], \"x\": [2], \"orientation\": \"h\", \"width\": 0.5, \"text\": \"0.7\", \"hoverinfo\": \"text\", \"marker\": {\"color\": \"rgb(114.99503728163148, 184.99751864081574, 255)\"}, \"xaxis\": \"x1\", \"yaxis\": \"y1\"}, {\"type\": \"bar\", \"y\": [1], \"x\": [1], \"orientation\": \"h\", \"width\": 0.5, \"text\": \"0.68\", \"hoverinfo\": \"text\", \"marker\": {\"color\": \"rgb(118.77061493849351, 186.88530746924675, 255)\"}, \"xaxis\": \"x1\", \"yaxis\": \"y1\"}, {\"type\": \"bar\", \"y\": [1], \"x\": [3], \"orientation\": \"h\", \"width\": 0.5, \"text\": \"0.19\", \"hoverinfo\": \"text\", \"marker\": {\"color\": \"rgb(217.9240717260316, 236.4620358630158, 255)\"}, \"xaxis\": \"x1\", \"yaxis\": \"y1\"}, {\"type\": \"bar\", \"y\": [1], \"x\": [2], \"orientation\": \"h\", \"width\": 0.5, \"text\": \"0.11\", \"hoverinfo\": \"text\", \"marker\": {\"color\": \"rgb(232.02126231114374, 243.51063115557187, 255)\"}, \"xaxis\": \"x1\", \"yaxis\": \"y1\"}, {\"type\": \"bar\", \"y\": [1], \"x\": [2], \"orientation\": \"h\", \"width\": 0.5, \"text\": \"0.32\", \"hoverinfo\": \"text\", \"marker\": {\"color\": \"rgb(191.41585577982178, 223.20792788991088, 255)\"}, \"xaxis\": \"x1\", \"yaxis\": \"y1\"}, {\"type\": \"bar\", \"y\": [1], \"x\": [1], \"orientation\": \"h\", \"width\": 0.5, \"text\": \"1.0\", \"hoverinfo\": \"text\", \"marker\": {\"color\": \"rgb(55.0, 155.0, 255)\"}, \"xaxis\": \"x1\", \"yaxis\": \"y1\"}, {\"type\": \"bar\", \"y\": [1], \"x\": [1], \"orientation\": \"h\", \"width\": 0.5, \"text\": \"0.92\", \"hoverinfo\": \"text\", \"marker\": {\"color\": \"rgb(70.99857651114314, 162.99928825557157, 255)\"}, \"xaxis\": \"x1\", \"yaxis\": \"y1\"}, {\"type\": \"bar\", \"y\": [1], \"x\": [3], \"orientation\": \"h\", \"width\": 0.5, \"text\": \"0.6\", \"hoverinfo\": \"text\", \"marker\": {\"color\": \"rgb(135.12254806085863, 195.06127403042933, 255)\"}, \"xaxis\": \"x1\", \"yaxis\": \"y1\"}, {\"type\": \"bar\", \"y\": [1], \"x\": [2], \"orientation\": \"h\", \"width\": 0.5, \"text\": \"0.49\", \"hoverinfo\": \"text\", \"marker\": {\"color\": \"rgb(156.87093692250613, 205.93546846125307, 255)\"}, \"xaxis\": \"x1\", \"yaxis\": \"y1\"}, {\"type\": \"bar\", \"y\": [1], \"x\": [1], \"orientation\": \"h\", \"width\": 0.5, \"text\": \"0.12\", \"hoverinfo\": \"text\", \"marker\": {\"color\": \"rgb(230.21719959913668, 242.60859979956834, 255)\"}, \"xaxis\": \"x1\", \"yaxis\": \"y1\"}, {\"type\": \"bar\", \"y\": [1], \"x\": [2], \"orientation\": \"h\", \"width\": 0.5, \"text\": \"0.15\", \"hoverinfo\": \"text\", \"marker\": {\"color\": \"rgb(225.9083355097909, 240.45416775489545, 255)\"}, \"xaxis\": \"x1\", \"yaxis\": \"y1\"}, {\"type\": \"bar\", \"y\": [1], \"x\": [3], \"orientation\": \"h\", \"width\": 0.5, \"text\": \"0.12\", \"hoverinfo\": \"text\", \"marker\": {\"color\": \"rgb(230.52774321567554, 242.76387160783779, 255)\"}, \"xaxis\": \"x1\", \"yaxis\": \"y1\"}, {\"type\": \"bar\", \"y\": [1], \"x\": [1], \"orientation\": \"h\", \"width\": 0.5, \"text\": \"0.12\", \"hoverinfo\": \"text\", \"marker\": {\"color\": \"rgb(230.02895083681994, 242.51447541840997, 255)\"}, \"xaxis\": \"x1\", \"yaxis\": \"y1\"}, {\"type\": \"bar\", \"y\": [1], \"x\": [2], \"orientation\": \"h\", \"width\": 0.5, \"text\": \"0.1\", \"hoverinfo\": \"text\", \"marker\": {\"color\": \"rgb(235.73518958492946, 245.36759479246473, 255)\"}, \"xaxis\": \"x1\", \"yaxis\": \"y1\"}, {\"type\": \"bar\", \"y\": [1], \"x\": [1], \"orientation\": \"h\", \"width\": 0.5, \"text\": \"0.11\", \"hoverinfo\": \"text\", \"marker\": {\"color\": \"rgb(233.53239885925964, 244.26619942962984, 255)\"}, \"xaxis\": \"x1\", \"yaxis\": \"y1\"}, {\"type\": \"bar\", \"y\": [1], \"x\": [3], \"orientation\": \"h\", \"width\": 0.5, \"text\": \"0.04\", \"hoverinfo\": \"text\", \"marker\": {\"color\": \"rgb(246.30164658069626, 250.65082329034814, 255)\"}, \"xaxis\": \"x1\", \"yaxis\": \"y1\"}, {\"type\": \"bar\", \"y\": [1], \"x\": [1], \"orientation\": \"h\", \"width\": 0.5, \"text\": \"0.13\", \"hoverinfo\": \"text\", \"marker\": {\"color\": \"rgb(228.88602909169742, 241.9430145458487, 255)\"}, \"xaxis\": \"x1\", \"yaxis\": \"y1\"}, {\"type\": \"bar\", \"y\": [1], \"x\": [1], \"orientation\": \"h\", \"width\": 0.5, \"text\": \"\", \"hoverinfo\": \"text\", \"marker\": {\"color\": \"rgb(255, 255, 255)\"}, \"xaxis\": \"x1\", \"yaxis\": \"y1\"}, {\"type\": \"bar\", \"y\": [1], \"x\": [1], \"orientation\": \"h\", \"width\": 0.5, \"text\": \"\", \"hoverinfo\": \"text\", \"marker\": {\"color\": \"rgb(255, 255, 255)\"}, \"xaxis\": \"x1\", \"yaxis\": \"y1\"}, {\"type\": \"bar\", \"y\": [1], \"x\": [1], \"orientation\": \"h\", \"width\": 0.5, \"text\": \"\", \"hoverinfo\": \"text\", \"marker\": {\"color\": \"rgb(255, 255, 255)\"}, \"xaxis\": \"x1\", \"yaxis\": \"y1\"}, {\"type\": \"bar\", \"y\": [1], \"x\": [1], \"orientation\": \"h\", \"width\": 0.5, \"text\": \"\", \"hoverinfo\": \"text\", \"marker\": {\"color\": \"rgb(255, 255, 255)\"}, \"xaxis\": \"x1\", \"yaxis\": \"y1\"}, {\"type\": \"bar\", \"y\": [1], \"x\": [1], \"orientation\": \"h\", \"width\": 0.5, \"text\": \"\", \"hoverinfo\": \"text\", \"marker\": {\"color\": \"rgb(255, 255, 255)\"}, \"xaxis\": \"x1\", \"yaxis\": \"y1\"}, {\"type\": \"bar\", \"y\": [1], \"x\": [1], \"orientation\": \"h\", \"width\": 0.5, \"text\": \"\", \"hoverinfo\": \"text\", \"marker\": {\"color\": \"rgb(255, 255, 255)\"}, \"xaxis\": \"x1\", \"yaxis\": \"y1\"}, {\"type\": \"bar\", \"y\": [1], \"x\": [1], \"orientation\": \"h\", \"width\": 0.5, \"text\": \"\", \"hoverinfo\": \"text\", \"marker\": {\"color\": \"rgb(255, 255, 255)\"}, \"xaxis\": \"x1\", \"yaxis\": \"y1\"}, {\"type\": \"bar\", \"y\": [1], \"x\": [1], \"orientation\": \"h\", \"width\": 0.5, \"text\": \"\", \"hoverinfo\": \"text\", \"marker\": {\"color\": \"rgb(255, 255, 255)\"}, \"xaxis\": \"x1\", \"yaxis\": \"y1\"}, {\"type\": \"bar\", \"y\": [1], \"x\": [1], \"orientation\": \"h\", \"width\": 0.5, \"text\": \"\", \"hoverinfo\": \"text\", \"marker\": {\"color\": \"rgb(255, 255, 255)\"}, \"xaxis\": \"x1\", \"yaxis\": \"y1\"}, {\"type\": \"bar\", \"y\": [1], \"x\": [1], \"orientation\": \"h\", \"width\": 0.5, \"text\": \"\", \"hoverinfo\": \"text\", \"marker\": {\"color\": \"rgb(255, 255, 255)\"}, \"xaxis\": \"x1\", \"yaxis\": \"y1\"}, {\"type\": \"bar\", \"y\": [1], \"x\": [1], \"orientation\": \"h\", \"width\": 0.5, \"text\": \"\", \"hoverinfo\": \"text\", \"marker\": {\"color\": \"rgb(255, 255, 255)\"}, \"xaxis\": \"x1\", \"yaxis\": \"y1\"}, {\"type\": \"bar\", \"y\": [1], \"x\": [1], \"orientation\": \"h\", \"width\": 0.5, \"text\": \"\", \"hoverinfo\": \"text\", \"marker\": {\"color\": \"rgb(255, 255, 255)\"}, \"xaxis\": \"x1\", \"yaxis\": \"y1\"}, {\"type\": \"bar\", \"y\": [1], \"x\": [1], \"orientation\": \"h\", \"width\": 0.5, \"text\": \"\", \"hoverinfo\": \"text\", \"marker\": {\"color\": \"rgb(255, 255, 255)\"}, \"xaxis\": \"x1\", \"yaxis\": \"y1\"}, {\"type\": \"bar\", \"y\": [1], \"x\": [1], \"orientation\": \"h\", \"width\": 0.5, \"text\": \"\", \"hoverinfo\": \"text\", \"marker\": {\"color\": \"rgb(255, 255, 255)\"}, \"xaxis\": \"x1\", \"yaxis\": \"y1\"}, {\"type\": \"bar\", \"y\": [1], \"x\": [1], \"orientation\": \"h\", \"width\": 0.5, \"text\": \"\", \"hoverinfo\": \"text\", \"marker\": {\"color\": \"rgb(255, 255, 255)\"}, \"xaxis\": \"x1\", \"yaxis\": \"y1\"}, {\"type\": \"bar\", \"y\": [1], \"x\": [1], \"orientation\": \"h\", \"width\": 0.5, \"text\": \"\", \"hoverinfo\": \"text\", \"marker\": {\"color\": \"rgb(255, 255, 255)\"}, \"xaxis\": \"x1\", \"yaxis\": \"y1\"}, {\"type\": \"bar\", \"y\": [1], \"x\": [1], \"orientation\": \"h\", \"width\": 0.5, \"text\": \"\", \"hoverinfo\": \"text\", \"marker\": {\"color\": \"rgb(255, 255, 255)\"}, \"xaxis\": \"x1\", \"yaxis\": \"y1\"}], {\"xaxis1\": {\"domain\": [0.0, 1.0], \"anchor\": \"y1\", \"showgrid\": false, \"showline\": false, \"showticklabels\": false, \"zeroline\": false}, \"yaxis1\": {\"domain\": [0.0, 1.0], \"anchor\": \"x1\", \"showgrid\": false, \"showline\": false, \"showticklabels\": false, \"zeroline\": false}, \"barmode\": \"stack\", \"showlegend\": false, \"margin\": {\"b\": 30, \"l\": 20, \"r\": 20, \"t\": 10}, \"annotations\": [{\"xref\": \"x1\", \"yref\": \"y1\", \"x\": 0.5, \"y\": 1, \"text\": \" \", \"align\": \"left\", \"font\": {\"family\": \"Arial\", \"size\": 14, \"color\": \"black\"}, \"showarrow\": false}, {\"xref\": \"x1\", \"yref\": \"y1\", \"x\": 1.5, \"y\": 1, \"text\": \"B\", \"align\": \"left\", \"font\": {\"family\": \"Arial\", \"size\": 14, \"color\": \"black\"}, \"showarrow\": false}, {\"xref\": \"x1\", \"yref\": \"y1\", \"x\": 2.5, \"y\": 1, \"text\": \"E\", \"align\": \"left\", \"font\": {\"family\": \"Arial\", \"size\": 14, \"color\": \"black\"}, \"showarrow\": false}, {\"xref\": \"x1\", \"yref\": \"y1\", \"x\": 3.5, \"y\": 1, \"text\": \"R\", \"align\": \"left\", \"font\": {\"family\": \"Arial\", \"size\": 14, \"color\": \"black\"}, \"showarrow\": false}, {\"xref\": \"x1\", \"yref\": \"y1\", \"x\": 4.5, \"y\": 1, \"text\": \"T\", \"align\": \"left\", \"font\": {\"family\": \"Arial\", \"size\": 14, \"color\": \"black\"}, \"showarrow\": false}, {\"xref\": \"x1\", \"yref\": \"y1\", \"x\": 5.5, \"y\": 1, \"text\": \" \", \"align\": \"left\", \"font\": {\"family\": \"Arial\", \"size\": 14, \"color\": \"black\"}, \"showarrow\": false}, {\"xref\": \"x1\", \"yref\": \"y1\", \"x\": 6.5, \"y\": 1, \"text\": \"\\ubc1c\", \"align\": \"left\", \"font\": {\"family\": \"Arial\", \"size\": 14, \"color\": \"black\"}, \"showarrow\": false}, {\"xref\": \"x1\", \"yref\": \"y1\", \"x\": 7.5, \"y\": 1, \"text\": \"\\ud45c\", \"align\": \"left\", \"font\": {\"family\": \"Arial\", \"size\": 14, \"color\": \"black\"}, \"showarrow\": false}, {\"xref\": \"x1\", \"yref\": \"y1\", \"x\": 8.5, \"y\": 1, \"text\": \" \", \"align\": \"left\", \"font\": {\"family\": \"Arial\", \"size\": 14, \"color\": \"black\"}, \"showarrow\": false}, {\"xref\": \"x1\", \"yref\": \"y1\", \"x\": 9.5, \"y\": 1, \"text\": \"\\ud6c4\", \"align\": \"left\", \"font\": {\"family\": \"Arial\", \"size\": 14, \"color\": \"black\"}, \"showarrow\": false}, {\"xref\": \"x1\", \"yref\": \"y1\", \"x\": 10.5, \"y\": 1, \"text\": \" \", \"align\": \"left\", \"font\": {\"family\": \"Arial\", \"size\": 14, \"color\": \"black\"}, \"showarrow\": false}, {\"xref\": \"x1\", \"yref\": \"y1\", \"x\": 11.5, \"y\": 1, \"text\": \"N\", \"align\": \"left\", \"font\": {\"family\": \"Arial\", \"size\": 14, \"color\": \"black\"}, \"showarrow\": false}, {\"xref\": \"x1\", \"yref\": \"y1\", \"x\": 12.5, \"y\": 1, \"text\": \"L\", \"align\": \"left\", \"font\": {\"family\": \"Arial\", \"size\": 14, \"color\": \"black\"}, \"showarrow\": false}, {\"xref\": \"x1\", \"yref\": \"y1\", \"x\": 13.5, \"y\": 1, \"text\": \"P\", \"align\": \"left\", \"font\": {\"family\": \"Arial\", \"size\": 14, \"color\": \"black\"}, \"showarrow\": false}, {\"xref\": \"x1\", \"yref\": \"y1\", \"x\": 14.5, \"y\": 1, \"text\": \" \", \"align\": \"left\", \"font\": {\"family\": \"Arial\", \"size\": 14, \"color\": \"black\"}, \"showarrow\": false}, {\"xref\": \"x1\", \"yref\": \"y1\", \"x\": 15.5, \"y\": 1, \"text\": \"\\uae30\", \"align\": \"left\", \"font\": {\"family\": \"Arial\", \"size\": 14, \"color\": \"black\"}, \"showarrow\": false}, {\"xref\": \"x1\", \"yref\": \"y1\", \"x\": 16.5, \"y\": 1, \"text\": \"\\uc220\", \"align\": \"left\", \"font\": {\"family\": \"Arial\", \"size\": 14, \"color\": \"black\"}, \"showarrow\": false}, {\"xref\": \"x1\", \"yref\": \"y1\", \"x\": 17.5, \"y\": 1, \"text\": \"\\ub3d9\", \"align\": \"left\", \"font\": {\"family\": \"Arial\", \"size\": 14, \"color\": \"black\"}, \"showarrow\": false}, {\"xref\": \"x1\", \"yref\": \"y1\", \"x\": 18.5, \"y\": 1, \"text\": \"\\ud5a5\", \"align\": \"left\", \"font\": {\"family\": \"Arial\", \"size\": 14, \"color\": \"black\"}, \"showarrow\": false}, {\"xref\": \"x1\", \"yref\": \"y1\", \"x\": 19.5, \"y\": 1, \"text\": \"\\uc5d0\", \"align\": \"left\", \"font\": {\"family\": \"Arial\", \"size\": 14, \"color\": \"black\"}, \"showarrow\": false}, {\"xref\": \"x1\", \"yref\": \"y1\", \"x\": 20.5, \"y\": 1, \"text\": \" \", \"align\": \"left\", \"font\": {\"family\": \"Arial\", \"size\": 14, \"color\": \"black\"}, \"showarrow\": false}, {\"xref\": \"x1\", \"yref\": \"y1\", \"x\": 21.5, \"y\": 1, \"text\": \"\\ud070\", \"align\": \"left\", \"font\": {\"family\": \"Arial\", \"size\": 14, \"color\": \"black\"}, \"showarrow\": false}, {\"xref\": \"x1\", \"yref\": \"y1\", \"x\": 22.5, \"y\": 1, \"text\": \" \", \"align\": \"left\", \"font\": {\"family\": \"Arial\", \"size\": 14, \"color\": \"black\"}, \"showarrow\": false}, {\"xref\": \"x1\", \"yref\": \"y1\", \"x\": 23.5, \"y\": 1, \"text\": \"\\ubcc0\", \"align\": \"left\", \"font\": {\"family\": \"Arial\", \"size\": 14, \"color\": \"black\"}, \"showarrow\": false}, {\"xref\": \"x1\", \"yref\": \"y1\", \"x\": 24.5, \"y\": 1, \"text\": \"\\ud654\", \"align\": \"left\", \"font\": {\"family\": \"Arial\", \"size\": 14, \"color\": \"black\"}, \"showarrow\": false}, {\"xref\": \"x1\", \"yref\": \"y1\", \"x\": 25.5, \"y\": 1, \"text\": \"\\uac00\", \"align\": \"left\", \"font\": {\"family\": \"Arial\", \"size\": 14, \"color\": \"black\"}, \"showarrow\": false}, {\"xref\": \"x1\", \"yref\": \"y1\", \"x\": 26.5, \"y\": 1, \"text\": \" \", \"align\": \"left\", \"font\": {\"family\": \"Arial\", \"size\": 14, \"color\": \"black\"}, \"showarrow\": false}, {\"xref\": \"x1\", \"yref\": \"y1\", \"x\": 27.5, \"y\": 1, \"text\": \"\\uc0dd\", \"align\": \"left\", \"font\": {\"family\": \"Arial\", \"size\": 14, \"color\": \"black\"}, \"showarrow\": false}, {\"xref\": \"x1\", \"yref\": \"y1\", \"x\": 28.5, \"y\": 1, \"text\": \"\\uacbc\", \"align\": \"left\", \"font\": {\"family\": \"Arial\", \"size\": 14, \"color\": \"black\"}, \"showarrow\": false}, {\"xref\": \"x1\", \"yref\": \"y1\", \"x\": 29.5, \"y\": 1, \"text\": \"\\uc2b5\", \"align\": \"left\", \"font\": {\"family\": \"Arial\", \"size\": 14, \"color\": \"black\"}, \"showarrow\": false}, {\"xref\": \"x1\", \"yref\": \"y1\", \"x\": 30.5, \"y\": 1, \"text\": \"\\ub2c8\", \"align\": \"left\", \"font\": {\"family\": \"Arial\", \"size\": 14, \"color\": \"black\"}, \"showarrow\": false}, {\"xref\": \"x1\", \"yref\": \"y1\", \"x\": 31.5, \"y\": 1, \"text\": \"\\ub2e4\", \"align\": \"left\", \"font\": {\"family\": \"Arial\", \"size\": 14, \"color\": \"black\"}, \"showarrow\": false}, {\"xref\": \"x1\", \"yref\": \"y1\", \"x\": 32.5, \"y\": 1, \"text\": \".\", \"align\": \"left\", \"font\": {\"family\": \"Arial\", \"size\": 14, \"color\": \"black\"}, \"showarrow\": false}], \"height\": 80, \"images\": [{\"source\": \"https://raw.githubusercontent.com/fingeredman/teanaps/master/data/logo/teanaps_logo_no-bg.png\", \"xref\": \"paper\", \"yref\": \"paper\", \"x\": 0.5, \"y\": 0.6, \"sizex\": 0.7, \"sizey\": 0.7, \"xanchor\": \"center\", \"yanchor\": \"center\", \"opacity\": 0.3, \"layer\": \"above\"}]}, {\"showLink\": true, \"linkText\": \"Export to plot.ly\"})});</script>"
      ]
     },
     "metadata": {},
     "output_type": "display_data"
    }
   ],
   "source": [
    "input_text = \"BERT 발표 후 NLP 기술동향에 큰 변화가 생겼습니다.\"\n",
    "\n",
    "result = ner.parse(input_text)\n",
    "print(result)\n",
    "result = ner.parse_sentence(input_text)\n",
    "print(result)\n",
    "ner.draw_sentence_weight(input_text)"
   ]
  },
  {
   "cell_type": "code",
   "execution_count": 14,
   "metadata": {},
   "outputs": [
    {
     "name": "stdout",
     "output_type": "stream",
     "text": [
      "[('V60 ThinkQ', 'UN', (7, 17)), ('LG전자', 'OG', (19, 23))]\n",
      "오늘 출시된 <V60 ThinkQ:UN>는 <LG전자:OG>의 핵심 제품입니다.\n"
     ]
    },
    {
     "data": {
      "text/html": [
       "\n",
       "                <script src=\"/static/components/requirejs/require.js\"></script>\n",
       "                <script>\n",
       "                  requirejs.config({\n",
       "                    paths: {\n",
       "                      base: '/static/base',\n",
       "                      plotly: 'https://cdn.plot.ly/plotly-latest.min.js?noext',\n",
       "                    },\n",
       "                  });\n",
       "                </script>\n",
       "                "
      ],
      "text/plain": [
       "<IPython.core.display.HTML object>"
      ]
     },
     "metadata": {},
     "output_type": "display_data"
    },
    {
     "data": {
      "text/html": [
       "\n",
       "                <script src=\"/static/components/requirejs/require.js\"></script>\n",
       "                <script>\n",
       "                  requirejs.config({\n",
       "                    paths: {\n",
       "                      base: '/static/base',\n",
       "                      plotly: 'https://cdn.plot.ly/plotly-latest.min.js?noext',\n",
       "                    },\n",
       "                  });\n",
       "                </script>\n",
       "                "
      ],
      "text/plain": [
       "<IPython.core.display.HTML object>"
      ]
     },
     "metadata": {},
     "output_type": "display_data"
    },
    {
     "data": {
      "application/vnd.plotly.v1+json": {
       "data": [
        {
         "hoverinfo": "text",
         "marker": {
          "color": "rgb(243.63985220017838, 249.3199261000892, 255)"
         },
         "orientation": "h",
         "text": "0.06",
         "type": "bar",
         "width": 0.5,
         "x": [
          3
         ],
         "xaxis": "x1",
         "y": [
          1
         ],
         "yaxis": "y1"
        },
        {
         "hoverinfo": "text",
         "marker": {
          "color": "rgb(252.37274495891427, 253.68637247945713, 255)"
         },
         "orientation": "h",
         "text": "0.01",
         "type": "bar",
         "width": 0.5,
         "x": [
          3
         ],
         "xaxis": "x1",
         "y": [
          1
         ],
         "yaxis": "y1"
        },
        {
         "hoverinfo": "text",
         "marker": {
          "color": "rgb(239.5600888377382, 247.2800444188691, 255)"
         },
         "orientation": "h",
         "text": "0.08",
         "type": "bar",
         "width": 0.5,
         "x": [
          1
         ],
         "xaxis": "x1",
         "y": [
          1
         ],
         "yaxis": "y1"
        },
        {
         "hoverinfo": "text",
         "marker": {
          "color": "rgb(213.02674327012375, 234.01337163506187, 255)"
         },
         "orientation": "h",
         "text": "0.21",
         "type": "bar",
         "width": 0.5,
         "x": [
          2
         ],
         "xaxis": "x1",
         "y": [
          1
         ],
         "yaxis": "y1"
        },
        {
         "hoverinfo": "text",
         "marker": {
          "color": "rgb(55.0, 155.0, 255)"
         },
         "orientation": "h",
         "text": "1.0",
         "type": "bar",
         "width": 0.5,
         "x": [
          2
         ],
         "xaxis": "x1",
         "y": [
          1
         ],
         "yaxis": "y1"
        },
        {
         "hoverinfo": "text",
         "marker": {
          "color": "rgb(78.23567363126747, 166.61783681563372, 255)"
         },
         "orientation": "h",
         "text": "0.88",
         "type": "bar",
         "width": 0.5,
         "x": [
          2
         ],
         "xaxis": "x1",
         "y": [
          1
         ],
         "yaxis": "y1"
        },
        {
         "hoverinfo": "text",
         "marker": {
          "color": "rgb(87.489586813335, 171.2447934066675, 255)"
         },
         "orientation": "h",
         "text": "0.84",
         "type": "bar",
         "width": 0.5,
         "x": [
          1
         ],
         "xaxis": "x1",
         "y": [
          1
         ],
         "yaxis": "y1"
        },
        {
         "hoverinfo": "text",
         "marker": {
          "color": "rgb(91.54371086434813, 173.27185543217405, 255)"
         },
         "orientation": "h",
         "text": "0.82",
         "type": "bar",
         "width": 0.5,
         "x": [
          2
         ],
         "xaxis": "x1",
         "y": [
          1
         ],
         "yaxis": "y1"
        },
        {
         "hoverinfo": "text",
         "marker": {
          "color": "rgb(88.37755042618207, 171.68877521309105, 255)"
         },
         "orientation": "h",
         "text": "0.83",
         "type": "bar",
         "width": 0.5,
         "x": [
          1
         ],
         "xaxis": "x1",
         "y": [
          1
         ],
         "yaxis": "y1"
        },
        {
         "hoverinfo": "text",
         "marker": {
          "color": "rgb(85.39540992248729, 170.19770496124363, 255)"
         },
         "orientation": "h",
         "text": "0.85",
         "type": "bar",
         "width": 0.5,
         "x": [
          1
         ],
         "xaxis": "x1",
         "y": [
          1
         ],
         "yaxis": "y1"
        },
        {
         "hoverinfo": "text",
         "marker": {
          "color": "rgb(216.4071977417407, 235.70359887087037, 255)"
         },
         "orientation": "h",
         "text": "0.19",
         "type": "bar",
         "width": 0.5,
         "x": [
          1
         ],
         "xaxis": "x1",
         "y": [
          1
         ],
         "yaxis": "y1"
        },
        {
         "hoverinfo": "text",
         "marker": {
          "color": "rgb(116.53681471423886, 185.76840735711943, 255)"
         },
         "orientation": "h",
         "text": "0.69",
         "type": "bar",
         "width": 0.5,
         "x": [
          3
         ],
         "xaxis": "x1",
         "y": [
          1
         ],
         "yaxis": "y1"
        },
        {
         "hoverinfo": "text",
         "marker": {
          "color": "rgb(146.14286830805256, 200.5714341540263, 255)"
         },
         "orientation": "h",
         "text": "0.54",
         "type": "bar",
         "width": 0.5,
         "x": [
          2
         ],
         "xaxis": "x1",
         "y": [
          1
         ],
         "yaxis": "y1"
        },
        {
         "hoverinfo": "text",
         "marker": {
          "color": "rgb(216.10441077760987, 235.55220538880494, 255)"
         },
         "orientation": "h",
         "text": "0.19",
         "type": "bar",
         "width": 0.5,
         "x": [
          1
         ],
         "xaxis": "x1",
         "y": [
          1
         ],
         "yaxis": "y1"
        },
        {
         "hoverinfo": "text",
         "marker": {
          "color": "rgb(207.70515663455615, 231.35257831727807, 255)"
         },
         "orientation": "h",
         "text": "0.24",
         "type": "bar",
         "width": 0.5,
         "x": [
          3
         ],
         "xaxis": "x1",
         "y": [
          1
         ],
         "yaxis": "y1"
        },
        {
         "hoverinfo": "text",
         "marker": {
          "color": "rgb(219.9654541191471, 237.48272705957353, 255)"
         },
         "orientation": "h",
         "text": "0.18",
         "type": "bar",
         "width": 0.5,
         "x": [
          3
         ],
         "xaxis": "x1",
         "y": [
          1
         ],
         "yaxis": "y1"
        },
        {
         "hoverinfo": "text",
         "marker": {
          "color": "rgb(254.44196676572858, 254.7209833828643, 255)"
         },
         "orientation": "h",
         "text": "0.0",
         "type": "bar",
         "width": 0.5,
         "x": [
          3
         ],
         "xaxis": "x1",
         "y": [
          1
         ],
         "yaxis": "y1"
        },
        {
         "hoverinfo": "text",
         "marker": {
          "color": "rgb(240.95474037527316, 247.97737018763658, 255)"
         },
         "orientation": "h",
         "text": "0.07",
         "type": "bar",
         "width": 0.5,
         "x": [
          1
         ],
         "xaxis": "x1",
         "y": [
          1
         ],
         "yaxis": "y1"
        },
        {
         "hoverinfo": "text",
         "marker": {
          "color": "rgb(255, 255, 255)"
         },
         "orientation": "h",
         "text": "",
         "type": "bar",
         "width": 0.5,
         "x": [
          1
         ],
         "xaxis": "x1",
         "y": [
          1
         ],
         "yaxis": "y1"
        },
        {
         "hoverinfo": "text",
         "marker": {
          "color": "rgb(255, 255, 255)"
         },
         "orientation": "h",
         "text": "",
         "type": "bar",
         "width": 0.5,
         "x": [
          1
         ],
         "xaxis": "x1",
         "y": [
          1
         ],
         "yaxis": "y1"
        },
        {
         "hoverinfo": "text",
         "marker": {
          "color": "rgb(255, 255, 255)"
         },
         "orientation": "h",
         "text": "",
         "type": "bar",
         "width": 0.5,
         "x": [
          1
         ],
         "xaxis": "x1",
         "y": [
          1
         ],
         "yaxis": "y1"
        },
        {
         "hoverinfo": "text",
         "marker": {
          "color": "rgb(255, 255, 255)"
         },
         "orientation": "h",
         "text": "",
         "type": "bar",
         "width": 0.5,
         "x": [
          1
         ],
         "xaxis": "x1",
         "y": [
          1
         ],
         "yaxis": "y1"
        },
        {
         "hoverinfo": "text",
         "marker": {
          "color": "rgb(255, 255, 255)"
         },
         "orientation": "h",
         "text": "",
         "type": "bar",
         "width": 0.5,
         "x": [
          1
         ],
         "xaxis": "x1",
         "y": [
          1
         ],
         "yaxis": "y1"
        },
        {
         "hoverinfo": "text",
         "marker": {
          "color": "rgb(255, 255, 255)"
         },
         "orientation": "h",
         "text": "",
         "type": "bar",
         "width": 0.5,
         "x": [
          1
         ],
         "xaxis": "x1",
         "y": [
          1
         ],
         "yaxis": "y1"
        },
        {
         "hoverinfo": "text",
         "marker": {
          "color": "rgb(255, 255, 255)"
         },
         "orientation": "h",
         "text": "",
         "type": "bar",
         "width": 0.5,
         "x": [
          1
         ],
         "xaxis": "x1",
         "y": [
          1
         ],
         "yaxis": "y1"
        },
        {
         "hoverinfo": "text",
         "marker": {
          "color": "rgb(255, 255, 255)"
         },
         "orientation": "h",
         "text": "",
         "type": "bar",
         "width": 0.5,
         "x": [
          1
         ],
         "xaxis": "x1",
         "y": [
          1
         ],
         "yaxis": "y1"
        },
        {
         "hoverinfo": "text",
         "marker": {
          "color": "rgb(255, 255, 255)"
         },
         "orientation": "h",
         "text": "",
         "type": "bar",
         "width": 0.5,
         "x": [
          1
         ],
         "xaxis": "x1",
         "y": [
          1
         ],
         "yaxis": "y1"
        },
        {
         "hoverinfo": "text",
         "marker": {
          "color": "rgb(255, 255, 255)"
         },
         "orientation": "h",
         "text": "",
         "type": "bar",
         "width": 0.5,
         "x": [
          1
         ],
         "xaxis": "x1",
         "y": [
          1
         ],
         "yaxis": "y1"
        },
        {
         "hoverinfo": "text",
         "marker": {
          "color": "rgb(255, 255, 255)"
         },
         "orientation": "h",
         "text": "",
         "type": "bar",
         "width": 0.5,
         "x": [
          1
         ],
         "xaxis": "x1",
         "y": [
          1
         ],
         "yaxis": "y1"
        },
        {
         "hoverinfo": "text",
         "marker": {
          "color": "rgb(255, 255, 255)"
         },
         "orientation": "h",
         "text": "",
         "type": "bar",
         "width": 0.5,
         "x": [
          1
         ],
         "xaxis": "x1",
         "y": [
          1
         ],
         "yaxis": "y1"
        },
        {
         "hoverinfo": "text",
         "marker": {
          "color": "rgb(255, 255, 255)"
         },
         "orientation": "h",
         "text": "",
         "type": "bar",
         "width": 0.5,
         "x": [
          1
         ],
         "xaxis": "x1",
         "y": [
          1
         ],
         "yaxis": "y1"
        },
        {
         "hoverinfo": "text",
         "marker": {
          "color": "rgb(255, 255, 255)"
         },
         "orientation": "h",
         "text": "",
         "type": "bar",
         "width": 0.5,
         "x": [
          1
         ],
         "xaxis": "x1",
         "y": [
          1
         ],
         "yaxis": "y1"
        },
        {
         "hoverinfo": "text",
         "marker": {
          "color": "rgb(255, 255, 255)"
         },
         "orientation": "h",
         "text": "",
         "type": "bar",
         "width": 0.5,
         "x": [
          1
         ],
         "xaxis": "x1",
         "y": [
          1
         ],
         "yaxis": "y1"
        }
       ],
       "layout": {
        "annotations": [
         {
          "align": "left",
          "font": {
           "color": "black",
           "family": "Arial",
           "size": 14
          },
          "showarrow": false,
          "text": " ",
          "x": 0.5,
          "xref": "x1",
          "y": 1,
          "yref": "y1"
         },
         {
          "align": "left",
          "font": {
           "color": "black",
           "family": "Arial",
           "size": 14
          },
          "showarrow": false,
          "text": "오",
          "x": 1.5,
          "xref": "x1",
          "y": 1,
          "yref": "y1"
         },
         {
          "align": "left",
          "font": {
           "color": "black",
           "family": "Arial",
           "size": 14
          },
          "showarrow": false,
          "text": "늘",
          "x": 2.5,
          "xref": "x1",
          "y": 1,
          "yref": "y1"
         },
         {
          "align": "left",
          "font": {
           "color": "black",
           "family": "Arial",
           "size": 14
          },
          "showarrow": false,
          "text": " ",
          "x": 3.5,
          "xref": "x1",
          "y": 1,
          "yref": "y1"
         },
         {
          "align": "left",
          "font": {
           "color": "black",
           "family": "Arial",
           "size": 14
          },
          "showarrow": false,
          "text": "출",
          "x": 4.5,
          "xref": "x1",
          "y": 1,
          "yref": "y1"
         },
         {
          "align": "left",
          "font": {
           "color": "black",
           "family": "Arial",
           "size": 14
          },
          "showarrow": false,
          "text": "시",
          "x": 5.5,
          "xref": "x1",
          "y": 1,
          "yref": "y1"
         },
         {
          "align": "left",
          "font": {
           "color": "black",
           "family": "Arial",
           "size": 14
          },
          "showarrow": false,
          "text": "된",
          "x": 6.5,
          "xref": "x1",
          "y": 1,
          "yref": "y1"
         },
         {
          "align": "left",
          "font": {
           "color": "black",
           "family": "Arial",
           "size": 14
          },
          "showarrow": false,
          "text": " ",
          "x": 7.5,
          "xref": "x1",
          "y": 1,
          "yref": "y1"
         },
         {
          "align": "left",
          "font": {
           "color": "black",
           "family": "Arial",
           "size": 14
          },
          "showarrow": false,
          "text": "V",
          "x": 8.5,
          "xref": "x1",
          "y": 1,
          "yref": "y1"
         },
         {
          "align": "left",
          "font": {
           "color": "black",
           "family": "Arial",
           "size": 14
          },
          "showarrow": false,
          "text": "6",
          "x": 9.5,
          "xref": "x1",
          "y": 1,
          "yref": "y1"
         },
         {
          "align": "left",
          "font": {
           "color": "black",
           "family": "Arial",
           "size": 14
          },
          "showarrow": false,
          "text": "0",
          "x": 10.5,
          "xref": "x1",
          "y": 1,
          "yref": "y1"
         },
         {
          "align": "left",
          "font": {
           "color": "black",
           "family": "Arial",
           "size": 14
          },
          "showarrow": false,
          "text": " ",
          "x": 11.5,
          "xref": "x1",
          "y": 1,
          "yref": "y1"
         },
         {
          "align": "left",
          "font": {
           "color": "black",
           "family": "Arial",
           "size": 14
          },
          "showarrow": false,
          "text": "T",
          "x": 12.5,
          "xref": "x1",
          "y": 1,
          "yref": "y1"
         },
         {
          "align": "left",
          "font": {
           "color": "black",
           "family": "Arial",
           "size": 14
          },
          "showarrow": false,
          "text": "h",
          "x": 13.5,
          "xref": "x1",
          "y": 1,
          "yref": "y1"
         },
         {
          "align": "left",
          "font": {
           "color": "black",
           "family": "Arial",
           "size": 14
          },
          "showarrow": false,
          "text": "i",
          "x": 14.5,
          "xref": "x1",
          "y": 1,
          "yref": "y1"
         },
         {
          "align": "left",
          "font": {
           "color": "black",
           "family": "Arial",
           "size": 14
          },
          "showarrow": false,
          "text": "n",
          "x": 15.5,
          "xref": "x1",
          "y": 1,
          "yref": "y1"
         },
         {
          "align": "left",
          "font": {
           "color": "black",
           "family": "Arial",
           "size": 14
          },
          "showarrow": false,
          "text": "k",
          "x": 16.5,
          "xref": "x1",
          "y": 1,
          "yref": "y1"
         },
         {
          "align": "left",
          "font": {
           "color": "black",
           "family": "Arial",
           "size": 14
          },
          "showarrow": false,
          "text": "Q",
          "x": 17.5,
          "xref": "x1",
          "y": 1,
          "yref": "y1"
         },
         {
          "align": "left",
          "font": {
           "color": "black",
           "family": "Arial",
           "size": 14
          },
          "showarrow": false,
          "text": "는",
          "x": 18.5,
          "xref": "x1",
          "y": 1,
          "yref": "y1"
         },
         {
          "align": "left",
          "font": {
           "color": "black",
           "family": "Arial",
           "size": 14
          },
          "showarrow": false,
          "text": " ",
          "x": 19.5,
          "xref": "x1",
          "y": 1,
          "yref": "y1"
         },
         {
          "align": "left",
          "font": {
           "color": "black",
           "family": "Arial",
           "size": 14
          },
          "showarrow": false,
          "text": "L",
          "x": 20.5,
          "xref": "x1",
          "y": 1,
          "yref": "y1"
         },
         {
          "align": "left",
          "font": {
           "color": "black",
           "family": "Arial",
           "size": 14
          },
          "showarrow": false,
          "text": "G",
          "x": 21.5,
          "xref": "x1",
          "y": 1,
          "yref": "y1"
         },
         {
          "align": "left",
          "font": {
           "color": "black",
           "family": "Arial",
           "size": 14
          },
          "showarrow": false,
          "text": "전",
          "x": 22.5,
          "xref": "x1",
          "y": 1,
          "yref": "y1"
         },
         {
          "align": "left",
          "font": {
           "color": "black",
           "family": "Arial",
           "size": 14
          },
          "showarrow": false,
          "text": "자",
          "x": 23.5,
          "xref": "x1",
          "y": 1,
          "yref": "y1"
         },
         {
          "align": "left",
          "font": {
           "color": "black",
           "family": "Arial",
           "size": 14
          },
          "showarrow": false,
          "text": "의",
          "x": 24.5,
          "xref": "x1",
          "y": 1,
          "yref": "y1"
         },
         {
          "align": "left",
          "font": {
           "color": "black",
           "family": "Arial",
           "size": 14
          },
          "showarrow": false,
          "text": " ",
          "x": 25.5,
          "xref": "x1",
          "y": 1,
          "yref": "y1"
         },
         {
          "align": "left",
          "font": {
           "color": "black",
           "family": "Arial",
           "size": 14
          },
          "showarrow": false,
          "text": "핵",
          "x": 26.5,
          "xref": "x1",
          "y": 1,
          "yref": "y1"
         },
         {
          "align": "left",
          "font": {
           "color": "black",
           "family": "Arial",
           "size": 14
          },
          "showarrow": false,
          "text": "심",
          "x": 27.5,
          "xref": "x1",
          "y": 1,
          "yref": "y1"
         },
         {
          "align": "left",
          "font": {
           "color": "black",
           "family": "Arial",
           "size": 14
          },
          "showarrow": false,
          "text": " ",
          "x": 28.5,
          "xref": "x1",
          "y": 1,
          "yref": "y1"
         },
         {
          "align": "left",
          "font": {
           "color": "black",
           "family": "Arial",
           "size": 14
          },
          "showarrow": false,
          "text": "제",
          "x": 29.5,
          "xref": "x1",
          "y": 1,
          "yref": "y1"
         },
         {
          "align": "left",
          "font": {
           "color": "black",
           "family": "Arial",
           "size": 14
          },
          "showarrow": false,
          "text": "품",
          "x": 30.5,
          "xref": "x1",
          "y": 1,
          "yref": "y1"
         },
         {
          "align": "left",
          "font": {
           "color": "black",
           "family": "Arial",
           "size": 14
          },
          "showarrow": false,
          "text": "입",
          "x": 31.5,
          "xref": "x1",
          "y": 1,
          "yref": "y1"
         },
         {
          "align": "left",
          "font": {
           "color": "black",
           "family": "Arial",
           "size": 14
          },
          "showarrow": false,
          "text": "니",
          "x": 32.5,
          "xref": "x1",
          "y": 1,
          "yref": "y1"
         },
         {
          "align": "left",
          "font": {
           "color": "black",
           "family": "Arial",
           "size": 14
          },
          "showarrow": false,
          "text": "다",
          "x": 33.5,
          "xref": "x1",
          "y": 1,
          "yref": "y1"
         },
         {
          "align": "left",
          "font": {
           "color": "black",
           "family": "Arial",
           "size": 14
          },
          "showarrow": false,
          "text": ".",
          "x": 34.5,
          "xref": "x1",
          "y": 1,
          "yref": "y1"
         }
        ],
        "barmode": "stack",
        "height": 80,
        "images": [
         {
          "layer": "above",
          "opacity": 0.3,
          "sizex": 0.7,
          "sizey": 0.7,
          "source": "https://raw.githubusercontent.com/fingeredman/teanaps/master/data/logo/teanaps_logo_no-bg.png",
          "x": 0.5,
          "xanchor": "center",
          "xref": "paper",
          "y": 0.6,
          "yanchor": "center",
          "yref": "paper"
         }
        ],
        "margin": {
         "b": 30,
         "l": 20,
         "r": 20,
         "t": 10
        },
        "showlegend": false,
        "xaxis1": {
         "anchor": "y1",
         "domain": [
          0,
          1
         ],
         "showgrid": false,
         "showline": false,
         "showticklabels": false,
         "zeroline": false
        },
        "yaxis1": {
         "anchor": "x1",
         "domain": [
          0,
          1
         ],
         "showgrid": false,
         "showline": false,
         "showticklabels": false,
         "zeroline": false
        }
       }
      },
      "text/html": [
       "<div id=\"8c24b477-1fdf-40b3-b3e3-f3e095de68e5\" style=\"height: 80px; width: 100%;\" class=\"plotly-graph-div\"></div><script type=\"text/javascript\">require([\"plotly\"], function(Plotly) { window.PLOTLYENV=window.PLOTLYENV || {};window.PLOTLYENV.BASE_URL=\"https://plot.ly\";Plotly.newPlot(\"8c24b477-1fdf-40b3-b3e3-f3e095de68e5\", [{\"type\": \"bar\", \"y\": [1], \"x\": [3], \"orientation\": \"h\", \"width\": 0.5, \"text\": \"0.06\", \"hoverinfo\": \"text\", \"marker\": {\"color\": \"rgb(243.63985220017838, 249.3199261000892, 255)\"}, \"xaxis\": \"x1\", \"yaxis\": \"y1\"}, {\"type\": \"bar\", \"y\": [1], \"x\": [3], \"orientation\": \"h\", \"width\": 0.5, \"text\": \"0.01\", \"hoverinfo\": \"text\", \"marker\": {\"color\": \"rgb(252.37274495891427, 253.68637247945713, 255)\"}, \"xaxis\": \"x1\", \"yaxis\": \"y1\"}, {\"type\": \"bar\", \"y\": [1], \"x\": [1], \"orientation\": \"h\", \"width\": 0.5, \"text\": \"0.08\", \"hoverinfo\": \"text\", \"marker\": {\"color\": \"rgb(239.5600888377382, 247.2800444188691, 255)\"}, \"xaxis\": \"x1\", \"yaxis\": \"y1\"}, {\"type\": \"bar\", \"y\": [1], \"x\": [2], \"orientation\": \"h\", \"width\": 0.5, \"text\": \"0.21\", \"hoverinfo\": \"text\", \"marker\": {\"color\": \"rgb(213.02674327012375, 234.01337163506187, 255)\"}, \"xaxis\": \"x1\", \"yaxis\": \"y1\"}, {\"type\": \"bar\", \"y\": [1], \"x\": [2], \"orientation\": \"h\", \"width\": 0.5, \"text\": \"1.0\", \"hoverinfo\": \"text\", \"marker\": {\"color\": \"rgb(55.0, 155.0, 255)\"}, \"xaxis\": \"x1\", \"yaxis\": \"y1\"}, {\"type\": \"bar\", \"y\": [1], \"x\": [2], \"orientation\": \"h\", \"width\": 0.5, \"text\": \"0.88\", \"hoverinfo\": \"text\", \"marker\": {\"color\": \"rgb(78.23567363126747, 166.61783681563372, 255)\"}, \"xaxis\": \"x1\", \"yaxis\": \"y1\"}, {\"type\": \"bar\", \"y\": [1], \"x\": [1], \"orientation\": \"h\", \"width\": 0.5, \"text\": \"0.84\", \"hoverinfo\": \"text\", \"marker\": {\"color\": \"rgb(87.489586813335, 171.2447934066675, 255)\"}, \"xaxis\": \"x1\", \"yaxis\": \"y1\"}, {\"type\": \"bar\", \"y\": [1], \"x\": [2], \"orientation\": \"h\", \"width\": 0.5, \"text\": \"0.82\", \"hoverinfo\": \"text\", \"marker\": {\"color\": \"rgb(91.54371086434813, 173.27185543217405, 255)\"}, \"xaxis\": \"x1\", \"yaxis\": \"y1\"}, {\"type\": \"bar\", \"y\": [1], \"x\": [1], \"orientation\": \"h\", \"width\": 0.5, \"text\": \"0.83\", \"hoverinfo\": \"text\", \"marker\": {\"color\": \"rgb(88.37755042618207, 171.68877521309105, 255)\"}, \"xaxis\": \"x1\", \"yaxis\": \"y1\"}, {\"type\": \"bar\", \"y\": [1], \"x\": [1], \"orientation\": \"h\", \"width\": 0.5, \"text\": \"0.85\", \"hoverinfo\": \"text\", \"marker\": {\"color\": \"rgb(85.39540992248729, 170.19770496124363, 255)\"}, \"xaxis\": \"x1\", \"yaxis\": \"y1\"}, {\"type\": \"bar\", \"y\": [1], \"x\": [1], \"orientation\": \"h\", \"width\": 0.5, \"text\": \"0.19\", \"hoverinfo\": \"text\", \"marker\": {\"color\": \"rgb(216.4071977417407, 235.70359887087037, 255)\"}, \"xaxis\": \"x1\", \"yaxis\": \"y1\"}, {\"type\": \"bar\", \"y\": [1], \"x\": [3], \"orientation\": \"h\", \"width\": 0.5, \"text\": \"0.69\", \"hoverinfo\": \"text\", \"marker\": {\"color\": \"rgb(116.53681471423886, 185.76840735711943, 255)\"}, \"xaxis\": \"x1\", \"yaxis\": \"y1\"}, {\"type\": \"bar\", \"y\": [1], \"x\": [2], \"orientation\": \"h\", \"width\": 0.5, \"text\": \"0.54\", \"hoverinfo\": \"text\", \"marker\": {\"color\": \"rgb(146.14286830805256, 200.5714341540263, 255)\"}, \"xaxis\": \"x1\", \"yaxis\": \"y1\"}, {\"type\": \"bar\", \"y\": [1], \"x\": [1], \"orientation\": \"h\", \"width\": 0.5, \"text\": \"0.19\", \"hoverinfo\": \"text\", \"marker\": {\"color\": \"rgb(216.10441077760987, 235.55220538880494, 255)\"}, \"xaxis\": \"x1\", \"yaxis\": \"y1\"}, {\"type\": \"bar\", \"y\": [1], \"x\": [3], \"orientation\": \"h\", \"width\": 0.5, \"text\": \"0.24\", \"hoverinfo\": \"text\", \"marker\": {\"color\": \"rgb(207.70515663455615, 231.35257831727807, 255)\"}, \"xaxis\": \"x1\", \"yaxis\": \"y1\"}, {\"type\": \"bar\", \"y\": [1], \"x\": [3], \"orientation\": \"h\", \"width\": 0.5, \"text\": \"0.18\", \"hoverinfo\": \"text\", \"marker\": {\"color\": \"rgb(219.9654541191471, 237.48272705957353, 255)\"}, \"xaxis\": \"x1\", \"yaxis\": \"y1\"}, {\"type\": \"bar\", \"y\": [1], \"x\": [3], \"orientation\": \"h\", \"width\": 0.5, \"text\": \"0.0\", \"hoverinfo\": \"text\", \"marker\": {\"color\": \"rgb(254.44196676572858, 254.7209833828643, 255)\"}, \"xaxis\": \"x1\", \"yaxis\": \"y1\"}, {\"type\": \"bar\", \"y\": [1], \"x\": [1], \"orientation\": \"h\", \"width\": 0.5, \"text\": \"0.07\", \"hoverinfo\": \"text\", \"marker\": {\"color\": \"rgb(240.95474037527316, 247.97737018763658, 255)\"}, \"xaxis\": \"x1\", \"yaxis\": \"y1\"}, {\"type\": \"bar\", \"y\": [1], \"x\": [1], \"orientation\": \"h\", \"width\": 0.5, \"text\": \"\", \"hoverinfo\": \"text\", \"marker\": {\"color\": \"rgb(255, 255, 255)\"}, \"xaxis\": \"x1\", \"yaxis\": \"y1\"}, {\"type\": \"bar\", \"y\": [1], \"x\": [1], \"orientation\": \"h\", \"width\": 0.5, \"text\": \"\", \"hoverinfo\": \"text\", \"marker\": {\"color\": \"rgb(255, 255, 255)\"}, \"xaxis\": \"x1\", \"yaxis\": \"y1\"}, {\"type\": \"bar\", \"y\": [1], \"x\": [1], \"orientation\": \"h\", \"width\": 0.5, \"text\": \"\", \"hoverinfo\": \"text\", \"marker\": {\"color\": \"rgb(255, 255, 255)\"}, \"xaxis\": \"x1\", \"yaxis\": \"y1\"}, {\"type\": \"bar\", \"y\": [1], \"x\": [1], \"orientation\": \"h\", \"width\": 0.5, \"text\": \"\", \"hoverinfo\": \"text\", \"marker\": {\"color\": \"rgb(255, 255, 255)\"}, \"xaxis\": \"x1\", \"yaxis\": \"y1\"}, {\"type\": \"bar\", \"y\": [1], \"x\": [1], \"orientation\": \"h\", \"width\": 0.5, \"text\": \"\", \"hoverinfo\": \"text\", \"marker\": {\"color\": \"rgb(255, 255, 255)\"}, \"xaxis\": \"x1\", \"yaxis\": \"y1\"}, {\"type\": \"bar\", \"y\": [1], \"x\": [1], \"orientation\": \"h\", \"width\": 0.5, \"text\": \"\", \"hoverinfo\": \"text\", \"marker\": {\"color\": \"rgb(255, 255, 255)\"}, \"xaxis\": \"x1\", \"yaxis\": \"y1\"}, {\"type\": \"bar\", \"y\": [1], \"x\": [1], \"orientation\": \"h\", \"width\": 0.5, \"text\": \"\", \"hoverinfo\": \"text\", \"marker\": {\"color\": \"rgb(255, 255, 255)\"}, \"xaxis\": \"x1\", \"yaxis\": \"y1\"}, {\"type\": \"bar\", \"y\": [1], \"x\": [1], \"orientation\": \"h\", \"width\": 0.5, \"text\": \"\", \"hoverinfo\": \"text\", \"marker\": {\"color\": \"rgb(255, 255, 255)\"}, \"xaxis\": \"x1\", \"yaxis\": \"y1\"}, {\"type\": \"bar\", \"y\": [1], \"x\": [1], \"orientation\": \"h\", \"width\": 0.5, \"text\": \"\", \"hoverinfo\": \"text\", \"marker\": {\"color\": \"rgb(255, 255, 255)\"}, \"xaxis\": \"x1\", \"yaxis\": \"y1\"}, {\"type\": \"bar\", \"y\": [1], \"x\": [1], \"orientation\": \"h\", \"width\": 0.5, \"text\": \"\", \"hoverinfo\": \"text\", \"marker\": {\"color\": \"rgb(255, 255, 255)\"}, \"xaxis\": \"x1\", \"yaxis\": \"y1\"}, {\"type\": \"bar\", \"y\": [1], \"x\": [1], \"orientation\": \"h\", \"width\": 0.5, \"text\": \"\", \"hoverinfo\": \"text\", \"marker\": {\"color\": \"rgb(255, 255, 255)\"}, \"xaxis\": \"x1\", \"yaxis\": \"y1\"}, {\"type\": \"bar\", \"y\": [1], \"x\": [1], \"orientation\": \"h\", \"width\": 0.5, \"text\": \"\", \"hoverinfo\": \"text\", \"marker\": {\"color\": \"rgb(255, 255, 255)\"}, \"xaxis\": \"x1\", \"yaxis\": \"y1\"}, {\"type\": \"bar\", \"y\": [1], \"x\": [1], \"orientation\": \"h\", \"width\": 0.5, \"text\": \"\", \"hoverinfo\": \"text\", \"marker\": {\"color\": \"rgb(255, 255, 255)\"}, \"xaxis\": \"x1\", \"yaxis\": \"y1\"}, {\"type\": \"bar\", \"y\": [1], \"x\": [1], \"orientation\": \"h\", \"width\": 0.5, \"text\": \"\", \"hoverinfo\": \"text\", \"marker\": {\"color\": \"rgb(255, 255, 255)\"}, \"xaxis\": \"x1\", \"yaxis\": \"y1\"}, {\"type\": \"bar\", \"y\": [1], \"x\": [1], \"orientation\": \"h\", \"width\": 0.5, \"text\": \"\", \"hoverinfo\": \"text\", \"marker\": {\"color\": \"rgb(255, 255, 255)\"}, \"xaxis\": \"x1\", \"yaxis\": \"y1\"}], {\"xaxis1\": {\"domain\": [0.0, 1.0], \"anchor\": \"y1\", \"showgrid\": false, \"showline\": false, \"showticklabels\": false, \"zeroline\": false}, \"yaxis1\": {\"domain\": [0.0, 1.0], \"anchor\": \"x1\", \"showgrid\": false, \"showline\": false, \"showticklabels\": false, \"zeroline\": false}, \"barmode\": \"stack\", \"showlegend\": false, \"margin\": {\"b\": 30, \"l\": 20, \"r\": 20, \"t\": 10}, \"annotations\": [{\"xref\": \"x1\", \"yref\": \"y1\", \"x\": 0.5, \"y\": 1, \"text\": \" \", \"align\": \"left\", \"font\": {\"family\": \"Arial\", \"size\": 14, \"color\": \"black\"}, \"showarrow\": false}, {\"xref\": \"x1\", \"yref\": \"y1\", \"x\": 1.5, \"y\": 1, \"text\": \"\\uc624\", \"align\": \"left\", \"font\": {\"family\": \"Arial\", \"size\": 14, \"color\": \"black\"}, \"showarrow\": false}, {\"xref\": \"x1\", \"yref\": \"y1\", \"x\": 2.5, \"y\": 1, \"text\": \"\\ub298\", \"align\": \"left\", \"font\": {\"family\": \"Arial\", \"size\": 14, \"color\": \"black\"}, \"showarrow\": false}, {\"xref\": \"x1\", \"yref\": \"y1\", \"x\": 3.5, \"y\": 1, \"text\": \" \", \"align\": \"left\", \"font\": {\"family\": \"Arial\", \"size\": 14, \"color\": \"black\"}, \"showarrow\": false}, {\"xref\": \"x1\", \"yref\": \"y1\", \"x\": 4.5, \"y\": 1, \"text\": \"\\ucd9c\", \"align\": \"left\", \"font\": {\"family\": \"Arial\", \"size\": 14, \"color\": \"black\"}, \"showarrow\": false}, {\"xref\": \"x1\", \"yref\": \"y1\", \"x\": 5.5, \"y\": 1, \"text\": \"\\uc2dc\", \"align\": \"left\", \"font\": {\"family\": \"Arial\", \"size\": 14, \"color\": \"black\"}, \"showarrow\": false}, {\"xref\": \"x1\", \"yref\": \"y1\", \"x\": 6.5, \"y\": 1, \"text\": \"\\ub41c\", \"align\": \"left\", \"font\": {\"family\": \"Arial\", \"size\": 14, \"color\": \"black\"}, \"showarrow\": false}, {\"xref\": \"x1\", \"yref\": \"y1\", \"x\": 7.5, \"y\": 1, \"text\": \" \", \"align\": \"left\", \"font\": {\"family\": \"Arial\", \"size\": 14, \"color\": \"black\"}, \"showarrow\": false}, {\"xref\": \"x1\", \"yref\": \"y1\", \"x\": 8.5, \"y\": 1, \"text\": \"V\", \"align\": \"left\", \"font\": {\"family\": \"Arial\", \"size\": 14, \"color\": \"black\"}, \"showarrow\": false}, {\"xref\": \"x1\", \"yref\": \"y1\", \"x\": 9.5, \"y\": 1, \"text\": \"6\", \"align\": \"left\", \"font\": {\"family\": \"Arial\", \"size\": 14, \"color\": \"black\"}, \"showarrow\": false}, {\"xref\": \"x1\", \"yref\": \"y1\", \"x\": 10.5, \"y\": 1, \"text\": \"0\", \"align\": \"left\", \"font\": {\"family\": \"Arial\", \"size\": 14, \"color\": \"black\"}, \"showarrow\": false}, {\"xref\": \"x1\", \"yref\": \"y1\", \"x\": 11.5, \"y\": 1, \"text\": \" \", \"align\": \"left\", \"font\": {\"family\": \"Arial\", \"size\": 14, \"color\": \"black\"}, \"showarrow\": false}, {\"xref\": \"x1\", \"yref\": \"y1\", \"x\": 12.5, \"y\": 1, \"text\": \"T\", \"align\": \"left\", \"font\": {\"family\": \"Arial\", \"size\": 14, \"color\": \"black\"}, \"showarrow\": false}, {\"xref\": \"x1\", \"yref\": \"y1\", \"x\": 13.5, \"y\": 1, \"text\": \"h\", \"align\": \"left\", \"font\": {\"family\": \"Arial\", \"size\": 14, \"color\": \"black\"}, \"showarrow\": false}, {\"xref\": \"x1\", \"yref\": \"y1\", \"x\": 14.5, \"y\": 1, \"text\": \"i\", \"align\": \"left\", \"font\": {\"family\": \"Arial\", \"size\": 14, \"color\": \"black\"}, \"showarrow\": false}, {\"xref\": \"x1\", \"yref\": \"y1\", \"x\": 15.5, \"y\": 1, \"text\": \"n\", \"align\": \"left\", \"font\": {\"family\": \"Arial\", \"size\": 14, \"color\": \"black\"}, \"showarrow\": false}, {\"xref\": \"x1\", \"yref\": \"y1\", \"x\": 16.5, \"y\": 1, \"text\": \"k\", \"align\": \"left\", \"font\": {\"family\": \"Arial\", \"size\": 14, \"color\": \"black\"}, \"showarrow\": false}, {\"xref\": \"x1\", \"yref\": \"y1\", \"x\": 17.5, \"y\": 1, \"text\": \"Q\", \"align\": \"left\", \"font\": {\"family\": \"Arial\", \"size\": 14, \"color\": \"black\"}, \"showarrow\": false}, {\"xref\": \"x1\", \"yref\": \"y1\", \"x\": 18.5, \"y\": 1, \"text\": \"\\ub294\", \"align\": \"left\", \"font\": {\"family\": \"Arial\", \"size\": 14, \"color\": \"black\"}, \"showarrow\": false}, {\"xref\": \"x1\", \"yref\": \"y1\", \"x\": 19.5, \"y\": 1, \"text\": \" \", \"align\": \"left\", \"font\": {\"family\": \"Arial\", \"size\": 14, \"color\": \"black\"}, \"showarrow\": false}, {\"xref\": \"x1\", \"yref\": \"y1\", \"x\": 20.5, \"y\": 1, \"text\": \"L\", \"align\": \"left\", \"font\": {\"family\": \"Arial\", \"size\": 14, \"color\": \"black\"}, \"showarrow\": false}, {\"xref\": \"x1\", \"yref\": \"y1\", \"x\": 21.5, \"y\": 1, \"text\": \"G\", \"align\": \"left\", \"font\": {\"family\": \"Arial\", \"size\": 14, \"color\": \"black\"}, \"showarrow\": false}, {\"xref\": \"x1\", \"yref\": \"y1\", \"x\": 22.5, \"y\": 1, \"text\": \"\\uc804\", \"align\": \"left\", \"font\": {\"family\": \"Arial\", \"size\": 14, \"color\": \"black\"}, \"showarrow\": false}, {\"xref\": \"x1\", \"yref\": \"y1\", \"x\": 23.5, \"y\": 1, \"text\": \"\\uc790\", \"align\": \"left\", \"font\": {\"family\": \"Arial\", \"size\": 14, \"color\": \"black\"}, \"showarrow\": false}, {\"xref\": \"x1\", \"yref\": \"y1\", \"x\": 24.5, \"y\": 1, \"text\": \"\\uc758\", \"align\": \"left\", \"font\": {\"family\": \"Arial\", \"size\": 14, \"color\": \"black\"}, \"showarrow\": false}, {\"xref\": \"x1\", \"yref\": \"y1\", \"x\": 25.5, \"y\": 1, \"text\": \" \", \"align\": \"left\", \"font\": {\"family\": \"Arial\", \"size\": 14, \"color\": \"black\"}, \"showarrow\": false}, {\"xref\": \"x1\", \"yref\": \"y1\", \"x\": 26.5, \"y\": 1, \"text\": \"\\ud575\", \"align\": \"left\", \"font\": {\"family\": \"Arial\", \"size\": 14, \"color\": \"black\"}, \"showarrow\": false}, {\"xref\": \"x1\", \"yref\": \"y1\", \"x\": 27.5, \"y\": 1, \"text\": \"\\uc2ec\", \"align\": \"left\", \"font\": {\"family\": \"Arial\", \"size\": 14, \"color\": \"black\"}, \"showarrow\": false}, {\"xref\": \"x1\", \"yref\": \"y1\", \"x\": 28.5, \"y\": 1, \"text\": \" \", \"align\": \"left\", \"font\": {\"family\": \"Arial\", \"size\": 14, \"color\": \"black\"}, \"showarrow\": false}, {\"xref\": \"x1\", \"yref\": \"y1\", \"x\": 29.5, \"y\": 1, \"text\": \"\\uc81c\", \"align\": \"left\", \"font\": {\"family\": \"Arial\", \"size\": 14, \"color\": \"black\"}, \"showarrow\": false}, {\"xref\": \"x1\", \"yref\": \"y1\", \"x\": 30.5, \"y\": 1, \"text\": \"\\ud488\", \"align\": \"left\", \"font\": {\"family\": \"Arial\", \"size\": 14, \"color\": \"black\"}, \"showarrow\": false}, {\"xref\": \"x1\", \"yref\": \"y1\", \"x\": 31.5, \"y\": 1, \"text\": \"\\uc785\", \"align\": \"left\", \"font\": {\"family\": \"Arial\", \"size\": 14, \"color\": \"black\"}, \"showarrow\": false}, {\"xref\": \"x1\", \"yref\": \"y1\", \"x\": 32.5, \"y\": 1, \"text\": \"\\ub2c8\", \"align\": \"left\", \"font\": {\"family\": \"Arial\", \"size\": 14, \"color\": \"black\"}, \"showarrow\": false}, {\"xref\": \"x1\", \"yref\": \"y1\", \"x\": 33.5, \"y\": 1, \"text\": \"\\ub2e4\", \"align\": \"left\", \"font\": {\"family\": \"Arial\", \"size\": 14, \"color\": \"black\"}, \"showarrow\": false}, {\"xref\": \"x1\", \"yref\": \"y1\", \"x\": 34.5, \"y\": 1, \"text\": \".\", \"align\": \"left\", \"font\": {\"family\": \"Arial\", \"size\": 14, \"color\": \"black\"}, \"showarrow\": false}], \"height\": 80, \"images\": [{\"source\": \"https://raw.githubusercontent.com/fingeredman/teanaps/master/data/logo/teanaps_logo_no-bg.png\", \"xref\": \"paper\", \"yref\": \"paper\", \"x\": 0.5, \"y\": 0.6, \"sizex\": 0.7, \"sizey\": 0.7, \"xanchor\": \"center\", \"yanchor\": \"center\", \"opacity\": 0.3, \"layer\": \"above\"}]}, {\"showLink\": true, \"linkText\": \"Export to plot.ly\"})});</script>"
      ],
      "text/vnd.plotly.v1+html": [
       "<div id=\"8c24b477-1fdf-40b3-b3e3-f3e095de68e5\" style=\"height: 80px; width: 100%;\" class=\"plotly-graph-div\"></div><script type=\"text/javascript\">require([\"plotly\"], function(Plotly) { window.PLOTLYENV=window.PLOTLYENV || {};window.PLOTLYENV.BASE_URL=\"https://plot.ly\";Plotly.newPlot(\"8c24b477-1fdf-40b3-b3e3-f3e095de68e5\", [{\"type\": \"bar\", \"y\": [1], \"x\": [3], \"orientation\": \"h\", \"width\": 0.5, \"text\": \"0.06\", \"hoverinfo\": \"text\", \"marker\": {\"color\": \"rgb(243.63985220017838, 249.3199261000892, 255)\"}, \"xaxis\": \"x1\", \"yaxis\": \"y1\"}, {\"type\": \"bar\", \"y\": [1], \"x\": [3], \"orientation\": \"h\", \"width\": 0.5, \"text\": \"0.01\", \"hoverinfo\": \"text\", \"marker\": {\"color\": \"rgb(252.37274495891427, 253.68637247945713, 255)\"}, \"xaxis\": \"x1\", \"yaxis\": \"y1\"}, {\"type\": \"bar\", \"y\": [1], \"x\": [1], \"orientation\": \"h\", \"width\": 0.5, \"text\": \"0.08\", \"hoverinfo\": \"text\", \"marker\": {\"color\": \"rgb(239.5600888377382, 247.2800444188691, 255)\"}, \"xaxis\": \"x1\", \"yaxis\": \"y1\"}, {\"type\": \"bar\", \"y\": [1], \"x\": [2], \"orientation\": \"h\", \"width\": 0.5, \"text\": \"0.21\", \"hoverinfo\": \"text\", \"marker\": {\"color\": \"rgb(213.02674327012375, 234.01337163506187, 255)\"}, \"xaxis\": \"x1\", \"yaxis\": \"y1\"}, {\"type\": \"bar\", \"y\": [1], \"x\": [2], \"orientation\": \"h\", \"width\": 0.5, \"text\": \"1.0\", \"hoverinfo\": \"text\", \"marker\": {\"color\": \"rgb(55.0, 155.0, 255)\"}, \"xaxis\": \"x1\", \"yaxis\": \"y1\"}, {\"type\": \"bar\", \"y\": [1], \"x\": [2], \"orientation\": \"h\", \"width\": 0.5, \"text\": \"0.88\", \"hoverinfo\": \"text\", \"marker\": {\"color\": \"rgb(78.23567363126747, 166.61783681563372, 255)\"}, \"xaxis\": \"x1\", \"yaxis\": \"y1\"}, {\"type\": \"bar\", \"y\": [1], \"x\": [1], \"orientation\": \"h\", \"width\": 0.5, \"text\": \"0.84\", \"hoverinfo\": \"text\", \"marker\": {\"color\": \"rgb(87.489586813335, 171.2447934066675, 255)\"}, \"xaxis\": \"x1\", \"yaxis\": \"y1\"}, {\"type\": \"bar\", \"y\": [1], \"x\": [2], \"orientation\": \"h\", \"width\": 0.5, \"text\": \"0.82\", \"hoverinfo\": \"text\", \"marker\": {\"color\": \"rgb(91.54371086434813, 173.27185543217405, 255)\"}, \"xaxis\": \"x1\", \"yaxis\": \"y1\"}, {\"type\": \"bar\", \"y\": [1], \"x\": [1], \"orientation\": \"h\", \"width\": 0.5, \"text\": \"0.83\", \"hoverinfo\": \"text\", \"marker\": {\"color\": \"rgb(88.37755042618207, 171.68877521309105, 255)\"}, \"xaxis\": \"x1\", \"yaxis\": \"y1\"}, {\"type\": \"bar\", \"y\": [1], \"x\": [1], \"orientation\": \"h\", \"width\": 0.5, \"text\": \"0.85\", \"hoverinfo\": \"text\", \"marker\": {\"color\": \"rgb(85.39540992248729, 170.19770496124363, 255)\"}, \"xaxis\": \"x1\", \"yaxis\": \"y1\"}, {\"type\": \"bar\", \"y\": [1], \"x\": [1], \"orientation\": \"h\", \"width\": 0.5, \"text\": \"0.19\", \"hoverinfo\": \"text\", \"marker\": {\"color\": \"rgb(216.4071977417407, 235.70359887087037, 255)\"}, \"xaxis\": \"x1\", \"yaxis\": \"y1\"}, {\"type\": \"bar\", \"y\": [1], \"x\": [3], \"orientation\": \"h\", \"width\": 0.5, \"text\": \"0.69\", \"hoverinfo\": \"text\", \"marker\": {\"color\": \"rgb(116.53681471423886, 185.76840735711943, 255)\"}, \"xaxis\": \"x1\", \"yaxis\": \"y1\"}, {\"type\": \"bar\", \"y\": [1], \"x\": [2], \"orientation\": \"h\", \"width\": 0.5, \"text\": \"0.54\", \"hoverinfo\": \"text\", \"marker\": {\"color\": \"rgb(146.14286830805256, 200.5714341540263, 255)\"}, \"xaxis\": \"x1\", \"yaxis\": \"y1\"}, {\"type\": \"bar\", \"y\": [1], \"x\": [1], \"orientation\": \"h\", \"width\": 0.5, \"text\": \"0.19\", \"hoverinfo\": \"text\", \"marker\": {\"color\": \"rgb(216.10441077760987, 235.55220538880494, 255)\"}, \"xaxis\": \"x1\", \"yaxis\": \"y1\"}, {\"type\": \"bar\", \"y\": [1], \"x\": [3], \"orientation\": \"h\", \"width\": 0.5, \"text\": \"0.24\", \"hoverinfo\": \"text\", \"marker\": {\"color\": \"rgb(207.70515663455615, 231.35257831727807, 255)\"}, \"xaxis\": \"x1\", \"yaxis\": \"y1\"}, {\"type\": \"bar\", \"y\": [1], \"x\": [3], \"orientation\": \"h\", \"width\": 0.5, \"text\": \"0.18\", \"hoverinfo\": \"text\", \"marker\": {\"color\": \"rgb(219.9654541191471, 237.48272705957353, 255)\"}, \"xaxis\": \"x1\", \"yaxis\": \"y1\"}, {\"type\": \"bar\", \"y\": [1], \"x\": [3], \"orientation\": \"h\", \"width\": 0.5, \"text\": \"0.0\", \"hoverinfo\": \"text\", \"marker\": {\"color\": \"rgb(254.44196676572858, 254.7209833828643, 255)\"}, \"xaxis\": \"x1\", \"yaxis\": \"y1\"}, {\"type\": \"bar\", \"y\": [1], \"x\": [1], \"orientation\": \"h\", \"width\": 0.5, \"text\": \"0.07\", \"hoverinfo\": \"text\", \"marker\": {\"color\": \"rgb(240.95474037527316, 247.97737018763658, 255)\"}, \"xaxis\": \"x1\", \"yaxis\": \"y1\"}, {\"type\": \"bar\", \"y\": [1], \"x\": [1], \"orientation\": \"h\", \"width\": 0.5, \"text\": \"\", \"hoverinfo\": \"text\", \"marker\": {\"color\": \"rgb(255, 255, 255)\"}, \"xaxis\": \"x1\", \"yaxis\": \"y1\"}, {\"type\": \"bar\", \"y\": [1], \"x\": [1], \"orientation\": \"h\", \"width\": 0.5, \"text\": \"\", \"hoverinfo\": \"text\", \"marker\": {\"color\": \"rgb(255, 255, 255)\"}, \"xaxis\": \"x1\", \"yaxis\": \"y1\"}, {\"type\": \"bar\", \"y\": [1], \"x\": [1], \"orientation\": \"h\", \"width\": 0.5, \"text\": \"\", \"hoverinfo\": \"text\", \"marker\": {\"color\": \"rgb(255, 255, 255)\"}, \"xaxis\": \"x1\", \"yaxis\": \"y1\"}, {\"type\": \"bar\", \"y\": [1], \"x\": [1], \"orientation\": \"h\", \"width\": 0.5, \"text\": \"\", \"hoverinfo\": \"text\", \"marker\": {\"color\": \"rgb(255, 255, 255)\"}, \"xaxis\": \"x1\", \"yaxis\": \"y1\"}, {\"type\": \"bar\", \"y\": [1], \"x\": [1], \"orientation\": \"h\", \"width\": 0.5, \"text\": \"\", \"hoverinfo\": \"text\", \"marker\": {\"color\": \"rgb(255, 255, 255)\"}, \"xaxis\": \"x1\", \"yaxis\": \"y1\"}, {\"type\": \"bar\", \"y\": [1], \"x\": [1], \"orientation\": \"h\", \"width\": 0.5, \"text\": \"\", \"hoverinfo\": \"text\", \"marker\": {\"color\": \"rgb(255, 255, 255)\"}, \"xaxis\": \"x1\", \"yaxis\": \"y1\"}, {\"type\": \"bar\", \"y\": [1], \"x\": [1], \"orientation\": \"h\", \"width\": 0.5, \"text\": \"\", \"hoverinfo\": \"text\", \"marker\": {\"color\": \"rgb(255, 255, 255)\"}, \"xaxis\": \"x1\", \"yaxis\": \"y1\"}, {\"type\": \"bar\", \"y\": [1], \"x\": [1], \"orientation\": \"h\", \"width\": 0.5, \"text\": \"\", \"hoverinfo\": \"text\", \"marker\": {\"color\": \"rgb(255, 255, 255)\"}, \"xaxis\": \"x1\", \"yaxis\": \"y1\"}, {\"type\": \"bar\", \"y\": [1], \"x\": [1], \"orientation\": \"h\", \"width\": 0.5, \"text\": \"\", \"hoverinfo\": \"text\", \"marker\": {\"color\": \"rgb(255, 255, 255)\"}, \"xaxis\": \"x1\", \"yaxis\": \"y1\"}, {\"type\": \"bar\", \"y\": [1], \"x\": [1], \"orientation\": \"h\", \"width\": 0.5, \"text\": \"\", \"hoverinfo\": \"text\", \"marker\": {\"color\": \"rgb(255, 255, 255)\"}, \"xaxis\": \"x1\", \"yaxis\": \"y1\"}, {\"type\": \"bar\", \"y\": [1], \"x\": [1], \"orientation\": \"h\", \"width\": 0.5, \"text\": \"\", \"hoverinfo\": \"text\", \"marker\": {\"color\": \"rgb(255, 255, 255)\"}, \"xaxis\": \"x1\", \"yaxis\": \"y1\"}, {\"type\": \"bar\", \"y\": [1], \"x\": [1], \"orientation\": \"h\", \"width\": 0.5, \"text\": \"\", \"hoverinfo\": \"text\", \"marker\": {\"color\": \"rgb(255, 255, 255)\"}, \"xaxis\": \"x1\", \"yaxis\": \"y1\"}, {\"type\": \"bar\", \"y\": [1], \"x\": [1], \"orientation\": \"h\", \"width\": 0.5, \"text\": \"\", \"hoverinfo\": \"text\", \"marker\": {\"color\": \"rgb(255, 255, 255)\"}, \"xaxis\": \"x1\", \"yaxis\": \"y1\"}, {\"type\": \"bar\", \"y\": [1], \"x\": [1], \"orientation\": \"h\", \"width\": 0.5, \"text\": \"\", \"hoverinfo\": \"text\", \"marker\": {\"color\": \"rgb(255, 255, 255)\"}, \"xaxis\": \"x1\", \"yaxis\": \"y1\"}, {\"type\": \"bar\", \"y\": [1], \"x\": [1], \"orientation\": \"h\", \"width\": 0.5, \"text\": \"\", \"hoverinfo\": \"text\", \"marker\": {\"color\": \"rgb(255, 255, 255)\"}, \"xaxis\": \"x1\", \"yaxis\": \"y1\"}], {\"xaxis1\": {\"domain\": [0.0, 1.0], \"anchor\": \"y1\", \"showgrid\": false, \"showline\": false, \"showticklabels\": false, \"zeroline\": false}, \"yaxis1\": {\"domain\": [0.0, 1.0], \"anchor\": \"x1\", \"showgrid\": false, \"showline\": false, \"showticklabels\": false, \"zeroline\": false}, \"barmode\": \"stack\", \"showlegend\": false, \"margin\": {\"b\": 30, \"l\": 20, \"r\": 20, \"t\": 10}, \"annotations\": [{\"xref\": \"x1\", \"yref\": \"y1\", \"x\": 0.5, \"y\": 1, \"text\": \" \", \"align\": \"left\", \"font\": {\"family\": \"Arial\", \"size\": 14, \"color\": \"black\"}, \"showarrow\": false}, {\"xref\": \"x1\", \"yref\": \"y1\", \"x\": 1.5, \"y\": 1, \"text\": \"\\uc624\", \"align\": \"left\", \"font\": {\"family\": \"Arial\", \"size\": 14, \"color\": \"black\"}, \"showarrow\": false}, {\"xref\": \"x1\", \"yref\": \"y1\", \"x\": 2.5, \"y\": 1, \"text\": \"\\ub298\", \"align\": \"left\", \"font\": {\"family\": \"Arial\", \"size\": 14, \"color\": \"black\"}, \"showarrow\": false}, {\"xref\": \"x1\", \"yref\": \"y1\", \"x\": 3.5, \"y\": 1, \"text\": \" \", \"align\": \"left\", \"font\": {\"family\": \"Arial\", \"size\": 14, \"color\": \"black\"}, \"showarrow\": false}, {\"xref\": \"x1\", \"yref\": \"y1\", \"x\": 4.5, \"y\": 1, \"text\": \"\\ucd9c\", \"align\": \"left\", \"font\": {\"family\": \"Arial\", \"size\": 14, \"color\": \"black\"}, \"showarrow\": false}, {\"xref\": \"x1\", \"yref\": \"y1\", \"x\": 5.5, \"y\": 1, \"text\": \"\\uc2dc\", \"align\": \"left\", \"font\": {\"family\": \"Arial\", \"size\": 14, \"color\": \"black\"}, \"showarrow\": false}, {\"xref\": \"x1\", \"yref\": \"y1\", \"x\": 6.5, \"y\": 1, \"text\": \"\\ub41c\", \"align\": \"left\", \"font\": {\"family\": \"Arial\", \"size\": 14, \"color\": \"black\"}, \"showarrow\": false}, {\"xref\": \"x1\", \"yref\": \"y1\", \"x\": 7.5, \"y\": 1, \"text\": \" \", \"align\": \"left\", \"font\": {\"family\": \"Arial\", \"size\": 14, \"color\": \"black\"}, \"showarrow\": false}, {\"xref\": \"x1\", \"yref\": \"y1\", \"x\": 8.5, \"y\": 1, \"text\": \"V\", \"align\": \"left\", \"font\": {\"family\": \"Arial\", \"size\": 14, \"color\": \"black\"}, \"showarrow\": false}, {\"xref\": \"x1\", \"yref\": \"y1\", \"x\": 9.5, \"y\": 1, \"text\": \"6\", \"align\": \"left\", \"font\": {\"family\": \"Arial\", \"size\": 14, \"color\": \"black\"}, \"showarrow\": false}, {\"xref\": \"x1\", \"yref\": \"y1\", \"x\": 10.5, \"y\": 1, \"text\": \"0\", \"align\": \"left\", \"font\": {\"family\": \"Arial\", \"size\": 14, \"color\": \"black\"}, \"showarrow\": false}, {\"xref\": \"x1\", \"yref\": \"y1\", \"x\": 11.5, \"y\": 1, \"text\": \" \", \"align\": \"left\", \"font\": {\"family\": \"Arial\", \"size\": 14, \"color\": \"black\"}, \"showarrow\": false}, {\"xref\": \"x1\", \"yref\": \"y1\", \"x\": 12.5, \"y\": 1, \"text\": \"T\", \"align\": \"left\", \"font\": {\"family\": \"Arial\", \"size\": 14, \"color\": \"black\"}, \"showarrow\": false}, {\"xref\": \"x1\", \"yref\": \"y1\", \"x\": 13.5, \"y\": 1, \"text\": \"h\", \"align\": \"left\", \"font\": {\"family\": \"Arial\", \"size\": 14, \"color\": \"black\"}, \"showarrow\": false}, {\"xref\": \"x1\", \"yref\": \"y1\", \"x\": 14.5, \"y\": 1, \"text\": \"i\", \"align\": \"left\", \"font\": {\"family\": \"Arial\", \"size\": 14, \"color\": \"black\"}, \"showarrow\": false}, {\"xref\": \"x1\", \"yref\": \"y1\", \"x\": 15.5, \"y\": 1, \"text\": \"n\", \"align\": \"left\", \"font\": {\"family\": \"Arial\", \"size\": 14, \"color\": \"black\"}, \"showarrow\": false}, {\"xref\": \"x1\", \"yref\": \"y1\", \"x\": 16.5, \"y\": 1, \"text\": \"k\", \"align\": \"left\", \"font\": {\"family\": \"Arial\", \"size\": 14, \"color\": \"black\"}, \"showarrow\": false}, {\"xref\": \"x1\", \"yref\": \"y1\", \"x\": 17.5, \"y\": 1, \"text\": \"Q\", \"align\": \"left\", \"font\": {\"family\": \"Arial\", \"size\": 14, \"color\": \"black\"}, \"showarrow\": false}, {\"xref\": \"x1\", \"yref\": \"y1\", \"x\": 18.5, \"y\": 1, \"text\": \"\\ub294\", \"align\": \"left\", \"font\": {\"family\": \"Arial\", \"size\": 14, \"color\": \"black\"}, \"showarrow\": false}, {\"xref\": \"x1\", \"yref\": \"y1\", \"x\": 19.5, \"y\": 1, \"text\": \" \", \"align\": \"left\", \"font\": {\"family\": \"Arial\", \"size\": 14, \"color\": \"black\"}, \"showarrow\": false}, {\"xref\": \"x1\", \"yref\": \"y1\", \"x\": 20.5, \"y\": 1, \"text\": \"L\", \"align\": \"left\", \"font\": {\"family\": \"Arial\", \"size\": 14, \"color\": \"black\"}, \"showarrow\": false}, {\"xref\": \"x1\", \"yref\": \"y1\", \"x\": 21.5, \"y\": 1, \"text\": \"G\", \"align\": \"left\", \"font\": {\"family\": \"Arial\", \"size\": 14, \"color\": \"black\"}, \"showarrow\": false}, {\"xref\": \"x1\", \"yref\": \"y1\", \"x\": 22.5, \"y\": 1, \"text\": \"\\uc804\", \"align\": \"left\", \"font\": {\"family\": \"Arial\", \"size\": 14, \"color\": \"black\"}, \"showarrow\": false}, {\"xref\": \"x1\", \"yref\": \"y1\", \"x\": 23.5, \"y\": 1, \"text\": \"\\uc790\", \"align\": \"left\", \"font\": {\"family\": \"Arial\", \"size\": 14, \"color\": \"black\"}, \"showarrow\": false}, {\"xref\": \"x1\", \"yref\": \"y1\", \"x\": 24.5, \"y\": 1, \"text\": \"\\uc758\", \"align\": \"left\", \"font\": {\"family\": \"Arial\", \"size\": 14, \"color\": \"black\"}, \"showarrow\": false}, {\"xref\": \"x1\", \"yref\": \"y1\", \"x\": 25.5, \"y\": 1, \"text\": \" \", \"align\": \"left\", \"font\": {\"family\": \"Arial\", \"size\": 14, \"color\": \"black\"}, \"showarrow\": false}, {\"xref\": \"x1\", \"yref\": \"y1\", \"x\": 26.5, \"y\": 1, \"text\": \"\\ud575\", \"align\": \"left\", \"font\": {\"family\": \"Arial\", \"size\": 14, \"color\": \"black\"}, \"showarrow\": false}, {\"xref\": \"x1\", \"yref\": \"y1\", \"x\": 27.5, \"y\": 1, \"text\": \"\\uc2ec\", \"align\": \"left\", \"font\": {\"family\": \"Arial\", \"size\": 14, \"color\": \"black\"}, \"showarrow\": false}, {\"xref\": \"x1\", \"yref\": \"y1\", \"x\": 28.5, \"y\": 1, \"text\": \" \", \"align\": \"left\", \"font\": {\"family\": \"Arial\", \"size\": 14, \"color\": \"black\"}, \"showarrow\": false}, {\"xref\": \"x1\", \"yref\": \"y1\", \"x\": 29.5, \"y\": 1, \"text\": \"\\uc81c\", \"align\": \"left\", \"font\": {\"family\": \"Arial\", \"size\": 14, \"color\": \"black\"}, \"showarrow\": false}, {\"xref\": \"x1\", \"yref\": \"y1\", \"x\": 30.5, \"y\": 1, \"text\": \"\\ud488\", \"align\": \"left\", \"font\": {\"family\": \"Arial\", \"size\": 14, \"color\": \"black\"}, \"showarrow\": false}, {\"xref\": \"x1\", \"yref\": \"y1\", \"x\": 31.5, \"y\": 1, \"text\": \"\\uc785\", \"align\": \"left\", \"font\": {\"family\": \"Arial\", \"size\": 14, \"color\": \"black\"}, \"showarrow\": false}, {\"xref\": \"x1\", \"yref\": \"y1\", \"x\": 32.5, \"y\": 1, \"text\": \"\\ub2c8\", \"align\": \"left\", \"font\": {\"family\": \"Arial\", \"size\": 14, \"color\": \"black\"}, \"showarrow\": false}, {\"xref\": \"x1\", \"yref\": \"y1\", \"x\": 33.5, \"y\": 1, \"text\": \"\\ub2e4\", \"align\": \"left\", \"font\": {\"family\": \"Arial\", \"size\": 14, \"color\": \"black\"}, \"showarrow\": false}, {\"xref\": \"x1\", \"yref\": \"y1\", \"x\": 34.5, \"y\": 1, \"text\": \".\", \"align\": \"left\", \"font\": {\"family\": \"Arial\", \"size\": 14, \"color\": \"black\"}, \"showarrow\": false}], \"height\": 80, \"images\": [{\"source\": \"https://raw.githubusercontent.com/fingeredman/teanaps/master/data/logo/teanaps_logo_no-bg.png\", \"xref\": \"paper\", \"yref\": \"paper\", \"x\": 0.5, \"y\": 0.6, \"sizex\": 0.7, \"sizey\": 0.7, \"xanchor\": \"center\", \"yanchor\": \"center\", \"opacity\": 0.3, \"layer\": \"above\"}]}, {\"showLink\": true, \"linkText\": \"Export to plot.ly\"})});</script>"
      ]
     },
     "metadata": {},
     "output_type": "display_data"
    }
   ],
   "source": [
    "input_text = \"오늘 출시된 V60 ThinkQ는 LG전자의 핵심 제품입니다.\"\n",
    "\n",
    "result = ner.parse(input_text)\n",
    "print(result)\n",
    "result = ner.parse_sentence(input_text)\n",
    "print(result)\n",
    "ner.draw_sentence_weight(input_text)"
   ]
  },
  {
   "cell_type": "code",
   "execution_count": 15,
   "metadata": {},
   "outputs": [
    {
     "name": "stdout",
     "output_type": "stream",
     "text": [
      "[('충청북도', 'LC', (0, 4)), ('청주', 'LC', (5, 7))]\n",
      "<충청북도:LC> <청주:LC>는 교육의 도시입니다.\n"
     ]
    },
    {
     "data": {
      "text/html": [
       "\n",
       "                <script src=\"/static/components/requirejs/require.js\"></script>\n",
       "                <script>\n",
       "                  requirejs.config({\n",
       "                    paths: {\n",
       "                      base: '/static/base',\n",
       "                      plotly: 'https://cdn.plot.ly/plotly-latest.min.js?noext',\n",
       "                    },\n",
       "                  });\n",
       "                </script>\n",
       "                "
      ],
      "text/plain": [
       "<IPython.core.display.HTML object>"
      ]
     },
     "metadata": {},
     "output_type": "display_data"
    },
    {
     "data": {
      "text/html": [
       "\n",
       "                <script src=\"/static/components/requirejs/require.js\"></script>\n",
       "                <script>\n",
       "                  requirejs.config({\n",
       "                    paths: {\n",
       "                      base: '/static/base',\n",
       "                      plotly: 'https://cdn.plot.ly/plotly-latest.min.js?noext',\n",
       "                    },\n",
       "                  });\n",
       "                </script>\n",
       "                "
      ],
      "text/plain": [
       "<IPython.core.display.HTML object>"
      ]
     },
     "metadata": {},
     "output_type": "display_data"
    },
    {
     "data": {
      "application/vnd.plotly.v1+json": {
       "data": [
        {
         "hoverinfo": "text",
         "marker": {
          "color": "rgb(55.0, 155.0, 255)"
         },
         "orientation": "h",
         "text": "1.0",
         "type": "bar",
         "width": 0.5,
         "x": [
          3
         ],
         "xaxis": "x1",
         "y": [
          1
         ],
         "yaxis": "y1"
        },
        {
         "hoverinfo": "text",
         "marker": {
          "color": "rgb(231.84384692577657, 243.4219234628883, 255)"
         },
         "orientation": "h",
         "text": "0.12",
         "type": "bar",
         "width": 0.5,
         "x": [
          1
         ],
         "xaxis": "x1",
         "y": [
          1
         ],
         "yaxis": "y1"
        },
        {
         "hoverinfo": "text",
         "marker": {
          "color": "rgb(220.0305445800381, 237.51527229001906, 255)"
         },
         "orientation": "h",
         "text": "0.17",
         "type": "bar",
         "width": 0.5,
         "x": [
          1
         ],
         "xaxis": "x1",
         "y": [
          1
         ],
         "yaxis": "y1"
        },
        {
         "hoverinfo": "text",
         "marker": {
          "color": "rgb(68.47172216371797, 161.73586108185899, 255)"
         },
         "orientation": "h",
         "text": "0.93",
         "type": "bar",
         "width": 0.5,
         "x": [
          3
         ],
         "xaxis": "x1",
         "y": [
          1
         ],
         "yaxis": "y1"
        },
        {
         "hoverinfo": "text",
         "marker": {
          "color": "rgb(209.0274151574485, 232.01370757872425, 255)"
         },
         "orientation": "h",
         "text": "0.23",
         "type": "bar",
         "width": 0.5,
         "x": [
          1
         ],
         "xaxis": "x1",
         "y": [
          1
         ],
         "yaxis": "y1"
        },
        {
         "hoverinfo": "text",
         "marker": {
          "color": "rgb(151.627274628155, 203.31363731407748, 255)"
         },
         "orientation": "h",
         "text": "0.52",
         "type": "bar",
         "width": 0.5,
         "x": [
          3
         ],
         "xaxis": "x1",
         "y": [
          1
         ],
         "yaxis": "y1"
        },
        {
         "hoverinfo": "text",
         "marker": {
          "color": "rgb(188.51702912946303, 221.7585145647315, 255)"
         },
         "orientation": "h",
         "text": "0.33",
         "type": "bar",
         "width": 0.5,
         "x": [
          1
         ],
         "xaxis": "x1",
         "y": [
          1
         ],
         "yaxis": "y1"
        },
        {
         "hoverinfo": "text",
         "marker": {
          "color": "rgb(182.09566206790842, 218.5478310339542, 255)"
         },
         "orientation": "h",
         "text": "0.36",
         "type": "bar",
         "width": 0.5,
         "x": [
          3
         ],
         "xaxis": "x1",
         "y": [
          1
         ],
         "yaxis": "y1"
        },
        {
         "hoverinfo": "text",
         "marker": {
          "color": "rgb(242.6961889634491, 248.84809448172456, 255)"
         },
         "orientation": "h",
         "text": "0.06",
         "type": "bar",
         "width": 0.5,
         "x": [
          3
         ],
         "xaxis": "x1",
         "y": [
          1
         ],
         "yaxis": "y1"
        },
        {
         "hoverinfo": "text",
         "marker": {
          "color": "rgb(232.91742575519703, 243.95871287759851, 255)"
         },
         "orientation": "h",
         "text": "0.11",
         "type": "bar",
         "width": 0.5,
         "x": [
          1
         ],
         "xaxis": "x1",
         "y": [
          1
         ],
         "yaxis": "y1"
        },
        {
         "hoverinfo": "text",
         "marker": {
          "color": "rgb(255, 255, 255)"
         },
         "orientation": "h",
         "text": "",
         "type": "bar",
         "width": 0.5,
         "x": [
          1
         ],
         "xaxis": "x1",
         "y": [
          1
         ],
         "yaxis": "y1"
        },
        {
         "hoverinfo": "text",
         "marker": {
          "color": "rgb(255, 255, 255)"
         },
         "orientation": "h",
         "text": "",
         "type": "bar",
         "width": 0.5,
         "x": [
          1
         ],
         "xaxis": "x1",
         "y": [
          1
         ],
         "yaxis": "y1"
        },
        {
         "hoverinfo": "text",
         "marker": {
          "color": "rgb(255, 255, 255)"
         },
         "orientation": "h",
         "text": "",
         "type": "bar",
         "width": 0.5,
         "x": [
          1
         ],
         "xaxis": "x1",
         "y": [
          1
         ],
         "yaxis": "y1"
        },
        {
         "hoverinfo": "text",
         "marker": {
          "color": "rgb(255, 255, 255)"
         },
         "orientation": "h",
         "text": "",
         "type": "bar",
         "width": 0.5,
         "x": [
          1
         ],
         "xaxis": "x1",
         "y": [
          1
         ],
         "yaxis": "y1"
        },
        {
         "hoverinfo": "text",
         "marker": {
          "color": "rgb(255, 255, 255)"
         },
         "orientation": "h",
         "text": "",
         "type": "bar",
         "width": 0.5,
         "x": [
          1
         ],
         "xaxis": "x1",
         "y": [
          1
         ],
         "yaxis": "y1"
        },
        {
         "hoverinfo": "text",
         "marker": {
          "color": "rgb(255, 255, 255)"
         },
         "orientation": "h",
         "text": "",
         "type": "bar",
         "width": 0.5,
         "x": [
          1
         ],
         "xaxis": "x1",
         "y": [
          1
         ],
         "yaxis": "y1"
        },
        {
         "hoverinfo": "text",
         "marker": {
          "color": "rgb(255, 255, 255)"
         },
         "orientation": "h",
         "text": "",
         "type": "bar",
         "width": 0.5,
         "x": [
          1
         ],
         "xaxis": "x1",
         "y": [
          1
         ],
         "yaxis": "y1"
        },
        {
         "hoverinfo": "text",
         "marker": {
          "color": "rgb(255, 255, 255)"
         },
         "orientation": "h",
         "text": "",
         "type": "bar",
         "width": 0.5,
         "x": [
          1
         ],
         "xaxis": "x1",
         "y": [
          1
         ],
         "yaxis": "y1"
        },
        {
         "hoverinfo": "text",
         "marker": {
          "color": "rgb(255, 255, 255)"
         },
         "orientation": "h",
         "text": "",
         "type": "bar",
         "width": 0.5,
         "x": [
          1
         ],
         "xaxis": "x1",
         "y": [
          1
         ],
         "yaxis": "y1"
        },
        {
         "hoverinfo": "text",
         "marker": {
          "color": "rgb(255, 255, 255)"
         },
         "orientation": "h",
         "text": "",
         "type": "bar",
         "width": 0.5,
         "x": [
          1
         ],
         "xaxis": "x1",
         "y": [
          1
         ],
         "yaxis": "y1"
        },
        {
         "hoverinfo": "text",
         "marker": {
          "color": "rgb(255, 255, 255)"
         },
         "orientation": "h",
         "text": "",
         "type": "bar",
         "width": 0.5,
         "x": [
          1
         ],
         "xaxis": "x1",
         "y": [
          1
         ],
         "yaxis": "y1"
        },
        {
         "hoverinfo": "text",
         "marker": {
          "color": "rgb(255, 255, 255)"
         },
         "orientation": "h",
         "text": "",
         "type": "bar",
         "width": 0.5,
         "x": [
          1
         ],
         "xaxis": "x1",
         "y": [
          1
         ],
         "yaxis": "y1"
        },
        {
         "hoverinfo": "text",
         "marker": {
          "color": "rgb(255, 255, 255)"
         },
         "orientation": "h",
         "text": "",
         "type": "bar",
         "width": 0.5,
         "x": [
          1
         ],
         "xaxis": "x1",
         "y": [
          1
         ],
         "yaxis": "y1"
        },
        {
         "hoverinfo": "text",
         "marker": {
          "color": "rgb(255, 255, 255)"
         },
         "orientation": "h",
         "text": "",
         "type": "bar",
         "width": 0.5,
         "x": [
          1
         ],
         "xaxis": "x1",
         "y": [
          1
         ],
         "yaxis": "y1"
        },
        {
         "hoverinfo": "text",
         "marker": {
          "color": "rgb(255, 255, 255)"
         },
         "orientation": "h",
         "text": "",
         "type": "bar",
         "width": 0.5,
         "x": [
          1
         ],
         "xaxis": "x1",
         "y": [
          1
         ],
         "yaxis": "y1"
        },
        {
         "hoverinfo": "text",
         "marker": {
          "color": "rgb(255, 255, 255)"
         },
         "orientation": "h",
         "text": "",
         "type": "bar",
         "width": 0.5,
         "x": [
          1
         ],
         "xaxis": "x1",
         "y": [
          1
         ],
         "yaxis": "y1"
        },
        {
         "hoverinfo": "text",
         "marker": {
          "color": "rgb(255, 255, 255)"
         },
         "orientation": "h",
         "text": "",
         "type": "bar",
         "width": 0.5,
         "x": [
          1
         ],
         "xaxis": "x1",
         "y": [
          1
         ],
         "yaxis": "y1"
        },
        {
         "hoverinfo": "text",
         "marker": {
          "color": "rgb(255, 255, 255)"
         },
         "orientation": "h",
         "text": "",
         "type": "bar",
         "width": 0.5,
         "x": [
          1
         ],
         "xaxis": "x1",
         "y": [
          1
         ],
         "yaxis": "y1"
        },
        {
         "hoverinfo": "text",
         "marker": {
          "color": "rgb(255, 255, 255)"
         },
         "orientation": "h",
         "text": "",
         "type": "bar",
         "width": 0.5,
         "x": [
          1
         ],
         "xaxis": "x1",
         "y": [
          1
         ],
         "yaxis": "y1"
        },
        {
         "hoverinfo": "text",
         "marker": {
          "color": "rgb(255, 255, 255)"
         },
         "orientation": "h",
         "text": "",
         "type": "bar",
         "width": 0.5,
         "x": [
          1
         ],
         "xaxis": "x1",
         "y": [
          1
         ],
         "yaxis": "y1"
        },
        {
         "hoverinfo": "text",
         "marker": {
          "color": "rgb(255, 255, 255)"
         },
         "orientation": "h",
         "text": "",
         "type": "bar",
         "width": 0.5,
         "x": [
          1
         ],
         "xaxis": "x1",
         "y": [
          1
         ],
         "yaxis": "y1"
        },
        {
         "hoverinfo": "text",
         "marker": {
          "color": "rgb(255, 255, 255)"
         },
         "orientation": "h",
         "text": "",
         "type": "bar",
         "width": 0.5,
         "x": [
          1
         ],
         "xaxis": "x1",
         "y": [
          1
         ],
         "yaxis": "y1"
        },
        {
         "hoverinfo": "text",
         "marker": {
          "color": "rgb(255, 255, 255)"
         },
         "orientation": "h",
         "text": "",
         "type": "bar",
         "width": 0.5,
         "x": [
          1
         ],
         "xaxis": "x1",
         "y": [
          1
         ],
         "yaxis": "y1"
        },
        {
         "hoverinfo": "text",
         "marker": {
          "color": "rgb(255, 255, 255)"
         },
         "orientation": "h",
         "text": "",
         "type": "bar",
         "width": 0.5,
         "x": [
          1
         ],
         "xaxis": "x1",
         "y": [
          1
         ],
         "yaxis": "y1"
        },
        {
         "hoverinfo": "text",
         "marker": {
          "color": "rgb(255, 255, 255)"
         },
         "orientation": "h",
         "text": "",
         "type": "bar",
         "width": 0.5,
         "x": [
          1
         ],
         "xaxis": "x1",
         "y": [
          1
         ],
         "yaxis": "y1"
        },
        {
         "hoverinfo": "text",
         "marker": {
          "color": "rgb(255, 255, 255)"
         },
         "orientation": "h",
         "text": "",
         "type": "bar",
         "width": 0.5,
         "x": [
          1
         ],
         "xaxis": "x1",
         "y": [
          1
         ],
         "yaxis": "y1"
        },
        {
         "hoverinfo": "text",
         "marker": {
          "color": "rgb(255, 255, 255)"
         },
         "orientation": "h",
         "text": "",
         "type": "bar",
         "width": 0.5,
         "x": [
          1
         ],
         "xaxis": "x1",
         "y": [
          1
         ],
         "yaxis": "y1"
        },
        {
         "hoverinfo": "text",
         "marker": {
          "color": "rgb(255, 255, 255)"
         },
         "orientation": "h",
         "text": "",
         "type": "bar",
         "width": 0.5,
         "x": [
          1
         ],
         "xaxis": "x1",
         "y": [
          1
         ],
         "yaxis": "y1"
        },
        {
         "hoverinfo": "text",
         "marker": {
          "color": "rgb(255, 255, 255)"
         },
         "orientation": "h",
         "text": "",
         "type": "bar",
         "width": 0.5,
         "x": [
          1
         ],
         "xaxis": "x1",
         "y": [
          1
         ],
         "yaxis": "y1"
        },
        {
         "hoverinfo": "text",
         "marker": {
          "color": "rgb(255, 255, 255)"
         },
         "orientation": "h",
         "text": "",
         "type": "bar",
         "width": 0.5,
         "x": [
          1
         ],
         "xaxis": "x1",
         "y": [
          1
         ],
         "yaxis": "y1"
        }
       ],
       "layout": {
        "annotations": [
         {
          "align": "left",
          "font": {
           "color": "black",
           "family": "Arial",
           "size": 14
          },
          "showarrow": false,
          "text": " ",
          "x": 0.5,
          "xref": "x1",
          "y": 1,
          "yref": "y1"
         },
         {
          "align": "left",
          "font": {
           "color": "black",
           "family": "Arial",
           "size": 14
          },
          "showarrow": false,
          "text": "충",
          "x": 1.5,
          "xref": "x1",
          "y": 1,
          "yref": "y1"
         },
         {
          "align": "left",
          "font": {
           "color": "black",
           "family": "Arial",
           "size": 14
          },
          "showarrow": false,
          "text": "청",
          "x": 2.5,
          "xref": "x1",
          "y": 1,
          "yref": "y1"
         },
         {
          "align": "left",
          "font": {
           "color": "black",
           "family": "Arial",
           "size": 14
          },
          "showarrow": false,
          "text": "북",
          "x": 3.5,
          "xref": "x1",
          "y": 1,
          "yref": "y1"
         },
         {
          "align": "left",
          "font": {
           "color": "black",
           "family": "Arial",
           "size": 14
          },
          "showarrow": false,
          "text": "도",
          "x": 4.5,
          "xref": "x1",
          "y": 1,
          "yref": "y1"
         },
         {
          "align": "left",
          "font": {
           "color": "black",
           "family": "Arial",
           "size": 14
          },
          "showarrow": false,
          "text": " ",
          "x": 5.5,
          "xref": "x1",
          "y": 1,
          "yref": "y1"
         },
         {
          "align": "left",
          "font": {
           "color": "black",
           "family": "Arial",
           "size": 14
          },
          "showarrow": false,
          "text": "청",
          "x": 6.5,
          "xref": "x1",
          "y": 1,
          "yref": "y1"
         },
         {
          "align": "left",
          "font": {
           "color": "black",
           "family": "Arial",
           "size": 14
          },
          "showarrow": false,
          "text": "주",
          "x": 7.5,
          "xref": "x1",
          "y": 1,
          "yref": "y1"
         },
         {
          "align": "left",
          "font": {
           "color": "black",
           "family": "Arial",
           "size": 14
          },
          "showarrow": false,
          "text": "는",
          "x": 8.5,
          "xref": "x1",
          "y": 1,
          "yref": "y1"
         },
         {
          "align": "left",
          "font": {
           "color": "black",
           "family": "Arial",
           "size": 14
          },
          "showarrow": false,
          "text": " ",
          "x": 9.5,
          "xref": "x1",
          "y": 1,
          "yref": "y1"
         },
         {
          "align": "left",
          "font": {
           "color": "black",
           "family": "Arial",
           "size": 14
          },
          "showarrow": false,
          "text": "교",
          "x": 10.5,
          "xref": "x1",
          "y": 1,
          "yref": "y1"
         },
         {
          "align": "left",
          "font": {
           "color": "black",
           "family": "Arial",
           "size": 14
          },
          "showarrow": false,
          "text": "육",
          "x": 11.5,
          "xref": "x1",
          "y": 1,
          "yref": "y1"
         },
         {
          "align": "left",
          "font": {
           "color": "black",
           "family": "Arial",
           "size": 14
          },
          "showarrow": false,
          "text": "의",
          "x": 12.5,
          "xref": "x1",
          "y": 1,
          "yref": "y1"
         },
         {
          "align": "left",
          "font": {
           "color": "black",
           "family": "Arial",
           "size": 14
          },
          "showarrow": false,
          "text": " ",
          "x": 13.5,
          "xref": "x1",
          "y": 1,
          "yref": "y1"
         },
         {
          "align": "left",
          "font": {
           "color": "black",
           "family": "Arial",
           "size": 14
          },
          "showarrow": false,
          "text": "도",
          "x": 14.5,
          "xref": "x1",
          "y": 1,
          "yref": "y1"
         },
         {
          "align": "left",
          "font": {
           "color": "black",
           "family": "Arial",
           "size": 14
          },
          "showarrow": false,
          "text": "시",
          "x": 15.5,
          "xref": "x1",
          "y": 1,
          "yref": "y1"
         },
         {
          "align": "left",
          "font": {
           "color": "black",
           "family": "Arial",
           "size": 14
          },
          "showarrow": false,
          "text": "입",
          "x": 16.5,
          "xref": "x1",
          "y": 1,
          "yref": "y1"
         },
         {
          "align": "left",
          "font": {
           "color": "black",
           "family": "Arial",
           "size": 14
          },
          "showarrow": false,
          "text": "니",
          "x": 17.5,
          "xref": "x1",
          "y": 1,
          "yref": "y1"
         },
         {
          "align": "left",
          "font": {
           "color": "black",
           "family": "Arial",
           "size": 14
          },
          "showarrow": false,
          "text": "다",
          "x": 18.5,
          "xref": "x1",
          "y": 1,
          "yref": "y1"
         },
         {
          "align": "left",
          "font": {
           "color": "black",
           "family": "Arial",
           "size": 14
          },
          "showarrow": false,
          "text": ".",
          "x": 19.5,
          "xref": "x1",
          "y": 1,
          "yref": "y1"
         }
        ],
        "barmode": "stack",
        "height": 80,
        "images": [
         {
          "layer": "above",
          "opacity": 0.3,
          "sizex": 0.7,
          "sizey": 0.7,
          "source": "https://raw.githubusercontent.com/fingeredman/teanaps/master/data/logo/teanaps_logo_no-bg.png",
          "x": 0.5,
          "xanchor": "center",
          "xref": "paper",
          "y": 0.6,
          "yanchor": "center",
          "yref": "paper"
         }
        ],
        "margin": {
         "b": 30,
         "l": 20,
         "r": 20,
         "t": 10
        },
        "showlegend": false,
        "xaxis1": {
         "anchor": "y1",
         "domain": [
          0,
          1
         ],
         "showgrid": false,
         "showline": false,
         "showticklabels": false,
         "zeroline": false
        },
        "yaxis1": {
         "anchor": "x1",
         "domain": [
          0,
          1
         ],
         "showgrid": false,
         "showline": false,
         "showticklabels": false,
         "zeroline": false
        }
       }
      },
      "text/html": [
       "<div id=\"2ccb891a-dc4d-45d6-87de-64ec84769cac\" style=\"height: 80px; width: 100%;\" class=\"plotly-graph-div\"></div><script type=\"text/javascript\">require([\"plotly\"], function(Plotly) { window.PLOTLYENV=window.PLOTLYENV || {};window.PLOTLYENV.BASE_URL=\"https://plot.ly\";Plotly.newPlot(\"2ccb891a-dc4d-45d6-87de-64ec84769cac\", [{\"type\": \"bar\", \"y\": [1], \"x\": [3], \"orientation\": \"h\", \"width\": 0.5, \"text\": \"1.0\", \"hoverinfo\": \"text\", \"marker\": {\"color\": \"rgb(55.0, 155.0, 255)\"}, \"xaxis\": \"x1\", \"yaxis\": \"y1\"}, {\"type\": \"bar\", \"y\": [1], \"x\": [1], \"orientation\": \"h\", \"width\": 0.5, \"text\": \"0.12\", \"hoverinfo\": \"text\", \"marker\": {\"color\": \"rgb(231.84384692577657, 243.4219234628883, 255)\"}, \"xaxis\": \"x1\", \"yaxis\": \"y1\"}, {\"type\": \"bar\", \"y\": [1], \"x\": [1], \"orientation\": \"h\", \"width\": 0.5, \"text\": \"0.17\", \"hoverinfo\": \"text\", \"marker\": {\"color\": \"rgb(220.0305445800381, 237.51527229001906, 255)\"}, \"xaxis\": \"x1\", \"yaxis\": \"y1\"}, {\"type\": \"bar\", \"y\": [1], \"x\": [3], \"orientation\": \"h\", \"width\": 0.5, \"text\": \"0.93\", \"hoverinfo\": \"text\", \"marker\": {\"color\": \"rgb(68.47172216371797, 161.73586108185899, 255)\"}, \"xaxis\": \"x1\", \"yaxis\": \"y1\"}, {\"type\": \"bar\", \"y\": [1], \"x\": [1], \"orientation\": \"h\", \"width\": 0.5, \"text\": \"0.23\", \"hoverinfo\": \"text\", \"marker\": {\"color\": \"rgb(209.0274151574485, 232.01370757872425, 255)\"}, \"xaxis\": \"x1\", \"yaxis\": \"y1\"}, {\"type\": \"bar\", \"y\": [1], \"x\": [3], \"orientation\": \"h\", \"width\": 0.5, \"text\": \"0.52\", \"hoverinfo\": \"text\", \"marker\": {\"color\": \"rgb(151.627274628155, 203.31363731407748, 255)\"}, \"xaxis\": \"x1\", \"yaxis\": \"y1\"}, {\"type\": \"bar\", \"y\": [1], \"x\": [1], \"orientation\": \"h\", \"width\": 0.5, \"text\": \"0.33\", \"hoverinfo\": \"text\", \"marker\": {\"color\": \"rgb(188.51702912946303, 221.7585145647315, 255)\"}, \"xaxis\": \"x1\", \"yaxis\": \"y1\"}, {\"type\": \"bar\", \"y\": [1], \"x\": [3], \"orientation\": \"h\", \"width\": 0.5, \"text\": \"0.36\", \"hoverinfo\": \"text\", \"marker\": {\"color\": \"rgb(182.09566206790842, 218.5478310339542, 255)\"}, \"xaxis\": \"x1\", \"yaxis\": \"y1\"}, {\"type\": \"bar\", \"y\": [1], \"x\": [3], \"orientation\": \"h\", \"width\": 0.5, \"text\": \"0.06\", \"hoverinfo\": \"text\", \"marker\": {\"color\": \"rgb(242.6961889634491, 248.84809448172456, 255)\"}, \"xaxis\": \"x1\", \"yaxis\": \"y1\"}, {\"type\": \"bar\", \"y\": [1], \"x\": [1], \"orientation\": \"h\", \"width\": 0.5, \"text\": \"0.11\", \"hoverinfo\": \"text\", \"marker\": {\"color\": \"rgb(232.91742575519703, 243.95871287759851, 255)\"}, \"xaxis\": \"x1\", \"yaxis\": \"y1\"}, {\"type\": \"bar\", \"y\": [1], \"x\": [1], \"orientation\": \"h\", \"width\": 0.5, \"text\": \"\", \"hoverinfo\": \"text\", \"marker\": {\"color\": \"rgb(255, 255, 255)\"}, \"xaxis\": \"x1\", \"yaxis\": \"y1\"}, {\"type\": \"bar\", \"y\": [1], \"x\": [1], \"orientation\": \"h\", \"width\": 0.5, \"text\": \"\", \"hoverinfo\": \"text\", \"marker\": {\"color\": \"rgb(255, 255, 255)\"}, \"xaxis\": \"x1\", \"yaxis\": \"y1\"}, {\"type\": \"bar\", \"y\": [1], \"x\": [1], \"orientation\": \"h\", \"width\": 0.5, \"text\": \"\", \"hoverinfo\": \"text\", \"marker\": {\"color\": \"rgb(255, 255, 255)\"}, \"xaxis\": \"x1\", \"yaxis\": \"y1\"}, {\"type\": \"bar\", \"y\": [1], \"x\": [1], \"orientation\": \"h\", \"width\": 0.5, \"text\": \"\", \"hoverinfo\": \"text\", \"marker\": {\"color\": \"rgb(255, 255, 255)\"}, \"xaxis\": \"x1\", \"yaxis\": \"y1\"}, {\"type\": \"bar\", \"y\": [1], \"x\": [1], \"orientation\": \"h\", \"width\": 0.5, \"text\": \"\", \"hoverinfo\": \"text\", \"marker\": {\"color\": \"rgb(255, 255, 255)\"}, \"xaxis\": \"x1\", \"yaxis\": \"y1\"}, {\"type\": \"bar\", \"y\": [1], \"x\": [1], \"orientation\": \"h\", \"width\": 0.5, \"text\": \"\", \"hoverinfo\": \"text\", \"marker\": {\"color\": \"rgb(255, 255, 255)\"}, \"xaxis\": \"x1\", \"yaxis\": \"y1\"}, {\"type\": \"bar\", \"y\": [1], \"x\": [1], \"orientation\": \"h\", \"width\": 0.5, \"text\": \"\", \"hoverinfo\": \"text\", \"marker\": {\"color\": \"rgb(255, 255, 255)\"}, \"xaxis\": \"x1\", \"yaxis\": \"y1\"}, {\"type\": \"bar\", \"y\": [1], \"x\": [1], \"orientation\": \"h\", \"width\": 0.5, \"text\": \"\", \"hoverinfo\": \"text\", \"marker\": {\"color\": \"rgb(255, 255, 255)\"}, \"xaxis\": \"x1\", \"yaxis\": \"y1\"}, {\"type\": \"bar\", \"y\": [1], \"x\": [1], \"orientation\": \"h\", \"width\": 0.5, \"text\": \"\", \"hoverinfo\": \"text\", \"marker\": {\"color\": \"rgb(255, 255, 255)\"}, \"xaxis\": \"x1\", \"yaxis\": \"y1\"}, {\"type\": \"bar\", \"y\": [1], \"x\": [1], \"orientation\": \"h\", \"width\": 0.5, \"text\": \"\", \"hoverinfo\": \"text\", \"marker\": {\"color\": \"rgb(255, 255, 255)\"}, \"xaxis\": \"x1\", \"yaxis\": \"y1\"}, {\"type\": \"bar\", \"y\": [1], \"x\": [1], \"orientation\": \"h\", \"width\": 0.5, \"text\": \"\", \"hoverinfo\": \"text\", \"marker\": {\"color\": \"rgb(255, 255, 255)\"}, \"xaxis\": \"x1\", \"yaxis\": \"y1\"}, {\"type\": \"bar\", \"y\": [1], \"x\": [1], \"orientation\": \"h\", \"width\": 0.5, \"text\": \"\", \"hoverinfo\": \"text\", \"marker\": {\"color\": \"rgb(255, 255, 255)\"}, \"xaxis\": \"x1\", \"yaxis\": \"y1\"}, {\"type\": \"bar\", \"y\": [1], \"x\": [1], \"orientation\": \"h\", \"width\": 0.5, \"text\": \"\", \"hoverinfo\": \"text\", \"marker\": {\"color\": \"rgb(255, 255, 255)\"}, \"xaxis\": \"x1\", \"yaxis\": \"y1\"}, {\"type\": \"bar\", \"y\": [1], \"x\": [1], \"orientation\": \"h\", \"width\": 0.5, \"text\": \"\", \"hoverinfo\": \"text\", \"marker\": {\"color\": \"rgb(255, 255, 255)\"}, \"xaxis\": \"x1\", \"yaxis\": \"y1\"}, {\"type\": \"bar\", \"y\": [1], \"x\": [1], \"orientation\": \"h\", \"width\": 0.5, \"text\": \"\", \"hoverinfo\": \"text\", \"marker\": {\"color\": \"rgb(255, 255, 255)\"}, \"xaxis\": \"x1\", \"yaxis\": \"y1\"}, {\"type\": \"bar\", \"y\": [1], \"x\": [1], \"orientation\": \"h\", \"width\": 0.5, \"text\": \"\", \"hoverinfo\": \"text\", \"marker\": {\"color\": \"rgb(255, 255, 255)\"}, \"xaxis\": \"x1\", \"yaxis\": \"y1\"}, {\"type\": \"bar\", \"y\": [1], \"x\": [1], \"orientation\": \"h\", \"width\": 0.5, \"text\": \"\", \"hoverinfo\": \"text\", \"marker\": {\"color\": \"rgb(255, 255, 255)\"}, \"xaxis\": \"x1\", \"yaxis\": \"y1\"}, {\"type\": \"bar\", \"y\": [1], \"x\": [1], \"orientation\": \"h\", \"width\": 0.5, \"text\": \"\", \"hoverinfo\": \"text\", \"marker\": {\"color\": \"rgb(255, 255, 255)\"}, \"xaxis\": \"x1\", \"yaxis\": \"y1\"}, {\"type\": \"bar\", \"y\": [1], \"x\": [1], \"orientation\": \"h\", \"width\": 0.5, \"text\": \"\", \"hoverinfo\": \"text\", \"marker\": {\"color\": \"rgb(255, 255, 255)\"}, \"xaxis\": \"x1\", \"yaxis\": \"y1\"}, {\"type\": \"bar\", \"y\": [1], \"x\": [1], \"orientation\": \"h\", \"width\": 0.5, \"text\": \"\", \"hoverinfo\": \"text\", \"marker\": {\"color\": \"rgb(255, 255, 255)\"}, \"xaxis\": \"x1\", \"yaxis\": \"y1\"}, {\"type\": \"bar\", \"y\": [1], \"x\": [1], \"orientation\": \"h\", \"width\": 0.5, \"text\": \"\", \"hoverinfo\": \"text\", \"marker\": {\"color\": \"rgb(255, 255, 255)\"}, \"xaxis\": \"x1\", \"yaxis\": \"y1\"}, {\"type\": \"bar\", \"y\": [1], \"x\": [1], \"orientation\": \"h\", \"width\": 0.5, \"text\": \"\", \"hoverinfo\": \"text\", \"marker\": {\"color\": \"rgb(255, 255, 255)\"}, \"xaxis\": \"x1\", \"yaxis\": \"y1\"}, {\"type\": \"bar\", \"y\": [1], \"x\": [1], \"orientation\": \"h\", \"width\": 0.5, \"text\": \"\", \"hoverinfo\": \"text\", \"marker\": {\"color\": \"rgb(255, 255, 255)\"}, \"xaxis\": \"x1\", \"yaxis\": \"y1\"}, {\"type\": \"bar\", \"y\": [1], \"x\": [1], \"orientation\": \"h\", \"width\": 0.5, \"text\": \"\", \"hoverinfo\": \"text\", \"marker\": {\"color\": \"rgb(255, 255, 255)\"}, \"xaxis\": \"x1\", \"yaxis\": \"y1\"}, {\"type\": \"bar\", \"y\": [1], \"x\": [1], \"orientation\": \"h\", \"width\": 0.5, \"text\": \"\", \"hoverinfo\": \"text\", \"marker\": {\"color\": \"rgb(255, 255, 255)\"}, \"xaxis\": \"x1\", \"yaxis\": \"y1\"}, {\"type\": \"bar\", \"y\": [1], \"x\": [1], \"orientation\": \"h\", \"width\": 0.5, \"text\": \"\", \"hoverinfo\": \"text\", \"marker\": {\"color\": \"rgb(255, 255, 255)\"}, \"xaxis\": \"x1\", \"yaxis\": \"y1\"}, {\"type\": \"bar\", \"y\": [1], \"x\": [1], \"orientation\": \"h\", \"width\": 0.5, \"text\": \"\", \"hoverinfo\": \"text\", \"marker\": {\"color\": \"rgb(255, 255, 255)\"}, \"xaxis\": \"x1\", \"yaxis\": \"y1\"}, {\"type\": \"bar\", \"y\": [1], \"x\": [1], \"orientation\": \"h\", \"width\": 0.5, \"text\": \"\", \"hoverinfo\": \"text\", \"marker\": {\"color\": \"rgb(255, 255, 255)\"}, \"xaxis\": \"x1\", \"yaxis\": \"y1\"}, {\"type\": \"bar\", \"y\": [1], \"x\": [1], \"orientation\": \"h\", \"width\": 0.5, \"text\": \"\", \"hoverinfo\": \"text\", \"marker\": {\"color\": \"rgb(255, 255, 255)\"}, \"xaxis\": \"x1\", \"yaxis\": \"y1\"}, {\"type\": \"bar\", \"y\": [1], \"x\": [1], \"orientation\": \"h\", \"width\": 0.5, \"text\": \"\", \"hoverinfo\": \"text\", \"marker\": {\"color\": \"rgb(255, 255, 255)\"}, \"xaxis\": \"x1\", \"yaxis\": \"y1\"}], {\"xaxis1\": {\"domain\": [0.0, 1.0], \"anchor\": \"y1\", \"showgrid\": false, \"showline\": false, \"showticklabels\": false, \"zeroline\": false}, \"yaxis1\": {\"domain\": [0.0, 1.0], \"anchor\": \"x1\", \"showgrid\": false, \"showline\": false, \"showticklabels\": false, \"zeroline\": false}, \"barmode\": \"stack\", \"showlegend\": false, \"margin\": {\"b\": 30, \"l\": 20, \"r\": 20, \"t\": 10}, \"annotations\": [{\"xref\": \"x1\", \"yref\": \"y1\", \"x\": 0.5, \"y\": 1, \"text\": \" \", \"align\": \"left\", \"font\": {\"family\": \"Arial\", \"size\": 14, \"color\": \"black\"}, \"showarrow\": false}, {\"xref\": \"x1\", \"yref\": \"y1\", \"x\": 1.5, \"y\": 1, \"text\": \"\\ucda9\", \"align\": \"left\", \"font\": {\"family\": \"Arial\", \"size\": 14, \"color\": \"black\"}, \"showarrow\": false}, {\"xref\": \"x1\", \"yref\": \"y1\", \"x\": 2.5, \"y\": 1, \"text\": \"\\uccad\", \"align\": \"left\", \"font\": {\"family\": \"Arial\", \"size\": 14, \"color\": \"black\"}, \"showarrow\": false}, {\"xref\": \"x1\", \"yref\": \"y1\", \"x\": 3.5, \"y\": 1, \"text\": \"\\ubd81\", \"align\": \"left\", \"font\": {\"family\": \"Arial\", \"size\": 14, \"color\": \"black\"}, \"showarrow\": false}, {\"xref\": \"x1\", \"yref\": \"y1\", \"x\": 4.5, \"y\": 1, \"text\": \"\\ub3c4\", \"align\": \"left\", \"font\": {\"family\": \"Arial\", \"size\": 14, \"color\": \"black\"}, \"showarrow\": false}, {\"xref\": \"x1\", \"yref\": \"y1\", \"x\": 5.5, \"y\": 1, \"text\": \" \", \"align\": \"left\", \"font\": {\"family\": \"Arial\", \"size\": 14, \"color\": \"black\"}, \"showarrow\": false}, {\"xref\": \"x1\", \"yref\": \"y1\", \"x\": 6.5, \"y\": 1, \"text\": \"\\uccad\", \"align\": \"left\", \"font\": {\"family\": \"Arial\", \"size\": 14, \"color\": \"black\"}, \"showarrow\": false}, {\"xref\": \"x1\", \"yref\": \"y1\", \"x\": 7.5, \"y\": 1, \"text\": \"\\uc8fc\", \"align\": \"left\", \"font\": {\"family\": \"Arial\", \"size\": 14, \"color\": \"black\"}, \"showarrow\": false}, {\"xref\": \"x1\", \"yref\": \"y1\", \"x\": 8.5, \"y\": 1, \"text\": \"\\ub294\", \"align\": \"left\", \"font\": {\"family\": \"Arial\", \"size\": 14, \"color\": \"black\"}, \"showarrow\": false}, {\"xref\": \"x1\", \"yref\": \"y1\", \"x\": 9.5, \"y\": 1, \"text\": \" \", \"align\": \"left\", \"font\": {\"family\": \"Arial\", \"size\": 14, \"color\": \"black\"}, \"showarrow\": false}, {\"xref\": \"x1\", \"yref\": \"y1\", \"x\": 10.5, \"y\": 1, \"text\": \"\\uad50\", \"align\": \"left\", \"font\": {\"family\": \"Arial\", \"size\": 14, \"color\": \"black\"}, \"showarrow\": false}, {\"xref\": \"x1\", \"yref\": \"y1\", \"x\": 11.5, \"y\": 1, \"text\": \"\\uc721\", \"align\": \"left\", \"font\": {\"family\": \"Arial\", \"size\": 14, \"color\": \"black\"}, \"showarrow\": false}, {\"xref\": \"x1\", \"yref\": \"y1\", \"x\": 12.5, \"y\": 1, \"text\": \"\\uc758\", \"align\": \"left\", \"font\": {\"family\": \"Arial\", \"size\": 14, \"color\": \"black\"}, \"showarrow\": false}, {\"xref\": \"x1\", \"yref\": \"y1\", \"x\": 13.5, \"y\": 1, \"text\": \" \", \"align\": \"left\", \"font\": {\"family\": \"Arial\", \"size\": 14, \"color\": \"black\"}, \"showarrow\": false}, {\"xref\": \"x1\", \"yref\": \"y1\", \"x\": 14.5, \"y\": 1, \"text\": \"\\ub3c4\", \"align\": \"left\", \"font\": {\"family\": \"Arial\", \"size\": 14, \"color\": \"black\"}, \"showarrow\": false}, {\"xref\": \"x1\", \"yref\": \"y1\", \"x\": 15.5, \"y\": 1, \"text\": \"\\uc2dc\", \"align\": \"left\", \"font\": {\"family\": \"Arial\", \"size\": 14, \"color\": \"black\"}, \"showarrow\": false}, {\"xref\": \"x1\", \"yref\": \"y1\", \"x\": 16.5, \"y\": 1, \"text\": \"\\uc785\", \"align\": \"left\", \"font\": {\"family\": \"Arial\", \"size\": 14, \"color\": \"black\"}, \"showarrow\": false}, {\"xref\": \"x1\", \"yref\": \"y1\", \"x\": 17.5, \"y\": 1, \"text\": \"\\ub2c8\", \"align\": \"left\", \"font\": {\"family\": \"Arial\", \"size\": 14, \"color\": \"black\"}, \"showarrow\": false}, {\"xref\": \"x1\", \"yref\": \"y1\", \"x\": 18.5, \"y\": 1, \"text\": \"\\ub2e4\", \"align\": \"left\", \"font\": {\"family\": \"Arial\", \"size\": 14, \"color\": \"black\"}, \"showarrow\": false}, {\"xref\": \"x1\", \"yref\": \"y1\", \"x\": 19.5, \"y\": 1, \"text\": \".\", \"align\": \"left\", \"font\": {\"family\": \"Arial\", \"size\": 14, \"color\": \"black\"}, \"showarrow\": false}], \"height\": 80, \"images\": [{\"source\": \"https://raw.githubusercontent.com/fingeredman/teanaps/master/data/logo/teanaps_logo_no-bg.png\", \"xref\": \"paper\", \"yref\": \"paper\", \"x\": 0.5, \"y\": 0.6, \"sizex\": 0.7, \"sizey\": 0.7, \"xanchor\": \"center\", \"yanchor\": \"center\", \"opacity\": 0.3, \"layer\": \"above\"}]}, {\"showLink\": true, \"linkText\": \"Export to plot.ly\"})});</script>"
      ],
      "text/vnd.plotly.v1+html": [
       "<div id=\"2ccb891a-dc4d-45d6-87de-64ec84769cac\" style=\"height: 80px; width: 100%;\" class=\"plotly-graph-div\"></div><script type=\"text/javascript\">require([\"plotly\"], function(Plotly) { window.PLOTLYENV=window.PLOTLYENV || {};window.PLOTLYENV.BASE_URL=\"https://plot.ly\";Plotly.newPlot(\"2ccb891a-dc4d-45d6-87de-64ec84769cac\", [{\"type\": \"bar\", \"y\": [1], \"x\": [3], \"orientation\": \"h\", \"width\": 0.5, \"text\": \"1.0\", \"hoverinfo\": \"text\", \"marker\": {\"color\": \"rgb(55.0, 155.0, 255)\"}, \"xaxis\": \"x1\", \"yaxis\": \"y1\"}, {\"type\": \"bar\", \"y\": [1], \"x\": [1], \"orientation\": \"h\", \"width\": 0.5, \"text\": \"0.12\", \"hoverinfo\": \"text\", \"marker\": {\"color\": \"rgb(231.84384692577657, 243.4219234628883, 255)\"}, \"xaxis\": \"x1\", \"yaxis\": \"y1\"}, {\"type\": \"bar\", \"y\": [1], \"x\": [1], \"orientation\": \"h\", \"width\": 0.5, \"text\": \"0.17\", \"hoverinfo\": \"text\", \"marker\": {\"color\": \"rgb(220.0305445800381, 237.51527229001906, 255)\"}, \"xaxis\": \"x1\", \"yaxis\": \"y1\"}, {\"type\": \"bar\", \"y\": [1], \"x\": [3], \"orientation\": \"h\", \"width\": 0.5, \"text\": \"0.93\", \"hoverinfo\": \"text\", \"marker\": {\"color\": \"rgb(68.47172216371797, 161.73586108185899, 255)\"}, \"xaxis\": \"x1\", \"yaxis\": \"y1\"}, {\"type\": \"bar\", \"y\": [1], \"x\": [1], \"orientation\": \"h\", \"width\": 0.5, \"text\": \"0.23\", \"hoverinfo\": \"text\", \"marker\": {\"color\": \"rgb(209.0274151574485, 232.01370757872425, 255)\"}, \"xaxis\": \"x1\", \"yaxis\": \"y1\"}, {\"type\": \"bar\", \"y\": [1], \"x\": [3], \"orientation\": \"h\", \"width\": 0.5, \"text\": \"0.52\", \"hoverinfo\": \"text\", \"marker\": {\"color\": \"rgb(151.627274628155, 203.31363731407748, 255)\"}, \"xaxis\": \"x1\", \"yaxis\": \"y1\"}, {\"type\": \"bar\", \"y\": [1], \"x\": [1], \"orientation\": \"h\", \"width\": 0.5, \"text\": \"0.33\", \"hoverinfo\": \"text\", \"marker\": {\"color\": \"rgb(188.51702912946303, 221.7585145647315, 255)\"}, \"xaxis\": \"x1\", \"yaxis\": \"y1\"}, {\"type\": \"bar\", \"y\": [1], \"x\": [3], \"orientation\": \"h\", \"width\": 0.5, \"text\": \"0.36\", \"hoverinfo\": \"text\", \"marker\": {\"color\": \"rgb(182.09566206790842, 218.5478310339542, 255)\"}, \"xaxis\": \"x1\", \"yaxis\": \"y1\"}, {\"type\": \"bar\", \"y\": [1], \"x\": [3], \"orientation\": \"h\", \"width\": 0.5, \"text\": \"0.06\", \"hoverinfo\": \"text\", \"marker\": {\"color\": \"rgb(242.6961889634491, 248.84809448172456, 255)\"}, \"xaxis\": \"x1\", \"yaxis\": \"y1\"}, {\"type\": \"bar\", \"y\": [1], \"x\": [1], \"orientation\": \"h\", \"width\": 0.5, \"text\": \"0.11\", \"hoverinfo\": \"text\", \"marker\": {\"color\": \"rgb(232.91742575519703, 243.95871287759851, 255)\"}, \"xaxis\": \"x1\", \"yaxis\": \"y1\"}, {\"type\": \"bar\", \"y\": [1], \"x\": [1], \"orientation\": \"h\", \"width\": 0.5, \"text\": \"\", \"hoverinfo\": \"text\", \"marker\": {\"color\": \"rgb(255, 255, 255)\"}, \"xaxis\": \"x1\", \"yaxis\": \"y1\"}, {\"type\": \"bar\", \"y\": [1], \"x\": [1], \"orientation\": \"h\", \"width\": 0.5, \"text\": \"\", \"hoverinfo\": \"text\", \"marker\": {\"color\": \"rgb(255, 255, 255)\"}, \"xaxis\": \"x1\", \"yaxis\": \"y1\"}, {\"type\": \"bar\", \"y\": [1], \"x\": [1], \"orientation\": \"h\", \"width\": 0.5, \"text\": \"\", \"hoverinfo\": \"text\", \"marker\": {\"color\": \"rgb(255, 255, 255)\"}, \"xaxis\": \"x1\", \"yaxis\": \"y1\"}, {\"type\": \"bar\", \"y\": [1], \"x\": [1], \"orientation\": \"h\", \"width\": 0.5, \"text\": \"\", \"hoverinfo\": \"text\", \"marker\": {\"color\": \"rgb(255, 255, 255)\"}, \"xaxis\": \"x1\", \"yaxis\": \"y1\"}, {\"type\": \"bar\", \"y\": [1], \"x\": [1], \"orientation\": \"h\", \"width\": 0.5, \"text\": \"\", \"hoverinfo\": \"text\", \"marker\": {\"color\": \"rgb(255, 255, 255)\"}, \"xaxis\": \"x1\", \"yaxis\": \"y1\"}, {\"type\": \"bar\", \"y\": [1], \"x\": [1], \"orientation\": \"h\", \"width\": 0.5, \"text\": \"\", \"hoverinfo\": \"text\", \"marker\": {\"color\": \"rgb(255, 255, 255)\"}, \"xaxis\": \"x1\", \"yaxis\": \"y1\"}, {\"type\": \"bar\", \"y\": [1], \"x\": [1], \"orientation\": \"h\", \"width\": 0.5, \"text\": \"\", \"hoverinfo\": \"text\", \"marker\": {\"color\": \"rgb(255, 255, 255)\"}, \"xaxis\": \"x1\", \"yaxis\": \"y1\"}, {\"type\": \"bar\", \"y\": [1], \"x\": [1], \"orientation\": \"h\", \"width\": 0.5, \"text\": \"\", \"hoverinfo\": \"text\", \"marker\": {\"color\": \"rgb(255, 255, 255)\"}, \"xaxis\": \"x1\", \"yaxis\": \"y1\"}, {\"type\": \"bar\", \"y\": [1], \"x\": [1], \"orientation\": \"h\", \"width\": 0.5, \"text\": \"\", \"hoverinfo\": \"text\", \"marker\": {\"color\": \"rgb(255, 255, 255)\"}, \"xaxis\": \"x1\", \"yaxis\": \"y1\"}, {\"type\": \"bar\", \"y\": [1], \"x\": [1], \"orientation\": \"h\", \"width\": 0.5, \"text\": \"\", \"hoverinfo\": \"text\", \"marker\": {\"color\": \"rgb(255, 255, 255)\"}, \"xaxis\": \"x1\", \"yaxis\": \"y1\"}, {\"type\": \"bar\", \"y\": [1], \"x\": [1], \"orientation\": \"h\", \"width\": 0.5, \"text\": \"\", \"hoverinfo\": \"text\", \"marker\": {\"color\": \"rgb(255, 255, 255)\"}, \"xaxis\": \"x1\", \"yaxis\": \"y1\"}, {\"type\": \"bar\", \"y\": [1], \"x\": [1], \"orientation\": \"h\", \"width\": 0.5, \"text\": \"\", \"hoverinfo\": \"text\", \"marker\": {\"color\": \"rgb(255, 255, 255)\"}, \"xaxis\": \"x1\", \"yaxis\": \"y1\"}, {\"type\": \"bar\", \"y\": [1], \"x\": [1], \"orientation\": \"h\", \"width\": 0.5, \"text\": \"\", \"hoverinfo\": \"text\", \"marker\": {\"color\": \"rgb(255, 255, 255)\"}, \"xaxis\": \"x1\", \"yaxis\": \"y1\"}, {\"type\": \"bar\", \"y\": [1], \"x\": [1], \"orientation\": \"h\", \"width\": 0.5, \"text\": \"\", \"hoverinfo\": \"text\", \"marker\": {\"color\": \"rgb(255, 255, 255)\"}, \"xaxis\": \"x1\", \"yaxis\": \"y1\"}, {\"type\": \"bar\", \"y\": [1], \"x\": [1], \"orientation\": \"h\", \"width\": 0.5, \"text\": \"\", \"hoverinfo\": \"text\", \"marker\": {\"color\": \"rgb(255, 255, 255)\"}, \"xaxis\": \"x1\", \"yaxis\": \"y1\"}, {\"type\": \"bar\", \"y\": [1], \"x\": [1], \"orientation\": \"h\", \"width\": 0.5, \"text\": \"\", \"hoverinfo\": \"text\", \"marker\": {\"color\": \"rgb(255, 255, 255)\"}, \"xaxis\": \"x1\", \"yaxis\": \"y1\"}, {\"type\": \"bar\", \"y\": [1], \"x\": [1], \"orientation\": \"h\", \"width\": 0.5, \"text\": \"\", \"hoverinfo\": \"text\", \"marker\": {\"color\": \"rgb(255, 255, 255)\"}, \"xaxis\": \"x1\", \"yaxis\": \"y1\"}, {\"type\": \"bar\", \"y\": [1], \"x\": [1], \"orientation\": \"h\", \"width\": 0.5, \"text\": \"\", \"hoverinfo\": \"text\", \"marker\": {\"color\": \"rgb(255, 255, 255)\"}, \"xaxis\": \"x1\", \"yaxis\": \"y1\"}, {\"type\": \"bar\", \"y\": [1], \"x\": [1], \"orientation\": \"h\", \"width\": 0.5, \"text\": \"\", \"hoverinfo\": \"text\", \"marker\": {\"color\": \"rgb(255, 255, 255)\"}, \"xaxis\": \"x1\", \"yaxis\": \"y1\"}, {\"type\": \"bar\", \"y\": [1], \"x\": [1], \"orientation\": \"h\", \"width\": 0.5, \"text\": \"\", \"hoverinfo\": \"text\", \"marker\": {\"color\": \"rgb(255, 255, 255)\"}, \"xaxis\": \"x1\", \"yaxis\": \"y1\"}, {\"type\": \"bar\", \"y\": [1], \"x\": [1], \"orientation\": \"h\", \"width\": 0.5, \"text\": \"\", \"hoverinfo\": \"text\", \"marker\": {\"color\": \"rgb(255, 255, 255)\"}, \"xaxis\": \"x1\", \"yaxis\": \"y1\"}, {\"type\": \"bar\", \"y\": [1], \"x\": [1], \"orientation\": \"h\", \"width\": 0.5, \"text\": \"\", \"hoverinfo\": \"text\", \"marker\": {\"color\": \"rgb(255, 255, 255)\"}, \"xaxis\": \"x1\", \"yaxis\": \"y1\"}, {\"type\": \"bar\", \"y\": [1], \"x\": [1], \"orientation\": \"h\", \"width\": 0.5, \"text\": \"\", \"hoverinfo\": \"text\", \"marker\": {\"color\": \"rgb(255, 255, 255)\"}, \"xaxis\": \"x1\", \"yaxis\": \"y1\"}, {\"type\": \"bar\", \"y\": [1], \"x\": [1], \"orientation\": \"h\", \"width\": 0.5, \"text\": \"\", \"hoverinfo\": \"text\", \"marker\": {\"color\": \"rgb(255, 255, 255)\"}, \"xaxis\": \"x1\", \"yaxis\": \"y1\"}, {\"type\": \"bar\", \"y\": [1], \"x\": [1], \"orientation\": \"h\", \"width\": 0.5, \"text\": \"\", \"hoverinfo\": \"text\", \"marker\": {\"color\": \"rgb(255, 255, 255)\"}, \"xaxis\": \"x1\", \"yaxis\": \"y1\"}, {\"type\": \"bar\", \"y\": [1], \"x\": [1], \"orientation\": \"h\", \"width\": 0.5, \"text\": \"\", \"hoverinfo\": \"text\", \"marker\": {\"color\": \"rgb(255, 255, 255)\"}, \"xaxis\": \"x1\", \"yaxis\": \"y1\"}, {\"type\": \"bar\", \"y\": [1], \"x\": [1], \"orientation\": \"h\", \"width\": 0.5, \"text\": \"\", \"hoverinfo\": \"text\", \"marker\": {\"color\": \"rgb(255, 255, 255)\"}, \"xaxis\": \"x1\", \"yaxis\": \"y1\"}, {\"type\": \"bar\", \"y\": [1], \"x\": [1], \"orientation\": \"h\", \"width\": 0.5, \"text\": \"\", \"hoverinfo\": \"text\", \"marker\": {\"color\": \"rgb(255, 255, 255)\"}, \"xaxis\": \"x1\", \"yaxis\": \"y1\"}, {\"type\": \"bar\", \"y\": [1], \"x\": [1], \"orientation\": \"h\", \"width\": 0.5, \"text\": \"\", \"hoverinfo\": \"text\", \"marker\": {\"color\": \"rgb(255, 255, 255)\"}, \"xaxis\": \"x1\", \"yaxis\": \"y1\"}, {\"type\": \"bar\", \"y\": [1], \"x\": [1], \"orientation\": \"h\", \"width\": 0.5, \"text\": \"\", \"hoverinfo\": \"text\", \"marker\": {\"color\": \"rgb(255, 255, 255)\"}, \"xaxis\": \"x1\", \"yaxis\": \"y1\"}], {\"xaxis1\": {\"domain\": [0.0, 1.0], \"anchor\": \"y1\", \"showgrid\": false, \"showline\": false, \"showticklabels\": false, \"zeroline\": false}, \"yaxis1\": {\"domain\": [0.0, 1.0], \"anchor\": \"x1\", \"showgrid\": false, \"showline\": false, \"showticklabels\": false, \"zeroline\": false}, \"barmode\": \"stack\", \"showlegend\": false, \"margin\": {\"b\": 30, \"l\": 20, \"r\": 20, \"t\": 10}, \"annotations\": [{\"xref\": \"x1\", \"yref\": \"y1\", \"x\": 0.5, \"y\": 1, \"text\": \" \", \"align\": \"left\", \"font\": {\"family\": \"Arial\", \"size\": 14, \"color\": \"black\"}, \"showarrow\": false}, {\"xref\": \"x1\", \"yref\": \"y1\", \"x\": 1.5, \"y\": 1, \"text\": \"\\ucda9\", \"align\": \"left\", \"font\": {\"family\": \"Arial\", \"size\": 14, \"color\": \"black\"}, \"showarrow\": false}, {\"xref\": \"x1\", \"yref\": \"y1\", \"x\": 2.5, \"y\": 1, \"text\": \"\\uccad\", \"align\": \"left\", \"font\": {\"family\": \"Arial\", \"size\": 14, \"color\": \"black\"}, \"showarrow\": false}, {\"xref\": \"x1\", \"yref\": \"y1\", \"x\": 3.5, \"y\": 1, \"text\": \"\\ubd81\", \"align\": \"left\", \"font\": {\"family\": \"Arial\", \"size\": 14, \"color\": \"black\"}, \"showarrow\": false}, {\"xref\": \"x1\", \"yref\": \"y1\", \"x\": 4.5, \"y\": 1, \"text\": \"\\ub3c4\", \"align\": \"left\", \"font\": {\"family\": \"Arial\", \"size\": 14, \"color\": \"black\"}, \"showarrow\": false}, {\"xref\": \"x1\", \"yref\": \"y1\", \"x\": 5.5, \"y\": 1, \"text\": \" \", \"align\": \"left\", \"font\": {\"family\": \"Arial\", \"size\": 14, \"color\": \"black\"}, \"showarrow\": false}, {\"xref\": \"x1\", \"yref\": \"y1\", \"x\": 6.5, \"y\": 1, \"text\": \"\\uccad\", \"align\": \"left\", \"font\": {\"family\": \"Arial\", \"size\": 14, \"color\": \"black\"}, \"showarrow\": false}, {\"xref\": \"x1\", \"yref\": \"y1\", \"x\": 7.5, \"y\": 1, \"text\": \"\\uc8fc\", \"align\": \"left\", \"font\": {\"family\": \"Arial\", \"size\": 14, \"color\": \"black\"}, \"showarrow\": false}, {\"xref\": \"x1\", \"yref\": \"y1\", \"x\": 8.5, \"y\": 1, \"text\": \"\\ub294\", \"align\": \"left\", \"font\": {\"family\": \"Arial\", \"size\": 14, \"color\": \"black\"}, \"showarrow\": false}, {\"xref\": \"x1\", \"yref\": \"y1\", \"x\": 9.5, \"y\": 1, \"text\": \" \", \"align\": \"left\", \"font\": {\"family\": \"Arial\", \"size\": 14, \"color\": \"black\"}, \"showarrow\": false}, {\"xref\": \"x1\", \"yref\": \"y1\", \"x\": 10.5, \"y\": 1, \"text\": \"\\uad50\", \"align\": \"left\", \"font\": {\"family\": \"Arial\", \"size\": 14, \"color\": \"black\"}, \"showarrow\": false}, {\"xref\": \"x1\", \"yref\": \"y1\", \"x\": 11.5, \"y\": 1, \"text\": \"\\uc721\", \"align\": \"left\", \"font\": {\"family\": \"Arial\", \"size\": 14, \"color\": \"black\"}, \"showarrow\": false}, {\"xref\": \"x1\", \"yref\": \"y1\", \"x\": 12.5, \"y\": 1, \"text\": \"\\uc758\", \"align\": \"left\", \"font\": {\"family\": \"Arial\", \"size\": 14, \"color\": \"black\"}, \"showarrow\": false}, {\"xref\": \"x1\", \"yref\": \"y1\", \"x\": 13.5, \"y\": 1, \"text\": \" \", \"align\": \"left\", \"font\": {\"family\": \"Arial\", \"size\": 14, \"color\": \"black\"}, \"showarrow\": false}, {\"xref\": \"x1\", \"yref\": \"y1\", \"x\": 14.5, \"y\": 1, \"text\": \"\\ub3c4\", \"align\": \"left\", \"font\": {\"family\": \"Arial\", \"size\": 14, \"color\": \"black\"}, \"showarrow\": false}, {\"xref\": \"x1\", \"yref\": \"y1\", \"x\": 15.5, \"y\": 1, \"text\": \"\\uc2dc\", \"align\": \"left\", \"font\": {\"family\": \"Arial\", \"size\": 14, \"color\": \"black\"}, \"showarrow\": false}, {\"xref\": \"x1\", \"yref\": \"y1\", \"x\": 16.5, \"y\": 1, \"text\": \"\\uc785\", \"align\": \"left\", \"font\": {\"family\": \"Arial\", \"size\": 14, \"color\": \"black\"}, \"showarrow\": false}, {\"xref\": \"x1\", \"yref\": \"y1\", \"x\": 17.5, \"y\": 1, \"text\": \"\\ub2c8\", \"align\": \"left\", \"font\": {\"family\": \"Arial\", \"size\": 14, \"color\": \"black\"}, \"showarrow\": false}, {\"xref\": \"x1\", \"yref\": \"y1\", \"x\": 18.5, \"y\": 1, \"text\": \"\\ub2e4\", \"align\": \"left\", \"font\": {\"family\": \"Arial\", \"size\": 14, \"color\": \"black\"}, \"showarrow\": false}, {\"xref\": \"x1\", \"yref\": \"y1\", \"x\": 19.5, \"y\": 1, \"text\": \".\", \"align\": \"left\", \"font\": {\"family\": \"Arial\", \"size\": 14, \"color\": \"black\"}, \"showarrow\": false}], \"height\": 80, \"images\": [{\"source\": \"https://raw.githubusercontent.com/fingeredman/teanaps/master/data/logo/teanaps_logo_no-bg.png\", \"xref\": \"paper\", \"yref\": \"paper\", \"x\": 0.5, \"y\": 0.6, \"sizex\": 0.7, \"sizey\": 0.7, \"xanchor\": \"center\", \"yanchor\": \"center\", \"opacity\": 0.3, \"layer\": \"above\"}]}, {\"showLink\": true, \"linkText\": \"Export to plot.ly\"})});</script>"
      ]
     },
     "metadata": {},
     "output_type": "display_data"
    }
   ],
   "source": [
    "input_text = \"충청북도 청주는 교육의 도시입니다.\"\n",
    "\n",
    "result = ner.parse(input_text)\n",
    "print(result)\n",
    "result = ner.parse_sentence(input_text)\n",
    "print(result)\n",
    "ner.draw_sentence_weight(input_text)"
   ]
  },
  {
   "cell_type": "code",
   "execution_count": 16,
   "metadata": {},
   "outputs": [
    {
     "name": "stdout",
     "output_type": "stream",
     "text": [
      "[('코로나 바이러스', 'UN', (3, 11)), ('연세대학교', 'OG', (17, 22)), ('제 768회', 'QT', (23, 29))]\n",
      "최근 <코로나 바이러스:UN>의 여파로 <연세대학교:OG> <제 768회:QT> 졸업식이 취소되었음을 알려드립니다.\n"
     ]
    },
    {
     "data": {
      "text/html": [
       "\n",
       "                <script src=\"/static/components/requirejs/require.js\"></script>\n",
       "                <script>\n",
       "                  requirejs.config({\n",
       "                    paths: {\n",
       "                      base: '/static/base',\n",
       "                      plotly: 'https://cdn.plot.ly/plotly-latest.min.js?noext',\n",
       "                    },\n",
       "                  });\n",
       "                </script>\n",
       "                "
      ],
      "text/plain": [
       "<IPython.core.display.HTML object>"
      ]
     },
     "metadata": {},
     "output_type": "display_data"
    },
    {
     "data": {
      "text/html": [
       "\n",
       "                <script src=\"/static/components/requirejs/require.js\"></script>\n",
       "                <script>\n",
       "                  requirejs.config({\n",
       "                    paths: {\n",
       "                      base: '/static/base',\n",
       "                      plotly: 'https://cdn.plot.ly/plotly-latest.min.js?noext',\n",
       "                    },\n",
       "                  });\n",
       "                </script>\n",
       "                "
      ],
      "text/plain": [
       "<IPython.core.display.HTML object>"
      ]
     },
     "metadata": {},
     "output_type": "display_data"
    },
    {
     "data": {
      "application/vnd.plotly.v1+json": {
       "data": [
        {
         "hoverinfo": "text",
         "marker": {
          "color": "rgb(236.456381432343, 245.7281907161715, 255)"
         },
         "orientation": "h",
         "text": "0.09",
         "type": "bar",
         "width": 0.5,
         "x": [
          3
         ],
         "xaxis": "x1",
         "y": [
          1
         ],
         "yaxis": "y1"
        },
        {
         "hoverinfo": "text",
         "marker": {
          "color": "rgb(159.15492069779054, 207.07746034889527, 255)"
         },
         "orientation": "h",
         "text": "0.48",
         "type": "bar",
         "width": 0.5,
         "x": [
          2
         ],
         "xaxis": "x1",
         "y": [
          1
         ],
         "yaxis": "y1"
        },
        {
         "hoverinfo": "text",
         "marker": {
          "color": "rgb(65.15953381803959, 160.07976690901978, 255)"
         },
         "orientation": "h",
         "text": "0.95",
         "type": "bar",
         "width": 0.5,
         "x": [
          1
         ],
         "xaxis": "x1",
         "y": [
          1
         ],
         "yaxis": "y1"
        },
        {
         "hoverinfo": "text",
         "marker": {
          "color": "rgb(55.0, 155.0, 255)"
         },
         "orientation": "h",
         "text": "1.0",
         "type": "bar",
         "width": 0.5,
         "x": [
          1
         ],
         "xaxis": "x1",
         "y": [
          1
         ],
         "yaxis": "y1"
        },
        {
         "hoverinfo": "text",
         "marker": {
          "color": "rgb(63.63586939134058, 159.3179346956703, 255)"
         },
         "orientation": "h",
         "text": "0.96",
         "type": "bar",
         "width": 0.5,
         "x": [
          5
         ],
         "xaxis": "x1",
         "y": [
          1
         ],
         "yaxis": "y1"
        },
        {
         "hoverinfo": "text",
         "marker": {
          "color": "rgb(204.3699774266039, 229.68498871330195, 255)"
         },
         "orientation": "h",
         "text": "0.25",
         "type": "bar",
         "width": 0.5,
         "x": [
          1
         ],
         "xaxis": "x1",
         "y": [
          1
         ],
         "yaxis": "y1"
        },
        {
         "hoverinfo": "text",
         "marker": {
          "color": "rgb(230.8128261130459, 242.90641305652295, 255)"
         },
         "orientation": "h",
         "text": "0.12",
         "type": "bar",
         "width": 0.5,
         "x": [
          2
         ],
         "xaxis": "x1",
         "y": [
          1
         ],
         "yaxis": "y1"
        },
        {
         "hoverinfo": "text",
         "marker": {
          "color": "rgb(251.5250790188296, 253.2625395094148, 255)"
         },
         "orientation": "h",
         "text": "0.02",
         "type": "bar",
         "width": 0.5,
         "x": [
          1
         ],
         "xaxis": "x1",
         "y": [
          1
         ],
         "yaxis": "y1"
        },
        {
         "hoverinfo": "text",
         "marker": {
          "color": "rgb(254.72340768788592, 254.86170384394296, 255)"
         },
         "orientation": "h",
         "text": "0.0",
         "type": "bar",
         "width": 0.5,
         "x": [
          1
         ],
         "xaxis": "x1",
         "y": [
          1
         ],
         "yaxis": "y1"
        },
        {
         "hoverinfo": "text",
         "marker": {
          "color": "rgb(116.60184686948125, 185.80092343474064, 255)"
         },
         "orientation": "h",
         "text": "0.69",
         "type": "bar",
         "width": 0.5,
         "x": [
          4
         ],
         "xaxis": "x1",
         "y": [
          1
         ],
         "yaxis": "y1"
        },
        {
         "hoverinfo": "text",
         "marker": {
          "color": "rgb(226.81568973357082, 240.9078448667854, 255)"
         },
         "orientation": "h",
         "text": "0.14",
         "type": "bar",
         "width": 0.5,
         "x": [
          2
         ],
         "xaxis": "x1",
         "y": [
          1
         ],
         "yaxis": "y1"
        },
        {
         "hoverinfo": "text",
         "marker": {
          "color": "rgb(236.8952365979418, 245.9476182989709, 255)"
         },
         "orientation": "h",
         "text": "0.09",
         "type": "bar",
         "width": 0.5,
         "x": [
          2
         ],
         "xaxis": "x1",
         "y": [
          1
         ],
         "yaxis": "y1"
        },
        {
         "hoverinfo": "text",
         "marker": {
          "color": "rgb(137.02585553576603, 196.012927767883, 255)"
         },
         "orientation": "h",
         "text": "0.59",
         "type": "bar",
         "width": 0.5,
         "x": [
          2
         ],
         "xaxis": "x1",
         "y": [
          1
         ],
         "yaxis": "y1"
        },
        {
         "hoverinfo": "text",
         "marker": {
          "color": "rgb(81.40764516178999, 168.203822580895, 255)"
         },
         "orientation": "h",
         "text": "0.87",
         "type": "bar",
         "width": 0.5,
         "x": [
          2
         ],
         "xaxis": "x1",
         "y": [
          1
         ],
         "yaxis": "y1"
        },
        {
         "hoverinfo": "text",
         "marker": {
          "color": "rgb(90.27836878585589, 172.63918439292794, 255)"
         },
         "orientation": "h",
         "text": "0.82",
         "type": "bar",
         "width": 0.5,
         "x": [
          1
         ],
         "xaxis": "x1",
         "y": [
          1
         ],
         "yaxis": "y1"
        },
        {
         "hoverinfo": "text",
         "marker": {
          "color": "rgb(219.32046955211794, 237.16023477605896, 255)"
         },
         "orientation": "h",
         "text": "0.18",
         "type": "bar",
         "width": 0.5,
         "x": [
          3
         ],
         "xaxis": "x1",
         "y": [
          1
         ],
         "yaxis": "y1"
        },
        {
         "hoverinfo": "text",
         "marker": {
          "color": "rgb(204.09428826341198, 229.54714413170598, 255)"
         },
         "orientation": "h",
         "text": "0.25",
         "type": "bar",
         "width": 0.5,
         "x": [
          1
         ],
         "xaxis": "x1",
         "y": [
          1
         ],
         "yaxis": "y1"
        },
        {
         "hoverinfo": "text",
         "marker": {
          "color": "rgb(243.8856922698749, 249.44284613493747, 255)"
         },
         "orientation": "h",
         "text": "0.06",
         "type": "bar",
         "width": 0.5,
         "x": [
          1
         ],
         "xaxis": "x1",
         "y": [
          1
         ],
         "yaxis": "y1"
        },
        {
         "hoverinfo": "text",
         "marker": {
          "color": "rgb(250.05281677779647, 252.52640838889823, 255)"
         },
         "orientation": "h",
         "text": "0.02",
         "type": "bar",
         "width": 0.5,
         "x": [
          3
         ],
         "xaxis": "x1",
         "y": [
          1
         ],
         "yaxis": "y1"
        },
        {
         "hoverinfo": "text",
         "marker": {
          "color": "rgb(252.3367920153904, 253.66839600769518, 255)"
         },
         "orientation": "h",
         "text": "0.01",
         "type": "bar",
         "width": 0.5,
         "x": [
          2
         ],
         "xaxis": "x1",
         "y": [
          1
         ],
         "yaxis": "y1"
        },
        {
         "hoverinfo": "text",
         "marker": {
          "color": "rgb(223.8072885157395, 239.40364425786976, 255)"
         },
         "orientation": "h",
         "text": "0.16",
         "type": "bar",
         "width": 0.5,
         "x": [
          1
         ],
         "xaxis": "x1",
         "y": [
          1
         ],
         "yaxis": "y1"
        },
        {
         "hoverinfo": "text",
         "marker": {
          "color": "rgb(232.94598888282317, 243.9729944414116, 255)"
         },
         "orientation": "h",
         "text": "0.11",
         "type": "bar",
         "width": 0.5,
         "x": [
          1
         ],
         "xaxis": "x1",
         "y": [
          1
         ],
         "yaxis": "y1"
        },
        {
         "hoverinfo": "text",
         "marker": {
          "color": "rgb(217.0633181372236, 236.03165906861182, 255)"
         },
         "orientation": "h",
         "text": "0.19",
         "type": "bar",
         "width": 0.5,
         "x": [
          3
         ],
         "xaxis": "x1",
         "y": [
          1
         ],
         "yaxis": "y1"
        },
        {
         "hoverinfo": "text",
         "marker": {
          "color": "rgb(234.23956912362442, 244.6197845618122, 255)"
         },
         "orientation": "h",
         "text": "0.1",
         "type": "bar",
         "width": 0.5,
         "x": [
          4
         ],
         "xaxis": "x1",
         "y": [
          1
         ],
         "yaxis": "y1"
        },
        {
         "hoverinfo": "text",
         "marker": {
          "color": "rgb(231.95030132364096, 243.47515066182046, 255)"
         },
         "orientation": "h",
         "text": "0.12",
         "type": "bar",
         "width": 0.5,
         "x": [
          1
         ],
         "xaxis": "x1",
         "y": [
          1
         ],
         "yaxis": "y1"
        }
       ],
       "layout": {
        "annotations": [
         {
          "align": "left",
          "font": {
           "color": "black",
           "family": "Arial",
           "size": 14
          },
          "showarrow": false,
          "text": " ",
          "x": 0.5,
          "xref": "x1",
          "y": 1,
          "yref": "y1"
         },
         {
          "align": "left",
          "font": {
           "color": "black",
           "family": "Arial",
           "size": 14
          },
          "showarrow": false,
          "text": "최",
          "x": 1.5,
          "xref": "x1",
          "y": 1,
          "yref": "y1"
         },
         {
          "align": "left",
          "font": {
           "color": "black",
           "family": "Arial",
           "size": 14
          },
          "showarrow": false,
          "text": "근",
          "x": 2.5,
          "xref": "x1",
          "y": 1,
          "yref": "y1"
         },
         {
          "align": "left",
          "font": {
           "color": "black",
           "family": "Arial",
           "size": 14
          },
          "showarrow": false,
          "text": " ",
          "x": 3.5,
          "xref": "x1",
          "y": 1,
          "yref": "y1"
         },
         {
          "align": "left",
          "font": {
           "color": "black",
           "family": "Arial",
           "size": 14
          },
          "showarrow": false,
          "text": "코",
          "x": 4.5,
          "xref": "x1",
          "y": 1,
          "yref": "y1"
         },
         {
          "align": "left",
          "font": {
           "color": "black",
           "family": "Arial",
           "size": 14
          },
          "showarrow": false,
          "text": "로",
          "x": 5.5,
          "xref": "x1",
          "y": 1,
          "yref": "y1"
         },
         {
          "align": "left",
          "font": {
           "color": "black",
           "family": "Arial",
           "size": 14
          },
          "showarrow": false,
          "text": "나",
          "x": 6.5,
          "xref": "x1",
          "y": 1,
          "yref": "y1"
         },
         {
          "align": "left",
          "font": {
           "color": "black",
           "family": "Arial",
           "size": 14
          },
          "showarrow": false,
          "text": " ",
          "x": 7.5,
          "xref": "x1",
          "y": 1,
          "yref": "y1"
         },
         {
          "align": "left",
          "font": {
           "color": "black",
           "family": "Arial",
           "size": 14
          },
          "showarrow": false,
          "text": "바",
          "x": 8.5,
          "xref": "x1",
          "y": 1,
          "yref": "y1"
         },
         {
          "align": "left",
          "font": {
           "color": "black",
           "family": "Arial",
           "size": 14
          },
          "showarrow": false,
          "text": "이",
          "x": 9.5,
          "xref": "x1",
          "y": 1,
          "yref": "y1"
         },
         {
          "align": "left",
          "font": {
           "color": "black",
           "family": "Arial",
           "size": 14
          },
          "showarrow": false,
          "text": "러",
          "x": 10.5,
          "xref": "x1",
          "y": 1,
          "yref": "y1"
         },
         {
          "align": "left",
          "font": {
           "color": "black",
           "family": "Arial",
           "size": 14
          },
          "showarrow": false,
          "text": "스",
          "x": 11.5,
          "xref": "x1",
          "y": 1,
          "yref": "y1"
         },
         {
          "align": "left",
          "font": {
           "color": "black",
           "family": "Arial",
           "size": 14
          },
          "showarrow": false,
          "text": "의",
          "x": 12.5,
          "xref": "x1",
          "y": 1,
          "yref": "y1"
         },
         {
          "align": "left",
          "font": {
           "color": "black",
           "family": "Arial",
           "size": 14
          },
          "showarrow": false,
          "text": " ",
          "x": 13.5,
          "xref": "x1",
          "y": 1,
          "yref": "y1"
         },
         {
          "align": "left",
          "font": {
           "color": "black",
           "family": "Arial",
           "size": 14
          },
          "showarrow": false,
          "text": "여",
          "x": 14.5,
          "xref": "x1",
          "y": 1,
          "yref": "y1"
         },
         {
          "align": "left",
          "font": {
           "color": "black",
           "family": "Arial",
           "size": 14
          },
          "showarrow": false,
          "text": "파",
          "x": 15.5,
          "xref": "x1",
          "y": 1,
          "yref": "y1"
         },
         {
          "align": "left",
          "font": {
           "color": "black",
           "family": "Arial",
           "size": 14
          },
          "showarrow": false,
          "text": "로",
          "x": 16.5,
          "xref": "x1",
          "y": 1,
          "yref": "y1"
         },
         {
          "align": "left",
          "font": {
           "color": "black",
           "family": "Arial",
           "size": 14
          },
          "showarrow": false,
          "text": " ",
          "x": 17.5,
          "xref": "x1",
          "y": 1,
          "yref": "y1"
         },
         {
          "align": "left",
          "font": {
           "color": "black",
           "family": "Arial",
           "size": 14
          },
          "showarrow": false,
          "text": "연",
          "x": 18.5,
          "xref": "x1",
          "y": 1,
          "yref": "y1"
         },
         {
          "align": "left",
          "font": {
           "color": "black",
           "family": "Arial",
           "size": 14
          },
          "showarrow": false,
          "text": "세",
          "x": 19.5,
          "xref": "x1",
          "y": 1,
          "yref": "y1"
         },
         {
          "align": "left",
          "font": {
           "color": "black",
           "family": "Arial",
           "size": 14
          },
          "showarrow": false,
          "text": "대",
          "x": 20.5,
          "xref": "x1",
          "y": 1,
          "yref": "y1"
         },
         {
          "align": "left",
          "font": {
           "color": "black",
           "family": "Arial",
           "size": 14
          },
          "showarrow": false,
          "text": "학",
          "x": 21.5,
          "xref": "x1",
          "y": 1,
          "yref": "y1"
         },
         {
          "align": "left",
          "font": {
           "color": "black",
           "family": "Arial",
           "size": 14
          },
          "showarrow": false,
          "text": "교",
          "x": 22.5,
          "xref": "x1",
          "y": 1,
          "yref": "y1"
         },
         {
          "align": "left",
          "font": {
           "color": "black",
           "family": "Arial",
           "size": 14
          },
          "showarrow": false,
          "text": " ",
          "x": 23.5,
          "xref": "x1",
          "y": 1,
          "yref": "y1"
         },
         {
          "align": "left",
          "font": {
           "color": "black",
           "family": "Arial",
           "size": 14
          },
          "showarrow": false,
          "text": "제",
          "x": 24.5,
          "xref": "x1",
          "y": 1,
          "yref": "y1"
         },
         {
          "align": "left",
          "font": {
           "color": "black",
           "family": "Arial",
           "size": 14
          },
          "showarrow": false,
          "text": " ",
          "x": 25.5,
          "xref": "x1",
          "y": 1,
          "yref": "y1"
         },
         {
          "align": "left",
          "font": {
           "color": "black",
           "family": "Arial",
           "size": 14
          },
          "showarrow": false,
          "text": "7",
          "x": 26.5,
          "xref": "x1",
          "y": 1,
          "yref": "y1"
         },
         {
          "align": "left",
          "font": {
           "color": "black",
           "family": "Arial",
           "size": 14
          },
          "showarrow": false,
          "text": "6",
          "x": 27.5,
          "xref": "x1",
          "y": 1,
          "yref": "y1"
         },
         {
          "align": "left",
          "font": {
           "color": "black",
           "family": "Arial",
           "size": 14
          },
          "showarrow": false,
          "text": "8",
          "x": 28.5,
          "xref": "x1",
          "y": 1,
          "yref": "y1"
         },
         {
          "align": "left",
          "font": {
           "color": "black",
           "family": "Arial",
           "size": 14
          },
          "showarrow": false,
          "text": "회",
          "x": 29.5,
          "xref": "x1",
          "y": 1,
          "yref": "y1"
         },
         {
          "align": "left",
          "font": {
           "color": "black",
           "family": "Arial",
           "size": 14
          },
          "showarrow": false,
          "text": " ",
          "x": 30.5,
          "xref": "x1",
          "y": 1,
          "yref": "y1"
         },
         {
          "align": "left",
          "font": {
           "color": "black",
           "family": "Arial",
           "size": 14
          },
          "showarrow": false,
          "text": "졸",
          "x": 31.5,
          "xref": "x1",
          "y": 1,
          "yref": "y1"
         },
         {
          "align": "left",
          "font": {
           "color": "black",
           "family": "Arial",
           "size": 14
          },
          "showarrow": false,
          "text": "업",
          "x": 32.5,
          "xref": "x1",
          "y": 1,
          "yref": "y1"
         },
         {
          "align": "left",
          "font": {
           "color": "black",
           "family": "Arial",
           "size": 14
          },
          "showarrow": false,
          "text": "식",
          "x": 33.5,
          "xref": "x1",
          "y": 1,
          "yref": "y1"
         },
         {
          "align": "left",
          "font": {
           "color": "black",
           "family": "Arial",
           "size": 14
          },
          "showarrow": false,
          "text": "이",
          "x": 34.5,
          "xref": "x1",
          "y": 1,
          "yref": "y1"
         },
         {
          "align": "left",
          "font": {
           "color": "black",
           "family": "Arial",
           "size": 14
          },
          "showarrow": false,
          "text": " ",
          "x": 35.5,
          "xref": "x1",
          "y": 1,
          "yref": "y1"
         },
         {
          "align": "left",
          "font": {
           "color": "black",
           "family": "Arial",
           "size": 14
          },
          "showarrow": false,
          "text": "취",
          "x": 36.5,
          "xref": "x1",
          "y": 1,
          "yref": "y1"
         },
         {
          "align": "left",
          "font": {
           "color": "black",
           "family": "Arial",
           "size": 14
          },
          "showarrow": false,
          "text": "소",
          "x": 37.5,
          "xref": "x1",
          "y": 1,
          "yref": "y1"
         },
         {
          "align": "left",
          "font": {
           "color": "black",
           "family": "Arial",
           "size": 14
          },
          "showarrow": false,
          "text": "되",
          "x": 38.5,
          "xref": "x1",
          "y": 1,
          "yref": "y1"
         },
         {
          "align": "left",
          "font": {
           "color": "black",
           "family": "Arial",
           "size": 14
          },
          "showarrow": false,
          "text": "었",
          "x": 39.5,
          "xref": "x1",
          "y": 1,
          "yref": "y1"
         },
         {
          "align": "left",
          "font": {
           "color": "black",
           "family": "Arial",
           "size": 14
          },
          "showarrow": false,
          "text": "음",
          "x": 40.5,
          "xref": "x1",
          "y": 1,
          "yref": "y1"
         },
         {
          "align": "left",
          "font": {
           "color": "black",
           "family": "Arial",
           "size": 14
          },
          "showarrow": false,
          "text": "을",
          "x": 41.5,
          "xref": "x1",
          "y": 1,
          "yref": "y1"
         },
         {
          "align": "left",
          "font": {
           "color": "black",
           "family": "Arial",
           "size": 14
          },
          "showarrow": false,
          "text": " ",
          "x": 42.5,
          "xref": "x1",
          "y": 1,
          "yref": "y1"
         },
         {
          "align": "left",
          "font": {
           "color": "black",
           "family": "Arial",
           "size": 14
          },
          "showarrow": false,
          "text": "알",
          "x": 43.5,
          "xref": "x1",
          "y": 1,
          "yref": "y1"
         },
         {
          "align": "left",
          "font": {
           "color": "black",
           "family": "Arial",
           "size": 14
          },
          "showarrow": false,
          "text": "려",
          "x": 44.5,
          "xref": "x1",
          "y": 1,
          "yref": "y1"
         },
         {
          "align": "left",
          "font": {
           "color": "black",
           "family": "Arial",
           "size": 14
          },
          "showarrow": false,
          "text": "드",
          "x": 45.5,
          "xref": "x1",
          "y": 1,
          "yref": "y1"
         },
         {
          "align": "left",
          "font": {
           "color": "black",
           "family": "Arial",
           "size": 14
          },
          "showarrow": false,
          "text": "립",
          "x": 46.5,
          "xref": "x1",
          "y": 1,
          "yref": "y1"
         },
         {
          "align": "left",
          "font": {
           "color": "black",
           "family": "Arial",
           "size": 14
          },
          "showarrow": false,
          "text": "니",
          "x": 47.5,
          "xref": "x1",
          "y": 1,
          "yref": "y1"
         },
         {
          "align": "left",
          "font": {
           "color": "black",
           "family": "Arial",
           "size": 14
          },
          "showarrow": false,
          "text": "다",
          "x": 48.5,
          "xref": "x1",
          "y": 1,
          "yref": "y1"
         },
         {
          "align": "left",
          "font": {
           "color": "black",
           "family": "Arial",
           "size": 14
          },
          "showarrow": false,
          "text": ".",
          "x": 49.5,
          "xref": "x1",
          "y": 1,
          "yref": "y1"
         }
        ],
        "barmode": "stack",
        "height": 80,
        "images": [
         {
          "layer": "above",
          "opacity": 0.3,
          "sizex": 0.7,
          "sizey": 0.7,
          "source": "https://raw.githubusercontent.com/fingeredman/teanaps/master/data/logo/teanaps_logo_no-bg.png",
          "x": 0.5,
          "xanchor": "center",
          "xref": "paper",
          "y": 0.6,
          "yanchor": "center",
          "yref": "paper"
         }
        ],
        "margin": {
         "b": 30,
         "l": 20,
         "r": 20,
         "t": 10
        },
        "showlegend": false,
        "xaxis1": {
         "anchor": "y1",
         "domain": [
          0,
          1
         ],
         "showgrid": false,
         "showline": false,
         "showticklabels": false,
         "zeroline": false
        },
        "yaxis1": {
         "anchor": "x1",
         "domain": [
          0,
          1
         ],
         "showgrid": false,
         "showline": false,
         "showticklabels": false,
         "zeroline": false
        }
       }
      },
      "text/html": [
       "<div id=\"c4d9a917-1c0d-4b9d-849a-cf8161d29878\" style=\"height: 80px; width: 100%;\" class=\"plotly-graph-div\"></div><script type=\"text/javascript\">require([\"plotly\"], function(Plotly) { window.PLOTLYENV=window.PLOTLYENV || {};window.PLOTLYENV.BASE_URL=\"https://plot.ly\";Plotly.newPlot(\"c4d9a917-1c0d-4b9d-849a-cf8161d29878\", [{\"type\": \"bar\", \"y\": [1], \"x\": [3], \"orientation\": \"h\", \"width\": 0.5, \"text\": \"0.09\", \"hoverinfo\": \"text\", \"marker\": {\"color\": \"rgb(236.456381432343, 245.7281907161715, 255)\"}, \"xaxis\": \"x1\", \"yaxis\": \"y1\"}, {\"type\": \"bar\", \"y\": [1], \"x\": [2], \"orientation\": \"h\", \"width\": 0.5, \"text\": \"0.48\", \"hoverinfo\": \"text\", \"marker\": {\"color\": \"rgb(159.15492069779054, 207.07746034889527, 255)\"}, \"xaxis\": \"x1\", \"yaxis\": \"y1\"}, {\"type\": \"bar\", \"y\": [1], \"x\": [1], \"orientation\": \"h\", \"width\": 0.5, \"text\": \"0.95\", \"hoverinfo\": \"text\", \"marker\": {\"color\": \"rgb(65.15953381803959, 160.07976690901978, 255)\"}, \"xaxis\": \"x1\", \"yaxis\": \"y1\"}, {\"type\": \"bar\", \"y\": [1], \"x\": [1], \"orientation\": \"h\", \"width\": 0.5, \"text\": \"1.0\", \"hoverinfo\": \"text\", \"marker\": {\"color\": \"rgb(55.0, 155.0, 255)\"}, \"xaxis\": \"x1\", \"yaxis\": \"y1\"}, {\"type\": \"bar\", \"y\": [1], \"x\": [5], \"orientation\": \"h\", \"width\": 0.5, \"text\": \"0.96\", \"hoverinfo\": \"text\", \"marker\": {\"color\": \"rgb(63.63586939134058, 159.3179346956703, 255)\"}, \"xaxis\": \"x1\", \"yaxis\": \"y1\"}, {\"type\": \"bar\", \"y\": [1], \"x\": [1], \"orientation\": \"h\", \"width\": 0.5, \"text\": \"0.25\", \"hoverinfo\": \"text\", \"marker\": {\"color\": \"rgb(204.3699774266039, 229.68498871330195, 255)\"}, \"xaxis\": \"x1\", \"yaxis\": \"y1\"}, {\"type\": \"bar\", \"y\": [1], \"x\": [2], \"orientation\": \"h\", \"width\": 0.5, \"text\": \"0.12\", \"hoverinfo\": \"text\", \"marker\": {\"color\": \"rgb(230.8128261130459, 242.90641305652295, 255)\"}, \"xaxis\": \"x1\", \"yaxis\": \"y1\"}, {\"type\": \"bar\", \"y\": [1], \"x\": [1], \"orientation\": \"h\", \"width\": 0.5, \"text\": \"0.02\", \"hoverinfo\": \"text\", \"marker\": {\"color\": \"rgb(251.5250790188296, 253.2625395094148, 255)\"}, \"xaxis\": \"x1\", \"yaxis\": \"y1\"}, {\"type\": \"bar\", \"y\": [1], \"x\": [1], \"orientation\": \"h\", \"width\": 0.5, \"text\": \"0.0\", \"hoverinfo\": \"text\", \"marker\": {\"color\": \"rgb(254.72340768788592, 254.86170384394296, 255)\"}, \"xaxis\": \"x1\", \"yaxis\": \"y1\"}, {\"type\": \"bar\", \"y\": [1], \"x\": [4], \"orientation\": \"h\", \"width\": 0.5, \"text\": \"0.69\", \"hoverinfo\": \"text\", \"marker\": {\"color\": \"rgb(116.60184686948125, 185.80092343474064, 255)\"}, \"xaxis\": \"x1\", \"yaxis\": \"y1\"}, {\"type\": \"bar\", \"y\": [1], \"x\": [2], \"orientation\": \"h\", \"width\": 0.5, \"text\": \"0.14\", \"hoverinfo\": \"text\", \"marker\": {\"color\": \"rgb(226.81568973357082, 240.9078448667854, 255)\"}, \"xaxis\": \"x1\", \"yaxis\": \"y1\"}, {\"type\": \"bar\", \"y\": [1], \"x\": [2], \"orientation\": \"h\", \"width\": 0.5, \"text\": \"0.09\", \"hoverinfo\": \"text\", \"marker\": {\"color\": \"rgb(236.8952365979418, 245.9476182989709, 255)\"}, \"xaxis\": \"x1\", \"yaxis\": \"y1\"}, {\"type\": \"bar\", \"y\": [1], \"x\": [2], \"orientation\": \"h\", \"width\": 0.5, \"text\": \"0.59\", \"hoverinfo\": \"text\", \"marker\": {\"color\": \"rgb(137.02585553576603, 196.012927767883, 255)\"}, \"xaxis\": \"x1\", \"yaxis\": \"y1\"}, {\"type\": \"bar\", \"y\": [1], \"x\": [2], \"orientation\": \"h\", \"width\": 0.5, \"text\": \"0.87\", \"hoverinfo\": \"text\", \"marker\": {\"color\": \"rgb(81.40764516178999, 168.203822580895, 255)\"}, \"xaxis\": \"x1\", \"yaxis\": \"y1\"}, {\"type\": \"bar\", \"y\": [1], \"x\": [1], \"orientation\": \"h\", \"width\": 0.5, \"text\": \"0.82\", \"hoverinfo\": \"text\", \"marker\": {\"color\": \"rgb(90.27836878585589, 172.63918439292794, 255)\"}, \"xaxis\": \"x1\", \"yaxis\": \"y1\"}, {\"type\": \"bar\", \"y\": [1], \"x\": [3], \"orientation\": \"h\", \"width\": 0.5, \"text\": \"0.18\", \"hoverinfo\": \"text\", \"marker\": {\"color\": \"rgb(219.32046955211794, 237.16023477605896, 255)\"}, \"xaxis\": \"x1\", \"yaxis\": \"y1\"}, {\"type\": \"bar\", \"y\": [1], \"x\": [1], \"orientation\": \"h\", \"width\": 0.5, \"text\": \"0.25\", \"hoverinfo\": \"text\", \"marker\": {\"color\": \"rgb(204.09428826341198, 229.54714413170598, 255)\"}, \"xaxis\": \"x1\", \"yaxis\": \"y1\"}, {\"type\": \"bar\", \"y\": [1], \"x\": [1], \"orientation\": \"h\", \"width\": 0.5, \"text\": \"0.06\", \"hoverinfo\": \"text\", \"marker\": {\"color\": \"rgb(243.8856922698749, 249.44284613493747, 255)\"}, \"xaxis\": \"x1\", \"yaxis\": \"y1\"}, {\"type\": \"bar\", \"y\": [1], \"x\": [3], \"orientation\": \"h\", \"width\": 0.5, \"text\": \"0.02\", \"hoverinfo\": \"text\", \"marker\": {\"color\": \"rgb(250.05281677779647, 252.52640838889823, 255)\"}, \"xaxis\": \"x1\", \"yaxis\": \"y1\"}, {\"type\": \"bar\", \"y\": [1], \"x\": [2], \"orientation\": \"h\", \"width\": 0.5, \"text\": \"0.01\", \"hoverinfo\": \"text\", \"marker\": {\"color\": \"rgb(252.3367920153904, 253.66839600769518, 255)\"}, \"xaxis\": \"x1\", \"yaxis\": \"y1\"}, {\"type\": \"bar\", \"y\": [1], \"x\": [1], \"orientation\": \"h\", \"width\": 0.5, \"text\": \"0.16\", \"hoverinfo\": \"text\", \"marker\": {\"color\": \"rgb(223.8072885157395, 239.40364425786976, 255)\"}, \"xaxis\": \"x1\", \"yaxis\": \"y1\"}, {\"type\": \"bar\", \"y\": [1], \"x\": [1], \"orientation\": \"h\", \"width\": 0.5, \"text\": \"0.11\", \"hoverinfo\": \"text\", \"marker\": {\"color\": \"rgb(232.94598888282317, 243.9729944414116, 255)\"}, \"xaxis\": \"x1\", \"yaxis\": \"y1\"}, {\"type\": \"bar\", \"y\": [1], \"x\": [3], \"orientation\": \"h\", \"width\": 0.5, \"text\": \"0.19\", \"hoverinfo\": \"text\", \"marker\": {\"color\": \"rgb(217.0633181372236, 236.03165906861182, 255)\"}, \"xaxis\": \"x1\", \"yaxis\": \"y1\"}, {\"type\": \"bar\", \"y\": [1], \"x\": [4], \"orientation\": \"h\", \"width\": 0.5, \"text\": \"0.1\", \"hoverinfo\": \"text\", \"marker\": {\"color\": \"rgb(234.23956912362442, 244.6197845618122, 255)\"}, \"xaxis\": \"x1\", \"yaxis\": \"y1\"}, {\"type\": \"bar\", \"y\": [1], \"x\": [1], \"orientation\": \"h\", \"width\": 0.5, \"text\": \"0.12\", \"hoverinfo\": \"text\", \"marker\": {\"color\": \"rgb(231.95030132364096, 243.47515066182046, 255)\"}, \"xaxis\": \"x1\", \"yaxis\": \"y1\"}], {\"xaxis1\": {\"domain\": [0.0, 1.0], \"anchor\": \"y1\", \"showgrid\": false, \"showline\": false, \"showticklabels\": false, \"zeroline\": false}, \"yaxis1\": {\"domain\": [0.0, 1.0], \"anchor\": \"x1\", \"showgrid\": false, \"showline\": false, \"showticklabels\": false, \"zeroline\": false}, \"barmode\": \"stack\", \"showlegend\": false, \"margin\": {\"b\": 30, \"l\": 20, \"r\": 20, \"t\": 10}, \"annotations\": [{\"xref\": \"x1\", \"yref\": \"y1\", \"x\": 0.5, \"y\": 1, \"text\": \" \", \"align\": \"left\", \"font\": {\"family\": \"Arial\", \"size\": 14, \"color\": \"black\"}, \"showarrow\": false}, {\"xref\": \"x1\", \"yref\": \"y1\", \"x\": 1.5, \"y\": 1, \"text\": \"\\ucd5c\", \"align\": \"left\", \"font\": {\"family\": \"Arial\", \"size\": 14, \"color\": \"black\"}, \"showarrow\": false}, {\"xref\": \"x1\", \"yref\": \"y1\", \"x\": 2.5, \"y\": 1, \"text\": \"\\uadfc\", \"align\": \"left\", \"font\": {\"family\": \"Arial\", \"size\": 14, \"color\": \"black\"}, \"showarrow\": false}, {\"xref\": \"x1\", \"yref\": \"y1\", \"x\": 3.5, \"y\": 1, \"text\": \" \", \"align\": \"left\", \"font\": {\"family\": \"Arial\", \"size\": 14, \"color\": \"black\"}, \"showarrow\": false}, {\"xref\": \"x1\", \"yref\": \"y1\", \"x\": 4.5, \"y\": 1, \"text\": \"\\ucf54\", \"align\": \"left\", \"font\": {\"family\": \"Arial\", \"size\": 14, \"color\": \"black\"}, \"showarrow\": false}, {\"xref\": \"x1\", \"yref\": \"y1\", \"x\": 5.5, \"y\": 1, \"text\": \"\\ub85c\", \"align\": \"left\", \"font\": {\"family\": \"Arial\", \"size\": 14, \"color\": \"black\"}, \"showarrow\": false}, {\"xref\": \"x1\", \"yref\": \"y1\", \"x\": 6.5, \"y\": 1, \"text\": \"\\ub098\", \"align\": \"left\", \"font\": {\"family\": \"Arial\", \"size\": 14, \"color\": \"black\"}, \"showarrow\": false}, {\"xref\": \"x1\", \"yref\": \"y1\", \"x\": 7.5, \"y\": 1, \"text\": \" \", \"align\": \"left\", \"font\": {\"family\": \"Arial\", \"size\": 14, \"color\": \"black\"}, \"showarrow\": false}, {\"xref\": \"x1\", \"yref\": \"y1\", \"x\": 8.5, \"y\": 1, \"text\": \"\\ubc14\", \"align\": \"left\", \"font\": {\"family\": \"Arial\", \"size\": 14, \"color\": \"black\"}, \"showarrow\": false}, {\"xref\": \"x1\", \"yref\": \"y1\", \"x\": 9.5, \"y\": 1, \"text\": \"\\uc774\", \"align\": \"left\", \"font\": {\"family\": \"Arial\", \"size\": 14, \"color\": \"black\"}, \"showarrow\": false}, {\"xref\": \"x1\", \"yref\": \"y1\", \"x\": 10.5, \"y\": 1, \"text\": \"\\ub7ec\", \"align\": \"left\", \"font\": {\"family\": \"Arial\", \"size\": 14, \"color\": \"black\"}, \"showarrow\": false}, {\"xref\": \"x1\", \"yref\": \"y1\", \"x\": 11.5, \"y\": 1, \"text\": \"\\uc2a4\", \"align\": \"left\", \"font\": {\"family\": \"Arial\", \"size\": 14, \"color\": \"black\"}, \"showarrow\": false}, {\"xref\": \"x1\", \"yref\": \"y1\", \"x\": 12.5, \"y\": 1, \"text\": \"\\uc758\", \"align\": \"left\", \"font\": {\"family\": \"Arial\", \"size\": 14, \"color\": \"black\"}, \"showarrow\": false}, {\"xref\": \"x1\", \"yref\": \"y1\", \"x\": 13.5, \"y\": 1, \"text\": \" \", \"align\": \"left\", \"font\": {\"family\": \"Arial\", \"size\": 14, \"color\": \"black\"}, \"showarrow\": false}, {\"xref\": \"x1\", \"yref\": \"y1\", \"x\": 14.5, \"y\": 1, \"text\": \"\\uc5ec\", \"align\": \"left\", \"font\": {\"family\": \"Arial\", \"size\": 14, \"color\": \"black\"}, \"showarrow\": false}, {\"xref\": \"x1\", \"yref\": \"y1\", \"x\": 15.5, \"y\": 1, \"text\": \"\\ud30c\", \"align\": \"left\", \"font\": {\"family\": \"Arial\", \"size\": 14, \"color\": \"black\"}, \"showarrow\": false}, {\"xref\": \"x1\", \"yref\": \"y1\", \"x\": 16.5, \"y\": 1, \"text\": \"\\ub85c\", \"align\": \"left\", \"font\": {\"family\": \"Arial\", \"size\": 14, \"color\": \"black\"}, \"showarrow\": false}, {\"xref\": \"x1\", \"yref\": \"y1\", \"x\": 17.5, \"y\": 1, \"text\": \" \", \"align\": \"left\", \"font\": {\"family\": \"Arial\", \"size\": 14, \"color\": \"black\"}, \"showarrow\": false}, {\"xref\": \"x1\", \"yref\": \"y1\", \"x\": 18.5, \"y\": 1, \"text\": \"\\uc5f0\", \"align\": \"left\", \"font\": {\"family\": \"Arial\", \"size\": 14, \"color\": \"black\"}, \"showarrow\": false}, {\"xref\": \"x1\", \"yref\": \"y1\", \"x\": 19.5, \"y\": 1, \"text\": \"\\uc138\", \"align\": \"left\", \"font\": {\"family\": \"Arial\", \"size\": 14, \"color\": \"black\"}, \"showarrow\": false}, {\"xref\": \"x1\", \"yref\": \"y1\", \"x\": 20.5, \"y\": 1, \"text\": \"\\ub300\", \"align\": \"left\", \"font\": {\"family\": \"Arial\", \"size\": 14, \"color\": \"black\"}, \"showarrow\": false}, {\"xref\": \"x1\", \"yref\": \"y1\", \"x\": 21.5, \"y\": 1, \"text\": \"\\ud559\", \"align\": \"left\", \"font\": {\"family\": \"Arial\", \"size\": 14, \"color\": \"black\"}, \"showarrow\": false}, {\"xref\": \"x1\", \"yref\": \"y1\", \"x\": 22.5, \"y\": 1, \"text\": \"\\uad50\", \"align\": \"left\", \"font\": {\"family\": \"Arial\", \"size\": 14, \"color\": \"black\"}, \"showarrow\": false}, {\"xref\": \"x1\", \"yref\": \"y1\", \"x\": 23.5, \"y\": 1, \"text\": \" \", \"align\": \"left\", \"font\": {\"family\": \"Arial\", \"size\": 14, \"color\": \"black\"}, \"showarrow\": false}, {\"xref\": \"x1\", \"yref\": \"y1\", \"x\": 24.5, \"y\": 1, \"text\": \"\\uc81c\", \"align\": \"left\", \"font\": {\"family\": \"Arial\", \"size\": 14, \"color\": \"black\"}, \"showarrow\": false}, {\"xref\": \"x1\", \"yref\": \"y1\", \"x\": 25.5, \"y\": 1, \"text\": \" \", \"align\": \"left\", \"font\": {\"family\": \"Arial\", \"size\": 14, \"color\": \"black\"}, \"showarrow\": false}, {\"xref\": \"x1\", \"yref\": \"y1\", \"x\": 26.5, \"y\": 1, \"text\": \"7\", \"align\": \"left\", \"font\": {\"family\": \"Arial\", \"size\": 14, \"color\": \"black\"}, \"showarrow\": false}, {\"xref\": \"x1\", \"yref\": \"y1\", \"x\": 27.5, \"y\": 1, \"text\": \"6\", \"align\": \"left\", \"font\": {\"family\": \"Arial\", \"size\": 14, \"color\": \"black\"}, \"showarrow\": false}, {\"xref\": \"x1\", \"yref\": \"y1\", \"x\": 28.5, \"y\": 1, \"text\": \"8\", \"align\": \"left\", \"font\": {\"family\": \"Arial\", \"size\": 14, \"color\": \"black\"}, \"showarrow\": false}, {\"xref\": \"x1\", \"yref\": \"y1\", \"x\": 29.5, \"y\": 1, \"text\": \"\\ud68c\", \"align\": \"left\", \"font\": {\"family\": \"Arial\", \"size\": 14, \"color\": \"black\"}, \"showarrow\": false}, {\"xref\": \"x1\", \"yref\": \"y1\", \"x\": 30.5, \"y\": 1, \"text\": \" \", \"align\": \"left\", \"font\": {\"family\": \"Arial\", \"size\": 14, \"color\": \"black\"}, \"showarrow\": false}, {\"xref\": \"x1\", \"yref\": \"y1\", \"x\": 31.5, \"y\": 1, \"text\": \"\\uc878\", \"align\": \"left\", \"font\": {\"family\": \"Arial\", \"size\": 14, \"color\": \"black\"}, \"showarrow\": false}, {\"xref\": \"x1\", \"yref\": \"y1\", \"x\": 32.5, \"y\": 1, \"text\": \"\\uc5c5\", \"align\": \"left\", \"font\": {\"family\": \"Arial\", \"size\": 14, \"color\": \"black\"}, \"showarrow\": false}, {\"xref\": \"x1\", \"yref\": \"y1\", \"x\": 33.5, \"y\": 1, \"text\": \"\\uc2dd\", \"align\": \"left\", \"font\": {\"family\": \"Arial\", \"size\": 14, \"color\": \"black\"}, \"showarrow\": false}, {\"xref\": \"x1\", \"yref\": \"y1\", \"x\": 34.5, \"y\": 1, \"text\": \"\\uc774\", \"align\": \"left\", \"font\": {\"family\": \"Arial\", \"size\": 14, \"color\": \"black\"}, \"showarrow\": false}, {\"xref\": \"x1\", \"yref\": \"y1\", \"x\": 35.5, \"y\": 1, \"text\": \" \", \"align\": \"left\", \"font\": {\"family\": \"Arial\", \"size\": 14, \"color\": \"black\"}, \"showarrow\": false}, {\"xref\": \"x1\", \"yref\": \"y1\", \"x\": 36.5, \"y\": 1, \"text\": \"\\ucde8\", \"align\": \"left\", \"font\": {\"family\": \"Arial\", \"size\": 14, \"color\": \"black\"}, \"showarrow\": false}, {\"xref\": \"x1\", \"yref\": \"y1\", \"x\": 37.5, \"y\": 1, \"text\": \"\\uc18c\", \"align\": \"left\", \"font\": {\"family\": \"Arial\", \"size\": 14, \"color\": \"black\"}, \"showarrow\": false}, {\"xref\": \"x1\", \"yref\": \"y1\", \"x\": 38.5, \"y\": 1, \"text\": \"\\ub418\", \"align\": \"left\", \"font\": {\"family\": \"Arial\", \"size\": 14, \"color\": \"black\"}, \"showarrow\": false}, {\"xref\": \"x1\", \"yref\": \"y1\", \"x\": 39.5, \"y\": 1, \"text\": \"\\uc5c8\", \"align\": \"left\", \"font\": {\"family\": \"Arial\", \"size\": 14, \"color\": \"black\"}, \"showarrow\": false}, {\"xref\": \"x1\", \"yref\": \"y1\", \"x\": 40.5, \"y\": 1, \"text\": \"\\uc74c\", \"align\": \"left\", \"font\": {\"family\": \"Arial\", \"size\": 14, \"color\": \"black\"}, \"showarrow\": false}, {\"xref\": \"x1\", \"yref\": \"y1\", \"x\": 41.5, \"y\": 1, \"text\": \"\\uc744\", \"align\": \"left\", \"font\": {\"family\": \"Arial\", \"size\": 14, \"color\": \"black\"}, \"showarrow\": false}, {\"xref\": \"x1\", \"yref\": \"y1\", \"x\": 42.5, \"y\": 1, \"text\": \" \", \"align\": \"left\", \"font\": {\"family\": \"Arial\", \"size\": 14, \"color\": \"black\"}, \"showarrow\": false}, {\"xref\": \"x1\", \"yref\": \"y1\", \"x\": 43.5, \"y\": 1, \"text\": \"\\uc54c\", \"align\": \"left\", \"font\": {\"family\": \"Arial\", \"size\": 14, \"color\": \"black\"}, \"showarrow\": false}, {\"xref\": \"x1\", \"yref\": \"y1\", \"x\": 44.5, \"y\": 1, \"text\": \"\\ub824\", \"align\": \"left\", \"font\": {\"family\": \"Arial\", \"size\": 14, \"color\": \"black\"}, \"showarrow\": false}, {\"xref\": \"x1\", \"yref\": \"y1\", \"x\": 45.5, \"y\": 1, \"text\": \"\\ub4dc\", \"align\": \"left\", \"font\": {\"family\": \"Arial\", \"size\": 14, \"color\": \"black\"}, \"showarrow\": false}, {\"xref\": \"x1\", \"yref\": \"y1\", \"x\": 46.5, \"y\": 1, \"text\": \"\\ub9bd\", \"align\": \"left\", \"font\": {\"family\": \"Arial\", \"size\": 14, \"color\": \"black\"}, \"showarrow\": false}, {\"xref\": \"x1\", \"yref\": \"y1\", \"x\": 47.5, \"y\": 1, \"text\": \"\\ub2c8\", \"align\": \"left\", \"font\": {\"family\": \"Arial\", \"size\": 14, \"color\": \"black\"}, \"showarrow\": false}, {\"xref\": \"x1\", \"yref\": \"y1\", \"x\": 48.5, \"y\": 1, \"text\": \"\\ub2e4\", \"align\": \"left\", \"font\": {\"family\": \"Arial\", \"size\": 14, \"color\": \"black\"}, \"showarrow\": false}, {\"xref\": \"x1\", \"yref\": \"y1\", \"x\": 49.5, \"y\": 1, \"text\": \".\", \"align\": \"left\", \"font\": {\"family\": \"Arial\", \"size\": 14, \"color\": \"black\"}, \"showarrow\": false}], \"height\": 80, \"images\": [{\"source\": \"https://raw.githubusercontent.com/fingeredman/teanaps/master/data/logo/teanaps_logo_no-bg.png\", \"xref\": \"paper\", \"yref\": \"paper\", \"x\": 0.5, \"y\": 0.6, \"sizex\": 0.7, \"sizey\": 0.7, \"xanchor\": \"center\", \"yanchor\": \"center\", \"opacity\": 0.3, \"layer\": \"above\"}]}, {\"showLink\": true, \"linkText\": \"Export to plot.ly\"})});</script>"
      ],
      "text/vnd.plotly.v1+html": [
       "<div id=\"c4d9a917-1c0d-4b9d-849a-cf8161d29878\" style=\"height: 80px; width: 100%;\" class=\"plotly-graph-div\"></div><script type=\"text/javascript\">require([\"plotly\"], function(Plotly) { window.PLOTLYENV=window.PLOTLYENV || {};window.PLOTLYENV.BASE_URL=\"https://plot.ly\";Plotly.newPlot(\"c4d9a917-1c0d-4b9d-849a-cf8161d29878\", [{\"type\": \"bar\", \"y\": [1], \"x\": [3], \"orientation\": \"h\", \"width\": 0.5, \"text\": \"0.09\", \"hoverinfo\": \"text\", \"marker\": {\"color\": \"rgb(236.456381432343, 245.7281907161715, 255)\"}, \"xaxis\": \"x1\", \"yaxis\": \"y1\"}, {\"type\": \"bar\", \"y\": [1], \"x\": [2], \"orientation\": \"h\", \"width\": 0.5, \"text\": \"0.48\", \"hoverinfo\": \"text\", \"marker\": {\"color\": \"rgb(159.15492069779054, 207.07746034889527, 255)\"}, \"xaxis\": \"x1\", \"yaxis\": \"y1\"}, {\"type\": \"bar\", \"y\": [1], \"x\": [1], \"orientation\": \"h\", \"width\": 0.5, \"text\": \"0.95\", \"hoverinfo\": \"text\", \"marker\": {\"color\": \"rgb(65.15953381803959, 160.07976690901978, 255)\"}, \"xaxis\": \"x1\", \"yaxis\": \"y1\"}, {\"type\": \"bar\", \"y\": [1], \"x\": [1], \"orientation\": \"h\", \"width\": 0.5, \"text\": \"1.0\", \"hoverinfo\": \"text\", \"marker\": {\"color\": \"rgb(55.0, 155.0, 255)\"}, \"xaxis\": \"x1\", \"yaxis\": \"y1\"}, {\"type\": \"bar\", \"y\": [1], \"x\": [5], \"orientation\": \"h\", \"width\": 0.5, \"text\": \"0.96\", \"hoverinfo\": \"text\", \"marker\": {\"color\": \"rgb(63.63586939134058, 159.3179346956703, 255)\"}, \"xaxis\": \"x1\", \"yaxis\": \"y1\"}, {\"type\": \"bar\", \"y\": [1], \"x\": [1], \"orientation\": \"h\", \"width\": 0.5, \"text\": \"0.25\", \"hoverinfo\": \"text\", \"marker\": {\"color\": \"rgb(204.3699774266039, 229.68498871330195, 255)\"}, \"xaxis\": \"x1\", \"yaxis\": \"y1\"}, {\"type\": \"bar\", \"y\": [1], \"x\": [2], \"orientation\": \"h\", \"width\": 0.5, \"text\": \"0.12\", \"hoverinfo\": \"text\", \"marker\": {\"color\": \"rgb(230.8128261130459, 242.90641305652295, 255)\"}, \"xaxis\": \"x1\", \"yaxis\": \"y1\"}, {\"type\": \"bar\", \"y\": [1], \"x\": [1], \"orientation\": \"h\", \"width\": 0.5, \"text\": \"0.02\", \"hoverinfo\": \"text\", \"marker\": {\"color\": \"rgb(251.5250790188296, 253.2625395094148, 255)\"}, \"xaxis\": \"x1\", \"yaxis\": \"y1\"}, {\"type\": \"bar\", \"y\": [1], \"x\": [1], \"orientation\": \"h\", \"width\": 0.5, \"text\": \"0.0\", \"hoverinfo\": \"text\", \"marker\": {\"color\": \"rgb(254.72340768788592, 254.86170384394296, 255)\"}, \"xaxis\": \"x1\", \"yaxis\": \"y1\"}, {\"type\": \"bar\", \"y\": [1], \"x\": [4], \"orientation\": \"h\", \"width\": 0.5, \"text\": \"0.69\", \"hoverinfo\": \"text\", \"marker\": {\"color\": \"rgb(116.60184686948125, 185.80092343474064, 255)\"}, \"xaxis\": \"x1\", \"yaxis\": \"y1\"}, {\"type\": \"bar\", \"y\": [1], \"x\": [2], \"orientation\": \"h\", \"width\": 0.5, \"text\": \"0.14\", \"hoverinfo\": \"text\", \"marker\": {\"color\": \"rgb(226.81568973357082, 240.9078448667854, 255)\"}, \"xaxis\": \"x1\", \"yaxis\": \"y1\"}, {\"type\": \"bar\", \"y\": [1], \"x\": [2], \"orientation\": \"h\", \"width\": 0.5, \"text\": \"0.09\", \"hoverinfo\": \"text\", \"marker\": {\"color\": \"rgb(236.8952365979418, 245.9476182989709, 255)\"}, \"xaxis\": \"x1\", \"yaxis\": \"y1\"}, {\"type\": \"bar\", \"y\": [1], \"x\": [2], \"orientation\": \"h\", \"width\": 0.5, \"text\": \"0.59\", \"hoverinfo\": \"text\", \"marker\": {\"color\": \"rgb(137.02585553576603, 196.012927767883, 255)\"}, \"xaxis\": \"x1\", \"yaxis\": \"y1\"}, {\"type\": \"bar\", \"y\": [1], \"x\": [2], \"orientation\": \"h\", \"width\": 0.5, \"text\": \"0.87\", \"hoverinfo\": \"text\", \"marker\": {\"color\": \"rgb(81.40764516178999, 168.203822580895, 255)\"}, \"xaxis\": \"x1\", \"yaxis\": \"y1\"}, {\"type\": \"bar\", \"y\": [1], \"x\": [1], \"orientation\": \"h\", \"width\": 0.5, \"text\": \"0.82\", \"hoverinfo\": \"text\", \"marker\": {\"color\": \"rgb(90.27836878585589, 172.63918439292794, 255)\"}, \"xaxis\": \"x1\", \"yaxis\": \"y1\"}, {\"type\": \"bar\", \"y\": [1], \"x\": [3], \"orientation\": \"h\", \"width\": 0.5, \"text\": \"0.18\", \"hoverinfo\": \"text\", \"marker\": {\"color\": \"rgb(219.32046955211794, 237.16023477605896, 255)\"}, \"xaxis\": \"x1\", \"yaxis\": \"y1\"}, {\"type\": \"bar\", \"y\": [1], \"x\": [1], \"orientation\": \"h\", \"width\": 0.5, \"text\": \"0.25\", \"hoverinfo\": \"text\", \"marker\": {\"color\": \"rgb(204.09428826341198, 229.54714413170598, 255)\"}, \"xaxis\": \"x1\", \"yaxis\": \"y1\"}, {\"type\": \"bar\", \"y\": [1], \"x\": [1], \"orientation\": \"h\", \"width\": 0.5, \"text\": \"0.06\", \"hoverinfo\": \"text\", \"marker\": {\"color\": \"rgb(243.8856922698749, 249.44284613493747, 255)\"}, \"xaxis\": \"x1\", \"yaxis\": \"y1\"}, {\"type\": \"bar\", \"y\": [1], \"x\": [3], \"orientation\": \"h\", \"width\": 0.5, \"text\": \"0.02\", \"hoverinfo\": \"text\", \"marker\": {\"color\": \"rgb(250.05281677779647, 252.52640838889823, 255)\"}, \"xaxis\": \"x1\", \"yaxis\": \"y1\"}, {\"type\": \"bar\", \"y\": [1], \"x\": [2], \"orientation\": \"h\", \"width\": 0.5, \"text\": \"0.01\", \"hoverinfo\": \"text\", \"marker\": {\"color\": \"rgb(252.3367920153904, 253.66839600769518, 255)\"}, \"xaxis\": \"x1\", \"yaxis\": \"y1\"}, {\"type\": \"bar\", \"y\": [1], \"x\": [1], \"orientation\": \"h\", \"width\": 0.5, \"text\": \"0.16\", \"hoverinfo\": \"text\", \"marker\": {\"color\": \"rgb(223.8072885157395, 239.40364425786976, 255)\"}, \"xaxis\": \"x1\", \"yaxis\": \"y1\"}, {\"type\": \"bar\", \"y\": [1], \"x\": [1], \"orientation\": \"h\", \"width\": 0.5, \"text\": \"0.11\", \"hoverinfo\": \"text\", \"marker\": {\"color\": \"rgb(232.94598888282317, 243.9729944414116, 255)\"}, \"xaxis\": \"x1\", \"yaxis\": \"y1\"}, {\"type\": \"bar\", \"y\": [1], \"x\": [3], \"orientation\": \"h\", \"width\": 0.5, \"text\": \"0.19\", \"hoverinfo\": \"text\", \"marker\": {\"color\": \"rgb(217.0633181372236, 236.03165906861182, 255)\"}, \"xaxis\": \"x1\", \"yaxis\": \"y1\"}, {\"type\": \"bar\", \"y\": [1], \"x\": [4], \"orientation\": \"h\", \"width\": 0.5, \"text\": \"0.1\", \"hoverinfo\": \"text\", \"marker\": {\"color\": \"rgb(234.23956912362442, 244.6197845618122, 255)\"}, \"xaxis\": \"x1\", \"yaxis\": \"y1\"}, {\"type\": \"bar\", \"y\": [1], \"x\": [1], \"orientation\": \"h\", \"width\": 0.5, \"text\": \"0.12\", \"hoverinfo\": \"text\", \"marker\": {\"color\": \"rgb(231.95030132364096, 243.47515066182046, 255)\"}, \"xaxis\": \"x1\", \"yaxis\": \"y1\"}], {\"xaxis1\": {\"domain\": [0.0, 1.0], \"anchor\": \"y1\", \"showgrid\": false, \"showline\": false, \"showticklabels\": false, \"zeroline\": false}, \"yaxis1\": {\"domain\": [0.0, 1.0], \"anchor\": \"x1\", \"showgrid\": false, \"showline\": false, \"showticklabels\": false, \"zeroline\": false}, \"barmode\": \"stack\", \"showlegend\": false, \"margin\": {\"b\": 30, \"l\": 20, \"r\": 20, \"t\": 10}, \"annotations\": [{\"xref\": \"x1\", \"yref\": \"y1\", \"x\": 0.5, \"y\": 1, \"text\": \" \", \"align\": \"left\", \"font\": {\"family\": \"Arial\", \"size\": 14, \"color\": \"black\"}, \"showarrow\": false}, {\"xref\": \"x1\", \"yref\": \"y1\", \"x\": 1.5, \"y\": 1, \"text\": \"\\ucd5c\", \"align\": \"left\", \"font\": {\"family\": \"Arial\", \"size\": 14, \"color\": \"black\"}, \"showarrow\": false}, {\"xref\": \"x1\", \"yref\": \"y1\", \"x\": 2.5, \"y\": 1, \"text\": \"\\uadfc\", \"align\": \"left\", \"font\": {\"family\": \"Arial\", \"size\": 14, \"color\": \"black\"}, \"showarrow\": false}, {\"xref\": \"x1\", \"yref\": \"y1\", \"x\": 3.5, \"y\": 1, \"text\": \" \", \"align\": \"left\", \"font\": {\"family\": \"Arial\", \"size\": 14, \"color\": \"black\"}, \"showarrow\": false}, {\"xref\": \"x1\", \"yref\": \"y1\", \"x\": 4.5, \"y\": 1, \"text\": \"\\ucf54\", \"align\": \"left\", \"font\": {\"family\": \"Arial\", \"size\": 14, \"color\": \"black\"}, \"showarrow\": false}, {\"xref\": \"x1\", \"yref\": \"y1\", \"x\": 5.5, \"y\": 1, \"text\": \"\\ub85c\", \"align\": \"left\", \"font\": {\"family\": \"Arial\", \"size\": 14, \"color\": \"black\"}, \"showarrow\": false}, {\"xref\": \"x1\", \"yref\": \"y1\", \"x\": 6.5, \"y\": 1, \"text\": \"\\ub098\", \"align\": \"left\", \"font\": {\"family\": \"Arial\", \"size\": 14, \"color\": \"black\"}, \"showarrow\": false}, {\"xref\": \"x1\", \"yref\": \"y1\", \"x\": 7.5, \"y\": 1, \"text\": \" \", \"align\": \"left\", \"font\": {\"family\": \"Arial\", \"size\": 14, \"color\": \"black\"}, \"showarrow\": false}, {\"xref\": \"x1\", \"yref\": \"y1\", \"x\": 8.5, \"y\": 1, \"text\": \"\\ubc14\", \"align\": \"left\", \"font\": {\"family\": \"Arial\", \"size\": 14, \"color\": \"black\"}, \"showarrow\": false}, {\"xref\": \"x1\", \"yref\": \"y1\", \"x\": 9.5, \"y\": 1, \"text\": \"\\uc774\", \"align\": \"left\", \"font\": {\"family\": \"Arial\", \"size\": 14, \"color\": \"black\"}, \"showarrow\": false}, {\"xref\": \"x1\", \"yref\": \"y1\", \"x\": 10.5, \"y\": 1, \"text\": \"\\ub7ec\", \"align\": \"left\", \"font\": {\"family\": \"Arial\", \"size\": 14, \"color\": \"black\"}, \"showarrow\": false}, {\"xref\": \"x1\", \"yref\": \"y1\", \"x\": 11.5, \"y\": 1, \"text\": \"\\uc2a4\", \"align\": \"left\", \"font\": {\"family\": \"Arial\", \"size\": 14, \"color\": \"black\"}, \"showarrow\": false}, {\"xref\": \"x1\", \"yref\": \"y1\", \"x\": 12.5, \"y\": 1, \"text\": \"\\uc758\", \"align\": \"left\", \"font\": {\"family\": \"Arial\", \"size\": 14, \"color\": \"black\"}, \"showarrow\": false}, {\"xref\": \"x1\", \"yref\": \"y1\", \"x\": 13.5, \"y\": 1, \"text\": \" \", \"align\": \"left\", \"font\": {\"family\": \"Arial\", \"size\": 14, \"color\": \"black\"}, \"showarrow\": false}, {\"xref\": \"x1\", \"yref\": \"y1\", \"x\": 14.5, \"y\": 1, \"text\": \"\\uc5ec\", \"align\": \"left\", \"font\": {\"family\": \"Arial\", \"size\": 14, \"color\": \"black\"}, \"showarrow\": false}, {\"xref\": \"x1\", \"yref\": \"y1\", \"x\": 15.5, \"y\": 1, \"text\": \"\\ud30c\", \"align\": \"left\", \"font\": {\"family\": \"Arial\", \"size\": 14, \"color\": \"black\"}, \"showarrow\": false}, {\"xref\": \"x1\", \"yref\": \"y1\", \"x\": 16.5, \"y\": 1, \"text\": \"\\ub85c\", \"align\": \"left\", \"font\": {\"family\": \"Arial\", \"size\": 14, \"color\": \"black\"}, \"showarrow\": false}, {\"xref\": \"x1\", \"yref\": \"y1\", \"x\": 17.5, \"y\": 1, \"text\": \" \", \"align\": \"left\", \"font\": {\"family\": \"Arial\", \"size\": 14, \"color\": \"black\"}, \"showarrow\": false}, {\"xref\": \"x1\", \"yref\": \"y1\", \"x\": 18.5, \"y\": 1, \"text\": \"\\uc5f0\", \"align\": \"left\", \"font\": {\"family\": \"Arial\", \"size\": 14, \"color\": \"black\"}, \"showarrow\": false}, {\"xref\": \"x1\", \"yref\": \"y1\", \"x\": 19.5, \"y\": 1, \"text\": \"\\uc138\", \"align\": \"left\", \"font\": {\"family\": \"Arial\", \"size\": 14, \"color\": \"black\"}, \"showarrow\": false}, {\"xref\": \"x1\", \"yref\": \"y1\", \"x\": 20.5, \"y\": 1, \"text\": \"\\ub300\", \"align\": \"left\", \"font\": {\"family\": \"Arial\", \"size\": 14, \"color\": \"black\"}, \"showarrow\": false}, {\"xref\": \"x1\", \"yref\": \"y1\", \"x\": 21.5, \"y\": 1, \"text\": \"\\ud559\", \"align\": \"left\", \"font\": {\"family\": \"Arial\", \"size\": 14, \"color\": \"black\"}, \"showarrow\": false}, {\"xref\": \"x1\", \"yref\": \"y1\", \"x\": 22.5, \"y\": 1, \"text\": \"\\uad50\", \"align\": \"left\", \"font\": {\"family\": \"Arial\", \"size\": 14, \"color\": \"black\"}, \"showarrow\": false}, {\"xref\": \"x1\", \"yref\": \"y1\", \"x\": 23.5, \"y\": 1, \"text\": \" \", \"align\": \"left\", \"font\": {\"family\": \"Arial\", \"size\": 14, \"color\": \"black\"}, \"showarrow\": false}, {\"xref\": \"x1\", \"yref\": \"y1\", \"x\": 24.5, \"y\": 1, \"text\": \"\\uc81c\", \"align\": \"left\", \"font\": {\"family\": \"Arial\", \"size\": 14, \"color\": \"black\"}, \"showarrow\": false}, {\"xref\": \"x1\", \"yref\": \"y1\", \"x\": 25.5, \"y\": 1, \"text\": \" \", \"align\": \"left\", \"font\": {\"family\": \"Arial\", \"size\": 14, \"color\": \"black\"}, \"showarrow\": false}, {\"xref\": \"x1\", \"yref\": \"y1\", \"x\": 26.5, \"y\": 1, \"text\": \"7\", \"align\": \"left\", \"font\": {\"family\": \"Arial\", \"size\": 14, \"color\": \"black\"}, \"showarrow\": false}, {\"xref\": \"x1\", \"yref\": \"y1\", \"x\": 27.5, \"y\": 1, \"text\": \"6\", \"align\": \"left\", \"font\": {\"family\": \"Arial\", \"size\": 14, \"color\": \"black\"}, \"showarrow\": false}, {\"xref\": \"x1\", \"yref\": \"y1\", \"x\": 28.5, \"y\": 1, \"text\": \"8\", \"align\": \"left\", \"font\": {\"family\": \"Arial\", \"size\": 14, \"color\": \"black\"}, \"showarrow\": false}, {\"xref\": \"x1\", \"yref\": \"y1\", \"x\": 29.5, \"y\": 1, \"text\": \"\\ud68c\", \"align\": \"left\", \"font\": {\"family\": \"Arial\", \"size\": 14, \"color\": \"black\"}, \"showarrow\": false}, {\"xref\": \"x1\", \"yref\": \"y1\", \"x\": 30.5, \"y\": 1, \"text\": \" \", \"align\": \"left\", \"font\": {\"family\": \"Arial\", \"size\": 14, \"color\": \"black\"}, \"showarrow\": false}, {\"xref\": \"x1\", \"yref\": \"y1\", \"x\": 31.5, \"y\": 1, \"text\": \"\\uc878\", \"align\": \"left\", \"font\": {\"family\": \"Arial\", \"size\": 14, \"color\": \"black\"}, \"showarrow\": false}, {\"xref\": \"x1\", \"yref\": \"y1\", \"x\": 32.5, \"y\": 1, \"text\": \"\\uc5c5\", \"align\": \"left\", \"font\": {\"family\": \"Arial\", \"size\": 14, \"color\": \"black\"}, \"showarrow\": false}, {\"xref\": \"x1\", \"yref\": \"y1\", \"x\": 33.5, \"y\": 1, \"text\": \"\\uc2dd\", \"align\": \"left\", \"font\": {\"family\": \"Arial\", \"size\": 14, \"color\": \"black\"}, \"showarrow\": false}, {\"xref\": \"x1\", \"yref\": \"y1\", \"x\": 34.5, \"y\": 1, \"text\": \"\\uc774\", \"align\": \"left\", \"font\": {\"family\": \"Arial\", \"size\": 14, \"color\": \"black\"}, \"showarrow\": false}, {\"xref\": \"x1\", \"yref\": \"y1\", \"x\": 35.5, \"y\": 1, \"text\": \" \", \"align\": \"left\", \"font\": {\"family\": \"Arial\", \"size\": 14, \"color\": \"black\"}, \"showarrow\": false}, {\"xref\": \"x1\", \"yref\": \"y1\", \"x\": 36.5, \"y\": 1, \"text\": \"\\ucde8\", \"align\": \"left\", \"font\": {\"family\": \"Arial\", \"size\": 14, \"color\": \"black\"}, \"showarrow\": false}, {\"xref\": \"x1\", \"yref\": \"y1\", \"x\": 37.5, \"y\": 1, \"text\": \"\\uc18c\", \"align\": \"left\", \"font\": {\"family\": \"Arial\", \"size\": 14, \"color\": \"black\"}, \"showarrow\": false}, {\"xref\": \"x1\", \"yref\": \"y1\", \"x\": 38.5, \"y\": 1, \"text\": \"\\ub418\", \"align\": \"left\", \"font\": {\"family\": \"Arial\", \"size\": 14, \"color\": \"black\"}, \"showarrow\": false}, {\"xref\": \"x1\", \"yref\": \"y1\", \"x\": 39.5, \"y\": 1, \"text\": \"\\uc5c8\", \"align\": \"left\", \"font\": {\"family\": \"Arial\", \"size\": 14, \"color\": \"black\"}, \"showarrow\": false}, {\"xref\": \"x1\", \"yref\": \"y1\", \"x\": 40.5, \"y\": 1, \"text\": \"\\uc74c\", \"align\": \"left\", \"font\": {\"family\": \"Arial\", \"size\": 14, \"color\": \"black\"}, \"showarrow\": false}, {\"xref\": \"x1\", \"yref\": \"y1\", \"x\": 41.5, \"y\": 1, \"text\": \"\\uc744\", \"align\": \"left\", \"font\": {\"family\": \"Arial\", \"size\": 14, \"color\": \"black\"}, \"showarrow\": false}, {\"xref\": \"x1\", \"yref\": \"y1\", \"x\": 42.5, \"y\": 1, \"text\": \" \", \"align\": \"left\", \"font\": {\"family\": \"Arial\", \"size\": 14, \"color\": \"black\"}, \"showarrow\": false}, {\"xref\": \"x1\", \"yref\": \"y1\", \"x\": 43.5, \"y\": 1, \"text\": \"\\uc54c\", \"align\": \"left\", \"font\": {\"family\": \"Arial\", \"size\": 14, \"color\": \"black\"}, \"showarrow\": false}, {\"xref\": \"x1\", \"yref\": \"y1\", \"x\": 44.5, \"y\": 1, \"text\": \"\\ub824\", \"align\": \"left\", \"font\": {\"family\": \"Arial\", \"size\": 14, \"color\": \"black\"}, \"showarrow\": false}, {\"xref\": \"x1\", \"yref\": \"y1\", \"x\": 45.5, \"y\": 1, \"text\": \"\\ub4dc\", \"align\": \"left\", \"font\": {\"family\": \"Arial\", \"size\": 14, \"color\": \"black\"}, \"showarrow\": false}, {\"xref\": \"x1\", \"yref\": \"y1\", \"x\": 46.5, \"y\": 1, \"text\": \"\\ub9bd\", \"align\": \"left\", \"font\": {\"family\": \"Arial\", \"size\": 14, \"color\": \"black\"}, \"showarrow\": false}, {\"xref\": \"x1\", \"yref\": \"y1\", \"x\": 47.5, \"y\": 1, \"text\": \"\\ub2c8\", \"align\": \"left\", \"font\": {\"family\": \"Arial\", \"size\": 14, \"color\": \"black\"}, \"showarrow\": false}, {\"xref\": \"x1\", \"yref\": \"y1\", \"x\": 48.5, \"y\": 1, \"text\": \"\\ub2e4\", \"align\": \"left\", \"font\": {\"family\": \"Arial\", \"size\": 14, \"color\": \"black\"}, \"showarrow\": false}, {\"xref\": \"x1\", \"yref\": \"y1\", \"x\": 49.5, \"y\": 1, \"text\": \".\", \"align\": \"left\", \"font\": {\"family\": \"Arial\", \"size\": 14, \"color\": \"black\"}, \"showarrow\": false}], \"height\": 80, \"images\": [{\"source\": \"https://raw.githubusercontent.com/fingeredman/teanaps/master/data/logo/teanaps_logo_no-bg.png\", \"xref\": \"paper\", \"yref\": \"paper\", \"x\": 0.5, \"y\": 0.6, \"sizex\": 0.7, \"sizey\": 0.7, \"xanchor\": \"center\", \"yanchor\": \"center\", \"opacity\": 0.3, \"layer\": \"above\"}]}, {\"showLink\": true, \"linkText\": \"Export to plot.ly\"})});</script>"
      ]
     },
     "metadata": {},
     "output_type": "display_data"
    }
   ],
   "source": [
    "input_text = \"최근 코로나 바이러스의 여파로 연세대학교 제 768회 졸업식이 취소되었음을 알려드립니다.\"\n",
    "\n",
    "result = ner.parse(input_text)\n",
    "print(result)\n",
    "result = ner.parse_sentence(input_text)\n",
    "print(result)\n",
    "ner.draw_sentence_weight(input_text)"
   ]
  },
  {
   "cell_type": "markdown",
   "metadata": {},
   "source": [
    "#### 1.2. 개체명인식기로 형태소분석 결과 보완하기\n",
    "\n",
    "---"
   ]
  },
  {
   "cell_type": "code",
   "execution_count": 17,
   "metadata": {},
   "outputs": [],
   "source": [
    "sentence = \"최근 코로나 바이러스의 여파로 연세대학교 제 768회 졸업식이 취소되었음을 알려드립니다.\""
   ]
  },
  {
   "cell_type": "code",
   "execution_count": 18,
   "metadata": {},
   "outputs": [
    {
     "data": {
      "text/plain": [
       "[('최근', 'NNG', (0, 2)),\n",
       " ('코로나', 'NNG', (3, 6)),\n",
       " ('바이러스', 'NNG', (7, 11)),\n",
       " ('의', 'JC', (11, 12)),\n",
       " ('여파', 'NNG', (13, 15)),\n",
       " ('로', 'JC', (15, 16)),\n",
       " ('연세대학교', 'NNG', (17, 22)),\n",
       " ('제', 'NNG', (23, 24)),\n",
       " ('768회', 'SN', (25, 29)),\n",
       " ('졸업식', 'NNG', (30, 33)),\n",
       " ('이', 'JC', (33, 34)),\n",
       " ('취소', 'NNG', (35, 37)),\n",
       " ('되었음', 'VV', (37, 40)),\n",
       " ('을', 'JC', (40, 41)),\n",
       " ('알려', 'VV', (42, 44)),\n",
       " ('드립니다', 'VV', (44, 48)),\n",
       " ('.', 'SW', (48, 49))]"
      ]
     },
     "execution_count": 18,
     "metadata": {},
     "output_type": "execute_result"
    }
   ],
   "source": [
    "from teanaps.nlp import MorphologicalAnalyzer\n",
    "\n",
    "ma = MorphologicalAnalyzer()\n",
    "\n",
    "pos_result = ma.parse(sentence)\n",
    "pos_result"
   ]
  },
  {
   "cell_type": "code",
   "execution_count": 19,
   "metadata": {},
   "outputs": [
    {
     "data": {
      "text/plain": [
       "[('코로나 바이러스', 'UN', (3, 11)),\n",
       " ('연세대학교', 'OG', (17, 22)),\n",
       " ('제 768회', 'QT', (23, 29))]"
      ]
     },
     "execution_count": 19,
     "metadata": {},
     "output_type": "execute_result"
    }
   ],
   "source": [
    "#from teanaps.nlp import NamedEntityRecognizer\n",
    "\n",
    "#net = NamedEntityRecognizer(model_path=\"/model\")\n",
    "#ner = NamedEntityRecognizer()\n",
    "\n",
    "ner_result = ner.parse(sentence)\n",
    "ner_result"
   ]
  },
  {
   "cell_type": "code",
   "execution_count": 20,
   "metadata": {},
   "outputs": [
    {
     "data": {
      "text/plain": [
       "[('최근', 'NNG', 'UN', (0, 2)),\n",
       " ('코로나 바이러스', 'NNP', 'UN', (3, 11)),\n",
       " ('의', 'JC', 'UN', (11, 12)),\n",
       " ('여파', 'NNG', 'UN', (13, 15)),\n",
       " ('로', 'JC', 'UN', (15, 16)),\n",
       " ('연세대학교', 'NNP', 'OG', (17, 22)),\n",
       " ('제 768회', 'NNP', 'QT', (23, 29)),\n",
       " ('졸업식', 'NNG', 'UN', (30, 33)),\n",
       " ('이', 'JC', 'UN', (33, 34)),\n",
       " ('취소', 'NNG', 'UN', (35, 37)),\n",
       " ('되었음', 'VV', 'UN', (37, 40)),\n",
       " ('을', 'JC', 'UN', (40, 41)),\n",
       " ('알려', 'VV', 'UN', (42, 44)),\n",
       " ('드립니다', 'VV', 'UN', (44, 48)),\n",
       " ('.', 'SW', 'UN', (48, 49))]"
      ]
     },
     "execution_count": 20,
     "metadata": {},
     "output_type": "execute_result"
    }
   ],
   "source": [
    "from teanaps.nlp import SyntaxAnalyzer\n",
    "\n",
    "sa = SyntaxAnalyzer()\n",
    "\n",
    "sa_result = sa.parse(pos_result, ner_result)\n",
    "sa_result"
   ]
  },
  {
   "cell_type": "code",
   "execution_count": null,
   "metadata": {},
   "outputs": [],
   "source": []
  }
 ],
 "metadata": {
  "kernelspec": {
   "display_name": "Python 3",
   "language": "python",
   "name": "python3"
  },
  "language_info": {
   "codemirror_mode": {
    "name": "ipython",
    "version": 3
   },
   "file_extension": ".py",
   "mimetype": "text/x-python",
   "name": "python",
   "nbconvert_exporter": "python",
   "pygments_lexer": "ipython3",
   "version": "3.8.3"
  }
 },
 "nbformat": 4,
 "nbformat_minor": 2
}
