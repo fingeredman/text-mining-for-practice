{
 "cells": [
  {
   "cell_type": "markdown",
   "metadata": {},
   "source": [
    "# TEXT MINING for PRACTICE\n",
    "- 본 자료는 텍스트 마이닝을 활용한 연구 및 강의를 위한 목적으로 제작되었습니다.\n",
    "- 본 자료를 강의 목적으로 활용하고자 하시는 경우 꼭 아래 메일주소로 연락주세요.\n",
    "- 본 자료에 대한 허가되지 않은 배포를 금지합니다.\n",
    "- 강의, 저작권, 출판, 특허, 공동저자에 관련해서는 문의 바랍니다.\n",
    "- **Contact : 전병진(fingeredman@gmail.com)**\n",
    "\n",
    "---"
   ]
  },
  {
   "cell_type": "markdown",
   "metadata": {},
   "source": [
    "## WEEK 05-1. 한국어 텍스트 데이터 전처리: KoNLPy\n",
    "- Python의 KoNLPy 패키지를 활용해 텍스트 데이터를 전처리하는 방법에 대해 다룹니다.\n",
    "\n",
    "---"
   ]
  },
  {
   "cell_type": "markdown",
   "metadata": {},
   "source": [
    "### 1. 텍스트 데이터를 다루는 다양한 방법 알아보기\n",
    "\n",
    "---"
   ]
  },
  {
   "cell_type": "markdown",
   "metadata": {},
   "source": [
    "#### 1.1. 텍스트 데이터를 다루는 기본함수 알아보기\n",
    "\n",
    "---"
   ]
  },
  {
   "cell_type": "code",
   "execution_count": 1,
   "metadata": {},
   "outputs": [
    {
     "name": "stdout",
     "output_type": "stream",
     "text": [
      "앞에 공백과 뒤에 줄바꿈이 달린 문자열 입니다.\n"
     ]
    }
   ],
   "source": [
    "# 1-1) 텍스트 앞뒤의 불필요한 문자열 지우기\n",
    "# strip() 함수는 문자열의 맨 앞과 뒤에 붙어있는 개행문자(\\n), 공백문자(\\s), 탭(\\t)을 제거합니다.\n",
    "new_text = \"  앞에 공백과 뒤에 줄바꿈이 달린 문자열 입니다. \\n\"\n",
    "new_text = new_text.strip()\n",
    "print(new_text)"
   ]
  },
  {
   "cell_type": "code",
   "execution_count": 2,
   "metadata": {},
   "outputs": [
    {
     "name": "stdout",
     "output_type": "stream",
     "text": [
      "앞에 공백과 뒤에 줄바꿈이 달린 문자열 입니다. \n",
      "\n"
     ]
    }
   ],
   "source": [
    "# 1-2) 텍스트 앞에 붙은 불필요한 문자열 지우기\n",
    "# strip() 함수는 문자열의 맨 앞과 뒤에 붙어있는 개행문자(\\n), 공백문자(\\s), 탭(\\t)을 제거합니다.\n",
    "new_text = \"  앞에 공백과 뒤에 줄바꿈이 달린 문자열 입니다. \\n\"\n",
    "new_text = new_text.lstrip()\n",
    "print(new_text)"
   ]
  },
  {
   "cell_type": "code",
   "execution_count": 3,
   "metadata": {},
   "outputs": [
    {
     "name": "stdout",
     "output_type": "stream",
     "text": [
      "  앞에 공백과 뒤에 줄바꿈이 달린 문자열 입니다.\n"
     ]
    }
   ],
   "source": [
    "# 1-3) 텍스트 뒤에 붙은 불필요한 문자열 지우기\n",
    "# strip() 함수는 문자열의 맨 앞과 뒤에 붙어있는 개행문자(\\n), 공백문자(\\s), 탭(\\t)을 제거합니다.\n",
    "new_text = \"  앞에 공백과 뒤에 줄바꿈이 달린 문자열 입니다. \\n\"\n",
    "new_text = new_text.rstrip()\n",
    "print(new_text)"
   ]
  },
  {
   "cell_type": "code",
   "execution_count": 4,
   "metadata": {},
   "outputs": [
    {
     "name": "stdout",
     "output_type": "stream",
     "text": [
      "['영', '일', '이', '삼', '사', '오', '육', '칠', '팔', '구', '십']\n"
     ]
    }
   ],
   "source": [
    "# 2) 텍스트를 문자열 단위로 나눠 리스트로 만들기\n",
    "# split(STRING) 함수는 문자열을 STRING 단위로 나눠 리스트 형태로 만듭니다.\n",
    "# STRING에는 공백문자를 입력할 수 없습니다.\n",
    "new_text = \"영,일,이,삼,사,오,육,칠,팔,구,십\"\n",
    "string_list = new_text.split(\",\")\n",
    "print(string_list)"
   ]
  },
  {
   "cell_type": "code",
   "execution_count": 5,
   "metadata": {},
   "outputs": [
    {
     "name": "stdout",
     "output_type": "stream",
     "text": [
      "저의 직업은 데이터 엔지니어 입니다.\n"
     ]
    }
   ],
   "source": [
    "# 3) 텍스트 일부를 치환하기\n",
    "# replace(STRING, NEW_STRING) 함수는 문자열(STRING)의 일부를 다른 문자열(NEW_STRING)로 치환합니다.\n",
    "new_text = \"저의 직업은 프로그램 개발자 입니다.\"\n",
    "new_text = new_text.replace(\"프로그램 개발자\", \"데이터 엔지니어\")\n",
    "print(new_text)"
   ]
  },
  {
   "cell_type": "code",
   "execution_count": 6,
   "metadata": {},
   "outputs": [
    {
     "name": "stdout",
     "output_type": "stream",
     "text": [
      "저의\n",
      "직업은\n",
      "데이터\n",
      "엔지니어\n",
      "입니다.\n"
     ]
    }
   ],
   "source": [
    "# 문자열이 아닌 특수기호도 치환이 가능합니다.\n",
    "new_text = new_text.replace(\" \", \"\\n\")\n",
    "print(new_text)"
   ]
  },
  {
   "cell_type": "code",
   "execution_count": 7,
   "metadata": {},
   "outputs": [
    {
     "name": "stdout",
     "output_type": "stream",
     "text": [
      "TEXT MINING은 DATA MINING의 한 분야입니다.\n"
     ]
    }
   ],
   "source": [
    "# 4-1) 텍스트에 포함된 소문자 알파벳을 대문자로 변경하기\n",
    "# upper() 함수는 문자열에 포함된 소문자 알파벳을 모두 대문자로 변경합니다.\n",
    "new_text = \"text mining은 DATA MINING의 한 분야입니다.\"\n",
    "new_text = new_text.upper()\n",
    "print(new_text)"
   ]
  },
  {
   "cell_type": "code",
   "execution_count": 8,
   "metadata": {},
   "outputs": [
    {
     "name": "stdout",
     "output_type": "stream",
     "text": [
      "text mining은 data mining의 한 분야입니다.\n"
     ]
    }
   ],
   "source": [
    "# 4-2) 텍스트에 포함된 대문자 알파벳을 소문자로 변경하기\n",
    "# lower() 함수는 문자열에 포함된 대문자 알파벳을 모두 소문자로 변경합니다.\n",
    "new_text = \"text mining은 DATA MINING의 한 분야입니다.\"\n",
    "new_text = new_text.lower()\n",
    "print(new_text)"
   ]
  },
  {
   "cell_type": "code",
   "execution_count": 9,
   "metadata": {},
   "outputs": [
    {
     "name": "stdout",
     "output_type": "stream",
     "text": [
      "6\n"
     ]
    }
   ],
   "source": [
    "# 5) 텍스트에 포함된 문자열의 인덱스 찾아내기\n",
    "new_text = \"영일이삼사오육칠팔구십\"\n",
    "string_index = new_text.index(\"육\")\n",
    "print(string_index)"
   ]
  },
  {
   "cell_type": "markdown",
   "metadata": {},
   "source": [
    "#### 1.2. 텍스트 데이터를 리스트 처럼 다루기\n",
    "\n",
    "---"
   ]
  },
  {
   "cell_type": "code",
   "execution_count": 10,
   "metadata": {
    "collapsed": true
   },
   "outputs": [],
   "source": [
    "# Python에서 문자열은 리스트와 유사한 자료구조로 취급해 인덱싱 할 수 있습니다.\n",
    "new_text = \"영일이삼사오육칠팔구\"\n",
    "new_list = [0, 1, 2, 3, 4, 5, 6, 7, 8,  9]"
   ]
  },
  {
   "cell_type": "code",
   "execution_count": 11,
   "metadata": {},
   "outputs": [
    {
     "name": "stdout",
     "output_type": "stream",
     "text": [
      "new_text : 영일이삼사오육칠팔구십\n",
      "new_list : [0, 1, 2, 3, 4, 5, 6, 7, 8, 9, 10]\n"
     ]
    }
   ],
   "source": [
    "# 1) 더하기 연산자를 활용해 두 문자열을 결합합니다.\n",
    "new_text = new_text + \"십\"\n",
    "new_list = new_list + [10]\n",
    "print(\"new_text :\", new_text)\n",
    "print(\"new_list :\", new_list)"
   ]
  },
  {
   "cell_type": "code",
   "execution_count": 12,
   "metadata": {},
   "outputs": [
    {
     "name": "stdout",
     "output_type": "stream",
     "text": [
      "new_text_length : 11\n",
      "new_list_length : 11\n"
     ]
    }
   ],
   "source": [
    "# 2) 문자열에 존재하는 모든 문자의 개수를 불러옵니다.\n",
    "new_text_length = len(new_text)\n",
    "new_list_length = len(new_list)\n",
    "print(\"new_text_length :\", new_text_length)\n",
    "print(\"new_list_length :\", new_list_length)"
   ]
  },
  {
   "cell_type": "code",
   "execution_count": 13,
   "metadata": {},
   "outputs": [
    {
     "name": "stdout",
     "output_type": "stream",
     "text": [
      "True\n",
      "True\n"
     ]
    }
   ],
   "source": [
    "# 3-1) 문자열에 특정 문자가 존재하는지 여부를 in 연산자를 통해 확인합니다.\n",
    "print(\"칠\" in new_text)\n",
    "print(7 in new_list)"
   ]
  },
  {
   "cell_type": "code",
   "execution_count": 14,
   "metadata": {},
   "outputs": [
    {
     "name": "stdout",
     "output_type": "stream",
     "text": [
      "False\n",
      "False\n"
     ]
    }
   ],
   "source": [
    "# 3-2) 문자열에 특정 문자가 존재하지 않는지 여부를 not in 연산자를 통해 확인합니다.\n",
    "print(\"칠\" not in new_text)\n",
    "print(7 not in new_list)"
   ]
  },
  {
   "cell_type": "code",
   "execution_count": 15,
   "metadata": {},
   "outputs": [
    {
     "name": "stdout",
     "output_type": "stream",
     "text": [
      "0번째 문자 : 영\n",
      "1번째 문자 : 일\n",
      "4번째 문자 : 사\n"
     ]
    }
   ],
   "source": [
    "# 4) 문자열에 존재하는 N 번째 문자를 불러옵니다.\n",
    "print(\"0번째 문자 :\", new_text[0])\n",
    "print(\"1번째 문자 :\", new_text[1])\n",
    "print(\"4번째 문자 :\", new_text[4])"
   ]
  },
  {
   "cell_type": "code",
   "execution_count": 16,
   "metadata": {},
   "outputs": [
    {
     "name": "stdout",
     "output_type": "stream",
     "text": [
      "0~3번째 문자 : 영일이\n",
      "4~9번째 문자 : 사오육칠팔\n",
      "2~3번째 문자 : 이\n"
     ]
    }
   ],
   "source": [
    "# 5) 문자열에 존재하는 N번째 부터 M-1번째 문자를 리스트 형식으로 불러옵니다.\n",
    "print(\"0~3번째 문자 :\", new_text[0:3])\n",
    "print(\"4~9번째 문자 :\", new_text[4:9])\n",
    "print(\"2~3번째 문자 :\", new_text[2:3])"
   ]
  },
  {
   "cell_type": "code",
   "execution_count": 17,
   "metadata": {},
   "outputs": [
    {
     "name": "stdout",
     "output_type": "stream",
     "text": [
      "3번째 부터 모든 문자 : 삼사오육칠팔구십\n",
      "5번째 부터 모든 문자 : 오육칠팔구십\n",
      "9번째 부터 모든 문자 : 구십\n"
     ]
    }
   ],
   "source": [
    "# 6) 문자열에 존재하는 N번째 부터 모든 문자를 리스트 형식으로 불러옵니다.\n",
    "print(\"3번째 부터 모든 문자 :\", new_text[3:])\n",
    "print(\"5번째 부터 모든 문자 :\", new_text[5:])\n",
    "print(\"9번째 부터 모든 문자 :\", new_text[9:])"
   ]
  },
  {
   "cell_type": "code",
   "execution_count": 18,
   "metadata": {},
   "outputs": [
    {
     "name": "stdout",
     "output_type": "stream",
     "text": [
      "1번째 이전의 모든 문자 : 영\n",
      "7번째 이전의 모든 문자 : 영일이삼사오육\n",
      "9번째 이전의 모든 문자 : 영일이삼사오육칠팔\n"
     ]
    }
   ],
   "source": [
    "# 7) 문자열에 존재하는 N번째 이전의 모든 문자를 리스트 형식으로 불러옵니다.\n",
    "print(\"1번째 이전의 모든 문자 :\", new_text[:1])\n",
    "print(\"7번째 이전의 모든 문자 :\", new_text[:7])\n",
    "print(\"9번째 이전의 모든 문자 :\", new_text[:9])"
   ]
  },
  {
   "cell_type": "code",
   "execution_count": 19,
   "metadata": {},
   "outputs": [
    {
     "name": "stdout",
     "output_type": "stream",
     "text": [
      "끝에서 |-1|-1번째 이전의 모든 문자 : 영일이삼사오육칠팔구\n",
      "끝에서 |-1|-1번째 부터 모든 문자 : 십\n",
      "끝에서 |-2|-1번째 이전의 모든 문자 : 영일이삼사오육칠팔\n",
      "끝에서 |-2|-1번째 부터 모든 문자 : 구십\n"
     ]
    }
   ],
   "source": [
    "# 8) 문자열 인덱싱에 사용되는 정수 N의 부호가 음수인 경우, 마지막 문자부터 |N|-1번째 원소를 의미합니다.\n",
    "print(\"끝에서 |-1|-1번째 이전의 모든 문자 :\", new_text[:-1])\n",
    "print(\"끝에서 |-1|-1번째 부터 모든 문자 :\", new_text[-1:])\n",
    "print(\"끝에서 |-2|-1번째 이전의 모든 문자 :\", new_text[:-2])\n",
    "print(\"끝에서 |-2|-1번째 부터 모든 문자 :\", new_text[-2:])"
   ]
  },
  {
   "cell_type": "code",
   "execution_count": 20,
   "metadata": {},
   "outputs": [
    {
     "name": "stdout",
     "output_type": "stream",
     "text": [
      "영 일 이 삼 사 오 육 칠 팔 구 십 "
     ]
    }
   ],
   "source": [
    "# 9) FOR 문의 for + (반복할 변수) + in + (반복할 값이 저장된 리스트): 구조에서 리스트 대신 문자열을 활용합니다.\n",
    "for i in new_text:\n",
    "    print(i, end=\" \")"
   ]
  },
  {
   "cell_type": "markdown",
   "metadata": {},
   "source": [
    "### 2. 한국어 텍스트 데이터를 전처리하는 방법 알아보기: KoNLPy\n",
    "\n",
    "---"
   ]
  },
  {
   "cell_type": "markdown",
   "metadata": {},
   "source": [
    "#### 2.1. KoNLPy 패키지 설치하기\n",
    "\n",
    "---"
   ]
  },
  {
   "cell_type": "code",
   "execution_count": 21,
   "metadata": {
    "collapsed": true
   },
   "outputs": [],
   "source": [
    "# 한국어 텍스트 전처리를 도와주는 konlpy 패키지를 설치합니다.\n",
    "# konlpy를 활용하기 위해서는 jpype1 패키지도 설치합니다.\n",
    "# jpype1 패키지가 동작하기 위해서는 Java JDK 설치가 필요합니다."
   ]
  },
  {
   "cell_type": "code",
   "execution_count": 22,
   "metadata": {
    "collapsed": true
   },
   "outputs": [],
   "source": [
    "#!pip install jpype1"
   ]
  },
  {
   "cell_type": "code",
   "execution_count": 23,
   "metadata": {
    "collapsed": true
   },
   "outputs": [],
   "source": [
    "#!pip install konlpy"
   ]
  },
  {
   "cell_type": "markdown",
   "metadata": {},
   "source": [
    "#### 2.2. KoNLPy 패키지 내 형태소분석기 호출하기\n",
    "\n",
    "---"
   ]
  },
  {
   "cell_type": "code",
   "execution_count": 24,
   "metadata": {
    "collapsed": true
   },
   "outputs": [],
   "source": [
    "# KoNLPy 패키지에서는 총 5가지 형태소분석기를 제공합니다.\n",
    "# 그 중 꼬꼬마와 한나눔, OKT 형태소분석기를 불러와 비교합니다.\n",
    "\n",
    "text = \"아버지가 가방에 들어가신다.\""
   ]
  },
  {
   "cell_type": "code",
   "execution_count": 25,
   "metadata": {},
   "outputs": [
    {
     "name": "stdout",
     "output_type": "stream",
     "text": [
      "[('아버지', 'NNG'), ('가', 'JKS'), ('가방', 'NNG'), ('에', 'JKM'), ('들어가', 'VV'), ('시', 'EPH'), ('ㄴ다', 'EFN'), ('.', 'SF')]\n"
     ]
    }
   ],
   "source": [
    "# 꼬꼬마 형태소 분석기를 불러옵니다.\n",
    "from konlpy.tag import Kkma\n",
    "kkma = Kkma()\n",
    "\n",
    "print(kkma.pos(text))"
   ]
  },
  {
   "cell_type": "code",
   "execution_count": 26,
   "metadata": {},
   "outputs": [
    {
     "name": "stdout",
     "output_type": "stream",
     "text": [
      "[('아버지', 'N'), ('가', 'J'), ('가방', 'N'), ('에', 'J'), ('들', 'P'), ('어', 'E'), ('가', 'P'), ('시ㄴ다', 'E'), ('.', 'S')]\n"
     ]
    }
   ],
   "source": [
    "# 한나눔 형태소 분석기를 불러옵니다.\n",
    "from konlpy.tag import Hannanum\n",
    "hannanum = Hannanum()\n",
    "\n",
    "print(hannanum.pos(text))"
   ]
  },
  {
   "cell_type": "code",
   "execution_count": 27,
   "metadata": {},
   "outputs": [
    {
     "name": "stdout",
     "output_type": "stream",
     "text": [
      "[('아버지', 'Noun'), ('가', 'Josa'), ('가방', 'Noun'), ('에', 'Josa'), ('들어가신다', 'Verb'), ('.', 'Punctuation')]\n"
     ]
    }
   ],
   "source": [
    "# OKT(Twitter) 형태소 분석기를 불러옵니다.\n",
    "from konlpy.tag import Okt\n",
    "okt = Okt()\n",
    "\n",
    "print(okt.pos(text))"
   ]
  },
  {
   "cell_type": "code",
   "execution_count": 28,
   "metadata": {
    "collapsed": true
   },
   "outputs": [],
   "source": [
    "# 형태소분석기는 종류별로 형태소를 분리하는 기준과 태그명이 다릅니다.\n",
    "# 본 자료에서는 꼬꼬마 형태소 분석기를 활용합니다."
   ]
  },
  {
   "cell_type": "markdown",
   "metadata": {},
   "source": [
    "#### 2.3. 형태소분석기 활용하기\n",
    "\n",
    "---"
   ]
  },
  {
   "cell_type": "code",
   "execution_count": 29,
   "metadata": {},
   "outputs": [
    {
     "name": "stdout",
     "output_type": "stream",
     "text": [
      "['텍스트 데이터는 비정형 데이터에 해당합니다.', '비정형 데이터는 전체 데이터의 80% 정도를 차지합니다.']\n"
     ]
    }
   ],
   "source": [
    "# 1) sentences(TEXT) 함수를 활용해 문단을 문장단위로 분리하여 리스트 형태로 만듭니다.\n",
    "text= \"텍스트 데이터는 비정형 데이터에 해당합니다. 비정형 데이터는 전체 데이터의 80% 정도를 차지합니다.\"\n",
    "sentence_list = kkma.sentences(text)\n",
    "print(sentence_list)"
   ]
  },
  {
   "cell_type": "code",
   "execution_count": 30,
   "metadata": {},
   "outputs": [
    {
     "name": "stdout",
     "output_type": "stream",
     "text": [
      "[('텍스트', 'NNG'), ('데이터', 'NNG'), ('는', 'JX'), ('비정형', 'NNG'), ('데이터', 'NNG'), ('에', 'JKM'), ('해당', 'NNG'), ('하', 'XSV'), ('ㅂ니다', 'EFN'), ('.', 'SF')]\n",
      "[('비정형', 'NNG'), ('데이터', 'NNG'), ('는', 'JX'), ('전체', 'NNG'), ('데이터', 'NNG'), ('의', 'JKG'), ('80', 'NR'), ('%', 'SW'), ('정도', 'NNG'), ('를', 'JKO'), ('차지', 'NNG'), ('하', 'XSV'), ('ㅂ니다', 'EFN'), ('.', 'SF')]\n"
     ]
    }
   ],
   "source": [
    "# 2) pos(TEXT) 함수를 활용해 문장을 형태소 단위로 분리하여 리스트 형태로 만듭니다.\n",
    "for sentence in sentence_list:\n",
    "    pos_list = kkma.pos(sentence)\n",
    "    print(pos_list)"
   ]
  },
  {
   "cell_type": "code",
   "execution_count": 31,
   "metadata": {},
   "outputs": [
    {
     "name": "stdout",
     "output_type": "stream",
     "text": [
      "['텍스트', '데이터', '비정형', '해당']\n",
      "['비정형', '데이터', '전체', '80', '정도', '차지']\n"
     ]
    }
   ],
   "source": [
    "# 2) nouns(TEXT) 함수를 활용해 문장을 형태소 단위로 분리하고 명사(NNG, NNP)만 리스트 형태로 만듭니다.\n",
    "for sentence in sentence_list:\n",
    "    pos_list = kkma.nouns(sentence)\n",
    "    print(pos_list)"
   ]
  },
  {
   "cell_type": "markdown",
   "metadata": {},
   "source": [
    "### 3. 한국어 텍스트 데이터를 전처리하는 방법 알아보기: TEANAPS\n",
    "\n",
    "---"
   ]
  },
  {
   "cell_type": "markdown",
   "metadata": {},
   "source": [
    "#### 3.1. TEANAPS 패키지 설치하기\n",
    "\n",
    "---"
   ]
  },
  {
   "cell_type": "code",
   "execution_count": 32,
   "metadata": {
    "collapsed": true
   },
   "outputs": [],
   "source": [
    "# 텍스트 분석을 위한 TEANAPS 패키지를 설치합니다.\n",
    "# TEANAPS는 Google Colaboratory/Linux 환경에 최적화되어 있습니다.\n",
    "# Windows 환경에서 일부 기능에 제한이 있을 수 있습니다."
   ]
  },
  {
   "cell_type": "code",
   "execution_count": 33,
   "metadata": {
    "collapsed": true
   },
   "outputs": [],
   "source": [
    "# TEANAPS (https://github.com/fingeredman/teanaps)\n",
    "#!git clone https://github.com/fingeredman/teanaps.git"
   ]
  },
  {
   "cell_type": "code",
   "execution_count": 34,
   "metadata": {
    "collapsed": true
   },
   "outputs": [],
   "source": [
    "#!ls"
   ]
  },
  {
   "cell_type": "code",
   "execution_count": 35,
   "metadata": {
    "collapsed": true
   },
   "outputs": [],
   "source": [
    "#!python \"teanaps/teanaps_setup.py\""
   ]
  },
  {
   "cell_type": "markdown",
   "metadata": {},
   "source": [
    "#### 3.2. TEANAPS 패키지 내 형태소분석기 호출하기\n",
    "\n",
    "---"
   ]
  },
  {
   "cell_type": "code",
   "execution_count": 37,
   "metadata": {},
   "outputs": [
    {
     "name": "stdout",
     "output_type": "stream",
     "text": [
      "[('아버지', 'NNG', (0, 3)), ('가', 'JC', (3, 4)), ('가방', 'NNG', (5, 7)), ('에', 'JC', (7, 8)), ('들어가신다', 'VV', (9, 14)), ('.', 'SW', (14, 15))]\n"
     ]
    }
   ],
   "source": [
    "# TEANAPS 형태소 분석기를 불러옵니다.\n",
    "from teanaps.nlp import MorphologicalAnalyzer\n",
    "\n",
    "ma = MorphologicalAnalyzer()\n",
    "\n",
    "# TEANAPS에서는 한국어 텍스트 분석을 위해 3가지 형태소분석기를 지원합니다.\n",
    "# 사용할 형태소분석기 유형을 지정합니다.\n",
    "# 지정하지 않은 경우에는 기본으로 Okt 형태소분석기가 사용됩니다.\n",
    "ma.set_tagger(\"okt\")\n",
    "#sa.set_tagger(\"mecab\")\n",
    "#sa.set_tagger(\"kkma\")\n",
    "\n",
    "text = \"아버지가 가방에 들어가신다.\"\n",
    "pos_list = ma.parse(text)\n",
    "print(pos_list)"
   ]
  },
  {
   "cell_type": "markdown",
   "metadata": {},
   "source": [
    "#### 3.3. 형태소분석기 활용하기\n",
    "\n",
    "---"
   ]
  },
  {
   "cell_type": "code",
   "execution_count": 38,
   "metadata": {},
   "outputs": [
    {
     "data": {
      "text/plain": [
       "['금융/NNG 硏/OL 비트코인/NNG 쇠락/NNG 과/JC 내/MM 재적/NNG 결함/NNG 보고서/NNG (/SW 지디/VV 넷/NNG 코리아/NNG =/SW 손/NNG 예술/NNG 기자/NNG )/SW 대표/NNG 적/XPN 인/JC 암호/NNG 화폐/NNG 비트코인/NNG 의/JC 가격/NNG 이/JC 급/NNG 변동/NNG 했음에도/VV 불구/NNG ,/SW 일부/NNG 암호/NNG 화폐/NNG 옹호/NNG 론자/NNG 들/XPN 은/JC 비트코인/NNG 이/JC 갖고/VV 있는/VA 몇/NNG 가지/NNG 결함/NNG 이/JC 해소/NNG 되면/VV 새로운/VA 국면/NNG 이/JC 나타날/VV 것/NNG 으로/JC 예측/NNG 했다/VV ./SW 그/NNG 들/XPN 은/JC 이런/VA 결함/NNG 을/JC 전제/NNG 로/JC 국내외/NNG 정부/NNG 와/JC 감독/NNG 당국/NNG 은/JC 선제/NNG 적/XPN 으로/JC 시각/NNG 및/NNG 규제/NNG 환경/NNG 을/JC 정비/NNG 해야/VV 한다는/MM 주장/NNG 하고/JC 있다/VA ./SW 14일/SN 한국/NNG 금융/NNG 연구원/NNG 은/JC 비트코인/NNG 쇠락/NNG 과/JC 내/MM 재적/NNG 결함/NNG 이란/JC 보고서/NNG 에서/JC 암호/NNG 화폐/NNG 옹호/NNG 론/NNG 자/XPN 의/JC 입장/NNG 과/JC 함께/MAG 그/NNG 들/XPN 이/JC 제시/NNG 한/JC 세/NNG 가지/NNG 결함/NNG 을/JC 발표/NNG 했다/VV ./SW 여기/NNG 서/JC 암호/NNG 화폐/NNG 옹호/NNG 론자/NNG 들/XPN 은/JC 암호/NNG 화폐/NNG 로/JC 새로운/VA 부가가치/NNG 를/JC 낼/NNG 수/NNG 있는/VA 사업/NNG 모델/NNG 등장/NNG 가능성/NNG 에/JC 집중/NNG 하고/JC 있는/VA 인물/NNG 들/XPN 로/JC 통칭/NNG 된다/VV ./SW 그러나/MAJ 그/NNG 들/XPN 은/JC 이를/VV 위해/NNG 서/JC 비트코인/NNG 이/JC 세/NNG 가지/NNG 결함/NNG 이/JC 우선/NNG 적/XPN 으로/JC 해소/NNG 돼야/VV 한다고/VV 보고/NNG 있다/VA ./SW 하나/NNG 는/JC 비트코인/NNG 이/JC 재화/NNG 와/JC 용역/NNG 을/JC 구입/NNG 하는데/VV 사용/NNG 되는/VV 시장/NNG 이/JC 아직/MAG 은/NNG 너무/MAG 좁다는/VA 것/NNG 이다/JC ./SW 미국/NNG 비트코인/NNG 시장조사/NNG 기관/NNG 인/JC 사토시/NNG 캐피탈/NNG 리서치/NNG 에/JC 따르면/VV 지난/NNG 2017년/SN 기준/NNG 으로/JC 비트코인/NNG 을/JC 사용/NNG 한/JC 거래/NNG 결제/NNG 액/NNG 은/JC 약/NNG 24억달러/SN 로/OL 중국/NNG 의/JC 알리페/NNG 이/XPN 와/JC 위챗/NNG 페이/NNG 의/JC 거래/NNG 결제/NNG 액/NNG 이/JC 약/NNG 15조달러/SN 였음을/OL 감안/NNG 하면/VV 지나치게/VV 적은/VV 시장/NNG 이라는/JC 것/NNG 이다/JC ./SW 두/NNG 번/NNG 째/XPN 는/JC 비트코인/NNG 은/JC 거래/NNG 건수/NNG 급증/NNG 과/JC 블록/NNG 용량/NNG 제한/NNG 등/NNG 으로/JC 채굴/NNG 을/JC 통핸/NNG 결제/NNG 처리/NNG 가/JC 지연/NNG 돼/VV ,/SW 이용자/NNG 들/XPN 이/JC 거래/NNG 완료/NNG 를/JC 위해/NNG 부담/NNG 해야/VV 하는/VV 수수료/NNG 가/JC 높아지는/VV 문제/NNG 가/JC 있다는/VA 것/NNG 이다/JC ./SW 비트코인/NNG 기반/NNG 기술/NNG 인/JC 블록/NNG 체인/NNG 을/JC 구성/NNG 하는/VV 각/NNG 블록/NNG 용량/NNG 은/JC 1/SN 메가바이트/NNG 로/JC 이뤄져/VV 있고/VA 초당/NNG 평균/NNG 거래/NNG 처리/NNG 건수/NNG 는/JC 7/SN 건/NNG 이며/JC 약/NNG 10분/SN 마다/OL 1/SN 개/NNG 블록/NNG 이/JC 형성/NNG 된다/VV ./SW 반면/NNG 비자/NNG 의/JC 경우/NNG 초당/NNG 거래/NNG 처리/NNG 건수/NNG 는/JC 수/NNG 만/MM 건/NNG 에/JC 달/NNG 한/JC 다/MAG ./SW 세/NNG 번/NNG 째/XPN 로/JC 거래소/NNG 해킹/NNG 등/NNG 과/JC 같은/VA 사기/NNG 성/XPN 거래/NNG 에/JC 아직도/MAG 노출/NNG 돼/VV 있다는/VA 점/NNG 이다/JC ./SW 지난/NNG 2월/SN 캐나다/NNG 암호/NNG 화폐/NNG 거래소/NNG 쿼/VV 드리가/VV CX/OL 대표이사/NNG 이자/NNG 설립/NNG 자/XPN 는/JC 사망/NNG 과/JC 거액/NNG 의/JC 고객/NNG 암호/NNG 화폐/NNG 분/NNG 시로/NNG 파산/NNG 보호/NNG 를/JC 신청/NNG 했으며/VV 3월/SN 파산관재인/NNG 은/NNG 비밀/NNG 키/NNG 를/JC 관리/NNG 했던/VV 설립/NNG 자/XPN 사망/NNG 이전/NNG 8/SN 개월/NNG 간/NNG 핫월렛/NNG 에/JC 고객/NNG 의/JC 암호/NNG 화/XPN 폐가/NNG 없었다고/VA 발표/NNG 했다/VV ./SW 핫월렛/NNG 은/JC 인터넷/NNG 과/JC 연결/NNG 돼/VV 있는/VA 암호/NNG 화폐/NNG 전자지갑/NNG 이다/JC ./SW 세/NNG 가지/NNG 결함/NNG 에도/JC 불구/NNG 비트코인/NNG 을/JC 이용/NNG 한/JC 오프라인/NNG 결제/NNG 가/JC 이뤄지거나/VV 다양한/VA 나라/NNG 서/JC 디지털/NNG 화폐/NNG 에/JC 대한/NNG 실험/NNG 적/XPN 인/JC 시도/NNG 가/JC 이뤄지는/VV 상태/NNG 다/JC ./SW 이/NNG 때문/NNG 에/JC 암호/NNG 화폐/NNG 나/JC 비트코인/NNG 이/JC 정말/NNG 법정/NNG 통화/NNG 를/JC 보완/NNG 하/XPN 거나/NNG 새로운/VA 지급/NNG 결제/NNG 나/JC 가치/NNG 저장/NNG 수단/NNG 으로/JC 역할/NNG 을/JC 할/VV 수/NNG 있을지/VA 가늠/NNG 하기/VV 위해/NNG 선/NNG 내/MM 재적/NNG 결함/NNG 대처/NNG 와/JC 국내외/NNG 정부/NNG 나/JC 감독/NNG 당국/NNG 은/JC 암호/NNG 화폐/NNG 에/JC 대한/NNG 시각/NNG 및/NNG 규제/NNG 환경/NNG 정비/NNG 가/JC 필요하다는/VA 게/NNG 이/NNG 보고서/NNG 의/JC 의견/NNG 이다/JC ./SW 특히/MAG 옹호/NNG 론/NNG 자/XPN 가/JC 지적/NNG 한/JC 세/NNG 가지/NNG 결함/NNG 중/NNG 일부/NNG 는/JC 금융/NNG 소비자/NNG 나/JC 투자자/NNG 들/XPN 의/JC 보호/NNG 문제/NNG 와/JC 직결/NNG 돼/VV 있는/VA 상황/NNG 이다/JC ./SW 한국/NNG 금융/NNG 연구원/NNG 은/JC \"/SW 암호/NNG 화폐/NNG 수용/NNG 을/JC 검토/NNG 하고/JC 있는/VA 정부/NNG 나/JC 감독/NNG 당국/NNG 들/XPN 은/JC 소비자/NNG 보호/NNG 강화/NNG 및/NNG 금융시장/NNG 의/JC 안정/NNG 성/XPN 확보/NNG 관점/NNG 에서/JC 시장/NNG 참가자/NNG 들/XPN 의/JC 정보/NNG 공시/NNG 의무/NNG 강화/NNG ,/SW 결제/NNG 계좌/NNG 및/NNG 전자지갑/NNG 제공/NNG 거래소/NNG 나/JC 금융/NNG 사의/NNG 자본금/NNG 또는/MAG 유동성/NNG 규제/NNG 를/JC 부과/NNG 하고/JC 있다/VA \"/SW 며/NNG \"/SW 이/NNG 밖에도/JC 자금/NNG 세탁/NNG 차단/NNG 등/NNG 에/JC 대한/NNG 집중/NNG 적/XPN 인/JC 검토/NNG 가/JC 필요하다/VA \"/SW 고/NNG 서술/NNG 했다/VV ./SW 한편/NNG ,/SW 비트코인/NNG 은/JC 2017년/SN 12월/SN 중순/NNG 2만달러/SN 까지/OL 육박/NNG 했지만/VV 올해/NNG 3월/SN 까지/OL 4천달러/SN 까지/OL 떨어지는/VV 등/NNG 이/NNG 기간/NNG 동안/NNG 비트코인/NNG 의/JC 시가총액/NNG 은/JC 9천억달러/SN 에서/OL 800억달러/SN 까지/OL 감소/NNG 했다/VV ./SW 손/NNG 예술/NNG 기자/NNG (/SW kunst@zdnet.co.kr/SW )/SW ',\n",
       " '비트코인/NNG 놓고/VV 상반/NNG 된/VV 평가/NNG 내놔/VV [/SW 김산/NNG 하/XPN 기자/NNG ]/SW 니/MM 얼/NNG 퍼거슨/NNG 하버드대/NNG 교수/NNG (/SW 왼쪽/NNG ),/SW 워렌/NNG 버핏/NNG 버크셔/NNG 해서웨이/NNG 회장/NNG (/SW 오른쪽/NNG )(/SW 사진/NNG =/SW 트위터/NNG )/SW 워렌/NNG 버핏/NNG 버크셔/NNG 해서웨이/NNG 회장/NNG 과/JC 세계/NNG 적/XPN 경제/NNG 사학자/NNG 니/MM 얼/NNG 퍼거슨/NNG 하버드대/NNG 교수/NNG 가/JC 비트코인/NNG 을/JC 두고/VV 상반/NNG 된/VV 평가/NNG 를/JC 내놓았다/VV ./SW 과거/NNG 비트코인/NNG 을/JC 비판/NNG 하던/VV 퍼거슨/NNG 교수/NNG 는/JC 자신/NNG 의/JC 발언/NNG 을/JC 후회/NNG 한/JC 다/MAG 고/NNG 언급/NNG 한/JC 반면/NNG 버핏/NNG 회장/NNG 은/JC 한층/NNG 더/NNG 부정/NNG 적/XPN 시각/NNG 을/JC 견/NNG 지해/NNG 눈길/NNG 을/JC 끌었다/VV ./SW 버핏/NNG 회장/NNG 은/JC 지난달/NNG 25일/SN (/SW 이하/NNG 현지/NNG 시간/NNG )/SW 미국/NNG CNBC/OL 와의/JC 인터뷰/NNG 에서/JC “/OL 비트코인/NNG 은/JC 고유/NNG 가치/NNG 가/JC 없으며/VA 아무/MM 것/NNG 도/JC 생산/NNG 해내지/VV 못/XPN 한다/VV ./SW 기본/NNG 적/XPN 으로/JC 망상/NNG ”/OL 이라고/JC 주장/NNG 했다/VV ./SW 이어/VV “/OL 비트코인/NNG 은/JC 사기꾼/NNG 들/XPN 을/JC 끌어/VV 들인다/VV ”/OL 면서/NNG 인생/NNG 이/JC 바뀔/VV 것/NNG 이라/JC 기대하며/VA 가상/NNG 화폐/NNG (/SW 암호/NNG 화폐/NNG )/SW 에/JC 투자/NNG 하는/VV 투자자/NNG 들/XPN 이/JC 안타깝다고/VA 말/NNG 했다/VV ./SW 그/NNG 는/JC 지난해/NNG 5월/SN 버크셔/NNG 해서웨이/NNG 주주총회/NNG 에서도/JC “/OL 비트코인/NNG 은/JC 쥐약/NNG 과/JC 같다/VA ”/OL 며/NNG 비판/NNG 적/XPN 발언/NNG 을/JC 한/VV 바/NNG 있다/VA ./SW 그/NNG 이전/NNG 에도/JC 비트코인/NNG 을/JC ‘/OL 튤립/NNG 버블/NNG ’/SW 이나/NNG ‘/OL 신기루/NNG ’/SW 에/JC 비유/NNG 해왔다/VV ./SW 하지만/MAJ 퍼거슨/NNG 교수/NNG 는/JC 생각/NNG 이/JC 달라졌다/VV ./SW 7일/SN (/SW 현지/NNG 시간/NNG )/SW 외신/NNG 에/JC 따르면/VV 퍼거슨/NNG 교수/NNG 는/JC 호주/NNG 경/MM 제/MM 일간/NNG 지/JC AFR/OL 이/NNG 개최/NNG 한/JC 비즈니스/NNG 서밋/NNG 의/JC 비공개/NNG 행사/NNG 에서/JC “/OL 암호/NNG 화폐/NNG 는/JC 망상/NNG 이/JC 아니다/VA ”/OL 라고/JC 말/NNG 했다/VV ./SW 버핏/NNG 의/JC 주장/NNG 과/JC 정반대/NNG 입장/NNG 을/JC 밝힌/VV 셈/NNG 이다/JC ./SW 퍼거슨/NNG 교수/NNG 는/JC 블록/NNG 체인/NNG 기반/NNG 의/JC 암호/NNG 화/XPN 폐가/NNG 쓰일/VV 만/NNG 한/JC 곳/NNG 이/JC 존재/NNG 하지/VV 않는다고/VV 봤으나/VV 생각/NNG 이/JC 바뀌었다고/VV 했다/VV ./SW 그/NNG 는/JC 비트코인/NNG 가격/NNG 이/JC 절정/NNG 에/JC 달/NNG 한/JC 지난/NNG 2017년/SN 말/NNG 미국/NNG 폭스/NNG 비즈니스/NNG 네트워크/NNG 방송/NNG 에/JC 출연/NNG 해/VV “/OL 비트코인/NNG 은/JC 금융/NNG 역사상/NNG 가장/NNG 큰/VV 버블/NNG (/SW 거품/NNG )/SW ”/OL 이라고/JC 평가/NNG 한/JC 바/NNG 있다/VA ./SW 그러다가/MAJ 지난달/NNG 에는/JC “/OL 비트코인/NNG 은/JC ‘/OL 디지털/NNG 금/NNG ’/SW 이/NNG 될/VV 수/NNG 있는/VA 후보/NNG 중/NNG 하나/NNG ”/OL 라며/NNG 비트코인/NNG 에/JC 대해/NNG 긍정/NNG 적/XPN 으로/JC 바뀐/VV 시각/NNG 을/JC 내비/NNG 쳤다/VV ./SW 또/NNG “/OL 지난/NNG 10년/SN 간/OL 금융/NNG 의/JC 변화/NNG 보다/JC 앞/NNG 으로/JC 10년/SN 의/OL 금융/NNG 의/JC 변화/NNG 가/JC 훨씬/MAG 더/NNG 혁신/NNG 적/XPN 일/NNG 것/NNG ”/OL 이라고/JC 전망/NNG 했다/VV ./SW 그/NNG 는/JC 최근/NNG 한/VV 블록/NNG 체인/NNG 회사/NNG 자문/NNG 위원/NNG 으로도/JC 참여/NNG 한/JC 것/NNG 으로/JC 알려졌다/VV ./SW 김산/NNG 하/XPN 한경닷컴/NNG 기자/NNG sanha@hankyung.com/SW 기사/NNG 제보/NNG 및/NNG 보도자료/NNG open@hankyung.com/SW [/SW 한경닷컴/NNG 바로가기/NNG ]/SW [/SW 모바일/NNG 한경/NNG 구독/NNG 신청/NNG ]/SW 네이버/NNG 에서/JC 한국/NNG 경제/NNG 채널/NNG 구독/NNG 하기/VV </SW 자세히/VA 보기/NNG >/SW ⓒ/OL 한국/NNG 경제/NNG &/SW hankyung.com/SW ,/SW 무단/NNG 전/MM 재/NNG 및/NNG 재/NNG 배포/NNG 금지/NNG ',\n",
       " '[/SW 코/NNG 인터뷰/NNG ]/SW 스테판/NNG 러스트/NNG 비트코인/NNG 닷컴/XPN 비즈니스/NNG 총괄/NNG [/SW 김산/NNG 하/XPN 기자/NNG ]/SW 한경닷컴/NNG 과/JC 인터뷰/NNG 중/XPN 인/JC 스테판/NNG 러스트/NNG (/SW Stefan/OL Rust/OL )/SW 비트코인/NNG 닷컴/XPN 비즈니스/NNG 총괄/NNG \"/SW 현재/NNG 가상/NNG 화폐/NNG (/SW 암호/NNG 화폐/NNG )/SW 생태계/NNG 에는/JC 약/NNG 5000만/SN 명/OL 정도/NNG 사용자/NNG 가/JC 들어와/VV 있는/VA 것/NNG 으로/JC 추정/NNG 됩니다/VV ./SW 1994~1995년/SN 경/OL 인터넷/NNG 사용자/NNG 수/NNG 와/JC 비슷하죠/VA ./SW 우리/NNG 가/JC 얼마나/NNG 암호/NNG 화폐/NNG 산업/NNG 의/JC 초기/NNG 단계/NNG 에/JC 있는지/VA 알/NNG 수/NNG 있습니다/VA .\"/SW 지난/NNG 4일/SN 서울/NNG 장충/NNG 체육관/NNG 에서/JC 개최/NNG 된/VV 열린/VV \\'/SW 분산/NNG 경제/NNG 포럼/NNG (/SW 디코/NNG 노미/NNG )/SW 2019/SN \\'/SW 에서/JC 한경닷컴/NNG 과/JC 인터뷰/NNG 한/JC 스테판/NNG 러스트/NNG (/SW Stefan/OL Rust/OL )/SW 비트코인/NNG 닷컴/XPN 비즈니스/NNG 총괄/NNG (/SW 사진/NNG )/SW 은/NNG 현재/NNG 암호/NNG 화폐/NNG 상황/NNG 을/JC 이같이/MAG 짚었다/VV ./SW 스테판/NNG 총괄/NNG 은/JC \"/SW 당시/NNG 엔/JC 구글/NNG 도/JC 존재/NNG 하지/VV 않았다/VV ./SW 전세계/NNG 인터넷/NNG 의/JC 표준/NNG 이/JC 된/VV TCP/OL IP/OL 프로토콜/NNG 역시/NNG 그/NNG 당시/NNG 표준/NNG 프로토콜/NNG 도/JC 아니었다/VA \"/SW 면서/NNG \"/SW 비트코인/NNG 캐시/NNG 가/JC 초기/NNG 단계/NNG 인/JC 암호/NNG 화폐/NNG 생태계/NNG 에서/JC 빠르게/VA 표준/NNG 으로/JC 자리/NNG 잡/NNG 을/JC 수/NNG 있도록/VA 노력/NNG 하겠다/VV \"/SW 고/NNG 강조/NNG 했다/VV ./SW 비트코인/NNG 닷컴/XPN 은/JC 전세계/NNG 5/SN 위/NNG 암호/NNG 화폐/NNG 비트코인/NNG 캐시/NNG 를/JC 이끄는/VV 암호/NNG 화폐/NNG 기업/NNG 이다/JC ./SW 글로벌/NNG 암호/NNG 화폐/NNG 전문/NNG 미디어/NNG \\'/SW 비트코인/NNG 뉴스/NNG \\'/SW 를/NNG 비롯/NNG 해/VV 암호/NNG 화폐/NNG 관련/NNG 지갑/NNG 서비스/NNG ,/SW 채굴/NNG 사업/NNG ,/SW 플랫폼/NNG 사업/NNG ,/SW 게임/NNG 사업/NNG 등/NNG 을/JC 펼치고/VV 있다/VA ./SW 그/NNG 의/JC 설명/NNG 에/JC 따르면/VV 비트코인/NNG 닷컴/XPN 암호/NNG 화폐/NNG 지갑/NNG 에는/JC 약/NNG 400만/SN 개의/OL 활성화/NNG 된/VV 주소/NNG 가/JC 존재/NNG 한다/VV ./SW 매일/NNG 1만/SN 5000/SN 건/NNG 상당/NNG 의/JC 활동/NNG 이/JC 발생/NNG 하며/VV 지갑/NNG 앱/NNG (/SW 응용프로그램/NNG )/SW 도/NNG 일/MM 평균/NNG 8000/SN 건/NNG 다운로드/NNG 된다/VV ./SW 비트코인/NNG 닷컴/XPN 은/JC 금융/NNG 서비스/NNG 의/JC \\'/SW 질/NNG \\'/SW 을/JC 높이는/VV 데/NNG 집중/NNG 하고/JC 있다/VA ./SW 암호/NNG 화폐/NNG 지갑/NNG 앱/NNG 을/JC 통해/NNG 이용자/NNG 들/XPN 이/JC 암호/NNG 화폐/NNG 수탁/NNG 서비스/NNG 등/NNG 보다/VV 좋은/VA 금융/NNG 관리/NNG 서비스/NNG 를/JC 받을/VV 수/NNG 있도록/VA 하겠다는/VV 계획/NNG 이다/JC ./SW 한경닷컴/NNG 과/JC 인터뷰/NNG 중/XPN 인/JC 스테판/NNG 러스트/NNG (/SW Stefan/OL Rust/OL )/SW 비트코인/NNG 닷컴/XPN 비즈니스/NNG 총괄/NNG 개발자/NNG 육성/NNG 에도/JC 많은/VA 공/NNG 을/JC 들이고/VV 있다고/VA 귀띔/NNG 했다/VV ./SW 비트코인/NNG 캐시/NNG 의/JC 블록/NNG 체인/NNG 위/NNG 에서/JC 작동/NNG 되는/VV 앱/NNG 들/XPN 을/JC 육성/NNG 하기/VV 위/NNG 해서다/VV ./SW 비트코인/NNG 닷컴/XPN 은/JC 이를/VV 위해/NNG 개발자/NNG 들/XPN 이/JC 쓸/VV 수/NNG 있는/VA 도구모음/NNG (/SW Tool/OL Set/OL )/SW 을/JC 만들었다/VV ./SW 스테판/NNG 총괄/NNG 은/JC \"/SW 우리/NNG 는/JC 개발자/NNG 들/XPN 이/JC 프로토콜/NNG 위/NNG 에서/JC 앱/NNG 을/JC 만들려/VV 할/VV 때/NNG 무엇/NNG 을/JC 원하는지/VA 알/NNG 고/JC 있다/VA \"/SW 며/NNG \"/SW 이제/NNG 개발자/NNG 들/XPN 이/JC 비트코인/NNG 캐시/NNG 플랫폼/NNG 을/JC 활용/NNG 해/VV 스마트/NNG 계약/NNG 이나/JC 토큰/NNG 을/JC 쉽게/VV 만들/VV 수/NNG 있게/VA 됐다/VV \"/SW 고/NNG 의미/NNG 부여/NNG 했다/VV ./SW 비트코인/NNG 닷컴/XPN 은/JC 연내/NNG 블록/NNG 체인/NNG 개발자/NNG 들/XPN 을/JC 위/NNG 한/JC 해커/NNG 톤/NNG 을/JC 국내/NNG 에서/JC 개최/NNG 할/VV 계획/NNG ./SW 스테판/NNG 총괄/NNG 은/JC \"/SW 개발자/NNG 들/XPN 에게/JC 비트코인/NNG 캐시/NNG 플랫폼/NNG 을/JC 더/NNG 많이/MAG 알리자는/VV 취지/NNG \"/SW 라며/NNG \"/SW 한국/NNG 은/JC 세계/NNG 톱/NNG 5/SN 안/NNG 에/JC 드는/VV 암호/NNG 화폐/NNG 시장/NNG 이고/JC 뛰어난/VA 개발자/NNG 들/XPN 이/JC 많다/VA ./SW 우리/NNG 는/JC 한국/NNG 과/JC 함께/MAG 하고/VV 싶다/VV \"/SW 고/NNG 말/NNG 했다/VV ./SW 비트코인/NNG 캐시/NNG 시세/NNG 는/JC 한경닷컴/NNG 과/JC 인터뷰/NNG 한/JC 당일/NNG 까지/JC 3일/SN 간/OL 무려/NNG 80%/SN 넘게/VV 급등/NNG 했다/VV ./SW 그/NNG 는/JC \"/SW 같은/VA 기간/NNG 비트코인/NNG 이/JC 약/NNG 20%/SN 오른/NNG 것/NNG 에/JC 비/NNG 하면/VV 상승/NNG 폭/NNG 이/JC 크지만/VV 우리/NNG 는/JC 여전히/VA 비트코인/NNG 캐시/NNG 가/JC 상당히/VA 평가절하/NNG 돼/VV 있다고/VA 생각/NNG 한다/VV ./SW 사람/NNG 들/XPN 이/JC 비트코인/NNG 캐시/NNG 를/JC 진정한/VA \\'/SW 결제/NNG 수단/NNG \\'/SW 으로/JC 사용/NNG 하길/VV 원한다/VA \"/SW 고/NNG 역설/NNG 했다/VV ./SW 비트코인/NNG 캐시/NNG 의/JC 다음/NNG 목표/NNG 는/JC 개인/NNG 간/XPN (/SW P/OL 2/SN P/OL )/SW 가치/NNG 전송/NNG 체계/NNG 의/JC \\'/SW 표준/NNG \\'/SW 이/NNG 되는/VV 것/NNG 이라고/JC 했다/VV ./SW 카카오/NNG 톡/NNG 의/JC 보이/NNG 스톡/NNG ,/SW 스카이프/NNG 등/NNG 에/JC 사용/NNG 되는/VV 음성/NNG 인터넷/NNG 프로토콜/NNG (/SW VoIP/OL )/SW 을/JC 사례/NNG 로/JC 들었다/VV ./SW 예컨대/MAG 과거/NNG 엔/JC 국제/NNG 통화/NNG 를/JC 하려면/VV 비싼/VA 돈/NNG 을/JC 내고/VV 통신사/NNG 제공/NNG 유선/NNG 망/NNG 을/JC 통해/NNG 전화해야/VA 했지만/VV ,/SW 이/MM 젠/NNG 대부분/NNG 인터넷/NNG 전화/NNG 인/JC VoIP/OL 를/NNG 활용/NNG 해/VV 아주/NNG 저렴한/VA 비용/NNG 으로/JC 빠르게/VA 통화/NNG 할/VV 수/NNG 있게/VA 됐다는/VV 것/NNG 이다/JC ./SW 스테판/NNG 총괄/NNG 은/JC \"/SW 전화/NNG 가/JC VoIP/OL 로/NNG 발전/NNG 한/JC 것/NNG 처럼/JC 암호/NNG 화폐/NNG 도/JC 금융/NNG 이/JC 일종/NNG 의/JC \\'/SW 통화/NNG 인터넷/NNG 프로토콜/NNG (/SW Money/OL over/OL IP/OL )\\'/SW 로/NNG 발전/NNG 한/JC 형태/NNG \"/SW 라며/NNG \"/SW 금전/NNG 적/XPN 인/JC 가치/NNG 자체/NNG 를/JC 인터넷/NNG 에/JC 실어/NNG 보낼/VV 수/NNG 있게/VA 됐다/VV ./SW 다가올/VV 미래/NNG 에는/JC 암호/NNG 화/XPN 폐가/NNG \\'/SW 미래/NNG 금융/NNG \\'/SW 그/NNG 자체/NNG 가/JC 될/VV 것/NNG \"/SW 이라고/JC 내다봤다/VV ./SW 김산/NNG 하/XPN 한경닷컴/NNG 기자/NNG sanha@hankyung.com/SW 기사/NNG 제보/NNG 및/NNG 보도자료/NNG open@hankyung.com/SW [/SW 한경닷컴/NNG 바로가기/NNG ]/SW [/SW 모바일/NNG 한경/NNG 구독/NNG 신청/NNG ]/SW 네이버/NNG 에서/JC 한국/NNG 경제/NNG 채널/NNG 구독/NNG 하기/VV </SW 자세히/VA 보기/NNG >/SW ⓒ/OL 한국/NNG 경제/NNG &/SW hankyung.com/SW ,/SW 무단/NNG 전/MM 재/NNG 및/NNG 재/NNG 배포/NNG 금지/NNG ']"
      ]
     },
     "execution_count": 38,
     "metadata": {},
     "output_type": "execute_result"
    }
   ],
   "source": [
    "# TEANAPS 형태소 분석기를 불러옵니다.\n",
    "from teanaps.nlp import MorphologicalAnalyzer\n",
    "from teanaps.nlp import Processing\n",
    "\n",
    "ma = MorphologicalAnalyzer()\n",
    "processing = Processing()\n",
    "\n",
    "tokenized_sentence_list = []\n",
    "\n",
    "PATH = \"teanaps/data/article_sample.txt\"\n",
    "POS_LIST = [\"NNG\", \"NNP\"]\n",
    "\n",
    "f = open(PATH, encoding=\"utf-8\")\n",
    "\n",
    "for line in f:\n",
    "    line = line.strip()\n",
    "    col = line.split(\"\\t\")\n",
    "    label = col[0]\n",
    "    source = col[1]\n",
    "    datetime = col[2]\n",
    "    title = col[3]\n",
    "    content = col[4]\n",
    "    tagged_word_list = ma.parse(content)\n",
    "    tokenized_sentence = processing.get_plain_text(tagged_word_list)\n",
    "    tokenized_sentence_list.append(tokenized_sentence)\n",
    "f.close()\n",
    "\n",
    "tokenized_sentence_list[:3]"
   ]
  },
  {
   "cell_type": "code",
   "execution_count": null,
   "metadata": {
    "collapsed": true
   },
   "outputs": [],
   "source": []
  }
 ],
 "metadata": {
  "kernelspec": {
   "display_name": "Python 3",
   "language": "python",
   "name": "python3"
  },
  "language_info": {
   "codemirror_mode": {
    "name": "ipython",
    "version": 3
   },
   "file_extension": ".py",
   "mimetype": "text/x-python",
   "name": "python",
   "nbconvert_exporter": "python",
   "pygments_lexer": "ipython3",
   "version": "3.6.8"
  }
 },
 "nbformat": 4,
 "nbformat_minor": 2
}
