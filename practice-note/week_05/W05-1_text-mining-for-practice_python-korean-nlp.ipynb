{
 "cells": [
  {
   "cell_type": "markdown",
   "metadata": {},
   "source": [
    "# TEXT MINING for PRACTICE\n",
    "- 본 자료는 텍스트 마이닝을 활용한 연구 및 강의를 위한 목적으로 제작되었습니다.\n",
    "- 본 자료를 강의 목적으로 활용하고자 하시는 경우 꼭 아래 메일주소로 연락주세요.\n",
    "- 본 자료에 대한 허가되지 않은 배포를 금지합니다.\n",
    "- 강의, 저작권, 출판, 특허, 공동저자에 관련해서는 문의 바랍니다.\n",
    "- **Contact : ADMIN(admin@teanaps.com)**\n",
    "\n",
    "---"
   ]
  },
  {
   "cell_type": "markdown",
   "metadata": {},
   "source": [
    "## WEEK 05-1. 텍스트 데이터 전처리와 형태소 분석\n",
    "- Python 라이브러리를 활용해 텍스트 데이터를 전처리하는 방법에 대해 다룹니다.\n",
    "\n",
    "---"
   ]
  },
  {
   "cell_type": "code",
   "execution_count": 1,
   "metadata": {},
   "outputs": [],
   "source": [
    "# 텍스트 분석을 위한 TEANAPS 패키지를 설치합니다.\n",
    "# TEANAPS는 Google Colaboratory/Linux 환경에 최적화되어 있습니다.\n",
    "# Windows 환경에서 일부 기능에 제한이 있을 수 있습니다."
   ]
  },
  {
   "cell_type": "code",
   "execution_count": 2,
   "metadata": {},
   "outputs": [],
   "source": [
    "# TEANAPS (https://github.com/fingeredman/teanaps)\n",
    "#!git clone https://github.com/fingeredman/teanaps.git"
   ]
  },
  {
   "cell_type": "code",
   "execution_count": 3,
   "metadata": {},
   "outputs": [],
   "source": [
    "#!ls"
   ]
  },
  {
   "cell_type": "code",
   "execution_count": 4,
   "metadata": {},
   "outputs": [],
   "source": [
    "# TEANAPS 설치를 진행합니다.\n",
    "# 설치 전 반드시 상단 메뉴에서 [런타임 > 런타임 초기화]를 클릭한 후 진행해주세요.\n",
    "#!python \"teanaps/teanaps_setup.py\""
   ]
  },
  {
   "cell_type": "markdown",
   "metadata": {},
   "source": [
    "### 1. 텍스트 데이터를 다루는 다양한 방법 알아보기\n",
    "\n",
    "---"
   ]
  },
  {
   "cell_type": "markdown",
   "metadata": {},
   "source": [
    "#### 1.1. Python 기본함수 알아보기\n",
    "\n",
    "---"
   ]
  },
  {
   "cell_type": "code",
   "execution_count": 5,
   "metadata": {},
   "outputs": [
    {
     "name": "stdout",
     "output_type": "stream",
     "text": [
      "앞에 공백과 뒤에 줄바꿈이 달린 문자열 입니다.\n"
     ]
    }
   ],
   "source": [
    "# 1-1) 텍스트 앞뒤의 불필요한 문자열 지우기\n",
    "# strip() 함수는 문자열의 맨 앞과 뒤에 붙어있는 개행문자(\\n), 공백문자(\\s), 탭(\\t)을 제거합니다.\n",
    "new_text = \"  앞에 공백과 뒤에 줄바꿈이 달린 문자열 입니다. \\n\"\n",
    "new_text = new_text.strip()\n",
    "print(new_text)"
   ]
  },
  {
   "cell_type": "code",
   "execution_count": 6,
   "metadata": {},
   "outputs": [
    {
     "name": "stdout",
     "output_type": "stream",
     "text": [
      "앞에 공백과 뒤에 줄바꿈이 달린 문자열 입니다. \n",
      "\n"
     ]
    }
   ],
   "source": [
    "# 1-2) 텍스트 앞에 붙은 불필요한 문자열 지우기\n",
    "# strip() 함수는 문자열의 맨 앞과 뒤에 붙어있는 개행문자(\\n), 공백문자(\\s), 탭(\\t)을 제거합니다.\n",
    "new_text = \"  앞에 공백과 뒤에 줄바꿈이 달린 문자열 입니다. \\n\"\n",
    "new_text = new_text.lstrip()\n",
    "print(new_text)"
   ]
  },
  {
   "cell_type": "code",
   "execution_count": 7,
   "metadata": {},
   "outputs": [
    {
     "name": "stdout",
     "output_type": "stream",
     "text": [
      "  앞에 공백과 뒤에 줄바꿈이 달린 문자열 입니다.\n"
     ]
    }
   ],
   "source": [
    "# 1-3) 텍스트 뒤에 붙은 불필요한 문자열 지우기\n",
    "# strip() 함수는 문자열의 맨 앞과 뒤에 붙어있는 개행문자(\\n), 공백문자(\\s), 탭(\\t)을 제거합니다.\n",
    "new_text = \"  앞에 공백과 뒤에 줄바꿈이 달린 문자열 입니다. \\n\"\n",
    "new_text = new_text.rstrip()\n",
    "print(new_text)"
   ]
  },
  {
   "cell_type": "code",
   "execution_count": 8,
   "metadata": {},
   "outputs": [
    {
     "name": "stdout",
     "output_type": "stream",
     "text": [
      "['영', '일', '이', '삼', '사', '오', '육', '칠', '팔', '구', '십']\n"
     ]
    }
   ],
   "source": [
    "# 2) 텍스트를 문자열 단위로 나눠 리스트로 만들기\n",
    "# split(STRING) 함수는 문자열을 STRING 단위로 나눠 리스트 형태로 만듭니다.\n",
    "# STRING에는 공백문자를 입력할 수 없습니다.\n",
    "new_text = \"영,일,이,삼,사,오,육,칠,팔,구,십\"\n",
    "string_list = new_text.split(\",\")\n",
    "print(string_list)"
   ]
  },
  {
   "cell_type": "code",
   "execution_count": 9,
   "metadata": {},
   "outputs": [
    {
     "name": "stdout",
     "output_type": "stream",
     "text": [
      "저의 직업은 데이터 엔지니어 입니다.\n"
     ]
    }
   ],
   "source": [
    "# 3) 텍스트 일부를 치환하기\n",
    "# replace(STRING, NEW_STRING) 함수는 문자열(STRING)의 일부를 다른 문자열(NEW_STRING)로 치환합니다.\n",
    "new_text = \"저의 직업은 프로그램 개발자 입니다.\"\n",
    "new_text = new_text.replace(\"프로그램 개발자\", \"데이터 엔지니어\")\n",
    "print(new_text)"
   ]
  },
  {
   "cell_type": "code",
   "execution_count": 10,
   "metadata": {},
   "outputs": [
    {
     "name": "stdout",
     "output_type": "stream",
     "text": [
      "저의\n",
      "직업은\n",
      "데이터\n",
      "엔지니어\n",
      "입니다.\n"
     ]
    }
   ],
   "source": [
    "# 문자열이 아닌 특수기호도 치환이 가능합니다.\n",
    "new_text = new_text.replace(\" \", \"\\n\")\n",
    "print(new_text)"
   ]
  },
  {
   "cell_type": "code",
   "execution_count": 11,
   "metadata": {},
   "outputs": [
    {
     "name": "stdout",
     "output_type": "stream",
     "text": [
      "TEXT MINING은 DATA MINING의 한 분야입니다.\n"
     ]
    }
   ],
   "source": [
    "# 4-1) 텍스트에 포함된 소문자 알파벳을 대문자로 변경하기\n",
    "# upper() 함수는 문자열에 포함된 소문자 알파벳을 모두 대문자로 변경합니다.\n",
    "new_text = \"text mining은 DATA MINING의 한 분야입니다.\"\n",
    "new_text = new_text.upper()\n",
    "print(new_text)"
   ]
  },
  {
   "cell_type": "code",
   "execution_count": 12,
   "metadata": {},
   "outputs": [
    {
     "name": "stdout",
     "output_type": "stream",
     "text": [
      "text mining은 data mining의 한 분야입니다.\n"
     ]
    }
   ],
   "source": [
    "# 4-2) 텍스트에 포함된 대문자 알파벳을 소문자로 변경하기\n",
    "# lower() 함수는 문자열에 포함된 대문자 알파벳을 모두 소문자로 변경합니다.\n",
    "new_text = \"text mining은 DATA MINING의 한 분야입니다.\"\n",
    "new_text = new_text.lower()\n",
    "print(new_text)"
   ]
  },
  {
   "cell_type": "code",
   "execution_count": 13,
   "metadata": {},
   "outputs": [
    {
     "name": "stdout",
     "output_type": "stream",
     "text": [
      "6\n"
     ]
    }
   ],
   "source": [
    "# 5) 텍스트에 포함된 문자열의 인덱스 찾아내기\n",
    "new_text = \"영일이삼사오육칠팔구십\"\n",
    "string_index = new_text.index(\"육\")\n",
    "print(string_index)"
   ]
  },
  {
   "cell_type": "markdown",
   "metadata": {},
   "source": [
    "#### 1.2. 텍스트 데이터를 리스트 처럼 다루기\n",
    "\n",
    "---"
   ]
  },
  {
   "cell_type": "code",
   "execution_count": 14,
   "metadata": {},
   "outputs": [],
   "source": [
    "# Python에서 문자열은 리스트와 유사한 자료구조로 취급해 인덱싱 할 수 있습니다.\n",
    "new_text = \"영일이삼사오육칠팔구\"\n",
    "new_list = [0, 1, 2, 3, 4, 5, 6, 7, 8,  9]"
   ]
  },
  {
   "cell_type": "code",
   "execution_count": 15,
   "metadata": {},
   "outputs": [
    {
     "name": "stdout",
     "output_type": "stream",
     "text": [
      "new_text : 영일이삼사오육칠팔구십\n",
      "new_list : [0, 1, 2, 3, 4, 5, 6, 7, 8, 9, 10]\n"
     ]
    }
   ],
   "source": [
    "# 1) 더하기 연산자를 활용해 두 문자열을 결합합니다.\n",
    "new_text = new_text + \"십\"\n",
    "new_list = new_list + [10]\n",
    "print(\"new_text :\", new_text)\n",
    "print(\"new_list :\", new_list)"
   ]
  },
  {
   "cell_type": "code",
   "execution_count": 16,
   "metadata": {},
   "outputs": [
    {
     "name": "stdout",
     "output_type": "stream",
     "text": [
      "new_text_length : 11\n",
      "new_list_length : 11\n"
     ]
    }
   ],
   "source": [
    "# 2) 문자열에 존재하는 모든 문자의 개수를 불러옵니다.\n",
    "new_text_length = len(new_text)\n",
    "new_list_length = len(new_list)\n",
    "print(\"new_text_length :\", new_text_length)\n",
    "print(\"new_list_length :\", new_list_length)"
   ]
  },
  {
   "cell_type": "code",
   "execution_count": 17,
   "metadata": {},
   "outputs": [
    {
     "name": "stdout",
     "output_type": "stream",
     "text": [
      "True\n",
      "True\n"
     ]
    }
   ],
   "source": [
    "# 3-1) 문자열에 특정 문자가 존재하는지 여부를 in 연산자를 통해 확인합니다.\n",
    "print(\"칠\" in new_text)\n",
    "print(7 in new_list)"
   ]
  },
  {
   "cell_type": "code",
   "execution_count": 18,
   "metadata": {},
   "outputs": [
    {
     "name": "stdout",
     "output_type": "stream",
     "text": [
      "False\n",
      "False\n"
     ]
    }
   ],
   "source": [
    "# 3-2) 문자열에 특정 문자가 존재하지 않는지 여부를 not in 연산자를 통해 확인합니다.\n",
    "print(\"칠\" not in new_text)\n",
    "print(7 not in new_list)"
   ]
  },
  {
   "cell_type": "code",
   "execution_count": 19,
   "metadata": {},
   "outputs": [
    {
     "name": "stdout",
     "output_type": "stream",
     "text": [
      "0번째 문자 : 영\n",
      "1번째 문자 : 일\n",
      "4번째 문자 : 사\n"
     ]
    }
   ],
   "source": [
    "# 4) 문자열에 존재하는 N 번째 문자를 불러옵니다.\n",
    "print(\"0번째 문자 :\", new_text[0])\n",
    "print(\"1번째 문자 :\", new_text[1])\n",
    "print(\"4번째 문자 :\", new_text[4])"
   ]
  },
  {
   "cell_type": "code",
   "execution_count": 20,
   "metadata": {},
   "outputs": [
    {
     "name": "stdout",
     "output_type": "stream",
     "text": [
      "0~3번째 문자 : 영일이\n",
      "4~9번째 문자 : 사오육칠팔\n",
      "2~3번째 문자 : 이\n"
     ]
    }
   ],
   "source": [
    "# 5) 문자열에 존재하는 N번째 부터 M-1번째 문자를 리스트 형식으로 불러옵니다.\n",
    "print(\"0~3번째 문자 :\", new_text[0:3])\n",
    "print(\"4~9번째 문자 :\", new_text[4:9])\n",
    "print(\"2~3번째 문자 :\", new_text[2:3])"
   ]
  },
  {
   "cell_type": "code",
   "execution_count": 21,
   "metadata": {},
   "outputs": [
    {
     "name": "stdout",
     "output_type": "stream",
     "text": [
      "3번째 부터 모든 문자 : 삼사오육칠팔구십\n",
      "5번째 부터 모든 문자 : 오육칠팔구십\n",
      "9번째 부터 모든 문자 : 구십\n"
     ]
    }
   ],
   "source": [
    "# 6) 문자열에 존재하는 N번째 부터 모든 문자를 리스트 형식으로 불러옵니다.\n",
    "print(\"3번째 부터 모든 문자 :\", new_text[3:])\n",
    "print(\"5번째 부터 모든 문자 :\", new_text[5:])\n",
    "print(\"9번째 부터 모든 문자 :\", new_text[9:])"
   ]
  },
  {
   "cell_type": "code",
   "execution_count": 22,
   "metadata": {},
   "outputs": [
    {
     "name": "stdout",
     "output_type": "stream",
     "text": [
      "1번째 이전의 모든 문자 : 영\n",
      "7번째 이전의 모든 문자 : 영일이삼사오육\n",
      "9번째 이전의 모든 문자 : 영일이삼사오육칠팔\n"
     ]
    }
   ],
   "source": [
    "# 7) 문자열에 존재하는 N번째 이전의 모든 문자를 리스트 형식으로 불러옵니다.\n",
    "print(\"1번째 이전의 모든 문자 :\", new_text[:1])\n",
    "print(\"7번째 이전의 모든 문자 :\", new_text[:7])\n",
    "print(\"9번째 이전의 모든 문자 :\", new_text[:9])"
   ]
  },
  {
   "cell_type": "code",
   "execution_count": 23,
   "metadata": {},
   "outputs": [
    {
     "name": "stdout",
     "output_type": "stream",
     "text": [
      "끝에서 |-1|-1번째 이전의 모든 문자 : 영일이삼사오육칠팔구\n",
      "끝에서 |-1|-1번째 부터 모든 문자 : 십\n",
      "끝에서 |-2|-1번째 이전의 모든 문자 : 영일이삼사오육칠팔\n",
      "끝에서 |-2|-1번째 부터 모든 문자 : 구십\n"
     ]
    }
   ],
   "source": [
    "# 8) 문자열 인덱싱에 사용되는 정수 N의 부호가 음수인 경우, 마지막 문자부터 |N|-1번째 원소를 의미합니다.\n",
    "print(\"끝에서 |-1|-1번째 이전의 모든 문자 :\", new_text[:-1])\n",
    "print(\"끝에서 |-1|-1번째 부터 모든 문자 :\", new_text[-1:])\n",
    "print(\"끝에서 |-2|-1번째 이전의 모든 문자 :\", new_text[:-2])\n",
    "print(\"끝에서 |-2|-1번째 부터 모든 문자 :\", new_text[-2:])"
   ]
  },
  {
   "cell_type": "code",
   "execution_count": 24,
   "metadata": {},
   "outputs": [
    {
     "name": "stdout",
     "output_type": "stream",
     "text": [
      "영 일 이 삼 사 오 육 칠 팔 구 십 "
     ]
    }
   ],
   "source": [
    "# 9) FOR 문의 for + (반복할 변수) + in + (반복할 값이 저장된 리스트): 구조에서 리스트 대신 문자열을 활용합니다.\n",
    "for i in new_text:\n",
    "    print(i, end=\" \")"
   ]
  },
  {
   "cell_type": "markdown",
   "metadata": {},
   "source": [
    "#### 1.3. 텍스트 데이터 전처리하기\n",
    "\n",
    "---"
   ]
  },
  {
   "cell_type": "code",
   "execution_count": 25,
   "metadata": {},
   "outputs": [
    {
     "data": {
      "text/html": [
       "<script>requirejs.config({paths: { 'plotly': ['https://cdn.plot.ly/plotly-latest.min']},});if(!window.Plotly) {{require(['plotly'],function(plotly) {window.Plotly=plotly;});}}</script>"
      ],
      "text/vnd.plotly.v1+html": [
       "<script>requirejs.config({paths: { 'plotly': ['https://cdn.plot.ly/plotly-latest.min']},});if(!window.Plotly) {{require(['plotly'],function(plotly) {window.Plotly=plotly;});}}</script>"
      ]
     },
     "metadata": {},
     "output_type": "display_data"
    },
    {
     "data": {
      "text/html": [
       "<script>requirejs.config({paths: { 'plotly': ['https://cdn.plot.ly/plotly-latest.min']},});if(!window.Plotly) {{require(['plotly'],function(plotly) {window.Plotly=plotly;});}}</script>"
      ],
      "text/vnd.plotly.v1+html": [
       "<script>requirejs.config({paths: { 'plotly': ['https://cdn.plot.ly/plotly-latest.min']},});if(!window.Plotly) {{require(['plotly'],function(plotly) {window.Plotly=plotly;});}}</script>"
      ]
     },
     "metadata": {},
     "output_type": "display_data"
    }
   ],
   "source": [
    "# TEANAPS 전처리기를 불러옵니다.\n",
    "from teanaps.nlp import Processing\n",
    "\n",
    "pro = Processing()"
   ]
  },
  {
   "cell_type": "code",
   "execution_count": 26,
   "metadata": {},
   "outputs": [
    {
     "name": "stdout",
     "output_type": "stream",
     "text": [
      "TEANAPS는 텍스트 마이닝을 위한 Python 패키지입니다ㅋ............\n"
     ]
    }
   ],
   "source": [
    "# 1) 반복되는 불필요한 문자열을 삭제합니다.\n",
    "sentence = \"TEANAPS는 텍스트 마이닝을 위한 Python 패키지입니다ㅋㅋㅋㅋㅋㅋㅋㅋㅋㅋㅋㅋㅋ\"\n",
    "result = pro.iteration_remover(sentence, replace_char=\".\")\n",
    "print(result)"
   ]
  },
  {
   "cell_type": "code",
   "execution_count": 27,
   "metadata": {},
   "outputs": [
    {
     "name": "stdout",
     "output_type": "stream",
     "text": [
      "['어머나...', '안녕하세요.', 'TEANAPS를 다시 찾아주셨군요!']\n"
     ]
    }
   ],
   "source": [
    "# 2) 문장을 문장 단위로 분리합니다.\n",
    "paragraph = \"어머나...안녕하세요. TEANAPS를 다시 찾아주셨군요!\"\n",
    "result = pro.sentence_splitter(paragraph)\n",
    "print(result)"
   ]
  },
  {
   "cell_type": "code",
   "execution_count": 28,
   "metadata": {},
   "outputs": [
    {
     "name": "stdout",
     "output_type": "stream",
     "text": [
      "TEANAPS/OL 는/JX 텍스트/NNG 마이닝/NNP 을/JKO 위한/VV+ETM Python/OL 라이브러리/NNG 입니다/VCP+EF ./SW\n"
     ]
    }
   ],
   "source": [
    "# 3) 형태소분석 결과를 형태소형 문장으로 변환합니다.\n",
    "ma_result = [('TEANAPS', 'OL', (0, 7)), ('는', 'JX', (7, 8)), ('텍스트', 'NNG', (9, 12)), ('마이닝', 'NNP', (13, 16)), ('을', 'JKO', (16, 17)), ('위한', 'VV+ETM', (18, 20)), ('Python', 'OL', (21, 27)), ('라이브러리', 'NNG', (28, 33)), ('입니다', 'VCP+EF', (33, 37)), ('.', 'SW', (37, 38))]\n",
    "result = pro.get_plain_text(ma_result)\n",
    "print(result)"
   ]
  },
  {
   "cell_type": "markdown",
   "metadata": {},
   "source": [
    "### 2. 형태소 분석기 활용하기: TEANAPS\n",
    "\n",
    "---"
   ]
  },
  {
   "cell_type": "markdown",
   "metadata": {},
   "source": [
    "#### 2.2. TEANAPS\n",
    "\n",
    "---"
   ]
  },
  {
   "cell_type": "code",
   "execution_count": 33,
   "metadata": {},
   "outputs": [
    {
     "name": "stdout",
     "output_type": "stream",
     "text": [
      "[('손흥민', 'NNG', (0, 3)), ('이', 'JC', (3, 4)), ('골', 'NNG', (5, 6)), ('을', 'JC', (6, 7)), ('작렬', 'NNG', (8, 10)), ('하며', 'VV', (10, 12)), ('토트넘', 'NNG', (13, 16)), ('홋스퍼', 'NNG', (17, 20)), ('의', 'JC', (20, 21)), ('승리', 'NNG', (22, 24)), ('를', 'JC', (24, 25)), ('이끌었다', 'VV', (26, 30)), ('.', 'SW', (30, 31))]\n"
     ]
    }
   ],
   "source": [
    "# TEANAPS 형태소 분석기를 불러옵니다.\n",
    "from teanaps.nlp import MorphologicalAnalyzer\n",
    "\n",
    "ma = MorphologicalAnalyzer()\n",
    "\n",
    "# TEANAPS에서는 한국어 텍스트 분석을 위해 3가지 형태소분석기를 지원합니다.\n",
    "# 사용할 형태소분석기 유형을 지정합니다.\n",
    "# 지정하지 않은 경우에는 기본으로 Okt 형태소분석기가 사용됩니다.\n",
    "ma.set_tagger(\"okt\")\n",
    "#ma.set_tagger(\"mecab\")\n",
    "#ma.set_tagger(\"kkma\")\n",
    "\n",
    "text = \"손흥민이 골을 작렬하며 토트넘 홋스퍼의 승리를 이끌었다.\"\n",
    "pos_list = ma.parse(text)\n",
    "print(pos_list)"
   ]
  },
  {
   "cell_type": "markdown",
   "metadata": {},
   "source": [
    "#### 2.3. 형태소분석기 활용하기\n",
    "\n",
    "---"
   ]
  },
  {
   "cell_type": "code",
   "execution_count": 34,
   "metadata": {},
   "outputs": [
    {
     "name": "stdout",
     "output_type": "stream",
     "text": [
      "100\r"
     ]
    },
    {
     "data": {
      "text/plain": [
       "['금융/NNG 硏/OL 비트코인/NNG 쇠락/NNG 과/JC 내/MM 재적/NNG 결함/NNG 보고서/NNG (/SW 지디/VV 넷/NNG 코리아/NNG =/SW 손/NNG 예술/NNG 기자/NNG )/SW 대표/NNG 적/XPN 인/JC 암호/NNG 화폐/NNG 비트코인/NNG 의/JC 가격/NNG 이/JC 급/NNG 변동/NNG 했음에도/VV 불구/NNG ,/SW 일부/NNG 암호/NNG 화폐/NNG 옹호/NNG 론자/NNG 들/XPN 은/JC 비트코인/NNG 이/JC 갖고/VV 있는/VA 몇/NNG 가지/NNG 결함/NNG 이/JC 해소/NNG 되면/VV 새로운/VA 국면/NNG 이/JC 나타날/VV 것/NNG 으로/JC 예측/NNG 했다/VV ./SW',\n",
       " '그/NNG 들/XPN 은/JC 이런/VA 결함/NNG 을/JC 전제/NNG 로/JC 국내외/NNG 정부/NNG 와/JC 감독/NNG 당국/NNG 은/JC 선제/NNG 적/XPN 으로/JC 시각/NNG 및/NNG 규제/NNG 환경/NNG 을/JC 정비/NNG 해야/VV 한다는/MM 주장/NNG 하고/JC 있다/VA ./SW',\n",
       " '14일/SN 한국/NNG 금융/NNG 연구원/NNG 은/JC 비트코인/NNG 쇠락/NNG 과/JC 내/MM 재적/NNG 결함/NNG 이란/JC 보고서/NNG 에서/JC 암호/NNG 화폐/NNG 옹호/NNG 론/NNG 자/XPN 의/JC 입장/NNG 과/JC 함께/MAG 그/NNG 들/XPN 이/JC 제시/NNG 한/JC 세/NNG 가지/NNG 결함/NNG 을/JC 발표/NNG 했다/VV ./SW']"
      ]
     },
     "execution_count": 34,
     "metadata": {},
     "output_type": "execute_result"
    }
   ],
   "source": [
    "# TEANAPS 형태소 분석기를 불러옵니다.\n",
    "from teanaps.nlp import MorphologicalAnalyzer\n",
    "from teanaps.nlp import Processing\n",
    "\n",
    "ma = MorphologicalAnalyzer()\n",
    "pro = Processing()\n",
    "\n",
    "tokenized_sentence_list = []\n",
    "\n",
    "PATH = \"data/article_sample.txt\"\n",
    "POS_LIST = [\"NNG\", \"NNP\"]\n",
    "\n",
    "f = open(PATH, encoding=\"utf-8\")\n",
    "\n",
    "line_count = 0\n",
    "for line in f:\n",
    "    line_count += 1\n",
    "    print(line_count, end=\"\\r\")\n",
    "    line = line.strip()\n",
    "    col = line.split(\"\\t\")\n",
    "    label = col[0]\n",
    "    source = col[1]\n",
    "    datetime = col[2]\n",
    "    title = col[3]\n",
    "    content = col[4]\n",
    "    sentence_list = pro.sentence_splitter(content)\n",
    "    for sentence in sentence_list:\n",
    "        tagged_word_list = ma.parse(sentence)\n",
    "        tokenized_sentence = pro.get_plain_text(tagged_word_list)\n",
    "        tokenized_sentence_list.append(tokenized_sentence)\n",
    "f.close()\n",
    "\n",
    "tokenized_sentence_list[:3]"
   ]
  },
  {
   "cell_type": "markdown",
   "metadata": {},
   "source": [
    "### Assignment 01. 소설에서 가장 많이 쓰이는 \"명사\" 알아보기\n",
    "> - 본 자료를 응용하여 소설 속에서 가장 많이 출현하는 \"명사\"를 추출하는 코드를 작성합니다.\n",
    "> - 소설 속에 가장 많이 출현하는 상위 100개 \"명사\"를 출력합니다.\n",
    "> - \"data/novel_sample_ko.txt\" 파일을 활용합니다.\n",
    "> - 한국어 형태소 분석기는 TEANAPS 라이브러리의 Okt를 활용합니다.\n",
    "\n",
    "---"
   ]
  },
  {
   "cell_type": "code",
   "execution_count": 3,
   "metadata": {},
   "outputs": [
    {
     "data": {
      "text/plain": [
       "[('그', 293),\n",
       " ('이', 291),\n",
       " ('말했습니다.', 287),\n",
       " ('것을', 188),\n",
       " ('하였습니다.', 177),\n",
       " ('있는', 176),\n",
       " ('하고', 175),\n",
       " ('그러나', 171),\n",
       " ('그는', 158),\n",
       " ('말을', 142),\n",
       " ('한', 142),\n",
       " ('수', 138),\n",
       " ('그리고', 118),\n",
       " ('그의', 118),\n",
       " ('것입니다.', 105),\n",
       " ('그가', 101),\n",
       " ('더', 99),\n",
       " ('자기의', 99),\n",
       " ('그렇게', 97),\n",
       " ('자기가', 91),\n",
       " ('하는', 90),\n",
       " ('것이', 88),\n",
       " ('같은', 82),\n",
       " ('할', 80),\n",
       " ('것이었습니다.', 78),\n",
       " ('모두', 71),\n",
       " ('또', 71),\n",
       " ('줄', 67),\n",
       " ('있었습니다.', 65),\n",
       " ('것은', 65),\n",
       " ('두', 64),\n",
       " ('이제', 64),\n",
       " ('함께', 63),\n",
       " ('훌륭한', 62),\n",
       " ('때문에', 61),\n",
       " ('했습니다.', 60),\n",
       " ('그를', 60),\n",
       " ('그래서', 60),\n",
       " ('바로', 59),\n",
       " ('결혼을', 58),\n",
       " ('그런', 57),\n",
       " ('알고', 57),\n",
       " ('대한', 56),\n",
       " ('다른', 56),\n",
       " ('다시', 56),\n",
       " ('사람이', 56),\n",
       " ('어떤', 55),\n",
       " ('되었습니다.', 54),\n",
       " ('몹시', 53),\n",
       " ('모든', 53),\n",
       " ('일이', 53),\n",
       " ('이렇게', 52),\n",
       " ('젊은', 51),\n",
       " ('이야기를', 51),\n",
       " ('때', 50),\n",
       " ('없는', 50),\n",
       " ('것', 50),\n",
       " ('공작은', 49),\n",
       " ('달라고', 48),\n",
       " ('없었습니다.', 48),\n",
       " ('헬레나는', 47),\n",
       " ('듣고', 46),\n",
       " ('된', 46),\n",
       " ('잘', 46),\n",
       " ('아내가', 46),\n",
       " ('일을', 44),\n",
       " ('로미오가', 44),\n",
       " ('햄릿은', 44),\n",
       " ('죽은', 43),\n",
       " ('보고', 43),\n",
       " ('아름다운', 43),\n",
       " ('대답했습니다.', 43),\n",
       " ('마음을', 43),\n",
       " ('것이라고', 42),\n",
       " ('자기', 42),\n",
       " ('백작', 41),\n",
       " ('곧', 41),\n",
       " ('않았습니다.', 41),\n",
       " ('사랑을', 41),\n",
       " ('전에', 41),\n",
       " ('하지', 40),\n",
       " ('내', 40),\n",
       " ('주었습니다.', 40),\n",
       " ('이런', 39),\n",
       " ('온', 38),\n",
       " ('다', 38),\n",
       " ('물었습니다.', 38),\n",
       " ('자기를', 38),\n",
       " ('사람의', 38),\n",
       " ('제가', 37),\n",
       " ('준', 37),\n",
       " ('바이올라는', 37),\n",
       " ('사랑하는', 36),\n",
       " ('많은', 36),\n",
       " ('있을', 36),\n",
       " ('아내를', 36),\n",
       " ('큰', 36),\n",
       " ('로미오는', 36),\n",
       " ('같이', 35),\n",
       " ('수가', 35)]"
      ]
     },
     "execution_count": 3,
     "metadata": {},
     "output_type": "execute_result"
    }
   ],
   "source": [
    "#f = open(\"data/novel_sample_en.txt\", encoding=\"utf-8\")\n",
    "f = open(\"data/novel_sample_ko.txt\", encoding=\"utf-8\")\n",
    "\n",
    "sample_dict = {}\n",
    "line_number = 0\n",
    "\n",
    "for line in f:\n",
    "    # 처리중 라인 카운트 (optional)\n",
    "    #line_number += 1\n",
    "    #print(line_number, end=\"\\r\")\n",
    "    \n",
    "    # 여기에 코드를 작성합니다.\n",
    "    line = line.strip()\n",
    "    word_list = line.split()\n",
    "    for word in word_list:\n",
    "        if word in sample_dict.keys():\n",
    "            sample_dict[word] += 1\n",
    "        else:\n",
    "            sample_dict[word] = 1\n",
    "    #\n",
    "    \n",
    "f.close()\n",
    "\n",
    "sample_list = []\n",
    "\n",
    "for sample in sample_dict.items():\n",
    "    sample_list.append(sample)\n",
    "\n",
    "sample_list.sort(key=lambda elem: elem[1], reverse=True)\n",
    "sample_list[:100]"
   ]
  },
  {
   "cell_type": "code",
   "execution_count": null,
   "metadata": {},
   "outputs": [],
   "source": []
  }
 ],
 "metadata": {
  "kernelspec": {
   "display_name": "Python 3 (ipykernel)",
   "language": "python",
   "name": "python3"
  },
  "language_info": {
   "codemirror_mode": {
    "name": "ipython",
    "version": 3
   },
   "file_extension": ".py",
   "mimetype": "text/x-python",
   "name": "python",
   "nbconvert_exporter": "python",
   "pygments_lexer": "ipython3",
   "version": "3.8.12"
  }
 },
 "nbformat": 4,
 "nbformat_minor": 2
}
