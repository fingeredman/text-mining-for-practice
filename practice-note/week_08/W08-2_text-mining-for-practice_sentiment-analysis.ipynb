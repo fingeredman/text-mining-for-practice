{
 "cells": [
  {
   "cell_type": "markdown",
   "metadata": {},
   "source": [
    "# TEXT MINING for PRACTICE\n",
    "- 본 자료는 텍스트 마이닝을 활용한 연구 및 강의를 위한 목적으로 제작되었습니다.\n",
    "- 본 자료를 강의 목적으로 활용하고자 하시는 경우 꼭 아래 메일주소로 연락주세요.\n",
    "- 본 자료에 대한 허가되지 않은 배포를 금지합니다.\n",
    "- 강의, 저작권, 출판, 특허, 공동저자에 관련해서는 문의 바랍니다.\n",
    "- **Contact : ADMIN(admin@teanaps.com)**\n",
    "\n",
    "---"
   ]
  },
  {
   "cell_type": "markdown",
   "metadata": {},
   "source": [
    "## WEEK 08-2. 감성분석\n",
    "- Python의 TEANAPS 패키지를 활용해 감성분석을 수행하는 방법에 대해 다룹니다.\n",
    "\n",
    "---"
   ]
  },
  {
   "cell_type": "markdown",
   "metadata": {},
   "source": [
    "### 1. 감성분석 수행방법 알아보기: TEANAPS\n",
    "\n",
    "---"
   ]
  },
  {
   "cell_type": "markdown",
   "metadata": {},
   "source": [
    "#### 1.1. TEANAPS 패키지 설치하기\n",
    "\n",
    "---"
   ]
  },
  {
   "cell_type": "code",
   "execution_count": 1,
   "metadata": {},
   "outputs": [],
   "source": [
    "# 텍스트 분석을 위한 TEANAPS 패키지를 설치합니다.\n",
    "# TEANAPS는 Google Colaboratory/Linux 환경에 최적화되어 있습니다.\n",
    "# Windows 환경에서 일부 기능에 제한이 있을 수 있습니다."
   ]
  },
  {
   "cell_type": "code",
   "execution_count": 2,
   "metadata": {},
   "outputs": [],
   "source": [
    "# TEANAPS (https://github.com/fingeredman/teanaps)\n",
    "#!git clone https://github.com/fingeredman/teanaps.git"
   ]
  },
  {
   "cell_type": "code",
   "execution_count": 3,
   "metadata": {},
   "outputs": [],
   "source": [
    "#!ls"
   ]
  },
  {
   "cell_type": "code",
   "execution_count": 4,
   "metadata": {},
   "outputs": [],
   "source": [
    "# TEANAPS 설치를 진행합니다.\n",
    "# 설치 전 반드시 상단 메뉴에서 [런타임 > 런타임 초기화]를 클릭한 후 진행해주세요.\n",
    "#!python \"teanaps/teanaps_setup.py\""
   ]
  },
  {
   "cell_type": "markdown",
   "metadata": {},
   "source": [
    "#### 1.2. TEANAPS 패키지로 감성분석 수행하기\n",
    "\n",
    "---"
   ]
  },
  {
   "cell_type": "code",
   "execution_count": 1,
   "metadata": {},
   "outputs": [
    {
     "data": {
      "text/html": [
       "<script>requirejs.config({paths: { 'plotly': ['https://cdn.plot.ly/plotly-latest.min']},});if(!window.Plotly) {{require(['plotly'],function(plotly) {window.Plotly=plotly;});}}</script>"
      ],
      "text/vnd.plotly.v1+html": [
       "<script>requirejs.config({paths: { 'plotly': ['https://cdn.plot.ly/plotly-latest.min']},});if(!window.Plotly) {{require(['plotly'],function(plotly) {window.Plotly=plotly;});}}</script>"
      ]
     },
     "metadata": {},
     "output_type": "display_data"
    },
    {
     "data": {
      "text/html": [
       "<script>requirejs.config({paths: { 'plotly': ['https://cdn.plot.ly/plotly-latest.min']},});if(!window.Plotly) {{require(['plotly'],function(plotly) {window.Plotly=plotly;});}}</script>"
      ],
      "text/vnd.plotly.v1+html": [
       "<script>requirejs.config({paths: { 'plotly': ['https://cdn.plot.ly/plotly-latest.min']},});if(!window.Plotly) {{require(['plotly'],function(plotly) {window.Plotly=plotly;});}}</script>"
      ]
     },
     "metadata": {},
     "output_type": "display_data"
    },
    {
     "data": {
      "text/html": [
       "<script>requirejs.config({paths: { 'plotly': ['https://cdn.plot.ly/plotly-latest.min']},});if(!window.Plotly) {{require(['plotly'],function(plotly) {window.Plotly=plotly;});}}</script>"
      ],
      "text/vnd.plotly.v1+html": [
       "<script>requirejs.config({paths: { 'plotly': ['https://cdn.plot.ly/plotly-latest.min']},});if(!window.Plotly) {{require(['plotly'],function(plotly) {window.Plotly=plotly;});}}</script>"
      ]
     },
     "metadata": {},
     "output_type": "display_data"
    },
    {
     "data": {
      "text/html": [
       "<script>requirejs.config({paths: { 'plotly': ['https://cdn.plot.ly/plotly-latest.min']},});if(!window.Plotly) {{require(['plotly'],function(plotly) {window.Plotly=plotly;});}}</script>"
      ],
      "text/vnd.plotly.v1+html": [
       "<script>requirejs.config({paths: { 'plotly': ['https://cdn.plot.ly/plotly-latest.min']},});if(!window.Plotly) {{require(['plotly'],function(plotly) {window.Plotly=plotly;});}}</script>"
      ]
     },
     "metadata": {},
     "output_type": "display_data"
    },
    {
     "data": {
      "text/html": [
       "<script>requirejs.config({paths: { 'plotly': ['https://cdn.plot.ly/plotly-latest.min']},});if(!window.Plotly) {{require(['plotly'],function(plotly) {window.Plotly=plotly;});}}</script>"
      ],
      "text/vnd.plotly.v1+html": [
       "<script>requirejs.config({paths: { 'plotly': ['https://cdn.plot.ly/plotly-latest.min']},});if(!window.Plotly) {{require(['plotly'],function(plotly) {window.Plotly=plotly;});}}</script>"
      ]
     },
     "metadata": {},
     "output_type": "display_data"
    },
    {
     "data": {
      "text/html": [
       "<script>requirejs.config({paths: { 'plotly': ['https://cdn.plot.ly/plotly-latest.min']},});if(!window.Plotly) {{require(['plotly'],function(plotly) {window.Plotly=plotly;});}}</script>"
      ],
      "text/vnd.plotly.v1+html": [
       "<script>requirejs.config({paths: { 'plotly': ['https://cdn.plot.ly/plotly-latest.min']},});if(!window.Plotly) {{require(['plotly'],function(plotly) {window.Plotly=plotly;});}}</script>"
      ]
     },
     "metadata": {},
     "output_type": "display_data"
    }
   ],
   "source": [
    "from teanaps.text_analysis import SentimentAnalysis\n",
    "\n",
    "#senti = SentimentAnalysis(model_path=\"/model\", kobert_path=\"/kobert\")\n",
    "senti = SentimentAnalysis()"
   ]
  },
  {
   "cell_type": "code",
   "execution_count": 2,
   "metadata": {},
   "outputs": [
    {
     "name": "stdout",
     "output_type": "stream",
     "text": [
      "((0.0595, 0.9543), 'positive')\n"
     ]
    }
   ],
   "source": [
    "sentence = \"늘 배우고 배푸는 자세가 필요합니다.\"\n",
    "result = senti.tag(sentence, neutral_th=0.3)\n",
    "print(result)"
   ]
  },
  {
   "cell_type": "code",
   "execution_count": 7,
   "metadata": {},
   "outputs": [
    {
     "name": "stdout",
     "output_type": "stream",
     "text": [
      "((0.8715, 0.1076), 'negative')\n"
     ]
    }
   ],
   "source": [
    "sentence = \"과한 욕심은 주변 사람들에게 피해를 줍니다.\"\n",
    "result = senti.tag(sentence, neutral_th=0.3)\n",
    "print(result)"
   ]
  },
  {
   "cell_type": "markdown",
   "metadata": {},
   "source": [
    "### 2. 감성분석 결과에 대한 해석\n",
    "\n",
    "---"
   ]
  },
  {
   "cell_type": "markdown",
   "metadata": {},
   "source": [
    "#### 2.1. 형태소별 가중치 출력하기\n",
    "\n",
    "---"
   ]
  },
  {
   "cell_type": "code",
   "execution_count": 8,
   "metadata": {},
   "outputs": [
    {
     "name": "stdout",
     "output_type": "stream",
     "text": [
      "[' 늘', ' 배우', '고', ' 배', '푸', '는', ' 자세', '가', ' 필요', '합니다', ' ', '.']\n",
      "[0.072522074, 0.08697342, 0.052703843, 0.051040735, 0.0606895, 0.05134341, 0.05213573, 0.08644837, 0.078125894, 0.079360135, 0, 0.079488374]\n"
     ]
    }
   ],
   "source": [
    "sentence = \"늘 배우고 배푸는 자세가 필요합니다.\"\n",
    "token_list, weight_list = senti.get_weight(sentence)\n",
    "print(token_list)\n",
    "print(weight_list)"
   ]
  },
  {
   "cell_type": "code",
   "execution_count": 9,
   "metadata": {},
   "outputs": [
    {
     "name": "stdout",
     "output_type": "stream",
     "text": [
      "[' ', '과', '한', ' 욕심', '은', ' 주변', ' 사람들', '에게', ' 피해를', ' ', '줍', '니다', ' ', '.']\n",
      "[0, 0.020344315, 0.024879746, 0.02612342, 0.03615231, 0.048542265, 0.06707654, 0.0936653, 0.07649707, 0, 0.08189902, 0.08962273, 0, 0.07841993]\n"
     ]
    }
   ],
   "source": [
    "sentence = \"과한 욕심은 주변 사람들에게 피해를 줍니다.\"\n",
    "token_list, weight_list = senti.get_weight(sentence)\n",
    "print(token_list)\n",
    "print(weight_list)"
   ]
  },
  {
   "cell_type": "markdown",
   "metadata": {},
   "source": [
    "#### 2.2. 형태소별 가중치 시각화하기: 히스토그램\n",
    "\n",
    "---"
   ]
  },
  {
   "cell_type": "code",
   "execution_count": 10,
   "metadata": {},
   "outputs": [
    {
     "data": {
      "text/html": [
       "\n",
       "                <script src=\"/static/components/requirejs/require.js\"></script>\n",
       "                <script>\n",
       "                  requirejs.config({\n",
       "                    paths: {\n",
       "                      base: '/static/base',\n",
       "                      plotly: 'https://cdn.plot.ly/plotly-latest.min.js?noext',\n",
       "                    },\n",
       "                  });\n",
       "                </script>\n",
       "                "
      ],
      "text/plain": [
       "<IPython.core.display.HTML object>"
      ]
     },
     "metadata": {},
     "output_type": "display_data"
    },
    {
     "data": {
      "text/html": [
       "\n",
       "                <script src=\"/static/components/requirejs/require.js\"></script>\n",
       "                <script>\n",
       "                  requirejs.config({\n",
       "                    paths: {\n",
       "                      base: '/static/base',\n",
       "                      plotly: 'https://cdn.plot.ly/plotly-latest.min.js?noext',\n",
       "                    },\n",
       "                  });\n",
       "                </script>\n",
       "                "
      ],
      "text/plain": [
       "<IPython.core.display.HTML object>"
      ]
     },
     "metadata": {},
     "output_type": "display_data"
    },
    {
     "data": {
      "application/vnd.plotly.v1+json": {
       "data": [
        {
         "histfunc": "sum",
         "name": "Y",
         "type": "histogram",
         "x": [
          "(0) 늘",
          "(1) 배우",
          "(2)고",
          "(3) 배",
          "(4)푸",
          "(5)는",
          "(6) 자세",
          "(7)가",
          "(8) 필요",
          "(9)합니다",
          "(11)."
         ],
         "y": [
          0.07252207398414612,
          0.08697342127561569,
          0.052703842520713806,
          0.051040735095739365,
          0.06068950146436691,
          0.0513434112071991,
          0.05213572829961777,
          0.08644837141036987,
          0.07812589406967163,
          0.07936013489961624,
          0.0794883742928505
         ],
         "yaxis": "y2"
        }
       ],
       "layout": {
        "images": [
         {
          "layer": "above",
          "opacity": 0.3,
          "sizex": 0.7,
          "sizey": 0.7,
          "source": "https://raw.githubusercontent.com/fingeredman/teanaps/master/data/logo/teanaps_logo_no-bg.png",
          "x": 0.5,
          "xanchor": "center",
          "xref": "paper",
          "y": 0.6,
          "yanchor": "center",
          "yref": "paper"
         }
        ],
        "title": "SENTIMENT WEIGHT",
        "xaxis": {
         "exponentformat": "e",
         "showexponent": "all",
         "showticklabels": true,
         "tickangle": -45,
         "tickfont": {
          "color": "black",
          "size": 10
         },
         "title": "TOKEN",
         "titlefont": {
          "color": "black",
          "size": 10
         }
        },
        "yaxis1": {
         "showticklabels": true,
         "side": "left",
         "tickangle": 0,
         "tickfont": {
          "color": "black",
          "size": 10
         },
         "title": "WEIGHT",
         "titlefont": {
          "color": "black",
          "size": 10
         }
        },
        "yaxis2": {
         "overlaying": "y1",
         "showticklabels": true,
         "side": "right",
         "tickangle": 0,
         "tickfont": {
          "color": "black",
          "size": 10
         },
         "title": "WEIGHT",
         "titlefont": {
          "color": "black",
          "size": 10
         }
        }
       }
      },
      "text/html": [
       "<div id=\"e1f20e35-2a5f-496f-9d08-5ec1808177b7\" style=\"height: 525px; width: 100%;\" class=\"plotly-graph-div\"></div><script type=\"text/javascript\">require([\"plotly\"], function(Plotly) { window.PLOTLYENV=window.PLOTLYENV || {};window.PLOTLYENV.BASE_URL=\"https://plot.ly\";Plotly.newPlot(\"e1f20e35-2a5f-496f-9d08-5ec1808177b7\", [{\"type\": \"histogram\", \"name\": \"Y\", \"x\": [\"(0) \\ub298\", \"(1) \\ubc30\\uc6b0\", \"(2)\\uace0\", \"(3) \\ubc30\", \"(4)\\ud478\", \"(5)\\ub294\", \"(6) \\uc790\\uc138\", \"(7)\\uac00\", \"(8) \\ud544\\uc694\", \"(9)\\ud569\\ub2c8\\ub2e4\", \"(11).\"], \"y\": [0.07252207398414612, 0.08697342127561569, 0.052703842520713806, 0.051040735095739365, 0.06068950146436691, 0.0513434112071991, 0.05213572829961777, 0.08644837141036987, 0.07812589406967163, 0.07936013489961624, 0.0794883742928505], \"yaxis\": \"y2\", \"histfunc\": \"sum\"}], {\"title\": \"SENTIMENT WEIGHT\", \"xaxis\": {\"exponentformat\": \"e\", \"showexponent\": \"all\", \"showticklabels\": true, \"tickangle\": -45, \"tickfont\": {\"color\": \"black\", \"size\": 10}, \"title\": \"TOKEN\", \"titlefont\": {\"color\": \"black\", \"size\": 10}}, \"yaxis1\": {\"showticklabels\": true, \"side\": \"left\", \"tickangle\": 0, \"tickfont\": {\"color\": \"black\", \"size\": 10}, \"title\": \"WEIGHT\", \"titlefont\": {\"color\": \"black\", \"size\": 10}}, \"yaxis2\": {\"overlaying\": \"y1\", \"showticklabels\": true, \"side\": \"right\", \"tickangle\": 0, \"tickfont\": {\"color\": \"black\", \"size\": 10}, \"title\": \"WEIGHT\", \"titlefont\": {\"color\": \"black\", \"size\": 10}}, \"images\": [{\"source\": \"https://raw.githubusercontent.com/fingeredman/teanaps/master/data/logo/teanaps_logo_no-bg.png\", \"xref\": \"paper\", \"yref\": \"paper\", \"x\": 0.5, \"y\": 0.6, \"sizex\": 0.7, \"sizey\": 0.7, \"xanchor\": \"center\", \"yanchor\": \"center\", \"opacity\": 0.3, \"layer\": \"above\"}]}, {\"showLink\": true, \"linkText\": \"Export to plot.ly\"})});</script>"
      ],
      "text/vnd.plotly.v1+html": [
       "<div id=\"e1f20e35-2a5f-496f-9d08-5ec1808177b7\" style=\"height: 525px; width: 100%;\" class=\"plotly-graph-div\"></div><script type=\"text/javascript\">require([\"plotly\"], function(Plotly) { window.PLOTLYENV=window.PLOTLYENV || {};window.PLOTLYENV.BASE_URL=\"https://plot.ly\";Plotly.newPlot(\"e1f20e35-2a5f-496f-9d08-5ec1808177b7\", [{\"type\": \"histogram\", \"name\": \"Y\", \"x\": [\"(0) \\ub298\", \"(1) \\ubc30\\uc6b0\", \"(2)\\uace0\", \"(3) \\ubc30\", \"(4)\\ud478\", \"(5)\\ub294\", \"(6) \\uc790\\uc138\", \"(7)\\uac00\", \"(8) \\ud544\\uc694\", \"(9)\\ud569\\ub2c8\\ub2e4\", \"(11).\"], \"y\": [0.07252207398414612, 0.08697342127561569, 0.052703842520713806, 0.051040735095739365, 0.06068950146436691, 0.0513434112071991, 0.05213572829961777, 0.08644837141036987, 0.07812589406967163, 0.07936013489961624, 0.0794883742928505], \"yaxis\": \"y2\", \"histfunc\": \"sum\"}], {\"title\": \"SENTIMENT WEIGHT\", \"xaxis\": {\"exponentformat\": \"e\", \"showexponent\": \"all\", \"showticklabels\": true, \"tickangle\": -45, \"tickfont\": {\"color\": \"black\", \"size\": 10}, \"title\": \"TOKEN\", \"titlefont\": {\"color\": \"black\", \"size\": 10}}, \"yaxis1\": {\"showticklabels\": true, \"side\": \"left\", \"tickangle\": 0, \"tickfont\": {\"color\": \"black\", \"size\": 10}, \"title\": \"WEIGHT\", \"titlefont\": {\"color\": \"black\", \"size\": 10}}, \"yaxis2\": {\"overlaying\": \"y1\", \"showticklabels\": true, \"side\": \"right\", \"tickangle\": 0, \"tickfont\": {\"color\": \"black\", \"size\": 10}, \"title\": \"WEIGHT\", \"titlefont\": {\"color\": \"black\", \"size\": 10}}, \"images\": [{\"source\": \"https://raw.githubusercontent.com/fingeredman/teanaps/master/data/logo/teanaps_logo_no-bg.png\", \"xref\": \"paper\", \"yref\": \"paper\", \"x\": 0.5, \"y\": 0.6, \"sizex\": 0.7, \"sizey\": 0.7, \"xanchor\": \"center\", \"yanchor\": \"center\", \"opacity\": 0.3, \"layer\": \"above\"}]}, {\"showLink\": true, \"linkText\": \"Export to plot.ly\"})});</script>"
      ]
     },
     "metadata": {},
     "output_type": "display_data"
    }
   ],
   "source": [
    "sentence = \"늘 배우고 배푸는 자세가 필요합니다.\"\n",
    "senti.draw_weight(sentence)"
   ]
  },
  {
   "cell_type": "code",
   "execution_count": 11,
   "metadata": {},
   "outputs": [
    {
     "data": {
      "text/html": [
       "\n",
       "                <script src=\"/static/components/requirejs/require.js\"></script>\n",
       "                <script>\n",
       "                  requirejs.config({\n",
       "                    paths: {\n",
       "                      base: '/static/base',\n",
       "                      plotly: 'https://cdn.plot.ly/plotly-latest.min.js?noext',\n",
       "                    },\n",
       "                  });\n",
       "                </script>\n",
       "                "
      ],
      "text/plain": [
       "<IPython.core.display.HTML object>"
      ]
     },
     "metadata": {},
     "output_type": "display_data"
    },
    {
     "data": {
      "text/html": [
       "\n",
       "                <script src=\"/static/components/requirejs/require.js\"></script>\n",
       "                <script>\n",
       "                  requirejs.config({\n",
       "                    paths: {\n",
       "                      base: '/static/base',\n",
       "                      plotly: 'https://cdn.plot.ly/plotly-latest.min.js?noext',\n",
       "                    },\n",
       "                  });\n",
       "                </script>\n",
       "                "
      ],
      "text/plain": [
       "<IPython.core.display.HTML object>"
      ]
     },
     "metadata": {},
     "output_type": "display_data"
    },
    {
     "data": {
      "application/vnd.plotly.v1+json": {
       "data": [
        {
         "histfunc": "sum",
         "name": "Y",
         "type": "histogram",
         "x": [
          "(1)과",
          "(2)한",
          "(3) 욕심",
          "(4)은",
          "(5) 주변",
          "(6) 사람들",
          "(7)에게",
          "(8) 피해를",
          "(10)줍",
          "(11)니다",
          "(13)."
         ],
         "y": [
          0.020344315096735954,
          0.02487974613904953,
          0.026123419404029846,
          0.03615231066942215,
          0.048542264848947525,
          0.06707654148340225,
          0.09366530179977417,
          0.07649707049131393,
          0.0818990170955658,
          0.08962272852659225,
          0.07841993123292923
         ],
         "yaxis": "y2"
        }
       ],
       "layout": {
        "images": [
         {
          "layer": "above",
          "opacity": 0.3,
          "sizex": 0.7,
          "sizey": 0.7,
          "source": "https://raw.githubusercontent.com/fingeredman/teanaps/master/data/logo/teanaps_logo_no-bg.png",
          "x": 0.5,
          "xanchor": "center",
          "xref": "paper",
          "y": 0.6,
          "yanchor": "center",
          "yref": "paper"
         }
        ],
        "title": "SENTIMENT WEIGHT",
        "xaxis": {
         "exponentformat": "e",
         "showexponent": "all",
         "showticklabels": true,
         "tickangle": -45,
         "tickfont": {
          "color": "black",
          "size": 10
         },
         "title": "TOKEN",
         "titlefont": {
          "color": "black",
          "size": 10
         }
        },
        "yaxis1": {
         "showticklabels": true,
         "side": "left",
         "tickangle": 0,
         "tickfont": {
          "color": "black",
          "size": 10
         },
         "title": "WEIGHT",
         "titlefont": {
          "color": "black",
          "size": 10
         }
        },
        "yaxis2": {
         "overlaying": "y1",
         "showticklabels": true,
         "side": "right",
         "tickangle": 0,
         "tickfont": {
          "color": "black",
          "size": 10
         },
         "title": "WEIGHT",
         "titlefont": {
          "color": "black",
          "size": 10
         }
        }
       }
      },
      "text/html": [
       "<div id=\"e45160e4-2b12-4bd4-a47c-d7f343775ff7\" style=\"height: 525px; width: 100%;\" class=\"plotly-graph-div\"></div><script type=\"text/javascript\">require([\"plotly\"], function(Plotly) { window.PLOTLYENV=window.PLOTLYENV || {};window.PLOTLYENV.BASE_URL=\"https://plot.ly\";Plotly.newPlot(\"e45160e4-2b12-4bd4-a47c-d7f343775ff7\", [{\"type\": \"histogram\", \"name\": \"Y\", \"x\": [\"(1)\\uacfc\", \"(2)\\ud55c\", \"(3) \\uc695\\uc2ec\", \"(4)\\uc740\", \"(5) \\uc8fc\\ubcc0\", \"(6) \\uc0ac\\ub78c\\ub4e4\", \"(7)\\uc5d0\\uac8c\", \"(8) \\ud53c\\ud574\\ub97c\", \"(10)\\uc90d\", \"(11)\\ub2c8\\ub2e4\", \"(13).\"], \"y\": [0.020344315096735954, 0.02487974613904953, 0.026123419404029846, 0.03615231066942215, 0.048542264848947525, 0.06707654148340225, 0.09366530179977417, 0.07649707049131393, 0.0818990170955658, 0.08962272852659225, 0.07841993123292923], \"yaxis\": \"y2\", \"histfunc\": \"sum\"}], {\"title\": \"SENTIMENT WEIGHT\", \"xaxis\": {\"exponentformat\": \"e\", \"showexponent\": \"all\", \"showticklabels\": true, \"tickangle\": -45, \"tickfont\": {\"color\": \"black\", \"size\": 10}, \"title\": \"TOKEN\", \"titlefont\": {\"color\": \"black\", \"size\": 10}}, \"yaxis1\": {\"showticklabels\": true, \"side\": \"left\", \"tickangle\": 0, \"tickfont\": {\"color\": \"black\", \"size\": 10}, \"title\": \"WEIGHT\", \"titlefont\": {\"color\": \"black\", \"size\": 10}}, \"yaxis2\": {\"overlaying\": \"y1\", \"showticklabels\": true, \"side\": \"right\", \"tickangle\": 0, \"tickfont\": {\"color\": \"black\", \"size\": 10}, \"title\": \"WEIGHT\", \"titlefont\": {\"color\": \"black\", \"size\": 10}}, \"images\": [{\"source\": \"https://raw.githubusercontent.com/fingeredman/teanaps/master/data/logo/teanaps_logo_no-bg.png\", \"xref\": \"paper\", \"yref\": \"paper\", \"x\": 0.5, \"y\": 0.6, \"sizex\": 0.7, \"sizey\": 0.7, \"xanchor\": \"center\", \"yanchor\": \"center\", \"opacity\": 0.3, \"layer\": \"above\"}]}, {\"showLink\": true, \"linkText\": \"Export to plot.ly\"})});</script>"
      ],
      "text/vnd.plotly.v1+html": [
       "<div id=\"e45160e4-2b12-4bd4-a47c-d7f343775ff7\" style=\"height: 525px; width: 100%;\" class=\"plotly-graph-div\"></div><script type=\"text/javascript\">require([\"plotly\"], function(Plotly) { window.PLOTLYENV=window.PLOTLYENV || {};window.PLOTLYENV.BASE_URL=\"https://plot.ly\";Plotly.newPlot(\"e45160e4-2b12-4bd4-a47c-d7f343775ff7\", [{\"type\": \"histogram\", \"name\": \"Y\", \"x\": [\"(1)\\uacfc\", \"(2)\\ud55c\", \"(3) \\uc695\\uc2ec\", \"(4)\\uc740\", \"(5) \\uc8fc\\ubcc0\", \"(6) \\uc0ac\\ub78c\\ub4e4\", \"(7)\\uc5d0\\uac8c\", \"(8) \\ud53c\\ud574\\ub97c\", \"(10)\\uc90d\", \"(11)\\ub2c8\\ub2e4\", \"(13).\"], \"y\": [0.020344315096735954, 0.02487974613904953, 0.026123419404029846, 0.03615231066942215, 0.048542264848947525, 0.06707654148340225, 0.09366530179977417, 0.07649707049131393, 0.0818990170955658, 0.08962272852659225, 0.07841993123292923], \"yaxis\": \"y2\", \"histfunc\": \"sum\"}], {\"title\": \"SENTIMENT WEIGHT\", \"xaxis\": {\"exponentformat\": \"e\", \"showexponent\": \"all\", \"showticklabels\": true, \"tickangle\": -45, \"tickfont\": {\"color\": \"black\", \"size\": 10}, \"title\": \"TOKEN\", \"titlefont\": {\"color\": \"black\", \"size\": 10}}, \"yaxis1\": {\"showticklabels\": true, \"side\": \"left\", \"tickangle\": 0, \"tickfont\": {\"color\": \"black\", \"size\": 10}, \"title\": \"WEIGHT\", \"titlefont\": {\"color\": \"black\", \"size\": 10}}, \"yaxis2\": {\"overlaying\": \"y1\", \"showticklabels\": true, \"side\": \"right\", \"tickangle\": 0, \"tickfont\": {\"color\": \"black\", \"size\": 10}, \"title\": \"WEIGHT\", \"titlefont\": {\"color\": \"black\", \"size\": 10}}, \"images\": [{\"source\": \"https://raw.githubusercontent.com/fingeredman/teanaps/master/data/logo/teanaps_logo_no-bg.png\", \"xref\": \"paper\", \"yref\": \"paper\", \"x\": 0.5, \"y\": 0.6, \"sizex\": 0.7, \"sizey\": 0.7, \"xanchor\": \"center\", \"yanchor\": \"center\", \"opacity\": 0.3, \"layer\": \"above\"}]}, {\"showLink\": true, \"linkText\": \"Export to plot.ly\"})});</script>"
      ]
     },
     "metadata": {},
     "output_type": "display_data"
    }
   ],
   "source": [
    "sentence = \"과한 욕심은 주변 사람들에게 피해를 줍니다.\"\n",
    "senti.draw_weight(sentence)"
   ]
  },
  {
   "cell_type": "markdown",
   "metadata": {},
   "source": [
    "#### 2.3. 형태소별 가중치 시각화하기: 강조표현\n",
    "\n",
    "---"
   ]
  },
  {
   "cell_type": "code",
   "execution_count": 12,
   "metadata": {},
   "outputs": [
    {
     "data": {
      "text/html": [
       "\n",
       "                <script src=\"/static/components/requirejs/require.js\"></script>\n",
       "                <script>\n",
       "                  requirejs.config({\n",
       "                    paths: {\n",
       "                      base: '/static/base',\n",
       "                      plotly: 'https://cdn.plot.ly/plotly-latest.min.js?noext',\n",
       "                    },\n",
       "                  });\n",
       "                </script>\n",
       "                "
      ],
      "text/plain": [
       "<IPython.core.display.HTML object>"
      ]
     },
     "metadata": {},
     "output_type": "display_data"
    },
    {
     "data": {
      "text/html": [
       "\n",
       "                <script src=\"/static/components/requirejs/require.js\"></script>\n",
       "                <script>\n",
       "                  requirejs.config({\n",
       "                    paths: {\n",
       "                      base: '/static/base',\n",
       "                      plotly: 'https://cdn.plot.ly/plotly-latest.min.js?noext',\n",
       "                    },\n",
       "                  });\n",
       "                </script>\n",
       "                "
      ],
      "text/plain": [
       "<IPython.core.display.HTML object>"
      ]
     },
     "metadata": {},
     "output_type": "display_data"
    },
    {
     "data": {
      "application/vnd.plotly.v1+json": {
       "data": [
        {
         "hoverinfo": "text",
         "marker": {
          "color": "rgb(139.04726964158257, 197.0236348207913, 255)"
         },
         "orientation": "h",
         "text": "0.58",
         "type": "bar",
         "width": 0.5,
         "x": [
          2
         ],
         "xaxis": "x1",
         "y": [
          1
         ],
         "yaxis": "y1"
        },
        {
         "hoverinfo": "text",
         "marker": {
          "color": "rgb(55.0, 155.0, 255)"
         },
         "orientation": "h",
         "text": "1.0",
         "type": "bar",
         "width": 0.5,
         "x": [
          3
         ],
         "xaxis": "x1",
         "y": [
          1
         ],
         "yaxis": "y1"
        },
        {
         "hoverinfo": "text",
         "marker": {
          "color": "rgb(210.49619209832574, 232.74809604916285, 255)"
         },
         "orientation": "h",
         "text": "0.22",
         "type": "bar",
         "width": 0.5,
         "x": [
          1
         ],
         "xaxis": "x1",
         "y": [
          1
         ],
         "yaxis": "y1"
        },
        {
         "hoverinfo": "text",
         "marker": {
          "color": "rgb(214.577693156331, 234.7888465781655, 255)"
         },
         "orientation": "h",
         "text": "0.2",
         "type": "bar",
         "width": 0.5,
         "x": [
          2
         ],
         "xaxis": "x1",
         "y": [
          1
         ],
         "yaxis": "y1"
        },
        {
         "hoverinfo": "text",
         "marker": {
          "color": "rgb(187.04662322170168, 221.02331161085084, 255)"
         },
         "orientation": "h",
         "text": "0.34",
         "type": "bar",
         "width": 0.5,
         "x": [
          1
         ],
         "xaxis": "x1",
         "y": [
          1
         ],
         "yaxis": "y1"
        },
        {
         "hoverinfo": "text",
         "marker": {
          "color": "rgb(213.85429660477277, 234.4271483023864, 255)"
         },
         "orientation": "h",
         "text": "0.21",
         "type": "bar",
         "width": 0.5,
         "x": [
          1
         ],
         "xaxis": "x1",
         "y": [
          1
         ],
         "yaxis": "y1"
        },
        {
         "hoverinfo": "text",
         "marker": {
          "color": "rgb(211.91990354478594, 233.45995177239297, 255)"
         },
         "orientation": "h",
         "text": "0.22",
         "type": "bar",
         "width": 0.5,
         "x": [
          3
         ],
         "xaxis": "x1",
         "y": [
          1
         ],
         "yaxis": "y1"
        },
        {
         "hoverinfo": "text",
         "marker": {
          "color": "rgb(58.60031763003235, 156.80015881501618, 255)"
         },
         "orientation": "h",
         "text": "0.98",
         "type": "bar",
         "width": 0.5,
         "x": [
          1
         ],
         "xaxis": "x1",
         "y": [
          1
         ],
         "yaxis": "y1"
        },
        {
         "hoverinfo": "text",
         "marker": {
          "color": "rgb(110.03761215544961, 182.5188060777248, 255)"
         },
         "orientation": "h",
         "text": "0.72",
         "type": "bar",
         "width": 0.5,
         "x": [
          3
         ],
         "xaxis": "x1",
         "y": [
          1
         ],
         "yaxis": "y1"
        },
        {
         "hoverinfo": "text",
         "marker": {
          "color": "rgb(103.05810974368927, 179.02905487184464, 255)"
         },
         "orientation": "h",
         "text": "0.76",
         "type": "bar",
         "width": 0.5,
         "x": [
          3
         ],
         "xaxis": "x1",
         "y": [
          1
         ],
         "yaxis": "y1"
        },
        {
         "hoverinfo": "text",
         "marker": {
          "color": "rgb(255, 255.0, 255.0)"
         },
         "orientation": "h",
         "text": "",
         "type": "bar",
         "width": 0.5,
         "x": [
          1
         ],
         "xaxis": "x1",
         "y": [
          1
         ],
         "yaxis": "y1"
        },
        {
         "hoverinfo": "text",
         "marker": {
          "color": "rgb(102.32034239347578, 178.6601711967379, 255)"
         },
         "orientation": "h",
         "text": "0.76",
         "type": "bar",
         "width": 0.5,
         "x": [
          1
         ],
         "xaxis": "x1",
         "y": [
          1
         ],
         "yaxis": "y1"
        },
        {
         "hoverinfo": "text",
         "marker": {
          "color": "rgb(255, 255, 255)"
         },
         "orientation": "h",
         "text": "",
         "type": "bar",
         "width": 0.5,
         "x": [
          1
         ],
         "xaxis": "x1",
         "y": [
          1
         ],
         "yaxis": "y1"
        },
        {
         "hoverinfo": "text",
         "marker": {
          "color": "rgb(255, 255, 255)"
         },
         "orientation": "h",
         "text": "",
         "type": "bar",
         "width": 0.5,
         "x": [
          1
         ],
         "xaxis": "x1",
         "y": [
          1
         ],
         "yaxis": "y1"
        },
        {
         "hoverinfo": "text",
         "marker": {
          "color": "rgb(255, 255, 255)"
         },
         "orientation": "h",
         "text": "",
         "type": "bar",
         "width": 0.5,
         "x": [
          1
         ],
         "xaxis": "x1",
         "y": [
          1
         ],
         "yaxis": "y1"
        },
        {
         "hoverinfo": "text",
         "marker": {
          "color": "rgb(255, 255, 255)"
         },
         "orientation": "h",
         "text": "",
         "type": "bar",
         "width": 0.5,
         "x": [
          1
         ],
         "xaxis": "x1",
         "y": [
          1
         ],
         "yaxis": "y1"
        },
        {
         "hoverinfo": "text",
         "marker": {
          "color": "rgb(255, 255, 255)"
         },
         "orientation": "h",
         "text": "",
         "type": "bar",
         "width": 0.5,
         "x": [
          1
         ],
         "xaxis": "x1",
         "y": [
          1
         ],
         "yaxis": "y1"
        },
        {
         "hoverinfo": "text",
         "marker": {
          "color": "rgb(255, 255, 255)"
         },
         "orientation": "h",
         "text": "",
         "type": "bar",
         "width": 0.5,
         "x": [
          1
         ],
         "xaxis": "x1",
         "y": [
          1
         ],
         "yaxis": "y1"
        },
        {
         "hoverinfo": "text",
         "marker": {
          "color": "rgb(255, 255, 255)"
         },
         "orientation": "h",
         "text": "",
         "type": "bar",
         "width": 0.5,
         "x": [
          1
         ],
         "xaxis": "x1",
         "y": [
          1
         ],
         "yaxis": "y1"
        },
        {
         "hoverinfo": "text",
         "marker": {
          "color": "rgb(255, 255, 255)"
         },
         "orientation": "h",
         "text": "",
         "type": "bar",
         "width": 0.5,
         "x": [
          1
         ],
         "xaxis": "x1",
         "y": [
          1
         ],
         "yaxis": "y1"
        },
        {
         "hoverinfo": "text",
         "marker": {
          "color": "rgb(255, 255, 255)"
         },
         "orientation": "h",
         "text": "",
         "type": "bar",
         "width": 0.5,
         "x": [
          1
         ],
         "xaxis": "x1",
         "y": [
          1
         ],
         "yaxis": "y1"
        },
        {
         "hoverinfo": "text",
         "marker": {
          "color": "rgb(255, 255, 255)"
         },
         "orientation": "h",
         "text": "",
         "type": "bar",
         "width": 0.5,
         "x": [
          1
         ],
         "xaxis": "x1",
         "y": [
          1
         ],
         "yaxis": "y1"
        },
        {
         "hoverinfo": "text",
         "marker": {
          "color": "rgb(255, 255, 255)"
         },
         "orientation": "h",
         "text": "",
         "type": "bar",
         "width": 0.5,
         "x": [
          1
         ],
         "xaxis": "x1",
         "y": [
          1
         ],
         "yaxis": "y1"
        },
        {
         "hoverinfo": "text",
         "marker": {
          "color": "rgb(255, 255, 255)"
         },
         "orientation": "h",
         "text": "",
         "type": "bar",
         "width": 0.5,
         "x": [
          1
         ],
         "xaxis": "x1",
         "y": [
          1
         ],
         "yaxis": "y1"
        },
        {
         "hoverinfo": "text",
         "marker": {
          "color": "rgb(255, 255, 255)"
         },
         "orientation": "h",
         "text": "",
         "type": "bar",
         "width": 0.5,
         "x": [
          1
         ],
         "xaxis": "x1",
         "y": [
          1
         ],
         "yaxis": "y1"
        },
        {
         "hoverinfo": "text",
         "marker": {
          "color": "rgb(255, 255, 255)"
         },
         "orientation": "h",
         "text": "",
         "type": "bar",
         "width": 0.5,
         "x": [
          1
         ],
         "xaxis": "x1",
         "y": [
          1
         ],
         "yaxis": "y1"
        },
        {
         "hoverinfo": "text",
         "marker": {
          "color": "rgb(255, 255, 255)"
         },
         "orientation": "h",
         "text": "",
         "type": "bar",
         "width": 0.5,
         "x": [
          1
         ],
         "xaxis": "x1",
         "y": [
          1
         ],
         "yaxis": "y1"
        },
        {
         "hoverinfo": "text",
         "marker": {
          "color": "rgb(255, 255, 255)"
         },
         "orientation": "h",
         "text": "",
         "type": "bar",
         "width": 0.5,
         "x": [
          1
         ],
         "xaxis": "x1",
         "y": [
          1
         ],
         "yaxis": "y1"
        },
        {
         "hoverinfo": "text",
         "marker": {
          "color": "rgb(255, 255, 255)"
         },
         "orientation": "h",
         "text": "",
         "type": "bar",
         "width": 0.5,
         "x": [
          1
         ],
         "xaxis": "x1",
         "y": [
          1
         ],
         "yaxis": "y1"
        },
        {
         "hoverinfo": "text",
         "marker": {
          "color": "rgb(255, 255, 255)"
         },
         "orientation": "h",
         "text": "",
         "type": "bar",
         "width": 0.5,
         "x": [
          1
         ],
         "xaxis": "x1",
         "y": [
          1
         ],
         "yaxis": "y1"
        },
        {
         "hoverinfo": "text",
         "marker": {
          "color": "rgb(255, 255, 255)"
         },
         "orientation": "h",
         "text": "",
         "type": "bar",
         "width": 0.5,
         "x": [
          1
         ],
         "xaxis": "x1",
         "y": [
          1
         ],
         "yaxis": "y1"
        },
        {
         "hoverinfo": "text",
         "marker": {
          "color": "rgb(255, 255, 255)"
         },
         "orientation": "h",
         "text": "",
         "type": "bar",
         "width": 0.5,
         "x": [
          1
         ],
         "xaxis": "x1",
         "y": [
          1
         ],
         "yaxis": "y1"
        },
        {
         "hoverinfo": "text",
         "marker": {
          "color": "rgb(255, 255, 255)"
         },
         "orientation": "h",
         "text": "",
         "type": "bar",
         "width": 0.5,
         "x": [
          1
         ],
         "xaxis": "x1",
         "y": [
          1
         ],
         "yaxis": "y1"
        },
        {
         "hoverinfo": "text",
         "marker": {
          "color": "rgb(255, 255, 255)"
         },
         "orientation": "h",
         "text": "",
         "type": "bar",
         "width": 0.5,
         "x": [
          1
         ],
         "xaxis": "x1",
         "y": [
          1
         ],
         "yaxis": "y1"
        },
        {
         "hoverinfo": "text",
         "marker": {
          "color": "rgb(255, 255, 255)"
         },
         "orientation": "h",
         "text": "",
         "type": "bar",
         "width": 0.5,
         "x": [
          1
         ],
         "xaxis": "x1",
         "y": [
          1
         ],
         "yaxis": "y1"
        },
        {
         "hoverinfo": "text",
         "marker": {
          "color": "rgb(255, 255, 255)"
         },
         "orientation": "h",
         "text": "",
         "type": "bar",
         "width": 0.5,
         "x": [
          1
         ],
         "xaxis": "x1",
         "y": [
          1
         ],
         "yaxis": "y1"
        },
        {
         "hoverinfo": "text",
         "marker": {
          "color": "rgb(255, 255, 255)"
         },
         "orientation": "h",
         "text": "",
         "type": "bar",
         "width": 0.5,
         "x": [
          1
         ],
         "xaxis": "x1",
         "y": [
          1
         ],
         "yaxis": "y1"
        },
        {
         "hoverinfo": "text",
         "marker": {
          "color": "rgb(255, 255, 255)"
         },
         "orientation": "h",
         "text": "",
         "type": "bar",
         "width": 0.5,
         "x": [
          1
         ],
         "xaxis": "x1",
         "y": [
          1
         ],
         "yaxis": "y1"
        },
        {
         "hoverinfo": "text",
         "marker": {
          "color": "rgb(255, 255, 255)"
         },
         "orientation": "h",
         "text": "",
         "type": "bar",
         "width": 0.5,
         "x": [
          1
         ],
         "xaxis": "x1",
         "y": [
          1
         ],
         "yaxis": "y1"
        },
        {
         "hoverinfo": "text",
         "marker": {
          "color": "rgb(255, 255, 255)"
         },
         "orientation": "h",
         "text": "",
         "type": "bar",
         "width": 0.5,
         "x": [
          1
         ],
         "xaxis": "x1",
         "y": [
          1
         ],
         "yaxis": "y1"
        }
       ],
       "layout": {
        "annotations": [
         {
          "align": "left",
          "font": {
           "color": "black",
           "family": "Arial",
           "size": 14
          },
          "showarrow": false,
          "text": " ",
          "x": 0.5,
          "xref": "x1",
          "y": 1,
          "yref": "y1"
         },
         {
          "align": "left",
          "font": {
           "color": "black",
           "family": "Arial",
           "size": 14
          },
          "showarrow": false,
          "text": "늘",
          "x": 1.5,
          "xref": "x1",
          "y": 1,
          "yref": "y1"
         },
         {
          "align": "left",
          "font": {
           "color": "black",
           "family": "Arial",
           "size": 14
          },
          "showarrow": false,
          "text": " ",
          "x": 2.5,
          "xref": "x1",
          "y": 1,
          "yref": "y1"
         },
         {
          "align": "left",
          "font": {
           "color": "black",
           "family": "Arial",
           "size": 14
          },
          "showarrow": false,
          "text": "배",
          "x": 3.5,
          "xref": "x1",
          "y": 1,
          "yref": "y1"
         },
         {
          "align": "left",
          "font": {
           "color": "black",
           "family": "Arial",
           "size": 14
          },
          "showarrow": false,
          "text": "우",
          "x": 4.5,
          "xref": "x1",
          "y": 1,
          "yref": "y1"
         },
         {
          "align": "left",
          "font": {
           "color": "black",
           "family": "Arial",
           "size": 14
          },
          "showarrow": false,
          "text": "고",
          "x": 5.5,
          "xref": "x1",
          "y": 1,
          "yref": "y1"
         },
         {
          "align": "left",
          "font": {
           "color": "black",
           "family": "Arial",
           "size": 14
          },
          "showarrow": false,
          "text": " ",
          "x": 6.5,
          "xref": "x1",
          "y": 1,
          "yref": "y1"
         },
         {
          "align": "left",
          "font": {
           "color": "black",
           "family": "Arial",
           "size": 14
          },
          "showarrow": false,
          "text": "배",
          "x": 7.5,
          "xref": "x1",
          "y": 1,
          "yref": "y1"
         },
         {
          "align": "left",
          "font": {
           "color": "black",
           "family": "Arial",
           "size": 14
          },
          "showarrow": false,
          "text": "푸",
          "x": 8.5,
          "xref": "x1",
          "y": 1,
          "yref": "y1"
         },
         {
          "align": "left",
          "font": {
           "color": "black",
           "family": "Arial",
           "size": 14
          },
          "showarrow": false,
          "text": "는",
          "x": 9.5,
          "xref": "x1",
          "y": 1,
          "yref": "y1"
         },
         {
          "align": "left",
          "font": {
           "color": "black",
           "family": "Arial",
           "size": 14
          },
          "showarrow": false,
          "text": " ",
          "x": 10.5,
          "xref": "x1",
          "y": 1,
          "yref": "y1"
         },
         {
          "align": "left",
          "font": {
           "color": "black",
           "family": "Arial",
           "size": 14
          },
          "showarrow": false,
          "text": "자",
          "x": 11.5,
          "xref": "x1",
          "y": 1,
          "yref": "y1"
         },
         {
          "align": "left",
          "font": {
           "color": "black",
           "family": "Arial",
           "size": 14
          },
          "showarrow": false,
          "text": "세",
          "x": 12.5,
          "xref": "x1",
          "y": 1,
          "yref": "y1"
         },
         {
          "align": "left",
          "font": {
           "color": "black",
           "family": "Arial",
           "size": 14
          },
          "showarrow": false,
          "text": "가",
          "x": 13.5,
          "xref": "x1",
          "y": 1,
          "yref": "y1"
         },
         {
          "align": "left",
          "font": {
           "color": "black",
           "family": "Arial",
           "size": 14
          },
          "showarrow": false,
          "text": " ",
          "x": 14.5,
          "xref": "x1",
          "y": 1,
          "yref": "y1"
         },
         {
          "align": "left",
          "font": {
           "color": "black",
           "family": "Arial",
           "size": 14
          },
          "showarrow": false,
          "text": "필",
          "x": 15.5,
          "xref": "x1",
          "y": 1,
          "yref": "y1"
         },
         {
          "align": "left",
          "font": {
           "color": "black",
           "family": "Arial",
           "size": 14
          },
          "showarrow": false,
          "text": "요",
          "x": 16.5,
          "xref": "x1",
          "y": 1,
          "yref": "y1"
         },
         {
          "align": "left",
          "font": {
           "color": "black",
           "family": "Arial",
           "size": 14
          },
          "showarrow": false,
          "text": "합",
          "x": 17.5,
          "xref": "x1",
          "y": 1,
          "yref": "y1"
         },
         {
          "align": "left",
          "font": {
           "color": "black",
           "family": "Arial",
           "size": 14
          },
          "showarrow": false,
          "text": "니",
          "x": 18.5,
          "xref": "x1",
          "y": 1,
          "yref": "y1"
         },
         {
          "align": "left",
          "font": {
           "color": "black",
           "family": "Arial",
           "size": 14
          },
          "showarrow": false,
          "text": "다",
          "x": 19.5,
          "xref": "x1",
          "y": 1,
          "yref": "y1"
         },
         {
          "align": "left",
          "font": {
           "color": "black",
           "family": "Arial",
           "size": 14
          },
          "showarrow": false,
          "text": " ",
          "x": 20.5,
          "xref": "x1",
          "y": 1,
          "yref": "y1"
         },
         {
          "align": "left",
          "font": {
           "color": "black",
           "family": "Arial",
           "size": 14
          },
          "showarrow": false,
          "text": ".",
          "x": 21.5,
          "xref": "x1",
          "y": 1,
          "yref": "y1"
         }
        ],
        "barmode": "stack",
        "height": 80,
        "images": [
         {
          "layer": "above",
          "opacity": 0.3,
          "sizex": 0.7,
          "sizey": 0.7,
          "source": "https://raw.githubusercontent.com/fingeredman/teanaps/master/data/logo/teanaps_logo_no-bg.png",
          "x": 0.5,
          "xanchor": "center",
          "xref": "paper",
          "y": 0.6,
          "yanchor": "center",
          "yref": "paper"
         }
        ],
        "margin": {
         "b": 30,
         "l": 20,
         "r": 20,
         "t": 10
        },
        "showlegend": false,
        "xaxis1": {
         "anchor": "y1",
         "domain": [
          0,
          1
         ],
         "showgrid": false,
         "showline": false,
         "showticklabels": false,
         "zeroline": false
        },
        "yaxis1": {
         "anchor": "x1",
         "domain": [
          0,
          1
         ],
         "showgrid": false,
         "showline": false,
         "showticklabels": false,
         "zeroline": false
        }
       }
      },
      "text/html": [
       "<div id=\"5268b942-bed7-4bed-88a8-b11764c19742\" style=\"height: 80px; width: 100%;\" class=\"plotly-graph-div\"></div><script type=\"text/javascript\">require([\"plotly\"], function(Plotly) { window.PLOTLYENV=window.PLOTLYENV || {};window.PLOTLYENV.BASE_URL=\"https://plot.ly\";Plotly.newPlot(\"5268b942-bed7-4bed-88a8-b11764c19742\", [{\"type\": \"bar\", \"y\": [1], \"x\": [2], \"orientation\": \"h\", \"width\": 0.5, \"text\": \"0.58\", \"hoverinfo\": \"text\", \"marker\": {\"color\": \"rgb(139.04726964158257, 197.0236348207913, 255)\"}, \"xaxis\": \"x1\", \"yaxis\": \"y1\"}, {\"type\": \"bar\", \"y\": [1], \"x\": [3], \"orientation\": \"h\", \"width\": 0.5, \"text\": \"1.0\", \"hoverinfo\": \"text\", \"marker\": {\"color\": \"rgb(55.0, 155.0, 255)\"}, \"xaxis\": \"x1\", \"yaxis\": \"y1\"}, {\"type\": \"bar\", \"y\": [1], \"x\": [1], \"orientation\": \"h\", \"width\": 0.5, \"text\": \"0.22\", \"hoverinfo\": \"text\", \"marker\": {\"color\": \"rgb(210.49619209832574, 232.74809604916285, 255)\"}, \"xaxis\": \"x1\", \"yaxis\": \"y1\"}, {\"type\": \"bar\", \"y\": [1], \"x\": [2], \"orientation\": \"h\", \"width\": 0.5, \"text\": \"0.2\", \"hoverinfo\": \"text\", \"marker\": {\"color\": \"rgb(214.577693156331, 234.7888465781655, 255)\"}, \"xaxis\": \"x1\", \"yaxis\": \"y1\"}, {\"type\": \"bar\", \"y\": [1], \"x\": [1], \"orientation\": \"h\", \"width\": 0.5, \"text\": \"0.34\", \"hoverinfo\": \"text\", \"marker\": {\"color\": \"rgb(187.04662322170168, 221.02331161085084, 255)\"}, \"xaxis\": \"x1\", \"yaxis\": \"y1\"}, {\"type\": \"bar\", \"y\": [1], \"x\": [1], \"orientation\": \"h\", \"width\": 0.5, \"text\": \"0.21\", \"hoverinfo\": \"text\", \"marker\": {\"color\": \"rgb(213.85429660477277, 234.4271483023864, 255)\"}, \"xaxis\": \"x1\", \"yaxis\": \"y1\"}, {\"type\": \"bar\", \"y\": [1], \"x\": [3], \"orientation\": \"h\", \"width\": 0.5, \"text\": \"0.22\", \"hoverinfo\": \"text\", \"marker\": {\"color\": \"rgb(211.91990354478594, 233.45995177239297, 255)\"}, \"xaxis\": \"x1\", \"yaxis\": \"y1\"}, {\"type\": \"bar\", \"y\": [1], \"x\": [1], \"orientation\": \"h\", \"width\": 0.5, \"text\": \"0.98\", \"hoverinfo\": \"text\", \"marker\": {\"color\": \"rgb(58.60031763003235, 156.80015881501618, 255)\"}, \"xaxis\": \"x1\", \"yaxis\": \"y1\"}, {\"type\": \"bar\", \"y\": [1], \"x\": [3], \"orientation\": \"h\", \"width\": 0.5, \"text\": \"0.72\", \"hoverinfo\": \"text\", \"marker\": {\"color\": \"rgb(110.03761215544961, 182.5188060777248, 255)\"}, \"xaxis\": \"x1\", \"yaxis\": \"y1\"}, {\"type\": \"bar\", \"y\": [1], \"x\": [3], \"orientation\": \"h\", \"width\": 0.5, \"text\": \"0.76\", \"hoverinfo\": \"text\", \"marker\": {\"color\": \"rgb(103.05810974368927, 179.02905487184464, 255)\"}, \"xaxis\": \"x1\", \"yaxis\": \"y1\"}, {\"type\": \"bar\", \"y\": [1], \"x\": [1], \"orientation\": \"h\", \"width\": 0.5, \"text\": \"\", \"hoverinfo\": \"text\", \"marker\": {\"color\": \"rgb(255, 255.0, 255.0)\"}, \"xaxis\": \"x1\", \"yaxis\": \"y1\"}, {\"type\": \"bar\", \"y\": [1], \"x\": [1], \"orientation\": \"h\", \"width\": 0.5, \"text\": \"0.76\", \"hoverinfo\": \"text\", \"marker\": {\"color\": \"rgb(102.32034239347578, 178.6601711967379, 255)\"}, \"xaxis\": \"x1\", \"yaxis\": \"y1\"}, {\"type\": \"bar\", \"y\": [1], \"x\": [1], \"orientation\": \"h\", \"width\": 0.5, \"text\": \"\", \"hoverinfo\": \"text\", \"marker\": {\"color\": \"rgb(255, 255, 255)\"}, \"xaxis\": \"x1\", \"yaxis\": \"y1\"}, {\"type\": \"bar\", \"y\": [1], \"x\": [1], \"orientation\": \"h\", \"width\": 0.5, \"text\": \"\", \"hoverinfo\": \"text\", \"marker\": {\"color\": \"rgb(255, 255, 255)\"}, \"xaxis\": \"x1\", \"yaxis\": \"y1\"}, {\"type\": \"bar\", \"y\": [1], \"x\": [1], \"orientation\": \"h\", \"width\": 0.5, \"text\": \"\", \"hoverinfo\": \"text\", \"marker\": {\"color\": \"rgb(255, 255, 255)\"}, \"xaxis\": \"x1\", \"yaxis\": \"y1\"}, {\"type\": \"bar\", \"y\": [1], \"x\": [1], \"orientation\": \"h\", \"width\": 0.5, \"text\": \"\", \"hoverinfo\": \"text\", \"marker\": {\"color\": \"rgb(255, 255, 255)\"}, \"xaxis\": \"x1\", \"yaxis\": \"y1\"}, {\"type\": \"bar\", \"y\": [1], \"x\": [1], \"orientation\": \"h\", \"width\": 0.5, \"text\": \"\", \"hoverinfo\": \"text\", \"marker\": {\"color\": \"rgb(255, 255, 255)\"}, \"xaxis\": \"x1\", \"yaxis\": \"y1\"}, {\"type\": \"bar\", \"y\": [1], \"x\": [1], \"orientation\": \"h\", \"width\": 0.5, \"text\": \"\", \"hoverinfo\": \"text\", \"marker\": {\"color\": \"rgb(255, 255, 255)\"}, \"xaxis\": \"x1\", \"yaxis\": \"y1\"}, {\"type\": \"bar\", \"y\": [1], \"x\": [1], \"orientation\": \"h\", \"width\": 0.5, \"text\": \"\", \"hoverinfo\": \"text\", \"marker\": {\"color\": \"rgb(255, 255, 255)\"}, \"xaxis\": \"x1\", \"yaxis\": \"y1\"}, {\"type\": \"bar\", \"y\": [1], \"x\": [1], \"orientation\": \"h\", \"width\": 0.5, \"text\": \"\", \"hoverinfo\": \"text\", \"marker\": {\"color\": \"rgb(255, 255, 255)\"}, \"xaxis\": \"x1\", \"yaxis\": \"y1\"}, {\"type\": \"bar\", \"y\": [1], \"x\": [1], \"orientation\": \"h\", \"width\": 0.5, \"text\": \"\", \"hoverinfo\": \"text\", \"marker\": {\"color\": \"rgb(255, 255, 255)\"}, \"xaxis\": \"x1\", \"yaxis\": \"y1\"}, {\"type\": \"bar\", \"y\": [1], \"x\": [1], \"orientation\": \"h\", \"width\": 0.5, \"text\": \"\", \"hoverinfo\": \"text\", \"marker\": {\"color\": \"rgb(255, 255, 255)\"}, \"xaxis\": \"x1\", \"yaxis\": \"y1\"}, {\"type\": \"bar\", \"y\": [1], \"x\": [1], \"orientation\": \"h\", \"width\": 0.5, \"text\": \"\", \"hoverinfo\": \"text\", \"marker\": {\"color\": \"rgb(255, 255, 255)\"}, \"xaxis\": \"x1\", \"yaxis\": \"y1\"}, {\"type\": \"bar\", \"y\": [1], \"x\": [1], \"orientation\": \"h\", \"width\": 0.5, \"text\": \"\", \"hoverinfo\": \"text\", \"marker\": {\"color\": \"rgb(255, 255, 255)\"}, \"xaxis\": \"x1\", \"yaxis\": \"y1\"}, {\"type\": \"bar\", \"y\": [1], \"x\": [1], \"orientation\": \"h\", \"width\": 0.5, \"text\": \"\", \"hoverinfo\": \"text\", \"marker\": {\"color\": \"rgb(255, 255, 255)\"}, \"xaxis\": \"x1\", \"yaxis\": \"y1\"}, {\"type\": \"bar\", \"y\": [1], \"x\": [1], \"orientation\": \"h\", \"width\": 0.5, \"text\": \"\", \"hoverinfo\": \"text\", \"marker\": {\"color\": \"rgb(255, 255, 255)\"}, \"xaxis\": \"x1\", \"yaxis\": \"y1\"}, {\"type\": \"bar\", \"y\": [1], \"x\": [1], \"orientation\": \"h\", \"width\": 0.5, \"text\": \"\", \"hoverinfo\": \"text\", \"marker\": {\"color\": \"rgb(255, 255, 255)\"}, \"xaxis\": \"x1\", \"yaxis\": \"y1\"}, {\"type\": \"bar\", \"y\": [1], \"x\": [1], \"orientation\": \"h\", \"width\": 0.5, \"text\": \"\", \"hoverinfo\": \"text\", \"marker\": {\"color\": \"rgb(255, 255, 255)\"}, \"xaxis\": \"x1\", \"yaxis\": \"y1\"}, {\"type\": \"bar\", \"y\": [1], \"x\": [1], \"orientation\": \"h\", \"width\": 0.5, \"text\": \"\", \"hoverinfo\": \"text\", \"marker\": {\"color\": \"rgb(255, 255, 255)\"}, \"xaxis\": \"x1\", \"yaxis\": \"y1\"}, {\"type\": \"bar\", \"y\": [1], \"x\": [1], \"orientation\": \"h\", \"width\": 0.5, \"text\": \"\", \"hoverinfo\": \"text\", \"marker\": {\"color\": \"rgb(255, 255, 255)\"}, \"xaxis\": \"x1\", \"yaxis\": \"y1\"}, {\"type\": \"bar\", \"y\": [1], \"x\": [1], \"orientation\": \"h\", \"width\": 0.5, \"text\": \"\", \"hoverinfo\": \"text\", \"marker\": {\"color\": \"rgb(255, 255, 255)\"}, \"xaxis\": \"x1\", \"yaxis\": \"y1\"}, {\"type\": \"bar\", \"y\": [1], \"x\": [1], \"orientation\": \"h\", \"width\": 0.5, \"text\": \"\", \"hoverinfo\": \"text\", \"marker\": {\"color\": \"rgb(255, 255, 255)\"}, \"xaxis\": \"x1\", \"yaxis\": \"y1\"}, {\"type\": \"bar\", \"y\": [1], \"x\": [1], \"orientation\": \"h\", \"width\": 0.5, \"text\": \"\", \"hoverinfo\": \"text\", \"marker\": {\"color\": \"rgb(255, 255, 255)\"}, \"xaxis\": \"x1\", \"yaxis\": \"y1\"}, {\"type\": \"bar\", \"y\": [1], \"x\": [1], \"orientation\": \"h\", \"width\": 0.5, \"text\": \"\", \"hoverinfo\": \"text\", \"marker\": {\"color\": \"rgb(255, 255, 255)\"}, \"xaxis\": \"x1\", \"yaxis\": \"y1\"}, {\"type\": \"bar\", \"y\": [1], \"x\": [1], \"orientation\": \"h\", \"width\": 0.5, \"text\": \"\", \"hoverinfo\": \"text\", \"marker\": {\"color\": \"rgb(255, 255, 255)\"}, \"xaxis\": \"x1\", \"yaxis\": \"y1\"}, {\"type\": \"bar\", \"y\": [1], \"x\": [1], \"orientation\": \"h\", \"width\": 0.5, \"text\": \"\", \"hoverinfo\": \"text\", \"marker\": {\"color\": \"rgb(255, 255, 255)\"}, \"xaxis\": \"x1\", \"yaxis\": \"y1\"}, {\"type\": \"bar\", \"y\": [1], \"x\": [1], \"orientation\": \"h\", \"width\": 0.5, \"text\": \"\", \"hoverinfo\": \"text\", \"marker\": {\"color\": \"rgb(255, 255, 255)\"}, \"xaxis\": \"x1\", \"yaxis\": \"y1\"}, {\"type\": \"bar\", \"y\": [1], \"x\": [1], \"orientation\": \"h\", \"width\": 0.5, \"text\": \"\", \"hoverinfo\": \"text\", \"marker\": {\"color\": \"rgb(255, 255, 255)\"}, \"xaxis\": \"x1\", \"yaxis\": \"y1\"}, {\"type\": \"bar\", \"y\": [1], \"x\": [1], \"orientation\": \"h\", \"width\": 0.5, \"text\": \"\", \"hoverinfo\": \"text\", \"marker\": {\"color\": \"rgb(255, 255, 255)\"}, \"xaxis\": \"x1\", \"yaxis\": \"y1\"}, {\"type\": \"bar\", \"y\": [1], \"x\": [1], \"orientation\": \"h\", \"width\": 0.5, \"text\": \"\", \"hoverinfo\": \"text\", \"marker\": {\"color\": \"rgb(255, 255, 255)\"}, \"xaxis\": \"x1\", \"yaxis\": \"y1\"}], {\"xaxis1\": {\"domain\": [0.0, 1.0], \"anchor\": \"y1\", \"showgrid\": false, \"showline\": false, \"showticklabels\": false, \"zeroline\": false}, \"yaxis1\": {\"domain\": [0.0, 1.0], \"anchor\": \"x1\", \"showgrid\": false, \"showline\": false, \"showticklabels\": false, \"zeroline\": false}, \"barmode\": \"stack\", \"showlegend\": false, \"margin\": {\"b\": 30, \"l\": 20, \"r\": 20, \"t\": 10}, \"annotations\": [{\"xref\": \"x1\", \"yref\": \"y1\", \"x\": 0.5, \"y\": 1, \"text\": \" \", \"align\": \"left\", \"font\": {\"family\": \"Arial\", \"size\": 14, \"color\": \"black\"}, \"showarrow\": false}, {\"xref\": \"x1\", \"yref\": \"y1\", \"x\": 1.5, \"y\": 1, \"text\": \"\\ub298\", \"align\": \"left\", \"font\": {\"family\": \"Arial\", \"size\": 14, \"color\": \"black\"}, \"showarrow\": false}, {\"xref\": \"x1\", \"yref\": \"y1\", \"x\": 2.5, \"y\": 1, \"text\": \" \", \"align\": \"left\", \"font\": {\"family\": \"Arial\", \"size\": 14, \"color\": \"black\"}, \"showarrow\": false}, {\"xref\": \"x1\", \"yref\": \"y1\", \"x\": 3.5, \"y\": 1, \"text\": \"\\ubc30\", \"align\": \"left\", \"font\": {\"family\": \"Arial\", \"size\": 14, \"color\": \"black\"}, \"showarrow\": false}, {\"xref\": \"x1\", \"yref\": \"y1\", \"x\": 4.5, \"y\": 1, \"text\": \"\\uc6b0\", \"align\": \"left\", \"font\": {\"family\": \"Arial\", \"size\": 14, \"color\": \"black\"}, \"showarrow\": false}, {\"xref\": \"x1\", \"yref\": \"y1\", \"x\": 5.5, \"y\": 1, \"text\": \"\\uace0\", \"align\": \"left\", \"font\": {\"family\": \"Arial\", \"size\": 14, \"color\": \"black\"}, \"showarrow\": false}, {\"xref\": \"x1\", \"yref\": \"y1\", \"x\": 6.5, \"y\": 1, \"text\": \" \", \"align\": \"left\", \"font\": {\"family\": \"Arial\", \"size\": 14, \"color\": \"black\"}, \"showarrow\": false}, {\"xref\": \"x1\", \"yref\": \"y1\", \"x\": 7.5, \"y\": 1, \"text\": \"\\ubc30\", \"align\": \"left\", \"font\": {\"family\": \"Arial\", \"size\": 14, \"color\": \"black\"}, \"showarrow\": false}, {\"xref\": \"x1\", \"yref\": \"y1\", \"x\": 8.5, \"y\": 1, \"text\": \"\\ud478\", \"align\": \"left\", \"font\": {\"family\": \"Arial\", \"size\": 14, \"color\": \"black\"}, \"showarrow\": false}, {\"xref\": \"x1\", \"yref\": \"y1\", \"x\": 9.5, \"y\": 1, \"text\": \"\\ub294\", \"align\": \"left\", \"font\": {\"family\": \"Arial\", \"size\": 14, \"color\": \"black\"}, \"showarrow\": false}, {\"xref\": \"x1\", \"yref\": \"y1\", \"x\": 10.5, \"y\": 1, \"text\": \" \", \"align\": \"left\", \"font\": {\"family\": \"Arial\", \"size\": 14, \"color\": \"black\"}, \"showarrow\": false}, {\"xref\": \"x1\", \"yref\": \"y1\", \"x\": 11.5, \"y\": 1, \"text\": \"\\uc790\", \"align\": \"left\", \"font\": {\"family\": \"Arial\", \"size\": 14, \"color\": \"black\"}, \"showarrow\": false}, {\"xref\": \"x1\", \"yref\": \"y1\", \"x\": 12.5, \"y\": 1, \"text\": \"\\uc138\", \"align\": \"left\", \"font\": {\"family\": \"Arial\", \"size\": 14, \"color\": \"black\"}, \"showarrow\": false}, {\"xref\": \"x1\", \"yref\": \"y1\", \"x\": 13.5, \"y\": 1, \"text\": \"\\uac00\", \"align\": \"left\", \"font\": {\"family\": \"Arial\", \"size\": 14, \"color\": \"black\"}, \"showarrow\": false}, {\"xref\": \"x1\", \"yref\": \"y1\", \"x\": 14.5, \"y\": 1, \"text\": \" \", \"align\": \"left\", \"font\": {\"family\": \"Arial\", \"size\": 14, \"color\": \"black\"}, \"showarrow\": false}, {\"xref\": \"x1\", \"yref\": \"y1\", \"x\": 15.5, \"y\": 1, \"text\": \"\\ud544\", \"align\": \"left\", \"font\": {\"family\": \"Arial\", \"size\": 14, \"color\": \"black\"}, \"showarrow\": false}, {\"xref\": \"x1\", \"yref\": \"y1\", \"x\": 16.5, \"y\": 1, \"text\": \"\\uc694\", \"align\": \"left\", \"font\": {\"family\": \"Arial\", \"size\": 14, \"color\": \"black\"}, \"showarrow\": false}, {\"xref\": \"x1\", \"yref\": \"y1\", \"x\": 17.5, \"y\": 1, \"text\": \"\\ud569\", \"align\": \"left\", \"font\": {\"family\": \"Arial\", \"size\": 14, \"color\": \"black\"}, \"showarrow\": false}, {\"xref\": \"x1\", \"yref\": \"y1\", \"x\": 18.5, \"y\": 1, \"text\": \"\\ub2c8\", \"align\": \"left\", \"font\": {\"family\": \"Arial\", \"size\": 14, \"color\": \"black\"}, \"showarrow\": false}, {\"xref\": \"x1\", \"yref\": \"y1\", \"x\": 19.5, \"y\": 1, \"text\": \"\\ub2e4\", \"align\": \"left\", \"font\": {\"family\": \"Arial\", \"size\": 14, \"color\": \"black\"}, \"showarrow\": false}, {\"xref\": \"x1\", \"yref\": \"y1\", \"x\": 20.5, \"y\": 1, \"text\": \" \", \"align\": \"left\", \"font\": {\"family\": \"Arial\", \"size\": 14, \"color\": \"black\"}, \"showarrow\": false}, {\"xref\": \"x1\", \"yref\": \"y1\", \"x\": 21.5, \"y\": 1, \"text\": \".\", \"align\": \"left\", \"font\": {\"family\": \"Arial\", \"size\": 14, \"color\": \"black\"}, \"showarrow\": false}], \"height\": 80, \"images\": [{\"source\": \"https://raw.githubusercontent.com/fingeredman/teanaps/master/data/logo/teanaps_logo_no-bg.png\", \"xref\": \"paper\", \"yref\": \"paper\", \"x\": 0.5, \"y\": 0.6, \"sizex\": 0.7, \"sizey\": 0.7, \"xanchor\": \"center\", \"yanchor\": \"center\", \"opacity\": 0.3, \"layer\": \"above\"}]}, {\"showLink\": true, \"linkText\": \"Export to plot.ly\"})});</script>"
      ],
      "text/vnd.plotly.v1+html": [
       "<div id=\"5268b942-bed7-4bed-88a8-b11764c19742\" style=\"height: 80px; width: 100%;\" class=\"plotly-graph-div\"></div><script type=\"text/javascript\">require([\"plotly\"], function(Plotly) { window.PLOTLYENV=window.PLOTLYENV || {};window.PLOTLYENV.BASE_URL=\"https://plot.ly\";Plotly.newPlot(\"5268b942-bed7-4bed-88a8-b11764c19742\", [{\"type\": \"bar\", \"y\": [1], \"x\": [2], \"orientation\": \"h\", \"width\": 0.5, \"text\": \"0.58\", \"hoverinfo\": \"text\", \"marker\": {\"color\": \"rgb(139.04726964158257, 197.0236348207913, 255)\"}, \"xaxis\": \"x1\", \"yaxis\": \"y1\"}, {\"type\": \"bar\", \"y\": [1], \"x\": [3], \"orientation\": \"h\", \"width\": 0.5, \"text\": \"1.0\", \"hoverinfo\": \"text\", \"marker\": {\"color\": \"rgb(55.0, 155.0, 255)\"}, \"xaxis\": \"x1\", \"yaxis\": \"y1\"}, {\"type\": \"bar\", \"y\": [1], \"x\": [1], \"orientation\": \"h\", \"width\": 0.5, \"text\": \"0.22\", \"hoverinfo\": \"text\", \"marker\": {\"color\": \"rgb(210.49619209832574, 232.74809604916285, 255)\"}, \"xaxis\": \"x1\", \"yaxis\": \"y1\"}, {\"type\": \"bar\", \"y\": [1], \"x\": [2], \"orientation\": \"h\", \"width\": 0.5, \"text\": \"0.2\", \"hoverinfo\": \"text\", \"marker\": {\"color\": \"rgb(214.577693156331, 234.7888465781655, 255)\"}, \"xaxis\": \"x1\", \"yaxis\": \"y1\"}, {\"type\": \"bar\", \"y\": [1], \"x\": [1], \"orientation\": \"h\", \"width\": 0.5, \"text\": \"0.34\", \"hoverinfo\": \"text\", \"marker\": {\"color\": \"rgb(187.04662322170168, 221.02331161085084, 255)\"}, \"xaxis\": \"x1\", \"yaxis\": \"y1\"}, {\"type\": \"bar\", \"y\": [1], \"x\": [1], \"orientation\": \"h\", \"width\": 0.5, \"text\": \"0.21\", \"hoverinfo\": \"text\", \"marker\": {\"color\": \"rgb(213.85429660477277, 234.4271483023864, 255)\"}, \"xaxis\": \"x1\", \"yaxis\": \"y1\"}, {\"type\": \"bar\", \"y\": [1], \"x\": [3], \"orientation\": \"h\", \"width\": 0.5, \"text\": \"0.22\", \"hoverinfo\": \"text\", \"marker\": {\"color\": \"rgb(211.91990354478594, 233.45995177239297, 255)\"}, \"xaxis\": \"x1\", \"yaxis\": \"y1\"}, {\"type\": \"bar\", \"y\": [1], \"x\": [1], \"orientation\": \"h\", \"width\": 0.5, \"text\": \"0.98\", \"hoverinfo\": \"text\", \"marker\": {\"color\": \"rgb(58.60031763003235, 156.80015881501618, 255)\"}, \"xaxis\": \"x1\", \"yaxis\": \"y1\"}, {\"type\": \"bar\", \"y\": [1], \"x\": [3], \"orientation\": \"h\", \"width\": 0.5, \"text\": \"0.72\", \"hoverinfo\": \"text\", \"marker\": {\"color\": \"rgb(110.03761215544961, 182.5188060777248, 255)\"}, \"xaxis\": \"x1\", \"yaxis\": \"y1\"}, {\"type\": \"bar\", \"y\": [1], \"x\": [3], \"orientation\": \"h\", \"width\": 0.5, \"text\": \"0.76\", \"hoverinfo\": \"text\", \"marker\": {\"color\": \"rgb(103.05810974368927, 179.02905487184464, 255)\"}, \"xaxis\": \"x1\", \"yaxis\": \"y1\"}, {\"type\": \"bar\", \"y\": [1], \"x\": [1], \"orientation\": \"h\", \"width\": 0.5, \"text\": \"\", \"hoverinfo\": \"text\", \"marker\": {\"color\": \"rgb(255, 255.0, 255.0)\"}, \"xaxis\": \"x1\", \"yaxis\": \"y1\"}, {\"type\": \"bar\", \"y\": [1], \"x\": [1], \"orientation\": \"h\", \"width\": 0.5, \"text\": \"0.76\", \"hoverinfo\": \"text\", \"marker\": {\"color\": \"rgb(102.32034239347578, 178.6601711967379, 255)\"}, \"xaxis\": \"x1\", \"yaxis\": \"y1\"}, {\"type\": \"bar\", \"y\": [1], \"x\": [1], \"orientation\": \"h\", \"width\": 0.5, \"text\": \"\", \"hoverinfo\": \"text\", \"marker\": {\"color\": \"rgb(255, 255, 255)\"}, \"xaxis\": \"x1\", \"yaxis\": \"y1\"}, {\"type\": \"bar\", \"y\": [1], \"x\": [1], \"orientation\": \"h\", \"width\": 0.5, \"text\": \"\", \"hoverinfo\": \"text\", \"marker\": {\"color\": \"rgb(255, 255, 255)\"}, \"xaxis\": \"x1\", \"yaxis\": \"y1\"}, {\"type\": \"bar\", \"y\": [1], \"x\": [1], \"orientation\": \"h\", \"width\": 0.5, \"text\": \"\", \"hoverinfo\": \"text\", \"marker\": {\"color\": \"rgb(255, 255, 255)\"}, \"xaxis\": \"x1\", \"yaxis\": \"y1\"}, {\"type\": \"bar\", \"y\": [1], \"x\": [1], \"orientation\": \"h\", \"width\": 0.5, \"text\": \"\", \"hoverinfo\": \"text\", \"marker\": {\"color\": \"rgb(255, 255, 255)\"}, \"xaxis\": \"x1\", \"yaxis\": \"y1\"}, {\"type\": \"bar\", \"y\": [1], \"x\": [1], \"orientation\": \"h\", \"width\": 0.5, \"text\": \"\", \"hoverinfo\": \"text\", \"marker\": {\"color\": \"rgb(255, 255, 255)\"}, \"xaxis\": \"x1\", \"yaxis\": \"y1\"}, {\"type\": \"bar\", \"y\": [1], \"x\": [1], \"orientation\": \"h\", \"width\": 0.5, \"text\": \"\", \"hoverinfo\": \"text\", \"marker\": {\"color\": \"rgb(255, 255, 255)\"}, \"xaxis\": \"x1\", \"yaxis\": \"y1\"}, {\"type\": \"bar\", \"y\": [1], \"x\": [1], \"orientation\": \"h\", \"width\": 0.5, \"text\": \"\", \"hoverinfo\": \"text\", \"marker\": {\"color\": \"rgb(255, 255, 255)\"}, \"xaxis\": \"x1\", \"yaxis\": \"y1\"}, {\"type\": \"bar\", \"y\": [1], \"x\": [1], \"orientation\": \"h\", \"width\": 0.5, \"text\": \"\", \"hoverinfo\": \"text\", \"marker\": {\"color\": \"rgb(255, 255, 255)\"}, \"xaxis\": \"x1\", \"yaxis\": \"y1\"}, {\"type\": \"bar\", \"y\": [1], \"x\": [1], \"orientation\": \"h\", \"width\": 0.5, \"text\": \"\", \"hoverinfo\": \"text\", \"marker\": {\"color\": \"rgb(255, 255, 255)\"}, \"xaxis\": \"x1\", \"yaxis\": \"y1\"}, {\"type\": \"bar\", \"y\": [1], \"x\": [1], \"orientation\": \"h\", \"width\": 0.5, \"text\": \"\", \"hoverinfo\": \"text\", \"marker\": {\"color\": \"rgb(255, 255, 255)\"}, \"xaxis\": \"x1\", \"yaxis\": \"y1\"}, {\"type\": \"bar\", \"y\": [1], \"x\": [1], \"orientation\": \"h\", \"width\": 0.5, \"text\": \"\", \"hoverinfo\": \"text\", \"marker\": {\"color\": \"rgb(255, 255, 255)\"}, \"xaxis\": \"x1\", \"yaxis\": \"y1\"}, {\"type\": \"bar\", \"y\": [1], \"x\": [1], \"orientation\": \"h\", \"width\": 0.5, \"text\": \"\", \"hoverinfo\": \"text\", \"marker\": {\"color\": \"rgb(255, 255, 255)\"}, \"xaxis\": \"x1\", \"yaxis\": \"y1\"}, {\"type\": \"bar\", \"y\": [1], \"x\": [1], \"orientation\": \"h\", \"width\": 0.5, \"text\": \"\", \"hoverinfo\": \"text\", \"marker\": {\"color\": \"rgb(255, 255, 255)\"}, \"xaxis\": \"x1\", \"yaxis\": \"y1\"}, {\"type\": \"bar\", \"y\": [1], \"x\": [1], \"orientation\": \"h\", \"width\": 0.5, \"text\": \"\", \"hoverinfo\": \"text\", \"marker\": {\"color\": \"rgb(255, 255, 255)\"}, \"xaxis\": \"x1\", \"yaxis\": \"y1\"}, {\"type\": \"bar\", \"y\": [1], \"x\": [1], \"orientation\": \"h\", \"width\": 0.5, \"text\": \"\", \"hoverinfo\": \"text\", \"marker\": {\"color\": \"rgb(255, 255, 255)\"}, \"xaxis\": \"x1\", \"yaxis\": \"y1\"}, {\"type\": \"bar\", \"y\": [1], \"x\": [1], \"orientation\": \"h\", \"width\": 0.5, \"text\": \"\", \"hoverinfo\": \"text\", \"marker\": {\"color\": \"rgb(255, 255, 255)\"}, \"xaxis\": \"x1\", \"yaxis\": \"y1\"}, {\"type\": \"bar\", \"y\": [1], \"x\": [1], \"orientation\": \"h\", \"width\": 0.5, \"text\": \"\", \"hoverinfo\": \"text\", \"marker\": {\"color\": \"rgb(255, 255, 255)\"}, \"xaxis\": \"x1\", \"yaxis\": \"y1\"}, {\"type\": \"bar\", \"y\": [1], \"x\": [1], \"orientation\": \"h\", \"width\": 0.5, \"text\": \"\", \"hoverinfo\": \"text\", \"marker\": {\"color\": \"rgb(255, 255, 255)\"}, \"xaxis\": \"x1\", \"yaxis\": \"y1\"}, {\"type\": \"bar\", \"y\": [1], \"x\": [1], \"orientation\": \"h\", \"width\": 0.5, \"text\": \"\", \"hoverinfo\": \"text\", \"marker\": {\"color\": \"rgb(255, 255, 255)\"}, \"xaxis\": \"x1\", \"yaxis\": \"y1\"}, {\"type\": \"bar\", \"y\": [1], \"x\": [1], \"orientation\": \"h\", \"width\": 0.5, \"text\": \"\", \"hoverinfo\": \"text\", \"marker\": {\"color\": \"rgb(255, 255, 255)\"}, \"xaxis\": \"x1\", \"yaxis\": \"y1\"}, {\"type\": \"bar\", \"y\": [1], \"x\": [1], \"orientation\": \"h\", \"width\": 0.5, \"text\": \"\", \"hoverinfo\": \"text\", \"marker\": {\"color\": \"rgb(255, 255, 255)\"}, \"xaxis\": \"x1\", \"yaxis\": \"y1\"}, {\"type\": \"bar\", \"y\": [1], \"x\": [1], \"orientation\": \"h\", \"width\": 0.5, \"text\": \"\", \"hoverinfo\": \"text\", \"marker\": {\"color\": \"rgb(255, 255, 255)\"}, \"xaxis\": \"x1\", \"yaxis\": \"y1\"}, {\"type\": \"bar\", \"y\": [1], \"x\": [1], \"orientation\": \"h\", \"width\": 0.5, \"text\": \"\", \"hoverinfo\": \"text\", \"marker\": {\"color\": \"rgb(255, 255, 255)\"}, \"xaxis\": \"x1\", \"yaxis\": \"y1\"}, {\"type\": \"bar\", \"y\": [1], \"x\": [1], \"orientation\": \"h\", \"width\": 0.5, \"text\": \"\", \"hoverinfo\": \"text\", \"marker\": {\"color\": \"rgb(255, 255, 255)\"}, \"xaxis\": \"x1\", \"yaxis\": \"y1\"}, {\"type\": \"bar\", \"y\": [1], \"x\": [1], \"orientation\": \"h\", \"width\": 0.5, \"text\": \"\", \"hoverinfo\": \"text\", \"marker\": {\"color\": \"rgb(255, 255, 255)\"}, \"xaxis\": \"x1\", \"yaxis\": \"y1\"}, {\"type\": \"bar\", \"y\": [1], \"x\": [1], \"orientation\": \"h\", \"width\": 0.5, \"text\": \"\", \"hoverinfo\": \"text\", \"marker\": {\"color\": \"rgb(255, 255, 255)\"}, \"xaxis\": \"x1\", \"yaxis\": \"y1\"}, {\"type\": \"bar\", \"y\": [1], \"x\": [1], \"orientation\": \"h\", \"width\": 0.5, \"text\": \"\", \"hoverinfo\": \"text\", \"marker\": {\"color\": \"rgb(255, 255, 255)\"}, \"xaxis\": \"x1\", \"yaxis\": \"y1\"}, {\"type\": \"bar\", \"y\": [1], \"x\": [1], \"orientation\": \"h\", \"width\": 0.5, \"text\": \"\", \"hoverinfo\": \"text\", \"marker\": {\"color\": \"rgb(255, 255, 255)\"}, \"xaxis\": \"x1\", \"yaxis\": \"y1\"}], {\"xaxis1\": {\"domain\": [0.0, 1.0], \"anchor\": \"y1\", \"showgrid\": false, \"showline\": false, \"showticklabels\": false, \"zeroline\": false}, \"yaxis1\": {\"domain\": [0.0, 1.0], \"anchor\": \"x1\", \"showgrid\": false, \"showline\": false, \"showticklabels\": false, \"zeroline\": false}, \"barmode\": \"stack\", \"showlegend\": false, \"margin\": {\"b\": 30, \"l\": 20, \"r\": 20, \"t\": 10}, \"annotations\": [{\"xref\": \"x1\", \"yref\": \"y1\", \"x\": 0.5, \"y\": 1, \"text\": \" \", \"align\": \"left\", \"font\": {\"family\": \"Arial\", \"size\": 14, \"color\": \"black\"}, \"showarrow\": false}, {\"xref\": \"x1\", \"yref\": \"y1\", \"x\": 1.5, \"y\": 1, \"text\": \"\\ub298\", \"align\": \"left\", \"font\": {\"family\": \"Arial\", \"size\": 14, \"color\": \"black\"}, \"showarrow\": false}, {\"xref\": \"x1\", \"yref\": \"y1\", \"x\": 2.5, \"y\": 1, \"text\": \" \", \"align\": \"left\", \"font\": {\"family\": \"Arial\", \"size\": 14, \"color\": \"black\"}, \"showarrow\": false}, {\"xref\": \"x1\", \"yref\": \"y1\", \"x\": 3.5, \"y\": 1, \"text\": \"\\ubc30\", \"align\": \"left\", \"font\": {\"family\": \"Arial\", \"size\": 14, \"color\": \"black\"}, \"showarrow\": false}, {\"xref\": \"x1\", \"yref\": \"y1\", \"x\": 4.5, \"y\": 1, \"text\": \"\\uc6b0\", \"align\": \"left\", \"font\": {\"family\": \"Arial\", \"size\": 14, \"color\": \"black\"}, \"showarrow\": false}, {\"xref\": \"x1\", \"yref\": \"y1\", \"x\": 5.5, \"y\": 1, \"text\": \"\\uace0\", \"align\": \"left\", \"font\": {\"family\": \"Arial\", \"size\": 14, \"color\": \"black\"}, \"showarrow\": false}, {\"xref\": \"x1\", \"yref\": \"y1\", \"x\": 6.5, \"y\": 1, \"text\": \" \", \"align\": \"left\", \"font\": {\"family\": \"Arial\", \"size\": 14, \"color\": \"black\"}, \"showarrow\": false}, {\"xref\": \"x1\", \"yref\": \"y1\", \"x\": 7.5, \"y\": 1, \"text\": \"\\ubc30\", \"align\": \"left\", \"font\": {\"family\": \"Arial\", \"size\": 14, \"color\": \"black\"}, \"showarrow\": false}, {\"xref\": \"x1\", \"yref\": \"y1\", \"x\": 8.5, \"y\": 1, \"text\": \"\\ud478\", \"align\": \"left\", \"font\": {\"family\": \"Arial\", \"size\": 14, \"color\": \"black\"}, \"showarrow\": false}, {\"xref\": \"x1\", \"yref\": \"y1\", \"x\": 9.5, \"y\": 1, \"text\": \"\\ub294\", \"align\": \"left\", \"font\": {\"family\": \"Arial\", \"size\": 14, \"color\": \"black\"}, \"showarrow\": false}, {\"xref\": \"x1\", \"yref\": \"y1\", \"x\": 10.5, \"y\": 1, \"text\": \" \", \"align\": \"left\", \"font\": {\"family\": \"Arial\", \"size\": 14, \"color\": \"black\"}, \"showarrow\": false}, {\"xref\": \"x1\", \"yref\": \"y1\", \"x\": 11.5, \"y\": 1, \"text\": \"\\uc790\", \"align\": \"left\", \"font\": {\"family\": \"Arial\", \"size\": 14, \"color\": \"black\"}, \"showarrow\": false}, {\"xref\": \"x1\", \"yref\": \"y1\", \"x\": 12.5, \"y\": 1, \"text\": \"\\uc138\", \"align\": \"left\", \"font\": {\"family\": \"Arial\", \"size\": 14, \"color\": \"black\"}, \"showarrow\": false}, {\"xref\": \"x1\", \"yref\": \"y1\", \"x\": 13.5, \"y\": 1, \"text\": \"\\uac00\", \"align\": \"left\", \"font\": {\"family\": \"Arial\", \"size\": 14, \"color\": \"black\"}, \"showarrow\": false}, {\"xref\": \"x1\", \"yref\": \"y1\", \"x\": 14.5, \"y\": 1, \"text\": \" \", \"align\": \"left\", \"font\": {\"family\": \"Arial\", \"size\": 14, \"color\": \"black\"}, \"showarrow\": false}, {\"xref\": \"x1\", \"yref\": \"y1\", \"x\": 15.5, \"y\": 1, \"text\": \"\\ud544\", \"align\": \"left\", \"font\": {\"family\": \"Arial\", \"size\": 14, \"color\": \"black\"}, \"showarrow\": false}, {\"xref\": \"x1\", \"yref\": \"y1\", \"x\": 16.5, \"y\": 1, \"text\": \"\\uc694\", \"align\": \"left\", \"font\": {\"family\": \"Arial\", \"size\": 14, \"color\": \"black\"}, \"showarrow\": false}, {\"xref\": \"x1\", \"yref\": \"y1\", \"x\": 17.5, \"y\": 1, \"text\": \"\\ud569\", \"align\": \"left\", \"font\": {\"family\": \"Arial\", \"size\": 14, \"color\": \"black\"}, \"showarrow\": false}, {\"xref\": \"x1\", \"yref\": \"y1\", \"x\": 18.5, \"y\": 1, \"text\": \"\\ub2c8\", \"align\": \"left\", \"font\": {\"family\": \"Arial\", \"size\": 14, \"color\": \"black\"}, \"showarrow\": false}, {\"xref\": \"x1\", \"yref\": \"y1\", \"x\": 19.5, \"y\": 1, \"text\": \"\\ub2e4\", \"align\": \"left\", \"font\": {\"family\": \"Arial\", \"size\": 14, \"color\": \"black\"}, \"showarrow\": false}, {\"xref\": \"x1\", \"yref\": \"y1\", \"x\": 20.5, \"y\": 1, \"text\": \" \", \"align\": \"left\", \"font\": {\"family\": \"Arial\", \"size\": 14, \"color\": \"black\"}, \"showarrow\": false}, {\"xref\": \"x1\", \"yref\": \"y1\", \"x\": 21.5, \"y\": 1, \"text\": \".\", \"align\": \"left\", \"font\": {\"family\": \"Arial\", \"size\": 14, \"color\": \"black\"}, \"showarrow\": false}], \"height\": 80, \"images\": [{\"source\": \"https://raw.githubusercontent.com/fingeredman/teanaps/master/data/logo/teanaps_logo_no-bg.png\", \"xref\": \"paper\", \"yref\": \"paper\", \"x\": 0.5, \"y\": 0.6, \"sizex\": 0.7, \"sizey\": 0.7, \"xanchor\": \"center\", \"yanchor\": \"center\", \"opacity\": 0.3, \"layer\": \"above\"}]}, {\"showLink\": true, \"linkText\": \"Export to plot.ly\"})});</script>"
      ]
     },
     "metadata": {},
     "output_type": "display_data"
    }
   ],
   "source": [
    "sentence = \"늘 배우고 배푸는 자세가 필요합니다.\"\n",
    "senti.draw_sentence_weight(sentence)"
   ]
  },
  {
   "cell_type": "code",
   "execution_count": 13,
   "metadata": {},
   "outputs": [
    {
     "data": {
      "text/html": [
       "\n",
       "                <script src=\"/static/components/requirejs/require.js\"></script>\n",
       "                <script>\n",
       "                  requirejs.config({\n",
       "                    paths: {\n",
       "                      base: '/static/base',\n",
       "                      plotly: 'https://cdn.plot.ly/plotly-latest.min.js?noext',\n",
       "                    },\n",
       "                  });\n",
       "                </script>\n",
       "                "
      ],
      "text/plain": [
       "<IPython.core.display.HTML object>"
      ]
     },
     "metadata": {},
     "output_type": "display_data"
    },
    {
     "data": {
      "text/html": [
       "\n",
       "                <script src=\"/static/components/requirejs/require.js\"></script>\n",
       "                <script>\n",
       "                  requirejs.config({\n",
       "                    paths: {\n",
       "                      base: '/static/base',\n",
       "                      plotly: 'https://cdn.plot.ly/plotly-latest.min.js?noext',\n",
       "                    },\n",
       "                  });\n",
       "                </script>\n",
       "                "
      ],
      "text/plain": [
       "<IPython.core.display.HTML object>"
      ]
     },
     "metadata": {},
     "output_type": "display_data"
    },
    {
     "data": {
      "application/vnd.plotly.v1+json": {
       "data": [
        {
         "hoverinfo": "text",
         "marker": {
          "color": "rgb(255, 255.0, 255.0)"
         },
         "orientation": "h",
         "text": "",
         "type": "bar",
         "width": 0.5,
         "x": [
          1
         ],
         "xaxis": "x1",
         "y": [
          1
         ],
         "yaxis": "y1"
        },
        {
         "hoverinfo": "text",
         "marker": {
          "color": "rgb(252.95061758092618, 253.9753087904631, 255)"
         },
         "orientation": "h",
         "text": "0.01",
         "type": "bar",
         "width": 0.5,
         "x": [
          1
         ],
         "xaxis": "x1",
         "y": [
          1
         ],
         "yaxis": "y1"
        },
        {
         "hoverinfo": "text",
         "marker": {
          "color": "rgb(251.25172350619482, 253.1258617530974, 255)"
         },
         "orientation": "h",
         "text": "0.02",
         "type": "bar",
         "width": 0.5,
         "x": [
          1
         ],
         "xaxis": "x1",
         "y": [
          1
         ],
         "yaxis": "y1"
        },
        {
         "hoverinfo": "text",
         "marker": {
          "color": "rgb(250.66105790716117, 252.8305289535806, 255)"
         },
         "orientation": "h",
         "text": "0.02",
         "type": "bar",
         "width": 0.5,
         "x": [
          3
         ],
         "xaxis": "x1",
         "y": [
          1
         ],
         "yaxis": "y1"
        },
        {
         "hoverinfo": "text",
         "marker": {
          "color": "rgb(243.49989074277585, 249.24994537138792, 255)"
         },
         "orientation": "h",
         "text": "0.06",
         "type": "bar",
         "width": 0.5,
         "x": [
          1
         ],
         "xaxis": "x1",
         "y": [
          1
         ],
         "yaxis": "y1"
        },
        {
         "hoverinfo": "text",
         "marker": {
          "color": "rgb(227.16098329325817, 241.0804916466291, 255)"
         },
         "orientation": "h",
         "text": "0.14",
         "type": "bar",
         "width": 0.5,
         "x": [
          3
         ],
         "xaxis": "x1",
         "y": [
          1
         ],
         "yaxis": "y1"
        },
        {
         "hoverinfo": "text",
         "marker": {
          "color": "rgb(181.54763711524456, 218.2738185576223, 255)"
         },
         "orientation": "h",
         "text": "0.37",
         "type": "bar",
         "width": 0.5,
         "x": [
          4
         ],
         "xaxis": "x1",
         "y": [
          1
         ],
         "yaxis": "y1"
        },
        {
         "hoverinfo": "text",
         "marker": {
          "color": "rgb(55.0, 155.0, 255)"
         },
         "orientation": "h",
         "text": "1.0",
         "type": "bar",
         "width": 0.5,
         "x": [
          2
         ],
         "xaxis": "x1",
         "y": [
          1
         ],
         "yaxis": "y1"
        },
        {
         "hoverinfo": "text",
         "marker": {
          "color": "rgb(146.04975860127146, 200.52487930063575, 255)"
         },
         "orientation": "h",
         "text": "0.54",
         "type": "bar",
         "width": 0.5,
         "x": [
          4
         ],
         "xaxis": "x1",
         "y": [
          1
         ],
         "yaxis": "y1"
        },
        {
         "hoverinfo": "text",
         "marker": {
          "color": "rgb(255, 255.0, 255.0)"
         },
         "orientation": "h",
         "text": "",
         "type": "bar",
         "width": 0.5,
         "x": [
          1
         ],
         "xaxis": "x1",
         "y": [
          1
         ],
         "yaxis": "y1"
        },
        {
         "hoverinfo": "text",
         "marker": {
          "color": "rgb(121.30047812434302, 188.15023906217152, 255)"
         },
         "orientation": "h",
         "text": "0.67",
         "type": "bar",
         "width": 0.5,
         "x": [
          1
         ],
         "xaxis": "x1",
         "y": [
          1
         ],
         "yaxis": "y1"
        },
        {
         "hoverinfo": "text",
         "marker": {
          "color": "rgb(79.79428415069441, 167.3971420753472, 255)"
         },
         "orientation": "h",
         "text": "0.88",
         "type": "bar",
         "width": 0.5,
         "x": [
          2
         ],
         "xaxis": "x1",
         "y": [
          1
         ],
         "yaxis": "y1"
        },
        {
         "hoverinfo": "text",
         "marker": {
          "color": "rgb(255, 255.0, 255.0)"
         },
         "orientation": "h",
         "text": "",
         "type": "bar",
         "width": 0.5,
         "x": [
          1
         ],
         "xaxis": "x1",
         "y": [
          1
         ],
         "yaxis": "y1"
        },
        {
         "hoverinfo": "text",
         "marker": {
          "color": "rgb(137.62566178084163, 196.3128308904208, 255)"
         },
         "orientation": "h",
         "text": "0.59",
         "type": "bar",
         "width": 0.5,
         "x": [
          1
         ],
         "xaxis": "x1",
         "y": [
          1
         ],
         "yaxis": "y1"
        },
        {
         "hoverinfo": "text",
         "marker": {
          "color": "rgb(255, 255, 255)"
         },
         "orientation": "h",
         "text": "",
         "type": "bar",
         "width": 0.5,
         "x": [
          1
         ],
         "xaxis": "x1",
         "y": [
          1
         ],
         "yaxis": "y1"
        },
        {
         "hoverinfo": "text",
         "marker": {
          "color": "rgb(255, 255, 255)"
         },
         "orientation": "h",
         "text": "",
         "type": "bar",
         "width": 0.5,
         "x": [
          1
         ],
         "xaxis": "x1",
         "y": [
          1
         ],
         "yaxis": "y1"
        },
        {
         "hoverinfo": "text",
         "marker": {
          "color": "rgb(255, 255, 255)"
         },
         "orientation": "h",
         "text": "",
         "type": "bar",
         "width": 0.5,
         "x": [
          1
         ],
         "xaxis": "x1",
         "y": [
          1
         ],
         "yaxis": "y1"
        },
        {
         "hoverinfo": "text",
         "marker": {
          "color": "rgb(255, 255, 255)"
         },
         "orientation": "h",
         "text": "",
         "type": "bar",
         "width": 0.5,
         "x": [
          1
         ],
         "xaxis": "x1",
         "y": [
          1
         ],
         "yaxis": "y1"
        },
        {
         "hoverinfo": "text",
         "marker": {
          "color": "rgb(255, 255, 255)"
         },
         "orientation": "h",
         "text": "",
         "type": "bar",
         "width": 0.5,
         "x": [
          1
         ],
         "xaxis": "x1",
         "y": [
          1
         ],
         "yaxis": "y1"
        },
        {
         "hoverinfo": "text",
         "marker": {
          "color": "rgb(255, 255, 255)"
         },
         "orientation": "h",
         "text": "",
         "type": "bar",
         "width": 0.5,
         "x": [
          1
         ],
         "xaxis": "x1",
         "y": [
          1
         ],
         "yaxis": "y1"
        },
        {
         "hoverinfo": "text",
         "marker": {
          "color": "rgb(255, 255, 255)"
         },
         "orientation": "h",
         "text": "",
         "type": "bar",
         "width": 0.5,
         "x": [
          1
         ],
         "xaxis": "x1",
         "y": [
          1
         ],
         "yaxis": "y1"
        },
        {
         "hoverinfo": "text",
         "marker": {
          "color": "rgb(255, 255, 255)"
         },
         "orientation": "h",
         "text": "",
         "type": "bar",
         "width": 0.5,
         "x": [
          1
         ],
         "xaxis": "x1",
         "y": [
          1
         ],
         "yaxis": "y1"
        },
        {
         "hoverinfo": "text",
         "marker": {
          "color": "rgb(255, 255, 255)"
         },
         "orientation": "h",
         "text": "",
         "type": "bar",
         "width": 0.5,
         "x": [
          1
         ],
         "xaxis": "x1",
         "y": [
          1
         ],
         "yaxis": "y1"
        },
        {
         "hoverinfo": "text",
         "marker": {
          "color": "rgb(255, 255, 255)"
         },
         "orientation": "h",
         "text": "",
         "type": "bar",
         "width": 0.5,
         "x": [
          1
         ],
         "xaxis": "x1",
         "y": [
          1
         ],
         "yaxis": "y1"
        },
        {
         "hoverinfo": "text",
         "marker": {
          "color": "rgb(255, 255, 255)"
         },
         "orientation": "h",
         "text": "",
         "type": "bar",
         "width": 0.5,
         "x": [
          1
         ],
         "xaxis": "x1",
         "y": [
          1
         ],
         "yaxis": "y1"
        },
        {
         "hoverinfo": "text",
         "marker": {
          "color": "rgb(255, 255, 255)"
         },
         "orientation": "h",
         "text": "",
         "type": "bar",
         "width": 0.5,
         "x": [
          1
         ],
         "xaxis": "x1",
         "y": [
          1
         ],
         "yaxis": "y1"
        },
        {
         "hoverinfo": "text",
         "marker": {
          "color": "rgb(255, 255, 255)"
         },
         "orientation": "h",
         "text": "",
         "type": "bar",
         "width": 0.5,
         "x": [
          1
         ],
         "xaxis": "x1",
         "y": [
          1
         ],
         "yaxis": "y1"
        },
        {
         "hoverinfo": "text",
         "marker": {
          "color": "rgb(255, 255, 255)"
         },
         "orientation": "h",
         "text": "",
         "type": "bar",
         "width": 0.5,
         "x": [
          1
         ],
         "xaxis": "x1",
         "y": [
          1
         ],
         "yaxis": "y1"
        },
        {
         "hoverinfo": "text",
         "marker": {
          "color": "rgb(255, 255, 255)"
         },
         "orientation": "h",
         "text": "",
         "type": "bar",
         "width": 0.5,
         "x": [
          1
         ],
         "xaxis": "x1",
         "y": [
          1
         ],
         "yaxis": "y1"
        },
        {
         "hoverinfo": "text",
         "marker": {
          "color": "rgb(255, 255, 255)"
         },
         "orientation": "h",
         "text": "",
         "type": "bar",
         "width": 0.5,
         "x": [
          1
         ],
         "xaxis": "x1",
         "y": [
          1
         ],
         "yaxis": "y1"
        },
        {
         "hoverinfo": "text",
         "marker": {
          "color": "rgb(255, 255, 255)"
         },
         "orientation": "h",
         "text": "",
         "type": "bar",
         "width": 0.5,
         "x": [
          1
         ],
         "xaxis": "x1",
         "y": [
          1
         ],
         "yaxis": "y1"
        },
        {
         "hoverinfo": "text",
         "marker": {
          "color": "rgb(255, 255, 255)"
         },
         "orientation": "h",
         "text": "",
         "type": "bar",
         "width": 0.5,
         "x": [
          1
         ],
         "xaxis": "x1",
         "y": [
          1
         ],
         "yaxis": "y1"
        },
        {
         "hoverinfo": "text",
         "marker": {
          "color": "rgb(255, 255, 255)"
         },
         "orientation": "h",
         "text": "",
         "type": "bar",
         "width": 0.5,
         "x": [
          1
         ],
         "xaxis": "x1",
         "y": [
          1
         ],
         "yaxis": "y1"
        },
        {
         "hoverinfo": "text",
         "marker": {
          "color": "rgb(255, 255, 255)"
         },
         "orientation": "h",
         "text": "",
         "type": "bar",
         "width": 0.5,
         "x": [
          1
         ],
         "xaxis": "x1",
         "y": [
          1
         ],
         "yaxis": "y1"
        },
        {
         "hoverinfo": "text",
         "marker": {
          "color": "rgb(255, 255, 255)"
         },
         "orientation": "h",
         "text": "",
         "type": "bar",
         "width": 0.5,
         "x": [
          1
         ],
         "xaxis": "x1",
         "y": [
          1
         ],
         "yaxis": "y1"
        },
        {
         "hoverinfo": "text",
         "marker": {
          "color": "rgb(255, 255, 255)"
         },
         "orientation": "h",
         "text": "",
         "type": "bar",
         "width": 0.5,
         "x": [
          1
         ],
         "xaxis": "x1",
         "y": [
          1
         ],
         "yaxis": "y1"
        },
        {
         "hoverinfo": "text",
         "marker": {
          "color": "rgb(255, 255, 255)"
         },
         "orientation": "h",
         "text": "",
         "type": "bar",
         "width": 0.5,
         "x": [
          1
         ],
         "xaxis": "x1",
         "y": [
          1
         ],
         "yaxis": "y1"
        },
        {
         "hoverinfo": "text",
         "marker": {
          "color": "rgb(255, 255, 255)"
         },
         "orientation": "h",
         "text": "",
         "type": "bar",
         "width": 0.5,
         "x": [
          1
         ],
         "xaxis": "x1",
         "y": [
          1
         ],
         "yaxis": "y1"
        }
       ],
       "layout": {
        "annotations": [
         {
          "align": "left",
          "font": {
           "color": "black",
           "family": "Arial",
           "size": 14
          },
          "showarrow": false,
          "text": " ",
          "x": 0.5,
          "xref": "x1",
          "y": 1,
          "yref": "y1"
         },
         {
          "align": "left",
          "font": {
           "color": "black",
           "family": "Arial",
           "size": 14
          },
          "showarrow": false,
          "text": "과",
          "x": 1.5,
          "xref": "x1",
          "y": 1,
          "yref": "y1"
         },
         {
          "align": "left",
          "font": {
           "color": "black",
           "family": "Arial",
           "size": 14
          },
          "showarrow": false,
          "text": "한",
          "x": 2.5,
          "xref": "x1",
          "y": 1,
          "yref": "y1"
         },
         {
          "align": "left",
          "font": {
           "color": "black",
           "family": "Arial",
           "size": 14
          },
          "showarrow": false,
          "text": " ",
          "x": 3.5,
          "xref": "x1",
          "y": 1,
          "yref": "y1"
         },
         {
          "align": "left",
          "font": {
           "color": "black",
           "family": "Arial",
           "size": 14
          },
          "showarrow": false,
          "text": "욕",
          "x": 4.5,
          "xref": "x1",
          "y": 1,
          "yref": "y1"
         },
         {
          "align": "left",
          "font": {
           "color": "black",
           "family": "Arial",
           "size": 14
          },
          "showarrow": false,
          "text": "심",
          "x": 5.5,
          "xref": "x1",
          "y": 1,
          "yref": "y1"
         },
         {
          "align": "left",
          "font": {
           "color": "black",
           "family": "Arial",
           "size": 14
          },
          "showarrow": false,
          "text": "은",
          "x": 6.5,
          "xref": "x1",
          "y": 1,
          "yref": "y1"
         },
         {
          "align": "left",
          "font": {
           "color": "black",
           "family": "Arial",
           "size": 14
          },
          "showarrow": false,
          "text": " ",
          "x": 7.5,
          "xref": "x1",
          "y": 1,
          "yref": "y1"
         },
         {
          "align": "left",
          "font": {
           "color": "black",
           "family": "Arial",
           "size": 14
          },
          "showarrow": false,
          "text": "주",
          "x": 8.5,
          "xref": "x1",
          "y": 1,
          "yref": "y1"
         },
         {
          "align": "left",
          "font": {
           "color": "black",
           "family": "Arial",
           "size": 14
          },
          "showarrow": false,
          "text": "변",
          "x": 9.5,
          "xref": "x1",
          "y": 1,
          "yref": "y1"
         },
         {
          "align": "left",
          "font": {
           "color": "black",
           "family": "Arial",
           "size": 14
          },
          "showarrow": false,
          "text": " ",
          "x": 10.5,
          "xref": "x1",
          "y": 1,
          "yref": "y1"
         },
         {
          "align": "left",
          "font": {
           "color": "black",
           "family": "Arial",
           "size": 14
          },
          "showarrow": false,
          "text": "사",
          "x": 11.5,
          "xref": "x1",
          "y": 1,
          "yref": "y1"
         },
         {
          "align": "left",
          "font": {
           "color": "black",
           "family": "Arial",
           "size": 14
          },
          "showarrow": false,
          "text": "람",
          "x": 12.5,
          "xref": "x1",
          "y": 1,
          "yref": "y1"
         },
         {
          "align": "left",
          "font": {
           "color": "black",
           "family": "Arial",
           "size": 14
          },
          "showarrow": false,
          "text": "들",
          "x": 13.5,
          "xref": "x1",
          "y": 1,
          "yref": "y1"
         },
         {
          "align": "left",
          "font": {
           "color": "black",
           "family": "Arial",
           "size": 14
          },
          "showarrow": false,
          "text": "에",
          "x": 14.5,
          "xref": "x1",
          "y": 1,
          "yref": "y1"
         },
         {
          "align": "left",
          "font": {
           "color": "black",
           "family": "Arial",
           "size": 14
          },
          "showarrow": false,
          "text": "게",
          "x": 15.5,
          "xref": "x1",
          "y": 1,
          "yref": "y1"
         },
         {
          "align": "left",
          "font": {
           "color": "black",
           "family": "Arial",
           "size": 14
          },
          "showarrow": false,
          "text": " ",
          "x": 16.5,
          "xref": "x1",
          "y": 1,
          "yref": "y1"
         },
         {
          "align": "left",
          "font": {
           "color": "black",
           "family": "Arial",
           "size": 14
          },
          "showarrow": false,
          "text": "피",
          "x": 17.5,
          "xref": "x1",
          "y": 1,
          "yref": "y1"
         },
         {
          "align": "left",
          "font": {
           "color": "black",
           "family": "Arial",
           "size": 14
          },
          "showarrow": false,
          "text": "해",
          "x": 18.5,
          "xref": "x1",
          "y": 1,
          "yref": "y1"
         },
         {
          "align": "left",
          "font": {
           "color": "black",
           "family": "Arial",
           "size": 14
          },
          "showarrow": false,
          "text": "를",
          "x": 19.5,
          "xref": "x1",
          "y": 1,
          "yref": "y1"
         },
         {
          "align": "left",
          "font": {
           "color": "black",
           "family": "Arial",
           "size": 14
          },
          "showarrow": false,
          "text": " ",
          "x": 20.5,
          "xref": "x1",
          "y": 1,
          "yref": "y1"
         },
         {
          "align": "left",
          "font": {
           "color": "black",
           "family": "Arial",
           "size": 14
          },
          "showarrow": false,
          "text": "줍",
          "x": 21.5,
          "xref": "x1",
          "y": 1,
          "yref": "y1"
         },
         {
          "align": "left",
          "font": {
           "color": "black",
           "family": "Arial",
           "size": 14
          },
          "showarrow": false,
          "text": "니",
          "x": 22.5,
          "xref": "x1",
          "y": 1,
          "yref": "y1"
         },
         {
          "align": "left",
          "font": {
           "color": "black",
           "family": "Arial",
           "size": 14
          },
          "showarrow": false,
          "text": "다",
          "x": 23.5,
          "xref": "x1",
          "y": 1,
          "yref": "y1"
         },
         {
          "align": "left",
          "font": {
           "color": "black",
           "family": "Arial",
           "size": 14
          },
          "showarrow": false,
          "text": " ",
          "x": 24.5,
          "xref": "x1",
          "y": 1,
          "yref": "y1"
         },
         {
          "align": "left",
          "font": {
           "color": "black",
           "family": "Arial",
           "size": 14
          },
          "showarrow": false,
          "text": ".",
          "x": 25.5,
          "xref": "x1",
          "y": 1,
          "yref": "y1"
         }
        ],
        "barmode": "stack",
        "height": 80,
        "images": [
         {
          "layer": "above",
          "opacity": 0.3,
          "sizex": 0.7,
          "sizey": 0.7,
          "source": "https://raw.githubusercontent.com/fingeredman/teanaps/master/data/logo/teanaps_logo_no-bg.png",
          "x": 0.5,
          "xanchor": "center",
          "xref": "paper",
          "y": 0.6,
          "yanchor": "center",
          "yref": "paper"
         }
        ],
        "margin": {
         "b": 30,
         "l": 20,
         "r": 20,
         "t": 10
        },
        "showlegend": false,
        "xaxis1": {
         "anchor": "y1",
         "domain": [
          0,
          1
         ],
         "showgrid": false,
         "showline": false,
         "showticklabels": false,
         "zeroline": false
        },
        "yaxis1": {
         "anchor": "x1",
         "domain": [
          0,
          1
         ],
         "showgrid": false,
         "showline": false,
         "showticklabels": false,
         "zeroline": false
        }
       }
      },
      "text/html": [
       "<div id=\"4739c1bf-371e-4c48-b401-0cbaf64b5a07\" style=\"height: 80px; width: 100%;\" class=\"plotly-graph-div\"></div><script type=\"text/javascript\">require([\"plotly\"], function(Plotly) { window.PLOTLYENV=window.PLOTLYENV || {};window.PLOTLYENV.BASE_URL=\"https://plot.ly\";Plotly.newPlot(\"4739c1bf-371e-4c48-b401-0cbaf64b5a07\", [{\"type\": \"bar\", \"y\": [1], \"x\": [1], \"orientation\": \"h\", \"width\": 0.5, \"text\": \"\", \"hoverinfo\": \"text\", \"marker\": {\"color\": \"rgb(255, 255.0, 255.0)\"}, \"xaxis\": \"x1\", \"yaxis\": \"y1\"}, {\"type\": \"bar\", \"y\": [1], \"x\": [1], \"orientation\": \"h\", \"width\": 0.5, \"text\": \"0.01\", \"hoverinfo\": \"text\", \"marker\": {\"color\": \"rgb(252.95061758092618, 253.9753087904631, 255)\"}, \"xaxis\": \"x1\", \"yaxis\": \"y1\"}, {\"type\": \"bar\", \"y\": [1], \"x\": [1], \"orientation\": \"h\", \"width\": 0.5, \"text\": \"0.02\", \"hoverinfo\": \"text\", \"marker\": {\"color\": \"rgb(251.25172350619482, 253.1258617530974, 255)\"}, \"xaxis\": \"x1\", \"yaxis\": \"y1\"}, {\"type\": \"bar\", \"y\": [1], \"x\": [3], \"orientation\": \"h\", \"width\": 0.5, \"text\": \"0.02\", \"hoverinfo\": \"text\", \"marker\": {\"color\": \"rgb(250.66105790716117, 252.8305289535806, 255)\"}, \"xaxis\": \"x1\", \"yaxis\": \"y1\"}, {\"type\": \"bar\", \"y\": [1], \"x\": [1], \"orientation\": \"h\", \"width\": 0.5, \"text\": \"0.06\", \"hoverinfo\": \"text\", \"marker\": {\"color\": \"rgb(243.49989074277585, 249.24994537138792, 255)\"}, \"xaxis\": \"x1\", \"yaxis\": \"y1\"}, {\"type\": \"bar\", \"y\": [1], \"x\": [3], \"orientation\": \"h\", \"width\": 0.5, \"text\": \"0.14\", \"hoverinfo\": \"text\", \"marker\": {\"color\": \"rgb(227.16098329325817, 241.0804916466291, 255)\"}, \"xaxis\": \"x1\", \"yaxis\": \"y1\"}, {\"type\": \"bar\", \"y\": [1], \"x\": [4], \"orientation\": \"h\", \"width\": 0.5, \"text\": \"0.37\", \"hoverinfo\": \"text\", \"marker\": {\"color\": \"rgb(181.54763711524456, 218.2738185576223, 255)\"}, \"xaxis\": \"x1\", \"yaxis\": \"y1\"}, {\"type\": \"bar\", \"y\": [1], \"x\": [2], \"orientation\": \"h\", \"width\": 0.5, \"text\": \"1.0\", \"hoverinfo\": \"text\", \"marker\": {\"color\": \"rgb(55.0, 155.0, 255)\"}, \"xaxis\": \"x1\", \"yaxis\": \"y1\"}, {\"type\": \"bar\", \"y\": [1], \"x\": [4], \"orientation\": \"h\", \"width\": 0.5, \"text\": \"0.54\", \"hoverinfo\": \"text\", \"marker\": {\"color\": \"rgb(146.04975860127146, 200.52487930063575, 255)\"}, \"xaxis\": \"x1\", \"yaxis\": \"y1\"}, {\"type\": \"bar\", \"y\": [1], \"x\": [1], \"orientation\": \"h\", \"width\": 0.5, \"text\": \"\", \"hoverinfo\": \"text\", \"marker\": {\"color\": \"rgb(255, 255.0, 255.0)\"}, \"xaxis\": \"x1\", \"yaxis\": \"y1\"}, {\"type\": \"bar\", \"y\": [1], \"x\": [1], \"orientation\": \"h\", \"width\": 0.5, \"text\": \"0.67\", \"hoverinfo\": \"text\", \"marker\": {\"color\": \"rgb(121.30047812434302, 188.15023906217152, 255)\"}, \"xaxis\": \"x1\", \"yaxis\": \"y1\"}, {\"type\": \"bar\", \"y\": [1], \"x\": [2], \"orientation\": \"h\", \"width\": 0.5, \"text\": \"0.88\", \"hoverinfo\": \"text\", \"marker\": {\"color\": \"rgb(79.79428415069441, 167.3971420753472, 255)\"}, \"xaxis\": \"x1\", \"yaxis\": \"y1\"}, {\"type\": \"bar\", \"y\": [1], \"x\": [1], \"orientation\": \"h\", \"width\": 0.5, \"text\": \"\", \"hoverinfo\": \"text\", \"marker\": {\"color\": \"rgb(255, 255.0, 255.0)\"}, \"xaxis\": \"x1\", \"yaxis\": \"y1\"}, {\"type\": \"bar\", \"y\": [1], \"x\": [1], \"orientation\": \"h\", \"width\": 0.5, \"text\": \"0.59\", \"hoverinfo\": \"text\", \"marker\": {\"color\": \"rgb(137.62566178084163, 196.3128308904208, 255)\"}, \"xaxis\": \"x1\", \"yaxis\": \"y1\"}, {\"type\": \"bar\", \"y\": [1], \"x\": [1], \"orientation\": \"h\", \"width\": 0.5, \"text\": \"\", \"hoverinfo\": \"text\", \"marker\": {\"color\": \"rgb(255, 255, 255)\"}, \"xaxis\": \"x1\", \"yaxis\": \"y1\"}, {\"type\": \"bar\", \"y\": [1], \"x\": [1], \"orientation\": \"h\", \"width\": 0.5, \"text\": \"\", \"hoverinfo\": \"text\", \"marker\": {\"color\": \"rgb(255, 255, 255)\"}, \"xaxis\": \"x1\", \"yaxis\": \"y1\"}, {\"type\": \"bar\", \"y\": [1], \"x\": [1], \"orientation\": \"h\", \"width\": 0.5, \"text\": \"\", \"hoverinfo\": \"text\", \"marker\": {\"color\": \"rgb(255, 255, 255)\"}, \"xaxis\": \"x1\", \"yaxis\": \"y1\"}, {\"type\": \"bar\", \"y\": [1], \"x\": [1], \"orientation\": \"h\", \"width\": 0.5, \"text\": \"\", \"hoverinfo\": \"text\", \"marker\": {\"color\": \"rgb(255, 255, 255)\"}, \"xaxis\": \"x1\", \"yaxis\": \"y1\"}, {\"type\": \"bar\", \"y\": [1], \"x\": [1], \"orientation\": \"h\", \"width\": 0.5, \"text\": \"\", \"hoverinfo\": \"text\", \"marker\": {\"color\": \"rgb(255, 255, 255)\"}, \"xaxis\": \"x1\", \"yaxis\": \"y1\"}, {\"type\": \"bar\", \"y\": [1], \"x\": [1], \"orientation\": \"h\", \"width\": 0.5, \"text\": \"\", \"hoverinfo\": \"text\", \"marker\": {\"color\": \"rgb(255, 255, 255)\"}, \"xaxis\": \"x1\", \"yaxis\": \"y1\"}, {\"type\": \"bar\", \"y\": [1], \"x\": [1], \"orientation\": \"h\", \"width\": 0.5, \"text\": \"\", \"hoverinfo\": \"text\", \"marker\": {\"color\": \"rgb(255, 255, 255)\"}, \"xaxis\": \"x1\", \"yaxis\": \"y1\"}, {\"type\": \"bar\", \"y\": [1], \"x\": [1], \"orientation\": \"h\", \"width\": 0.5, \"text\": \"\", \"hoverinfo\": \"text\", \"marker\": {\"color\": \"rgb(255, 255, 255)\"}, \"xaxis\": \"x1\", \"yaxis\": \"y1\"}, {\"type\": \"bar\", \"y\": [1], \"x\": [1], \"orientation\": \"h\", \"width\": 0.5, \"text\": \"\", \"hoverinfo\": \"text\", \"marker\": {\"color\": \"rgb(255, 255, 255)\"}, \"xaxis\": \"x1\", \"yaxis\": \"y1\"}, {\"type\": \"bar\", \"y\": [1], \"x\": [1], \"orientation\": \"h\", \"width\": 0.5, \"text\": \"\", \"hoverinfo\": \"text\", \"marker\": {\"color\": \"rgb(255, 255, 255)\"}, \"xaxis\": \"x1\", \"yaxis\": \"y1\"}, {\"type\": \"bar\", \"y\": [1], \"x\": [1], \"orientation\": \"h\", \"width\": 0.5, \"text\": \"\", \"hoverinfo\": \"text\", \"marker\": {\"color\": \"rgb(255, 255, 255)\"}, \"xaxis\": \"x1\", \"yaxis\": \"y1\"}, {\"type\": \"bar\", \"y\": [1], \"x\": [1], \"orientation\": \"h\", \"width\": 0.5, \"text\": \"\", \"hoverinfo\": \"text\", \"marker\": {\"color\": \"rgb(255, 255, 255)\"}, \"xaxis\": \"x1\", \"yaxis\": \"y1\"}, {\"type\": \"bar\", \"y\": [1], \"x\": [1], \"orientation\": \"h\", \"width\": 0.5, \"text\": \"\", \"hoverinfo\": \"text\", \"marker\": {\"color\": \"rgb(255, 255, 255)\"}, \"xaxis\": \"x1\", \"yaxis\": \"y1\"}, {\"type\": \"bar\", \"y\": [1], \"x\": [1], \"orientation\": \"h\", \"width\": 0.5, \"text\": \"\", \"hoverinfo\": \"text\", \"marker\": {\"color\": \"rgb(255, 255, 255)\"}, \"xaxis\": \"x1\", \"yaxis\": \"y1\"}, {\"type\": \"bar\", \"y\": [1], \"x\": [1], \"orientation\": \"h\", \"width\": 0.5, \"text\": \"\", \"hoverinfo\": \"text\", \"marker\": {\"color\": \"rgb(255, 255, 255)\"}, \"xaxis\": \"x1\", \"yaxis\": \"y1\"}, {\"type\": \"bar\", \"y\": [1], \"x\": [1], \"orientation\": \"h\", \"width\": 0.5, \"text\": \"\", \"hoverinfo\": \"text\", \"marker\": {\"color\": \"rgb(255, 255, 255)\"}, \"xaxis\": \"x1\", \"yaxis\": \"y1\"}, {\"type\": \"bar\", \"y\": [1], \"x\": [1], \"orientation\": \"h\", \"width\": 0.5, \"text\": \"\", \"hoverinfo\": \"text\", \"marker\": {\"color\": \"rgb(255, 255, 255)\"}, \"xaxis\": \"x1\", \"yaxis\": \"y1\"}, {\"type\": \"bar\", \"y\": [1], \"x\": [1], \"orientation\": \"h\", \"width\": 0.5, \"text\": \"\", \"hoverinfo\": \"text\", \"marker\": {\"color\": \"rgb(255, 255, 255)\"}, \"xaxis\": \"x1\", \"yaxis\": \"y1\"}, {\"type\": \"bar\", \"y\": [1], \"x\": [1], \"orientation\": \"h\", \"width\": 0.5, \"text\": \"\", \"hoverinfo\": \"text\", \"marker\": {\"color\": \"rgb(255, 255, 255)\"}, \"xaxis\": \"x1\", \"yaxis\": \"y1\"}, {\"type\": \"bar\", \"y\": [1], \"x\": [1], \"orientation\": \"h\", \"width\": 0.5, \"text\": \"\", \"hoverinfo\": \"text\", \"marker\": {\"color\": \"rgb(255, 255, 255)\"}, \"xaxis\": \"x1\", \"yaxis\": \"y1\"}, {\"type\": \"bar\", \"y\": [1], \"x\": [1], \"orientation\": \"h\", \"width\": 0.5, \"text\": \"\", \"hoverinfo\": \"text\", \"marker\": {\"color\": \"rgb(255, 255, 255)\"}, \"xaxis\": \"x1\", \"yaxis\": \"y1\"}, {\"type\": \"bar\", \"y\": [1], \"x\": [1], \"orientation\": \"h\", \"width\": 0.5, \"text\": \"\", \"hoverinfo\": \"text\", \"marker\": {\"color\": \"rgb(255, 255, 255)\"}, \"xaxis\": \"x1\", \"yaxis\": \"y1\"}, {\"type\": \"bar\", \"y\": [1], \"x\": [1], \"orientation\": \"h\", \"width\": 0.5, \"text\": \"\", \"hoverinfo\": \"text\", \"marker\": {\"color\": \"rgb(255, 255, 255)\"}, \"xaxis\": \"x1\", \"yaxis\": \"y1\"}, {\"type\": \"bar\", \"y\": [1], \"x\": [1], \"orientation\": \"h\", \"width\": 0.5, \"text\": \"\", \"hoverinfo\": \"text\", \"marker\": {\"color\": \"rgb(255, 255, 255)\"}, \"xaxis\": \"x1\", \"yaxis\": \"y1\"}], {\"xaxis1\": {\"domain\": [0.0, 1.0], \"anchor\": \"y1\", \"showgrid\": false, \"showline\": false, \"showticklabels\": false, \"zeroline\": false}, \"yaxis1\": {\"domain\": [0.0, 1.0], \"anchor\": \"x1\", \"showgrid\": false, \"showline\": false, \"showticklabels\": false, \"zeroline\": false}, \"barmode\": \"stack\", \"showlegend\": false, \"margin\": {\"b\": 30, \"l\": 20, \"r\": 20, \"t\": 10}, \"annotations\": [{\"xref\": \"x1\", \"yref\": \"y1\", \"x\": 0.5, \"y\": 1, \"text\": \" \", \"align\": \"left\", \"font\": {\"family\": \"Arial\", \"size\": 14, \"color\": \"black\"}, \"showarrow\": false}, {\"xref\": \"x1\", \"yref\": \"y1\", \"x\": 1.5, \"y\": 1, \"text\": \"\\uacfc\", \"align\": \"left\", \"font\": {\"family\": \"Arial\", \"size\": 14, \"color\": \"black\"}, \"showarrow\": false}, {\"xref\": \"x1\", \"yref\": \"y1\", \"x\": 2.5, \"y\": 1, \"text\": \"\\ud55c\", \"align\": \"left\", \"font\": {\"family\": \"Arial\", \"size\": 14, \"color\": \"black\"}, \"showarrow\": false}, {\"xref\": \"x1\", \"yref\": \"y1\", \"x\": 3.5, \"y\": 1, \"text\": \" \", \"align\": \"left\", \"font\": {\"family\": \"Arial\", \"size\": 14, \"color\": \"black\"}, \"showarrow\": false}, {\"xref\": \"x1\", \"yref\": \"y1\", \"x\": 4.5, \"y\": 1, \"text\": \"\\uc695\", \"align\": \"left\", \"font\": {\"family\": \"Arial\", \"size\": 14, \"color\": \"black\"}, \"showarrow\": false}, {\"xref\": \"x1\", \"yref\": \"y1\", \"x\": 5.5, \"y\": 1, \"text\": \"\\uc2ec\", \"align\": \"left\", \"font\": {\"family\": \"Arial\", \"size\": 14, \"color\": \"black\"}, \"showarrow\": false}, {\"xref\": \"x1\", \"yref\": \"y1\", \"x\": 6.5, \"y\": 1, \"text\": \"\\uc740\", \"align\": \"left\", \"font\": {\"family\": \"Arial\", \"size\": 14, \"color\": \"black\"}, \"showarrow\": false}, {\"xref\": \"x1\", \"yref\": \"y1\", \"x\": 7.5, \"y\": 1, \"text\": \" \", \"align\": \"left\", \"font\": {\"family\": \"Arial\", \"size\": 14, \"color\": \"black\"}, \"showarrow\": false}, {\"xref\": \"x1\", \"yref\": \"y1\", \"x\": 8.5, \"y\": 1, \"text\": \"\\uc8fc\", \"align\": \"left\", \"font\": {\"family\": \"Arial\", \"size\": 14, \"color\": \"black\"}, \"showarrow\": false}, {\"xref\": \"x1\", \"yref\": \"y1\", \"x\": 9.5, \"y\": 1, \"text\": \"\\ubcc0\", \"align\": \"left\", \"font\": {\"family\": \"Arial\", \"size\": 14, \"color\": \"black\"}, \"showarrow\": false}, {\"xref\": \"x1\", \"yref\": \"y1\", \"x\": 10.5, \"y\": 1, \"text\": \" \", \"align\": \"left\", \"font\": {\"family\": \"Arial\", \"size\": 14, \"color\": \"black\"}, \"showarrow\": false}, {\"xref\": \"x1\", \"yref\": \"y1\", \"x\": 11.5, \"y\": 1, \"text\": \"\\uc0ac\", \"align\": \"left\", \"font\": {\"family\": \"Arial\", \"size\": 14, \"color\": \"black\"}, \"showarrow\": false}, {\"xref\": \"x1\", \"yref\": \"y1\", \"x\": 12.5, \"y\": 1, \"text\": \"\\ub78c\", \"align\": \"left\", \"font\": {\"family\": \"Arial\", \"size\": 14, \"color\": \"black\"}, \"showarrow\": false}, {\"xref\": \"x1\", \"yref\": \"y1\", \"x\": 13.5, \"y\": 1, \"text\": \"\\ub4e4\", \"align\": \"left\", \"font\": {\"family\": \"Arial\", \"size\": 14, \"color\": \"black\"}, \"showarrow\": false}, {\"xref\": \"x1\", \"yref\": \"y1\", \"x\": 14.5, \"y\": 1, \"text\": \"\\uc5d0\", \"align\": \"left\", \"font\": {\"family\": \"Arial\", \"size\": 14, \"color\": \"black\"}, \"showarrow\": false}, {\"xref\": \"x1\", \"yref\": \"y1\", \"x\": 15.5, \"y\": 1, \"text\": \"\\uac8c\", \"align\": \"left\", \"font\": {\"family\": \"Arial\", \"size\": 14, \"color\": \"black\"}, \"showarrow\": false}, {\"xref\": \"x1\", \"yref\": \"y1\", \"x\": 16.5, \"y\": 1, \"text\": \" \", \"align\": \"left\", \"font\": {\"family\": \"Arial\", \"size\": 14, \"color\": \"black\"}, \"showarrow\": false}, {\"xref\": \"x1\", \"yref\": \"y1\", \"x\": 17.5, \"y\": 1, \"text\": \"\\ud53c\", \"align\": \"left\", \"font\": {\"family\": \"Arial\", \"size\": 14, \"color\": \"black\"}, \"showarrow\": false}, {\"xref\": \"x1\", \"yref\": \"y1\", \"x\": 18.5, \"y\": 1, \"text\": \"\\ud574\", \"align\": \"left\", \"font\": {\"family\": \"Arial\", \"size\": 14, \"color\": \"black\"}, \"showarrow\": false}, {\"xref\": \"x1\", \"yref\": \"y1\", \"x\": 19.5, \"y\": 1, \"text\": \"\\ub97c\", \"align\": \"left\", \"font\": {\"family\": \"Arial\", \"size\": 14, \"color\": \"black\"}, \"showarrow\": false}, {\"xref\": \"x1\", \"yref\": \"y1\", \"x\": 20.5, \"y\": 1, \"text\": \" \", \"align\": \"left\", \"font\": {\"family\": \"Arial\", \"size\": 14, \"color\": \"black\"}, \"showarrow\": false}, {\"xref\": \"x1\", \"yref\": \"y1\", \"x\": 21.5, \"y\": 1, \"text\": \"\\uc90d\", \"align\": \"left\", \"font\": {\"family\": \"Arial\", \"size\": 14, \"color\": \"black\"}, \"showarrow\": false}, {\"xref\": \"x1\", \"yref\": \"y1\", \"x\": 22.5, \"y\": 1, \"text\": \"\\ub2c8\", \"align\": \"left\", \"font\": {\"family\": \"Arial\", \"size\": 14, \"color\": \"black\"}, \"showarrow\": false}, {\"xref\": \"x1\", \"yref\": \"y1\", \"x\": 23.5, \"y\": 1, \"text\": \"\\ub2e4\", \"align\": \"left\", \"font\": {\"family\": \"Arial\", \"size\": 14, \"color\": \"black\"}, \"showarrow\": false}, {\"xref\": \"x1\", \"yref\": \"y1\", \"x\": 24.5, \"y\": 1, \"text\": \" \", \"align\": \"left\", \"font\": {\"family\": \"Arial\", \"size\": 14, \"color\": \"black\"}, \"showarrow\": false}, {\"xref\": \"x1\", \"yref\": \"y1\", \"x\": 25.5, \"y\": 1, \"text\": \".\", \"align\": \"left\", \"font\": {\"family\": \"Arial\", \"size\": 14, \"color\": \"black\"}, \"showarrow\": false}], \"height\": 80, \"images\": [{\"source\": \"https://raw.githubusercontent.com/fingeredman/teanaps/master/data/logo/teanaps_logo_no-bg.png\", \"xref\": \"paper\", \"yref\": \"paper\", \"x\": 0.5, \"y\": 0.6, \"sizex\": 0.7, \"sizey\": 0.7, \"xanchor\": \"center\", \"yanchor\": \"center\", \"opacity\": 0.3, \"layer\": \"above\"}]}, {\"showLink\": true, \"linkText\": \"Export to plot.ly\"})});</script>"
      ],
      "text/vnd.plotly.v1+html": [
       "<div id=\"4739c1bf-371e-4c48-b401-0cbaf64b5a07\" style=\"height: 80px; width: 100%;\" class=\"plotly-graph-div\"></div><script type=\"text/javascript\">require([\"plotly\"], function(Plotly) { window.PLOTLYENV=window.PLOTLYENV || {};window.PLOTLYENV.BASE_URL=\"https://plot.ly\";Plotly.newPlot(\"4739c1bf-371e-4c48-b401-0cbaf64b5a07\", [{\"type\": \"bar\", \"y\": [1], \"x\": [1], \"orientation\": \"h\", \"width\": 0.5, \"text\": \"\", \"hoverinfo\": \"text\", \"marker\": {\"color\": \"rgb(255, 255.0, 255.0)\"}, \"xaxis\": \"x1\", \"yaxis\": \"y1\"}, {\"type\": \"bar\", \"y\": [1], \"x\": [1], \"orientation\": \"h\", \"width\": 0.5, \"text\": \"0.01\", \"hoverinfo\": \"text\", \"marker\": {\"color\": \"rgb(252.95061758092618, 253.9753087904631, 255)\"}, \"xaxis\": \"x1\", \"yaxis\": \"y1\"}, {\"type\": \"bar\", \"y\": [1], \"x\": [1], \"orientation\": \"h\", \"width\": 0.5, \"text\": \"0.02\", \"hoverinfo\": \"text\", \"marker\": {\"color\": \"rgb(251.25172350619482, 253.1258617530974, 255)\"}, \"xaxis\": \"x1\", \"yaxis\": \"y1\"}, {\"type\": \"bar\", \"y\": [1], \"x\": [3], \"orientation\": \"h\", \"width\": 0.5, \"text\": \"0.02\", \"hoverinfo\": \"text\", \"marker\": {\"color\": \"rgb(250.66105790716117, 252.8305289535806, 255)\"}, \"xaxis\": \"x1\", \"yaxis\": \"y1\"}, {\"type\": \"bar\", \"y\": [1], \"x\": [1], \"orientation\": \"h\", \"width\": 0.5, \"text\": \"0.06\", \"hoverinfo\": \"text\", \"marker\": {\"color\": \"rgb(243.49989074277585, 249.24994537138792, 255)\"}, \"xaxis\": \"x1\", \"yaxis\": \"y1\"}, {\"type\": \"bar\", \"y\": [1], \"x\": [3], \"orientation\": \"h\", \"width\": 0.5, \"text\": \"0.14\", \"hoverinfo\": \"text\", \"marker\": {\"color\": \"rgb(227.16098329325817, 241.0804916466291, 255)\"}, \"xaxis\": \"x1\", \"yaxis\": \"y1\"}, {\"type\": \"bar\", \"y\": [1], \"x\": [4], \"orientation\": \"h\", \"width\": 0.5, \"text\": \"0.37\", \"hoverinfo\": \"text\", \"marker\": {\"color\": \"rgb(181.54763711524456, 218.2738185576223, 255)\"}, \"xaxis\": \"x1\", \"yaxis\": \"y1\"}, {\"type\": \"bar\", \"y\": [1], \"x\": [2], \"orientation\": \"h\", \"width\": 0.5, \"text\": \"1.0\", \"hoverinfo\": \"text\", \"marker\": {\"color\": \"rgb(55.0, 155.0, 255)\"}, \"xaxis\": \"x1\", \"yaxis\": \"y1\"}, {\"type\": \"bar\", \"y\": [1], \"x\": [4], \"orientation\": \"h\", \"width\": 0.5, \"text\": \"0.54\", \"hoverinfo\": \"text\", \"marker\": {\"color\": \"rgb(146.04975860127146, 200.52487930063575, 255)\"}, \"xaxis\": \"x1\", \"yaxis\": \"y1\"}, {\"type\": \"bar\", \"y\": [1], \"x\": [1], \"orientation\": \"h\", \"width\": 0.5, \"text\": \"\", \"hoverinfo\": \"text\", \"marker\": {\"color\": \"rgb(255, 255.0, 255.0)\"}, \"xaxis\": \"x1\", \"yaxis\": \"y1\"}, {\"type\": \"bar\", \"y\": [1], \"x\": [1], \"orientation\": \"h\", \"width\": 0.5, \"text\": \"0.67\", \"hoverinfo\": \"text\", \"marker\": {\"color\": \"rgb(121.30047812434302, 188.15023906217152, 255)\"}, \"xaxis\": \"x1\", \"yaxis\": \"y1\"}, {\"type\": \"bar\", \"y\": [1], \"x\": [2], \"orientation\": \"h\", \"width\": 0.5, \"text\": \"0.88\", \"hoverinfo\": \"text\", \"marker\": {\"color\": \"rgb(79.79428415069441, 167.3971420753472, 255)\"}, \"xaxis\": \"x1\", \"yaxis\": \"y1\"}, {\"type\": \"bar\", \"y\": [1], \"x\": [1], \"orientation\": \"h\", \"width\": 0.5, \"text\": \"\", \"hoverinfo\": \"text\", \"marker\": {\"color\": \"rgb(255, 255.0, 255.0)\"}, \"xaxis\": \"x1\", \"yaxis\": \"y1\"}, {\"type\": \"bar\", \"y\": [1], \"x\": [1], \"orientation\": \"h\", \"width\": 0.5, \"text\": \"0.59\", \"hoverinfo\": \"text\", \"marker\": {\"color\": \"rgb(137.62566178084163, 196.3128308904208, 255)\"}, \"xaxis\": \"x1\", \"yaxis\": \"y1\"}, {\"type\": \"bar\", \"y\": [1], \"x\": [1], \"orientation\": \"h\", \"width\": 0.5, \"text\": \"\", \"hoverinfo\": \"text\", \"marker\": {\"color\": \"rgb(255, 255, 255)\"}, \"xaxis\": \"x1\", \"yaxis\": \"y1\"}, {\"type\": \"bar\", \"y\": [1], \"x\": [1], \"orientation\": \"h\", \"width\": 0.5, \"text\": \"\", \"hoverinfo\": \"text\", \"marker\": {\"color\": \"rgb(255, 255, 255)\"}, \"xaxis\": \"x1\", \"yaxis\": \"y1\"}, {\"type\": \"bar\", \"y\": [1], \"x\": [1], \"orientation\": \"h\", \"width\": 0.5, \"text\": \"\", \"hoverinfo\": \"text\", \"marker\": {\"color\": \"rgb(255, 255, 255)\"}, \"xaxis\": \"x1\", \"yaxis\": \"y1\"}, {\"type\": \"bar\", \"y\": [1], \"x\": [1], \"orientation\": \"h\", \"width\": 0.5, \"text\": \"\", \"hoverinfo\": \"text\", \"marker\": {\"color\": \"rgb(255, 255, 255)\"}, \"xaxis\": \"x1\", \"yaxis\": \"y1\"}, {\"type\": \"bar\", \"y\": [1], \"x\": [1], \"orientation\": \"h\", \"width\": 0.5, \"text\": \"\", \"hoverinfo\": \"text\", \"marker\": {\"color\": \"rgb(255, 255, 255)\"}, \"xaxis\": \"x1\", \"yaxis\": \"y1\"}, {\"type\": \"bar\", \"y\": [1], \"x\": [1], \"orientation\": \"h\", \"width\": 0.5, \"text\": \"\", \"hoverinfo\": \"text\", \"marker\": {\"color\": \"rgb(255, 255, 255)\"}, \"xaxis\": \"x1\", \"yaxis\": \"y1\"}, {\"type\": \"bar\", \"y\": [1], \"x\": [1], \"orientation\": \"h\", \"width\": 0.5, \"text\": \"\", \"hoverinfo\": \"text\", \"marker\": {\"color\": \"rgb(255, 255, 255)\"}, \"xaxis\": \"x1\", \"yaxis\": \"y1\"}, {\"type\": \"bar\", \"y\": [1], \"x\": [1], \"orientation\": \"h\", \"width\": 0.5, \"text\": \"\", \"hoverinfo\": \"text\", \"marker\": {\"color\": \"rgb(255, 255, 255)\"}, \"xaxis\": \"x1\", \"yaxis\": \"y1\"}, {\"type\": \"bar\", \"y\": [1], \"x\": [1], \"orientation\": \"h\", \"width\": 0.5, \"text\": \"\", \"hoverinfo\": \"text\", \"marker\": {\"color\": \"rgb(255, 255, 255)\"}, \"xaxis\": \"x1\", \"yaxis\": \"y1\"}, {\"type\": \"bar\", \"y\": [1], \"x\": [1], \"orientation\": \"h\", \"width\": 0.5, \"text\": \"\", \"hoverinfo\": \"text\", \"marker\": {\"color\": \"rgb(255, 255, 255)\"}, \"xaxis\": \"x1\", \"yaxis\": \"y1\"}, {\"type\": \"bar\", \"y\": [1], \"x\": [1], \"orientation\": \"h\", \"width\": 0.5, \"text\": \"\", \"hoverinfo\": \"text\", \"marker\": {\"color\": \"rgb(255, 255, 255)\"}, \"xaxis\": \"x1\", \"yaxis\": \"y1\"}, {\"type\": \"bar\", \"y\": [1], \"x\": [1], \"orientation\": \"h\", \"width\": 0.5, \"text\": \"\", \"hoverinfo\": \"text\", \"marker\": {\"color\": \"rgb(255, 255, 255)\"}, \"xaxis\": \"x1\", \"yaxis\": \"y1\"}, {\"type\": \"bar\", \"y\": [1], \"x\": [1], \"orientation\": \"h\", \"width\": 0.5, \"text\": \"\", \"hoverinfo\": \"text\", \"marker\": {\"color\": \"rgb(255, 255, 255)\"}, \"xaxis\": \"x1\", \"yaxis\": \"y1\"}, {\"type\": \"bar\", \"y\": [1], \"x\": [1], \"orientation\": \"h\", \"width\": 0.5, \"text\": \"\", \"hoverinfo\": \"text\", \"marker\": {\"color\": \"rgb(255, 255, 255)\"}, \"xaxis\": \"x1\", \"yaxis\": \"y1\"}, {\"type\": \"bar\", \"y\": [1], \"x\": [1], \"orientation\": \"h\", \"width\": 0.5, \"text\": \"\", \"hoverinfo\": \"text\", \"marker\": {\"color\": \"rgb(255, 255, 255)\"}, \"xaxis\": \"x1\", \"yaxis\": \"y1\"}, {\"type\": \"bar\", \"y\": [1], \"x\": [1], \"orientation\": \"h\", \"width\": 0.5, \"text\": \"\", \"hoverinfo\": \"text\", \"marker\": {\"color\": \"rgb(255, 255, 255)\"}, \"xaxis\": \"x1\", \"yaxis\": \"y1\"}, {\"type\": \"bar\", \"y\": [1], \"x\": [1], \"orientation\": \"h\", \"width\": 0.5, \"text\": \"\", \"hoverinfo\": \"text\", \"marker\": {\"color\": \"rgb(255, 255, 255)\"}, \"xaxis\": \"x1\", \"yaxis\": \"y1\"}, {\"type\": \"bar\", \"y\": [1], \"x\": [1], \"orientation\": \"h\", \"width\": 0.5, \"text\": \"\", \"hoverinfo\": \"text\", \"marker\": {\"color\": \"rgb(255, 255, 255)\"}, \"xaxis\": \"x1\", \"yaxis\": \"y1\"}, {\"type\": \"bar\", \"y\": [1], \"x\": [1], \"orientation\": \"h\", \"width\": 0.5, \"text\": \"\", \"hoverinfo\": \"text\", \"marker\": {\"color\": \"rgb(255, 255, 255)\"}, \"xaxis\": \"x1\", \"yaxis\": \"y1\"}, {\"type\": \"bar\", \"y\": [1], \"x\": [1], \"orientation\": \"h\", \"width\": 0.5, \"text\": \"\", \"hoverinfo\": \"text\", \"marker\": {\"color\": \"rgb(255, 255, 255)\"}, \"xaxis\": \"x1\", \"yaxis\": \"y1\"}, {\"type\": \"bar\", \"y\": [1], \"x\": [1], \"orientation\": \"h\", \"width\": 0.5, \"text\": \"\", \"hoverinfo\": \"text\", \"marker\": {\"color\": \"rgb(255, 255, 255)\"}, \"xaxis\": \"x1\", \"yaxis\": \"y1\"}, {\"type\": \"bar\", \"y\": [1], \"x\": [1], \"orientation\": \"h\", \"width\": 0.5, \"text\": \"\", \"hoverinfo\": \"text\", \"marker\": {\"color\": \"rgb(255, 255, 255)\"}, \"xaxis\": \"x1\", \"yaxis\": \"y1\"}, {\"type\": \"bar\", \"y\": [1], \"x\": [1], \"orientation\": \"h\", \"width\": 0.5, \"text\": \"\", \"hoverinfo\": \"text\", \"marker\": {\"color\": \"rgb(255, 255, 255)\"}, \"xaxis\": \"x1\", \"yaxis\": \"y1\"}, {\"type\": \"bar\", \"y\": [1], \"x\": [1], \"orientation\": \"h\", \"width\": 0.5, \"text\": \"\", \"hoverinfo\": \"text\", \"marker\": {\"color\": \"rgb(255, 255, 255)\"}, \"xaxis\": \"x1\", \"yaxis\": \"y1\"}], {\"xaxis1\": {\"domain\": [0.0, 1.0], \"anchor\": \"y1\", \"showgrid\": false, \"showline\": false, \"showticklabels\": false, \"zeroline\": false}, \"yaxis1\": {\"domain\": [0.0, 1.0], \"anchor\": \"x1\", \"showgrid\": false, \"showline\": false, \"showticklabels\": false, \"zeroline\": false}, \"barmode\": \"stack\", \"showlegend\": false, \"margin\": {\"b\": 30, \"l\": 20, \"r\": 20, \"t\": 10}, \"annotations\": [{\"xref\": \"x1\", \"yref\": \"y1\", \"x\": 0.5, \"y\": 1, \"text\": \" \", \"align\": \"left\", \"font\": {\"family\": \"Arial\", \"size\": 14, \"color\": \"black\"}, \"showarrow\": false}, {\"xref\": \"x1\", \"yref\": \"y1\", \"x\": 1.5, \"y\": 1, \"text\": \"\\uacfc\", \"align\": \"left\", \"font\": {\"family\": \"Arial\", \"size\": 14, \"color\": \"black\"}, \"showarrow\": false}, {\"xref\": \"x1\", \"yref\": \"y1\", \"x\": 2.5, \"y\": 1, \"text\": \"\\ud55c\", \"align\": \"left\", \"font\": {\"family\": \"Arial\", \"size\": 14, \"color\": \"black\"}, \"showarrow\": false}, {\"xref\": \"x1\", \"yref\": \"y1\", \"x\": 3.5, \"y\": 1, \"text\": \" \", \"align\": \"left\", \"font\": {\"family\": \"Arial\", \"size\": 14, \"color\": \"black\"}, \"showarrow\": false}, {\"xref\": \"x1\", \"yref\": \"y1\", \"x\": 4.5, \"y\": 1, \"text\": \"\\uc695\", \"align\": \"left\", \"font\": {\"family\": \"Arial\", \"size\": 14, \"color\": \"black\"}, \"showarrow\": false}, {\"xref\": \"x1\", \"yref\": \"y1\", \"x\": 5.5, \"y\": 1, \"text\": \"\\uc2ec\", \"align\": \"left\", \"font\": {\"family\": \"Arial\", \"size\": 14, \"color\": \"black\"}, \"showarrow\": false}, {\"xref\": \"x1\", \"yref\": \"y1\", \"x\": 6.5, \"y\": 1, \"text\": \"\\uc740\", \"align\": \"left\", \"font\": {\"family\": \"Arial\", \"size\": 14, \"color\": \"black\"}, \"showarrow\": false}, {\"xref\": \"x1\", \"yref\": \"y1\", \"x\": 7.5, \"y\": 1, \"text\": \" \", \"align\": \"left\", \"font\": {\"family\": \"Arial\", \"size\": 14, \"color\": \"black\"}, \"showarrow\": false}, {\"xref\": \"x1\", \"yref\": \"y1\", \"x\": 8.5, \"y\": 1, \"text\": \"\\uc8fc\", \"align\": \"left\", \"font\": {\"family\": \"Arial\", \"size\": 14, \"color\": \"black\"}, \"showarrow\": false}, {\"xref\": \"x1\", \"yref\": \"y1\", \"x\": 9.5, \"y\": 1, \"text\": \"\\ubcc0\", \"align\": \"left\", \"font\": {\"family\": \"Arial\", \"size\": 14, \"color\": \"black\"}, \"showarrow\": false}, {\"xref\": \"x1\", \"yref\": \"y1\", \"x\": 10.5, \"y\": 1, \"text\": \" \", \"align\": \"left\", \"font\": {\"family\": \"Arial\", \"size\": 14, \"color\": \"black\"}, \"showarrow\": false}, {\"xref\": \"x1\", \"yref\": \"y1\", \"x\": 11.5, \"y\": 1, \"text\": \"\\uc0ac\", \"align\": \"left\", \"font\": {\"family\": \"Arial\", \"size\": 14, \"color\": \"black\"}, \"showarrow\": false}, {\"xref\": \"x1\", \"yref\": \"y1\", \"x\": 12.5, \"y\": 1, \"text\": \"\\ub78c\", \"align\": \"left\", \"font\": {\"family\": \"Arial\", \"size\": 14, \"color\": \"black\"}, \"showarrow\": false}, {\"xref\": \"x1\", \"yref\": \"y1\", \"x\": 13.5, \"y\": 1, \"text\": \"\\ub4e4\", \"align\": \"left\", \"font\": {\"family\": \"Arial\", \"size\": 14, \"color\": \"black\"}, \"showarrow\": false}, {\"xref\": \"x1\", \"yref\": \"y1\", \"x\": 14.5, \"y\": 1, \"text\": \"\\uc5d0\", \"align\": \"left\", \"font\": {\"family\": \"Arial\", \"size\": 14, \"color\": \"black\"}, \"showarrow\": false}, {\"xref\": \"x1\", \"yref\": \"y1\", \"x\": 15.5, \"y\": 1, \"text\": \"\\uac8c\", \"align\": \"left\", \"font\": {\"family\": \"Arial\", \"size\": 14, \"color\": \"black\"}, \"showarrow\": false}, {\"xref\": \"x1\", \"yref\": \"y1\", \"x\": 16.5, \"y\": 1, \"text\": \" \", \"align\": \"left\", \"font\": {\"family\": \"Arial\", \"size\": 14, \"color\": \"black\"}, \"showarrow\": false}, {\"xref\": \"x1\", \"yref\": \"y1\", \"x\": 17.5, \"y\": 1, \"text\": \"\\ud53c\", \"align\": \"left\", \"font\": {\"family\": \"Arial\", \"size\": 14, \"color\": \"black\"}, \"showarrow\": false}, {\"xref\": \"x1\", \"yref\": \"y1\", \"x\": 18.5, \"y\": 1, \"text\": \"\\ud574\", \"align\": \"left\", \"font\": {\"family\": \"Arial\", \"size\": 14, \"color\": \"black\"}, \"showarrow\": false}, {\"xref\": \"x1\", \"yref\": \"y1\", \"x\": 19.5, \"y\": 1, \"text\": \"\\ub97c\", \"align\": \"left\", \"font\": {\"family\": \"Arial\", \"size\": 14, \"color\": \"black\"}, \"showarrow\": false}, {\"xref\": \"x1\", \"yref\": \"y1\", \"x\": 20.5, \"y\": 1, \"text\": \" \", \"align\": \"left\", \"font\": {\"family\": \"Arial\", \"size\": 14, \"color\": \"black\"}, \"showarrow\": false}, {\"xref\": \"x1\", \"yref\": \"y1\", \"x\": 21.5, \"y\": 1, \"text\": \"\\uc90d\", \"align\": \"left\", \"font\": {\"family\": \"Arial\", \"size\": 14, \"color\": \"black\"}, \"showarrow\": false}, {\"xref\": \"x1\", \"yref\": \"y1\", \"x\": 22.5, \"y\": 1, \"text\": \"\\ub2c8\", \"align\": \"left\", \"font\": {\"family\": \"Arial\", \"size\": 14, \"color\": \"black\"}, \"showarrow\": false}, {\"xref\": \"x1\", \"yref\": \"y1\", \"x\": 23.5, \"y\": 1, \"text\": \"\\ub2e4\", \"align\": \"left\", \"font\": {\"family\": \"Arial\", \"size\": 14, \"color\": \"black\"}, \"showarrow\": false}, {\"xref\": \"x1\", \"yref\": \"y1\", \"x\": 24.5, \"y\": 1, \"text\": \" \", \"align\": \"left\", \"font\": {\"family\": \"Arial\", \"size\": 14, \"color\": \"black\"}, \"showarrow\": false}, {\"xref\": \"x1\", \"yref\": \"y1\", \"x\": 25.5, \"y\": 1, \"text\": \".\", \"align\": \"left\", \"font\": {\"family\": \"Arial\", \"size\": 14, \"color\": \"black\"}, \"showarrow\": false}], \"height\": 80, \"images\": [{\"source\": \"https://raw.githubusercontent.com/fingeredman/teanaps/master/data/logo/teanaps_logo_no-bg.png\", \"xref\": \"paper\", \"yref\": \"paper\", \"x\": 0.5, \"y\": 0.6, \"sizex\": 0.7, \"sizey\": 0.7, \"xanchor\": \"center\", \"yanchor\": \"center\", \"opacity\": 0.3, \"layer\": \"above\"}]}, {\"showLink\": true, \"linkText\": \"Export to plot.ly\"})});</script>"
      ]
     },
     "metadata": {},
     "output_type": "display_data"
    }
   ],
   "source": [
    "sentence = \"과한 욕심은 주변 사람들에게 피해를 줍니다.\"\n",
    "senti.draw_sentence_weight(sentence)"
   ]
  },
  {
   "cell_type": "markdown",
   "metadata": {},
   "source": [
    "#### 2.3. 어절별 감성분석 수행하기\n",
    "\n",
    "---"
   ]
  },
  {
   "cell_type": "code",
   "execution_count": 15,
   "metadata": {},
   "outputs": [
    {
     "name": "stdout",
     "output_type": "stream",
     "text": [
      "[(((0.5991, 0.3836), 'neutral'), '욕심쟁이에게', [[('욕심쟁이', 'NNG', 'UN', (0, 4))], [('에게', 'JKB', 'UN', (4, 6))]]), (((0.9147, 0.0828), 'negative'), '스트레스 받으며', [[('스트레스', 'NNG', 'UN', (7, 11)), ('받', 'VV', 'UN', (12, 13))], [('으며', 'EC', 'UN', (13, 15))]]), (((0.9047, 0.0953), 'negative'), '살다가', [[('살', 'VV', 'UN', (16, 17))], [('다가', 'EC', 'UN', (17, 19))]]), (((0.8306, 0.1751), 'negative'), '떠나고', [[('떠나', 'VV', 'UN', (20, 22))], [('고', 'EC', 'UN', (22, 23))]]), (((0.453, 0.5296), 'neutral'), '나니', [[('나', 'VX', 'UN', (23, 24))], [('니', 'EC', 'UN', (24, 25))]]), (((0.1065, 0.8982), 'positive'), '너무 행복해요!', [[('너무', 'MAG', 'UN', (26, 28))], [('행복', 'NNG', 'UN', (29, 31))], [('해요', 'XSV+EF', 'UN', (31, 33)), ('!', 'SW', 'UN', (33, 34))]])]\n",
      "[' 욕심', '쟁', '이', '에게', ' 스트레스', ' 받으며', ' 살', '다', '가', ' 떠나', '고', ' 나', '니', ' 너무', ' 행복', '해', '요', ' ', '!']\n",
      "[0, 0, 0, 0, -0.2424436, -0.20117857, -0.16506892, -0.16892226, -0.27025366, -0.16876356, -0.33119142, 0, 0, 0.15942541, 0.13346915, 0.11855107, 0.15605149, 0, 0.11754697]\n"
     ]
    }
   ],
   "source": [
    "sentence = \"욕심쟁이에게 스트레스 받으며 살다가 떠나고나니 너무 행복해요!\"\n",
    "phrase_token_weight_list, token_list, weight_list = senti.get_sentiment_parse(sentence, neutral_th=0.5)\n",
    "#phrase_token_weight_list, token_list, weight_list = senti.get_sentiment_parse(sentence, neutral_th=0.5, model_path=\"/ner_model\")\n",
    "print(phrase_token_weight_list)\n",
    "print(token_list)\n",
    "print(weight_list)"
   ]
  },
  {
   "cell_type": "code",
   "execution_count": 16,
   "metadata": {},
   "outputs": [
    {
     "data": {
      "text/html": [
       "\n",
       "                <script src=\"/static/components/requirejs/require.js\"></script>\n",
       "                <script>\n",
       "                  requirejs.config({\n",
       "                    paths: {\n",
       "                      base: '/static/base',\n",
       "                      plotly: 'https://cdn.plot.ly/plotly-latest.min.js?noext',\n",
       "                    },\n",
       "                  });\n",
       "                </script>\n",
       "                "
      ],
      "text/plain": [
       "<IPython.core.display.HTML object>"
      ]
     },
     "metadata": {},
     "output_type": "display_data"
    },
    {
     "data": {
      "text/html": [
       "\n",
       "                <script src=\"/static/components/requirejs/require.js\"></script>\n",
       "                <script>\n",
       "                  requirejs.config({\n",
       "                    paths: {\n",
       "                      base: '/static/base',\n",
       "                      plotly: 'https://cdn.plot.ly/plotly-latest.min.js?noext',\n",
       "                    },\n",
       "                  });\n",
       "                </script>\n",
       "                "
      ],
      "text/plain": [
       "<IPython.core.display.HTML object>"
      ]
     },
     "metadata": {},
     "output_type": "display_data"
    },
    {
     "data": {
      "application/vnd.plotly.v1+json": {
       "data": [
        {
         "hoverinfo": "text",
         "marker": {
          "color": "rgb(255, 255.0, 255.0)"
         },
         "orientation": "h",
         "text": "",
         "type": "bar",
         "width": 0.5,
         "x": [
          3
         ],
         "xaxis": "x1",
         "y": [
          1
         ],
         "yaxis": "y1"
        },
        {
         "hoverinfo": "text",
         "marker": {
          "color": "rgb(255, 255.0, 255.0)"
         },
         "orientation": "h",
         "text": "",
         "type": "bar",
         "width": 0.5,
         "x": [
          1
         ],
         "xaxis": "x1",
         "y": [
          1
         ],
         "yaxis": "y1"
        },
        {
         "hoverinfo": "text",
         "marker": {
          "color": "rgb(255, 255.0, 255.0)"
         },
         "orientation": "h",
         "text": "",
         "type": "bar",
         "width": 0.5,
         "x": [
          1
         ],
         "xaxis": "x1",
         "y": [
          1
         ],
         "yaxis": "y1"
        },
        {
         "hoverinfo": "text",
         "marker": {
          "color": "rgb(255, 255.0, 255.0)"
         },
         "orientation": "h",
         "text": "",
         "type": "bar",
         "width": 0.5,
         "x": [
          2
         ],
         "xaxis": "x1",
         "y": [
          1
         ],
         "yaxis": "y1"
        },
        {
         "hoverinfo": "text",
         "marker": {
          "color": "rgb(255, 145.19479751586914, 145.19479751586914)"
         },
         "orientation": "h",
         "text": "0.73",
         "type": "bar",
         "width": 0.5,
         "x": [
          5
         ],
         "xaxis": "x1",
         "y": [
          1
         ],
         "yaxis": "y1"
        },
        {
         "hoverinfo": "text",
         "marker": {
          "color": "rgb(255, 163.88416171073914, 163.88416171073914)"
         },
         "orientation": "h",
         "text": "0.61",
         "type": "bar",
         "width": 0.5,
         "x": [
          4
         ],
         "xaxis": "x1",
         "y": [
          1
         ],
         "yaxis": "y1"
        },
        {
         "hoverinfo": "text",
         "marker": {
          "color": "rgb(255, 180.23858696222305, 180.23858696222305)"
         },
         "orientation": "h",
         "text": "0.5",
         "type": "bar",
         "width": 0.5,
         "x": [
          2
         ],
         "xaxis": "x1",
         "y": [
          1
         ],
         "yaxis": "y1"
        },
        {
         "hoverinfo": "text",
         "marker": {
          "color": "rgb(255, 178.49336743354797, 178.49336743354797)"
         },
         "orientation": "h",
         "text": "0.51",
         "type": "bar",
         "width": 0.5,
         "x": [
          1
         ],
         "xaxis": "x1",
         "y": [
          1
         ],
         "yaxis": "y1"
        },
        {
         "hoverinfo": "text",
         "marker": {
          "color": "rgb(255, 132.59934067726135, 132.59934067726135)"
         },
         "orientation": "h",
         "text": "0.82",
         "type": "bar",
         "width": 0.5,
         "x": [
          1
         ],
         "xaxis": "x1",
         "y": [
          1
         ],
         "yaxis": "y1"
        },
        {
         "hoverinfo": "text",
         "marker": {
          "color": "rgb(255, 178.5652506351471, 178.5652506351471)"
         },
         "orientation": "h",
         "text": "0.51",
         "type": "bar",
         "width": 0.5,
         "x": [
          3
         ],
         "xaxis": "x1",
         "y": [
          1
         ],
         "yaxis": "y1"
        },
        {
         "hoverinfo": "text",
         "marker": {
          "color": "rgb(255, 105.0, 105.0)"
         },
         "orientation": "h",
         "text": "1.0",
         "type": "bar",
         "width": 0.5,
         "x": [
          1
         ],
         "xaxis": "x1",
         "y": [
          1
         ],
         "yaxis": "y1"
        },
        {
         "hoverinfo": "text",
         "marker": {
          "color": "rgb(255, 255.0, 255.0)"
         },
         "orientation": "h",
         "text": "",
         "type": "bar",
         "width": 0.5,
         "x": [
          2
         ],
         "xaxis": "x1",
         "y": [
          1
         ],
         "yaxis": "y1"
        },
        {
         "hoverinfo": "text",
         "marker": {
          "color": "rgb(255, 255.0, 255.0)"
         },
         "orientation": "h",
         "text": "",
         "type": "bar",
         "width": 0.5,
         "x": [
          1
         ],
         "xaxis": "x1",
         "y": [
          1
         ],
         "yaxis": "y1"
        },
        {
         "hoverinfo": "text",
         "marker": {
          "color": "rgb(158.72612476348877, 206.86306238174438, 255)"
         },
         "orientation": "h",
         "text": "0.48",
         "type": "bar",
         "width": 0.5,
         "x": [
          3
         ],
         "xaxis": "x1",
         "y": [
          1
         ],
         "yaxis": "y1"
        },
        {
         "hoverinfo": "text",
         "marker": {
          "color": "rgb(174.40060257911682, 214.7003012895584, 255)"
         },
         "orientation": "h",
         "text": "0.4",
         "type": "bar",
         "width": 0.5,
         "x": [
          3
         ],
         "xaxis": "x1",
         "y": [
          1
         ],
         "yaxis": "y1"
        },
        {
         "hoverinfo": "text",
         "marker": {
          "color": "rgb(183.40933799743652, 219.20466899871826, 255)"
         },
         "orientation": "h",
         "text": "0.36",
         "type": "bar",
         "width": 0.5,
         "x": [
          1
         ],
         "xaxis": "x1",
         "y": [
          1
         ],
         "yaxis": "y1"
        },
        {
         "hoverinfo": "text",
         "marker": {
          "color": "rgb(160.76356649398804, 207.88178324699402, 255)"
         },
         "orientation": "h",
         "text": "0.47",
         "type": "bar",
         "width": 0.5,
         "x": [
          1
         ],
         "xaxis": "x1",
         "y": [
          1
         ],
         "yaxis": "y1"
        },
        {
         "hoverinfo": "text",
         "marker": {
          "color": "rgb(255, 255.0, 255.0)"
         },
         "orientation": "h",
         "text": "",
         "type": "bar",
         "width": 0.5,
         "x": [
          1
         ],
         "xaxis": "x1",
         "y": [
          1
         ],
         "yaxis": "y1"
        },
        {
         "hoverinfo": "text",
         "marker": {
          "color": "rgb(184.0156900882721, 219.50784504413605, 255)"
         },
         "orientation": "h",
         "text": "0.35",
         "type": "bar",
         "width": 0.5,
         "x": [
          1
         ],
         "xaxis": "x1",
         "y": [
          1
         ],
         "yaxis": "y1"
        },
        {
         "hoverinfo": "text",
         "marker": {
          "color": "rgb(255, 255, 255)"
         },
         "orientation": "h",
         "text": "",
         "type": "bar",
         "width": 0.5,
         "x": [
          1
         ],
         "xaxis": "x1",
         "y": [
          1
         ],
         "yaxis": "y1"
        },
        {
         "hoverinfo": "text",
         "marker": {
          "color": "rgb(255, 255, 255)"
         },
         "orientation": "h",
         "text": "",
         "type": "bar",
         "width": 0.5,
         "x": [
          1
         ],
         "xaxis": "x1",
         "y": [
          1
         ],
         "yaxis": "y1"
        },
        {
         "hoverinfo": "text",
         "marker": {
          "color": "rgb(255, 255, 255)"
         },
         "orientation": "h",
         "text": "",
         "type": "bar",
         "width": 0.5,
         "x": [
          1
         ],
         "xaxis": "x1",
         "y": [
          1
         ],
         "yaxis": "y1"
        },
        {
         "hoverinfo": "text",
         "marker": {
          "color": "rgb(255, 255, 255)"
         },
         "orientation": "h",
         "text": "",
         "type": "bar",
         "width": 0.5,
         "x": [
          1
         ],
         "xaxis": "x1",
         "y": [
          1
         ],
         "yaxis": "y1"
        },
        {
         "hoverinfo": "text",
         "marker": {
          "color": "rgb(255, 255, 255)"
         },
         "orientation": "h",
         "text": "",
         "type": "bar",
         "width": 0.5,
         "x": [
          1
         ],
         "xaxis": "x1",
         "y": [
          1
         ],
         "yaxis": "y1"
        },
        {
         "hoverinfo": "text",
         "marker": {
          "color": "rgb(255, 255, 255)"
         },
         "orientation": "h",
         "text": "",
         "type": "bar",
         "width": 0.5,
         "x": [
          1
         ],
         "xaxis": "x1",
         "y": [
          1
         ],
         "yaxis": "y1"
        },
        {
         "hoverinfo": "text",
         "marker": {
          "color": "rgb(255, 255, 255)"
         },
         "orientation": "h",
         "text": "",
         "type": "bar",
         "width": 0.5,
         "x": [
          1
         ],
         "xaxis": "x1",
         "y": [
          1
         ],
         "yaxis": "y1"
        },
        {
         "hoverinfo": "text",
         "marker": {
          "color": "rgb(255, 255, 255)"
         },
         "orientation": "h",
         "text": "",
         "type": "bar",
         "width": 0.5,
         "x": [
          1
         ],
         "xaxis": "x1",
         "y": [
          1
         ],
         "yaxis": "y1"
        },
        {
         "hoverinfo": "text",
         "marker": {
          "color": "rgb(255, 255, 255)"
         },
         "orientation": "h",
         "text": "",
         "type": "bar",
         "width": 0.5,
         "x": [
          1
         ],
         "xaxis": "x1",
         "y": [
          1
         ],
         "yaxis": "y1"
        },
        {
         "hoverinfo": "text",
         "marker": {
          "color": "rgb(255, 255, 255)"
         },
         "orientation": "h",
         "text": "",
         "type": "bar",
         "width": 0.5,
         "x": [
          1
         ],
         "xaxis": "x1",
         "y": [
          1
         ],
         "yaxis": "y1"
        },
        {
         "hoverinfo": "text",
         "marker": {
          "color": "rgb(255, 255, 255)"
         },
         "orientation": "h",
         "text": "",
         "type": "bar",
         "width": 0.5,
         "x": [
          1
         ],
         "xaxis": "x1",
         "y": [
          1
         ],
         "yaxis": "y1"
        },
        {
         "hoverinfo": "text",
         "marker": {
          "color": "rgb(255, 255, 255)"
         },
         "orientation": "h",
         "text": "",
         "type": "bar",
         "width": 0.5,
         "x": [
          1
         ],
         "xaxis": "x1",
         "y": [
          1
         ],
         "yaxis": "y1"
        },
        {
         "hoverinfo": "text",
         "marker": {
          "color": "rgb(255, 255, 255)"
         },
         "orientation": "h",
         "text": "",
         "type": "bar",
         "width": 0.5,
         "x": [
          1
         ],
         "xaxis": "x1",
         "y": [
          1
         ],
         "yaxis": "y1"
        }
       ],
       "layout": {
        "annotations": [
         {
          "align": "left",
          "font": {
           "color": "black",
           "family": "Arial",
           "size": 14
          },
          "showarrow": false,
          "text": " ",
          "x": 0.5,
          "xref": "x1",
          "y": 1,
          "yref": "y1"
         },
         {
          "align": "left",
          "font": {
           "color": "black",
           "family": "Arial",
           "size": 14
          },
          "showarrow": false,
          "text": "욕",
          "x": 1.5,
          "xref": "x1",
          "y": 1,
          "yref": "y1"
         },
         {
          "align": "left",
          "font": {
           "color": "black",
           "family": "Arial",
           "size": 14
          },
          "showarrow": false,
          "text": "심",
          "x": 2.5,
          "xref": "x1",
          "y": 1,
          "yref": "y1"
         },
         {
          "align": "left",
          "font": {
           "color": "black",
           "family": "Arial",
           "size": 14
          },
          "showarrow": false,
          "text": "쟁",
          "x": 3.5,
          "xref": "x1",
          "y": 1,
          "yref": "y1"
         },
         {
          "align": "left",
          "font": {
           "color": "black",
           "family": "Arial",
           "size": 14
          },
          "showarrow": false,
          "text": "이",
          "x": 4.5,
          "xref": "x1",
          "y": 1,
          "yref": "y1"
         },
         {
          "align": "left",
          "font": {
           "color": "black",
           "family": "Arial",
           "size": 14
          },
          "showarrow": false,
          "text": "에",
          "x": 5.5,
          "xref": "x1",
          "y": 1,
          "yref": "y1"
         },
         {
          "align": "left",
          "font": {
           "color": "black",
           "family": "Arial",
           "size": 14
          },
          "showarrow": false,
          "text": "게",
          "x": 6.5,
          "xref": "x1",
          "y": 1,
          "yref": "y1"
         },
         {
          "align": "left",
          "font": {
           "color": "black",
           "family": "Arial",
           "size": 14
          },
          "showarrow": false,
          "text": " ",
          "x": 7.5,
          "xref": "x1",
          "y": 1,
          "yref": "y1"
         },
         {
          "align": "left",
          "font": {
           "color": "black",
           "family": "Arial",
           "size": 14
          },
          "showarrow": false,
          "text": "스",
          "x": 8.5,
          "xref": "x1",
          "y": 1,
          "yref": "y1"
         },
         {
          "align": "left",
          "font": {
           "color": "black",
           "family": "Arial",
           "size": 14
          },
          "showarrow": false,
          "text": "트",
          "x": 9.5,
          "xref": "x1",
          "y": 1,
          "yref": "y1"
         },
         {
          "align": "left",
          "font": {
           "color": "black",
           "family": "Arial",
           "size": 14
          },
          "showarrow": false,
          "text": "레",
          "x": 10.5,
          "xref": "x1",
          "y": 1,
          "yref": "y1"
         },
         {
          "align": "left",
          "font": {
           "color": "black",
           "family": "Arial",
           "size": 14
          },
          "showarrow": false,
          "text": "스",
          "x": 11.5,
          "xref": "x1",
          "y": 1,
          "yref": "y1"
         },
         {
          "align": "left",
          "font": {
           "color": "black",
           "family": "Arial",
           "size": 14
          },
          "showarrow": false,
          "text": " ",
          "x": 12.5,
          "xref": "x1",
          "y": 1,
          "yref": "y1"
         },
         {
          "align": "left",
          "font": {
           "color": "black",
           "family": "Arial",
           "size": 14
          },
          "showarrow": false,
          "text": "받",
          "x": 13.5,
          "xref": "x1",
          "y": 1,
          "yref": "y1"
         },
         {
          "align": "left",
          "font": {
           "color": "black",
           "family": "Arial",
           "size": 14
          },
          "showarrow": false,
          "text": "으",
          "x": 14.5,
          "xref": "x1",
          "y": 1,
          "yref": "y1"
         },
         {
          "align": "left",
          "font": {
           "color": "black",
           "family": "Arial",
           "size": 14
          },
          "showarrow": false,
          "text": "며",
          "x": 15.5,
          "xref": "x1",
          "y": 1,
          "yref": "y1"
         },
         {
          "align": "left",
          "font": {
           "color": "black",
           "family": "Arial",
           "size": 14
          },
          "showarrow": false,
          "text": " ",
          "x": 16.5,
          "xref": "x1",
          "y": 1,
          "yref": "y1"
         },
         {
          "align": "left",
          "font": {
           "color": "black",
           "family": "Arial",
           "size": 14
          },
          "showarrow": false,
          "text": "살",
          "x": 17.5,
          "xref": "x1",
          "y": 1,
          "yref": "y1"
         },
         {
          "align": "left",
          "font": {
           "color": "black",
           "family": "Arial",
           "size": 14
          },
          "showarrow": false,
          "text": "다",
          "x": 18.5,
          "xref": "x1",
          "y": 1,
          "yref": "y1"
         },
         {
          "align": "left",
          "font": {
           "color": "black",
           "family": "Arial",
           "size": 14
          },
          "showarrow": false,
          "text": "가",
          "x": 19.5,
          "xref": "x1",
          "y": 1,
          "yref": "y1"
         },
         {
          "align": "left",
          "font": {
           "color": "black",
           "family": "Arial",
           "size": 14
          },
          "showarrow": false,
          "text": " ",
          "x": 20.5,
          "xref": "x1",
          "y": 1,
          "yref": "y1"
         },
         {
          "align": "left",
          "font": {
           "color": "black",
           "family": "Arial",
           "size": 14
          },
          "showarrow": false,
          "text": "떠",
          "x": 21.5,
          "xref": "x1",
          "y": 1,
          "yref": "y1"
         },
         {
          "align": "left",
          "font": {
           "color": "black",
           "family": "Arial",
           "size": 14
          },
          "showarrow": false,
          "text": "나",
          "x": 22.5,
          "xref": "x1",
          "y": 1,
          "yref": "y1"
         },
         {
          "align": "left",
          "font": {
           "color": "black",
           "family": "Arial",
           "size": 14
          },
          "showarrow": false,
          "text": "고",
          "x": 23.5,
          "xref": "x1",
          "y": 1,
          "yref": "y1"
         },
         {
          "align": "left",
          "font": {
           "color": "black",
           "family": "Arial",
           "size": 14
          },
          "showarrow": false,
          "text": " ",
          "x": 24.5,
          "xref": "x1",
          "y": 1,
          "yref": "y1"
         },
         {
          "align": "left",
          "font": {
           "color": "black",
           "family": "Arial",
           "size": 14
          },
          "showarrow": false,
          "text": "나",
          "x": 25.5,
          "xref": "x1",
          "y": 1,
          "yref": "y1"
         },
         {
          "align": "left",
          "font": {
           "color": "black",
           "family": "Arial",
           "size": 14
          },
          "showarrow": false,
          "text": "니",
          "x": 26.5,
          "xref": "x1",
          "y": 1,
          "yref": "y1"
         },
         {
          "align": "left",
          "font": {
           "color": "black",
           "family": "Arial",
           "size": 14
          },
          "showarrow": false,
          "text": " ",
          "x": 27.5,
          "xref": "x1",
          "y": 1,
          "yref": "y1"
         },
         {
          "align": "left",
          "font": {
           "color": "black",
           "family": "Arial",
           "size": 14
          },
          "showarrow": false,
          "text": "너",
          "x": 28.5,
          "xref": "x1",
          "y": 1,
          "yref": "y1"
         },
         {
          "align": "left",
          "font": {
           "color": "black",
           "family": "Arial",
           "size": 14
          },
          "showarrow": false,
          "text": "무",
          "x": 29.5,
          "xref": "x1",
          "y": 1,
          "yref": "y1"
         },
         {
          "align": "left",
          "font": {
           "color": "black",
           "family": "Arial",
           "size": 14
          },
          "showarrow": false,
          "text": " ",
          "x": 30.5,
          "xref": "x1",
          "y": 1,
          "yref": "y1"
         },
         {
          "align": "left",
          "font": {
           "color": "black",
           "family": "Arial",
           "size": 14
          },
          "showarrow": false,
          "text": "행",
          "x": 31.5,
          "xref": "x1",
          "y": 1,
          "yref": "y1"
         },
         {
          "align": "left",
          "font": {
           "color": "black",
           "family": "Arial",
           "size": 14
          },
          "showarrow": false,
          "text": "복",
          "x": 32.5,
          "xref": "x1",
          "y": 1,
          "yref": "y1"
         },
         {
          "align": "left",
          "font": {
           "color": "black",
           "family": "Arial",
           "size": 14
          },
          "showarrow": false,
          "text": "해",
          "x": 33.5,
          "xref": "x1",
          "y": 1,
          "yref": "y1"
         },
         {
          "align": "left",
          "font": {
           "color": "black",
           "family": "Arial",
           "size": 14
          },
          "showarrow": false,
          "text": "요",
          "x": 34.5,
          "xref": "x1",
          "y": 1,
          "yref": "y1"
         },
         {
          "align": "left",
          "font": {
           "color": "black",
           "family": "Arial",
           "size": 14
          },
          "showarrow": false,
          "text": " ",
          "x": 35.5,
          "xref": "x1",
          "y": 1,
          "yref": "y1"
         },
         {
          "align": "left",
          "font": {
           "color": "black",
           "family": "Arial",
           "size": 14
          },
          "showarrow": false,
          "text": "!",
          "x": 36.5,
          "xref": "x1",
          "y": 1,
          "yref": "y1"
         }
        ],
        "barmode": "stack",
        "height": 80,
        "images": [
         {
          "layer": "above",
          "opacity": 0.3,
          "sizex": 0.7,
          "sizey": 0.7,
          "source": "https://raw.githubusercontent.com/fingeredman/teanaps/master/data/logo/teanaps_logo_no-bg.png",
          "x": 0.5,
          "xanchor": "center",
          "xref": "paper",
          "y": 0.6,
          "yanchor": "center",
          "yref": "paper"
         }
        ],
        "margin": {
         "b": 30,
         "l": 20,
         "r": 20,
         "t": 10
        },
        "showlegend": false,
        "xaxis1": {
         "anchor": "y1",
         "domain": [
          0,
          1
         ],
         "showgrid": false,
         "showline": false,
         "showticklabels": false,
         "zeroline": false
        },
        "yaxis1": {
         "anchor": "x1",
         "domain": [
          0,
          1
         ],
         "showgrid": false,
         "showline": false,
         "showticklabels": false,
         "zeroline": false
        }
       }
      },
      "text/html": [
       "<div id=\"261f84f6-90ac-4bbd-88e8-7573c98e4a0d\" style=\"height: 80px; width: 100%;\" class=\"plotly-graph-div\"></div><script type=\"text/javascript\">require([\"plotly\"], function(Plotly) { window.PLOTLYENV=window.PLOTLYENV || {};window.PLOTLYENV.BASE_URL=\"https://plot.ly\";Plotly.newPlot(\"261f84f6-90ac-4bbd-88e8-7573c98e4a0d\", [{\"type\": \"bar\", \"y\": [1], \"x\": [3], \"orientation\": \"h\", \"width\": 0.5, \"text\": \"\", \"hoverinfo\": \"text\", \"marker\": {\"color\": \"rgb(255, 255.0, 255.0)\"}, \"xaxis\": \"x1\", \"yaxis\": \"y1\"}, {\"type\": \"bar\", \"y\": [1], \"x\": [1], \"orientation\": \"h\", \"width\": 0.5, \"text\": \"\", \"hoverinfo\": \"text\", \"marker\": {\"color\": \"rgb(255, 255.0, 255.0)\"}, \"xaxis\": \"x1\", \"yaxis\": \"y1\"}, {\"type\": \"bar\", \"y\": [1], \"x\": [1], \"orientation\": \"h\", \"width\": 0.5, \"text\": \"\", \"hoverinfo\": \"text\", \"marker\": {\"color\": \"rgb(255, 255.0, 255.0)\"}, \"xaxis\": \"x1\", \"yaxis\": \"y1\"}, {\"type\": \"bar\", \"y\": [1], \"x\": [2], \"orientation\": \"h\", \"width\": 0.5, \"text\": \"\", \"hoverinfo\": \"text\", \"marker\": {\"color\": \"rgb(255, 255.0, 255.0)\"}, \"xaxis\": \"x1\", \"yaxis\": \"y1\"}, {\"type\": \"bar\", \"y\": [1], \"x\": [5], \"orientation\": \"h\", \"width\": 0.5, \"text\": \"0.73\", \"hoverinfo\": \"text\", \"marker\": {\"color\": \"rgb(255, 145.19479751586914, 145.19479751586914)\"}, \"xaxis\": \"x1\", \"yaxis\": \"y1\"}, {\"type\": \"bar\", \"y\": [1], \"x\": [4], \"orientation\": \"h\", \"width\": 0.5, \"text\": \"0.61\", \"hoverinfo\": \"text\", \"marker\": {\"color\": \"rgb(255, 163.88416171073914, 163.88416171073914)\"}, \"xaxis\": \"x1\", \"yaxis\": \"y1\"}, {\"type\": \"bar\", \"y\": [1], \"x\": [2], \"orientation\": \"h\", \"width\": 0.5, \"text\": \"0.5\", \"hoverinfo\": \"text\", \"marker\": {\"color\": \"rgb(255, 180.23858696222305, 180.23858696222305)\"}, \"xaxis\": \"x1\", \"yaxis\": \"y1\"}, {\"type\": \"bar\", \"y\": [1], \"x\": [1], \"orientation\": \"h\", \"width\": 0.5, \"text\": \"0.51\", \"hoverinfo\": \"text\", \"marker\": {\"color\": \"rgb(255, 178.49336743354797, 178.49336743354797)\"}, \"xaxis\": \"x1\", \"yaxis\": \"y1\"}, {\"type\": \"bar\", \"y\": [1], \"x\": [1], \"orientation\": \"h\", \"width\": 0.5, \"text\": \"0.82\", \"hoverinfo\": \"text\", \"marker\": {\"color\": \"rgb(255, 132.59934067726135, 132.59934067726135)\"}, \"xaxis\": \"x1\", \"yaxis\": \"y1\"}, {\"type\": \"bar\", \"y\": [1], \"x\": [3], \"orientation\": \"h\", \"width\": 0.5, \"text\": \"0.51\", \"hoverinfo\": \"text\", \"marker\": {\"color\": \"rgb(255, 178.5652506351471, 178.5652506351471)\"}, \"xaxis\": \"x1\", \"yaxis\": \"y1\"}, {\"type\": \"bar\", \"y\": [1], \"x\": [1], \"orientation\": \"h\", \"width\": 0.5, \"text\": \"1.0\", \"hoverinfo\": \"text\", \"marker\": {\"color\": \"rgb(255, 105.0, 105.0)\"}, \"xaxis\": \"x1\", \"yaxis\": \"y1\"}, {\"type\": \"bar\", \"y\": [1], \"x\": [2], \"orientation\": \"h\", \"width\": 0.5, \"text\": \"\", \"hoverinfo\": \"text\", \"marker\": {\"color\": \"rgb(255, 255.0, 255.0)\"}, \"xaxis\": \"x1\", \"yaxis\": \"y1\"}, {\"type\": \"bar\", \"y\": [1], \"x\": [1], \"orientation\": \"h\", \"width\": 0.5, \"text\": \"\", \"hoverinfo\": \"text\", \"marker\": {\"color\": \"rgb(255, 255.0, 255.0)\"}, \"xaxis\": \"x1\", \"yaxis\": \"y1\"}, {\"type\": \"bar\", \"y\": [1], \"x\": [3], \"orientation\": \"h\", \"width\": 0.5, \"text\": \"0.48\", \"hoverinfo\": \"text\", \"marker\": {\"color\": \"rgb(158.72612476348877, 206.86306238174438, 255)\"}, \"xaxis\": \"x1\", \"yaxis\": \"y1\"}, {\"type\": \"bar\", \"y\": [1], \"x\": [3], \"orientation\": \"h\", \"width\": 0.5, \"text\": \"0.4\", \"hoverinfo\": \"text\", \"marker\": {\"color\": \"rgb(174.40060257911682, 214.7003012895584, 255)\"}, \"xaxis\": \"x1\", \"yaxis\": \"y1\"}, {\"type\": \"bar\", \"y\": [1], \"x\": [1], \"orientation\": \"h\", \"width\": 0.5, \"text\": \"0.36\", \"hoverinfo\": \"text\", \"marker\": {\"color\": \"rgb(183.40933799743652, 219.20466899871826, 255)\"}, \"xaxis\": \"x1\", \"yaxis\": \"y1\"}, {\"type\": \"bar\", \"y\": [1], \"x\": [1], \"orientation\": \"h\", \"width\": 0.5, \"text\": \"0.47\", \"hoverinfo\": \"text\", \"marker\": {\"color\": \"rgb(160.76356649398804, 207.88178324699402, 255)\"}, \"xaxis\": \"x1\", \"yaxis\": \"y1\"}, {\"type\": \"bar\", \"y\": [1], \"x\": [1], \"orientation\": \"h\", \"width\": 0.5, \"text\": \"\", \"hoverinfo\": \"text\", \"marker\": {\"color\": \"rgb(255, 255.0, 255.0)\"}, \"xaxis\": \"x1\", \"yaxis\": \"y1\"}, {\"type\": \"bar\", \"y\": [1], \"x\": [1], \"orientation\": \"h\", \"width\": 0.5, \"text\": \"0.35\", \"hoverinfo\": \"text\", \"marker\": {\"color\": \"rgb(184.0156900882721, 219.50784504413605, 255)\"}, \"xaxis\": \"x1\", \"yaxis\": \"y1\"}, {\"type\": \"bar\", \"y\": [1], \"x\": [1], \"orientation\": \"h\", \"width\": 0.5, \"text\": \"\", \"hoverinfo\": \"text\", \"marker\": {\"color\": \"rgb(255, 255, 255)\"}, \"xaxis\": \"x1\", \"yaxis\": \"y1\"}, {\"type\": \"bar\", \"y\": [1], \"x\": [1], \"orientation\": \"h\", \"width\": 0.5, \"text\": \"\", \"hoverinfo\": \"text\", \"marker\": {\"color\": \"rgb(255, 255, 255)\"}, \"xaxis\": \"x1\", \"yaxis\": \"y1\"}, {\"type\": \"bar\", \"y\": [1], \"x\": [1], \"orientation\": \"h\", \"width\": 0.5, \"text\": \"\", \"hoverinfo\": \"text\", \"marker\": {\"color\": \"rgb(255, 255, 255)\"}, \"xaxis\": \"x1\", \"yaxis\": \"y1\"}, {\"type\": \"bar\", \"y\": [1], \"x\": [1], \"orientation\": \"h\", \"width\": 0.5, \"text\": \"\", \"hoverinfo\": \"text\", \"marker\": {\"color\": \"rgb(255, 255, 255)\"}, \"xaxis\": \"x1\", \"yaxis\": \"y1\"}, {\"type\": \"bar\", \"y\": [1], \"x\": [1], \"orientation\": \"h\", \"width\": 0.5, \"text\": \"\", \"hoverinfo\": \"text\", \"marker\": {\"color\": \"rgb(255, 255, 255)\"}, \"xaxis\": \"x1\", \"yaxis\": \"y1\"}, {\"type\": \"bar\", \"y\": [1], \"x\": [1], \"orientation\": \"h\", \"width\": 0.5, \"text\": \"\", \"hoverinfo\": \"text\", \"marker\": {\"color\": \"rgb(255, 255, 255)\"}, \"xaxis\": \"x1\", \"yaxis\": \"y1\"}, {\"type\": \"bar\", \"y\": [1], \"x\": [1], \"orientation\": \"h\", \"width\": 0.5, \"text\": \"\", \"hoverinfo\": \"text\", \"marker\": {\"color\": \"rgb(255, 255, 255)\"}, \"xaxis\": \"x1\", \"yaxis\": \"y1\"}, {\"type\": \"bar\", \"y\": [1], \"x\": [1], \"orientation\": \"h\", \"width\": 0.5, \"text\": \"\", \"hoverinfo\": \"text\", \"marker\": {\"color\": \"rgb(255, 255, 255)\"}, \"xaxis\": \"x1\", \"yaxis\": \"y1\"}, {\"type\": \"bar\", \"y\": [1], \"x\": [1], \"orientation\": \"h\", \"width\": 0.5, \"text\": \"\", \"hoverinfo\": \"text\", \"marker\": {\"color\": \"rgb(255, 255, 255)\"}, \"xaxis\": \"x1\", \"yaxis\": \"y1\"}, {\"type\": \"bar\", \"y\": [1], \"x\": [1], \"orientation\": \"h\", \"width\": 0.5, \"text\": \"\", \"hoverinfo\": \"text\", \"marker\": {\"color\": \"rgb(255, 255, 255)\"}, \"xaxis\": \"x1\", \"yaxis\": \"y1\"}, {\"type\": \"bar\", \"y\": [1], \"x\": [1], \"orientation\": \"h\", \"width\": 0.5, \"text\": \"\", \"hoverinfo\": \"text\", \"marker\": {\"color\": \"rgb(255, 255, 255)\"}, \"xaxis\": \"x1\", \"yaxis\": \"y1\"}, {\"type\": \"bar\", \"y\": [1], \"x\": [1], \"orientation\": \"h\", \"width\": 0.5, \"text\": \"\", \"hoverinfo\": \"text\", \"marker\": {\"color\": \"rgb(255, 255, 255)\"}, \"xaxis\": \"x1\", \"yaxis\": \"y1\"}, {\"type\": \"bar\", \"y\": [1], \"x\": [1], \"orientation\": \"h\", \"width\": 0.5, \"text\": \"\", \"hoverinfo\": \"text\", \"marker\": {\"color\": \"rgb(255, 255, 255)\"}, \"xaxis\": \"x1\", \"yaxis\": \"y1\"}], {\"xaxis1\": {\"domain\": [0.0, 1.0], \"anchor\": \"y1\", \"showgrid\": false, \"showline\": false, \"showticklabels\": false, \"zeroline\": false}, \"yaxis1\": {\"domain\": [0.0, 1.0], \"anchor\": \"x1\", \"showgrid\": false, \"showline\": false, \"showticklabels\": false, \"zeroline\": false}, \"barmode\": \"stack\", \"showlegend\": false, \"margin\": {\"b\": 30, \"l\": 20, \"r\": 20, \"t\": 10}, \"annotations\": [{\"xref\": \"x1\", \"yref\": \"y1\", \"x\": 0.5, \"y\": 1, \"text\": \" \", \"align\": \"left\", \"font\": {\"family\": \"Arial\", \"size\": 14, \"color\": \"black\"}, \"showarrow\": false}, {\"xref\": \"x1\", \"yref\": \"y1\", \"x\": 1.5, \"y\": 1, \"text\": \"\\uc695\", \"align\": \"left\", \"font\": {\"family\": \"Arial\", \"size\": 14, \"color\": \"black\"}, \"showarrow\": false}, {\"xref\": \"x1\", \"yref\": \"y1\", \"x\": 2.5, \"y\": 1, \"text\": \"\\uc2ec\", \"align\": \"left\", \"font\": {\"family\": \"Arial\", \"size\": 14, \"color\": \"black\"}, \"showarrow\": false}, {\"xref\": \"x1\", \"yref\": \"y1\", \"x\": 3.5, \"y\": 1, \"text\": \"\\uc7c1\", \"align\": \"left\", \"font\": {\"family\": \"Arial\", \"size\": 14, \"color\": \"black\"}, \"showarrow\": false}, {\"xref\": \"x1\", \"yref\": \"y1\", \"x\": 4.5, \"y\": 1, \"text\": \"\\uc774\", \"align\": \"left\", \"font\": {\"family\": \"Arial\", \"size\": 14, \"color\": \"black\"}, \"showarrow\": false}, {\"xref\": \"x1\", \"yref\": \"y1\", \"x\": 5.5, \"y\": 1, \"text\": \"\\uc5d0\", \"align\": \"left\", \"font\": {\"family\": \"Arial\", \"size\": 14, \"color\": \"black\"}, \"showarrow\": false}, {\"xref\": \"x1\", \"yref\": \"y1\", \"x\": 6.5, \"y\": 1, \"text\": \"\\uac8c\", \"align\": \"left\", \"font\": {\"family\": \"Arial\", \"size\": 14, \"color\": \"black\"}, \"showarrow\": false}, {\"xref\": \"x1\", \"yref\": \"y1\", \"x\": 7.5, \"y\": 1, \"text\": \" \", \"align\": \"left\", \"font\": {\"family\": \"Arial\", \"size\": 14, \"color\": \"black\"}, \"showarrow\": false}, {\"xref\": \"x1\", \"yref\": \"y1\", \"x\": 8.5, \"y\": 1, \"text\": \"\\uc2a4\", \"align\": \"left\", \"font\": {\"family\": \"Arial\", \"size\": 14, \"color\": \"black\"}, \"showarrow\": false}, {\"xref\": \"x1\", \"yref\": \"y1\", \"x\": 9.5, \"y\": 1, \"text\": \"\\ud2b8\", \"align\": \"left\", \"font\": {\"family\": \"Arial\", \"size\": 14, \"color\": \"black\"}, \"showarrow\": false}, {\"xref\": \"x1\", \"yref\": \"y1\", \"x\": 10.5, \"y\": 1, \"text\": \"\\ub808\", \"align\": \"left\", \"font\": {\"family\": \"Arial\", \"size\": 14, \"color\": \"black\"}, \"showarrow\": false}, {\"xref\": \"x1\", \"yref\": \"y1\", \"x\": 11.5, \"y\": 1, \"text\": \"\\uc2a4\", \"align\": \"left\", \"font\": {\"family\": \"Arial\", \"size\": 14, \"color\": \"black\"}, \"showarrow\": false}, {\"xref\": \"x1\", \"yref\": \"y1\", \"x\": 12.5, \"y\": 1, \"text\": \" \", \"align\": \"left\", \"font\": {\"family\": \"Arial\", \"size\": 14, \"color\": \"black\"}, \"showarrow\": false}, {\"xref\": \"x1\", \"yref\": \"y1\", \"x\": 13.5, \"y\": 1, \"text\": \"\\ubc1b\", \"align\": \"left\", \"font\": {\"family\": \"Arial\", \"size\": 14, \"color\": \"black\"}, \"showarrow\": false}, {\"xref\": \"x1\", \"yref\": \"y1\", \"x\": 14.5, \"y\": 1, \"text\": \"\\uc73c\", \"align\": \"left\", \"font\": {\"family\": \"Arial\", \"size\": 14, \"color\": \"black\"}, \"showarrow\": false}, {\"xref\": \"x1\", \"yref\": \"y1\", \"x\": 15.5, \"y\": 1, \"text\": \"\\uba70\", \"align\": \"left\", \"font\": {\"family\": \"Arial\", \"size\": 14, \"color\": \"black\"}, \"showarrow\": false}, {\"xref\": \"x1\", \"yref\": \"y1\", \"x\": 16.5, \"y\": 1, \"text\": \" \", \"align\": \"left\", \"font\": {\"family\": \"Arial\", \"size\": 14, \"color\": \"black\"}, \"showarrow\": false}, {\"xref\": \"x1\", \"yref\": \"y1\", \"x\": 17.5, \"y\": 1, \"text\": \"\\uc0b4\", \"align\": \"left\", \"font\": {\"family\": \"Arial\", \"size\": 14, \"color\": \"black\"}, \"showarrow\": false}, {\"xref\": \"x1\", \"yref\": \"y1\", \"x\": 18.5, \"y\": 1, \"text\": \"\\ub2e4\", \"align\": \"left\", \"font\": {\"family\": \"Arial\", \"size\": 14, \"color\": \"black\"}, \"showarrow\": false}, {\"xref\": \"x1\", \"yref\": \"y1\", \"x\": 19.5, \"y\": 1, \"text\": \"\\uac00\", \"align\": \"left\", \"font\": {\"family\": \"Arial\", \"size\": 14, \"color\": \"black\"}, \"showarrow\": false}, {\"xref\": \"x1\", \"yref\": \"y1\", \"x\": 20.5, \"y\": 1, \"text\": \" \", \"align\": \"left\", \"font\": {\"family\": \"Arial\", \"size\": 14, \"color\": \"black\"}, \"showarrow\": false}, {\"xref\": \"x1\", \"yref\": \"y1\", \"x\": 21.5, \"y\": 1, \"text\": \"\\ub5a0\", \"align\": \"left\", \"font\": {\"family\": \"Arial\", \"size\": 14, \"color\": \"black\"}, \"showarrow\": false}, {\"xref\": \"x1\", \"yref\": \"y1\", \"x\": 22.5, \"y\": 1, \"text\": \"\\ub098\", \"align\": \"left\", \"font\": {\"family\": \"Arial\", \"size\": 14, \"color\": \"black\"}, \"showarrow\": false}, {\"xref\": \"x1\", \"yref\": \"y1\", \"x\": 23.5, \"y\": 1, \"text\": \"\\uace0\", \"align\": \"left\", \"font\": {\"family\": \"Arial\", \"size\": 14, \"color\": \"black\"}, \"showarrow\": false}, {\"xref\": \"x1\", \"yref\": \"y1\", \"x\": 24.5, \"y\": 1, \"text\": \" \", \"align\": \"left\", \"font\": {\"family\": \"Arial\", \"size\": 14, \"color\": \"black\"}, \"showarrow\": false}, {\"xref\": \"x1\", \"yref\": \"y1\", \"x\": 25.5, \"y\": 1, \"text\": \"\\ub098\", \"align\": \"left\", \"font\": {\"family\": \"Arial\", \"size\": 14, \"color\": \"black\"}, \"showarrow\": false}, {\"xref\": \"x1\", \"yref\": \"y1\", \"x\": 26.5, \"y\": 1, \"text\": \"\\ub2c8\", \"align\": \"left\", \"font\": {\"family\": \"Arial\", \"size\": 14, \"color\": \"black\"}, \"showarrow\": false}, {\"xref\": \"x1\", \"yref\": \"y1\", \"x\": 27.5, \"y\": 1, \"text\": \" \", \"align\": \"left\", \"font\": {\"family\": \"Arial\", \"size\": 14, \"color\": \"black\"}, \"showarrow\": false}, {\"xref\": \"x1\", \"yref\": \"y1\", \"x\": 28.5, \"y\": 1, \"text\": \"\\ub108\", \"align\": \"left\", \"font\": {\"family\": \"Arial\", \"size\": 14, \"color\": \"black\"}, \"showarrow\": false}, {\"xref\": \"x1\", \"yref\": \"y1\", \"x\": 29.5, \"y\": 1, \"text\": \"\\ubb34\", \"align\": \"left\", \"font\": {\"family\": \"Arial\", \"size\": 14, \"color\": \"black\"}, \"showarrow\": false}, {\"xref\": \"x1\", \"yref\": \"y1\", \"x\": 30.5, \"y\": 1, \"text\": \" \", \"align\": \"left\", \"font\": {\"family\": \"Arial\", \"size\": 14, \"color\": \"black\"}, \"showarrow\": false}, {\"xref\": \"x1\", \"yref\": \"y1\", \"x\": 31.5, \"y\": 1, \"text\": \"\\ud589\", \"align\": \"left\", \"font\": {\"family\": \"Arial\", \"size\": 14, \"color\": \"black\"}, \"showarrow\": false}, {\"xref\": \"x1\", \"yref\": \"y1\", \"x\": 32.5, \"y\": 1, \"text\": \"\\ubcf5\", \"align\": \"left\", \"font\": {\"family\": \"Arial\", \"size\": 14, \"color\": \"black\"}, \"showarrow\": false}, {\"xref\": \"x1\", \"yref\": \"y1\", \"x\": 33.5, \"y\": 1, \"text\": \"\\ud574\", \"align\": \"left\", \"font\": {\"family\": \"Arial\", \"size\": 14, \"color\": \"black\"}, \"showarrow\": false}, {\"xref\": \"x1\", \"yref\": \"y1\", \"x\": 34.5, \"y\": 1, \"text\": \"\\uc694\", \"align\": \"left\", \"font\": {\"family\": \"Arial\", \"size\": 14, \"color\": \"black\"}, \"showarrow\": false}, {\"xref\": \"x1\", \"yref\": \"y1\", \"x\": 35.5, \"y\": 1, \"text\": \" \", \"align\": \"left\", \"font\": {\"family\": \"Arial\", \"size\": 14, \"color\": \"black\"}, \"showarrow\": false}, {\"xref\": \"x1\", \"yref\": \"y1\", \"x\": 36.5, \"y\": 1, \"text\": \"!\", \"align\": \"left\", \"font\": {\"family\": \"Arial\", \"size\": 14, \"color\": \"black\"}, \"showarrow\": false}], \"height\": 80, \"images\": [{\"source\": \"https://raw.githubusercontent.com/fingeredman/teanaps/master/data/logo/teanaps_logo_no-bg.png\", \"xref\": \"paper\", \"yref\": \"paper\", \"x\": 0.5, \"y\": 0.6, \"sizex\": 0.7, \"sizey\": 0.7, \"xanchor\": \"center\", \"yanchor\": \"center\", \"opacity\": 0.3, \"layer\": \"above\"}]}, {\"showLink\": true, \"linkText\": \"Export to plot.ly\"})});</script>"
      ],
      "text/vnd.plotly.v1+html": [
       "<div id=\"261f84f6-90ac-4bbd-88e8-7573c98e4a0d\" style=\"height: 80px; width: 100%;\" class=\"plotly-graph-div\"></div><script type=\"text/javascript\">require([\"plotly\"], function(Plotly) { window.PLOTLYENV=window.PLOTLYENV || {};window.PLOTLYENV.BASE_URL=\"https://plot.ly\";Plotly.newPlot(\"261f84f6-90ac-4bbd-88e8-7573c98e4a0d\", [{\"type\": \"bar\", \"y\": [1], \"x\": [3], \"orientation\": \"h\", \"width\": 0.5, \"text\": \"\", \"hoverinfo\": \"text\", \"marker\": {\"color\": \"rgb(255, 255.0, 255.0)\"}, \"xaxis\": \"x1\", \"yaxis\": \"y1\"}, {\"type\": \"bar\", \"y\": [1], \"x\": [1], \"orientation\": \"h\", \"width\": 0.5, \"text\": \"\", \"hoverinfo\": \"text\", \"marker\": {\"color\": \"rgb(255, 255.0, 255.0)\"}, \"xaxis\": \"x1\", \"yaxis\": \"y1\"}, {\"type\": \"bar\", \"y\": [1], \"x\": [1], \"orientation\": \"h\", \"width\": 0.5, \"text\": \"\", \"hoverinfo\": \"text\", \"marker\": {\"color\": \"rgb(255, 255.0, 255.0)\"}, \"xaxis\": \"x1\", \"yaxis\": \"y1\"}, {\"type\": \"bar\", \"y\": [1], \"x\": [2], \"orientation\": \"h\", \"width\": 0.5, \"text\": \"\", \"hoverinfo\": \"text\", \"marker\": {\"color\": \"rgb(255, 255.0, 255.0)\"}, \"xaxis\": \"x1\", \"yaxis\": \"y1\"}, {\"type\": \"bar\", \"y\": [1], \"x\": [5], \"orientation\": \"h\", \"width\": 0.5, \"text\": \"0.73\", \"hoverinfo\": \"text\", \"marker\": {\"color\": \"rgb(255, 145.19479751586914, 145.19479751586914)\"}, \"xaxis\": \"x1\", \"yaxis\": \"y1\"}, {\"type\": \"bar\", \"y\": [1], \"x\": [4], \"orientation\": \"h\", \"width\": 0.5, \"text\": \"0.61\", \"hoverinfo\": \"text\", \"marker\": {\"color\": \"rgb(255, 163.88416171073914, 163.88416171073914)\"}, \"xaxis\": \"x1\", \"yaxis\": \"y1\"}, {\"type\": \"bar\", \"y\": [1], \"x\": [2], \"orientation\": \"h\", \"width\": 0.5, \"text\": \"0.5\", \"hoverinfo\": \"text\", \"marker\": {\"color\": \"rgb(255, 180.23858696222305, 180.23858696222305)\"}, \"xaxis\": \"x1\", \"yaxis\": \"y1\"}, {\"type\": \"bar\", \"y\": [1], \"x\": [1], \"orientation\": \"h\", \"width\": 0.5, \"text\": \"0.51\", \"hoverinfo\": \"text\", \"marker\": {\"color\": \"rgb(255, 178.49336743354797, 178.49336743354797)\"}, \"xaxis\": \"x1\", \"yaxis\": \"y1\"}, {\"type\": \"bar\", \"y\": [1], \"x\": [1], \"orientation\": \"h\", \"width\": 0.5, \"text\": \"0.82\", \"hoverinfo\": \"text\", \"marker\": {\"color\": \"rgb(255, 132.59934067726135, 132.59934067726135)\"}, \"xaxis\": \"x1\", \"yaxis\": \"y1\"}, {\"type\": \"bar\", \"y\": [1], \"x\": [3], \"orientation\": \"h\", \"width\": 0.5, \"text\": \"0.51\", \"hoverinfo\": \"text\", \"marker\": {\"color\": \"rgb(255, 178.5652506351471, 178.5652506351471)\"}, \"xaxis\": \"x1\", \"yaxis\": \"y1\"}, {\"type\": \"bar\", \"y\": [1], \"x\": [1], \"orientation\": \"h\", \"width\": 0.5, \"text\": \"1.0\", \"hoverinfo\": \"text\", \"marker\": {\"color\": \"rgb(255, 105.0, 105.0)\"}, \"xaxis\": \"x1\", \"yaxis\": \"y1\"}, {\"type\": \"bar\", \"y\": [1], \"x\": [2], \"orientation\": \"h\", \"width\": 0.5, \"text\": \"\", \"hoverinfo\": \"text\", \"marker\": {\"color\": \"rgb(255, 255.0, 255.0)\"}, \"xaxis\": \"x1\", \"yaxis\": \"y1\"}, {\"type\": \"bar\", \"y\": [1], \"x\": [1], \"orientation\": \"h\", \"width\": 0.5, \"text\": \"\", \"hoverinfo\": \"text\", \"marker\": {\"color\": \"rgb(255, 255.0, 255.0)\"}, \"xaxis\": \"x1\", \"yaxis\": \"y1\"}, {\"type\": \"bar\", \"y\": [1], \"x\": [3], \"orientation\": \"h\", \"width\": 0.5, \"text\": \"0.48\", \"hoverinfo\": \"text\", \"marker\": {\"color\": \"rgb(158.72612476348877, 206.86306238174438, 255)\"}, \"xaxis\": \"x1\", \"yaxis\": \"y1\"}, {\"type\": \"bar\", \"y\": [1], \"x\": [3], \"orientation\": \"h\", \"width\": 0.5, \"text\": \"0.4\", \"hoverinfo\": \"text\", \"marker\": {\"color\": \"rgb(174.40060257911682, 214.7003012895584, 255)\"}, \"xaxis\": \"x1\", \"yaxis\": \"y1\"}, {\"type\": \"bar\", \"y\": [1], \"x\": [1], \"orientation\": \"h\", \"width\": 0.5, \"text\": \"0.36\", \"hoverinfo\": \"text\", \"marker\": {\"color\": \"rgb(183.40933799743652, 219.20466899871826, 255)\"}, \"xaxis\": \"x1\", \"yaxis\": \"y1\"}, {\"type\": \"bar\", \"y\": [1], \"x\": [1], \"orientation\": \"h\", \"width\": 0.5, \"text\": \"0.47\", \"hoverinfo\": \"text\", \"marker\": {\"color\": \"rgb(160.76356649398804, 207.88178324699402, 255)\"}, \"xaxis\": \"x1\", \"yaxis\": \"y1\"}, {\"type\": \"bar\", \"y\": [1], \"x\": [1], \"orientation\": \"h\", \"width\": 0.5, \"text\": \"\", \"hoverinfo\": \"text\", \"marker\": {\"color\": \"rgb(255, 255.0, 255.0)\"}, \"xaxis\": \"x1\", \"yaxis\": \"y1\"}, {\"type\": \"bar\", \"y\": [1], \"x\": [1], \"orientation\": \"h\", \"width\": 0.5, \"text\": \"0.35\", \"hoverinfo\": \"text\", \"marker\": {\"color\": \"rgb(184.0156900882721, 219.50784504413605, 255)\"}, \"xaxis\": \"x1\", \"yaxis\": \"y1\"}, {\"type\": \"bar\", \"y\": [1], \"x\": [1], \"orientation\": \"h\", \"width\": 0.5, \"text\": \"\", \"hoverinfo\": \"text\", \"marker\": {\"color\": \"rgb(255, 255, 255)\"}, \"xaxis\": \"x1\", \"yaxis\": \"y1\"}, {\"type\": \"bar\", \"y\": [1], \"x\": [1], \"orientation\": \"h\", \"width\": 0.5, \"text\": \"\", \"hoverinfo\": \"text\", \"marker\": {\"color\": \"rgb(255, 255, 255)\"}, \"xaxis\": \"x1\", \"yaxis\": \"y1\"}, {\"type\": \"bar\", \"y\": [1], \"x\": [1], \"orientation\": \"h\", \"width\": 0.5, \"text\": \"\", \"hoverinfo\": \"text\", \"marker\": {\"color\": \"rgb(255, 255, 255)\"}, \"xaxis\": \"x1\", \"yaxis\": \"y1\"}, {\"type\": \"bar\", \"y\": [1], \"x\": [1], \"orientation\": \"h\", \"width\": 0.5, \"text\": \"\", \"hoverinfo\": \"text\", \"marker\": {\"color\": \"rgb(255, 255, 255)\"}, \"xaxis\": \"x1\", \"yaxis\": \"y1\"}, {\"type\": \"bar\", \"y\": [1], \"x\": [1], \"orientation\": \"h\", \"width\": 0.5, \"text\": \"\", \"hoverinfo\": \"text\", \"marker\": {\"color\": \"rgb(255, 255, 255)\"}, \"xaxis\": \"x1\", \"yaxis\": \"y1\"}, {\"type\": \"bar\", \"y\": [1], \"x\": [1], \"orientation\": \"h\", \"width\": 0.5, \"text\": \"\", \"hoverinfo\": \"text\", \"marker\": {\"color\": \"rgb(255, 255, 255)\"}, \"xaxis\": \"x1\", \"yaxis\": \"y1\"}, {\"type\": \"bar\", \"y\": [1], \"x\": [1], \"orientation\": \"h\", \"width\": 0.5, \"text\": \"\", \"hoverinfo\": \"text\", \"marker\": {\"color\": \"rgb(255, 255, 255)\"}, \"xaxis\": \"x1\", \"yaxis\": \"y1\"}, {\"type\": \"bar\", \"y\": [1], \"x\": [1], \"orientation\": \"h\", \"width\": 0.5, \"text\": \"\", \"hoverinfo\": \"text\", \"marker\": {\"color\": \"rgb(255, 255, 255)\"}, \"xaxis\": \"x1\", \"yaxis\": \"y1\"}, {\"type\": \"bar\", \"y\": [1], \"x\": [1], \"orientation\": \"h\", \"width\": 0.5, \"text\": \"\", \"hoverinfo\": \"text\", \"marker\": {\"color\": \"rgb(255, 255, 255)\"}, \"xaxis\": \"x1\", \"yaxis\": \"y1\"}, {\"type\": \"bar\", \"y\": [1], \"x\": [1], \"orientation\": \"h\", \"width\": 0.5, \"text\": \"\", \"hoverinfo\": \"text\", \"marker\": {\"color\": \"rgb(255, 255, 255)\"}, \"xaxis\": \"x1\", \"yaxis\": \"y1\"}, {\"type\": \"bar\", \"y\": [1], \"x\": [1], \"orientation\": \"h\", \"width\": 0.5, \"text\": \"\", \"hoverinfo\": \"text\", \"marker\": {\"color\": \"rgb(255, 255, 255)\"}, \"xaxis\": \"x1\", \"yaxis\": \"y1\"}, {\"type\": \"bar\", \"y\": [1], \"x\": [1], \"orientation\": \"h\", \"width\": 0.5, \"text\": \"\", \"hoverinfo\": \"text\", \"marker\": {\"color\": \"rgb(255, 255, 255)\"}, \"xaxis\": \"x1\", \"yaxis\": \"y1\"}, {\"type\": \"bar\", \"y\": [1], \"x\": [1], \"orientation\": \"h\", \"width\": 0.5, \"text\": \"\", \"hoverinfo\": \"text\", \"marker\": {\"color\": \"rgb(255, 255, 255)\"}, \"xaxis\": \"x1\", \"yaxis\": \"y1\"}], {\"xaxis1\": {\"domain\": [0.0, 1.0], \"anchor\": \"y1\", \"showgrid\": false, \"showline\": false, \"showticklabels\": false, \"zeroline\": false}, \"yaxis1\": {\"domain\": [0.0, 1.0], \"anchor\": \"x1\", \"showgrid\": false, \"showline\": false, \"showticklabels\": false, \"zeroline\": false}, \"barmode\": \"stack\", \"showlegend\": false, \"margin\": {\"b\": 30, \"l\": 20, \"r\": 20, \"t\": 10}, \"annotations\": [{\"xref\": \"x1\", \"yref\": \"y1\", \"x\": 0.5, \"y\": 1, \"text\": \" \", \"align\": \"left\", \"font\": {\"family\": \"Arial\", \"size\": 14, \"color\": \"black\"}, \"showarrow\": false}, {\"xref\": \"x1\", \"yref\": \"y1\", \"x\": 1.5, \"y\": 1, \"text\": \"\\uc695\", \"align\": \"left\", \"font\": {\"family\": \"Arial\", \"size\": 14, \"color\": \"black\"}, \"showarrow\": false}, {\"xref\": \"x1\", \"yref\": \"y1\", \"x\": 2.5, \"y\": 1, \"text\": \"\\uc2ec\", \"align\": \"left\", \"font\": {\"family\": \"Arial\", \"size\": 14, \"color\": \"black\"}, \"showarrow\": false}, {\"xref\": \"x1\", \"yref\": \"y1\", \"x\": 3.5, \"y\": 1, \"text\": \"\\uc7c1\", \"align\": \"left\", \"font\": {\"family\": \"Arial\", \"size\": 14, \"color\": \"black\"}, \"showarrow\": false}, {\"xref\": \"x1\", \"yref\": \"y1\", \"x\": 4.5, \"y\": 1, \"text\": \"\\uc774\", \"align\": \"left\", \"font\": {\"family\": \"Arial\", \"size\": 14, \"color\": \"black\"}, \"showarrow\": false}, {\"xref\": \"x1\", \"yref\": \"y1\", \"x\": 5.5, \"y\": 1, \"text\": \"\\uc5d0\", \"align\": \"left\", \"font\": {\"family\": \"Arial\", \"size\": 14, \"color\": \"black\"}, \"showarrow\": false}, {\"xref\": \"x1\", \"yref\": \"y1\", \"x\": 6.5, \"y\": 1, \"text\": \"\\uac8c\", \"align\": \"left\", \"font\": {\"family\": \"Arial\", \"size\": 14, \"color\": \"black\"}, \"showarrow\": false}, {\"xref\": \"x1\", \"yref\": \"y1\", \"x\": 7.5, \"y\": 1, \"text\": \" \", \"align\": \"left\", \"font\": {\"family\": \"Arial\", \"size\": 14, \"color\": \"black\"}, \"showarrow\": false}, {\"xref\": \"x1\", \"yref\": \"y1\", \"x\": 8.5, \"y\": 1, \"text\": \"\\uc2a4\", \"align\": \"left\", \"font\": {\"family\": \"Arial\", \"size\": 14, \"color\": \"black\"}, \"showarrow\": false}, {\"xref\": \"x1\", \"yref\": \"y1\", \"x\": 9.5, \"y\": 1, \"text\": \"\\ud2b8\", \"align\": \"left\", \"font\": {\"family\": \"Arial\", \"size\": 14, \"color\": \"black\"}, \"showarrow\": false}, {\"xref\": \"x1\", \"yref\": \"y1\", \"x\": 10.5, \"y\": 1, \"text\": \"\\ub808\", \"align\": \"left\", \"font\": {\"family\": \"Arial\", \"size\": 14, \"color\": \"black\"}, \"showarrow\": false}, {\"xref\": \"x1\", \"yref\": \"y1\", \"x\": 11.5, \"y\": 1, \"text\": \"\\uc2a4\", \"align\": \"left\", \"font\": {\"family\": \"Arial\", \"size\": 14, \"color\": \"black\"}, \"showarrow\": false}, {\"xref\": \"x1\", \"yref\": \"y1\", \"x\": 12.5, \"y\": 1, \"text\": \" \", \"align\": \"left\", \"font\": {\"family\": \"Arial\", \"size\": 14, \"color\": \"black\"}, \"showarrow\": false}, {\"xref\": \"x1\", \"yref\": \"y1\", \"x\": 13.5, \"y\": 1, \"text\": \"\\ubc1b\", \"align\": \"left\", \"font\": {\"family\": \"Arial\", \"size\": 14, \"color\": \"black\"}, \"showarrow\": false}, {\"xref\": \"x1\", \"yref\": \"y1\", \"x\": 14.5, \"y\": 1, \"text\": \"\\uc73c\", \"align\": \"left\", \"font\": {\"family\": \"Arial\", \"size\": 14, \"color\": \"black\"}, \"showarrow\": false}, {\"xref\": \"x1\", \"yref\": \"y1\", \"x\": 15.5, \"y\": 1, \"text\": \"\\uba70\", \"align\": \"left\", \"font\": {\"family\": \"Arial\", \"size\": 14, \"color\": \"black\"}, \"showarrow\": false}, {\"xref\": \"x1\", \"yref\": \"y1\", \"x\": 16.5, \"y\": 1, \"text\": \" \", \"align\": \"left\", \"font\": {\"family\": \"Arial\", \"size\": 14, \"color\": \"black\"}, \"showarrow\": false}, {\"xref\": \"x1\", \"yref\": \"y1\", \"x\": 17.5, \"y\": 1, \"text\": \"\\uc0b4\", \"align\": \"left\", \"font\": {\"family\": \"Arial\", \"size\": 14, \"color\": \"black\"}, \"showarrow\": false}, {\"xref\": \"x1\", \"yref\": \"y1\", \"x\": 18.5, \"y\": 1, \"text\": \"\\ub2e4\", \"align\": \"left\", \"font\": {\"family\": \"Arial\", \"size\": 14, \"color\": \"black\"}, \"showarrow\": false}, {\"xref\": \"x1\", \"yref\": \"y1\", \"x\": 19.5, \"y\": 1, \"text\": \"\\uac00\", \"align\": \"left\", \"font\": {\"family\": \"Arial\", \"size\": 14, \"color\": \"black\"}, \"showarrow\": false}, {\"xref\": \"x1\", \"yref\": \"y1\", \"x\": 20.5, \"y\": 1, \"text\": \" \", \"align\": \"left\", \"font\": {\"family\": \"Arial\", \"size\": 14, \"color\": \"black\"}, \"showarrow\": false}, {\"xref\": \"x1\", \"yref\": \"y1\", \"x\": 21.5, \"y\": 1, \"text\": \"\\ub5a0\", \"align\": \"left\", \"font\": {\"family\": \"Arial\", \"size\": 14, \"color\": \"black\"}, \"showarrow\": false}, {\"xref\": \"x1\", \"yref\": \"y1\", \"x\": 22.5, \"y\": 1, \"text\": \"\\ub098\", \"align\": \"left\", \"font\": {\"family\": \"Arial\", \"size\": 14, \"color\": \"black\"}, \"showarrow\": false}, {\"xref\": \"x1\", \"yref\": \"y1\", \"x\": 23.5, \"y\": 1, \"text\": \"\\uace0\", \"align\": \"left\", \"font\": {\"family\": \"Arial\", \"size\": 14, \"color\": \"black\"}, \"showarrow\": false}, {\"xref\": \"x1\", \"yref\": \"y1\", \"x\": 24.5, \"y\": 1, \"text\": \" \", \"align\": \"left\", \"font\": {\"family\": \"Arial\", \"size\": 14, \"color\": \"black\"}, \"showarrow\": false}, {\"xref\": \"x1\", \"yref\": \"y1\", \"x\": 25.5, \"y\": 1, \"text\": \"\\ub098\", \"align\": \"left\", \"font\": {\"family\": \"Arial\", \"size\": 14, \"color\": \"black\"}, \"showarrow\": false}, {\"xref\": \"x1\", \"yref\": \"y1\", \"x\": 26.5, \"y\": 1, \"text\": \"\\ub2c8\", \"align\": \"left\", \"font\": {\"family\": \"Arial\", \"size\": 14, \"color\": \"black\"}, \"showarrow\": false}, {\"xref\": \"x1\", \"yref\": \"y1\", \"x\": 27.5, \"y\": 1, \"text\": \" \", \"align\": \"left\", \"font\": {\"family\": \"Arial\", \"size\": 14, \"color\": \"black\"}, \"showarrow\": false}, {\"xref\": \"x1\", \"yref\": \"y1\", \"x\": 28.5, \"y\": 1, \"text\": \"\\ub108\", \"align\": \"left\", \"font\": {\"family\": \"Arial\", \"size\": 14, \"color\": \"black\"}, \"showarrow\": false}, {\"xref\": \"x1\", \"yref\": \"y1\", \"x\": 29.5, \"y\": 1, \"text\": \"\\ubb34\", \"align\": \"left\", \"font\": {\"family\": \"Arial\", \"size\": 14, \"color\": \"black\"}, \"showarrow\": false}, {\"xref\": \"x1\", \"yref\": \"y1\", \"x\": 30.5, \"y\": 1, \"text\": \" \", \"align\": \"left\", \"font\": {\"family\": \"Arial\", \"size\": 14, \"color\": \"black\"}, \"showarrow\": false}, {\"xref\": \"x1\", \"yref\": \"y1\", \"x\": 31.5, \"y\": 1, \"text\": \"\\ud589\", \"align\": \"left\", \"font\": {\"family\": \"Arial\", \"size\": 14, \"color\": \"black\"}, \"showarrow\": false}, {\"xref\": \"x1\", \"yref\": \"y1\", \"x\": 32.5, \"y\": 1, \"text\": \"\\ubcf5\", \"align\": \"left\", \"font\": {\"family\": \"Arial\", \"size\": 14, \"color\": \"black\"}, \"showarrow\": false}, {\"xref\": \"x1\", \"yref\": \"y1\", \"x\": 33.5, \"y\": 1, \"text\": \"\\ud574\", \"align\": \"left\", \"font\": {\"family\": \"Arial\", \"size\": 14, \"color\": \"black\"}, \"showarrow\": false}, {\"xref\": \"x1\", \"yref\": \"y1\", \"x\": 34.5, \"y\": 1, \"text\": \"\\uc694\", \"align\": \"left\", \"font\": {\"family\": \"Arial\", \"size\": 14, \"color\": \"black\"}, \"showarrow\": false}, {\"xref\": \"x1\", \"yref\": \"y1\", \"x\": 35.5, \"y\": 1, \"text\": \" \", \"align\": \"left\", \"font\": {\"family\": \"Arial\", \"size\": 14, \"color\": \"black\"}, \"showarrow\": false}, {\"xref\": \"x1\", \"yref\": \"y1\", \"x\": 36.5, \"y\": 1, \"text\": \"!\", \"align\": \"left\", \"font\": {\"family\": \"Arial\", \"size\": 14, \"color\": \"black\"}, \"showarrow\": false}], \"height\": 80, \"images\": [{\"source\": \"https://raw.githubusercontent.com/fingeredman/teanaps/master/data/logo/teanaps_logo_no-bg.png\", \"xref\": \"paper\", \"yref\": \"paper\", \"x\": 0.5, \"y\": 0.6, \"sizex\": 0.7, \"sizey\": 0.7, \"xanchor\": \"center\", \"yanchor\": \"center\", \"opacity\": 0.3, \"layer\": \"above\"}]}, {\"showLink\": true, \"linkText\": \"Export to plot.ly\"})});</script>"
      ]
     },
     "metadata": {},
     "output_type": "display_data"
    }
   ],
   "source": [
    "#sentence = \"욕심쟁이에게 스트레스 받으며 살다가 떠나고나니 너무 행복해요!\"\n",
    "#token_list = [' 욕심', '쟁', '이', '에게', ' 스트레스', ' 받으며', ' 살', '다', '가', ' 떠나', '고', ' 나', '니', ' 너무', ' 행복', '해', '요', ' ', '!']\n",
    "#weight_list = [0, 0, 0, 0, -0.2424436, -0.20117857, -0.16506892, -0.16892226, -0.27025366, -0.16876356, -0.33119142, 0, 0, 0.15942541, 0.13346915, 0.11855107, 0.15605149, 0, 0.11754697]\n",
    "senti.draw_sentiment_parse(token_list, weight_list)"
   ]
  },
  {
   "cell_type": "code",
   "execution_count": null,
   "metadata": {},
   "outputs": [],
   "source": []
  }
 ],
 "metadata": {
  "kernelspec": {
   "display_name": "Python 3",
   "language": "python",
   "name": "python3"
  },
  "language_info": {
   "codemirror_mode": {
    "name": "ipython",
    "version": 3
   },
   "file_extension": ".py",
   "mimetype": "text/x-python",
   "name": "python",
   "nbconvert_exporter": "python",
   "pygments_lexer": "ipython3",
   "version": "3.8.3"
  }
 },
 "nbformat": 4,
 "nbformat_minor": 2
}
