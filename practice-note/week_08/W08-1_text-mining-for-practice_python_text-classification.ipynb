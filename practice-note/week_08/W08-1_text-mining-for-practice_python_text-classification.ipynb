{
 "cells": [
  {
   "cell_type": "markdown",
   "metadata": {},
   "source": [
    "# TEXT MINING for PRACTICE\n",
    "- 본 자료는 텍스트 마이닝을 활용한 연구 및 강의를 위한 목적으로 제작되었습니다.\n",
    "- 본 자료를 강의 목적으로 활용하고자 하시는 경우 꼭 아래 메일주소로 연락주세요.\n",
    "- 본 자료에 대한 허가되지 않은 배포를 금지합니다.\n",
    "- 강의, 저작권, 출판, 특허, 공동저자에 관련해서는 문의 바랍니다.\n",
    "- **Contact : ADMIN(admin@teanaps.com)**\n",
    "\n",
    "---"
   ]
  },
  {
   "cell_type": "code",
   "execution_count": 2,
   "metadata": {},
   "outputs": [],
   "source": [
    "# TEANAPS (https://github.com/fingeredman/teanaps)\n",
    "#!git clone https://github.com/fingeredman/teanaps.git"
   ]
  },
  {
   "cell_type": "code",
   "execution_count": 3,
   "metadata": {},
   "outputs": [],
   "source": [
    "#!ls"
   ]
  },
  {
   "cell_type": "code",
   "execution_count": 4,
   "metadata": {},
   "outputs": [],
   "source": [
    "# TEANAPS 설치를 진행합니다.\n",
    "# 설치 전 반드시 상단 메뉴에서 [런타임 > 런타임 초기화]를 클릭한 후 진행해주세요.\n",
    "#!python \"teanaps/teanaps_setup.py\""
   ]
  },
  {
   "cell_type": "markdown",
   "metadata": {},
   "source": [
    "## WEEK 08-1. 텍스트 분류 (Text Classification)\n",
    "- Python으로 텍스트 분류를 수행하는 방법에 대해 다룹니다.\n",
    "\n",
    "---"
   ]
  },
  {
   "cell_type": "markdown",
   "metadata": {},
   "source": [
    "### 1. 학습 데이터 준비하기\n",
    "\n",
    "---"
   ]
  },
  {
   "cell_type": "markdown",
   "metadata": {},
   "source": [
    "#### 1.1. TEANAPS 라이브러리 불러오기\n",
    "\n",
    "---"
   ]
  },
  {
   "cell_type": "code",
   "execution_count": 5,
   "metadata": {},
   "outputs": [
    {
     "data": {
      "text/html": [
       "<script>requirejs.config({paths: { 'plotly': ['https://cdn.plot.ly/plotly-latest.min']},});if(!window.Plotly) {{require(['plotly'],function(plotly) {window.Plotly=plotly;});}}</script>"
      ],
      "text/vnd.plotly.v1+html": [
       "<script>requirejs.config({paths: { 'plotly': ['https://cdn.plot.ly/plotly-latest.min']},});if(!window.Plotly) {{require(['plotly'],function(plotly) {window.Plotly=plotly;});}}</script>"
      ]
     },
     "metadata": {},
     "output_type": "display_data"
    },
    {
     "data": {
      "text/html": [
       "<script>requirejs.config({paths: { 'plotly': ['https://cdn.plot.ly/plotly-latest.min']},});if(!window.Plotly) {{require(['plotly'],function(plotly) {window.Plotly=plotly;});}}</script>"
      ],
      "text/vnd.plotly.v1+html": [
       "<script>requirejs.config({paths: { 'plotly': ['https://cdn.plot.ly/plotly-latest.min']},});if(!window.Plotly) {{require(['plotly'],function(plotly) {window.Plotly=plotly;});}}</script>"
      ]
     },
     "metadata": {},
     "output_type": "display_data"
    },
    {
     "data": {
      "text/html": [
       "<script>requirejs.config({paths: { 'plotly': ['https://cdn.plot.ly/plotly-latest.min']},});if(!window.Plotly) {{require(['plotly'],function(plotly) {window.Plotly=plotly;});}}</script>"
      ],
      "text/vnd.plotly.v1+html": [
       "<script>requirejs.config({paths: { 'plotly': ['https://cdn.plot.ly/plotly-latest.min']},});if(!window.Plotly) {{require(['plotly'],function(plotly) {window.Plotly=plotly;});}}</script>"
      ]
     },
     "metadata": {},
     "output_type": "display_data"
    },
    {
     "data": {
      "text/html": [
       "<script>requirejs.config({paths: { 'plotly': ['https://cdn.plot.ly/plotly-latest.min']},});if(!window.Plotly) {{require(['plotly'],function(plotly) {window.Plotly=plotly;});}}</script>"
      ],
      "text/vnd.plotly.v1+html": [
       "<script>requirejs.config({paths: { 'plotly': ['https://cdn.plot.ly/plotly-latest.min']},});if(!window.Plotly) {{require(['plotly'],function(plotly) {window.Plotly=plotly;});}}</script>"
      ]
     },
     "metadata": {},
     "output_type": "display_data"
    },
    {
     "data": {
      "text/html": [
       "<script>requirejs.config({paths: { 'plotly': ['https://cdn.plot.ly/plotly-latest.min']},});if(!window.Plotly) {{require(['plotly'],function(plotly) {window.Plotly=plotly;});}}</script>"
      ],
      "text/vnd.plotly.v1+html": [
       "<script>requirejs.config({paths: { 'plotly': ['https://cdn.plot.ly/plotly-latest.min']},});if(!window.Plotly) {{require(['plotly'],function(plotly) {window.Plotly=plotly;});}}</script>"
      ]
     },
     "metadata": {},
     "output_type": "display_data"
    },
    {
     "data": {
      "text/html": [
       "<script>requirejs.config({paths: { 'plotly': ['https://cdn.plot.ly/plotly-latest.min']},});if(!window.Plotly) {{require(['plotly'],function(plotly) {window.Plotly=plotly;});}}</script>"
      ],
      "text/vnd.plotly.v1+html": [
       "<script>requirejs.config({paths: { 'plotly': ['https://cdn.plot.ly/plotly-latest.min']},});if(!window.Plotly) {{require(['plotly'],function(plotly) {window.Plotly=plotly;});}}</script>"
      ]
     },
     "metadata": {},
     "output_type": "display_data"
    }
   ],
   "source": [
    "from teanaps.nlp import MorphologicalAnalyzer\n",
    "from teanaps.nlp import Processing\n",
    "from teanaps.handler import FileHandler\n",
    "from teanaps.text_analysis import TfidfCalculator\n",
    "\n",
    "ma = MorphologicalAnalyzer()\n",
    "tfidf = TfidfCalculator()\n",
    "processing = Processing()\n",
    "fh = FileHandler()"
   ]
  },
  {
   "cell_type": "markdown",
   "metadata": {},
   "source": [
    "#### 1.2. 데이터 파일 불러오기\n",
    "\n",
    "---"
   ]
  },
  {
   "cell_type": "code",
   "execution_count": 6,
   "metadata": {},
   "outputs": [],
   "source": [
    "data_path = \"data/chat_intent.txt\"\n",
    "data = fh.load_txt(data_path)"
   ]
  },
  {
   "cell_type": "code",
   "execution_count": 7,
   "metadata": {},
   "outputs": [
    {
     "name": "stdout",
     "output_type": "stream",
     "text": [
      "611\n"
     ]
    }
   ],
   "source": [
    "print(len(data))"
   ]
  },
  {
   "cell_type": "code",
   "execution_count": 8,
   "metadata": {},
   "outputs": [
    {
     "data": {
      "text/plain": [
       "[['몇시야', 'date'],\n",
       " ['몇시지', 'date'],\n",
       " ['몇시일까', 'date'],\n",
       " ['몇시게', 'date'],\n",
       " ['시간', 'date']]"
      ]
     },
     "execution_count": 8,
     "metadata": {},
     "output_type": "execute_result"
    }
   ],
   "source": [
    "data[:5]"
   ]
  },
  {
   "cell_type": "markdown",
   "metadata": {},
   "source": [
    "#### 1.3. 데이터 전처리하기\n",
    "\n",
    "---"
   ]
  },
  {
   "cell_type": "code",
   "execution_count": 9,
   "metadata": {},
   "outputs": [
    {
     "name": "stdout",
     "output_type": "stream",
     "text": [
      "611\r"
     ]
    }
   ],
   "source": [
    "intent_id_to_name = {}\n",
    "intent_name_to_id = {}\n",
    "intent_id = -1\n",
    "temp_intent_name = None\n",
    "\n",
    "data_list = []\n",
    "\n",
    "index = 0\n",
    "for query, intent_name in data:\n",
    "    index += 1\n",
    "    print(index, end=\"\\r\")\n",
    "    \n",
    "    # 클래스 이름이 다른경우 클래스 ID(intent_id)를 업데이트\n",
    "    if temp_intent_name != intent_name:\n",
    "        intent_id += 1\n",
    "    temp_intent_name = intent_name\n",
    "    intent_id_to_name[intent_id] = intent_name\n",
    "    intent_name_to_id[intent_name] = intent_id\n",
    "    \n",
    "    # 형태소분석 후 data_list 추가\n",
    "    query_lower = query.lower()\n",
    "    pos_result = ma.parse(query_lower)\n",
    "    data_list.append(processing.get_plain_text(pos_result, tag=False))"
   ]
  },
  {
   "cell_type": "code",
   "execution_count": 10,
   "metadata": {},
   "outputs": [
    {
     "data": {
      "text/plain": [
       "{0: 'date', 1: 'weather', 2: 'restraunt'}"
      ]
     },
     "execution_count": 10,
     "metadata": {},
     "output_type": "execute_result"
    }
   ],
   "source": [
    "intent_id_to_name"
   ]
  },
  {
   "cell_type": "code",
   "execution_count": 11,
   "metadata": {},
   "outputs": [
    {
     "data": {
      "text/plain": [
       "{'date': 0, 'weather': 1, 'restraunt': 2}"
      ]
     },
     "execution_count": 11,
     "metadata": {},
     "output_type": "execute_result"
    }
   ],
   "source": [
    "intent_name_to_id"
   ]
  },
  {
   "cell_type": "code",
   "execution_count": 12,
   "metadata": {},
   "outputs": [
    {
     "data": {
      "text/plain": [
       "['몇 시야',\n",
       " '몇 시지',\n",
       " '몇 시일 까',\n",
       " '몇 시 게',\n",
       " '시간',\n",
       " '몇 시',\n",
       " '시간 알려줘',\n",
       " '지금 몇 시야',\n",
       " '지금 몇 시지',\n",
       " '몇 시인 지 알 아']"
      ]
     },
     "execution_count": 12,
     "metadata": {},
     "output_type": "execute_result"
    }
   ],
   "source": [
    "data_list[:10]"
   ]
  },
  {
   "cell_type": "markdown",
   "metadata": {},
   "source": [
    "#### 1.4. 텍스트 데이터 임베딩: TF-IDF Matrix\n",
    "\n",
    "---"
   ]
  },
  {
   "cell_type": "code",
   "execution_count": 13,
   "metadata": {},
   "outputs": [],
   "source": [
    "from sklearn.model_selection import train_test_split\n",
    "\n",
    "# TF-IDF 계산\n",
    "tfidf.calculation_tfidf(data_list, \n",
    "                        tf_vectorizer_path=\"data/tf_vectorizer\", \n",
    "                        tfidf_vectorizer_path=\"data/tfidf_vectorizer\")\n",
    "tfidf_matrix = tfidf.get_tfidf_matrix().values[:]\n",
    "\n",
    "# 정답 label 불러오기\n",
    "label_list = [intent_name_to_id[intent_name] for _, intent_name in data]\n",
    "\n",
    "# 학습데이터/평가데이터 분리\n",
    "x_train, x_test, y_train, y_test = train_test_split(tfidf_matrix, label_list, test_size=0.20, random_state=None)"
   ]
  },
  {
   "cell_type": "markdown",
   "metadata": {},
   "source": [
    "### 2. 학습하기\n",
    "\n",
    "---"
   ]
  },
  {
   "cell_type": "markdown",
   "metadata": {},
   "source": [
    "#### 2.1. 학습: 랜덤 포레스트 (Random Forest)\n",
    "\n",
    "---"
   ]
  },
  {
   "cell_type": "code",
   "execution_count": 14,
   "metadata": {},
   "outputs": [
    {
     "name": "stdout",
     "output_type": "stream",
     "text": [
      "Accuracy: 0.983739837398374\n"
     ]
    }
   ],
   "source": [
    "from sklearn.ensemble import RandomForestClassifier\n",
    "\n",
    "random_forest = RandomForestClassifier()\n",
    "random_forest.fit(x_train, y_train)         # 학습\n",
    "score = random_forest.score(x_test, y_test) # 평가\n",
    "print(\"Accuracy:\", score)\n",
    "\n",
    "# 학습모델 저장\n",
    "fh.save_data(\"data/rf_model\", random_forest)"
   ]
  },
  {
   "cell_type": "markdown",
   "metadata": {},
   "source": [
    "#### 2.2. 학습: 서포트 벡터 머신 (SVM)\n",
    "\n",
    "---"
   ]
  },
  {
   "cell_type": "code",
   "execution_count": 15,
   "metadata": {},
   "outputs": [
    {
     "name": "stdout",
     "output_type": "stream",
     "text": [
      "Accuracy : 0.991869918699187\n"
     ]
    }
   ],
   "source": [
    "from sklearn.svm import SVC\n",
    "\n",
    "svm_model = SVC(probability=True)\n",
    "svm_model.fit(x_train, y_train)         # 학습\n",
    "score = svm_model.score(x_test, y_test) # 평가\n",
    "print('Accuracy :', score)\n",
    "\n",
    "# 학습모델 저장\n",
    "fh.save_data(\"data/svm_model\", svm_model)"
   ]
  },
  {
   "cell_type": "markdown",
   "metadata": {},
   "source": [
    "### 3. 학습모델 활용하기\n",
    "\n",
    "---"
   ]
  },
  {
   "cell_type": "code",
   "execution_count": 18,
   "metadata": {},
   "outputs": [
    {
     "name": "stdout",
     "output_type": "stream",
     "text": [
      "0 ('date', 0, 0.997967387846658)\n",
      "1 ('weather', 1, 0.0014942971107549188)\n",
      "2 ('restraunt', 2, 0.0005383150425869258)\n"
     ]
    }
   ],
   "source": [
    "query = \"오늘 며칠이지?\"\n",
    "#query = \"근처 맛집 추천해줘\"\n",
    "#query = \"지금 비와?\"\n",
    "\n",
    "query_lower = query.lower()\n",
    "pos_result = ma.parse(query_lower)\n",
    "input_vector = tfidf.get_tfidf_vector(processing.get_plain_text(pos_result, tag=False), \n",
    "                                      tfidf_vectorizer_path=\"data/tfidf_vectorizer\")\n",
    "# 학습모델 불러오기\n",
    "model = fh.load_data(\"data/rf_model\")\n",
    "#model = fh.load_data(\"data/svm_model\")\n",
    "# 분류수행\n",
    "intent_prob_list = model.predict_proba([input_vector]).tolist()[0]\n",
    "\n",
    "intent_list = [(intent_id_to_name[i], i, r) for i, r in enumerate(intent_prob_list)]\n",
    "intent_list.sort(key=lambda elem: elem[2], reverse=True)\n",
    "for intent_no, intent in enumerate(intent_list):\n",
    "    print(intent_no, intent)"
   ]
  },
  {
   "cell_type": "markdown",
   "metadata": {},
   "source": [
    "## WEEK 07-2. 감성분석\n",
    "- Python의 TEANAPS 라이브러리를 활용해 감성분석을 수행하는 방법에 대해 다룹니다.\n",
    "\n",
    "---"
   ]
  },
  {
   "cell_type": "markdown",
   "metadata": {},
   "source": [
    "### 1. 감성분석 수행방법 알아보기: TEANAPS\n",
    "\n",
    "---"
   ]
  },
  {
   "cell_type": "markdown",
   "metadata": {},
   "source": [
    "#### 1.1. TEANAPS 패키지로 감성분석 수행하기\n",
    "\n",
    "---"
   ]
  },
  {
   "cell_type": "code",
   "execution_count": 19,
   "metadata": {},
   "outputs": [],
   "source": [
    "from teanaps.text_analysis import SentimentAnalysis\n",
    "\n",
    "#senti = SentimentAnalysis(model_path=\"/model\", kobert_path=\"/kobert\")\n",
    "senti = SentimentAnalysis()"
   ]
  },
  {
   "cell_type": "code",
   "execution_count": 20,
   "metadata": {},
   "outputs": [
    {
     "name": "stdout",
     "output_type": "stream",
     "text": [
      "((0.0595, 0.9543), 'positive')\n"
     ]
    }
   ],
   "source": [
    "sentence = \"늘 배우고 배푸는 자세가 필요합니다.\"\n",
    "result = senti.tag(sentence, neutral_th=0.3)\n",
    "print(result)"
   ]
  },
  {
   "cell_type": "code",
   "execution_count": 21,
   "metadata": {},
   "outputs": [
    {
     "name": "stdout",
     "output_type": "stream",
     "text": [
      "((0.8715, 0.1076), 'negative')\n"
     ]
    }
   ],
   "source": [
    "sentence = \"과한 욕심은 주변 사람들에게 피해를 줍니다.\"\n",
    "result = senti.tag(sentence, neutral_th=0.3)\n",
    "print(result)"
   ]
  },
  {
   "cell_type": "markdown",
   "metadata": {},
   "source": [
    "#### 1.2. 형태소별 가중치 출력하기\n",
    "\n",
    "---"
   ]
  },
  {
   "cell_type": "code",
   "execution_count": 22,
   "metadata": {},
   "outputs": [
    {
     "name": "stdout",
     "output_type": "stream",
     "text": [
      "[' 늘', ' 배우', '고', ' 배', '푸', '는', ' 자세', '가', ' 필요', '합니다', ' ', '.']\n",
      "[0.072522074, 0.08697342, 0.052703843, 0.051040735, 0.0606895, 0.05134341, 0.05213573, 0.08644837, 0.078125894, 0.079360135, 0, 0.079488374]\n"
     ]
    }
   ],
   "source": [
    "sentence = \"늘 배우고 배푸는 자세가 필요합니다.\"\n",
    "token_list, weight_list = senti.get_weight(sentence)\n",
    "print(token_list)\n",
    "print(weight_list)"
   ]
  },
  {
   "cell_type": "code",
   "execution_count": 23,
   "metadata": {},
   "outputs": [
    {
     "name": "stdout",
     "output_type": "stream",
     "text": [
      "[' ', '과', '한', ' 욕심', '은', ' 주변', ' 사람들', '에게', ' 피해를', ' ', '줍', '니다', ' ', '.']\n",
      "[0, 0.020344315, 0.024879746, 0.02612342, 0.03615231, 0.048542265, 0.06707654, 0.0936653, 0.07649707, 0, 0.08189902, 0.08962273, 0, 0.07841993]\n"
     ]
    }
   ],
   "source": [
    "sentence = \"과한 욕심은 주변 사람들에게 피해를 줍니다.\"\n",
    "token_list, weight_list = senti.get_weight(sentence)\n",
    "print(token_list)\n",
    "print(weight_list)"
   ]
  },
  {
   "cell_type": "markdown",
   "metadata": {},
   "source": [
    "#### 1.3. 형태소별 가중치 시각화하기: 강조표현\n",
    "\n",
    "---"
   ]
  },
  {
   "cell_type": "code",
   "execution_count": 26,
   "metadata": {},
   "outputs": [
    {
     "data": {
      "text/html": [
       "\n",
       "                <script src=\"/static/components/requirejs/require.js\"></script>\n",
       "                <script>\n",
       "                  requirejs.config({\n",
       "                    paths: {\n",
       "                      base: '/static/base',\n",
       "                      plotly: 'https://cdn.plot.ly/plotly-latest.min.js?noext',\n",
       "                    },\n",
       "                  });\n",
       "                </script>\n",
       "                "
      ],
      "text/plain": [
       "<IPython.core.display.HTML object>"
      ]
     },
     "metadata": {},
     "output_type": "display_data"
    },
    {
     "data": {
      "text/html": [
       "\n",
       "                <script src=\"/static/components/requirejs/require.js\"></script>\n",
       "                <script>\n",
       "                  requirejs.config({\n",
       "                    paths: {\n",
       "                      base: '/static/base',\n",
       "                      plotly: 'https://cdn.plot.ly/plotly-latest.min.js?noext',\n",
       "                    },\n",
       "                  });\n",
       "                </script>\n",
       "                "
      ],
      "text/plain": [
       "<IPython.core.display.HTML object>"
      ]
     },
     "metadata": {},
     "output_type": "display_data"
    },
    {
     "data": {
      "application/vnd.plotly.v1+json": {
       "data": [
        {
         "hoverinfo": "text",
         "marker": {
          "color": "rgb(139.04726964158257, 197.0236348207913, 255)"
         },
         "orientation": "h",
         "text": "0.58",
         "type": "bar",
         "width": 0.5,
         "x": [
          2
         ],
         "xaxis": "x1",
         "y": [
          1
         ],
         "yaxis": "y1"
        },
        {
         "hoverinfo": "text",
         "marker": {
          "color": "rgb(55.0, 155.0, 255)"
         },
         "orientation": "h",
         "text": "1.0",
         "type": "bar",
         "width": 0.5,
         "x": [
          3
         ],
         "xaxis": "x1",
         "y": [
          1
         ],
         "yaxis": "y1"
        },
        {
         "hoverinfo": "text",
         "marker": {
          "color": "rgb(210.49619209832574, 232.74809604916285, 255)"
         },
         "orientation": "h",
         "text": "0.22",
         "type": "bar",
         "width": 0.5,
         "x": [
          1
         ],
         "xaxis": "x1",
         "y": [
          1
         ],
         "yaxis": "y1"
        },
        {
         "hoverinfo": "text",
         "marker": {
          "color": "rgb(214.577693156331, 234.7888465781655, 255)"
         },
         "orientation": "h",
         "text": "0.2",
         "type": "bar",
         "width": 0.5,
         "x": [
          2
         ],
         "xaxis": "x1",
         "y": [
          1
         ],
         "yaxis": "y1"
        },
        {
         "hoverinfo": "text",
         "marker": {
          "color": "rgb(187.04662322170168, 221.02331161085084, 255)"
         },
         "orientation": "h",
         "text": "0.34",
         "type": "bar",
         "width": 0.5,
         "x": [
          1
         ],
         "xaxis": "x1",
         "y": [
          1
         ],
         "yaxis": "y1"
        },
        {
         "hoverinfo": "text",
         "marker": {
          "color": "rgb(213.85429660477277, 234.4271483023864, 255)"
         },
         "orientation": "h",
         "text": "0.21",
         "type": "bar",
         "width": 0.5,
         "x": [
          1
         ],
         "xaxis": "x1",
         "y": [
          1
         ],
         "yaxis": "y1"
        },
        {
         "hoverinfo": "text",
         "marker": {
          "color": "rgb(211.91990354478594, 233.45995177239297, 255)"
         },
         "orientation": "h",
         "text": "0.22",
         "type": "bar",
         "width": 0.5,
         "x": [
          3
         ],
         "xaxis": "x1",
         "y": [
          1
         ],
         "yaxis": "y1"
        },
        {
         "hoverinfo": "text",
         "marker": {
          "color": "rgb(58.60031763003235, 156.80015881501618, 255)"
         },
         "orientation": "h",
         "text": "0.98",
         "type": "bar",
         "width": 0.5,
         "x": [
          1
         ],
         "xaxis": "x1",
         "y": [
          1
         ],
         "yaxis": "y1"
        },
        {
         "hoverinfo": "text",
         "marker": {
          "color": "rgb(110.03761215544961, 182.5188060777248, 255)"
         },
         "orientation": "h",
         "text": "0.72",
         "type": "bar",
         "width": 0.5,
         "x": [
          3
         ],
         "xaxis": "x1",
         "y": [
          1
         ],
         "yaxis": "y1"
        },
        {
         "hoverinfo": "text",
         "marker": {
          "color": "rgb(103.05810974368927, 179.02905487184464, 255)"
         },
         "orientation": "h",
         "text": "0.76",
         "type": "bar",
         "width": 0.5,
         "x": [
          3
         ],
         "xaxis": "x1",
         "y": [
          1
         ],
         "yaxis": "y1"
        },
        {
         "hoverinfo": "text",
         "marker": {
          "color": "rgb(255, 255.0, 255.0)"
         },
         "orientation": "h",
         "text": "",
         "type": "bar",
         "width": 0.5,
         "x": [
          1
         ],
         "xaxis": "x1",
         "y": [
          1
         ],
         "yaxis": "y1"
        },
        {
         "hoverinfo": "text",
         "marker": {
          "color": "rgb(102.32034239347578, 178.6601711967379, 255)"
         },
         "orientation": "h",
         "text": "0.76",
         "type": "bar",
         "width": 0.5,
         "x": [
          1
         ],
         "xaxis": "x1",
         "y": [
          1
         ],
         "yaxis": "y1"
        },
        {
         "hoverinfo": "text",
         "marker": {
          "color": "rgb(255, 255, 255)"
         },
         "orientation": "h",
         "text": "",
         "type": "bar",
         "width": 0.5,
         "x": [
          1
         ],
         "xaxis": "x1",
         "y": [
          1
         ],
         "yaxis": "y1"
        },
        {
         "hoverinfo": "text",
         "marker": {
          "color": "rgb(255, 255, 255)"
         },
         "orientation": "h",
         "text": "",
         "type": "bar",
         "width": 0.5,
         "x": [
          1
         ],
         "xaxis": "x1",
         "y": [
          1
         ],
         "yaxis": "y1"
        },
        {
         "hoverinfo": "text",
         "marker": {
          "color": "rgb(255, 255, 255)"
         },
         "orientation": "h",
         "text": "",
         "type": "bar",
         "width": 0.5,
         "x": [
          1
         ],
         "xaxis": "x1",
         "y": [
          1
         ],
         "yaxis": "y1"
        },
        {
         "hoverinfo": "text",
         "marker": {
          "color": "rgb(255, 255, 255)"
         },
         "orientation": "h",
         "text": "",
         "type": "bar",
         "width": 0.5,
         "x": [
          1
         ],
         "xaxis": "x1",
         "y": [
          1
         ],
         "yaxis": "y1"
        },
        {
         "hoverinfo": "text",
         "marker": {
          "color": "rgb(255, 255, 255)"
         },
         "orientation": "h",
         "text": "",
         "type": "bar",
         "width": 0.5,
         "x": [
          1
         ],
         "xaxis": "x1",
         "y": [
          1
         ],
         "yaxis": "y1"
        },
        {
         "hoverinfo": "text",
         "marker": {
          "color": "rgb(255, 255, 255)"
         },
         "orientation": "h",
         "text": "",
         "type": "bar",
         "width": 0.5,
         "x": [
          1
         ],
         "xaxis": "x1",
         "y": [
          1
         ],
         "yaxis": "y1"
        },
        {
         "hoverinfo": "text",
         "marker": {
          "color": "rgb(255, 255, 255)"
         },
         "orientation": "h",
         "text": "",
         "type": "bar",
         "width": 0.5,
         "x": [
          1
         ],
         "xaxis": "x1",
         "y": [
          1
         ],
         "yaxis": "y1"
        },
        {
         "hoverinfo": "text",
         "marker": {
          "color": "rgb(255, 255, 255)"
         },
         "orientation": "h",
         "text": "",
         "type": "bar",
         "width": 0.5,
         "x": [
          1
         ],
         "xaxis": "x1",
         "y": [
          1
         ],
         "yaxis": "y1"
        },
        {
         "hoverinfo": "text",
         "marker": {
          "color": "rgb(255, 255, 255)"
         },
         "orientation": "h",
         "text": "",
         "type": "bar",
         "width": 0.5,
         "x": [
          1
         ],
         "xaxis": "x1",
         "y": [
          1
         ],
         "yaxis": "y1"
        },
        {
         "hoverinfo": "text",
         "marker": {
          "color": "rgb(255, 255, 255)"
         },
         "orientation": "h",
         "text": "",
         "type": "bar",
         "width": 0.5,
         "x": [
          1
         ],
         "xaxis": "x1",
         "y": [
          1
         ],
         "yaxis": "y1"
        },
        {
         "hoverinfo": "text",
         "marker": {
          "color": "rgb(255, 255, 255)"
         },
         "orientation": "h",
         "text": "",
         "type": "bar",
         "width": 0.5,
         "x": [
          1
         ],
         "xaxis": "x1",
         "y": [
          1
         ],
         "yaxis": "y1"
        },
        {
         "hoverinfo": "text",
         "marker": {
          "color": "rgb(255, 255, 255)"
         },
         "orientation": "h",
         "text": "",
         "type": "bar",
         "width": 0.5,
         "x": [
          1
         ],
         "xaxis": "x1",
         "y": [
          1
         ],
         "yaxis": "y1"
        },
        {
         "hoverinfo": "text",
         "marker": {
          "color": "rgb(255, 255, 255)"
         },
         "orientation": "h",
         "text": "",
         "type": "bar",
         "width": 0.5,
         "x": [
          1
         ],
         "xaxis": "x1",
         "y": [
          1
         ],
         "yaxis": "y1"
        },
        {
         "hoverinfo": "text",
         "marker": {
          "color": "rgb(255, 255, 255)"
         },
         "orientation": "h",
         "text": "",
         "type": "bar",
         "width": 0.5,
         "x": [
          1
         ],
         "xaxis": "x1",
         "y": [
          1
         ],
         "yaxis": "y1"
        },
        {
         "hoverinfo": "text",
         "marker": {
          "color": "rgb(255, 255, 255)"
         },
         "orientation": "h",
         "text": "",
         "type": "bar",
         "width": 0.5,
         "x": [
          1
         ],
         "xaxis": "x1",
         "y": [
          1
         ],
         "yaxis": "y1"
        },
        {
         "hoverinfo": "text",
         "marker": {
          "color": "rgb(255, 255, 255)"
         },
         "orientation": "h",
         "text": "",
         "type": "bar",
         "width": 0.5,
         "x": [
          1
         ],
         "xaxis": "x1",
         "y": [
          1
         ],
         "yaxis": "y1"
        },
        {
         "hoverinfo": "text",
         "marker": {
          "color": "rgb(255, 255, 255)"
         },
         "orientation": "h",
         "text": "",
         "type": "bar",
         "width": 0.5,
         "x": [
          1
         ],
         "xaxis": "x1",
         "y": [
          1
         ],
         "yaxis": "y1"
        },
        {
         "hoverinfo": "text",
         "marker": {
          "color": "rgb(255, 255, 255)"
         },
         "orientation": "h",
         "text": "",
         "type": "bar",
         "width": 0.5,
         "x": [
          1
         ],
         "xaxis": "x1",
         "y": [
          1
         ],
         "yaxis": "y1"
        },
        {
         "hoverinfo": "text",
         "marker": {
          "color": "rgb(255, 255, 255)"
         },
         "orientation": "h",
         "text": "",
         "type": "bar",
         "width": 0.5,
         "x": [
          1
         ],
         "xaxis": "x1",
         "y": [
          1
         ],
         "yaxis": "y1"
        },
        {
         "hoverinfo": "text",
         "marker": {
          "color": "rgb(255, 255, 255)"
         },
         "orientation": "h",
         "text": "",
         "type": "bar",
         "width": 0.5,
         "x": [
          1
         ],
         "xaxis": "x1",
         "y": [
          1
         ],
         "yaxis": "y1"
        },
        {
         "hoverinfo": "text",
         "marker": {
          "color": "rgb(255, 255, 255)"
         },
         "orientation": "h",
         "text": "",
         "type": "bar",
         "width": 0.5,
         "x": [
          1
         ],
         "xaxis": "x1",
         "y": [
          1
         ],
         "yaxis": "y1"
        },
        {
         "hoverinfo": "text",
         "marker": {
          "color": "rgb(255, 255, 255)"
         },
         "orientation": "h",
         "text": "",
         "type": "bar",
         "width": 0.5,
         "x": [
          1
         ],
         "xaxis": "x1",
         "y": [
          1
         ],
         "yaxis": "y1"
        },
        {
         "hoverinfo": "text",
         "marker": {
          "color": "rgb(255, 255, 255)"
         },
         "orientation": "h",
         "text": "",
         "type": "bar",
         "width": 0.5,
         "x": [
          1
         ],
         "xaxis": "x1",
         "y": [
          1
         ],
         "yaxis": "y1"
        },
        {
         "hoverinfo": "text",
         "marker": {
          "color": "rgb(255, 255, 255)"
         },
         "orientation": "h",
         "text": "",
         "type": "bar",
         "width": 0.5,
         "x": [
          1
         ],
         "xaxis": "x1",
         "y": [
          1
         ],
         "yaxis": "y1"
        },
        {
         "hoverinfo": "text",
         "marker": {
          "color": "rgb(255, 255, 255)"
         },
         "orientation": "h",
         "text": "",
         "type": "bar",
         "width": 0.5,
         "x": [
          1
         ],
         "xaxis": "x1",
         "y": [
          1
         ],
         "yaxis": "y1"
        },
        {
         "hoverinfo": "text",
         "marker": {
          "color": "rgb(255, 255, 255)"
         },
         "orientation": "h",
         "text": "",
         "type": "bar",
         "width": 0.5,
         "x": [
          1
         ],
         "xaxis": "x1",
         "y": [
          1
         ],
         "yaxis": "y1"
        },
        {
         "hoverinfo": "text",
         "marker": {
          "color": "rgb(255, 255, 255)"
         },
         "orientation": "h",
         "text": "",
         "type": "bar",
         "width": 0.5,
         "x": [
          1
         ],
         "xaxis": "x1",
         "y": [
          1
         ],
         "yaxis": "y1"
        },
        {
         "hoverinfo": "text",
         "marker": {
          "color": "rgb(255, 255, 255)"
         },
         "orientation": "h",
         "text": "",
         "type": "bar",
         "width": 0.5,
         "x": [
          1
         ],
         "xaxis": "x1",
         "y": [
          1
         ],
         "yaxis": "y1"
        }
       ],
       "layout": {
        "annotations": [
         {
          "align": "left",
          "font": {
           "color": "black",
           "family": "Arial",
           "size": 14
          },
          "showarrow": false,
          "text": " ",
          "x": 0.5,
          "xref": "x1",
          "y": 1,
          "yref": "y1"
         },
         {
          "align": "left",
          "font": {
           "color": "black",
           "family": "Arial",
           "size": 14
          },
          "showarrow": false,
          "text": "늘",
          "x": 1.5,
          "xref": "x1",
          "y": 1,
          "yref": "y1"
         },
         {
          "align": "left",
          "font": {
           "color": "black",
           "family": "Arial",
           "size": 14
          },
          "showarrow": false,
          "text": " ",
          "x": 2.5,
          "xref": "x1",
          "y": 1,
          "yref": "y1"
         },
         {
          "align": "left",
          "font": {
           "color": "black",
           "family": "Arial",
           "size": 14
          },
          "showarrow": false,
          "text": "배",
          "x": 3.5,
          "xref": "x1",
          "y": 1,
          "yref": "y1"
         },
         {
          "align": "left",
          "font": {
           "color": "black",
           "family": "Arial",
           "size": 14
          },
          "showarrow": false,
          "text": "우",
          "x": 4.5,
          "xref": "x1",
          "y": 1,
          "yref": "y1"
         },
         {
          "align": "left",
          "font": {
           "color": "black",
           "family": "Arial",
           "size": 14
          },
          "showarrow": false,
          "text": "고",
          "x": 5.5,
          "xref": "x1",
          "y": 1,
          "yref": "y1"
         },
         {
          "align": "left",
          "font": {
           "color": "black",
           "family": "Arial",
           "size": 14
          },
          "showarrow": false,
          "text": " ",
          "x": 6.5,
          "xref": "x1",
          "y": 1,
          "yref": "y1"
         },
         {
          "align": "left",
          "font": {
           "color": "black",
           "family": "Arial",
           "size": 14
          },
          "showarrow": false,
          "text": "배",
          "x": 7.5,
          "xref": "x1",
          "y": 1,
          "yref": "y1"
         },
         {
          "align": "left",
          "font": {
           "color": "black",
           "family": "Arial",
           "size": 14
          },
          "showarrow": false,
          "text": "푸",
          "x": 8.5,
          "xref": "x1",
          "y": 1,
          "yref": "y1"
         },
         {
          "align": "left",
          "font": {
           "color": "black",
           "family": "Arial",
           "size": 14
          },
          "showarrow": false,
          "text": "는",
          "x": 9.5,
          "xref": "x1",
          "y": 1,
          "yref": "y1"
         },
         {
          "align": "left",
          "font": {
           "color": "black",
           "family": "Arial",
           "size": 14
          },
          "showarrow": false,
          "text": " ",
          "x": 10.5,
          "xref": "x1",
          "y": 1,
          "yref": "y1"
         },
         {
          "align": "left",
          "font": {
           "color": "black",
           "family": "Arial",
           "size": 14
          },
          "showarrow": false,
          "text": "자",
          "x": 11.5,
          "xref": "x1",
          "y": 1,
          "yref": "y1"
         },
         {
          "align": "left",
          "font": {
           "color": "black",
           "family": "Arial",
           "size": 14
          },
          "showarrow": false,
          "text": "세",
          "x": 12.5,
          "xref": "x1",
          "y": 1,
          "yref": "y1"
         },
         {
          "align": "left",
          "font": {
           "color": "black",
           "family": "Arial",
           "size": 14
          },
          "showarrow": false,
          "text": "가",
          "x": 13.5,
          "xref": "x1",
          "y": 1,
          "yref": "y1"
         },
         {
          "align": "left",
          "font": {
           "color": "black",
           "family": "Arial",
           "size": 14
          },
          "showarrow": false,
          "text": " ",
          "x": 14.5,
          "xref": "x1",
          "y": 1,
          "yref": "y1"
         },
         {
          "align": "left",
          "font": {
           "color": "black",
           "family": "Arial",
           "size": 14
          },
          "showarrow": false,
          "text": "필",
          "x": 15.5,
          "xref": "x1",
          "y": 1,
          "yref": "y1"
         },
         {
          "align": "left",
          "font": {
           "color": "black",
           "family": "Arial",
           "size": 14
          },
          "showarrow": false,
          "text": "요",
          "x": 16.5,
          "xref": "x1",
          "y": 1,
          "yref": "y1"
         },
         {
          "align": "left",
          "font": {
           "color": "black",
           "family": "Arial",
           "size": 14
          },
          "showarrow": false,
          "text": "합",
          "x": 17.5,
          "xref": "x1",
          "y": 1,
          "yref": "y1"
         },
         {
          "align": "left",
          "font": {
           "color": "black",
           "family": "Arial",
           "size": 14
          },
          "showarrow": false,
          "text": "니",
          "x": 18.5,
          "xref": "x1",
          "y": 1,
          "yref": "y1"
         },
         {
          "align": "left",
          "font": {
           "color": "black",
           "family": "Arial",
           "size": 14
          },
          "showarrow": false,
          "text": "다",
          "x": 19.5,
          "xref": "x1",
          "y": 1,
          "yref": "y1"
         },
         {
          "align": "left",
          "font": {
           "color": "black",
           "family": "Arial",
           "size": 14
          },
          "showarrow": false,
          "text": " ",
          "x": 20.5,
          "xref": "x1",
          "y": 1,
          "yref": "y1"
         },
         {
          "align": "left",
          "font": {
           "color": "black",
           "family": "Arial",
           "size": 14
          },
          "showarrow": false,
          "text": ".",
          "x": 21.5,
          "xref": "x1",
          "y": 1,
          "yref": "y1"
         }
        ],
        "barmode": "stack",
        "height": 80,
        "images": [
         {
          "layer": "above",
          "opacity": 0.3,
          "sizex": 0.7,
          "sizey": 0.7,
          "source": "https://raw.githubusercontent.com/fingeredman/teanaps/master/data/logo/teanaps_logo_no-bg.png",
          "x": 0.5,
          "xanchor": "center",
          "xref": "paper",
          "y": 0.6,
          "yanchor": "center",
          "yref": "paper"
         }
        ],
        "margin": {
         "b": 30,
         "l": 20,
         "r": 20,
         "t": 10
        },
        "showlegend": false,
        "xaxis1": {
         "anchor": "y1",
         "domain": [
          0,
          1
         ],
         "showgrid": false,
         "showline": false,
         "showticklabels": false,
         "zeroline": false
        },
        "yaxis1": {
         "anchor": "x1",
         "domain": [
          0,
          1
         ],
         "showgrid": false,
         "showline": false,
         "showticklabels": false,
         "zeroline": false
        }
       }
      },
      "text/html": [
       "<div id=\"22d3d5de-7357-4d53-b974-52fc30a43ea8\" style=\"height: 80px; width: 100%;\" class=\"plotly-graph-div\"></div><script type=\"text/javascript\">require([\"plotly\"], function(Plotly) { window.PLOTLYENV=window.PLOTLYENV || {};window.PLOTLYENV.BASE_URL=\"https://plot.ly\";Plotly.newPlot(\"22d3d5de-7357-4d53-b974-52fc30a43ea8\", [{\"type\": \"bar\", \"y\": [1], \"x\": [2], \"orientation\": \"h\", \"width\": 0.5, \"text\": \"0.58\", \"hoverinfo\": \"text\", \"marker\": {\"color\": \"rgb(139.04726964158257, 197.0236348207913, 255)\"}, \"xaxis\": \"x1\", \"yaxis\": \"y1\"}, {\"type\": \"bar\", \"y\": [1], \"x\": [3], \"orientation\": \"h\", \"width\": 0.5, \"text\": \"1.0\", \"hoverinfo\": \"text\", \"marker\": {\"color\": \"rgb(55.0, 155.0, 255)\"}, \"xaxis\": \"x1\", \"yaxis\": \"y1\"}, {\"type\": \"bar\", \"y\": [1], \"x\": [1], \"orientation\": \"h\", \"width\": 0.5, \"text\": \"0.22\", \"hoverinfo\": \"text\", \"marker\": {\"color\": \"rgb(210.49619209832574, 232.74809604916285, 255)\"}, \"xaxis\": \"x1\", \"yaxis\": \"y1\"}, {\"type\": \"bar\", \"y\": [1], \"x\": [2], \"orientation\": \"h\", \"width\": 0.5, \"text\": \"0.2\", \"hoverinfo\": \"text\", \"marker\": {\"color\": \"rgb(214.577693156331, 234.7888465781655, 255)\"}, \"xaxis\": \"x1\", \"yaxis\": \"y1\"}, {\"type\": \"bar\", \"y\": [1], \"x\": [1], \"orientation\": \"h\", \"width\": 0.5, \"text\": \"0.34\", \"hoverinfo\": \"text\", \"marker\": {\"color\": \"rgb(187.04662322170168, 221.02331161085084, 255)\"}, \"xaxis\": \"x1\", \"yaxis\": \"y1\"}, {\"type\": \"bar\", \"y\": [1], \"x\": [1], \"orientation\": \"h\", \"width\": 0.5, \"text\": \"0.21\", \"hoverinfo\": \"text\", \"marker\": {\"color\": \"rgb(213.85429660477277, 234.4271483023864, 255)\"}, \"xaxis\": \"x1\", \"yaxis\": \"y1\"}, {\"type\": \"bar\", \"y\": [1], \"x\": [3], \"orientation\": \"h\", \"width\": 0.5, \"text\": \"0.22\", \"hoverinfo\": \"text\", \"marker\": {\"color\": \"rgb(211.91990354478594, 233.45995177239297, 255)\"}, \"xaxis\": \"x1\", \"yaxis\": \"y1\"}, {\"type\": \"bar\", \"y\": [1], \"x\": [1], \"orientation\": \"h\", \"width\": 0.5, \"text\": \"0.98\", \"hoverinfo\": \"text\", \"marker\": {\"color\": \"rgb(58.60031763003235, 156.80015881501618, 255)\"}, \"xaxis\": \"x1\", \"yaxis\": \"y1\"}, {\"type\": \"bar\", \"y\": [1], \"x\": [3], \"orientation\": \"h\", \"width\": 0.5, \"text\": \"0.72\", \"hoverinfo\": \"text\", \"marker\": {\"color\": \"rgb(110.03761215544961, 182.5188060777248, 255)\"}, \"xaxis\": \"x1\", \"yaxis\": \"y1\"}, {\"type\": \"bar\", \"y\": [1], \"x\": [3], \"orientation\": \"h\", \"width\": 0.5, \"text\": \"0.76\", \"hoverinfo\": \"text\", \"marker\": {\"color\": \"rgb(103.05810974368927, 179.02905487184464, 255)\"}, \"xaxis\": \"x1\", \"yaxis\": \"y1\"}, {\"type\": \"bar\", \"y\": [1], \"x\": [1], \"orientation\": \"h\", \"width\": 0.5, \"text\": \"\", \"hoverinfo\": \"text\", \"marker\": {\"color\": \"rgb(255, 255.0, 255.0)\"}, \"xaxis\": \"x1\", \"yaxis\": \"y1\"}, {\"type\": \"bar\", \"y\": [1], \"x\": [1], \"orientation\": \"h\", \"width\": 0.5, \"text\": \"0.76\", \"hoverinfo\": \"text\", \"marker\": {\"color\": \"rgb(102.32034239347578, 178.6601711967379, 255)\"}, \"xaxis\": \"x1\", \"yaxis\": \"y1\"}, {\"type\": \"bar\", \"y\": [1], \"x\": [1], \"orientation\": \"h\", \"width\": 0.5, \"text\": \"\", \"hoverinfo\": \"text\", \"marker\": {\"color\": \"rgb(255, 255, 255)\"}, \"xaxis\": \"x1\", \"yaxis\": \"y1\"}, {\"type\": \"bar\", \"y\": [1], \"x\": [1], \"orientation\": \"h\", \"width\": 0.5, \"text\": \"\", \"hoverinfo\": \"text\", \"marker\": {\"color\": \"rgb(255, 255, 255)\"}, \"xaxis\": \"x1\", \"yaxis\": \"y1\"}, {\"type\": \"bar\", \"y\": [1], \"x\": [1], \"orientation\": \"h\", \"width\": 0.5, \"text\": \"\", \"hoverinfo\": \"text\", \"marker\": {\"color\": \"rgb(255, 255, 255)\"}, \"xaxis\": \"x1\", \"yaxis\": \"y1\"}, {\"type\": \"bar\", \"y\": [1], \"x\": [1], \"orientation\": \"h\", \"width\": 0.5, \"text\": \"\", \"hoverinfo\": \"text\", \"marker\": {\"color\": \"rgb(255, 255, 255)\"}, \"xaxis\": \"x1\", \"yaxis\": \"y1\"}, {\"type\": \"bar\", \"y\": [1], \"x\": [1], \"orientation\": \"h\", \"width\": 0.5, \"text\": \"\", \"hoverinfo\": \"text\", \"marker\": {\"color\": \"rgb(255, 255, 255)\"}, \"xaxis\": \"x1\", \"yaxis\": \"y1\"}, {\"type\": \"bar\", \"y\": [1], \"x\": [1], \"orientation\": \"h\", \"width\": 0.5, \"text\": \"\", \"hoverinfo\": \"text\", \"marker\": {\"color\": \"rgb(255, 255, 255)\"}, \"xaxis\": \"x1\", \"yaxis\": \"y1\"}, {\"type\": \"bar\", \"y\": [1], \"x\": [1], \"orientation\": \"h\", \"width\": 0.5, \"text\": \"\", \"hoverinfo\": \"text\", \"marker\": {\"color\": \"rgb(255, 255, 255)\"}, \"xaxis\": \"x1\", \"yaxis\": \"y1\"}, {\"type\": \"bar\", \"y\": [1], \"x\": [1], \"orientation\": \"h\", \"width\": 0.5, \"text\": \"\", \"hoverinfo\": \"text\", \"marker\": {\"color\": \"rgb(255, 255, 255)\"}, \"xaxis\": \"x1\", \"yaxis\": \"y1\"}, {\"type\": \"bar\", \"y\": [1], \"x\": [1], \"orientation\": \"h\", \"width\": 0.5, \"text\": \"\", \"hoverinfo\": \"text\", \"marker\": {\"color\": \"rgb(255, 255, 255)\"}, \"xaxis\": \"x1\", \"yaxis\": \"y1\"}, {\"type\": \"bar\", \"y\": [1], \"x\": [1], \"orientation\": \"h\", \"width\": 0.5, \"text\": \"\", \"hoverinfo\": \"text\", \"marker\": {\"color\": \"rgb(255, 255, 255)\"}, \"xaxis\": \"x1\", \"yaxis\": \"y1\"}, {\"type\": \"bar\", \"y\": [1], \"x\": [1], \"orientation\": \"h\", \"width\": 0.5, \"text\": \"\", \"hoverinfo\": \"text\", \"marker\": {\"color\": \"rgb(255, 255, 255)\"}, \"xaxis\": \"x1\", \"yaxis\": \"y1\"}, {\"type\": \"bar\", \"y\": [1], \"x\": [1], \"orientation\": \"h\", \"width\": 0.5, \"text\": \"\", \"hoverinfo\": \"text\", \"marker\": {\"color\": \"rgb(255, 255, 255)\"}, \"xaxis\": \"x1\", \"yaxis\": \"y1\"}, {\"type\": \"bar\", \"y\": [1], \"x\": [1], \"orientation\": \"h\", \"width\": 0.5, \"text\": \"\", \"hoverinfo\": \"text\", \"marker\": {\"color\": \"rgb(255, 255, 255)\"}, \"xaxis\": \"x1\", \"yaxis\": \"y1\"}, {\"type\": \"bar\", \"y\": [1], \"x\": [1], \"orientation\": \"h\", \"width\": 0.5, \"text\": \"\", \"hoverinfo\": \"text\", \"marker\": {\"color\": \"rgb(255, 255, 255)\"}, \"xaxis\": \"x1\", \"yaxis\": \"y1\"}, {\"type\": \"bar\", \"y\": [1], \"x\": [1], \"orientation\": \"h\", \"width\": 0.5, \"text\": \"\", \"hoverinfo\": \"text\", \"marker\": {\"color\": \"rgb(255, 255, 255)\"}, \"xaxis\": \"x1\", \"yaxis\": \"y1\"}, {\"type\": \"bar\", \"y\": [1], \"x\": [1], \"orientation\": \"h\", \"width\": 0.5, \"text\": \"\", \"hoverinfo\": \"text\", \"marker\": {\"color\": \"rgb(255, 255, 255)\"}, \"xaxis\": \"x1\", \"yaxis\": \"y1\"}, {\"type\": \"bar\", \"y\": [1], \"x\": [1], \"orientation\": \"h\", \"width\": 0.5, \"text\": \"\", \"hoverinfo\": \"text\", \"marker\": {\"color\": \"rgb(255, 255, 255)\"}, \"xaxis\": \"x1\", \"yaxis\": \"y1\"}, {\"type\": \"bar\", \"y\": [1], \"x\": [1], \"orientation\": \"h\", \"width\": 0.5, \"text\": \"\", \"hoverinfo\": \"text\", \"marker\": {\"color\": \"rgb(255, 255, 255)\"}, \"xaxis\": \"x1\", \"yaxis\": \"y1\"}, {\"type\": \"bar\", \"y\": [1], \"x\": [1], \"orientation\": \"h\", \"width\": 0.5, \"text\": \"\", \"hoverinfo\": \"text\", \"marker\": {\"color\": \"rgb(255, 255, 255)\"}, \"xaxis\": \"x1\", \"yaxis\": \"y1\"}, {\"type\": \"bar\", \"y\": [1], \"x\": [1], \"orientation\": \"h\", \"width\": 0.5, \"text\": \"\", \"hoverinfo\": \"text\", \"marker\": {\"color\": \"rgb(255, 255, 255)\"}, \"xaxis\": \"x1\", \"yaxis\": \"y1\"}, {\"type\": \"bar\", \"y\": [1], \"x\": [1], \"orientation\": \"h\", \"width\": 0.5, \"text\": \"\", \"hoverinfo\": \"text\", \"marker\": {\"color\": \"rgb(255, 255, 255)\"}, \"xaxis\": \"x1\", \"yaxis\": \"y1\"}, {\"type\": \"bar\", \"y\": [1], \"x\": [1], \"orientation\": \"h\", \"width\": 0.5, \"text\": \"\", \"hoverinfo\": \"text\", \"marker\": {\"color\": \"rgb(255, 255, 255)\"}, \"xaxis\": \"x1\", \"yaxis\": \"y1\"}, {\"type\": \"bar\", \"y\": [1], \"x\": [1], \"orientation\": \"h\", \"width\": 0.5, \"text\": \"\", \"hoverinfo\": \"text\", \"marker\": {\"color\": \"rgb(255, 255, 255)\"}, \"xaxis\": \"x1\", \"yaxis\": \"y1\"}, {\"type\": \"bar\", \"y\": [1], \"x\": [1], \"orientation\": \"h\", \"width\": 0.5, \"text\": \"\", \"hoverinfo\": \"text\", \"marker\": {\"color\": \"rgb(255, 255, 255)\"}, \"xaxis\": \"x1\", \"yaxis\": \"y1\"}, {\"type\": \"bar\", \"y\": [1], \"x\": [1], \"orientation\": \"h\", \"width\": 0.5, \"text\": \"\", \"hoverinfo\": \"text\", \"marker\": {\"color\": \"rgb(255, 255, 255)\"}, \"xaxis\": \"x1\", \"yaxis\": \"y1\"}, {\"type\": \"bar\", \"y\": [1], \"x\": [1], \"orientation\": \"h\", \"width\": 0.5, \"text\": \"\", \"hoverinfo\": \"text\", \"marker\": {\"color\": \"rgb(255, 255, 255)\"}, \"xaxis\": \"x1\", \"yaxis\": \"y1\"}, {\"type\": \"bar\", \"y\": [1], \"x\": [1], \"orientation\": \"h\", \"width\": 0.5, \"text\": \"\", \"hoverinfo\": \"text\", \"marker\": {\"color\": \"rgb(255, 255, 255)\"}, \"xaxis\": \"x1\", \"yaxis\": \"y1\"}, {\"type\": \"bar\", \"y\": [1], \"x\": [1], \"orientation\": \"h\", \"width\": 0.5, \"text\": \"\", \"hoverinfo\": \"text\", \"marker\": {\"color\": \"rgb(255, 255, 255)\"}, \"xaxis\": \"x1\", \"yaxis\": \"y1\"}], {\"xaxis1\": {\"domain\": [0.0, 1.0], \"anchor\": \"y1\", \"showgrid\": false, \"showline\": false, \"showticklabels\": false, \"zeroline\": false}, \"yaxis1\": {\"domain\": [0.0, 1.0], \"anchor\": \"x1\", \"showgrid\": false, \"showline\": false, \"showticklabels\": false, \"zeroline\": false}, \"barmode\": \"stack\", \"showlegend\": false, \"margin\": {\"b\": 30, \"l\": 20, \"r\": 20, \"t\": 10}, \"annotations\": [{\"xref\": \"x1\", \"yref\": \"y1\", \"x\": 0.5, \"y\": 1, \"text\": \" \", \"align\": \"left\", \"font\": {\"family\": \"Arial\", \"size\": 14, \"color\": \"black\"}, \"showarrow\": false}, {\"xref\": \"x1\", \"yref\": \"y1\", \"x\": 1.5, \"y\": 1, \"text\": \"\\ub298\", \"align\": \"left\", \"font\": {\"family\": \"Arial\", \"size\": 14, \"color\": \"black\"}, \"showarrow\": false}, {\"xref\": \"x1\", \"yref\": \"y1\", \"x\": 2.5, \"y\": 1, \"text\": \" \", \"align\": \"left\", \"font\": {\"family\": \"Arial\", \"size\": 14, \"color\": \"black\"}, \"showarrow\": false}, {\"xref\": \"x1\", \"yref\": \"y1\", \"x\": 3.5, \"y\": 1, \"text\": \"\\ubc30\", \"align\": \"left\", \"font\": {\"family\": \"Arial\", \"size\": 14, \"color\": \"black\"}, \"showarrow\": false}, {\"xref\": \"x1\", \"yref\": \"y1\", \"x\": 4.5, \"y\": 1, \"text\": \"\\uc6b0\", \"align\": \"left\", \"font\": {\"family\": \"Arial\", \"size\": 14, \"color\": \"black\"}, \"showarrow\": false}, {\"xref\": \"x1\", \"yref\": \"y1\", \"x\": 5.5, \"y\": 1, \"text\": \"\\uace0\", \"align\": \"left\", \"font\": {\"family\": \"Arial\", \"size\": 14, \"color\": \"black\"}, \"showarrow\": false}, {\"xref\": \"x1\", \"yref\": \"y1\", \"x\": 6.5, \"y\": 1, \"text\": \" \", \"align\": \"left\", \"font\": {\"family\": \"Arial\", \"size\": 14, \"color\": \"black\"}, \"showarrow\": false}, {\"xref\": \"x1\", \"yref\": \"y1\", \"x\": 7.5, \"y\": 1, \"text\": \"\\ubc30\", \"align\": \"left\", \"font\": {\"family\": \"Arial\", \"size\": 14, \"color\": \"black\"}, \"showarrow\": false}, {\"xref\": \"x1\", \"yref\": \"y1\", \"x\": 8.5, \"y\": 1, \"text\": \"\\ud478\", \"align\": \"left\", \"font\": {\"family\": \"Arial\", \"size\": 14, \"color\": \"black\"}, \"showarrow\": false}, {\"xref\": \"x1\", \"yref\": \"y1\", \"x\": 9.5, \"y\": 1, \"text\": \"\\ub294\", \"align\": \"left\", \"font\": {\"family\": \"Arial\", \"size\": 14, \"color\": \"black\"}, \"showarrow\": false}, {\"xref\": \"x1\", \"yref\": \"y1\", \"x\": 10.5, \"y\": 1, \"text\": \" \", \"align\": \"left\", \"font\": {\"family\": \"Arial\", \"size\": 14, \"color\": \"black\"}, \"showarrow\": false}, {\"xref\": \"x1\", \"yref\": \"y1\", \"x\": 11.5, \"y\": 1, \"text\": \"\\uc790\", \"align\": \"left\", \"font\": {\"family\": \"Arial\", \"size\": 14, \"color\": \"black\"}, \"showarrow\": false}, {\"xref\": \"x1\", \"yref\": \"y1\", \"x\": 12.5, \"y\": 1, \"text\": \"\\uc138\", \"align\": \"left\", \"font\": {\"family\": \"Arial\", \"size\": 14, \"color\": \"black\"}, \"showarrow\": false}, {\"xref\": \"x1\", \"yref\": \"y1\", \"x\": 13.5, \"y\": 1, \"text\": \"\\uac00\", \"align\": \"left\", \"font\": {\"family\": \"Arial\", \"size\": 14, \"color\": \"black\"}, \"showarrow\": false}, {\"xref\": \"x1\", \"yref\": \"y1\", \"x\": 14.5, \"y\": 1, \"text\": \" \", \"align\": \"left\", \"font\": {\"family\": \"Arial\", \"size\": 14, \"color\": \"black\"}, \"showarrow\": false}, {\"xref\": \"x1\", \"yref\": \"y1\", \"x\": 15.5, \"y\": 1, \"text\": \"\\ud544\", \"align\": \"left\", \"font\": {\"family\": \"Arial\", \"size\": 14, \"color\": \"black\"}, \"showarrow\": false}, {\"xref\": \"x1\", \"yref\": \"y1\", \"x\": 16.5, \"y\": 1, \"text\": \"\\uc694\", \"align\": \"left\", \"font\": {\"family\": \"Arial\", \"size\": 14, \"color\": \"black\"}, \"showarrow\": false}, {\"xref\": \"x1\", \"yref\": \"y1\", \"x\": 17.5, \"y\": 1, \"text\": \"\\ud569\", \"align\": \"left\", \"font\": {\"family\": \"Arial\", \"size\": 14, \"color\": \"black\"}, \"showarrow\": false}, {\"xref\": \"x1\", \"yref\": \"y1\", \"x\": 18.5, \"y\": 1, \"text\": \"\\ub2c8\", \"align\": \"left\", \"font\": {\"family\": \"Arial\", \"size\": 14, \"color\": \"black\"}, \"showarrow\": false}, {\"xref\": \"x1\", \"yref\": \"y1\", \"x\": 19.5, \"y\": 1, \"text\": \"\\ub2e4\", \"align\": \"left\", \"font\": {\"family\": \"Arial\", \"size\": 14, \"color\": \"black\"}, \"showarrow\": false}, {\"xref\": \"x1\", \"yref\": \"y1\", \"x\": 20.5, \"y\": 1, \"text\": \" \", \"align\": \"left\", \"font\": {\"family\": \"Arial\", \"size\": 14, \"color\": \"black\"}, \"showarrow\": false}, {\"xref\": \"x1\", \"yref\": \"y1\", \"x\": 21.5, \"y\": 1, \"text\": \".\", \"align\": \"left\", \"font\": {\"family\": \"Arial\", \"size\": 14, \"color\": \"black\"}, \"showarrow\": false}], \"height\": 80, \"images\": [{\"source\": \"https://raw.githubusercontent.com/fingeredman/teanaps/master/data/logo/teanaps_logo_no-bg.png\", \"xref\": \"paper\", \"yref\": \"paper\", \"x\": 0.5, \"y\": 0.6, \"sizex\": 0.7, \"sizey\": 0.7, \"xanchor\": \"center\", \"yanchor\": \"center\", \"opacity\": 0.3, \"layer\": \"above\"}]}, {\"showLink\": true, \"linkText\": \"Export to plot.ly\"})});</script>"
      ],
      "text/vnd.plotly.v1+html": [
       "<div id=\"22d3d5de-7357-4d53-b974-52fc30a43ea8\" style=\"height: 80px; width: 100%;\" class=\"plotly-graph-div\"></div><script type=\"text/javascript\">require([\"plotly\"], function(Plotly) { window.PLOTLYENV=window.PLOTLYENV || {};window.PLOTLYENV.BASE_URL=\"https://plot.ly\";Plotly.newPlot(\"22d3d5de-7357-4d53-b974-52fc30a43ea8\", [{\"type\": \"bar\", \"y\": [1], \"x\": [2], \"orientation\": \"h\", \"width\": 0.5, \"text\": \"0.58\", \"hoverinfo\": \"text\", \"marker\": {\"color\": \"rgb(139.04726964158257, 197.0236348207913, 255)\"}, \"xaxis\": \"x1\", \"yaxis\": \"y1\"}, {\"type\": \"bar\", \"y\": [1], \"x\": [3], \"orientation\": \"h\", \"width\": 0.5, \"text\": \"1.0\", \"hoverinfo\": \"text\", \"marker\": {\"color\": \"rgb(55.0, 155.0, 255)\"}, \"xaxis\": \"x1\", \"yaxis\": \"y1\"}, {\"type\": \"bar\", \"y\": [1], \"x\": [1], \"orientation\": \"h\", \"width\": 0.5, \"text\": \"0.22\", \"hoverinfo\": \"text\", \"marker\": {\"color\": \"rgb(210.49619209832574, 232.74809604916285, 255)\"}, \"xaxis\": \"x1\", \"yaxis\": \"y1\"}, {\"type\": \"bar\", \"y\": [1], \"x\": [2], \"orientation\": \"h\", \"width\": 0.5, \"text\": \"0.2\", \"hoverinfo\": \"text\", \"marker\": {\"color\": \"rgb(214.577693156331, 234.7888465781655, 255)\"}, \"xaxis\": \"x1\", \"yaxis\": \"y1\"}, {\"type\": \"bar\", \"y\": [1], \"x\": [1], \"orientation\": \"h\", \"width\": 0.5, \"text\": \"0.34\", \"hoverinfo\": \"text\", \"marker\": {\"color\": \"rgb(187.04662322170168, 221.02331161085084, 255)\"}, \"xaxis\": \"x1\", \"yaxis\": \"y1\"}, {\"type\": \"bar\", \"y\": [1], \"x\": [1], \"orientation\": \"h\", \"width\": 0.5, \"text\": \"0.21\", \"hoverinfo\": \"text\", \"marker\": {\"color\": \"rgb(213.85429660477277, 234.4271483023864, 255)\"}, \"xaxis\": \"x1\", \"yaxis\": \"y1\"}, {\"type\": \"bar\", \"y\": [1], \"x\": [3], \"orientation\": \"h\", \"width\": 0.5, \"text\": \"0.22\", \"hoverinfo\": \"text\", \"marker\": {\"color\": \"rgb(211.91990354478594, 233.45995177239297, 255)\"}, \"xaxis\": \"x1\", \"yaxis\": \"y1\"}, {\"type\": \"bar\", \"y\": [1], \"x\": [1], \"orientation\": \"h\", \"width\": 0.5, \"text\": \"0.98\", \"hoverinfo\": \"text\", \"marker\": {\"color\": \"rgb(58.60031763003235, 156.80015881501618, 255)\"}, \"xaxis\": \"x1\", \"yaxis\": \"y1\"}, {\"type\": \"bar\", \"y\": [1], \"x\": [3], \"orientation\": \"h\", \"width\": 0.5, \"text\": \"0.72\", \"hoverinfo\": \"text\", \"marker\": {\"color\": \"rgb(110.03761215544961, 182.5188060777248, 255)\"}, \"xaxis\": \"x1\", \"yaxis\": \"y1\"}, {\"type\": \"bar\", \"y\": [1], \"x\": [3], \"orientation\": \"h\", \"width\": 0.5, \"text\": \"0.76\", \"hoverinfo\": \"text\", \"marker\": {\"color\": \"rgb(103.05810974368927, 179.02905487184464, 255)\"}, \"xaxis\": \"x1\", \"yaxis\": \"y1\"}, {\"type\": \"bar\", \"y\": [1], \"x\": [1], \"orientation\": \"h\", \"width\": 0.5, \"text\": \"\", \"hoverinfo\": \"text\", \"marker\": {\"color\": \"rgb(255, 255.0, 255.0)\"}, \"xaxis\": \"x1\", \"yaxis\": \"y1\"}, {\"type\": \"bar\", \"y\": [1], \"x\": [1], \"orientation\": \"h\", \"width\": 0.5, \"text\": \"0.76\", \"hoverinfo\": \"text\", \"marker\": {\"color\": \"rgb(102.32034239347578, 178.6601711967379, 255)\"}, \"xaxis\": \"x1\", \"yaxis\": \"y1\"}, {\"type\": \"bar\", \"y\": [1], \"x\": [1], \"orientation\": \"h\", \"width\": 0.5, \"text\": \"\", \"hoverinfo\": \"text\", \"marker\": {\"color\": \"rgb(255, 255, 255)\"}, \"xaxis\": \"x1\", \"yaxis\": \"y1\"}, {\"type\": \"bar\", \"y\": [1], \"x\": [1], \"orientation\": \"h\", \"width\": 0.5, \"text\": \"\", \"hoverinfo\": \"text\", \"marker\": {\"color\": \"rgb(255, 255, 255)\"}, \"xaxis\": \"x1\", \"yaxis\": \"y1\"}, {\"type\": \"bar\", \"y\": [1], \"x\": [1], \"orientation\": \"h\", \"width\": 0.5, \"text\": \"\", \"hoverinfo\": \"text\", \"marker\": {\"color\": \"rgb(255, 255, 255)\"}, \"xaxis\": \"x1\", \"yaxis\": \"y1\"}, {\"type\": \"bar\", \"y\": [1], \"x\": [1], \"orientation\": \"h\", \"width\": 0.5, \"text\": \"\", \"hoverinfo\": \"text\", \"marker\": {\"color\": \"rgb(255, 255, 255)\"}, \"xaxis\": \"x1\", \"yaxis\": \"y1\"}, {\"type\": \"bar\", \"y\": [1], \"x\": [1], \"orientation\": \"h\", \"width\": 0.5, \"text\": \"\", \"hoverinfo\": \"text\", \"marker\": {\"color\": \"rgb(255, 255, 255)\"}, \"xaxis\": \"x1\", \"yaxis\": \"y1\"}, {\"type\": \"bar\", \"y\": [1], \"x\": [1], \"orientation\": \"h\", \"width\": 0.5, \"text\": \"\", \"hoverinfo\": \"text\", \"marker\": {\"color\": \"rgb(255, 255, 255)\"}, \"xaxis\": \"x1\", \"yaxis\": \"y1\"}, {\"type\": \"bar\", \"y\": [1], \"x\": [1], \"orientation\": \"h\", \"width\": 0.5, \"text\": \"\", \"hoverinfo\": \"text\", \"marker\": {\"color\": \"rgb(255, 255, 255)\"}, \"xaxis\": \"x1\", \"yaxis\": \"y1\"}, {\"type\": \"bar\", \"y\": [1], \"x\": [1], \"orientation\": \"h\", \"width\": 0.5, \"text\": \"\", \"hoverinfo\": \"text\", \"marker\": {\"color\": \"rgb(255, 255, 255)\"}, \"xaxis\": \"x1\", \"yaxis\": \"y1\"}, {\"type\": \"bar\", \"y\": [1], \"x\": [1], \"orientation\": \"h\", \"width\": 0.5, \"text\": \"\", \"hoverinfo\": \"text\", \"marker\": {\"color\": \"rgb(255, 255, 255)\"}, \"xaxis\": \"x1\", \"yaxis\": \"y1\"}, {\"type\": \"bar\", \"y\": [1], \"x\": [1], \"orientation\": \"h\", \"width\": 0.5, \"text\": \"\", \"hoverinfo\": \"text\", \"marker\": {\"color\": \"rgb(255, 255, 255)\"}, \"xaxis\": \"x1\", \"yaxis\": \"y1\"}, {\"type\": \"bar\", \"y\": [1], \"x\": [1], \"orientation\": \"h\", \"width\": 0.5, \"text\": \"\", \"hoverinfo\": \"text\", \"marker\": {\"color\": \"rgb(255, 255, 255)\"}, \"xaxis\": \"x1\", \"yaxis\": \"y1\"}, {\"type\": \"bar\", \"y\": [1], \"x\": [1], \"orientation\": \"h\", \"width\": 0.5, \"text\": \"\", \"hoverinfo\": \"text\", \"marker\": {\"color\": \"rgb(255, 255, 255)\"}, \"xaxis\": \"x1\", \"yaxis\": \"y1\"}, {\"type\": \"bar\", \"y\": [1], \"x\": [1], \"orientation\": \"h\", \"width\": 0.5, \"text\": \"\", \"hoverinfo\": \"text\", \"marker\": {\"color\": \"rgb(255, 255, 255)\"}, \"xaxis\": \"x1\", \"yaxis\": \"y1\"}, {\"type\": \"bar\", \"y\": [1], \"x\": [1], \"orientation\": \"h\", \"width\": 0.5, \"text\": \"\", \"hoverinfo\": \"text\", \"marker\": {\"color\": \"rgb(255, 255, 255)\"}, \"xaxis\": \"x1\", \"yaxis\": \"y1\"}, {\"type\": \"bar\", \"y\": [1], \"x\": [1], \"orientation\": \"h\", \"width\": 0.5, \"text\": \"\", \"hoverinfo\": \"text\", \"marker\": {\"color\": \"rgb(255, 255, 255)\"}, \"xaxis\": \"x1\", \"yaxis\": \"y1\"}, {\"type\": \"bar\", \"y\": [1], \"x\": [1], \"orientation\": \"h\", \"width\": 0.5, \"text\": \"\", \"hoverinfo\": \"text\", \"marker\": {\"color\": \"rgb(255, 255, 255)\"}, \"xaxis\": \"x1\", \"yaxis\": \"y1\"}, {\"type\": \"bar\", \"y\": [1], \"x\": [1], \"orientation\": \"h\", \"width\": 0.5, \"text\": \"\", \"hoverinfo\": \"text\", \"marker\": {\"color\": \"rgb(255, 255, 255)\"}, \"xaxis\": \"x1\", \"yaxis\": \"y1\"}, {\"type\": \"bar\", \"y\": [1], \"x\": [1], \"orientation\": \"h\", \"width\": 0.5, \"text\": \"\", \"hoverinfo\": \"text\", \"marker\": {\"color\": \"rgb(255, 255, 255)\"}, \"xaxis\": \"x1\", \"yaxis\": \"y1\"}, {\"type\": \"bar\", \"y\": [1], \"x\": [1], \"orientation\": \"h\", \"width\": 0.5, \"text\": \"\", \"hoverinfo\": \"text\", \"marker\": {\"color\": \"rgb(255, 255, 255)\"}, \"xaxis\": \"x1\", \"yaxis\": \"y1\"}, {\"type\": \"bar\", \"y\": [1], \"x\": [1], \"orientation\": \"h\", \"width\": 0.5, \"text\": \"\", \"hoverinfo\": \"text\", \"marker\": {\"color\": \"rgb(255, 255, 255)\"}, \"xaxis\": \"x1\", \"yaxis\": \"y1\"}, {\"type\": \"bar\", \"y\": [1], \"x\": [1], \"orientation\": \"h\", \"width\": 0.5, \"text\": \"\", \"hoverinfo\": \"text\", \"marker\": {\"color\": \"rgb(255, 255, 255)\"}, \"xaxis\": \"x1\", \"yaxis\": \"y1\"}, {\"type\": \"bar\", \"y\": [1], \"x\": [1], \"orientation\": \"h\", \"width\": 0.5, \"text\": \"\", \"hoverinfo\": \"text\", \"marker\": {\"color\": \"rgb(255, 255, 255)\"}, \"xaxis\": \"x1\", \"yaxis\": \"y1\"}, {\"type\": \"bar\", \"y\": [1], \"x\": [1], \"orientation\": \"h\", \"width\": 0.5, \"text\": \"\", \"hoverinfo\": \"text\", \"marker\": {\"color\": \"rgb(255, 255, 255)\"}, \"xaxis\": \"x1\", \"yaxis\": \"y1\"}, {\"type\": \"bar\", \"y\": [1], \"x\": [1], \"orientation\": \"h\", \"width\": 0.5, \"text\": \"\", \"hoverinfo\": \"text\", \"marker\": {\"color\": \"rgb(255, 255, 255)\"}, \"xaxis\": \"x1\", \"yaxis\": \"y1\"}, {\"type\": \"bar\", \"y\": [1], \"x\": [1], \"orientation\": \"h\", \"width\": 0.5, \"text\": \"\", \"hoverinfo\": \"text\", \"marker\": {\"color\": \"rgb(255, 255, 255)\"}, \"xaxis\": \"x1\", \"yaxis\": \"y1\"}, {\"type\": \"bar\", \"y\": [1], \"x\": [1], \"orientation\": \"h\", \"width\": 0.5, \"text\": \"\", \"hoverinfo\": \"text\", \"marker\": {\"color\": \"rgb(255, 255, 255)\"}, \"xaxis\": \"x1\", \"yaxis\": \"y1\"}, {\"type\": \"bar\", \"y\": [1], \"x\": [1], \"orientation\": \"h\", \"width\": 0.5, \"text\": \"\", \"hoverinfo\": \"text\", \"marker\": {\"color\": \"rgb(255, 255, 255)\"}, \"xaxis\": \"x1\", \"yaxis\": \"y1\"}, {\"type\": \"bar\", \"y\": [1], \"x\": [1], \"orientation\": \"h\", \"width\": 0.5, \"text\": \"\", \"hoverinfo\": \"text\", \"marker\": {\"color\": \"rgb(255, 255, 255)\"}, \"xaxis\": \"x1\", \"yaxis\": \"y1\"}], {\"xaxis1\": {\"domain\": [0.0, 1.0], \"anchor\": \"y1\", \"showgrid\": false, \"showline\": false, \"showticklabels\": false, \"zeroline\": false}, \"yaxis1\": {\"domain\": [0.0, 1.0], \"anchor\": \"x1\", \"showgrid\": false, \"showline\": false, \"showticklabels\": false, \"zeroline\": false}, \"barmode\": \"stack\", \"showlegend\": false, \"margin\": {\"b\": 30, \"l\": 20, \"r\": 20, \"t\": 10}, \"annotations\": [{\"xref\": \"x1\", \"yref\": \"y1\", \"x\": 0.5, \"y\": 1, \"text\": \" \", \"align\": \"left\", \"font\": {\"family\": \"Arial\", \"size\": 14, \"color\": \"black\"}, \"showarrow\": false}, {\"xref\": \"x1\", \"yref\": \"y1\", \"x\": 1.5, \"y\": 1, \"text\": \"\\ub298\", \"align\": \"left\", \"font\": {\"family\": \"Arial\", \"size\": 14, \"color\": \"black\"}, \"showarrow\": false}, {\"xref\": \"x1\", \"yref\": \"y1\", \"x\": 2.5, \"y\": 1, \"text\": \" \", \"align\": \"left\", \"font\": {\"family\": \"Arial\", \"size\": 14, \"color\": \"black\"}, \"showarrow\": false}, {\"xref\": \"x1\", \"yref\": \"y1\", \"x\": 3.5, \"y\": 1, \"text\": \"\\ubc30\", \"align\": \"left\", \"font\": {\"family\": \"Arial\", \"size\": 14, \"color\": \"black\"}, \"showarrow\": false}, {\"xref\": \"x1\", \"yref\": \"y1\", \"x\": 4.5, \"y\": 1, \"text\": \"\\uc6b0\", \"align\": \"left\", \"font\": {\"family\": \"Arial\", \"size\": 14, \"color\": \"black\"}, \"showarrow\": false}, {\"xref\": \"x1\", \"yref\": \"y1\", \"x\": 5.5, \"y\": 1, \"text\": \"\\uace0\", \"align\": \"left\", \"font\": {\"family\": \"Arial\", \"size\": 14, \"color\": \"black\"}, \"showarrow\": false}, {\"xref\": \"x1\", \"yref\": \"y1\", \"x\": 6.5, \"y\": 1, \"text\": \" \", \"align\": \"left\", \"font\": {\"family\": \"Arial\", \"size\": 14, \"color\": \"black\"}, \"showarrow\": false}, {\"xref\": \"x1\", \"yref\": \"y1\", \"x\": 7.5, \"y\": 1, \"text\": \"\\ubc30\", \"align\": \"left\", \"font\": {\"family\": \"Arial\", \"size\": 14, \"color\": \"black\"}, \"showarrow\": false}, {\"xref\": \"x1\", \"yref\": \"y1\", \"x\": 8.5, \"y\": 1, \"text\": \"\\ud478\", \"align\": \"left\", \"font\": {\"family\": \"Arial\", \"size\": 14, \"color\": \"black\"}, \"showarrow\": false}, {\"xref\": \"x1\", \"yref\": \"y1\", \"x\": 9.5, \"y\": 1, \"text\": \"\\ub294\", \"align\": \"left\", \"font\": {\"family\": \"Arial\", \"size\": 14, \"color\": \"black\"}, \"showarrow\": false}, {\"xref\": \"x1\", \"yref\": \"y1\", \"x\": 10.5, \"y\": 1, \"text\": \" \", \"align\": \"left\", \"font\": {\"family\": \"Arial\", \"size\": 14, \"color\": \"black\"}, \"showarrow\": false}, {\"xref\": \"x1\", \"yref\": \"y1\", \"x\": 11.5, \"y\": 1, \"text\": \"\\uc790\", \"align\": \"left\", \"font\": {\"family\": \"Arial\", \"size\": 14, \"color\": \"black\"}, \"showarrow\": false}, {\"xref\": \"x1\", \"yref\": \"y1\", \"x\": 12.5, \"y\": 1, \"text\": \"\\uc138\", \"align\": \"left\", \"font\": {\"family\": \"Arial\", \"size\": 14, \"color\": \"black\"}, \"showarrow\": false}, {\"xref\": \"x1\", \"yref\": \"y1\", \"x\": 13.5, \"y\": 1, \"text\": \"\\uac00\", \"align\": \"left\", \"font\": {\"family\": \"Arial\", \"size\": 14, \"color\": \"black\"}, \"showarrow\": false}, {\"xref\": \"x1\", \"yref\": \"y1\", \"x\": 14.5, \"y\": 1, \"text\": \" \", \"align\": \"left\", \"font\": {\"family\": \"Arial\", \"size\": 14, \"color\": \"black\"}, \"showarrow\": false}, {\"xref\": \"x1\", \"yref\": \"y1\", \"x\": 15.5, \"y\": 1, \"text\": \"\\ud544\", \"align\": \"left\", \"font\": {\"family\": \"Arial\", \"size\": 14, \"color\": \"black\"}, \"showarrow\": false}, {\"xref\": \"x1\", \"yref\": \"y1\", \"x\": 16.5, \"y\": 1, \"text\": \"\\uc694\", \"align\": \"left\", \"font\": {\"family\": \"Arial\", \"size\": 14, \"color\": \"black\"}, \"showarrow\": false}, {\"xref\": \"x1\", \"yref\": \"y1\", \"x\": 17.5, \"y\": 1, \"text\": \"\\ud569\", \"align\": \"left\", \"font\": {\"family\": \"Arial\", \"size\": 14, \"color\": \"black\"}, \"showarrow\": false}, {\"xref\": \"x1\", \"yref\": \"y1\", \"x\": 18.5, \"y\": 1, \"text\": \"\\ub2c8\", \"align\": \"left\", \"font\": {\"family\": \"Arial\", \"size\": 14, \"color\": \"black\"}, \"showarrow\": false}, {\"xref\": \"x1\", \"yref\": \"y1\", \"x\": 19.5, \"y\": 1, \"text\": \"\\ub2e4\", \"align\": \"left\", \"font\": {\"family\": \"Arial\", \"size\": 14, \"color\": \"black\"}, \"showarrow\": false}, {\"xref\": \"x1\", \"yref\": \"y1\", \"x\": 20.5, \"y\": 1, \"text\": \" \", \"align\": \"left\", \"font\": {\"family\": \"Arial\", \"size\": 14, \"color\": \"black\"}, \"showarrow\": false}, {\"xref\": \"x1\", \"yref\": \"y1\", \"x\": 21.5, \"y\": 1, \"text\": \".\", \"align\": \"left\", \"font\": {\"family\": \"Arial\", \"size\": 14, \"color\": \"black\"}, \"showarrow\": false}], \"height\": 80, \"images\": [{\"source\": \"https://raw.githubusercontent.com/fingeredman/teanaps/master/data/logo/teanaps_logo_no-bg.png\", \"xref\": \"paper\", \"yref\": \"paper\", \"x\": 0.5, \"y\": 0.6, \"sizex\": 0.7, \"sizey\": 0.7, \"xanchor\": \"center\", \"yanchor\": \"center\", \"opacity\": 0.3, \"layer\": \"above\"}]}, {\"showLink\": true, \"linkText\": \"Export to plot.ly\"})});</script>"
      ]
     },
     "metadata": {},
     "output_type": "display_data"
    }
   ],
   "source": [
    "sentence = \"늘 배우고 배푸는 자세가 필요합니다.\"\n",
    "senti.draw_sentence_weight(sentence)"
   ]
  },
  {
   "cell_type": "code",
   "execution_count": 27,
   "metadata": {},
   "outputs": [
    {
     "data": {
      "text/html": [
       "\n",
       "                <script src=\"/static/components/requirejs/require.js\"></script>\n",
       "                <script>\n",
       "                  requirejs.config({\n",
       "                    paths: {\n",
       "                      base: '/static/base',\n",
       "                      plotly: 'https://cdn.plot.ly/plotly-latest.min.js?noext',\n",
       "                    },\n",
       "                  });\n",
       "                </script>\n",
       "                "
      ],
      "text/plain": [
       "<IPython.core.display.HTML object>"
      ]
     },
     "metadata": {},
     "output_type": "display_data"
    },
    {
     "data": {
      "text/html": [
       "\n",
       "                <script src=\"/static/components/requirejs/require.js\"></script>\n",
       "                <script>\n",
       "                  requirejs.config({\n",
       "                    paths: {\n",
       "                      base: '/static/base',\n",
       "                      plotly: 'https://cdn.plot.ly/plotly-latest.min.js?noext',\n",
       "                    },\n",
       "                  });\n",
       "                </script>\n",
       "                "
      ],
      "text/plain": [
       "<IPython.core.display.HTML object>"
      ]
     },
     "metadata": {},
     "output_type": "display_data"
    },
    {
     "data": {
      "application/vnd.plotly.v1+json": {
       "data": [
        {
         "hoverinfo": "text",
         "marker": {
          "color": "rgb(255, 255.0, 255.0)"
         },
         "orientation": "h",
         "text": "",
         "type": "bar",
         "width": 0.5,
         "x": [
          1
         ],
         "xaxis": "x1",
         "y": [
          1
         ],
         "yaxis": "y1"
        },
        {
         "hoverinfo": "text",
         "marker": {
          "color": "rgb(252.95061758092618, 253.9753087904631, 255)"
         },
         "orientation": "h",
         "text": "0.01",
         "type": "bar",
         "width": 0.5,
         "x": [
          1
         ],
         "xaxis": "x1",
         "y": [
          1
         ],
         "yaxis": "y1"
        },
        {
         "hoverinfo": "text",
         "marker": {
          "color": "rgb(251.25172350619482, 253.1258617530974, 255)"
         },
         "orientation": "h",
         "text": "0.02",
         "type": "bar",
         "width": 0.5,
         "x": [
          1
         ],
         "xaxis": "x1",
         "y": [
          1
         ],
         "yaxis": "y1"
        },
        {
         "hoverinfo": "text",
         "marker": {
          "color": "rgb(250.66105790716117, 252.8305289535806, 255)"
         },
         "orientation": "h",
         "text": "0.02",
         "type": "bar",
         "width": 0.5,
         "x": [
          3
         ],
         "xaxis": "x1",
         "y": [
          1
         ],
         "yaxis": "y1"
        },
        {
         "hoverinfo": "text",
         "marker": {
          "color": "rgb(243.49989074277585, 249.24994537138792, 255)"
         },
         "orientation": "h",
         "text": "0.06",
         "type": "bar",
         "width": 0.5,
         "x": [
          1
         ],
         "xaxis": "x1",
         "y": [
          1
         ],
         "yaxis": "y1"
        },
        {
         "hoverinfo": "text",
         "marker": {
          "color": "rgb(227.16098329325817, 241.0804916466291, 255)"
         },
         "orientation": "h",
         "text": "0.14",
         "type": "bar",
         "width": 0.5,
         "x": [
          3
         ],
         "xaxis": "x1",
         "y": [
          1
         ],
         "yaxis": "y1"
        },
        {
         "hoverinfo": "text",
         "marker": {
          "color": "rgb(181.54763711524456, 218.2738185576223, 255)"
         },
         "orientation": "h",
         "text": "0.37",
         "type": "bar",
         "width": 0.5,
         "x": [
          4
         ],
         "xaxis": "x1",
         "y": [
          1
         ],
         "yaxis": "y1"
        },
        {
         "hoverinfo": "text",
         "marker": {
          "color": "rgb(55.0, 155.0, 255)"
         },
         "orientation": "h",
         "text": "1.0",
         "type": "bar",
         "width": 0.5,
         "x": [
          2
         ],
         "xaxis": "x1",
         "y": [
          1
         ],
         "yaxis": "y1"
        },
        {
         "hoverinfo": "text",
         "marker": {
          "color": "rgb(146.04975860127146, 200.52487930063575, 255)"
         },
         "orientation": "h",
         "text": "0.54",
         "type": "bar",
         "width": 0.5,
         "x": [
          4
         ],
         "xaxis": "x1",
         "y": [
          1
         ],
         "yaxis": "y1"
        },
        {
         "hoverinfo": "text",
         "marker": {
          "color": "rgb(255, 255.0, 255.0)"
         },
         "orientation": "h",
         "text": "",
         "type": "bar",
         "width": 0.5,
         "x": [
          1
         ],
         "xaxis": "x1",
         "y": [
          1
         ],
         "yaxis": "y1"
        },
        {
         "hoverinfo": "text",
         "marker": {
          "color": "rgb(121.30047812434302, 188.15023906217152, 255)"
         },
         "orientation": "h",
         "text": "0.67",
         "type": "bar",
         "width": 0.5,
         "x": [
          1
         ],
         "xaxis": "x1",
         "y": [
          1
         ],
         "yaxis": "y1"
        },
        {
         "hoverinfo": "text",
         "marker": {
          "color": "rgb(79.79428415069441, 167.3971420753472, 255)"
         },
         "orientation": "h",
         "text": "0.88",
         "type": "bar",
         "width": 0.5,
         "x": [
          2
         ],
         "xaxis": "x1",
         "y": [
          1
         ],
         "yaxis": "y1"
        },
        {
         "hoverinfo": "text",
         "marker": {
          "color": "rgb(255, 255.0, 255.0)"
         },
         "orientation": "h",
         "text": "",
         "type": "bar",
         "width": 0.5,
         "x": [
          1
         ],
         "xaxis": "x1",
         "y": [
          1
         ],
         "yaxis": "y1"
        },
        {
         "hoverinfo": "text",
         "marker": {
          "color": "rgb(137.62566178084163, 196.3128308904208, 255)"
         },
         "orientation": "h",
         "text": "0.59",
         "type": "bar",
         "width": 0.5,
         "x": [
          1
         ],
         "xaxis": "x1",
         "y": [
          1
         ],
         "yaxis": "y1"
        },
        {
         "hoverinfo": "text",
         "marker": {
          "color": "rgb(255, 255, 255)"
         },
         "orientation": "h",
         "text": "",
         "type": "bar",
         "width": 0.5,
         "x": [
          1
         ],
         "xaxis": "x1",
         "y": [
          1
         ],
         "yaxis": "y1"
        },
        {
         "hoverinfo": "text",
         "marker": {
          "color": "rgb(255, 255, 255)"
         },
         "orientation": "h",
         "text": "",
         "type": "bar",
         "width": 0.5,
         "x": [
          1
         ],
         "xaxis": "x1",
         "y": [
          1
         ],
         "yaxis": "y1"
        },
        {
         "hoverinfo": "text",
         "marker": {
          "color": "rgb(255, 255, 255)"
         },
         "orientation": "h",
         "text": "",
         "type": "bar",
         "width": 0.5,
         "x": [
          1
         ],
         "xaxis": "x1",
         "y": [
          1
         ],
         "yaxis": "y1"
        },
        {
         "hoverinfo": "text",
         "marker": {
          "color": "rgb(255, 255, 255)"
         },
         "orientation": "h",
         "text": "",
         "type": "bar",
         "width": 0.5,
         "x": [
          1
         ],
         "xaxis": "x1",
         "y": [
          1
         ],
         "yaxis": "y1"
        },
        {
         "hoverinfo": "text",
         "marker": {
          "color": "rgb(255, 255, 255)"
         },
         "orientation": "h",
         "text": "",
         "type": "bar",
         "width": 0.5,
         "x": [
          1
         ],
         "xaxis": "x1",
         "y": [
          1
         ],
         "yaxis": "y1"
        },
        {
         "hoverinfo": "text",
         "marker": {
          "color": "rgb(255, 255, 255)"
         },
         "orientation": "h",
         "text": "",
         "type": "bar",
         "width": 0.5,
         "x": [
          1
         ],
         "xaxis": "x1",
         "y": [
          1
         ],
         "yaxis": "y1"
        },
        {
         "hoverinfo": "text",
         "marker": {
          "color": "rgb(255, 255, 255)"
         },
         "orientation": "h",
         "text": "",
         "type": "bar",
         "width": 0.5,
         "x": [
          1
         ],
         "xaxis": "x1",
         "y": [
          1
         ],
         "yaxis": "y1"
        },
        {
         "hoverinfo": "text",
         "marker": {
          "color": "rgb(255, 255, 255)"
         },
         "orientation": "h",
         "text": "",
         "type": "bar",
         "width": 0.5,
         "x": [
          1
         ],
         "xaxis": "x1",
         "y": [
          1
         ],
         "yaxis": "y1"
        },
        {
         "hoverinfo": "text",
         "marker": {
          "color": "rgb(255, 255, 255)"
         },
         "orientation": "h",
         "text": "",
         "type": "bar",
         "width": 0.5,
         "x": [
          1
         ],
         "xaxis": "x1",
         "y": [
          1
         ],
         "yaxis": "y1"
        },
        {
         "hoverinfo": "text",
         "marker": {
          "color": "rgb(255, 255, 255)"
         },
         "orientation": "h",
         "text": "",
         "type": "bar",
         "width": 0.5,
         "x": [
          1
         ],
         "xaxis": "x1",
         "y": [
          1
         ],
         "yaxis": "y1"
        },
        {
         "hoverinfo": "text",
         "marker": {
          "color": "rgb(255, 255, 255)"
         },
         "orientation": "h",
         "text": "",
         "type": "bar",
         "width": 0.5,
         "x": [
          1
         ],
         "xaxis": "x1",
         "y": [
          1
         ],
         "yaxis": "y1"
        },
        {
         "hoverinfo": "text",
         "marker": {
          "color": "rgb(255, 255, 255)"
         },
         "orientation": "h",
         "text": "",
         "type": "bar",
         "width": 0.5,
         "x": [
          1
         ],
         "xaxis": "x1",
         "y": [
          1
         ],
         "yaxis": "y1"
        },
        {
         "hoverinfo": "text",
         "marker": {
          "color": "rgb(255, 255, 255)"
         },
         "orientation": "h",
         "text": "",
         "type": "bar",
         "width": 0.5,
         "x": [
          1
         ],
         "xaxis": "x1",
         "y": [
          1
         ],
         "yaxis": "y1"
        },
        {
         "hoverinfo": "text",
         "marker": {
          "color": "rgb(255, 255, 255)"
         },
         "orientation": "h",
         "text": "",
         "type": "bar",
         "width": 0.5,
         "x": [
          1
         ],
         "xaxis": "x1",
         "y": [
          1
         ],
         "yaxis": "y1"
        },
        {
         "hoverinfo": "text",
         "marker": {
          "color": "rgb(255, 255, 255)"
         },
         "orientation": "h",
         "text": "",
         "type": "bar",
         "width": 0.5,
         "x": [
          1
         ],
         "xaxis": "x1",
         "y": [
          1
         ],
         "yaxis": "y1"
        },
        {
         "hoverinfo": "text",
         "marker": {
          "color": "rgb(255, 255, 255)"
         },
         "orientation": "h",
         "text": "",
         "type": "bar",
         "width": 0.5,
         "x": [
          1
         ],
         "xaxis": "x1",
         "y": [
          1
         ],
         "yaxis": "y1"
        },
        {
         "hoverinfo": "text",
         "marker": {
          "color": "rgb(255, 255, 255)"
         },
         "orientation": "h",
         "text": "",
         "type": "bar",
         "width": 0.5,
         "x": [
          1
         ],
         "xaxis": "x1",
         "y": [
          1
         ],
         "yaxis": "y1"
        },
        {
         "hoverinfo": "text",
         "marker": {
          "color": "rgb(255, 255, 255)"
         },
         "orientation": "h",
         "text": "",
         "type": "bar",
         "width": 0.5,
         "x": [
          1
         ],
         "xaxis": "x1",
         "y": [
          1
         ],
         "yaxis": "y1"
        },
        {
         "hoverinfo": "text",
         "marker": {
          "color": "rgb(255, 255, 255)"
         },
         "orientation": "h",
         "text": "",
         "type": "bar",
         "width": 0.5,
         "x": [
          1
         ],
         "xaxis": "x1",
         "y": [
          1
         ],
         "yaxis": "y1"
        },
        {
         "hoverinfo": "text",
         "marker": {
          "color": "rgb(255, 255, 255)"
         },
         "orientation": "h",
         "text": "",
         "type": "bar",
         "width": 0.5,
         "x": [
          1
         ],
         "xaxis": "x1",
         "y": [
          1
         ],
         "yaxis": "y1"
        },
        {
         "hoverinfo": "text",
         "marker": {
          "color": "rgb(255, 255, 255)"
         },
         "orientation": "h",
         "text": "",
         "type": "bar",
         "width": 0.5,
         "x": [
          1
         ],
         "xaxis": "x1",
         "y": [
          1
         ],
         "yaxis": "y1"
        },
        {
         "hoverinfo": "text",
         "marker": {
          "color": "rgb(255, 255, 255)"
         },
         "orientation": "h",
         "text": "",
         "type": "bar",
         "width": 0.5,
         "x": [
          1
         ],
         "xaxis": "x1",
         "y": [
          1
         ],
         "yaxis": "y1"
        },
        {
         "hoverinfo": "text",
         "marker": {
          "color": "rgb(255, 255, 255)"
         },
         "orientation": "h",
         "text": "",
         "type": "bar",
         "width": 0.5,
         "x": [
          1
         ],
         "xaxis": "x1",
         "y": [
          1
         ],
         "yaxis": "y1"
        },
        {
         "hoverinfo": "text",
         "marker": {
          "color": "rgb(255, 255, 255)"
         },
         "orientation": "h",
         "text": "",
         "type": "bar",
         "width": 0.5,
         "x": [
          1
         ],
         "xaxis": "x1",
         "y": [
          1
         ],
         "yaxis": "y1"
        }
       ],
       "layout": {
        "annotations": [
         {
          "align": "left",
          "font": {
           "color": "black",
           "family": "Arial",
           "size": 14
          },
          "showarrow": false,
          "text": " ",
          "x": 0.5,
          "xref": "x1",
          "y": 1,
          "yref": "y1"
         },
         {
          "align": "left",
          "font": {
           "color": "black",
           "family": "Arial",
           "size": 14
          },
          "showarrow": false,
          "text": "과",
          "x": 1.5,
          "xref": "x1",
          "y": 1,
          "yref": "y1"
         },
         {
          "align": "left",
          "font": {
           "color": "black",
           "family": "Arial",
           "size": 14
          },
          "showarrow": false,
          "text": "한",
          "x": 2.5,
          "xref": "x1",
          "y": 1,
          "yref": "y1"
         },
         {
          "align": "left",
          "font": {
           "color": "black",
           "family": "Arial",
           "size": 14
          },
          "showarrow": false,
          "text": " ",
          "x": 3.5,
          "xref": "x1",
          "y": 1,
          "yref": "y1"
         },
         {
          "align": "left",
          "font": {
           "color": "black",
           "family": "Arial",
           "size": 14
          },
          "showarrow": false,
          "text": "욕",
          "x": 4.5,
          "xref": "x1",
          "y": 1,
          "yref": "y1"
         },
         {
          "align": "left",
          "font": {
           "color": "black",
           "family": "Arial",
           "size": 14
          },
          "showarrow": false,
          "text": "심",
          "x": 5.5,
          "xref": "x1",
          "y": 1,
          "yref": "y1"
         },
         {
          "align": "left",
          "font": {
           "color": "black",
           "family": "Arial",
           "size": 14
          },
          "showarrow": false,
          "text": "은",
          "x": 6.5,
          "xref": "x1",
          "y": 1,
          "yref": "y1"
         },
         {
          "align": "left",
          "font": {
           "color": "black",
           "family": "Arial",
           "size": 14
          },
          "showarrow": false,
          "text": " ",
          "x": 7.5,
          "xref": "x1",
          "y": 1,
          "yref": "y1"
         },
         {
          "align": "left",
          "font": {
           "color": "black",
           "family": "Arial",
           "size": 14
          },
          "showarrow": false,
          "text": "주",
          "x": 8.5,
          "xref": "x1",
          "y": 1,
          "yref": "y1"
         },
         {
          "align": "left",
          "font": {
           "color": "black",
           "family": "Arial",
           "size": 14
          },
          "showarrow": false,
          "text": "변",
          "x": 9.5,
          "xref": "x1",
          "y": 1,
          "yref": "y1"
         },
         {
          "align": "left",
          "font": {
           "color": "black",
           "family": "Arial",
           "size": 14
          },
          "showarrow": false,
          "text": " ",
          "x": 10.5,
          "xref": "x1",
          "y": 1,
          "yref": "y1"
         },
         {
          "align": "left",
          "font": {
           "color": "black",
           "family": "Arial",
           "size": 14
          },
          "showarrow": false,
          "text": "사",
          "x": 11.5,
          "xref": "x1",
          "y": 1,
          "yref": "y1"
         },
         {
          "align": "left",
          "font": {
           "color": "black",
           "family": "Arial",
           "size": 14
          },
          "showarrow": false,
          "text": "람",
          "x": 12.5,
          "xref": "x1",
          "y": 1,
          "yref": "y1"
         },
         {
          "align": "left",
          "font": {
           "color": "black",
           "family": "Arial",
           "size": 14
          },
          "showarrow": false,
          "text": "들",
          "x": 13.5,
          "xref": "x1",
          "y": 1,
          "yref": "y1"
         },
         {
          "align": "left",
          "font": {
           "color": "black",
           "family": "Arial",
           "size": 14
          },
          "showarrow": false,
          "text": "에",
          "x": 14.5,
          "xref": "x1",
          "y": 1,
          "yref": "y1"
         },
         {
          "align": "left",
          "font": {
           "color": "black",
           "family": "Arial",
           "size": 14
          },
          "showarrow": false,
          "text": "게",
          "x": 15.5,
          "xref": "x1",
          "y": 1,
          "yref": "y1"
         },
         {
          "align": "left",
          "font": {
           "color": "black",
           "family": "Arial",
           "size": 14
          },
          "showarrow": false,
          "text": " ",
          "x": 16.5,
          "xref": "x1",
          "y": 1,
          "yref": "y1"
         },
         {
          "align": "left",
          "font": {
           "color": "black",
           "family": "Arial",
           "size": 14
          },
          "showarrow": false,
          "text": "피",
          "x": 17.5,
          "xref": "x1",
          "y": 1,
          "yref": "y1"
         },
         {
          "align": "left",
          "font": {
           "color": "black",
           "family": "Arial",
           "size": 14
          },
          "showarrow": false,
          "text": "해",
          "x": 18.5,
          "xref": "x1",
          "y": 1,
          "yref": "y1"
         },
         {
          "align": "left",
          "font": {
           "color": "black",
           "family": "Arial",
           "size": 14
          },
          "showarrow": false,
          "text": "를",
          "x": 19.5,
          "xref": "x1",
          "y": 1,
          "yref": "y1"
         },
         {
          "align": "left",
          "font": {
           "color": "black",
           "family": "Arial",
           "size": 14
          },
          "showarrow": false,
          "text": " ",
          "x": 20.5,
          "xref": "x1",
          "y": 1,
          "yref": "y1"
         },
         {
          "align": "left",
          "font": {
           "color": "black",
           "family": "Arial",
           "size": 14
          },
          "showarrow": false,
          "text": "줍",
          "x": 21.5,
          "xref": "x1",
          "y": 1,
          "yref": "y1"
         },
         {
          "align": "left",
          "font": {
           "color": "black",
           "family": "Arial",
           "size": 14
          },
          "showarrow": false,
          "text": "니",
          "x": 22.5,
          "xref": "x1",
          "y": 1,
          "yref": "y1"
         },
         {
          "align": "left",
          "font": {
           "color": "black",
           "family": "Arial",
           "size": 14
          },
          "showarrow": false,
          "text": "다",
          "x": 23.5,
          "xref": "x1",
          "y": 1,
          "yref": "y1"
         },
         {
          "align": "left",
          "font": {
           "color": "black",
           "family": "Arial",
           "size": 14
          },
          "showarrow": false,
          "text": " ",
          "x": 24.5,
          "xref": "x1",
          "y": 1,
          "yref": "y1"
         },
         {
          "align": "left",
          "font": {
           "color": "black",
           "family": "Arial",
           "size": 14
          },
          "showarrow": false,
          "text": ".",
          "x": 25.5,
          "xref": "x1",
          "y": 1,
          "yref": "y1"
         }
        ],
        "barmode": "stack",
        "height": 80,
        "images": [
         {
          "layer": "above",
          "opacity": 0.3,
          "sizex": 0.7,
          "sizey": 0.7,
          "source": "https://raw.githubusercontent.com/fingeredman/teanaps/master/data/logo/teanaps_logo_no-bg.png",
          "x": 0.5,
          "xanchor": "center",
          "xref": "paper",
          "y": 0.6,
          "yanchor": "center",
          "yref": "paper"
         }
        ],
        "margin": {
         "b": 30,
         "l": 20,
         "r": 20,
         "t": 10
        },
        "showlegend": false,
        "xaxis1": {
         "anchor": "y1",
         "domain": [
          0,
          1
         ],
         "showgrid": false,
         "showline": false,
         "showticklabels": false,
         "zeroline": false
        },
        "yaxis1": {
         "anchor": "x1",
         "domain": [
          0,
          1
         ],
         "showgrid": false,
         "showline": false,
         "showticklabels": false,
         "zeroline": false
        }
       }
      },
      "text/html": [
       "<div id=\"5b68e787-9afa-459e-b709-f906fa334135\" style=\"height: 80px; width: 100%;\" class=\"plotly-graph-div\"></div><script type=\"text/javascript\">require([\"plotly\"], function(Plotly) { window.PLOTLYENV=window.PLOTLYENV || {};window.PLOTLYENV.BASE_URL=\"https://plot.ly\";Plotly.newPlot(\"5b68e787-9afa-459e-b709-f906fa334135\", [{\"type\": \"bar\", \"y\": [1], \"x\": [1], \"orientation\": \"h\", \"width\": 0.5, \"text\": \"\", \"hoverinfo\": \"text\", \"marker\": {\"color\": \"rgb(255, 255.0, 255.0)\"}, \"xaxis\": \"x1\", \"yaxis\": \"y1\"}, {\"type\": \"bar\", \"y\": [1], \"x\": [1], \"orientation\": \"h\", \"width\": 0.5, \"text\": \"0.01\", \"hoverinfo\": \"text\", \"marker\": {\"color\": \"rgb(252.95061758092618, 253.9753087904631, 255)\"}, \"xaxis\": \"x1\", \"yaxis\": \"y1\"}, {\"type\": \"bar\", \"y\": [1], \"x\": [1], \"orientation\": \"h\", \"width\": 0.5, \"text\": \"0.02\", \"hoverinfo\": \"text\", \"marker\": {\"color\": \"rgb(251.25172350619482, 253.1258617530974, 255)\"}, \"xaxis\": \"x1\", \"yaxis\": \"y1\"}, {\"type\": \"bar\", \"y\": [1], \"x\": [3], \"orientation\": \"h\", \"width\": 0.5, \"text\": \"0.02\", \"hoverinfo\": \"text\", \"marker\": {\"color\": \"rgb(250.66105790716117, 252.8305289535806, 255)\"}, \"xaxis\": \"x1\", \"yaxis\": \"y1\"}, {\"type\": \"bar\", \"y\": [1], \"x\": [1], \"orientation\": \"h\", \"width\": 0.5, \"text\": \"0.06\", \"hoverinfo\": \"text\", \"marker\": {\"color\": \"rgb(243.49989074277585, 249.24994537138792, 255)\"}, \"xaxis\": \"x1\", \"yaxis\": \"y1\"}, {\"type\": \"bar\", \"y\": [1], \"x\": [3], \"orientation\": \"h\", \"width\": 0.5, \"text\": \"0.14\", \"hoverinfo\": \"text\", \"marker\": {\"color\": \"rgb(227.16098329325817, 241.0804916466291, 255)\"}, \"xaxis\": \"x1\", \"yaxis\": \"y1\"}, {\"type\": \"bar\", \"y\": [1], \"x\": [4], \"orientation\": \"h\", \"width\": 0.5, \"text\": \"0.37\", \"hoverinfo\": \"text\", \"marker\": {\"color\": \"rgb(181.54763711524456, 218.2738185576223, 255)\"}, \"xaxis\": \"x1\", \"yaxis\": \"y1\"}, {\"type\": \"bar\", \"y\": [1], \"x\": [2], \"orientation\": \"h\", \"width\": 0.5, \"text\": \"1.0\", \"hoverinfo\": \"text\", \"marker\": {\"color\": \"rgb(55.0, 155.0, 255)\"}, \"xaxis\": \"x1\", \"yaxis\": \"y1\"}, {\"type\": \"bar\", \"y\": [1], \"x\": [4], \"orientation\": \"h\", \"width\": 0.5, \"text\": \"0.54\", \"hoverinfo\": \"text\", \"marker\": {\"color\": \"rgb(146.04975860127146, 200.52487930063575, 255)\"}, \"xaxis\": \"x1\", \"yaxis\": \"y1\"}, {\"type\": \"bar\", \"y\": [1], \"x\": [1], \"orientation\": \"h\", \"width\": 0.5, \"text\": \"\", \"hoverinfo\": \"text\", \"marker\": {\"color\": \"rgb(255, 255.0, 255.0)\"}, \"xaxis\": \"x1\", \"yaxis\": \"y1\"}, {\"type\": \"bar\", \"y\": [1], \"x\": [1], \"orientation\": \"h\", \"width\": 0.5, \"text\": \"0.67\", \"hoverinfo\": \"text\", \"marker\": {\"color\": \"rgb(121.30047812434302, 188.15023906217152, 255)\"}, \"xaxis\": \"x1\", \"yaxis\": \"y1\"}, {\"type\": \"bar\", \"y\": [1], \"x\": [2], \"orientation\": \"h\", \"width\": 0.5, \"text\": \"0.88\", \"hoverinfo\": \"text\", \"marker\": {\"color\": \"rgb(79.79428415069441, 167.3971420753472, 255)\"}, \"xaxis\": \"x1\", \"yaxis\": \"y1\"}, {\"type\": \"bar\", \"y\": [1], \"x\": [1], \"orientation\": \"h\", \"width\": 0.5, \"text\": \"\", \"hoverinfo\": \"text\", \"marker\": {\"color\": \"rgb(255, 255.0, 255.0)\"}, \"xaxis\": \"x1\", \"yaxis\": \"y1\"}, {\"type\": \"bar\", \"y\": [1], \"x\": [1], \"orientation\": \"h\", \"width\": 0.5, \"text\": \"0.59\", \"hoverinfo\": \"text\", \"marker\": {\"color\": \"rgb(137.62566178084163, 196.3128308904208, 255)\"}, \"xaxis\": \"x1\", \"yaxis\": \"y1\"}, {\"type\": \"bar\", \"y\": [1], \"x\": [1], \"orientation\": \"h\", \"width\": 0.5, \"text\": \"\", \"hoverinfo\": \"text\", \"marker\": {\"color\": \"rgb(255, 255, 255)\"}, \"xaxis\": \"x1\", \"yaxis\": \"y1\"}, {\"type\": \"bar\", \"y\": [1], \"x\": [1], \"orientation\": \"h\", \"width\": 0.5, \"text\": \"\", \"hoverinfo\": \"text\", \"marker\": {\"color\": \"rgb(255, 255, 255)\"}, \"xaxis\": \"x1\", \"yaxis\": \"y1\"}, {\"type\": \"bar\", \"y\": [1], \"x\": [1], \"orientation\": \"h\", \"width\": 0.5, \"text\": \"\", \"hoverinfo\": \"text\", \"marker\": {\"color\": \"rgb(255, 255, 255)\"}, \"xaxis\": \"x1\", \"yaxis\": \"y1\"}, {\"type\": \"bar\", \"y\": [1], \"x\": [1], \"orientation\": \"h\", \"width\": 0.5, \"text\": \"\", \"hoverinfo\": \"text\", \"marker\": {\"color\": \"rgb(255, 255, 255)\"}, \"xaxis\": \"x1\", \"yaxis\": \"y1\"}, {\"type\": \"bar\", \"y\": [1], \"x\": [1], \"orientation\": \"h\", \"width\": 0.5, \"text\": \"\", \"hoverinfo\": \"text\", \"marker\": {\"color\": \"rgb(255, 255, 255)\"}, \"xaxis\": \"x1\", \"yaxis\": \"y1\"}, {\"type\": \"bar\", \"y\": [1], \"x\": [1], \"orientation\": \"h\", \"width\": 0.5, \"text\": \"\", \"hoverinfo\": \"text\", \"marker\": {\"color\": \"rgb(255, 255, 255)\"}, \"xaxis\": \"x1\", \"yaxis\": \"y1\"}, {\"type\": \"bar\", \"y\": [1], \"x\": [1], \"orientation\": \"h\", \"width\": 0.5, \"text\": \"\", \"hoverinfo\": \"text\", \"marker\": {\"color\": \"rgb(255, 255, 255)\"}, \"xaxis\": \"x1\", \"yaxis\": \"y1\"}, {\"type\": \"bar\", \"y\": [1], \"x\": [1], \"orientation\": \"h\", \"width\": 0.5, \"text\": \"\", \"hoverinfo\": \"text\", \"marker\": {\"color\": \"rgb(255, 255, 255)\"}, \"xaxis\": \"x1\", \"yaxis\": \"y1\"}, {\"type\": \"bar\", \"y\": [1], \"x\": [1], \"orientation\": \"h\", \"width\": 0.5, \"text\": \"\", \"hoverinfo\": \"text\", \"marker\": {\"color\": \"rgb(255, 255, 255)\"}, \"xaxis\": \"x1\", \"yaxis\": \"y1\"}, {\"type\": \"bar\", \"y\": [1], \"x\": [1], \"orientation\": \"h\", \"width\": 0.5, \"text\": \"\", \"hoverinfo\": \"text\", \"marker\": {\"color\": \"rgb(255, 255, 255)\"}, \"xaxis\": \"x1\", \"yaxis\": \"y1\"}, {\"type\": \"bar\", \"y\": [1], \"x\": [1], \"orientation\": \"h\", \"width\": 0.5, \"text\": \"\", \"hoverinfo\": \"text\", \"marker\": {\"color\": \"rgb(255, 255, 255)\"}, \"xaxis\": \"x1\", \"yaxis\": \"y1\"}, {\"type\": \"bar\", \"y\": [1], \"x\": [1], \"orientation\": \"h\", \"width\": 0.5, \"text\": \"\", \"hoverinfo\": \"text\", \"marker\": {\"color\": \"rgb(255, 255, 255)\"}, \"xaxis\": \"x1\", \"yaxis\": \"y1\"}, {\"type\": \"bar\", \"y\": [1], \"x\": [1], \"orientation\": \"h\", \"width\": 0.5, \"text\": \"\", \"hoverinfo\": \"text\", \"marker\": {\"color\": \"rgb(255, 255, 255)\"}, \"xaxis\": \"x1\", \"yaxis\": \"y1\"}, {\"type\": \"bar\", \"y\": [1], \"x\": [1], \"orientation\": \"h\", \"width\": 0.5, \"text\": \"\", \"hoverinfo\": \"text\", \"marker\": {\"color\": \"rgb(255, 255, 255)\"}, \"xaxis\": \"x1\", \"yaxis\": \"y1\"}, {\"type\": \"bar\", \"y\": [1], \"x\": [1], \"orientation\": \"h\", \"width\": 0.5, \"text\": \"\", \"hoverinfo\": \"text\", \"marker\": {\"color\": \"rgb(255, 255, 255)\"}, \"xaxis\": \"x1\", \"yaxis\": \"y1\"}, {\"type\": \"bar\", \"y\": [1], \"x\": [1], \"orientation\": \"h\", \"width\": 0.5, \"text\": \"\", \"hoverinfo\": \"text\", \"marker\": {\"color\": \"rgb(255, 255, 255)\"}, \"xaxis\": \"x1\", \"yaxis\": \"y1\"}, {\"type\": \"bar\", \"y\": [1], \"x\": [1], \"orientation\": \"h\", \"width\": 0.5, \"text\": \"\", \"hoverinfo\": \"text\", \"marker\": {\"color\": \"rgb(255, 255, 255)\"}, \"xaxis\": \"x1\", \"yaxis\": \"y1\"}, {\"type\": \"bar\", \"y\": [1], \"x\": [1], \"orientation\": \"h\", \"width\": 0.5, \"text\": \"\", \"hoverinfo\": \"text\", \"marker\": {\"color\": \"rgb(255, 255, 255)\"}, \"xaxis\": \"x1\", \"yaxis\": \"y1\"}, {\"type\": \"bar\", \"y\": [1], \"x\": [1], \"orientation\": \"h\", \"width\": 0.5, \"text\": \"\", \"hoverinfo\": \"text\", \"marker\": {\"color\": \"rgb(255, 255, 255)\"}, \"xaxis\": \"x1\", \"yaxis\": \"y1\"}, {\"type\": \"bar\", \"y\": [1], \"x\": [1], \"orientation\": \"h\", \"width\": 0.5, \"text\": \"\", \"hoverinfo\": \"text\", \"marker\": {\"color\": \"rgb(255, 255, 255)\"}, \"xaxis\": \"x1\", \"yaxis\": \"y1\"}, {\"type\": \"bar\", \"y\": [1], \"x\": [1], \"orientation\": \"h\", \"width\": 0.5, \"text\": \"\", \"hoverinfo\": \"text\", \"marker\": {\"color\": \"rgb(255, 255, 255)\"}, \"xaxis\": \"x1\", \"yaxis\": \"y1\"}, {\"type\": \"bar\", \"y\": [1], \"x\": [1], \"orientation\": \"h\", \"width\": 0.5, \"text\": \"\", \"hoverinfo\": \"text\", \"marker\": {\"color\": \"rgb(255, 255, 255)\"}, \"xaxis\": \"x1\", \"yaxis\": \"y1\"}, {\"type\": \"bar\", \"y\": [1], \"x\": [1], \"orientation\": \"h\", \"width\": 0.5, \"text\": \"\", \"hoverinfo\": \"text\", \"marker\": {\"color\": \"rgb(255, 255, 255)\"}, \"xaxis\": \"x1\", \"yaxis\": \"y1\"}, {\"type\": \"bar\", \"y\": [1], \"x\": [1], \"orientation\": \"h\", \"width\": 0.5, \"text\": \"\", \"hoverinfo\": \"text\", \"marker\": {\"color\": \"rgb(255, 255, 255)\"}, \"xaxis\": \"x1\", \"yaxis\": \"y1\"}], {\"xaxis1\": {\"domain\": [0.0, 1.0], \"anchor\": \"y1\", \"showgrid\": false, \"showline\": false, \"showticklabels\": false, \"zeroline\": false}, \"yaxis1\": {\"domain\": [0.0, 1.0], \"anchor\": \"x1\", \"showgrid\": false, \"showline\": false, \"showticklabels\": false, \"zeroline\": false}, \"barmode\": \"stack\", \"showlegend\": false, \"margin\": {\"b\": 30, \"l\": 20, \"r\": 20, \"t\": 10}, \"annotations\": [{\"xref\": \"x1\", \"yref\": \"y1\", \"x\": 0.5, \"y\": 1, \"text\": \" \", \"align\": \"left\", \"font\": {\"family\": \"Arial\", \"size\": 14, \"color\": \"black\"}, \"showarrow\": false}, {\"xref\": \"x1\", \"yref\": \"y1\", \"x\": 1.5, \"y\": 1, \"text\": \"\\uacfc\", \"align\": \"left\", \"font\": {\"family\": \"Arial\", \"size\": 14, \"color\": \"black\"}, \"showarrow\": false}, {\"xref\": \"x1\", \"yref\": \"y1\", \"x\": 2.5, \"y\": 1, \"text\": \"\\ud55c\", \"align\": \"left\", \"font\": {\"family\": \"Arial\", \"size\": 14, \"color\": \"black\"}, \"showarrow\": false}, {\"xref\": \"x1\", \"yref\": \"y1\", \"x\": 3.5, \"y\": 1, \"text\": \" \", \"align\": \"left\", \"font\": {\"family\": \"Arial\", \"size\": 14, \"color\": \"black\"}, \"showarrow\": false}, {\"xref\": \"x1\", \"yref\": \"y1\", \"x\": 4.5, \"y\": 1, \"text\": \"\\uc695\", \"align\": \"left\", \"font\": {\"family\": \"Arial\", \"size\": 14, \"color\": \"black\"}, \"showarrow\": false}, {\"xref\": \"x1\", \"yref\": \"y1\", \"x\": 5.5, \"y\": 1, \"text\": \"\\uc2ec\", \"align\": \"left\", \"font\": {\"family\": \"Arial\", \"size\": 14, \"color\": \"black\"}, \"showarrow\": false}, {\"xref\": \"x1\", \"yref\": \"y1\", \"x\": 6.5, \"y\": 1, \"text\": \"\\uc740\", \"align\": \"left\", \"font\": {\"family\": \"Arial\", \"size\": 14, \"color\": \"black\"}, \"showarrow\": false}, {\"xref\": \"x1\", \"yref\": \"y1\", \"x\": 7.5, \"y\": 1, \"text\": \" \", \"align\": \"left\", \"font\": {\"family\": \"Arial\", \"size\": 14, \"color\": \"black\"}, \"showarrow\": false}, {\"xref\": \"x1\", \"yref\": \"y1\", \"x\": 8.5, \"y\": 1, \"text\": \"\\uc8fc\", \"align\": \"left\", \"font\": {\"family\": \"Arial\", \"size\": 14, \"color\": \"black\"}, \"showarrow\": false}, {\"xref\": \"x1\", \"yref\": \"y1\", \"x\": 9.5, \"y\": 1, \"text\": \"\\ubcc0\", \"align\": \"left\", \"font\": {\"family\": \"Arial\", \"size\": 14, \"color\": \"black\"}, \"showarrow\": false}, {\"xref\": \"x1\", \"yref\": \"y1\", \"x\": 10.5, \"y\": 1, \"text\": \" \", \"align\": \"left\", \"font\": {\"family\": \"Arial\", \"size\": 14, \"color\": \"black\"}, \"showarrow\": false}, {\"xref\": \"x1\", \"yref\": \"y1\", \"x\": 11.5, \"y\": 1, \"text\": \"\\uc0ac\", \"align\": \"left\", \"font\": {\"family\": \"Arial\", \"size\": 14, \"color\": \"black\"}, \"showarrow\": false}, {\"xref\": \"x1\", \"yref\": \"y1\", \"x\": 12.5, \"y\": 1, \"text\": \"\\ub78c\", \"align\": \"left\", \"font\": {\"family\": \"Arial\", \"size\": 14, \"color\": \"black\"}, \"showarrow\": false}, {\"xref\": \"x1\", \"yref\": \"y1\", \"x\": 13.5, \"y\": 1, \"text\": \"\\ub4e4\", \"align\": \"left\", \"font\": {\"family\": \"Arial\", \"size\": 14, \"color\": \"black\"}, \"showarrow\": false}, {\"xref\": \"x1\", \"yref\": \"y1\", \"x\": 14.5, \"y\": 1, \"text\": \"\\uc5d0\", \"align\": \"left\", \"font\": {\"family\": \"Arial\", \"size\": 14, \"color\": \"black\"}, \"showarrow\": false}, {\"xref\": \"x1\", \"yref\": \"y1\", \"x\": 15.5, \"y\": 1, \"text\": \"\\uac8c\", \"align\": \"left\", \"font\": {\"family\": \"Arial\", \"size\": 14, \"color\": \"black\"}, \"showarrow\": false}, {\"xref\": \"x1\", \"yref\": \"y1\", \"x\": 16.5, \"y\": 1, \"text\": \" \", \"align\": \"left\", \"font\": {\"family\": \"Arial\", \"size\": 14, \"color\": \"black\"}, \"showarrow\": false}, {\"xref\": \"x1\", \"yref\": \"y1\", \"x\": 17.5, \"y\": 1, \"text\": \"\\ud53c\", \"align\": \"left\", \"font\": {\"family\": \"Arial\", \"size\": 14, \"color\": \"black\"}, \"showarrow\": false}, {\"xref\": \"x1\", \"yref\": \"y1\", \"x\": 18.5, \"y\": 1, \"text\": \"\\ud574\", \"align\": \"left\", \"font\": {\"family\": \"Arial\", \"size\": 14, \"color\": \"black\"}, \"showarrow\": false}, {\"xref\": \"x1\", \"yref\": \"y1\", \"x\": 19.5, \"y\": 1, \"text\": \"\\ub97c\", \"align\": \"left\", \"font\": {\"family\": \"Arial\", \"size\": 14, \"color\": \"black\"}, \"showarrow\": false}, {\"xref\": \"x1\", \"yref\": \"y1\", \"x\": 20.5, \"y\": 1, \"text\": \" \", \"align\": \"left\", \"font\": {\"family\": \"Arial\", \"size\": 14, \"color\": \"black\"}, \"showarrow\": false}, {\"xref\": \"x1\", \"yref\": \"y1\", \"x\": 21.5, \"y\": 1, \"text\": \"\\uc90d\", \"align\": \"left\", \"font\": {\"family\": \"Arial\", \"size\": 14, \"color\": \"black\"}, \"showarrow\": false}, {\"xref\": \"x1\", \"yref\": \"y1\", \"x\": 22.5, \"y\": 1, \"text\": \"\\ub2c8\", \"align\": \"left\", \"font\": {\"family\": \"Arial\", \"size\": 14, \"color\": \"black\"}, \"showarrow\": false}, {\"xref\": \"x1\", \"yref\": \"y1\", \"x\": 23.5, \"y\": 1, \"text\": \"\\ub2e4\", \"align\": \"left\", \"font\": {\"family\": \"Arial\", \"size\": 14, \"color\": \"black\"}, \"showarrow\": false}, {\"xref\": \"x1\", \"yref\": \"y1\", \"x\": 24.5, \"y\": 1, \"text\": \" \", \"align\": \"left\", \"font\": {\"family\": \"Arial\", \"size\": 14, \"color\": \"black\"}, \"showarrow\": false}, {\"xref\": \"x1\", \"yref\": \"y1\", \"x\": 25.5, \"y\": 1, \"text\": \".\", \"align\": \"left\", \"font\": {\"family\": \"Arial\", \"size\": 14, \"color\": \"black\"}, \"showarrow\": false}], \"height\": 80, \"images\": [{\"source\": \"https://raw.githubusercontent.com/fingeredman/teanaps/master/data/logo/teanaps_logo_no-bg.png\", \"xref\": \"paper\", \"yref\": \"paper\", \"x\": 0.5, \"y\": 0.6, \"sizex\": 0.7, \"sizey\": 0.7, \"xanchor\": \"center\", \"yanchor\": \"center\", \"opacity\": 0.3, \"layer\": \"above\"}]}, {\"showLink\": true, \"linkText\": \"Export to plot.ly\"})});</script>"
      ],
      "text/vnd.plotly.v1+html": [
       "<div id=\"5b68e787-9afa-459e-b709-f906fa334135\" style=\"height: 80px; width: 100%;\" class=\"plotly-graph-div\"></div><script type=\"text/javascript\">require([\"plotly\"], function(Plotly) { window.PLOTLYENV=window.PLOTLYENV || {};window.PLOTLYENV.BASE_URL=\"https://plot.ly\";Plotly.newPlot(\"5b68e787-9afa-459e-b709-f906fa334135\", [{\"type\": \"bar\", \"y\": [1], \"x\": [1], \"orientation\": \"h\", \"width\": 0.5, \"text\": \"\", \"hoverinfo\": \"text\", \"marker\": {\"color\": \"rgb(255, 255.0, 255.0)\"}, \"xaxis\": \"x1\", \"yaxis\": \"y1\"}, {\"type\": \"bar\", \"y\": [1], \"x\": [1], \"orientation\": \"h\", \"width\": 0.5, \"text\": \"0.01\", \"hoverinfo\": \"text\", \"marker\": {\"color\": \"rgb(252.95061758092618, 253.9753087904631, 255)\"}, \"xaxis\": \"x1\", \"yaxis\": \"y1\"}, {\"type\": \"bar\", \"y\": [1], \"x\": [1], \"orientation\": \"h\", \"width\": 0.5, \"text\": \"0.02\", \"hoverinfo\": \"text\", \"marker\": {\"color\": \"rgb(251.25172350619482, 253.1258617530974, 255)\"}, \"xaxis\": \"x1\", \"yaxis\": \"y1\"}, {\"type\": \"bar\", \"y\": [1], \"x\": [3], \"orientation\": \"h\", \"width\": 0.5, \"text\": \"0.02\", \"hoverinfo\": \"text\", \"marker\": {\"color\": \"rgb(250.66105790716117, 252.8305289535806, 255)\"}, \"xaxis\": \"x1\", \"yaxis\": \"y1\"}, {\"type\": \"bar\", \"y\": [1], \"x\": [1], \"orientation\": \"h\", \"width\": 0.5, \"text\": \"0.06\", \"hoverinfo\": \"text\", \"marker\": {\"color\": \"rgb(243.49989074277585, 249.24994537138792, 255)\"}, \"xaxis\": \"x1\", \"yaxis\": \"y1\"}, {\"type\": \"bar\", \"y\": [1], \"x\": [3], \"orientation\": \"h\", \"width\": 0.5, \"text\": \"0.14\", \"hoverinfo\": \"text\", \"marker\": {\"color\": \"rgb(227.16098329325817, 241.0804916466291, 255)\"}, \"xaxis\": \"x1\", \"yaxis\": \"y1\"}, {\"type\": \"bar\", \"y\": [1], \"x\": [4], \"orientation\": \"h\", \"width\": 0.5, \"text\": \"0.37\", \"hoverinfo\": \"text\", \"marker\": {\"color\": \"rgb(181.54763711524456, 218.2738185576223, 255)\"}, \"xaxis\": \"x1\", \"yaxis\": \"y1\"}, {\"type\": \"bar\", \"y\": [1], \"x\": [2], \"orientation\": \"h\", \"width\": 0.5, \"text\": \"1.0\", \"hoverinfo\": \"text\", \"marker\": {\"color\": \"rgb(55.0, 155.0, 255)\"}, \"xaxis\": \"x1\", \"yaxis\": \"y1\"}, {\"type\": \"bar\", \"y\": [1], \"x\": [4], \"orientation\": \"h\", \"width\": 0.5, \"text\": \"0.54\", \"hoverinfo\": \"text\", \"marker\": {\"color\": \"rgb(146.04975860127146, 200.52487930063575, 255)\"}, \"xaxis\": \"x1\", \"yaxis\": \"y1\"}, {\"type\": \"bar\", \"y\": [1], \"x\": [1], \"orientation\": \"h\", \"width\": 0.5, \"text\": \"\", \"hoverinfo\": \"text\", \"marker\": {\"color\": \"rgb(255, 255.0, 255.0)\"}, \"xaxis\": \"x1\", \"yaxis\": \"y1\"}, {\"type\": \"bar\", \"y\": [1], \"x\": [1], \"orientation\": \"h\", \"width\": 0.5, \"text\": \"0.67\", \"hoverinfo\": \"text\", \"marker\": {\"color\": \"rgb(121.30047812434302, 188.15023906217152, 255)\"}, \"xaxis\": \"x1\", \"yaxis\": \"y1\"}, {\"type\": \"bar\", \"y\": [1], \"x\": [2], \"orientation\": \"h\", \"width\": 0.5, \"text\": \"0.88\", \"hoverinfo\": \"text\", \"marker\": {\"color\": \"rgb(79.79428415069441, 167.3971420753472, 255)\"}, \"xaxis\": \"x1\", \"yaxis\": \"y1\"}, {\"type\": \"bar\", \"y\": [1], \"x\": [1], \"orientation\": \"h\", \"width\": 0.5, \"text\": \"\", \"hoverinfo\": \"text\", \"marker\": {\"color\": \"rgb(255, 255.0, 255.0)\"}, \"xaxis\": \"x1\", \"yaxis\": \"y1\"}, {\"type\": \"bar\", \"y\": [1], \"x\": [1], \"orientation\": \"h\", \"width\": 0.5, \"text\": \"0.59\", \"hoverinfo\": \"text\", \"marker\": {\"color\": \"rgb(137.62566178084163, 196.3128308904208, 255)\"}, \"xaxis\": \"x1\", \"yaxis\": \"y1\"}, {\"type\": \"bar\", \"y\": [1], \"x\": [1], \"orientation\": \"h\", \"width\": 0.5, \"text\": \"\", \"hoverinfo\": \"text\", \"marker\": {\"color\": \"rgb(255, 255, 255)\"}, \"xaxis\": \"x1\", \"yaxis\": \"y1\"}, {\"type\": \"bar\", \"y\": [1], \"x\": [1], \"orientation\": \"h\", \"width\": 0.5, \"text\": \"\", \"hoverinfo\": \"text\", \"marker\": {\"color\": \"rgb(255, 255, 255)\"}, \"xaxis\": \"x1\", \"yaxis\": \"y1\"}, {\"type\": \"bar\", \"y\": [1], \"x\": [1], \"orientation\": \"h\", \"width\": 0.5, \"text\": \"\", \"hoverinfo\": \"text\", \"marker\": {\"color\": \"rgb(255, 255, 255)\"}, \"xaxis\": \"x1\", \"yaxis\": \"y1\"}, {\"type\": \"bar\", \"y\": [1], \"x\": [1], \"orientation\": \"h\", \"width\": 0.5, \"text\": \"\", \"hoverinfo\": \"text\", \"marker\": {\"color\": \"rgb(255, 255, 255)\"}, \"xaxis\": \"x1\", \"yaxis\": \"y1\"}, {\"type\": \"bar\", \"y\": [1], \"x\": [1], \"orientation\": \"h\", \"width\": 0.5, \"text\": \"\", \"hoverinfo\": \"text\", \"marker\": {\"color\": \"rgb(255, 255, 255)\"}, \"xaxis\": \"x1\", \"yaxis\": \"y1\"}, {\"type\": \"bar\", \"y\": [1], \"x\": [1], \"orientation\": \"h\", \"width\": 0.5, \"text\": \"\", \"hoverinfo\": \"text\", \"marker\": {\"color\": \"rgb(255, 255, 255)\"}, \"xaxis\": \"x1\", \"yaxis\": \"y1\"}, {\"type\": \"bar\", \"y\": [1], \"x\": [1], \"orientation\": \"h\", \"width\": 0.5, \"text\": \"\", \"hoverinfo\": \"text\", \"marker\": {\"color\": \"rgb(255, 255, 255)\"}, \"xaxis\": \"x1\", \"yaxis\": \"y1\"}, {\"type\": \"bar\", \"y\": [1], \"x\": [1], \"orientation\": \"h\", \"width\": 0.5, \"text\": \"\", \"hoverinfo\": \"text\", \"marker\": {\"color\": \"rgb(255, 255, 255)\"}, \"xaxis\": \"x1\", \"yaxis\": \"y1\"}, {\"type\": \"bar\", \"y\": [1], \"x\": [1], \"orientation\": \"h\", \"width\": 0.5, \"text\": \"\", \"hoverinfo\": \"text\", \"marker\": {\"color\": \"rgb(255, 255, 255)\"}, \"xaxis\": \"x1\", \"yaxis\": \"y1\"}, {\"type\": \"bar\", \"y\": [1], \"x\": [1], \"orientation\": \"h\", \"width\": 0.5, \"text\": \"\", \"hoverinfo\": \"text\", \"marker\": {\"color\": \"rgb(255, 255, 255)\"}, \"xaxis\": \"x1\", \"yaxis\": \"y1\"}, {\"type\": \"bar\", \"y\": [1], \"x\": [1], \"orientation\": \"h\", \"width\": 0.5, \"text\": \"\", \"hoverinfo\": \"text\", \"marker\": {\"color\": \"rgb(255, 255, 255)\"}, \"xaxis\": \"x1\", \"yaxis\": \"y1\"}, {\"type\": \"bar\", \"y\": [1], \"x\": [1], \"orientation\": \"h\", \"width\": 0.5, \"text\": \"\", \"hoverinfo\": \"text\", \"marker\": {\"color\": \"rgb(255, 255, 255)\"}, \"xaxis\": \"x1\", \"yaxis\": \"y1\"}, {\"type\": \"bar\", \"y\": [1], \"x\": [1], \"orientation\": \"h\", \"width\": 0.5, \"text\": \"\", \"hoverinfo\": \"text\", \"marker\": {\"color\": \"rgb(255, 255, 255)\"}, \"xaxis\": \"x1\", \"yaxis\": \"y1\"}, {\"type\": \"bar\", \"y\": [1], \"x\": [1], \"orientation\": \"h\", \"width\": 0.5, \"text\": \"\", \"hoverinfo\": \"text\", \"marker\": {\"color\": \"rgb(255, 255, 255)\"}, \"xaxis\": \"x1\", \"yaxis\": \"y1\"}, {\"type\": \"bar\", \"y\": [1], \"x\": [1], \"orientation\": \"h\", \"width\": 0.5, \"text\": \"\", \"hoverinfo\": \"text\", \"marker\": {\"color\": \"rgb(255, 255, 255)\"}, \"xaxis\": \"x1\", \"yaxis\": \"y1\"}, {\"type\": \"bar\", \"y\": [1], \"x\": [1], \"orientation\": \"h\", \"width\": 0.5, \"text\": \"\", \"hoverinfo\": \"text\", \"marker\": {\"color\": \"rgb(255, 255, 255)\"}, \"xaxis\": \"x1\", \"yaxis\": \"y1\"}, {\"type\": \"bar\", \"y\": [1], \"x\": [1], \"orientation\": \"h\", \"width\": 0.5, \"text\": \"\", \"hoverinfo\": \"text\", \"marker\": {\"color\": \"rgb(255, 255, 255)\"}, \"xaxis\": \"x1\", \"yaxis\": \"y1\"}, {\"type\": \"bar\", \"y\": [1], \"x\": [1], \"orientation\": \"h\", \"width\": 0.5, \"text\": \"\", \"hoverinfo\": \"text\", \"marker\": {\"color\": \"rgb(255, 255, 255)\"}, \"xaxis\": \"x1\", \"yaxis\": \"y1\"}, {\"type\": \"bar\", \"y\": [1], \"x\": [1], \"orientation\": \"h\", \"width\": 0.5, \"text\": \"\", \"hoverinfo\": \"text\", \"marker\": {\"color\": \"rgb(255, 255, 255)\"}, \"xaxis\": \"x1\", \"yaxis\": \"y1\"}, {\"type\": \"bar\", \"y\": [1], \"x\": [1], \"orientation\": \"h\", \"width\": 0.5, \"text\": \"\", \"hoverinfo\": \"text\", \"marker\": {\"color\": \"rgb(255, 255, 255)\"}, \"xaxis\": \"x1\", \"yaxis\": \"y1\"}, {\"type\": \"bar\", \"y\": [1], \"x\": [1], \"orientation\": \"h\", \"width\": 0.5, \"text\": \"\", \"hoverinfo\": \"text\", \"marker\": {\"color\": \"rgb(255, 255, 255)\"}, \"xaxis\": \"x1\", \"yaxis\": \"y1\"}, {\"type\": \"bar\", \"y\": [1], \"x\": [1], \"orientation\": \"h\", \"width\": 0.5, \"text\": \"\", \"hoverinfo\": \"text\", \"marker\": {\"color\": \"rgb(255, 255, 255)\"}, \"xaxis\": \"x1\", \"yaxis\": \"y1\"}, {\"type\": \"bar\", \"y\": [1], \"x\": [1], \"orientation\": \"h\", \"width\": 0.5, \"text\": \"\", \"hoverinfo\": \"text\", \"marker\": {\"color\": \"rgb(255, 255, 255)\"}, \"xaxis\": \"x1\", \"yaxis\": \"y1\"}, {\"type\": \"bar\", \"y\": [1], \"x\": [1], \"orientation\": \"h\", \"width\": 0.5, \"text\": \"\", \"hoverinfo\": \"text\", \"marker\": {\"color\": \"rgb(255, 255, 255)\"}, \"xaxis\": \"x1\", \"yaxis\": \"y1\"}], {\"xaxis1\": {\"domain\": [0.0, 1.0], \"anchor\": \"y1\", \"showgrid\": false, \"showline\": false, \"showticklabels\": false, \"zeroline\": false}, \"yaxis1\": {\"domain\": [0.0, 1.0], \"anchor\": \"x1\", \"showgrid\": false, \"showline\": false, \"showticklabels\": false, \"zeroline\": false}, \"barmode\": \"stack\", \"showlegend\": false, \"margin\": {\"b\": 30, \"l\": 20, \"r\": 20, \"t\": 10}, \"annotations\": [{\"xref\": \"x1\", \"yref\": \"y1\", \"x\": 0.5, \"y\": 1, \"text\": \" \", \"align\": \"left\", \"font\": {\"family\": \"Arial\", \"size\": 14, \"color\": \"black\"}, \"showarrow\": false}, {\"xref\": \"x1\", \"yref\": \"y1\", \"x\": 1.5, \"y\": 1, \"text\": \"\\uacfc\", \"align\": \"left\", \"font\": {\"family\": \"Arial\", \"size\": 14, \"color\": \"black\"}, \"showarrow\": false}, {\"xref\": \"x1\", \"yref\": \"y1\", \"x\": 2.5, \"y\": 1, \"text\": \"\\ud55c\", \"align\": \"left\", \"font\": {\"family\": \"Arial\", \"size\": 14, \"color\": \"black\"}, \"showarrow\": false}, {\"xref\": \"x1\", \"yref\": \"y1\", \"x\": 3.5, \"y\": 1, \"text\": \" \", \"align\": \"left\", \"font\": {\"family\": \"Arial\", \"size\": 14, \"color\": \"black\"}, \"showarrow\": false}, {\"xref\": \"x1\", \"yref\": \"y1\", \"x\": 4.5, \"y\": 1, \"text\": \"\\uc695\", \"align\": \"left\", \"font\": {\"family\": \"Arial\", \"size\": 14, \"color\": \"black\"}, \"showarrow\": false}, {\"xref\": \"x1\", \"yref\": \"y1\", \"x\": 5.5, \"y\": 1, \"text\": \"\\uc2ec\", \"align\": \"left\", \"font\": {\"family\": \"Arial\", \"size\": 14, \"color\": \"black\"}, \"showarrow\": false}, {\"xref\": \"x1\", \"yref\": \"y1\", \"x\": 6.5, \"y\": 1, \"text\": \"\\uc740\", \"align\": \"left\", \"font\": {\"family\": \"Arial\", \"size\": 14, \"color\": \"black\"}, \"showarrow\": false}, {\"xref\": \"x1\", \"yref\": \"y1\", \"x\": 7.5, \"y\": 1, \"text\": \" \", \"align\": \"left\", \"font\": {\"family\": \"Arial\", \"size\": 14, \"color\": \"black\"}, \"showarrow\": false}, {\"xref\": \"x1\", \"yref\": \"y1\", \"x\": 8.5, \"y\": 1, \"text\": \"\\uc8fc\", \"align\": \"left\", \"font\": {\"family\": \"Arial\", \"size\": 14, \"color\": \"black\"}, \"showarrow\": false}, {\"xref\": \"x1\", \"yref\": \"y1\", \"x\": 9.5, \"y\": 1, \"text\": \"\\ubcc0\", \"align\": \"left\", \"font\": {\"family\": \"Arial\", \"size\": 14, \"color\": \"black\"}, \"showarrow\": false}, {\"xref\": \"x1\", \"yref\": \"y1\", \"x\": 10.5, \"y\": 1, \"text\": \" \", \"align\": \"left\", \"font\": {\"family\": \"Arial\", \"size\": 14, \"color\": \"black\"}, \"showarrow\": false}, {\"xref\": \"x1\", \"yref\": \"y1\", \"x\": 11.5, \"y\": 1, \"text\": \"\\uc0ac\", \"align\": \"left\", \"font\": {\"family\": \"Arial\", \"size\": 14, \"color\": \"black\"}, \"showarrow\": false}, {\"xref\": \"x1\", \"yref\": \"y1\", \"x\": 12.5, \"y\": 1, \"text\": \"\\ub78c\", \"align\": \"left\", \"font\": {\"family\": \"Arial\", \"size\": 14, \"color\": \"black\"}, \"showarrow\": false}, {\"xref\": \"x1\", \"yref\": \"y1\", \"x\": 13.5, \"y\": 1, \"text\": \"\\ub4e4\", \"align\": \"left\", \"font\": {\"family\": \"Arial\", \"size\": 14, \"color\": \"black\"}, \"showarrow\": false}, {\"xref\": \"x1\", \"yref\": \"y1\", \"x\": 14.5, \"y\": 1, \"text\": \"\\uc5d0\", \"align\": \"left\", \"font\": {\"family\": \"Arial\", \"size\": 14, \"color\": \"black\"}, \"showarrow\": false}, {\"xref\": \"x1\", \"yref\": \"y1\", \"x\": 15.5, \"y\": 1, \"text\": \"\\uac8c\", \"align\": \"left\", \"font\": {\"family\": \"Arial\", \"size\": 14, \"color\": \"black\"}, \"showarrow\": false}, {\"xref\": \"x1\", \"yref\": \"y1\", \"x\": 16.5, \"y\": 1, \"text\": \" \", \"align\": \"left\", \"font\": {\"family\": \"Arial\", \"size\": 14, \"color\": \"black\"}, \"showarrow\": false}, {\"xref\": \"x1\", \"yref\": \"y1\", \"x\": 17.5, \"y\": 1, \"text\": \"\\ud53c\", \"align\": \"left\", \"font\": {\"family\": \"Arial\", \"size\": 14, \"color\": \"black\"}, \"showarrow\": false}, {\"xref\": \"x1\", \"yref\": \"y1\", \"x\": 18.5, \"y\": 1, \"text\": \"\\ud574\", \"align\": \"left\", \"font\": {\"family\": \"Arial\", \"size\": 14, \"color\": \"black\"}, \"showarrow\": false}, {\"xref\": \"x1\", \"yref\": \"y1\", \"x\": 19.5, \"y\": 1, \"text\": \"\\ub97c\", \"align\": \"left\", \"font\": {\"family\": \"Arial\", \"size\": 14, \"color\": \"black\"}, \"showarrow\": false}, {\"xref\": \"x1\", \"yref\": \"y1\", \"x\": 20.5, \"y\": 1, \"text\": \" \", \"align\": \"left\", \"font\": {\"family\": \"Arial\", \"size\": 14, \"color\": \"black\"}, \"showarrow\": false}, {\"xref\": \"x1\", \"yref\": \"y1\", \"x\": 21.5, \"y\": 1, \"text\": \"\\uc90d\", \"align\": \"left\", \"font\": {\"family\": \"Arial\", \"size\": 14, \"color\": \"black\"}, \"showarrow\": false}, {\"xref\": \"x1\", \"yref\": \"y1\", \"x\": 22.5, \"y\": 1, \"text\": \"\\ub2c8\", \"align\": \"left\", \"font\": {\"family\": \"Arial\", \"size\": 14, \"color\": \"black\"}, \"showarrow\": false}, {\"xref\": \"x1\", \"yref\": \"y1\", \"x\": 23.5, \"y\": 1, \"text\": \"\\ub2e4\", \"align\": \"left\", \"font\": {\"family\": \"Arial\", \"size\": 14, \"color\": \"black\"}, \"showarrow\": false}, {\"xref\": \"x1\", \"yref\": \"y1\", \"x\": 24.5, \"y\": 1, \"text\": \" \", \"align\": \"left\", \"font\": {\"family\": \"Arial\", \"size\": 14, \"color\": \"black\"}, \"showarrow\": false}, {\"xref\": \"x1\", \"yref\": \"y1\", \"x\": 25.5, \"y\": 1, \"text\": \".\", \"align\": \"left\", \"font\": {\"family\": \"Arial\", \"size\": 14, \"color\": \"black\"}, \"showarrow\": false}], \"height\": 80, \"images\": [{\"source\": \"https://raw.githubusercontent.com/fingeredman/teanaps/master/data/logo/teanaps_logo_no-bg.png\", \"xref\": \"paper\", \"yref\": \"paper\", \"x\": 0.5, \"y\": 0.6, \"sizex\": 0.7, \"sizey\": 0.7, \"xanchor\": \"center\", \"yanchor\": \"center\", \"opacity\": 0.3, \"layer\": \"above\"}]}, {\"showLink\": true, \"linkText\": \"Export to plot.ly\"})});</script>"
      ]
     },
     "metadata": {},
     "output_type": "display_data"
    }
   ],
   "source": [
    "sentence = \"과한 욕심은 주변 사람들에게 피해를 줍니다.\"\n",
    "senti.draw_sentence_weight(sentence)"
   ]
  },
  {
   "cell_type": "markdown",
   "metadata": {},
   "source": [
    "#### 1.5. 어절별 감성분석 수행하기\n",
    "\n",
    "---"
   ]
  },
  {
   "cell_type": "code",
   "execution_count": 28,
   "metadata": {},
   "outputs": [
    {
     "name": "stdout",
     "output_type": "stream",
     "text": [
      "[(((0.5991, 0.3836), 'neutral'), '욕심쟁이에게', [[('욕심쟁이', 'NNG', 'UN', (0, 4))], [('에게', 'JKB', 'UN', (4, 6))]]), (((0.9147, 0.0828), 'negative'), '스트레스 받으며', [[('스트레스', 'NNG', 'UN', (7, 11)), ('받', 'VV', 'UN', (12, 13))], [('으며', 'EC', 'UN', (13, 15))]]), (((0.9047, 0.0953), 'negative'), '살다가', [[('살', 'VV', 'UN', (16, 17))], [('다가', 'EC', 'UN', (17, 19))]]), (((0.8306, 0.1751), 'negative'), '떠나고', [[('떠나', 'VV', 'UN', (20, 22))], [('고', 'EC', 'UN', (22, 23))]]), (((0.453, 0.5296), 'neutral'), '나니', [[('나', 'VX', 'UN', (23, 24))], [('니', 'EC', 'UN', (24, 25))]]), (((0.1065, 0.8982), 'positive'), '너무 행복해요!', [[('너무', 'MAG', 'UN', (26, 28))], [('행복', 'NNG', 'UN', (29, 31))], [('해요', 'XSV+EF', 'UN', (31, 33)), ('!', 'SW', 'UN', (33, 34))]])]\n",
      "[' 욕심', '쟁', '이', '에게', ' 스트레스', ' 받으며', ' 살', '다', '가', ' 떠나', '고', ' 나', '니', ' 너무', ' 행복', '해', '요', ' ', '!']\n",
      "[0, 0, 0, 0, -0.2424436, -0.20117857, -0.16506892, -0.16892226, -0.27025366, -0.16876356, -0.33119142, 0, 0, 0.15942541, 0.13346915, 0.11855107, 0.15605149, 0, 0.11754697]\n"
     ]
    }
   ],
   "source": [
    "sentence = \"욕심쟁이에게 스트레스 받으며 살다가 떠나고나니 너무 행복해요!\"\n",
    "phrase_token_weight_list, token_list, weight_list = senti.get_sentiment_parse(sentence, neutral_th=0.5)\n",
    "#phrase_token_weight_list, token_list, weight_list = senti.get_sentiment_parse(sentence, neutral_th=0.5, model_path=\"/ner_model\")\n",
    "print(phrase_token_weight_list)\n",
    "print(token_list)\n",
    "print(weight_list)"
   ]
  },
  {
   "cell_type": "code",
   "execution_count": 29,
   "metadata": {},
   "outputs": [
    {
     "data": {
      "text/html": [
       "\n",
       "                <script src=\"/static/components/requirejs/require.js\"></script>\n",
       "                <script>\n",
       "                  requirejs.config({\n",
       "                    paths: {\n",
       "                      base: '/static/base',\n",
       "                      plotly: 'https://cdn.plot.ly/plotly-latest.min.js?noext',\n",
       "                    },\n",
       "                  });\n",
       "                </script>\n",
       "                "
      ],
      "text/plain": [
       "<IPython.core.display.HTML object>"
      ]
     },
     "metadata": {},
     "output_type": "display_data"
    },
    {
     "data": {
      "text/html": [
       "\n",
       "                <script src=\"/static/components/requirejs/require.js\"></script>\n",
       "                <script>\n",
       "                  requirejs.config({\n",
       "                    paths: {\n",
       "                      base: '/static/base',\n",
       "                      plotly: 'https://cdn.plot.ly/plotly-latest.min.js?noext',\n",
       "                    },\n",
       "                  });\n",
       "                </script>\n",
       "                "
      ],
      "text/plain": [
       "<IPython.core.display.HTML object>"
      ]
     },
     "metadata": {},
     "output_type": "display_data"
    },
    {
     "data": {
      "application/vnd.plotly.v1+json": {
       "data": [
        {
         "hoverinfo": "text",
         "marker": {
          "color": "rgb(255, 255.0, 255.0)"
         },
         "orientation": "h",
         "text": "",
         "type": "bar",
         "width": 0.5,
         "x": [
          3
         ],
         "xaxis": "x1",
         "y": [
          1
         ],
         "yaxis": "y1"
        },
        {
         "hoverinfo": "text",
         "marker": {
          "color": "rgb(255, 255.0, 255.0)"
         },
         "orientation": "h",
         "text": "",
         "type": "bar",
         "width": 0.5,
         "x": [
          1
         ],
         "xaxis": "x1",
         "y": [
          1
         ],
         "yaxis": "y1"
        },
        {
         "hoverinfo": "text",
         "marker": {
          "color": "rgb(255, 255.0, 255.0)"
         },
         "orientation": "h",
         "text": "",
         "type": "bar",
         "width": 0.5,
         "x": [
          1
         ],
         "xaxis": "x1",
         "y": [
          1
         ],
         "yaxis": "y1"
        },
        {
         "hoverinfo": "text",
         "marker": {
          "color": "rgb(255, 255.0, 255.0)"
         },
         "orientation": "h",
         "text": "",
         "type": "bar",
         "width": 0.5,
         "x": [
          2
         ],
         "xaxis": "x1",
         "y": [
          1
         ],
         "yaxis": "y1"
        },
        {
         "hoverinfo": "text",
         "marker": {
          "color": "rgb(255, 145.19479751586914, 145.19479751586914)"
         },
         "orientation": "h",
         "text": "0.73",
         "type": "bar",
         "width": 0.5,
         "x": [
          5
         ],
         "xaxis": "x1",
         "y": [
          1
         ],
         "yaxis": "y1"
        },
        {
         "hoverinfo": "text",
         "marker": {
          "color": "rgb(255, 163.88416171073914, 163.88416171073914)"
         },
         "orientation": "h",
         "text": "0.61",
         "type": "bar",
         "width": 0.5,
         "x": [
          4
         ],
         "xaxis": "x1",
         "y": [
          1
         ],
         "yaxis": "y1"
        },
        {
         "hoverinfo": "text",
         "marker": {
          "color": "rgb(255, 180.23858696222305, 180.23858696222305)"
         },
         "orientation": "h",
         "text": "0.5",
         "type": "bar",
         "width": 0.5,
         "x": [
          2
         ],
         "xaxis": "x1",
         "y": [
          1
         ],
         "yaxis": "y1"
        },
        {
         "hoverinfo": "text",
         "marker": {
          "color": "rgb(255, 178.49336743354797, 178.49336743354797)"
         },
         "orientation": "h",
         "text": "0.51",
         "type": "bar",
         "width": 0.5,
         "x": [
          1
         ],
         "xaxis": "x1",
         "y": [
          1
         ],
         "yaxis": "y1"
        },
        {
         "hoverinfo": "text",
         "marker": {
          "color": "rgb(255, 132.59934067726135, 132.59934067726135)"
         },
         "orientation": "h",
         "text": "0.82",
         "type": "bar",
         "width": 0.5,
         "x": [
          1
         ],
         "xaxis": "x1",
         "y": [
          1
         ],
         "yaxis": "y1"
        },
        {
         "hoverinfo": "text",
         "marker": {
          "color": "rgb(255, 178.5652506351471, 178.5652506351471)"
         },
         "orientation": "h",
         "text": "0.51",
         "type": "bar",
         "width": 0.5,
         "x": [
          3
         ],
         "xaxis": "x1",
         "y": [
          1
         ],
         "yaxis": "y1"
        },
        {
         "hoverinfo": "text",
         "marker": {
          "color": "rgb(255, 105.0, 105.0)"
         },
         "orientation": "h",
         "text": "1.0",
         "type": "bar",
         "width": 0.5,
         "x": [
          1
         ],
         "xaxis": "x1",
         "y": [
          1
         ],
         "yaxis": "y1"
        },
        {
         "hoverinfo": "text",
         "marker": {
          "color": "rgb(255, 255.0, 255.0)"
         },
         "orientation": "h",
         "text": "",
         "type": "bar",
         "width": 0.5,
         "x": [
          2
         ],
         "xaxis": "x1",
         "y": [
          1
         ],
         "yaxis": "y1"
        },
        {
         "hoverinfo": "text",
         "marker": {
          "color": "rgb(255, 255.0, 255.0)"
         },
         "orientation": "h",
         "text": "",
         "type": "bar",
         "width": 0.5,
         "x": [
          1
         ],
         "xaxis": "x1",
         "y": [
          1
         ],
         "yaxis": "y1"
        },
        {
         "hoverinfo": "text",
         "marker": {
          "color": "rgb(158.72612476348877, 206.86306238174438, 255)"
         },
         "orientation": "h",
         "text": "0.48",
         "type": "bar",
         "width": 0.5,
         "x": [
          3
         ],
         "xaxis": "x1",
         "y": [
          1
         ],
         "yaxis": "y1"
        },
        {
         "hoverinfo": "text",
         "marker": {
          "color": "rgb(174.40060257911682, 214.7003012895584, 255)"
         },
         "orientation": "h",
         "text": "0.4",
         "type": "bar",
         "width": 0.5,
         "x": [
          3
         ],
         "xaxis": "x1",
         "y": [
          1
         ],
         "yaxis": "y1"
        },
        {
         "hoverinfo": "text",
         "marker": {
          "color": "rgb(183.40933799743652, 219.20466899871826, 255)"
         },
         "orientation": "h",
         "text": "0.36",
         "type": "bar",
         "width": 0.5,
         "x": [
          1
         ],
         "xaxis": "x1",
         "y": [
          1
         ],
         "yaxis": "y1"
        },
        {
         "hoverinfo": "text",
         "marker": {
          "color": "rgb(160.76356649398804, 207.88178324699402, 255)"
         },
         "orientation": "h",
         "text": "0.47",
         "type": "bar",
         "width": 0.5,
         "x": [
          1
         ],
         "xaxis": "x1",
         "y": [
          1
         ],
         "yaxis": "y1"
        },
        {
         "hoverinfo": "text",
         "marker": {
          "color": "rgb(255, 255.0, 255.0)"
         },
         "orientation": "h",
         "text": "",
         "type": "bar",
         "width": 0.5,
         "x": [
          1
         ],
         "xaxis": "x1",
         "y": [
          1
         ],
         "yaxis": "y1"
        },
        {
         "hoverinfo": "text",
         "marker": {
          "color": "rgb(184.0156900882721, 219.50784504413605, 255)"
         },
         "orientation": "h",
         "text": "0.35",
         "type": "bar",
         "width": 0.5,
         "x": [
          1
         ],
         "xaxis": "x1",
         "y": [
          1
         ],
         "yaxis": "y1"
        },
        {
         "hoverinfo": "text",
         "marker": {
          "color": "rgb(255, 255, 255)"
         },
         "orientation": "h",
         "text": "",
         "type": "bar",
         "width": 0.5,
         "x": [
          1
         ],
         "xaxis": "x1",
         "y": [
          1
         ],
         "yaxis": "y1"
        },
        {
         "hoverinfo": "text",
         "marker": {
          "color": "rgb(255, 255, 255)"
         },
         "orientation": "h",
         "text": "",
         "type": "bar",
         "width": 0.5,
         "x": [
          1
         ],
         "xaxis": "x1",
         "y": [
          1
         ],
         "yaxis": "y1"
        },
        {
         "hoverinfo": "text",
         "marker": {
          "color": "rgb(255, 255, 255)"
         },
         "orientation": "h",
         "text": "",
         "type": "bar",
         "width": 0.5,
         "x": [
          1
         ],
         "xaxis": "x1",
         "y": [
          1
         ],
         "yaxis": "y1"
        },
        {
         "hoverinfo": "text",
         "marker": {
          "color": "rgb(255, 255, 255)"
         },
         "orientation": "h",
         "text": "",
         "type": "bar",
         "width": 0.5,
         "x": [
          1
         ],
         "xaxis": "x1",
         "y": [
          1
         ],
         "yaxis": "y1"
        },
        {
         "hoverinfo": "text",
         "marker": {
          "color": "rgb(255, 255, 255)"
         },
         "orientation": "h",
         "text": "",
         "type": "bar",
         "width": 0.5,
         "x": [
          1
         ],
         "xaxis": "x1",
         "y": [
          1
         ],
         "yaxis": "y1"
        },
        {
         "hoverinfo": "text",
         "marker": {
          "color": "rgb(255, 255, 255)"
         },
         "orientation": "h",
         "text": "",
         "type": "bar",
         "width": 0.5,
         "x": [
          1
         ],
         "xaxis": "x1",
         "y": [
          1
         ],
         "yaxis": "y1"
        },
        {
         "hoverinfo": "text",
         "marker": {
          "color": "rgb(255, 255, 255)"
         },
         "orientation": "h",
         "text": "",
         "type": "bar",
         "width": 0.5,
         "x": [
          1
         ],
         "xaxis": "x1",
         "y": [
          1
         ],
         "yaxis": "y1"
        },
        {
         "hoverinfo": "text",
         "marker": {
          "color": "rgb(255, 255, 255)"
         },
         "orientation": "h",
         "text": "",
         "type": "bar",
         "width": 0.5,
         "x": [
          1
         ],
         "xaxis": "x1",
         "y": [
          1
         ],
         "yaxis": "y1"
        },
        {
         "hoverinfo": "text",
         "marker": {
          "color": "rgb(255, 255, 255)"
         },
         "orientation": "h",
         "text": "",
         "type": "bar",
         "width": 0.5,
         "x": [
          1
         ],
         "xaxis": "x1",
         "y": [
          1
         ],
         "yaxis": "y1"
        },
        {
         "hoverinfo": "text",
         "marker": {
          "color": "rgb(255, 255, 255)"
         },
         "orientation": "h",
         "text": "",
         "type": "bar",
         "width": 0.5,
         "x": [
          1
         ],
         "xaxis": "x1",
         "y": [
          1
         ],
         "yaxis": "y1"
        },
        {
         "hoverinfo": "text",
         "marker": {
          "color": "rgb(255, 255, 255)"
         },
         "orientation": "h",
         "text": "",
         "type": "bar",
         "width": 0.5,
         "x": [
          1
         ],
         "xaxis": "x1",
         "y": [
          1
         ],
         "yaxis": "y1"
        },
        {
         "hoverinfo": "text",
         "marker": {
          "color": "rgb(255, 255, 255)"
         },
         "orientation": "h",
         "text": "",
         "type": "bar",
         "width": 0.5,
         "x": [
          1
         ],
         "xaxis": "x1",
         "y": [
          1
         ],
         "yaxis": "y1"
        },
        {
         "hoverinfo": "text",
         "marker": {
          "color": "rgb(255, 255, 255)"
         },
         "orientation": "h",
         "text": "",
         "type": "bar",
         "width": 0.5,
         "x": [
          1
         ],
         "xaxis": "x1",
         "y": [
          1
         ],
         "yaxis": "y1"
        }
       ],
       "layout": {
        "annotations": [
         {
          "align": "left",
          "font": {
           "color": "black",
           "family": "Arial",
           "size": 14
          },
          "showarrow": false,
          "text": " ",
          "x": 0.5,
          "xref": "x1",
          "y": 1,
          "yref": "y1"
         },
         {
          "align": "left",
          "font": {
           "color": "black",
           "family": "Arial",
           "size": 14
          },
          "showarrow": false,
          "text": "욕",
          "x": 1.5,
          "xref": "x1",
          "y": 1,
          "yref": "y1"
         },
         {
          "align": "left",
          "font": {
           "color": "black",
           "family": "Arial",
           "size": 14
          },
          "showarrow": false,
          "text": "심",
          "x": 2.5,
          "xref": "x1",
          "y": 1,
          "yref": "y1"
         },
         {
          "align": "left",
          "font": {
           "color": "black",
           "family": "Arial",
           "size": 14
          },
          "showarrow": false,
          "text": "쟁",
          "x": 3.5,
          "xref": "x1",
          "y": 1,
          "yref": "y1"
         },
         {
          "align": "left",
          "font": {
           "color": "black",
           "family": "Arial",
           "size": 14
          },
          "showarrow": false,
          "text": "이",
          "x": 4.5,
          "xref": "x1",
          "y": 1,
          "yref": "y1"
         },
         {
          "align": "left",
          "font": {
           "color": "black",
           "family": "Arial",
           "size": 14
          },
          "showarrow": false,
          "text": "에",
          "x": 5.5,
          "xref": "x1",
          "y": 1,
          "yref": "y1"
         },
         {
          "align": "left",
          "font": {
           "color": "black",
           "family": "Arial",
           "size": 14
          },
          "showarrow": false,
          "text": "게",
          "x": 6.5,
          "xref": "x1",
          "y": 1,
          "yref": "y1"
         },
         {
          "align": "left",
          "font": {
           "color": "black",
           "family": "Arial",
           "size": 14
          },
          "showarrow": false,
          "text": " ",
          "x": 7.5,
          "xref": "x1",
          "y": 1,
          "yref": "y1"
         },
         {
          "align": "left",
          "font": {
           "color": "black",
           "family": "Arial",
           "size": 14
          },
          "showarrow": false,
          "text": "스",
          "x": 8.5,
          "xref": "x1",
          "y": 1,
          "yref": "y1"
         },
         {
          "align": "left",
          "font": {
           "color": "black",
           "family": "Arial",
           "size": 14
          },
          "showarrow": false,
          "text": "트",
          "x": 9.5,
          "xref": "x1",
          "y": 1,
          "yref": "y1"
         },
         {
          "align": "left",
          "font": {
           "color": "black",
           "family": "Arial",
           "size": 14
          },
          "showarrow": false,
          "text": "레",
          "x": 10.5,
          "xref": "x1",
          "y": 1,
          "yref": "y1"
         },
         {
          "align": "left",
          "font": {
           "color": "black",
           "family": "Arial",
           "size": 14
          },
          "showarrow": false,
          "text": "스",
          "x": 11.5,
          "xref": "x1",
          "y": 1,
          "yref": "y1"
         },
         {
          "align": "left",
          "font": {
           "color": "black",
           "family": "Arial",
           "size": 14
          },
          "showarrow": false,
          "text": " ",
          "x": 12.5,
          "xref": "x1",
          "y": 1,
          "yref": "y1"
         },
         {
          "align": "left",
          "font": {
           "color": "black",
           "family": "Arial",
           "size": 14
          },
          "showarrow": false,
          "text": "받",
          "x": 13.5,
          "xref": "x1",
          "y": 1,
          "yref": "y1"
         },
         {
          "align": "left",
          "font": {
           "color": "black",
           "family": "Arial",
           "size": 14
          },
          "showarrow": false,
          "text": "으",
          "x": 14.5,
          "xref": "x1",
          "y": 1,
          "yref": "y1"
         },
         {
          "align": "left",
          "font": {
           "color": "black",
           "family": "Arial",
           "size": 14
          },
          "showarrow": false,
          "text": "며",
          "x": 15.5,
          "xref": "x1",
          "y": 1,
          "yref": "y1"
         },
         {
          "align": "left",
          "font": {
           "color": "black",
           "family": "Arial",
           "size": 14
          },
          "showarrow": false,
          "text": " ",
          "x": 16.5,
          "xref": "x1",
          "y": 1,
          "yref": "y1"
         },
         {
          "align": "left",
          "font": {
           "color": "black",
           "family": "Arial",
           "size": 14
          },
          "showarrow": false,
          "text": "살",
          "x": 17.5,
          "xref": "x1",
          "y": 1,
          "yref": "y1"
         },
         {
          "align": "left",
          "font": {
           "color": "black",
           "family": "Arial",
           "size": 14
          },
          "showarrow": false,
          "text": "다",
          "x": 18.5,
          "xref": "x1",
          "y": 1,
          "yref": "y1"
         },
         {
          "align": "left",
          "font": {
           "color": "black",
           "family": "Arial",
           "size": 14
          },
          "showarrow": false,
          "text": "가",
          "x": 19.5,
          "xref": "x1",
          "y": 1,
          "yref": "y1"
         },
         {
          "align": "left",
          "font": {
           "color": "black",
           "family": "Arial",
           "size": 14
          },
          "showarrow": false,
          "text": " ",
          "x": 20.5,
          "xref": "x1",
          "y": 1,
          "yref": "y1"
         },
         {
          "align": "left",
          "font": {
           "color": "black",
           "family": "Arial",
           "size": 14
          },
          "showarrow": false,
          "text": "떠",
          "x": 21.5,
          "xref": "x1",
          "y": 1,
          "yref": "y1"
         },
         {
          "align": "left",
          "font": {
           "color": "black",
           "family": "Arial",
           "size": 14
          },
          "showarrow": false,
          "text": "나",
          "x": 22.5,
          "xref": "x1",
          "y": 1,
          "yref": "y1"
         },
         {
          "align": "left",
          "font": {
           "color": "black",
           "family": "Arial",
           "size": 14
          },
          "showarrow": false,
          "text": "고",
          "x": 23.5,
          "xref": "x1",
          "y": 1,
          "yref": "y1"
         },
         {
          "align": "left",
          "font": {
           "color": "black",
           "family": "Arial",
           "size": 14
          },
          "showarrow": false,
          "text": " ",
          "x": 24.5,
          "xref": "x1",
          "y": 1,
          "yref": "y1"
         },
         {
          "align": "left",
          "font": {
           "color": "black",
           "family": "Arial",
           "size": 14
          },
          "showarrow": false,
          "text": "나",
          "x": 25.5,
          "xref": "x1",
          "y": 1,
          "yref": "y1"
         },
         {
          "align": "left",
          "font": {
           "color": "black",
           "family": "Arial",
           "size": 14
          },
          "showarrow": false,
          "text": "니",
          "x": 26.5,
          "xref": "x1",
          "y": 1,
          "yref": "y1"
         },
         {
          "align": "left",
          "font": {
           "color": "black",
           "family": "Arial",
           "size": 14
          },
          "showarrow": false,
          "text": " ",
          "x": 27.5,
          "xref": "x1",
          "y": 1,
          "yref": "y1"
         },
         {
          "align": "left",
          "font": {
           "color": "black",
           "family": "Arial",
           "size": 14
          },
          "showarrow": false,
          "text": "너",
          "x": 28.5,
          "xref": "x1",
          "y": 1,
          "yref": "y1"
         },
         {
          "align": "left",
          "font": {
           "color": "black",
           "family": "Arial",
           "size": 14
          },
          "showarrow": false,
          "text": "무",
          "x": 29.5,
          "xref": "x1",
          "y": 1,
          "yref": "y1"
         },
         {
          "align": "left",
          "font": {
           "color": "black",
           "family": "Arial",
           "size": 14
          },
          "showarrow": false,
          "text": " ",
          "x": 30.5,
          "xref": "x1",
          "y": 1,
          "yref": "y1"
         },
         {
          "align": "left",
          "font": {
           "color": "black",
           "family": "Arial",
           "size": 14
          },
          "showarrow": false,
          "text": "행",
          "x": 31.5,
          "xref": "x1",
          "y": 1,
          "yref": "y1"
         },
         {
          "align": "left",
          "font": {
           "color": "black",
           "family": "Arial",
           "size": 14
          },
          "showarrow": false,
          "text": "복",
          "x": 32.5,
          "xref": "x1",
          "y": 1,
          "yref": "y1"
         },
         {
          "align": "left",
          "font": {
           "color": "black",
           "family": "Arial",
           "size": 14
          },
          "showarrow": false,
          "text": "해",
          "x": 33.5,
          "xref": "x1",
          "y": 1,
          "yref": "y1"
         },
         {
          "align": "left",
          "font": {
           "color": "black",
           "family": "Arial",
           "size": 14
          },
          "showarrow": false,
          "text": "요",
          "x": 34.5,
          "xref": "x1",
          "y": 1,
          "yref": "y1"
         },
         {
          "align": "left",
          "font": {
           "color": "black",
           "family": "Arial",
           "size": 14
          },
          "showarrow": false,
          "text": " ",
          "x": 35.5,
          "xref": "x1",
          "y": 1,
          "yref": "y1"
         },
         {
          "align": "left",
          "font": {
           "color": "black",
           "family": "Arial",
           "size": 14
          },
          "showarrow": false,
          "text": "!",
          "x": 36.5,
          "xref": "x1",
          "y": 1,
          "yref": "y1"
         }
        ],
        "barmode": "stack",
        "height": 80,
        "images": [
         {
          "layer": "above",
          "opacity": 0.3,
          "sizex": 0.7,
          "sizey": 0.7,
          "source": "https://raw.githubusercontent.com/fingeredman/teanaps/master/data/logo/teanaps_logo_no-bg.png",
          "x": 0.5,
          "xanchor": "center",
          "xref": "paper",
          "y": 0.6,
          "yanchor": "center",
          "yref": "paper"
         }
        ],
        "margin": {
         "b": 30,
         "l": 20,
         "r": 20,
         "t": 10
        },
        "showlegend": false,
        "xaxis1": {
         "anchor": "y1",
         "domain": [
          0,
          1
         ],
         "showgrid": false,
         "showline": false,
         "showticklabels": false,
         "zeroline": false
        },
        "yaxis1": {
         "anchor": "x1",
         "domain": [
          0,
          1
         ],
         "showgrid": false,
         "showline": false,
         "showticklabels": false,
         "zeroline": false
        }
       }
      },
      "text/html": [
       "<div id=\"0f5a9000-faef-4a74-80d7-fd1b80d42f35\" style=\"height: 80px; width: 100%;\" class=\"plotly-graph-div\"></div><script type=\"text/javascript\">require([\"plotly\"], function(Plotly) { window.PLOTLYENV=window.PLOTLYENV || {};window.PLOTLYENV.BASE_URL=\"https://plot.ly\";Plotly.newPlot(\"0f5a9000-faef-4a74-80d7-fd1b80d42f35\", [{\"type\": \"bar\", \"y\": [1], \"x\": [3], \"orientation\": \"h\", \"width\": 0.5, \"text\": \"\", \"hoverinfo\": \"text\", \"marker\": {\"color\": \"rgb(255, 255.0, 255.0)\"}, \"xaxis\": \"x1\", \"yaxis\": \"y1\"}, {\"type\": \"bar\", \"y\": [1], \"x\": [1], \"orientation\": \"h\", \"width\": 0.5, \"text\": \"\", \"hoverinfo\": \"text\", \"marker\": {\"color\": \"rgb(255, 255.0, 255.0)\"}, \"xaxis\": \"x1\", \"yaxis\": \"y1\"}, {\"type\": \"bar\", \"y\": [1], \"x\": [1], \"orientation\": \"h\", \"width\": 0.5, \"text\": \"\", \"hoverinfo\": \"text\", \"marker\": {\"color\": \"rgb(255, 255.0, 255.0)\"}, \"xaxis\": \"x1\", \"yaxis\": \"y1\"}, {\"type\": \"bar\", \"y\": [1], \"x\": [2], \"orientation\": \"h\", \"width\": 0.5, \"text\": \"\", \"hoverinfo\": \"text\", \"marker\": {\"color\": \"rgb(255, 255.0, 255.0)\"}, \"xaxis\": \"x1\", \"yaxis\": \"y1\"}, {\"type\": \"bar\", \"y\": [1], \"x\": [5], \"orientation\": \"h\", \"width\": 0.5, \"text\": \"0.73\", \"hoverinfo\": \"text\", \"marker\": {\"color\": \"rgb(255, 145.19479751586914, 145.19479751586914)\"}, \"xaxis\": \"x1\", \"yaxis\": \"y1\"}, {\"type\": \"bar\", \"y\": [1], \"x\": [4], \"orientation\": \"h\", \"width\": 0.5, \"text\": \"0.61\", \"hoverinfo\": \"text\", \"marker\": {\"color\": \"rgb(255, 163.88416171073914, 163.88416171073914)\"}, \"xaxis\": \"x1\", \"yaxis\": \"y1\"}, {\"type\": \"bar\", \"y\": [1], \"x\": [2], \"orientation\": \"h\", \"width\": 0.5, \"text\": \"0.5\", \"hoverinfo\": \"text\", \"marker\": {\"color\": \"rgb(255, 180.23858696222305, 180.23858696222305)\"}, \"xaxis\": \"x1\", \"yaxis\": \"y1\"}, {\"type\": \"bar\", \"y\": [1], \"x\": [1], \"orientation\": \"h\", \"width\": 0.5, \"text\": \"0.51\", \"hoverinfo\": \"text\", \"marker\": {\"color\": \"rgb(255, 178.49336743354797, 178.49336743354797)\"}, \"xaxis\": \"x1\", \"yaxis\": \"y1\"}, {\"type\": \"bar\", \"y\": [1], \"x\": [1], \"orientation\": \"h\", \"width\": 0.5, \"text\": \"0.82\", \"hoverinfo\": \"text\", \"marker\": {\"color\": \"rgb(255, 132.59934067726135, 132.59934067726135)\"}, \"xaxis\": \"x1\", \"yaxis\": \"y1\"}, {\"type\": \"bar\", \"y\": [1], \"x\": [3], \"orientation\": \"h\", \"width\": 0.5, \"text\": \"0.51\", \"hoverinfo\": \"text\", \"marker\": {\"color\": \"rgb(255, 178.5652506351471, 178.5652506351471)\"}, \"xaxis\": \"x1\", \"yaxis\": \"y1\"}, {\"type\": \"bar\", \"y\": [1], \"x\": [1], \"orientation\": \"h\", \"width\": 0.5, \"text\": \"1.0\", \"hoverinfo\": \"text\", \"marker\": {\"color\": \"rgb(255, 105.0, 105.0)\"}, \"xaxis\": \"x1\", \"yaxis\": \"y1\"}, {\"type\": \"bar\", \"y\": [1], \"x\": [2], \"orientation\": \"h\", \"width\": 0.5, \"text\": \"\", \"hoverinfo\": \"text\", \"marker\": {\"color\": \"rgb(255, 255.0, 255.0)\"}, \"xaxis\": \"x1\", \"yaxis\": \"y1\"}, {\"type\": \"bar\", \"y\": [1], \"x\": [1], \"orientation\": \"h\", \"width\": 0.5, \"text\": \"\", \"hoverinfo\": \"text\", \"marker\": {\"color\": \"rgb(255, 255.0, 255.0)\"}, \"xaxis\": \"x1\", \"yaxis\": \"y1\"}, {\"type\": \"bar\", \"y\": [1], \"x\": [3], \"orientation\": \"h\", \"width\": 0.5, \"text\": \"0.48\", \"hoverinfo\": \"text\", \"marker\": {\"color\": \"rgb(158.72612476348877, 206.86306238174438, 255)\"}, \"xaxis\": \"x1\", \"yaxis\": \"y1\"}, {\"type\": \"bar\", \"y\": [1], \"x\": [3], \"orientation\": \"h\", \"width\": 0.5, \"text\": \"0.4\", \"hoverinfo\": \"text\", \"marker\": {\"color\": \"rgb(174.40060257911682, 214.7003012895584, 255)\"}, \"xaxis\": \"x1\", \"yaxis\": \"y1\"}, {\"type\": \"bar\", \"y\": [1], \"x\": [1], \"orientation\": \"h\", \"width\": 0.5, \"text\": \"0.36\", \"hoverinfo\": \"text\", \"marker\": {\"color\": \"rgb(183.40933799743652, 219.20466899871826, 255)\"}, \"xaxis\": \"x1\", \"yaxis\": \"y1\"}, {\"type\": \"bar\", \"y\": [1], \"x\": [1], \"orientation\": \"h\", \"width\": 0.5, \"text\": \"0.47\", \"hoverinfo\": \"text\", \"marker\": {\"color\": \"rgb(160.76356649398804, 207.88178324699402, 255)\"}, \"xaxis\": \"x1\", \"yaxis\": \"y1\"}, {\"type\": \"bar\", \"y\": [1], \"x\": [1], \"orientation\": \"h\", \"width\": 0.5, \"text\": \"\", \"hoverinfo\": \"text\", \"marker\": {\"color\": \"rgb(255, 255.0, 255.0)\"}, \"xaxis\": \"x1\", \"yaxis\": \"y1\"}, {\"type\": \"bar\", \"y\": [1], \"x\": [1], \"orientation\": \"h\", \"width\": 0.5, \"text\": \"0.35\", \"hoverinfo\": \"text\", \"marker\": {\"color\": \"rgb(184.0156900882721, 219.50784504413605, 255)\"}, \"xaxis\": \"x1\", \"yaxis\": \"y1\"}, {\"type\": \"bar\", \"y\": [1], \"x\": [1], \"orientation\": \"h\", \"width\": 0.5, \"text\": \"\", \"hoverinfo\": \"text\", \"marker\": {\"color\": \"rgb(255, 255, 255)\"}, \"xaxis\": \"x1\", \"yaxis\": \"y1\"}, {\"type\": \"bar\", \"y\": [1], \"x\": [1], \"orientation\": \"h\", \"width\": 0.5, \"text\": \"\", \"hoverinfo\": \"text\", \"marker\": {\"color\": \"rgb(255, 255, 255)\"}, \"xaxis\": \"x1\", \"yaxis\": \"y1\"}, {\"type\": \"bar\", \"y\": [1], \"x\": [1], \"orientation\": \"h\", \"width\": 0.5, \"text\": \"\", \"hoverinfo\": \"text\", \"marker\": {\"color\": \"rgb(255, 255, 255)\"}, \"xaxis\": \"x1\", \"yaxis\": \"y1\"}, {\"type\": \"bar\", \"y\": [1], \"x\": [1], \"orientation\": \"h\", \"width\": 0.5, \"text\": \"\", \"hoverinfo\": \"text\", \"marker\": {\"color\": \"rgb(255, 255, 255)\"}, \"xaxis\": \"x1\", \"yaxis\": \"y1\"}, {\"type\": \"bar\", \"y\": [1], \"x\": [1], \"orientation\": \"h\", \"width\": 0.5, \"text\": \"\", \"hoverinfo\": \"text\", \"marker\": {\"color\": \"rgb(255, 255, 255)\"}, \"xaxis\": \"x1\", \"yaxis\": \"y1\"}, {\"type\": \"bar\", \"y\": [1], \"x\": [1], \"orientation\": \"h\", \"width\": 0.5, \"text\": \"\", \"hoverinfo\": \"text\", \"marker\": {\"color\": \"rgb(255, 255, 255)\"}, \"xaxis\": \"x1\", \"yaxis\": \"y1\"}, {\"type\": \"bar\", \"y\": [1], \"x\": [1], \"orientation\": \"h\", \"width\": 0.5, \"text\": \"\", \"hoverinfo\": \"text\", \"marker\": {\"color\": \"rgb(255, 255, 255)\"}, \"xaxis\": \"x1\", \"yaxis\": \"y1\"}, {\"type\": \"bar\", \"y\": [1], \"x\": [1], \"orientation\": \"h\", \"width\": 0.5, \"text\": \"\", \"hoverinfo\": \"text\", \"marker\": {\"color\": \"rgb(255, 255, 255)\"}, \"xaxis\": \"x1\", \"yaxis\": \"y1\"}, {\"type\": \"bar\", \"y\": [1], \"x\": [1], \"orientation\": \"h\", \"width\": 0.5, \"text\": \"\", \"hoverinfo\": \"text\", \"marker\": {\"color\": \"rgb(255, 255, 255)\"}, \"xaxis\": \"x1\", \"yaxis\": \"y1\"}, {\"type\": \"bar\", \"y\": [1], \"x\": [1], \"orientation\": \"h\", \"width\": 0.5, \"text\": \"\", \"hoverinfo\": \"text\", \"marker\": {\"color\": \"rgb(255, 255, 255)\"}, \"xaxis\": \"x1\", \"yaxis\": \"y1\"}, {\"type\": \"bar\", \"y\": [1], \"x\": [1], \"orientation\": \"h\", \"width\": 0.5, \"text\": \"\", \"hoverinfo\": \"text\", \"marker\": {\"color\": \"rgb(255, 255, 255)\"}, \"xaxis\": \"x1\", \"yaxis\": \"y1\"}, {\"type\": \"bar\", \"y\": [1], \"x\": [1], \"orientation\": \"h\", \"width\": 0.5, \"text\": \"\", \"hoverinfo\": \"text\", \"marker\": {\"color\": \"rgb(255, 255, 255)\"}, \"xaxis\": \"x1\", \"yaxis\": \"y1\"}, {\"type\": \"bar\", \"y\": [1], \"x\": [1], \"orientation\": \"h\", \"width\": 0.5, \"text\": \"\", \"hoverinfo\": \"text\", \"marker\": {\"color\": \"rgb(255, 255, 255)\"}, \"xaxis\": \"x1\", \"yaxis\": \"y1\"}], {\"xaxis1\": {\"domain\": [0.0, 1.0], \"anchor\": \"y1\", \"showgrid\": false, \"showline\": false, \"showticklabels\": false, \"zeroline\": false}, \"yaxis1\": {\"domain\": [0.0, 1.0], \"anchor\": \"x1\", \"showgrid\": false, \"showline\": false, \"showticklabels\": false, \"zeroline\": false}, \"barmode\": \"stack\", \"showlegend\": false, \"margin\": {\"b\": 30, \"l\": 20, \"r\": 20, \"t\": 10}, \"annotations\": [{\"xref\": \"x1\", \"yref\": \"y1\", \"x\": 0.5, \"y\": 1, \"text\": \" \", \"align\": \"left\", \"font\": {\"family\": \"Arial\", \"size\": 14, \"color\": \"black\"}, \"showarrow\": false}, {\"xref\": \"x1\", \"yref\": \"y1\", \"x\": 1.5, \"y\": 1, \"text\": \"\\uc695\", \"align\": \"left\", \"font\": {\"family\": \"Arial\", \"size\": 14, \"color\": \"black\"}, \"showarrow\": false}, {\"xref\": \"x1\", \"yref\": \"y1\", \"x\": 2.5, \"y\": 1, \"text\": \"\\uc2ec\", \"align\": \"left\", \"font\": {\"family\": \"Arial\", \"size\": 14, \"color\": \"black\"}, \"showarrow\": false}, {\"xref\": \"x1\", \"yref\": \"y1\", \"x\": 3.5, \"y\": 1, \"text\": \"\\uc7c1\", \"align\": \"left\", \"font\": {\"family\": \"Arial\", \"size\": 14, \"color\": \"black\"}, \"showarrow\": false}, {\"xref\": \"x1\", \"yref\": \"y1\", \"x\": 4.5, \"y\": 1, \"text\": \"\\uc774\", \"align\": \"left\", \"font\": {\"family\": \"Arial\", \"size\": 14, \"color\": \"black\"}, \"showarrow\": false}, {\"xref\": \"x1\", \"yref\": \"y1\", \"x\": 5.5, \"y\": 1, \"text\": \"\\uc5d0\", \"align\": \"left\", \"font\": {\"family\": \"Arial\", \"size\": 14, \"color\": \"black\"}, \"showarrow\": false}, {\"xref\": \"x1\", \"yref\": \"y1\", \"x\": 6.5, \"y\": 1, \"text\": \"\\uac8c\", \"align\": \"left\", \"font\": {\"family\": \"Arial\", \"size\": 14, \"color\": \"black\"}, \"showarrow\": false}, {\"xref\": \"x1\", \"yref\": \"y1\", \"x\": 7.5, \"y\": 1, \"text\": \" \", \"align\": \"left\", \"font\": {\"family\": \"Arial\", \"size\": 14, \"color\": \"black\"}, \"showarrow\": false}, {\"xref\": \"x1\", \"yref\": \"y1\", \"x\": 8.5, \"y\": 1, \"text\": \"\\uc2a4\", \"align\": \"left\", \"font\": {\"family\": \"Arial\", \"size\": 14, \"color\": \"black\"}, \"showarrow\": false}, {\"xref\": \"x1\", \"yref\": \"y1\", \"x\": 9.5, \"y\": 1, \"text\": \"\\ud2b8\", \"align\": \"left\", \"font\": {\"family\": \"Arial\", \"size\": 14, \"color\": \"black\"}, \"showarrow\": false}, {\"xref\": \"x1\", \"yref\": \"y1\", \"x\": 10.5, \"y\": 1, \"text\": \"\\ub808\", \"align\": \"left\", \"font\": {\"family\": \"Arial\", \"size\": 14, \"color\": \"black\"}, \"showarrow\": false}, {\"xref\": \"x1\", \"yref\": \"y1\", \"x\": 11.5, \"y\": 1, \"text\": \"\\uc2a4\", \"align\": \"left\", \"font\": {\"family\": \"Arial\", \"size\": 14, \"color\": \"black\"}, \"showarrow\": false}, {\"xref\": \"x1\", \"yref\": \"y1\", \"x\": 12.5, \"y\": 1, \"text\": \" \", \"align\": \"left\", \"font\": {\"family\": \"Arial\", \"size\": 14, \"color\": \"black\"}, \"showarrow\": false}, {\"xref\": \"x1\", \"yref\": \"y1\", \"x\": 13.5, \"y\": 1, \"text\": \"\\ubc1b\", \"align\": \"left\", \"font\": {\"family\": \"Arial\", \"size\": 14, \"color\": \"black\"}, \"showarrow\": false}, {\"xref\": \"x1\", \"yref\": \"y1\", \"x\": 14.5, \"y\": 1, \"text\": \"\\uc73c\", \"align\": \"left\", \"font\": {\"family\": \"Arial\", \"size\": 14, \"color\": \"black\"}, \"showarrow\": false}, {\"xref\": \"x1\", \"yref\": \"y1\", \"x\": 15.5, \"y\": 1, \"text\": \"\\uba70\", \"align\": \"left\", \"font\": {\"family\": \"Arial\", \"size\": 14, \"color\": \"black\"}, \"showarrow\": false}, {\"xref\": \"x1\", \"yref\": \"y1\", \"x\": 16.5, \"y\": 1, \"text\": \" \", \"align\": \"left\", \"font\": {\"family\": \"Arial\", \"size\": 14, \"color\": \"black\"}, \"showarrow\": false}, {\"xref\": \"x1\", \"yref\": \"y1\", \"x\": 17.5, \"y\": 1, \"text\": \"\\uc0b4\", \"align\": \"left\", \"font\": {\"family\": \"Arial\", \"size\": 14, \"color\": \"black\"}, \"showarrow\": false}, {\"xref\": \"x1\", \"yref\": \"y1\", \"x\": 18.5, \"y\": 1, \"text\": \"\\ub2e4\", \"align\": \"left\", \"font\": {\"family\": \"Arial\", \"size\": 14, \"color\": \"black\"}, \"showarrow\": false}, {\"xref\": \"x1\", \"yref\": \"y1\", \"x\": 19.5, \"y\": 1, \"text\": \"\\uac00\", \"align\": \"left\", \"font\": {\"family\": \"Arial\", \"size\": 14, \"color\": \"black\"}, \"showarrow\": false}, {\"xref\": \"x1\", \"yref\": \"y1\", \"x\": 20.5, \"y\": 1, \"text\": \" \", \"align\": \"left\", \"font\": {\"family\": \"Arial\", \"size\": 14, \"color\": \"black\"}, \"showarrow\": false}, {\"xref\": \"x1\", \"yref\": \"y1\", \"x\": 21.5, \"y\": 1, \"text\": \"\\ub5a0\", \"align\": \"left\", \"font\": {\"family\": \"Arial\", \"size\": 14, \"color\": \"black\"}, \"showarrow\": false}, {\"xref\": \"x1\", \"yref\": \"y1\", \"x\": 22.5, \"y\": 1, \"text\": \"\\ub098\", \"align\": \"left\", \"font\": {\"family\": \"Arial\", \"size\": 14, \"color\": \"black\"}, \"showarrow\": false}, {\"xref\": \"x1\", \"yref\": \"y1\", \"x\": 23.5, \"y\": 1, \"text\": \"\\uace0\", \"align\": \"left\", \"font\": {\"family\": \"Arial\", \"size\": 14, \"color\": \"black\"}, \"showarrow\": false}, {\"xref\": \"x1\", \"yref\": \"y1\", \"x\": 24.5, \"y\": 1, \"text\": \" \", \"align\": \"left\", \"font\": {\"family\": \"Arial\", \"size\": 14, \"color\": \"black\"}, \"showarrow\": false}, {\"xref\": \"x1\", \"yref\": \"y1\", \"x\": 25.5, \"y\": 1, \"text\": \"\\ub098\", \"align\": \"left\", \"font\": {\"family\": \"Arial\", \"size\": 14, \"color\": \"black\"}, \"showarrow\": false}, {\"xref\": \"x1\", \"yref\": \"y1\", \"x\": 26.5, \"y\": 1, \"text\": \"\\ub2c8\", \"align\": \"left\", \"font\": {\"family\": \"Arial\", \"size\": 14, \"color\": \"black\"}, \"showarrow\": false}, {\"xref\": \"x1\", \"yref\": \"y1\", \"x\": 27.5, \"y\": 1, \"text\": \" \", \"align\": \"left\", \"font\": {\"family\": \"Arial\", \"size\": 14, \"color\": \"black\"}, \"showarrow\": false}, {\"xref\": \"x1\", \"yref\": \"y1\", \"x\": 28.5, \"y\": 1, \"text\": \"\\ub108\", \"align\": \"left\", \"font\": {\"family\": \"Arial\", \"size\": 14, \"color\": \"black\"}, \"showarrow\": false}, {\"xref\": \"x1\", \"yref\": \"y1\", \"x\": 29.5, \"y\": 1, \"text\": \"\\ubb34\", \"align\": \"left\", \"font\": {\"family\": \"Arial\", \"size\": 14, \"color\": \"black\"}, \"showarrow\": false}, {\"xref\": \"x1\", \"yref\": \"y1\", \"x\": 30.5, \"y\": 1, \"text\": \" \", \"align\": \"left\", \"font\": {\"family\": \"Arial\", \"size\": 14, \"color\": \"black\"}, \"showarrow\": false}, {\"xref\": \"x1\", \"yref\": \"y1\", \"x\": 31.5, \"y\": 1, \"text\": \"\\ud589\", \"align\": \"left\", \"font\": {\"family\": \"Arial\", \"size\": 14, \"color\": \"black\"}, \"showarrow\": false}, {\"xref\": \"x1\", \"yref\": \"y1\", \"x\": 32.5, \"y\": 1, \"text\": \"\\ubcf5\", \"align\": \"left\", \"font\": {\"family\": \"Arial\", \"size\": 14, \"color\": \"black\"}, \"showarrow\": false}, {\"xref\": \"x1\", \"yref\": \"y1\", \"x\": 33.5, \"y\": 1, \"text\": \"\\ud574\", \"align\": \"left\", \"font\": {\"family\": \"Arial\", \"size\": 14, \"color\": \"black\"}, \"showarrow\": false}, {\"xref\": \"x1\", \"yref\": \"y1\", \"x\": 34.5, \"y\": 1, \"text\": \"\\uc694\", \"align\": \"left\", \"font\": {\"family\": \"Arial\", \"size\": 14, \"color\": \"black\"}, \"showarrow\": false}, {\"xref\": \"x1\", \"yref\": \"y1\", \"x\": 35.5, \"y\": 1, \"text\": \" \", \"align\": \"left\", \"font\": {\"family\": \"Arial\", \"size\": 14, \"color\": \"black\"}, \"showarrow\": false}, {\"xref\": \"x1\", \"yref\": \"y1\", \"x\": 36.5, \"y\": 1, \"text\": \"!\", \"align\": \"left\", \"font\": {\"family\": \"Arial\", \"size\": 14, \"color\": \"black\"}, \"showarrow\": false}], \"height\": 80, \"images\": [{\"source\": \"https://raw.githubusercontent.com/fingeredman/teanaps/master/data/logo/teanaps_logo_no-bg.png\", \"xref\": \"paper\", \"yref\": \"paper\", \"x\": 0.5, \"y\": 0.6, \"sizex\": 0.7, \"sizey\": 0.7, \"xanchor\": \"center\", \"yanchor\": \"center\", \"opacity\": 0.3, \"layer\": \"above\"}]}, {\"showLink\": true, \"linkText\": \"Export to plot.ly\"})});</script>"
      ],
      "text/vnd.plotly.v1+html": [
       "<div id=\"0f5a9000-faef-4a74-80d7-fd1b80d42f35\" style=\"height: 80px; width: 100%;\" class=\"plotly-graph-div\"></div><script type=\"text/javascript\">require([\"plotly\"], function(Plotly) { window.PLOTLYENV=window.PLOTLYENV || {};window.PLOTLYENV.BASE_URL=\"https://plot.ly\";Plotly.newPlot(\"0f5a9000-faef-4a74-80d7-fd1b80d42f35\", [{\"type\": \"bar\", \"y\": [1], \"x\": [3], \"orientation\": \"h\", \"width\": 0.5, \"text\": \"\", \"hoverinfo\": \"text\", \"marker\": {\"color\": \"rgb(255, 255.0, 255.0)\"}, \"xaxis\": \"x1\", \"yaxis\": \"y1\"}, {\"type\": \"bar\", \"y\": [1], \"x\": [1], \"orientation\": \"h\", \"width\": 0.5, \"text\": \"\", \"hoverinfo\": \"text\", \"marker\": {\"color\": \"rgb(255, 255.0, 255.0)\"}, \"xaxis\": \"x1\", \"yaxis\": \"y1\"}, {\"type\": \"bar\", \"y\": [1], \"x\": [1], \"orientation\": \"h\", \"width\": 0.5, \"text\": \"\", \"hoverinfo\": \"text\", \"marker\": {\"color\": \"rgb(255, 255.0, 255.0)\"}, \"xaxis\": \"x1\", \"yaxis\": \"y1\"}, {\"type\": \"bar\", \"y\": [1], \"x\": [2], \"orientation\": \"h\", \"width\": 0.5, \"text\": \"\", \"hoverinfo\": \"text\", \"marker\": {\"color\": \"rgb(255, 255.0, 255.0)\"}, \"xaxis\": \"x1\", \"yaxis\": \"y1\"}, {\"type\": \"bar\", \"y\": [1], \"x\": [5], \"orientation\": \"h\", \"width\": 0.5, \"text\": \"0.73\", \"hoverinfo\": \"text\", \"marker\": {\"color\": \"rgb(255, 145.19479751586914, 145.19479751586914)\"}, \"xaxis\": \"x1\", \"yaxis\": \"y1\"}, {\"type\": \"bar\", \"y\": [1], \"x\": [4], \"orientation\": \"h\", \"width\": 0.5, \"text\": \"0.61\", \"hoverinfo\": \"text\", \"marker\": {\"color\": \"rgb(255, 163.88416171073914, 163.88416171073914)\"}, \"xaxis\": \"x1\", \"yaxis\": \"y1\"}, {\"type\": \"bar\", \"y\": [1], \"x\": [2], \"orientation\": \"h\", \"width\": 0.5, \"text\": \"0.5\", \"hoverinfo\": \"text\", \"marker\": {\"color\": \"rgb(255, 180.23858696222305, 180.23858696222305)\"}, \"xaxis\": \"x1\", \"yaxis\": \"y1\"}, {\"type\": \"bar\", \"y\": [1], \"x\": [1], \"orientation\": \"h\", \"width\": 0.5, \"text\": \"0.51\", \"hoverinfo\": \"text\", \"marker\": {\"color\": \"rgb(255, 178.49336743354797, 178.49336743354797)\"}, \"xaxis\": \"x1\", \"yaxis\": \"y1\"}, {\"type\": \"bar\", \"y\": [1], \"x\": [1], \"orientation\": \"h\", \"width\": 0.5, \"text\": \"0.82\", \"hoverinfo\": \"text\", \"marker\": {\"color\": \"rgb(255, 132.59934067726135, 132.59934067726135)\"}, \"xaxis\": \"x1\", \"yaxis\": \"y1\"}, {\"type\": \"bar\", \"y\": [1], \"x\": [3], \"orientation\": \"h\", \"width\": 0.5, \"text\": \"0.51\", \"hoverinfo\": \"text\", \"marker\": {\"color\": \"rgb(255, 178.5652506351471, 178.5652506351471)\"}, \"xaxis\": \"x1\", \"yaxis\": \"y1\"}, {\"type\": \"bar\", \"y\": [1], \"x\": [1], \"orientation\": \"h\", \"width\": 0.5, \"text\": \"1.0\", \"hoverinfo\": \"text\", \"marker\": {\"color\": \"rgb(255, 105.0, 105.0)\"}, \"xaxis\": \"x1\", \"yaxis\": \"y1\"}, {\"type\": \"bar\", \"y\": [1], \"x\": [2], \"orientation\": \"h\", \"width\": 0.5, \"text\": \"\", \"hoverinfo\": \"text\", \"marker\": {\"color\": \"rgb(255, 255.0, 255.0)\"}, \"xaxis\": \"x1\", \"yaxis\": \"y1\"}, {\"type\": \"bar\", \"y\": [1], \"x\": [1], \"orientation\": \"h\", \"width\": 0.5, \"text\": \"\", \"hoverinfo\": \"text\", \"marker\": {\"color\": \"rgb(255, 255.0, 255.0)\"}, \"xaxis\": \"x1\", \"yaxis\": \"y1\"}, {\"type\": \"bar\", \"y\": [1], \"x\": [3], \"orientation\": \"h\", \"width\": 0.5, \"text\": \"0.48\", \"hoverinfo\": \"text\", \"marker\": {\"color\": \"rgb(158.72612476348877, 206.86306238174438, 255)\"}, \"xaxis\": \"x1\", \"yaxis\": \"y1\"}, {\"type\": \"bar\", \"y\": [1], \"x\": [3], \"orientation\": \"h\", \"width\": 0.5, \"text\": \"0.4\", \"hoverinfo\": \"text\", \"marker\": {\"color\": \"rgb(174.40060257911682, 214.7003012895584, 255)\"}, \"xaxis\": \"x1\", \"yaxis\": \"y1\"}, {\"type\": \"bar\", \"y\": [1], \"x\": [1], \"orientation\": \"h\", \"width\": 0.5, \"text\": \"0.36\", \"hoverinfo\": \"text\", \"marker\": {\"color\": \"rgb(183.40933799743652, 219.20466899871826, 255)\"}, \"xaxis\": \"x1\", \"yaxis\": \"y1\"}, {\"type\": \"bar\", \"y\": [1], \"x\": [1], \"orientation\": \"h\", \"width\": 0.5, \"text\": \"0.47\", \"hoverinfo\": \"text\", \"marker\": {\"color\": \"rgb(160.76356649398804, 207.88178324699402, 255)\"}, \"xaxis\": \"x1\", \"yaxis\": \"y1\"}, {\"type\": \"bar\", \"y\": [1], \"x\": [1], \"orientation\": \"h\", \"width\": 0.5, \"text\": \"\", \"hoverinfo\": \"text\", \"marker\": {\"color\": \"rgb(255, 255.0, 255.0)\"}, \"xaxis\": \"x1\", \"yaxis\": \"y1\"}, {\"type\": \"bar\", \"y\": [1], \"x\": [1], \"orientation\": \"h\", \"width\": 0.5, \"text\": \"0.35\", \"hoverinfo\": \"text\", \"marker\": {\"color\": \"rgb(184.0156900882721, 219.50784504413605, 255)\"}, \"xaxis\": \"x1\", \"yaxis\": \"y1\"}, {\"type\": \"bar\", \"y\": [1], \"x\": [1], \"orientation\": \"h\", \"width\": 0.5, \"text\": \"\", \"hoverinfo\": \"text\", \"marker\": {\"color\": \"rgb(255, 255, 255)\"}, \"xaxis\": \"x1\", \"yaxis\": \"y1\"}, {\"type\": \"bar\", \"y\": [1], \"x\": [1], \"orientation\": \"h\", \"width\": 0.5, \"text\": \"\", \"hoverinfo\": \"text\", \"marker\": {\"color\": \"rgb(255, 255, 255)\"}, \"xaxis\": \"x1\", \"yaxis\": \"y1\"}, {\"type\": \"bar\", \"y\": [1], \"x\": [1], \"orientation\": \"h\", \"width\": 0.5, \"text\": \"\", \"hoverinfo\": \"text\", \"marker\": {\"color\": \"rgb(255, 255, 255)\"}, \"xaxis\": \"x1\", \"yaxis\": \"y1\"}, {\"type\": \"bar\", \"y\": [1], \"x\": [1], \"orientation\": \"h\", \"width\": 0.5, \"text\": \"\", \"hoverinfo\": \"text\", \"marker\": {\"color\": \"rgb(255, 255, 255)\"}, \"xaxis\": \"x1\", \"yaxis\": \"y1\"}, {\"type\": \"bar\", \"y\": [1], \"x\": [1], \"orientation\": \"h\", \"width\": 0.5, \"text\": \"\", \"hoverinfo\": \"text\", \"marker\": {\"color\": \"rgb(255, 255, 255)\"}, \"xaxis\": \"x1\", \"yaxis\": \"y1\"}, {\"type\": \"bar\", \"y\": [1], \"x\": [1], \"orientation\": \"h\", \"width\": 0.5, \"text\": \"\", \"hoverinfo\": \"text\", \"marker\": {\"color\": \"rgb(255, 255, 255)\"}, \"xaxis\": \"x1\", \"yaxis\": \"y1\"}, {\"type\": \"bar\", \"y\": [1], \"x\": [1], \"orientation\": \"h\", \"width\": 0.5, \"text\": \"\", \"hoverinfo\": \"text\", \"marker\": {\"color\": \"rgb(255, 255, 255)\"}, \"xaxis\": \"x1\", \"yaxis\": \"y1\"}, {\"type\": \"bar\", \"y\": [1], \"x\": [1], \"orientation\": \"h\", \"width\": 0.5, \"text\": \"\", \"hoverinfo\": \"text\", \"marker\": {\"color\": \"rgb(255, 255, 255)\"}, \"xaxis\": \"x1\", \"yaxis\": \"y1\"}, {\"type\": \"bar\", \"y\": [1], \"x\": [1], \"orientation\": \"h\", \"width\": 0.5, \"text\": \"\", \"hoverinfo\": \"text\", \"marker\": {\"color\": \"rgb(255, 255, 255)\"}, \"xaxis\": \"x1\", \"yaxis\": \"y1\"}, {\"type\": \"bar\", \"y\": [1], \"x\": [1], \"orientation\": \"h\", \"width\": 0.5, \"text\": \"\", \"hoverinfo\": \"text\", \"marker\": {\"color\": \"rgb(255, 255, 255)\"}, \"xaxis\": \"x1\", \"yaxis\": \"y1\"}, {\"type\": \"bar\", \"y\": [1], \"x\": [1], \"orientation\": \"h\", \"width\": 0.5, \"text\": \"\", \"hoverinfo\": \"text\", \"marker\": {\"color\": \"rgb(255, 255, 255)\"}, \"xaxis\": \"x1\", \"yaxis\": \"y1\"}, {\"type\": \"bar\", \"y\": [1], \"x\": [1], \"orientation\": \"h\", \"width\": 0.5, \"text\": \"\", \"hoverinfo\": \"text\", \"marker\": {\"color\": \"rgb(255, 255, 255)\"}, \"xaxis\": \"x1\", \"yaxis\": \"y1\"}, {\"type\": \"bar\", \"y\": [1], \"x\": [1], \"orientation\": \"h\", \"width\": 0.5, \"text\": \"\", \"hoverinfo\": \"text\", \"marker\": {\"color\": \"rgb(255, 255, 255)\"}, \"xaxis\": \"x1\", \"yaxis\": \"y1\"}], {\"xaxis1\": {\"domain\": [0.0, 1.0], \"anchor\": \"y1\", \"showgrid\": false, \"showline\": false, \"showticklabels\": false, \"zeroline\": false}, \"yaxis1\": {\"domain\": [0.0, 1.0], \"anchor\": \"x1\", \"showgrid\": false, \"showline\": false, \"showticklabels\": false, \"zeroline\": false}, \"barmode\": \"stack\", \"showlegend\": false, \"margin\": {\"b\": 30, \"l\": 20, \"r\": 20, \"t\": 10}, \"annotations\": [{\"xref\": \"x1\", \"yref\": \"y1\", \"x\": 0.5, \"y\": 1, \"text\": \" \", \"align\": \"left\", \"font\": {\"family\": \"Arial\", \"size\": 14, \"color\": \"black\"}, \"showarrow\": false}, {\"xref\": \"x1\", \"yref\": \"y1\", \"x\": 1.5, \"y\": 1, \"text\": \"\\uc695\", \"align\": \"left\", \"font\": {\"family\": \"Arial\", \"size\": 14, \"color\": \"black\"}, \"showarrow\": false}, {\"xref\": \"x1\", \"yref\": \"y1\", \"x\": 2.5, \"y\": 1, \"text\": \"\\uc2ec\", \"align\": \"left\", \"font\": {\"family\": \"Arial\", \"size\": 14, \"color\": \"black\"}, \"showarrow\": false}, {\"xref\": \"x1\", \"yref\": \"y1\", \"x\": 3.5, \"y\": 1, \"text\": \"\\uc7c1\", \"align\": \"left\", \"font\": {\"family\": \"Arial\", \"size\": 14, \"color\": \"black\"}, \"showarrow\": false}, {\"xref\": \"x1\", \"yref\": \"y1\", \"x\": 4.5, \"y\": 1, \"text\": \"\\uc774\", \"align\": \"left\", \"font\": {\"family\": \"Arial\", \"size\": 14, \"color\": \"black\"}, \"showarrow\": false}, {\"xref\": \"x1\", \"yref\": \"y1\", \"x\": 5.5, \"y\": 1, \"text\": \"\\uc5d0\", \"align\": \"left\", \"font\": {\"family\": \"Arial\", \"size\": 14, \"color\": \"black\"}, \"showarrow\": false}, {\"xref\": \"x1\", \"yref\": \"y1\", \"x\": 6.5, \"y\": 1, \"text\": \"\\uac8c\", \"align\": \"left\", \"font\": {\"family\": \"Arial\", \"size\": 14, \"color\": \"black\"}, \"showarrow\": false}, {\"xref\": \"x1\", \"yref\": \"y1\", \"x\": 7.5, \"y\": 1, \"text\": \" \", \"align\": \"left\", \"font\": {\"family\": \"Arial\", \"size\": 14, \"color\": \"black\"}, \"showarrow\": false}, {\"xref\": \"x1\", \"yref\": \"y1\", \"x\": 8.5, \"y\": 1, \"text\": \"\\uc2a4\", \"align\": \"left\", \"font\": {\"family\": \"Arial\", \"size\": 14, \"color\": \"black\"}, \"showarrow\": false}, {\"xref\": \"x1\", \"yref\": \"y1\", \"x\": 9.5, \"y\": 1, \"text\": \"\\ud2b8\", \"align\": \"left\", \"font\": {\"family\": \"Arial\", \"size\": 14, \"color\": \"black\"}, \"showarrow\": false}, {\"xref\": \"x1\", \"yref\": \"y1\", \"x\": 10.5, \"y\": 1, \"text\": \"\\ub808\", \"align\": \"left\", \"font\": {\"family\": \"Arial\", \"size\": 14, \"color\": \"black\"}, \"showarrow\": false}, {\"xref\": \"x1\", \"yref\": \"y1\", \"x\": 11.5, \"y\": 1, \"text\": \"\\uc2a4\", \"align\": \"left\", \"font\": {\"family\": \"Arial\", \"size\": 14, \"color\": \"black\"}, \"showarrow\": false}, {\"xref\": \"x1\", \"yref\": \"y1\", \"x\": 12.5, \"y\": 1, \"text\": \" \", \"align\": \"left\", \"font\": {\"family\": \"Arial\", \"size\": 14, \"color\": \"black\"}, \"showarrow\": false}, {\"xref\": \"x1\", \"yref\": \"y1\", \"x\": 13.5, \"y\": 1, \"text\": \"\\ubc1b\", \"align\": \"left\", \"font\": {\"family\": \"Arial\", \"size\": 14, \"color\": \"black\"}, \"showarrow\": false}, {\"xref\": \"x1\", \"yref\": \"y1\", \"x\": 14.5, \"y\": 1, \"text\": \"\\uc73c\", \"align\": \"left\", \"font\": {\"family\": \"Arial\", \"size\": 14, \"color\": \"black\"}, \"showarrow\": false}, {\"xref\": \"x1\", \"yref\": \"y1\", \"x\": 15.5, \"y\": 1, \"text\": \"\\uba70\", \"align\": \"left\", \"font\": {\"family\": \"Arial\", \"size\": 14, \"color\": \"black\"}, \"showarrow\": false}, {\"xref\": \"x1\", \"yref\": \"y1\", \"x\": 16.5, \"y\": 1, \"text\": \" \", \"align\": \"left\", \"font\": {\"family\": \"Arial\", \"size\": 14, \"color\": \"black\"}, \"showarrow\": false}, {\"xref\": \"x1\", \"yref\": \"y1\", \"x\": 17.5, \"y\": 1, \"text\": \"\\uc0b4\", \"align\": \"left\", \"font\": {\"family\": \"Arial\", \"size\": 14, \"color\": \"black\"}, \"showarrow\": false}, {\"xref\": \"x1\", \"yref\": \"y1\", \"x\": 18.5, \"y\": 1, \"text\": \"\\ub2e4\", \"align\": \"left\", \"font\": {\"family\": \"Arial\", \"size\": 14, \"color\": \"black\"}, \"showarrow\": false}, {\"xref\": \"x1\", \"yref\": \"y1\", \"x\": 19.5, \"y\": 1, \"text\": \"\\uac00\", \"align\": \"left\", \"font\": {\"family\": \"Arial\", \"size\": 14, \"color\": \"black\"}, \"showarrow\": false}, {\"xref\": \"x1\", \"yref\": \"y1\", \"x\": 20.5, \"y\": 1, \"text\": \" \", \"align\": \"left\", \"font\": {\"family\": \"Arial\", \"size\": 14, \"color\": \"black\"}, \"showarrow\": false}, {\"xref\": \"x1\", \"yref\": \"y1\", \"x\": 21.5, \"y\": 1, \"text\": \"\\ub5a0\", \"align\": \"left\", \"font\": {\"family\": \"Arial\", \"size\": 14, \"color\": \"black\"}, \"showarrow\": false}, {\"xref\": \"x1\", \"yref\": \"y1\", \"x\": 22.5, \"y\": 1, \"text\": \"\\ub098\", \"align\": \"left\", \"font\": {\"family\": \"Arial\", \"size\": 14, \"color\": \"black\"}, \"showarrow\": false}, {\"xref\": \"x1\", \"yref\": \"y1\", \"x\": 23.5, \"y\": 1, \"text\": \"\\uace0\", \"align\": \"left\", \"font\": {\"family\": \"Arial\", \"size\": 14, \"color\": \"black\"}, \"showarrow\": false}, {\"xref\": \"x1\", \"yref\": \"y1\", \"x\": 24.5, \"y\": 1, \"text\": \" \", \"align\": \"left\", \"font\": {\"family\": \"Arial\", \"size\": 14, \"color\": \"black\"}, \"showarrow\": false}, {\"xref\": \"x1\", \"yref\": \"y1\", \"x\": 25.5, \"y\": 1, \"text\": \"\\ub098\", \"align\": \"left\", \"font\": {\"family\": \"Arial\", \"size\": 14, \"color\": \"black\"}, \"showarrow\": false}, {\"xref\": \"x1\", \"yref\": \"y1\", \"x\": 26.5, \"y\": 1, \"text\": \"\\ub2c8\", \"align\": \"left\", \"font\": {\"family\": \"Arial\", \"size\": 14, \"color\": \"black\"}, \"showarrow\": false}, {\"xref\": \"x1\", \"yref\": \"y1\", \"x\": 27.5, \"y\": 1, \"text\": \" \", \"align\": \"left\", \"font\": {\"family\": \"Arial\", \"size\": 14, \"color\": \"black\"}, \"showarrow\": false}, {\"xref\": \"x1\", \"yref\": \"y1\", \"x\": 28.5, \"y\": 1, \"text\": \"\\ub108\", \"align\": \"left\", \"font\": {\"family\": \"Arial\", \"size\": 14, \"color\": \"black\"}, \"showarrow\": false}, {\"xref\": \"x1\", \"yref\": \"y1\", \"x\": 29.5, \"y\": 1, \"text\": \"\\ubb34\", \"align\": \"left\", \"font\": {\"family\": \"Arial\", \"size\": 14, \"color\": \"black\"}, \"showarrow\": false}, {\"xref\": \"x1\", \"yref\": \"y1\", \"x\": 30.5, \"y\": 1, \"text\": \" \", \"align\": \"left\", \"font\": {\"family\": \"Arial\", \"size\": 14, \"color\": \"black\"}, \"showarrow\": false}, {\"xref\": \"x1\", \"yref\": \"y1\", \"x\": 31.5, \"y\": 1, \"text\": \"\\ud589\", \"align\": \"left\", \"font\": {\"family\": \"Arial\", \"size\": 14, \"color\": \"black\"}, \"showarrow\": false}, {\"xref\": \"x1\", \"yref\": \"y1\", \"x\": 32.5, \"y\": 1, \"text\": \"\\ubcf5\", \"align\": \"left\", \"font\": {\"family\": \"Arial\", \"size\": 14, \"color\": \"black\"}, \"showarrow\": false}, {\"xref\": \"x1\", \"yref\": \"y1\", \"x\": 33.5, \"y\": 1, \"text\": \"\\ud574\", \"align\": \"left\", \"font\": {\"family\": \"Arial\", \"size\": 14, \"color\": \"black\"}, \"showarrow\": false}, {\"xref\": \"x1\", \"yref\": \"y1\", \"x\": 34.5, \"y\": 1, \"text\": \"\\uc694\", \"align\": \"left\", \"font\": {\"family\": \"Arial\", \"size\": 14, \"color\": \"black\"}, \"showarrow\": false}, {\"xref\": \"x1\", \"yref\": \"y1\", \"x\": 35.5, \"y\": 1, \"text\": \" \", \"align\": \"left\", \"font\": {\"family\": \"Arial\", \"size\": 14, \"color\": \"black\"}, \"showarrow\": false}, {\"xref\": \"x1\", \"yref\": \"y1\", \"x\": 36.5, \"y\": 1, \"text\": \"!\", \"align\": \"left\", \"font\": {\"family\": \"Arial\", \"size\": 14, \"color\": \"black\"}, \"showarrow\": false}], \"height\": 80, \"images\": [{\"source\": \"https://raw.githubusercontent.com/fingeredman/teanaps/master/data/logo/teanaps_logo_no-bg.png\", \"xref\": \"paper\", \"yref\": \"paper\", \"x\": 0.5, \"y\": 0.6, \"sizex\": 0.7, \"sizey\": 0.7, \"xanchor\": \"center\", \"yanchor\": \"center\", \"opacity\": 0.3, \"layer\": \"above\"}]}, {\"showLink\": true, \"linkText\": \"Export to plot.ly\"})});</script>"
      ]
     },
     "metadata": {},
     "output_type": "display_data"
    }
   ],
   "source": [
    "#sentence = \"욕심쟁이에게 스트레스 받으며 살다가 떠나고나니 너무 행복해요!\"\n",
    "#token_list = [' 욕심', '쟁', '이', '에게', ' 스트레스', ' 받으며', ' 살', '다', '가', ' 떠나', '고', ' 나', '니', ' 너무', ' 행복', '해', '요', ' ', '!']\n",
    "#weight_list = [0, 0, 0, 0, -0.2424436, -0.20117857, -0.16506892, -0.16892226, -0.27025366, -0.16876356, -0.33119142, 0, 0, 0.15942541, 0.13346915, 0.11855107, 0.15605149, 0, 0.11754697]\n",
    "senti.draw_sentiment_parse(token_list, weight_list)"
   ]
  },
  {
   "cell_type": "markdown",
   "metadata": {},
   "source": [
    "### Assignment 05. 분류기 성능 향상시키기\n",
    "> - 본 실습자료를 활용하여 분류기 성능을 향상시킬 수 있는 방법을 찾아 적용하고 개선된 분류기 성능평가 결과(accuracy)를 제출합니다.\n",
    "> - 과제를 수행하는 방향성은 두 가지가 있습니다. (2번 우선)\n",
    "> > 1. 알고리즘 개선 : 분류 알고리즘의 옵션을 변경하거나 실습 외 분류 알고리즘 활용 등\n",
    "> > 2. 학습데이터 정제 : 학습데이터 중 유사한 클래스를 통합하거나 학습데이터를 추가/수정하는 방법 등\n",
    "> - 학습데이터는 \"data/chat_intent_total.txt\" 파일을 활용합니다.\n",
    "> - 분류 알고리즘을 어느 것을 사용해도 무방합니다. 다양한 알고리즘에 대해 테스트해보시고 가장 성능이 좋은것으로 제출하시면 됩니다.\n",
    "> - 실습자료 외 분류 알고리즘을 활용해도 무방합니다.\n",
    "> - 과제 제출 시 Jupyter Notebook 파일에 어떤 방법으로 성능을 향상시켰는지 간단히 주석을 작성해주세요.\n",
    "> - 테스트/학습 데이터의 비율은 8:2를 기준으로 합니다. - train_test_split(..., test_size=0.20, ...)\n",
    "\n",
    "---"
   ]
  },
  {
   "cell_type": "code",
   "execution_count": null,
   "metadata": {},
   "outputs": [],
   "source": []
  }
 ],
 "metadata": {
  "kernelspec": {
   "display_name": "Python 3 (ipykernel)",
   "language": "python",
   "name": "python3"
  },
  "language_info": {
   "codemirror_mode": {
    "name": "ipython",
    "version": 3
   },
   "file_extension": ".py",
   "mimetype": "text/x-python",
   "name": "python",
   "nbconvert_exporter": "python",
   "pygments_lexer": "ipython3",
   "version": "3.8.12"
  }
 },
 "nbformat": 4,
 "nbformat_minor": 2
}
