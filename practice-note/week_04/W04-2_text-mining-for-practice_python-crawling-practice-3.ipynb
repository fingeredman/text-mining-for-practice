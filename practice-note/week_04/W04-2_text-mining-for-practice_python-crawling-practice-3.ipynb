{
 "cells": [
  {
   "cell_type": "markdown",
   "metadata": {},
   "source": [
    "# TEXT MINING for PRACTICE\n",
    "- 본 자료는 텍스트 마이닝을 활용한 연구 및 강의를 위한 목적으로 제작되었습니다.\n",
    "- 본 자료를 강의 목적으로 활용하고자 하시는 경우 꼭 아래 메일주소로 연락주세요.\n",
    "- 본 자료에 대한 허가되지 않은 배포를 금지합니다.\n",
    "- 강의, 저작권, 출판, 특허, 공동저자에 관련해서는 문의 바랍니다.\n",
    "- **Contact : ADMIN(admin@teanaps.com)**\n",
    "\n",
    "---"
   ]
  },
  {
   "cell_type": "markdown",
   "metadata": {},
   "source": [
    "## WEEK 04-2. 동적 페이지 수집하기: 인스타그램\n",
    "- Python을 활용해 가상의 브라우저를 띄워 웹페이지에서 데이터를 크롤링하는 방법에 대해 다룹니다.\n",
    "\n",
    "---"
   ]
  },
  {
   "cell_type": "markdown",
   "metadata": {},
   "source": [
    "> **\\*\\*\\* 주의사항 \\*\\*\\***  \n",
    "본 자료에서 설명하는 웹크롤링하는 방법은 해당 기법에 대한 이해를 돕고자하는 교육의 목적으로 사용되었으며,  \n",
    "이를 활용한 대량의 무단 크롤링은 범죄에 해당할 수 있음을 알려드립니다."
   ]
  },
  {
   "cell_type": "markdown",
   "metadata": {},
   "source": [
    "### 1. 가상의 브라우저 실행하기: Chrome Driver\n",
    "\n",
    "---"
   ]
  },
  {
   "cell_type": "code",
   "execution_count": 1,
   "metadata": {},
   "outputs": [],
   "source": [
    "# 가상의 브라우저를 컨트롤 할 수 있도록 도와주는 selenium 패키지를 설치합니다.\n",
    "# 아래 주석을 해지하고 셀을 실행합니다.\n",
    "# 설치는 한번만 수행하면 되며, 재설치시 Requirement already satisfied: ~ 라는 메시지가 출력됩니다.\n",
    "\n",
    "#!pip install selenium"
   ]
  },
  {
   "cell_type": "code",
   "execution_count": 1,
   "metadata": {},
   "outputs": [],
   "source": [
    "# Python 코드를 통해 가상의 브라우저를 띄우기 위해 selenium 패키지를 import 합니다.\n",
    "import selenium\n",
    "from selenium import webdriver\n",
    "from selenium.webdriver.common.by import By\n",
    "\n",
    "# selenium을 활용해 브라우저를 직접 띄우는 경우, 실제 웹서핑을 할때처럼 로딩시간이 필요합니다.\n",
    "# 로딩시간 동안 대기하도록 코드를 구성하기위해 time 패키지를 import 합니다.\n",
    "import time\n",
    "\n",
    "# Python 코드를 통해 웹페이지에 정보를 요청하기 위해 BeautifulSoup, urllib 패키지를 import 합니다.\n",
    "from bs4 import BeautifulSoup\n",
    "import requests"
   ]
  },
  {
   "cell_type": "code",
   "execution_count": 20,
   "metadata": {},
   "outputs": [
    {
     "name": "stderr",
     "output_type": "stream",
     "text": [
      "<ipython-input-20-9c2777329be6>:16: DeprecationWarning: use options instead of chrome_options\n",
      "  driver = webdriver.Chrome(executable_path = \"./chromedriver\", chrome_options=chrome_options)\n"
     ]
    }
   ],
   "source": [
    "# Chrome Driver를 호출합니다.\n",
    "chrome_options = webdriver.ChromeOptions()\n",
    "\n",
    "# 브라우저에 임의로 User-agent 옵션을 넣어 Python 코드로 접속함을 숨깁니다.\n",
    "chrome_options.add_argument('--user-agent=\"Mozilla/5.0 (Macintosh; Intel Mac OS X 10_13_4) AppleWebKit/537.36 (KHTML, like Gecko) Chrome/66.0.3359.139 Safari/537.36\"')\n",
    "\n",
    "# Chrome Driver 파일의 경로를 지정하고 실행합니다.\n",
    "# Chrome Driver는 아래 링크에서 다운로드 가능합니다.\n",
    "\n",
    "# 본 Jupyter Notebook 파일과 동일한 경로에 Chrome Driver가 존재하는 경우 아래 경로를 그대로 사용합니다.\n",
    "\n",
    "# Windows 운영체제\n",
    "#driver = webdriver.Chrome(executable_path = \"chromedriver\", chrome_options=chrome_options)\n",
    "\n",
    "# MAC, Linux 운영체제\n",
    "driver = webdriver.Chrome(executable_path = \"./chromedriver\", chrome_options=chrome_options)"
   ]
  },
  {
   "cell_type": "markdown",
   "metadata": {},
   "source": [
    "Chrome Driver 다운로드 URL : http://chromedriver.chromium.org/downloads"
   ]
  },
  {
   "cell_type": "markdown",
   "metadata": {},
   "source": [
    "### 2. 가상의 브라우저를 활용에 사이트 접속하기\n",
    "\n",
    "---"
   ]
  },
  {
   "cell_type": "code",
   "execution_count": 21,
   "metadata": {},
   "outputs": [],
   "source": [
    "# 브라우저에서 URL에 해당하는 페이지로 이동합니다.\n",
    "URL = \"https://www.instagram.com/\"\n",
    "driver.get(URL)\n",
    "# 실제 페이지가 불러와지는 시간을 고려해 sleep(SEC) 함수로 기다리는 시간을 지정해줍니다.\n",
    "time.sleep(10)"
   ]
  },
  {
   "cell_type": "code",
   "execution_count": 6,
   "metadata": {},
   "outputs": [],
   "source": [
    "# 인스타그램 게시물에 접근하기 위해서는 로그인이 필요합니다.\n",
    "# 인스타그램 로그인 페이지로 이동합니다.\n",
    "# click() 함수로 원하는 요소(태그)를 클릭할 수 있습니다.\n",
    "driver.find_element(By.CLASS_NAME, \"izU2O\").find_element(By.TAG_NAME, \"a\").click()\n",
    "time.sleep(10)"
   ]
  },
  {
   "cell_type": "code",
   "execution_count": 7,
   "metadata": {},
   "outputs": [],
   "source": [
    "# 인스타그램 로그인 페이지에서 아이디(ID)와 비밀번호(PW)를 입력합니다.\n",
    "# 아이디와 비밀번호를 브라우저에서 직접 입력해도 됩니다.\n",
    "ID = \"여기에 ID를 입력합니다.\"\n",
    "PW = \"여기에 PW를 입력합니다.\"\n",
    "driver.find_element(By.NAME, \"username\").send_keys(ID)\n",
    "driver.find_element(By.NAME, \"password\").send_keys(PW)\n",
    "time.sleep(2)"
   ]
  },
  {
   "cell_type": "code",
   "execution_count": 7,
   "metadata": {
    "collapsed": true
   },
   "outputs": [],
   "source": [
    "# 로그인 버튼을 직접 클릭해 로그인합니다.\n",
    "# Selenium으로 로그인 버튼을 클릭하는 경우 자동입력방지문자를 입력해야 합니다."
   ]
  },
  {
   "cell_type": "code",
   "execution_count": 8,
   "metadata": {
    "collapsed": true
   },
   "outputs": [],
   "source": [
    "# 알림 설정 관련 선택창이 출현한 경우에 \"나중에 하기\"를 선택합니다.\n",
    "# 알림 설정 창이 출현하지 않는다면 실행을 하지 말아주세요.\n",
    "driver.find_element(By.CLASS_NAME, \"mt3GC\").find_elements(By.TAG_NAME, \"button\")[1].click()"
   ]
  },
  {
   "cell_type": "code",
   "execution_count": 22,
   "metadata": {},
   "outputs": [],
   "source": [
    "# 인스타그램 검색창에 해시태그를 검색합니다.\n",
    "\n",
    "# 검색어를 입력합니다.\n",
    "keyword = \"#빅데이터\"\n",
    "search_form = driver.find_element(By.CSS_SELECTOR, \"#react-root > section > nav > div._8MQSO.Cx7Bp > div > div > div.LWmhU._0aCwM > input\")\n",
    "search_form.send_keys(keyword)\n",
    "time.sleep(5)"
   ]
  },
  {
   "cell_type": "code",
   "execution_count": 23,
   "metadata": {},
   "outputs": [],
   "source": [
    "# 해시태그 검색결과 중 가장 상위에 출현한 해시태그 검색결과로 이동합니다.\n",
    "search_url = driver.find_element(By.CLASS_NAME, \"fuqBx\").find_element(By.TAG_NAME, \"a\").get_attribute(\"href\")\n",
    "driver.get(search_url)\n",
    "time.sleep(5)"
   ]
  },
  {
   "cell_type": "markdown",
   "metadata": {},
   "source": [
    "### 3. 인스타그램 게시물 본문 수집하기\n",
    "\n",
    "---"
   ]
  },
  {
   "cell_type": "code",
   "execution_count": 24,
   "metadata": {},
   "outputs": [
    {
     "name": "stdout",
     "output_type": "stream",
     "text": [
      "Scroll 횟수 : 3\r"
     ]
    }
   ],
   "source": [
    "# 수집된 게시물 개수를 저장할 변수를 선언합니다.\n",
    "post_count = 0\n",
    "\n",
    "# 게시물 내용을 저장할 파일을 생성합니다.\n",
    "# 파일명에는 \"#\"을 포함할 수 없으므로 제거해줍니다.\n",
    "f = open(\"instagram_post_\" + keyword.replace(\"#\", \"\") + \".txt\", \"w\", encoding = \"utf-8\")\n",
    "\n",
    "# 인스타그램 게시물은 스크롤을 계속 내려야 모든 게시물을 확인할 수 있습니다.\n",
    "# 몇 번 스크롤을 내리면서 게시물을 수집할지 지정합니다.\n",
    "# 게시물이 양이 많을수록 스크롤 횟수를 늘려줍니다.\n",
    "scroll_limit = 3\n",
    "\n",
    "# 수집된 전체 게시물을 저장할 리스트를 생성합니다.\n",
    "# 중복된 게시물 수집을 방지하기위해 활용됩니다.\n",
    "total_post_list = []\n",
    "\n",
    "for i in range(scroll_limit+1):\n",
    "    # 현재 내려진 스크롤 횟수를 출력합니다.\n",
    "    print(\"Scroll 횟수 :\", i, end=\"\\r\")\n",
    "    time.sleep(2)\n",
    "    # 현재 화면상에 출현한 게시물 모두를 불러와 리스트에 저장합니다.\n",
    "    post_list = driver.find_elements(By.CLASS_NAME, \"_9AhH0\")\n",
    "    # 이미 수집된 게시물이 있는지 확인하고 새로운 게시물만 리스트에 저장합니다.\n",
    "    post_list = [post for post in post_list if post not in total_post_list]\n",
    "    # 수집할 게시물을 수집된 전체 게시물 리스트에 추가합니다.\n",
    "    total_post_list += post_list\n",
    "    \n",
    "    # FOR 문을 활용해 게시물 지정을 반복합니다. (1.~4. 반복)\n",
    "    for post in post_list:\n",
    "        try:\n",
    "            # 1. 포스팅 이미지를 클릭합니다.\n",
    "            post.click()\n",
    "            time.sleep(3)\n",
    "            # 2. 포스팅 본문의 텍스트를 가져옵니다.\n",
    "            try:\n",
    "                content = driver.find_element(By.CLASS_NAME, \"C4VMK\").text\n",
    "                content = content.replace(\"\\n\", \" \")\n",
    "                f.write(content + \"\\n\")\n",
    "            except:\n",
    "                None\n",
    "            # 3. 수집한 포스트 개수를 늘려줍니다.\n",
    "            post_count += 1\n",
    "            # 4. 우측 상단의 X를 눌러 팝업창을 닫습니다.\n",
    "            driver.find_element(By.XPATH, \"/html/body/div[4]/div[3]/button/div\").click()\n",
    "        except:\n",
    "            continue\n",
    "            \n",
    "    # 스크롤을 내려 추가로 게시물이 브라우저에 보이도록 합니다.\n",
    "    driver.execute_script(\"window.scrollTo(0, document.body.scrollHeight);\")\n",
    "    time.sleep(2)\n",
    "f.close()"
   ]
  },
  {
   "cell_type": "code",
   "execution_count": 25,
   "metadata": {},
   "outputs": [
    {
     "name": "stdout",
     "output_type": "stream",
     "text": [
      "> 수집한 총 게시물 개수 : 27\n"
     ]
    }
   ],
   "source": [
    "print(\"> 수집한 총 게시물 개수 :\", post_count)"
   ]
  },
  {
   "cell_type": "code",
   "execution_count": 26,
   "metadata": {},
   "outputs": [],
   "source": [
    "# Chrome Driver를 닫습니다.\n",
    "driver.close()"
   ]
  },
  {
   "cell_type": "code",
   "execution_count": 27,
   "metadata": {},
   "outputs": [
    {
     "name": "stdout",
     "output_type": "stream",
     "text": [
      "donvely_kh 돈블리가 너무나도 존경하는 신영준 박사님. 늘 보고 늘 듣는 존재가 곧 내가 된다고 믿어요🙏🏻 3일\n",
      "donvely_kh 벌써 월요일❕감기조심하세요~❕🤍 5일\n",
      "seung_ju_messenger 👨‍💻 앱에 생채정보 올리면 집에서 비대면진료 . . 🔹️언컨텍트 김용섭 작가님의 말중에 컨텍트하기위해 언컨택트하는것이다 라는말이 생각나네요.  🔹️이모든 변화들이 결국은 우리의 생존과 직결되어 있으며 전보다 더안전성을추구하고 편리함과 합리적인 삶을 살기위한 변화인것인것입니다 . 🔸️헬스케어플랫폼.원격의료 이젠 더이상 남의 이야기가아니죠 미국.중국.일본도 원격의료를도입했는데.아직우리나라는 개인정보법에 따른문제때문에 다른나라에비해 상황이 쉽지만은 않네요. . 🔸️스마트헬스케어플랫폼 헬스온을 개발한 헬스커넥트는 원격의료를 할수있다는강점을 내세우고 있네요 . 🔸️헬스온은 만성관리.AI 기반질환 예측 원격모니터등 다양한 기능을갖춘 디지털 의료플랫폼. 스마트폰 어플리케이션(앱)이나 전용기기를 통해개인별 생체정보를 수집하고 원격진료를받으며 AI 가 분석한 개안맞춤형 생활패턴과 만성잘환발병에 대한예측도 할수있다 . . 환자에게 식단.운동.투약시간등을 알려 생활속에서 만성질환을관리할수있도록 돕는다. 환자가 혈압이나 혈당등 자가 검사를 하면 이를 기록해 데이터베이스에 저장 생활데이터와 의료데이터는 의사에게전달되고 환자는집에서 헬스온을 통해 비대면 진료를받을수있다.  빅데이터와 AI 를 통해 개인맞춤형 만성질환예측서비스를 제공한다는점이 특징이다... . . 🔹️인간의삶이 더 편리하고 안전하게 더좋은 의료서비스를 받을수있기를 바래봅니다. . . #앱#원격의료#비대면진료#디지털의료플랫폼#빅데이터#AI #K방역#헬스온#언컨택트#개인정보법 #만성질환 12주\n",
      "chaeksaga . 김미경의 리부트 . 김미경 . 디지털 세상은 변하는 시대의 흐름, 변수일 뿐이며 도구일 뿐이다. 변하지 않는 상수는 우리 자신이라고 말씀하시는 김미경 대표님 . 대표님이 우리에게 던지는 메시지는 변화하는 세상의 흐름을 쫓으라는 내용도 있지만 변하지 않는 본질, 우리의 존재의 가치를 잊지 말고 용기 내어 코로나 이후로 변화가 더 가속화되는 디지털 세상과 싸우라는 이야기 같았다. . 57세인 나도 '파이썬'을 배운다며 물리적인 노력은 변하지 않는 가치임을 보여주신다. 디지털 플랫폼, 기술, 인공지능, 빅데이터 등 최근의 전 세계에 일어나는 변화를 공부하신 뒤에 우리에게 이야기하시는 것은 내가 직접 코로나 이후의 인생 계획을 써보는 '시나리오'였다. 상상력의 힘이 없었다면 기술은 발달하지 않았을 것이다. . 코로나 이후 빠르게 변화하는 세상에서 인공지능, 빅데이터, 각종 디지털 기술은 당연히 중요할 것이다. 하지만 어떠한 프로그램이 어떠한 목적으로 쓰일지 기획하는 아이디어와 상상력이 없다면, 코딩이 무슨 소용이겠는가? . . . 코로나로 힘든 사람들을 향한 김미경 대표님의 위로와 응원 잘 읽었습니다. 13주\n",
      "25_jw 아니 뭐 다 100만원짜리만 보여주냐 싼 거 알려달라고... . #빅데이터 #일상#만화#그림#일러스트#영화#짤#이사#먹스타그램 5주\n",
      "happydream_jieun #bookstagram #책리뷰 BC카드 빅데이터센터가 최초로 공개하는 한국인의 소비지도 ‘빅데이터, 사람을 읽다.’ . . 데이터를 통해 사람을 읽을 수 있다는 사실을 안다면 더이상 빅데이터를 읽는 기술은 선택이 아닌 필수 . . ‘빅데이터, 사람을 읽다’는 데이터를 통해 드러나는 사람의 심리, 소비패턴, 유형 등이 상세하게 담겨있고 각각의 특징과 앞으로의 트렌드까지 함께 엿볼 수 있는 책 *개인의 소비 패턴이 어떤 유형에 속하는지도 셀프 점검 가능 . . 트렌드 코리아 2020이 전반적인 큰 그림을 읽을 수 있게 해 준다면 빅데이터 사람을 읽다에서는 그 안의 세부적인 사항들을 들여다 볼 수 있게 해준다. . . 현재 조성되어 있는 지역별 상권이 왜 핫플이 되고 있는지 앞으로는 어떤 트렌드가 예상되는지 데이터가 말해주고 있다. . . 빅데이터의 기본 개념이나 왜 알아야 하는지 궁금하신 분들을 위한 책이라 생각합니다. . . #책스타그램 #빅데이터사람을읽다 #미래북살롱 41주\n",
      "seung_ju_messenger 💠 마이데이터 적금 출시.💠 . 1️⃣ 위치 정보 주니 이자 더주는 마이데이터적금 출시 . 2️⃣ 신용정보법 개정안 5일시행. 마이데이터 시대 활짝. . . 3️⃣ NH농협은행이 고객 위치 정보를 활용한 금융 상품을 처음으로 출시했다. 은행권 상품개발에 통신사 기지국 데이터를 활용한 첫사례다. 마이데이터 시장이 열리면서 은행들은 고객정보를 인증하면 우대금리를 제공하는 'NH 가고싶은 대한민국 적금'을 출시했다. 여행.체험과 금융을 결합시킨 상품. 고객이 인증한 권역수에 따라 0.1%포인트에서 2.5% 포인트까지우대금리를 차등 제공한다. 우대금리를 포함한최고 금리는 연 3.2%다. . 4️⃣마이데이터 사업은 은행.카드.보험.통신사등 여러곳에 흩어져있던 개인데이터를 수집해 소비자가 한눈에 살펴볼수있게 하는것이다. 데이터 소유권을 금융사가 아니라 내가 갖게된다.  5️⃣ 마이데이터 예비허가사전 신청을 받은금융위는 다음달부터 총 세차례씩 걸쳐 한번에 최대 20곳씩 허가를 내준다 앞으로 금융권에서는 고객데이터를 활용한맞춤형 금융상품 추천이나 개인자문서비스(PB) 등이 가능해질것이다 . . 🌱🌱🌱🌱🌱🌱🌱🌱🌱🌱🌱🌱🌱  💜 우리나라 마이데이터 산업은많이 뒤쳐진상태라고 알고 있어요 의료데이터나 금융데이터는 개인정보 보호법에따라 거래하지못하게 잠겨있는상태입니다. 미국등 다른나라들은 다 개방해놓았고 데이터의 유연성과 힘때문에 구글이나 아마존 유투브등이 크게 발전하고 있는거지요 우리나라도 하나의 돌파구가 있다면 마이데이터를 활용해야하는것 데이터 주인이 허락한다면 쓰도록 하는방향.. 우리가 데이터를 생산하기도하지만 데이터로부터 수혜를 받는 방법들도 잘 모색해야할것같아요💜 . . . #마이데이터 #마이데이터적금 #개인정보보호법 #데이터활용 #빅데이터 #금융데이터 #데이터의힘 #데이터생산 #신문읽는 여자 11주\n",
      "maaac_book 맥주에 책 한잔(no beer) 오늘의 맥북#31 <에이트>  독서모임의 다음 책으로 선정되어 알게된 책.  인공지능으로부터 대체되지 않는 나를 만드는 법.  표지의 첫 한줄부터 강렬했다.  사실 인공지능 ai에 대해 막연히 4차 산업혁명의 중추, 다음 시대의 핵심 기술. 이라고만 알았지. 제대로 아는건 없었던 것같다.  앞으로 다가올 ai 시대에는 딱 두 가지의 계급으로 세상이 나뉠 거라 이야기한다.  인공지능 로봇에게 명령하는 자와 인공지능 로봇에게 명령받는 자로 말이다.  그리고, 세계가 이렇게 바뀌어 가고있는데 미국, 중국, 일본, 러시아 그리고 한국 등  각 나라들이 이를 받아들이고 변화하려는 태도와 여전히 미온적인 태도가 극명히 나뉨을 볼 수 있다.  그리고 우리나라는 당연하게도(?) 후자에 속한다.  책을 잡자마자 chapter.2 까지 단숨에 읽어버릴 정도로 몰입도도 좋았다.  특히, ai 인공지능의 전문적인 용어들을 어렵지않게 적어 더욱 술술 읽힌 것같기도.  이번 휴가동안은 Book캉스를 떠나기로 마음먹었기에 단숨에 읽고나서 알찬 내용의 리뷰로 다시 돌아오겠습니다 😊  아..! 혹시 여러분들은 요즘 무슨 책을 읽으시나요?  최근 읽었던 책들중 추천해줄만한 책이 있다면 공유좀 부탁드려요 🙏  #에이트 #이지성작가 #인공지능 #ai 10주\n",
      "smartgramer 🌸 Gomphrena Pretty flowers planted in a small flowerbed in town. It is very convenient to use Bixby Vision to tell you what flower it is.  🌸 곰프레나 동네 작은 화단에 피어있던 예쁜 꽃. 빅스비 비전을 활용해서 본 꽃의 이름을 알아냈어요. 너무 편리하네요.  #빅스비 #빅스비비전 #AI #인공지능 #빅데이터 #bigdata #bixby #bixbyvision #galaxy #galaxynote20 #galaxynote20ultra #note20 #note20ultra #갤럭시 #갤럭시노트 #갤럭시노트20 #갤럭시노트20울트라 #노트20울트라 #노트20 #곰프레나 #gomphrena #flowers #flower #꽃 #화단 #flowerbed 2일\n",
      "laydinside PLQ Brand Identity . . . . .  Promote Lifestyle Diversity. Place Curation  #브랜드 #브랜딩 #레이:디 #프로젝트스토리 #아이덴티티 #디자인 #공감 #커뮤니케이션 #전문화된집단지성 #디자이너일상 #천직 #직업 #Brand #Branding #Design #Identity #Empathy #Communication #Lay:d #BrandnDesignStudio #designer #collabaration #공간창출 #공간큐레이션 #공간기획 #라이프스타일 #빅데이터 53분\n"
     ]
    }
   ],
   "source": [
    "# 파일에 저장된 카페 게시글 내용을 확인합니다.\n",
    "f = open(\"instagram_post_\" + keyword.replace(\"#\", \"\") + \".txt\", encoding=\"utf-8\")\n",
    "for post in f.read().split(\"\\n\")[:10]:\n",
    "    print(post.strip())\n",
    "f.close()"
   ]
  },
  {
   "cell_type": "code",
   "execution_count": null,
   "metadata": {},
   "outputs": [],
   "source": []
  }
 ],
 "metadata": {
  "kernelspec": {
   "display_name": "Python 3",
   "language": "python",
   "name": "python3"
  },
  "language_info": {
   "codemirror_mode": {
    "name": "ipython",
    "version": 3
   },
   "file_extension": ".py",
   "mimetype": "text/x-python",
   "name": "python",
   "nbconvert_exporter": "python",
   "pygments_lexer": "ipython3",
   "version": "3.8.3"
  }
 },
 "nbformat": 4,
 "nbformat_minor": 2
}
