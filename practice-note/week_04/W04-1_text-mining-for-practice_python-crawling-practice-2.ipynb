{
 "cells": [
  {
   "cell_type": "markdown",
   "metadata": {},
   "source": [
    "# TEXT MINING for PRACTICE\n",
    "- 본 자료는 텍스트 마이닝을 활용한 연구 및 강의를 위한 목적으로 제작되었습니다.\n",
    "- 본 자료를 강의 목적으로 활용하고자 하시는 경우 꼭 아래 메일주소로 연락주세요.\n",
    "- 본 자료에 대한 허가되지 않은 배포를 금지합니다.\n",
    "- 강의, 저작권, 출판, 특허, 공동저자에 관련해서는 문의 바랍니다.\n",
    "- **Contact : ADMIN(admin@teanaps.com)**\n",
    "\n",
    "---"
   ]
  },
  {
   "cell_type": "markdown",
   "metadata": {},
   "source": [
    "## WEEK 04-1. 동적 페이지 수집하기: 네이버 카페\n",
    "- Python을 활용해 가상의 브라우저를 띄워 웹페이지에서 데이터를 크롤링하는 방법에 대해 다룹니다.\n",
    "\n",
    "---"
   ]
  },
  {
   "cell_type": "markdown",
   "metadata": {},
   "source": [
    "> **\\*\\*\\* 주의사항 \\*\\*\\***  \n",
    "본 자료에서 설명하는 웹크롤링하는 방법은 해당 기법에 대한 이해를 돕고자하는 교육의 목적으로 사용되었으며,  \n",
    "이를 활용한 대량의 무단 크롤링은 범죄에 해당할 수 있음을 알려드립니다."
   ]
  },
  {
   "cell_type": "markdown",
   "metadata": {},
   "source": [
    "### 1. 가상의 브라우저 실행하기: Chrome Driver\n",
    "\n",
    "---"
   ]
  },
  {
   "cell_type": "code",
   "execution_count": 2,
   "metadata": {},
   "outputs": [],
   "source": [
    "# 가상의 브라우저를 컨트롤 할 수 있도록 도와주는 selenium 패키지를 설치합니다.\n",
    "# 아래 주석을 해지하고 셀을 실행합니다.\n",
    "# 설치는 한번만 수행하면 되며, 재설치시 Requirement already satisfied: ~ 라는 메시지가 출력됩니다.\n",
    "\n",
    "#!pip install selenium"
   ]
  },
  {
   "cell_type": "code",
   "execution_count": 27,
   "metadata": {},
   "outputs": [],
   "source": [
    "# Python 코드를 통해 가상의 브라우저를 띄우기 위해 selenium 패키지를 import 합니다.\n",
    "import selenium\n",
    "from selenium import webdriver\n",
    "from selenium.webdriver.common.by import By\n",
    "from selenium.webdriver.chrome.service import Service\n",
    "\n",
    "# selenium을 활용해 브라우저를 직접 띄우는 경우, 실제 웹서핑을 할때처럼 로딩시간이 필요합니다.\n",
    "# 로딩시간 동안 대기하도록 코드를 구성하기위해 time 패키지를 import 합니다.\n",
    "import time\n",
    "\n",
    "# Python 코드를 통해 웹페이지에 정보를 요청하기 위해 BeautifulSoup, urllib 패키지를 import 합니다.\n",
    "from bs4 import BeautifulSoup\n",
    "import requests"
   ]
  },
  {
   "cell_type": "code",
   "execution_count": 28,
   "metadata": {},
   "outputs": [
    {
     "name": "stdout",
     "output_type": "stream",
     "text": [
      "1\n",
      "2\n"
     ]
    }
   ],
   "source": [
    "print(1)\n",
    "time.sleep(5)\n",
    "print(2)"
   ]
  },
  {
   "cell_type": "code",
   "execution_count": 29,
   "metadata": {},
   "outputs": [
    {
     "name": "stdout",
     "output_type": "stream",
     "text": [
      "W04-1_text-mining-for-practice_python-crawling-practice-2.ipynb\r\n",
      "W04-2_text-mining-for-practice_python-crawling-practice-3.ipynb\r\n",
      "W04-3_text-mining-for-practice_python-crawling-practice-4.ipynb\r\n",
      "article_코로나19_2021.01.01_2021.01.30_1.txt\r\n",
      "article_코로나19_2022.01.01_2022.01.30_1.txt\r\n",
      "\u001b[31mchromedriver\u001b[m\u001b[m\r\n",
      "chromedriver_mac64_m1.zip\r\n",
      "comment_코로나19_2021.01.01_2021.01.30_1.txt\r\n",
      "comment_코로나19_2022.01.01_2022.01.30_1.txt\r\n",
      "coupang_play.txt\r\n",
      "naver_cafe_dieselmania.txt\r\n"
     ]
    }
   ],
   "source": [
    "!ls"
   ]
  },
  {
   "cell_type": "code",
   "execution_count": 30,
   "metadata": {},
   "outputs": [],
   "source": [
    "# Chrome Driver를 호출합니다.\n",
    "chrome_options = webdriver.ChromeOptions()\n",
    "\n",
    "# 브라우저에 임의로 User-agent 옵션을 넣어 Python 코드로 접속함을 숨깁니다.\n",
    "chrome_options.add_argument('--user-agent=\"Mozilla/5.0 (Macintosh; Intel Mac OS X 10_13_4) AppleWebKit/537.36 (KHTML, like Gecko) Chrome/66.0.3359.139 Safari/537.36\"')\n",
    "\n",
    "# Chrome Driver 파일의 경로를 지정하고 실행합니다.\n",
    "# Chrome Driver는 아래 링크에서 다운로드 가능합니다.\n",
    "# 본 Jupyter Notebook 파일과 동일한 경로에 Chrome Driver가 존재하는 경우 아래 경로를 그대로 사용합니다.\n",
    "\n",
    "#service = Service(\"chromedriver.exe\")    # Windows 운영체제\n",
    "service = Service(\"./chromedriver\")    # MAC, Linux 운영체제\n",
    "                                       # 경고메시지 출력시 조치 : [시스템 환경설정] > [보안 및 개인정보 보호] > \"Chrome Drive ~ 확인없이 허용\"\n",
    "\n",
    "driver = webdriver.Chrome(service=service, options=chrome_options)"
   ]
  },
  {
   "cell_type": "markdown",
   "metadata": {},
   "source": [
    "Chrome Driver 다운로드 URL : http://chromedriver.chromium.org/downloads"
   ]
  },
  {
   "cell_type": "code",
   "execution_count": 4,
   "metadata": {},
   "outputs": [],
   "source": [
    "#driver.close()"
   ]
  },
  {
   "cell_type": "markdown",
   "metadata": {},
   "source": [
    "### 2. 가상의 브라우저를 활용에 사이트 접속하기\n",
    "\n",
    "---"
   ]
  },
  {
   "cell_type": "code",
   "execution_count": 31,
   "metadata": {},
   "outputs": [],
   "source": [
    "# 브라우저에서 URL에 해당하는 페이지로 이동합니다.\n",
    "URL = \"https://icons8.com/icons/set/customer-service\"\n",
    "driver.get(URL)\n",
    "# 실제 페이지가 불러와지는 시간을 고려해 sleep(SEC) 함수로 기다리는 시간을 지정해줍니다.\n",
    "time.sleep(2)"
   ]
  },
  {
   "cell_type": "code",
   "execution_count": 17,
   "metadata": {},
   "outputs": [],
   "source": [
    "# 네이버 메인페이지로 이동합니다.\n",
    "URL = \"https://naver.com\"\n",
    "driver.get(URL)\n",
    "time.sleep(2)"
   ]
  },
  {
   "cell_type": "code",
   "execution_count": 18,
   "metadata": {},
   "outputs": [],
   "source": [
    "# 네이버 카페에 접근하기 위해서는 로그인이 필요합니다.\n",
    "# 네이버 로그인 페이지로 이동합니다.\n",
    "# click() 함수로 원하는 요소(태그)를 클릭할 수 있습니다.\n",
    "# request > .find, .findAll\n",
    "#soup.find / findALL()\n",
    "driver.find_element(By.CLASS_NAME, \"link_login\").click()\n",
    "time.sleep(2)"
   ]
  },
  {
   "cell_type": "code",
   "execution_count": 19,
   "metadata": {},
   "outputs": [],
   "source": [
    "# 네이버 로그인 페이지에서 아이디(ID)와 비밀번호(PW)를 입력합니다.\n",
    "# 아이디와 비밀번호를 브라우저에서 직접 입력해도 됩니다.\n",
    "ID = \"여기에 ID를 입력합니다.\"\n",
    "PW = \"여기에 PW를 입력합니다.\"\n",
    "driver.find_element(By.NAME, \"id\").send_keys(ID)\n",
    "driver.find_element(By.NAME, \"pw\").send_keys(PW)"
   ]
  },
  {
   "cell_type": "code",
   "execution_count": 9,
   "metadata": {},
   "outputs": [],
   "source": [
    "# 로그인 버튼을 클릭해 로그인합니다.\n",
    "# 대부분의 경우 자동입력 방지문자 입력이 화면이 출력됩니다.\n",
    "# 이 경우 브라우저에서 직접 로그인합니다.\n",
    "# 직접 로그인 하는 경우 이 셀을 실행하지 않아도 됩니다.\n",
    "#driver.find_element(By.NAME, \"frmNIDLogin\").submit()\n",
    "#time.sleep(2)"
   ]
  },
  {
   "cell_type": "markdown",
   "metadata": {},
   "source": [
    "### 3. 네이버 카페 게시물 링크 수집하기\n",
    "\n",
    "---"
   ]
  },
  {
   "cell_type": "code",
   "execution_count": 21,
   "metadata": {},
   "outputs": [],
   "source": [
    "# 수집할 카페 게시물의 링크주소를 저장할 리스트를 생성합니다.\n",
    "post_list = []\n",
    "\n",
    "# 브라우저에서 직접 내가 수집할 카페에 접속합니다.\n",
    "# 카페 검색기능을 활용해 수집하고 싶은 내용을 검색합니다.\n",
    "# 키워드, 기간, 정렬기준 등을 지정해 원하는 검색결과를 화면에 띄웁니다.\n",
    "# 검색 후 게시물 리스트가 포함된 \"진짜 URL\"을 찾아냅니다.\n",
    "# URL을 복사할 때 맨뒤에 \"...%26search.page=3\" 부분의 숫자(페이지번호)는 제거하고 입력합니다.\n",
    "# 예시는 네이버 카페 \"디젤매니아\"에서 \"청바지\"라는 키워드로 검색된 게시물 URL 입니다.\n",
    "# 게시물 열람이 가능한 계정으로 카페에 접근해야 수집이 가능합니다.\n",
    "URL = \"https://cafe.naver.com/ArticleSearchList.nhn?search.clubid=11262350&search.media=0&search.searchdate=all&userDisplay=15&search.option=0&search.sortBy=date&search.searchBy=0&search.query=%C3%BB%B9%D9%C1%F6&search.viewtype=title&search.page=\"\n",
    "\n",
    "# 몇 페이지 까지 게시물의 URL을 수집할지 지정합니다.\n",
    "# 최대 페이지 수를 넘지 않도록 주의합니다.\n",
    "page_limit = 3\n",
    "\n",
    "# FOR 문을 활용해 페이지 번호를 반복합니다.\n",
    "for page_num in range(1, page_limit+1):\n",
    "    # 검색결과 페이지로 이동합니다.\n",
    "    driver.get(URL + str(page_num))\n",
    "    # 페이지에서 게시물 리스트가 포함된 프레임으로 이동합니다.\n",
    "    # 21.10.16 수정\n",
    "    #driver.switch_to_frame(driver.find_element(By.NAME, \"cafe_main\"))\n",
    "    driver.switch_to.frame(driver.find_element(By.NAME, \"cafe_main\"))\n",
    "    \n",
    "    # 게시물 태그를 모두 불러옵니다.\n",
    "    elem = driver.find_elements(By.CLASS_NAME, \"article\")\n",
    "    for e in elem:\n",
    "        # 웹페이지의 하이퍼링크 URL은 항상 href 속성에 존재합니다.\n",
    "        # href 속성에 저장된 URL을 불러와 post_list에 추가합니다.\n",
    "        post_list.append(e.get_attribute(\"href\"))\n",
    "    # 아래 주석부분은 위 25~29번째 라인과 동일한 코드입니다.\n",
    "    # 혹시 post_list에 URL이 저장되지 않는 경우 아래처럼 태그의 Class 속성을 \"article\"에서 \"aaa\"로 변경해줍니다.\n",
    "    '''\n",
    "    elem = driver.find_elements(By.CLASS_NAME, \"aaa\")\n",
    "    for e in elem:\n",
    "        post_list.append(e.find_element(By.TAG_NAME, \"a\").get_attribute(\"href\"))\n",
    "    '''\n",
    "    # 페이지의 기본 프레임으로 이동합니다.\n",
    "    driver.switch_to.default_content() \n",
    "    time.sleep(2)"
   ]
  },
  {
   "cell_type": "code",
   "execution_count": 22,
   "metadata": {},
   "outputs": [
    {
     "name": "stdout",
     "output_type": "stream",
     "text": [
      "수집된 게시물 URL 개수 : 45\n"
     ]
    }
   ],
   "source": [
    "# 총 몇개의 게시물 URL이 저장되었는지 확인합니다.\n",
    "print(\"수집된 게시물 URL 개수 :\", len(post_list))"
   ]
  },
  {
   "cell_type": "code",
   "execution_count": 23,
   "metadata": {},
   "outputs": [
    {
     "name": "stdout",
     "output_type": "stream",
     "text": [
      "['https://cafe.naver.com/ca-fe/ArticleRead.nhn?clubid=11262350&page=1&inCafeSearch=true&searchBy=0&query=%EC%B2%AD%EB%B0%94%EC%A7%80&includeAll=&exclude=&include=&exact=&searchdate=all&media=0&sortBy=date&articleid=37226605&referrerAllArticles=true']\n"
     ]
    }
   ],
   "source": [
    "# URL이 잘 저장되어 있는지 인덱싱을 통해 일부만 확인해봅니다.\n",
    "print(post_list[:1])"
   ]
  },
  {
   "cell_type": "code",
   "execution_count": 24,
   "metadata": {},
   "outputs": [
    {
     "name": "stdout",
     "output_type": "stream",
     "text": [
      "https://cafe.naver.com/ca-fe/ArticleRead.nhn?clubid=11262350&page=1&inCafeSearch=true&searchBy=0&query=%EC%B2%AD%EB%B0%94%EC%A7%80&includeAll=&exclude=&include=&exact=&searchdate=all&media=0&sortBy=date&articleid=37226605&referrerAllArticles=true\n"
     ]
    }
   ],
   "source": [
    "print(post_list[0])"
   ]
  },
  {
   "cell_type": "markdown",
   "metadata": {},
   "source": [
    "### 4. 네이버 카페 게시물 본문과 댓글 수집하기\n",
    "\n",
    "---"
   ]
  },
  {
   "cell_type": "code",
   "execution_count": 25,
   "metadata": {},
   "outputs": [
    {
     "name": "stdout",
     "output_type": "stream",
     "text": [
      "9/9\r"
     ]
    }
   ],
   "source": [
    "# 게시물 URL이 저장된 post_list에서 몇번째 부터(start) 몇번째 까지(end) URL에 접근할지 지정합니다.\n",
    "start = 0\n",
    "end = 9\n",
    "\n",
    "# 게시물 내용을 저장할 파일을 생성합니다.\n",
    "f = open(\"naver_cafe_dieselmania.txt\", \"w\", encoding=\"utf-8\")\n",
    "\n",
    "# FOR 문을 활용해 페이지 URL을 반복합니다.\n",
    "for url in post_list[start:end]:\n",
    "    # 현재 수집이 진행중인 인덱스를 출력합니다.\n",
    "    print(str(start+1) + \"/\" + str(end), end=\"\\r\")\n",
    "    start += 1\n",
    "    try:\n",
    "        # URL을 통해 게시물 페이지로 이동합니다.\n",
    "        driver.get(url)\n",
    "        time.sleep(5)\n",
    "        # 페이지에서 게시물 내용이 포함된 프레임으로 이동합니다.\n",
    "        driver.switch_to.frame(driver.find_element(By.NAME, \"cafe_main\"))\n",
    "\n",
    "        # 페이지에서 태그의 속성을 활용해 원하는 부분을 불러옵니다.\n",
    "        # 1. 게시물 제목\n",
    "        title = driver.find_element(By.CLASS_NAME, \"title_text\").text.strip()\n",
    "        #title = elem.find_elements(By.TAG_NAME, \"td\")[0].text\n",
    "        # 2. 게시판 이름\n",
    "        board_type = driver.find_element(By.CLASS_NAME, \"link_board\").text.strip()\n",
    "        # 3. 게시물 작성일자\n",
    "        datetime = driver.find_element(By.CLASS_NAME, \"date\").text\n",
    "        # 4. 게시물 작성자(닉네임)\n",
    "        user = driver.find_element(By.CLASS_NAME, \"nickname\").text\n",
    "        # 5. 게시물 내용\n",
    "        # 파일에서 게시물 구분을 줄단위로 하기위해 줄바꿈을 모두 제거합니다.\n",
    "        contents = driver.find_element(By.CLASS_NAME, \"article_viewer\").text.replace(\"\\n\", \" \")\n",
    "        # 파일에 수집한 게시물 내용을 기록합니다.\n",
    "        f.write(\"POSTING\" + \"\\t\" + user + \"\\t\" + datetime + \\\n",
    "                \"\\t\" + board_type + \"\\t\" + title + \"\\t\" + contents + \"\\n\") \n",
    "\n",
    "        # 댓글을 모두 불러옵니다.\n",
    "        reply_list = driver.find_elements(By.CLASS_NAME, \"comment_box\")\n",
    "        # FOR 문을 활용해 댓글을 모두 반복합니다.\n",
    "        for reply in reply_list:\n",
    "            # 6. 댓글 내용\n",
    "            comment = reply.find_element(By.CLASS_NAME, \"text_comment\").text.replace(\"\\n\", \" \")\n",
    "            # 7. 댓글 작성자(닉네임)\n",
    "            user_nik = reply.find_element(By.CLASS_NAME, \"comment_nickname\").text\n",
    "            # 8. 댓글 작성일자\n",
    "            reply_date = reply.find_element(By.CLASS_NAME, \"comment_info_date\").text\n",
    "            # 파일에 수집한 댓글 내용을 기록합니다.\n",
    "            f.write(\"COMMENT\" + \"\\t\" + user_nik + \"\\t\" + reply_date + \\\n",
    "                    \"\\t\" + board_type + \"\\t\" + \"None\" + \"\\t\" + comment + \"\\n\")\n",
    "        # 페이지의 기본 프레임으로 이동합니다.\n",
    "        driver.switch_to.default_content()\n",
    "        time.sleep(2)\n",
    "    except:\n",
    "        driver.switch_to.default_content()\n",
    "        time.sleep(2)\n",
    "        continue\n",
    "f.close()"
   ]
  },
  {
   "cell_type": "code",
   "execution_count": 15,
   "metadata": {},
   "outputs": [],
   "source": [
    "# Chrome Driver를 닫습니다.\n",
    "driver.close()"
   ]
  },
  {
   "cell_type": "code",
   "execution_count": 16,
   "metadata": {
    "scrolled": false
   },
   "outputs": [
    {
     "name": "stdout",
     "output_type": "stream",
     "text": [
      "POSTING\t무시하지마세요\t2022.01.31. 12:34\t■디매인 라이프■\t요즘 유행하는 청바지가 있나요?\t디젤 돌체 디퀘 누디 이런거 이후에  지금 유행하는 청바지가 있나요? 없으면 추천좀... ㅠㅠ\n",
      "COMMENT\tlililllllil\t2022.01.31. 12:34\t■디매인 라이프■\tNone\t보세\n",
      "COMMENT\t아가리해\t2022.01.31. 12:35\t■디매인 라이프■\tNone\t에비수\n",
      "COMMENT\t모쏠아다찐따\t2022.01.31. 12:35\t■디매인 라이프■\tNone\t무파진\n",
      "COMMENT\t젖\t2022.01.31. 12:35\t■디매인 라이프■\tNone\t트루릴리전\n",
      "COMMENT\t따듯한아메리카노좋아\t2022.01.31. 12:35\t■디매인 라이프■\tNone\t트루릴리젼 락리바이벌\n",
      "COMMENT\t그게아니구\t2022.01.31. 12:35\t■디매인 라이프■\tNone\t잠뱅이\n",
      "COMMENT\t금쪽같은개새끼\t2022.01.31. 12:36\t■디매인 라이프■\tNone\t뱅뱅 tbj\n",
      "COMMENT\t시즈오카\t2022.01.31. 12:57\t■디매인 라이프■\tNone\t발렌티노 예쁘던데욤\n",
      "POSTING\t기본템매니아\t2022.01.31. 02:28\t디매인 패션\t[청바지매니아] 뒷북인데 핫시 김현우님 청바지 마르지엘라인가요? 아시는 분\t김현우님이 입은게 옛날 마르지엘라 청바지라는 사람도 있고 솔리드옴므라는 사람도 있고 분분한데  밑에 사진 2장은 rote라는 없어진 국내브랜드? 청바지거든요 이 디자인이 마르지엘라 카피인가요? 아니면 자체 디자인? 김현우님이 보세 입는거는 본 적 없는듯해서,, 헷갈리네요\n",
      "COMMENT\t재상이김치\t2022.01.31. 02:30\t디매인 패션\tNone\t카피져\n",
      "COMMENT\t기본템매니아\t2022.01.31. 02:33\t디매인 패션\tNone\t아하! 혹시 모델 아신다면 정보좀 부탁드려요\n",
      "COMMENT\t포로리야아아아\t2022.01.31. 11:29\t디매인 패션\tNone\t커멜에 똑같은더 있었는데 품절됨\n",
      "POSTING\t단활\t2022.01.30. 22:11\t■디매인 라이프■\t아끼던 청바지 엉덩이 터졌어요ㅋㅋ\n",
      "COMMENT\t흑희영\t2022.01.30. 22:11\t■디매인 라이프■\tNone\n",
      "COMMENT\t단활\t2022.01.30. 22:12\t■디매인 라이프■\tNone\t박스들다가 그만 ,,\n",
      "COMMENT\t왕왕멍멍냥냥\t2022.01.30. 22:12\t■디매인 라이프■\tNone\t파워엉덩맨\n",
      "COMMENT\t단활\t2022.01.30. 22:12\t■디매인 라이프■\tNone\n",
      "COMMENT\t아카리 츠무기\t2022.01.30. 22:13\t■디매인 라이프■\tNone\t찢청...\n",
      "COMMENT\t단활\t2022.01.30. 22:14\t■디매인 라이프■\tNone\t찢엉...\n",
      "POSTING\t피구왕통ㅋ\t2022.01.29. 20:56\t■디매인 라이프■\t똥퀘 그분은 청바지 어떻게 세탁 했을까요?\t갑자기 궁금…\n",
      "COMMENT\t댓글\t2022.01.29. 20:57\t■디매인 라이프■\tNone\t떵 치우는건 쉬워요 그냥 물로 덩어리 좀 털어내고 솔로 살살 문지르고 세탁기 돌리면 됩니다\n",
      "COMMENT\t섹도시발\t2022.01.29. 20:58\t■디매인 라이프■\tNone\t디퀘에 똥싼사건이 있었나여?\n",
      "COMMENT\t북극\t2022.01.29. 21:02\t■디매인 라이프■\tNone\t네 레전드ㅋㅋㅋ  심지어 그거 중고로 판다고 그래서 비상걸렸음요ㅋㅋㅋㅋ  사이즈도 몰라서 당분간 그 모델 거르라고ㅋㅋㅋㅋㅋ\n",
      "POSTING\t백곰과여우\t2022.01.29. 20:45\t■디매인 라이프■\t청바지에 투자하시는 분들 많이 계신가요??\t모드나 피스 등 국내 도메랑 해외 고가? 청바지랑 차이가 있을까요?? 아크네나 아페세 구매할려고 뒤져보고 있는데 너무 피곤해서요 ㅠㅠㅠ\n",
      "COMMENT\t북극\t2022.01.29. 20:45\t■디매인 라이프■\tNone\t핏 >>> 브랜드, 가격\n",
      "COMMENT\t백곰과여우\t2022.01.29. 20:47\t■디매인 라이프■\tNone\t피스워커뺴고 다 안입어봣는데.. 국내 도메부터 하나씩 사봐야겠네요 ㅠ\n",
      "COMMENT\t488spider\t2022.01.29. 20:45\t■디매인 라이프■\tNone\t디테일도잇고뭐 다양하져 차이는\n",
      "POSTING\t짧은다리182\t2022.01.29. 18:30\t디매인 패션\t아워레가시 청바지 사이즈 질문이요!\t써드컷 31 사이즈 딱 좋은데 포멀컷은 사이즈 어떻게 가면 될까요?\n",
      "COMMENT\t디매쿤\t2022.01.29. 18:30\t디매인 패션\tNone\t정사이즈요\n",
      "COMMENT\t오늘만 사는놈\t2022.01.29. 19:09\t디매인 패션\tNone\t서드컷이 포멀컷보다 클텐데 동사이즈가면 좋게 맞으실거같은데용. 이게 얇아서 금방 늘어나기도할거같아서요\n",
      "POSTING\t힙합빠삐용\t2022.01.29. 18:26\t■디매인 라이프■\t청바지 하나에 30이면 어때요?\t솔옴 청바지 30만,아페쎄 생지 30만.. 둘다 입어보니까 이쁘긴하더라고요..청바지에 30은 오바인가요?? 그냥 플랙진이나 리바이스급 2~3개 사는게 나을까요,, 무기명 투표 중 청바지 30만원짜리 1개 10만원짜리 3개 투표하기\n",
      "COMMENT\tMinerva\t2022.01.29. 18:27\t■디매인 라이프■\tNone\t사실 여기는 디젤청바지카페였음 ㅋㅋ\n",
      "COMMENT\t흑희영\t2022.01.29. 18:27\t■디매인 라이프■\tNone\tㄱㄱㄱㄱ\n",
      "COMMENT\t아젠다\t2022.01.29. 18:28\t■디매인 라이프■\tNone\t바지는 핏이 중요하다고 생각해서 2\n",
      "COMMENT\thyalu\t2022.01.29. 18:28\t■디매인 라이프■\tNone\t핏 잘맞으면 끝이죠\n",
      "COMMENT\t아 사귈까\t2022.01.29. 18:29\t■디매인 라이프■\tNone\t30하나\n",
      "COMMENT\t호빗킹\t2022.01.29. 18:29\t■디매인 라이프■\tNone\t리바이스 lvc도 20만원 중반\n",
      "COMMENT\t시즈오카\t2022.01.29. 18:42\t■디매인 라이프■\tNone\t15만 2개\n",
      "COMMENT\triie\t2022.01.29. 18:44\t■디매인 라이프■\tNone\t오바 아닌데 리바이스는 충분히 좋더라구요\n",
      "COMMENT\t츄뎡\t2022.01.29. 18:58\t■디매인 라이프■\tNone\t덜도말고 리바이스로 두개하시죠\n",
      "POSTING\t식혜몬\t2022.01.29. 13:37\t■디매인 라이프■\t피스워커 청바지 잘알님??\t플매2랑 플매2 라이트랑 색감 차이 많이 날까요? 플매2 라이트랑 마인워커랑 안겹치겠죠?\n",
      "POSTING\t키츠네3\t2022.01.29. 11:25\t■디매인 라이프■\t슬랙스나 청바지 브랜드 추천좀요!\t슬랙스는 솔타시 청바지는 아크네 아페쎄 띠어리 제외하고 다른 괜찮은 브랜드 없나요?! 가격 상관 x 도메 x\n",
      "COMMENT\t크르르를응\t2022.01.29. 11:53\t■디매인 라이프■\tNone\t무탠다드\n"
     ]
    }
   ],
   "source": [
    "# 파일에 저장된 카페 게시글 내용을 확인합니다.\n",
    "f = open(\"naver_cafe_dieselmania.txt\", encoding=\"utf-8\")\n",
    "for post in f:\n",
    "    print(post.strip())\n",
    "f.close()"
   ]
  },
  {
   "cell_type": "code",
   "execution_count": null,
   "metadata": {},
   "outputs": [],
   "source": []
  }
 ],
 "metadata": {
  "kernelspec": {
   "display_name": "Python 3 (ipykernel)",
   "language": "python",
   "name": "python3"
  },
  "language_info": {
   "codemirror_mode": {
    "name": "ipython",
    "version": 3
   },
   "file_extension": ".py",
   "mimetype": "text/x-python",
   "name": "python",
   "nbconvert_exporter": "python",
   "pygments_lexer": "ipython3",
   "version": "3.8.12"
  }
 },
 "nbformat": 4,
 "nbformat_minor": 2
}
