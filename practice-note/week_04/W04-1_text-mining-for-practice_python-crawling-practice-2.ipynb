{
 "cells": [
  {
   "cell_type": "markdown",
   "metadata": {},
   "source": [
    "# TEXT MINING for PRACTICE\n",
    "- 본 자료는 텍스트 마이닝을 활용한 연구 및 강의를 위한 목적으로 제작되었습니다.\n",
    "- 본 자료를 강의 목적으로 활용하고자 하시는 경우 꼭 아래 메일주소로 연락주세요.\n",
    "- 본 자료에 대한 허가되지 않은 배포를 금지합니다.\n",
    "- 강의, 저작권, 출판, 특허, 공동저자에 관련해서는 문의 바랍니다.\n",
    "- **Contact : ADMIN(admin@teanaps.com)**\n",
    "\n",
    "---"
   ]
  },
  {
   "cell_type": "markdown",
   "metadata": {},
   "source": [
    "## WEEK 04-1. 동적 페이지 수집하기: 네이버 카페\n",
    "- Python을 활용해 가상의 브라우저를 띄워 웹페이지에서 데이터를 크롤링하는 방법에 대해 다룹니다.\n",
    "\n",
    "---"
   ]
  },
  {
   "cell_type": "markdown",
   "metadata": {},
   "source": [
    "> **\\*\\*\\* 주의사항 \\*\\*\\***  \n",
    "본 자료에서 설명하는 웹크롤링하는 방법은 해당 기법에 대한 이해를 돕고자하는 교육의 목적으로 사용되었으며,  \n",
    "이를 활용한 대량의 무단 크롤링은 범죄에 해당할 수 있음을 알려드립니다."
   ]
  },
  {
   "cell_type": "markdown",
   "metadata": {},
   "source": [
    "### 1. 가상의 브라우저 실행하기: Chrome Driver\n",
    "\n",
    "---"
   ]
  },
  {
   "cell_type": "code",
   "execution_count": 1,
   "metadata": {},
   "outputs": [
    {
     "name": "stdout",
     "output_type": "stream",
     "text": [
      "Requirement already satisfied: selenium in /Users/jeonbyeongjin/opt/anaconda3/lib/python3.8/site-packages (3.141.0)\n",
      "Requirement already satisfied: urllib3 in /Users/jeonbyeongjin/opt/anaconda3/lib/python3.8/site-packages (from selenium) (1.25.9)\n",
      "\u001b[33mWARNING: You are using pip version 20.2.3; however, version 20.2.4 is available.\n",
      "You should consider upgrading via the '/Users/jeonbyeongjin/opt/anaconda3/bin/python -m pip install --upgrade pip' command.\u001b[0m\n"
     ]
    }
   ],
   "source": [
    "# 가상의 브라우저를 컨트롤 할 수 있도록 도와주는 selenium 패키지를 설치합니다.\n",
    "# 아래 주석을 해지하고 셀을 실행합니다.\n",
    "# 설치는 한번만 수행하면 되며, 재설치시 Requirement already satisfied: ~ 라는 메시지가 출력됩니다.\n",
    "\n",
    "!pip install selenium"
   ]
  },
  {
   "cell_type": "code",
   "execution_count": 2,
   "metadata": {},
   "outputs": [],
   "source": [
    "# Python 코드를 통해 가상의 브라우저를 띄우기 위해 selenium 패키지를 import 합니다.\n",
    "import selenium\n",
    "from selenium import webdriver\n",
    "from selenium.webdriver.common.by import By\n",
    "\n",
    "# selenium을 활용해 브라우저를 직접 띄우는 경우, 실제 웹서핑을 할때처럼 로딩시간이 필요합니다.\n",
    "# 로딩시간 동안 대기하도록 코드를 구성하기위해 time 패키지를 import 합니다.\n",
    "import time\n",
    "\n",
    "# Python 코드를 통해 웹페이지에 정보를 요청하기 위해 BeautifulSoup, urllib 패키지를 import 합니다.\n",
    "from bs4 import BeautifulSoup\n",
    "import requests"
   ]
  },
  {
   "cell_type": "code",
   "execution_count": 3,
   "metadata": {},
   "outputs": [
    {
     "name": "stderr",
     "output_type": "stream",
     "text": [
      "<ipython-input-3-874df4b8fdf5>:15: DeprecationWarning: use options instead of chrome_options\n",
      "  driver = webdriver.Chrome(executable_path = \"./chromedriver\", chrome_options=chrome_options)\n"
     ]
    }
   ],
   "source": [
    "# Chrome Driver를 호출합니다.\n",
    "chrome_options = webdriver.ChromeOptions()\n",
    "\n",
    "# 브라우저에 임의로 User-agent 옵션을 넣어 Python 코드로 접속함을 숨깁니다.\n",
    "chrome_options.add_argument('--user-agent=\"Mozilla/5.0 (Macintosh; Intel Mac OS X 10_13_4) AppleWebKit/537.36 (KHTML, like Gecko) Chrome/66.0.3359.139 Safari/537.36\"')\n",
    "\n",
    "# Chrome Driver 파일의 경로를 지정하고 실행합니다.\n",
    "# Chrome Driver는 아래 링크에서 다운로드 가능합니다.\n",
    "# 본 Jupyter Notebook 파일과 동일한 경로에 Chrome Driver가 존재하는 경우 아래 경로를 그대로 사용합니다.\n",
    "\n",
    "# Windows 운영체제\n",
    "#driver = webdriver.Chrome(executable_path = \"chromedriver\", chrome_options=chrome_options)\n",
    "\n",
    "# MAC, Linux 운영체제 - 경고메시지 출력 시 보안 및 개인정보보호 메뉴에서 \"확인없이 허용\" 클릭 필요함\n",
    "driver = webdriver.Chrome(executable_path = \"./chromedriver\", chrome_options=chrome_options)"
   ]
  },
  {
   "cell_type": "markdown",
   "metadata": {},
   "source": [
    "Chrome Driver 다운로드 URL : http://chromedriver.chromium.org/downloads"
   ]
  },
  {
   "cell_type": "markdown",
   "metadata": {},
   "source": [
    "### 2. 가상의 브라우저를 활용에 사이트 접속하기\n",
    "\n",
    "---"
   ]
  },
  {
   "cell_type": "code",
   "execution_count": 4,
   "metadata": {},
   "outputs": [],
   "source": [
    "# 브라우저에서 URL에 해당하는 페이지로 이동합니다.\n",
    "URL = \"https://www.daum.net\"\n",
    "driver.get(URL)\n",
    "# 실제 페이지가 불러와지는 시간을 고려해 sleep(SEC) 함수로 기다리는 시간을 지정해줍니다.\n",
    "time.sleep(2)"
   ]
  },
  {
   "cell_type": "code",
   "execution_count": 5,
   "metadata": {},
   "outputs": [],
   "source": [
    "# 네이버 메인페이지로 이동합니다.\n",
    "URL = \"https://www.naver.com\"\n",
    "driver.get(URL)\n",
    "time.sleep(2)"
   ]
  },
  {
   "cell_type": "code",
   "execution_count": 7,
   "metadata": {},
   "outputs": [],
   "source": [
    "# 네이버 카페에 접근하기 위해서는 로그인이 필요합니다.\n",
    "# 네이버 로그인 페이지로 이동합니다.\n",
    "# click() 함수로 원하는 요소(태그)를 클릭할 수 있습니다.\n",
    "#driver.find_element(By.CLASS_NAME, \"link_login\").click()\n",
    "time.sleep(2)"
   ]
  },
  {
   "cell_type": "code",
   "execution_count": 28,
   "metadata": {},
   "outputs": [],
   "source": [
    "# 네이버 로그인 페이지에서 아이디(ID)와 비밀번호(PW)를 입력합니다.\n",
    "# 아이디와 비밀번호를 브라우저에서 직접 입력해도 됩니다.\n",
    "ID = \"여기에 ID를 입력합니다.\"\n",
    "PW = \"여기에 PW를 입력합니다.\"\n",
    "driver.find_element(By.NAME, \"id\").send_keys(ID)\n",
    "driver.find_element(By.NAME, \"pw\").send_keys(PW)"
   ]
  },
  {
   "cell_type": "code",
   "execution_count": 8,
   "metadata": {
    "collapsed": true
   },
   "outputs": [],
   "source": [
    "# 로그인 버튼을 클릭해 로그인합니다.\n",
    "# 대부분의 경우 자동입력 방지문자 입력이 화면이 출력됩니다.\n",
    "# 이 경우 브라우저에서 직접 로그인합니다.\n",
    "# 직접 로그인 하는 경우 이 셀을 실행하지 않아도 됩니다.\n",
    "driver.find_element(By.NAME, \"frmNIDLogin\").submit()\n",
    "time.sleep(2)"
   ]
  },
  {
   "cell_type": "markdown",
   "metadata": {},
   "source": [
    "### 3. 네이버 카페 게시물 링크 수집하기\n",
    "\n",
    "---"
   ]
  },
  {
   "cell_type": "code",
   "execution_count": 12,
   "metadata": {},
   "outputs": [
    {
     "name": "stderr",
     "output_type": "stream",
     "text": [
      "<ipython-input-12-e6d9c79bb88f>:22: DeprecationWarning: use driver.switch_to.frame instead\n",
      "  driver.switch_to_frame(driver.find_element(By.NAME, \"cafe_main\"))\n",
      "<ipython-input-12-e6d9c79bb88f>:37: DeprecationWarning: use driver.switch_to.default_content instead\n",
      "  driver.switch_to_default_content()\n"
     ]
    }
   ],
   "source": [
    "# 수집할 카페 게시물의 링크주소를 저장할 리스트를 생성합니다.\n",
    "post_list = []\n",
    "\n",
    "# 브라우저에서 직접 내가 수집할 카페에 접속합니다.\n",
    "# 카페 검색기능을 활용해 수집하고 싶은 내용을 검색합니다.\n",
    "# 키워드, 기간, 정렬기준 등을 지정해 원하는 검색결과를 화면에 띄웁니다.\n",
    "# 검색 후 게시물 리스트가 포함된 \"진짜 URL\"을 찾아냅니다.\n",
    "# URL을 복사할 때 맨뒤에 \"...%26search.page=3\" 부분의 숫자(페이지번호)는 제거하고 입력합니다.\n",
    "# 예시는 네이버 카페 \"디젤매니아\"에서 \"청바지\"라는 키워드로 검색된 게시물 URL 입니다.\n",
    "# 게시물 열람이 가능한 계정으로 카페에 접근해야 수집이 가능합니다.\n",
    "URL = \"https://cafe.naver.com/dieselmania?iframe_url=/ArticleSearchList.nhn%3Fsearch.clubid=11262350%26search.media=0%26search.searchdate=all%26userDisplay=15%26search.option=0%26search.sortBy=date%26search.searchBy=0%26search.query=%C3%BB%B9%D9%C1%F6%26search.viewtype=title%26search.page=\"\n",
    "\n",
    "# 몇 페이지 까지 게시물의 URL을 수집할지 지정합니다.\n",
    "# 최대 페이지 수를 넘지 않도록 주의합니다.\n",
    "page_limit = 5\n",
    "\n",
    "# FOR 문을 활용해 페이지 번호를 반복합니다.\n",
    "for page_num in range(1, page_limit+1):\n",
    "    # 검색결과 페이지로 이동합니다.\n",
    "    driver.get(URL + str(page_num))\n",
    "    # 페이지에서 게시물 리스트가 포함된 프레임으로 이동합니다.\n",
    "    driver.switch_to_frame(driver.find_element(By.NAME, \"cafe_main\"))\n",
    "    # 게시물 태그를 모두 불러옵니다.\n",
    "    elem = driver.find_elements(By.CLASS_NAME, \"article\")\n",
    "    for e in elem:\n",
    "        # 웹페이지의 하이퍼링크 URL은 항상 href 속성에 존재합니다.\n",
    "        # href 속성에 저장된 URL을 불러와 post_list에 추가합니다.\n",
    "        post_list.append(e.get_attribute(\"href\"))\n",
    "    # 아래 주석부분은 위 25~29번째 라인과 동일한 코드입니다.\n",
    "    # 혹시 post_list에 URL이 저장되지 않는 경우 아래처럼 태그의 Class 속성을 \"article\"에서 \"aaa\"로 변경해줍니다.\n",
    "    '''\n",
    "    elem = driver.find_elements(By.CLASS_NAME, \"aaa\")\n",
    "    for e in elem:\n",
    "        post_list.append(e.find_element(By.TAG_NAME, \"a\").get_attribute(\"href\"))\n",
    "    '''\n",
    "    # 페이지의 기본 프레임으로 이동합니다.\n",
    "    driver.switch_to_default_content() \n",
    "    time.sleep(2)"
   ]
  },
  {
   "cell_type": "code",
   "execution_count": 13,
   "metadata": {},
   "outputs": [
    {
     "name": "stdout",
     "output_type": "stream",
     "text": [
      "수집된 게시물 URL 개수 : 75\n"
     ]
    }
   ],
   "source": [
    "# 총 몇개의 게시물 URL이 저장되었는지 확인합니다.\n",
    "print(\"수집된 게시물 URL 개수 :\", len(post_list))"
   ]
  },
  {
   "cell_type": "code",
   "execution_count": 14,
   "metadata": {},
   "outputs": [
    {
     "name": "stdout",
     "output_type": "stream",
     "text": [
      "['https://cafe.naver.com/ca-fe/ArticleRead.nhn?clubid=11262350&page=1&inCafeSearch=true&searchBy=0&query=%EC%B2%AD%EB%B0%94%EC%A7%80&includeAll=&exclude=&include=&exact=&searchdate=all&media=0&sortBy=date&articleid=32821291&referrerAllArticles=true', 'https://cafe.naver.com/ca-fe/ArticleRead.nhn?clubid=11262350&page=1&inCafeSearch=true&searchBy=0&query=%EC%B2%AD%EB%B0%94%EC%A7%80&includeAll=&exclude=&include=&exact=&searchdate=all&media=0&sortBy=date&articleid=32821141&referrerAllArticles=true', 'https://cafe.naver.com/ca-fe/ArticleRead.nhn?clubid=11262350&page=1&inCafeSearch=true&searchBy=0&query=%EC%B2%AD%EB%B0%94%EC%A7%80&includeAll=&exclude=&include=&exact=&searchdate=all&media=0&sortBy=date&articleid=32821061&referrerAllArticles=true']\n"
     ]
    }
   ],
   "source": [
    "# URL이 잘 저장되어 있는지 인덱싱을 통해 일부만 확인해봅니다.\n",
    "print(post_list[:3])"
   ]
  },
  {
   "cell_type": "code",
   "execution_count": 15,
   "metadata": {},
   "outputs": [
    {
     "name": "stdout",
     "output_type": "stream",
     "text": [
      "https://cafe.naver.com/ca-fe/ArticleRead.nhn?clubid=11262350&page=1&inCafeSearch=true&searchBy=0&query=%EC%B2%AD%EB%B0%94%EC%A7%80&includeAll=&exclude=&include=&exact=&searchdate=all&media=0&sortBy=date&articleid=32821141&referrerAllArticles=true\n"
     ]
    }
   ],
   "source": [
    "print(post_list[1])"
   ]
  },
  {
   "cell_type": "markdown",
   "metadata": {},
   "source": [
    "### 4. 네이버 카페 게시물 본문과 댓글 수집하기\n",
    "\n",
    "---"
   ]
  },
  {
   "cell_type": "code",
   "execution_count": 16,
   "metadata": {},
   "outputs": [
    {
     "name": "stdout",
     "output_type": "stream",
     "text": [
      "0/75\r"
     ]
    },
    {
     "name": "stderr",
     "output_type": "stream",
     "text": [
      "<ipython-input-16-d556220c7294>:18: DeprecationWarning: use driver.switch_to.frame instead\n",
      "  driver.switch_to_frame(driver.find_element(By.NAME, \"cafe_main\"))\n",
      "<ipython-input-16-d556220c7294>:51: DeprecationWarning: use driver.switch_to.default_content instead\n",
      "  driver.switch_to_default_content()\n"
     ]
    },
    {
     "name": "stdout",
     "output_type": "stream",
     "text": [
      "9/75\r"
     ]
    }
   ],
   "source": [
    "# 게시물 URL이 저장된 post_list에서 몇번째 부터(start) 몇번째 까지(end) URL에 접근할지 지정합니다.\n",
    "start = 0\n",
    "end = 10\n",
    "\n",
    "# 게시물 내용을 저장할 파일을 생성합니다.\n",
    "f = open(\"naver_cafe_dieselmania.txt\", \"w\", encoding=\"utf-8\")\n",
    "\n",
    "# FOR 문을 활용해 페이지 URL을 반복합니다.\n",
    "for url in post_list[start:end]:\n",
    "    # 현재 수집이 진행중인 인덱스를 출력합니다.\n",
    "    print(str(start) + \"/\" + str(len(post_list)), end=\"\\r\")\n",
    "    start += 1\n",
    "    try:\n",
    "        # URL을 통해 게시물 페이지로 이동합니다.\n",
    "        driver.get(url)\n",
    "        time.sleep(5)\n",
    "        # 페이지에서 게시물 내용이 포함된 프레임으로 이동합니다.\n",
    "        driver.switch_to_frame(driver.find_element(By.NAME, \"cafe_main\"))\n",
    "\n",
    "        # 페이지에서 태그의 속성을 활용해 원하는 부분을 불러옵니다.\n",
    "        # 1. 게시물 제목\n",
    "        title = driver.find_element(By.CLASS_NAME, \"title_text\").text.strip()\n",
    "        #title = elem.find_elements(By.TAG_NAME, \"td\")[0].text\n",
    "        # 2. 게시판 이름\n",
    "        board_type = driver.find_element(By.CLASS_NAME, \"link_board\").text.strip()\n",
    "        # 3. 게시물 작성일자\n",
    "        datetime = driver.find_element(By.CLASS_NAME, \"date\").text\n",
    "        # 4. 게시물 작성자(닉네임)\n",
    "        user = driver.find_element(By.CLASS_NAME, \"nickname\").text\n",
    "        # 5. 게시물 내용\n",
    "        # 파일에서 게시물 구분을 줄단위로 하기위해 줄바꿈을 모두 제거합니다.\n",
    "        contents = driver.find_element(By.CLASS_NAME, \"article_viewer\").text.replace(\"\\n\", \" \")\n",
    "        # 파일에 수집한 게시물 내용을 기록합니다.\n",
    "        f.write(\"POSTING\" + \"\\t\" + user + \"\\t\" + datetime + \\\n",
    "                \"\\t\" + board_type + \"\\t\" + title + \"\\t\" + contents + \"\\n\") \n",
    "\n",
    "        # 댓글을 모두 불러옵니다.\n",
    "        reply_list = driver.find_elements(By.CLASS_NAME, \"comment_box\")\n",
    "        # FOR 문을 활용해 댓글을 모두 반복합니다.\n",
    "        for reply in reply_list:\n",
    "            # 6. 댓글 내용\n",
    "            comment = reply.find_element(By.CLASS_NAME, \"text_comment\").text.replace(\"\\n\", \" \")\n",
    "            # 7. 댓글 작성자(닉네임)\n",
    "            user_nik = reply.find_element(By.CLASS_NAME, \"comment_nickname\").text\n",
    "            # 8. 댓글 작성일자\n",
    "            reply_date = reply.find_element(By.CLASS_NAME, \"comment_info_date\").text\n",
    "            # 파일에 수집한 댓글 내용을 기록합니다.\n",
    "            f.write(\"COMMENT\" + \"\\t\" + user_nik + \"\\t\" + reply_date + \\\n",
    "                    \"\\t\" + board_type + \"\\t\" + \"None\" + \"\\t\" + comment + \"\\n\")\n",
    "        # 페이지의 기본 프레임으로 이동합니다.\n",
    "        driver.switch_to_default_content()\n",
    "        time.sleep(2)\n",
    "    except:\n",
    "        driver.switch_to_default_content()\n",
    "        time.sleep(2)\n",
    "        continue\n",
    "f.close()"
   ]
  },
  {
   "cell_type": "code",
   "execution_count": 17,
   "metadata": {},
   "outputs": [],
   "source": [
    "# Chrome Driver를 닫습니다.\n",
    "driver.close()"
   ]
  },
  {
   "cell_type": "code",
   "execution_count": 18,
   "metadata": {
    "scrolled": false
   },
   "outputs": [
    {
     "name": "stdout",
     "output_type": "stream",
     "text": [
      "POSTING\t김티본\t2020.10.24. 08:46\t■디매iN 라이프■\t오후에 결혼식가는데 바버퀄팅 vs 정장\t뭐입을까여  바버퀄팅은 청바지에 티 입을거고 정장은 뭐 맞춤임 친한 전 직장동료임다\n",
      "COMMENT\t짧은다리182\t2020.10.24. 08:48\t■디매iN 라이프■\tNone\t친하면 닥 정장이죠\n",
      "COMMENT\t진주일까아닐까\t2020.10.24. 08:52\t■디매iN 라이프■\tNone\t불편해도 정장이영\n",
      "COMMENT\t코비 8\t2020.10.24. 08:53\t■디매iN 라이프■\tNone\t직동인데 정장 굳이 안입을듯 따숩게\n",
      "COMMENT\t에헤취\t2020.10.24. 08:54\t■디매iN 라이프■\tNone\t청바지는 개인적으로 별로라고 생각 그냥 슬랙스 니트 정도면 깔끔\n",
      "POSTING\t삼바리삼바리\t2020.10.24. 08:02\t■디매iN 라이프■\t하의 슬랙스 vs 청바지\t머가 더 나아요?\n",
      "COMMENT\t일품진로1924\t2020.10.24. 08:02\t■디매iN 라이프■\tNone\t청\n",
      "COMMENT\t단 비\t2020.10.24. 08:03\t■디매iN 라이프■\tNone\t후드에는 청바지가 낮쥬.\n",
      "COMMENT\t열쩡열쩡열쩡\t2020.10.24. 08:12\t■디매iN 라이프■\tNone\t청 이쁘네요\n",
      "POSTING\t덥당\t2020.10.24. 07:33\t■디매iN 라이프■\t솔옴 청바지 구매했는데 핏 어떤가요???!\t크롭진 구매했는데 사이즈 맞는건가요?아님 작은건가요?\n",
      "COMMENT\t누드빼빼롱\t2020.10.24. 07:34\t■디매iN 라이프■\tNone\t제기쥰 딱좋\n",
      "COMMENT\t덥당\t2020.10.24. 07:35\t■디매iN 라이프■\tNone\t기장 사이즈도 괜찬아보이나요??\n",
      "COMMENT\t별오름\t2020.10.24. 07:36\t■디매iN 라이프■\tNone\t얼마에요?\n",
      "COMMENT\t덥당\t2020.10.24. 07:37\t■디매iN 라이프■\tNone\t29.8이요~\n",
      "COMMENT\tbbbbbbbbbbbbbbb\t2020.10.24. 07:41\t■디매iN 라이프■\tNone\t하나 큰것도 입어보세여 !! 핏은 예쁜데 뭔가 접히는 부분들이..\n",
      "COMMENT\t덥당\t2020.10.24. 07:41\t■디매iN 라이프■\tNone\t작아보이나요..??\n",
      "COMMENT\tbbbbbbbbbbbbbbb\t2020.10.24. 07:43\t■디매iN 라이프■\tNone\t핏은 예뻐요 근데 접히는 부분들이 딱 맞아서 접히는건 아닐까여? 바지는 입으시는 분들 맘이긴한데 저는 올해들어 좀 너무 딱 맞는거보단 벨트해도 하나 큰걸로 사고 있어서요\n",
      "COMMENT\t덥당\t2020.10.24. 07:44\t■디매iN 라이프■\tNone\t무릎쪽 접히는 부분 말씀하시는거 맞나여?\n",
      "COMMENT\tbbbbbbbbbbbbbbb\t2020.10.24. 07:46\t■디매iN 라이프■\tNone\t네 무릎이랑 삼포쪽이여 전글 솔옴 크롭바지 핏보고 왔는데 1업 추천이여  저도 목동현대 가서 입어봤던 바지같아요\n",
      "COMMENT\t덥당\t2020.10.24. 08:04\t■디매iN 라이프■\tNone\t1업 해서 입어봤는데 허리를 많이 수선해야되서요ㅜㅜ솔옴바지 48이 허리사이즈가 몇인지 아세요?\n",
      "COMMENT\tbbbbbbbbbbbbbbb\t2020.10.24. 08:29\t■디매iN 라이프■\tNone\t저도 ㅋㅋㅋ 그래서 아 이바지는 나한테 안 맞는 바지구나 하고 내려놨어여 ㅜㅜ 허리는 맞는데 다른데는 안맞는 그렇다고 다른데 맞추자니 허리가 크고 ㅜㅜ ㅋㅋㅋㅋ\n",
      "COMMENT\t덥당\t2020.10.24. 08:31\t■디매iN 라이프■\tNone\t48사이즈가 허리 몇인지 모르시죠ㅠㅠ\n",
      "COMMENT\t경비꿈나무\t2020.10.24. 08:40\t■디매iN 라이프■\tNone\t착한 사람 눈에만 보이는건가용 ㅇㅅㅇ??\n",
      "COMMENT\t덥당\t2020.10.24. 08:59\t■디매iN 라이프■\tNone\t이거에요!! 어때보이나요?\n",
      "COMMENT\t경비꿈나무\t2020.10.24. 09:21\t■디매iN 라이프■\tNone\t쌉저스트 존예 무릎뜨는건 슬림한 바지들은 어쩔수음서용ㅋㅋ\n",
      "COMMENT\t덥당\t2020.10.24. 09:21\t■디매iN 라이프■\tNone\t이건 앞사진인데 작아보이고그러진않나요??\n",
      "COMMENT\t경비꿈나무\t2020.10.24. 09:24\t■디매iN 라이프■\tNone\t하체가 튼튼하신 편이다보니 좀 껴보이긴 하는데, 면100아니고 엘라 2~3%만 있어도 늘어나서 괜찮을거 같아요! 청바지는 잘 늘어나다보니 제 생각엔 첨에 좀 끼는 느낌이 있어야 나중에 이쁘게 맞는거 같아용\n",
      "COMMENT\t덥당\t2020.10.24. 09:29\t■디매iN 라이프■\tNone\t솔옴 청바지 저제품은 면100인거 같습니다ㅜㅜ한치수 업해야될까요? 한치수 업하면 허리가 엄청 커져서 고민이네요\n",
      "POSTING\t헤헿햏헿ㅎ\t2020.10.24. 02:18\t■디매iN 라이프■\t청바지 교환할려고하는데 제가 너무 예민한가용?\t입었을때 지퍼쪽이 자꾸우네요 ㅠ 넣입유전데 이렇게 되면 계속 신경 쓰일꺼 같아서 교환할려고하는데 사유가 될까요?\n",
      "COMMENT\tZhouyu\t2020.10.24. 02:19\t■디매iN 라이프■\tNone\t괜히 지퍼열린거같고 짜증날듯합니다 교환 각이에요\n",
      "COMMENT\t나비는 뚠뚠이\t2020.10.24. 02:19\t■디매iN 라이프■\tNone\t교환해도 똑같은면 개빡\n",
      "COMMENT\t주님한놈또보냅니다\t2020.10.24. 02:21\t■디매iN 라이프■\tNone\t근데 저 모드나인꺼도 저렇던데 가끔 있는 건가봐요\n",
      "POSTING\t잘해\t2020.10.24. 01:45\t■디매iN 라이프■\t아우터 검정컬러고민..\t미니멀자켓 라이더자켓 블레이저 트러커자켓이 블랙인데요 대부분이 검정색 아우터인데 디매님들이라면 코트도 검정컬러로 사실건가요?\n",
      "COMMENT\t방구석 찐따\t2020.10.24. 01:46\t■디매iN 라이프■\tNone\t네\n",
      "COMMENT\t질문있습니Dㅏ\t2020.10.24. 01:47\t■디매iN 라이프■\tNone\t저라면 코트도 검정  어차피 이너로 변화를 주면되기 때문에. 그리고 제품의 분류가 다르기에 색상에 구애받지 않고 우선 검정으로 살 것 같아요\n",
      "COMMENT\t유 한 락 스\t2020.10.24. 01:59\t■디매iN 라이프■\tNone\t혹시 올블랙에 블레이저만 회색 입는 룩 색감 어떻게 생각하시나용?\n",
      "COMMENT\t질문있습니Dㅏ\t2020.10.24. 01:50\t■디매iN 라이프■\tNone\t그렇게만 있다면 그렇게도 입겠는데 조금 회색 느낌나게 워싱 들어간 청바지에 입으면 더 예쁠 것 같아요 스톤워커 색상이 최곤데... 너무 스키니라 조금 그렇지만요\n",
      "COMMENT\t유 한 락 스\t2020.10.24. 01:52\t■디매iN 라이프■\tNone\t회색 느낌나는 청바지 메모.. 일단은 없어서 저 룩 색감 괜찮을까요? 너무 칙칙하지 않을까 싶어서여ㅠ\n",
      "COMMENT\t질문있습니Dㅏ\t2020.10.24. 01:55\t■디매iN 라이프■\tNone\t블레이저 아예 패턴 없는건가요 ?? 체크 패턴에 블랙이 좀 섞여있으면 나을 것 같은데 아닌거면 좀 그럴 것 같긴해요 !! 패턴없는거면요 !\n",
      "COMMENT\t유 한 락 스\t2020.10.24. 01:56\t■디매iN 라이프■\tNone\t패턴 없는데,,, 음 그럼 상의 이너 색을 흰색으로 바꿔볼까여?\n",
      "COMMENT\t질문있습니Dㅏ\t2020.10.24. 01:58\t■디매iN 라이프■\tNone\t착샷이 궁금하네요 ㅠㅠ 이게 저도 상상으로는 잘못하고 매번 입어보고 거울로 보고 막 다르게도 입어보고 그러거든요 !!! 패턴 없는 그레이 블레이저라... 제가 생각했던 제품이 아니라서 어렵네요 ㅠㅠㅠㅠ\n",
      "COMMENT\t유 한 락 스\t2020.10.24. 02:13\t■디매iN 라이프■\tNone\t제 착샷은 아니지만 약간 요런 느낌인 거 같아영\n",
      "COMMENT\t질문있습니Dㅏ\t2020.10.24. 02:10\t■디매iN 라이프■\tNone\t오호 이거 좋네요!!\n",
      "COMMENT\t민무늬양복\t2020.10.24. 01:50\t■디매iN 라이프■\tNone\t블랙 잘 안입고 네이비나 그레이로 갑니당\n",
      "COMMENT\t잘해\t2020.10.24. 02:12\t■디매iN 라이프■\tNone\t그레이코트 네이비가디건 보유중이라서ㅜㅜ\n",
      "POSTING\t내아닙니더\t2020.10.24. 00:54\t디매iN 고민-상담\t182/78 청바지 추천 부탁드립니다\t가격대는 10만원 아래고 테이퍼드??핏 으로 추천 부탁드리겠습니다\n",
      "COMMENT\t비공개2\t2020.10.24. 00:54\t디매iN 고민-상담\tNone\t와드\n",
      "COMMENT\t내아닙니더\t2020.10.24. 00:55\t디매iN 고민-상담\tNone\tㄷㅅㅂㄱ\n",
      "POSTING\t초 코 하 임\t2020.10.24. 00:48\t■디매iN 라이프■\t니트 비싼거 사면 5~6만원짜리랑 확실히 다른가요?\t셔츠나 코트는 싸구려 입으면 거울 봤을때 제모습이 후줄근해보여서 타임옴므나 알레그리 질스튜로 주로 사는데 니트는 솔직히 아무거나 입어도 나름 예뻐서 비싼건 안사봤거든요.. 메종키츠네는 하나 있는데 어차피 질이 좋은건 아니라서..  타임옴므나 띠어리 이런 니트 보면 한개에 50만원씩 하는것도 있던데 이런거는 좀 다른가요?\n",
      "COMMENT\t서이숙\t2020.10.24. 00:49\t■디매iN 라이프■\tNone\t넴 케바켄데 맨살에 입어도 부드러워요\n",
      "COMMENT\t뀨뀨뀻\t2020.10.24. 00:49\t■디매iN 라이프■\tNone\t네 완전 달라요 니트가 제일 차이 큰거같아요 청바지는 비슷하구\n",
      "COMMENT\t다크그레이\t2020.10.24. 00:49\t■디매iN 라이프■\tNone\t타임 니트는 퀄리티 정말 괜찮아요 상설에도 예쁜 니트들 많고요\n",
      "COMMENT\tanimalcollective\t2020.10.24. 00:50\t■디매iN 라이프■\tNone\t그렇더라구요\n",
      "COMMENT\tHAVERTZ\t2020.10.24. 00:50\t■디매iN 라이프■\tNone\t질은 훨씬 좋은데 핏이 뭐 다르다거나 그거 입으면 훨낫고 그런건 없어요\n",
      "COMMENT\t아 교실 혼자 쓰나\t2020.10.24. 00:52\t■디매iN 라이프■\tNone\t전 가성비충이라 그냥 싼거 여러개 사요..ㅋㅋ\n",
      "COMMENT\t조 블랙\t2020.10.24. 00:54\t■디매iN 라이프■\tNone\t할인해서 6만원 정도면 재질 괜찮을거같은데  정가가 6만원 짜리면 차이 많이 날거에요 근데 티셔츠 위에 입으면 그건 또 괜찮을거같고 갠적으로 니트보고 고급스럽단 느낌은 별로 못느껴봤어요  이상 니트 코트는 캐시미어만 입는 1인입니다\n",
      "COMMENT\t잦잦\t2020.10.24. 00:56\t■디매iN 라이프■\tNone\t네\n",
      "COMMENT\t꿈틀이다\t2020.10.24. 01:05\t■디매iN 라이프■\tNone\t캐시나 앙고라같은 소재는 비싼거 싼거 차이가 확 느껴지는데 일반모소재는 진짜 싸구려아님 거기서 거기같더라구요 다만 마감, 패턴에따른 옷 틀어짐이라든지 이런건 비교불가 비싼거와 싼거는\n",
      "COMMENT\t동로맨\t2020.10.24. 01:23\t■디매iN 라이프■\tNone\t비싸든 싸든 어차피 한번빨면 보풀 +늘어남 그래서 걍 싼가사요\n",
      "COMMENT\tBKim02\t2020.10.24. 01:26\t■디매iN 라이프■\tNone\t네 확실히 다르죠. 니트는 재질 따라 완전 다르더라구요. 근데 다르다는게 촉감이 달라요.보이는것도 물론 있지만 입는 당사자가 제일 느낌이 다릅니다.\n",
      "COMMENT\t추블\t2020.10.24. 01:44\t■디매iN 라이프■\tNone\t심지어 지지티커라인 니트도 비싼데 솔타띠 니트 만져봐도 차이 확 나더라구요\n",
      "COMMENT\t슬립오프\t2020.10.24. 08:55\t■디매iN 라이프■\tNone\t확실히 다릅니다.멀리서 누가 보면 잘 모를수도 있지만 가까이서 보면 만듦새가 달라요.입어보시면 또 다르구여.\n",
      "POSTING\t질문충18호\t2020.10.23. 23:33\t■디매iN 라이프■\t유니클로 대체할 청바지 어디있나요?\t스파브랜드중에 (입어보고사야해서 무신사는 패스) 유니네 대체할만한곳 추천좀요 참고로 본인 매우 마름\n",
      "COMMENT\t팩트로뼈때림\t2020.10.23. 23:33\t■디매iN 라이프■\tNone\t탑텐가시죠 씹가성비\n",
      "COMMENT\t12354\t2020.10.23. 23:35\t■디매iN 라이프■\tNone\t흐앤므 청바지 좋음여\n",
      "COMMENT\t재용띠\t2020.10.23. 23:40\t■디매iN 라이프■\tNone\t지오다노\n",
      "COMMENT\t질문충18호\t2020.10.23. 23:41\t■디매iN 라이프■\tNone\t지오다노 청바지 괜츈해요?\n",
      "POSTING\t달타냥1\t2020.10.23. 23:27\t이벤트 포토 후기\t[엘리오티] 퀼팅 베스트 카키(20ELTFW045 QUILTING VEST_KHAKI)\t안녕하세요! 디매인 달타냥 입니다~ 엘리오티 퀼팅 베스트 카키 제품 리뷰어로 저를 선정해 주신 것을 감사드립니다~ 제가 저엉말 좋아하는 브랜드 엘리오티의 20년 FW 신상 퀼팅 베스트 후기 시작합니다!  - 제품 정보 제품번호 : 20ELTFW045 제품명 : QUILTING VEST_KHAKI 제품컬러 : 그레이, 네이비, 카키 사이즈 : S, M, L(저는 181/75로 L 착용시 딱 맞음) 정가 : 99,000원 인터넷 최저가 : 서울스토어 82,150원  - 제품 사진 우선 전면부 입니다 얼핏보면 군대 깔깔이를 생각나게 하는 문양에 색깔도 카키여서 군필자들에게 추억을 떠올리게 합니다 하지만 고급스럽고 유니크한 문양과 어디에나 걸칠 수 있는 베스트라는 부분은 깔깔이와는 거리가 있죠 후면부는 깔끔하게 동일한 문양으로 되어있습니다. 특별한 디테일이 없어서 좋습니다. 안쪽을 보면 맨들맨들한 재질에 약간의 두께가 있어 보온성을 갖추고 있습니다. 그리고 아래쪽에는 허리를 조일 수 있는 것이 있어 아래로 들어오는 바람을 차단 할 수 있습니다.  - 착용샷 코디1 검정색 맨투맨에 청바지 그리고 나이키 테일윈드 79 월드와이드로 매치해봤습니다. 만약 여기에서 엘리오티 퀼팅 베스트가 없었다면 굉장히 심심했을텐데 베스트를 맨투맨 위에 입은것 자체로 유니크함이 살아납니다. 코디2 이번엔 후드와 매치해 보았습니다. 후드 위에 아우터를 입기엔 좀 더울것 같고 그렇다고 그냥 나가기엔 조금 추울것 같은 10월말 딱 오늘같은 날씨에 후드 위에 엘리오트 퀼팅 베스트를 걸쳐줌으로써 보온성이 강화되고 한결 안정감 있어 보입니다. 저는 맨투맨과 후드 위에 '엘리오티 퀼팅 베스트'를 매치업 하였습니다. 앞으로 더 쌀쌀해질 날이 많을텐데 트렌치코트나 겨울코트 안에 입으면 한결 따뜻하고 멋져 보일 것 같습니다.  - 느낌과 총평 이 퀼팅 베스트는 집에서 편한 티셔츠 위에 입거나 외출 시 무심한듯 툭 걸치면 굉장히 독특하면서도 체감온도를 높여주는 힙하고 핫한 아이템인 것 같습니다. 색깔이 카키여서 함께 코디하는 옷들과의 컬러조합을 약간 신경써야 하지만 흔하게 볼 수 없는 유니크한 아이템어서 좋습니다. 코디 2개만 선보였는데 아우터가 아닌 이너로도 코디 도전 해 보도록 하겠습니다. 엘리오티 퀼팅 베스트_카키! 주변에서 볼 수 없는 독특하고 재미있는 녀석으로 코디가 쉽진 않지만 그만큼 코디의 재미를 배가 시켜주는 녀석인것 같습니다. 올 겨울 은근히 제 손이 자주 갈 것 같은 아이템 입니다. ● 아래 내용의 삭제를 금합니다 ● ※ 회원들을 대표하여 솔직하고 정성스러운 후기 부탁드립니다. ※ 본 글은 체험단 홍보를 위해 해당 브랜드로부터 제품을 무료로 제공받아 작성되었습니다.\n",
      "POSTING\t메종키크네\t2020.10.23. 23:17\t●디매인 패션문답●\t요즘 청바지 어디꺼 사나영..?\t추천좀 해주세요 형님덜 ㅠ 와이드는 좀 부담되고 테이퍼드? 정도로요\n",
      "COMMENT\t튼튼장군\t2020.10.23. 23:18\t●디매인 패션문답●\tNone\t솔옴\n",
      "COMMENT\t메종키크네\t2020.10.23. 23:19\t●디매인 패션문답●\tNone\t컥.. 그렇군요\n",
      "COMMENT\t다이제초코맛\t2020.10.23. 23:21\t●디매인 패션문답●\tNone\t띠어리 입었는데 맘에 들어요!\n",
      "COMMENT\t메종키크네\t2020.10.23. 23:22\t●디매인 패션문답●\tNone\t오 띠어리.. 청바지도 좋군요?\n",
      "COMMENT\tBlue Bottle 성수\t2020.10.23. 23:39\t●디매인 패션문답●\tNone\t국내 모드나인 해외 lvc 제일 무난합니다.\n",
      "COMMENT\t메종키크네\t2020.10.23. 23:51\t●디매인 패션문답●\tNone\t감샆니다!!\n",
      "COMMENT\t춘자쌀롱\t2020.10.24. 00:04\t●디매인 패션문답●\tNone\t솔옴이 청바지 맛집이긴해요\n",
      "COMMENT\t메종키크네\t2020.10.24. 01:10\t●디매인 패션문답●\tNone\t오호 찐이군요\n",
      "COMMENT\t춘자쌀롱\t2020.10.24. 01:48\t●디매인 패션문답●\tNone\t한번 입으면 계속사는 마력이 있어용ㅋㅋ\n"
     ]
    }
   ],
   "source": [
    "# 파일에 저장된 카페 게시글 내용을 확인합니다.\n",
    "f = open(\"naver_cafe_dieselmania.txt\", encoding=\"utf-8\")\n",
    "for post in f:\n",
    "    print(post.strip())\n",
    "f.close()"
   ]
  },
  {
   "cell_type": "code",
   "execution_count": null,
   "metadata": {},
   "outputs": [],
   "source": []
  }
 ],
 "metadata": {
  "kernelspec": {
   "display_name": "Python 3",
   "language": "python",
   "name": "python3"
  },
  "language_info": {
   "codemirror_mode": {
    "name": "ipython",
    "version": 3
   },
   "file_extension": ".py",
   "mimetype": "text/x-python",
   "name": "python",
   "nbconvert_exporter": "python",
   "pygments_lexer": "ipython3",
   "version": "3.8.3"
  }
 },
 "nbformat": 4,
 "nbformat_minor": 2
}
