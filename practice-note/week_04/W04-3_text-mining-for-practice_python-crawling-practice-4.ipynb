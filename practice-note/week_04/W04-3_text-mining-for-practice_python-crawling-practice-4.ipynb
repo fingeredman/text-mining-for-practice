{
 "cells": [
  {
   "cell_type": "markdown",
   "metadata": {},
   "source": [
    "# TEXT MINING for PRACTICE\n",
    "- 본 자료는 텍스트 마이닝을 활용한 연구 및 강의를 위한 목적으로 제작되었습니다.\n",
    "- 본 자료를 강의 목적으로 활용하고자 하시는 경우 꼭 아래 메일주소로 연락주세요.\n",
    "- 본 자료에 대한 허가되지 않은 배포를 금지합니다.\n",
    "- 강의, 저작권, 출판, 특허, 공동저자에 관련해서는 문의 바랍니다.\n",
    "- **Contact : ADMIN(admin@teanaps.com)**\n",
    "\n",
    "---"
   ]
  },
  {
   "cell_type": "markdown",
   "metadata": {},
   "source": [
    "## WEEK 04-3. 동적 페이지 수집하기: 네이버 뉴스기사\n",
    "- Python을 활용해 가상의 브라우저를 띄워 웹페이지에서 데이터를 크롤링하는 방법에 대해 다룹니다.\n",
    "\n",
    "---"
   ]
  },
  {
   "cell_type": "markdown",
   "metadata": {},
   "source": [
    "> **\\*\\*\\* 주의사항 \\*\\*\\***  \n",
    "본 자료에서 설명하는 웹크롤링하는 방법은 해당 기법에 대한 이해를 돕고자하는 교육과 이를 활용한 연구 목적으로 사용되었으며, 대량의 무단 크롤링 및 상업적 활용을 금합니다."
   ]
  },
  {
   "cell_type": "markdown",
   "metadata": {},
   "source": [
    "## 1. 데이터 수집 준비하기"
   ]
  },
  {
   "cell_type": "markdown",
   "metadata": {},
   "source": [
    "### 1-1. Selenium 라이브러리 설치"
   ]
  },
  {
   "cell_type": "code",
   "execution_count": 1,
   "metadata": {},
   "outputs": [],
   "source": [
    "# 가상의 브라우저를 컨트롤 할 수 있도록 도와주는 selenium 패키지를 설치합니다.\n",
    "# 아래 주석을 해지하고 셀을 실행합니다.\n",
    "# 설치는 한번만 수행하면 되며, 재설치시 Requirement already satisfied: ~ 라는 메시지가 출력됩니다.\n",
    "\n",
    "#!pip install selenium"
   ]
  },
  {
   "cell_type": "markdown",
   "metadata": {},
   "source": [
    "### 1-2. 라이브러리 Import 및 Chrome Driver 실행"
   ]
  },
  {
   "cell_type": "code",
   "execution_count": 2,
   "metadata": {},
   "outputs": [],
   "source": [
    "# Python 코드를 통해 가상의 브라우저를 띄우기 위해 selenium 패키지를 import 합니다.\n",
    "import selenium\n",
    "from selenium import webdriver\n",
    "from selenium.webdriver.common.by import By\n",
    "from selenium.webdriver.chrome.service import Service\n",
    "\n",
    "# selenium을 활용해 브라우저를 직접 띄우는 경우, 실제 웹서핑을 할때처럼 로딩시간이 필요합니다.\n",
    "# 로딩시간 동안 대기하도록 코드를 구성하기위해 time 패키지를 import 합니다.\n",
    "import time\n",
    "\n",
    "# Python 코드를 통해 웹페이지에 정보를 요청하기 위해 BeautifulSoup, urllib 패키지를 import 합니다.\n",
    "from bs4 import BeautifulSoup\n",
    "import requests"
   ]
  },
  {
   "cell_type": "code",
   "execution_count": 3,
   "metadata": {},
   "outputs": [],
   "source": [
    "# Chrome Driver를 호출합니다.\n",
    "chrome_options = webdriver.ChromeOptions()\n",
    "\n",
    "# 브라우저에 임의로 User-agent 옵션을 넣어 Python 코드로 접속함을 숨깁니다.\n",
    "chrome_options.add_argument('--user-agent=\"Mozilla/5.0 (Macintosh; Intel Mac OS X 10_13_4) AppleWebKit/537.36 (KHTML, like Gecko) Chrome/66.0.3359.139 Safari/537.36\"')\n",
    "\n",
    "# Chrome Driver 파일의 경로를 지정하고 실행합니다.\n",
    "# Chrome Driver는 아래 링크에서 다운로드 가능합니다.\n",
    "# 본 Jupyter Notebook 파일과 동일한 경로에 Chrome Driver가 존재하는 경우 아래 경로를 그대로 사용합니다.\n",
    "\n",
    "#service = Service(\"./chromedriver\")    # Windows 운영체제\n",
    "service = Service(\"./chromedriver\")    # MAC, Linux 운영체제\n",
    "                                       # 경고메시지 출력시 조치 : [시스템 환경설정] > [보안 및 개인정보 보호] > \"Chrome Drive ~ 확인없이 허용\"\n",
    "\n",
    "driver = webdriver.Chrome(service=service, options=chrome_options)"
   ]
  },
  {
   "cell_type": "markdown",
   "metadata": {},
   "source": [
    "## 2. 뉴스기사 및 댓글 수집하기\n",
    "\n",
    "---"
   ]
  },
  {
   "cell_type": "markdown",
   "metadata": {},
   "source": [
    "### 2-1. 뉴스기사 정보 입력"
   ]
  },
  {
   "cell_type": "code",
   "execution_count": 6,
   "metadata": {},
   "outputs": [],
   "source": [
    "# 수집할 뉴스기사 정보를 입력합니다.\n",
    "QUERY = \"코로나19\"          # 필터링 키워드\n",
    "START_DATE = \"2022.01.01\" # 필터링 일자 (작성일 기준)\n",
    "END_DATE = \"2022.01.30\"\n",
    "START_PAGE = 1            # 검색결과 저장 페이지 범위 (네이버 뉴스기사는 검색결과 중 최대 4,000페이지만 제공)\n",
    "END_PAGE = 2     \n",
    "                          # 기사와 댓글을 저장할 파일명\n",
    "article_filename = \"article_\" + QUERY + \"_\" + START_DATE + \"_\" + END_DATE + \"_\" + str(START_PAGE) + \".txt\"\n",
    "comment_filename = \"comment_\" + QUERY + \"_\" + START_DATE + \"_\" + END_DATE + \"_\" + str(START_PAGE) + \".txt\""
   ]
  },
  {
   "cell_type": "markdown",
   "metadata": {},
   "source": [
    "### 2-2. 뉴스기사 수집"
   ]
  },
  {
   "cell_type": "code",
   "execution_count": 7,
   "metadata": {
    "scrolled": true
   },
   "outputs": [
    {
     "name": "stdout",
     "output_type": "stream",
     "text": [
      "1/3 Page, [신년사]이재명 \"오직 국민, 오직 민생 각오로 경제회복에 온 힘\" (댓글: 18건)                                           \n",
      "* 최대 10 개 기사 수집이 완료되었습니다.\n",
      "* 수집된 기사는 아래 파일에 저장되었습니다.\n",
      "  - 기사본문 : article_코로나19_2022.01.01_2022.01.30_1.txt\n",
      "  - 댓글 : comment_코로나19_2022.01.01_2022.01.30_1.txt\n"
     ]
    }
   ],
   "source": [
    "fa = open(article_filename, \"w\", encoding=\"utf-8\")\n",
    "fc = open(comment_filename, \"w\", encoding=\"utf-8\")\n",
    "news_count = 0\n",
    "\n",
    "for page in range(START_PAGE, END_PAGE+1, 10):\n",
    "    #print(page,  \"번째 기시부터 최대 10개 수집중...\", end=\"\\r\")\n",
    "    URL = \"https://search.naver.com/search.naver?&where=news&query=\" + QUERY \n",
    "    URL += \"&sm=tab_pge&sort=2&photo=0&field=0&reporter_article=&pd=3&ds=\"\n",
    "    URL += START_DATE + \"&de=\" + END_DATE + \"&docid=&&start=\" + str(page) + \"&refresh_start=0\"\n",
    "    driver.get(URL)\n",
    "    time.sleep(2)\n",
    "    \n",
    "    try:\n",
    "        news_list = driver.find_element(By.CLASS_NAME, \"list_news\").find_elements(By.CLASS_NAME, \"bx\")\n",
    "    except:\n",
    "        break\n",
    "    \n",
    "    news_count += len(news_list)\n",
    "    for news in news_list[:]:\n",
    "        link_list = news.find_element(By.CLASS_NAME, \"info_group\").find_elements(By.TAG_NAME, \"a\")\n",
    "        if len(link_list) == 1:\n",
    "            continue\n",
    "        article_url = link_list[1].get_attribute(\"href\").strip()\n",
    "        link_list[1].click()\n",
    "        time.sleep(3)\n",
    "        current_window = driver.current_window_handle\n",
    "        try:\n",
    "            new_window = [window for window in driver.window_handles if window != current_window][0]\n",
    "            driver.switch_to.window(new_window)\n",
    "        except:\n",
    "            driver.switch_to.window(current_window)\n",
    "            continue\n",
    "        time.sleep(4)\n",
    "        \n",
    "        try:\n",
    "            try:\n",
    "                source_label = driver.find_element(By.CLASS_NAME, \"press_logo\")\n",
    "            except:\n",
    "                source_label = driver.find_element(By.ID, \"pressLogo\")\n",
    "            source_img = source_label.find_element(By.TAG_NAME, \"img\")\n",
    "            source = source_img.get_attribute(\"alt\").strip()\n",
    "\n",
    "            datetime = \"\"\n",
    "            content = \"\"\n",
    "            title = \"\"\n",
    "            etc_good_count = \"\"\n",
    "            etc_warm_count = \"\"\n",
    "            etc_sad_count = \"\"\n",
    "            etc_angry_count = \"\"\n",
    "            etc_want_count = \"\"\n",
    "            ent_good_count = \"\"\n",
    "            ent_cheer_count = \"\"\n",
    "            ent_congrats_count = \"\"\n",
    "            ent_expect_count = \"\"\n",
    "            ent_suprise_count = \"\"\n",
    "            ent_sad_count = \"\"\n",
    "            basic_good_count = \"\"\n",
    "            basic_sad_count = \"\"\n",
    "            basic_angry_count = \"\"\n",
    "            basic_fan_count = \"\"\n",
    "            basic_want_count = \"\"\n",
    "\n",
    "            try:\n",
    "                # 기타 섹션 기사\n",
    "                datetime = driver.find_element(By.CLASS_NAME, \"t11\").text.strip()\n",
    "                content = driver.find_element(By.CLASS_NAME, \"_article_body_contents\").text.strip().replace(\"\\n\", \" \")\n",
    "                title = driver.find_element(By.CLASS_NAME, \"tts_head\").text.strip()\n",
    "                reaction_list = driver.find_element(By.CLASS_NAME, \"end_btn\").find_element(By.CLASS_NAME, \"_reactionModule\").find_elements(By.TAG_NAME, \"a\")\n",
    "                etc_good_count = reaction_list[0].find_element(By.CLASS_NAME, \"u_likeit_list_count\").text.strip()\n",
    "                etc_warm_count = reaction_list[1].find_element(By.CLASS_NAME, \"u_likeit_list_count\").text.strip()\n",
    "                etc_sad_count = reaction_list[2].find_element(By.CLASS_NAME, \"u_likeit_list_count\").text.strip()\n",
    "                etc_angry_count = reaction_list[3].find_element(By.CLASS_NAME, \"u_likeit_list_count\").text.strip()\n",
    "                etc_want_count = reaction_list[4].find_element(By.CLASS_NAME, \"u_likeit_list_count\").text.strip()\n",
    "            except:\n",
    "                try:\n",
    "                    # 연예 섹션 기사\n",
    "                    datetime = driver.find_element(By.CLASS_NAME, \"author\")\n",
    "                    datetime = datetime.find_element(By.TAG_NAME, \"em\").text.strip()\n",
    "                    content = driver.find_element(By.ID, \"articeBody\").text.strip().replace(\"\\n\", \" \")\n",
    "                    title = driver.find_element(By.CLASS_NAME, \"end_tit\").text.strip()\n",
    "                    reaction_list = driver.find_element(By.CLASS_NAME, \"end_btn\").find_element(By.CLASS_NAME, \"_reactionModule\").find_elements(By.TAG_NAME, \"a\")\n",
    "                    ent_good_count = reaction_list[0].find_element(By.CLASS_NAME, \"u_likeit_list_count\").text.strip()\n",
    "                    ent_cheer_count = reaction_list[1].find_element(By.CLASS_NAME, \"u_likeit_list_count\").text.strip()\n",
    "                    ent_congrats_count = reaction_list[2].find_element(By.CLASS_NAME, \"u_likeit_list_count\").text.strip()\n",
    "                    ent_expect_count = reaction_list[3].find_element(By.CLASS_NAME, \"u_likeit_list_count\").text.strip()\n",
    "                    ent_suprise_count = reaction_list[4].find_element(By.CLASS_NAME, \"u_likeit_list_count\").text.strip()\n",
    "                    ent_sad_count = reaction_list[5].find_element(By.CLASS_NAME, \"u_likeit_list_count\").text.strip()\n",
    "                except:\n",
    "                    # 일반 섹션 기사\n",
    "                    datetime = driver.find_element(By.CLASS_NAME, \"info\").find_element(By.TAG_NAME, \"span\").text.replace(\"기사입력\", \"\").strip()\n",
    "                    content = driver.find_element(By.CLASS_NAME, \"news_end\").text.strip().replace(\"\\n\", \" \")\n",
    "                    title = driver.find_element(By.CLASS_NAME, \"title\").text.strip()\n",
    "                    reaction_list = driver.find_element(By.CLASS_NAME, \"news_end_btn\").find_element(By.CLASS_NAME, \"_reactionModule\").find_elements(By.TAG_NAME, \"a\")\n",
    "                    basic_good_count = reaction_list[0].find_element(By.CLASS_NAME, \"u_likeit_list_count\").text.strip()\n",
    "                    basic_sad_count = reaction_list[1].find_element(By.CLASS_NAME, \"u_likeit_list_count\").text.strip()\n",
    "                    basic_angry_count = reaction_list[2].find_element(By.CLASS_NAME, \"u_likeit_list_count\").text.strip()\n",
    "                    basic_fan_count = reaction_list[3].find_element(By.CLASS_NAME, \"u_likeit_list_count\").text.strip()\n",
    "                    basic_want_count = reaction_list[4].find_element(By.CLASS_NAME, \"u_likeit_list_count\").text.strip()\n",
    "\n",
    "            review_count_list = driver.find_elements(By.CLASS_NAME, \"u_cbox_count\")\n",
    "            if len(review_count_list) > 0:\n",
    "                review_count = review_count_list[0].text.replace(\",\", \"\")\n",
    "            else:\n",
    "                review_count = \"0\"\n",
    "            #print(source + \"\\t\" + datetime + \"\\t\" + review_count + \"\\t\" + \n",
    "            #      good_count + \"\\t\" + warm_count + \"\\t\" + sad_count + \"\\t\" + \n",
    "            #      angry_count + \"\\t\" + want_count + \"\\t\" + article_url + \"\\t\" + \n",
    "            #      title + \"\\t\" + content)\n",
    "            print(\" \"*100, end=\"\\r\")\n",
    "            print(str(page)+\"/\"+str(END_PAGE+1)+\" Page,\", title + \" (댓글: \"+str(review_count)+\"건)\", end=\"\\r\")\n",
    "            fa.write(source + \"\\t\" + datetime + \"\\t\" + review_count + \"\\t\" + \n",
    "                     ent_good_count + \"\\t\" + ent_cheer_count + \"\\t\" + ent_congrats_count + \"\\t\" + \n",
    "                     ent_expect_count + \"\\t\" + ent_suprise_count + \"\\t\" + ent_sad_count + \"\\t\" + \n",
    "                     basic_good_count + \"\\t\" + basic_sad_count + \"\\t\" + basic_angry_count + \"\\t\" + \n",
    "                     basic_fan_count + \"\\t\" + basic_want_count + \"\\t\" + \n",
    "                     etc_good_count + \"\\t\" + etc_warm_count + \"\\t\" + etc_sad_count + \"\\t\" + \n",
    "                     etc_angry_count + \"\\t\" + etc_want_count + \"\\t\" + \n",
    "                     article_url + \"\\t\" + \n",
    "                     title + \"\\t\" + content + \"\\n\")\n",
    "            # 댓글 더보기 클릭\n",
    "            if int(review_count) > 0:\n",
    "                driver.find_element(By.CLASS_NAME, \"u_cbox_in_view_comment\").click()\n",
    "                time.sleep(3)\n",
    "\n",
    "                # 더보기 버튼 클릭\n",
    "                for i in range(10):\n",
    "                    try:\n",
    "                        more_button_status = driver.find_element(By.CLASS_NAME, \"u_cbox_paginate\").get_attribute(\"style\").strip()\n",
    "                        if more_button_status == '':\n",
    "                            driver.find_element(By.CLASS_NAME, \"u_cbox_more_wrap\").click()\n",
    "                        time.sleep(1)\n",
    "                    except:\n",
    "                        continue\n",
    "\n",
    "                # 답글 클릭\n",
    "                comment_list = driver.find_elements(By.CLASS_NAME, \"u_cbox_area\")\n",
    "                driver.execute_script('window.scrollTo(0, 0);')\n",
    "                for comment in comment_list:\n",
    "                    reply_count_list = comment.find_elements(By.CLASS_NAME, \"u_cbox_btn_reply\")\n",
    "                    if len(reply_count_list) > 0:\n",
    "                        reply_count = reply_count_list[0].text.strip()\n",
    "                        if reply_count != \"답글0\":\n",
    "                            #reply_button = comment.find_element(By.CLASS_NAME, \"u_cbox_btn_reply\")\n",
    "                            #reply_button.click()\n",
    "                            reply_count_list[0].click()\n",
    "                time.sleep(3)\n",
    "\n",
    "                # 댓글 수집\n",
    "                driver.execute_script('window.scrollTo(0, 0);')\n",
    "                comment_box_list = driver.find_elements(By.CLASS_NAME, \"u_cbox_area\")\n",
    "                for i in range(len(comment_box_list)):\n",
    "                    comment_box = comment_box_list[i]\n",
    "                    comment_nick = comment_box.find_element(By.CLASS_NAME, \"u_cbox_nick\").text\n",
    "                    comment_content = comment_box.find_element(By.CLASS_NAME, \"u_cbox_text_wrap\").text\n",
    "                    comment_datetime = comment_box.find_element(By.CLASS_NAME, \"u_cbox_date\").text\n",
    "                    try:\n",
    "                        comment_good = comment_box.find_element(By.CLASS_NAME, \"u_cbox_cnt_recomm\").text\n",
    "                        comment_bed = comment_box.find_element(By.CLASS_NAME, \"u_cbox_cnt_unrecomm\").text\n",
    "                    except:\n",
    "                        comment_good = \"0\"\n",
    "                        comment_bed = \"0\"\n",
    "                    reply_count_list = comment_box.find_elements(By.CLASS_NAME, \"u_cbox_reply_cnt\")\n",
    "                    if len(reply_count_list) > 0:\n",
    "                        is_reply = \"1\"\n",
    "                        parent_id = \"-1\"\n",
    "                        temp_parent_id = i\n",
    "                        reply_count = reply_count_list[0].text\n",
    "                    else:\n",
    "                        is_reply = \"0\"\n",
    "                        parent_id = str(temp_parent_id)\n",
    "                        reply_count = \"0\"\n",
    "                    #print(str(i) + \"\\t\" + is_reply + \"\\t\" + reply_count + \"\\t\" + \n",
    "                    #      parent_id + \"\\t\" + comment_nick + \"\\t\" + comment_datetime + \"\\t\" + \n",
    "                    #      comment_good + \"\\t\" + comment_bed + \"\\t\" + comment_content + \"\\t\" +\n",
    "                    #      article_url)\n",
    "                    fc.write(str(i) + \"\\t\" + is_reply + \"\\t\" + reply_count + \"\\t\" + \n",
    "                             parent_id + \"\\t\" + comment_nick + \"\\t\" + comment_datetime + \"\\t\" + \n",
    "                             comment_good + \"\\t\" + comment_bed + \"\\t\" + comment_content + \"\\t\" + \n",
    "                             article_url + \"\\n\")\n",
    "        except:\n",
    "            driver.close()\n",
    "            time.sleep(3)\n",
    "            driver.switch_to.window(current_window)\n",
    "            fa.flush()\n",
    "            fc.flush()\n",
    "            continue\n",
    "            \n",
    "        driver.close()\n",
    "        time.sleep(3)\n",
    "        driver.switch_to.window(current_window)\n",
    "        fa.flush()\n",
    "        fc.flush()\n",
    "        \n",
    "fa.close()\n",
    "fc.close()\n",
    "\n",
    "# 수집종료\n",
    "print()\n",
    "print(\"* 최대\", news_count, \"개 기사 수집이 완료되었습니다.\")\n",
    "print(\"* 수집된 기사는 아래 파일에 저장되었습니다.\")\n",
    "print(\"  - 기사본문 :\", article_filename)\n",
    "print(\"  - 댓글 :\", comment_filename)"
   ]
  },
  {
   "cell_type": "code",
   "execution_count": 8,
   "metadata": {},
   "outputs": [],
   "source": [
    "driver.close()"
   ]
  },
  {
   "cell_type": "markdown",
   "metadata": {},
   "source": [
    "> **\\*\\*\\* TIP \\*\\*\\***  \n",
    "새탭에서 기사가 열린 후 수집이 종료된 경우 아래 셀을 실행합니다."
   ]
  },
  {
   "cell_type": "code",
   "execution_count": null,
   "metadata": {},
   "outputs": [],
   "source": [
    "driver.switch_to.window(current_window)"
   ]
  },
  {
   "cell_type": "code",
   "execution_count": null,
   "metadata": {},
   "outputs": [],
   "source": []
  }
 ],
 "metadata": {
  "kernelspec": {
   "display_name": "Python 3 (ipykernel)",
   "language": "python",
   "name": "python3"
  },
  "language_info": {
   "codemirror_mode": {
    "name": "ipython",
    "version": 3
   },
   "file_extension": ".py",
   "mimetype": "text/x-python",
   "name": "python",
   "nbconvert_exporter": "python",
   "pygments_lexer": "ipython3",
   "version": "3.8.12"
  }
 },
 "nbformat": 4,
 "nbformat_minor": 2
}
