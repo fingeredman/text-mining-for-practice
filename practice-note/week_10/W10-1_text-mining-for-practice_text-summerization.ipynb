{
 "cells": [
  {
   "cell_type": "markdown",
   "metadata": {
    "collapsed": true
   },
   "source": [
    "# TEXT MINING for PRACTICE\n",
    "- 본 자료는 텍스트 마이닝을 활용한 연구 및 강의를 위한 목적으로 제작되었습니다.\n",
    "- 본 자료를 강의 목적으로 활용하고자 하시는 경우 꼭 아래 메일주소로 연락주세요.\n",
    "- 본 자료에 대한 허가되지 않은 배포를 금지합니다.\n",
    "- 강의, 저작권, 출판, 특허, 공동저자에 관련해서는 문의 바랍니다.\n",
    "- **Contact : ADMIN(admin@teanaps.com)**\n",
    "\n",
    "---"
   ]
  },
  {
   "cell_type": "code",
   "execution_count": 1,
   "metadata": {},
   "outputs": [],
   "source": [
    "# 텍스트 분석을 위한 TEANAPS 패키지를 설치합니다.\n",
    "# TEANAPS는 Google Colaboratory/Linux 환경에 최적화되어 있습니다.\n",
    "# Windows 환경에서 일부 기능에 제한이 있을 수 있습니다."
   ]
  },
  {
   "cell_type": "code",
   "execution_count": 2,
   "metadata": {},
   "outputs": [],
   "source": [
    "# TEANAPS (https://github.com/fingeredman/teanaps)\n",
    "#!git clone https://github.com/fingeredman/teanaps.git"
   ]
  },
  {
   "cell_type": "code",
   "execution_count": 3,
   "metadata": {},
   "outputs": [],
   "source": [
    "#!ls"
   ]
  },
  {
   "cell_type": "code",
   "execution_count": 4,
   "metadata": {},
   "outputs": [],
   "source": [
    "#!python \"teanaps/teanaps_setup.py\""
   ]
  },
  {
   "cell_type": "markdown",
   "metadata": {},
   "source": [
    "## WEEK 10-1. 뉴스기사 요약하기: 추출요약\n",
    "- Python으로 문서를 요약하는 방법에 대해 다룹니다.\n",
    "\n",
    "---"
   ]
  },
  {
   "cell_type": "markdown",
   "metadata": {},
   "source": [
    "### 1. 뉴스기사 불러오기\n",
    "\n",
    "---"
   ]
  },
  {
   "cell_type": "code",
   "execution_count": 5,
   "metadata": {},
   "outputs": [],
   "source": [
    "from teanaps.handler import FileHandler\n",
    "\n",
    "fh = FileHandler()\n",
    "\n",
    "PATH = \"data/article_sample.txt\"\n",
    "line_list = fh.load_txt(PATH)"
   ]
  },
  {
   "cell_type": "code",
   "execution_count": 6,
   "metadata": {},
   "outputs": [
    {
     "data": {
      "text/plain": [
       "[['비트코인',\n",
       "  'ZDNet Korea',\n",
       "  '2019-04-14 09:58:00',\n",
       "  '\"비트코인 가능성 알려면, 결함 전제로 규제 정비必\"',\n",
       "  '금융硏 비트코인 쇠락과 내재적 결함 보고서(지디넷코리아=손예술 기자)대표적인 암호화폐 비트코인의 가격이 급변동했음에도 불구, 일부 암호화폐 옹호론자들은 비트코인이 갖고 있는 몇 가지 결함이 해소되면 새로운 국면이 나타날 것으로 예측했다.그들은 이런 결함을 전제로 국내외 정부와 감독당국은 선제적으로 시각 및 규제 환경을 정비해야 한다는 주장하고 있다.14일 한국금융연구원은 비트코인 쇠락과 내재적 결함이란 보고서에서 암호화폐 옹호론자의 입장과 함께 그들이 제시한 세 가지 결함을 발표했다.여기서 암호화폐 옹호론자들은 암호화폐로 새로운 부가가치를 낼 수 있는 사업모델 등장 가능성에 집중하고 있는 인물들로 통칭된다.그러나 그들은 이를 위해서 비트코인이 세 가지 결함이 우선적으로 해소돼야 한다고 보고 있다.하나는 비트코인이 재화와 용역을 구입하는데 사용되는 시장이 아직은 너무 좁다는 것이다. 미국 비트코인 시장조사기관인 사토시 캐피탈 리서치에 따르면 지난 2017년 기준으로 비트코인을 사용한 거래 결제액은 약 24억달러로 중국의 알리페이와 위챗페이의 거래 결제액이 약 15조달러였음을 감안하면 지나치게 적은 시장이라는 것이다.두 번째는 비트코인은 거래 건수 급증과 블록 용량 제한 등으로 채굴을 통핸 결제 처리가 지연돼, 이용자들이 거래 완료를 위해 부담해야 하는 수수료가 높아지는 문제가 있다는 것이다. 비트코인 기반 기술인 블록체인을 구성하는 각 블록 용량은 1메가바이트로 이뤄져 있고 초당 평균 거래 처리 건수는 7건이며 약 10분마다 1개 블록이 형성된다. 반면 비자의 경우 초당 거래 처리 건수는 수 만건에 달한다.세 번째로 거래소 해킹 등과 같은 사기성 거래에 아직도 노출돼 있다는 점이다. 지난 2월 캐나다 암호화폐 거래소 쿼드리가CX대표이사이자 설립자는 사망과 거액의 고객 암호화폐 분시로 파산 보호를 신청했으며 3월 파산관재인 은 비밀키를 관리했던 설립자 사망 이전 8개월 간 핫월렛에 고객의 암호화폐가 없었다고 발표했다. 핫월렛은 인터넷과 연결돼 있는 암호화폐 전자지갑이다.세 가지 결함에도 불구 비트코인을 이용한 오프라인 결제가 이뤄지거나 다양한 나라서 디지털 화폐에 대한 실험적인 시도가 이뤄지는 상태다.이 때문에 암호화폐나 비트코인이 정말 법정통화를 보완하거나 새로운 지급결제나 가치저장 수단으로 역할을 할 수 있을지 가늠하기 위해선 내재적 결함 대처와 국내외 정부나 감독당국은 암호화폐에 대한 시각 및 규제 환경 정비가 필요하다는 게 이 보고서의 의견이다.특히 옹호론자가 지적한 세 가지 결함 중 일부는 금융소비자나 투자자들의 보호 문제와 직결돼 있는 상황이다.한국금융연구원은 \"암호화폐 수용을 검토하고 있는 정부나 감독당국들은 소비자 보호 강화 및 금융시장의 안정성 확보 관점에서 시장 참가자들의 정보 공시 의무 강화, 결제 계좌 및 전자지갑 제공 거래소나 금융사의 자본금 또는 유동성 규제를 부과하고 있다\"며 \"이밖에도 자금 세탁 차단 등에 대한 집중적인 검토가 필요하다\"고 서술했다.한편, 비트코인은 2017년 12월 중순 2만달러까지 육박했지만 올해 3월까지 4천달러까지 떨어지는 등 이 기간동안 비트코인의 시가총액은 9천억달러에서 800억달러까지 감소했다.손예술 기자(kunst@zdnet.co.kr)'],\n",
       " ['비트코인',\n",
       "  '한국경제',\n",
       "  '2019-03-09 07:02:00',\n",
       "  '워렌 버핏 \"비트코인은 망상\" vs 하버드대 교수 \"망상 아니다\"',\n",
       "  '비트코인 놓고 상반된 평가 내놔[ 김산하 기자  ] 니얼 퍼거슨 하버드대 교수(왼쪽), 워렌 버핏 버크셔해서웨이 회장(오른쪽)(사진=트위터)워렌 버핏 버크셔해서웨이 회장과 세계적 경제사학자 니얼 퍼거슨 하버드대 교수가 비트코인을 두고 상반된 평가를 내놓았다. 과거 비트코인을 비판하던 퍼거슨 교수는 자신의 발언을 후회한다고 언급한 반면 버핏 회장은 한층 더 부정적 시각을 견지해 눈길을 끌었다.버핏 회장은 지난달 25일(이하 현지시간) 미국 CNBC와의 인터뷰에서 “비트코인은 고유 가치가 없으며 아무것도 생산해내지 못한다. 기본적으로 망상”이라고 주장했다. 이어 “비트코인은 사기꾼들을 끌어들인다”면서 인생이 바뀔 것이라 기대하며 가상화폐(암호화폐)에 투자하는 투자자들이 안타깝다고 말했다.그는 지난해 5월 버크셔해서웨이 주주총회에서도 “비트코인은 쥐약과 같다”며 비판적 발언을 한 바 있다. 그 이전에도 비트코인을 ‘튤립 버블’이나 ‘신기루’에 비유해왔다.하지만 퍼거슨 교수는 생각이 달라졌다. 7일(현지시간) 외신에 따르면 퍼거슨 교수는 호주 경제일간지 AFR이 개최한 비즈니스 서밋의 비공개 행사에서 “암호화폐는 망상이 아니다”라고 말했다. 버핏의 주장과 정반대 입장을 밝힌 셈이다.퍼거슨 교수는 블록체인 기반의 암호화폐가 쓰일 만한 곳이 존재하지 않는다고 봤으나 생각이 바뀌었다고 했다. 그는 비트코인 가격이 절정에 달한 지난 2017년 말 미국 폭스비즈니스네트워크 방송에 출연해 “비트코인은 금융 역사상 가장 큰 버블(거품)”이라고 평가한 바 있다.그러다가 지난달에는 “비트코인은 ‘디지털 금’이 될 수 있는 후보 중 하나”라며 비트코인에 대해 긍정적으로 바뀐 시각을 내비쳤다. 또 “지난 10년간 금융의 변화보다 앞으로 10년의 금융의 변화가 훨씬 더 혁신적일 것”이라고 전망했다. 그는 최근 한 블록체인 회사 자문위원으로도 참여한 것으로 알려졌다.김산하 한경닷컴 기자 sanha@hankyung.com기사제보 및 보도자료 open@hankyung.com[한경닷컴 바로가기] [모바일한경 구독신청] 네이버에서 한국경제 채널 구독하기 <자세히 보기> ⓒ 한국경제 & hankyung.com, 무단전재 및 재배포 금지'],\n",
       " ['비트코인',\n",
       "  '한국경제',\n",
       "  '2019-04-07 09:02:00',\n",
       "  '\"가상화폐, 94년 인터넷 수준…비트코인캐시가 선두주자 될 것\"',\n",
       "  '[코인터뷰] 스테판 러스트 비트코인닷컴 비즈니스총괄[ 김산하 기자  ] 한경닷컴과 인터뷰중인 스테판 러스트(Stefan Rust) 비트코인닷컴 비즈니스 총괄\"현재 가상화폐(암호화폐) 생태계에는 약 5000만명 정도 사용자가 들어와 있는 것으로 추정됩니다. 1994~1995년경 인터넷 사용자 수와 비슷하죠. 우리가 얼마나 암호화폐 산업의 초기 단계에 있는지 알 수 있습니다.\"지난 4일 서울 장충체육관에서 개최된 열린 \\'분산경제포럼(디코노미) 2019\\'에서 한경닷컴과 인터뷰한 스테판 러스트(Stefan Rust) 비트코인닷컴 비즈니스 총괄(사진)은 현재 암호화폐 상황을 이같이 짚었다. 스테판 총괄은 \"당시엔 구글도 존재하지 않았다. 전세계 인터넷의 표준이 된 TCP/IP 프로토콜 역시 그 당시 표준 프로토콜도 아니었다\"면서 \"비트코인캐시가 초기 단계인 암호화폐 생태계에서 빠르게 표준으로 자리잡을 수 있도록 노력하겠다\"고 강조했다.비트코인닷컴은 전세계 5위 암호화폐 비트코인캐시를 이끄는 암호화폐 기업이다. 글로벌 암호화폐 전문 미디어 \\'비트코인뉴스\\'를 비롯해 암호화폐 관련 지갑 서비스, 채굴 사업, 플랫폼 사업, 게임 사업 등을 펼치고 있다. 그의 설명에 따르면 비트코인닷컴 암호화폐지갑에는 약 400만개의 활성화된 주소가 존재한다. 매일 1만5000건 상당의 활동이 발생하며 지갑 앱(응용프로그램)도 일평균 8000건 다운로드된다.비트코인닷컴은 금융 서비스의 \\'질\\'을 높이는 데 집중하고 있다. 암호화폐 지갑 앱을 통해 이용자들이 암호화폐 수탁 서비스 등 보다 좋은 금융 관리 서비스를 받을 수 있도록 하겠다는 계획이다.한경닷컴과 인터뷰중인 스테판 러스트(Stefan Rust) 비트코인닷컴 비즈니스 총괄개발자 육성에도 많은 공을 들이고 있다고 귀띔했다. 비트코인캐시의 블록체인 위에서 작동되는 앱들을 육성하기 위해서다. 비트코인닷컴은 이를 위해 개발자들이 쓸 수 있는 도구모음(Tool Set)을 만들었다. 스테판 총괄은 \"우리는 개발자들이 프로토콜 위에서 앱을 만들려 할 때 무엇을 원하는지 알고 있다\"며 \"이제 개발자들이 비트코인캐시 플랫폼을 활용해 스마트 계약이나 토큰을 쉽게 만들 수 있게 됐다\"고 의미 부여했다.비트코인닷컴은 연내 블록체인 개발자들을 위한 해커톤을 국내에서 개최할 계획. 스테판 총괄은 \"개발자들에게 비트코인캐시 플랫폼을 더 많이 알리자는 취지\"라며 \"한국은 세계 톱5 안에 드는 암호화폐 시장이고 뛰어난 개발자들이 많다. 우리는 한국과 함께 하고 싶다\"고 말했다.비트코인캐시 시세는 한경닷컴과 인터뷰한 당일까지 3일간 무려 80% 넘게 급등했다. 그는 \"같은 기간 비트코인이 약 20% 오른 것에 비하면 상승폭이 크지만 우리는 여전히 비트코인캐시가 상당히 평가절하돼 있다고 생각한다. 사람들이 비트코인캐시를 진정한 \\'결제수단\\'으로 사용하길 원한다\"고 역설했다.비트코인캐시의 다음 목표는 개인간(P2P) 가치전송 체계의 \\'표준\\'이 되는 것이라고 했다. 카카오톡의 보이스톡, 스카이프 등에 사용되는 음성 인터넷프로토콜(VoIP)을 사례로 들었다. 예컨대 과거엔 국제통화를 하려면 비싼 돈을 내고 통신사 제공 유선망을 통해 전화해야 했지만, 이젠 대부분 인터넷 전화인 VoIP를 활용해 아주 저렴한 비용으로 빠르게 통화할 수 있게 됐다는 것이다.스테판 총괄은 \"전화가 VoIP로 발전한 것처럼 암호화폐도 금융이 일종의 \\'통화 인터넷프로토콜(Money over IP)\\'로 발전한 형태\"라며 \"금전적인 가치 자체를 인터넷에 실어보낼 수 있게 됐다. 다가올 미래에는 암호화폐가 \\'미래 금융\\' 그 자체가 될 것\"이라고 내다봤다.김산하 한경닷컴 기자 sanha@hankyung.com기사제보 및 보도자료 open@hankyung.com[한경닷컴 바로가기] [모바일한경 구독신청] 네이버에서 한국경제 채널 구독하기 <자세히 보기> ⓒ 한국경제 & hankyung.com, 무단전재 및 재배포 금지']]"
      ]
     },
     "execution_count": 6,
     "metadata": {},
     "output_type": "execute_result"
    }
   ],
   "source": [
    "line_list[:3]"
   ]
  },
  {
   "cell_type": "markdown",
   "metadata": {},
   "source": [
    "### 2. 뉴스기사 요약하기\n",
    "\n",
    "---"
   ]
  },
  {
   "cell_type": "code",
   "execution_count": 7,
   "metadata": {},
   "outputs": [
    {
     "data": {
      "text/html": [
       "<script>requirejs.config({paths: { 'plotly': ['https://cdn.plot.ly/plotly-latest.min']},});if(!window.Plotly) {{require(['plotly'],function(plotly) {window.Plotly=plotly;});}}</script>"
      ],
      "text/vnd.plotly.v1+html": [
       "<script>requirejs.config({paths: { 'plotly': ['https://cdn.plot.ly/plotly-latest.min']},});if(!window.Plotly) {{require(['plotly'],function(plotly) {window.Plotly=plotly;});}}</script>"
      ]
     },
     "metadata": {},
     "output_type": "display_data"
    },
    {
     "data": {
      "text/html": [
       "<script>requirejs.config({paths: { 'plotly': ['https://cdn.plot.ly/plotly-latest.min']},});if(!window.Plotly) {{require(['plotly'],function(plotly) {window.Plotly=plotly;});}}</script>"
      ],
      "text/vnd.plotly.v1+html": [
       "<script>requirejs.config({paths: { 'plotly': ['https://cdn.plot.ly/plotly-latest.min']},});if(!window.Plotly) {{require(['plotly'],function(plotly) {window.Plotly=plotly;});}}</script>"
      ]
     },
     "metadata": {},
     "output_type": "display_data"
    },
    {
     "data": {
      "text/html": [
       "<script>requirejs.config({paths: { 'plotly': ['https://cdn.plot.ly/plotly-latest.min']},});if(!window.Plotly) {{require(['plotly'],function(plotly) {window.Plotly=plotly;});}}</script>"
      ],
      "text/vnd.plotly.v1+html": [
       "<script>requirejs.config({paths: { 'plotly': ['https://cdn.plot.ly/plotly-latest.min']},});if(!window.Plotly) {{require(['plotly'],function(plotly) {window.Plotly=plotly;});}}</script>"
      ]
     },
     "metadata": {},
     "output_type": "display_data"
    },
    {
     "data": {
      "text/html": [
       "<script>requirejs.config({paths: { 'plotly': ['https://cdn.plot.ly/plotly-latest.min']},});if(!window.Plotly) {{require(['plotly'],function(plotly) {window.Plotly=plotly;});}}</script>"
      ],
      "text/vnd.plotly.v1+html": [
       "<script>requirejs.config({paths: { 'plotly': ['https://cdn.plot.ly/plotly-latest.min']},});if(!window.Plotly) {{require(['plotly'],function(plotly) {window.Plotly=plotly;});}}</script>"
      ]
     },
     "metadata": {},
     "output_type": "display_data"
    },
    {
     "data": {
      "text/html": [
       "<script>requirejs.config({paths: { 'plotly': ['https://cdn.plot.ly/plotly-latest.min']},});if(!window.Plotly) {{require(['plotly'],function(plotly) {window.Plotly=plotly;});}}</script>"
      ],
      "text/vnd.plotly.v1+html": [
       "<script>requirejs.config({paths: { 'plotly': ['https://cdn.plot.ly/plotly-latest.min']},});if(!window.Plotly) {{require(['plotly'],function(plotly) {window.Plotly=plotly;});}}</script>"
      ]
     },
     "metadata": {},
     "output_type": "display_data"
    },
    {
     "data": {
      "text/html": [
       "<script>requirejs.config({paths: { 'plotly': ['https://cdn.plot.ly/plotly-latest.min']},});if(!window.Plotly) {{require(['plotly'],function(plotly) {window.Plotly=plotly;});}}</script>"
      ],
      "text/vnd.plotly.v1+html": [
       "<script>requirejs.config({paths: { 'plotly': ['https://cdn.plot.ly/plotly-latest.min']},});if(!window.Plotly) {{require(['plotly'],function(plotly) {window.Plotly=plotly;});}}</script>"
      ]
     },
     "metadata": {},
     "output_type": "display_data"
    }
   ],
   "source": [
    "from teanaps.text_analysis import DocumentSummarizer\n",
    "\n",
    "ds = DocumentSummarizer()"
   ]
  },
  {
   "cell_type": "markdown",
   "metadata": {},
   "source": [
    "#### 2.1. 요약할 뉴스기사만 별도의 파일에 저장하기\n",
    "\n",
    "---"
   ]
  },
  {
   "cell_type": "code",
   "execution_count": 8,
   "metadata": {},
   "outputs": [
    {
     "name": "stdout",
     "output_type": "stream",
     "text": [
      "10년 역사 10대 뉴스로 정리(지디넷코리아=임유경 기자)2008년 9월 리먼 브라더스 파산으로 촉발된 금융위기가 전 세계를 뒤흔들었다. 세계 금융시스템이 붕괴 위기에 놓여 있던 이때, 인터넷 세상 한 켠에선 새로운 금융 시스템이 조용하게 작동을 시작했다. 10년 전 1월 3일 오후 6시 15분. 은행이나 정부의 개입이 필요 없는 개인 간 전자화폐 시스템 비트코인 네트워크의 첫 번째 블록이 탄생한 순간이다.이날 사토시 나카모토라는 가명의 인물은 앞서 공개한 논문을 통해 제시한 아이디어를 약 한달만에 구현하는 데 성공했다. 기념비적인 첫 번째 블록에는 \"재무장관, 은행에 두 번째 구제금융 제공 임박”이라는 문구를 새겼다. 이날 영국 일간지 <타임스>의 1면 헤드라인으로, 비트코인 네트워크가 기존 금융 시스템에 대안적인 성격을 띤다는 정체성을 분명하게 드러냈다.이후 비트코인은 굴곡진 10년의 세월을 보냈다. 2011년 초까지 1달러의 가치도 인정 받지 못했다. 비트코인에 대한 관심도 암호학 커뮤니티 내 개발자들이 재미로 채굴(트랜잭션을 블록단위로 묶어 처리하는 작업)하고 비트코인을 받는 수준에 그쳤다. 이후 관심을 늘었지만 투기기 불법적인 요소 결합돼 버블이니 검은 돈이니 하는 오명을 얻기도 했다.2009년 1월 3일 비트코인 첫 번째 블록인 제네시스 블록이 생성됐다.여전비 비트코인은 실험대 위에 있다. 가격이 출렁일 때마다 \"비트코인은 죽었다\"는 제목의 기사가 쏟아져 나온다. 지난해 언론에서 내린 사망선고는 거의 100번에 이른다. (☞관련링크)분명한 것은 비트코인의 잠재력을 믿는 사람들이 늘어나고 있다는 점이다. 이제 전 세계 모든 주요 기업들이 비트코인 기반 기술인 블록체인의 혁신성에 주목하고 기존 비즈니스에 적용하기 위해 연구에 나섰다.비트코인 맥시멀리스트로 알려진 지미 송은 최근 자신의 블로그에 비트코인이 가진 특성 중 탈중앙성(정부나 은행의 개입이 없는 상태)에 주목해야 한다고 강조하며 \"기업가들은 비트코인 내에서 자신의 돈과 노력을 가지고 어떤 혁신을 일으킬지 결정할 수 있다\"고 말했다.아래는 제네시스 블록 생성부터 최고정점을 지나 크립토윈터를 맞은 지금까지 영욕의 발차취를 정리해봤다.▲ 2008년 10월 31일 비트코인 논문 공개사토시 나카모토라는 가명의 인물은 암호학 커뮤니티 메일링 리스트에 있는 모든 사람들에게 비트코인 P2P 전자화폐 시스템이라는 9쪽의 논문을 전송했다. 이 논문은 \"제 3의 중개자 없이 완전한 P2P 방식의 전자 화폐\"를 가능하게 하는 방법을 담았다. 이후 제2의 인터넷으로 불리는 블록체인의 시작이 됐다.▲ 2009년 1월 3일 비트코인 제네시스 블록 생성10년 전 2009년 1월 3일. 비트코인 블록체인에서 제네시스 블록(☞관련링크)이라 불리는 최초의 블록 #0이 채굴됐다. 최초 블록 생성자는 사토시 나카모토로 추정되며, 채굴 보상으로는 50비트코인을 받았다.이후 6일 뒤 오픈소스 비트코인 클라이언트가 만들어졌다. 클라이언트를 설치한 다른 컴퓨터가 네트워크에 참여할 수 있게 된 것이다. 나카모토는 다시 메일을 보냈고, 작업증명 기반에 화폐 설계작업 경험이 있는\u001e",
      "프로그래머 할 피니가 응답했다. 나카모토가 할 피니에게 10 비트코인을 전송해 최초의 비트코인 거래가 성사됐다. 할 피니는 이후 컴퓨터가 너무 뜨거워진다는 이유로 비트코인 채굴을 중단했다고 한다.▲ 2010년 5월 22일 비트코인 첫 현물거래 비트코인 피자데이플로리다 잭슨빌에 살던 프로그래머 라스즐로 하니예츠는 1만 비트코인으로 25달러짜리 파파존스 피자 두판을 시켜먹는다. 물로 파파존스에 비트코인을 낸 것은 아니고, 비트코인을 받고 피자를 보내줄 사람을 찾았다.이 거래는 비트코인으로 현물을 구매한 최초의 거래로 기록됐다. 블록체인 업계에선 지금 시세로 430억원 짜리 피자를 사먹은 이날을 피자 데이라고 부르며 매년 기념하고 있다.▲ 2010년 8월 15일 중대 취약점 첫 발견비트코인 블록체인에 중대한 보안 취약점이 최초로 발견됐다. 이 취약점을 이용해 두 개 지갑주소가 각각 922억개 비트코인을 받는 가치 오버 플로우 사건이 발생한다. 이 사건을 해결하기 위해 비트코인 개발팀은 해당 트랜잭션을 지우고 비트 코인 프로토콜을 업데이트했다.▲ 2011년 4월 비트코인 가격 폭등...사토시 나카모토 활동 중단그 전까지 1달러 수준이던 비트코인이 십달러를 돌파하더니 수십 달러로 폭등했다. 라이트코인 등 알트코인이 등장하면서 비트코인이 재평가 받기 시작한 시점이다.비트코인 가격이 오르고 관심이 커지자 사토시 나카모토는 활동을 중단하며 종적을 감췄다.▲ 2013년 4월 한국 최초 거래소 설립한국 최초 거래소인 한국비트코인거래소(코빗)가 설립됐다. 이후 2014년 빗썸과 코인원이 차례로 생겼다.▲2013년 10월 실크로드 사건비트코인이 검은 거래에 쓰인다는 오명을 얻게 된 시기다. 미연방수사국이 마약, 무기 불법 거래 사이트 실크로드 운영자를 검거하면서 비트코인 2만6000개를 압수했다. 이 사건으로 비트코인이 불법적인 거래에 쓰는 검은 돈이라는 인식이 퍼졌다.▲2014년 3월9일 마운트곡스 사태당시 세계 최대 비트코인 거래소 마운트곡스가 74만4000개의 비트코인을 해킹으로 분실하고 파산했다. 당시 금액으로 4800억원 규모다. 이 사건으로 블록체인은 보안성이 높지만, 암호화폐 거래소는 해킹에 취약할 수 있다는 사실이 알려지게 됐다.▲2017년 6월 6일 상승장의 시작1 비트코인 처음으로 금 가격을 뛰어 넘었다. 당시 일본, 러시아, 노르웨이 등에서 암호화폐를 제도권 안에 포함시키는 내용의 입법화를 추진한 것이 가격 상승을 이끌었다는 평가다.▲2017년 12월과 2018년 12월 롤러코스터 시기비트코인 가격이 롤러코스터를 탄 시기다. 2017년 하반기 비트코인이 연신 사상 최고가를 경신하더니, 12월 중순엔 2만달러 넘어섰다. 고공행진하던 가격은 박상기 법무부장관의 거래소 폐쇄 발언에 직격탄을 맞고 하락세로 돌아섰다. 이후 글로벌 규제 강화 추세로 6월 반토막 수준이 나더니, 11월엔 비트코인캐시 하드포크 사건을 시발점으로 폭락장이 이어졌다. 현재는 3천~4천달러 수준을 유지하고 있다. 열풍이 시작되기 직전인 2017년 9월달 수준으로 돌아간 것이다.2018년 초와 비교하면, 현재 비트코인 가치는 80% 가까이 줄어 들었다. 대장주인 비트코인을 따라 모든 알트 코인들도 폭락해, 블록체인·암호화폐 기업들이 힘들 시기를 보내고 있다. 업계가 혹한기를 맞았다는 의미로 크립토 윈터라는 말도 나온다.임유경 기자(lyk@zdnet.co.kr)\n"
     ]
    }
   ],
   "source": [
    "content = line_list[3][4]\n",
    "print(content)\n",
    "\n",
    "DOC_PATH = \"data/article_temp.txt\"\n",
    "fh.save_txt(DOC_PATH, [[content]])\n",
    "ds.set_document(DOC_PATH)"
   ]
  },
  {
   "cell_type": "markdown",
   "metadata": {},
   "source": [
    "#### 2.2. 요약하기: TextRank\n",
    "\n",
    "---"
   ]
  },
  {
   "cell_type": "code",
   "execution_count": 9,
   "metadata": {},
   "outputs": [],
   "source": [
    "SUMMARIZER_TYPE = \"textrank\"\n",
    "MAX_SENTENCES = 3\n",
    "\n",
    "ds.summarize(SUMMARIZER_TYPE, MAX_SENTENCES)"
   ]
  },
  {
   "cell_type": "code",
   "execution_count": 10,
   "metadata": {},
   "outputs": [
    {
     "data": {
      "text/plain": [
       "['은행이나 정부의 개입이 필요 없는 개인 간 전자화폐 시스템 비트코인 네트워크의 첫 번째 블록이 탄생한 순간이다.이날 사토시 나카모토라는 가명의 인물은 앞서 공개한 논문을 통해 제시한 아이디어를 약 한달만에 구현하는 데 성공했다.',\n",
       " '이후 관심을 늘었지만 투기기 불법적인 요소 결합돼 버블이니 검은 돈이니 하는 오명을 얻기도 했다.2009년 1월 3일 비트코인 첫 번째 블록인 제네시스 블록이 생성됐다.여전비 비트코인은 실험대 위에 있다.',\n",
       " '가격이 출렁일 때마다 \"비트코인은 죽었다\"는 제목의 기사가 쏟아져 나온다.']"
      ]
     },
     "execution_count": 10,
     "metadata": {},
     "output_type": "execute_result"
    }
   ],
   "source": [
    "ds.get_result()"
   ]
  },
  {
   "cell_type": "markdown",
   "metadata": {},
   "source": [
    "#### 2.3. 요약하기: LSA\n",
    "\n",
    "---"
   ]
  },
  {
   "cell_type": "code",
   "execution_count": 11,
   "metadata": {},
   "outputs": [],
   "source": [
    "SUMMARIZER_TYPE = \"lsa\"\n",
    "MAX_SENTENCES = 3\n",
    "\n",
    "ds.summarize(SUMMARIZER_TYPE, MAX_SENTENCES)"
   ]
  },
  {
   "cell_type": "code",
   "execution_count": 12,
   "metadata": {},
   "outputs": [
    {
     "data": {
      "text/plain": [
       "['은행이나 정부의 개입이 필요 없는 개인 간 전자화폐 시스템 비트코인 네트워크의 첫 번째 블록이 탄생한 순간이다.이날 사토시 나카모토라는 가명의 인물은 앞서 공개한 논문을 통해 제시한 아이디어를 약 한달만에 구현하는 데 성공했다.',\n",
       " '이후 관심을 늘었지만 투기기 불법적인 요소 결합돼 버블이니 검은 돈이니 하는 오명을 얻기도 했다.2009년 1월 3일 비트코인 첫 번째 블록인 제네시스 블록이 생성됐다.여전비 비트코인은 실험대 위에 있다.',\n",
       " '블록체인 업계에선 지금 시세로 430억원 짜리 피자를 사먹은 이날을 피자 데이라고 부르며 매년 기념하고 있다.▲ 2010년 8월 15일 중대 취약점 첫 발견비트코인 블록체인에 중대한 보안 취약점이 최초로 발견됐다.']"
      ]
     },
     "execution_count": 12,
     "metadata": {},
     "output_type": "execute_result"
    }
   ],
   "source": [
    "ds.get_result()"
   ]
  },
  {
   "cell_type": "code",
   "execution_count": null,
   "metadata": {},
   "outputs": [],
   "source": []
  }
 ],
 "metadata": {
  "kernelspec": {
   "display_name": "Python 3",
   "language": "python",
   "name": "python3"
  },
  "language_info": {
   "codemirror_mode": {
    "name": "ipython",
    "version": 3
   },
   "file_extension": ".py",
   "mimetype": "text/x-python",
   "name": "python",
   "nbconvert_exporter": "python",
   "pygments_lexer": "ipython3",
   "version": "3.8.3"
  }
 },
 "nbformat": 4,
 "nbformat_minor": 2
}
