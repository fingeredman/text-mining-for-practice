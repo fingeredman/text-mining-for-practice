{
 "cells": [
  {
   "cell_type": "markdown",
   "metadata": {
    "colab_type": "text",
    "id": "HWVOYDAG-hsA"
   },
   "source": [
    "# TEXT MINING for PRACTICE\n",
    "- 본 자료는 텍스트 마이닝을 활용한 연구 및 강의를 위한 목적으로 제작되었습니다.\n",
    "- 본 자료를 강의 목적으로 활용하고자 하시는 경우 꼭 아래 메일주소로 연락주세요.\n",
    "- 본 자료에 대한 허가되지 않은 배포를 금지합니다.\n",
    "- 강의, 저작권, 출판, 특허, 공동저자에 관련해서는 문의 바랍니다.\n",
    "- **Contact : ADMIN(admin@teanaps.com)**\n",
    "\n",
    "---"
   ]
  },
  {
   "cell_type": "code",
   "execution_count": 1,
   "metadata": {
    "colab": {
     "base_uri": "https://localhost:8080/",
     "height": 34
    },
    "colab_type": "code",
    "executionInfo": {
     "elapsed": 1873,
     "status": "ok",
     "timestamp": 1566759231621,
     "user": {
      "displayName": "Byeongjin Jeon",
      "photoUrl": "https://lh3.googleusercontent.com/a-/AAuE7mCC5qExwwUCDV-h-7fJT6JN6tdWT8EyJxkB09uwrA=s64",
      "userId": "01151709893250942659"
     },
     "user_tz": -540
    },
    "id": "O4WyLF0A-iiG",
    "outputId": "37eac347-6cc5-4c79-89d6-0314e92eac3e"
   },
   "outputs": [],
   "source": [
    "# 텍스트 분석을 위한 TEANAPS 패키지를 설치합니다.\n",
    "# TEANAPS는 Google Colaboratory/Linux 환경에 최적화되어 있습니다.\n",
    "# Windows 환경에서 일부 기능에 제한이 있을 수 있습니다."
   ]
  },
  {
   "cell_type": "code",
   "execution_count": 2,
   "metadata": {
    "colab": {
     "base_uri": "https://localhost:8080/",
     "height": 136
    },
    "colab_type": "code",
    "executionInfo": {
     "elapsed": 4709,
     "status": "ok",
     "timestamp": 1566759241318,
     "user": {
      "displayName": "Byeongjin Jeon",
      "photoUrl": "https://lh3.googleusercontent.com/a-/AAuE7mCC5qExwwUCDV-h-7fJT6JN6tdWT8EyJxkB09uwrA=s64",
      "userId": "01151709893250942659"
     },
     "user_tz": -540
    },
    "id": "Udo7UR4K-pQ9",
    "outputId": "d27731b4-c091-4c25-b9f1-3fbf22ecef22"
   },
   "outputs": [],
   "source": [
    "# TEANAPS (https://github.com/fingeredman/teanaps)\n",
    "#!git clone https://github.com/fingeredman/teanaps.git"
   ]
  },
  {
   "cell_type": "code",
   "execution_count": 3,
   "metadata": {
    "colab": {
     "base_uri": "https://localhost:8080/",
     "height": 34
    },
    "colab_type": "code",
    "executionInfo": {
     "elapsed": 1786,
     "status": "ok",
     "timestamp": 1566759244798,
     "user": {
      "displayName": "Byeongjin Jeon",
      "photoUrl": "https://lh3.googleusercontent.com/a-/AAuE7mCC5qExwwUCDV-h-7fJT6JN6tdWT8EyJxkB09uwrA=s64",
      "userId": "01151709893250942659"
     },
     "user_tz": -540
    },
    "id": "jybc-FzN-pUC",
    "outputId": "406d0fc8-096a-442a-8958-43168f73f16f"
   },
   "outputs": [],
   "source": [
    "#!ls"
   ]
  },
  {
   "cell_type": "code",
   "execution_count": 4,
   "metadata": {},
   "outputs": [],
   "source": [
    "#!python \"teanaps/teanaps_setup.py\""
   ]
  },
  {
   "cell_type": "markdown",
   "metadata": {
    "colab_type": "text",
    "id": "zJHGPTAe-hsB"
   },
   "source": [
    "## WEEK 11-2. 파일 변환하기\n",
    "- Python으로 PDF, PPTX, DOCX 문서파일을 텍스트 파일(*.txt)로 변환하는 방법에 대해 다룹니다.\n",
    "\n",
    "---"
   ]
  },
  {
   "cell_type": "markdown",
   "metadata": {},
   "source": [
    "### 1. 파일 변환하기\n",
    "\n",
    "---"
   ]
  },
  {
   "cell_type": "code",
   "execution_count": 1,
   "metadata": {},
   "outputs": [],
   "source": [
    "from teanaps.handler import FileHandler\n",
    "\n",
    "fh = FileHandler()"
   ]
  },
  {
   "cell_type": "markdown",
   "metadata": {},
   "source": [
    "#### 1.1. PDF 파일을 텍스트 파일로 변환하기\n",
    "\n",
    "---"
   ]
  },
  {
   "cell_type": "code",
   "execution_count": 2,
   "metadata": {},
   "outputs": [],
   "source": [
    "input_filename  = \"data/sample_pdf.pdf\"\n",
    "output_filename  = \"data/sample_pdf.txt\"\n",
    "\n",
    "fh.pdf_converter(input_filename, output_filename)"
   ]
  },
  {
   "cell_type": "markdown",
   "metadata": {},
   "source": [
    "#### 1.2. PPTX 파일을 텍스트 파일로 변환하기\n",
    "\n",
    "---"
   ]
  },
  {
   "cell_type": "code",
   "execution_count": 3,
   "metadata": {},
   "outputs": [],
   "source": [
    "input_filename  = \"data/sample_pptx.pptx\"\n",
    "output_filename  = \"data/sample_pptx.txt\"\n",
    "\n",
    "fh.pptx_converter(input_filename, output_filename)"
   ]
  },
  {
   "cell_type": "markdown",
   "metadata": {},
   "source": [
    "#### 1.3. DOCX 파일을 텍스트 파일로 변환하기\n",
    "\n",
    "---"
   ]
  },
  {
   "cell_type": "code",
   "execution_count": 4,
   "metadata": {},
   "outputs": [],
   "source": [
    "input_filename  = \"data/sample_docx.docx\"\n",
    "output_filename  = \"data/sample_docx.txt\"\n",
    "\n",
    "fh.docx_converter(input_filename, output_filename)"
   ]
  },
  {
   "cell_type": "code",
   "execution_count": null,
   "metadata": {},
   "outputs": [],
   "source": []
  }
 ],
 "metadata": {
  "colab": {
   "collapsed_sections": [],
   "name": "W11-1_text-mining-for-practice_python-kospi-prediction.ipynb",
   "provenance": [],
   "version": "0.3.2"
  },
  "kernelspec": {
   "display_name": "Python 3",
   "language": "python",
   "name": "python3"
  },
  "language_info": {
   "codemirror_mode": {
    "name": "ipython",
    "version": 3
   },
   "file_extension": ".py",
   "mimetype": "text/x-python",
   "name": "python",
   "nbconvert_exporter": "python",
   "pygments_lexer": "ipython3",
   "version": "3.8.3"
  }
 },
 "nbformat": 4,
 "nbformat_minor": 1
}
